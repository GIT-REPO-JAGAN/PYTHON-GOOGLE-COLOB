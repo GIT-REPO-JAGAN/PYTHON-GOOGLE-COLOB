{
  "cells": [
    {
      "cell_type": "markdown",
      "metadata": {
        "id": "view-in-github",
        "colab_type": "text"
      },
      "source": [
        "<a href=\"https://colab.research.google.com/github/GIT-REPO-JAGAN/PYTHON-GOOGLE-COLOB/blob/main/C_19Python_NumPy.ipynb\" target=\"_parent\"><img src=\"https://colab.research.google.com/assets/colab-badge.svg\" alt=\"Open In Colab\"/></a>"
      ]
    },
    {
      "cell_type": "markdown",
      "source": [
        "#### Numerical Python\n",
        "* Used for numerical/mathetical/scientific calculation in Python\n",
        "* Data structures and functions for performing the calculations on numerical data\n",
        "\n",
        "https://numpy.org/"
      ],
      "metadata": {
        "id": "h0tPIngE23cc"
      },
      "id": "h0tPIngE23cc"
    },
    {
      "cell_type": "code",
      "execution_count": 3,
      "id": "e691eb53",
      "metadata": {
        "id": "e691eb53"
      },
      "outputs": [],
      "source": [
        "import numpy as np"
      ]
    },
    {
      "cell_type": "markdown",
      "source": [
        "#### Numpy array - multi-dimentional array (N-d array)"
      ],
      "metadata": {
        "id": "HLe2Vvwt3LkU"
      },
      "id": "HLe2Vvwt3LkU"
    },
    {
      "cell_type": "code",
      "execution_count": 8,
      "id": "d90039a1",
      "metadata": {
        "id": "d90039a1"
      },
      "outputs": [],
      "source": [
        "l1 = [1, 2, 3, 4]   # List"
      ]
    },
    {
      "cell_type": "code",
      "execution_count": 3,
      "id": "16c0b3a2",
      "metadata": {
        "id": "16c0b3a2",
        "outputId": "fe180a67-f56a-4506-a603-1f3e230b2cce",
        "colab": {
          "base_uri": "https://localhost:8080/"
        }
      },
      "outputs": [
        {
          "output_type": "execute_result",
          "data": {
            "text/plain": [
              "list"
            ]
          },
          "metadata": {},
          "execution_count": 3
        }
      ],
      "source": [
        "type(l1)"
      ]
    },
    {
      "cell_type": "code",
      "execution_count": 11,
      "id": "29c3dce6",
      "metadata": {
        "id": "29c3dce6"
      },
      "outputs": [],
      "source": [
        "arr1 = np.array(l1)  # List to Array"
      ]
    },
    {
      "cell_type": "code",
      "execution_count": 12,
      "id": "41257551",
      "metadata": {
        "id": "41257551",
        "outputId": "020821fe-b747-479c-b896-5baf01aa1715",
        "colab": {
          "base_uri": "https://localhost:8080/"
        }
      },
      "outputs": [
        {
          "output_type": "execute_result",
          "data": {
            "text/plain": [
              "array([1, 2, 3, 4])"
            ]
          },
          "metadata": {},
          "execution_count": 12
        }
      ],
      "source": [
        "arr1"
      ]
    },
    {
      "cell_type": "code",
      "execution_count": 13,
      "id": "ae6e1d2e",
      "metadata": {
        "id": "ae6e1d2e",
        "outputId": "40e0aba1-0c2f-4d39-9039-3b93636a28cd",
        "colab": {
          "base_uri": "https://localhost:8080/"
        }
      },
      "outputs": [
        {
          "output_type": "stream",
          "name": "stdout",
          "text": [
            "[1 2 3 4]\n"
          ]
        }
      ],
      "source": [
        "print(arr1)   # Arry prints in a way"
      ]
    },
    {
      "cell_type": "code",
      "execution_count": 14,
      "id": "d3f9b2dd",
      "metadata": {
        "id": "d3f9b2dd",
        "outputId": "89f633d7-9062-47bc-8aa3-403df779686d",
        "colab": {
          "base_uri": "https://localhost:8080/"
        }
      },
      "outputs": [
        {
          "output_type": "execute_result",
          "data": {
            "text/plain": [
              "numpy.ndarray"
            ]
          },
          "metadata": {},
          "execution_count": 14
        }
      ],
      "source": [
        "type(arr1)"
      ]
    },
    {
      "cell_type": "code",
      "execution_count": 15,
      "id": "2e073e82",
      "metadata": {
        "id": "2e073e82",
        "outputId": "7b66e036-f2fb-4f41-85c5-4bf0abff73ae",
        "colab": {
          "base_uri": "https://localhost:8080/"
        }
      },
      "outputs": [
        {
          "output_type": "execute_result",
          "data": {
            "text/plain": [
              "array([1, 2, 3, 4])"
            ]
          },
          "metadata": {},
          "execution_count": 15
        }
      ],
      "source": [
        "arr1"
      ]
    },
    {
      "cell_type": "code",
      "execution_count": 16,
      "id": "53be6cf5",
      "metadata": {
        "id": "53be6cf5",
        "outputId": "95e80476-6aec-4361-b856-4c5acf8afe22",
        "colab": {
          "base_uri": "https://localhost:8080/"
        }
      },
      "outputs": [
        {
          "output_type": "execute_result",
          "data": {
            "text/plain": [
              "1"
            ]
          },
          "metadata": {},
          "execution_count": 16
        }
      ],
      "source": [
        "arr1.ndim   # number of dimensions of a given array"
      ]
    },
    {
      "cell_type": "code",
      "execution_count": 17,
      "id": "15a49b58",
      "metadata": {
        "id": "15a49b58",
        "outputId": "340cb175-2726-4b4f-f597-9ed8896dab12",
        "colab": {
          "base_uri": "https://localhost:8080/"
        }
      },
      "outputs": [
        {
          "output_type": "execute_result",
          "data": {
            "text/plain": [
              "dtype('int64')"
            ]
          },
          "metadata": {},
          "execution_count": 17
        }
      ],
      "source": [
        "arr1.dtype"
      ]
    },
    {
      "cell_type": "code",
      "execution_count": 18,
      "id": "20f3be54",
      "metadata": {
        "id": "20f3be54",
        "outputId": "f4a8d09c-6c17-4dab-b9fe-08430b9c5be6",
        "colab": {
          "base_uri": "https://localhost:8080/"
        }
      },
      "outputs": [
        {
          "output_type": "stream",
          "name": "stdout",
          "text": [
            "int64\n"
          ]
        }
      ],
      "source": [
        "print(arr1.dtype)"
      ]
    },
    {
      "cell_type": "code",
      "execution_count": 19,
      "id": "d03848bd",
      "metadata": {
        "id": "d03848bd",
        "outputId": "ef309e69-a5ae-4be4-f2f0-e4531040ad73",
        "colab": {
          "base_uri": "https://localhost:8080/",
          "height": 171
        }
      },
      "outputs": [
        {
          "output_type": "error",
          "ename": "NameError",
          "evalue": "ignored",
          "traceback": [
            "\u001b[0;31m---------------------------------------------------------------------------\u001b[0m",
            "\u001b[0;31mNameError\u001b[0m                                 Traceback (most recent call last)",
            "\u001b[0;32m<ipython-input-19-e02ee7c32161>\u001b[0m in \u001b[0;36m<cell line: 1>\u001b[0;34m()\u001b[0m\n\u001b[0;32m----> 1\u001b[0;31m \u001b[0mhelp\u001b[0m\u001b[0;34m(\u001b[0m\u001b[0mint32\u001b[0m\u001b[0;34m)\u001b[0m  \u001b[0;31m# Its not in python so will not support\u001b[0m\u001b[0;34m\u001b[0m\u001b[0;34m\u001b[0m\u001b[0m\n\u001b[0m",
            "\u001b[0;31mNameError\u001b[0m: name 'int32' is not defined"
          ]
        }
      ],
      "source": [
        "help(int32)  # Its not in python so will not support"
      ]
    },
    {
      "cell_type": "code",
      "execution_count": 20,
      "id": "2b29c76a",
      "metadata": {
        "id": "2b29c76a",
        "outputId": "8da549a8-60bf-4011-8c5d-ca6d6e38e608",
        "colab": {
          "base_uri": "https://localhost:8080/"
        }
      },
      "outputs": [
        {
          "output_type": "stream",
          "name": "stdout",
          "text": [
            "Help on class int32 in module numpy:\n",
            "\n",
            "class int32(signedinteger)\n",
            " |  Signed integer type, compatible with C ``int``.\n",
            " |  \n",
            " |  :Character code: ``'i'``\n",
            " |  :Canonical name: `numpy.intc`\n",
            " |  :Alias on this platform (Linux x86_64): `numpy.int32`: 32-bit signed integer (``-2_147_483_648`` to ``2_147_483_647``).\n",
            " |  \n",
            " |  Method resolution order:\n",
            " |      int32\n",
            " |      signedinteger\n",
            " |      integer\n",
            " |      number\n",
            " |      generic\n",
            " |      builtins.object\n",
            " |  \n",
            " |  Methods defined here:\n",
            " |  \n",
            " |  __abs__(self, /)\n",
            " |      abs(self)\n",
            " |  \n",
            " |  __add__(self, value, /)\n",
            " |      Return self+value.\n",
            " |  \n",
            " |  __and__(self, value, /)\n",
            " |      Return self&value.\n",
            " |  \n",
            " |  __bool__(self, /)\n",
            " |      True if self else False\n",
            " |  \n",
            " |  __divmod__(self, value, /)\n",
            " |      Return divmod(self, value).\n",
            " |  \n",
            " |  __eq__(self, value, /)\n",
            " |      Return self==value.\n",
            " |  \n",
            " |  __float__(self, /)\n",
            " |      float(self)\n",
            " |  \n",
            " |  __floordiv__(self, value, /)\n",
            " |      Return self//value.\n",
            " |  \n",
            " |  __ge__(self, value, /)\n",
            " |      Return self>=value.\n",
            " |  \n",
            " |  __gt__(self, value, /)\n",
            " |      Return self>value.\n",
            " |  \n",
            " |  __hash__(self, /)\n",
            " |      Return hash(self).\n",
            " |  \n",
            " |  __index__(self, /)\n",
            " |      Return self converted to an integer, if self is suitable for use as an index into a list.\n",
            " |  \n",
            " |  __int__(self, /)\n",
            " |      int(self)\n",
            " |  \n",
            " |  __invert__(self, /)\n",
            " |      ~self\n",
            " |  \n",
            " |  __le__(self, value, /)\n",
            " |      Return self<=value.\n",
            " |  \n",
            " |  __lshift__(self, value, /)\n",
            " |      Return self<<value.\n",
            " |  \n",
            " |  __lt__(self, value, /)\n",
            " |      Return self<value.\n",
            " |  \n",
            " |  __mod__(self, value, /)\n",
            " |      Return self%value.\n",
            " |  \n",
            " |  __mul__(self, value, /)\n",
            " |      Return self*value.\n",
            " |  \n",
            " |  __ne__(self, value, /)\n",
            " |      Return self!=value.\n",
            " |  \n",
            " |  __neg__(self, /)\n",
            " |      -self\n",
            " |  \n",
            " |  __or__(self, value, /)\n",
            " |      Return self|value.\n",
            " |  \n",
            " |  __pos__(self, /)\n",
            " |      +self\n",
            " |  \n",
            " |  __pow__(self, value, mod=None, /)\n",
            " |      Return pow(self, value, mod).\n",
            " |  \n",
            " |  __radd__(self, value, /)\n",
            " |      Return value+self.\n",
            " |  \n",
            " |  __rand__(self, value, /)\n",
            " |      Return value&self.\n",
            " |  \n",
            " |  __rdivmod__(self, value, /)\n",
            " |      Return divmod(value, self).\n",
            " |  \n",
            " |  __repr__(self, /)\n",
            " |      Return repr(self).\n",
            " |  \n",
            " |  __rfloordiv__(self, value, /)\n",
            " |      Return value//self.\n",
            " |  \n",
            " |  __rlshift__(self, value, /)\n",
            " |      Return value<<self.\n",
            " |  \n",
            " |  __rmod__(self, value, /)\n",
            " |      Return value%self.\n",
            " |  \n",
            " |  __rmul__(self, value, /)\n",
            " |      Return value*self.\n",
            " |  \n",
            " |  __ror__(self, value, /)\n",
            " |      Return value|self.\n",
            " |  \n",
            " |  __rpow__(self, value, mod=None, /)\n",
            " |      Return pow(value, self, mod).\n",
            " |  \n",
            " |  __rrshift__(self, value, /)\n",
            " |      Return value>>self.\n",
            " |  \n",
            " |  __rshift__(self, value, /)\n",
            " |      Return self>>value.\n",
            " |  \n",
            " |  __rsub__(self, value, /)\n",
            " |      Return value-self.\n",
            " |  \n",
            " |  __rtruediv__(self, value, /)\n",
            " |      Return value/self.\n",
            " |  \n",
            " |  __rxor__(self, value, /)\n",
            " |      Return value^self.\n",
            " |  \n",
            " |  __str__(self, /)\n",
            " |      Return str(self).\n",
            " |  \n",
            " |  __sub__(self, value, /)\n",
            " |      Return self-value.\n",
            " |  \n",
            " |  __truediv__(self, value, /)\n",
            " |      Return self/value.\n",
            " |  \n",
            " |  __xor__(self, value, /)\n",
            " |      Return self^value.\n",
            " |  \n",
            " |  bit_count(...)\n",
            " |      int32.bit_count() -> int\n",
            " |      \n",
            " |      Computes the number of 1-bits in the absolute value of the input.\n",
            " |      Analogous to the builtin `int.bit_count` or ``popcount`` in C++.\n",
            " |      \n",
            " |      Examples\n",
            " |      --------\n",
            " |      >>> np.int32(127).bit_count()\n",
            " |      7\n",
            " |      >>> np.int32(-127).bit_count()\n",
            " |      7\n",
            " |  \n",
            " |  ----------------------------------------------------------------------\n",
            " |  Class methods defined here:\n",
            " |  \n",
            " |  __class_getitem__(...) from builtins.type\n",
            " |      __class_getitem__(item, /)\n",
            " |      \n",
            " |      Return a parametrized wrapper around the `~numpy.number` type.\n",
            " |      \n",
            " |      .. versionadded:: 1.22\n",
            " |      \n",
            " |      Returns\n",
            " |      -------\n",
            " |      alias : types.GenericAlias\n",
            " |          A parametrized `~numpy.number` type.\n",
            " |      \n",
            " |      Examples\n",
            " |      --------\n",
            " |      >>> from typing import Any\n",
            " |      >>> import numpy as np\n",
            " |      \n",
            " |      >>> np.signedinteger[Any]\n",
            " |      numpy.signedinteger[typing.Any]\n",
            " |      \n",
            " |      Notes\n",
            " |      -----\n",
            " |      This method is only available for python 3.9 and later.\n",
            " |      \n",
            " |      See Also\n",
            " |      --------\n",
            " |      :pep:`585` : Type hinting generics in standard collections.\n",
            " |  \n",
            " |  ----------------------------------------------------------------------\n",
            " |  Static methods defined here:\n",
            " |  \n",
            " |  __new__(*args, **kwargs) from builtins.type\n",
            " |      Create and return a new object.  See help(type) for accurate signature.\n",
            " |  \n",
            " |  ----------------------------------------------------------------------\n",
            " |  Methods inherited from integer:\n",
            " |  \n",
            " |  __round__(...)\n",
            " |  \n",
            " |  is_integer(...)\n",
            " |      integer.is_integer() -> bool\n",
            " |      \n",
            " |      Return ``True`` if the number is finite with integral value.\n",
            " |      \n",
            " |      .. versionadded:: 1.22\n",
            " |      \n",
            " |      Examples\n",
            " |      --------\n",
            " |      >>> np.int64(-2).is_integer()\n",
            " |      True\n",
            " |      >>> np.uint32(5).is_integer()\n",
            " |      True\n",
            " |  \n",
            " |  ----------------------------------------------------------------------\n",
            " |  Data descriptors inherited from integer:\n",
            " |  \n",
            " |  denominator\n",
            " |      denominator of value (1)\n",
            " |  \n",
            " |  numerator\n",
            " |      numerator of value (the value itself)\n",
            " |  \n",
            " |  ----------------------------------------------------------------------\n",
            " |  Methods inherited from generic:\n",
            " |  \n",
            " |  __array__(...)\n",
            " |      sc.__array__(dtype) return 0-dim array from scalar with specified dtype\n",
            " |  \n",
            " |  __array_wrap__(...)\n",
            " |      sc.__array_wrap__(obj) return scalar from array\n",
            " |  \n",
            " |  __copy__(...)\n",
            " |  \n",
            " |  __deepcopy__(...)\n",
            " |  \n",
            " |  __format__(...)\n",
            " |      NumPy array scalar formatter\n",
            " |  \n",
            " |  __getitem__(self, key, /)\n",
            " |      Return self[key].\n",
            " |  \n",
            " |  __reduce__(...)\n",
            " |      Helper for pickle.\n",
            " |  \n",
            " |  __setstate__(...)\n",
            " |  \n",
            " |  __sizeof__(...)\n",
            " |      Size of object in memory, in bytes.\n",
            " |  \n",
            " |  all(...)\n",
            " |      Scalar method identical to the corresponding array attribute.\n",
            " |      \n",
            " |      Please see `ndarray.all`.\n",
            " |  \n",
            " |  any(...)\n",
            " |      Scalar method identical to the corresponding array attribute.\n",
            " |      \n",
            " |      Please see `ndarray.any`.\n",
            " |  \n",
            " |  argmax(...)\n",
            " |      Scalar method identical to the corresponding array attribute.\n",
            " |      \n",
            " |      Please see `ndarray.argmax`.\n",
            " |  \n",
            " |  argmin(...)\n",
            " |      Scalar method identical to the corresponding array attribute.\n",
            " |      \n",
            " |      Please see `ndarray.argmin`.\n",
            " |  \n",
            " |  argsort(...)\n",
            " |      Scalar method identical to the corresponding array attribute.\n",
            " |      \n",
            " |      Please see `ndarray.argsort`.\n",
            " |  \n",
            " |  astype(...)\n",
            " |      Scalar method identical to the corresponding array attribute.\n",
            " |      \n",
            " |      Please see `ndarray.astype`.\n",
            " |  \n",
            " |  byteswap(...)\n",
            " |      Scalar method identical to the corresponding array attribute.\n",
            " |      \n",
            " |      Please see `ndarray.byteswap`.\n",
            " |  \n",
            " |  choose(...)\n",
            " |      Scalar method identical to the corresponding array attribute.\n",
            " |      \n",
            " |      Please see `ndarray.choose`.\n",
            " |  \n",
            " |  clip(...)\n",
            " |      Scalar method identical to the corresponding array attribute.\n",
            " |      \n",
            " |      Please see `ndarray.clip`.\n",
            " |  \n",
            " |  compress(...)\n",
            " |      Scalar method identical to the corresponding array attribute.\n",
            " |      \n",
            " |      Please see `ndarray.compress`.\n",
            " |  \n",
            " |  conj(...)\n",
            " |  \n",
            " |  conjugate(...)\n",
            " |      Scalar method identical to the corresponding array attribute.\n",
            " |      \n",
            " |      Please see `ndarray.conjugate`.\n",
            " |  \n",
            " |  copy(...)\n",
            " |      Scalar method identical to the corresponding array attribute.\n",
            " |      \n",
            " |      Please see `ndarray.copy`.\n",
            " |  \n",
            " |  cumprod(...)\n",
            " |      Scalar method identical to the corresponding array attribute.\n",
            " |      \n",
            " |      Please see `ndarray.cumprod`.\n",
            " |  \n",
            " |  cumsum(...)\n",
            " |      Scalar method identical to the corresponding array attribute.\n",
            " |      \n",
            " |      Please see `ndarray.cumsum`.\n",
            " |  \n",
            " |  diagonal(...)\n",
            " |      Scalar method identical to the corresponding array attribute.\n",
            " |      \n",
            " |      Please see `ndarray.diagonal`.\n",
            " |  \n",
            " |  dump(...)\n",
            " |      Scalar method identical to the corresponding array attribute.\n",
            " |      \n",
            " |      Please see `ndarray.dump`.\n",
            " |  \n",
            " |  dumps(...)\n",
            " |      Scalar method identical to the corresponding array attribute.\n",
            " |      \n",
            " |      Please see `ndarray.dumps`.\n",
            " |  \n",
            " |  fill(...)\n",
            " |      Scalar method identical to the corresponding array attribute.\n",
            " |      \n",
            " |      Please see `ndarray.fill`.\n",
            " |  \n",
            " |  flatten(...)\n",
            " |      Scalar method identical to the corresponding array attribute.\n",
            " |      \n",
            " |      Please see `ndarray.flatten`.\n",
            " |  \n",
            " |  getfield(...)\n",
            " |      Scalar method identical to the corresponding array attribute.\n",
            " |      \n",
            " |      Please see `ndarray.getfield`.\n",
            " |  \n",
            " |  item(...)\n",
            " |      Scalar method identical to the corresponding array attribute.\n",
            " |      \n",
            " |      Please see `ndarray.item`.\n",
            " |  \n",
            " |  itemset(...)\n",
            " |      Scalar method identical to the corresponding array attribute.\n",
            " |      \n",
            " |      Please see `ndarray.itemset`.\n",
            " |  \n",
            " |  max(...)\n",
            " |      Scalar method identical to the corresponding array attribute.\n",
            " |      \n",
            " |      Please see `ndarray.max`.\n",
            " |  \n",
            " |  mean(...)\n",
            " |      Scalar method identical to the corresponding array attribute.\n",
            " |      \n",
            " |      Please see `ndarray.mean`.\n",
            " |  \n",
            " |  min(...)\n",
            " |      Scalar method identical to the corresponding array attribute.\n",
            " |      \n",
            " |      Please see `ndarray.min`.\n",
            " |  \n",
            " |  newbyteorder(...)\n",
            " |      newbyteorder(new_order='S', /)\n",
            " |      \n",
            " |      Return a new `dtype` with a different byte order.\n",
            " |      \n",
            " |      Changes are also made in all fields and sub-arrays of the data type.\n",
            " |      \n",
            " |      The `new_order` code can be any from the following:\n",
            " |      \n",
            " |      * 'S' - swap dtype from current to opposite endian\n",
            " |      * {'<', 'little'} - little endian\n",
            " |      * {'>', 'big'} - big endian\n",
            " |      * {'=', 'native'} - native order\n",
            " |      * {'|', 'I'} - ignore (no change to byte order)\n",
            " |      \n",
            " |      Parameters\n",
            " |      ----------\n",
            " |      new_order : str, optional\n",
            " |          Byte order to force; a value from the byte order specifications\n",
            " |          above.  The default value ('S') results in swapping the current\n",
            " |          byte order.\n",
            " |      \n",
            " |      \n",
            " |      Returns\n",
            " |      -------\n",
            " |      new_dtype : dtype\n",
            " |          New `dtype` object with the given change to the byte order.\n",
            " |  \n",
            " |  nonzero(...)\n",
            " |      Scalar method identical to the corresponding array attribute.\n",
            " |      \n",
            " |      Please see `ndarray.nonzero`.\n",
            " |  \n",
            " |  prod(...)\n",
            " |      Scalar method identical to the corresponding array attribute.\n",
            " |      \n",
            " |      Please see `ndarray.prod`.\n",
            " |  \n",
            " |  ptp(...)\n",
            " |      Scalar method identical to the corresponding array attribute.\n",
            " |      \n",
            " |      Please see `ndarray.ptp`.\n",
            " |  \n",
            " |  put(...)\n",
            " |      Scalar method identical to the corresponding array attribute.\n",
            " |      \n",
            " |      Please see `ndarray.put`.\n",
            " |  \n",
            " |  ravel(...)\n",
            " |      Scalar method identical to the corresponding array attribute.\n",
            " |      \n",
            " |      Please see `ndarray.ravel`.\n",
            " |  \n",
            " |  repeat(...)\n",
            " |      Scalar method identical to the corresponding array attribute.\n",
            " |      \n",
            " |      Please see `ndarray.repeat`.\n",
            " |  \n",
            " |  reshape(...)\n",
            " |      Scalar method identical to the corresponding array attribute.\n",
            " |      \n",
            " |      Please see `ndarray.reshape`.\n",
            " |  \n",
            " |  resize(...)\n",
            " |      Scalar method identical to the corresponding array attribute.\n",
            " |      \n",
            " |      Please see `ndarray.resize`.\n",
            " |  \n",
            " |  round(...)\n",
            " |      Scalar method identical to the corresponding array attribute.\n",
            " |      \n",
            " |      Please see `ndarray.round`.\n",
            " |  \n",
            " |  searchsorted(...)\n",
            " |      Scalar method identical to the corresponding array attribute.\n",
            " |      \n",
            " |      Please see `ndarray.searchsorted`.\n",
            " |  \n",
            " |  setfield(...)\n",
            " |      Scalar method identical to the corresponding array attribute.\n",
            " |      \n",
            " |      Please see `ndarray.setfield`.\n",
            " |  \n",
            " |  setflags(...)\n",
            " |      Scalar method identical to the corresponding array attribute.\n",
            " |      \n",
            " |      Please see `ndarray.setflags`.\n",
            " |  \n",
            " |  sort(...)\n",
            " |      Scalar method identical to the corresponding array attribute.\n",
            " |      \n",
            " |      Please see `ndarray.sort`.\n",
            " |  \n",
            " |  squeeze(...)\n",
            " |      Scalar method identical to the corresponding array attribute.\n",
            " |      \n",
            " |      Please see `ndarray.squeeze`.\n",
            " |  \n",
            " |  std(...)\n",
            " |      Scalar method identical to the corresponding array attribute.\n",
            " |      \n",
            " |      Please see `ndarray.std`.\n",
            " |  \n",
            " |  sum(...)\n",
            " |      Scalar method identical to the corresponding array attribute.\n",
            " |      \n",
            " |      Please see `ndarray.sum`.\n",
            " |  \n",
            " |  swapaxes(...)\n",
            " |      Scalar method identical to the corresponding array attribute.\n",
            " |      \n",
            " |      Please see `ndarray.swapaxes`.\n",
            " |  \n",
            " |  take(...)\n",
            " |      Scalar method identical to the corresponding array attribute.\n",
            " |      \n",
            " |      Please see `ndarray.take`.\n",
            " |  \n",
            " |  tobytes(...)\n",
            " |  \n",
            " |  tofile(...)\n",
            " |      Scalar method identical to the corresponding array attribute.\n",
            " |      \n",
            " |      Please see `ndarray.tofile`.\n",
            " |  \n",
            " |  tolist(...)\n",
            " |      Scalar method identical to the corresponding array attribute.\n",
            " |      \n",
            " |      Please see `ndarray.tolist`.\n",
            " |  \n",
            " |  tostring(...)\n",
            " |      Scalar method identical to the corresponding array attribute.\n",
            " |      \n",
            " |      Please see `ndarray.tostring`.\n",
            " |  \n",
            " |  trace(...)\n",
            " |      Scalar method identical to the corresponding array attribute.\n",
            " |      \n",
            " |      Please see `ndarray.trace`.\n",
            " |  \n",
            " |  transpose(...)\n",
            " |      Scalar method identical to the corresponding array attribute.\n",
            " |      \n",
            " |      Please see `ndarray.transpose`.\n",
            " |  \n",
            " |  var(...)\n",
            " |      Scalar method identical to the corresponding array attribute.\n",
            " |      \n",
            " |      Please see `ndarray.var`.\n",
            " |  \n",
            " |  view(...)\n",
            " |      Scalar method identical to the corresponding array attribute.\n",
            " |      \n",
            " |      Please see `ndarray.view`.\n",
            " |  \n",
            " |  ----------------------------------------------------------------------\n",
            " |  Data descriptors inherited from generic:\n",
            " |  \n",
            " |  T\n",
            " |      Scalar attribute identical to the corresponding array attribute.\n",
            " |      \n",
            " |      Please see `ndarray.T`.\n",
            " |  \n",
            " |  __array_interface__\n",
            " |      Array protocol: Python side\n",
            " |  \n",
            " |  __array_priority__\n",
            " |      Array priority.\n",
            " |  \n",
            " |  __array_struct__\n",
            " |      Array protocol: struct\n",
            " |  \n",
            " |  base\n",
            " |      Scalar attribute identical to the corresponding array attribute.\n",
            " |      \n",
            " |      Please see `ndarray.base`.\n",
            " |  \n",
            " |  data\n",
            " |      Pointer to start of data.\n",
            " |  \n",
            " |  dtype\n",
            " |      Get array data-descriptor.\n",
            " |  \n",
            " |  flags\n",
            " |      The integer value of flags.\n",
            " |  \n",
            " |  flat\n",
            " |      A 1-D view of the scalar.\n",
            " |  \n",
            " |  imag\n",
            " |      The imaginary part of the scalar.\n",
            " |  \n",
            " |  itemsize\n",
            " |      The length of one element in bytes.\n",
            " |  \n",
            " |  nbytes\n",
            " |      The length of the scalar in bytes.\n",
            " |  \n",
            " |  ndim\n",
            " |      The number of array dimensions.\n",
            " |  \n",
            " |  real\n",
            " |      The real part of the scalar.\n",
            " |  \n",
            " |  shape\n",
            " |      Tuple of array dimensions.\n",
            " |  \n",
            " |  size\n",
            " |      The number of elements in the gentype.\n",
            " |  \n",
            " |  strides\n",
            " |      Tuple of bytes steps in each dimension.\n",
            "\n"
          ]
        }
      ],
      "source": [
        "help(np.int32) # Its in Numpy so works"
      ]
    },
    {
      "cell_type": "code",
      "execution_count": 21,
      "id": "3bbe2308",
      "metadata": {
        "id": "3bbe2308",
        "outputId": "27d3c04c-9487-4a35-f1c0-2f0bbe6b0451",
        "colab": {
          "base_uri": "https://localhost:8080/"
        }
      },
      "outputs": [
        {
          "output_type": "stream",
          "name": "stdout",
          "text": [
            "Help on class int64 in module numpy:\n",
            "\n",
            "class int64(signedinteger)\n",
            " |  Signed integer type, compatible with Python `int` and C ``long``.\n",
            " |  \n",
            " |  :Character code: ``'l'``\n",
            " |  :Canonical name: `numpy.int_`\n",
            " |  :Alias on this platform (Linux x86_64): `numpy.int64`: 64-bit signed integer (``-9_223_372_036_854_775_808`` to ``9_223_372_036_854_775_807``).\n",
            " |  :Alias on this platform (Linux x86_64): `numpy.intp`: Signed integer large enough to fit pointer, compatible with C ``intptr_t``.\n",
            " |  \n",
            " |  Method resolution order:\n",
            " |      int64\n",
            " |      signedinteger\n",
            " |      integer\n",
            " |      number\n",
            " |      generic\n",
            " |      builtins.object\n",
            " |  \n",
            " |  Methods defined here:\n",
            " |  \n",
            " |  __abs__(self, /)\n",
            " |      abs(self)\n",
            " |  \n",
            " |  __add__(self, value, /)\n",
            " |      Return self+value.\n",
            " |  \n",
            " |  __and__(self, value, /)\n",
            " |      Return self&value.\n",
            " |  \n",
            " |  __bool__(self, /)\n",
            " |      True if self else False\n",
            " |  \n",
            " |  __divmod__(self, value, /)\n",
            " |      Return divmod(self, value).\n",
            " |  \n",
            " |  __eq__(self, value, /)\n",
            " |      Return self==value.\n",
            " |  \n",
            " |  __float__(self, /)\n",
            " |      float(self)\n",
            " |  \n",
            " |  __floordiv__(self, value, /)\n",
            " |      Return self//value.\n",
            " |  \n",
            " |  __ge__(self, value, /)\n",
            " |      Return self>=value.\n",
            " |  \n",
            " |  __gt__(self, value, /)\n",
            " |      Return self>value.\n",
            " |  \n",
            " |  __hash__(self, /)\n",
            " |      Return hash(self).\n",
            " |  \n",
            " |  __index__(self, /)\n",
            " |      Return self converted to an integer, if self is suitable for use as an index into a list.\n",
            " |  \n",
            " |  __int__(self, /)\n",
            " |      int(self)\n",
            " |  \n",
            " |  __invert__(self, /)\n",
            " |      ~self\n",
            " |  \n",
            " |  __le__(self, value, /)\n",
            " |      Return self<=value.\n",
            " |  \n",
            " |  __lshift__(self, value, /)\n",
            " |      Return self<<value.\n",
            " |  \n",
            " |  __lt__(self, value, /)\n",
            " |      Return self<value.\n",
            " |  \n",
            " |  __mod__(self, value, /)\n",
            " |      Return self%value.\n",
            " |  \n",
            " |  __mul__(self, value, /)\n",
            " |      Return self*value.\n",
            " |  \n",
            " |  __ne__(self, value, /)\n",
            " |      Return self!=value.\n",
            " |  \n",
            " |  __neg__(self, /)\n",
            " |      -self\n",
            " |  \n",
            " |  __or__(self, value, /)\n",
            " |      Return self|value.\n",
            " |  \n",
            " |  __pos__(self, /)\n",
            " |      +self\n",
            " |  \n",
            " |  __pow__(self, value, mod=None, /)\n",
            " |      Return pow(self, value, mod).\n",
            " |  \n",
            " |  __radd__(self, value, /)\n",
            " |      Return value+self.\n",
            " |  \n",
            " |  __rand__(self, value, /)\n",
            " |      Return value&self.\n",
            " |  \n",
            " |  __rdivmod__(self, value, /)\n",
            " |      Return divmod(value, self).\n",
            " |  \n",
            " |  __repr__(self, /)\n",
            " |      Return repr(self).\n",
            " |  \n",
            " |  __rfloordiv__(self, value, /)\n",
            " |      Return value//self.\n",
            " |  \n",
            " |  __rlshift__(self, value, /)\n",
            " |      Return value<<self.\n",
            " |  \n",
            " |  __rmod__(self, value, /)\n",
            " |      Return value%self.\n",
            " |  \n",
            " |  __rmul__(self, value, /)\n",
            " |      Return value*self.\n",
            " |  \n",
            " |  __ror__(self, value, /)\n",
            " |      Return value|self.\n",
            " |  \n",
            " |  __rpow__(self, value, mod=None, /)\n",
            " |      Return pow(value, self, mod).\n",
            " |  \n",
            " |  __rrshift__(self, value, /)\n",
            " |      Return value>>self.\n",
            " |  \n",
            " |  __rshift__(self, value, /)\n",
            " |      Return self>>value.\n",
            " |  \n",
            " |  __rsub__(self, value, /)\n",
            " |      Return value-self.\n",
            " |  \n",
            " |  __rtruediv__(self, value, /)\n",
            " |      Return value/self.\n",
            " |  \n",
            " |  __rxor__(self, value, /)\n",
            " |      Return value^self.\n",
            " |  \n",
            " |  __str__(self, /)\n",
            " |      Return str(self).\n",
            " |  \n",
            " |  __sub__(self, value, /)\n",
            " |      Return self-value.\n",
            " |  \n",
            " |  __truediv__(self, value, /)\n",
            " |      Return self/value.\n",
            " |  \n",
            " |  __xor__(self, value, /)\n",
            " |      Return self^value.\n",
            " |  \n",
            " |  bit_count(...)\n",
            " |      int64.bit_count() -> int\n",
            " |      \n",
            " |      Computes the number of 1-bits in the absolute value of the input.\n",
            " |      Analogous to the builtin `int.bit_count` or ``popcount`` in C++.\n",
            " |      \n",
            " |      Examples\n",
            " |      --------\n",
            " |      >>> np.int64(127).bit_count()\n",
            " |      7\n",
            " |      >>> np.int64(-127).bit_count()\n",
            " |      7\n",
            " |  \n",
            " |  ----------------------------------------------------------------------\n",
            " |  Class methods defined here:\n",
            " |  \n",
            " |  __class_getitem__(...) from builtins.type\n",
            " |      __class_getitem__(item, /)\n",
            " |      \n",
            " |      Return a parametrized wrapper around the `~numpy.number` type.\n",
            " |      \n",
            " |      .. versionadded:: 1.22\n",
            " |      \n",
            " |      Returns\n",
            " |      -------\n",
            " |      alias : types.GenericAlias\n",
            " |          A parametrized `~numpy.number` type.\n",
            " |      \n",
            " |      Examples\n",
            " |      --------\n",
            " |      >>> from typing import Any\n",
            " |      >>> import numpy as np\n",
            " |      \n",
            " |      >>> np.signedinteger[Any]\n",
            " |      numpy.signedinteger[typing.Any]\n",
            " |      \n",
            " |      Notes\n",
            " |      -----\n",
            " |      This method is only available for python 3.9 and later.\n",
            " |      \n",
            " |      See Also\n",
            " |      --------\n",
            " |      :pep:`585` : Type hinting generics in standard collections.\n",
            " |  \n",
            " |  ----------------------------------------------------------------------\n",
            " |  Static methods defined here:\n",
            " |  \n",
            " |  __new__(*args, **kwargs) from builtins.type\n",
            " |      Create and return a new object.  See help(type) for accurate signature.\n",
            " |  \n",
            " |  ----------------------------------------------------------------------\n",
            " |  Methods inherited from integer:\n",
            " |  \n",
            " |  __round__(...)\n",
            " |  \n",
            " |  is_integer(...)\n",
            " |      integer.is_integer() -> bool\n",
            " |      \n",
            " |      Return ``True`` if the number is finite with integral value.\n",
            " |      \n",
            " |      .. versionadded:: 1.22\n",
            " |      \n",
            " |      Examples\n",
            " |      --------\n",
            " |      >>> np.int64(-2).is_integer()\n",
            " |      True\n",
            " |      >>> np.uint32(5).is_integer()\n",
            " |      True\n",
            " |  \n",
            " |  ----------------------------------------------------------------------\n",
            " |  Data descriptors inherited from integer:\n",
            " |  \n",
            " |  denominator\n",
            " |      denominator of value (1)\n",
            " |  \n",
            " |  numerator\n",
            " |      numerator of value (the value itself)\n",
            " |  \n",
            " |  ----------------------------------------------------------------------\n",
            " |  Methods inherited from generic:\n",
            " |  \n",
            " |  __array__(...)\n",
            " |      sc.__array__(dtype) return 0-dim array from scalar with specified dtype\n",
            " |  \n",
            " |  __array_wrap__(...)\n",
            " |      sc.__array_wrap__(obj) return scalar from array\n",
            " |  \n",
            " |  __copy__(...)\n",
            " |  \n",
            " |  __deepcopy__(...)\n",
            " |  \n",
            " |  __format__(...)\n",
            " |      NumPy array scalar formatter\n",
            " |  \n",
            " |  __getitem__(self, key, /)\n",
            " |      Return self[key].\n",
            " |  \n",
            " |  __reduce__(...)\n",
            " |      Helper for pickle.\n",
            " |  \n",
            " |  __setstate__(...)\n",
            " |  \n",
            " |  __sizeof__(...)\n",
            " |      Size of object in memory, in bytes.\n",
            " |  \n",
            " |  all(...)\n",
            " |      Scalar method identical to the corresponding array attribute.\n",
            " |      \n",
            " |      Please see `ndarray.all`.\n",
            " |  \n",
            " |  any(...)\n",
            " |      Scalar method identical to the corresponding array attribute.\n",
            " |      \n",
            " |      Please see `ndarray.any`.\n",
            " |  \n",
            " |  argmax(...)\n",
            " |      Scalar method identical to the corresponding array attribute.\n",
            " |      \n",
            " |      Please see `ndarray.argmax`.\n",
            " |  \n",
            " |  argmin(...)\n",
            " |      Scalar method identical to the corresponding array attribute.\n",
            " |      \n",
            " |      Please see `ndarray.argmin`.\n",
            " |  \n",
            " |  argsort(...)\n",
            " |      Scalar method identical to the corresponding array attribute.\n",
            " |      \n",
            " |      Please see `ndarray.argsort`.\n",
            " |  \n",
            " |  astype(...)\n",
            " |      Scalar method identical to the corresponding array attribute.\n",
            " |      \n",
            " |      Please see `ndarray.astype`.\n",
            " |  \n",
            " |  byteswap(...)\n",
            " |      Scalar method identical to the corresponding array attribute.\n",
            " |      \n",
            " |      Please see `ndarray.byteswap`.\n",
            " |  \n",
            " |  choose(...)\n",
            " |      Scalar method identical to the corresponding array attribute.\n",
            " |      \n",
            " |      Please see `ndarray.choose`.\n",
            " |  \n",
            " |  clip(...)\n",
            " |      Scalar method identical to the corresponding array attribute.\n",
            " |      \n",
            " |      Please see `ndarray.clip`.\n",
            " |  \n",
            " |  compress(...)\n",
            " |      Scalar method identical to the corresponding array attribute.\n",
            " |      \n",
            " |      Please see `ndarray.compress`.\n",
            " |  \n",
            " |  conj(...)\n",
            " |  \n",
            " |  conjugate(...)\n",
            " |      Scalar method identical to the corresponding array attribute.\n",
            " |      \n",
            " |      Please see `ndarray.conjugate`.\n",
            " |  \n",
            " |  copy(...)\n",
            " |      Scalar method identical to the corresponding array attribute.\n",
            " |      \n",
            " |      Please see `ndarray.copy`.\n",
            " |  \n",
            " |  cumprod(...)\n",
            " |      Scalar method identical to the corresponding array attribute.\n",
            " |      \n",
            " |      Please see `ndarray.cumprod`.\n",
            " |  \n",
            " |  cumsum(...)\n",
            " |      Scalar method identical to the corresponding array attribute.\n",
            " |      \n",
            " |      Please see `ndarray.cumsum`.\n",
            " |  \n",
            " |  diagonal(...)\n",
            " |      Scalar method identical to the corresponding array attribute.\n",
            " |      \n",
            " |      Please see `ndarray.diagonal`.\n",
            " |  \n",
            " |  dump(...)\n",
            " |      Scalar method identical to the corresponding array attribute.\n",
            " |      \n",
            " |      Please see `ndarray.dump`.\n",
            " |  \n",
            " |  dumps(...)\n",
            " |      Scalar method identical to the corresponding array attribute.\n",
            " |      \n",
            " |      Please see `ndarray.dumps`.\n",
            " |  \n",
            " |  fill(...)\n",
            " |      Scalar method identical to the corresponding array attribute.\n",
            " |      \n",
            " |      Please see `ndarray.fill`.\n",
            " |  \n",
            " |  flatten(...)\n",
            " |      Scalar method identical to the corresponding array attribute.\n",
            " |      \n",
            " |      Please see `ndarray.flatten`.\n",
            " |  \n",
            " |  getfield(...)\n",
            " |      Scalar method identical to the corresponding array attribute.\n",
            " |      \n",
            " |      Please see `ndarray.getfield`.\n",
            " |  \n",
            " |  item(...)\n",
            " |      Scalar method identical to the corresponding array attribute.\n",
            " |      \n",
            " |      Please see `ndarray.item`.\n",
            " |  \n",
            " |  itemset(...)\n",
            " |      Scalar method identical to the corresponding array attribute.\n",
            " |      \n",
            " |      Please see `ndarray.itemset`.\n",
            " |  \n",
            " |  max(...)\n",
            " |      Scalar method identical to the corresponding array attribute.\n",
            " |      \n",
            " |      Please see `ndarray.max`.\n",
            " |  \n",
            " |  mean(...)\n",
            " |      Scalar method identical to the corresponding array attribute.\n",
            " |      \n",
            " |      Please see `ndarray.mean`.\n",
            " |  \n",
            " |  min(...)\n",
            " |      Scalar method identical to the corresponding array attribute.\n",
            " |      \n",
            " |      Please see `ndarray.min`.\n",
            " |  \n",
            " |  newbyteorder(...)\n",
            " |      newbyteorder(new_order='S', /)\n",
            " |      \n",
            " |      Return a new `dtype` with a different byte order.\n",
            " |      \n",
            " |      Changes are also made in all fields and sub-arrays of the data type.\n",
            " |      \n",
            " |      The `new_order` code can be any from the following:\n",
            " |      \n",
            " |      * 'S' - swap dtype from current to opposite endian\n",
            " |      * {'<', 'little'} - little endian\n",
            " |      * {'>', 'big'} - big endian\n",
            " |      * {'=', 'native'} - native order\n",
            " |      * {'|', 'I'} - ignore (no change to byte order)\n",
            " |      \n",
            " |      Parameters\n",
            " |      ----------\n",
            " |      new_order : str, optional\n",
            " |          Byte order to force; a value from the byte order specifications\n",
            " |          above.  The default value ('S') results in swapping the current\n",
            " |          byte order.\n",
            " |      \n",
            " |      \n",
            " |      Returns\n",
            " |      -------\n",
            " |      new_dtype : dtype\n",
            " |          New `dtype` object with the given change to the byte order.\n",
            " |  \n",
            " |  nonzero(...)\n",
            " |      Scalar method identical to the corresponding array attribute.\n",
            " |      \n",
            " |      Please see `ndarray.nonzero`.\n",
            " |  \n",
            " |  prod(...)\n",
            " |      Scalar method identical to the corresponding array attribute.\n",
            " |      \n",
            " |      Please see `ndarray.prod`.\n",
            " |  \n",
            " |  ptp(...)\n",
            " |      Scalar method identical to the corresponding array attribute.\n",
            " |      \n",
            " |      Please see `ndarray.ptp`.\n",
            " |  \n",
            " |  put(...)\n",
            " |      Scalar method identical to the corresponding array attribute.\n",
            " |      \n",
            " |      Please see `ndarray.put`.\n",
            " |  \n",
            " |  ravel(...)\n",
            " |      Scalar method identical to the corresponding array attribute.\n",
            " |      \n",
            " |      Please see `ndarray.ravel`.\n",
            " |  \n",
            " |  repeat(...)\n",
            " |      Scalar method identical to the corresponding array attribute.\n",
            " |      \n",
            " |      Please see `ndarray.repeat`.\n",
            " |  \n",
            " |  reshape(...)\n",
            " |      Scalar method identical to the corresponding array attribute.\n",
            " |      \n",
            " |      Please see `ndarray.reshape`.\n",
            " |  \n",
            " |  resize(...)\n",
            " |      Scalar method identical to the corresponding array attribute.\n",
            " |      \n",
            " |      Please see `ndarray.resize`.\n",
            " |  \n",
            " |  round(...)\n",
            " |      Scalar method identical to the corresponding array attribute.\n",
            " |      \n",
            " |      Please see `ndarray.round`.\n",
            " |  \n",
            " |  searchsorted(...)\n",
            " |      Scalar method identical to the corresponding array attribute.\n",
            " |      \n",
            " |      Please see `ndarray.searchsorted`.\n",
            " |  \n",
            " |  setfield(...)\n",
            " |      Scalar method identical to the corresponding array attribute.\n",
            " |      \n",
            " |      Please see `ndarray.setfield`.\n",
            " |  \n",
            " |  setflags(...)\n",
            " |      Scalar method identical to the corresponding array attribute.\n",
            " |      \n",
            " |      Please see `ndarray.setflags`.\n",
            " |  \n",
            " |  sort(...)\n",
            " |      Scalar method identical to the corresponding array attribute.\n",
            " |      \n",
            " |      Please see `ndarray.sort`.\n",
            " |  \n",
            " |  squeeze(...)\n",
            " |      Scalar method identical to the corresponding array attribute.\n",
            " |      \n",
            " |      Please see `ndarray.squeeze`.\n",
            " |  \n",
            " |  std(...)\n",
            " |      Scalar method identical to the corresponding array attribute.\n",
            " |      \n",
            " |      Please see `ndarray.std`.\n",
            " |  \n",
            " |  sum(...)\n",
            " |      Scalar method identical to the corresponding array attribute.\n",
            " |      \n",
            " |      Please see `ndarray.sum`.\n",
            " |  \n",
            " |  swapaxes(...)\n",
            " |      Scalar method identical to the corresponding array attribute.\n",
            " |      \n",
            " |      Please see `ndarray.swapaxes`.\n",
            " |  \n",
            " |  take(...)\n",
            " |      Scalar method identical to the corresponding array attribute.\n",
            " |      \n",
            " |      Please see `ndarray.take`.\n",
            " |  \n",
            " |  tobytes(...)\n",
            " |  \n",
            " |  tofile(...)\n",
            " |      Scalar method identical to the corresponding array attribute.\n",
            " |      \n",
            " |      Please see `ndarray.tofile`.\n",
            " |  \n",
            " |  tolist(...)\n",
            " |      Scalar method identical to the corresponding array attribute.\n",
            " |      \n",
            " |      Please see `ndarray.tolist`.\n",
            " |  \n",
            " |  tostring(...)\n",
            " |      Scalar method identical to the corresponding array attribute.\n",
            " |      \n",
            " |      Please see `ndarray.tostring`.\n",
            " |  \n",
            " |  trace(...)\n",
            " |      Scalar method identical to the corresponding array attribute.\n",
            " |      \n",
            " |      Please see `ndarray.trace`.\n",
            " |  \n",
            " |  transpose(...)\n",
            " |      Scalar method identical to the corresponding array attribute.\n",
            " |      \n",
            " |      Please see `ndarray.transpose`.\n",
            " |  \n",
            " |  var(...)\n",
            " |      Scalar method identical to the corresponding array attribute.\n",
            " |      \n",
            " |      Please see `ndarray.var`.\n",
            " |  \n",
            " |  view(...)\n",
            " |      Scalar method identical to the corresponding array attribute.\n",
            " |      \n",
            " |      Please see `ndarray.view`.\n",
            " |  \n",
            " |  ----------------------------------------------------------------------\n",
            " |  Data descriptors inherited from generic:\n",
            " |  \n",
            " |  T\n",
            " |      Scalar attribute identical to the corresponding array attribute.\n",
            " |      \n",
            " |      Please see `ndarray.T`.\n",
            " |  \n",
            " |  __array_interface__\n",
            " |      Array protocol: Python side\n",
            " |  \n",
            " |  __array_priority__\n",
            " |      Array priority.\n",
            " |  \n",
            " |  __array_struct__\n",
            " |      Array protocol: struct\n",
            " |  \n",
            " |  base\n",
            " |      Scalar attribute identical to the corresponding array attribute.\n",
            " |      \n",
            " |      Please see `ndarray.base`.\n",
            " |  \n",
            " |  data\n",
            " |      Pointer to start of data.\n",
            " |  \n",
            " |  dtype\n",
            " |      Get array data-descriptor.\n",
            " |  \n",
            " |  flags\n",
            " |      The integer value of flags.\n",
            " |  \n",
            " |  flat\n",
            " |      A 1-D view of the scalar.\n",
            " |  \n",
            " |  imag\n",
            " |      The imaginary part of the scalar.\n",
            " |  \n",
            " |  itemsize\n",
            " |      The length of one element in bytes.\n",
            " |  \n",
            " |  nbytes\n",
            " |      The length of the scalar in bytes.\n",
            " |  \n",
            " |  ndim\n",
            " |      The number of array dimensions.\n",
            " |  \n",
            " |  real\n",
            " |      The real part of the scalar.\n",
            " |  \n",
            " |  shape\n",
            " |      Tuple of array dimensions.\n",
            " |  \n",
            " |  size\n",
            " |      The number of elements in the gentype.\n",
            " |  \n",
            " |  strides\n",
            " |      Tuple of bytes steps in each dimension.\n",
            "\n"
          ]
        }
      ],
      "source": [
        "help(np.int64)"
      ]
    },
    {
      "cell_type": "code",
      "execution_count": null,
      "id": "fe0dbc8d",
      "metadata": {
        "id": "fe0dbc8d",
        "outputId": "917abc00-b89e-4314-9c7a-1aa49eeb36ec"
      },
      "outputs": [
        {
          "name": "stdout",
          "output_type": "stream",
          "text": [
            "Help on class int8 in module numpy:\n",
            "\n",
            "class int8(signedinteger)\n",
            " |  Signed integer type, compatible with C ``char``.\n",
            " |  \n",
            " |  :Character code: ``'b'``\n",
            " |  :Canonical name: `numpy.byte`\n",
            " |  :Alias on this platform: `numpy.int8`: 8-bit signed integer (``-128`` to ``127``).\n",
            " |  \n",
            " |  Method resolution order:\n",
            " |      int8\n",
            " |      signedinteger\n",
            " |      integer\n",
            " |      number\n",
            " |      generic\n",
            " |      builtins.object\n",
            " |  \n",
            " |  Methods defined here:\n",
            " |  \n",
            " |  __abs__(self, /)\n",
            " |      abs(self)\n",
            " |  \n",
            " |  __add__(self, value, /)\n",
            " |      Return self+value.\n",
            " |  \n",
            " |  __and__(self, value, /)\n",
            " |      Return self&value.\n",
            " |  \n",
            " |  __bool__(self, /)\n",
            " |      self != 0\n",
            " |  \n",
            " |  __divmod__(self, value, /)\n",
            " |      Return divmod(self, value).\n",
            " |  \n",
            " |  __eq__(self, value, /)\n",
            " |      Return self==value.\n",
            " |  \n",
            " |  __float__(self, /)\n",
            " |      float(self)\n",
            " |  \n",
            " |  __floordiv__(self, value, /)\n",
            " |      Return self//value.\n",
            " |  \n",
            " |  __ge__(self, value, /)\n",
            " |      Return self>=value.\n",
            " |  \n",
            " |  __gt__(self, value, /)\n",
            " |      Return self>value.\n",
            " |  \n",
            " |  __hash__(self, /)\n",
            " |      Return hash(self).\n",
            " |  \n",
            " |  __index__(self, /)\n",
            " |      Return self converted to an integer, if self is suitable for use as an index into a list.\n",
            " |  \n",
            " |  __int__(self, /)\n",
            " |      int(self)\n",
            " |  \n",
            " |  __invert__(self, /)\n",
            " |      ~self\n",
            " |  \n",
            " |  __le__(self, value, /)\n",
            " |      Return self<=value.\n",
            " |  \n",
            " |  __lshift__(self, value, /)\n",
            " |      Return self<<value.\n",
            " |  \n",
            " |  __lt__(self, value, /)\n",
            " |      Return self<value.\n",
            " |  \n",
            " |  __mod__(self, value, /)\n",
            " |      Return self%value.\n",
            " |  \n",
            " |  __mul__(self, value, /)\n",
            " |      Return self*value.\n",
            " |  \n",
            " |  __ne__(self, value, /)\n",
            " |      Return self!=value.\n",
            " |  \n",
            " |  __neg__(self, /)\n",
            " |      -self\n",
            " |  \n",
            " |  __or__(self, value, /)\n",
            " |      Return self|value.\n",
            " |  \n",
            " |  __pos__(self, /)\n",
            " |      +self\n",
            " |  \n",
            " |  __pow__(self, value, mod=None, /)\n",
            " |      Return pow(self, value, mod).\n",
            " |  \n",
            " |  __radd__(self, value, /)\n",
            " |      Return value+self.\n",
            " |  \n",
            " |  __rand__(self, value, /)\n",
            " |      Return value&self.\n",
            " |  \n",
            " |  __rdivmod__(self, value, /)\n",
            " |      Return divmod(value, self).\n",
            " |  \n",
            " |  __repr__(self, /)\n",
            " |      Return repr(self).\n",
            " |  \n",
            " |  __rfloordiv__(self, value, /)\n",
            " |      Return value//self.\n",
            " |  \n",
            " |  __rlshift__(self, value, /)\n",
            " |      Return value<<self.\n",
            " |  \n",
            " |  __rmod__(self, value, /)\n",
            " |      Return value%self.\n",
            " |  \n",
            " |  __rmul__(self, value, /)\n",
            " |      Return value*self.\n",
            " |  \n",
            " |  __ror__(self, value, /)\n",
            " |      Return value|self.\n",
            " |  \n",
            " |  __rpow__(self, value, mod=None, /)\n",
            " |      Return pow(value, self, mod).\n",
            " |  \n",
            " |  __rrshift__(self, value, /)\n",
            " |      Return value>>self.\n",
            " |  \n",
            " |  __rshift__(self, value, /)\n",
            " |      Return self>>value.\n",
            " |  \n",
            " |  __rsub__(self, value, /)\n",
            " |      Return value-self.\n",
            " |  \n",
            " |  __rtruediv__(self, value, /)\n",
            " |      Return value/self.\n",
            " |  \n",
            " |  __rxor__(self, value, /)\n",
            " |      Return value^self.\n",
            " |  \n",
            " |  __str__(self, /)\n",
            " |      Return str(self).\n",
            " |  \n",
            " |  __sub__(self, value, /)\n",
            " |      Return self-value.\n",
            " |  \n",
            " |  __truediv__(self, value, /)\n",
            " |      Return self/value.\n",
            " |  \n",
            " |  __xor__(self, value, /)\n",
            " |      Return self^value.\n",
            " |  \n",
            " |  ----------------------------------------------------------------------\n",
            " |  Static methods defined here:\n",
            " |  \n",
            " |  __new__(*args, **kwargs) from builtins.type\n",
            " |      Create and return a new object.  See help(type) for accurate signature.\n",
            " |  \n",
            " |  ----------------------------------------------------------------------\n",
            " |  Methods inherited from integer:\n",
            " |  \n",
            " |  __round__(...)\n",
            " |  \n",
            " |  ----------------------------------------------------------------------\n",
            " |  Data descriptors inherited from integer:\n",
            " |  \n",
            " |  denominator\n",
            " |      denominator of value (1)\n",
            " |  \n",
            " |  numerator\n",
            " |      numerator of value (the value itself)\n",
            " |  \n",
            " |  ----------------------------------------------------------------------\n",
            " |  Methods inherited from generic:\n",
            " |  \n",
            " |  __array__(...)\n",
            " |      sc.__array__(dtype) return 0-dim array from scalar with specified dtype\n",
            " |  \n",
            " |  __array_wrap__(...)\n",
            " |      sc.__array_wrap__(obj) return scalar from array\n",
            " |  \n",
            " |  __copy__(...)\n",
            " |  \n",
            " |  __deepcopy__(...)\n",
            " |  \n",
            " |  __format__(...)\n",
            " |      NumPy array scalar formatter\n",
            " |  \n",
            " |  __getitem__(self, key, /)\n",
            " |      Return self[key].\n",
            " |  \n",
            " |  __reduce__(...)\n",
            " |      Helper for pickle.\n",
            " |  \n",
            " |  __setstate__(...)\n",
            " |  \n",
            " |  __sizeof__(...)\n",
            " |      Size of object in memory, in bytes.\n",
            " |  \n",
            " |  all(...)\n",
            " |      Scalar method identical to the corresponding array attribute.\n",
            " |      \n",
            " |      Please see `ndarray.all`.\n",
            " |  \n",
            " |  any(...)\n",
            " |      Scalar method identical to the corresponding array attribute.\n",
            " |      \n",
            " |      Please see `ndarray.any`.\n",
            " |  \n",
            " |  argmax(...)\n",
            " |      Scalar method identical to the corresponding array attribute.\n",
            " |      \n",
            " |      Please see `ndarray.argmax`.\n",
            " |  \n",
            " |  argmin(...)\n",
            " |      Scalar method identical to the corresponding array attribute.\n",
            " |      \n",
            " |      Please see `ndarray.argmin`.\n",
            " |  \n",
            " |  argsort(...)\n",
            " |      Scalar method identical to the corresponding array attribute.\n",
            " |      \n",
            " |      Please see `ndarray.argsort`.\n",
            " |  \n",
            " |  astype(...)\n",
            " |      Scalar method identical to the corresponding array attribute.\n",
            " |      \n",
            " |      Please see `ndarray.astype`.\n",
            " |  \n",
            " |  byteswap(...)\n",
            " |      Scalar method identical to the corresponding array attribute.\n",
            " |      \n",
            " |      Please see `ndarray.byteswap`.\n",
            " |  \n",
            " |  choose(...)\n",
            " |      Scalar method identical to the corresponding array attribute.\n",
            " |      \n",
            " |      Please see `ndarray.choose`.\n",
            " |  \n",
            " |  clip(...)\n",
            " |      Scalar method identical to the corresponding array attribute.\n",
            " |      \n",
            " |      Please see `ndarray.clip`.\n",
            " |  \n",
            " |  compress(...)\n",
            " |      Scalar method identical to the corresponding array attribute.\n",
            " |      \n",
            " |      Please see `ndarray.compress`.\n",
            " |  \n",
            " |  conj(...)\n",
            " |  \n",
            " |  conjugate(...)\n",
            " |      Scalar method identical to the corresponding array attribute.\n",
            " |      \n",
            " |      Please see `ndarray.conjugate`.\n",
            " |  \n",
            " |  copy(...)\n",
            " |      Scalar method identical to the corresponding array attribute.\n",
            " |      \n",
            " |      Please see `ndarray.copy`.\n",
            " |  \n",
            " |  cumprod(...)\n",
            " |      Scalar method identical to the corresponding array attribute.\n",
            " |      \n",
            " |      Please see `ndarray.cumprod`.\n",
            " |  \n",
            " |  cumsum(...)\n",
            " |      Scalar method identical to the corresponding array attribute.\n",
            " |      \n",
            " |      Please see `ndarray.cumsum`.\n",
            " |  \n",
            " |  diagonal(...)\n",
            " |      Scalar method identical to the corresponding array attribute.\n",
            " |      \n",
            " |      Please see `ndarray.diagonal`.\n",
            " |  \n",
            " |  dump(...)\n",
            " |      Scalar method identical to the corresponding array attribute.\n",
            " |      \n",
            " |      Please see `ndarray.dump`.\n",
            " |  \n",
            " |  dumps(...)\n",
            " |      Scalar method identical to the corresponding array attribute.\n",
            " |      \n",
            " |      Please see `ndarray.dumps`.\n",
            " |  \n",
            " |  fill(...)\n",
            " |      Scalar method identical to the corresponding array attribute.\n",
            " |      \n",
            " |      Please see `ndarray.fill`.\n",
            " |  \n",
            " |  flatten(...)\n",
            " |      Scalar method identical to the corresponding array attribute.\n",
            " |      \n",
            " |      Please see `ndarray.flatten`.\n",
            " |  \n",
            " |  getfield(...)\n",
            " |      Scalar method identical to the corresponding array attribute.\n",
            " |      \n",
            " |      Please see `ndarray.getfield`.\n",
            " |  \n",
            " |  item(...)\n",
            " |      Scalar method identical to the corresponding array attribute.\n",
            " |      \n",
            " |      Please see `ndarray.item`.\n",
            " |  \n",
            " |  itemset(...)\n",
            " |      Scalar method identical to the corresponding array attribute.\n",
            " |      \n",
            " |      Please see `ndarray.itemset`.\n",
            " |  \n",
            " |  max(...)\n",
            " |      Scalar method identical to the corresponding array attribute.\n",
            " |      \n",
            " |      Please see `ndarray.max`.\n",
            " |  \n",
            " |  mean(...)\n",
            " |      Scalar method identical to the corresponding array attribute.\n",
            " |      \n",
            " |      Please see `ndarray.mean`.\n",
            " |  \n",
            " |  min(...)\n",
            " |      Scalar method identical to the corresponding array attribute.\n",
            " |      \n",
            " |      Please see `ndarray.min`.\n",
            " |  \n",
            " |  newbyteorder(...)\n",
            " |      newbyteorder(new_order='S', /)\n",
            " |      \n",
            " |      Return a new `dtype` with a different byte order.\n",
            " |      \n",
            " |      Changes are also made in all fields and sub-arrays of the data type.\n",
            " |      \n",
            " |      The `new_order` code can be any from the following:\n",
            " |      \n",
            " |      * 'S' - swap dtype from current to opposite endian\n",
            " |      * {'<', 'little'} - little endian\n",
            " |      * {'>', 'big'} - big endian\n",
            " |      * '=' - native order\n",
            " |      * {'|', 'I'} - ignore (no change to byte order)\n",
            " |      \n",
            " |      Parameters\n",
            " |      ----------\n",
            " |      new_order : str, optional\n",
            " |          Byte order to force; a value from the byte order specifications\n",
            " |          above.  The default value ('S') results in swapping the current\n",
            " |          byte order.\n",
            " |      \n",
            " |      \n",
            " |      Returns\n",
            " |      -------\n",
            " |      new_dtype : dtype\n",
            " |          New `dtype` object with the given change to the byte order.\n",
            " |  \n",
            " |  nonzero(...)\n",
            " |      Scalar method identical to the corresponding array attribute.\n",
            " |      \n",
            " |      Please see `ndarray.nonzero`.\n",
            " |  \n",
            " |  prod(...)\n",
            " |      Scalar method identical to the corresponding array attribute.\n",
            " |      \n",
            " |      Please see `ndarray.prod`.\n",
            " |  \n",
            " |  ptp(...)\n",
            " |      Scalar method identical to the corresponding array attribute.\n",
            " |      \n",
            " |      Please see `ndarray.ptp`.\n",
            " |  \n",
            " |  put(...)\n",
            " |      Scalar method identical to the corresponding array attribute.\n",
            " |      \n",
            " |      Please see `ndarray.put`.\n",
            " |  \n",
            " |  ravel(...)\n",
            " |      Scalar method identical to the corresponding array attribute.\n",
            " |      \n",
            " |      Please see `ndarray.ravel`.\n",
            " |  \n",
            " |  repeat(...)\n",
            " |      Scalar method identical to the corresponding array attribute.\n",
            " |      \n",
            " |      Please see `ndarray.repeat`.\n",
            " |  \n",
            " |  reshape(...)\n",
            " |      Scalar method identical to the corresponding array attribute.\n",
            " |      \n",
            " |      Please see `ndarray.reshape`.\n",
            " |  \n",
            " |  resize(...)\n",
            " |      Scalar method identical to the corresponding array attribute.\n",
            " |      \n",
            " |      Please see `ndarray.resize`.\n",
            " |  \n",
            " |  round(...)\n",
            " |      Scalar method identical to the corresponding array attribute.\n",
            " |      \n",
            " |      Please see `ndarray.round`.\n",
            " |  \n",
            " |  searchsorted(...)\n",
            " |      Scalar method identical to the corresponding array attribute.\n",
            " |      \n",
            " |      Please see `ndarray.searchsorted`.\n",
            " |  \n",
            " |  setfield(...)\n",
            " |      Scalar method identical to the corresponding array attribute.\n",
            " |      \n",
            " |      Please see `ndarray.setfield`.\n",
            " |  \n",
            " |  setflags(...)\n",
            " |      Scalar method identical to the corresponding array attribute.\n",
            " |      \n",
            " |      Please see `ndarray.setflags`.\n",
            " |  \n",
            " |  sort(...)\n",
            " |      Scalar method identical to the corresponding array attribute.\n",
            " |      \n",
            " |      Please see `ndarray.sort`.\n",
            " |  \n",
            " |  squeeze(...)\n",
            " |      Scalar method identical to the corresponding array attribute.\n",
            " |      \n",
            " |      Please see `ndarray.squeeze`.\n",
            " |  \n",
            " |  std(...)\n",
            " |      Scalar method identical to the corresponding array attribute.\n",
            " |      \n",
            " |      Please see `ndarray.std`.\n",
            " |  \n",
            " |  sum(...)\n",
            " |      Scalar method identical to the corresponding array attribute.\n",
            " |      \n",
            " |      Please see `ndarray.sum`.\n",
            " |  \n",
            " |  swapaxes(...)\n",
            " |      Scalar method identical to the corresponding array attribute.\n",
            " |      \n",
            " |      Please see `ndarray.swapaxes`.\n",
            " |  \n",
            " |  take(...)\n",
            " |      Scalar method identical to the corresponding array attribute.\n",
            " |      \n",
            " |      Please see `ndarray.take`.\n",
            " |  \n",
            " |  tobytes(...)\n",
            " |  \n",
            " |  tofile(...)\n",
            " |      Scalar method identical to the corresponding array attribute.\n",
            " |      \n",
            " |      Please see `ndarray.tofile`.\n",
            " |  \n",
            " |  tolist(...)\n",
            " |      Scalar method identical to the corresponding array attribute.\n",
            " |      \n",
            " |      Please see `ndarray.tolist`.\n",
            " |  \n",
            " |  tostring(...)\n",
            " |      Scalar method identical to the corresponding array attribute.\n",
            " |      \n",
            " |      Please see `ndarray.tostring`.\n",
            " |  \n",
            " |  trace(...)\n",
            " |      Scalar method identical to the corresponding array attribute.\n",
            " |      \n",
            " |      Please see `ndarray.trace`.\n",
            " |  \n",
            " |  transpose(...)\n",
            " |      Scalar method identical to the corresponding array attribute.\n",
            " |      \n",
            " |      Please see `ndarray.transpose`.\n",
            " |  \n",
            " |  var(...)\n",
            " |      Scalar method identical to the corresponding array attribute.\n",
            " |      \n",
            " |      Please see `ndarray.var`.\n",
            " |  \n",
            " |  view(...)\n",
            " |      Scalar method identical to the corresponding array attribute.\n",
            " |      \n",
            " |      Please see `ndarray.view`.\n",
            " |  \n",
            " |  ----------------------------------------------------------------------\n",
            " |  Data descriptors inherited from generic:\n",
            " |  \n",
            " |  T\n",
            " |      Scalar attribute identical to the corresponding array attribute.\n",
            " |      \n",
            " |      Please see `ndarray.T`.\n",
            " |  \n",
            " |  __array_interface__\n",
            " |      Array protocol: Python side\n",
            " |  \n",
            " |  __array_priority__\n",
            " |      Array priority.\n",
            " |  \n",
            " |  __array_struct__\n",
            " |      Array protocol: struct\n",
            " |  \n",
            " |  base\n",
            " |      Scalar attribute identical to the corresponding array attribute.\n",
            " |      \n",
            " |      Please see `ndarray.base`.\n",
            " |  \n",
            " |  data\n",
            " |      Pointer to start of data.\n",
            " |  \n",
            " |  dtype\n",
            " |      Get array data-descriptor.\n",
            " |  \n",
            " |  flags\n",
            " |      The integer value of flags.\n",
            " |  \n",
            " |  flat\n",
            " |      A 1-D view of the scalar.\n",
            " |  \n",
            " |  imag\n",
            " |      The imaginary part of the scalar.\n",
            " |  \n",
            " |  itemsize\n",
            " |      The length of one element in bytes.\n",
            " |  \n",
            " |  nbytes\n",
            " |      The length of the scalar in bytes.\n",
            " |  \n",
            " |  ndim\n",
            " |      The number of array dimensions.\n",
            " |  \n",
            " |  real\n",
            " |      The real part of the scalar.\n",
            " |  \n",
            " |  shape\n",
            " |      Tuple of array dimensions.\n",
            " |  \n",
            " |  size\n",
            " |      The number of elements in the gentype.\n",
            " |  \n",
            " |  strides\n",
            " |      Tuple of bytes steps in each dimension.\n",
            "\n"
          ]
        }
      ],
      "source": [
        "help(np.int8)"
      ]
    },
    {
      "cell_type": "code",
      "execution_count": null,
      "id": "9569ef1f",
      "metadata": {
        "id": "9569ef1f",
        "outputId": "57bf1e3d-b0f8-457f-85dc-e8e4886bb626"
      },
      "outputs": [
        {
          "name": "stdout",
          "output_type": "stream",
          "text": [
            "Help on class int16 in module numpy:\n",
            "\n",
            "class int16(signedinteger)\n",
            " |  Signed integer type, compatible with C ``short``.\n",
            " |  \n",
            " |  :Character code: ``'h'``\n",
            " |  :Canonical name: `numpy.short`\n",
            " |  :Alias on this platform: `numpy.int16`: 16-bit signed integer (``-32_768`` to ``32_767``).\n",
            " |  \n",
            " |  Method resolution order:\n",
            " |      int16\n",
            " |      signedinteger\n",
            " |      integer\n",
            " |      number\n",
            " |      generic\n",
            " |      builtins.object\n",
            " |  \n",
            " |  Methods defined here:\n",
            " |  \n",
            " |  __abs__(self, /)\n",
            " |      abs(self)\n",
            " |  \n",
            " |  __add__(self, value, /)\n",
            " |      Return self+value.\n",
            " |  \n",
            " |  __and__(self, value, /)\n",
            " |      Return self&value.\n",
            " |  \n",
            " |  __bool__(self, /)\n",
            " |      self != 0\n",
            " |  \n",
            " |  __divmod__(self, value, /)\n",
            " |      Return divmod(self, value).\n",
            " |  \n",
            " |  __eq__(self, value, /)\n",
            " |      Return self==value.\n",
            " |  \n",
            " |  __float__(self, /)\n",
            " |      float(self)\n",
            " |  \n",
            " |  __floordiv__(self, value, /)\n",
            " |      Return self//value.\n",
            " |  \n",
            " |  __ge__(self, value, /)\n",
            " |      Return self>=value.\n",
            " |  \n",
            " |  __gt__(self, value, /)\n",
            " |      Return self>value.\n",
            " |  \n",
            " |  __hash__(self, /)\n",
            " |      Return hash(self).\n",
            " |  \n",
            " |  __index__(self, /)\n",
            " |      Return self converted to an integer, if self is suitable for use as an index into a list.\n",
            " |  \n",
            " |  __int__(self, /)\n",
            " |      int(self)\n",
            " |  \n",
            " |  __invert__(self, /)\n",
            " |      ~self\n",
            " |  \n",
            " |  __le__(self, value, /)\n",
            " |      Return self<=value.\n",
            " |  \n",
            " |  __lshift__(self, value, /)\n",
            " |      Return self<<value.\n",
            " |  \n",
            " |  __lt__(self, value, /)\n",
            " |      Return self<value.\n",
            " |  \n",
            " |  __mod__(self, value, /)\n",
            " |      Return self%value.\n",
            " |  \n",
            " |  __mul__(self, value, /)\n",
            " |      Return self*value.\n",
            " |  \n",
            " |  __ne__(self, value, /)\n",
            " |      Return self!=value.\n",
            " |  \n",
            " |  __neg__(self, /)\n",
            " |      -self\n",
            " |  \n",
            " |  __or__(self, value, /)\n",
            " |      Return self|value.\n",
            " |  \n",
            " |  __pos__(self, /)\n",
            " |      +self\n",
            " |  \n",
            " |  __pow__(self, value, mod=None, /)\n",
            " |      Return pow(self, value, mod).\n",
            " |  \n",
            " |  __radd__(self, value, /)\n",
            " |      Return value+self.\n",
            " |  \n",
            " |  __rand__(self, value, /)\n",
            " |      Return value&self.\n",
            " |  \n",
            " |  __rdivmod__(self, value, /)\n",
            " |      Return divmod(value, self).\n",
            " |  \n",
            " |  __repr__(self, /)\n",
            " |      Return repr(self).\n",
            " |  \n",
            " |  __rfloordiv__(self, value, /)\n",
            " |      Return value//self.\n",
            " |  \n",
            " |  __rlshift__(self, value, /)\n",
            " |      Return value<<self.\n",
            " |  \n",
            " |  __rmod__(self, value, /)\n",
            " |      Return value%self.\n",
            " |  \n",
            " |  __rmul__(self, value, /)\n",
            " |      Return value*self.\n",
            " |  \n",
            " |  __ror__(self, value, /)\n",
            " |      Return value|self.\n",
            " |  \n",
            " |  __rpow__(self, value, mod=None, /)\n",
            " |      Return pow(value, self, mod).\n",
            " |  \n",
            " |  __rrshift__(self, value, /)\n",
            " |      Return value>>self.\n",
            " |  \n",
            " |  __rshift__(self, value, /)\n",
            " |      Return self>>value.\n",
            " |  \n",
            " |  __rsub__(self, value, /)\n",
            " |      Return value-self.\n",
            " |  \n",
            " |  __rtruediv__(self, value, /)\n",
            " |      Return value/self.\n",
            " |  \n",
            " |  __rxor__(self, value, /)\n",
            " |      Return value^self.\n",
            " |  \n",
            " |  __str__(self, /)\n",
            " |      Return str(self).\n",
            " |  \n",
            " |  __sub__(self, value, /)\n",
            " |      Return self-value.\n",
            " |  \n",
            " |  __truediv__(self, value, /)\n",
            " |      Return self/value.\n",
            " |  \n",
            " |  __xor__(self, value, /)\n",
            " |      Return self^value.\n",
            " |  \n",
            " |  ----------------------------------------------------------------------\n",
            " |  Static methods defined here:\n",
            " |  \n",
            " |  __new__(*args, **kwargs) from builtins.type\n",
            " |      Create and return a new object.  See help(type) for accurate signature.\n",
            " |  \n",
            " |  ----------------------------------------------------------------------\n",
            " |  Methods inherited from integer:\n",
            " |  \n",
            " |  __round__(...)\n",
            " |  \n",
            " |  ----------------------------------------------------------------------\n",
            " |  Data descriptors inherited from integer:\n",
            " |  \n",
            " |  denominator\n",
            " |      denominator of value (1)\n",
            " |  \n",
            " |  numerator\n",
            " |      numerator of value (the value itself)\n",
            " |  \n",
            " |  ----------------------------------------------------------------------\n",
            " |  Methods inherited from generic:\n",
            " |  \n",
            " |  __array__(...)\n",
            " |      sc.__array__(dtype) return 0-dim array from scalar with specified dtype\n",
            " |  \n",
            " |  __array_wrap__(...)\n",
            " |      sc.__array_wrap__(obj) return scalar from array\n",
            " |  \n",
            " |  __copy__(...)\n",
            " |  \n",
            " |  __deepcopy__(...)\n",
            " |  \n",
            " |  __format__(...)\n",
            " |      NumPy array scalar formatter\n",
            " |  \n",
            " |  __getitem__(self, key, /)\n",
            " |      Return self[key].\n",
            " |  \n",
            " |  __reduce__(...)\n",
            " |      Helper for pickle.\n",
            " |  \n",
            " |  __setstate__(...)\n",
            " |  \n",
            " |  __sizeof__(...)\n",
            " |      Size of object in memory, in bytes.\n",
            " |  \n",
            " |  all(...)\n",
            " |      Scalar method identical to the corresponding array attribute.\n",
            " |      \n",
            " |      Please see `ndarray.all`.\n",
            " |  \n",
            " |  any(...)\n",
            " |      Scalar method identical to the corresponding array attribute.\n",
            " |      \n",
            " |      Please see `ndarray.any`.\n",
            " |  \n",
            " |  argmax(...)\n",
            " |      Scalar method identical to the corresponding array attribute.\n",
            " |      \n",
            " |      Please see `ndarray.argmax`.\n",
            " |  \n",
            " |  argmin(...)\n",
            " |      Scalar method identical to the corresponding array attribute.\n",
            " |      \n",
            " |      Please see `ndarray.argmin`.\n",
            " |  \n",
            " |  argsort(...)\n",
            " |      Scalar method identical to the corresponding array attribute.\n",
            " |      \n",
            " |      Please see `ndarray.argsort`.\n",
            " |  \n",
            " |  astype(...)\n",
            " |      Scalar method identical to the corresponding array attribute.\n",
            " |      \n",
            " |      Please see `ndarray.astype`.\n",
            " |  \n",
            " |  byteswap(...)\n",
            " |      Scalar method identical to the corresponding array attribute.\n",
            " |      \n",
            " |      Please see `ndarray.byteswap`.\n",
            " |  \n",
            " |  choose(...)\n",
            " |      Scalar method identical to the corresponding array attribute.\n",
            " |      \n",
            " |      Please see `ndarray.choose`.\n",
            " |  \n",
            " |  clip(...)\n",
            " |      Scalar method identical to the corresponding array attribute.\n",
            " |      \n",
            " |      Please see `ndarray.clip`.\n",
            " |  \n",
            " |  compress(...)\n",
            " |      Scalar method identical to the corresponding array attribute.\n",
            " |      \n",
            " |      Please see `ndarray.compress`.\n",
            " |  \n",
            " |  conj(...)\n",
            " |  \n",
            " |  conjugate(...)\n",
            " |      Scalar method identical to the corresponding array attribute.\n",
            " |      \n",
            " |      Please see `ndarray.conjugate`.\n",
            " |  \n",
            " |  copy(...)\n",
            " |      Scalar method identical to the corresponding array attribute.\n",
            " |      \n",
            " |      Please see `ndarray.copy`.\n",
            " |  \n",
            " |  cumprod(...)\n",
            " |      Scalar method identical to the corresponding array attribute.\n",
            " |      \n",
            " |      Please see `ndarray.cumprod`.\n",
            " |  \n",
            " |  cumsum(...)\n",
            " |      Scalar method identical to the corresponding array attribute.\n",
            " |      \n",
            " |      Please see `ndarray.cumsum`.\n",
            " |  \n",
            " |  diagonal(...)\n",
            " |      Scalar method identical to the corresponding array attribute.\n",
            " |      \n",
            " |      Please see `ndarray.diagonal`.\n",
            " |  \n",
            " |  dump(...)\n",
            " |      Scalar method identical to the corresponding array attribute.\n",
            " |      \n",
            " |      Please see `ndarray.dump`.\n",
            " |  \n",
            " |  dumps(...)\n",
            " |      Scalar method identical to the corresponding array attribute.\n",
            " |      \n",
            " |      Please see `ndarray.dumps`.\n",
            " |  \n",
            " |  fill(...)\n",
            " |      Scalar method identical to the corresponding array attribute.\n",
            " |      \n",
            " |      Please see `ndarray.fill`.\n",
            " |  \n",
            " |  flatten(...)\n",
            " |      Scalar method identical to the corresponding array attribute.\n",
            " |      \n",
            " |      Please see `ndarray.flatten`.\n",
            " |  \n",
            " |  getfield(...)\n",
            " |      Scalar method identical to the corresponding array attribute.\n",
            " |      \n",
            " |      Please see `ndarray.getfield`.\n",
            " |  \n",
            " |  item(...)\n",
            " |      Scalar method identical to the corresponding array attribute.\n",
            " |      \n",
            " |      Please see `ndarray.item`.\n",
            " |  \n",
            " |  itemset(...)\n",
            " |      Scalar method identical to the corresponding array attribute.\n",
            " |      \n",
            " |      Please see `ndarray.itemset`.\n",
            " |  \n",
            " |  max(...)\n",
            " |      Scalar method identical to the corresponding array attribute.\n",
            " |      \n",
            " |      Please see `ndarray.max`.\n",
            " |  \n",
            " |  mean(...)\n",
            " |      Scalar method identical to the corresponding array attribute.\n",
            " |      \n",
            " |      Please see `ndarray.mean`.\n",
            " |  \n",
            " |  min(...)\n",
            " |      Scalar method identical to the corresponding array attribute.\n",
            " |      \n",
            " |      Please see `ndarray.min`.\n",
            " |  \n",
            " |  newbyteorder(...)\n",
            " |      newbyteorder(new_order='S', /)\n",
            " |      \n",
            " |      Return a new `dtype` with a different byte order.\n",
            " |      \n",
            " |      Changes are also made in all fields and sub-arrays of the data type.\n",
            " |      \n",
            " |      The `new_order` code can be any from the following:\n",
            " |      \n",
            " |      * 'S' - swap dtype from current to opposite endian\n",
            " |      * {'<', 'little'} - little endian\n",
            " |      * {'>', 'big'} - big endian\n",
            " |      * '=' - native order\n",
            " |      * {'|', 'I'} - ignore (no change to byte order)\n",
            " |      \n",
            " |      Parameters\n",
            " |      ----------\n",
            " |      new_order : str, optional\n",
            " |          Byte order to force; a value from the byte order specifications\n",
            " |          above.  The default value ('S') results in swapping the current\n",
            " |          byte order.\n",
            " |      \n",
            " |      \n",
            " |      Returns\n",
            " |      -------\n",
            " |      new_dtype : dtype\n",
            " |          New `dtype` object with the given change to the byte order.\n",
            " |  \n",
            " |  nonzero(...)\n",
            " |      Scalar method identical to the corresponding array attribute.\n",
            " |      \n",
            " |      Please see `ndarray.nonzero`.\n",
            " |  \n",
            " |  prod(...)\n",
            " |      Scalar method identical to the corresponding array attribute.\n",
            " |      \n",
            " |      Please see `ndarray.prod`.\n",
            " |  \n",
            " |  ptp(...)\n",
            " |      Scalar method identical to the corresponding array attribute.\n",
            " |      \n",
            " |      Please see `ndarray.ptp`.\n",
            " |  \n",
            " |  put(...)\n",
            " |      Scalar method identical to the corresponding array attribute.\n",
            " |      \n",
            " |      Please see `ndarray.put`.\n",
            " |  \n",
            " |  ravel(...)\n",
            " |      Scalar method identical to the corresponding array attribute.\n",
            " |      \n",
            " |      Please see `ndarray.ravel`.\n",
            " |  \n",
            " |  repeat(...)\n",
            " |      Scalar method identical to the corresponding array attribute.\n",
            " |      \n",
            " |      Please see `ndarray.repeat`.\n",
            " |  \n",
            " |  reshape(...)\n",
            " |      Scalar method identical to the corresponding array attribute.\n",
            " |      \n",
            " |      Please see `ndarray.reshape`.\n",
            " |  \n",
            " |  resize(...)\n",
            " |      Scalar method identical to the corresponding array attribute.\n",
            " |      \n",
            " |      Please see `ndarray.resize`.\n",
            " |  \n",
            " |  round(...)\n",
            " |      Scalar method identical to the corresponding array attribute.\n",
            " |      \n",
            " |      Please see `ndarray.round`.\n",
            " |  \n",
            " |  searchsorted(...)\n",
            " |      Scalar method identical to the corresponding array attribute.\n",
            " |      \n",
            " |      Please see `ndarray.searchsorted`.\n",
            " |  \n",
            " |  setfield(...)\n",
            " |      Scalar method identical to the corresponding array attribute.\n",
            " |      \n",
            " |      Please see `ndarray.setfield`.\n",
            " |  \n",
            " |  setflags(...)\n",
            " |      Scalar method identical to the corresponding array attribute.\n",
            " |      \n",
            " |      Please see `ndarray.setflags`.\n",
            " |  \n",
            " |  sort(...)\n",
            " |      Scalar method identical to the corresponding array attribute.\n",
            " |      \n",
            " |      Please see `ndarray.sort`.\n",
            " |  \n",
            " |  squeeze(...)\n",
            " |      Scalar method identical to the corresponding array attribute.\n",
            " |      \n",
            " |      Please see `ndarray.squeeze`.\n",
            " |  \n",
            " |  std(...)\n",
            " |      Scalar method identical to the corresponding array attribute.\n",
            " |      \n",
            " |      Please see `ndarray.std`.\n",
            " |  \n",
            " |  sum(...)\n",
            " |      Scalar method identical to the corresponding array attribute.\n",
            " |      \n",
            " |      Please see `ndarray.sum`.\n",
            " |  \n",
            " |  swapaxes(...)\n",
            " |      Scalar method identical to the corresponding array attribute.\n",
            " |      \n",
            " |      Please see `ndarray.swapaxes`.\n",
            " |  \n",
            " |  take(...)\n",
            " |      Scalar method identical to the corresponding array attribute.\n",
            " |      \n",
            " |      Please see `ndarray.take`.\n",
            " |  \n",
            " |  tobytes(...)\n",
            " |  \n",
            " |  tofile(...)\n",
            " |      Scalar method identical to the corresponding array attribute.\n",
            " |      \n",
            " |      Please see `ndarray.tofile`.\n",
            " |  \n",
            " |  tolist(...)\n",
            " |      Scalar method identical to the corresponding array attribute.\n",
            " |      \n",
            " |      Please see `ndarray.tolist`.\n",
            " |  \n",
            " |  tostring(...)\n",
            " |      Scalar method identical to the corresponding array attribute.\n",
            " |      \n",
            " |      Please see `ndarray.tostring`.\n",
            " |  \n",
            " |  trace(...)\n",
            " |      Scalar method identical to the corresponding array attribute.\n",
            " |      \n",
            " |      Please see `ndarray.trace`.\n",
            " |  \n",
            " |  transpose(...)\n",
            " |      Scalar method identical to the corresponding array attribute.\n",
            " |      \n",
            " |      Please see `ndarray.transpose`.\n",
            " |  \n",
            " |  var(...)\n",
            " |      Scalar method identical to the corresponding array attribute.\n",
            " |      \n",
            " |      Please see `ndarray.var`.\n",
            " |  \n",
            " |  view(...)\n",
            " |      Scalar method identical to the corresponding array attribute.\n",
            " |      \n",
            " |      Please see `ndarray.view`.\n",
            " |  \n",
            " |  ----------------------------------------------------------------------\n",
            " |  Data descriptors inherited from generic:\n",
            " |  \n",
            " |  T\n",
            " |      Scalar attribute identical to the corresponding array attribute.\n",
            " |      \n",
            " |      Please see `ndarray.T`.\n",
            " |  \n",
            " |  __array_interface__\n",
            " |      Array protocol: Python side\n",
            " |  \n",
            " |  __array_priority__\n",
            " |      Array priority.\n",
            " |  \n",
            " |  __array_struct__\n",
            " |      Array protocol: struct\n",
            " |  \n",
            " |  base\n",
            " |      Scalar attribute identical to the corresponding array attribute.\n",
            " |      \n",
            " |      Please see `ndarray.base`.\n",
            " |  \n",
            " |  data\n",
            " |      Pointer to start of data.\n",
            " |  \n",
            " |  dtype\n",
            " |      Get array data-descriptor.\n",
            " |  \n",
            " |  flags\n",
            " |      The integer value of flags.\n",
            " |  \n",
            " |  flat\n",
            " |      A 1-D view of the scalar.\n",
            " |  \n",
            " |  imag\n",
            " |      The imaginary part of the scalar.\n",
            " |  \n",
            " |  itemsize\n",
            " |      The length of one element in bytes.\n",
            " |  \n",
            " |  nbytes\n",
            " |      The length of the scalar in bytes.\n",
            " |  \n",
            " |  ndim\n",
            " |      The number of array dimensions.\n",
            " |  \n",
            " |  real\n",
            " |      The real part of the scalar.\n",
            " |  \n",
            " |  shape\n",
            " |      Tuple of array dimensions.\n",
            " |  \n",
            " |  size\n",
            " |      The number of elements in the gentype.\n",
            " |  \n",
            " |  strides\n",
            " |      Tuple of bytes steps in each dimension.\n",
            "\n"
          ]
        }
      ],
      "source": [
        "help(np.int16)"
      ]
    },
    {
      "cell_type": "code",
      "execution_count": 22,
      "id": "3ee8ae9a",
      "metadata": {
        "id": "3ee8ae9a",
        "outputId": "490e82c4-5b9c-4923-d1ea-d790a4a9d96c",
        "colab": {
          "base_uri": "https://localhost:8080/"
        }
      },
      "outputs": [
        {
          "output_type": "execute_result",
          "data": {
            "text/plain": [
              "array([1, 2, 3, 4])"
            ]
          },
          "metadata": {},
          "execution_count": 22
        }
      ],
      "source": [
        "arr1"
      ]
    },
    {
      "cell_type": "code",
      "execution_count": 23,
      "id": "3b56433f",
      "metadata": {
        "id": "3b56433f",
        "outputId": "3c7acdfd-a0ee-4b3c-e5e2-404d6cd71765",
        "colab": {
          "base_uri": "https://localhost:8080/"
        }
      },
      "outputs": [
        {
          "output_type": "execute_result",
          "data": {
            "text/plain": [
              "4"
            ]
          },
          "metadata": {},
          "execution_count": 23
        }
      ],
      "source": [
        "arr1.size  # Counts all the elements"
      ]
    },
    {
      "cell_type": "code",
      "execution_count": 24,
      "id": "a3cc7c85",
      "metadata": {
        "id": "a3cc7c85",
        "outputId": "10ecb7c2-9f7f-46ed-ddb1-ca2b960978d2",
        "colab": {
          "base_uri": "https://localhost:8080/"
        }
      },
      "outputs": [
        {
          "output_type": "execute_result",
          "data": {
            "text/plain": [
              "4"
            ]
          },
          "metadata": {},
          "execution_count": 24
        }
      ],
      "source": [
        "len(arr1)"
      ]
    },
    {
      "cell_type": "code",
      "execution_count": 25,
      "id": "4a1d2be5",
      "metadata": {
        "id": "4a1d2be5"
      },
      "outputs": [],
      "source": [
        "l2 = [[1,2,3], [4,5,6]]  # 2 cross 3 array"
      ]
    },
    {
      "cell_type": "code",
      "execution_count": 26,
      "id": "4d93c1d8",
      "metadata": {
        "id": "4d93c1d8"
      },
      "outputs": [],
      "source": [
        "arr2 = np.array(l2)"
      ]
    },
    {
      "cell_type": "code",
      "execution_count": 27,
      "id": "ae802af1",
      "metadata": {
        "id": "ae802af1",
        "outputId": "1aa27f5b-d28a-468c-d45b-ef9365cda61a",
        "colab": {
          "base_uri": "https://localhost:8080/"
        }
      },
      "outputs": [
        {
          "output_type": "execute_result",
          "data": {
            "text/plain": [
              "array([[1, 2, 3],\n",
              "       [4, 5, 6]])"
            ]
          },
          "metadata": {},
          "execution_count": 27
        }
      ],
      "source": [
        "arr2"
      ]
    },
    {
      "cell_type": "code",
      "execution_count": 28,
      "id": "4cf83daf",
      "metadata": {
        "id": "4cf83daf",
        "outputId": "36ae51bb-d27b-495d-9d84-1a610083dead",
        "colab": {
          "base_uri": "https://localhost:8080/"
        }
      },
      "outputs": [
        {
          "output_type": "stream",
          "name": "stdout",
          "text": [
            "[[1 2 3]\n",
            " [4 5 6]]\n"
          ]
        }
      ],
      "source": [
        "print(arr2)"
      ]
    },
    {
      "cell_type": "code",
      "execution_count": 29,
      "id": "68c08832",
      "metadata": {
        "id": "68c08832",
        "outputId": "639f52a3-4ab0-4112-c22d-a2bec7eb34e6",
        "colab": {
          "base_uri": "https://localhost:8080/"
        }
      },
      "outputs": [
        {
          "output_type": "execute_result",
          "data": {
            "text/plain": [
              "numpy.ndarray"
            ]
          },
          "metadata": {},
          "execution_count": 29
        }
      ],
      "source": [
        "type(arr2)"
      ]
    },
    {
      "cell_type": "code",
      "execution_count": 30,
      "id": "9ebf7a81",
      "metadata": {
        "id": "9ebf7a81",
        "outputId": "ef4c075c-b3f3-4973-86c0-3afb7430e4de",
        "colab": {
          "base_uri": "https://localhost:8080/"
        }
      },
      "outputs": [
        {
          "output_type": "execute_result",
          "data": {
            "text/plain": [
              "2"
            ]
          },
          "metadata": {},
          "execution_count": 30
        }
      ],
      "source": [
        "arr2.ndim # Total count of arrays"
      ]
    },
    {
      "cell_type": "code",
      "execution_count": 31,
      "id": "424c3607",
      "metadata": {
        "id": "424c3607",
        "outputId": "2db46276-3a81-4b68-cfc2-1d1d140848e5",
        "colab": {
          "base_uri": "https://localhost:8080/"
        }
      },
      "outputs": [
        {
          "output_type": "execute_result",
          "data": {
            "text/plain": [
              "dtype('int64')"
            ]
          },
          "metadata": {},
          "execution_count": 31
        }
      ],
      "source": [
        "arr2.dtype"
      ]
    },
    {
      "cell_type": "code",
      "execution_count": 32,
      "id": "31d80365",
      "metadata": {
        "id": "31d80365",
        "outputId": "cf9081cc-8b4e-48ef-f60f-3ea631f2b03f",
        "colab": {
          "base_uri": "https://localhost:8080/"
        }
      },
      "outputs": [
        {
          "output_type": "execute_result",
          "data": {
            "text/plain": [
              "6"
            ]
          },
          "metadata": {},
          "execution_count": 32
        }
      ],
      "source": [
        "arr2.size  # Total count of elements"
      ]
    },
    {
      "cell_type": "code",
      "execution_count": 33,
      "id": "3cc759a7",
      "metadata": {
        "id": "3cc759a7",
        "outputId": "9c926fec-a62b-40b2-feab-7e76b330d06b",
        "colab": {
          "base_uri": "https://localhost:8080/"
        }
      },
      "outputs": [
        {
          "output_type": "execute_result",
          "data": {
            "text/plain": [
              "array([[1, 2, 3],\n",
              "       [4, 5, 6]])"
            ]
          },
          "metadata": {},
          "execution_count": 33
        }
      ],
      "source": [
        "arr2"
      ]
    },
    {
      "cell_type": "code",
      "execution_count": 34,
      "id": "d5be0614",
      "metadata": {
        "id": "d5be0614",
        "outputId": "98f7e31b-b025-4a2d-e30e-dfed33cc3c0a",
        "colab": {
          "base_uri": "https://localhost:8080/"
        }
      },
      "outputs": [
        {
          "output_type": "execute_result",
          "data": {
            "text/plain": [
              "2"
            ]
          },
          "metadata": {},
          "execution_count": 34
        }
      ],
      "source": [
        "len(arr2)"
      ]
    },
    {
      "cell_type": "code",
      "execution_count": 35,
      "id": "188f301d",
      "metadata": {
        "id": "188f301d",
        "outputId": "2072990a-1a8f-470a-fa83-4625633dbf24",
        "colab": {
          "base_uri": "https://localhost:8080/"
        }
      },
      "outputs": [
        {
          "output_type": "execute_result",
          "data": {
            "text/plain": [
              "(2, 3)"
            ]
          },
          "metadata": {},
          "execution_count": 35
        }
      ],
      "source": [
        "arr2.shape   # It shows similar to 2 cross 3 array"
      ]
    },
    {
      "cell_type": "code",
      "execution_count": 36,
      "id": "f7299c49",
      "metadata": {
        "id": "f7299c49",
        "outputId": "c83f13fd-6258-4b52-a9af-308b7c20572f",
        "colab": {
          "base_uri": "https://localhost:8080/"
        }
      },
      "outputs": [
        {
          "output_type": "execute_result",
          "data": {
            "text/plain": [
              "array([1, 2, 3, 4])"
            ]
          },
          "metadata": {},
          "execution_count": 36
        }
      ],
      "source": [
        "arr1"
      ]
    },
    {
      "cell_type": "code",
      "execution_count": 37,
      "id": "d5d00758",
      "metadata": {
        "id": "d5d00758",
        "outputId": "9c577e17-f46e-465b-ae79-a02a5ce3910b",
        "colab": {
          "base_uri": "https://localhost:8080/"
        }
      },
      "outputs": [
        {
          "output_type": "execute_result",
          "data": {
            "text/plain": [
              "(4,)"
            ]
          },
          "metadata": {},
          "execution_count": 37
        }
      ],
      "source": [
        "arr1.shape   # It shows only the size of the elements with ,"
      ]
    },
    {
      "cell_type": "code",
      "execution_count": 38,
      "id": "eb0334ad",
      "metadata": {
        "id": "eb0334ad",
        "outputId": "77edb78f-9393-4573-c289-4ca97bf53bed",
        "colab": {
          "base_uri": "https://localhost:8080/"
        }
      },
      "outputs": [
        {
          "output_type": "stream",
          "name": "stderr",
          "text": [
            "<ipython-input-38-3aadeb1870ac>:1: VisibleDeprecationWarning: Creating an ndarray from ragged nested sequences (which is a list-or-tuple of lists-or-tuples-or ndarrays with different lengths or shapes) is deprecated. If you meant to do this, you must specify 'dtype=object' when creating the ndarray.\n",
            "  a1 = np.array([[1,2,3], [5,6]])  # Not in a right format so it creats a like a list\n"
          ]
        }
      ],
      "source": [
        "a1 = np.array([[1,2,3], [5,6]])  # Not in a right format so it creats a like a list"
      ]
    },
    {
      "cell_type": "code",
      "execution_count": 39,
      "id": "a429a505",
      "metadata": {
        "id": "a429a505",
        "outputId": "8125d8ba-4236-4f9f-9c5f-7c811bb9f208",
        "colab": {
          "base_uri": "https://localhost:8080/"
        }
      },
      "outputs": [
        {
          "output_type": "execute_result",
          "data": {
            "text/plain": [
              "array([list([1, 2, 3]), list([5, 6])], dtype=object)"
            ]
          },
          "metadata": {},
          "execution_count": 39
        }
      ],
      "source": [
        "a1"
      ]
    },
    {
      "cell_type": "code",
      "execution_count": 40,
      "id": "b1af1d93",
      "metadata": {
        "id": "b1af1d93",
        "outputId": "905e2e6b-e8fd-499a-b3c2-f48aead399f4",
        "colab": {
          "base_uri": "https://localhost:8080/"
        }
      },
      "outputs": [
        {
          "output_type": "stream",
          "name": "stdout",
          "text": [
            "[list([1, 2, 3]) list([5, 6])]\n"
          ]
        }
      ],
      "source": [
        "print(a1)"
      ]
    },
    {
      "cell_type": "code",
      "source": [
        "type(a1)"
      ],
      "metadata": {
        "colab": {
          "base_uri": "https://localhost:8080/"
        },
        "id": "vy3_TeaZ5_bL",
        "outputId": "453e85b2-e507-4bd3-8197-0290c669375c"
      },
      "id": "vy3_TeaZ5_bL",
      "execution_count": 41,
      "outputs": [
        {
          "output_type": "execute_result",
          "data": {
            "text/plain": [
              "numpy.ndarray"
            ]
          },
          "metadata": {},
          "execution_count": 41
        }
      ]
    },
    {
      "cell_type": "code",
      "execution_count": 42,
      "id": "045abf30",
      "metadata": {
        "id": "045abf30",
        "outputId": "8b1c5299-b68a-45d5-f8c9-3483cc7f722e",
        "colab": {
          "base_uri": "https://localhost:8080/"
        }
      },
      "outputs": [
        {
          "output_type": "execute_result",
          "data": {
            "text/plain": [
              "1"
            ]
          },
          "metadata": {},
          "execution_count": 42
        }
      ],
      "source": [
        "a1.ndim"
      ]
    },
    {
      "cell_type": "code",
      "execution_count": 43,
      "id": "053663ea",
      "metadata": {
        "id": "053663ea",
        "outputId": "564fc222-164a-4976-f44a-dec5bc76e919",
        "colab": {
          "base_uri": "https://localhost:8080/"
        }
      },
      "outputs": [
        {
          "output_type": "execute_result",
          "data": {
            "text/plain": [
              "dtype('O')"
            ]
          },
          "metadata": {},
          "execution_count": 43
        }
      ],
      "source": [
        "a1.dtype"
      ]
    },
    {
      "cell_type": "code",
      "execution_count": 44,
      "id": "1367afcd",
      "metadata": {
        "id": "1367afcd"
      },
      "outputs": [],
      "source": [
        "arr3 = np.array([[[1,2,3], [4,5,6]], [[7,8,9], [0,1,0]]])"
      ]
    },
    {
      "cell_type": "code",
      "execution_count": 45,
      "id": "3175cc28",
      "metadata": {
        "id": "3175cc28",
        "outputId": "f0e07872-fd70-4c09-9be5-98a52dc74a42",
        "colab": {
          "base_uri": "https://localhost:8080/"
        }
      },
      "outputs": [
        {
          "output_type": "execute_result",
          "data": {
            "text/plain": [
              "array([[[1, 2, 3],\n",
              "        [4, 5, 6]],\n",
              "\n",
              "       [[7, 8, 9],\n",
              "        [0, 1, 0]]])"
            ]
          },
          "metadata": {},
          "execution_count": 45
        }
      ],
      "source": [
        "arr3"
      ]
    },
    {
      "cell_type": "code",
      "execution_count": 46,
      "id": "d807dad0",
      "metadata": {
        "id": "d807dad0",
        "outputId": "66c62b50-7b57-4cf1-f5cc-d10b0a6515d9",
        "colab": {
          "base_uri": "https://localhost:8080/"
        }
      },
      "outputs": [
        {
          "output_type": "stream",
          "name": "stdout",
          "text": [
            "[[[1 2 3]\n",
            "  [4 5 6]]\n",
            "\n",
            " [[7 8 9]\n",
            "  [0 1 0]]]\n"
          ]
        }
      ],
      "source": [
        "print(arr3)"
      ]
    },
    {
      "cell_type": "code",
      "execution_count": 47,
      "id": "3835a575",
      "metadata": {
        "id": "3835a575",
        "outputId": "bb7a3514-5364-4472-a07a-d16913d58f96",
        "colab": {
          "base_uri": "https://localhost:8080/"
        }
      },
      "outputs": [
        {
          "output_type": "execute_result",
          "data": {
            "text/plain": [
              "dtype('int64')"
            ]
          },
          "metadata": {},
          "execution_count": 47
        }
      ],
      "source": [
        "arr3.dtype"
      ]
    },
    {
      "cell_type": "code",
      "execution_count": 48,
      "id": "5182070b",
      "metadata": {
        "id": "5182070b",
        "outputId": "a0dc318f-1018-42a8-a843-d7ea3a20a041",
        "colab": {
          "base_uri": "https://localhost:8080/"
        }
      },
      "outputs": [
        {
          "output_type": "execute_result",
          "data": {
            "text/plain": [
              "3"
            ]
          },
          "metadata": {},
          "execution_count": 48
        }
      ],
      "source": [
        "arr3.ndim # easy way to find array number of dimensions just count array open's [[["
      ]
    },
    {
      "cell_type": "code",
      "execution_count": 49,
      "id": "98a30060",
      "metadata": {
        "id": "98a30060",
        "outputId": "1c44d4eb-e103-4092-936e-9246db9cd4fe",
        "colab": {
          "base_uri": "https://localhost:8080/"
        }
      },
      "outputs": [
        {
          "output_type": "execute_result",
          "data": {
            "text/plain": [
              "(2, 2, 3)"
            ]
          },
          "metadata": {},
          "execution_count": 49
        }
      ],
      "source": [
        "arr3.shape  # 2 main array, 2 inner array, 3 elements"
      ]
    },
    {
      "cell_type": "code",
      "execution_count": 50,
      "id": "8f914010",
      "metadata": {
        "id": "8f914010",
        "outputId": "2a3c3579-8c07-4233-eba3-f23cf25d313d",
        "colab": {
          "base_uri": "https://localhost:8080/"
        }
      },
      "outputs": [
        {
          "output_type": "execute_result",
          "data": {
            "text/plain": [
              "12"
            ]
          },
          "metadata": {},
          "execution_count": 50
        }
      ],
      "source": [
        "arr3.size  # Total size of length"
      ]
    },
    {
      "cell_type": "code",
      "execution_count": 51,
      "id": "543878d5",
      "metadata": {
        "id": "543878d5"
      },
      "outputs": [],
      "source": [
        "arr4 = np.array([[[[1,2,3]]]]) #count array open's [[[[  so dim= 4"
      ]
    },
    {
      "cell_type": "code",
      "execution_count": 52,
      "id": "4f16c02d",
      "metadata": {
        "id": "4f16c02d",
        "outputId": "088d40e5-3310-4904-9d19-df365a2f7ee1",
        "colab": {
          "base_uri": "https://localhost:8080/"
        }
      },
      "outputs": [
        {
          "output_type": "execute_result",
          "data": {
            "text/plain": [
              "array([[[[1, 2, 3]]]])"
            ]
          },
          "metadata": {},
          "execution_count": 52
        }
      ],
      "source": [
        "arr4"
      ]
    },
    {
      "cell_type": "code",
      "execution_count": 53,
      "id": "60eb1f23",
      "metadata": {
        "id": "60eb1f23",
        "outputId": "8be2c51d-1dbe-44d4-a616-df70da3e3625",
        "colab": {
          "base_uri": "https://localhost:8080/"
        }
      },
      "outputs": [
        {
          "output_type": "execute_result",
          "data": {
            "text/plain": [
              "4"
            ]
          },
          "metadata": {},
          "execution_count": 53
        }
      ],
      "source": [
        "arr4.ndim"
      ]
    },
    {
      "cell_type": "code",
      "execution_count": 54,
      "id": "dbbff765",
      "metadata": {
        "id": "dbbff765",
        "outputId": "086a62f9-a514-4773-bd03-f08aafa6f4ac",
        "colab": {
          "base_uri": "https://localhost:8080/"
        }
      },
      "outputs": [
        {
          "output_type": "execute_result",
          "data": {
            "text/plain": [
              "[1, 2, 3, 4]"
            ]
          },
          "metadata": {},
          "execution_count": 54
        }
      ],
      "source": [
        "l1"
      ]
    },
    {
      "cell_type": "code",
      "execution_count": 55,
      "id": "19faacd1",
      "metadata": {
        "id": "19faacd1",
        "outputId": "458c4828-42b2-497e-9526-cfc4ef72b34d",
        "colab": {
          "base_uri": "https://localhost:8080/"
        }
      },
      "outputs": [
        {
          "output_type": "execute_result",
          "data": {
            "text/plain": [
              "array([1, 2, 3, 4])"
            ]
          },
          "metadata": {},
          "execution_count": 55
        }
      ],
      "source": [
        "arr1"
      ]
    },
    {
      "cell_type": "markdown",
      "source": [
        "#### Check Add, Sub, Mul opperatcion in list & Array"
      ],
      "metadata": {
        "id": "5fTcei2iRRdL"
      },
      "id": "5fTcei2iRRdL"
    },
    {
      "cell_type": "code",
      "execution_count": 56,
      "id": "bdac41ad",
      "metadata": {
        "id": "bdac41ad",
        "outputId": "a14eb919-84e3-40a5-e94f-fd6461dd8aaa",
        "colab": {
          "base_uri": "https://localhost:8080/",
          "height": 171
        }
      },
      "outputs": [
        {
          "output_type": "error",
          "ename": "TypeError",
          "evalue": "ignored",
          "traceback": [
            "\u001b[0;31m---------------------------------------------------------------------------\u001b[0m",
            "\u001b[0;31mTypeError\u001b[0m                                 Traceback (most recent call last)",
            "\u001b[0;32m<ipython-input-56-fd7cdb0d521b>\u001b[0m in \u001b[0;36m<cell line: 1>\u001b[0;34m()\u001b[0m\n\u001b[0;32m----> 1\u001b[0;31m \u001b[0ml1\u001b[0m \u001b[0;34m+\u001b[0m \u001b[0;36m1\u001b[0m   \u001b[0;31m# Wil not work\u001b[0m\u001b[0;34m\u001b[0m\u001b[0;34m\u001b[0m\u001b[0m\n\u001b[0m",
            "\u001b[0;31mTypeError\u001b[0m: can only concatenate list (not \"int\") to list"
          ]
        }
      ],
      "source": [
        "l1 + 1   # Wil not work"
      ]
    },
    {
      "cell_type": "code",
      "execution_count": 57,
      "id": "9af2074f",
      "metadata": {
        "id": "9af2074f",
        "outputId": "f057dd8e-fee9-4bcc-c6b9-1b6c2a301c9d",
        "colab": {
          "base_uri": "https://localhost:8080/"
        }
      },
      "outputs": [
        {
          "output_type": "execute_result",
          "data": {
            "text/plain": [
              "array([2, 3, 4, 5])"
            ]
          },
          "metadata": {},
          "execution_count": 57
        }
      ],
      "source": [
        "arr1 + 1  # Add 1 to all inner elements"
      ]
    },
    {
      "cell_type": "code",
      "source": [
        "arr1"
      ],
      "metadata": {
        "colab": {
          "base_uri": "https://localhost:8080/"
        },
        "id": "3afy4tpp7u-G",
        "outputId": "6a8755b0-8d2a-4f3f-fb2f-6c9e7d0ee133"
      },
      "id": "3afy4tpp7u-G",
      "execution_count": 46,
      "outputs": [
        {
          "output_type": "execute_result",
          "data": {
            "text/plain": [
              "array([1, 2, 3, 4])"
            ]
          },
          "metadata": {},
          "execution_count": 46
        }
      ]
    },
    {
      "cell_type": "code",
      "source": [
        "arr1 + arr1"
      ],
      "metadata": {
        "colab": {
          "base_uri": "https://localhost:8080/"
        },
        "id": "fRcjHfln7eXI",
        "outputId": "c866bca5-6485-4c46-a623-51133cbbf707"
      },
      "id": "fRcjHfln7eXI",
      "execution_count": 58,
      "outputs": [
        {
          "output_type": "execute_result",
          "data": {
            "text/plain": [
              "array([2, 4, 6, 8])"
            ]
          },
          "metadata": {},
          "execution_count": 58
        }
      ]
    },
    {
      "cell_type": "code",
      "source": [
        "arr1 + arr1 + 1"
      ],
      "metadata": {
        "colab": {
          "base_uri": "https://localhost:8080/"
        },
        "id": "c8fIMRE47qI7",
        "outputId": "7bb661d4-90aa-4aaf-a4d9-281e62649b75"
      },
      "id": "c8fIMRE47qI7",
      "execution_count": 59,
      "outputs": [
        {
          "output_type": "execute_result",
          "data": {
            "text/plain": [
              "array([3, 5, 7, 9])"
            ]
          },
          "metadata": {},
          "execution_count": 59
        }
      ]
    },
    {
      "cell_type": "code",
      "execution_count": 60,
      "id": "c7434722",
      "metadata": {
        "id": "c7434722",
        "outputId": "bc55b10b-41b8-4e57-e0d9-252a43caf307",
        "colab": {
          "base_uri": "https://localhost:8080/"
        }
      },
      "outputs": [
        {
          "output_type": "stream",
          "name": "stdout",
          "text": [
            "[2, 3, 4, 5]\n"
          ]
        }
      ],
      "source": [
        "out = []  # For loop is used in list to get out put what array do easy\n",
        "\n",
        "for i in l1:\n",
        "    out.append(i+1)\n",
        "\n",
        "print(out)"
      ]
    },
    {
      "cell_type": "code",
      "execution_count": 62,
      "id": "fc066dce",
      "metadata": {
        "id": "fc066dce",
        "outputId": "94ca316d-2d14-4391-94a3-bfb27ab52b48",
        "colab": {
          "base_uri": "https://localhost:8080/"
        }
      },
      "outputs": [
        {
          "output_type": "execute_result",
          "data": {
            "text/plain": [
              "[2, 3, 4, 5]"
            ]
          },
          "metadata": {},
          "execution_count": 62
        }
      ],
      "source": [
        "[i+1 for i in l1]   # One line For loop is used in list to get out put what array do easy"
      ]
    },
    {
      "cell_type": "code",
      "execution_count": 63,
      "id": "d5926391",
      "metadata": {
        "id": "d5926391",
        "outputId": "8ada1b15-4d8b-4941-b3cd-c2ac7af68d0b",
        "colab": {
          "base_uri": "https://localhost:8080/"
        }
      },
      "outputs": [
        {
          "output_type": "execute_result",
          "data": {
            "text/plain": [
              "array([2, 3, 4, 5])"
            ]
          },
          "metadata": {},
          "execution_count": 63
        }
      ],
      "source": [
        "arr1 + 1"
      ]
    },
    {
      "cell_type": "code",
      "execution_count": 64,
      "id": "a556b2c1",
      "metadata": {
        "id": "a556b2c1",
        "outputId": "fd6a8687-7087-45cc-e67b-01849f9bbc9a",
        "colab": {
          "base_uri": "https://localhost:8080/"
        }
      },
      "outputs": [
        {
          "output_type": "stream",
          "name": "stdout",
          "text": [
            "CPU times: user 7 µs, sys: 0 ns, total: 7 µs\n",
            "Wall time: 11 µs\n"
          ]
        },
        {
          "output_type": "execute_result",
          "data": {
            "text/plain": [
              "[2, 3, 4, 5]"
            ]
          },
          "metadata": {},
          "execution_count": 64
        }
      ],
      "source": [
        "%time [i+1 for i in l1]   # To calculate the timing of operaction"
      ]
    },
    {
      "cell_type": "code",
      "execution_count": 65,
      "id": "26f70617",
      "metadata": {
        "id": "26f70617",
        "outputId": "7414db56-a2b5-465f-cac2-fdb0f4f929c4",
        "colab": {
          "base_uri": "https://localhost:8080/"
        }
      },
      "outputs": [
        {
          "output_type": "stream",
          "name": "stdout",
          "text": [
            "CPU times: user 39 µs, sys: 6 µs, total: 45 µs\n",
            "Wall time: 48.9 µs\n"
          ]
        },
        {
          "output_type": "execute_result",
          "data": {
            "text/plain": [
              "array([2, 3, 4, 5])"
            ]
          },
          "metadata": {},
          "execution_count": 65
        }
      ],
      "source": [
        "%time arr1 + 1"
      ]
    },
    {
      "cell_type": "code",
      "execution_count": 66,
      "id": "442bea2b",
      "metadata": {
        "id": "442bea2b"
      },
      "outputs": [],
      "source": [
        "a1 = np.arange(1, 100000)"
      ]
    },
    {
      "cell_type": "code",
      "execution_count": 67,
      "id": "c2f4aeb2",
      "metadata": {
        "id": "c2f4aeb2",
        "outputId": "beb6c4e0-98dd-4a03-de72-cf8511038273",
        "colab": {
          "base_uri": "https://localhost:8080/"
        }
      },
      "outputs": [
        {
          "output_type": "execute_result",
          "data": {
            "text/plain": [
              "array([    1,     2,     3, ..., 99997, 99998, 99999])"
            ]
          },
          "metadata": {},
          "execution_count": 67
        }
      ],
      "source": [
        "a1"
      ]
    },
    {
      "cell_type": "code",
      "execution_count": 68,
      "id": "54efe4c6",
      "metadata": {
        "id": "54efe4c6",
        "outputId": "ff8b4216-975a-454b-8624-86f47f9eb185",
        "colab": {
          "base_uri": "https://localhost:8080/"
        }
      },
      "outputs": [
        {
          "output_type": "execute_result",
          "data": {
            "text/plain": [
              "range(1, 100000)"
            ]
          },
          "metadata": {},
          "execution_count": 68
        }
      ],
      "source": [
        "range(1, 100000)"
      ]
    },
    {
      "cell_type": "code",
      "execution_count": 69,
      "id": "5b5a0ab4",
      "metadata": {
        "id": "5b5a0ab4",
        "outputId": "e60ad4d4-5586-4949-df31-e37ec3aaf8a5",
        "colab": {
          "base_uri": "https://localhost:8080/"
        }
      },
      "outputs": [
        {
          "output_type": "stream",
          "name": "stdout",
          "text": [
            "CPU times: user 252 µs, sys: 0 ns, total: 252 µs\n",
            "Wall time: 264 µs\n"
          ]
        },
        {
          "output_type": "execute_result",
          "data": {
            "text/plain": [
              "array([     2,      3,      4, ...,  99998,  99999, 100000])"
            ]
          },
          "metadata": {},
          "execution_count": 69
        }
      ],
      "source": [
        "%time a1 + 1"
      ]
    },
    {
      "cell_type": "code",
      "execution_count": 70,
      "id": "a1648514",
      "metadata": {
        "id": "a1648514",
        "outputId": "9d2bd449-7044-4db8-d0c1-9fba39626f20",
        "colab": {
          "base_uri": "https://localhost:8080/"
        }
      },
      "outputs": [
        {
          "output_type": "stream",
          "name": "stdout",
          "text": [
            "CPU times: user 8.86 ms, sys: 3.06 ms, total: 11.9 ms\n",
            "Wall time: 12 ms\n"
          ]
        },
        {
          "output_type": "execute_result",
          "data": {
            "text/plain": [
              "[2,\n",
              " 3,\n",
              " 4,\n",
              " 5,\n",
              " 6,\n",
              " 7,\n",
              " 8,\n",
              " 9,\n",
              " 10,\n",
              " 11,\n",
              " 12,\n",
              " 13,\n",
              " 14,\n",
              " 15,\n",
              " 16,\n",
              " 17,\n",
              " 18,\n",
              " 19,\n",
              " 20,\n",
              " 21,\n",
              " 22,\n",
              " 23,\n",
              " 24,\n",
              " 25,\n",
              " 26,\n",
              " 27,\n",
              " 28,\n",
              " 29,\n",
              " 30,\n",
              " 31,\n",
              " 32,\n",
              " 33,\n",
              " 34,\n",
              " 35,\n",
              " 36,\n",
              " 37,\n",
              " 38,\n",
              " 39,\n",
              " 40,\n",
              " 41,\n",
              " 42,\n",
              " 43,\n",
              " 44,\n",
              " 45,\n",
              " 46,\n",
              " 47,\n",
              " 48,\n",
              " 49,\n",
              " 50,\n",
              " 51,\n",
              " 52,\n",
              " 53,\n",
              " 54,\n",
              " 55,\n",
              " 56,\n",
              " 57,\n",
              " 58,\n",
              " 59,\n",
              " 60,\n",
              " 61,\n",
              " 62,\n",
              " 63,\n",
              " 64,\n",
              " 65,\n",
              " 66,\n",
              " 67,\n",
              " 68,\n",
              " 69,\n",
              " 70,\n",
              " 71,\n",
              " 72,\n",
              " 73,\n",
              " 74,\n",
              " 75,\n",
              " 76,\n",
              " 77,\n",
              " 78,\n",
              " 79,\n",
              " 80,\n",
              " 81,\n",
              " 82,\n",
              " 83,\n",
              " 84,\n",
              " 85,\n",
              " 86,\n",
              " 87,\n",
              " 88,\n",
              " 89,\n",
              " 90,\n",
              " 91,\n",
              " 92,\n",
              " 93,\n",
              " 94,\n",
              " 95,\n",
              " 96,\n",
              " 97,\n",
              " 98,\n",
              " 99,\n",
              " 100,\n",
              " 101,\n",
              " 102,\n",
              " 103,\n",
              " 104,\n",
              " 105,\n",
              " 106,\n",
              " 107,\n",
              " 108,\n",
              " 109,\n",
              " 110,\n",
              " 111,\n",
              " 112,\n",
              " 113,\n",
              " 114,\n",
              " 115,\n",
              " 116,\n",
              " 117,\n",
              " 118,\n",
              " 119,\n",
              " 120,\n",
              " 121,\n",
              " 122,\n",
              " 123,\n",
              " 124,\n",
              " 125,\n",
              " 126,\n",
              " 127,\n",
              " 128,\n",
              " 129,\n",
              " 130,\n",
              " 131,\n",
              " 132,\n",
              " 133,\n",
              " 134,\n",
              " 135,\n",
              " 136,\n",
              " 137,\n",
              " 138,\n",
              " 139,\n",
              " 140,\n",
              " 141,\n",
              " 142,\n",
              " 143,\n",
              " 144,\n",
              " 145,\n",
              " 146,\n",
              " 147,\n",
              " 148,\n",
              " 149,\n",
              " 150,\n",
              " 151,\n",
              " 152,\n",
              " 153,\n",
              " 154,\n",
              " 155,\n",
              " 156,\n",
              " 157,\n",
              " 158,\n",
              " 159,\n",
              " 160,\n",
              " 161,\n",
              " 162,\n",
              " 163,\n",
              " 164,\n",
              " 165,\n",
              " 166,\n",
              " 167,\n",
              " 168,\n",
              " 169,\n",
              " 170,\n",
              " 171,\n",
              " 172,\n",
              " 173,\n",
              " 174,\n",
              " 175,\n",
              " 176,\n",
              " 177,\n",
              " 178,\n",
              " 179,\n",
              " 180,\n",
              " 181,\n",
              " 182,\n",
              " 183,\n",
              " 184,\n",
              " 185,\n",
              " 186,\n",
              " 187,\n",
              " 188,\n",
              " 189,\n",
              " 190,\n",
              " 191,\n",
              " 192,\n",
              " 193,\n",
              " 194,\n",
              " 195,\n",
              " 196,\n",
              " 197,\n",
              " 198,\n",
              " 199,\n",
              " 200,\n",
              " 201,\n",
              " 202,\n",
              " 203,\n",
              " 204,\n",
              " 205,\n",
              " 206,\n",
              " 207,\n",
              " 208,\n",
              " 209,\n",
              " 210,\n",
              " 211,\n",
              " 212,\n",
              " 213,\n",
              " 214,\n",
              " 215,\n",
              " 216,\n",
              " 217,\n",
              " 218,\n",
              " 219,\n",
              " 220,\n",
              " 221,\n",
              " 222,\n",
              " 223,\n",
              " 224,\n",
              " 225,\n",
              " 226,\n",
              " 227,\n",
              " 228,\n",
              " 229,\n",
              " 230,\n",
              " 231,\n",
              " 232,\n",
              " 233,\n",
              " 234,\n",
              " 235,\n",
              " 236,\n",
              " 237,\n",
              " 238,\n",
              " 239,\n",
              " 240,\n",
              " 241,\n",
              " 242,\n",
              " 243,\n",
              " 244,\n",
              " 245,\n",
              " 246,\n",
              " 247,\n",
              " 248,\n",
              " 249,\n",
              " 250,\n",
              " 251,\n",
              " 252,\n",
              " 253,\n",
              " 254,\n",
              " 255,\n",
              " 256,\n",
              " 257,\n",
              " 258,\n",
              " 259,\n",
              " 260,\n",
              " 261,\n",
              " 262,\n",
              " 263,\n",
              " 264,\n",
              " 265,\n",
              " 266,\n",
              " 267,\n",
              " 268,\n",
              " 269,\n",
              " 270,\n",
              " 271,\n",
              " 272,\n",
              " 273,\n",
              " 274,\n",
              " 275,\n",
              " 276,\n",
              " 277,\n",
              " 278,\n",
              " 279,\n",
              " 280,\n",
              " 281,\n",
              " 282,\n",
              " 283,\n",
              " 284,\n",
              " 285,\n",
              " 286,\n",
              " 287,\n",
              " 288,\n",
              " 289,\n",
              " 290,\n",
              " 291,\n",
              " 292,\n",
              " 293,\n",
              " 294,\n",
              " 295,\n",
              " 296,\n",
              " 297,\n",
              " 298,\n",
              " 299,\n",
              " 300,\n",
              " 301,\n",
              " 302,\n",
              " 303,\n",
              " 304,\n",
              " 305,\n",
              " 306,\n",
              " 307,\n",
              " 308,\n",
              " 309,\n",
              " 310,\n",
              " 311,\n",
              " 312,\n",
              " 313,\n",
              " 314,\n",
              " 315,\n",
              " 316,\n",
              " 317,\n",
              " 318,\n",
              " 319,\n",
              " 320,\n",
              " 321,\n",
              " 322,\n",
              " 323,\n",
              " 324,\n",
              " 325,\n",
              " 326,\n",
              " 327,\n",
              " 328,\n",
              " 329,\n",
              " 330,\n",
              " 331,\n",
              " 332,\n",
              " 333,\n",
              " 334,\n",
              " 335,\n",
              " 336,\n",
              " 337,\n",
              " 338,\n",
              " 339,\n",
              " 340,\n",
              " 341,\n",
              " 342,\n",
              " 343,\n",
              " 344,\n",
              " 345,\n",
              " 346,\n",
              " 347,\n",
              " 348,\n",
              " 349,\n",
              " 350,\n",
              " 351,\n",
              " 352,\n",
              " 353,\n",
              " 354,\n",
              " 355,\n",
              " 356,\n",
              " 357,\n",
              " 358,\n",
              " 359,\n",
              " 360,\n",
              " 361,\n",
              " 362,\n",
              " 363,\n",
              " 364,\n",
              " 365,\n",
              " 366,\n",
              " 367,\n",
              " 368,\n",
              " 369,\n",
              " 370,\n",
              " 371,\n",
              " 372,\n",
              " 373,\n",
              " 374,\n",
              " 375,\n",
              " 376,\n",
              " 377,\n",
              " 378,\n",
              " 379,\n",
              " 380,\n",
              " 381,\n",
              " 382,\n",
              " 383,\n",
              " 384,\n",
              " 385,\n",
              " 386,\n",
              " 387,\n",
              " 388,\n",
              " 389,\n",
              " 390,\n",
              " 391,\n",
              " 392,\n",
              " 393,\n",
              " 394,\n",
              " 395,\n",
              " 396,\n",
              " 397,\n",
              " 398,\n",
              " 399,\n",
              " 400,\n",
              " 401,\n",
              " 402,\n",
              " 403,\n",
              " 404,\n",
              " 405,\n",
              " 406,\n",
              " 407,\n",
              " 408,\n",
              " 409,\n",
              " 410,\n",
              " 411,\n",
              " 412,\n",
              " 413,\n",
              " 414,\n",
              " 415,\n",
              " 416,\n",
              " 417,\n",
              " 418,\n",
              " 419,\n",
              " 420,\n",
              " 421,\n",
              " 422,\n",
              " 423,\n",
              " 424,\n",
              " 425,\n",
              " 426,\n",
              " 427,\n",
              " 428,\n",
              " 429,\n",
              " 430,\n",
              " 431,\n",
              " 432,\n",
              " 433,\n",
              " 434,\n",
              " 435,\n",
              " 436,\n",
              " 437,\n",
              " 438,\n",
              " 439,\n",
              " 440,\n",
              " 441,\n",
              " 442,\n",
              " 443,\n",
              " 444,\n",
              " 445,\n",
              " 446,\n",
              " 447,\n",
              " 448,\n",
              " 449,\n",
              " 450,\n",
              " 451,\n",
              " 452,\n",
              " 453,\n",
              " 454,\n",
              " 455,\n",
              " 456,\n",
              " 457,\n",
              " 458,\n",
              " 459,\n",
              " 460,\n",
              " 461,\n",
              " 462,\n",
              " 463,\n",
              " 464,\n",
              " 465,\n",
              " 466,\n",
              " 467,\n",
              " 468,\n",
              " 469,\n",
              " 470,\n",
              " 471,\n",
              " 472,\n",
              " 473,\n",
              " 474,\n",
              " 475,\n",
              " 476,\n",
              " 477,\n",
              " 478,\n",
              " 479,\n",
              " 480,\n",
              " 481,\n",
              " 482,\n",
              " 483,\n",
              " 484,\n",
              " 485,\n",
              " 486,\n",
              " 487,\n",
              " 488,\n",
              " 489,\n",
              " 490,\n",
              " 491,\n",
              " 492,\n",
              " 493,\n",
              " 494,\n",
              " 495,\n",
              " 496,\n",
              " 497,\n",
              " 498,\n",
              " 499,\n",
              " 500,\n",
              " 501,\n",
              " 502,\n",
              " 503,\n",
              " 504,\n",
              " 505,\n",
              " 506,\n",
              " 507,\n",
              " 508,\n",
              " 509,\n",
              " 510,\n",
              " 511,\n",
              " 512,\n",
              " 513,\n",
              " 514,\n",
              " 515,\n",
              " 516,\n",
              " 517,\n",
              " 518,\n",
              " 519,\n",
              " 520,\n",
              " 521,\n",
              " 522,\n",
              " 523,\n",
              " 524,\n",
              " 525,\n",
              " 526,\n",
              " 527,\n",
              " 528,\n",
              " 529,\n",
              " 530,\n",
              " 531,\n",
              " 532,\n",
              " 533,\n",
              " 534,\n",
              " 535,\n",
              " 536,\n",
              " 537,\n",
              " 538,\n",
              " 539,\n",
              " 540,\n",
              " 541,\n",
              " 542,\n",
              " 543,\n",
              " 544,\n",
              " 545,\n",
              " 546,\n",
              " 547,\n",
              " 548,\n",
              " 549,\n",
              " 550,\n",
              " 551,\n",
              " 552,\n",
              " 553,\n",
              " 554,\n",
              " 555,\n",
              " 556,\n",
              " 557,\n",
              " 558,\n",
              " 559,\n",
              " 560,\n",
              " 561,\n",
              " 562,\n",
              " 563,\n",
              " 564,\n",
              " 565,\n",
              " 566,\n",
              " 567,\n",
              " 568,\n",
              " 569,\n",
              " 570,\n",
              " 571,\n",
              " 572,\n",
              " 573,\n",
              " 574,\n",
              " 575,\n",
              " 576,\n",
              " 577,\n",
              " 578,\n",
              " 579,\n",
              " 580,\n",
              " 581,\n",
              " 582,\n",
              " 583,\n",
              " 584,\n",
              " 585,\n",
              " 586,\n",
              " 587,\n",
              " 588,\n",
              " 589,\n",
              " 590,\n",
              " 591,\n",
              " 592,\n",
              " 593,\n",
              " 594,\n",
              " 595,\n",
              " 596,\n",
              " 597,\n",
              " 598,\n",
              " 599,\n",
              " 600,\n",
              " 601,\n",
              " 602,\n",
              " 603,\n",
              " 604,\n",
              " 605,\n",
              " 606,\n",
              " 607,\n",
              " 608,\n",
              " 609,\n",
              " 610,\n",
              " 611,\n",
              " 612,\n",
              " 613,\n",
              " 614,\n",
              " 615,\n",
              " 616,\n",
              " 617,\n",
              " 618,\n",
              " 619,\n",
              " 620,\n",
              " 621,\n",
              " 622,\n",
              " 623,\n",
              " 624,\n",
              " 625,\n",
              " 626,\n",
              " 627,\n",
              " 628,\n",
              " 629,\n",
              " 630,\n",
              " 631,\n",
              " 632,\n",
              " 633,\n",
              " 634,\n",
              " 635,\n",
              " 636,\n",
              " 637,\n",
              " 638,\n",
              " 639,\n",
              " 640,\n",
              " 641,\n",
              " 642,\n",
              " 643,\n",
              " 644,\n",
              " 645,\n",
              " 646,\n",
              " 647,\n",
              " 648,\n",
              " 649,\n",
              " 650,\n",
              " 651,\n",
              " 652,\n",
              " 653,\n",
              " 654,\n",
              " 655,\n",
              " 656,\n",
              " 657,\n",
              " 658,\n",
              " 659,\n",
              " 660,\n",
              " 661,\n",
              " 662,\n",
              " 663,\n",
              " 664,\n",
              " 665,\n",
              " 666,\n",
              " 667,\n",
              " 668,\n",
              " 669,\n",
              " 670,\n",
              " 671,\n",
              " 672,\n",
              " 673,\n",
              " 674,\n",
              " 675,\n",
              " 676,\n",
              " 677,\n",
              " 678,\n",
              " 679,\n",
              " 680,\n",
              " 681,\n",
              " 682,\n",
              " 683,\n",
              " 684,\n",
              " 685,\n",
              " 686,\n",
              " 687,\n",
              " 688,\n",
              " 689,\n",
              " 690,\n",
              " 691,\n",
              " 692,\n",
              " 693,\n",
              " 694,\n",
              " 695,\n",
              " 696,\n",
              " 697,\n",
              " 698,\n",
              " 699,\n",
              " 700,\n",
              " 701,\n",
              " 702,\n",
              " 703,\n",
              " 704,\n",
              " 705,\n",
              " 706,\n",
              " 707,\n",
              " 708,\n",
              " 709,\n",
              " 710,\n",
              " 711,\n",
              " 712,\n",
              " 713,\n",
              " 714,\n",
              " 715,\n",
              " 716,\n",
              " 717,\n",
              " 718,\n",
              " 719,\n",
              " 720,\n",
              " 721,\n",
              " 722,\n",
              " 723,\n",
              " 724,\n",
              " 725,\n",
              " 726,\n",
              " 727,\n",
              " 728,\n",
              " 729,\n",
              " 730,\n",
              " 731,\n",
              " 732,\n",
              " 733,\n",
              " 734,\n",
              " 735,\n",
              " 736,\n",
              " 737,\n",
              " 738,\n",
              " 739,\n",
              " 740,\n",
              " 741,\n",
              " 742,\n",
              " 743,\n",
              " 744,\n",
              " 745,\n",
              " 746,\n",
              " 747,\n",
              " 748,\n",
              " 749,\n",
              " 750,\n",
              " 751,\n",
              " 752,\n",
              " 753,\n",
              " 754,\n",
              " 755,\n",
              " 756,\n",
              " 757,\n",
              " 758,\n",
              " 759,\n",
              " 760,\n",
              " 761,\n",
              " 762,\n",
              " 763,\n",
              " 764,\n",
              " 765,\n",
              " 766,\n",
              " 767,\n",
              " 768,\n",
              " 769,\n",
              " 770,\n",
              " 771,\n",
              " 772,\n",
              " 773,\n",
              " 774,\n",
              " 775,\n",
              " 776,\n",
              " 777,\n",
              " 778,\n",
              " 779,\n",
              " 780,\n",
              " 781,\n",
              " 782,\n",
              " 783,\n",
              " 784,\n",
              " 785,\n",
              " 786,\n",
              " 787,\n",
              " 788,\n",
              " 789,\n",
              " 790,\n",
              " 791,\n",
              " 792,\n",
              " 793,\n",
              " 794,\n",
              " 795,\n",
              " 796,\n",
              " 797,\n",
              " 798,\n",
              " 799,\n",
              " 800,\n",
              " 801,\n",
              " 802,\n",
              " 803,\n",
              " 804,\n",
              " 805,\n",
              " 806,\n",
              " 807,\n",
              " 808,\n",
              " 809,\n",
              " 810,\n",
              " 811,\n",
              " 812,\n",
              " 813,\n",
              " 814,\n",
              " 815,\n",
              " 816,\n",
              " 817,\n",
              " 818,\n",
              " 819,\n",
              " 820,\n",
              " 821,\n",
              " 822,\n",
              " 823,\n",
              " 824,\n",
              " 825,\n",
              " 826,\n",
              " 827,\n",
              " 828,\n",
              " 829,\n",
              " 830,\n",
              " 831,\n",
              " 832,\n",
              " 833,\n",
              " 834,\n",
              " 835,\n",
              " 836,\n",
              " 837,\n",
              " 838,\n",
              " 839,\n",
              " 840,\n",
              " 841,\n",
              " 842,\n",
              " 843,\n",
              " 844,\n",
              " 845,\n",
              " 846,\n",
              " 847,\n",
              " 848,\n",
              " 849,\n",
              " 850,\n",
              " 851,\n",
              " 852,\n",
              " 853,\n",
              " 854,\n",
              " 855,\n",
              " 856,\n",
              " 857,\n",
              " 858,\n",
              " 859,\n",
              " 860,\n",
              " 861,\n",
              " 862,\n",
              " 863,\n",
              " 864,\n",
              " 865,\n",
              " 866,\n",
              " 867,\n",
              " 868,\n",
              " 869,\n",
              " 870,\n",
              " 871,\n",
              " 872,\n",
              " 873,\n",
              " 874,\n",
              " 875,\n",
              " 876,\n",
              " 877,\n",
              " 878,\n",
              " 879,\n",
              " 880,\n",
              " 881,\n",
              " 882,\n",
              " 883,\n",
              " 884,\n",
              " 885,\n",
              " 886,\n",
              " 887,\n",
              " 888,\n",
              " 889,\n",
              " 890,\n",
              " 891,\n",
              " 892,\n",
              " 893,\n",
              " 894,\n",
              " 895,\n",
              " 896,\n",
              " 897,\n",
              " 898,\n",
              " 899,\n",
              " 900,\n",
              " 901,\n",
              " 902,\n",
              " 903,\n",
              " 904,\n",
              " 905,\n",
              " 906,\n",
              " 907,\n",
              " 908,\n",
              " 909,\n",
              " 910,\n",
              " 911,\n",
              " 912,\n",
              " 913,\n",
              " 914,\n",
              " 915,\n",
              " 916,\n",
              " 917,\n",
              " 918,\n",
              " 919,\n",
              " 920,\n",
              " 921,\n",
              " 922,\n",
              " 923,\n",
              " 924,\n",
              " 925,\n",
              " 926,\n",
              " 927,\n",
              " 928,\n",
              " 929,\n",
              " 930,\n",
              " 931,\n",
              " 932,\n",
              " 933,\n",
              " 934,\n",
              " 935,\n",
              " 936,\n",
              " 937,\n",
              " 938,\n",
              " 939,\n",
              " 940,\n",
              " 941,\n",
              " 942,\n",
              " 943,\n",
              " 944,\n",
              " 945,\n",
              " 946,\n",
              " 947,\n",
              " 948,\n",
              " 949,\n",
              " 950,\n",
              " 951,\n",
              " 952,\n",
              " 953,\n",
              " 954,\n",
              " 955,\n",
              " 956,\n",
              " 957,\n",
              " 958,\n",
              " 959,\n",
              " 960,\n",
              " 961,\n",
              " 962,\n",
              " 963,\n",
              " 964,\n",
              " 965,\n",
              " 966,\n",
              " 967,\n",
              " 968,\n",
              " 969,\n",
              " 970,\n",
              " 971,\n",
              " 972,\n",
              " 973,\n",
              " 974,\n",
              " 975,\n",
              " 976,\n",
              " 977,\n",
              " 978,\n",
              " 979,\n",
              " 980,\n",
              " 981,\n",
              " 982,\n",
              " 983,\n",
              " 984,\n",
              " 985,\n",
              " 986,\n",
              " 987,\n",
              " 988,\n",
              " 989,\n",
              " 990,\n",
              " 991,\n",
              " 992,\n",
              " 993,\n",
              " 994,\n",
              " 995,\n",
              " 996,\n",
              " 997,\n",
              " 998,\n",
              " 999,\n",
              " 1000,\n",
              " 1001,\n",
              " ...]"
            ]
          },
          "metadata": {},
          "execution_count": 70
        }
      ],
      "source": [
        "%time [i+1 for i in range(1, 100000)]"
      ]
    },
    {
      "cell_type": "code",
      "execution_count": 74,
      "id": "85d0c390",
      "metadata": {
        "id": "85d0c390",
        "outputId": "727850c3-8776-40f7-efcf-9b27405eb6f1",
        "colab": {
          "base_uri": "https://localhost:8080/"
        }
      },
      "outputs": [
        {
          "output_type": "execute_result",
          "data": {
            "text/plain": [
              "[1, 2, 3, 4]"
            ]
          },
          "metadata": {},
          "execution_count": 74
        }
      ],
      "source": [
        "l1"
      ]
    },
    {
      "cell_type": "code",
      "execution_count": 78,
      "id": "36922883",
      "metadata": {
        "id": "36922883",
        "outputId": "557f7f4c-9006-481f-84a1-d7ff8a4699a4",
        "colab": {
          "base_uri": "https://localhost:8080/"
        }
      },
      "outputs": [
        {
          "output_type": "execute_result",
          "data": {
            "text/plain": [
              "array([1, 2, 3, 4])"
            ]
          },
          "metadata": {},
          "execution_count": 78
        }
      ],
      "source": [
        "arr1"
      ]
    },
    {
      "cell_type": "code",
      "execution_count": 72,
      "id": "c6d78207",
      "metadata": {
        "id": "c6d78207",
        "outputId": "40e3f51c-f23a-4414-fb04-e4d4bb295085",
        "colab": {
          "base_uri": "https://localhost:8080/"
        }
      },
      "outputs": [
        {
          "output_type": "execute_result",
          "data": {
            "text/plain": [
              "array([2, 3, 4, 5])"
            ]
          },
          "metadata": {},
          "execution_count": 72
        }
      ],
      "source": [
        "arr1 + 1"
      ]
    },
    {
      "cell_type": "code",
      "execution_count": 75,
      "id": "7df5bf9b",
      "metadata": {
        "id": "7df5bf9b",
        "outputId": "e58aaa3c-1ae3-40a9-91a4-e5746ab60d3d",
        "colab": {
          "base_uri": "https://localhost:8080/"
        }
      },
      "outputs": [
        {
          "output_type": "execute_result",
          "data": {
            "text/plain": [
              "[1, 2, 3, 4, 1, 2, 3, 4, 1, 2, 3, 4]"
            ]
          },
          "metadata": {},
          "execution_count": 75
        }
      ],
      "source": [
        "l1 * 3   # In list it copys 3 times the same elemenet"
      ]
    },
    {
      "cell_type": "code",
      "execution_count": 77,
      "id": "760317a5",
      "metadata": {
        "id": "760317a5",
        "outputId": "ab352c53-97f8-4280-8011-2893e51f12e9",
        "colab": {
          "base_uri": "https://localhost:8080/"
        }
      },
      "outputs": [
        {
          "output_type": "execute_result",
          "data": {
            "text/plain": [
              "array([ 3,  6,  9, 12])"
            ]
          },
          "metadata": {},
          "execution_count": 77
        }
      ],
      "source": [
        "arr1 * 3 # In Array it multiples 3 to each elemenet inside"
      ]
    },
    {
      "cell_type": "code",
      "source": [
        "l1 / 2"
      ],
      "metadata": {
        "colab": {
          "base_uri": "https://localhost:8080/",
          "height": 171
        },
        "id": "Sry2RvhKQpri",
        "outputId": "eae60130-2ff8-45b6-e2b9-66b52bc52fe2"
      },
      "id": "Sry2RvhKQpri",
      "execution_count": 80,
      "outputs": [
        {
          "output_type": "error",
          "ename": "TypeError",
          "evalue": "ignored",
          "traceback": [
            "\u001b[0;31m---------------------------------------------------------------------------\u001b[0m",
            "\u001b[0;31mTypeError\u001b[0m                                 Traceback (most recent call last)",
            "\u001b[0;32m<ipython-input-80-303d3292c37b>\u001b[0m in \u001b[0;36m<cell line: 1>\u001b[0;34m()\u001b[0m\n\u001b[0;32m----> 1\u001b[0;31m \u001b[0ml1\u001b[0m \u001b[0;34m/\u001b[0m \u001b[0;36m2\u001b[0m\u001b[0;34m\u001b[0m\u001b[0;34m\u001b[0m\u001b[0m\n\u001b[0m",
            "\u001b[0;31mTypeError\u001b[0m: unsupported operand type(s) for /: 'list' and 'int'"
          ]
        }
      ]
    },
    {
      "cell_type": "code",
      "execution_count": 79,
      "id": "6d490a8c",
      "metadata": {
        "id": "6d490a8c",
        "outputId": "b495bffb-e576-4d4d-a71d-f09fe80a7ac5",
        "colab": {
          "base_uri": "https://localhost:8080/"
        }
      },
      "outputs": [
        {
          "output_type": "execute_result",
          "data": {
            "text/plain": [
              "array([0.5, 1. , 1.5, 2. ])"
            ]
          },
          "metadata": {},
          "execution_count": 79
        }
      ],
      "source": [
        "arr1 / 2 # In Array it Divies 2 to each elemenet inside"
      ]
    },
    {
      "cell_type": "code",
      "execution_count": 81,
      "id": "d74490e9",
      "metadata": {
        "id": "d74490e9",
        "outputId": "0c97d010-5bca-4471-ccb3-74358b22c01e",
        "colab": {
          "base_uri": "https://localhost:8080/"
        }
      },
      "outputs": [
        {
          "output_type": "execute_result",
          "data": {
            "text/plain": [
              "array([1, 2, 3, 4])"
            ]
          },
          "metadata": {},
          "execution_count": 81
        }
      ],
      "source": [
        "arr1"
      ]
    },
    {
      "cell_type": "code",
      "execution_count": 82,
      "id": "8a2f7056",
      "metadata": {
        "id": "8a2f7056",
        "outputId": "8701d57e-df6d-4ec6-aa30-94cd3f741b61",
        "colab": {
          "base_uri": "https://localhost:8080/"
        }
      },
      "outputs": [
        {
          "output_type": "execute_result",
          "data": {
            "text/plain": [
              "array([-9, -8, -7, -6])"
            ]
          },
          "metadata": {},
          "execution_count": 82
        }
      ],
      "source": [
        "arr1 - 10"
      ]
    },
    {
      "cell_type": "code",
      "execution_count": 83,
      "id": "bb12043f",
      "metadata": {
        "id": "bb12043f",
        "outputId": "94269515-5720-4170-8a4c-b933a8308d42",
        "colab": {
          "base_uri": "https://localhost:8080/"
        }
      },
      "outputs": [
        {
          "output_type": "execute_result",
          "data": {
            "text/plain": [
              "array([ True, False, False, False])"
            ]
          },
          "metadata": {},
          "execution_count": 83
        }
      ],
      "source": [
        "arr1 == 1"
      ]
    },
    {
      "cell_type": "code",
      "execution_count": 84,
      "id": "1abe3a31",
      "metadata": {
        "id": "1abe3a31",
        "outputId": "c5c8a8af-9e80-445a-9f5a-2d7fbf07ef6d",
        "colab": {
          "base_uri": "https://localhost:8080/"
        }
      },
      "outputs": [
        {
          "output_type": "execute_result",
          "data": {
            "text/plain": [
              "array([False,  True, False,  True])"
            ]
          },
          "metadata": {},
          "execution_count": 84
        }
      ],
      "source": [
        "arr1 % 2 == 0"
      ]
    },
    {
      "cell_type": "code",
      "execution_count": 85,
      "id": "2ff0f045",
      "metadata": {
        "id": "2ff0f045"
      },
      "outputs": [],
      "source": [
        "out = arr1 % 2 == 0"
      ]
    },
    {
      "cell_type": "code",
      "execution_count": 86,
      "id": "582d6725",
      "metadata": {
        "id": "582d6725",
        "outputId": "edf598d4-680c-4fb4-e826-77ece2029013",
        "colab": {
          "base_uri": "https://localhost:8080/"
        }
      },
      "outputs": [
        {
          "output_type": "execute_result",
          "data": {
            "text/plain": [
              "array([False,  True, False,  True])"
            ]
          },
          "metadata": {},
          "execution_count": 86
        }
      ],
      "source": [
        "out"
      ]
    },
    {
      "cell_type": "code",
      "execution_count": 87,
      "id": "a920bc24",
      "metadata": {
        "id": "a920bc24",
        "outputId": "52dc8379-01de-4cdb-a53c-c534c04df1d4",
        "colab": {
          "base_uri": "https://localhost:8080/"
        }
      },
      "outputs": [
        {
          "output_type": "execute_result",
          "data": {
            "text/plain": [
              "dtype('bool')"
            ]
          },
          "metadata": {},
          "execution_count": 87
        }
      ],
      "source": [
        "out.dtype"
      ]
    },
    {
      "cell_type": "code",
      "execution_count": 88,
      "id": "d7d8343f",
      "metadata": {
        "id": "d7d8343f"
      },
      "outputs": [],
      "source": [
        "out = arr1 / 2"
      ]
    },
    {
      "cell_type": "code",
      "execution_count": 89,
      "id": "f386549a",
      "metadata": {
        "id": "f386549a",
        "outputId": "6736adfd-5086-4f5a-8fc0-642dc6044dd8",
        "colab": {
          "base_uri": "https://localhost:8080/"
        }
      },
      "outputs": [
        {
          "output_type": "execute_result",
          "data": {
            "text/plain": [
              "array([0.5, 1. , 1.5, 2. ])"
            ]
          },
          "metadata": {},
          "execution_count": 89
        }
      ],
      "source": [
        "out"
      ]
    },
    {
      "cell_type": "code",
      "execution_count": 90,
      "id": "a3901eb5",
      "metadata": {
        "id": "a3901eb5",
        "outputId": "7915a579-57b9-4d4c-f524-ae663ef8d6e3",
        "colab": {
          "base_uri": "https://localhost:8080/"
        }
      },
      "outputs": [
        {
          "output_type": "execute_result",
          "data": {
            "text/plain": [
              "dtype('float64')"
            ]
          },
          "metadata": {},
          "execution_count": 90
        }
      ],
      "source": [
        "out.dtype"
      ]
    },
    {
      "cell_type": "code",
      "execution_count": 91,
      "id": "4708d8b3",
      "metadata": {
        "id": "4708d8b3",
        "outputId": "f884c01a-14a1-4683-a867-95a54f7e7566",
        "colab": {
          "base_uri": "https://localhost:8080/"
        }
      },
      "outputs": [
        {
          "output_type": "stream",
          "name": "stdout",
          "text": [
            "Help on class float64 in module numpy:\n",
            "\n",
            "class float64(floating, builtins.float)\n",
            " |  float64(x=0, /)\n",
            " |  \n",
            " |  Double-precision floating-point number type, compatible with Python `float`\n",
            " |  and C ``double``.\n",
            " |  \n",
            " |  :Character code: ``'d'``\n",
            " |  :Canonical name: `numpy.double`\n",
            " |  :Alias: `numpy.float_`\n",
            " |  :Alias on this platform (Linux x86_64): `numpy.float64`: 64-bit precision floating-point number type: sign bit, 11 bits exponent, 52 bits mantissa.\n",
            " |  \n",
            " |  Method resolution order:\n",
            " |      float64\n",
            " |      floating\n",
            " |      inexact\n",
            " |      number\n",
            " |      generic\n",
            " |      builtins.float\n",
            " |      builtins.object\n",
            " |  \n",
            " |  Methods defined here:\n",
            " |  \n",
            " |  __abs__(self, /)\n",
            " |      abs(self)\n",
            " |  \n",
            " |  __add__(self, value, /)\n",
            " |      Return self+value.\n",
            " |  \n",
            " |  __bool__(self, /)\n",
            " |      True if self else False\n",
            " |  \n",
            " |  __divmod__(self, value, /)\n",
            " |      Return divmod(self, value).\n",
            " |  \n",
            " |  __eq__(self, value, /)\n",
            " |      Return self==value.\n",
            " |  \n",
            " |  __float__(self, /)\n",
            " |      float(self)\n",
            " |  \n",
            " |  __floordiv__(self, value, /)\n",
            " |      Return self//value.\n",
            " |  \n",
            " |  __ge__(self, value, /)\n",
            " |      Return self>=value.\n",
            " |  \n",
            " |  __gt__(self, value, /)\n",
            " |      Return self>value.\n",
            " |  \n",
            " |  __hash__(self, /)\n",
            " |      Return hash(self).\n",
            " |  \n",
            " |  __int__(self, /)\n",
            " |      int(self)\n",
            " |  \n",
            " |  __le__(self, value, /)\n",
            " |      Return self<=value.\n",
            " |  \n",
            " |  __lt__(self, value, /)\n",
            " |      Return self<value.\n",
            " |  \n",
            " |  __mod__(self, value, /)\n",
            " |      Return self%value.\n",
            " |  \n",
            " |  __mul__(self, value, /)\n",
            " |      Return self*value.\n",
            " |  \n",
            " |  __ne__(self, value, /)\n",
            " |      Return self!=value.\n",
            " |  \n",
            " |  __neg__(self, /)\n",
            " |      -self\n",
            " |  \n",
            " |  __pos__(self, /)\n",
            " |      +self\n",
            " |  \n",
            " |  __pow__(self, value, mod=None, /)\n",
            " |      Return pow(self, value, mod).\n",
            " |  \n",
            " |  __radd__(self, value, /)\n",
            " |      Return value+self.\n",
            " |  \n",
            " |  __rdivmod__(self, value, /)\n",
            " |      Return divmod(value, self).\n",
            " |  \n",
            " |  __repr__(self, /)\n",
            " |      Return repr(self).\n",
            " |  \n",
            " |  __rfloordiv__(self, value, /)\n",
            " |      Return value//self.\n",
            " |  \n",
            " |  __rmod__(self, value, /)\n",
            " |      Return value%self.\n",
            " |  \n",
            " |  __rmul__(self, value, /)\n",
            " |      Return value*self.\n",
            " |  \n",
            " |  __rpow__(self, value, mod=None, /)\n",
            " |      Return pow(value, self, mod).\n",
            " |  \n",
            " |  __rsub__(self, value, /)\n",
            " |      Return value-self.\n",
            " |  \n",
            " |  __rtruediv__(self, value, /)\n",
            " |      Return value/self.\n",
            " |  \n",
            " |  __str__(self, /)\n",
            " |      Return str(self).\n",
            " |  \n",
            " |  __sub__(self, value, /)\n",
            " |      Return self-value.\n",
            " |  \n",
            " |  __truediv__(self, value, /)\n",
            " |      Return self/value.\n",
            " |  \n",
            " |  as_integer_ratio(...)\n",
            " |      double.as_integer_ratio() -> (int, int)\n",
            " |      \n",
            " |      Return a pair of integers, whose ratio is exactly equal to the original\n",
            " |      floating point number, and with a positive denominator.\n",
            " |      Raise `OverflowError` on infinities and a `ValueError` on NaNs.\n",
            " |      \n",
            " |      >>> np.double(10.0).as_integer_ratio()\n",
            " |      (10, 1)\n",
            " |      >>> np.double(0.0).as_integer_ratio()\n",
            " |      (0, 1)\n",
            " |      >>> np.double(-.25).as_integer_ratio()\n",
            " |      (-1, 4)\n",
            " |  \n",
            " |  is_integer(...)\n",
            " |      double.is_integer() -> bool\n",
            " |      \n",
            " |      Return ``True`` if the floating point number is finite with integral\n",
            " |      value, and ``False`` otherwise.\n",
            " |      \n",
            " |      .. versionadded:: 1.22\n",
            " |      \n",
            " |      Examples\n",
            " |      --------\n",
            " |      >>> np.double(-2.0).is_integer()\n",
            " |      True\n",
            " |      >>> np.double(3.2).is_integer()\n",
            " |      False\n",
            " |  \n",
            " |  ----------------------------------------------------------------------\n",
            " |  Class methods defined here:\n",
            " |  \n",
            " |  __class_getitem__(...) from builtins.type\n",
            " |      __class_getitem__(item, /)\n",
            " |      \n",
            " |      Return a parametrized wrapper around the `~numpy.number` type.\n",
            " |      \n",
            " |      .. versionadded:: 1.22\n",
            " |      \n",
            " |      Returns\n",
            " |      -------\n",
            " |      alias : types.GenericAlias\n",
            " |          A parametrized `~numpy.number` type.\n",
            " |      \n",
            " |      Examples\n",
            " |      --------\n",
            " |      >>> from typing import Any\n",
            " |      >>> import numpy as np\n",
            " |      \n",
            " |      >>> np.signedinteger[Any]\n",
            " |      numpy.signedinteger[typing.Any]\n",
            " |      \n",
            " |      Notes\n",
            " |      -----\n",
            " |      This method is only available for python 3.9 and later.\n",
            " |      \n",
            " |      See Also\n",
            " |      --------\n",
            " |      :pep:`585` : Type hinting generics in standard collections.\n",
            " |  \n",
            " |  ----------------------------------------------------------------------\n",
            " |  Static methods defined here:\n",
            " |  \n",
            " |  __new__(*args, **kwargs) from builtins.type\n",
            " |      Create and return a new object.  See help(type) for accurate signature.\n",
            " |  \n",
            " |  ----------------------------------------------------------------------\n",
            " |  Methods inherited from floating:\n",
            " |  \n",
            " |  __round__(...)\n",
            " |  \n",
            " |  ----------------------------------------------------------------------\n",
            " |  Methods inherited from generic:\n",
            " |  \n",
            " |  __and__(self, value, /)\n",
            " |      Return self&value.\n",
            " |  \n",
            " |  __array__(...)\n",
            " |      sc.__array__(dtype) return 0-dim array from scalar with specified dtype\n",
            " |  \n",
            " |  __array_wrap__(...)\n",
            " |      sc.__array_wrap__(obj) return scalar from array\n",
            " |  \n",
            " |  __copy__(...)\n",
            " |  \n",
            " |  __deepcopy__(...)\n",
            " |  \n",
            " |  __format__(...)\n",
            " |      NumPy array scalar formatter\n",
            " |  \n",
            " |  __getitem__(self, key, /)\n",
            " |      Return self[key].\n",
            " |  \n",
            " |  __invert__(self, /)\n",
            " |      ~self\n",
            " |  \n",
            " |  __lshift__(self, value, /)\n",
            " |      Return self<<value.\n",
            " |  \n",
            " |  __or__(self, value, /)\n",
            " |      Return self|value.\n",
            " |  \n",
            " |  __rand__(self, value, /)\n",
            " |      Return value&self.\n",
            " |  \n",
            " |  __reduce__(...)\n",
            " |      Helper for pickle.\n",
            " |  \n",
            " |  __rlshift__(self, value, /)\n",
            " |      Return value<<self.\n",
            " |  \n",
            " |  __ror__(self, value, /)\n",
            " |      Return value|self.\n",
            " |  \n",
            " |  __rrshift__(self, value, /)\n",
            " |      Return value>>self.\n",
            " |  \n",
            " |  __rshift__(self, value, /)\n",
            " |      Return self>>value.\n",
            " |  \n",
            " |  __rxor__(self, value, /)\n",
            " |      Return value^self.\n",
            " |  \n",
            " |  __setstate__(...)\n",
            " |  \n",
            " |  __sizeof__(...)\n",
            " |      Size of object in memory, in bytes.\n",
            " |  \n",
            " |  __xor__(self, value, /)\n",
            " |      Return self^value.\n",
            " |  \n",
            " |  all(...)\n",
            " |      Scalar method identical to the corresponding array attribute.\n",
            " |      \n",
            " |      Please see `ndarray.all`.\n",
            " |  \n",
            " |  any(...)\n",
            " |      Scalar method identical to the corresponding array attribute.\n",
            " |      \n",
            " |      Please see `ndarray.any`.\n",
            " |  \n",
            " |  argmax(...)\n",
            " |      Scalar method identical to the corresponding array attribute.\n",
            " |      \n",
            " |      Please see `ndarray.argmax`.\n",
            " |  \n",
            " |  argmin(...)\n",
            " |      Scalar method identical to the corresponding array attribute.\n",
            " |      \n",
            " |      Please see `ndarray.argmin`.\n",
            " |  \n",
            " |  argsort(...)\n",
            " |      Scalar method identical to the corresponding array attribute.\n",
            " |      \n",
            " |      Please see `ndarray.argsort`.\n",
            " |  \n",
            " |  astype(...)\n",
            " |      Scalar method identical to the corresponding array attribute.\n",
            " |      \n",
            " |      Please see `ndarray.astype`.\n",
            " |  \n",
            " |  byteswap(...)\n",
            " |      Scalar method identical to the corresponding array attribute.\n",
            " |      \n",
            " |      Please see `ndarray.byteswap`.\n",
            " |  \n",
            " |  choose(...)\n",
            " |      Scalar method identical to the corresponding array attribute.\n",
            " |      \n",
            " |      Please see `ndarray.choose`.\n",
            " |  \n",
            " |  clip(...)\n",
            " |      Scalar method identical to the corresponding array attribute.\n",
            " |      \n",
            " |      Please see `ndarray.clip`.\n",
            " |  \n",
            " |  compress(...)\n",
            " |      Scalar method identical to the corresponding array attribute.\n",
            " |      \n",
            " |      Please see `ndarray.compress`.\n",
            " |  \n",
            " |  conj(...)\n",
            " |  \n",
            " |  conjugate(...)\n",
            " |      Scalar method identical to the corresponding array attribute.\n",
            " |      \n",
            " |      Please see `ndarray.conjugate`.\n",
            " |  \n",
            " |  copy(...)\n",
            " |      Scalar method identical to the corresponding array attribute.\n",
            " |      \n",
            " |      Please see `ndarray.copy`.\n",
            " |  \n",
            " |  cumprod(...)\n",
            " |      Scalar method identical to the corresponding array attribute.\n",
            " |      \n",
            " |      Please see `ndarray.cumprod`.\n",
            " |  \n",
            " |  cumsum(...)\n",
            " |      Scalar method identical to the corresponding array attribute.\n",
            " |      \n",
            " |      Please see `ndarray.cumsum`.\n",
            " |  \n",
            " |  diagonal(...)\n",
            " |      Scalar method identical to the corresponding array attribute.\n",
            " |      \n",
            " |      Please see `ndarray.diagonal`.\n",
            " |  \n",
            " |  dump(...)\n",
            " |      Scalar method identical to the corresponding array attribute.\n",
            " |      \n",
            " |      Please see `ndarray.dump`.\n",
            " |  \n",
            " |  dumps(...)\n",
            " |      Scalar method identical to the corresponding array attribute.\n",
            " |      \n",
            " |      Please see `ndarray.dumps`.\n",
            " |  \n",
            " |  fill(...)\n",
            " |      Scalar method identical to the corresponding array attribute.\n",
            " |      \n",
            " |      Please see `ndarray.fill`.\n",
            " |  \n",
            " |  flatten(...)\n",
            " |      Scalar method identical to the corresponding array attribute.\n",
            " |      \n",
            " |      Please see `ndarray.flatten`.\n",
            " |  \n",
            " |  getfield(...)\n",
            " |      Scalar method identical to the corresponding array attribute.\n",
            " |      \n",
            " |      Please see `ndarray.getfield`.\n",
            " |  \n",
            " |  item(...)\n",
            " |      Scalar method identical to the corresponding array attribute.\n",
            " |      \n",
            " |      Please see `ndarray.item`.\n",
            " |  \n",
            " |  itemset(...)\n",
            " |      Scalar method identical to the corresponding array attribute.\n",
            " |      \n",
            " |      Please see `ndarray.itemset`.\n",
            " |  \n",
            " |  max(...)\n",
            " |      Scalar method identical to the corresponding array attribute.\n",
            " |      \n",
            " |      Please see `ndarray.max`.\n",
            " |  \n",
            " |  mean(...)\n",
            " |      Scalar method identical to the corresponding array attribute.\n",
            " |      \n",
            " |      Please see `ndarray.mean`.\n",
            " |  \n",
            " |  min(...)\n",
            " |      Scalar method identical to the corresponding array attribute.\n",
            " |      \n",
            " |      Please see `ndarray.min`.\n",
            " |  \n",
            " |  newbyteorder(...)\n",
            " |      newbyteorder(new_order='S', /)\n",
            " |      \n",
            " |      Return a new `dtype` with a different byte order.\n",
            " |      \n",
            " |      Changes are also made in all fields and sub-arrays of the data type.\n",
            " |      \n",
            " |      The `new_order` code can be any from the following:\n",
            " |      \n",
            " |      * 'S' - swap dtype from current to opposite endian\n",
            " |      * {'<', 'little'} - little endian\n",
            " |      * {'>', 'big'} - big endian\n",
            " |      * {'=', 'native'} - native order\n",
            " |      * {'|', 'I'} - ignore (no change to byte order)\n",
            " |      \n",
            " |      Parameters\n",
            " |      ----------\n",
            " |      new_order : str, optional\n",
            " |          Byte order to force; a value from the byte order specifications\n",
            " |          above.  The default value ('S') results in swapping the current\n",
            " |          byte order.\n",
            " |      \n",
            " |      \n",
            " |      Returns\n",
            " |      -------\n",
            " |      new_dtype : dtype\n",
            " |          New `dtype` object with the given change to the byte order.\n",
            " |  \n",
            " |  nonzero(...)\n",
            " |      Scalar method identical to the corresponding array attribute.\n",
            " |      \n",
            " |      Please see `ndarray.nonzero`.\n",
            " |  \n",
            " |  prod(...)\n",
            " |      Scalar method identical to the corresponding array attribute.\n",
            " |      \n",
            " |      Please see `ndarray.prod`.\n",
            " |  \n",
            " |  ptp(...)\n",
            " |      Scalar method identical to the corresponding array attribute.\n",
            " |      \n",
            " |      Please see `ndarray.ptp`.\n",
            " |  \n",
            " |  put(...)\n",
            " |      Scalar method identical to the corresponding array attribute.\n",
            " |      \n",
            " |      Please see `ndarray.put`.\n",
            " |  \n",
            " |  ravel(...)\n",
            " |      Scalar method identical to the corresponding array attribute.\n",
            " |      \n",
            " |      Please see `ndarray.ravel`.\n",
            " |  \n",
            " |  repeat(...)\n",
            " |      Scalar method identical to the corresponding array attribute.\n",
            " |      \n",
            " |      Please see `ndarray.repeat`.\n",
            " |  \n",
            " |  reshape(...)\n",
            " |      Scalar method identical to the corresponding array attribute.\n",
            " |      \n",
            " |      Please see `ndarray.reshape`.\n",
            " |  \n",
            " |  resize(...)\n",
            " |      Scalar method identical to the corresponding array attribute.\n",
            " |      \n",
            " |      Please see `ndarray.resize`.\n",
            " |  \n",
            " |  round(...)\n",
            " |      Scalar method identical to the corresponding array attribute.\n",
            " |      \n",
            " |      Please see `ndarray.round`.\n",
            " |  \n",
            " |  searchsorted(...)\n",
            " |      Scalar method identical to the corresponding array attribute.\n",
            " |      \n",
            " |      Please see `ndarray.searchsorted`.\n",
            " |  \n",
            " |  setfield(...)\n",
            " |      Scalar method identical to the corresponding array attribute.\n",
            " |      \n",
            " |      Please see `ndarray.setfield`.\n",
            " |  \n",
            " |  setflags(...)\n",
            " |      Scalar method identical to the corresponding array attribute.\n",
            " |      \n",
            " |      Please see `ndarray.setflags`.\n",
            " |  \n",
            " |  sort(...)\n",
            " |      Scalar method identical to the corresponding array attribute.\n",
            " |      \n",
            " |      Please see `ndarray.sort`.\n",
            " |  \n",
            " |  squeeze(...)\n",
            " |      Scalar method identical to the corresponding array attribute.\n",
            " |      \n",
            " |      Please see `ndarray.squeeze`.\n",
            " |  \n",
            " |  std(...)\n",
            " |      Scalar method identical to the corresponding array attribute.\n",
            " |      \n",
            " |      Please see `ndarray.std`.\n",
            " |  \n",
            " |  sum(...)\n",
            " |      Scalar method identical to the corresponding array attribute.\n",
            " |      \n",
            " |      Please see `ndarray.sum`.\n",
            " |  \n",
            " |  swapaxes(...)\n",
            " |      Scalar method identical to the corresponding array attribute.\n",
            " |      \n",
            " |      Please see `ndarray.swapaxes`.\n",
            " |  \n",
            " |  take(...)\n",
            " |      Scalar method identical to the corresponding array attribute.\n",
            " |      \n",
            " |      Please see `ndarray.take`.\n",
            " |  \n",
            " |  tobytes(...)\n",
            " |  \n",
            " |  tofile(...)\n",
            " |      Scalar method identical to the corresponding array attribute.\n",
            " |      \n",
            " |      Please see `ndarray.tofile`.\n",
            " |  \n",
            " |  tolist(...)\n",
            " |      Scalar method identical to the corresponding array attribute.\n",
            " |      \n",
            " |      Please see `ndarray.tolist`.\n",
            " |  \n",
            " |  tostring(...)\n",
            " |      Scalar method identical to the corresponding array attribute.\n",
            " |      \n",
            " |      Please see `ndarray.tostring`.\n",
            " |  \n",
            " |  trace(...)\n",
            " |      Scalar method identical to the corresponding array attribute.\n",
            " |      \n",
            " |      Please see `ndarray.trace`.\n",
            " |  \n",
            " |  transpose(...)\n",
            " |      Scalar method identical to the corresponding array attribute.\n",
            " |      \n",
            " |      Please see `ndarray.transpose`.\n",
            " |  \n",
            " |  var(...)\n",
            " |      Scalar method identical to the corresponding array attribute.\n",
            " |      \n",
            " |      Please see `ndarray.var`.\n",
            " |  \n",
            " |  view(...)\n",
            " |      Scalar method identical to the corresponding array attribute.\n",
            " |      \n",
            " |      Please see `ndarray.view`.\n",
            " |  \n",
            " |  ----------------------------------------------------------------------\n",
            " |  Data descriptors inherited from generic:\n",
            " |  \n",
            " |  T\n",
            " |      Scalar attribute identical to the corresponding array attribute.\n",
            " |      \n",
            " |      Please see `ndarray.T`.\n",
            " |  \n",
            " |  __array_interface__\n",
            " |      Array protocol: Python side\n",
            " |  \n",
            " |  __array_priority__\n",
            " |      Array priority.\n",
            " |  \n",
            " |  __array_struct__\n",
            " |      Array protocol: struct\n",
            " |  \n",
            " |  base\n",
            " |      Scalar attribute identical to the corresponding array attribute.\n",
            " |      \n",
            " |      Please see `ndarray.base`.\n",
            " |  \n",
            " |  data\n",
            " |      Pointer to start of data.\n",
            " |  \n",
            " |  dtype\n",
            " |      Get array data-descriptor.\n",
            " |  \n",
            " |  flags\n",
            " |      The integer value of flags.\n",
            " |  \n",
            " |  flat\n",
            " |      A 1-D view of the scalar.\n",
            " |  \n",
            " |  imag\n",
            " |      The imaginary part of the scalar.\n",
            " |  \n",
            " |  itemsize\n",
            " |      The length of one element in bytes.\n",
            " |  \n",
            " |  nbytes\n",
            " |      The length of the scalar in bytes.\n",
            " |  \n",
            " |  ndim\n",
            " |      The number of array dimensions.\n",
            " |  \n",
            " |  real\n",
            " |      The real part of the scalar.\n",
            " |  \n",
            " |  shape\n",
            " |      Tuple of array dimensions.\n",
            " |  \n",
            " |  size\n",
            " |      The number of elements in the gentype.\n",
            " |  \n",
            " |  strides\n",
            " |      Tuple of bytes steps in each dimension.\n",
            " |  \n",
            " |  ----------------------------------------------------------------------\n",
            " |  Methods inherited from builtins.float:\n",
            " |  \n",
            " |  __ceil__(self, /)\n",
            " |      Return the ceiling as an Integral.\n",
            " |  \n",
            " |  __floor__(self, /)\n",
            " |      Return the floor as an Integral.\n",
            " |  \n",
            " |  __getattribute__(self, name, /)\n",
            " |      Return getattr(self, name).\n",
            " |  \n",
            " |  __getnewargs__(self, /)\n",
            " |  \n",
            " |  __trunc__(self, /)\n",
            " |      Return the Integral closest to x between 0 and x.\n",
            " |  \n",
            " |  hex(self, /)\n",
            " |      Return a hexadecimal representation of a floating-point number.\n",
            " |      \n",
            " |      >>> (-0.1).hex()\n",
            " |      '-0x1.999999999999ap-4'\n",
            " |      >>> 3.14159.hex()\n",
            " |      '0x1.921f9f01b866ep+1'\n",
            " |  \n",
            " |  ----------------------------------------------------------------------\n",
            " |  Class methods inherited from builtins.float:\n",
            " |  \n",
            " |  __getformat__(typestr, /) from builtins.type\n",
            " |      You probably don't want to use this function.\n",
            " |      \n",
            " |        typestr\n",
            " |          Must be 'double' or 'float'.\n",
            " |      \n",
            " |      It exists mainly to be used in Python's test suite.\n",
            " |      \n",
            " |      This function returns whichever of 'unknown', 'IEEE, big-endian' or 'IEEE,\n",
            " |      little-endian' best describes the format of floating point numbers used by the\n",
            " |      C type named by typestr.\n",
            " |  \n",
            " |  __setformat__(typestr, fmt, /) from builtins.type\n",
            " |      You probably don't want to use this function.\n",
            " |      \n",
            " |        typestr\n",
            " |          Must be 'double' or 'float'.\n",
            " |        fmt\n",
            " |          Must be one of 'unknown', 'IEEE, big-endian' or 'IEEE, little-endian',\n",
            " |          and in addition can only be one of the latter two if it appears to\n",
            " |          match the underlying C reality.\n",
            " |      \n",
            " |      It exists mainly to be used in Python's test suite.\n",
            " |      \n",
            " |      Override the automatic determination of C-level floating point type.\n",
            " |      This affects how floats are converted to and from binary strings.\n",
            " |  \n",
            " |  fromhex(string, /) from builtins.type\n",
            " |      Create a floating-point number from a hexadecimal string.\n",
            " |      \n",
            " |      >>> float.fromhex('0x1.ffffp10')\n",
            " |      2047.984375\n",
            " |      >>> float.fromhex('-0x1p-1074')\n",
            " |      -5e-324\n",
            "\n"
          ]
        }
      ],
      "source": [
        "help(np.float64)"
      ]
    },
    {
      "cell_type": "code",
      "execution_count": 92,
      "id": "f18f0570",
      "metadata": {
        "id": "f18f0570"
      },
      "outputs": [],
      "source": [
        "l1 = [1,2,'hi']"
      ]
    },
    {
      "cell_type": "code",
      "execution_count": 93,
      "id": "e3c38361",
      "metadata": {
        "id": "e3c38361",
        "outputId": "42d6203c-cb23-4a85-e4bc-f01d0d034e43",
        "colab": {
          "base_uri": "https://localhost:8080/"
        }
      },
      "outputs": [
        {
          "output_type": "execute_result",
          "data": {
            "text/plain": [
              "[1, 2, 'hi']"
            ]
          },
          "metadata": {},
          "execution_count": 93
        }
      ],
      "source": [
        "l1"
      ]
    },
    {
      "cell_type": "code",
      "execution_count": 94,
      "id": "fa7914f5",
      "metadata": {
        "id": "fa7914f5",
        "outputId": "85dc6281-e86e-4894-e18d-6ab69cf043fd",
        "colab": {
          "base_uri": "https://localhost:8080/"
        }
      },
      "outputs": [
        {
          "output_type": "execute_result",
          "data": {
            "text/plain": [
              "[1, 2, 'hi', 1, 2, 'hi']"
            ]
          },
          "metadata": {},
          "execution_count": 94
        }
      ],
      "source": [
        "l1 * 2"
      ]
    },
    {
      "cell_type": "code",
      "execution_count": 95,
      "id": "97ff32f7",
      "metadata": {
        "id": "97ff32f7"
      },
      "outputs": [],
      "source": [
        "a1 = np.array(l1)"
      ]
    },
    {
      "cell_type": "code",
      "execution_count": 96,
      "id": "6650b6cc",
      "metadata": {
        "id": "6650b6cc",
        "outputId": "a32d95bd-39e5-4101-afaf-25df07061ec8",
        "colab": {
          "base_uri": "https://localhost:8080/"
        }
      },
      "outputs": [
        {
          "output_type": "execute_result",
          "data": {
            "text/plain": [
              "array(['1', '2', 'hi'], dtype='<U21')"
            ]
          },
          "metadata": {},
          "execution_count": 96
        }
      ],
      "source": [
        "a1   # Diffrent form of elements will not support"
      ]
    },
    {
      "cell_type": "code",
      "execution_count": 98,
      "id": "9026ee39",
      "metadata": {
        "id": "9026ee39",
        "outputId": "2a594c28-93c0-47bc-d7c5-7adc8efcf95d",
        "colab": {
          "base_uri": "https://localhost:8080/"
        }
      },
      "outputs": [
        {
          "output_type": "execute_result",
          "data": {
            "text/plain": [
              "dtype('<U21')"
            ]
          },
          "metadata": {},
          "execution_count": 98
        }
      ],
      "source": [
        "a1.dtype"
      ]
    },
    {
      "cell_type": "markdown",
      "source": [
        "#### Homogeneous type"
      ],
      "metadata": {
        "id": "Uu8xVMCFREVP"
      },
      "id": "Uu8xVMCFREVP"
    },
    {
      "cell_type": "code",
      "execution_count": 99,
      "id": "25c0d0c7",
      "metadata": {
        "id": "25c0d0c7"
      },
      "outputs": [],
      "source": [
        "l2 = [1,2,'5']  # Here it converts all other elements / values to string"
      ]
    },
    {
      "cell_type": "code",
      "execution_count": 100,
      "id": "fe1f053e",
      "metadata": {
        "id": "fe1f053e"
      },
      "outputs": [],
      "source": [
        "a2 = np.array(l2)"
      ]
    },
    {
      "cell_type": "code",
      "execution_count": 101,
      "id": "d20697e3",
      "metadata": {
        "id": "d20697e3",
        "outputId": "8979576d-b0c6-473e-b133-db66d2c7a8f6",
        "colab": {
          "base_uri": "https://localhost:8080/"
        }
      },
      "outputs": [
        {
          "output_type": "execute_result",
          "data": {
            "text/plain": [
              "array(['1', '2', '5'], dtype='<U21')"
            ]
          },
          "metadata": {},
          "execution_count": 101
        }
      ],
      "source": [
        "a2"
      ]
    },
    {
      "cell_type": "code",
      "execution_count": 102,
      "id": "66800074",
      "metadata": {
        "id": "66800074"
      },
      "outputs": [],
      "source": [
        "a3 = np.array([10, 9.5, 'Python'])"
      ]
    },
    {
      "cell_type": "code",
      "execution_count": 104,
      "id": "cba5c627",
      "metadata": {
        "id": "cba5c627",
        "outputId": "b450bf50-fc7c-43d7-cb38-edbadea13c6b",
        "colab": {
          "base_uri": "https://localhost:8080/"
        }
      },
      "outputs": [
        {
          "output_type": "execute_result",
          "data": {
            "text/plain": [
              "array(['10', '9.5', 'Python'], dtype='<U32')"
            ]
          },
          "metadata": {},
          "execution_count": 104
        }
      ],
      "source": [
        "a3"
      ]
    },
    {
      "cell_type": "code",
      "execution_count": 105,
      "id": "558d8348",
      "metadata": {
        "id": "558d8348",
        "outputId": "a8946433-3516-4830-8f93-2162beeaae6e",
        "colab": {
          "base_uri": "https://localhost:8080/"
        }
      },
      "outputs": [
        {
          "output_type": "execute_result",
          "data": {
            "text/plain": [
              "dtype('<U32')"
            ]
          },
          "metadata": {},
          "execution_count": 105
        }
      ],
      "source": [
        "a3.dtype"
      ]
    },
    {
      "cell_type": "code",
      "execution_count": 106,
      "id": "5dfed08f",
      "metadata": {
        "id": "5dfed08f",
        "outputId": "a74765d3-45a8-419d-f513-dd8452006f1c",
        "colab": {
          "base_uri": "https://localhost:8080/"
        }
      },
      "outputs": [
        {
          "output_type": "stream",
          "name": "stderr",
          "text": [
            "<ipython-input-106-23a627aa3344>:1: VisibleDeprecationWarning: Creating an ndarray from ragged nested sequences (which is a list-or-tuple of lists-or-tuples-or ndarrays with different lengths or shapes) is deprecated. If you meant to do this, you must specify 'dtype=object' when creating the ndarray.\n",
            "  a4 = np.array([10, 9.5, 'hi', [1,2]])\n"
          ]
        }
      ],
      "source": [
        "a4 = np.array([10, 9.5, 'hi', [1,2]])"
      ]
    },
    {
      "cell_type": "code",
      "execution_count": 107,
      "id": "98fe0b9f",
      "metadata": {
        "id": "98fe0b9f",
        "outputId": "4099edf3-f58c-4327-fede-88b1b405cf13",
        "colab": {
          "base_uri": "https://localhost:8080/"
        }
      },
      "outputs": [
        {
          "output_type": "execute_result",
          "data": {
            "text/plain": [
              "array([10, 9.5, 'hi', list([1, 2])], dtype=object)"
            ]
          },
          "metadata": {},
          "execution_count": 107
        }
      ],
      "source": [
        "a4"
      ]
    },
    {
      "cell_type": "code",
      "execution_count": 108,
      "id": "de20497e",
      "metadata": {
        "id": "de20497e",
        "outputId": "44e9d6fc-09e0-41c6-9b12-e96c1be62361",
        "colab": {
          "base_uri": "https://localhost:8080/"
        }
      },
      "outputs": [
        {
          "output_type": "execute_result",
          "data": {
            "text/plain": [
              "dtype('O')"
            ]
          },
          "metadata": {},
          "execution_count": 108
        }
      ],
      "source": [
        "a4.dtype"
      ]
    },
    {
      "cell_type": "code",
      "execution_count": 109,
      "id": "41533473",
      "metadata": {
        "id": "41533473"
      },
      "outputs": [],
      "source": [
        "a5 = np.array([10, 2.5, \"We are learning NumPy using Python\"])"
      ]
    },
    {
      "cell_type": "code",
      "execution_count": 110,
      "id": "37c8ecdf",
      "metadata": {
        "id": "37c8ecdf",
        "outputId": "5553ce2e-535b-4713-b513-dd145eb85ff6",
        "colab": {
          "base_uri": "https://localhost:8080/"
        }
      },
      "outputs": [
        {
          "output_type": "execute_result",
          "data": {
            "text/plain": [
              "array(['10', '2.5', 'We are learning NumPy using Python'], dtype='<U34')"
            ]
          },
          "metadata": {},
          "execution_count": 110
        }
      ],
      "source": [
        "a5"
      ]
    },
    {
      "cell_type": "code",
      "execution_count": 111,
      "id": "0b1fe02d",
      "metadata": {
        "id": "0b1fe02d",
        "outputId": "92761935-fec5-4d80-f879-2eecece699b4",
        "colab": {
          "base_uri": "https://localhost:8080/"
        }
      },
      "outputs": [
        {
          "output_type": "execute_result",
          "data": {
            "text/plain": [
              "34"
            ]
          },
          "metadata": {},
          "execution_count": 111
        }
      ],
      "source": [
        "len('We are learning NumPy using Python')"
      ]
    },
    {
      "cell_type": "code",
      "execution_count": 124,
      "id": "0802cf85",
      "metadata": {
        "id": "0802cf85",
        "colab": {
          "base_uri": "https://localhost:8080/"
        },
        "outputId": "f26c30a7-9132-439d-f276-dea1bb8cbb61"
      },
      "outputs": [
        {
          "output_type": "execute_result",
          "data": {
            "text/plain": [
              "array([1, 2, 3])"
            ]
          },
          "metadata": {},
          "execution_count": 124
        }
      ],
      "source": [
        "a6 = np.array((1,2,3))\n",
        "a6"
      ]
    },
    {
      "cell_type": "code",
      "execution_count": 127,
      "id": "64bab0ca",
      "metadata": {
        "id": "64bab0ca",
        "colab": {
          "base_uri": "https://localhost:8080/"
        },
        "outputId": "a2332403-90e1-420a-d0b1-11c0bbddc2fc"
      },
      "outputs": [
        {
          "output_type": "execute_result",
          "data": {
            "text/plain": [
              "array([10, 11, 12, 13, 14, 15, 16, 17, 18, 19, 20, 21, 22, 23, 24])"
            ]
          },
          "metadata": {},
          "execution_count": 127
        }
      ],
      "source": [
        "a1 = np.arange(10, 25, 1)   # 10 First elemenet, 15 Last element, 1 incremenet value\n",
        "a1"
      ]
    },
    {
      "cell_type": "markdown",
      "source": [
        "#### Random package"
      ],
      "metadata": {
        "id": "C8s3df8IUnEd"
      },
      "id": "C8s3df8IUnEd"
    },
    {
      "cell_type": "code",
      "execution_count": null,
      "id": "e0911379",
      "metadata": {
        "id": "e0911379",
        "outputId": "be659d56-a160-4471-db6d-559d9fdee313"
      },
      "outputs": [
        {
          "name": "stdout",
          "output_type": "stream",
          "text": [
            "Help on built-in function randint:\n",
            "\n",
            "randint(...) method of numpy.random.mtrand.RandomState instance\n",
            "    randint(low, high=None, size=None, dtype=int)\n",
            "    \n",
            "    Return random integers from `low` (inclusive) to `high` (exclusive).\n",
            "    \n",
            "    Return random integers from the \"discrete uniform\" distribution of\n",
            "    the specified dtype in the \"half-open\" interval [`low`, `high`). If\n",
            "    `high` is None (the default), then results are from [0, `low`).\n",
            "    \n",
            "    .. note::\n",
            "        New code should use the ``integers`` method of a ``default_rng()``\n",
            "        instance instead; please see the :ref:`random-quick-start`.\n",
            "    \n",
            "    Parameters\n",
            "    ----------\n",
            "    low : int or array-like of ints\n",
            "        Lowest (signed) integers to be drawn from the distribution (unless\n",
            "        ``high=None``, in which case this parameter is one above the\n",
            "        *highest* such integer).\n",
            "    high : int or array-like of ints, optional\n",
            "        If provided, one above the largest (signed) integer to be drawn\n",
            "        from the distribution (see above for behavior if ``high=None``).\n",
            "        If array-like, must contain integer values\n",
            "    size : int or tuple of ints, optional\n",
            "        Output shape.  If the given shape is, e.g., ``(m, n, k)``, then\n",
            "        ``m * n * k`` samples are drawn.  Default is None, in which case a\n",
            "        single value is returned.\n",
            "    dtype : dtype, optional\n",
            "        Desired dtype of the result. Byteorder must be native.\n",
            "        The default value is int.\n",
            "    \n",
            "        .. versionadded:: 1.11.0\n",
            "    \n",
            "    Returns\n",
            "    -------\n",
            "    out : int or ndarray of ints\n",
            "        `size`-shaped array of random integers from the appropriate\n",
            "        distribution, or a single such random int if `size` not provided.\n",
            "    \n",
            "    See Also\n",
            "    --------\n",
            "    random_integers : similar to `randint`, only for the closed\n",
            "        interval [`low`, `high`], and 1 is the lowest value if `high` is\n",
            "        omitted.\n",
            "    Generator.integers: which should be used for new code.\n",
            "    \n",
            "    Examples\n",
            "    --------\n",
            "    >>> np.random.randint(2, size=10)\n",
            "    array([1, 0, 0, 0, 1, 1, 0, 0, 1, 0]) # random\n",
            "    >>> np.random.randint(1, size=10)\n",
            "    array([0, 0, 0, 0, 0, 0, 0, 0, 0, 0])\n",
            "    \n",
            "    Generate a 2 x 4 array of ints between 0 and 4, inclusive:\n",
            "    \n",
            "    >>> np.random.randint(5, size=(2, 4))\n",
            "    array([[4, 0, 2, 1], # random\n",
            "           [3, 2, 2, 0]])\n",
            "    \n",
            "    Generate a 1 x 3 array with 3 different upper bounds\n",
            "    \n",
            "    >>> np.random.randint(1, [3, 5, 10])\n",
            "    array([2, 2, 9]) # random\n",
            "    \n",
            "    Generate a 1 by 3 array with 3 different lower bounds\n",
            "    \n",
            "    >>> np.random.randint([1, 5, 7], 10)\n",
            "    array([9, 8, 7]) # random\n",
            "    \n",
            "    Generate a 2 by 4 array using broadcasting with dtype of uint8\n",
            "    \n",
            "    >>> np.random.randint([1, 3, 5, 7], [[10], [20]], dtype=np.uint8)\n",
            "    array([[ 8,  6,  9,  7], # random\n",
            "           [ 1, 16,  9, 12]], dtype=uint8)\n",
            "\n"
          ]
        }
      ],
      "source": [
        "help(np.random.randint)"
      ]
    },
    {
      "cell_type": "code",
      "execution_count": 130,
      "id": "6f5085d3",
      "metadata": {
        "id": "6f5085d3",
        "outputId": "9b7b4db5-b0c5-4783-a047-ca2af55b9196",
        "colab": {
          "base_uri": "https://localhost:8080/"
        }
      },
      "outputs": [
        {
          "output_type": "execute_result",
          "data": {
            "text/plain": [
              "19"
            ]
          },
          "metadata": {},
          "execution_count": 130
        }
      ],
      "source": [
        "np.random.randint(10, 25) # It just pick a random number between 10 to 25"
      ]
    },
    {
      "cell_type": "code",
      "execution_count": 132,
      "id": "0d0d92fc",
      "metadata": {
        "id": "0d0d92fc",
        "outputId": "85e843ef-c36d-4d02-c55b-2462cf011235",
        "colab": {
          "base_uri": "https://localhost:8080/"
        }
      },
      "outputs": [
        {
          "output_type": "execute_result",
          "data": {
            "text/plain": [
              "array([[14, 19, 22, 15],\n",
              "       [17, 13, 15, 20],\n",
              "       [20, 19, 12, 13]])"
            ]
          },
          "metadata": {},
          "execution_count": 132
        }
      ],
      "source": [
        "np.random.randint(10, 25, (3, 4))  # It just pick a random number between 10 to 25 and create 3 cross 4 array"
      ]
    },
    {
      "cell_type": "code",
      "execution_count": 134,
      "id": "f034909b",
      "metadata": {
        "id": "f034909b",
        "outputId": "7e959cc2-5530-446c-d664-afd504844fec",
        "colab": {
          "base_uri": "https://localhost:8080/"
        }
      },
      "outputs": [
        {
          "output_type": "execute_result",
          "data": {
            "text/plain": [
              "array([[20, 21, 18, 21],\n",
              "       [17, 14, 22, 18],\n",
              "       [13, 18, 15, 14]])"
            ]
          },
          "metadata": {},
          "execution_count": 134
        }
      ],
      "source": [
        "np.random.randint(10, 25, (3, 4))  # Every single run it creates new one"
      ]
    },
    {
      "cell_type": "code",
      "execution_count": 135,
      "id": "7a9109dd",
      "metadata": {
        "id": "7a9109dd",
        "outputId": "f1ca72ea-46d6-4953-a0fc-566313924e47",
        "colab": {
          "base_uri": "https://localhost:8080/"
        }
      },
      "outputs": [
        {
          "output_type": "execute_result",
          "data": {
            "text/plain": [
              "array([[20, 23, 17, 16],\n",
              "       [21, 14, 23, 11],\n",
              "       [11, 22, 11, 12]])"
            ]
          },
          "metadata": {},
          "execution_count": 135
        }
      ],
      "source": [
        "np.random.randint(10, 25, (3, 4))"
      ]
    },
    {
      "cell_type": "code",
      "execution_count": 136,
      "id": "0a304f48",
      "metadata": {
        "id": "0a304f48",
        "outputId": "70cc7fa9-b917-4dff-f021-16648fb32ac2",
        "colab": {
          "base_uri": "https://localhost:8080/"
        }
      },
      "outputs": [
        {
          "output_type": "execute_result",
          "data": {
            "text/plain": [
              "array([[22, 17],\n",
              "       [22, 10],\n",
              "       [12, 18]])"
            ]
          },
          "metadata": {},
          "execution_count": 136
        }
      ],
      "source": [
        "np.random.randint(10, 25, (3, 2))"
      ]
    },
    {
      "cell_type": "code",
      "execution_count": 137,
      "id": "6df6816a",
      "metadata": {
        "id": "6df6816a",
        "outputId": "541f1a1e-caeb-439f-e27e-820300cb636c",
        "colab": {
          "base_uri": "https://localhost:8080/"
        }
      },
      "outputs": [
        {
          "output_type": "execute_result",
          "data": {
            "text/plain": [
              "array([[89, 57,  3],\n",
              "       [ 0, 70, 44],\n",
              "       [24, 11, 97]])"
            ]
          },
          "metadata": {},
          "execution_count": 137
        }
      ],
      "source": [
        "np.random.randint(0, 100, (3, 3))"
      ]
    },
    {
      "cell_type": "code",
      "execution_count": 139,
      "id": "a9e59bf2",
      "metadata": {
        "id": "a9e59bf2",
        "colab": {
          "base_uri": "https://localhost:8080/"
        },
        "outputId": "58d093c3-f13c-42d4-b1a4-f2fb6a420134"
      },
      "outputs": [
        {
          "output_type": "execute_result",
          "data": {
            "text/plain": [
              "array([[94, 15, 89],\n",
              "       [50, 83, 52],\n",
              "       [18, 63, 25]])"
            ]
          },
          "metadata": {},
          "execution_count": 139
        }
      ],
      "source": [
        "a1 = np.random.randint(0, 100, (3, 3))\n",
        "a1"
      ]
    },
    {
      "cell_type": "code",
      "execution_count": null,
      "id": "f828bc60",
      "metadata": {
        "id": "f828bc60",
        "outputId": "f0fe0a64-3ea1-4aa7-ab93-9e372e95a019"
      },
      "outputs": [
        {
          "data": {
            "text/plain": [
              "dtype('int32')"
            ]
          },
          "execution_count": 127,
          "metadata": {},
          "output_type": "execute_result"
        }
      ],
      "source": [
        "a1.dtype"
      ]
    },
    {
      "cell_type": "code",
      "execution_count": null,
      "id": "47cf0ca2",
      "metadata": {
        "id": "47cf0ca2",
        "outputId": "f8a664e2-2c04-41cc-b3b2-a2ca93c3a1e0"
      },
      "outputs": [
        {
          "name": "stdout",
          "output_type": "stream",
          "text": [
            "Help on built-in function rand:\n",
            "\n",
            "rand(...) method of numpy.random.mtrand.RandomState instance\n",
            "    rand(d0, d1, ..., dn)\n",
            "    \n",
            "    Random values in a given shape.\n",
            "    \n",
            "    .. note::\n",
            "        This is a convenience function for users porting code from Matlab,\n",
            "        and wraps `random_sample`. That function takes a\n",
            "        tuple to specify the size of the output, which is consistent with\n",
            "        other NumPy functions like `numpy.zeros` and `numpy.ones`.\n",
            "    \n",
            "    Create an array of the given shape and populate it with\n",
            "    random samples from a uniform distribution\n",
            "    over ``[0, 1)``.\n",
            "    \n",
            "    Parameters\n",
            "    ----------\n",
            "    d0, d1, ..., dn : int, optional\n",
            "        The dimensions of the returned array, must be non-negative.\n",
            "        If no argument is given a single Python float is returned.\n",
            "    \n",
            "    Returns\n",
            "    -------\n",
            "    out : ndarray, shape ``(d0, d1, ..., dn)``\n",
            "        Random values.\n",
            "    \n",
            "    See Also\n",
            "    --------\n",
            "    random\n",
            "    \n",
            "    Examples\n",
            "    --------\n",
            "    >>> np.random.rand(3,2)\n",
            "    array([[ 0.14022471,  0.96360618],  #random\n",
            "           [ 0.37601032,  0.25528411],  #random\n",
            "           [ 0.49313049,  0.94909878]]) #random\n",
            "\n"
          ]
        }
      ],
      "source": [
        "help(np.random.rand)"
      ]
    },
    {
      "cell_type": "code",
      "execution_count": 143,
      "id": "4aedb344",
      "metadata": {
        "id": "4aedb344",
        "outputId": "b396e6a5-c49c-4ff4-8ec9-8edb48bd4f7c",
        "colab": {
          "base_uri": "https://localhost:8080/"
        }
      },
      "outputs": [
        {
          "output_type": "execute_result",
          "data": {
            "text/plain": [
              "array([[0.89954254, 0.82814663, 0.93911675],\n",
              "       [0.04930497, 0.30211086, 0.08160679]])"
            ]
          },
          "metadata": {},
          "execution_count": 143
        }
      ],
      "source": [
        "np.random.rand(2,3)  # will return a 2D array of shape (2, 3) filled with random numbers between 0 and 1"
      ]
    },
    {
      "cell_type": "code",
      "execution_count": 144,
      "id": "11d56348",
      "metadata": {
        "id": "11d56348",
        "outputId": "d521d910-83ac-46b7-d16d-383fe537df0e",
        "colab": {
          "base_uri": "https://localhost:8080/"
        }
      },
      "outputs": [
        {
          "output_type": "execute_result",
          "data": {
            "text/plain": [
              "array([0.54683786, 0.56055227, 0.60620462, 0.38696312, 0.71430068])"
            ]
          },
          "metadata": {},
          "execution_count": 144
        }
      ],
      "source": [
        "np.random.rand(5)"
      ]
    },
    {
      "cell_type": "code",
      "execution_count": null,
      "id": "fdda3366",
      "metadata": {
        "id": "fdda3366",
        "outputId": "bf3c99eb-e811-412b-8578-f0375ead0147"
      },
      "outputs": [
        {
          "data": {
            "text/plain": [
              "array([[[0.0565037 , 0.97744207],\n",
              "        [0.50116712, 0.28907783],\n",
              "        [0.76584126, 0.23810187],\n",
              "        [0.01388797, 0.72034136]],\n",
              "\n",
              "       [[0.55123062, 0.73629588],\n",
              "        [0.47705548, 0.54651384],\n",
              "        [0.93651869, 0.23959612],\n",
              "        [0.50670624, 0.57790535]],\n",
              "\n",
              "       [[0.6346146 , 0.88551627],\n",
              "        [0.49721128, 0.25776002],\n",
              "        [0.71336461, 0.33174659],\n",
              "        [0.55513497, 0.95169136]],\n",
              "\n",
              "       [[0.93780017, 0.01648406],\n",
              "        [0.96694062, 0.21622835],\n",
              "        [0.27001201, 0.40433707],\n",
              "        [0.85750991, 0.98913103]],\n",
              "\n",
              "       [[0.04258817, 0.73190909],\n",
              "        [0.59316168, 0.54837015],\n",
              "        [0.35092491, 0.69175952],\n",
              "        [0.84027426, 0.222615  ]]])"
            ]
          },
          "execution_count": 131,
          "metadata": {},
          "output_type": "execute_result"
        }
      ],
      "source": [
        "np.random.rand(5,4,2) #  will return a 3D array of shape (5, 4, 2) filled with random numbers between 0 and 1."
      ]
    },
    {
      "cell_type": "markdown",
      "source": [
        "#### zeros"
      ],
      "metadata": {
        "id": "zR23v6XaW96T"
      },
      "id": "zR23v6XaW96T"
    },
    {
      "cell_type": "code",
      "execution_count": null,
      "id": "b58be1f7",
      "metadata": {
        "id": "b58be1f7",
        "outputId": "8386bce0-1cfb-4cef-be9d-23f3bd4d45e5"
      },
      "outputs": [
        {
          "name": "stdout",
          "output_type": "stream",
          "text": [
            "Help on built-in function zeros in module numpy:\n",
            "\n",
            "zeros(...)\n",
            "    zeros(shape, dtype=float, order='C', *, like=None)\n",
            "    \n",
            "    Return a new array of given shape and type, filled with zeros.\n",
            "    \n",
            "    Parameters\n",
            "    ----------\n",
            "    shape : int or tuple of ints\n",
            "        Shape of the new array, e.g., ``(2, 3)`` or ``2``.\n",
            "    dtype : data-type, optional\n",
            "        The desired data-type for the array, e.g., `numpy.int8`.  Default is\n",
            "        `numpy.float64`.\n",
            "    order : {'C', 'F'}, optional, default: 'C'\n",
            "        Whether to store multi-dimensional data in row-major\n",
            "        (C-style) or column-major (Fortran-style) order in\n",
            "        memory.\n",
            "    like : array_like\n",
            "        Reference object to allow the creation of arrays which are not\n",
            "        NumPy arrays. If an array-like passed in as ``like`` supports\n",
            "        the ``__array_function__`` protocol, the result will be defined\n",
            "        by it. In this case, it ensures the creation of an array object\n",
            "        compatible with that passed in via this argument.\n",
            "    \n",
            "        .. note::\n",
            "            The ``like`` keyword is an experimental feature pending on\n",
            "            acceptance of :ref:`NEP 35 <NEP35>`.\n",
            "    \n",
            "        .. versionadded:: 1.20.0\n",
            "    \n",
            "    Returns\n",
            "    -------\n",
            "    out : ndarray\n",
            "        Array of zeros with the given shape, dtype, and order.\n",
            "    \n",
            "    See Also\n",
            "    --------\n",
            "    zeros_like : Return an array of zeros with shape and type of input.\n",
            "    empty : Return a new uninitialized array.\n",
            "    ones : Return a new array setting values to one.\n",
            "    full : Return a new array of given shape filled with value.\n",
            "    \n",
            "    Examples\n",
            "    --------\n",
            "    >>> np.zeros(5)\n",
            "    array([ 0.,  0.,  0.,  0.,  0.])\n",
            "    \n",
            "    >>> np.zeros((5,), dtype=int)\n",
            "    array([0, 0, 0, 0, 0])\n",
            "    \n",
            "    >>> np.zeros((2, 1))\n",
            "    array([[ 0.],\n",
            "           [ 0.]])\n",
            "    \n",
            "    >>> s = (2,2)\n",
            "    >>> np.zeros(s)\n",
            "    array([[ 0.,  0.],\n",
            "           [ 0.,  0.]])\n",
            "    \n",
            "    >>> np.zeros((2,), dtype=[('x', 'i4'), ('y', 'i4')]) # custom dtype\n",
            "    array([(0, 0), (0, 0)],\n",
            "          dtype=[('x', '<i4'), ('y', '<i4')])\n",
            "\n"
          ]
        }
      ],
      "source": [
        "help(np.zeros)"
      ]
    },
    {
      "cell_type": "code",
      "execution_count": 148,
      "id": "68ab64a4",
      "metadata": {
        "id": "68ab64a4",
        "outputId": "e54fe8ba-e51a-47b5-8c29-8b74f9383d12",
        "colab": {
          "base_uri": "https://localhost:8080/"
        }
      },
      "outputs": [
        {
          "output_type": "execute_result",
          "data": {
            "text/plain": [
              "array([[0., 0., 0.],\n",
              "       [0., 0., 0.],\n",
              "       [0., 0., 0.],\n",
              "       [0., 0., 0.]])"
            ]
          },
          "metadata": {},
          "execution_count": 148
        }
      ],
      "source": [
        "np.zeros((4,3))   # 4 Cross 3 array in default is float"
      ]
    },
    {
      "cell_type": "code",
      "execution_count": 149,
      "id": "eaae57cb",
      "metadata": {
        "id": "eaae57cb",
        "colab": {
          "base_uri": "https://localhost:8080/"
        },
        "outputId": "7dd49c6d-91a1-4b41-d686-31de51e9d22c"
      },
      "outputs": [
        {
          "output_type": "execute_result",
          "data": {
            "text/plain": [
              "array([[0, 0, 0],\n",
              "       [0, 0, 0],\n",
              "       [0, 0, 0],\n",
              "       [0, 0, 0]])"
            ]
          },
          "metadata": {},
          "execution_count": 149
        }
      ],
      "source": [
        "z1 = np.zeros((4,3),dtype=int)  # 4 Cross 3 array make it to int\n",
        "z1"
      ]
    },
    {
      "cell_type": "code",
      "execution_count": 150,
      "id": "e2ba9a4a",
      "metadata": {
        "id": "e2ba9a4a",
        "outputId": "7ef0107f-46e2-4b51-dfaf-5bf9fe948728",
        "colab": {
          "base_uri": "https://localhost:8080/"
        }
      },
      "outputs": [
        {
          "output_type": "execute_result",
          "data": {
            "text/plain": [
              "array([[False, False, False, False],\n",
              "       [False, False, False, False],\n",
              "       [False, False, False, False]])"
            ]
          },
          "metadata": {},
          "execution_count": 150
        }
      ],
      "source": [
        "np.zeros((3,4),dtype=bool)"
      ]
    },
    {
      "cell_type": "markdown",
      "source": [
        "#### ones"
      ],
      "metadata": {
        "id": "kpjC8tzQXfC-"
      },
      "id": "kpjC8tzQXfC-"
    },
    {
      "cell_type": "code",
      "execution_count": 151,
      "id": "7591fd66",
      "metadata": {
        "id": "7591fd66",
        "outputId": "4489f873-e837-479a-8a40-aa703e6e760d",
        "colab": {
          "base_uri": "https://localhost:8080/"
        }
      },
      "outputs": [
        {
          "output_type": "execute_result",
          "data": {
            "text/plain": [
              "array([[1., 1., 1.],\n",
              "       [1., 1., 1.],\n",
              "       [1., 1., 1.],\n",
              "       [1., 1., 1.],\n",
              "       [1., 1., 1.]])"
            ]
          },
          "metadata": {},
          "execution_count": 151
        }
      ],
      "source": [
        "np.ones((5,3))"
      ]
    },
    {
      "cell_type": "code",
      "execution_count": 152,
      "id": "0dd63968",
      "metadata": {
        "id": "0dd63968",
        "outputId": "59f552f4-1c36-467f-b622-f0dd6f54297c",
        "colab": {
          "base_uri": "https://localhost:8080/"
        }
      },
      "outputs": [
        {
          "output_type": "execute_result",
          "data": {
            "text/plain": [
              "array([[1, 1],\n",
              "       [1, 1],\n",
              "       [1, 1],\n",
              "       [1, 1]])"
            ]
          },
          "metadata": {},
          "execution_count": 152
        }
      ],
      "source": [
        "np.ones((4,2), dtype=int)"
      ]
    },
    {
      "cell_type": "code",
      "execution_count": 153,
      "id": "9e82b6d4",
      "metadata": {
        "id": "9e82b6d4",
        "outputId": "dbc1bc5a-acd3-49d1-8f0b-47e878645e25",
        "colab": {
          "base_uri": "https://localhost:8080/"
        }
      },
      "outputs": [
        {
          "output_type": "execute_result",
          "data": {
            "text/plain": [
              "array([[ True,  True],\n",
              "       [ True,  True],\n",
              "       [ True,  True],\n",
              "       [ True,  True]])"
            ]
          },
          "metadata": {},
          "execution_count": 153
        }
      ],
      "source": [
        "np.ones((4,2), dtype=bool)"
      ]
    },
    {
      "cell_type": "markdown",
      "source": [
        "#### full()"
      ],
      "metadata": {
        "id": "Fg8Q8c_EaPOc"
      },
      "id": "Fg8Q8c_EaPOc"
    },
    {
      "cell_type": "code",
      "execution_count": null,
      "id": "7e55cebc",
      "metadata": {
        "id": "7e55cebc",
        "outputId": "f7747d11-6953-4fed-c7db-dddf0e0aa324"
      },
      "outputs": [
        {
          "name": "stdout",
          "output_type": "stream",
          "text": [
            "Help on function full in module numpy:\n",
            "\n",
            "full(shape, fill_value, dtype=None, order='C', *, like=None)\n",
            "    Return a new array of given shape and type, filled with `fill_value`.\n",
            "    \n",
            "    Parameters\n",
            "    ----------\n",
            "    shape : int or sequence of ints\n",
            "        Shape of the new array, e.g., ``(2, 3)`` or ``2``.\n",
            "    fill_value : scalar or array_like\n",
            "        Fill value.\n",
            "    dtype : data-type, optional\n",
            "        The desired data-type for the array  The default, None, means\n",
            "         `np.array(fill_value).dtype`.\n",
            "    order : {'C', 'F'}, optional\n",
            "        Whether to store multidimensional data in C- or Fortran-contiguous\n",
            "        (row- or column-wise) order in memory.\n",
            "    like : array_like\n",
            "        Reference object to allow the creation of arrays which are not\n",
            "        NumPy arrays. If an array-like passed in as ``like`` supports\n",
            "        the ``__array_function__`` protocol, the result will be defined\n",
            "        by it. In this case, it ensures the creation of an array object\n",
            "        compatible with that passed in via this argument.\n",
            "    \n",
            "        .. note::\n",
            "            The ``like`` keyword is an experimental feature pending on\n",
            "            acceptance of :ref:`NEP 35 <NEP35>`.\n",
            "    \n",
            "        .. versionadded:: 1.20.0\n",
            "    \n",
            "    Returns\n",
            "    -------\n",
            "    out : ndarray\n",
            "        Array of `fill_value` with the given shape, dtype, and order.\n",
            "    \n",
            "    See Also\n",
            "    --------\n",
            "    full_like : Return a new array with shape of input filled with value.\n",
            "    empty : Return a new uninitialized array.\n",
            "    ones : Return a new array setting values to one.\n",
            "    zeros : Return a new array setting values to zero.\n",
            "    \n",
            "    Examples\n",
            "    --------\n",
            "    >>> np.full((2, 2), np.inf)\n",
            "    array([[inf, inf],\n",
            "           [inf, inf]])\n",
            "    >>> np.full((2, 2), 10)\n",
            "    array([[10, 10],\n",
            "           [10, 10]])\n",
            "    \n",
            "    >>> np.full((2, 2), [1, 2])\n",
            "    array([[1, 2],\n",
            "           [1, 2]])\n",
            "\n"
          ]
        }
      ],
      "source": [
        "help(np.full)"
      ]
    },
    {
      "cell_type": "code",
      "execution_count": 154,
      "id": "1b936854",
      "metadata": {
        "id": "1b936854",
        "outputId": "a8f4819d-9e8f-466c-ef85-10022c749b71",
        "colab": {
          "base_uri": "https://localhost:8080/"
        }
      },
      "outputs": [
        {
          "output_type": "execute_result",
          "data": {
            "text/plain": [
              "array([[5, 5, 5],\n",
              "       [5, 5, 5]])"
            ]
          },
          "metadata": {},
          "execution_count": 154
        }
      ],
      "source": [
        "np.full((2,3),5,dtype=int)  # everywere it filled full of 5"
      ]
    },
    {
      "cell_type": "code",
      "execution_count": 156,
      "id": "501bcf58",
      "metadata": {
        "id": "501bcf58",
        "outputId": "afe9fca8-7276-4e7d-e037-8ed182511001",
        "colab": {
          "base_uri": "https://localhost:8080/"
        }
      },
      "outputs": [
        {
          "output_type": "execute_result",
          "data": {
            "text/plain": [
              "array([[5, 5, 5],\n",
              "       [5, 5, 5]])"
            ]
          },
          "metadata": {},
          "execution_count": 156
        }
      ],
      "source": [
        "np.full((2,3),5)"
      ]
    },
    {
      "cell_type": "code",
      "execution_count": 155,
      "id": "375f0f15",
      "metadata": {
        "id": "375f0f15",
        "outputId": "f7e49c34-bfdb-4642-ebb6-8ef72356775f",
        "colab": {
          "base_uri": "https://localhost:8080/"
        }
      },
      "outputs": [
        {
          "output_type": "execute_result",
          "data": {
            "text/plain": [
              "array([[5.5, 5.5, 5.5],\n",
              "       [5.5, 5.5, 5.5]])"
            ]
          },
          "metadata": {},
          "execution_count": 155
        }
      ],
      "source": [
        "np.full((2,3),5.5)"
      ]
    },
    {
      "cell_type": "code",
      "execution_count": 157,
      "id": "d0b19644",
      "metadata": {
        "id": "d0b19644",
        "outputId": "d3cf98b3-b23b-4616-8330-aeaa7b7978c1",
        "colab": {
          "base_uri": "https://localhost:8080/"
        }
      },
      "outputs": [
        {
          "output_type": "execute_result",
          "data": {
            "text/plain": [
              "array([[5, 5, 5],\n",
              "       [5, 5, 5]])"
            ]
          },
          "metadata": {},
          "execution_count": 157
        }
      ],
      "source": [
        "np.full((2,3),5.5,dtype=int)"
      ]
    },
    {
      "cell_type": "markdown",
      "source": [
        "#### Matrix functions\n",
        "\n",
        "* Identity matrix??\n",
        "* its a square matrix whose main diagonal elements are 1 and rest of the elements are 0s\n",
        "* Square matrix => num of rows == num of cols"
      ],
      "metadata": {
        "id": "BrRxVxgMac7d"
      },
      "id": "BrRxVxgMac7d"
    },
    {
      "cell_type": "code",
      "execution_count": null,
      "id": "f6338b26",
      "metadata": {
        "id": "f6338b26",
        "outputId": "1faed4f6-5195-4b31-86bc-aaf742e890f4"
      },
      "outputs": [
        {
          "name": "stdout",
          "output_type": "stream",
          "text": [
            "Help on function identity in module numpy:\n",
            "\n",
            "identity(n, dtype=None, *, like=None)\n",
            "    Return the identity array.\n",
            "    \n",
            "    The identity array is a square array with ones on\n",
            "    the main diagonal.\n",
            "    \n",
            "    Parameters\n",
            "    ----------\n",
            "    n : int\n",
            "        Number of rows (and columns) in `n` x `n` output.\n",
            "    dtype : data-type, optional\n",
            "        Data-type of the output.  Defaults to ``float``.\n",
            "    like : array_like\n",
            "        Reference object to allow the creation of arrays which are not\n",
            "        NumPy arrays. If an array-like passed in as ``like`` supports\n",
            "        the ``__array_function__`` protocol, the result will be defined\n",
            "        by it. In this case, it ensures the creation of an array object\n",
            "        compatible with that passed in via this argument.\n",
            "    \n",
            "        .. note::\n",
            "            The ``like`` keyword is an experimental feature pending on\n",
            "            acceptance of :ref:`NEP 35 <NEP35>`.\n",
            "    \n",
            "        .. versionadded:: 1.20.0\n",
            "    \n",
            "    Returns\n",
            "    -------\n",
            "    out : ndarray\n",
            "        `n` x `n` array with its main diagonal set to one,\n",
            "        and all other elements 0.\n",
            "    \n",
            "    Examples\n",
            "    --------\n",
            "    >>> np.identity(3)\n",
            "    array([[1.,  0.,  0.],\n",
            "           [0.,  1.,  0.],\n",
            "           [0.,  0.,  1.]])\n",
            "\n"
          ]
        }
      ],
      "source": [
        "help(np.identity)"
      ]
    },
    {
      "cell_type": "code",
      "execution_count": 158,
      "id": "fabf2dc8",
      "metadata": {
        "id": "fabf2dc8",
        "outputId": "ecfac2e7-d3d4-46a3-b3dc-88c3160549fc",
        "colab": {
          "base_uri": "https://localhost:8080/"
        }
      },
      "outputs": [
        {
          "output_type": "execute_result",
          "data": {
            "text/plain": [
              "array([[1., 0., 0.],\n",
              "       [0., 1., 0.],\n",
              "       [0., 0., 1.]])"
            ]
          },
          "metadata": {},
          "execution_count": 158
        }
      ],
      "source": [
        "np.identity(3)   # here all (0,0) & (1,1) & (2,2) will be 1's"
      ]
    },
    {
      "cell_type": "code",
      "execution_count": 159,
      "id": "9f7882e1",
      "metadata": {
        "id": "9f7882e1",
        "outputId": "7c4be2e8-ae1c-47ab-dae7-c366ab5400a4",
        "colab": {
          "base_uri": "https://localhost:8080/"
        }
      },
      "outputs": [
        {
          "output_type": "execute_result",
          "data": {
            "text/plain": [
              "array([[1, 0, 0, 0],\n",
              "       [0, 1, 0, 0],\n",
              "       [0, 0, 1, 0],\n",
              "       [0, 0, 0, 1]])"
            ]
          },
          "metadata": {},
          "execution_count": 159
        }
      ],
      "source": [
        "np.identity(4, dtype=int)"
      ]
    },
    {
      "cell_type": "markdown",
      "source": [
        "#### eye"
      ],
      "metadata": {
        "id": "OSL3XnsCtd8p"
      },
      "id": "OSL3XnsCtd8p"
    },
    {
      "cell_type": "code",
      "execution_count": null,
      "id": "e609f334",
      "metadata": {
        "id": "e609f334",
        "outputId": "70e266b4-6d80-4a7e-d057-2963641f6970"
      },
      "outputs": [
        {
          "name": "stdout",
          "output_type": "stream",
          "text": [
            "Help on function eye in module numpy:\n",
            "\n",
            "eye(N, M=None, k=0, dtype=<class 'float'>, order='C', *, like=None)\n",
            "    Return a 2-D array with ones on the diagonal and zeros elsewhere.\n",
            "    \n",
            "    Parameters\n",
            "    ----------\n",
            "    N : int\n",
            "      Number of rows in the output.\n",
            "    M : int, optional\n",
            "      Number of columns in the output. If None, defaults to `N`.\n",
            "    k : int, optional\n",
            "      Index of the diagonal: 0 (the default) refers to the main diagonal,\n",
            "      a positive value refers to an upper diagonal, and a negative value\n",
            "      to a lower diagonal.\n",
            "    dtype : data-type, optional\n",
            "      Data-type of the returned array.\n",
            "    order : {'C', 'F'}, optional\n",
            "        Whether the output should be stored in row-major (C-style) or\n",
            "        column-major (Fortran-style) order in memory.\n",
            "    \n",
            "        .. versionadded:: 1.14.0\n",
            "    like : array_like\n",
            "        Reference object to allow the creation of arrays which are not\n",
            "        NumPy arrays. If an array-like passed in as ``like`` supports\n",
            "        the ``__array_function__`` protocol, the result will be defined\n",
            "        by it. In this case, it ensures the creation of an array object\n",
            "        compatible with that passed in via this argument.\n",
            "    \n",
            "        .. note::\n",
            "            The ``like`` keyword is an experimental feature pending on\n",
            "            acceptance of :ref:`NEP 35 <NEP35>`.\n",
            "    \n",
            "        .. versionadded:: 1.20.0\n",
            "    \n",
            "    Returns\n",
            "    -------\n",
            "    I : ndarray of shape (N,M)\n",
            "      An array where all elements are equal to zero, except for the `k`-th\n",
            "      diagonal, whose values are equal to one.\n",
            "    \n",
            "    See Also\n",
            "    --------\n",
            "    identity : (almost) equivalent function\n",
            "    diag : diagonal 2-D array from a 1-D array specified by the user.\n",
            "    \n",
            "    Examples\n",
            "    --------\n",
            "    >>> np.eye(2, dtype=int)\n",
            "    array([[1, 0],\n",
            "           [0, 1]])\n",
            "    >>> np.eye(3, k=1)\n",
            "    array([[0.,  1.,  0.],\n",
            "           [0.,  0.,  1.],\n",
            "           [0.,  0.,  0.]])\n",
            "\n"
          ]
        }
      ],
      "source": [
        "help(np.eye)"
      ]
    },
    {
      "cell_type": "code",
      "execution_count": 160,
      "id": "9aabdfb7",
      "metadata": {
        "id": "9aabdfb7",
        "outputId": "e8747069-9bdb-422f-8ed3-9f77b06cd231",
        "colab": {
          "base_uri": "https://localhost:8080/"
        }
      },
      "outputs": [
        {
          "output_type": "execute_result",
          "data": {
            "text/plain": [
              "array([[1, 0, 0, 0],\n",
              "       [0, 1, 0, 0],\n",
              "       [0, 0, 1, 0],\n",
              "       [0, 0, 0, 1]])"
            ]
          },
          "metadata": {},
          "execution_count": 160
        }
      ],
      "source": [
        "np.eye(4, 4, k=0, dtype=int)  # K=0 is equal to identity matrix"
      ]
    },
    {
      "cell_type": "code",
      "execution_count": 161,
      "id": "a43b9552",
      "metadata": {
        "id": "a43b9552",
        "outputId": "7732010a-669e-4a48-a151-1bc2bc94f371",
        "colab": {
          "base_uri": "https://localhost:8080/"
        }
      },
      "outputs": [
        {
          "output_type": "execute_result",
          "data": {
            "text/plain": [
              "array([[0, 1, 0, 0],\n",
              "       [0, 0, 1, 0],\n",
              "       [0, 0, 0, 1],\n",
              "       [0, 0, 0, 0]])"
            ]
          },
          "metadata": {},
          "execution_count": 161
        }
      ],
      "source": [
        "np.eye(4, 4, k=1, dtype=int)  # K=1 is equal to the next value to identity matrix"
      ]
    },
    {
      "cell_type": "code",
      "execution_count": null,
      "id": "21ae2c9d",
      "metadata": {
        "id": "21ae2c9d",
        "outputId": "1af3a7a7-73b4-4590-d883-644f799e1ecd"
      },
      "outputs": [
        {
          "data": {
            "text/plain": [
              "array([[0, 0, 0, 0],\n",
              "       [1, 0, 0, 0],\n",
              "       [0, 1, 0, 0],\n",
              "       [0, 0, 1, 0]])"
            ]
          },
          "execution_count": 157,
          "metadata": {},
          "output_type": "execute_result"
        }
      ],
      "source": [
        "np.eye(4, 4, k=-1, dtype=int)  # K=-1 is equal to the next below value to identity matrix"
      ]
    },
    {
      "cell_type": "code",
      "execution_count": null,
      "id": "fa95b202",
      "metadata": {
        "id": "fa95b202",
        "outputId": "f8b2070f-c9f7-46b0-82de-181b1c065ea4"
      },
      "outputs": [
        {
          "data": {
            "text/plain": [
              "array([[0, 0, 0, 0],\n",
              "       [0, 0, 0, 0],\n",
              "       [0, 0, 0, 0],\n",
              "       [0, 0, 0, 0]])"
            ]
          },
          "execution_count": 158,
          "metadata": {},
          "output_type": "execute_result"
        }
      ],
      "source": [
        "np.eye(4, 4, k=5, dtype=int)  # K=5 is equal to the identity matrix reason that is out of boundry"
      ]
    },
    {
      "cell_type": "code",
      "execution_count": null,
      "id": "2fbf3c0c",
      "metadata": {
        "id": "2fbf3c0c",
        "outputId": "41224cb6-4392-43f0-be06-1079e744fb28"
      },
      "outputs": [
        {
          "data": {
            "text/plain": [
              "array([[1, 0, 0, 0, 0],\n",
              "       [0, 1, 0, 0, 0],\n",
              "       [0, 0, 1, 0, 0],\n",
              "       [0, 0, 0, 1, 0]])"
            ]
          },
          "execution_count": 160,
          "metadata": {},
          "output_type": "execute_result"
        }
      ],
      "source": [
        "np.eye(4, 5, k=0, dtype=int)"
      ]
    },
    {
      "cell_type": "code",
      "execution_count": null,
      "id": "bde91ae6",
      "metadata": {
        "id": "bde91ae6",
        "outputId": "357f3b49-e165-4ac6-e563-523a1f5a21e8"
      },
      "outputs": [
        {
          "data": {
            "text/plain": [
              "array([[0, 1, 0, 0, 0],\n",
              "       [0, 0, 1, 0, 0],\n",
              "       [0, 0, 0, 1, 0],\n",
              "       [0, 0, 0, 0, 1]])"
            ]
          },
          "execution_count": 161,
          "metadata": {},
          "output_type": "execute_result"
        }
      ],
      "source": [
        "np.eye(4, 5, k=1, dtype=int)"
      ]
    },
    {
      "cell_type": "code",
      "execution_count": null,
      "id": "a85af7bf",
      "metadata": {
        "id": "a85af7bf",
        "outputId": "0b4e1a57-d83c-44e4-bcbd-6daea56510cd"
      },
      "outputs": [
        {
          "data": {
            "text/plain": [
              "array([[0, 1, 0, 0],\n",
              "       [0, 0, 1, 0],\n",
              "       [0, 0, 0, 1],\n",
              "       [0, 0, 0, 0],\n",
              "       [0, 0, 0, 0],\n",
              "       [0, 0, 0, 0]])"
            ]
          },
          "execution_count": 162,
          "metadata": {},
          "output_type": "execute_result"
        }
      ],
      "source": [
        "np.eye(6, 4, k=1, dtype=int)"
      ]
    },
    {
      "cell_type": "markdown",
      "source": [
        "#### **Diag** --> Get the respected dignal from the array / matrix\n",
        "\n",
        "\n",
        "**Double click to open and see the ACTUAL FUNCTION**\n",
        "\n",
        "\n",
        "    0   1   2\n",
        "------------------\n",
        "0|  1   2   3\n",
        "1|  4   5   6\n",
        "2|  7   8   9\n",
        "\n",
        "\n",
        "(0,0) = 1\n",
        "(0,1) = 2\n",
        "(0,2) = 3\n",
        "\n",
        "(1,0) = 4\n",
        "(1,1) = 5\n",
        "(1,2) = 6....\n",
        "\n"
      ],
      "metadata": {
        "id": "iN3q__yiuK5o"
      },
      "id": "iN3q__yiuK5o"
    },
    {
      "cell_type": "code",
      "execution_count": 162,
      "id": "c04cdfb2",
      "metadata": {
        "id": "c04cdfb2",
        "outputId": "df84311c-e9f1-4e9a-b4cd-4e0ba05d6163",
        "colab": {
          "base_uri": "https://localhost:8080/"
        }
      },
      "outputs": [
        {
          "output_type": "execute_result",
          "data": {
            "text/plain": [
              "array([[1, 2, 3],\n",
              "       [4, 5, 6]])"
            ]
          },
          "metadata": {},
          "execution_count": 162
        }
      ],
      "source": [
        "arr2"
      ]
    },
    {
      "cell_type": "code",
      "execution_count": 163,
      "id": "5d8cc62a",
      "metadata": {
        "id": "5d8cc62a"
      },
      "outputs": [],
      "source": [
        "m1 = np.random.randint(10, 50, (4, 4))"
      ]
    },
    {
      "cell_type": "code",
      "execution_count": 165,
      "id": "035a48da",
      "metadata": {
        "id": "035a48da",
        "outputId": "7eba8f2b-b386-452c-ac25-d2f9a880dd9e",
        "colab": {
          "base_uri": "https://localhost:8080/"
        }
      },
      "outputs": [
        {
          "output_type": "execute_result",
          "data": {
            "text/plain": [
              "array([[44, 49, 35, 36],\n",
              "       [32, 24, 49, 15],\n",
              "       [44, 47, 45, 25],\n",
              "       [32, 43, 19, 26]])"
            ]
          },
          "metadata": {},
          "execution_count": 165
        }
      ],
      "source": [
        "m1"
      ]
    },
    {
      "cell_type": "code",
      "execution_count": 166,
      "id": "fe589aa9",
      "metadata": {
        "id": "fe589aa9",
        "outputId": "36d8d278-26ce-41e1-a262-3adf633ae5bf",
        "colab": {
          "base_uri": "https://localhost:8080/"
        }
      },
      "outputs": [
        {
          "output_type": "execute_result",
          "data": {
            "text/plain": [
              "array([44, 24, 45, 26])"
            ]
          },
          "metadata": {},
          "execution_count": 166
        }
      ],
      "source": [
        "np.diag(m1) # 0th Dignal mean (0,0), (1,1), (2,2)..."
      ]
    },
    {
      "cell_type": "code",
      "execution_count": 167,
      "id": "8a762153",
      "metadata": {
        "id": "8a762153",
        "outputId": "69270ba1-cdb5-4f6b-c975-65f144cdb6c5",
        "colab": {
          "base_uri": "https://localhost:8080/"
        }
      },
      "outputs": [
        {
          "output_type": "execute_result",
          "data": {
            "text/plain": [
              "array([49, 49, 25])"
            ]
          },
          "metadata": {},
          "execution_count": 167
        }
      ],
      "source": [
        "np.diag(m1, k=1) # All 1th Dignal mean (0,1), (1,2), (2,2)..."
      ]
    },
    {
      "cell_type": "code",
      "execution_count": 169,
      "id": "6ebff9b0",
      "metadata": {
        "id": "6ebff9b0",
        "outputId": "34633e8f-e949-4a2a-fb7a-7f74f94a3600",
        "colab": {
          "base_uri": "https://localhost:8080/"
        }
      },
      "outputs": [
        {
          "output_type": "execute_result",
          "data": {
            "text/plain": [
              "array([32, 47, 19])"
            ]
          },
          "metadata": {},
          "execution_count": 169
        }
      ],
      "source": [
        "np.diag(m1, k=-1)"
      ]
    },
    {
      "cell_type": "code",
      "execution_count": 171,
      "id": "27b65597",
      "metadata": {
        "id": "27b65597",
        "outputId": "0ac102fc-a911-47d3-ec70-a05f447e3dcb",
        "colab": {
          "base_uri": "https://localhost:8080/"
        }
      },
      "outputs": [
        {
          "output_type": "execute_result",
          "data": {
            "text/plain": [
              "array([44, 43])"
            ]
          },
          "metadata": {},
          "execution_count": 171
        }
      ],
      "source": [
        "np.diag(m1, k=-2)"
      ]
    },
    {
      "cell_type": "code",
      "execution_count": 172,
      "id": "1cdacd34",
      "metadata": {
        "id": "1cdacd34",
        "outputId": "34310462-6970-4cf5-89ac-2a04a4b6d2e3",
        "colab": {
          "base_uri": "https://localhost:8080/"
        }
      },
      "outputs": [
        {
          "output_type": "execute_result",
          "data": {
            "text/plain": [
              "array([32])"
            ]
          },
          "metadata": {},
          "execution_count": 172
        }
      ],
      "source": [
        "np.diag(m1, k=-3)"
      ]
    },
    {
      "cell_type": "code",
      "execution_count": 173,
      "id": "fdfa0b67",
      "metadata": {
        "id": "fdfa0b67",
        "outputId": "d53b04a9-9c21-4c03-c034-0017edd9ef6b",
        "colab": {
          "base_uri": "https://localhost:8080/"
        }
      },
      "outputs": [
        {
          "output_type": "execute_result",
          "data": {
            "text/plain": [
              "array([[44, 49, 35, 36],\n",
              "       [32, 24, 49, 15],\n",
              "       [44, 47, 45, 25],\n",
              "       [32, 43, 19, 26]])"
            ]
          },
          "metadata": {},
          "execution_count": 173
        }
      ],
      "source": [
        "m1"
      ]
    },
    {
      "cell_type": "code",
      "execution_count": 174,
      "id": "d25ec8f4",
      "metadata": {
        "id": "d25ec8f4",
        "outputId": "283f4ec9-4727-4be4-b104-80aedb8dd397",
        "colab": {
          "base_uri": "https://localhost:8080/"
        }
      },
      "outputs": [
        {
          "output_type": "execute_result",
          "data": {
            "text/plain": [
              "array([], dtype=int64)"
            ]
          },
          "metadata": {},
          "execution_count": 174
        }
      ],
      "source": [
        "np.diag(m1, k=-4)"
      ]
    },
    {
      "cell_type": "code",
      "execution_count": 175,
      "id": "2b1f174a",
      "metadata": {
        "id": "2b1f174a"
      },
      "outputs": [],
      "source": [
        "m1 = np.random.randint(10, 50, (4, 5))"
      ]
    },
    {
      "cell_type": "code",
      "execution_count": 176,
      "id": "dcca7c24",
      "metadata": {
        "id": "dcca7c24",
        "outputId": "75e5d153-6f76-48a5-947c-6e02b9753a1b",
        "colab": {
          "base_uri": "https://localhost:8080/"
        }
      },
      "outputs": [
        {
          "output_type": "execute_result",
          "data": {
            "text/plain": [
              "array([[37, 32, 26, 16, 42],\n",
              "       [13, 13, 24, 16, 17],\n",
              "       [11, 24, 47, 30, 37],\n",
              "       [47, 31, 23, 43, 15]])"
            ]
          },
          "metadata": {},
          "execution_count": 176
        }
      ],
      "source": [
        "m1"
      ]
    },
    {
      "cell_type": "code",
      "execution_count": 178,
      "id": "7380326c",
      "metadata": {
        "id": "7380326c",
        "outputId": "abe524a0-ccb1-44c2-b2ed-160502d60a47",
        "colab": {
          "base_uri": "https://localhost:8080/"
        }
      },
      "outputs": [
        {
          "output_type": "execute_result",
          "data": {
            "text/plain": [
              "array([16, 17])"
            ]
          },
          "metadata": {},
          "execution_count": 178
        }
      ],
      "source": [
        "np.diag(m1, k=3)"
      ]
    },
    {
      "cell_type": "code",
      "execution_count": 179,
      "id": "15c7281e",
      "metadata": {
        "id": "15c7281e",
        "outputId": "e6661c62-e603-41d6-ace0-c77e28d31c37",
        "colab": {
          "base_uri": "https://localhost:8080/"
        }
      },
      "outputs": [
        {
          "output_type": "execute_result",
          "data": {
            "text/plain": [
              "array([[94, 15, 89],\n",
              "       [50, 83, 52],\n",
              "       [18, 63, 25]])"
            ]
          },
          "metadata": {},
          "execution_count": 179
        }
      ],
      "source": [
        "a1"
      ]
    },
    {
      "cell_type": "code",
      "execution_count": 180,
      "id": "1ca5d096",
      "metadata": {
        "id": "1ca5d096",
        "outputId": "22df90e3-c0ca-4fec-da99-3c2813564ada",
        "colab": {
          "base_uri": "https://localhost:8080/"
        }
      },
      "outputs": [
        {
          "output_type": "execute_result",
          "data": {
            "text/plain": [
              "array([1, 2, 3, 4])"
            ]
          },
          "metadata": {},
          "execution_count": 180
        }
      ],
      "source": [
        "arr1"
      ]
    },
    {
      "cell_type": "code",
      "execution_count": 181,
      "id": "3466fd21",
      "metadata": {
        "id": "3466fd21",
        "outputId": "bdff6252-fcce-4f89-b79b-ac07cefd254f",
        "colab": {
          "base_uri": "https://localhost:8080/"
        }
      },
      "outputs": [
        {
          "output_type": "execute_result",
          "data": {
            "text/plain": [
              "array([[1, 0, 0, 0],\n",
              "       [0, 2, 0, 0],\n",
              "       [0, 0, 3, 0],\n",
              "       [0, 0, 0, 4]])"
            ]
          },
          "metadata": {},
          "execution_count": 181
        }
      ],
      "source": [
        "np.diag(arr1)  # Make array one vale as a diagnal and form a matrix"
      ]
    },
    {
      "cell_type": "code",
      "execution_count": 182,
      "id": "a46385e3",
      "metadata": {
        "id": "a46385e3",
        "outputId": "be968e63-fd14-453d-f044-c502379611b8",
        "colab": {
          "base_uri": "https://localhost:8080/"
        }
      },
      "outputs": [
        {
          "output_type": "execute_result",
          "data": {
            "text/plain": [
              "array([[0, 1, 0, 0, 0],\n",
              "       [0, 0, 2, 0, 0],\n",
              "       [0, 0, 0, 3, 0],\n",
              "       [0, 0, 0, 0, 4],\n",
              "       [0, 0, 0, 0, 0]])"
            ]
          },
          "metadata": {},
          "execution_count": 182
        }
      ],
      "source": [
        "np.diag(arr1, k=1)  # Add 0's at begining column"
      ]
    },
    {
      "cell_type": "code",
      "execution_count": 183,
      "id": "124d78b3",
      "metadata": {
        "id": "124d78b3",
        "outputId": "d64043d0-324c-453d-b912-b029fdca06dc",
        "colab": {
          "base_uri": "https://localhost:8080/"
        }
      },
      "outputs": [
        {
          "output_type": "execute_result",
          "data": {
            "text/plain": [
              "array([[0, 0, 1, 0, 0, 0],\n",
              "       [0, 0, 0, 2, 0, 0],\n",
              "       [0, 0, 0, 0, 3, 0],\n",
              "       [0, 0, 0, 0, 0, 4],\n",
              "       [0, 0, 0, 0, 0, 0],\n",
              "       [0, 0, 0, 0, 0, 0]])"
            ]
          },
          "metadata": {},
          "execution_count": 183
        }
      ],
      "source": [
        "np.diag(arr1, k=2)  # Add 0's 2 time at begining column"
      ]
    },
    {
      "cell_type": "code",
      "execution_count": null,
      "id": "5d43252a",
      "metadata": {
        "id": "5d43252a",
        "outputId": "b6a39452-e740-4621-e652-ca19012d89f5"
      },
      "outputs": [
        {
          "name": "stdout",
          "output_type": "stream",
          "text": [
            "Help on function diag in module numpy:\n",
            "\n",
            "diag(v, k=0)\n",
            "    Extract a diagonal or construct a diagonal array.\n",
            "    \n",
            "    See the more detailed documentation for ``numpy.diagonal`` if you use this\n",
            "    function to extract a diagonal and wish to write to the resulting array;\n",
            "    whether it returns a copy or a view depends on what version of numpy you\n",
            "    are using.\n",
            "    \n",
            "    Parameters\n",
            "    ----------\n",
            "    v : array_like\n",
            "        If `v` is a 2-D array, return a copy of its `k`-th diagonal.\n",
            "        If `v` is a 1-D array, return a 2-D array with `v` on the `k`-th\n",
            "        diagonal.\n",
            "    k : int, optional\n",
            "        Diagonal in question. The default is 0. Use `k>0` for diagonals\n",
            "        above the main diagonal, and `k<0` for diagonals below the main\n",
            "        diagonal.\n",
            "    \n",
            "    Returns\n",
            "    -------\n",
            "    out : ndarray\n",
            "        The extracted diagonal or constructed diagonal array.\n",
            "    \n",
            "    See Also\n",
            "    --------\n",
            "    diagonal : Return specified diagonals.\n",
            "    diagflat : Create a 2-D array with the flattened input as a diagonal.\n",
            "    trace : Sum along diagonals.\n",
            "    triu : Upper triangle of an array.\n",
            "    tril : Lower triangle of an array.\n",
            "    \n",
            "    Examples\n",
            "    --------\n",
            "    >>> x = np.arange(9).reshape((3,3))\n",
            "    >>> x\n",
            "    array([[0, 1, 2],\n",
            "           [3, 4, 5],\n",
            "           [6, 7, 8]])\n",
            "    \n",
            "    >>> np.diag(x)\n",
            "    array([0, 4, 8])\n",
            "    >>> np.diag(x, k=1)\n",
            "    array([1, 5])\n",
            "    >>> np.diag(x, k=-1)\n",
            "    array([3, 7])\n",
            "    \n",
            "    >>> np.diag(np.diag(x))\n",
            "    array([[0, 0, 0],\n",
            "           [0, 4, 0],\n",
            "           [0, 0, 8]])\n",
            "\n"
          ]
        }
      ],
      "source": [
        "help(np.diag)"
      ]
    },
    {
      "cell_type": "code",
      "execution_count": 184,
      "id": "b67eec6f",
      "metadata": {
        "id": "b67eec6f",
        "outputId": "a8ad56f7-b07d-49d6-c729-738427d9c3ff",
        "colab": {
          "base_uri": "https://localhost:8080/"
        }
      },
      "outputs": [
        {
          "output_type": "execute_result",
          "data": {
            "text/plain": [
              "array([[94, 15, 89],\n",
              "       [50, 83, 52],\n",
              "       [18, 63, 25]])"
            ]
          },
          "metadata": {},
          "execution_count": 184
        }
      ],
      "source": [
        "a1"
      ]
    },
    {
      "cell_type": "code",
      "execution_count": 185,
      "id": "3c2e9829",
      "metadata": {
        "id": "3c2e9829",
        "outputId": "f4550206-d033-4ecd-d85c-aa1de2bf9ddb",
        "colab": {
          "base_uri": "https://localhost:8080/"
        }
      },
      "outputs": [
        {
          "output_type": "execute_result",
          "data": {
            "text/plain": [
              "[array([94, 15, 89]), array([50, 83, 52]), array([18, 63, 25])]"
            ]
          },
          "metadata": {},
          "execution_count": 185
        }
      ],
      "source": [
        "list(a1)  # Make array as list"
      ]
    },
    {
      "cell_type": "code",
      "execution_count": 186,
      "id": "07e6f430",
      "metadata": {
        "id": "07e6f430",
        "outputId": "94d15103-b5ba-4751-e117-f6f96c0c6676",
        "colab": {
          "base_uri": "https://localhost:8080/"
        }
      },
      "outputs": [
        {
          "output_type": "execute_result",
          "data": {
            "text/plain": [
              "array([1, 2, 3, 4])"
            ]
          },
          "metadata": {},
          "execution_count": 186
        }
      ],
      "source": [
        "arr1"
      ]
    },
    {
      "cell_type": "code",
      "execution_count": 187,
      "id": "ceb20b7d",
      "metadata": {
        "id": "ceb20b7d",
        "outputId": "3026b8e1-c52d-4b77-9e76-4f8c71b3d491",
        "colab": {
          "base_uri": "https://localhost:8080/"
        }
      },
      "outputs": [
        {
          "output_type": "execute_result",
          "data": {
            "text/plain": [
              "[1, 2, 3, 4]"
            ]
          },
          "metadata": {},
          "execution_count": 187
        }
      ],
      "source": [
        "list(arr1)"
      ]
    },
    {
      "cell_type": "code",
      "execution_count": null,
      "id": "da7018f3",
      "metadata": {
        "id": "da7018f3"
      },
      "outputs": [],
      "source": []
    }
  ],
  "metadata": {
    "kernelspec": {
      "display_name": "Python 3 (ipykernel)",
      "language": "python",
      "name": "python3"
    },
    "language_info": {
      "codemirror_mode": {
        "name": "ipython",
        "version": 3
      },
      "file_extension": ".py",
      "mimetype": "text/x-python",
      "name": "python",
      "nbconvert_exporter": "python",
      "pygments_lexer": "ipython3",
      "version": "3.9.7"
    },
    "colab": {
      "provenance": [],
      "collapsed_sections": [
        "h0tPIngE23cc",
        "HLe2Vvwt3LkU",
        "5fTcei2iRRdL",
        "Uu8xVMCFREVP",
        "C8s3df8IUnEd",
        "zR23v6XaW96T",
        "kpjC8tzQXfC-",
        "BrRxVxgMac7d",
        "OSL3XnsCtd8p",
        "iN3q__yiuK5o"
      ],
      "include_colab_link": true
    }
  },
  "nbformat": 4,
  "nbformat_minor": 5
}