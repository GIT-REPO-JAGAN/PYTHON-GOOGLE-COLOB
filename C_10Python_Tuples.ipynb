{
  "cells": [
    {
      "cell_type": "markdown",
      "metadata": {
        "id": "view-in-github",
        "colab_type": "text"
      },
      "source": [
        "<a href=\"https://colab.research.google.com/github/GIT-REPO-JAGAN/PYTHON-GOOGLE-COLOB/blob/main/C_10Python_Tuples.ipynb\" target=\"_parent\"><img src=\"https://colab.research.google.com/assets/colab-badge.svg\" alt=\"Open In Colab\"/></a>"
      ]
    },
    {
      "cell_type": "markdown",
      "source": [
        "####Tuples\n",
        "\n",
        "comma separated elements enclosed within ()  OR () are optional\n",
        "\n",
        "Duplicates are allowed\n",
        "\n",
        "Sequence\n",
        "\n",
        "Indexing\n",
        "\n",
        "Immutable"
      ],
      "metadata": {
        "id": "ZZ5SNeBJ9ipT"
      },
      "id": "ZZ5SNeBJ9ipT"
    },
    {
      "cell_type": "code",
      "execution_count": 1,
      "id": "ff768fe5",
      "metadata": {
        "id": "ff768fe5"
      },
      "outputs": [],
      "source": [
        "t1 = (10, 2, 3, -1, 'Python', True, 1, [1,23])"
      ]
    },
    {
      "cell_type": "code",
      "execution_count": 2,
      "id": "fa97bf05",
      "metadata": {
        "id": "fa97bf05",
        "outputId": "92a731a5-ab62-4004-ceac-a7aaa44d6bd8",
        "colab": {
          "base_uri": "https://localhost:8080/"
        }
      },
      "outputs": [
        {
          "output_type": "execute_result",
          "data": {
            "text/plain": [
              "(10, 2, 3, -1, 'Python', True, 1, [1, 23])"
            ]
          },
          "metadata": {},
          "execution_count": 2
        }
      ],
      "source": [
        "t1"
      ]
    },
    {
      "cell_type": "code",
      "execution_count": null,
      "id": "b9e22589",
      "metadata": {
        "id": "b9e22589",
        "outputId": "de00db49-235f-43d5-c689-66d41492c404"
      },
      "outputs": [
        {
          "data": {
            "text/plain": [
              "tuple"
            ]
          },
          "execution_count": 4,
          "metadata": {},
          "output_type": "execute_result"
        }
      ],
      "source": [
        "type(t1)"
      ]
    },
    {
      "cell_type": "code",
      "execution_count": 3,
      "id": "e14d6001",
      "metadata": {
        "id": "e14d6001",
        "outputId": "44a9cb79-2762-458b-e095-5f8dc7d77386",
        "colab": {
          "base_uri": "https://localhost:8080/"
        }
      },
      "outputs": [
        {
          "output_type": "execute_result",
          "data": {
            "text/plain": [
              "10"
            ]
          },
          "metadata": {},
          "execution_count": 3
        }
      ],
      "source": [
        "t1[0] # Indexing allowd as this is Immutable"
      ]
    },
    {
      "cell_type": "code",
      "execution_count": 4,
      "id": "70215784",
      "metadata": {
        "id": "70215784",
        "outputId": "75f1d3b5-a024-4d94-d6c1-294768b990c4",
        "colab": {
          "base_uri": "https://localhost:8080/"
        }
      },
      "outputs": [
        {
          "output_type": "execute_result",
          "data": {
            "text/plain": [
              "[1, 23]"
            ]
          },
          "metadata": {},
          "execution_count": 4
        }
      ],
      "source": [
        "t1[-1]"
      ]
    },
    {
      "cell_type": "code",
      "execution_count": 5,
      "id": "090b9b86",
      "metadata": {
        "id": "090b9b86",
        "outputId": "f77de3a4-09a6-47dd-c8f6-5611bf5b8912",
        "colab": {
          "base_uri": "https://localhost:8080/"
        }
      },
      "outputs": [
        {
          "output_type": "execute_result",
          "data": {
            "text/plain": [
              "(2, 3, -1, 'Python')"
            ]
          },
          "metadata": {},
          "execution_count": 5
        }
      ],
      "source": [
        "t1[1:5:1] # Slicing also allowed"
      ]
    },
    {
      "cell_type": "code",
      "execution_count": 6,
      "id": "35757945",
      "metadata": {
        "id": "35757945",
        "outputId": "1d89e024-2c3d-4bd9-9074-2ff2428d5f88",
        "colab": {
          "base_uri": "https://localhost:8080/"
        }
      },
      "outputs": [
        {
          "output_type": "execute_result",
          "data": {
            "text/plain": [
              "(10, 2, 3, -1, 'Python', True, 1, [1, 23])"
            ]
          },
          "metadata": {},
          "execution_count": 6
        }
      ],
      "source": [
        "t1"
      ]
    },
    {
      "cell_type": "code",
      "execution_count": 7,
      "id": "eb8211af",
      "metadata": {
        "id": "eb8211af",
        "outputId": "c7e4b52a-c711-45bf-c423-e09837165e04",
        "colab": {
          "base_uri": "https://localhost:8080/",
          "height": 171
        }
      },
      "outputs": [
        {
          "output_type": "error",
          "ename": "TypeError",
          "evalue": "ignored",
          "traceback": [
            "\u001b[0;31m---------------------------------------------------------------------------\u001b[0m",
            "\u001b[0;31mTypeError\u001b[0m                                 Traceback (most recent call last)",
            "\u001b[0;32m<ipython-input-7-a75f7beedda4>\u001b[0m in \u001b[0;36m<cell line: 1>\u001b[0;34m()\u001b[0m\n\u001b[0;32m----> 1\u001b[0;31m \u001b[0mt1\u001b[0m\u001b[0;34m[\u001b[0m\u001b[0;36m0\u001b[0m\u001b[0;34m]\u001b[0m \u001b[0;34m=\u001b[0m \u001b[0;36m1\u001b[0m\u001b[0;34m\u001b[0m\u001b[0;34m\u001b[0m\u001b[0m\n\u001b[0m",
            "\u001b[0;31mTypeError\u001b[0m: 'tuple' object does not support item assignment"
          ]
        }
      ],
      "source": [
        "t1[0] = 1"
      ]
    },
    {
      "cell_type": "code",
      "execution_count": 8,
      "id": "ed5ef9f0",
      "metadata": {
        "id": "ed5ef9f0",
        "outputId": "6047a36b-8e63-4376-afe8-fbd519689ff8",
        "colab": {
          "base_uri": "https://localhost:8080/"
        }
      },
      "outputs": [
        {
          "output_type": "execute_result",
          "data": {
            "text/plain": [
              "(10, 2, 3, -1, 'Python', True, 1, [1, 23])"
            ]
          },
          "metadata": {},
          "execution_count": 8
        }
      ],
      "source": [
        "t1"
      ]
    },
    {
      "cell_type": "code",
      "execution_count": 9,
      "id": "bb3f9e90",
      "metadata": {
        "id": "bb3f9e90"
      },
      "outputs": [],
      "source": [
        "t2 = (1, 3, 0, -1, 1, 0, 3, 10, 4, 4)"
      ]
    },
    {
      "cell_type": "code",
      "execution_count": 10,
      "id": "4e538a66",
      "metadata": {
        "id": "4e538a66",
        "outputId": "ed36ef52-bf9d-42f5-d2d1-48e75780388f",
        "colab": {
          "base_uri": "https://localhost:8080/"
        }
      },
      "outputs": [
        {
          "output_type": "execute_result",
          "data": {
            "text/plain": [
              "(1, 3, 0, -1, 1, 0, 3, 10, 4, 4)"
            ]
          },
          "metadata": {},
          "execution_count": 10
        }
      ],
      "source": [
        "t2"
      ]
    },
    {
      "cell_type": "code",
      "execution_count": 11,
      "id": "69412c0d",
      "metadata": {
        "id": "69412c0d",
        "outputId": "319d9014-0953-4da1-9c0c-a78bbd7d3e9a",
        "colab": {
          "base_uri": "https://localhost:8080/"
        }
      },
      "outputs": [
        {
          "output_type": "execute_result",
          "data": {
            "text/plain": [
              "2"
            ]
          },
          "metadata": {},
          "execution_count": 11
        }
      ],
      "source": [
        "t2.count(3)"
      ]
    },
    {
      "cell_type": "code",
      "execution_count": null,
      "id": "5826afe9",
      "metadata": {
        "id": "5826afe9",
        "outputId": "325bc994-983c-489f-b8c6-d0dd97727dcb"
      },
      "outputs": [
        {
          "data": {
            "text/plain": [
              "0"
            ]
          },
          "execution_count": 16,
          "metadata": {},
          "output_type": "execute_result"
        }
      ],
      "source": [
        "t2.count(100)"
      ]
    },
    {
      "cell_type": "code",
      "execution_count": null,
      "id": "bf416457",
      "metadata": {
        "id": "bf416457",
        "outputId": "61279d3a-b251-43cc-c81f-32fb0727c0bb"
      },
      "outputs": [
        {
          "data": {
            "text/plain": [
              "(1, 3, 0, -1, 1, 0, 3, 10, 4, 4)"
            ]
          },
          "execution_count": 17,
          "metadata": {},
          "output_type": "execute_result"
        }
      ],
      "source": [
        "t2"
      ]
    },
    {
      "cell_type": "code",
      "execution_count": null,
      "id": "ad140954",
      "metadata": {
        "id": "ad140954",
        "outputId": "af8a15e9-91df-4d15-ac28-4a3f40a6281e"
      },
      "outputs": [
        {
          "data": {
            "text/plain": [
              "2"
            ]
          },
          "execution_count": 18,
          "metadata": {},
          "output_type": "execute_result"
        }
      ],
      "source": [
        "t2.index(0)"
      ]
    },
    {
      "cell_type": "code",
      "execution_count": 12,
      "id": "30017174",
      "metadata": {
        "id": "30017174"
      },
      "outputs": [],
      "source": [
        "t3 = (1,2,3)"
      ]
    },
    {
      "cell_type": "code",
      "execution_count": 13,
      "id": "3a43af71",
      "metadata": {
        "id": "3a43af71"
      },
      "outputs": [],
      "source": [
        "l1 = list(t3) # Typecasting"
      ]
    },
    {
      "cell_type": "code",
      "execution_count": null,
      "id": "68c30d99",
      "metadata": {
        "id": "68c30d99",
        "outputId": "7f2233f3-f750-44cd-90d3-0a46e98a7366"
      },
      "outputs": [
        {
          "data": {
            "text/plain": [
              "[1, 2, 3]"
            ]
          },
          "execution_count": 21,
          "metadata": {},
          "output_type": "execute_result"
        }
      ],
      "source": [
        "l1"
      ]
    },
    {
      "cell_type": "code",
      "execution_count": null,
      "id": "527c8856",
      "metadata": {
        "id": "527c8856",
        "outputId": "617886f6-21e5-4832-f970-aaa43c7959d8"
      },
      "outputs": [
        {
          "data": {
            "text/plain": [
              "(1, 2, 3)"
            ]
          },
          "execution_count": 22,
          "metadata": {},
          "output_type": "execute_result"
        }
      ],
      "source": [
        "t3"
      ]
    },
    {
      "cell_type": "code",
      "execution_count": null,
      "id": "c40a3989",
      "metadata": {
        "id": "c40a3989"
      },
      "outputs": [],
      "source": [
        "l1[-1] = 4"
      ]
    },
    {
      "cell_type": "code",
      "execution_count": null,
      "id": "57386d1d",
      "metadata": {
        "id": "57386d1d",
        "outputId": "0b92a2ce-43e6-4715-c0be-8c90d6c7b1f7"
      },
      "outputs": [
        {
          "data": {
            "text/plain": [
              "[1, 2, 4]"
            ]
          },
          "execution_count": 24,
          "metadata": {},
          "output_type": "execute_result"
        }
      ],
      "source": [
        "l1"
      ]
    },
    {
      "cell_type": "code",
      "execution_count": null,
      "id": "a853bc69",
      "metadata": {
        "id": "a853bc69"
      },
      "outputs": [],
      "source": [
        "t3 = tuple(l1)"
      ]
    },
    {
      "cell_type": "code",
      "execution_count": null,
      "id": "ffe00b58",
      "metadata": {
        "id": "ffe00b58",
        "outputId": "8d381af9-9d24-48cd-f334-d0a74b8a3c07"
      },
      "outputs": [
        {
          "data": {
            "text/plain": [
              "(1, 2, 4)"
            ]
          },
          "execution_count": 26,
          "metadata": {},
          "output_type": "execute_result"
        }
      ],
      "source": [
        "t3"
      ]
    },
    {
      "cell_type": "code",
      "execution_count": null,
      "id": "6770ab14",
      "metadata": {
        "id": "6770ab14"
      },
      "outputs": [],
      "source": []
    }
  ],
  "metadata": {
    "kernelspec": {
      "display_name": "Python 3 (ipykernel)",
      "language": "python",
      "name": "python3"
    },
    "language_info": {
      "codemirror_mode": {
        "name": "ipython",
        "version": 3
      },
      "file_extension": ".py",
      "mimetype": "text/x-python",
      "name": "python",
      "nbconvert_exporter": "python",
      "pygments_lexer": "ipython3",
      "version": "3.9.7"
    },
    "colab": {
      "provenance": [],
      "include_colab_link": true
    }
  },
  "nbformat": 4,
  "nbformat_minor": 5
}