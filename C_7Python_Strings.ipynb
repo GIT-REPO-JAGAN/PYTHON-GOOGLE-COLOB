{
  "cells": [
    {
      "cell_type": "markdown",
      "metadata": {
        "id": "view-in-github",
        "colab_type": "text"
      },
      "source": [
        "<a href=\"https://colab.research.google.com/github/GIT-REPO-JAGAN/PYTHON-GOOGLE-COLOB/blob/main/C_7Python_Strings.ipynb\" target=\"_parent\"><img src=\"https://colab.research.google.com/assets/colab-badge.svg\" alt=\"Open In Colab\"/></a>"
      ]
    },
    {
      "cell_type": "markdown",
      "source": [
        "####Strings\n",
        "\n",
        "Sequence of characters enclosed within quotation"
      ],
      "metadata": {
        "id": "hjHsGyzRGEsb"
      },
      "id": "hjHsGyzRGEsb"
    },
    {
      "cell_type": "code",
      "execution_count": null,
      "id": "2d41b33d",
      "metadata": {
        "id": "2d41b33d"
      },
      "outputs": [],
      "source": [
        "s1 = \"Hello World\""
      ]
    },
    {
      "cell_type": "code",
      "execution_count": null,
      "id": "df6622f8",
      "metadata": {
        "id": "df6622f8",
        "outputId": "59358194-35c0-4a8f-ca60-38d3326823b5"
      },
      "outputs": [
        {
          "data": {
            "text/plain": [
              "str"
            ]
          },
          "execution_count": 3,
          "metadata": {},
          "output_type": "execute_result"
        }
      ],
      "source": [
        "type(s1) # Check Type"
      ]
    },
    {
      "cell_type": "code",
      "execution_count": null,
      "id": "3790bdd0",
      "metadata": {
        "id": "3790bdd0",
        "outputId": "03eb537c-f1d3-4400-ea69-d33a4a07a8eb"
      },
      "outputs": [
        {
          "data": {
            "text/plain": [
              "'H'"
            ]
          },
          "execution_count": 4,
          "metadata": {},
          "output_type": "execute_result"
        }
      ],
      "source": [
        "s1[0] # +ve indexing"
      ]
    },
    {
      "cell_type": "code",
      "execution_count": null,
      "id": "b53edea9",
      "metadata": {
        "id": "b53edea9",
        "outputId": "8908b9a6-3f12-4969-c83a-a5301c1d4c66"
      },
      "outputs": [
        {
          "data": {
            "text/plain": [
              "'d'"
            ]
          },
          "execution_count": 5,
          "metadata": {},
          "output_type": "execute_result"
        }
      ],
      "source": [
        "s1[-1]  # -ve indexing"
      ]
    },
    {
      "cell_type": "code",
      "execution_count": null,
      "id": "9684fba6",
      "metadata": {
        "id": "9684fba6",
        "outputId": "a85a0a53-0a4d-4b00-e543-e25e2bfda5b8"
      },
      "outputs": [
        {
          "data": {
            "text/plain": [
              "'loW'"
            ]
          },
          "execution_count": 6,
          "metadata": {},
          "output_type": "execute_result"
        }
      ],
      "source": [
        "s1[2:8:2] # Slicing"
      ]
    },
    {
      "cell_type": "markdown",
      "source": [
        "#### Concatination  / Joining the strings"
      ],
      "metadata": {
        "id": "3lvOP6U4GKc6"
      },
      "id": "3lvOP6U4GKc6"
    },
    {
      "cell_type": "code",
      "execution_count": null,
      "id": "f72abdf6",
      "metadata": {
        "id": "f72abdf6",
        "outputId": "ea1eb810-877b-4fea-fd30-fe4b30379c52"
      },
      "outputs": [
        {
          "data": {
            "text/plain": [
              "'hibye'"
            ]
          },
          "execution_count": 8,
          "metadata": {},
          "output_type": "execute_result"
        }
      ],
      "source": [
        "'hi' + 'bye' # Only String + String can join"
      ]
    },
    {
      "cell_type": "code",
      "execution_count": null,
      "id": "410c7115",
      "metadata": {
        "id": "410c7115"
      },
      "outputs": [],
      "source": [
        "language = \"Python\""
      ]
    },
    {
      "cell_type": "code",
      "execution_count": null,
      "id": "9f7115aa",
      "metadata": {
        "id": "9f7115aa"
      },
      "outputs": [],
      "source": [
        "version = 3.11"
      ]
    },
    {
      "cell_type": "code",
      "execution_count": null,
      "id": "bade1007",
      "metadata": {
        "id": "bade1007",
        "outputId": "797764de-6b74-4cdc-dcfd-9eadb93b9aba"
      },
      "outputs": [
        {
          "ename": "TypeError",
          "evalue": "can only concatenate str (not \"float\") to str",
          "output_type": "error",
          "traceback": [
            "\u001b[1;31m---------------------------------------------------------------------------\u001b[0m",
            "\u001b[1;31mTypeError\u001b[0m                                 Traceback (most recent call last)",
            "\u001b[1;32m~\\AppData\\Local\\Temp/ipykernel_12072/3941699105.py\u001b[0m in \u001b[0;36m<module>\u001b[1;34m\u001b[0m\n\u001b[1;32m----> 1\u001b[1;33m \u001b[0mlanguage\u001b[0m \u001b[1;33m+\u001b[0m \u001b[0mversion\u001b[0m\u001b[1;33m\u001b[0m\u001b[1;33m\u001b[0m\u001b[0m\n\u001b[0m",
            "\u001b[1;31mTypeError\u001b[0m: can only concatenate str (not \"float\") to str"
          ]
        }
      ],
      "source": [
        "language + version"
      ]
    },
    {
      "cell_type": "code",
      "execution_count": null,
      "id": "d16d6eef",
      "metadata": {
        "id": "d16d6eef",
        "outputId": "50a3b504-dd5e-4d3d-eb64-36d80425771e"
      },
      "outputs": [
        {
          "ename": "TypeError",
          "evalue": "can only concatenate str (not \"int\") to str",
          "output_type": "error",
          "traceback": [
            "\u001b[1;31m---------------------------------------------------------------------------\u001b[0m",
            "\u001b[1;31mTypeError\u001b[0m                                 Traceback (most recent call last)",
            "\u001b[1;32m~\\AppData\\Local\\Temp/ipykernel_12072/893434725.py\u001b[0m in \u001b[0;36m<module>\u001b[1;34m\u001b[0m\n\u001b[1;32m----> 1\u001b[1;33m \u001b[1;34m'hi'\u001b[0m \u001b[1;33m+\u001b[0m \u001b[1;36m3\u001b[0m\u001b[1;33m\u001b[0m\u001b[1;33m\u001b[0m\u001b[0m\n\u001b[0m",
            "\u001b[1;31mTypeError\u001b[0m: can only concatenate str (not \"int\") to str"
          ]
        }
      ],
      "source": [
        "'hi' + 3"
      ]
    },
    {
      "cell_type": "code",
      "execution_count": null,
      "id": "40d1e27e",
      "metadata": {
        "id": "40d1e27e",
        "outputId": "05bf42fd-3468-4f6e-d524-f8bd4727057a"
      },
      "outputs": [
        {
          "data": {
            "text/plain": [
              "'Python3.11'"
            ]
          },
          "execution_count": 13,
          "metadata": {},
          "output_type": "execute_result"
        }
      ],
      "source": [
        "language + str(version)"
      ]
    },
    {
      "cell_type": "markdown",
      "source": [
        "#### Repeatition  / Multiplication of same strings"
      ],
      "metadata": {
        "id": "92Tal60FGtrs"
      },
      "id": "92Tal60FGtrs"
    },
    {
      "cell_type": "code",
      "execution_count": null,
      "id": "a8a4953b",
      "metadata": {
        "id": "a8a4953b",
        "outputId": "571304fd-3fd9-42ea-e3fc-9782eb1954af"
      },
      "outputs": [
        {
          "data": {
            "text/plain": [
              "'hihihihihi'"
            ]
          },
          "execution_count": 14,
          "metadata": {},
          "output_type": "execute_result"
        }
      ],
      "source": [
        "'hi' * 5  # 5 times repited the same"
      ]
    },
    {
      "cell_type": "code",
      "execution_count": null,
      "id": "d7e5c6fc",
      "metadata": {
        "id": "d7e5c6fc",
        "outputId": "1dd7b9c4-c66d-46b1-8b53-f7024f5ac0e4"
      },
      "outputs": [
        {
          "data": {
            "text/plain": [
              "'Python'"
            ]
          },
          "execution_count": 16,
          "metadata": {},
          "output_type": "execute_result"
        }
      ],
      "source": [
        "language"
      ]
    },
    {
      "cell_type": "code",
      "execution_count": null,
      "id": "c31210d8",
      "metadata": {
        "id": "c31210d8",
        "outputId": "ac786452-93b0-47a5-fc42-f5e86abd95f7"
      },
      "outputs": [
        {
          "data": {
            "text/plain": [
              "'PythonPythonPython'"
            ]
          },
          "execution_count": 17,
          "metadata": {},
          "output_type": "execute_result"
        }
      ],
      "source": [
        "language * 3"
      ]
    },
    {
      "cell_type": "code",
      "execution_count": null,
      "id": "36182f55",
      "metadata": {
        "id": "36182f55",
        "outputId": "cf6dc4db-596d-42b3-b8d4-1894858d60f0"
      },
      "outputs": [
        {
          "data": {
            "text/plain": [
              "'Hello World'"
            ]
          },
          "execution_count": 18,
          "metadata": {},
          "output_type": "execute_result"
        }
      ],
      "source": [
        "s1"
      ]
    },
    {
      "cell_type": "code",
      "execution_count": null,
      "id": "9d85a301",
      "metadata": {
        "id": "9d85a301",
        "outputId": "d6b7e8f5-e9d3-40ef-a29f-f8ff77ec313d"
      },
      "outputs": [
        {
          "data": {
            "text/plain": [
              "True"
            ]
          },
          "execution_count": 19,
          "metadata": {},
          "output_type": "execute_result"
        }
      ],
      "source": [
        "'l' in s1"
      ]
    },
    {
      "cell_type": "code",
      "execution_count": null,
      "id": "0218b05f",
      "metadata": {
        "id": "0218b05f"
      },
      "outputs": [],
      "source": [
        "s2 = \"Welcome to Python\""
      ]
    },
    {
      "cell_type": "code",
      "execution_count": null,
      "id": "d9e325c4",
      "metadata": {
        "id": "d9e325c4",
        "outputId": "dbdeef96-b00b-4115-8597-81b4e41b8b98"
      },
      "outputs": [
        {
          "data": {
            "text/plain": [
              "'Welcome to Python'"
            ]
          },
          "execution_count": 21,
          "metadata": {},
          "output_type": "execute_result"
        }
      ],
      "source": [
        "s2"
      ]
    },
    {
      "cell_type": "code",
      "execution_count": null,
      "id": "36f49c3f",
      "metadata": {
        "id": "36f49c3f",
        "outputId": "6c45b6c6-6cbe-4ed1-e4fc-450c906117f2"
      },
      "outputs": [
        {
          "data": {
            "text/plain": [
              "'Python'"
            ]
          },
          "execution_count": 22,
          "metadata": {},
          "output_type": "execute_result"
        }
      ],
      "source": [
        "language"
      ]
    },
    {
      "cell_type": "code",
      "execution_count": null,
      "id": "a432e9ab",
      "metadata": {
        "id": "a432e9ab",
        "outputId": "a83ba9f7-1ec6-4baa-fece-1267b324b1bb"
      },
      "outputs": [
        {
          "data": {
            "text/plain": [
              "True"
            ]
          },
          "execution_count": 23,
          "metadata": {},
          "output_type": "execute_result"
        }
      ],
      "source": [
        "language in s2"
      ]
    },
    {
      "cell_type": "code",
      "execution_count": null,
      "id": "a7871971",
      "metadata": {
        "id": "a7871971",
        "outputId": "2d2b57a9-9d0c-4ddf-dc16-39fc4d7044f0"
      },
      "outputs": [
        {
          "name": "stdout",
          "output_type": "stream",
          "text": [
            "Present\n"
          ]
        }
      ],
      "source": [
        "if language in s2:\n",
        "    print(\"Present\")\n",
        "else:\n",
        "    print(\"Absent\")"
      ]
    },
    {
      "cell_type": "code",
      "execution_count": null,
      "id": "a65f5c3c",
      "metadata": {
        "id": "a65f5c3c",
        "outputId": "1462ce36-8a89-4ce9-bfd3-88f722a97fd5"
      },
      "outputs": [
        {
          "data": {
            "text/plain": [
              "'hello bye'"
            ]
          },
          "execution_count": 25,
          "metadata": {},
          "output_type": "execute_result"
        }
      ],
      "source": [
        "\"hello\" + \" \" + \"bye\""
      ]
    },
    {
      "cell_type": "code",
      "execution_count": null,
      "id": "3ee605a6",
      "metadata": {
        "id": "3ee605a6"
      },
      "outputs": [],
      "source": [
        "s3 = 'pycharm'"
      ]
    },
    {
      "cell_type": "code",
      "execution_count": null,
      "id": "303399c6",
      "metadata": {
        "id": "303399c6",
        "outputId": "4b48c42f-b151-4f7f-aa45-d25c848b302d"
      },
      "outputs": [
        {
          "data": {
            "text/plain": [
              "'pycharm'"
            ]
          },
          "execution_count": 27,
          "metadata": {},
          "output_type": "execute_result"
        }
      ],
      "source": [
        "s3"
      ]
    },
    {
      "cell_type": "code",
      "execution_count": null,
      "id": "b6adf6ee",
      "metadata": {
        "id": "b6adf6ee",
        "outputId": "a6e79bf3-fd52-46dc-873a-6897db42bf87"
      },
      "outputs": [
        {
          "data": {
            "text/plain": [
              "'Welcome to Python'"
            ]
          },
          "execution_count": 28,
          "metadata": {},
          "output_type": "execute_result"
        }
      ],
      "source": [
        "s2"
      ]
    },
    {
      "cell_type": "code",
      "execution_count": null,
      "id": "19c43c0e",
      "metadata": {
        "id": "19c43c0e",
        "outputId": "64b4aa1d-2d97-4246-98f9-e9a827fa1c37"
      },
      "outputs": [
        {
          "data": {
            "text/plain": [
              "False"
            ]
          },
          "execution_count": 29,
          "metadata": {},
          "output_type": "execute_result"
        }
      ],
      "source": [
        "s3 in s2"
      ]
    },
    {
      "cell_type": "code",
      "execution_count": null,
      "id": "7de0206e",
      "metadata": {
        "id": "7de0206e",
        "outputId": "d5b8702c-2df0-4c7a-f7aa-a62b56c4a551"
      },
      "outputs": [
        {
          "data": {
            "text/plain": [
              "True"
            ]
          },
          "execution_count": 30,
          "metadata": {},
          "output_type": "execute_result"
        }
      ],
      "source": [
        "'Py' in s2"
      ]
    },
    {
      "cell_type": "code",
      "execution_count": 1,
      "id": "a3efce13",
      "metadata": {
        "id": "a3efce13"
      },
      "outputs": [],
      "source": [
        "s3 = \"Pycharm\""
      ]
    },
    {
      "cell_type": "code",
      "execution_count": 2,
      "id": "b19e41fb",
      "metadata": {
        "id": "b19e41fb",
        "outputId": "4c5a9f5c-e1d3-48d5-b97f-7a0f6b3a6d90",
        "colab": {
          "base_uri": "https://localhost:8080/",
          "height": 36
        }
      },
      "outputs": [
        {
          "output_type": "execute_result",
          "data": {
            "text/plain": [
              "'Pycharm'"
            ],
            "application/vnd.google.colaboratory.intrinsic+json": {
              "type": "string"
            }
          },
          "metadata": {},
          "execution_count": 2
        }
      ],
      "source": [
        "s3"
      ]
    },
    {
      "cell_type": "code",
      "source": [
        "s3[0:2]"
      ],
      "metadata": {
        "colab": {
          "base_uri": "https://localhost:8080/",
          "height": 36
        },
        "id": "HCLgv6RlHrgt",
        "outputId": "2379ba52-88af-4dc5-f387-ed4d7a8ceabd"
      },
      "id": "HCLgv6RlHrgt",
      "execution_count": 3,
      "outputs": [
        {
          "output_type": "execute_result",
          "data": {
            "text/plain": [
              "'Py'"
            ],
            "application/vnd.google.colaboratory.intrinsic+json": {
              "type": "string"
            }
          },
          "metadata": {},
          "execution_count": 3
        }
      ]
    },
    {
      "cell_type": "code",
      "execution_count": null,
      "id": "b3dee6cb",
      "metadata": {
        "id": "b3dee6cb",
        "outputId": "0f953345-801f-42ba-f0b7-2ff736015402"
      },
      "outputs": [
        {
          "data": {
            "text/plain": [
              "'Welcome to Python'"
            ]
          },
          "execution_count": 33,
          "metadata": {},
          "output_type": "execute_result"
        }
      ],
      "source": [
        "s2"
      ]
    },
    {
      "cell_type": "code",
      "execution_count": null,
      "id": "ea103ad0",
      "metadata": {
        "id": "ea103ad0",
        "outputId": "ab5079c0-c3de-412d-ede5-578d6bc05ea5"
      },
      "outputs": [
        {
          "data": {
            "text/plain": [
              "True"
            ]
          },
          "execution_count": 35,
          "metadata": {},
          "output_type": "execute_result"
        }
      ],
      "source": [
        "s3[0:2] in s2"
      ]
    },
    {
      "cell_type": "code",
      "execution_count": null,
      "id": "6cb184eb",
      "metadata": {
        "id": "6cb184eb",
        "outputId": "79b5c199-89b2-408c-fbad-e18f6c7d61eb"
      },
      "outputs": [
        {
          "data": {
            "text/plain": [
              "'Pycharm'"
            ]
          },
          "execution_count": 36,
          "metadata": {},
          "output_type": "execute_result"
        }
      ],
      "source": [
        "s3"
      ]
    },
    {
      "cell_type": "code",
      "execution_count": null,
      "id": "a8d48591",
      "metadata": {
        "id": "a8d48591",
        "outputId": "dd1ba7a8-15d2-4cd0-81dc-52b50b17a97d"
      },
      "outputs": [
        {
          "data": {
            "text/plain": [
              "'Welcome to Python'"
            ]
          },
          "execution_count": 37,
          "metadata": {},
          "output_type": "execute_result"
        }
      ],
      "source": [
        "s2"
      ]
    },
    {
      "cell_type": "code",
      "execution_count": null,
      "id": "cb701367",
      "metadata": {
        "id": "cb701367",
        "outputId": "53b67dec-9c90-4260-a825-912a51ad1c9b"
      },
      "outputs": [
        {
          "data": {
            "text/plain": [
              "'Py'"
            ]
          },
          "execution_count": 38,
          "metadata": {},
          "output_type": "execute_result"
        }
      ],
      "source": [
        "s3[0:2]"
      ]
    },
    {
      "cell_type": "code",
      "execution_count": null,
      "id": "23dbaf9f",
      "metadata": {
        "id": "23dbaf9f",
        "outputId": "7ada2c30-e657-4a9d-a3de-0e3d5f72298a"
      },
      "outputs": [
        {
          "data": {
            "text/plain": [
              "True"
            ]
          },
          "execution_count": 39,
          "metadata": {},
          "output_type": "execute_result"
        }
      ],
      "source": [
        "s3[0:2] in s2"
      ]
    },
    {
      "cell_type": "code",
      "execution_count": null,
      "id": "dd5d58da",
      "metadata": {
        "id": "dd5d58da",
        "outputId": "45a9af97-9fba-4946-f71b-145f4ba2e23f"
      },
      "outputs": [
        {
          "data": {
            "text/plain": [
              "'Python'"
            ]
          },
          "execution_count": 40,
          "metadata": {},
          "output_type": "execute_result"
        }
      ],
      "source": [
        "language"
      ]
    },
    {
      "cell_type": "code",
      "execution_count": null,
      "id": "19354923",
      "metadata": {
        "id": "19354923",
        "outputId": "c5ce7fd0-80e4-477a-adbd-6dc3d3609611"
      },
      "outputs": [
        {
          "data": {
            "text/plain": [
              "'Welcome to Python'"
            ]
          },
          "execution_count": 41,
          "metadata": {},
          "output_type": "execute_result"
        }
      ],
      "source": [
        "s2"
      ]
    },
    {
      "cell_type": "code",
      "execution_count": null,
      "id": "6982f986",
      "metadata": {
        "id": "6982f986",
        "outputId": "c4b82f37-d25e-4b6e-eb93-aea5adb585e0"
      },
      "outputs": [
        {
          "data": {
            "text/plain": [
              "True"
            ]
          },
          "execution_count": 42,
          "metadata": {},
          "output_type": "execute_result"
        }
      ],
      "source": [
        "language in s2"
      ]
    },
    {
      "cell_type": "code",
      "execution_count": null,
      "id": "38cc092a",
      "metadata": {
        "id": "38cc092a",
        "outputId": "b6dcda1f-ee45-4dee-b048-62c7f8287368"
      },
      "outputs": [
        {
          "ename": "TypeError",
          "evalue": "can only concatenate str (not \"int\") to str",
          "output_type": "error",
          "traceback": [
            "\u001b[1;31m---------------------------------------------------------------------------\u001b[0m",
            "\u001b[1;31mTypeError\u001b[0m                                 Traceback (most recent call last)",
            "\u001b[1;32m~\\AppData\\Local\\Temp/ipykernel_12072/3506852823.py\u001b[0m in \u001b[0;36m<module>\u001b[1;34m\u001b[0m\n\u001b[1;32m----> 1\u001b[1;33m \u001b[1;34m\"Python\"\u001b[0m \u001b[1;33m+\u001b[0m \u001b[1;36m8\u001b[0m \u001b[1;33m+\u001b[0m \u001b[1;34m\"Hello\"\u001b[0m\u001b[1;33m\u001b[0m\u001b[1;33m\u001b[0m\u001b[0m\n\u001b[0m",
            "\u001b[1;31mTypeError\u001b[0m: can only concatenate str (not \"int\") to str"
          ]
        }
      ],
      "source": [
        "\"Python\" + 8 + \"Hello\""
      ]
    },
    {
      "cell_type": "code",
      "execution_count": null,
      "id": "f1187738",
      "metadata": {
        "id": "f1187738",
        "outputId": "25a62906-e6da-455e-f737-8234cd072800"
      },
      "outputs": [
        {
          "data": {
            "text/plain": [
              "'Python8Hello'"
            ]
          },
          "execution_count": 44,
          "metadata": {},
          "output_type": "execute_result"
        }
      ],
      "source": [
        "\"Python\" + str(8) + \"Hello\""
      ]
    },
    {
      "cell_type": "code",
      "execution_count": null,
      "id": "54876af1",
      "metadata": {
        "id": "54876af1",
        "outputId": "0b7a39d9-964b-42db-c76e-81a7f498ad0a"
      },
      "outputs": [
        {
          "name": "stdout",
          "output_type": "stream",
          "text": [
            "Enter a string: Python\n",
            "Enter another string: Python\n",
            "Same\n"
          ]
        }
      ],
      "source": [
        "s1 = input(\"Enter a string: \")\n",
        "s2 = input(\"Enter another string: \")\n",
        "\n",
        "if s1 == s2:\n",
        "    print(\"Same\")\n",
        "else:\n",
        "    print(\"Different\")"
      ]
    },
    {
      "cell_type": "code",
      "execution_count": null,
      "id": "6c080e56",
      "metadata": {
        "id": "6c080e56",
        "outputId": "a55b71f8-0700-46d8-b0b0-3b56ec0e5dd2"
      },
      "outputs": [
        {
          "name": "stdout",
          "output_type": "stream",
          "text": [
            "Enter a string: python\n",
            "Enter another string: Python\n",
            "Different\n"
          ]
        }
      ],
      "source": [
        "s1 = input(\"Enter a string: \")\n",
        "s2 = input(\"Enter another string: \")\n",
        "\n",
        "if s1 == s2:\n",
        "    print(\"Same\")\n",
        "else:\n",
        "    print(\"Different\")"
      ]
    },
    {
      "cell_type": "code",
      "execution_count": null,
      "id": "fcb90e7f",
      "metadata": {
        "id": "fcb90e7f",
        "outputId": "bff90440-4e09-4ad3-c4ad-6608d5c3cd99"
      },
      "outputs": [
        {
          "name": "stdout",
          "output_type": "stream",
          "text": [
            "Enter a string: Python \n",
            "Enter another string: Python\n",
            "Different\n"
          ]
        }
      ],
      "source": [
        "s1 = input(\"Enter a string: \")\n",
        "s2 = input(\"Enter another string: \")\n",
        "\n",
        "if s1 == s2:\n",
        "    print(\"Same\")\n",
        "else:\n",
        "    print(\"Different\")"
      ]
    },
    {
      "cell_type": "code",
      "execution_count": null,
      "id": "10f1621a",
      "metadata": {
        "id": "10f1621a",
        "outputId": "6b323dbb-9db7-4e10-c74d-3c9d46bce11a"
      },
      "outputs": [
        {
          "data": {
            "text/plain": [
              "'Python '"
            ]
          },
          "execution_count": 48,
          "metadata": {},
          "output_type": "execute_result"
        }
      ],
      "source": [
        "s1"
      ]
    },
    {
      "cell_type": "code",
      "execution_count": null,
      "id": "7b673028",
      "metadata": {
        "id": "7b673028",
        "outputId": "96b90db1-e17f-44df-a571-8fa3aed5c9c3"
      },
      "outputs": [
        {
          "data": {
            "text/plain": [
              "'Python'"
            ]
          },
          "execution_count": 49,
          "metadata": {},
          "output_type": "execute_result"
        }
      ],
      "source": [
        "s2"
      ]
    },
    {
      "cell_type": "code",
      "execution_count": null,
      "id": "3115a65f",
      "metadata": {
        "id": "3115a65f",
        "outputId": "0fb33df3-8cfd-45b9-c5a2-0705da6020ed"
      },
      "outputs": [
        {
          "name": "stdout",
          "output_type": "stream",
          "text": [
            "Enter a string:      Python     \n",
            "Enter another string:     Python              \n",
            "Different\n"
          ]
        }
      ],
      "source": [
        "s1 = input(\"Enter a string: \")\n",
        "s2 = input(\"Enter another string: \")\n",
        "\n",
        "if s1 == s2:\n",
        "    print(\"Same\")\n",
        "else:\n",
        "    print(\"Different\")"
      ]
    },
    {
      "cell_type": "code",
      "execution_count": null,
      "id": "4c98615c",
      "metadata": {
        "id": "4c98615c",
        "outputId": "325bda94-68a5-4a37-ce92-c441956e77a3"
      },
      "outputs": [
        {
          "data": {
            "text/plain": [
              "'     Python     '"
            ]
          },
          "execution_count": 51,
          "metadata": {},
          "output_type": "execute_result"
        }
      ],
      "source": [
        "s1"
      ]
    },
    {
      "cell_type": "code",
      "execution_count": null,
      "id": "99afa1cf",
      "metadata": {
        "id": "99afa1cf",
        "outputId": "c798f2fd-fa4a-46df-821d-945c3181911c"
      },
      "outputs": [
        {
          "data": {
            "text/plain": [
              "'    Python              '"
            ]
          },
          "execution_count": 52,
          "metadata": {},
          "output_type": "execute_result"
        }
      ],
      "source": [
        "s2"
      ]
    },
    {
      "cell_type": "code",
      "execution_count": null,
      "id": "27ee8115",
      "metadata": {
        "id": "27ee8115",
        "outputId": "8df86d98-7715-4d6b-cc5d-48067ff0acbe"
      },
      "outputs": [
        {
          "name": "stdout",
          "output_type": "stream",
          "text": [
            "Help on class str in module builtins:\n",
            "\n",
            "class str(object)\n",
            " |  str(object='') -> str\n",
            " |  str(bytes_or_buffer[, encoding[, errors]]) -> str\n",
            " |  \n",
            " |  Create a new string object from the given object. If encoding or\n",
            " |  errors is specified, then the object must expose a data buffer\n",
            " |  that will be decoded using the given encoding and error handler.\n",
            " |  Otherwise, returns the result of object.__str__() (if defined)\n",
            " |  or repr(object).\n",
            " |  encoding defaults to sys.getdefaultencoding().\n",
            " |  errors defaults to 'strict'.\n",
            " |  \n",
            " |  Methods defined here:\n",
            " |  \n",
            " |  __add__(self, value, /)\n",
            " |      Return self+value.\n",
            " |  \n",
            " |  __contains__(self, key, /)\n",
            " |      Return key in self.\n",
            " |  \n",
            " |  __eq__(self, value, /)\n",
            " |      Return self==value.\n",
            " |  \n",
            " |  __format__(self, format_spec, /)\n",
            " |      Return a formatted version of the string as described by format_spec.\n",
            " |  \n",
            " |  __ge__(self, value, /)\n",
            " |      Return self>=value.\n",
            " |  \n",
            " |  __getattribute__(self, name, /)\n",
            " |      Return getattr(self, name).\n",
            " |  \n",
            " |  __getitem__(self, key, /)\n",
            " |      Return self[key].\n",
            " |  \n",
            " |  __getnewargs__(...)\n",
            " |  \n",
            " |  __gt__(self, value, /)\n",
            " |      Return self>value.\n",
            " |  \n",
            " |  __hash__(self, /)\n",
            " |      Return hash(self).\n",
            " |  \n",
            " |  __iter__(self, /)\n",
            " |      Implement iter(self).\n",
            " |  \n",
            " |  __le__(self, value, /)\n",
            " |      Return self<=value.\n",
            " |  \n",
            " |  __len__(self, /)\n",
            " |      Return len(self).\n",
            " |  \n",
            " |  __lt__(self, value, /)\n",
            " |      Return self<value.\n",
            " |  \n",
            " |  __mod__(self, value, /)\n",
            " |      Return self%value.\n",
            " |  \n",
            " |  __mul__(self, value, /)\n",
            " |      Return self*value.\n",
            " |  \n",
            " |  __ne__(self, value, /)\n",
            " |      Return self!=value.\n",
            " |  \n",
            " |  __repr__(self, /)\n",
            " |      Return repr(self).\n",
            " |  \n",
            " |  __rmod__(self, value, /)\n",
            " |      Return value%self.\n",
            " |  \n",
            " |  __rmul__(self, value, /)\n",
            " |      Return value*self.\n",
            " |  \n",
            " |  __sizeof__(self, /)\n",
            " |      Return the size of the string in memory, in bytes.\n",
            " |  \n",
            " |  __str__(self, /)\n",
            " |      Return str(self).\n",
            " |  \n",
            " |  capitalize(self, /)\n",
            " |      Return a capitalized version of the string.\n",
            " |      \n",
            " |      More specifically, make the first character have upper case and the rest lower\n",
            " |      case.\n",
            " |  \n",
            " |  casefold(self, /)\n",
            " |      Return a version of the string suitable for caseless comparisons.\n",
            " |  \n",
            " |  center(self, width, fillchar=' ', /)\n",
            " |      Return a centered string of length width.\n",
            " |      \n",
            " |      Padding is done using the specified fill character (default is a space).\n",
            " |  \n",
            " |  count(...)\n",
            " |      S.count(sub[, start[, end]]) -> int\n",
            " |      \n",
            " |      Return the number of non-overlapping occurrences of substring sub in\n",
            " |      string S[start:end].  Optional arguments start and end are\n",
            " |      interpreted as in slice notation.\n",
            " |  \n",
            " |  encode(self, /, encoding='utf-8', errors='strict')\n",
            " |      Encode the string using the codec registered for encoding.\n",
            " |      \n",
            " |      encoding\n",
            " |        The encoding in which to encode the string.\n",
            " |      errors\n",
            " |        The error handling scheme to use for encoding errors.\n",
            " |        The default is 'strict' meaning that encoding errors raise a\n",
            " |        UnicodeEncodeError.  Other possible values are 'ignore', 'replace' and\n",
            " |        'xmlcharrefreplace' as well as any other name registered with\n",
            " |        codecs.register_error that can handle UnicodeEncodeErrors.\n",
            " |  \n",
            " |  endswith(...)\n",
            " |      S.endswith(suffix[, start[, end]]) -> bool\n",
            " |      \n",
            " |      Return True if S ends with the specified suffix, False otherwise.\n",
            " |      With optional start, test S beginning at that position.\n",
            " |      With optional end, stop comparing S at that position.\n",
            " |      suffix can also be a tuple of strings to try.\n",
            " |  \n",
            " |  expandtabs(self, /, tabsize=8)\n",
            " |      Return a copy where all tab characters are expanded using spaces.\n",
            " |      \n",
            " |      If tabsize is not given, a tab size of 8 characters is assumed.\n",
            " |  \n",
            " |  find(...)\n",
            " |      S.find(sub[, start[, end]]) -> int\n",
            " |      \n",
            " |      Return the lowest index in S where substring sub is found,\n",
            " |      such that sub is contained within S[start:end].  Optional\n",
            " |      arguments start and end are interpreted as in slice notation.\n",
            " |      \n",
            " |      Return -1 on failure.\n",
            " |  \n",
            " |  format(...)\n",
            " |      S.format(*args, **kwargs) -> str\n",
            " |      \n",
            " |      Return a formatted version of S, using substitutions from args and kwargs.\n",
            " |      The substitutions are identified by braces ('{' and '}').\n",
            " |  \n",
            " |  format_map(...)\n",
            " |      S.format_map(mapping) -> str\n",
            " |      \n",
            " |      Return a formatted version of S, using substitutions from mapping.\n",
            " |      The substitutions are identified by braces ('{' and '}').\n",
            " |  \n",
            " |  index(...)\n",
            " |      S.index(sub[, start[, end]]) -> int\n",
            " |      \n",
            " |      Return the lowest index in S where substring sub is found,\n",
            " |      such that sub is contained within S[start:end].  Optional\n",
            " |      arguments start and end are interpreted as in slice notation.\n",
            " |      \n",
            " |      Raises ValueError when the substring is not found.\n",
            " |  \n",
            " |  isalnum(self, /)\n",
            " |      Return True if the string is an alpha-numeric string, False otherwise.\n",
            " |      \n",
            " |      A string is alpha-numeric if all characters in the string are alpha-numeric and\n",
            " |      there is at least one character in the string.\n",
            " |  \n",
            " |  isalpha(self, /)\n",
            " |      Return True if the string is an alphabetic string, False otherwise.\n",
            " |      \n",
            " |      A string is alphabetic if all characters in the string are alphabetic and there\n",
            " |      is at least one character in the string.\n",
            " |  \n",
            " |  isascii(self, /)\n",
            " |      Return True if all characters in the string are ASCII, False otherwise.\n",
            " |      \n",
            " |      ASCII characters have code points in the range U+0000-U+007F.\n",
            " |      Empty string is ASCII too.\n",
            " |  \n",
            " |  isdecimal(self, /)\n",
            " |      Return True if the string is a decimal string, False otherwise.\n",
            " |      \n",
            " |      A string is a decimal string if all characters in the string are decimal and\n",
            " |      there is at least one character in the string.\n",
            " |  \n",
            " |  isdigit(self, /)\n",
            " |      Return True if the string is a digit string, False otherwise.\n",
            " |      \n",
            " |      A string is a digit string if all characters in the string are digits and there\n",
            " |      is at least one character in the string.\n",
            " |  \n",
            " |  isidentifier(self, /)\n",
            " |      Return True if the string is a valid Python identifier, False otherwise.\n",
            " |      \n",
            " |      Call keyword.iskeyword(s) to test whether string s is a reserved identifier,\n",
            " |      such as \"def\" or \"class\".\n",
            " |  \n",
            " |  islower(self, /)\n",
            " |      Return True if the string is a lowercase string, False otherwise.\n",
            " |      \n",
            " |      A string is lowercase if all cased characters in the string are lowercase and\n",
            " |      there is at least one cased character in the string.\n",
            " |  \n",
            " |  isnumeric(self, /)\n",
            " |      Return True if the string is a numeric string, False otherwise.\n",
            " |      \n",
            " |      A string is numeric if all characters in the string are numeric and there is at\n",
            " |      least one character in the string.\n",
            " |  \n",
            " |  isprintable(self, /)\n",
            " |      Return True if the string is printable, False otherwise.\n",
            " |      \n",
            " |      A string is printable if all of its characters are considered printable in\n",
            " |      repr() or if it is empty.\n",
            " |  \n",
            " |  isspace(self, /)\n",
            " |      Return True if the string is a whitespace string, False otherwise.\n",
            " |      \n",
            " |      A string is whitespace if all characters in the string are whitespace and there\n",
            " |      is at least one character in the string.\n",
            " |  \n",
            " |  istitle(self, /)\n",
            " |      Return True if the string is a title-cased string, False otherwise.\n",
            " |      \n",
            " |      In a title-cased string, upper- and title-case characters may only\n",
            " |      follow uncased characters and lowercase characters only cased ones.\n",
            " |  \n",
            " |  isupper(self, /)\n",
            " |      Return True if the string is an uppercase string, False otherwise.\n",
            " |      \n",
            " |      A string is uppercase if all cased characters in the string are uppercase and\n",
            " |      there is at least one cased character in the string.\n",
            " |  \n",
            " |  join(self, iterable, /)\n",
            " |      Concatenate any number of strings.\n",
            " |      \n",
            " |      The string whose method is called is inserted in between each given string.\n",
            " |      The result is returned as a new string.\n",
            " |      \n",
            " |      Example: '.'.join(['ab', 'pq', 'rs']) -> 'ab.pq.rs'\n",
            " |  \n",
            " |  ljust(self, width, fillchar=' ', /)\n",
            " |      Return a left-justified string of length width.\n",
            " |      \n",
            " |      Padding is done using the specified fill character (default is a space).\n",
            " |  \n",
            " |  lower(self, /)\n",
            " |      Return a copy of the string converted to lowercase.\n",
            " |  \n",
            " |  lstrip(self, chars=None, /)\n",
            " |      Return a copy of the string with leading whitespace removed.\n",
            " |      \n",
            " |      If chars is given and not None, remove characters in chars instead.\n",
            " |  \n",
            " |  partition(self, sep, /)\n",
            " |      Partition the string into three parts using the given separator.\n",
            " |      \n",
            " |      This will search for the separator in the string.  If the separator is found,\n",
            " |      returns a 3-tuple containing the part before the separator, the separator\n",
            " |      itself, and the part after it.\n",
            " |      \n",
            " |      If the separator is not found, returns a 3-tuple containing the original string\n",
            " |      and two empty strings.\n",
            " |  \n",
            " |  removeprefix(self, prefix, /)\n",
            " |      Return a str with the given prefix string removed if present.\n",
            " |      \n",
            " |      If the string starts with the prefix string, return string[len(prefix):].\n",
            " |      Otherwise, return a copy of the original string.\n",
            " |  \n",
            " |  removesuffix(self, suffix, /)\n",
            " |      Return a str with the given suffix string removed if present.\n",
            " |      \n",
            " |      If the string ends with the suffix string and that suffix is not empty,\n",
            " |      return string[:-len(suffix)]. Otherwise, return a copy of the original\n",
            " |      string.\n",
            " |  \n",
            " |  replace(self, old, new, count=-1, /)\n",
            " |      Return a copy with all occurrences of substring old replaced by new.\n",
            " |      \n",
            " |        count\n",
            " |          Maximum number of occurrences to replace.\n",
            " |          -1 (the default value) means replace all occurrences.\n",
            " |      \n",
            " |      If the optional argument count is given, only the first count occurrences are\n",
            " |      replaced.\n",
            " |  \n",
            " |  rfind(...)\n",
            " |      S.rfind(sub[, start[, end]]) -> int\n",
            " |      \n",
            " |      Return the highest index in S where substring sub is found,\n",
            " |      such that sub is contained within S[start:end].  Optional\n",
            " |      arguments start and end are interpreted as in slice notation.\n",
            " |      \n",
            " |      Return -1 on failure.\n",
            " |  \n",
            " |  rindex(...)\n",
            " |      S.rindex(sub[, start[, end]]) -> int\n",
            " |      \n",
            " |      Return the highest index in S where substring sub is found,\n",
            " |      such that sub is contained within S[start:end].  Optional\n",
            " |      arguments start and end are interpreted as in slice notation.\n",
            " |      \n",
            " |      Raises ValueError when the substring is not found.\n",
            " |  \n",
            " |  rjust(self, width, fillchar=' ', /)\n",
            " |      Return a right-justified string of length width.\n",
            " |      \n",
            " |      Padding is done using the specified fill character (default is a space).\n",
            " |  \n",
            " |  rpartition(self, sep, /)\n",
            " |      Partition the string into three parts using the given separator.\n",
            " |      \n",
            " |      This will search for the separator in the string, starting at the end. If\n",
            " |      the separator is found, returns a 3-tuple containing the part before the\n",
            " |      separator, the separator itself, and the part after it.\n",
            " |      \n",
            " |      If the separator is not found, returns a 3-tuple containing two empty strings\n",
            " |      and the original string.\n",
            " |  \n",
            " |  rsplit(self, /, sep=None, maxsplit=-1)\n",
            " |      Return a list of the words in the string, using sep as the delimiter string.\n",
            " |      \n",
            " |        sep\n",
            " |          The delimiter according which to split the string.\n",
            " |          None (the default value) means split according to any whitespace,\n",
            " |          and discard empty strings from the result.\n",
            " |        maxsplit\n",
            " |          Maximum number of splits to do.\n",
            " |          -1 (the default value) means no limit.\n",
            " |      \n",
            " |      Splits are done starting at the end of the string and working to the front.\n",
            " |  \n",
            " |  rstrip(self, chars=None, /)\n",
            " |      Return a copy of the string with trailing whitespace removed.\n",
            " |      \n",
            " |      If chars is given and not None, remove characters in chars instead.\n",
            " |  \n",
            " |  split(self, /, sep=None, maxsplit=-1)\n",
            " |      Return a list of the words in the string, using sep as the delimiter string.\n",
            " |      \n",
            " |      sep\n",
            " |        The delimiter according which to split the string.\n",
            " |        None (the default value) means split according to any whitespace,\n",
            " |        and discard empty strings from the result.\n",
            " |      maxsplit\n",
            " |        Maximum number of splits to do.\n",
            " |        -1 (the default value) means no limit.\n",
            " |  \n",
            " |  splitlines(self, /, keepends=False)\n",
            " |      Return a list of the lines in the string, breaking at line boundaries.\n",
            " |      \n",
            " |      Line breaks are not included in the resulting list unless keepends is given and\n",
            " |      true.\n",
            " |  \n",
            " |  startswith(...)\n",
            " |      S.startswith(prefix[, start[, end]]) -> bool\n",
            " |      \n",
            " |      Return True if S starts with the specified prefix, False otherwise.\n",
            " |      With optional start, test S beginning at that position.\n",
            " |      With optional end, stop comparing S at that position.\n",
            " |      prefix can also be a tuple of strings to try.\n",
            " |  \n",
            " |  strip(self, chars=None, /)\n",
            " |      Return a copy of the string with leading and trailing whitespace removed.\n",
            " |      \n",
            " |      If chars is given and not None, remove characters in chars instead.\n",
            " |  \n",
            " |  swapcase(self, /)\n",
            " |      Convert uppercase characters to lowercase and lowercase characters to uppercase.\n",
            " |  \n",
            " |  title(self, /)\n",
            " |      Return a version of the string where each word is titlecased.\n",
            " |      \n",
            " |      More specifically, words start with uppercased characters and all remaining\n",
            " |      cased characters have lower case.\n",
            " |  \n",
            " |  translate(self, table, /)\n",
            " |      Replace each character in the string using the given translation table.\n",
            " |      \n",
            " |        table\n",
            " |          Translation table, which must be a mapping of Unicode ordinals to\n",
            " |          Unicode ordinals, strings, or None.\n",
            " |      \n",
            " |      The table must implement lookup/indexing via __getitem__, for instance a\n",
            " |      dictionary or list.  If this operation raises LookupError, the character is\n",
            " |      left untouched.  Characters mapped to None are deleted.\n",
            " |  \n",
            " |  upper(self, /)\n",
            " |      Return a copy of the string converted to uppercase.\n",
            " |  \n",
            " |  zfill(self, width, /)\n",
            " |      Pad a numeric string with zeros on the left, to fill a field of the given width.\n",
            " |      \n",
            " |      The string is never truncated.\n",
            " |  \n",
            " |  ----------------------------------------------------------------------\n",
            " |  Static methods defined here:\n",
            " |  \n",
            " |  __new__(*args, **kwargs) from builtins.type\n",
            " |      Create and return a new object.  See help(type) for accurate signature.\n",
            " |  \n",
            " |  maketrans(...)\n",
            " |      Return a translation table usable for str.translate().\n",
            " |      \n",
            " |      If there is only one argument, it must be a dictionary mapping Unicode\n",
            " |      ordinals (integers) or characters to Unicode ordinals, strings or None.\n",
            " |      Character keys will be then converted to ordinals.\n",
            " |      If there are two arguments, they must be strings of equal length, and\n",
            " |      in the resulting dictionary, each character in x will be mapped to the\n",
            " |      character at the same position in y. If there is a third argument, it\n",
            " |      must be a string, whose characters will be mapped to None in the result.\n",
            "\n"
          ]
        }
      ],
      "source": [
        "help(str)"
      ]
    },
    {
      "cell_type": "markdown",
      "source": [
        "####Striping / Space deletion"
      ],
      "metadata": {
        "id": "B0xuiR73H_Zj"
      },
      "id": "B0xuiR73H_Zj"
    },
    {
      "cell_type": "code",
      "execution_count": null,
      "id": "d279a081",
      "metadata": {
        "id": "d279a081",
        "outputId": "63cfb870-56e0-413c-b052-9f7c9efd23bd"
      },
      "outputs": [
        {
          "data": {
            "text/plain": [
              "'     Python     '"
            ]
          },
          "execution_count": 55,
          "metadata": {},
          "output_type": "execute_result"
        }
      ],
      "source": [
        "s1"
      ]
    },
    {
      "cell_type": "code",
      "execution_count": null,
      "id": "cf8ca61d",
      "metadata": {
        "id": "cf8ca61d",
        "outputId": "31843175-823f-4c71-bd05-1f36d291c9ad"
      },
      "outputs": [
        {
          "data": {
            "text/plain": [
              "'Python'"
            ]
          },
          "execution_count": 56,
          "metadata": {},
          "output_type": "execute_result"
        }
      ],
      "source": [
        "s1.strip()"
      ]
    },
    {
      "cell_type": "code",
      "execution_count": null,
      "id": "59a3ce9a",
      "metadata": {
        "id": "59a3ce9a",
        "outputId": "244ace88-bcbc-4c53-80b1-c272527e6e65"
      },
      "outputs": [
        {
          "data": {
            "text/plain": [
              "'     Python     '"
            ]
          },
          "execution_count": 57,
          "metadata": {},
          "output_type": "execute_result"
        }
      ],
      "source": [
        "s1"
      ]
    },
    {
      "cell_type": "code",
      "execution_count": null,
      "id": "e3d288c3",
      "metadata": {
        "id": "e3d288c3"
      },
      "outputs": [],
      "source": [
        "s1 = s1.strip()"
      ]
    },
    {
      "cell_type": "code",
      "execution_count": null,
      "id": "6fd2a17e",
      "metadata": {
        "id": "6fd2a17e",
        "outputId": "2cfb9141-076c-4632-bed3-207996f0714f"
      },
      "outputs": [
        {
          "data": {
            "text/plain": [
              "'Python'"
            ]
          },
          "execution_count": 59,
          "metadata": {},
          "output_type": "execute_result"
        }
      ],
      "source": [
        "s1"
      ]
    },
    {
      "cell_type": "code",
      "execution_count": null,
      "id": "19035ba1",
      "metadata": {
        "id": "19035ba1",
        "outputId": "c939019f-1a42-4b10-8e6e-318488456478"
      },
      "outputs": [
        {
          "data": {
            "text/plain": [
              "'    Python              '"
            ]
          },
          "execution_count": 60,
          "metadata": {},
          "output_type": "execute_result"
        }
      ],
      "source": [
        "s2"
      ]
    },
    {
      "cell_type": "code",
      "execution_count": null,
      "id": "cd5118ee",
      "metadata": {
        "id": "cd5118ee",
        "outputId": "de2f2aae-04ae-41ff-d427-184b4631774b"
      },
      "outputs": [
        {
          "data": {
            "text/plain": [
              "'Pycharm'"
            ]
          },
          "execution_count": 61,
          "metadata": {},
          "output_type": "execute_result"
        }
      ],
      "source": [
        "s3"
      ]
    },
    {
      "cell_type": "code",
      "execution_count": null,
      "id": "592720ee",
      "metadata": {
        "id": "592720ee"
      },
      "outputs": [],
      "source": [
        "s4 = \"   Welcome to Python  \""
      ]
    },
    {
      "cell_type": "code",
      "execution_count": null,
      "id": "6b5d33f5",
      "metadata": {
        "id": "6b5d33f5",
        "outputId": "0afbe3e1-1cf8-43a8-b216-1e6ae8c47f54"
      },
      "outputs": [
        {
          "data": {
            "text/plain": [
              "'Welcome to Python'"
            ]
          },
          "execution_count": 63,
          "metadata": {},
          "output_type": "execute_result"
        }
      ],
      "source": [
        "s4.strip()"
      ]
    },
    {
      "cell_type": "code",
      "execution_count": null,
      "id": "88ed51d7",
      "metadata": {
        "id": "88ed51d7",
        "outputId": "7e4b26e4-5668-40da-966b-83e40eafb507"
      },
      "outputs": [
        {
          "name": "stdout",
          "output_type": "stream",
          "text": [
            "Enter a string:      Python           \n",
            "Enter another string:    Python    \n",
            "Same\n"
          ]
        }
      ],
      "source": [
        "s1 = input(\"Enter a string: \")\n",
        "s2 = input(\"Enter another string: \")\n",
        "\n",
        "if s1.strip() == s2.strip():\n",
        "    print(\"Same\")\n",
        "else:\n",
        "    print(\"Different\")"
      ]
    },
    {
      "cell_type": "code",
      "execution_count": null,
      "id": "a42e7a6f",
      "metadata": {
        "id": "a42e7a6f",
        "outputId": "0cca4ec4-08c2-4b48-8d04-95d2a7be2252"
      },
      "outputs": [
        {
          "data": {
            "text/plain": [
              "'     Python           '"
            ]
          },
          "execution_count": 65,
          "metadata": {},
          "output_type": "execute_result"
        }
      ],
      "source": [
        "s1"
      ]
    },
    {
      "cell_type": "code",
      "execution_count": null,
      "id": "4e5af32d",
      "metadata": {
        "id": "4e5af32d",
        "outputId": "7fdb60fc-264b-4e58-b6e2-99b8e398b157"
      },
      "outputs": [
        {
          "data": {
            "text/plain": [
              "'   Python    '"
            ]
          },
          "execution_count": 66,
          "metadata": {},
          "output_type": "execute_result"
        }
      ],
      "source": [
        "s2"
      ]
    },
    {
      "cell_type": "code",
      "execution_count": null,
      "id": "98935ff6",
      "metadata": {
        "id": "98935ff6",
        "outputId": "8ba66a60-c30d-4209-f4cb-2b13db95950c"
      },
      "outputs": [
        {
          "data": {
            "text/plain": [
              "'Python           '"
            ]
          },
          "execution_count": 67,
          "metadata": {},
          "output_type": "execute_result"
        }
      ],
      "source": [
        "s1.lstrip()"
      ]
    },
    {
      "cell_type": "code",
      "execution_count": null,
      "id": "9668b0d1",
      "metadata": {
        "id": "9668b0d1",
        "outputId": "577800f4-3748-4f80-8a6e-a79e14208fe6"
      },
      "outputs": [
        {
          "data": {
            "text/plain": [
              "'     Python'"
            ]
          },
          "execution_count": 68,
          "metadata": {},
          "output_type": "execute_result"
        }
      ],
      "source": [
        "s1.rstrip()"
      ]
    },
    {
      "cell_type": "markdown",
      "source": [
        "#### index()"
      ],
      "metadata": {
        "id": "N3RTTO75ILh5"
      },
      "id": "N3RTTO75ILh5"
    },
    {
      "cell_type": "code",
      "execution_count": null,
      "id": "8081dedb",
      "metadata": {
        "id": "8081dedb",
        "outputId": "44ff6e05-e75f-4971-afa7-e5041253bb3b"
      },
      "outputs": [
        {
          "name": "stdout",
          "output_type": "stream",
          "text": [
            "Help on built-in function index:\n",
            "\n",
            "index(...) method of builtins.str instance\n",
            "    S.index(sub[, start[, end]]) -> int\n",
            "    \n",
            "    Return the lowest index in S where substring sub is found,\n",
            "    such that sub is contained within S[start:end].  Optional\n",
            "    arguments start and end are interpreted as in slice notation.\n",
            "    \n",
            "    Raises ValueError when the substring is not found.\n",
            "\n"
          ]
        }
      ],
      "source": [
        "help(s1.index)"
      ]
    },
    {
      "cell_type": "code",
      "execution_count": null,
      "id": "b40d03d9",
      "metadata": {
        "id": "b40d03d9",
        "outputId": "bac48bdd-f10a-4d8b-a567-e25148e3a796"
      },
      "outputs": [
        {
          "data": {
            "text/plain": [
              "'   Welcome to Python  '"
            ]
          },
          "execution_count": 71,
          "metadata": {},
          "output_type": "execute_result"
        }
      ],
      "source": [
        "s4"
      ]
    },
    {
      "cell_type": "code",
      "execution_count": null,
      "id": "f9ee60b4",
      "metadata": {
        "id": "f9ee60b4"
      },
      "outputs": [],
      "source": [
        "s5 = \"We are learning Python\""
      ]
    },
    {
      "cell_type": "code",
      "execution_count": null,
      "id": "7e473aed",
      "metadata": {
        "id": "7e473aed",
        "outputId": "ecd4b1b3-f8d7-4a05-c7af-38482b4e6f0a"
      },
      "outputs": [
        {
          "data": {
            "text/plain": [
              "'We are learning Python'"
            ]
          },
          "execution_count": 73,
          "metadata": {},
          "output_type": "execute_result"
        }
      ],
      "source": [
        "s5"
      ]
    },
    {
      "cell_type": "code",
      "execution_count": null,
      "id": "ac176646",
      "metadata": {
        "id": "ac176646",
        "outputId": "9cf865f7-cc7b-4bf0-afb2-b54aecb3ea45"
      },
      "outputs": [
        {
          "data": {
            "text/plain": [
              "3"
            ]
          },
          "execution_count": 74,
          "metadata": {},
          "output_type": "execute_result"
        }
      ],
      "source": [
        "s5.index('a')"
      ]
    },
    {
      "cell_type": "code",
      "execution_count": null,
      "id": "4983c0a5",
      "metadata": {
        "id": "4983c0a5",
        "outputId": "97cb795d-1179-4f96-9e3c-1ef4770e3e01"
      },
      "outputs": [
        {
          "data": {
            "text/plain": [
              "1"
            ]
          },
          "execution_count": 75,
          "metadata": {},
          "output_type": "execute_result"
        }
      ],
      "source": [
        "s5.index('e')"
      ]
    },
    {
      "cell_type": "code",
      "execution_count": null,
      "id": "0aecb9b1",
      "metadata": {
        "id": "0aecb9b1",
        "outputId": "8fbdc6cc-e60c-4db4-c3c6-2a4def995813"
      },
      "outputs": [
        {
          "data": {
            "text/plain": [
              "'We are learning Python'"
            ]
          },
          "execution_count": 76,
          "metadata": {},
          "output_type": "execute_result"
        }
      ],
      "source": [
        "s5"
      ]
    },
    {
      "cell_type": "code",
      "execution_count": null,
      "id": "4765b748",
      "metadata": {
        "id": "4765b748",
        "outputId": "ec9f66df-f6df-4a50-be6e-b6bd2017d5f4"
      },
      "outputs": [
        {
          "data": {
            "text/plain": [
              "7"
            ]
          },
          "execution_count": 77,
          "metadata": {},
          "output_type": "execute_result"
        }
      ],
      "source": [
        "s5.index('learn')  # Will show the 1st character index"
      ]
    },
    {
      "cell_type": "code",
      "execution_count": null,
      "id": "9345c449",
      "metadata": {
        "id": "9345c449",
        "outputId": "2d6faf71-f236-408d-e955-74168ae8fc5a"
      },
      "outputs": [
        {
          "data": {
            "text/plain": [
              "16"
            ]
          },
          "execution_count": 78,
          "metadata": {},
          "output_type": "execute_result"
        }
      ],
      "source": [
        "s5.index('Python')"
      ]
    },
    {
      "cell_type": "code",
      "execution_count": null,
      "id": "aa889335",
      "metadata": {
        "id": "aa889335",
        "outputId": "a5a816aa-65de-4121-ce05-8caa009343de"
      },
      "outputs": [
        {
          "data": {
            "text/plain": [
              "16"
            ]
          },
          "execution_count": 79,
          "metadata": {},
          "output_type": "execute_result"
        }
      ],
      "source": [
        "s5.index('Py')"
      ]
    },
    {
      "cell_type": "code",
      "execution_count": null,
      "id": "4c9f5a3b",
      "metadata": {
        "id": "4c9f5a3b",
        "outputId": "259c4c16-d94d-456e-e39f-b3aaebf8c909"
      },
      "outputs": [
        {
          "data": {
            "text/plain": [
              "'We are learning Python'"
            ]
          },
          "execution_count": 80,
          "metadata": {},
          "output_type": "execute_result"
        }
      ],
      "source": [
        "s5"
      ]
    },
    {
      "cell_type": "code",
      "execution_count": null,
      "id": "c241fb78",
      "metadata": {
        "id": "c241fb78",
        "outputId": "61a0fd61-6a46-4b29-c2f3-d43406541918"
      },
      "outputs": [
        {
          "ename": "ValueError",
          "evalue": "substring not found",
          "output_type": "error",
          "traceback": [
            "\u001b[1;31m---------------------------------------------------------------------------\u001b[0m",
            "\u001b[1;31mValueError\u001b[0m                                Traceback (most recent call last)",
            "\u001b[1;32m~\\AppData\\Local\\Temp/ipykernel_12072/2816478475.py\u001b[0m in \u001b[0;36m<module>\u001b[1;34m\u001b[0m\n\u001b[1;32m----> 1\u001b[1;33m \u001b[0ms5\u001b[0m\u001b[1;33m.\u001b[0m\u001b[0mindex\u001b[0m\u001b[1;33m(\u001b[0m\u001b[1;34m'm'\u001b[0m\u001b[1;33m)\u001b[0m\u001b[1;33m\u001b[0m\u001b[1;33m\u001b[0m\u001b[0m\n\u001b[0m",
            "\u001b[1;31mValueError\u001b[0m: substring not found"
          ]
        }
      ],
      "source": [
        "s5.index('m')"
      ]
    },
    {
      "cell_type": "code",
      "execution_count": null,
      "id": "bcfcedf6",
      "metadata": {
        "id": "bcfcedf6",
        "outputId": "d22fde9e-2e15-48e3-90d4-f42dd8aeba9f"
      },
      "outputs": [
        {
          "ename": "ValueError",
          "evalue": "substring not found",
          "output_type": "error",
          "traceback": [
            "\u001b[1;31m---------------------------------------------------------------------------\u001b[0m",
            "\u001b[1;31mValueError\u001b[0m                                Traceback (most recent call last)",
            "\u001b[1;32m~\\AppData\\Local\\Temp/ipykernel_12072/3757982426.py\u001b[0m in \u001b[0;36m<module>\u001b[1;34m\u001b[0m\n\u001b[1;32m----> 1\u001b[1;33m \u001b[0ms5\u001b[0m\u001b[1;33m.\u001b[0m\u001b[0mindex\u001b[0m\u001b[1;33m(\u001b[0m\u001b[1;34m'hi'\u001b[0m\u001b[1;33m)\u001b[0m\u001b[1;33m\u001b[0m\u001b[1;33m\u001b[0m\u001b[0m\n\u001b[0m",
            "\u001b[1;31mValueError\u001b[0m: substring not found"
          ]
        }
      ],
      "source": [
        "s5.index('hi')"
      ]
    },
    {
      "cell_type": "markdown",
      "source": [
        "#### Find()   -> Will find the 1st character from left to right"
      ],
      "metadata": {
        "id": "McP1dWaSIiNS"
      },
      "id": "McP1dWaSIiNS"
    },
    {
      "cell_type": "code",
      "execution_count": null,
      "id": "a1b22926",
      "metadata": {
        "id": "a1b22926",
        "outputId": "88a6bc0e-6379-4078-a51c-d441e6d416b3"
      },
      "outputs": [
        {
          "data": {
            "text/plain": [
              "'We are learning Python'"
            ]
          },
          "execution_count": 84,
          "metadata": {},
          "output_type": "execute_result"
        }
      ],
      "source": [
        "s5"
      ]
    },
    {
      "cell_type": "code",
      "execution_count": null,
      "id": "4b2e46bc",
      "metadata": {
        "id": "4b2e46bc",
        "outputId": "a1228cf2-6b6e-4691-92aa-2d7992112d31"
      },
      "outputs": [
        {
          "data": {
            "text/plain": [
              "1"
            ]
          },
          "execution_count": 85,
          "metadata": {},
          "output_type": "execute_result"
        }
      ],
      "source": [
        "s5.find('e')"
      ]
    },
    {
      "cell_type": "code",
      "execution_count": null,
      "id": "5f4a3ae5",
      "metadata": {
        "id": "5f4a3ae5",
        "outputId": "9fdac12f-6cb2-44df-c1a6-08193a37b144"
      },
      "outputs": [
        {
          "data": {
            "text/plain": [
              "7"
            ]
          },
          "execution_count": 86,
          "metadata": {},
          "output_type": "execute_result"
        }
      ],
      "source": [
        "s5.find('learn')"
      ]
    },
    {
      "cell_type": "code",
      "execution_count": null,
      "id": "7979446b",
      "metadata": {
        "id": "7979446b",
        "outputId": "b7790e1a-0ee8-400e-b412-354a1830dd7b"
      },
      "outputs": [
        {
          "data": {
            "text/plain": [
              "7"
            ]
          },
          "execution_count": 87,
          "metadata": {},
          "output_type": "execute_result"
        }
      ],
      "source": [
        "s5.index('learn')"
      ]
    },
    {
      "cell_type": "code",
      "execution_count": null,
      "id": "cabdd5de",
      "metadata": {
        "id": "cabdd5de",
        "outputId": "15096daf-5ce4-4ff5-9e33-eb6ef7c14933"
      },
      "outputs": [
        {
          "data": {
            "text/plain": [
              "'We are learning Python'"
            ]
          },
          "execution_count": 88,
          "metadata": {},
          "output_type": "execute_result"
        }
      ],
      "source": [
        "s5"
      ]
    },
    {
      "cell_type": "code",
      "execution_count": null,
      "id": "1936465d",
      "metadata": {
        "id": "1936465d",
        "outputId": "ca7aeb94-2f4f-4480-81be-1e68ee2914c8"
      },
      "outputs": [
        {
          "data": {
            "text/plain": [
              "-1"
            ]
          },
          "execution_count": 89,
          "metadata": {},
          "output_type": "execute_result"
        }
      ],
      "source": [
        "s5.find('m')"
      ]
    },
    {
      "cell_type": "code",
      "execution_count": null,
      "id": "f1f3892e",
      "metadata": {
        "id": "f1f3892e",
        "outputId": "4b0217e2-1a9c-4801-e81a-05150032c502"
      },
      "outputs": [
        {
          "data": {
            "text/plain": [
              "-1"
            ]
          },
          "execution_count": 90,
          "metadata": {},
          "output_type": "execute_result"
        }
      ],
      "source": [
        "s5.find('hello')"
      ]
    },
    {
      "cell_type": "code",
      "execution_count": null,
      "id": "61487fad",
      "metadata": {
        "id": "61487fad",
        "outputId": "0e05ac2c-0b3d-40c0-bad4-919d9de29545"
      },
      "outputs": [
        {
          "data": {
            "text/plain": [
              "'We are learning Python'"
            ]
          },
          "execution_count": 91,
          "metadata": {},
          "output_type": "execute_result"
        }
      ],
      "source": [
        "s5"
      ]
    },
    {
      "cell_type": "code",
      "execution_count": null,
      "id": "02fec558",
      "metadata": {
        "id": "02fec558",
        "outputId": "f77398b8-4cbe-4934-ef54-8f3ccc7debec"
      },
      "outputs": [
        {
          "data": {
            "text/plain": [
              "1"
            ]
          },
          "execution_count": 92,
          "metadata": {},
          "output_type": "execute_result"
        }
      ],
      "source": [
        "s5.find('e')"
      ]
    },
    {
      "cell_type": "code",
      "execution_count": null,
      "id": "e4fe477d",
      "metadata": {
        "id": "e4fe477d",
        "outputId": "399870cc-ee78-4c03-cbd5-90b86841765f"
      },
      "outputs": [
        {
          "data": {
            "text/plain": [
              "8"
            ]
          },
          "execution_count": 93,
          "metadata": {},
          "output_type": "execute_result"
        }
      ],
      "source": [
        "s5.rfind('e')   # Fring from right side instead left"
      ]
    },
    {
      "cell_type": "code",
      "execution_count": null,
      "id": "da2e5169",
      "metadata": {
        "id": "da2e5169",
        "outputId": "afe058fa-aba6-4690-c44b-318b5961fa7e"
      },
      "outputs": [
        {
          "data": {
            "text/plain": [
              "8"
            ]
          },
          "execution_count": 94,
          "metadata": {},
          "output_type": "execute_result"
        }
      ],
      "source": [
        "s5.rindex('e')"
      ]
    },
    {
      "cell_type": "code",
      "execution_count": null,
      "id": "4995a7bf",
      "metadata": {
        "id": "4995a7bf",
        "outputId": "578e1957-6218-452e-9e86-3531a1dc2641"
      },
      "outputs": [
        {
          "name": "stdout",
          "output_type": "stream",
          "text": [
            "Help on _Helper in module _sitebuiltins object:\n",
            "\n",
            "class _Helper(builtins.object)\n",
            " |  Define the builtin 'help'.\n",
            " |  \n",
            " |  This is a wrapper around pydoc.help that provides a helpful message\n",
            " |  when 'help' is typed at the Python interactive prompt.\n",
            " |  \n",
            " |  Calling help() at the Python prompt starts an interactive help session.\n",
            " |  Calling help(thing) prints help for the python object 'thing'.\n",
            " |  \n",
            " |  Methods defined here:\n",
            " |  \n",
            " |  __call__(self, *args, **kwds)\n",
            " |      Call self as a function.\n",
            " |  \n",
            " |  __repr__(self)\n",
            " |      Return repr(self).\n",
            " |  \n",
            " |  ----------------------------------------------------------------------\n",
            " |  Data descriptors defined here:\n",
            " |  \n",
            " |  __dict__\n",
            " |      dictionary for instance variables (if defined)\n",
            " |  \n",
            " |  __weakref__\n",
            " |      list of weak references to the object (if defined)\n",
            "\n"
          ]
        }
      ],
      "source": [
        "help(help)"
      ]
    },
    {
      "cell_type": "code",
      "execution_count": null,
      "id": "e2ae6e24",
      "metadata": {
        "id": "e2ae6e24",
        "outputId": "deab35ec-6228-43eb-f392-5947e7214692"
      },
      "outputs": [
        {
          "data": {
            "text/plain": [
              "'We are learning Python'"
            ]
          },
          "execution_count": 96,
          "metadata": {},
          "output_type": "execute_result"
        }
      ],
      "source": [
        "s5"
      ]
    },
    {
      "cell_type": "code",
      "execution_count": null,
      "id": "b6f64eee",
      "metadata": {
        "id": "b6f64eee",
        "outputId": "9917394a-88d6-49d4-c59a-050a12f79049"
      },
      "outputs": [
        {
          "data": {
            "text/plain": [
              "17"
            ]
          },
          "execution_count": 97,
          "metadata": {},
          "output_type": "execute_result"
        }
      ],
      "source": [
        "s5.index('y')"
      ]
    },
    {
      "cell_type": "code",
      "execution_count": null,
      "id": "1e4612f8",
      "metadata": {
        "id": "1e4612f8",
        "outputId": "99184f20-c5f3-4ca1-cb49-2c73d3a55163"
      },
      "outputs": [
        {
          "data": {
            "text/plain": [
              "17"
            ]
          },
          "execution_count": 98,
          "metadata": {},
          "output_type": "execute_result"
        }
      ],
      "source": [
        "s5.find('y')"
      ]
    },
    {
      "cell_type": "code",
      "source": [
        "#### find all the indexes of 'e' in s5 usig loop"
      ],
      "metadata": {
        "id": "tIShrZw5JDFE"
      },
      "id": "tIShrZw5JDFE",
      "execution_count": null,
      "outputs": []
    },
    {
      "cell_type": "code",
      "execution_count": null,
      "id": "0c58ea39",
      "metadata": {
        "id": "0c58ea39",
        "outputId": "0c259e97-5aed-4a45-e393-fe85e2ebe0b1"
      },
      "outputs": [
        {
          "data": {
            "text/plain": [
              "'We are learning Python'"
            ]
          },
          "execution_count": 100,
          "metadata": {},
          "output_type": "execute_result"
        }
      ],
      "source": [
        "s5"
      ]
    },
    {
      "cell_type": "code",
      "execution_count": null,
      "id": "342f3b4b",
      "metadata": {
        "id": "342f3b4b",
        "outputId": "3b312cf1-2e8f-453d-a734-99aeadc045f4"
      },
      "outputs": [
        {
          "name": "stdout",
          "output_type": "stream",
          "text": [
            "3\n"
          ]
        }
      ],
      "source": [
        "m=0\n",
        "a = len(s5)\n",
        "for i in range(a):\n",
        "    if s5[i] == \"e\":\n",
        "        m+=1\n",
        "print(m)"
      ]
    },
    {
      "cell_type": "code",
      "execution_count": null,
      "id": "cb6a3dcb",
      "metadata": {
        "id": "cb6a3dcb",
        "outputId": "2c2016f2-bd09-40e0-8b3c-ecfae3ae4110"
      },
      "outputs": [
        {
          "data": {
            "text/plain": [
              "'We are learning Python'"
            ]
          },
          "execution_count": 106,
          "metadata": {},
          "output_type": "execute_result"
        }
      ],
      "source": [
        "s5"
      ]
    },
    {
      "cell_type": "code",
      "execution_count": null,
      "id": "bbffb6e3",
      "metadata": {
        "id": "bbffb6e3",
        "outputId": "fdda4412-3046-4ad0-9c55-7cd2a03b106f"
      },
      "outputs": [
        {
          "name": "stdout",
          "output_type": "stream",
          "text": [
            "W\n",
            "e\n",
            " \n",
            "a\n",
            "r\n",
            "e\n",
            " \n",
            "l\n",
            "e\n",
            "a\n",
            "r\n",
            "n\n",
            "i\n",
            "n\n",
            "g\n",
            " \n",
            "P\n",
            "y\n",
            "t\n",
            "h\n",
            "o\n",
            "n\n"
          ]
        }
      ],
      "source": [
        "for i in s5:\n",
        "    print(i)"
      ]
    },
    {
      "cell_type": "code",
      "execution_count": null,
      "id": "08dcce9d",
      "metadata": {
        "id": "08dcce9d",
        "outputId": "07810e05-8ea2-40f6-f3cd-a60afc75a7df"
      },
      "outputs": [
        {
          "name": "stdout",
          "output_type": "stream",
          "text": [
            "Found\n",
            "Found\n",
            "Found\n"
          ]
        }
      ],
      "source": [
        "for i in s5:\n",
        "    if i == 'e':\n",
        "        print(\"Found\")"
      ]
    },
    {
      "cell_type": "code",
      "execution_count": null,
      "id": "8c35a28f",
      "metadata": {
        "id": "8c35a28f",
        "outputId": "529b8f37-5eb3-463e-cfb1-fced86d0f082"
      },
      "outputs": [
        {
          "name": "stdout",
          "output_type": "stream",
          "text": [
            "0\n",
            "1\n",
            "2\n",
            "3\n",
            "4\n",
            "5\n",
            "6\n",
            "7\n",
            "8\n",
            "9\n",
            "10\n",
            "11\n",
            "12\n",
            "13\n",
            "14\n",
            "15\n",
            "16\n",
            "17\n",
            "18\n",
            "19\n",
            "20\n",
            "21\n"
          ]
        }
      ],
      "source": [
        "for i in range(len(s5)):\n",
        "    print(i)"
      ]
    },
    {
      "cell_type": "code",
      "execution_count": null,
      "id": "9cb12ee0",
      "metadata": {
        "id": "9cb12ee0",
        "outputId": "882fc5c9-264b-4806-a418-40674d723cde"
      },
      "outputs": [
        {
          "data": {
            "text/plain": [
              "22"
            ]
          },
          "execution_count": 110,
          "metadata": {},
          "output_type": "execute_result"
        }
      ],
      "source": [
        "len(s5)"
      ]
    },
    {
      "cell_type": "code",
      "execution_count": null,
      "id": "87c1ffe2",
      "metadata": {
        "id": "87c1ffe2",
        "outputId": "079742af-e264-46da-b323-c68e3755b3ce"
      },
      "outputs": [
        {
          "name": "stdout",
          "output_type": "stream",
          "text": [
            "1\n",
            "5\n",
            "8\n"
          ]
        }
      ],
      "source": [
        "for i in range(len(s5)):\n",
        "    if s5[i] == 'e':\n",
        "        print(i)"
      ]
    },
    {
      "cell_type": "code",
      "execution_count": null,
      "id": "9ba6f16b",
      "metadata": {
        "id": "9ba6f16b",
        "outputId": "b32008b8-dc6f-42ba-9289-9641cca62e62"
      },
      "outputs": [
        {
          "data": {
            "text/plain": [
              "'We are learning Python'"
            ]
          },
          "execution_count": 112,
          "metadata": {},
          "output_type": "execute_result"
        }
      ],
      "source": [
        "s5"
      ]
    },
    {
      "cell_type": "markdown",
      "source": [
        "#### Count  --> To count the occurances of letter 'e' as well"
      ],
      "metadata": {
        "id": "Co2bDMsWJORP"
      },
      "id": "Co2bDMsWJORP"
    },
    {
      "cell_type": "code",
      "execution_count": null,
      "id": "d58d1806",
      "metadata": {
        "id": "d58d1806",
        "outputId": "6613bf3c-f04a-417c-f3d4-958a858d18f0"
      },
      "outputs": [
        {
          "name": "stdout",
          "output_type": "stream",
          "text": [
            "1\n",
            "5\n",
            "8\n",
            "3\n"
          ]
        }
      ],
      "source": [
        "c = 0\n",
        "for i in range(len(s5)):\n",
        "    if s5[i] == 'e':\n",
        "        print(i)\n",
        "        c += 1\n",
        "\n",
        "print(c)"
      ]
    },
    {
      "cell_type": "code",
      "execution_count": null,
      "id": "08ad2340",
      "metadata": {
        "id": "08ad2340",
        "outputId": "d07db9b6-070b-4670-aff3-221294b92498"
      },
      "outputs": [
        {
          "name": "stdout",
          "output_type": "stream",
          "text": [
            "'e' is found at index 1\n",
            "'e' is found at index 5\n",
            "'e' is found at index 8\n",
            "Occurances of 'e': 3\n"
          ]
        }
      ],
      "source": [
        "c = 0\n",
        "for i in range(len(s5)):\n",
        "    if s5[i] == 'e':\n",
        "        print(f\"'e' is found at index {i}\")\n",
        "        c += 1\n",
        "\n",
        "print(f\"Occurances of 'e': {c}\")"
      ]
    },
    {
      "cell_type": "code",
      "execution_count": null,
      "id": "86505383",
      "metadata": {
        "id": "86505383",
        "outputId": "47ee4760-6957-4998-df72-a4832958135e"
      },
      "outputs": [
        {
          "data": {
            "text/plain": [
              "'We are learning Python'"
            ]
          },
          "execution_count": 116,
          "metadata": {},
          "output_type": "execute_result"
        }
      ],
      "source": [
        "s5"
      ]
    },
    {
      "cell_type": "code",
      "execution_count": null,
      "id": "4ec83610",
      "metadata": {
        "id": "4ec83610",
        "outputId": "78c89dfe-4e26-446b-bcc9-10ad7a1fdfad"
      },
      "outputs": [
        {
          "name": "stdout",
          "output_type": "stream",
          "text": [
            "e is found at index 1\n",
            "e is found at index 5\n",
            "e is found at index 8\n",
            "Occurances of 'e': 3\n"
          ]
        }
      ],
      "source": [
        "c = 0\n",
        "for i in range(len(s5)):\n",
        "    if s5[i] == 'e':\n",
        "        print(f\"e is found at index {i}\")\n",
        "        c += 1\n",
        "\n",
        "print(f\"Occurances of 'e': {c}\")"
      ]
    },
    {
      "cell_type": "code",
      "execution_count": null,
      "id": "a4f14214",
      "metadata": {
        "id": "a4f14214",
        "outputId": "c73af960-d5b9-4d7b-9edb-b49cbc0ade51"
      },
      "outputs": [
        {
          "data": {
            "text/plain": [
              "'We are learning Python'"
            ]
          },
          "execution_count": 118,
          "metadata": {},
          "output_type": "execute_result"
        }
      ],
      "source": [
        "s5"
      ]
    },
    {
      "cell_type": "code",
      "execution_count": null,
      "id": "fa1bd475",
      "metadata": {
        "id": "fa1bd475",
        "outputId": "c7ef632e-2647-47c9-e5aa-258d5ee00c7e"
      },
      "outputs": [
        {
          "data": {
            "text/plain": [
              "3"
            ]
          },
          "execution_count": 119,
          "metadata": {},
          "output_type": "execute_result"
        }
      ],
      "source": [
        "s5.count('e')"
      ]
    },
    {
      "cell_type": "code",
      "execution_count": null,
      "id": "54d39a1d",
      "metadata": {
        "id": "54d39a1d",
        "outputId": "a3f74f95-35b0-4560-ecab-7d5fe3934492"
      },
      "outputs": [
        {
          "data": {
            "text/plain": [
              "2"
            ]
          },
          "execution_count": 120,
          "metadata": {},
          "output_type": "execute_result"
        }
      ],
      "source": [
        "s5.count('a')"
      ]
    },
    {
      "cell_type": "code",
      "execution_count": null,
      "id": "557abf52",
      "metadata": {
        "id": "557abf52",
        "outputId": "75107311-fdc1-47fa-a55d-2a29a2b8bc68"
      },
      "outputs": [
        {
          "data": {
            "text/plain": [
              "0"
            ]
          },
          "execution_count": 121,
          "metadata": {},
          "output_type": "execute_result"
        }
      ],
      "source": [
        "s5.count('m')"
      ]
    },
    {
      "cell_type": "code",
      "execution_count": null,
      "id": "d6110820",
      "metadata": {
        "id": "d6110820",
        "outputId": "578e08b2-78a1-4a9d-e3c8-caf2d25c4c73"
      },
      "outputs": [
        {
          "data": {
            "text/plain": [
              "'We are learning Python'"
            ]
          },
          "execution_count": 122,
          "metadata": {},
          "output_type": "execute_result"
        }
      ],
      "source": [
        "s5"
      ]
    },
    {
      "cell_type": "code",
      "execution_count": null,
      "id": "aa925c05",
      "metadata": {
        "id": "aa925c05",
        "outputId": "51c20f61-3c23-4a7c-ecd2-7f48fa634c62"
      },
      "outputs": [
        {
          "data": {
            "text/plain": [
              "1"
            ]
          },
          "execution_count": 123,
          "metadata": {},
          "output_type": "execute_result"
        }
      ],
      "source": [
        "s5.count(\"Python\")"
      ]
    },
    {
      "cell_type": "code",
      "execution_count": null,
      "id": "a308d5ce",
      "metadata": {
        "id": "a308d5ce",
        "outputId": "ba253040-31c4-4c69-c67b-49d646f06d57"
      },
      "outputs": [
        {
          "data": {
            "text/plain": [
              "2"
            ]
          },
          "execution_count": 124,
          "metadata": {},
          "output_type": "execute_result"
        }
      ],
      "source": [
        "s5.count(\"ar\")"
      ]
    },
    {
      "cell_type": "code",
      "execution_count": null,
      "id": "8a360bcc",
      "metadata": {
        "id": "8a360bcc",
        "outputId": "6fc33e22-63cc-4ea9-a99c-c605b24df9aa"
      },
      "outputs": [
        {
          "data": {
            "text/plain": [
              "'We are learning Python'"
            ]
          },
          "execution_count": 125,
          "metadata": {},
          "output_type": "execute_result"
        }
      ],
      "source": [
        "s5"
      ]
    },
    {
      "cell_type": "code",
      "execution_count": null,
      "id": "2b308e77",
      "metadata": {
        "id": "2b308e77",
        "outputId": "9ef78282-ce5c-4644-fda8-c6729d4ffdb5"
      },
      "outputs": [
        {
          "ename": "TypeError",
          "evalue": "'str' object does not support item assignment",
          "output_type": "error",
          "traceback": [
            "\u001b[1;31m---------------------------------------------------------------------------\u001b[0m",
            "\u001b[1;31mTypeError\u001b[0m                                 Traceback (most recent call last)",
            "\u001b[1;32m~\\AppData\\Local\\Temp/ipykernel_12072/3799617910.py\u001b[0m in \u001b[0;36m<module>\u001b[1;34m\u001b[0m\n\u001b[1;32m----> 1\u001b[1;33m \u001b[0ms5\u001b[0m\u001b[1;33m[\u001b[0m\u001b[1;36m0\u001b[0m\u001b[1;33m]\u001b[0m \u001b[1;33m=\u001b[0m \u001b[1;34m'w'\u001b[0m\u001b[1;33m\u001b[0m\u001b[1;33m\u001b[0m\u001b[0m\n\u001b[0m",
            "\u001b[1;31mTypeError\u001b[0m: 'str' object does not support item assignment"
          ]
        }
      ],
      "source": [
        "s5[0] = 'w'"
      ]
    },
    {
      "cell_type": "code",
      "execution_count": null,
      "id": "cd7a06e1",
      "metadata": {
        "id": "cd7a06e1",
        "outputId": "c98fc9eb-a6bf-4e0b-8543-f707d31d1236"
      },
      "outputs": [
        {
          "data": {
            "text/plain": [
              "'We are learning Python'"
            ]
          },
          "execution_count": 127,
          "metadata": {},
          "output_type": "execute_result"
        }
      ],
      "source": [
        "s5"
      ]
    },
    {
      "cell_type": "markdown",
      "source": [
        "#### Replace   It will not replace the original file just cereates a copy"
      ],
      "metadata": {
        "id": "KyhHZc1_Jetp"
      },
      "id": "KyhHZc1_Jetp"
    },
    {
      "cell_type": "code",
      "execution_count": null,
      "id": "e0b7bf52",
      "metadata": {
        "id": "e0b7bf52",
        "outputId": "c8eb90eb-e1a4-4fbe-b94a-f21895185d0e"
      },
      "outputs": [
        {
          "data": {
            "text/plain": [
              "'We are learning Java'"
            ]
          },
          "execution_count": 129,
          "metadata": {},
          "output_type": "execute_result"
        }
      ],
      "source": [
        "s5.replace('Python', 'Java')"
      ]
    },
    {
      "cell_type": "code",
      "execution_count": null,
      "id": "149cdf67",
      "metadata": {
        "id": "149cdf67",
        "outputId": "d64ece31-f7e0-41b9-c073-ae321a8a6650"
      },
      "outputs": [
        {
          "data": {
            "text/plain": [
              "'We are learning Python'"
            ]
          },
          "execution_count": 130,
          "metadata": {},
          "output_type": "execute_result"
        }
      ],
      "source": [
        "s5"
      ]
    },
    {
      "cell_type": "code",
      "execution_count": null,
      "id": "3c18fdf3",
      "metadata": {
        "id": "3c18fdf3",
        "outputId": "1edf41c0-1f47-411f-98df-8ef78b0c1618"
      },
      "outputs": [
        {
          "name": "stdout",
          "output_type": "stream",
          "text": [
            "Help on built-in function replace:\n",
            "\n",
            "replace(old, new, count=-1, /) method of builtins.str instance\n",
            "    Return a copy with all occurrences of substring old replaced by new.\n",
            "    \n",
            "      count\n",
            "        Maximum number of occurrences to replace.\n",
            "        -1 (the default value) means replace all occurrences.\n",
            "    \n",
            "    If the optional argument count is given, only the first count occurrences are\n",
            "    replaced.\n",
            "\n"
          ]
        }
      ],
      "source": [
        "help(s5.replace)"
      ]
    },
    {
      "cell_type": "code",
      "execution_count": null,
      "id": "e5448d12",
      "metadata": {
        "id": "e5448d12",
        "outputId": "2a27937f-0c5c-4540-8448-ccfbc8c0ffea"
      },
      "outputs": [
        {
          "data": {
            "text/plain": [
              "'We are learning Python'"
            ]
          },
          "execution_count": 132,
          "metadata": {},
          "output_type": "execute_result"
        }
      ],
      "source": [
        "s5"
      ]
    },
    {
      "cell_type": "code",
      "execution_count": null,
      "id": "efceae7f",
      "metadata": {
        "id": "efceae7f"
      },
      "outputs": [],
      "source": [
        "s6 = s5.replace('Python', 'Java')"
      ]
    },
    {
      "cell_type": "code",
      "execution_count": null,
      "id": "75358233",
      "metadata": {
        "id": "75358233",
        "outputId": "d11dbee0-6e96-4f74-84a6-0f9ac872957a"
      },
      "outputs": [
        {
          "data": {
            "text/plain": [
              "'We are learning Java'"
            ]
          },
          "execution_count": 134,
          "metadata": {},
          "output_type": "execute_result"
        }
      ],
      "source": [
        "s6"
      ]
    },
    {
      "cell_type": "code",
      "execution_count": null,
      "id": "2dfabe86",
      "metadata": {
        "id": "2dfabe86",
        "outputId": "30fa2daf-04d1-4180-b1b5-4e39b8de3f2d"
      },
      "outputs": [
        {
          "data": {
            "text/plain": [
              "'We are learning Python'"
            ]
          },
          "execution_count": 135,
          "metadata": {},
          "output_type": "execute_result"
        }
      ],
      "source": [
        "s5"
      ]
    },
    {
      "cell_type": "code",
      "execution_count": null,
      "id": "475046a3",
      "metadata": {
        "id": "475046a3",
        "outputId": "052b06a2-ddd1-4dd9-9447-29efd35152ea"
      },
      "outputs": [
        {
          "data": {
            "text/plain": [
              "'We are learning Python'"
            ]
          },
          "execution_count": 136,
          "metadata": {},
          "output_type": "execute_result"
        }
      ],
      "source": [
        "s5"
      ]
    },
    {
      "cell_type": "code",
      "execution_count": null,
      "id": "7136f32a",
      "metadata": {
        "id": "7136f32a",
        "outputId": "a27a1d8b-b57a-415b-a8d4-70657aac266b"
      },
      "outputs": [
        {
          "data": {
            "text/plain": [
              "'WZ arZ lZarning Python'"
            ]
          },
          "execution_count": 137,
          "metadata": {},
          "output_type": "execute_result"
        }
      ],
      "source": [
        "s5.replace('e', 'Z')"
      ]
    },
    {
      "cell_type": "code",
      "execution_count": null,
      "id": "74e3f6e6",
      "metadata": {
        "id": "74e3f6e6",
        "outputId": "0f43010a-d771-4f47-a088-7cb5b9024c42"
      },
      "outputs": [
        {
          "data": {
            "text/plain": [
              "'WZ are learning Python'"
            ]
          },
          "execution_count": 139,
          "metadata": {},
          "output_type": "execute_result"
        }
      ],
      "source": [
        "s5.replace('e', 'Z', 1)"
      ]
    },
    {
      "cell_type": "code",
      "execution_count": null,
      "id": "e12ca016",
      "metadata": {
        "id": "e12ca016",
        "outputId": "d9e34c6c-99fa-489e-e534-dc0f9e98d073"
      },
      "outputs": [
        {
          "data": {
            "text/plain": [
              "'WZ arZ learning Python'"
            ]
          },
          "execution_count": 140,
          "metadata": {},
          "output_type": "execute_result"
        }
      ],
      "source": [
        "s5.replace('e', 'Z', 2)"
      ]
    },
    {
      "cell_type": "code",
      "execution_count": null,
      "id": "b0c5d998",
      "metadata": {
        "id": "b0c5d998",
        "outputId": "2cc9043b-323f-4d08-ada1-db52a0872d01"
      },
      "outputs": [
        {
          "data": {
            "text/plain": [
              "'We are learning Python'"
            ]
          },
          "execution_count": 141,
          "metadata": {},
          "output_type": "execute_result"
        }
      ],
      "source": [
        "s5"
      ]
    },
    {
      "cell_type": "code",
      "execution_count": null,
      "id": "3c5bc198",
      "metadata": {
        "id": "3c5bc198",
        "outputId": "52895912-5e86-4330-d775-386efcacf08d"
      },
      "outputs": [
        {
          "data": {
            "text/plain": [
              "'We are learning Python'"
            ]
          },
          "execution_count": 142,
          "metadata": {},
          "output_type": "execute_result"
        }
      ],
      "source": [
        "s5.replace('Z', 'a')"
      ]
    },
    {
      "cell_type": "markdown",
      "source": [
        "#### split"
      ],
      "metadata": {
        "id": "aQRXqSh5JwqB"
      },
      "id": "aQRXqSh5JwqB"
    },
    {
      "cell_type": "code",
      "execution_count": null,
      "id": "8393894b",
      "metadata": {
        "id": "8393894b",
        "outputId": "1b7b7703-d6e2-4ffe-ea6d-9f573a7b47ee"
      },
      "outputs": [
        {
          "data": {
            "text/plain": [
              "'We are learning Python'"
            ]
          },
          "execution_count": 144,
          "metadata": {},
          "output_type": "execute_result"
        }
      ],
      "source": [
        "s5"
      ]
    },
    {
      "cell_type": "code",
      "execution_count": null,
      "id": "b2d336ca",
      "metadata": {
        "id": "b2d336ca",
        "outputId": "d603160f-20e1-4b18-f87a-1f9da95937e3"
      },
      "outputs": [
        {
          "data": {
            "text/plain": [
              "['We', 'are', 'learning', 'Python']"
            ]
          },
          "execution_count": 145,
          "metadata": {},
          "output_type": "execute_result"
        }
      ],
      "source": [
        "s5.split()"
      ]
    },
    {
      "cell_type": "code",
      "execution_count": null,
      "id": "3c4852d3",
      "metadata": {
        "id": "3c4852d3",
        "outputId": "02a01a83-dd39-4697-e694-96fb246bc283"
      },
      "outputs": [
        {
          "name": "stdout",
          "output_type": "stream",
          "text": [
            "Help on built-in function split:\n",
            "\n",
            "split(sep=None, maxsplit=-1) method of builtins.str instance\n",
            "    Return a list of the words in the string, using sep as the delimiter string.\n",
            "    \n",
            "    sep\n",
            "      The delimiter according which to split the string.\n",
            "      None (the default value) means split according to any whitespace,\n",
            "      and discard empty strings from the result.\n",
            "    maxsplit\n",
            "      Maximum number of splits to do.\n",
            "      -1 (the default value) means no limit.\n",
            "\n"
          ]
        }
      ],
      "source": [
        "help(s5.split)"
      ]
    },
    {
      "cell_type": "code",
      "execution_count": null,
      "id": "02f6890b",
      "metadata": {
        "id": "02f6890b",
        "outputId": "387aaa93-e5b8-4af5-ba7e-94d32f460b7b"
      },
      "outputs": [
        {
          "data": {
            "text/plain": [
              "'We are learning Python'"
            ]
          },
          "execution_count": 147,
          "metadata": {},
          "output_type": "execute_result"
        }
      ],
      "source": [
        "s5"
      ]
    },
    {
      "cell_type": "code",
      "execution_count": null,
      "id": "1210a647",
      "metadata": {
        "id": "1210a647",
        "outputId": "1b1f083f-5d7b-4608-c056-88f6d5c5f17b"
      },
      "outputs": [
        {
          "data": {
            "text/plain": [
              "['We ', 're le', 'rning Python']"
            ]
          },
          "execution_count": 148,
          "metadata": {},
          "output_type": "execute_result"
        }
      ],
      "source": [
        "s5.split(sep='a')  # split where we have a"
      ]
    },
    {
      "cell_type": "code",
      "execution_count": null,
      "id": "8de32057",
      "metadata": {
        "id": "8de32057",
        "outputId": "b7117660-2cdd-4073-e9b4-96bc186d4e6c"
      },
      "outputs": [
        {
          "data": {
            "text/plain": [
              "'We are learning Python'"
            ]
          },
          "execution_count": 149,
          "metadata": {},
          "output_type": "execute_result"
        }
      ],
      "source": [
        "s5"
      ]
    },
    {
      "cell_type": "code",
      "execution_count": null,
      "id": "8c15fad7",
      "metadata": {
        "id": "8c15fad7",
        "outputId": "22e01c86-8959-47d1-9293-68a163feffd9"
      },
      "outputs": [
        {
          "data": {
            "text/plain": [
              "['W', ' ar', ' l', 'arning Python']"
            ]
          },
          "execution_count": 150,
          "metadata": {},
          "output_type": "execute_result"
        }
      ],
      "source": [
        "s5.split('e')"
      ]
    },
    {
      "cell_type": "code",
      "execution_count": null,
      "id": "ed8dd620",
      "metadata": {
        "id": "ed8dd620",
        "outputId": "c6469ab3-92fd-4418-eb6c-7955f3338b36"
      },
      "outputs": [
        {
          "name": "stdout",
          "output_type": "stream",
          "text": [
            "Help on built-in function split:\n",
            "\n",
            "split(sep=None, maxsplit=-1) method of builtins.str instance\n",
            "    Return a list of the words in the string, using sep as the delimiter string.\n",
            "    \n",
            "    sep\n",
            "      The delimiter according which to split the string.\n",
            "      None (the default value) means split according to any whitespace,\n",
            "      and discard empty strings from the result.\n",
            "    maxsplit\n",
            "      Maximum number of splits to do.\n",
            "      -1 (the default value) means no limit.\n",
            "\n"
          ]
        }
      ],
      "source": [
        "help(s5.split)"
      ]
    },
    {
      "cell_type": "code",
      "execution_count": null,
      "id": "f73a74e1",
      "metadata": {
        "id": "f73a74e1",
        "outputId": "d41b0c5d-9932-46f1-9953-505b277cfe3f"
      },
      "outputs": [
        {
          "name": "stdout",
          "output_type": "stream",
          "text": [
            "Help on built-in function replace:\n",
            "\n",
            "replace(old, new, count=-1, /) method of builtins.str instance\n",
            "    Return a copy with all occurrences of substring old replaced by new.\n",
            "    \n",
            "      count\n",
            "        Maximum number of occurrences to replace.\n",
            "        -1 (the default value) means replace all occurrences.\n",
            "    \n",
            "    If the optional argument count is given, only the first count occurrences are\n",
            "    replaced.\n",
            "\n"
          ]
        }
      ],
      "source": [
        "help(s5.replace)"
      ]
    },
    {
      "cell_type": "code",
      "execution_count": null,
      "id": "9fba9d55",
      "metadata": {
        "id": "9fba9d55",
        "outputId": "6d763810-37f5-4e95-bcbf-0813703f0316"
      },
      "outputs": [
        {
          "data": {
            "text/plain": [
              "'We are learning Python'"
            ]
          },
          "execution_count": 153,
          "metadata": {},
          "output_type": "execute_result"
        }
      ],
      "source": [
        "s5"
      ]
    },
    {
      "cell_type": "code",
      "execution_count": null,
      "id": "02421dd3",
      "metadata": {
        "id": "02421dd3",
        "outputId": "0786c8ef-6a73-4df1-ce5e-33a5e002c2c7"
      },
      "outputs": [
        {
          "data": {
            "text/plain": [
              "['We are lear', 'i', 'g Pytho', '']"
            ]
          },
          "execution_count": 154,
          "metadata": {},
          "output_type": "execute_result"
        }
      ],
      "source": [
        "s5.split('n')"
      ]
    },
    {
      "cell_type": "code",
      "execution_count": null,
      "id": "d41448c7",
      "metadata": {
        "id": "d41448c7"
      },
      "outputs": [],
      "source": []
    },
    {
      "cell_type": "code",
      "execution_count": null,
      "id": "ad6db1aa",
      "metadata": {
        "id": "ad6db1aa"
      },
      "outputs": [],
      "source": [
        "s6 = \"mango, apple, grapes\""
      ]
    },
    {
      "cell_type": "code",
      "execution_count": null,
      "id": "23d2a980",
      "metadata": {
        "id": "23d2a980",
        "outputId": "13085de3-5578-4fb6-d7a1-7b293bd1507c"
      },
      "outputs": [
        {
          "data": {
            "text/plain": [
              "['m',\n",
              " 'a',\n",
              " 'n',\n",
              " 'g',\n",
              " 'o',\n",
              " ',',\n",
              " ' ',\n",
              " 'a',\n",
              " 'p',\n",
              " 'p',\n",
              " 'l',\n",
              " 'e',\n",
              " ',',\n",
              " ' ',\n",
              " 'g',\n",
              " 'r',\n",
              " 'a',\n",
              " 'p',\n",
              " 'e',\n",
              " 's']"
            ]
          },
          "execution_count": 156,
          "metadata": {},
          "output_type": "execute_result"
        }
      ],
      "source": [
        "list(s6)"
      ]
    },
    {
      "cell_type": "code",
      "execution_count": null,
      "id": "031f90ae",
      "metadata": {
        "id": "031f90ae",
        "outputId": "5ad6a97c-ecba-4667-bd28-716694ef6d4d"
      },
      "outputs": [
        {
          "data": {
            "text/plain": [
              "'mango, apple, grapes'"
            ]
          },
          "execution_count": 157,
          "metadata": {},
          "output_type": "execute_result"
        }
      ],
      "source": [
        "s6"
      ]
    },
    {
      "cell_type": "code",
      "execution_count": null,
      "id": "7f456172",
      "metadata": {
        "id": "7f456172",
        "outputId": "fa1c079c-6693-4eec-df79-27e3112048b8"
      },
      "outputs": [
        {
          "data": {
            "text/plain": [
              "['mango', ' apple', ' grapes']"
            ]
          },
          "execution_count": 158,
          "metadata": {},
          "output_type": "execute_result"
        }
      ],
      "source": [
        "s6.split(sep=',') # split with seperater ,"
      ]
    },
    {
      "cell_type": "code",
      "execution_count": null,
      "id": "b25673f4",
      "metadata": {
        "id": "b25673f4",
        "outputId": "3822bb03-2d80-4617-ba38-895e66a0129e"
      },
      "outputs": [
        {
          "data": {
            "text/plain": [
              "['mango', 'apple', 'grapes']"
            ]
          },
          "execution_count": 159,
          "metadata": {},
          "output_type": "execute_result"
        }
      ],
      "source": [
        "s6.split(sep=', ')"
      ]
    },
    {
      "cell_type": "code",
      "execution_count": null,
      "id": "c3f406ed",
      "metadata": {
        "id": "c3f406ed"
      },
      "outputs": [],
      "source": [
        "fruits = s6.split(sep=', ')"
      ]
    },
    {
      "cell_type": "code",
      "execution_count": null,
      "id": "fb8e04fc",
      "metadata": {
        "id": "fb8e04fc",
        "outputId": "48336427-7d65-4a58-852c-9c4861a76048"
      },
      "outputs": [
        {
          "data": {
            "text/plain": [
              "['mango', 'apple', 'grapes']"
            ]
          },
          "execution_count": 161,
          "metadata": {},
          "output_type": "execute_result"
        }
      ],
      "source": [
        "fruits"
      ]
    },
    {
      "cell_type": "markdown",
      "source": [
        "#### join"
      ],
      "metadata": {
        "id": "La_mr4o5KEVB"
      },
      "id": "La_mr4o5KEVB"
    },
    {
      "cell_type": "code",
      "execution_count": null,
      "id": "c9dcfabe",
      "metadata": {
        "id": "c9dcfabe",
        "outputId": "cb81b129-8bff-450b-91cf-0c656f0b7192"
      },
      "outputs": [
        {
          "data": {
            "text/plain": [
              "'mango-apple-grapes'"
            ]
          },
          "execution_count": 163,
          "metadata": {},
          "output_type": "execute_result"
        }
      ],
      "source": [
        "'-'.join(fruits)"
      ]
    },
    {
      "cell_type": "code",
      "execution_count": null,
      "id": "97508183",
      "metadata": {
        "id": "97508183",
        "outputId": "414f759e-d34b-4420-a359-cfa3efb17d96"
      },
      "outputs": [
        {
          "data": {
            "text/plain": [
              "'mango, apple, grapes'"
            ]
          },
          "execution_count": 164,
          "metadata": {},
          "output_type": "execute_result"
        }
      ],
      "source": [
        "', '.join(fruits)"
      ]
    },
    {
      "cell_type": "code",
      "execution_count": null,
      "id": "334be796",
      "metadata": {
        "id": "334be796",
        "outputId": "8b8727ea-70c3-4d63-e7b5-b1d22d201971"
      },
      "outputs": [
        {
          "name": "stdout",
          "output_type": "stream",
          "text": [
            "Help on method_descriptor:\n",
            "\n",
            "join(self, iterable, /)\n",
            "    Concatenate any number of strings.\n",
            "    \n",
            "    The string whose method is called is inserted in between each given string.\n",
            "    The result is returned as a new string.\n",
            "    \n",
            "    Example: '.'.join(['ab', 'pq', 'rs']) -> 'ab.pq.rs'\n",
            "\n"
          ]
        }
      ],
      "source": [
        "help(str.join)"
      ]
    },
    {
      "cell_type": "markdown",
      "source": [],
      "metadata": {
        "id": "13GOMwsvKJMh"
      },
      "id": "13GOMwsvKJMh"
    },
    {
      "cell_type": "code",
      "execution_count": null,
      "metadata": {
        "id": "113ae994"
      },
      "outputs": [],
      "source": [
        "#### list function - append"
      ],
      "id": "113ae994"
    },
    {
      "cell_type": "code",
      "execution_count": null,
      "id": "1abb4e73",
      "metadata": {
        "id": "1abb4e73"
      },
      "outputs": [],
      "source": [
        "l1 = [1, 2, 4, 7]"
      ]
    },
    {
      "cell_type": "code",
      "execution_count": null,
      "id": "08beff16",
      "metadata": {
        "id": "08beff16",
        "outputId": "67e6698d-90d0-43c8-bc5e-4a43c23eecc8"
      },
      "outputs": [
        {
          "data": {
            "text/plain": [
              "[1, 2, 4, 7]"
            ]
          },
          "execution_count": 168,
          "metadata": {},
          "output_type": "execute_result"
        }
      ],
      "source": [
        "l1"
      ]
    },
    {
      "cell_type": "code",
      "execution_count": null,
      "id": "2bc1a7cb",
      "metadata": {
        "id": "2bc1a7cb"
      },
      "outputs": [],
      "source": [
        "l1.append(10)"
      ]
    },
    {
      "cell_type": "code",
      "execution_count": null,
      "id": "7748d6d1",
      "metadata": {
        "id": "7748d6d1",
        "outputId": "71a6d4c8-90fa-4268-b5ce-a9eddc34bc5a"
      },
      "outputs": [
        {
          "data": {
            "text/plain": [
              "[1, 2, 4, 7, 10]"
            ]
          },
          "execution_count": 170,
          "metadata": {},
          "output_type": "execute_result"
        }
      ],
      "source": [
        "l1"
      ]
    },
    {
      "cell_type": "code",
      "execution_count": null,
      "id": "d4ca4e97",
      "metadata": {
        "id": "d4ca4e97",
        "outputId": "5190f27e-5b88-4dea-b781-cbed0efea4c9"
      },
      "outputs": [
        {
          "name": "stdout",
          "output_type": "stream",
          "text": [
            "Help on built-in function append:\n",
            "\n",
            "append(object, /) method of builtins.list instance\n",
            "    Append object to the end of the list.\n",
            "\n"
          ]
        }
      ],
      "source": [
        "help(l1.append)"
      ]
    },
    {
      "cell_type": "code",
      "execution_count": null,
      "id": "b34000b2",
      "metadata": {
        "id": "b34000b2",
        "outputId": "b604251d-9658-41a5-af0d-f871c423d2b9"
      },
      "outputs": [
        {
          "ename": "TypeError",
          "evalue": "list.append() takes exactly one argument (2 given)",
          "output_type": "error",
          "traceback": [
            "\u001b[1;31m---------------------------------------------------------------------------\u001b[0m",
            "\u001b[1;31mTypeError\u001b[0m                                 Traceback (most recent call last)",
            "\u001b[1;32m~\\AppData\\Local\\Temp/ipykernel_12072/2868222273.py\u001b[0m in \u001b[0;36m<module>\u001b[1;34m\u001b[0m\n\u001b[1;32m----> 1\u001b[1;33m \u001b[0ml1\u001b[0m\u001b[1;33m.\u001b[0m\u001b[0mappend\u001b[0m\u001b[1;33m(\u001b[0m\u001b[1;36m20\u001b[0m\u001b[1;33m,\u001b[0m \u001b[1;36m30\u001b[0m\u001b[1;33m)\u001b[0m\u001b[1;33m\u001b[0m\u001b[1;33m\u001b[0m\u001b[0m\n\u001b[0m",
            "\u001b[1;31mTypeError\u001b[0m: list.append() takes exactly one argument (2 given)"
          ]
        }
      ],
      "source": [
        "l1.append(20, 30)"
      ]
    },
    {
      "cell_type": "code",
      "execution_count": null,
      "id": "fac4474e",
      "metadata": {
        "id": "fac4474e",
        "outputId": "cb90be9d-6a5e-4d82-d77a-fd359e926b50"
      },
      "outputs": [
        {
          "data": {
            "text/plain": [
              "[1, 2, 4, 7, 10]"
            ]
          },
          "execution_count": 173,
          "metadata": {},
          "output_type": "execute_result"
        }
      ],
      "source": [
        "l1"
      ]
    },
    {
      "cell_type": "code",
      "execution_count": null,
      "id": "6c55baaa",
      "metadata": {
        "id": "6c55baaa",
        "outputId": "70f68932-c9d2-40cf-ef81-81fa1322feb3"
      },
      "outputs": [
        {
          "name": "stdout",
          "output_type": "stream",
          "text": [
            "Enter a number: 10\n"
          ]
        }
      ],
      "source": [
        "n1 = int(input(\"Enter a number: \"))"
      ]
    },
    {
      "cell_type": "code",
      "execution_count": null,
      "id": "af3c2d38",
      "metadata": {
        "id": "af3c2d38",
        "outputId": "cfbcfb50-4828-459b-a6bf-b3c1aecbfee7"
      },
      "outputs": [
        {
          "data": {
            "text/plain": [
              "10"
            ]
          },
          "execution_count": 175,
          "metadata": {},
          "output_type": "execute_result"
        }
      ],
      "source": [
        "n1"
      ]
    },
    {
      "cell_type": "code",
      "execution_count": null,
      "id": "13156c11",
      "metadata": {
        "id": "13156c11",
        "outputId": "4c244cdd-eb34-4dd8-b4bb-40aaf677c5d2"
      },
      "outputs": [
        {
          "name": "stdout",
          "output_type": "stream",
          "text": [
            "Enter a number: 10.5\n"
          ]
        },
        {
          "ename": "ValueError",
          "evalue": "invalid literal for int() with base 10: '10.5'",
          "output_type": "error",
          "traceback": [
            "\u001b[1;31m---------------------------------------------------------------------------\u001b[0m",
            "\u001b[1;31mValueError\u001b[0m                                Traceback (most recent call last)",
            "\u001b[1;32m~\\AppData\\Local\\Temp/ipykernel_12072/677319858.py\u001b[0m in \u001b[0;36m<module>\u001b[1;34m\u001b[0m\n\u001b[1;32m----> 1\u001b[1;33m \u001b[0mn1\u001b[0m \u001b[1;33m=\u001b[0m \u001b[0mint\u001b[0m\u001b[1;33m(\u001b[0m\u001b[0minput\u001b[0m\u001b[1;33m(\u001b[0m\u001b[1;34m\"Enter a number: \"\u001b[0m\u001b[1;33m)\u001b[0m\u001b[1;33m)\u001b[0m\u001b[1;33m\u001b[0m\u001b[1;33m\u001b[0m\u001b[0m\n\u001b[0m",
            "\u001b[1;31mValueError\u001b[0m: invalid literal for int() with base 10: '10.5'"
          ]
        }
      ],
      "source": [
        "n1 = int(input(\"Enter a number: \"))"
      ]
    },
    {
      "cell_type": "code",
      "execution_count": null,
      "id": "62cc66ae",
      "metadata": {
        "id": "62cc66ae",
        "outputId": "ca8106ed-ead7-4b8e-f251-58905af2a9ba"
      },
      "outputs": [
        {
          "name": "stdout",
          "output_type": "stream",
          "text": [
            "Enter a number: 10.5\n"
          ]
        }
      ],
      "source": [
        "n1 = float(input(\"Enter a number: \"))"
      ]
    },
    {
      "cell_type": "code",
      "execution_count": null,
      "id": "cdcc0d1e",
      "metadata": {
        "id": "cdcc0d1e",
        "outputId": "a0800b7e-ba2c-4f67-fb60-9ee1fa0006e0"
      },
      "outputs": [
        {
          "data": {
            "text/plain": [
              "10.5"
            ]
          },
          "execution_count": 178,
          "metadata": {},
          "output_type": "execute_result"
        }
      ],
      "source": [
        "n1"
      ]
    },
    {
      "cell_type": "code",
      "execution_count": null,
      "id": "93290774",
      "metadata": {
        "id": "93290774",
        "outputId": "1f7ff181-bf29-49cd-bab3-cf95628d224f"
      },
      "outputs": [
        {
          "name": "stdout",
          "output_type": "stream",
          "text": [
            "Enter a number: 10\n"
          ]
        }
      ],
      "source": [
        "n1 = float(input(\"Enter a number: \"))"
      ]
    },
    {
      "cell_type": "code",
      "execution_count": null,
      "id": "66da3509",
      "metadata": {
        "id": "66da3509",
        "outputId": "46e61722-c81b-49d6-8bcd-b98d5e7b2fbc"
      },
      "outputs": [
        {
          "data": {
            "text/plain": [
              "10.0"
            ]
          },
          "execution_count": 180,
          "metadata": {},
          "output_type": "execute_result"
        }
      ],
      "source": [
        "n1"
      ]
    },
    {
      "cell_type": "markdown",
      "source": [
        "#### eval   -> evalvate"
      ],
      "metadata": {
        "id": "u5vu9UkgKUfG"
      },
      "id": "u5vu9UkgKUfG"
    },
    {
      "cell_type": "code",
      "execution_count": null,
      "id": "a8fd11b7",
      "metadata": {
        "id": "a8fd11b7",
        "outputId": "edefa824-238a-44e2-b8a7-03269b43f450"
      },
      "outputs": [
        {
          "name": "stdout",
          "output_type": "stream",
          "text": [
            "Enter a number: 10\n"
          ]
        }
      ],
      "source": [
        "num = eval(input(\"Enter a number: \"))"
      ]
    },
    {
      "cell_type": "code",
      "execution_count": null,
      "id": "f8aedba1",
      "metadata": {
        "id": "f8aedba1",
        "outputId": "f9a7bdea-5db1-46b0-fdf3-edb9e118f7d6"
      },
      "outputs": [
        {
          "data": {
            "text/plain": [
              "10"
            ]
          },
          "execution_count": 183,
          "metadata": {},
          "output_type": "execute_result"
        }
      ],
      "source": [
        "num"
      ]
    },
    {
      "cell_type": "code",
      "execution_count": null,
      "id": "5db646ac",
      "metadata": {
        "id": "5db646ac",
        "outputId": "93c208fe-864e-4cee-8ab8-e041af5288b3"
      },
      "outputs": [
        {
          "data": {
            "text/plain": [
              "int"
            ]
          },
          "execution_count": 184,
          "metadata": {},
          "output_type": "execute_result"
        }
      ],
      "source": [
        "type(num)"
      ]
    },
    {
      "cell_type": "code",
      "execution_count": null,
      "id": "d22ce5e4",
      "metadata": {
        "id": "d22ce5e4",
        "outputId": "7ef6f77e-1855-4047-fa7a-65c426ce042f"
      },
      "outputs": [
        {
          "name": "stdout",
          "output_type": "stream",
          "text": [
            "Enter a value: 10.5\n"
          ]
        }
      ],
      "source": [
        "value = eval(input(\"Enter a value: \"))"
      ]
    },
    {
      "cell_type": "code",
      "execution_count": null,
      "id": "c919ad4b",
      "metadata": {
        "id": "c919ad4b",
        "outputId": "a490ab7d-9020-43df-de0e-ea9acbbded39"
      },
      "outputs": [
        {
          "data": {
            "text/plain": [
              "10.5"
            ]
          },
          "execution_count": 186,
          "metadata": {},
          "output_type": "execute_result"
        }
      ],
      "source": [
        "value"
      ]
    },
    {
      "cell_type": "code",
      "execution_count": null,
      "id": "13043ee9",
      "metadata": {
        "id": "13043ee9",
        "outputId": "83069986-483d-4c68-d86d-950da870219c"
      },
      "outputs": [
        {
          "data": {
            "text/plain": [
              "float"
            ]
          },
          "execution_count": 187,
          "metadata": {},
          "output_type": "execute_result"
        }
      ],
      "source": [
        "type(value)"
      ]
    },
    {
      "cell_type": "code",
      "execution_count": null,
      "id": "0ee7248b",
      "metadata": {
        "id": "0ee7248b",
        "outputId": "3e8fd962-02cf-4a70-c96e-f5cc16b0c5ea"
      },
      "outputs": [
        {
          "name": "stdout",
          "output_type": "stream",
          "text": [
            "Enter a value: [1,2,3,4,5]\n"
          ]
        }
      ],
      "source": [
        "value = eval(input(\"Enter a value: \"))"
      ]
    },
    {
      "cell_type": "code",
      "execution_count": null,
      "id": "a849f1d0",
      "metadata": {
        "id": "a849f1d0",
        "outputId": "cf7eabe2-a081-435b-cf14-1c5d32229acc"
      },
      "outputs": [
        {
          "data": {
            "text/plain": [
              "[1, 2, 3, 4, 5]"
            ]
          },
          "execution_count": 189,
          "metadata": {},
          "output_type": "execute_result"
        }
      ],
      "source": [
        "value"
      ]
    },
    {
      "cell_type": "code",
      "execution_count": null,
      "id": "578efdd7",
      "metadata": {
        "id": "578efdd7",
        "outputId": "1f6d7793-9c05-4956-b436-36c5f88fb184"
      },
      "outputs": [
        {
          "data": {
            "text/plain": [
              "list"
            ]
          },
          "execution_count": 190,
          "metadata": {},
          "output_type": "execute_result"
        }
      ],
      "source": [
        "type(value)"
      ]
    },
    {
      "cell_type": "code",
      "execution_count": null,
      "id": "63b20eb9",
      "metadata": {
        "id": "63b20eb9",
        "outputId": "da02d843-3ad1-43fc-b28a-b5e46f45af70"
      },
      "outputs": [
        {
          "name": "stdout",
          "output_type": "stream",
          "text": [
            "Enter a value: [1,2,3,4,5]\n"
          ]
        }
      ],
      "source": [
        "value = list(input(\"Enter a value: \"))"
      ]
    },
    {
      "cell_type": "code",
      "execution_count": null,
      "id": "7feb521b",
      "metadata": {
        "id": "7feb521b",
        "outputId": "9b3f4d69-fc3f-47b7-fbdc-f6b4b6bfe11e"
      },
      "outputs": [
        {
          "data": {
            "text/plain": [
              "['[', '1', ',', '2', ',', '3', ',', '4', ',', '5', ']']"
            ]
          },
          "execution_count": 192,
          "metadata": {},
          "output_type": "execute_result"
        }
      ],
      "source": [
        "value"
      ]
    },
    {
      "cell_type": "code",
      "execution_count": null,
      "id": "fc5da6c5",
      "metadata": {
        "id": "fc5da6c5",
        "outputId": "fc093309-4fd6-4e67-e318-0a4dc9030312"
      },
      "outputs": [
        {
          "name": "stdout",
          "output_type": "stream",
          "text": [
            "Enter a value: Python\n"
          ]
        },
        {
          "ename": "NameError",
          "evalue": "name 'Python' is not defined",
          "output_type": "error",
          "traceback": [
            "\u001b[1;31m---------------------------------------------------------------------------\u001b[0m",
            "\u001b[1;31mNameError\u001b[0m                                 Traceback (most recent call last)",
            "\u001b[1;32m~\\AppData\\Local\\Temp/ipykernel_12072/1142211939.py\u001b[0m in \u001b[0;36m<module>\u001b[1;34m\u001b[0m\n\u001b[1;32m----> 1\u001b[1;33m \u001b[0mvalue\u001b[0m \u001b[1;33m=\u001b[0m \u001b[0meval\u001b[0m\u001b[1;33m(\u001b[0m\u001b[0minput\u001b[0m\u001b[1;33m(\u001b[0m\u001b[1;34m\"Enter a value: \"\u001b[0m\u001b[1;33m)\u001b[0m\u001b[1;33m)\u001b[0m\u001b[1;33m\u001b[0m\u001b[1;33m\u001b[0m\u001b[0m\n\u001b[0m",
            "\u001b[1;32m<string>\u001b[0m in \u001b[0;36m<module>\u001b[1;34m\u001b[0m\n",
            "\u001b[1;31mNameError\u001b[0m: name 'Python' is not defined"
          ]
        }
      ],
      "source": [
        "value = eval(input(\"Enter a value: \"))"
      ]
    },
    {
      "cell_type": "code",
      "execution_count": null,
      "id": "84697aa2",
      "metadata": {
        "id": "84697aa2",
        "outputId": "a04bf678-b8a6-496c-defc-acf2985eae1b"
      },
      "outputs": [
        {
          "name": "stdout",
          "output_type": "stream",
          "text": [
            "Enter a value: 'Python'\n"
          ]
        }
      ],
      "source": [
        "value = eval(input(\"Enter a value: \"))"
      ]
    },
    {
      "cell_type": "code",
      "execution_count": null,
      "id": "f2488659",
      "metadata": {
        "id": "f2488659",
        "outputId": "425ac4d2-9ecc-435d-d750-926aec41eeae"
      },
      "outputs": [
        {
          "data": {
            "text/plain": [
              "'Python'"
            ]
          },
          "execution_count": 195,
          "metadata": {},
          "output_type": "execute_result"
        }
      ],
      "source": [
        "value"
      ]
    },
    {
      "cell_type": "code",
      "execution_count": null,
      "id": "8e698bdd",
      "metadata": {
        "id": "8e698bdd",
        "outputId": "f7a430f9-d48f-44d7-dc74-017936f9a636"
      },
      "outputs": [
        {
          "data": {
            "text/plain": [
              "str"
            ]
          },
          "execution_count": 196,
          "metadata": {},
          "output_type": "execute_result"
        }
      ],
      "source": [
        "type(value)"
      ]
    },
    {
      "cell_type": "code",
      "execution_count": null,
      "id": "17dd9bb7",
      "metadata": {
        "id": "17dd9bb7",
        "outputId": "e79a76da-7c70-4ce2-da22-4ff994eddad9"
      },
      "outputs": [
        {
          "data": {
            "text/plain": [
              "'Python'"
            ]
          },
          "execution_count": 197,
          "metadata": {},
          "output_type": "execute_result"
        }
      ],
      "source": [
        "language"
      ]
    },
    {
      "cell_type": "code",
      "execution_count": null,
      "id": "371a24ef",
      "metadata": {
        "id": "371a24ef",
        "outputId": "6bcfe243-bb96-46f2-8934-683d7ed2f6ac"
      },
      "outputs": [
        {
          "name": "stdout",
          "output_type": "stream",
          "text": [
            "Enter a value: language\n"
          ]
        }
      ],
      "source": [
        "value = eval(input(\"Enter a value: \"))"
      ]
    },
    {
      "cell_type": "code",
      "execution_count": null,
      "id": "3c5b7fa0",
      "metadata": {
        "id": "3c5b7fa0",
        "outputId": "0cc058c3-83b0-4d72-8ee0-697fb591b185"
      },
      "outputs": [
        {
          "data": {
            "text/plain": [
              "'Python'"
            ]
          },
          "execution_count": 199,
          "metadata": {},
          "output_type": "execute_result"
        }
      ],
      "source": [
        "value"
      ]
    },
    {
      "cell_type": "code",
      "execution_count": null,
      "id": "d713c6b9",
      "metadata": {
        "id": "d713c6b9",
        "outputId": "5b5eca6b-a18b-44c1-c16f-d8280a33a51e"
      },
      "outputs": [
        {
          "data": {
            "text/plain": [
              "['In',\n",
              " 'Out',\n",
              " '_',\n",
              " '_100',\n",
              " '_106',\n",
              " '_110',\n",
              " '_112',\n",
              " '_116',\n",
              " '_118',\n",
              " '_119',\n",
              " '_120',\n",
              " '_121',\n",
              " '_122',\n",
              " '_123',\n",
              " '_124',\n",
              " '_125',\n",
              " '_127',\n",
              " '_129',\n",
              " '_13',\n",
              " '_130',\n",
              " '_132',\n",
              " '_134',\n",
              " '_135',\n",
              " '_136',\n",
              " '_137',\n",
              " '_139',\n",
              " '_14',\n",
              " '_140',\n",
              " '_141',\n",
              " '_142',\n",
              " '_144',\n",
              " '_145',\n",
              " '_147',\n",
              " '_148',\n",
              " '_149',\n",
              " '_150',\n",
              " '_153',\n",
              " '_154',\n",
              " '_156',\n",
              " '_157',\n",
              " '_158',\n",
              " '_159',\n",
              " '_16',\n",
              " '_161',\n",
              " '_163',\n",
              " '_164',\n",
              " '_168',\n",
              " '_17',\n",
              " '_170',\n",
              " '_173',\n",
              " '_175',\n",
              " '_178',\n",
              " '_18',\n",
              " '_180',\n",
              " '_183',\n",
              " '_184',\n",
              " '_186',\n",
              " '_187',\n",
              " '_189',\n",
              " '_19',\n",
              " '_190',\n",
              " '_192',\n",
              " '_195',\n",
              " '_196',\n",
              " '_197',\n",
              " '_199',\n",
              " '_21',\n",
              " '_22',\n",
              " '_23',\n",
              " '_25',\n",
              " '_27',\n",
              " '_28',\n",
              " '_29',\n",
              " '_3',\n",
              " '_30',\n",
              " '_32',\n",
              " '_33',\n",
              " '_34',\n",
              " '_35',\n",
              " '_36',\n",
              " '_37',\n",
              " '_38',\n",
              " '_39',\n",
              " '_4',\n",
              " '_40',\n",
              " '_41',\n",
              " '_42',\n",
              " '_44',\n",
              " '_48',\n",
              " '_49',\n",
              " '_5',\n",
              " '_51',\n",
              " '_52',\n",
              " '_55',\n",
              " '_56',\n",
              " '_57',\n",
              " '_59',\n",
              " '_6',\n",
              " '_60',\n",
              " '_61',\n",
              " '_63',\n",
              " '_65',\n",
              " '_66',\n",
              " '_67',\n",
              " '_68',\n",
              " '_71',\n",
              " '_73',\n",
              " '_74',\n",
              " '_75',\n",
              " '_76',\n",
              " '_77',\n",
              " '_78',\n",
              " '_79',\n",
              " '_8',\n",
              " '_80',\n",
              " '_84',\n",
              " '_85',\n",
              " '_86',\n",
              " '_87',\n",
              " '_88',\n",
              " '_89',\n",
              " '_90',\n",
              " '_91',\n",
              " '_92',\n",
              " '_93',\n",
              " '_94',\n",
              " '_96',\n",
              " '_97',\n",
              " '_98',\n",
              " '__',\n",
              " '___',\n",
              " '__builtin__',\n",
              " '__builtins__',\n",
              " '__doc__',\n",
              " '__loader__',\n",
              " '__name__',\n",
              " '__package__',\n",
              " '__spec__',\n",
              " '_dh',\n",
              " '_i',\n",
              " '_i1',\n",
              " '_i10',\n",
              " '_i100',\n",
              " '_i101',\n",
              " '_i102',\n",
              " '_i103',\n",
              " '_i104',\n",
              " '_i105',\n",
              " '_i106',\n",
              " '_i107',\n",
              " '_i108',\n",
              " '_i109',\n",
              " '_i11',\n",
              " '_i110',\n",
              " '_i111',\n",
              " '_i112',\n",
              " '_i113',\n",
              " '_i114',\n",
              " '_i115',\n",
              " '_i116',\n",
              " '_i117',\n",
              " '_i118',\n",
              " '_i119',\n",
              " '_i12',\n",
              " '_i120',\n",
              " '_i121',\n",
              " '_i122',\n",
              " '_i123',\n",
              " '_i124',\n",
              " '_i125',\n",
              " '_i126',\n",
              " '_i127',\n",
              " '_i128',\n",
              " '_i129',\n",
              " '_i13',\n",
              " '_i130',\n",
              " '_i131',\n",
              " '_i132',\n",
              " '_i133',\n",
              " '_i134',\n",
              " '_i135',\n",
              " '_i136',\n",
              " '_i137',\n",
              " '_i138',\n",
              " '_i139',\n",
              " '_i14',\n",
              " '_i140',\n",
              " '_i141',\n",
              " '_i142',\n",
              " '_i143',\n",
              " '_i144',\n",
              " '_i145',\n",
              " '_i146',\n",
              " '_i147',\n",
              " '_i148',\n",
              " '_i149',\n",
              " '_i15',\n",
              " '_i150',\n",
              " '_i151',\n",
              " '_i152',\n",
              " '_i153',\n",
              " '_i154',\n",
              " '_i155',\n",
              " '_i156',\n",
              " '_i157',\n",
              " '_i158',\n",
              " '_i159',\n",
              " '_i16',\n",
              " '_i160',\n",
              " '_i161',\n",
              " '_i162',\n",
              " '_i163',\n",
              " '_i164',\n",
              " '_i165',\n",
              " '_i166',\n",
              " '_i167',\n",
              " '_i168',\n",
              " '_i169',\n",
              " '_i17',\n",
              " '_i170',\n",
              " '_i171',\n",
              " '_i172',\n",
              " '_i173',\n",
              " '_i174',\n",
              " '_i175',\n",
              " '_i176',\n",
              " '_i177',\n",
              " '_i178',\n",
              " '_i179',\n",
              " '_i18',\n",
              " '_i180',\n",
              " '_i181',\n",
              " '_i182',\n",
              " '_i183',\n",
              " '_i184',\n",
              " '_i185',\n",
              " '_i186',\n",
              " '_i187',\n",
              " '_i188',\n",
              " '_i189',\n",
              " '_i19',\n",
              " '_i190',\n",
              " '_i191',\n",
              " '_i192',\n",
              " '_i193',\n",
              " '_i194',\n",
              " '_i195',\n",
              " '_i196',\n",
              " '_i197',\n",
              " '_i198',\n",
              " '_i199',\n",
              " '_i2',\n",
              " '_i20',\n",
              " '_i200',\n",
              " '_i21',\n",
              " '_i22',\n",
              " '_i23',\n",
              " '_i24',\n",
              " '_i25',\n",
              " '_i26',\n",
              " '_i27',\n",
              " '_i28',\n",
              " '_i29',\n",
              " '_i3',\n",
              " '_i30',\n",
              " '_i31',\n",
              " '_i32',\n",
              " '_i33',\n",
              " '_i34',\n",
              " '_i35',\n",
              " '_i36',\n",
              " '_i37',\n",
              " '_i38',\n",
              " '_i39',\n",
              " '_i4',\n",
              " '_i40',\n",
              " '_i41',\n",
              " '_i42',\n",
              " '_i43',\n",
              " '_i44',\n",
              " '_i45',\n",
              " '_i46',\n",
              " '_i47',\n",
              " '_i48',\n",
              " '_i49',\n",
              " '_i5',\n",
              " '_i50',\n",
              " '_i51',\n",
              " '_i52',\n",
              " '_i53',\n",
              " '_i54',\n",
              " '_i55',\n",
              " '_i56',\n",
              " '_i57',\n",
              " '_i58',\n",
              " '_i59',\n",
              " '_i6',\n",
              " '_i60',\n",
              " '_i61',\n",
              " '_i62',\n",
              " '_i63',\n",
              " '_i64',\n",
              " '_i65',\n",
              " '_i66',\n",
              " '_i67',\n",
              " '_i68',\n",
              " '_i69',\n",
              " '_i7',\n",
              " '_i70',\n",
              " '_i71',\n",
              " '_i72',\n",
              " '_i73',\n",
              " '_i74',\n",
              " '_i75',\n",
              " '_i76',\n",
              " '_i77',\n",
              " '_i78',\n",
              " '_i79',\n",
              " '_i8',\n",
              " '_i80',\n",
              " '_i81',\n",
              " '_i82',\n",
              " '_i83',\n",
              " '_i84',\n",
              " '_i85',\n",
              " '_i86',\n",
              " '_i87',\n",
              " '_i88',\n",
              " '_i89',\n",
              " '_i9',\n",
              " '_i90',\n",
              " '_i91',\n",
              " '_i92',\n",
              " '_i93',\n",
              " '_i94',\n",
              " '_i95',\n",
              " '_i96',\n",
              " '_i97',\n",
              " '_i98',\n",
              " '_i99',\n",
              " '_ih',\n",
              " '_ii',\n",
              " '_iii',\n",
              " '_oh',\n",
              " 'a',\n",
              " 'c',\n",
              " 'exit',\n",
              " 'fruits',\n",
              " 'get_ipython',\n",
              " 'i',\n",
              " 'l1',\n",
              " 'language',\n",
              " 'm',\n",
              " 'n1',\n",
              " 'num',\n",
              " 'quit',\n",
              " 's1',\n",
              " 's2',\n",
              " 's3',\n",
              " 's4',\n",
              " 's5',\n",
              " 's6',\n",
              " 'value',\n",
              " 'version']"
            ]
          },
          "execution_count": 200,
          "metadata": {},
          "output_type": "execute_result"
        }
      ],
      "source": [
        "dir()"
      ]
    },
    {
      "cell_type": "code",
      "execution_count": null,
      "id": "a4692e5c",
      "metadata": {
        "id": "a4692e5c"
      },
      "outputs": [],
      "source": [
        "#### IMPORTANT Ternary operator"
      ]
    },
    {
      "cell_type": "code",
      "execution_count": null,
      "id": "d23df43a",
      "metadata": {
        "id": "d23df43a",
        "outputId": "7f804909-a8f3-44a6-b435-5db6fb17be95"
      },
      "outputs": [
        {
          "name": "stdout",
          "output_type": "stream",
          "text": [
            "Divisible by 2\n"
          ]
        }
      ],
      "source": [
        "num = 10\n",
        "\n",
        "if num % 2 == 0:\n",
        "    print(\"Divisible by 2\")\n",
        "else:\n",
        "    print(\"Not divisible by 2\")"
      ]
    },
    {
      "cell_type": "code",
      "execution_count": null,
      "id": "6fc5f925",
      "metadata": {
        "id": "6fc5f925"
      },
      "outputs": [],
      "source": [
        "# true_statement if condition else false_statement"
      ]
    },
    {
      "cell_type": "code",
      "execution_count": null,
      "id": "aa8b19ab",
      "metadata": {
        "id": "aa8b19ab",
        "outputId": "f462888b-fa41-41e2-bbe5-d4059d7bc16b"
      },
      "outputs": [
        {
          "name": "stdout",
          "output_type": "stream",
          "text": [
            "Not divisible by 2\n"
          ]
        }
      ],
      "source": [
        "num = 9\n",
        "print(\"Divisible by 2\") if num % 2 == 0 else print(\"Not divisible by 2\")"
      ]
    },
    {
      "cell_type": "code",
      "execution_count": null,
      "id": "d1466bc4",
      "metadata": {
        "id": "d1466bc4",
        "outputId": "05bae593-f3de-49c5-e4cd-e97bba8518a3"
      },
      "outputs": [
        {
          "name": "stdout",
          "output_type": "stream",
          "text": [
            "Divisible by 2\n"
          ]
        }
      ],
      "source": [
        "num = 4\n",
        "\n",
        "if num % 2 == 0:\n",
        "    print(\"Divisible by 2\")\n",
        "elif num % 5 == 0:\n",
        "    print(\"Divisible by 5\")\n",
        "else:\n",
        "    print(\"Not divisible by 2 or 5\")"
      ]
    },
    {
      "cell_type": "code",
      "execution_count": null,
      "id": "41529e94",
      "metadata": {
        "id": "41529e94",
        "outputId": "50f04063-f7bd-4498-b4af-91d0ce0bc82d"
      },
      "outputs": [
        {
          "name": "stdout",
          "output_type": "stream",
          "text": [
            "Divisible by 5\n"
          ]
        }
      ],
      "source": [
        "num = 5\n",
        "\n",
        "print(\"Divisible by 2\") if num % 2 == 0 else print(\"Divisible by 5\") if num % 5 == 0 else print(\"Not divisible by 2 or 5\")"
      ]
    },
    {
      "cell_type": "code",
      "execution_count": null,
      "id": "9ecc0dda",
      "metadata": {
        "id": "9ecc0dda",
        "outputId": "dead0288-e2d6-4465-9850-a4746e6c1f28"
      },
      "outputs": [
        {
          "name": "stdout",
          "output_type": "stream",
          "text": [
            "Divisible by 5\n"
          ]
        }
      ],
      "source": [
        "num = 5\n",
        "\n",
        "print(\"Divisible by 2\") if num % 2 == 0 else print(\"Divisible by 5\") if num % 5 == 0 \\\n",
        "else print(\"Not divisible by 2 or 5\")"
      ]
    },
    {
      "cell_type": "code",
      "execution_count": null,
      "id": "4aa4c2ac",
      "metadata": {
        "id": "4aa4c2ac",
        "outputId": "ff5bfcbe-75df-4254-c2b3-e1c21cecef0b"
      },
      "outputs": [
        {
          "name": "stdout",
          "output_type": "stream",
          "text": [
            "11 is greater than 10 and 9\n"
          ]
        }
      ],
      "source": [
        "n1= 10\n",
        "n2= 9\n",
        "n3= 11\n",
        "\n",
        "print(f\"{n1} is greater than {n2} and {n3}\") if (n1 > n2 and n1 > n3) \\\n",
        "else print(f\"{n2} is greater than {n1} and {n3}\") if (n2 > n1 and n2 > n3) \\\n",
        "else print(f\"{n3} is greater than {n1} and {n2}\")"
      ]
    },
    {
      "cell_type": "code",
      "execution_count": null,
      "id": "e8abf52e",
      "metadata": {
        "id": "e8abf52e",
        "outputId": "a89c40ae-eff6-4dc5-8031-d7c6b3c89441"
      },
      "outputs": [
        {
          "name": "stdout",
          "output_type": "stream",
          "text": [
            "Enter n1: 10\n",
            "Enter n2: 7\n",
            "Enter n3: 0\n",
            "10 is greater than 7 and 0\n"
          ]
        }
      ],
      "source": [
        "n1= int(input(\"Enter n1: \"))\n",
        "n2= int(input(\"Enter n2: \"))\n",
        "n3= int(input(\"Enter n3: \"))\n",
        "\n",
        "print(f\"{n1} is greater than {n2} and {n3}\") if (n1 > n2 and n1 > n3) \\\n",
        "else print(f\"{n2} is greater than {n1} and {n3}\") if (n2 > n1 and n2 > n3) \\\n",
        "else print(f\"{n3} is greater than {n1} and {n2}\")"
      ]
    },
    {
      "cell_type": "code",
      "execution_count": null,
      "id": "4ad4bd3e",
      "metadata": {
        "id": "4ad4bd3e",
        "outputId": "5c15d0d3-79c1-4562-f792-51f711012758"
      },
      "outputs": [
        {
          "name": "stdout",
          "output_type": "stream",
          "text": [
            "Enter n1: 7\n",
            "Enter n2: 9\n",
            "Enter n3: 100\n",
            "100 is greater than 7 and 9\n"
          ]
        }
      ],
      "source": [
        "n1= int(input(\"Enter n1: \"))\n",
        "n2= int(input(\"Enter n2: \"))\n",
        "n3= int(input(\"Enter n3: \"))\n",
        "\n",
        "print(f\"{n1} is greater than {n2} and {n3}\") if (n1 > n2 and n1 > n3) \\\n",
        "else print(f\"{n2} is greater than {n1} and {n3}\") if (n2 > n1 and n2 > n3) \\\n",
        "else print(f\"{n3} is greater than {n1} and {n2}\")"
      ]
    },
    {
      "cell_type": "code",
      "execution_count": null,
      "id": "59ee7bf3",
      "metadata": {
        "id": "59ee7bf3"
      },
      "outputs": [],
      "source": []
    },
    {
      "cell_type": "code",
      "execution_count": null,
      "id": "42c3ba34",
      "metadata": {
        "id": "42c3ba34",
        "outputId": "0f37a061-0bf1-4f65-b28c-4ebcce559c5c"
      },
      "outputs": [
        {
          "name": "stdout",
          "output_type": "stream",
          "text": [
            "Help on built-in function split:\n",
            "\n",
            "split(sep=None, maxsplit=-1) method of builtins.str instance\n",
            "    Return a list of the words in the string, using sep as the delimiter string.\n",
            "    \n",
            "    sep\n",
            "      The delimiter according which to split the string.\n",
            "      None (the default value) means split according to any whitespace,\n",
            "      and discard empty strings from the result.\n",
            "    maxsplit\n",
            "      Maximum number of splits to do.\n",
            "      -1 (the default value) means no limit.\n",
            "\n"
          ]
        }
      ],
      "source": [
        "help(s1.split)"
      ]
    },
    {
      "cell_type": "code",
      "execution_count": null,
      "id": "211896e2",
      "metadata": {
        "id": "211896e2",
        "outputId": "b4f1f1dc-2d56-414a-c35c-b55334ee57cc"
      },
      "outputs": [
        {
          "data": {
            "text/plain": [
              "['we', 'are', 'learnaring', 'arpythonl', 'and', 'numphyar']"
            ]
          },
          "execution_count": 215,
          "metadata": {},
          "output_type": "execute_result"
        }
      ],
      "source": [
        "s1 ='we    are   learnaring arpythonl     and numphyar'\n",
        "s1.split()"
      ]
    },
    {
      "cell_type": "code",
      "execution_count": null,
      "id": "7e91c261",
      "metadata": {
        "id": "7e91c261",
        "outputId": "8ca0996e-8eb8-4366-f7d5-6dfda3b53a07"
      },
      "outputs": [
        {
          "data": {
            "text/plain": [
              "['we',\n",
              " '',\n",
              " '',\n",
              " '',\n",
              " 'are',\n",
              " '',\n",
              " '',\n",
              " 'llllearnaring',\n",
              " 'arpythonlll',\n",
              " 'and',\n",
              " 'numphyar']"
            ]
          },
          "execution_count": 216,
          "metadata": {},
          "output_type": "execute_result"
        }
      ],
      "source": [
        "s1 ='we    are   llllearnaring arpythonlll and numphyar'\n",
        "s1.split(' ')"
      ]
    },
    {
      "cell_type": "code",
      "execution_count": null,
      "id": "5887c327",
      "metadata": {
        "id": "5887c327"
      },
      "outputs": [],
      "source": []
    },
    {
      "cell_type": "code",
      "execution_count": null,
      "id": "dffc091b",
      "metadata": {
        "id": "dffc091b",
        "outputId": "c733874d-aaa0-4e0b-e449-b9fce83e531f"
      },
      "outputs": [
        {
          "name": "stdout",
          "output_type": "stream",
          "text": [
            "Enter your input1\n",
            "Enter correct input\n"
          ]
        }
      ],
      "source": [
        "A1 =input(\"Enter your input\")\n",
        "a1 =5\n",
        "a2 =2\n",
        "\n",
        "if 'A1' <= '10':\n",
        "    if 'A1' == 1:\n",
        "        print ('a1'+'a2')\n",
        "    elif 'A1' == 2:\n",
        "        print('a1'-'a2')\n",
        "    elif 'A1' == 3:\n",
        "        print ('a1'*'a2')\n",
        "else:\n",
        "    print ('Enter correct input')\n"
      ]
    },
    {
      "cell_type": "code",
      "execution_count": null,
      "id": "8f3718d5",
      "metadata": {
        "id": "8f3718d5",
        "outputId": "ee836c98-c657-46e3-9e88-e9097b20e3e2"
      },
      "outputs": [
        {
          "name": "stdout",
          "output_type": "stream",
          "text": [
            "Enter your input1\n"
          ]
        },
        {
          "ename": "TypeError",
          "evalue": "'<=' not supported between instances of 'str' and 'int'",
          "output_type": "error",
          "traceback": [
            "\u001b[1;31m---------------------------------------------------------------------------\u001b[0m",
            "\u001b[1;31mTypeError\u001b[0m                                 Traceback (most recent call last)",
            "\u001b[1;32m~\\AppData\\Local\\Temp/ipykernel_12072/1893823192.py\u001b[0m in \u001b[0;36m<module>\u001b[1;34m\u001b[0m\n\u001b[0;32m      3\u001b[0m \u001b[0ma2\u001b[0m \u001b[1;33m=\u001b[0m\u001b[1;36m2\u001b[0m\u001b[1;33m\u001b[0m\u001b[1;33m\u001b[0m\u001b[0m\n\u001b[0;32m      4\u001b[0m \u001b[1;33m\u001b[0m\u001b[0m\n\u001b[1;32m----> 5\u001b[1;33m \u001b[1;32mif\u001b[0m \u001b[0mA1\u001b[0m \u001b[1;33m<=\u001b[0m \u001b[1;36m10\u001b[0m\u001b[1;33m:\u001b[0m\u001b[1;33m\u001b[0m\u001b[1;33m\u001b[0m\u001b[0m\n\u001b[0m\u001b[0;32m      6\u001b[0m     \u001b[1;32mif\u001b[0m \u001b[0mA1\u001b[0m \u001b[1;33m==\u001b[0m \u001b[1;36m1\u001b[0m\u001b[1;33m:\u001b[0m\u001b[1;33m\u001b[0m\u001b[1;33m\u001b[0m\u001b[0m\n\u001b[0;32m      7\u001b[0m         \u001b[0mprint\u001b[0m\u001b[1;33m(\u001b[0m\u001b[0ma1\u001b[0m\u001b[1;33m+\u001b[0m\u001b[0ma2\u001b[0m\u001b[1;33m)\u001b[0m\u001b[1;33m\u001b[0m\u001b[1;33m\u001b[0m\u001b[0m\n",
            "\u001b[1;31mTypeError\u001b[0m: '<=' not supported between instances of 'str' and 'int'"
          ]
        }
      ],
      "source": [
        "A1 =input(\"Enter your input\")\n",
        "a1 =5\n",
        "a2 =2\n",
        "\n",
        "if A1 <= 10:\n",
        "    if A1 == 1:\n",
        "        print(a1+a2)\n",
        "    elif A1 == 2:\n",
        "        print(a1-a2)\n",
        "    elif A1 == 3:\n",
        "        print(a1*a2)\n",
        "else:\n",
        "    print('Enter correct input')\n"
      ]
    },
    {
      "cell_type": "code",
      "execution_count": null,
      "id": "bb3cb5e3",
      "metadata": {
        "id": "bb3cb5e3",
        "outputId": "2c278209-e242-42cb-fe57-5f7db21682fd"
      },
      "outputs": [
        {
          "name": "stdout",
          "output_type": "stream",
          "text": [
            "Enter your input1\n",
            "7\n"
          ]
        }
      ],
      "source": [
        "A1 =int(input(\"Enter your input\"))\n",
        "a1 =5\n",
        "a2 =2\n",
        "\n",
        "if A1 <= 10:\n",
        "    if A1 == 1:\n",
        "        print(a1+a2)\n",
        "    elif A1 == 2:\n",
        "        print(a1-a2)\n",
        "    elif A1 == 3:\n",
        "        print(a1*a2)\n",
        "else:\n",
        "    print('Enter correct input')\n"
      ]
    },
    {
      "cell_type": "code",
      "execution_count": null,
      "id": "db60f9eb",
      "metadata": {
        "id": "db60f9eb",
        "outputId": "a59e4df6-9024-4315-fb69-d62d7766279c"
      },
      "outputs": [
        {
          "data": {
            "text/plain": [
              "10"
            ]
          },
          "execution_count": 224,
          "metadata": {},
          "output_type": "execute_result"
        }
      ],
      "source": [
        "eval('10')"
      ]
    },
    {
      "cell_type": "code",
      "execution_count": null,
      "id": "fbdfc0c9",
      "metadata": {
        "id": "fbdfc0c9"
      },
      "outputs": [],
      "source": []
    },
    {
      "cell_type": "code",
      "execution_count": null,
      "id": "85fa9afb",
      "metadata": {
        "id": "85fa9afb",
        "outputId": "99986181-1a47-424a-86a5-46f7c2aa22eb"
      },
      "outputs": [
        {
          "data": {
            "text/plain": [
              "'We are learning Python'"
            ]
          },
          "execution_count": 226,
          "metadata": {},
          "output_type": "execute_result"
        }
      ],
      "source": [
        "s5"
      ]
    },
    {
      "cell_type": "markdown",
      "source": [
        "#### startswith"
      ],
      "metadata": {
        "id": "431uWOOMLADN"
      },
      "id": "431uWOOMLADN"
    },
    {
      "cell_type": "code",
      "execution_count": null,
      "id": "13711baf",
      "metadata": {
        "id": "13711baf",
        "outputId": "f332d430-327e-46c0-d9c3-a2b36ebadb89"
      },
      "outputs": [
        {
          "data": {
            "text/plain": [
              "True"
            ]
          },
          "execution_count": 228,
          "metadata": {},
          "output_type": "execute_result"
        }
      ],
      "source": [
        "s5.startswith('We')"
      ]
    },
    {
      "cell_type": "code",
      "execution_count": null,
      "id": "3deb1dd9",
      "metadata": {
        "id": "3deb1dd9",
        "outputId": "d964f09d-9129-4e9f-c3d0-07963695b776"
      },
      "outputs": [
        {
          "data": {
            "text/plain": [
              "True"
            ]
          },
          "execution_count": 229,
          "metadata": {},
          "output_type": "execute_result"
        }
      ],
      "source": [
        "s5.startswith('W')"
      ]
    },
    {
      "cell_type": "code",
      "execution_count": null,
      "id": "02ebd3d9",
      "metadata": {
        "id": "02ebd3d9",
        "outputId": "8e46be95-faf5-4cc5-8e36-522e98b2dd37"
      },
      "outputs": [
        {
          "data": {
            "text/plain": [
              "False"
            ]
          },
          "execution_count": 230,
          "metadata": {},
          "output_type": "execute_result"
        }
      ],
      "source": [
        "s5.startswith('are')"
      ]
    },
    {
      "cell_type": "code",
      "execution_count": null,
      "id": "ccd0e564",
      "metadata": {
        "id": "ccd0e564",
        "outputId": "9431800e-4889-4bd9-a5b3-c6ae7b80cea1"
      },
      "outputs": [
        {
          "data": {
            "text/plain": [
              "'We are learning Python'"
            ]
          },
          "execution_count": 231,
          "metadata": {},
          "output_type": "execute_result"
        }
      ],
      "source": [
        "s5"
      ]
    },
    {
      "cell_type": "markdown",
      "source": [
        "#### endswith"
      ],
      "metadata": {
        "id": "zTsDo4CqLDqL"
      },
      "id": "zTsDo4CqLDqL"
    },
    {
      "cell_type": "code",
      "execution_count": null,
      "id": "e4d441d6",
      "metadata": {
        "id": "e4d441d6",
        "outputId": "93a9a4e9-905b-4d95-acb0-7714c211d7c7"
      },
      "outputs": [
        {
          "data": {
            "text/plain": [
              "True"
            ]
          },
          "execution_count": 233,
          "metadata": {},
          "output_type": "execute_result"
        }
      ],
      "source": [
        "s5.endswith('Python')"
      ]
    },
    {
      "cell_type": "code",
      "execution_count": null,
      "id": "beffce3a",
      "metadata": {
        "id": "beffce3a",
        "outputId": "27b44112-4fac-4d65-940f-da68bc62bd63"
      },
      "outputs": [
        {
          "data": {
            "text/plain": [
              "True"
            ]
          },
          "execution_count": 234,
          "metadata": {},
          "output_type": "execute_result"
        }
      ],
      "source": [
        "s5.endswith('n')"
      ]
    },
    {
      "cell_type": "code",
      "execution_count": null,
      "id": "3c35ec21",
      "metadata": {
        "id": "3c35ec21",
        "outputId": "0c470fc8-96c3-4e78-e895-ea4fbba3d57a"
      },
      "outputs": [
        {
          "data": {
            "text/plain": [
              "False"
            ]
          },
          "execution_count": 235,
          "metadata": {},
          "output_type": "execute_result"
        }
      ],
      "source": [
        "s5.endswith('Py')"
      ]
    },
    {
      "cell_type": "code",
      "execution_count": null,
      "id": "e8e14b1d",
      "metadata": {
        "id": "e8e14b1d",
        "outputId": "7bbabd86-fd50-4065-9c51-03ee339881a5"
      },
      "outputs": [
        {
          "data": {
            "text/plain": [
              "'We are learning Python'"
            ]
          },
          "execution_count": 236,
          "metadata": {},
          "output_type": "execute_result"
        }
      ],
      "source": [
        "s5"
      ]
    },
    {
      "cell_type": "markdown",
      "source": [
        "#### String chnage the form\n",
        "Change to Upper\n",
        "\n",
        "Chnage to Lower\n",
        "\n",
        "Change to title\n",
        "\n",
        "Change to capitalize"
      ],
      "metadata": {
        "id": "Kpsp8JvkLKDQ"
      },
      "id": "Kpsp8JvkLKDQ"
    },
    {
      "cell_type": "code",
      "execution_count": null,
      "id": "151bb4a8",
      "metadata": {
        "id": "151bb4a8",
        "outputId": "05733277-c950-492e-93f5-eb59cdf45ee4"
      },
      "outputs": [
        {
          "data": {
            "text/plain": [
              "'WE ARE LEARNING PYTHON'"
            ]
          },
          "execution_count": 237,
          "metadata": {},
          "output_type": "execute_result"
        }
      ],
      "source": [
        "s5.upper()"
      ]
    },
    {
      "cell_type": "code",
      "execution_count": null,
      "id": "089a137c",
      "metadata": {
        "id": "089a137c",
        "outputId": "6fcc246d-42f1-420b-e121-a53cea34e76b"
      },
      "outputs": [
        {
          "data": {
            "text/plain": [
              "'we are learning python'"
            ]
          },
          "execution_count": 238,
          "metadata": {},
          "output_type": "execute_result"
        }
      ],
      "source": [
        "s5.lower()"
      ]
    },
    {
      "cell_type": "code",
      "execution_count": null,
      "id": "2aeada04",
      "metadata": {
        "id": "2aeada04",
        "outputId": "66176a3a-677c-4c04-d5df-339f3ad4a250"
      },
      "outputs": [
        {
          "data": {
            "text/plain": [
              "'We are learning Python'"
            ]
          },
          "execution_count": 239,
          "metadata": {},
          "output_type": "execute_result"
        }
      ],
      "source": [
        "s5"
      ]
    },
    {
      "cell_type": "code",
      "execution_count": null,
      "id": "ee6b6c1e",
      "metadata": {
        "id": "ee6b6c1e",
        "outputId": "1eebba88-de6d-4b4e-e0b2-96d6146c97f1"
      },
      "outputs": [
        {
          "data": {
            "text/plain": [
              "'PYTHON3.11'"
            ]
          },
          "execution_count": 240,
          "metadata": {},
          "output_type": "execute_result"
        }
      ],
      "source": [
        "'python3.11'.upper()  # will work if we have int / flot inbetween"
      ]
    },
    {
      "cell_type": "code",
      "execution_count": null,
      "id": "a2e0bb76",
      "metadata": {
        "id": "a2e0bb76",
        "outputId": "72c4fdb8-d225-44ed-ee7b-7aa9059a1471"
      },
      "outputs": [
        {
          "data": {
            "text/plain": [
              "'We are learning Python'"
            ]
          },
          "execution_count": 241,
          "metadata": {},
          "output_type": "execute_result"
        }
      ],
      "source": [
        "s5"
      ]
    },
    {
      "cell_type": "code",
      "execution_count": null,
      "id": "8526807b",
      "metadata": {
        "id": "8526807b",
        "outputId": "3778bdd9-21a4-4afa-a9e5-69baeb8228d9"
      },
      "outputs": [
        {
          "data": {
            "text/plain": [
              "'We Are Learning Python'"
            ]
          },
          "execution_count": 242,
          "metadata": {},
          "output_type": "execute_result"
        }
      ],
      "source": [
        "s5.title()"
      ]
    },
    {
      "cell_type": "code",
      "execution_count": null,
      "id": "535bb4e4",
      "metadata": {
        "id": "535bb4e4"
      },
      "outputs": [],
      "source": [
        "s6 = \"Python is GREAT!!!\""
      ]
    },
    {
      "cell_type": "code",
      "execution_count": null,
      "id": "a4f0e278",
      "metadata": {
        "id": "a4f0e278",
        "outputId": "a3cd50ed-30d3-4973-e517-2bc4cadf2419"
      },
      "outputs": [
        {
          "data": {
            "text/plain": [
              "'Python is GREAT!!!'"
            ]
          },
          "execution_count": 244,
          "metadata": {},
          "output_type": "execute_result"
        }
      ],
      "source": [
        "s6"
      ]
    },
    {
      "cell_type": "code",
      "execution_count": null,
      "id": "13263253",
      "metadata": {
        "id": "13263253",
        "outputId": "50c32e64-81ce-429f-bae4-cf82a63f919b"
      },
      "outputs": [
        {
          "data": {
            "text/plain": [
              "'Python Is Great!!!'"
            ]
          },
          "execution_count": 245,
          "metadata": {},
          "output_type": "execute_result"
        }
      ],
      "source": [
        "s6.title()"
      ]
    },
    {
      "cell_type": "code",
      "execution_count": null,
      "id": "71342fdc",
      "metadata": {
        "id": "71342fdc"
      },
      "outputs": [],
      "source": [
        "s7 = 'python is great'"
      ]
    },
    {
      "cell_type": "code",
      "execution_count": null,
      "id": "59fc536f",
      "metadata": {
        "id": "59fc536f",
        "outputId": "848f8b54-f35c-4d35-ccf3-2af55ba05dcd"
      },
      "outputs": [
        {
          "data": {
            "text/plain": [
              "'Python is great'"
            ]
          },
          "execution_count": 247,
          "metadata": {},
          "output_type": "execute_result"
        }
      ],
      "source": [
        "s7.capitalize()"
      ]
    },
    {
      "cell_type": "code",
      "execution_count": null,
      "id": "f2c28c50",
      "metadata": {
        "id": "f2c28c50"
      },
      "outputs": [],
      "source": [
        "s7 = 'python is GREAT'"
      ]
    },
    {
      "cell_type": "code",
      "execution_count": null,
      "id": "e8216fbd",
      "metadata": {
        "id": "e8216fbd",
        "outputId": "3764ce70-7b82-477a-d1ba-fdc646a1d08c"
      },
      "outputs": [
        {
          "data": {
            "text/plain": [
              "'Python is great'"
            ]
          },
          "execution_count": 249,
          "metadata": {},
          "output_type": "execute_result"
        }
      ],
      "source": [
        "s7.capitalize()"
      ]
    },
    {
      "cell_type": "code",
      "execution_count": null,
      "id": "d90678a3",
      "metadata": {
        "id": "d90678a3"
      },
      "outputs": [],
      "source": [
        "s8 = \"python is fun. are you learning it?\""
      ]
    },
    {
      "cell_type": "code",
      "execution_count": null,
      "id": "cfc65de7",
      "metadata": {
        "id": "cfc65de7",
        "outputId": "3bd45621-53f2-4655-8b4d-85fa6315964a"
      },
      "outputs": [
        {
          "data": {
            "text/plain": [
              "'python is fun. are you learning it?'"
            ]
          },
          "execution_count": 251,
          "metadata": {},
          "output_type": "execute_result"
        }
      ],
      "source": [
        "s8"
      ]
    },
    {
      "cell_type": "code",
      "execution_count": null,
      "id": "e466db60",
      "metadata": {
        "id": "e466db60",
        "outputId": "67eaf733-a16f-49fc-ecf3-4fa39c3642cd"
      },
      "outputs": [
        {
          "data": {
            "text/plain": [
              "'Python is fun. are you learning it?'"
            ]
          },
          "execution_count": 252,
          "metadata": {},
          "output_type": "execute_result"
        }
      ],
      "source": [
        "s8.capitalize()"
      ]
    },
    {
      "cell_type": "code",
      "execution_count": null,
      "id": "b456d45f",
      "metadata": {
        "id": "b456d45f",
        "outputId": "a0fc5d9f-157c-4dd6-cbd0-8c5d11c73125"
      },
      "outputs": [
        {
          "data": {
            "text/plain": [
              "'Python Is Fun. Are You Learning It?'"
            ]
          },
          "execution_count": 253,
          "metadata": {},
          "output_type": "execute_result"
        }
      ],
      "source": [
        "s8.title()"
      ]
    },
    {
      "cell_type": "code",
      "execution_count": null,
      "id": "1b0ee92e",
      "metadata": {
        "id": "1b0ee92e"
      },
      "outputs": [],
      "source": []
    }
  ],
  "metadata": {
    "kernelspec": {
      "display_name": "Python 3 (ipykernel)",
      "language": "python",
      "name": "python3"
    },
    "language_info": {
      "codemirror_mode": {
        "name": "ipython",
        "version": 3
      },
      "file_extension": ".py",
      "mimetype": "text/x-python",
      "name": "python",
      "nbconvert_exporter": "python",
      "pygments_lexer": "ipython3",
      "version": "3.9.7"
    },
    "colab": {
      "provenance": [],
      "include_colab_link": true
    }
  },
  "nbformat": 4,
  "nbformat_minor": 5
}