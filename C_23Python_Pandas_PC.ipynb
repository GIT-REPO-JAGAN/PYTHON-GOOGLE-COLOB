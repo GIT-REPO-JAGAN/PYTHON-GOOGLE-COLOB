{
  "cells": [
    {
      "cell_type": "markdown",
      "metadata": {
        "id": "view-in-github",
        "colab_type": "text"
      },
      "source": [
        "<a href=\"https://colab.research.google.com/github/GIT-REPO-JAGAN/PYTHON-GOOGLE-COLOB/blob/main/C_23Python_Pandas_PC.ipynb\" target=\"_parent\"><img src=\"https://colab.research.google.com/assets/colab-badge.svg\" alt=\"Open In Colab\"/></a>"
      ]
    },
    {
      "cell_type": "markdown",
      "id": "526d3d13-a851-4c2a-8e5b-a7b48810c7a3",
      "metadata": {
        "id": "526d3d13-a851-4c2a-8e5b-a7b48810c7a3"
      },
      "source": [
        "####import pandas as pd Reading excel as dataframe"
      ]
    },
    {
      "cell_type": "code",
      "execution_count": null,
      "id": "108136f4-feef-4a1d-87f3-e9f9a8b4c48e",
      "metadata": {
        "id": "108136f4-feef-4a1d-87f3-e9f9a8b4c48e"
      },
      "outputs": [],
      "source": [
        "import pandas as pd"
      ]
    },
    {
      "cell_type": "code",
      "execution_count": null,
      "id": "29ed535e-c407-4db2-9c77-4c431c5e1961",
      "metadata": {
        "id": "29ed535e-c407-4db2-9c77-4c431c5e1961"
      },
      "outputs": [],
      "source": [
        "shares_df = pd.read_excel('share_example.xlsx')"
      ]
    },
    {
      "cell_type": "code",
      "execution_count": null,
      "id": "82c2b820-6382-40c2-889e-f03a4e8b4082",
      "metadata": {
        "id": "82c2b820-6382-40c2-889e-f03a4e8b4082",
        "outputId": "e52c8f3f-f63a-4d2c-8531-22627044c1fc"
      },
      "outputs": [
        {
          "data": {
            "text/html": [
              "<div>\n",
              "<style scoped>\n",
              "    .dataframe tbody tr th:only-of-type {\n",
              "        vertical-align: middle;\n",
              "    }\n",
              "\n",
              "    .dataframe tbody tr th {\n",
              "        vertical-align: top;\n",
              "    }\n",
              "\n",
              "    .dataframe thead th {\n",
              "        text-align: right;\n",
              "    }\n",
              "</style>\n",
              "<table border=\"1\" class=\"dataframe\">\n",
              "  <thead>\n",
              "    <tr style=\"text-align: right;\">\n",
              "      <th></th>\n",
              "      <th>Date</th>\n",
              "      <th>A</th>\n",
              "      <th>B</th>\n",
              "      <th>C</th>\n",
              "      <th>D</th>\n",
              "      <th>E</th>\n",
              "    </tr>\n",
              "  </thead>\n",
              "  <tbody>\n",
              "    <tr>\n",
              "      <th>0</th>\n",
              "      <td>2022-01-20</td>\n",
              "      <td>99</td>\n",
              "      <td>20</td>\n",
              "      <td>45</td>\n",
              "      <td>56</td>\n",
              "      <td>2000</td>\n",
              "    </tr>\n",
              "    <tr>\n",
              "      <th>1</th>\n",
              "      <td>2022-01-21</td>\n",
              "      <td>98</td>\n",
              "      <td>19</td>\n",
              "      <td>47</td>\n",
              "      <td>55</td>\n",
              "      <td>1993</td>\n",
              "    </tr>\n",
              "    <tr>\n",
              "      <th>2</th>\n",
              "      <td>2022-01-22</td>\n",
              "      <td>95</td>\n",
              "      <td>19</td>\n",
              "      <td>50</td>\n",
              "      <td>60</td>\n",
              "      <td>1921</td>\n",
              "    </tr>\n",
              "    <tr>\n",
              "      <th>3</th>\n",
              "      <td>2022-01-23</td>\n",
              "      <td>101</td>\n",
              "      <td>22</td>\n",
              "      <td>56</td>\n",
              "      <td>61</td>\n",
              "      <td>1976</td>\n",
              "    </tr>\n",
              "    <tr>\n",
              "      <th>4</th>\n",
              "      <td>2022-01-24</td>\n",
              "      <td>103</td>\n",
              "      <td>22</td>\n",
              "      <td>55</td>\n",
              "      <td>65</td>\n",
              "      <td>2010</td>\n",
              "    </tr>\n",
              "  </tbody>\n",
              "</table>\n",
              "</div>"
            ],
            "text/plain": [
              "        Date    A  B    C   D     E\n",
              "0 2022-01-20   99  20  45  56  2000\n",
              "1 2022-01-21   98  19  47  55  1993\n",
              "2 2022-01-22   95  19  50  60  1921\n",
              "3 2022-01-23  101  22  56  61  1976\n",
              "4 2022-01-24  103  22  55  65  2010"
            ]
          },
          "execution_count": 5,
          "metadata": {},
          "output_type": "execute_result"
        }
      ],
      "source": [
        "shares_df"
      ]
    },
    {
      "cell_type": "code",
      "execution_count": null,
      "id": "fc278277-cece-413a-b519-ec30a5aa2ffc",
      "metadata": {
        "id": "fc278277-cece-413a-b519-ec30a5aa2ffc",
        "outputId": "25300755-c84f-4849-8d97-1b756d5c29a3"
      },
      "outputs": [
        {
          "data": {
            "text/plain": [
              "RangeIndex(start=0, stop=5, step=1)"
            ]
          },
          "execution_count": 6,
          "metadata": {},
          "output_type": "execute_result"
        }
      ],
      "source": [
        "shares_df.index"
      ]
    },
    {
      "cell_type": "code",
      "execution_count": null,
      "id": "7a1e801d-f3a7-43c9-99aa-9f2a51b25bbe",
      "metadata": {
        "id": "7a1e801d-f3a7-43c9-99aa-9f2a51b25bbe",
        "outputId": "7e9fae58-bc2c-48ce-a8ca-6a7fa1b7e2f3"
      },
      "outputs": [
        {
          "data": {
            "text/plain": [
              "Index(['Date', 'A', 'B ', 'C', 'D', 'E'], dtype='object')"
            ]
          },
          "execution_count": 7,
          "metadata": {},
          "output_type": "execute_result"
        }
      ],
      "source": [
        "shares_df.columns"
      ]
    },
    {
      "cell_type": "code",
      "execution_count": null,
      "id": "1bb07f97-df27-422e-b50f-c6ec98abf156",
      "metadata": {
        "id": "1bb07f97-df27-422e-b50f-c6ec98abf156",
        "outputId": "53cc7342-e3b7-40a9-8901-0b016374d007"
      },
      "outputs": [
        {
          "data": {
            "text/plain": [
              "array([[Timestamp('2022-01-20 00:00:00'), 99, 20, 45, 56, 2000],\n",
              "       [Timestamp('2022-01-21 00:00:00'), 98, 19, 47, 55, 1993],\n",
              "       [Timestamp('2022-01-22 00:00:00'), 95, 19, 50, 60, 1921],\n",
              "       [Timestamp('2022-01-23 00:00:00'), 101, 22, 56, 61, 1976],\n",
              "       [Timestamp('2022-01-24 00:00:00'), 103, 22, 55, 65, 2010]],\n",
              "      dtype=object)"
            ]
          },
          "execution_count": 8,
          "metadata": {},
          "output_type": "execute_result"
        }
      ],
      "source": [
        "shares_df.values"
      ]
    },
    {
      "cell_type": "code",
      "execution_count": null,
      "id": "8b94ed8e-f856-4b4b-ae7e-bb02de47eff4",
      "metadata": {
        "id": "8b94ed8e-f856-4b4b-ae7e-bb02de47eff4",
        "outputId": "97101306-166f-4353-d063-0a8a11e6dc70"
      },
      "outputs": [
        {
          "data": {
            "text/plain": [
              "Timestamp('2022-01-20 00:00:00')"
            ]
          },
          "execution_count": 9,
          "metadata": {},
          "output_type": "execute_result"
        }
      ],
      "source": [
        "shares_df['Date'].loc[0]"
      ]
    },
    {
      "cell_type": "code",
      "execution_count": null,
      "id": "097d4889-4c36-45d1-91f2-e5c6a3ba34f3",
      "metadata": {
        "id": "097d4889-4c36-45d1-91f2-e5c6a3ba34f3",
        "outputId": "5e6d4d83-3c09-44ed-f562-cc93e8cac23a"
      },
      "outputs": [
        {
          "data": {
            "text/plain": [
              "pandas._libs.tslibs.timestamps.Timestamp"
            ]
          },
          "execution_count": 10,
          "metadata": {},
          "output_type": "execute_result"
        }
      ],
      "source": [
        "type(shares_df['Date'].loc[0])"
      ]
    },
    {
      "cell_type": "markdown",
      "id": "8d313601-60a8-42cf-8ef2-f2de0f46f7be",
      "metadata": {
        "id": "8d313601-60a8-42cf-8ef2-f2de0f46f7be"
      },
      "source": [
        "#### stack"
      ]
    },
    {
      "cell_type": "code",
      "execution_count": null,
      "id": "e918d2ec-15a3-42a0-ad41-951981cd324a",
      "metadata": {
        "id": "e918d2ec-15a3-42a0-ad41-951981cd324a",
        "outputId": "215b797b-fed4-45ff-b53c-42141575fcdf"
      },
      "outputs": [
        {
          "data": {
            "text/html": [
              "<div>\n",
              "<style scoped>\n",
              "    .dataframe tbody tr th:only-of-type {\n",
              "        vertical-align: middle;\n",
              "    }\n",
              "\n",
              "    .dataframe tbody tr th {\n",
              "        vertical-align: top;\n",
              "    }\n",
              "\n",
              "    .dataframe thead th {\n",
              "        text-align: right;\n",
              "    }\n",
              "</style>\n",
              "<table border=\"1\" class=\"dataframe\">\n",
              "  <thead>\n",
              "    <tr style=\"text-align: right;\">\n",
              "      <th></th>\n",
              "      <th>Date</th>\n",
              "      <th>A</th>\n",
              "      <th>B</th>\n",
              "      <th>C</th>\n",
              "      <th>D</th>\n",
              "      <th>E</th>\n",
              "    </tr>\n",
              "  </thead>\n",
              "  <tbody>\n",
              "    <tr>\n",
              "      <th>0</th>\n",
              "      <td>2022-01-20</td>\n",
              "      <td>99</td>\n",
              "      <td>20</td>\n",
              "      <td>45</td>\n",
              "      <td>56</td>\n",
              "      <td>2000</td>\n",
              "    </tr>\n",
              "    <tr>\n",
              "      <th>1</th>\n",
              "      <td>2022-01-21</td>\n",
              "      <td>98</td>\n",
              "      <td>19</td>\n",
              "      <td>47</td>\n",
              "      <td>55</td>\n",
              "      <td>1993</td>\n",
              "    </tr>\n",
              "    <tr>\n",
              "      <th>2</th>\n",
              "      <td>2022-01-22</td>\n",
              "      <td>95</td>\n",
              "      <td>19</td>\n",
              "      <td>50</td>\n",
              "      <td>60</td>\n",
              "      <td>1921</td>\n",
              "    </tr>\n",
              "    <tr>\n",
              "      <th>3</th>\n",
              "      <td>2022-01-23</td>\n",
              "      <td>101</td>\n",
              "      <td>22</td>\n",
              "      <td>56</td>\n",
              "      <td>61</td>\n",
              "      <td>1976</td>\n",
              "    </tr>\n",
              "    <tr>\n",
              "      <th>4</th>\n",
              "      <td>2022-01-24</td>\n",
              "      <td>103</td>\n",
              "      <td>22</td>\n",
              "      <td>55</td>\n",
              "      <td>65</td>\n",
              "      <td>2010</td>\n",
              "    </tr>\n",
              "  </tbody>\n",
              "</table>\n",
              "</div>"
            ],
            "text/plain": [
              "        Date    A  B    C   D     E\n",
              "0 2022-01-20   99  20  45  56  2000\n",
              "1 2022-01-21   98  19  47  55  1993\n",
              "2 2022-01-22   95  19  50  60  1921\n",
              "3 2022-01-23  101  22  56  61  1976\n",
              "4 2022-01-24  103  22  55  65  2010"
            ]
          },
          "execution_count": 11,
          "metadata": {},
          "output_type": "execute_result"
        }
      ],
      "source": [
        "shares_df"
      ]
    },
    {
      "cell_type": "code",
      "execution_count": null,
      "id": "d735dfc3-8f4f-4515-9968-f2c36a5c1172",
      "metadata": {
        "id": "d735dfc3-8f4f-4515-9968-f2c36a5c1172",
        "outputId": "5465ba13-00ac-46dc-bbf3-2a7ce02fba0b"
      },
      "outputs": [
        {
          "data": {
            "text/plain": [
              "0  Date    2022-01-20 00:00:00\n",
              "   A                        99\n",
              "   B                        20\n",
              "   C                        45\n",
              "   D                        56\n",
              "   E                      2000\n",
              "1  Date    2022-01-21 00:00:00\n",
              "   A                        98\n",
              "   B                        19\n",
              "   C                        47\n",
              "   D                        55\n",
              "   E                      1993\n",
              "2  Date    2022-01-22 00:00:00\n",
              "   A                        95\n",
              "   B                        19\n",
              "   C                        50\n",
              "   D                        60\n",
              "   E                      1921\n",
              "3  Date    2022-01-23 00:00:00\n",
              "   A                       101\n",
              "   B                        22\n",
              "   C                        56\n",
              "   D                        61\n",
              "   E                      1976\n",
              "4  Date    2022-01-24 00:00:00\n",
              "   A                       103\n",
              "   B                        22\n",
              "   C                        55\n",
              "   D                        65\n",
              "   E                      2010\n",
              "dtype: object"
            ]
          },
          "execution_count": 13,
          "metadata": {},
          "output_type": "execute_result"
        }
      ],
      "source": [
        "shares_stacked = shares_df.stack()\n",
        "shares_stacked"
      ]
    },
    {
      "cell_type": "code",
      "execution_count": null,
      "id": "65f769ed-da6a-4754-a12c-d1ce049d64c6",
      "metadata": {
        "id": "65f769ed-da6a-4754-a12c-d1ce049d64c6",
        "outputId": "1e938107-2f1b-4f04-bb33-fb85e5a3959a"
      },
      "outputs": [
        {
          "data": {
            "text/plain": [
              "pandas.core.series.Series"
            ]
          },
          "execution_count": 14,
          "metadata": {},
          "output_type": "execute_result"
        }
      ],
      "source": [
        "type(shares_stacked)"
      ]
    },
    {
      "cell_type": "code",
      "execution_count": null,
      "id": "ade40060-a867-4717-b628-a42f8cfec29c",
      "metadata": {
        "id": "ade40060-a867-4717-b628-a42f8cfec29c",
        "outputId": "0f309938-d204-4ac0-acb7-0c9016bc61eb"
      },
      "outputs": [
        {
          "data": {
            "text/plain": [
              "MultiIndex([(0, 'Date'),\n",
              "            (0,    'A'),\n",
              "            (0,   'B '),\n",
              "            (0,    'C'),\n",
              "            (0,    'D'),\n",
              "            (0,    'E'),\n",
              "            (1, 'Date'),\n",
              "            (1,    'A'),\n",
              "            (1,   'B '),\n",
              "            (1,    'C'),\n",
              "            (1,    'D'),\n",
              "            (1,    'E'),\n",
              "            (2, 'Date'),\n",
              "            (2,    'A'),\n",
              "            (2,   'B '),\n",
              "            (2,    'C'),\n",
              "            (2,    'D'),\n",
              "            (2,    'E'),\n",
              "            (3, 'Date'),\n",
              "            (3,    'A'),\n",
              "            (3,   'B '),\n",
              "            (3,    'C'),\n",
              "            (3,    'D'),\n",
              "            (3,    'E'),\n",
              "            (4, 'Date'),\n",
              "            (4,    'A'),\n",
              "            (4,   'B '),\n",
              "            (4,    'C'),\n",
              "            (4,    'D'),\n",
              "            (4,    'E')],\n",
              "           )"
            ]
          },
          "execution_count": 15,
          "metadata": {},
          "output_type": "execute_result"
        }
      ],
      "source": [
        "shares_stacked.index"
      ]
    },
    {
      "cell_type": "code",
      "execution_count": null,
      "id": "86bcb11f-d920-4a09-8331-986978b3c8fd",
      "metadata": {
        "id": "86bcb11f-d920-4a09-8331-986978b3c8fd",
        "outputId": "694ce78a-552a-4cf0-b849-88727833bd84"
      },
      "outputs": [
        {
          "data": {
            "text/plain": [
              "array([Timestamp('2022-01-20 00:00:00'), 99, 20, 45, 56, 2000,\n",
              "       Timestamp('2022-01-21 00:00:00'), 98, 19, 47, 55, 1993,\n",
              "       Timestamp('2022-01-22 00:00:00'), 95, 19, 50, 60, 1921,\n",
              "       Timestamp('2022-01-23 00:00:00'), 101, 22, 56, 61, 1976,\n",
              "       Timestamp('2022-01-24 00:00:00'), 103, 22, 55, 65, 2010],\n",
              "      dtype=object)"
            ]
          },
          "execution_count": 16,
          "metadata": {},
          "output_type": "execute_result"
        }
      ],
      "source": [
        "shares_stacked.values"
      ]
    },
    {
      "cell_type": "code",
      "execution_count": null,
      "id": "40df2443-de41-42c4-ba8f-c79b0c61be72",
      "metadata": {
        "id": "40df2443-de41-42c4-ba8f-c79b0c61be72",
        "outputId": "2264cfae-5859-4527-ae66-1ae8c94d93c2"
      },
      "outputs": [
        {
          "data": {
            "text/plain": [
              "55"
            ]
          },
          "execution_count": 17,
          "metadata": {},
          "output_type": "execute_result"
        }
      ],
      "source": [
        "shares_stacked[(1, 'D')]"
      ]
    },
    {
      "cell_type": "code",
      "execution_count": null,
      "id": "05f8b07c-1965-456a-8b0c-09c714e7e48f",
      "metadata": {
        "id": "05f8b07c-1965-456a-8b0c-09c714e7e48f",
        "outputId": "4302dd6a-fa0f-4e12-8a5d-5445448a5f9b"
      },
      "outputs": [
        {
          "data": {
            "text/html": [
              "<div>\n",
              "<style scoped>\n",
              "    .dataframe tbody tr th:only-of-type {\n",
              "        vertical-align: middle;\n",
              "    }\n",
              "\n",
              "    .dataframe tbody tr th {\n",
              "        vertical-align: top;\n",
              "    }\n",
              "\n",
              "    .dataframe thead th {\n",
              "        text-align: right;\n",
              "    }\n",
              "</style>\n",
              "<table border=\"1\" class=\"dataframe\">\n",
              "  <thead>\n",
              "    <tr style=\"text-align: right;\">\n",
              "      <th></th>\n",
              "      <th>Date</th>\n",
              "      <th>A</th>\n",
              "      <th>B</th>\n",
              "      <th>C</th>\n",
              "      <th>D</th>\n",
              "      <th>E</th>\n",
              "    </tr>\n",
              "  </thead>\n",
              "  <tbody>\n",
              "    <tr>\n",
              "      <th>0</th>\n",
              "      <td>2022-01-20</td>\n",
              "      <td>99</td>\n",
              "      <td>20</td>\n",
              "      <td>45</td>\n",
              "      <td>56</td>\n",
              "      <td>2000</td>\n",
              "    </tr>\n",
              "    <tr>\n",
              "      <th>1</th>\n",
              "      <td>2022-01-21</td>\n",
              "      <td>98</td>\n",
              "      <td>19</td>\n",
              "      <td>47</td>\n",
              "      <td>55</td>\n",
              "      <td>1993</td>\n",
              "    </tr>\n",
              "    <tr>\n",
              "      <th>2</th>\n",
              "      <td>2022-01-22</td>\n",
              "      <td>95</td>\n",
              "      <td>19</td>\n",
              "      <td>50</td>\n",
              "      <td>60</td>\n",
              "      <td>1921</td>\n",
              "    </tr>\n",
              "    <tr>\n",
              "      <th>3</th>\n",
              "      <td>2022-01-23</td>\n",
              "      <td>101</td>\n",
              "      <td>22</td>\n",
              "      <td>56</td>\n",
              "      <td>61</td>\n",
              "      <td>1976</td>\n",
              "    </tr>\n",
              "    <tr>\n",
              "      <th>4</th>\n",
              "      <td>2022-01-24</td>\n",
              "      <td>103</td>\n",
              "      <td>22</td>\n",
              "      <td>55</td>\n",
              "      <td>65</td>\n",
              "      <td>2010</td>\n",
              "    </tr>\n",
              "  </tbody>\n",
              "</table>\n",
              "</div>"
            ],
            "text/plain": [
              "        Date    A  B    C   D     E\n",
              "0 2022-01-20   99  20  45  56  2000\n",
              "1 2022-01-21   98  19  47  55  1993\n",
              "2 2022-01-22   95  19  50  60  1921\n",
              "3 2022-01-23  101  22  56  61  1976\n",
              "4 2022-01-24  103  22  55  65  2010"
            ]
          },
          "execution_count": 18,
          "metadata": {},
          "output_type": "execute_result"
        }
      ],
      "source": [
        "shares_df"
      ]
    },
    {
      "cell_type": "code",
      "execution_count": null,
      "id": "7067338b-38eb-4ba0-aa4c-1127876915aa",
      "metadata": {
        "id": "7067338b-38eb-4ba0-aa4c-1127876915aa",
        "outputId": "b540d02e-2760-416f-dec7-c2ec9c87bd7a"
      },
      "outputs": [
        {
          "data": {
            "text/plain": [
              "55"
            ]
          },
          "execution_count": 19,
          "metadata": {},
          "output_type": "execute_result"
        }
      ],
      "source": [
        "shares_df['D'].loc[1]"
      ]
    },
    {
      "cell_type": "code",
      "execution_count": null,
      "id": "fdb970af-e57a-40a6-8411-19b47f936db5",
      "metadata": {
        "id": "fdb970af-e57a-40a6-8411-19b47f936db5"
      },
      "outputs": [],
      "source": [
        "data = {'company': ['A', 'B', 'C', 'C', 'B', 'B', 'A', 'D', 'D'],\n",
        "       'year': [2019, 2018, 2018, 2019, 2019, 2020, 2018, 2018, 2019],\n",
        "       'sales': [100, 89, 70, 85, 67, 110, 76, 56, 71],\n",
        "       'profits': [11, 9, 4, 17, 20, -10, 7, 7, 18]}"
      ]
    },
    {
      "cell_type": "code",
      "execution_count": null,
      "id": "1949a3ad-3285-4af9-9b38-b99e59f62fdd",
      "metadata": {
        "id": "1949a3ad-3285-4af9-9b38-b99e59f62fdd",
        "outputId": "ffaa12df-9d42-4b0c-892f-06364bd9aea2"
      },
      "outputs": [
        {
          "data": {
            "text/plain": [
              "{'company': ['A', 'B', 'C', 'C', 'B', 'B', 'A', 'D', 'D'],\n",
              " 'year': [2019, 2018, 2018, 2019, 2019, 2020, 2018, 2018, 2019],\n",
              " 'sales': [100, 89, 70, 85, 67, 110, 76, 56, 71],\n",
              " 'profits': [11, 9, 4, 17, 20, -10, 7, 7, 18]}"
            ]
          },
          "execution_count": 21,
          "metadata": {},
          "output_type": "execute_result"
        }
      ],
      "source": [
        "data"
      ]
    },
    {
      "cell_type": "code",
      "execution_count": null,
      "id": "dde882e1-ec19-4fb6-874f-a89cbc5a074f",
      "metadata": {
        "id": "dde882e1-ec19-4fb6-874f-a89cbc5a074f"
      },
      "outputs": [],
      "source": [
        "df = pd.DataFrame(data)"
      ]
    },
    {
      "cell_type": "code",
      "execution_count": null,
      "id": "d409cda6-cae2-4c29-b33a-ea68c08978f5",
      "metadata": {
        "id": "d409cda6-cae2-4c29-b33a-ea68c08978f5",
        "outputId": "a0b77f4e-b727-4e62-fb79-762061ac60da"
      },
      "outputs": [
        {
          "data": {
            "text/html": [
              "<div>\n",
              "<style scoped>\n",
              "    .dataframe tbody tr th:only-of-type {\n",
              "        vertical-align: middle;\n",
              "    }\n",
              "\n",
              "    .dataframe tbody tr th {\n",
              "        vertical-align: top;\n",
              "    }\n",
              "\n",
              "    .dataframe thead th {\n",
              "        text-align: right;\n",
              "    }\n",
              "</style>\n",
              "<table border=\"1\" class=\"dataframe\">\n",
              "  <thead>\n",
              "    <tr style=\"text-align: right;\">\n",
              "      <th></th>\n",
              "      <th>company</th>\n",
              "      <th>year</th>\n",
              "      <th>sales</th>\n",
              "      <th>profits</th>\n",
              "    </tr>\n",
              "  </thead>\n",
              "  <tbody>\n",
              "    <tr>\n",
              "      <th>0</th>\n",
              "      <td>A</td>\n",
              "      <td>2019</td>\n",
              "      <td>100</td>\n",
              "      <td>11</td>\n",
              "    </tr>\n",
              "    <tr>\n",
              "      <th>1</th>\n",
              "      <td>B</td>\n",
              "      <td>2018</td>\n",
              "      <td>89</td>\n",
              "      <td>9</td>\n",
              "    </tr>\n",
              "    <tr>\n",
              "      <th>2</th>\n",
              "      <td>C</td>\n",
              "      <td>2018</td>\n",
              "      <td>70</td>\n",
              "      <td>4</td>\n",
              "    </tr>\n",
              "    <tr>\n",
              "      <th>3</th>\n",
              "      <td>C</td>\n",
              "      <td>2019</td>\n",
              "      <td>85</td>\n",
              "      <td>17</td>\n",
              "    </tr>\n",
              "    <tr>\n",
              "      <th>4</th>\n",
              "      <td>B</td>\n",
              "      <td>2019</td>\n",
              "      <td>67</td>\n",
              "      <td>20</td>\n",
              "    </tr>\n",
              "    <tr>\n",
              "      <th>5</th>\n",
              "      <td>B</td>\n",
              "      <td>2020</td>\n",
              "      <td>110</td>\n",
              "      <td>-10</td>\n",
              "    </tr>\n",
              "    <tr>\n",
              "      <th>6</th>\n",
              "      <td>A</td>\n",
              "      <td>2018</td>\n",
              "      <td>76</td>\n",
              "      <td>7</td>\n",
              "    </tr>\n",
              "    <tr>\n",
              "      <th>7</th>\n",
              "      <td>D</td>\n",
              "      <td>2018</td>\n",
              "      <td>56</td>\n",
              "      <td>7</td>\n",
              "    </tr>\n",
              "    <tr>\n",
              "      <th>8</th>\n",
              "      <td>D</td>\n",
              "      <td>2019</td>\n",
              "      <td>71</td>\n",
              "      <td>18</td>\n",
              "    </tr>\n",
              "  </tbody>\n",
              "</table>\n",
              "</div>"
            ],
            "text/plain": [
              "  company  year  sales  profits\n",
              "0       A  2019    100       11\n",
              "1       B  2018     89        9\n",
              "2       C  2018     70        4\n",
              "3       C  2019     85       17\n",
              "4       B  2019     67       20\n",
              "5       B  2020    110      -10\n",
              "6       A  2018     76        7\n",
              "7       D  2018     56        7\n",
              "8       D  2019     71       18"
            ]
          },
          "execution_count": 23,
          "metadata": {},
          "output_type": "execute_result"
        }
      ],
      "source": [
        "df"
      ]
    },
    {
      "cell_type": "code",
      "execution_count": null,
      "id": "7474c3dd-31b9-4319-a52f-8a69de0b3e6b",
      "metadata": {
        "id": "7474c3dd-31b9-4319-a52f-8a69de0b3e6b",
        "outputId": "622150af-c650-4102-9bb0-1984587fc4cc"
      },
      "outputs": [
        {
          "data": {
            "text/plain": [
              "Index(['company', 'year', 'sales', 'profits'], dtype='object')"
            ]
          },
          "execution_count": 24,
          "metadata": {},
          "output_type": "execute_result"
        }
      ],
      "source": [
        "df.columns"
      ]
    },
    {
      "cell_type": "code",
      "execution_count": null,
      "id": "65345054-97d7-46e0-97b0-5681ea0a401e",
      "metadata": {
        "id": "65345054-97d7-46e0-97b0-5681ea0a401e",
        "outputId": "85cc30e2-847d-48e8-b881-9008a8729e08"
      },
      "outputs": [
        {
          "data": {
            "text/plain": [
              "RangeIndex(start=0, stop=9, step=1)"
            ]
          },
          "execution_count": 25,
          "metadata": {},
          "output_type": "execute_result"
        }
      ],
      "source": [
        "df.index"
      ]
    },
    {
      "cell_type": "code",
      "execution_count": null,
      "id": "fce6bf77-4420-4f69-89b6-e646c136cdfd",
      "metadata": {
        "id": "fce6bf77-4420-4f69-89b6-e646c136cdfd",
        "outputId": "c56aca99-0110-43af-baba-87c9b20ed24d"
      },
      "outputs": [
        {
          "data": {
            "text/plain": [
              "array([['A', 2019, 100, 11],\n",
              "       ['B', 2018, 89, 9],\n",
              "       ['C', 2018, 70, 4],\n",
              "       ['C', 2019, 85, 17],\n",
              "       ['B', 2019, 67, 20],\n",
              "       ['B', 2020, 110, -10],\n",
              "       ['A', 2018, 76, 7],\n",
              "       ['D', 2018, 56, 7],\n",
              "       ['D', 2019, 71, 18]], dtype=object)"
            ]
          },
          "execution_count": 26,
          "metadata": {},
          "output_type": "execute_result"
        }
      ],
      "source": [
        "df.values"
      ]
    },
    {
      "cell_type": "code",
      "execution_count": null,
      "id": "e33819bf-0f05-4d05-a026-0e647855c794",
      "metadata": {
        "id": "e33819bf-0f05-4d05-a026-0e647855c794",
        "outputId": "55d8a79f-344c-43d3-cd9f-e9efa780e92b"
      },
      "outputs": [
        {
          "data": {
            "text/html": [
              "<div>\n",
              "<style scoped>\n",
              "    .dataframe tbody tr th:only-of-type {\n",
              "        vertical-align: middle;\n",
              "    }\n",
              "\n",
              "    .dataframe tbody tr th {\n",
              "        vertical-align: top;\n",
              "    }\n",
              "\n",
              "    .dataframe thead th {\n",
              "        text-align: right;\n",
              "    }\n",
              "</style>\n",
              "<table border=\"1\" class=\"dataframe\">\n",
              "  <thead>\n",
              "    <tr style=\"text-align: right;\">\n",
              "      <th></th>\n",
              "      <th>company</th>\n",
              "      <th>year</th>\n",
              "      <th>sales</th>\n",
              "      <th>profits</th>\n",
              "    </tr>\n",
              "  </thead>\n",
              "  <tbody>\n",
              "    <tr>\n",
              "      <th>0</th>\n",
              "      <td>A</td>\n",
              "      <td>2019</td>\n",
              "      <td>100</td>\n",
              "      <td>11</td>\n",
              "    </tr>\n",
              "    <tr>\n",
              "      <th>1</th>\n",
              "      <td>B</td>\n",
              "      <td>2018</td>\n",
              "      <td>89</td>\n",
              "      <td>9</td>\n",
              "    </tr>\n",
              "    <tr>\n",
              "      <th>2</th>\n",
              "      <td>C</td>\n",
              "      <td>2018</td>\n",
              "      <td>70</td>\n",
              "      <td>4</td>\n",
              "    </tr>\n",
              "    <tr>\n",
              "      <th>3</th>\n",
              "      <td>C</td>\n",
              "      <td>2019</td>\n",
              "      <td>85</td>\n",
              "      <td>17</td>\n",
              "    </tr>\n",
              "    <tr>\n",
              "      <th>4</th>\n",
              "      <td>B</td>\n",
              "      <td>2019</td>\n",
              "      <td>67</td>\n",
              "      <td>20</td>\n",
              "    </tr>\n",
              "    <tr>\n",
              "      <th>5</th>\n",
              "      <td>B</td>\n",
              "      <td>2020</td>\n",
              "      <td>110</td>\n",
              "      <td>-10</td>\n",
              "    </tr>\n",
              "    <tr>\n",
              "      <th>6</th>\n",
              "      <td>A</td>\n",
              "      <td>2018</td>\n",
              "      <td>76</td>\n",
              "      <td>7</td>\n",
              "    </tr>\n",
              "    <tr>\n",
              "      <th>7</th>\n",
              "      <td>D</td>\n",
              "      <td>2018</td>\n",
              "      <td>56</td>\n",
              "      <td>7</td>\n",
              "    </tr>\n",
              "    <tr>\n",
              "      <th>8</th>\n",
              "      <td>D</td>\n",
              "      <td>2019</td>\n",
              "      <td>71</td>\n",
              "      <td>18</td>\n",
              "    </tr>\n",
              "  </tbody>\n",
              "</table>\n",
              "</div>"
            ],
            "text/plain": [
              "  company  year  sales  profits\n",
              "0       A  2019    100       11\n",
              "1       B  2018     89        9\n",
              "2       C  2018     70        4\n",
              "3       C  2019     85       17\n",
              "4       B  2019     67       20\n",
              "5       B  2020    110      -10\n",
              "6       A  2018     76        7\n",
              "7       D  2018     56        7\n",
              "8       D  2019     71       18"
            ]
          },
          "execution_count": 27,
          "metadata": {},
          "output_type": "execute_result"
        }
      ],
      "source": [
        "df"
      ]
    },
    {
      "cell_type": "code",
      "execution_count": null,
      "id": "20ee3b5f-8ae8-4dc1-b85c-0775508cc4b2",
      "metadata": {
        "id": "20ee3b5f-8ae8-4dc1-b85c-0775508cc4b2",
        "outputId": "e5d6b2d7-778d-4340-ce79-0547676a94ec"
      },
      "outputs": [
        {
          "data": {
            "text/plain": [
              "array(['A', 'B', 'C', 'D'], dtype=object)"
            ]
          },
          "execution_count": 28,
          "metadata": {},
          "output_type": "execute_result"
        }
      ],
      "source": [
        "df['company'].unique()"
      ]
    },
    {
      "cell_type": "code",
      "execution_count": null,
      "id": "75cf982a-62a1-4095-ab86-d98c74740ba2",
      "metadata": {
        "id": "75cf982a-62a1-4095-ab86-d98c74740ba2",
        "outputId": "17fa5f21-7a70-42de-877b-9b77b5711063"
      },
      "outputs": [
        {
          "data": {
            "text/plain": [
              "array([2019, 2018, 2020], dtype=int64)"
            ]
          },
          "execution_count": 29,
          "metadata": {},
          "output_type": "execute_result"
        }
      ],
      "source": [
        "df['year'].unique()"
      ]
    },
    {
      "cell_type": "code",
      "execution_count": null,
      "id": "090cc41a-30ad-41e6-a729-62826ffb5c0b",
      "metadata": {
        "id": "090cc41a-30ad-41e6-a729-62826ffb5c0b",
        "outputId": "9f96a08a-eaaf-4c3b-bbdc-cc51c3d67046"
      },
      "outputs": [
        {
          "data": {
            "text/html": [
              "<div>\n",
              "<style scoped>\n",
              "    .dataframe tbody tr th:only-of-type {\n",
              "        vertical-align: middle;\n",
              "    }\n",
              "\n",
              "    .dataframe tbody tr th {\n",
              "        vertical-align: top;\n",
              "    }\n",
              "\n",
              "    .dataframe thead th {\n",
              "        text-align: right;\n",
              "    }\n",
              "</style>\n",
              "<table border=\"1\" class=\"dataframe\">\n",
              "  <thead>\n",
              "    <tr style=\"text-align: right;\">\n",
              "      <th></th>\n",
              "      <th>company</th>\n",
              "      <th>year</th>\n",
              "      <th>sales</th>\n",
              "      <th>profits</th>\n",
              "    </tr>\n",
              "  </thead>\n",
              "  <tbody>\n",
              "    <tr>\n",
              "      <th>0</th>\n",
              "      <td>A</td>\n",
              "      <td>2019</td>\n",
              "      <td>100</td>\n",
              "      <td>11</td>\n",
              "    </tr>\n",
              "    <tr>\n",
              "      <th>1</th>\n",
              "      <td>B</td>\n",
              "      <td>2018</td>\n",
              "      <td>89</td>\n",
              "      <td>9</td>\n",
              "    </tr>\n",
              "    <tr>\n",
              "      <th>2</th>\n",
              "      <td>C</td>\n",
              "      <td>2018</td>\n",
              "      <td>70</td>\n",
              "      <td>4</td>\n",
              "    </tr>\n",
              "    <tr>\n",
              "      <th>3</th>\n",
              "      <td>C</td>\n",
              "      <td>2019</td>\n",
              "      <td>85</td>\n",
              "      <td>17</td>\n",
              "    </tr>\n",
              "    <tr>\n",
              "      <th>4</th>\n",
              "      <td>B</td>\n",
              "      <td>2019</td>\n",
              "      <td>67</td>\n",
              "      <td>20</td>\n",
              "    </tr>\n",
              "    <tr>\n",
              "      <th>5</th>\n",
              "      <td>B</td>\n",
              "      <td>2020</td>\n",
              "      <td>110</td>\n",
              "      <td>-10</td>\n",
              "    </tr>\n",
              "    <tr>\n",
              "      <th>6</th>\n",
              "      <td>A</td>\n",
              "      <td>2018</td>\n",
              "      <td>76</td>\n",
              "      <td>7</td>\n",
              "    </tr>\n",
              "    <tr>\n",
              "      <th>7</th>\n",
              "      <td>D</td>\n",
              "      <td>2018</td>\n",
              "      <td>56</td>\n",
              "      <td>7</td>\n",
              "    </tr>\n",
              "    <tr>\n",
              "      <th>8</th>\n",
              "      <td>D</td>\n",
              "      <td>2019</td>\n",
              "      <td>71</td>\n",
              "      <td>18</td>\n",
              "    </tr>\n",
              "  </tbody>\n",
              "</table>\n",
              "</div>"
            ],
            "text/plain": [
              "  company  year  sales  profits\n",
              "0       A  2019    100       11\n",
              "1       B  2018     89        9\n",
              "2       C  2018     70        4\n",
              "3       C  2019     85       17\n",
              "4       B  2019     67       20\n",
              "5       B  2020    110      -10\n",
              "6       A  2018     76        7\n",
              "7       D  2018     56        7\n",
              "8       D  2019     71       18"
            ]
          },
          "execution_count": 30,
          "metadata": {},
          "output_type": "execute_result"
        }
      ],
      "source": [
        "df"
      ]
    },
    {
      "cell_type": "code",
      "execution_count": null,
      "id": "88efb75e-eafb-45c7-8441-2c64aa3c26f8",
      "metadata": {
        "id": "88efb75e-eafb-45c7-8441-2c64aa3c26f8",
        "outputId": "7b792021-2240-48c3-a89d-6501eadd0e63"
      },
      "outputs": [
        {
          "data": {
            "text/html": [
              "<div>\n",
              "<style scoped>\n",
              "    .dataframe tbody tr th:only-of-type {\n",
              "        vertical-align: middle;\n",
              "    }\n",
              "\n",
              "    .dataframe tbody tr th {\n",
              "        vertical-align: top;\n",
              "    }\n",
              "\n",
              "    .dataframe thead th {\n",
              "        text-align: right;\n",
              "    }\n",
              "</style>\n",
              "<table border=\"1\" class=\"dataframe\">\n",
              "  <thead>\n",
              "    <tr style=\"text-align: right;\">\n",
              "      <th></th>\n",
              "      <th>company</th>\n",
              "      <th>year</th>\n",
              "      <th>sales</th>\n",
              "      <th>profits</th>\n",
              "    </tr>\n",
              "  </thead>\n",
              "  <tbody>\n",
              "    <tr>\n",
              "      <th>1</th>\n",
              "      <td>B</td>\n",
              "      <td>2018</td>\n",
              "      <td>89</td>\n",
              "      <td>9</td>\n",
              "    </tr>\n",
              "    <tr>\n",
              "      <th>4</th>\n",
              "      <td>B</td>\n",
              "      <td>2019</td>\n",
              "      <td>67</td>\n",
              "      <td>20</td>\n",
              "    </tr>\n",
              "    <tr>\n",
              "      <th>5</th>\n",
              "      <td>B</td>\n",
              "      <td>2020</td>\n",
              "      <td>110</td>\n",
              "      <td>-10</td>\n",
              "    </tr>\n",
              "  </tbody>\n",
              "</table>\n",
              "</div>"
            ],
            "text/plain": [
              "  company  year  sales  profits\n",
              "1       B  2018     89        9\n",
              "4       B  2019     67       20\n",
              "5       B  2020    110      -10"
            ]
          },
          "execution_count": 31,
          "metadata": {},
          "output_type": "execute_result"
        }
      ],
      "source": [
        "# fetch all the rows/data for company 'B'\n",
        "\n",
        "df[df['company'] == 'B']"
      ]
    },
    {
      "cell_type": "code",
      "execution_count": null,
      "id": "f37bdc79-a600-4ad2-a9ee-490a0dd437d5",
      "metadata": {
        "id": "f37bdc79-a600-4ad2-a9ee-490a0dd437d5",
        "outputId": "ffd23bc1-3690-4ff4-bf26-5d45466e783a"
      },
      "outputs": [
        {
          "data": {
            "text/plain": [
              "0    A\n",
              "1    B\n",
              "2    C\n",
              "3    C\n",
              "4    B\n",
              "5    B\n",
              "6    A\n",
              "7    D\n",
              "8    D\n",
              "Name: company, dtype: object"
            ]
          },
          "execution_count": 32,
          "metadata": {},
          "output_type": "execute_result"
        }
      ],
      "source": [
        "df['company']"
      ]
    },
    {
      "cell_type": "code",
      "execution_count": null,
      "id": "7d8b6565-6dd5-41a2-9bd2-3bde5737c57d",
      "metadata": {
        "id": "7d8b6565-6dd5-41a2-9bd2-3bde5737c57d",
        "outputId": "0024dc42-1af5-4cea-e096-1e85e295e649"
      },
      "outputs": [
        {
          "data": {
            "text/plain": [
              "0    False\n",
              "1     True\n",
              "2    False\n",
              "3    False\n",
              "4     True\n",
              "5     True\n",
              "6    False\n",
              "7    False\n",
              "8    False\n",
              "Name: company, dtype: bool"
            ]
          },
          "execution_count": 33,
          "metadata": {},
          "output_type": "execute_result"
        }
      ],
      "source": [
        "df['company'] == 'B'"
      ]
    },
    {
      "cell_type": "code",
      "execution_count": null,
      "id": "3daa0de0-d74c-416e-b797-260d235f23b2",
      "metadata": {
        "id": "3daa0de0-d74c-416e-b797-260d235f23b2",
        "outputId": "1e11deaf-7083-4552-c31a-fa743086f6f9"
      },
      "outputs": [
        {
          "data": {
            "text/html": [
              "<div>\n",
              "<style scoped>\n",
              "    .dataframe tbody tr th:only-of-type {\n",
              "        vertical-align: middle;\n",
              "    }\n",
              "\n",
              "    .dataframe tbody tr th {\n",
              "        vertical-align: top;\n",
              "    }\n",
              "\n",
              "    .dataframe thead th {\n",
              "        text-align: right;\n",
              "    }\n",
              "</style>\n",
              "<table border=\"1\" class=\"dataframe\">\n",
              "  <thead>\n",
              "    <tr style=\"text-align: right;\">\n",
              "      <th></th>\n",
              "      <th>company</th>\n",
              "      <th>year</th>\n",
              "      <th>sales</th>\n",
              "      <th>profits</th>\n",
              "    </tr>\n",
              "  </thead>\n",
              "  <tbody>\n",
              "    <tr>\n",
              "      <th>0</th>\n",
              "      <td>A</td>\n",
              "      <td>2019</td>\n",
              "      <td>100</td>\n",
              "      <td>11</td>\n",
              "    </tr>\n",
              "    <tr>\n",
              "      <th>1</th>\n",
              "      <td>B</td>\n",
              "      <td>2018</td>\n",
              "      <td>89</td>\n",
              "      <td>9</td>\n",
              "    </tr>\n",
              "    <tr>\n",
              "      <th>2</th>\n",
              "      <td>C</td>\n",
              "      <td>2018</td>\n",
              "      <td>70</td>\n",
              "      <td>4</td>\n",
              "    </tr>\n",
              "    <tr>\n",
              "      <th>3</th>\n",
              "      <td>C</td>\n",
              "      <td>2019</td>\n",
              "      <td>85</td>\n",
              "      <td>17</td>\n",
              "    </tr>\n",
              "    <tr>\n",
              "      <th>4</th>\n",
              "      <td>B</td>\n",
              "      <td>2019</td>\n",
              "      <td>67</td>\n",
              "      <td>20</td>\n",
              "    </tr>\n",
              "    <tr>\n",
              "      <th>5</th>\n",
              "      <td>B</td>\n",
              "      <td>2020</td>\n",
              "      <td>110</td>\n",
              "      <td>-10</td>\n",
              "    </tr>\n",
              "    <tr>\n",
              "      <th>6</th>\n",
              "      <td>A</td>\n",
              "      <td>2018</td>\n",
              "      <td>76</td>\n",
              "      <td>7</td>\n",
              "    </tr>\n",
              "    <tr>\n",
              "      <th>7</th>\n",
              "      <td>D</td>\n",
              "      <td>2018</td>\n",
              "      <td>56</td>\n",
              "      <td>7</td>\n",
              "    </tr>\n",
              "    <tr>\n",
              "      <th>8</th>\n",
              "      <td>D</td>\n",
              "      <td>2019</td>\n",
              "      <td>71</td>\n",
              "      <td>18</td>\n",
              "    </tr>\n",
              "  </tbody>\n",
              "</table>\n",
              "</div>"
            ],
            "text/plain": [
              "  company  year  sales  profits\n",
              "0       A  2019    100       11\n",
              "1       B  2018     89        9\n",
              "2       C  2018     70        4\n",
              "3       C  2019     85       17\n",
              "4       B  2019     67       20\n",
              "5       B  2020    110      -10\n",
              "6       A  2018     76        7\n",
              "7       D  2018     56        7\n",
              "8       D  2019     71       18"
            ]
          },
          "execution_count": 34,
          "metadata": {},
          "output_type": "execute_result"
        }
      ],
      "source": [
        "df"
      ]
    },
    {
      "cell_type": "code",
      "execution_count": null,
      "id": "41798235-2d6b-4237-88db-39d4dccd4675",
      "metadata": {
        "id": "41798235-2d6b-4237-88db-39d4dccd4675",
        "outputId": "2c545107-471a-4e92-d5e1-db8dbc2d1311"
      },
      "outputs": [
        {
          "data": {
            "text/html": [
              "<div>\n",
              "<style scoped>\n",
              "    .dataframe tbody tr th:only-of-type {\n",
              "        vertical-align: middle;\n",
              "    }\n",
              "\n",
              "    .dataframe tbody tr th {\n",
              "        vertical-align: top;\n",
              "    }\n",
              "\n",
              "    .dataframe thead th {\n",
              "        text-align: right;\n",
              "    }\n",
              "</style>\n",
              "<table border=\"1\" class=\"dataframe\">\n",
              "  <thead>\n",
              "    <tr style=\"text-align: right;\">\n",
              "      <th></th>\n",
              "      <th>company</th>\n",
              "      <th>year</th>\n",
              "      <th>sales</th>\n",
              "      <th>profits</th>\n",
              "    </tr>\n",
              "  </thead>\n",
              "  <tbody>\n",
              "    <tr>\n",
              "      <th>6</th>\n",
              "      <td>A</td>\n",
              "      <td>2018</td>\n",
              "      <td>76</td>\n",
              "      <td>7</td>\n",
              "    </tr>\n",
              "  </tbody>\n",
              "</table>\n",
              "</div>"
            ],
            "text/plain": [
              "  company  year  sales  profits\n",
              "6       A  2018     76        7"
            ]
          },
          "execution_count": 35,
          "metadata": {},
          "output_type": "execute_result"
        }
      ],
      "source": [
        "# fetch the rows/data for the company 'A' for the year 2018\n",
        "df[(df['company'] == 'A') & (df['year'] == 2018)]"
      ]
    },
    {
      "cell_type": "code",
      "execution_count": null,
      "id": "71374666-5a17-4a5b-8371-7c64368ca555",
      "metadata": {
        "id": "71374666-5a17-4a5b-8371-7c64368ca555",
        "outputId": "3d683a69-1d99-40f9-a95a-a58cc5cb230a"
      },
      "outputs": [
        {
          "data": {
            "text/html": [
              "<div>\n",
              "<style scoped>\n",
              "    .dataframe tbody tr th:only-of-type {\n",
              "        vertical-align: middle;\n",
              "    }\n",
              "\n",
              "    .dataframe tbody tr th {\n",
              "        vertical-align: top;\n",
              "    }\n",
              "\n",
              "    .dataframe thead th {\n",
              "        text-align: right;\n",
              "    }\n",
              "</style>\n",
              "<table border=\"1\" class=\"dataframe\">\n",
              "  <thead>\n",
              "    <tr style=\"text-align: right;\">\n",
              "      <th></th>\n",
              "      <th>company</th>\n",
              "      <th>year</th>\n",
              "      <th>sales</th>\n",
              "      <th>profits</th>\n",
              "    </tr>\n",
              "  </thead>\n",
              "  <tbody>\n",
              "    <tr>\n",
              "      <th>1</th>\n",
              "      <td>B</td>\n",
              "      <td>2018</td>\n",
              "      <td>89</td>\n",
              "      <td>9</td>\n",
              "    </tr>\n",
              "    <tr>\n",
              "      <th>4</th>\n",
              "      <td>B</td>\n",
              "      <td>2019</td>\n",
              "      <td>67</td>\n",
              "      <td>20</td>\n",
              "    </tr>\n",
              "    <tr>\n",
              "      <th>5</th>\n",
              "      <td>B</td>\n",
              "      <td>2020</td>\n",
              "      <td>110</td>\n",
              "      <td>-10</td>\n",
              "    </tr>\n",
              "  </tbody>\n",
              "</table>\n",
              "</div>"
            ],
            "text/plain": [
              "  company  year  sales  profits\n",
              "1       B  2018     89        9\n",
              "4       B  2019     67       20\n",
              "5       B  2020    110      -10"
            ]
          },
          "execution_count": 36,
          "metadata": {},
          "output_type": "execute_result"
        }
      ],
      "source": [
        "# fetch all the profits for company 'B'\n",
        "df[df['company'] == 'B']"
      ]
    },
    {
      "cell_type": "code",
      "execution_count": null,
      "id": "17e25a30-ed0f-47eb-b33e-9fb59ad5775c",
      "metadata": {
        "id": "17e25a30-ed0f-47eb-b33e-9fb59ad5775c",
        "outputId": "05d3a9a1-b310-4102-99c7-7e5cf76a75f4"
      },
      "outputs": [
        {
          "data": {
            "text/plain": [
              "1     9\n",
              "4    20\n",
              "5   -10\n",
              "Name: profits, dtype: int64"
            ]
          },
          "execution_count": 37,
          "metadata": {},
          "output_type": "execute_result"
        }
      ],
      "source": [
        "df[df['company'] == 'B']['profits']"
      ]
    },
    {
      "cell_type": "code",
      "execution_count": null,
      "id": "d4bba15f-13d8-49bd-b976-c9513b66fe96",
      "metadata": {
        "id": "d4bba15f-13d8-49bd-b976-c9513b66fe96",
        "outputId": "6290da1a-e39f-47f9-d544-4afec76b9b6b"
      },
      "outputs": [
        {
          "data": {
            "text/plain": [
              "19"
            ]
          },
          "execution_count": 38,
          "metadata": {},
          "output_type": "execute_result"
        }
      ],
      "source": [
        "# sum of the profits of company 'B'\n",
        "df[df['company'] == 'B']['profits'].sum()"
      ]
    },
    {
      "cell_type": "code",
      "execution_count": null,
      "id": "e247bc37-1d4f-4128-98c8-a40d172762b9",
      "metadata": {
        "id": "e247bc37-1d4f-4128-98c8-a40d172762b9",
        "outputId": "068da5c4-bd89-4d6c-b089-192a579f9567"
      },
      "outputs": [
        {
          "data": {
            "text/plain": [
              "6.333333333333333"
            ]
          },
          "execution_count": 39,
          "metadata": {},
          "output_type": "execute_result"
        }
      ],
      "source": [
        "df[df['company'] == 'B']['profits'].mean()"
      ]
    },
    {
      "cell_type": "code",
      "execution_count": null,
      "id": "cf95e103-caff-4edf-ab87-3b7c4254425a",
      "metadata": {
        "id": "cf95e103-caff-4edf-ab87-3b7c4254425a",
        "outputId": "a0582223-98fe-426f-d373-d48ee4b24389"
      },
      "outputs": [
        {
          "data": {
            "text/plain": [
              "9.0"
            ]
          },
          "execution_count": 40,
          "metadata": {},
          "output_type": "execute_result"
        }
      ],
      "source": [
        "df[df['company'] == 'B']['profits'].median()"
      ]
    },
    {
      "cell_type": "code",
      "execution_count": null,
      "id": "09e2d77f-f876-4590-a958-6054bd7604f1",
      "metadata": {
        "id": "09e2d77f-f876-4590-a958-6054bd7604f1",
        "outputId": "cf561282-bc3c-4bd8-be59-486f27ed27fc"
      },
      "outputs": [
        {
          "data": {
            "text/plain": [
              "15.17673658377628"
            ]
          },
          "execution_count": 41,
          "metadata": {},
          "output_type": "execute_result"
        }
      ],
      "source": [
        "df[df['company'] == 'B']['profits'].std()"
      ]
    },
    {
      "cell_type": "code",
      "execution_count": null,
      "id": "1802016d-d198-4c0a-902c-fd230e323a2b",
      "metadata": {
        "id": "1802016d-d198-4c0a-902c-fd230e323a2b",
        "outputId": "70c8583b-44ac-4c5d-f8ff-df49b097ded3"
      },
      "outputs": [
        {
          "data": {
            "text/plain": [
              "230.33333333333331"
            ]
          },
          "execution_count": 42,
          "metadata": {},
          "output_type": "execute_result"
        }
      ],
      "source": [
        "df[df['company'] == 'B']['profits'].var()"
      ]
    },
    {
      "cell_type": "code",
      "execution_count": null,
      "id": "b48aeb13-b742-4ad6-972b-bba67ff82538",
      "metadata": {
        "id": "b48aeb13-b742-4ad6-972b-bba67ff82538",
        "outputId": "34de9a03-1e7c-418f-c65f-f7c1848a8964"
      },
      "outputs": [
        {
          "data": {
            "text/plain": [
              "0    A\n",
              "1    B\n",
              "2    C\n",
              "3    C\n",
              "4    B\n",
              "5    B\n",
              "6    A\n",
              "7    D\n",
              "8    D\n",
              "Name: company, dtype: object"
            ]
          },
          "execution_count": 43,
          "metadata": {},
          "output_type": "execute_result"
        }
      ],
      "source": [
        "df['company']"
      ]
    },
    {
      "cell_type": "code",
      "execution_count": null,
      "id": "90c6bec6-f9e9-40ab-8989-814f22b05e8c",
      "metadata": {
        "id": "90c6bec6-f9e9-40ab-8989-814f22b05e8c",
        "outputId": "96dcb052-2f55-4d02-f30a-4aa6516ece23"
      },
      "outputs": [
        {
          "data": {
            "text/plain": [
              "0    B\n",
              "Name: company, dtype: object"
            ]
          },
          "execution_count": 44,
          "metadata": {},
          "output_type": "execute_result"
        }
      ],
      "source": [
        "df['company'].mode()"
      ]
    },
    {
      "cell_type": "code",
      "execution_count": null,
      "id": "95d52e36-cdb8-4885-be0a-f5ec5b1d1ecb",
      "metadata": {
        "id": "95d52e36-cdb8-4885-be0a-f5ec5b1d1ecb",
        "outputId": "3bf1984e-fd03-46c5-bfbe-ccdb3b113fba"
      },
      "outputs": [
        {
          "data": {
            "text/plain": [
              "'B'"
            ]
          },
          "execution_count": 45,
          "metadata": {},
          "output_type": "execute_result"
        }
      ],
      "source": [
        "df['company'].mode().loc[0]"
      ]
    },
    {
      "cell_type": "code",
      "execution_count": null,
      "id": "65044f2d-7120-46ef-a116-9351b9cffa1a",
      "metadata": {
        "id": "65044f2d-7120-46ef-a116-9351b9cffa1a"
      },
      "outputs": [],
      "source": []
    }
  ],
  "metadata": {
    "kernelspec": {
      "display_name": "Python 3 (ipykernel)",
      "language": "python",
      "name": "python3"
    },
    "language_info": {
      "codemirror_mode": {
        "name": "ipython",
        "version": 3
      },
      "file_extension": ".py",
      "mimetype": "text/x-python",
      "name": "python",
      "nbconvert_exporter": "python",
      "pygments_lexer": "ipython3",
      "version": "3.10.9"
    },
    "colab": {
      "provenance": [],
      "include_colab_link": true
    }
  },
  "nbformat": 4,
  "nbformat_minor": 5
}