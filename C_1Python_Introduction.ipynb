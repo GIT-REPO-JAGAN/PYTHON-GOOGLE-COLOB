{
  "cells": [
    {
      "cell_type": "markdown",
      "metadata": {
        "id": "view-in-github",
        "colab_type": "text"
      },
      "source": [
        "<a href=\"https://colab.research.google.com/github/GIT-REPO-JAGAN/PYTHON-GOOGLE-COLOB/blob/main/C_1Python_Introduction.ipynb\" target=\"_parent\"><img src=\"https://colab.research.google.com/assets/colab-badge.svg\" alt=\"Open In Colab\"/></a>"
      ]
    },
    {
      "cell_type": "markdown",
      "id": "4ac42d9b",
      "metadata": {
        "id": "4ac42d9b"
      },
      "source": [
        "#### Operating System\n",
        "\n",
        "- Windows, MacOS, Linux\n",
        "- Manages and runs the application on the system\n",
        "- interface between hardware and apps\n",
        "- OS manages the computer resources (CPU, memory, ....)"
      ]
    },
    {
      "cell_type": "markdown",
      "id": "01abd82e",
      "metadata": {
        "id": "01abd82e"
      },
      "source": [
        "#### Programmimg Language\n",
        "\n",
        "- language to communicate with the computer\n",
        "- Programming language has:\n",
        "    - Keywords: Pre-defined Reserved words for writing code\n",
        "    - Syntax: Set of rules using which we write the code\n",
        "    \n",
        "- Types of programming language:\n",
        "    - High level language (HLL)\n",
        "        - Close to how humans comminucate\n",
        "        - Easier for us to understand\n",
        "        - Python, Java, C++\n",
        "        - Slower compared to LLL because we needto translate the HLL to machine understable language\n",
        "        - Portable\n",
        "    - Low level language (LLL)\n",
        "        - Closer to machines\n",
        "        - Difficult to understand for humans\n",
        "        - Assembly language\n",
        "        - Faster\n",
        "        - Not portable"
      ]
    },
    {
      "cell_type": "markdown",
      "id": "e38e1a91",
      "metadata": {
        "id": "e38e1a91"
      },
      "source": [
        "#### Python  and its features\n",
        "\n",
        "- HLL\n",
        "- Open source\n",
        "- Interpreter ???\n",
        "- Easy to use\n",
        "- Portable\n",
        "- Many libraries are present\n",
        "- Python is slower compared to some programimg languages like C\n",
        "- Large community of Python\n",
        "- Dynamically typed language"
      ]
    },
    {
      "cell_type": "markdown",
      "id": "6b3365f1",
      "metadata": {
        "id": "6b3365f1"
      },
      "source": [
        "int value = 200;"
      ]
    },
    {
      "cell_type": "markdown",
      "id": "7b888917",
      "metadata": {
        "id": "7b888917"
      },
      "source": [
        "value = 200"
      ]
    },
    {
      "cell_type": "code",
      "execution_count": null,
      "id": "9cc96bcf",
      "metadata": {
        "id": "9cc96bcf"
      },
      "outputs": [],
      "source": []
    }
  ],
  "metadata": {
    "kernelspec": {
      "display_name": "Python 3 (ipykernel)",
      "language": "python",
      "name": "python3"
    },
    "language_info": {
      "codemirror_mode": {
        "name": "ipython",
        "version": 3
      },
      "file_extension": ".py",
      "mimetype": "text/x-python",
      "name": "python",
      "nbconvert_exporter": "python",
      "pygments_lexer": "ipython3",
      "version": "3.9.7"
    },
    "colab": {
      "provenance": [],
      "include_colab_link": true
    }
  },
  "nbformat": 4,
  "nbformat_minor": 5
}