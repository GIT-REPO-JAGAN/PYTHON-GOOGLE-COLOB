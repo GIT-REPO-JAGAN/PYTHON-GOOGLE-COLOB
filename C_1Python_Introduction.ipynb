{
  "cells": [
    {
      "cell_type": "markdown",
      "metadata": {
        "id": "view-in-github",
        "colab_type": "text"
      },
      "source": [
        "<a href=\"https://colab.research.google.com/github/GIT-REPO-JAGAN/PYTHON-GOOGLE-COLOB/blob/main/C_1Python_Introduction.ipynb\" target=\"_parent\"><img src=\"https://colab.research.google.com/assets/colab-badge.svg\" alt=\"Open In Colab\"/></a>"
      ]
    },
    {
      "cell_type": "markdown",
      "id": "b203a626",
      "metadata": {
        "id": "b203a626"
      },
      "source": [
        "#### Operating System\n",
        "\n",
        "- Windows, MacOS, Linux\n",
        "- Manages and runs the application on the system\n",
        "- interface between hardware and apps\n",
        "- OS manages the computer resources (CPU, memory, ....)"
      ]
    },
    {
      "cell_type": "markdown",
      "id": "61488c80",
      "metadata": {
        "id": "61488c80"
      },
      "source": [
        "#### Programmimg Language\n",
        "\n",
        "- language to communicate with the computer\n",
        "- Programming language has:\n",
        "    - Keywords: Pre-defined Reserved words for writing code\n",
        "    - Syntax: Set of rules using which we write the code\n",
        "    \n",
        "- Types of programming language:\n",
        "    - High level language (HLL)\n",
        "        - Close to how humans comminucate\n",
        "        - Easier for us to understand\n",
        "        - Python, Java, C++\n",
        "        - Slower compared to LLL because we needto translate the HLL to machine understable language\n",
        "        - Portable\n",
        "    - Low level language (LLL)\n",
        "        - Closer to machines\n",
        "        - Difficult to understand for humans\n",
        "        - Assembly language\n",
        "        - Faster\n",
        "        - Not portable"
      ]
    },
    {
      "cell_type": "markdown",
      "id": "1cdbcc2a",
      "metadata": {
        "id": "1cdbcc2a"
      },
      "source": [
        "#### Python  and its features\n",
        "\n",
        "- HLL (HIGH LEVEL LAUNG)\n",
        "- Open source\n",
        "- Interpreter ???\n",
        "- Easy to use\n",
        "- Portable\n",
        "- Many libraries are present\n",
        "- Python is slower compared to some programimg languages like C\n",
        "- Large community of Python\n",
        "- Dynamically typed language"
      ]
    },
    {
      "cell_type": "markdown",
      "source": [],
      "metadata": {
        "id": "I7272k5CWIfQ"
      },
      "id": "I7272k5CWIfQ"
    },
    {
      "cell_type": "markdown",
      "id": "44442028",
      "metadata": {
        "id": "44442028"
      },
      "source": [
        "int value = 200 # we assigh such a way in other laungauges \n",
        "value = 200 # Here we can just give a value it will take it"
      ]
    },
    {
      "cell_type": "markdown",
      "id": "ca55b911",
      "metadata": {
        "id": "ca55b911"
      },
      "source": [
        "Translator\n",
        "\n",
        "Translates the source code into Machine understandable code\n",
        "\n",
        "Source code: code that we write\n",
        "\n",
        "- Compiler: translates the entire code at once\n",
        "    - Faster\n",
        "- Interpreter: translates line by line\n",
        "    - Slower"
      ]
    },
    {
      "cell_type": "markdown",
      "id": "1b566a1b",
      "metadata": {
        "id": "1b566a1b"
      },
      "source": [
        "##Internal working of Python\n",
        "\n",
        "**Source code (.py) --Compiled--> Byte code (.pyc) --Interpreter--> Machine code -Executed-> Output**\n",
        "\n",
        "Byte code -> .pyc file -> which gets stored in __pycache__ folder\n",
        "\n",
        "- A programming language is said to be interpreted or complied depending on where memory allocation and the type checking happens.\n",
        "\n",
        "- In Python, memory allocation and the type checking happen at the Interpreter stage, hence, Python is said to be Interpreted language!!"
      ]
    },
    {
      "cell_type": "code",
      "execution_count": null,
      "id": "c49adc36",
      "metadata": {
        "id": "c49adc36"
      },
      "outputs": [],
      "source": []
    },
    {
      "cell_type": "markdown",
      "id": "007836a2",
      "metadata": {
        "id": "007836a2"
      },
      "source": [
        "#### Errors in Python\n",
        "\n",
        "1. Compile time errors\n",
        "    - Syntax error\n",
        "    - Indentation error\n",
        "    - If any compile time error occurs, the Byte code won't be generated\n",
        "2. Runtime errors\n",
        "    - happens while the code is running/executing by the interpreter after successfully compiled\n",
        "    - Also called Exceptions\n",
        "    - Spelling mistake, dividing a number by 0, adding a number with a alphabet"
      ]
    },
    {
      "cell_type": "code",
      "execution_count": null,
      "id": "209b8dc6",
      "metadata": {
        "id": "209b8dc6",
        "outputId": "56fd9902-86b4-42cf-cc8f-dcb2c225c004"
      },
      "outputs": [
        {
          "name": "stdout",
          "output_type": "stream",
          "text": [
            "10\n",
            "5\n",
            "2.0\n"
          ]
        }
      ],
      "source": [
        "a = 10\n",
        "print(a)\n",
        "b = 5\n",
        "print(b)\n",
        "c = a / b\n",
        "print(c)"
      ]
    },
    {
      "cell_type": "code",
      "execution_count": null,
      "id": "8afa441f",
      "metadata": {
        "id": "8afa441f",
        "outputId": "c3083572-27be-4984-c809-a257a330aea2"
      },
      "outputs": [
        {
          "ename": "SyntaxError",
          "evalue": "invalid syntax (Temp/ipykernel_12988/4230978360.py, line 5)",
          "output_type": "error",
          "traceback": [
            "\u001b[1;36m  File \u001b[1;32m\"C:\\Users\\hp\\AppData\\Local\\Temp/ipykernel_12988/4230978360.py\"\u001b[1;36m, line \u001b[1;32m5\u001b[0m\n\u001b[1;33m    c = a / b\u001b[0m\n\u001b[1;37m    ^\u001b[0m\n\u001b[1;31mSyntaxError\u001b[0m\u001b[1;31m:\u001b[0m invalid syntax\n"
          ]
        }
      ],
      "source": [
        "a = 10\n",
        "print(a)\n",
        "b = 5\n",
        "print(b    # Syntex error : It will be checked during Compiler function, it will not nove further to Interpreter\n",
        "c = a / b\n",
        "print(c)"
      ]
    },
    {
      "cell_type": "code",
      "execution_count": null,
      "id": "e51990c3",
      "metadata": {
        "id": "e51990c3",
        "outputId": "1e005a6a-1924-423e-f1f1-de0b19f89ba6"
      },
      "outputs": [
        {
          "name": "stdout",
          "output_type": "stream",
          "text": [
            "10\n"
          ]
        }
      ],
      "source": [
        "print(10)"
      ]
    },
    {
      "cell_type": "code",
      "execution_count": null,
      "id": "ac7809e5",
      "metadata": {
        "id": "ac7809e5",
        "outputId": "45677d4e-5991-49de-f8ba-eb5966a8dd6f",
        "colab": {
          "base_uri": "https://localhost:8080/",
          "height": 252
        }
      },
      "outputs": [
        {
          "output_type": "stream",
          "name": "stdout",
          "text": [
            "10\n",
            "0\n"
          ]
        },
        {
          "output_type": "error",
          "ename": "ZeroDivisionError",
          "evalue": "ignored",
          "traceback": [
            "\u001b[0;31m---------------------------------------------------------------------------\u001b[0m",
            "\u001b[0;31mZeroDivisionError\u001b[0m                         Traceback (most recent call last)",
            "\u001b[0;32m<ipython-input-1-3eb842b92e62>\u001b[0m in \u001b[0;36m<cell line: 5>\u001b[0;34m()\u001b[0m\n\u001b[1;32m      3\u001b[0m \u001b[0mb\u001b[0m \u001b[0;34m=\u001b[0m \u001b[0;36m0\u001b[0m\u001b[0;34m\u001b[0m\u001b[0;34m\u001b[0m\u001b[0m\n\u001b[1;32m      4\u001b[0m \u001b[0mprint\u001b[0m\u001b[0;34m(\u001b[0m\u001b[0mb\u001b[0m\u001b[0;34m)\u001b[0m\u001b[0;34m\u001b[0m\u001b[0;34m\u001b[0m\u001b[0m\n\u001b[0;32m----> 5\u001b[0;31m \u001b[0mc\u001b[0m \u001b[0;34m=\u001b[0m \u001b[0ma\u001b[0m \u001b[0;34m/\u001b[0m \u001b[0mb\u001b[0m\u001b[0;34m\u001b[0m\u001b[0;34m\u001b[0m\u001b[0m\n\u001b[0m\u001b[1;32m      6\u001b[0m \u001b[0mprint\u001b[0m\u001b[0;34m(\u001b[0m\u001b[0mc\u001b[0m\u001b[0;34m)\u001b[0m\u001b[0;34m\u001b[0m\u001b[0;34m\u001b[0m\u001b[0m\n",
            "\u001b[0;31mZeroDivisionError\u001b[0m: division by zero"
          ]
        }
      ],
      "source": [
        "a = 10\n",
        "print(a)\n",
        "b = 0  # Interpreter error: Any number divided by 0 is infinity so it reports ZeroDivision ERROR\n",
        "print(b)\n",
        "c = a / b\n",
        "print(c)"
      ]
    },
    {
      "cell_type": "code",
      "execution_count": null,
      "id": "6f863c7b",
      "metadata": {
        "id": "6f863c7b",
        "outputId": "1e29ef1a-54c1-478b-f0b4-1d246492bea8"
      },
      "outputs": [
        {
          "name": "stdout",
          "output_type": "stream",
          "text": [
            "10\n"
          ]
        },
        {
          "ename": "NameError",
          "evalue": "name 'd' is not defined",
          "output_type": "error",
          "traceback": [
            "\u001b[1;31m---------------------------------------------------------------------------\u001b[0m",
            "\u001b[1;31mNameError\u001b[0m                                 Traceback (most recent call last)",
            "\u001b[1;32m~\\AppData\\Local\\Temp/ipykernel_12988/3696334773.py\u001b[0m in \u001b[0;36m<module>\u001b[1;34m\u001b[0m\n\u001b[0;32m      2\u001b[0m \u001b[0mprint\u001b[0m\u001b[1;33m(\u001b[0m\u001b[0ma\u001b[0m\u001b[1;33m)\u001b[0m\u001b[1;33m\u001b[0m\u001b[1;33m\u001b[0m\u001b[0m\n\u001b[0;32m      3\u001b[0m \u001b[0mb\u001b[0m \u001b[1;33m=\u001b[0m \u001b[1;36m2\u001b[0m\u001b[1;33m\u001b[0m\u001b[1;33m\u001b[0m\u001b[0m\n\u001b[1;32m----> 4\u001b[1;33m \u001b[0mprint\u001b[0m\u001b[1;33m(\u001b[0m\u001b[0md\u001b[0m\u001b[1;33m)\u001b[0m\u001b[1;33m\u001b[0m\u001b[1;33m\u001b[0m\u001b[0m\n\u001b[0m\u001b[0;32m      5\u001b[0m \u001b[0mc\u001b[0m \u001b[1;33m=\u001b[0m \u001b[0ma\u001b[0m \u001b[1;33m/\u001b[0m \u001b[0mb\u001b[0m\u001b[1;33m\u001b[0m\u001b[1;33m\u001b[0m\u001b[0m\n\u001b[0;32m      6\u001b[0m \u001b[0mprint\u001b[0m\u001b[1;33m(\u001b[0m\u001b[0mc\u001b[0m\u001b[1;33m)\u001b[0m\u001b[1;33m\u001b[0m\u001b[1;33m\u001b[0m\u001b[0m\n",
            "\u001b[1;31mNameError\u001b[0m: name 'd' is not defined"
          ]
        }
      ],
      "source": [
        "a = 10\n",
        "print(a)\n",
        "b = 2\n",
        "print(d) # Interpreter error: The name is not defiend any were so it reports NameError\n",
        "c = a / b\n",
        "print(c)"
      ]
    },
    {
      "cell_type": "code",
      "execution_count": null,
      "id": "a7b6fc8a",
      "metadata": {
        "id": "a7b6fc8a",
        "outputId": "98c27c24-7a6f-4af2-ddc1-2c086e3d3c9a"
      },
      "outputs": [
        {
          "ename": "SyntaxError",
          "evalue": "invalid syntax (Temp/ipykernel_12988/1894359338.py, line 1)",
          "output_type": "error",
          "traceback": [
            "\u001b[1;36m  File \u001b[1;32m\"C:\\Users\\hp\\AppData\\Local\\Temp/ipykernel_12988/1894359338.py\"\u001b[1;36m, line \u001b[1;32m1\u001b[0m\n\u001b[1;33m    a $ b\u001b[0m\n\u001b[1;37m      ^\u001b[0m\n\u001b[1;31mSyntaxError\u001b[0m\u001b[1;31m:\u001b[0m invalid syntax\n"
          ]
        }
      ],
      "source": [
        "a $ b"
      ]
    },
    {
      "cell_type": "code",
      "execution_count": null,
      "id": "7c6b0f6e",
      "metadata": {
        "id": "7c6b0f6e",
        "outputId": "525c6df4-4785-4382-bdf0-19aa11ea4b70"
      },
      "outputs": [
        {
          "name": "stdout",
          "output_type": "stream",
          "text": [
            "10\n",
            "2\n"
          ]
        },
        {
          "ename": "NameError",
          "evalue": "name 'pritn' is not defined",
          "output_type": "error",
          "traceback": [
            "\u001b[1;31m---------------------------------------------------------------------------\u001b[0m",
            "\u001b[1;31mNameError\u001b[0m                                 Traceback (most recent call last)",
            "\u001b[1;32m~\\AppData\\Local\\Temp/ipykernel_12988/1911658946.py\u001b[0m in \u001b[0;36m<module>\u001b[1;34m\u001b[0m\n\u001b[0;32m      4\u001b[0m \u001b[0mprint\u001b[0m\u001b[1;33m(\u001b[0m\u001b[0mnumber2\u001b[0m\u001b[1;33m)\u001b[0m\u001b[1;33m\u001b[0m\u001b[1;33m\u001b[0m\u001b[0m\n\u001b[0;32m      5\u001b[0m \u001b[0mresult\u001b[0m \u001b[1;33m=\u001b[0m \u001b[0mnumber1\u001b[0m \u001b[1;33m/\u001b[0m \u001b[0mnumber2\u001b[0m\u001b[1;33m\u001b[0m\u001b[1;33m\u001b[0m\u001b[0m\n\u001b[1;32m----> 6\u001b[1;33m \u001b[0mpritn\u001b[0m\u001b[1;33m(\u001b[0m\u001b[0mresult\u001b[0m\u001b[1;33m)\u001b[0m\u001b[1;33m\u001b[0m\u001b[1;33m\u001b[0m\u001b[0m\n\u001b[0m",
            "\u001b[1;31mNameError\u001b[0m: name 'pritn' is not defined"
          ]
        }
      ],
      "source": [
        "number1 = 10\n",
        "print(number1)\n",
        "number2 = 2\n",
        "print(number2)\n",
        "result = number1 / number2\n",
        "pritn(result)"
      ]
    },
    {
      "cell_type": "markdown",
      "id": "fb667b7c",
      "metadata": {
        "id": "fb667b7c"
      },
      "source": [
        "#### Memory Management in Python\n",
        "\n",
        "- managing the memory - allocating and deallocating the space/memory to and from the values\n",
        "- Inefficient memory management leads to slowness of the program execution\n",
        "\n",
        "- In Python, memory management is taken care by Python itself.\n",
        "- Python Memory Manager (PMM) manages the memory\n",
        "\n",
        "###### Memory allocation\n",
        "\n",
        "1. Static memory allocation\n",
        "    - The memory is allocated at compile time\n",
        "    - Stack is used for static allocation\n",
        "    - Memory cannot be re-used\n",
        "    int a = 10;\n",
        "2. Dynamic memory allocation\n",
        "    - The memory is allocated at runtime\n",
        "    - Heap is used for synamic allocation\n",
        "    - Memory can be re-used\n",
        "    a = 10\n",
        "    \n",
        "- In Python, dynamic memory allocation happens.\n",
        "- PMM allocates the memory to a value and when that value is not needed, PMM automatically reclaims the memory by deleting the value.\n",
        "\n",
        "\n",
        "- Stack\n",
        "    - Memory allocation happens on continuous memory locations\n",
        "- Heap\n",
        "    - It is a pile a memory (non-continuous)\n",
        "    - Memory allocation happens randomly\n",
        "    \n",
        "- PMM has:\n",
        "    1. Raw memory allocator: used to interact with the OS to ensure that enough space is there\n",
        "    2. Object specific allocator: allocates the memory to the objects/values"
      ]
    },
    {
      "cell_type": "markdown",
      "source": [
        "#Garbage Collection and Reference Counting\n",
        "Reference counting: It counts the number of times an object/value is referenced.\n",
        "How many variables are refering to the memory address where a value/object is stored."
      ],
      "metadata": {
        "id": "8mT6PJ5xWW0d"
      },
      "id": "8mT6PJ5xWW0d"
    },
    {
      "cell_type": "code",
      "source": [
        "a = 1000\n",
        "print(id(a))"
      ],
      "metadata": {
        "colab": {
          "base_uri": "https://localhost:8080/"
        },
        "id": "FGHcycc5Wh6n",
        "outputId": "fcc7fcac-d248-4105-bc89-603b32105cb7"
      },
      "id": "FGHcycc5Wh6n",
      "execution_count": 2,
      "outputs": [
        {
          "output_type": "stream",
          "name": "stdout",
          "text": [
            "139742939812560\n"
          ]
        }
      ]
    },
    {
      "cell_type": "code",
      "source": [
        "b = 2000\n",
        "print(id(b))"
      ],
      "metadata": {
        "colab": {
          "base_uri": "https://localhost:8080/"
        },
        "id": "4AEHQK7PWp4l",
        "outputId": "34e468a0-7dc8-476d-f4ed-0d5e267a1923"
      },
      "id": "4AEHQK7PWp4l",
      "execution_count": 3,
      "outputs": [
        {
          "output_type": "stream",
          "name": "stdout",
          "text": [
            "139741980190288\n"
          ]
        }
      ]
    },
    {
      "cell_type": "code",
      "source": [
        "c = 1000\n",
        "print(id(c))"
      ],
      "metadata": {
        "colab": {
          "base_uri": "https://localhost:8080/"
        },
        "id": "xZ6Mc65OW3Lu",
        "outputId": "aee906ee-9a61-43df-db75-5e75adb33681"
      },
      "id": "xZ6Mc65OW3Lu",
      "execution_count": 5,
      "outputs": [
        {
          "output_type": "stream",
          "name": "stdout",
          "text": [
            "139741980192016\n"
          ]
        }
      ]
    },
    {
      "cell_type": "code",
      "source": [
        "d = a\n",
        "print(id(d))\n",
        "print(id(a))"
      ],
      "metadata": {
        "colab": {
          "base_uri": "https://localhost:8080/"
        },
        "id": "8acLpkweW3p3",
        "outputId": "4a1b64dd-fe51-41e6-fe70-1048a7156c10"
      },
      "id": "8acLpkweW3p3",
      "execution_count": 7,
      "outputs": [
        {
          "output_type": "stream",
          "name": "stdout",
          "text": [
            "139742939812560\n",
            "139742939812560\n"
          ]
        }
      ]
    },
    {
      "cell_type": "code",
      "source": [
        "b = 1500\n",
        "print(id(b))"
      ],
      "metadata": {
        "colab": {
          "base_uri": "https://localhost:8080/"
        },
        "id": "7JncfIOsW87Z",
        "outputId": "b194fced-5de0-4ed2-9843-4e3786f90fe5"
      },
      "id": "7JncfIOsW87Z",
      "execution_count": 8,
      "outputs": [
        {
          "output_type": "stream",
          "name": "stdout",
          "text": [
            "139741980191280\n"
          ]
        }
      ]
    },
    {
      "cell_type": "code",
      "source": [
        "c = 500\n",
        "print(id(c))"
      ],
      "metadata": {
        "colab": {
          "base_uri": "https://localhost:8080/"
        },
        "id": "5R8vIohCXIFK",
        "outputId": "1539652b-16b3-463c-e0a4-bdad42ac3458"
      },
      "id": "5R8vIohCXIFK",
      "execution_count": 10,
      "outputs": [
        {
          "output_type": "stream",
          "name": "stdout",
          "text": [
            "139741980191312\n"
          ]
        }
      ]
    },
    {
      "cell_type": "code",
      "source": [
        "a = 2500\n",
        "print(id(a))"
      ],
      "metadata": {
        "colab": {
          "base_uri": "https://localhost:8080/"
        },
        "id": "k_LSjKl6XKgu",
        "outputId": "58eee5cd-5195-4a28-8e9e-fe29ae7f3e64"
      },
      "id": "k_LSjKl6XKgu",
      "execution_count": 12,
      "outputs": [
        {
          "output_type": "stream",
          "name": "stdout",
          "text": [
            "139741980191600\n"
          ]
        }
      ]
    },
    {
      "cell_type": "code",
      "source": [
        "print(id(d))\n",
        "d = 3000\n",
        "print(id(d))"
      ],
      "metadata": {
        "colab": {
          "base_uri": "https://localhost:8080/"
        },
        "id": "dwcY7G30XQkp",
        "outputId": "1ea85352-6f45-4c6b-ad57-6917f846e5cf"
      },
      "id": "dwcY7G30XQkp",
      "execution_count": 14,
      "outputs": [
        {
          "output_type": "stream",
          "name": "stdout",
          "text": [
            "139742939812560\n",
            "139741980192016\n"
          ]
        }
      ]
    },
    {
      "cell_type": "markdown",
      "source": [
        "When the reference count of a memory address becomes 0, the PMM (Garbage collector) sees that and removes the value/object from that memory address (as its not needed anymore). And the memroy is reclaimed to be used for something else. This process is called Garbage Collection."
      ],
      "metadata": {
        "id": "8cGG3c7BXmag"
      },
      "id": "8cGG3c7BXmag"
    }
  ],
  "metadata": {
    "kernelspec": {
      "display_name": "Python 3 (ipykernel)",
      "language": "python",
      "name": "python3"
    },
    "language_info": {
      "codemirror_mode": {
        "name": "ipython",
        "version": 3
      },
      "file_extension": ".py",
      "mimetype": "text/x-python",
      "name": "python",
      "nbconvert_exporter": "python",
      "pygments_lexer": "ipython3",
      "version": "3.9.7"
    },
    "colab": {
      "provenance": [],
      "include_colab_link": true
    }
  },
  "nbformat": 4,
  "nbformat_minor": 5
}