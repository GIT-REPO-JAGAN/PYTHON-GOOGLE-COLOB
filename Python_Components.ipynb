{
  "cells": [
    {
      "cell_type": "markdown",
      "metadata": {
        "id": "view-in-github",
        "colab_type": "text"
      },
      "source": [
        "<a href=\"https://colab.research.google.com/github/GIT-REPO-JAGAN/PYTHON-GOOGLE-COLOB/blob/main/Python_Components.ipynb\" target=\"_parent\"><img src=\"https://colab.research.google.com/assets/colab-badge.svg\" alt=\"Open In Colab\"/></a>"
      ]
    },
    {
      "cell_type": "markdown",
      "id": "5033e910",
      "metadata": {
        "id": "5033e910"
      },
      "source": [
        "#### Components of Python program\n",
        "\n",
        "- Literals\n",
        "- Identifiers\n",
        "- Variable\n",
        "- Keyword\n",
        "- Constant\n",
        "- Comment\n",
        "- Expression\n",
        "- Statement\n",
        "- Block"
      ]
    },
    {
      "cell_type": "markdown",
      "id": "7b4b61cc",
      "metadata": {
        "id": "7b4b61cc"
      },
      "source": [
        "Literals - Data or value stored\n",
        "\n",
        "- Python supports following Literals:\n",
        "    - Numerical Literal\n",
        "        - Integer\n",
        "        - Binary\n",
        "        - Octal\n",
        "        - Hexadecimal\n",
        "        - Float\n",
        "        - Complex\n",
        "    - String Literal\n",
        "    - Boolean Literal\n",
        "    - Special Literal"
      ]
    },
    {
      "cell_type": "markdown",
      "id": "a1066d8c",
      "metadata": {
        "id": "a1066d8c"
      },
      "source": [
        "- Numerical Literal\n",
        "    - Integer: 200, -10. Base 10 - Decimal - 0-9\n",
        "    - Binary: 0, 1 - Base 2 - 0b1010, 0b100\n",
        "    - Octal: 0-7 - Base 8 - 0o15\n",
        "    - Hexadecimal: Base 16 - 0-9 and A-F - 0x1A"
      ]
    },
    {
      "cell_type": "code",
      "execution_count": null,
      "id": "7a25938f",
      "metadata": {
        "id": "7a25938f"
      },
      "outputs": [],
      "source": [
        "a = 200"
      ]
    },
    {
      "cell_type": "code",
      "execution_count": null,
      "id": "7a8c5bf6",
      "metadata": {
        "id": "7a8c5bf6",
        "outputId": "1e8fe151-fc31-4950-880a-bad9d52c30b3"
      },
      "outputs": [
        {
          "name": "stdout",
          "output_type": "stream",
          "text": [
            "200\n"
          ]
        }
      ],
      "source": [
        "print(a)"
      ]
    },
    {
      "cell_type": "code",
      "execution_count": null,
      "id": "54656a88",
      "metadata": {
        "id": "54656a88"
      },
      "outputs": [],
      "source": [
        "b = 0b1010"
      ]
    },
    {
      "cell_type": "code",
      "execution_count": null,
      "id": "bcb84699",
      "metadata": {
        "id": "bcb84699",
        "outputId": "13554bc0-557e-4566-cce4-287dc4d845a8"
      },
      "outputs": [
        {
          "name": "stdout",
          "output_type": "stream",
          "text": [
            "10\n"
          ]
        }
      ],
      "source": [
        "print(b)"
      ]
    },
    {
      "cell_type": "code",
      "execution_count": null,
      "id": "350ada89",
      "metadata": {
        "id": "350ada89",
        "outputId": "9a4d6b89-2991-46c3-ffe2-0303dbcb359f"
      },
      "outputs": [
        {
          "name": "stdout",
          "output_type": "stream",
          "text": [
            "0b11001\n"
          ]
        }
      ],
      "source": [
        "print(bin(25))"
      ]
    },
    {
      "cell_type": "code",
      "execution_count": null,
      "id": "e351597e",
      "metadata": {
        "id": "e351597e",
        "outputId": "8c6dfa03-9a05-4f73-c448-a733697230d8"
      },
      "outputs": [
        {
          "name": "stdout",
          "output_type": "stream",
          "text": [
            "0b1000\n"
          ]
        }
      ],
      "source": [
        "print(bin(8))"
      ]
    },
    {
      "cell_type": "code",
      "execution_count": null,
      "id": "074cb25e",
      "metadata": {
        "id": "074cb25e"
      },
      "outputs": [],
      "source": [
        "c = 0o20"
      ]
    },
    {
      "cell_type": "code",
      "execution_count": null,
      "id": "47aa8c70",
      "metadata": {
        "id": "47aa8c70",
        "outputId": "3adf3a65-792e-4d3a-ded4-2a337d8edbac"
      },
      "outputs": [
        {
          "name": "stdout",
          "output_type": "stream",
          "text": [
            "16\n"
          ]
        }
      ],
      "source": [
        "print(c)"
      ]
    },
    {
      "cell_type": "code",
      "execution_count": null,
      "id": "c8f7c3c6",
      "metadata": {
        "id": "c8f7c3c6",
        "outputId": "05cfbaa8-515b-485a-a648-bd9dcab2f520"
      },
      "outputs": [
        {
          "name": "stdout",
          "output_type": "stream",
          "text": [
            "0o31\n"
          ]
        }
      ],
      "source": [
        "print(oct(25))"
      ]
    },
    {
      "cell_type": "code",
      "execution_count": null,
      "id": "f0c8ff2a",
      "metadata": {
        "id": "f0c8ff2a",
        "outputId": "117128a8-ef85-4812-e68a-90d0788b79d7"
      },
      "outputs": [
        {
          "name": "stdout",
          "output_type": "stream",
          "text": [
            "0o144\n"
          ]
        }
      ],
      "source": [
        "print(oct(100))"
      ]
    },
    {
      "cell_type": "code",
      "execution_count": null,
      "id": "272daa90",
      "metadata": {
        "id": "272daa90"
      },
      "outputs": [],
      "source": [
        "d = 0x1A"
      ]
    },
    {
      "cell_type": "code",
      "execution_count": null,
      "id": "16152a50",
      "metadata": {
        "id": "16152a50",
        "outputId": "f8c140a0-d417-4f1f-fab1-fec3eb6939ef"
      },
      "outputs": [
        {
          "name": "stdout",
          "output_type": "stream",
          "text": [
            "26\n"
          ]
        }
      ],
      "source": [
        "print(d)"
      ]
    },
    {
      "cell_type": "code",
      "execution_count": null,
      "id": "e6d0814d",
      "metadata": {
        "id": "e6d0814d",
        "outputId": "4153897f-892f-4c10-e2d1-f10610196258"
      },
      "outputs": [
        {
          "name": "stdout",
          "output_type": "stream",
          "text": [
            "0x64\n"
          ]
        }
      ],
      "source": [
        "print(hex(100))"
      ]
    },
    {
      "cell_type": "code",
      "execution_count": null,
      "id": "2b1556af",
      "metadata": {
        "id": "2b1556af",
        "outputId": "76ae960f-c036-416d-b180-343e70a15aba"
      },
      "outputs": [
        {
          "name": "stdout",
          "output_type": "stream",
          "text": [
            "0b10000\n"
          ]
        }
      ],
      "source": [
        "print(bin(c))"
      ]
    },
    {
      "cell_type": "markdown",
      "id": "8c89f8e4",
      "metadata": {
        "id": "8c89f8e4"
      },
      "source": [
        "Float: fractional numbers\n",
        "\n",
        "- 10.5, 200.012, -55.67"
      ]
    },
    {
      "cell_type": "code",
      "execution_count": null,
      "id": "4b9a0193",
      "metadata": {
        "id": "4b9a0193"
      },
      "outputs": [],
      "source": [
        "num1 = 10.5"
      ]
    },
    {
      "cell_type": "code",
      "execution_count": null,
      "id": "3d8f2485",
      "metadata": {
        "id": "3d8f2485",
        "outputId": "aede006b-781e-40ea-f9c5-4f5c75ce4c59"
      },
      "outputs": [
        {
          "name": "stdout",
          "output_type": "stream",
          "text": [
            "10.5\n"
          ]
        }
      ],
      "source": [
        "print(num1)"
      ]
    },
    {
      "cell_type": "code",
      "execution_count": null,
      "id": "3b883416",
      "metadata": {
        "id": "3b883416",
        "outputId": "60fb6594-c43a-4f28-a5aa-a827a0579d85"
      },
      "outputs": [
        {
          "data": {
            "text/plain": [
              "16"
            ]
          },
          "execution_count": 17,
          "metadata": {},
          "output_type": "execute_result"
        }
      ],
      "source": [
        "a\n",
        "b\n",
        "c"
      ]
    },
    {
      "cell_type": "code",
      "execution_count": null,
      "id": "1abf5181",
      "metadata": {
        "id": "1abf5181",
        "outputId": "39d392f8-527d-4be6-cced-fab9d20eed15"
      },
      "outputs": [
        {
          "name": "stdout",
          "output_type": "stream",
          "text": [
            "200\n",
            "10\n",
            "16\n"
          ]
        }
      ],
      "source": [
        "print(a)\n",
        "print(b)\n",
        "print(c)"
      ]
    },
    {
      "cell_type": "code",
      "execution_count": null,
      "id": "bc661431",
      "metadata": {
        "id": "bc661431",
        "outputId": "12a027e3-ff8f-4fd8-da51-c677c57cb599"
      },
      "outputs": [
        {
          "data": {
            "text/plain": [
              "10.5"
            ]
          },
          "execution_count": 19,
          "metadata": {},
          "output_type": "execute_result"
        }
      ],
      "source": [
        "num1"
      ]
    },
    {
      "cell_type": "code",
      "execution_count": null,
      "id": "b008386c",
      "metadata": {
        "id": "b008386c"
      },
      "outputs": [],
      "source": [
        "num2 = -25.56"
      ]
    },
    {
      "cell_type": "code",
      "execution_count": null,
      "id": "1b14255d",
      "metadata": {
        "id": "1b14255d",
        "outputId": "b43d85a9-ee64-4139-9dda-67fe33dd58fd"
      },
      "outputs": [
        {
          "data": {
            "text/plain": [
              "-25.56"
            ]
          },
          "execution_count": 21,
          "metadata": {},
          "output_type": "execute_result"
        }
      ],
      "source": [
        "num2"
      ]
    },
    {
      "cell_type": "markdown",
      "id": "968b2dde",
      "metadata": {
        "id": "968b2dde"
      },
      "source": [
        "Complex number => real part + imaginary part\n",
        "\n",
        "a + bj\n",
        "\n",
        "- a => real part\n",
        "- b => imaginary part\n",
        "- j => iota => square root of -1"
      ]
    },
    {
      "cell_type": "code",
      "execution_count": null,
      "id": "92c64b4d",
      "metadata": {
        "id": "92c64b4d"
      },
      "outputs": [],
      "source": [
        "c1 = 5 + 6j"
      ]
    },
    {
      "cell_type": "code",
      "execution_count": null,
      "id": "86b22ed6",
      "metadata": {
        "id": "86b22ed6",
        "outputId": "d784cc21-166a-479d-bf52-8cdefbe8d072"
      },
      "outputs": [
        {
          "data": {
            "text/plain": [
              "(5+6j)"
            ]
          },
          "execution_count": 23,
          "metadata": {},
          "output_type": "execute_result"
        }
      ],
      "source": [
        "c1"
      ]
    },
    {
      "cell_type": "markdown",
      "id": "a546a060",
      "metadata": {
        "id": "a546a060"
      },
      "source": [
        "String literal: sequence of characters enclosed within qoutes"
      ]
    },
    {
      "cell_type": "code",
      "execution_count": null,
      "id": "7916a3bc",
      "metadata": {
        "id": "7916a3bc"
      },
      "outputs": [],
      "source": [
        "s1 = 'hello world'"
      ]
    },
    {
      "cell_type": "code",
      "execution_count": null,
      "id": "7bf7ab0d",
      "metadata": {
        "id": "7bf7ab0d",
        "outputId": "e012a3c4-c752-4443-d823-a149fdd21210"
      },
      "outputs": [
        {
          "data": {
            "text/plain": [
              "'hello world'"
            ]
          },
          "execution_count": 25,
          "metadata": {},
          "output_type": "execute_result"
        }
      ],
      "source": [
        "s1"
      ]
    },
    {
      "cell_type": "code",
      "execution_count": null,
      "id": "01a4fb22",
      "metadata": {
        "id": "01a4fb22"
      },
      "outputs": [],
      "source": [
        "s2 = \"How are you?\""
      ]
    },
    {
      "cell_type": "code",
      "execution_count": null,
      "id": "6a94e783",
      "metadata": {
        "id": "6a94e783",
        "outputId": "6f5c491c-f245-448d-fa09-6d483165ca35"
      },
      "outputs": [
        {
          "data": {
            "text/plain": [
              "'How are you?'"
            ]
          },
          "execution_count": 27,
          "metadata": {},
          "output_type": "execute_result"
        }
      ],
      "source": [
        "s2"
      ]
    },
    {
      "cell_type": "code",
      "execution_count": null,
      "id": "a8a83da5",
      "metadata": {
        "id": "a8a83da5"
      },
      "outputs": [],
      "source": [
        "s3 = '''We are learning Python'''"
      ]
    },
    {
      "cell_type": "code",
      "execution_count": null,
      "id": "56bb71fb",
      "metadata": {
        "id": "56bb71fb",
        "outputId": "eeb736d0-0317-49a5-90fd-36fe39a98abd"
      },
      "outputs": [
        {
          "data": {
            "text/plain": [
              "'We are learning Python'"
            ]
          },
          "execution_count": 29,
          "metadata": {},
          "output_type": "execute_result"
        }
      ],
      "source": [
        "s3"
      ]
    },
    {
      "cell_type": "code",
      "execution_count": null,
      "id": "0b37033d",
      "metadata": {
        "id": "0b37033d"
      },
      "outputs": [],
      "source": [
        "s4 = \"\"\"Python is fun\"\"\""
      ]
    },
    {
      "cell_type": "code",
      "execution_count": null,
      "id": "a912bd21",
      "metadata": {
        "id": "a912bd21",
        "outputId": "e55bf0d1-a079-456f-a248-09ce0d1175ff"
      },
      "outputs": [
        {
          "data": {
            "text/plain": [
              "'Python is fun'"
            ]
          },
          "execution_count": 31,
          "metadata": {},
          "output_type": "execute_result"
        }
      ],
      "source": [
        "s4"
      ]
    },
    {
      "cell_type": "code",
      "execution_count": null,
      "id": "646d3b85",
      "metadata": {
        "id": "646d3b85",
        "outputId": "44fad5e5-5c09-41a7-9d41-27f573180ddb"
      },
      "outputs": [
        {
          "ename": "SyntaxError",
          "evalue": "EOL while scanning string literal (Temp/ipykernel_4848/2541063421.py, line 1)",
          "output_type": "error",
          "traceback": [
            "\u001b[1;36m  File \u001b[1;32m\"C:\\Users\\hp\\AppData\\Local\\Temp/ipykernel_4848/2541063421.py\"\u001b[1;36m, line \u001b[1;32m1\u001b[0m\n\u001b[1;33m    s5 = \"Hello\u001b[0m\n\u001b[1;37m               ^\u001b[0m\n\u001b[1;31mSyntaxError\u001b[0m\u001b[1;31m:\u001b[0m EOL while scanning string literal\n"
          ]
        }
      ],
      "source": [
        "s5 = \"Hello\n",
        "How are you?\n",
        "Bye\""
      ]
    },
    {
      "cell_type": "code",
      "execution_count": null,
      "id": "7c44720c",
      "metadata": {
        "id": "7c44720c"
      },
      "outputs": [],
      "source": [
        "s5 = '''Hello\n",
        "How are you?\n",
        "Bye!!'''"
      ]
    },
    {
      "cell_type": "code",
      "execution_count": null,
      "id": "c927a685",
      "metadata": {
        "id": "c927a685",
        "outputId": "6b94ac16-98ad-49f4-82f2-85b7f6c02b3a"
      },
      "outputs": [
        {
          "data": {
            "text/plain": [
              "'Hello\\nHow are you?\\nBye!!'"
            ]
          },
          "execution_count": 34,
          "metadata": {},
          "output_type": "execute_result"
        }
      ],
      "source": [
        "s5"
      ]
    },
    {
      "cell_type": "code",
      "execution_count": null,
      "id": "3441d4dc",
      "metadata": {
        "id": "3441d4dc"
      },
      "outputs": [],
      "source": [
        "# \\n => new line character"
      ]
    },
    {
      "cell_type": "code",
      "execution_count": null,
      "id": "127ec759",
      "metadata": {
        "id": "127ec759"
      },
      "outputs": [],
      "source": [
        "s6 = \"I am working on Python3\""
      ]
    },
    {
      "cell_type": "code",
      "execution_count": null,
      "id": "84c06a1c",
      "metadata": {
        "id": "84c06a1c",
        "outputId": "dca0c5fc-640a-4c19-fdcf-c6e1df14f874"
      },
      "outputs": [
        {
          "data": {
            "text/plain": [
              "'I am working on Python3'"
            ]
          },
          "execution_count": 37,
          "metadata": {},
          "output_type": "execute_result"
        }
      ],
      "source": [
        "s6"
      ]
    },
    {
      "cell_type": "code",
      "execution_count": null,
      "id": "0a7898af",
      "metadata": {
        "id": "0a7898af",
        "outputId": "19eb7729-89c8-4bc1-8ef9-dc0967ad978f"
      },
      "outputs": [
        {
          "name": "stdout",
          "output_type": "stream",
          "text": [
            "Hello\n",
            "How are you?\n",
            "Bye!!\n"
          ]
        }
      ],
      "source": [
        "print(s5)"
      ]
    },
    {
      "cell_type": "code",
      "execution_count": null,
      "id": "de463d34",
      "metadata": {
        "id": "de463d34",
        "outputId": "e4e5fbc8-4a6d-4408-d9de-512311bc94aa"
      },
      "outputs": [
        {
          "ename": "SyntaxError",
          "evalue": "invalid syntax (Temp/ipykernel_4848/2942857006.py, line 1)",
          "output_type": "error",
          "traceback": [
            "\u001b[1;36m  File \u001b[1;32m\"C:\\Users\\hp\\AppData\\Local\\Temp/ipykernel_4848/2942857006.py\"\u001b[1;36m, line \u001b[1;32m1\u001b[0m\n\u001b[1;33m    s7 = 'This is Python's class'\u001b[0m\n\u001b[1;37m                         ^\u001b[0m\n\u001b[1;31mSyntaxError\u001b[0m\u001b[1;31m:\u001b[0m invalid syntax\n"
          ]
        }
      ],
      "source": [
        "s7 = 'This is Python's class'"
      ]
    },
    {
      "cell_type": "code",
      "execution_count": null,
      "id": "9f0b6bfc",
      "metadata": {
        "id": "9f0b6bfc"
      },
      "outputs": [],
      "source": [
        "s7 = \"This is Python's class\""
      ]
    },
    {
      "cell_type": "code",
      "execution_count": null,
      "id": "42d25fb6",
      "metadata": {
        "id": "42d25fb6",
        "outputId": "59ec229c-6f57-441b-8e50-0e772a88b0d1"
      },
      "outputs": [
        {
          "name": "stdout",
          "output_type": "stream",
          "text": [
            "This is Python's class\n"
          ]
        }
      ],
      "source": [
        "print(s7)"
      ]
    },
    {
      "cell_type": "code",
      "execution_count": null,
      "id": "ed361920",
      "metadata": {
        "id": "ed361920"
      },
      "outputs": [],
      "source": []
    }
  ],
  "metadata": {
    "kernelspec": {
      "display_name": "Python 3 (ipykernel)",
      "language": "python",
      "name": "python3"
    },
    "language_info": {
      "codemirror_mode": {
        "name": "ipython",
        "version": 3
      },
      "file_extension": ".py",
      "mimetype": "text/x-python",
      "name": "python",
      "nbconvert_exporter": "python",
      "pygments_lexer": "ipython3",
      "version": "3.9.7"
    },
    "colab": {
      "provenance": [],
      "include_colab_link": true
    }
  },
  "nbformat": 4,
  "nbformat_minor": 5
}