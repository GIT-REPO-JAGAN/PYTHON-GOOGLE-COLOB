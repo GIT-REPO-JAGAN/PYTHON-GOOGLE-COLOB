{
  "cells": [
    {
      "cell_type": "markdown",
      "metadata": {
        "id": "view-in-github",
        "colab_type": "text"
      },
      "source": [
        "<a href=\"https://colab.research.google.com/github/GIT-REPO-JAGAN/PYTHON-GOOGLE-COLOB/blob/main/C_9Python_Sets.ipynb\" target=\"_parent\"><img src=\"https://colab.research.google.com/assets/colab-badge.svg\" alt=\"Open In Colab\"/></a>"
      ]
    },
    {
      "cell_type": "markdown",
      "source": [
        "#### SET\n",
        "Comma separated values enclosed withon {}\n",
        "\n",
        "\n",
        "Unique values/ no duplicates are allowed\n",
        "\n",
        "Unordered\n",
        "\n",
        "No indexing\n",
        "\n",
        "Mutable\n",
        "\n",
        "Elements of the set cannot be mutable objects"
      ],
      "metadata": {
        "id": "DalS4jV65DcF"
      },
      "id": "DalS4jV65DcF"
    },
    {
      "cell_type": "code",
      "execution_count": 1,
      "id": "05523bef",
      "metadata": {
        "id": "05523bef"
      },
      "outputs": [],
      "source": [
        "s1 = {1, 6, 3, 'Python'}"
      ]
    },
    {
      "cell_type": "code",
      "execution_count": null,
      "id": "b4846ad7",
      "metadata": {
        "id": "b4846ad7",
        "outputId": "8da425fc-c10a-4345-f405-a6cb0f924e09"
      },
      "outputs": [
        {
          "data": {
            "text/plain": [
              "{1, 3, 6, 'Python'}"
            ]
          },
          "execution_count": 3,
          "metadata": {},
          "output_type": "execute_result"
        }
      ],
      "source": [
        "s1"
      ]
    },
    {
      "cell_type": "code",
      "execution_count": null,
      "id": "7eb0a83b",
      "metadata": {
        "id": "7eb0a83b",
        "outputId": "409598d9-7893-44d6-d2bb-a7840136dde0"
      },
      "outputs": [
        {
          "data": {
            "text/plain": [
              "4"
            ]
          },
          "execution_count": 4,
          "metadata": {},
          "output_type": "execute_result"
        }
      ],
      "source": [
        "len(s1)"
      ]
    },
    {
      "cell_type": "code",
      "execution_count": null,
      "id": "7091768d",
      "metadata": {
        "id": "7091768d",
        "outputId": "b80fa9d8-0dea-4a25-db7d-9226cd404817"
      },
      "outputs": [
        {
          "ename": "TypeError",
          "evalue": "'set' object is not subscriptable",
          "output_type": "error",
          "traceback": [
            "\u001b[1;31m---------------------------------------------------------------------------\u001b[0m",
            "\u001b[1;31mTypeError\u001b[0m                                 Traceback (most recent call last)",
            "\u001b[1;32m~\\AppData\\Local\\Temp/ipykernel_14312/643609873.py\u001b[0m in \u001b[0;36m<module>\u001b[1;34m\u001b[0m\n\u001b[1;32m----> 1\u001b[1;33m \u001b[0ms1\u001b[0m\u001b[1;33m[\u001b[0m\u001b[1;36m0\u001b[0m\u001b[1;33m]\u001b[0m\u001b[1;33m\u001b[0m\u001b[1;33m\u001b[0m\u001b[0m\n\u001b[0m",
            "\u001b[1;31mTypeError\u001b[0m: 'set' object is not subscriptable"
          ]
        }
      ],
      "source": [
        "s1[0] # indexing is not allowed as this is mutable"
      ]
    },
    {
      "cell_type": "code",
      "execution_count": 2,
      "id": "84b3b568",
      "metadata": {
        "id": "84b3b568"
      },
      "outputs": [],
      "source": [
        "s2 = {10, 10, True, 1, 0, False, 'hi'} # no duplicates are allowed. Same time True = 1 and False = 0"
      ]
    },
    {
      "cell_type": "code",
      "execution_count": null,
      "id": "1538b865",
      "metadata": {
        "id": "1538b865",
        "outputId": "93e43440-1309-441f-c351-70ebbb05136b"
      },
      "outputs": [
        {
          "data": {
            "text/plain": [
              "{0, 10, True, 'hi'}"
            ]
          },
          "execution_count": 8,
          "metadata": {},
          "output_type": "execute_result"
        }
      ],
      "source": [
        "s2"
      ]
    },
    {
      "cell_type": "code",
      "execution_count": null,
      "id": "7e8c473c",
      "metadata": {
        "id": "7e8c473c",
        "outputId": "d26b14f6-7cfe-4ac3-cc6a-693aaaae390d"
      },
      "outputs": [
        {
          "data": {
            "text/plain": [
              "True"
            ]
          },
          "execution_count": 9,
          "metadata": {},
          "output_type": "execute_result"
        }
      ],
      "source": [
        "True == 1"
      ]
    },
    {
      "cell_type": "code",
      "execution_count": 3,
      "id": "f5c953a4",
      "metadata": {
        "id": "f5c953a4",
        "outputId": "de685009-c30e-4a63-999c-2ba2455b215c",
        "colab": {
          "base_uri": "https://localhost:8080/",
          "height": 171
        }
      },
      "outputs": [
        {
          "output_type": "error",
          "ename": "TypeError",
          "evalue": "ignored",
          "traceback": [
            "\u001b[0;31m---------------------------------------------------------------------------\u001b[0m",
            "\u001b[0;31mTypeError\u001b[0m                                 Traceback (most recent call last)",
            "\u001b[0;32m<ipython-input-3-597d6a1cf470>\u001b[0m in \u001b[0;36m<cell line: 1>\u001b[0;34m()\u001b[0m\n\u001b[0;32m----> 1\u001b[0;31m \u001b[0ms3\u001b[0m \u001b[0;34m=\u001b[0m \u001b[0;34m{\u001b[0m\u001b[0;36m10\u001b[0m\u001b[0;34m,\u001b[0m \u001b[0;36m20\u001b[0m\u001b[0;34m,\u001b[0m \u001b[0;34m[\u001b[0m\u001b[0;36m1\u001b[0m\u001b[0;34m,\u001b[0m\u001b[0;36m2\u001b[0m\u001b[0;34m,\u001b[0m\u001b[0;36m3\u001b[0m\u001b[0;34m]\u001b[0m\u001b[0;34m}\u001b[0m  \u001b[0;31m#Elements of the set cannot be mutable objects\u001b[0m\u001b[0;34m\u001b[0m\u001b[0;34m\u001b[0m\u001b[0m\n\u001b[0m",
            "\u001b[0;31mTypeError\u001b[0m: unhashable type: 'list'"
          ]
        }
      ],
      "source": [
        "s3 = {10, 20, [1,2,3]}  #Elements of the set cannot be mutable objects"
      ]
    },
    {
      "cell_type": "code",
      "execution_count": null,
      "id": "63969680",
      "metadata": {
        "id": "63969680"
      },
      "outputs": [],
      "source": [
        "s3 = {10, 20, {1,2,3}} #Set inside set also not allowed"
      ]
    },
    {
      "cell_type": "code",
      "execution_count": null,
      "id": "ded7fa6c",
      "metadata": {
        "id": "ded7fa6c",
        "outputId": "f3e229e6-d781-405e-b202-45aed7d59855"
      },
      "outputs": [
        {
          "ename": "TypeError",
          "evalue": "unhashable type: 'dict'",
          "output_type": "error",
          "traceback": [
            "\u001b[1;31m---------------------------------------------------------------------------\u001b[0m",
            "\u001b[1;31mTypeError\u001b[0m                                 Traceback (most recent call last)",
            "\u001b[1;32m~\\AppData\\Local\\Temp/ipykernel_14312/1328802619.py\u001b[0m in \u001b[0;36m<module>\u001b[1;34m\u001b[0m\n\u001b[1;32m----> 1\u001b[1;33m \u001b[0ms3\u001b[0m \u001b[1;33m=\u001b[0m \u001b[1;33m{\u001b[0m\u001b[1;36m10\u001b[0m\u001b[1;33m,\u001b[0m \u001b[1;36m20\u001b[0m\u001b[1;33m,\u001b[0m \u001b[1;33m{\u001b[0m\u001b[1;34m'a'\u001b[0m\u001b[1;33m:\u001b[0m\u001b[1;36m1\u001b[0m\u001b[1;33m,\u001b[0m \u001b[1;34m'b'\u001b[0m\u001b[1;33m:\u001b[0m\u001b[1;36m2\u001b[0m\u001b[1;33m}\u001b[0m\u001b[1;33m}\u001b[0m\u001b[1;33m\u001b[0m\u001b[1;33m\u001b[0m\u001b[0m\n\u001b[0m",
            "\u001b[1;31mTypeError\u001b[0m: unhashable type: 'dict'"
          ]
        }
      ],
      "source": [
        "s3 = {10, 20, {'a':1, 'b':2}}"
      ]
    },
    {
      "cell_type": "code",
      "execution_count": 4,
      "id": "3a4637d4",
      "metadata": {
        "id": "3a4637d4"
      },
      "outputs": [],
      "source": [
        "s3 = {10, 20, (1,2,3)} #Tupple inside set is allowed"
      ]
    },
    {
      "cell_type": "code",
      "execution_count": null,
      "id": "ac52586f",
      "metadata": {
        "id": "ac52586f",
        "outputId": "7ac63d43-2247-4e57-fa16-040f3f7ad4a1"
      },
      "outputs": [
        {
          "data": {
            "text/plain": [
              "{(1, 2, 3), 10, 20}"
            ]
          },
          "execution_count": 14,
          "metadata": {},
          "output_type": "execute_result"
        }
      ],
      "source": [
        "s3"
      ]
    },
    {
      "cell_type": "code",
      "execution_count": 5,
      "id": "17ac5b1f",
      "metadata": {
        "id": "17ac5b1f"
      },
      "outputs": [],
      "source": [
        "d1 = {'a':1, 'b':2}"
      ]
    },
    {
      "cell_type": "code",
      "execution_count": 6,
      "id": "84353417",
      "metadata": {
        "id": "84353417",
        "outputId": "63551b0b-ab6a-407a-da78-abfab09e0cbc",
        "colab": {
          "base_uri": "https://localhost:8080/"
        }
      },
      "outputs": [
        {
          "output_type": "execute_result",
          "data": {
            "text/plain": [
              "dict_keys(['a', 'b'])"
            ]
          },
          "metadata": {},
          "execution_count": 6
        }
      ],
      "source": [
        "d1.keys()"
      ]
    },
    {
      "cell_type": "code",
      "execution_count": 7,
      "id": "894c5c67",
      "metadata": {
        "id": "894c5c67",
        "outputId": "10b8259f-2a41-4d44-97c0-c5d4259aec60",
        "colab": {
          "base_uri": "https://localhost:8080/",
          "height": 171
        }
      },
      "outputs": [
        {
          "output_type": "error",
          "ename": "TypeError",
          "evalue": "ignored",
          "traceback": [
            "\u001b[0;31m---------------------------------------------------------------------------\u001b[0m",
            "\u001b[0;31mTypeError\u001b[0m                                 Traceback (most recent call last)",
            "\u001b[0;32m<ipython-input-7-0c6ab33d1cf7>\u001b[0m in \u001b[0;36m<cell line: 1>\u001b[0;34m()\u001b[0m\n\u001b[0;32m----> 1\u001b[0;31m \u001b[0ms4\u001b[0m \u001b[0;34m=\u001b[0m \u001b[0;34m{\u001b[0m\u001b[0;36m1\u001b[0m\u001b[0;34m,\u001b[0m \u001b[0;36m2\u001b[0m\u001b[0;34m,\u001b[0m \u001b[0md1\u001b[0m\u001b[0;34m.\u001b[0m\u001b[0mkeys\u001b[0m\u001b[0;34m(\u001b[0m\u001b[0;34m)\u001b[0m\u001b[0;34m}\u001b[0m\u001b[0;34m\u001b[0m\u001b[0;34m\u001b[0m\u001b[0m\n\u001b[0m",
            "\u001b[0;31mTypeError\u001b[0m: unhashable type: 'dict_keys'"
          ]
        }
      ],
      "source": [
        "s4 = {1, 2, d1.keys()}"
      ]
    },
    {
      "cell_type": "code",
      "execution_count": 8,
      "id": "fe99dfe8",
      "metadata": {
        "id": "fe99dfe8",
        "outputId": "5950c7e7-dc7a-4e2d-81da-a15d6daafd21",
        "colab": {
          "base_uri": "https://localhost:8080/"
        }
      },
      "outputs": [
        {
          "output_type": "execute_result",
          "data": {
            "text/plain": [
              "{1, 3, 6, 'Python'}"
            ]
          },
          "metadata": {},
          "execution_count": 8
        }
      ],
      "source": [
        "s1"
      ]
    },
    {
      "cell_type": "code",
      "execution_count": 9,
      "id": "eccdb059",
      "metadata": {
        "id": "eccdb059",
        "outputId": "585ffe59-0b09-4f7a-b1c0-52a8d321f569",
        "colab": {
          "base_uri": "https://localhost:8080/"
        }
      },
      "outputs": [
        {
          "output_type": "execute_result",
          "data": {
            "text/plain": [
              "True"
            ]
          },
          "metadata": {},
          "execution_count": 9
        }
      ],
      "source": [
        "1 in s1"
      ]
    },
    {
      "cell_type": "code",
      "execution_count": null,
      "id": "8b5eaaad",
      "metadata": {
        "id": "8b5eaaad",
        "outputId": "62ba773e-7324-41e2-cc75-980fc11a2658"
      },
      "outputs": [
        {
          "data": {
            "text/plain": [
              "True"
            ]
          },
          "execution_count": 20,
          "metadata": {},
          "output_type": "execute_result"
        }
      ],
      "source": [
        "True in s1"
      ]
    },
    {
      "cell_type": "code",
      "execution_count": null,
      "id": "c9e86419",
      "metadata": {
        "id": "c9e86419",
        "outputId": "7205ec45-b733-448a-9285-b47c18c8d4a0"
      },
      "outputs": [
        {
          "data": {
            "text/plain": [
              "False"
            ]
          },
          "execution_count": 21,
          "metadata": {},
          "output_type": "execute_result"
        }
      ],
      "source": [
        "10 in s1"
      ]
    },
    {
      "cell_type": "code",
      "execution_count": null,
      "id": "476eb6a8",
      "metadata": {
        "id": "476eb6a8",
        "outputId": "ac8f8e40-d933-462b-83d3-d8ab1fa8a31c"
      },
      "outputs": [
        {
          "data": {
            "text/plain": [
              "{0, 10, True, 'hi'}"
            ]
          },
          "execution_count": 22,
          "metadata": {},
          "output_type": "execute_result"
        }
      ],
      "source": [
        "s2"
      ]
    },
    {
      "cell_type": "markdown",
      "source": [
        "#### Add"
      ],
      "metadata": {
        "id": "M7NuAgAl7OZr"
      },
      "id": "M7NuAgAl7OZr"
    },
    {
      "cell_type": "code",
      "execution_count": null,
      "id": "95a454b4",
      "metadata": {
        "id": "95a454b4",
        "outputId": "bfdfb920-6294-40e8-e335-27caf1d54333"
      },
      "outputs": [
        {
          "data": {
            "text/plain": [
              "1769563630496"
            ]
          },
          "execution_count": 24,
          "metadata": {},
          "output_type": "execute_result"
        }
      ],
      "source": [
        "id(s2)"
      ]
    },
    {
      "cell_type": "code",
      "execution_count": 16,
      "id": "60450066",
      "metadata": {
        "id": "60450066"
      },
      "outputs": [],
      "source": [
        "s2.add(20)"
      ]
    },
    {
      "cell_type": "code",
      "execution_count": 17,
      "id": "b6ec065a",
      "metadata": {
        "id": "b6ec065a",
        "outputId": "f31fb08d-33cb-4e4a-cc3b-c9bd649a2937",
        "colab": {
          "base_uri": "https://localhost:8080/"
        }
      },
      "outputs": [
        {
          "output_type": "execute_result",
          "data": {
            "text/plain": [
              "{0, 10, 20, True, 'hi'}"
            ]
          },
          "metadata": {},
          "execution_count": 17
        }
      ],
      "source": [
        "s2"
      ]
    },
    {
      "cell_type": "code",
      "execution_count": 18,
      "id": "3b4f1763",
      "metadata": {
        "id": "3b4f1763",
        "outputId": "a82cd9aa-e087-459e-bf1e-3e6e54c1a1aa",
        "colab": {
          "base_uri": "https://localhost:8080/"
        }
      },
      "outputs": [
        {
          "output_type": "execute_result",
          "data": {
            "text/plain": [
              "139982758414816"
            ]
          },
          "metadata": {},
          "execution_count": 18
        }
      ],
      "source": [
        "id(s2)"
      ]
    },
    {
      "cell_type": "code",
      "execution_count": 19,
      "id": "51797963",
      "metadata": {
        "id": "51797963",
        "outputId": "8e6c3e22-1a83-422f-c446-87742fc57fe0",
        "colab": {
          "base_uri": "https://localhost:8080/"
        }
      },
      "outputs": [
        {
          "output_type": "execute_result",
          "data": {
            "text/plain": [
              "{0, 10, 20, True, 'hi'}"
            ]
          },
          "metadata": {},
          "execution_count": 19
        }
      ],
      "source": [
        "s2"
      ]
    },
    {
      "cell_type": "code",
      "execution_count": 20,
      "id": "4e524abe",
      "metadata": {
        "id": "4e524abe"
      },
      "outputs": [],
      "source": [
        "s2.add(1)"
      ]
    },
    {
      "cell_type": "code",
      "execution_count": 14,
      "id": "8b23404b",
      "metadata": {
        "id": "8b23404b",
        "outputId": "8bea230a-d865-44fd-9861-f4158c90114a",
        "colab": {
          "base_uri": "https://localhost:8080/"
        }
      },
      "outputs": [
        {
          "output_type": "execute_result",
          "data": {
            "text/plain": [
              "{0, 10, True, 'hi'}"
            ]
          },
          "metadata": {},
          "execution_count": 14
        }
      ],
      "source": [
        "s2"
      ]
    },
    {
      "cell_type": "code",
      "execution_count": 21,
      "id": "99fc09a3",
      "metadata": {
        "id": "99fc09a3",
        "outputId": "a32f42ff-2b7e-4f31-95bc-8e0dda5486ed",
        "colab": {
          "base_uri": "https://localhost:8080/",
          "height": 171
        }
      },
      "outputs": [
        {
          "output_type": "error",
          "ename": "TypeError",
          "evalue": "ignored",
          "traceback": [
            "\u001b[0;31m---------------------------------------------------------------------------\u001b[0m",
            "\u001b[0;31mTypeError\u001b[0m                                 Traceback (most recent call last)",
            "\u001b[0;32m<ipython-input-21-fb14f2d8e6d3>\u001b[0m in \u001b[0;36m<cell line: 1>\u001b[0;34m()\u001b[0m\n\u001b[0;32m----> 1\u001b[0;31m \u001b[0ms2\u001b[0m\u001b[0;34m.\u001b[0m\u001b[0madd\u001b[0m\u001b[0;34m(\u001b[0m\u001b[0;34m[\u001b[0m\u001b[0;36m10\u001b[0m\u001b[0;34m,\u001b[0m \u001b[0;36m20\u001b[0m\u001b[0;34m]\u001b[0m\u001b[0;34m)\u001b[0m\u001b[0;34m\u001b[0m\u001b[0;34m\u001b[0m\u001b[0m\n\u001b[0m",
            "\u001b[0;31mTypeError\u001b[0m: unhashable type: 'list'"
          ]
        }
      ],
      "source": [
        "s2.add([10, 20])"
      ]
    },
    {
      "cell_type": "code",
      "execution_count": 23,
      "id": "e089e875",
      "metadata": {
        "id": "e089e875",
        "outputId": "c3cc4a4f-9a32-4cd9-bba4-380b27a988a3",
        "colab": {
          "base_uri": "https://localhost:8080/"
        }
      },
      "outputs": [
        {
          "output_type": "stream",
          "name": "stdout",
          "text": [
            "Help on built-in function add:\n",
            "\n",
            "add(...) method of builtins.set instance\n",
            "    Add an element to a set.\n",
            "    \n",
            "    This has no effect if the element is already present.\n",
            "\n"
          ]
        }
      ],
      "source": [
        "help(s2.add)"
      ]
    },
    {
      "cell_type": "markdown",
      "source": [
        "####Discard\n",
        "\n",
        "Remove"
      ],
      "metadata": {
        "id": "X0lgatTM7Uw4"
      },
      "id": "X0lgatTM7Uw4"
    },
    {
      "cell_type": "code",
      "execution_count": 27,
      "id": "e023d6a3",
      "metadata": {
        "id": "e023d6a3",
        "outputId": "f814e277-7730-429b-96ec-d37b16f2bfa7",
        "colab": {
          "base_uri": "https://localhost:8080/"
        }
      },
      "outputs": [
        {
          "output_type": "execute_result",
          "data": {
            "text/plain": [
              "{0, 20, True, 'hi'}"
            ]
          },
          "metadata": {},
          "execution_count": 27
        }
      ],
      "source": [
        "s2"
      ]
    },
    {
      "cell_type": "code",
      "execution_count": 28,
      "id": "96acb49b",
      "metadata": {
        "id": "96acb49b"
      },
      "outputs": [],
      "source": [
        "s2.discard(10)"
      ]
    },
    {
      "cell_type": "code",
      "execution_count": 26,
      "id": "802630ec",
      "metadata": {
        "id": "802630ec",
        "outputId": "c16acf3c-bd63-410a-eac4-d4d9d72d357a",
        "colab": {
          "base_uri": "https://localhost:8080/"
        }
      },
      "outputs": [
        {
          "output_type": "execute_result",
          "data": {
            "text/plain": [
              "{0, 20, True, 'hi'}"
            ]
          },
          "metadata": {},
          "execution_count": 26
        }
      ],
      "source": [
        "s2"
      ]
    },
    {
      "cell_type": "code",
      "execution_count": null,
      "id": "a9fde986",
      "metadata": {
        "id": "a9fde986"
      },
      "outputs": [],
      "source": [
        "s2.discard(100) # Discard undefied value through no error"
      ]
    },
    {
      "cell_type": "code",
      "execution_count": null,
      "id": "37a8c9e5",
      "metadata": {
        "id": "37a8c9e5",
        "outputId": "5b63b7a5-0592-461d-ff1c-e3f553a625f8"
      },
      "outputs": [
        {
          "data": {
            "text/plain": [
              "{0, 20, True, 'hi'}"
            ]
          },
          "execution_count": 37,
          "metadata": {},
          "output_type": "execute_result"
        }
      ],
      "source": [
        "s2"
      ]
    },
    {
      "cell_type": "code",
      "execution_count": 29,
      "id": "af864c9a",
      "metadata": {
        "id": "af864c9a"
      },
      "outputs": [],
      "source": [
        "s2.remove(20)"
      ]
    },
    {
      "cell_type": "code",
      "execution_count": 30,
      "id": "dd48738b",
      "metadata": {
        "id": "dd48738b",
        "outputId": "51df9089-24bf-4179-eae9-bb34a4337539",
        "colab": {
          "base_uri": "https://localhost:8080/"
        }
      },
      "outputs": [
        {
          "output_type": "execute_result",
          "data": {
            "text/plain": [
              "{0, True, 'hi'}"
            ]
          },
          "metadata": {},
          "execution_count": 30
        }
      ],
      "source": [
        "s2"
      ]
    },
    {
      "cell_type": "code",
      "execution_count": 31,
      "id": "871bd2fb",
      "metadata": {
        "id": "871bd2fb",
        "outputId": "173e43ca-3b9e-4155-bce2-022c35cf8276",
        "colab": {
          "base_uri": "https://localhost:8080/",
          "height": 171
        }
      },
      "outputs": [
        {
          "output_type": "error",
          "ename": "KeyError",
          "evalue": "ignored",
          "traceback": [
            "\u001b[0;31m---------------------------------------------------------------------------\u001b[0m",
            "\u001b[0;31mKeyError\u001b[0m                                  Traceback (most recent call last)",
            "\u001b[0;32m<ipython-input-31-7cef4777e7f0>\u001b[0m in \u001b[0;36m<cell line: 1>\u001b[0;34m()\u001b[0m\n\u001b[0;32m----> 1\u001b[0;31m \u001b[0ms2\u001b[0m\u001b[0;34m.\u001b[0m\u001b[0mremove\u001b[0m\u001b[0;34m(\u001b[0m\u001b[0;36m100\u001b[0m\u001b[0;34m)\u001b[0m \u001b[0;31m# Remove undefied value through error\u001b[0m\u001b[0;34m\u001b[0m\u001b[0;34m\u001b[0m\u001b[0m\n\u001b[0m",
            "\u001b[0;31mKeyError\u001b[0m: 100"
          ]
        }
      ],
      "source": [
        "s2.remove(100) # Remove undefied value through error"
      ]
    },
    {
      "cell_type": "code",
      "execution_count": 32,
      "id": "28a3c3f8",
      "metadata": {
        "id": "28a3c3f8",
        "outputId": "f6ce85ce-b493-4bc3-9f10-9d254fe44c70",
        "colab": {
          "base_uri": "https://localhost:8080/"
        }
      },
      "outputs": [
        {
          "output_type": "execute_result",
          "data": {
            "text/plain": [
              "{1, 3, 6, 'Python'}"
            ]
          },
          "metadata": {},
          "execution_count": 32
        }
      ],
      "source": [
        "s1"
      ]
    },
    {
      "cell_type": "code",
      "execution_count": 33,
      "id": "ddc89483",
      "metadata": {
        "id": "ddc89483",
        "outputId": "b8608f35-b43b-4d80-8dd3-7cad7fae279a",
        "colab": {
          "base_uri": "https://localhost:8080/"
        }
      },
      "outputs": [
        {
          "output_type": "execute_result",
          "data": {
            "text/plain": [
              "{0, True, 'hi'}"
            ]
          },
          "metadata": {},
          "execution_count": 33
        }
      ],
      "source": [
        "s2"
      ]
    },
    {
      "cell_type": "markdown",
      "source": [
        "#### Union   = |\n",
        "\n",
        "Intersection  = &\n",
        "\n",
        "Subset\n",
        "\n",
        "Superset"
      ],
      "metadata": {
        "id": "_fp54peZ73HS"
      },
      "id": "_fp54peZ73HS"
    },
    {
      "cell_type": "code",
      "execution_count": 34,
      "id": "aedd640f",
      "metadata": {
        "id": "aedd640f"
      },
      "outputs": [],
      "source": [
        "set1 = {1, 5, 2, 10.5}"
      ]
    },
    {
      "cell_type": "code",
      "execution_count": 35,
      "id": "a7693808",
      "metadata": {
        "id": "a7693808"
      },
      "outputs": [],
      "source": [
        "set2 = {5, 2, 10}"
      ]
    },
    {
      "cell_type": "code",
      "execution_count": 36,
      "id": "f10564b5",
      "metadata": {
        "id": "f10564b5",
        "outputId": "e38b00dc-08f3-442f-fe5b-4f20446b3050",
        "colab": {
          "base_uri": "https://localhost:8080/"
        }
      },
      "outputs": [
        {
          "output_type": "execute_result",
          "data": {
            "text/plain": [
              "{1, 2, 5, 10.5}"
            ]
          },
          "metadata": {},
          "execution_count": 36
        }
      ],
      "source": [
        "set1"
      ]
    },
    {
      "cell_type": "code",
      "execution_count": 37,
      "id": "09a496fc",
      "metadata": {
        "id": "09a496fc",
        "outputId": "bc6a425b-cc9b-42cb-90b2-ad174f72b998",
        "colab": {
          "base_uri": "https://localhost:8080/"
        }
      },
      "outputs": [
        {
          "output_type": "execute_result",
          "data": {
            "text/plain": [
              "{2, 5, 10}"
            ]
          },
          "metadata": {},
          "execution_count": 37
        }
      ],
      "source": [
        "set2"
      ]
    },
    {
      "cell_type": "code",
      "execution_count": 38,
      "id": "a35379bb",
      "metadata": {
        "id": "a35379bb",
        "outputId": "578871f9-7369-411a-f402-7eb25d1b1a4e",
        "colab": {
          "base_uri": "https://localhost:8080/"
        }
      },
      "outputs": [
        {
          "output_type": "execute_result",
          "data": {
            "text/plain": [
              "{1, 2, 5, 10, 10.5}"
            ]
          },
          "metadata": {},
          "execution_count": 38
        }
      ],
      "source": [
        "set1 | set2"
      ]
    },
    {
      "cell_type": "code",
      "execution_count": 39,
      "id": "0aceb49e",
      "metadata": {
        "id": "0aceb49e",
        "outputId": "40c7c23f-681c-4815-c447-44fd04fdee4d",
        "colab": {
          "base_uri": "https://localhost:8080/"
        }
      },
      "outputs": [
        {
          "output_type": "execute_result",
          "data": {
            "text/plain": [
              "{1, 2, 5, 10, 10.5}"
            ]
          },
          "metadata": {},
          "execution_count": 39
        }
      ],
      "source": [
        "set1.union(set2)"
      ]
    },
    {
      "cell_type": "code",
      "execution_count": 40,
      "id": "a68609fd",
      "metadata": {
        "id": "a68609fd",
        "outputId": "a2c2ab4b-68d1-467a-a100-148ceebdce4f",
        "colab": {
          "base_uri": "https://localhost:8080/"
        }
      },
      "outputs": [
        {
          "output_type": "execute_result",
          "data": {
            "text/plain": [
              "{1, 2, 5, 10, 10.5}"
            ]
          },
          "metadata": {},
          "execution_count": 40
        }
      ],
      "source": [
        "set2.union(set1)"
      ]
    },
    {
      "cell_type": "code",
      "execution_count": 41,
      "id": "45e10903",
      "metadata": {
        "id": "45e10903",
        "outputId": "ae20d983-4122-4e00-b529-08779d11b3d7",
        "colab": {
          "base_uri": "https://localhost:8080/"
        }
      },
      "outputs": [
        {
          "output_type": "execute_result",
          "data": {
            "text/plain": [
              "{1, 2, 5, 10.5}"
            ]
          },
          "metadata": {},
          "execution_count": 41
        }
      ],
      "source": [
        "set1"
      ]
    },
    {
      "cell_type": "code",
      "execution_count": 42,
      "id": "2af86727",
      "metadata": {
        "id": "2af86727",
        "outputId": "d52bea66-e907-40c8-def3-b7f321b00ef7",
        "colab": {
          "base_uri": "https://localhost:8080/"
        }
      },
      "outputs": [
        {
          "output_type": "execute_result",
          "data": {
            "text/plain": [
              "{2, 5, 10}"
            ]
          },
          "metadata": {},
          "execution_count": 42
        }
      ],
      "source": [
        "set2"
      ]
    },
    {
      "cell_type": "code",
      "execution_count": 43,
      "id": "6af89b45",
      "metadata": {
        "id": "6af89b45",
        "outputId": "a9864d0c-2f7f-4e48-ac49-4a98f00ed676",
        "colab": {
          "base_uri": "https://localhost:8080/"
        }
      },
      "outputs": [
        {
          "output_type": "execute_result",
          "data": {
            "text/plain": [
              "{2, 5}"
            ]
          },
          "metadata": {},
          "execution_count": 43
        }
      ],
      "source": [
        "set1.intersection(set2)"
      ]
    },
    {
      "cell_type": "code",
      "execution_count": 44,
      "id": "372ffa58",
      "metadata": {
        "id": "372ffa58",
        "outputId": "559597df-e21d-4152-9c0e-ca1dfd19bb05",
        "colab": {
          "base_uri": "https://localhost:8080/"
        }
      },
      "outputs": [
        {
          "output_type": "execute_result",
          "data": {
            "text/plain": [
              "{2, 5}"
            ]
          },
          "metadata": {},
          "execution_count": 44
        }
      ],
      "source": [
        "set2.intersection(set1)"
      ]
    },
    {
      "cell_type": "code",
      "execution_count": 45,
      "id": "5abd7846",
      "metadata": {
        "id": "5abd7846",
        "outputId": "25b895bb-0a6d-457c-f0a6-2446fc2b71d0",
        "colab": {
          "base_uri": "https://localhost:8080/"
        }
      },
      "outputs": [
        {
          "output_type": "execute_result",
          "data": {
            "text/plain": [
              "{2, 5}"
            ]
          },
          "metadata": {},
          "execution_count": 45
        }
      ],
      "source": [
        "set1 & set2"
      ]
    },
    {
      "cell_type": "code",
      "execution_count": 47,
      "id": "5be0ef4c",
      "metadata": {
        "id": "5be0ef4c",
        "outputId": "082d4904-0422-465c-ab2a-b75057765326",
        "colab": {
          "base_uri": "https://localhost:8080/"
        }
      },
      "outputs": [
        {
          "output_type": "execute_result",
          "data": {
            "text/plain": [
              "{1, 2, 5, 10.5}"
            ]
          },
          "metadata": {},
          "execution_count": 47
        }
      ],
      "source": [
        "set1"
      ]
    },
    {
      "cell_type": "code",
      "execution_count": 46,
      "id": "36fe434a",
      "metadata": {
        "id": "36fe434a",
        "outputId": "2ea405cf-ef87-4e2f-f6a6-747ea1a62a64",
        "colab": {
          "base_uri": "https://localhost:8080/"
        }
      },
      "outputs": [
        {
          "output_type": "execute_result",
          "data": {
            "text/plain": [
              "{2, 5, 10}"
            ]
          },
          "metadata": {},
          "execution_count": 46
        }
      ],
      "source": [
        "set2"
      ]
    },
    {
      "cell_type": "code",
      "execution_count": 48,
      "id": "ceb25f6e",
      "metadata": {
        "id": "ceb25f6e"
      },
      "outputs": [],
      "source": [
        "set3 = {4, 2}"
      ]
    },
    {
      "cell_type": "code",
      "execution_count": 49,
      "id": "1d47a57f",
      "metadata": {
        "id": "1d47a57f"
      },
      "outputs": [],
      "source": [
        "set4 = {0, 3, 1, 2, 4, 5}"
      ]
    },
    {
      "cell_type": "code",
      "execution_count": 50,
      "id": "1210a565",
      "metadata": {
        "id": "1210a565",
        "outputId": "6db47835-0fd5-4b3d-9cad-e5619f3cec49",
        "colab": {
          "base_uri": "https://localhost:8080/"
        }
      },
      "outputs": [
        {
          "output_type": "execute_result",
          "data": {
            "text/plain": [
              "{0, 1, 2, 3, 4, 5}"
            ]
          },
          "metadata": {},
          "execution_count": 50
        }
      ],
      "source": [
        "set4"
      ]
    },
    {
      "cell_type": "code",
      "execution_count": 51,
      "id": "24d05c9f",
      "metadata": {
        "id": "24d05c9f",
        "outputId": "b279f956-6427-411a-c697-854c410bcd6e",
        "colab": {
          "base_uri": "https://localhost:8080/"
        }
      },
      "outputs": [
        {
          "output_type": "execute_result",
          "data": {
            "text/plain": [
              "{2, 4}"
            ]
          },
          "metadata": {},
          "execution_count": 51
        }
      ],
      "source": [
        "set3"
      ]
    },
    {
      "cell_type": "code",
      "execution_count": 52,
      "id": "c8d69e30",
      "metadata": {
        "id": "c8d69e30"
      },
      "outputs": [],
      "source": [
        "# set3 is a subset of set4\n",
        "# set4 is a superset of set3"
      ]
    },
    {
      "cell_type": "code",
      "execution_count": 53,
      "id": "78c2afd5",
      "metadata": {
        "id": "78c2afd5",
        "outputId": "dda9184a-3e04-434f-b4ee-0b5ae4eb2e3e",
        "colab": {
          "base_uri": "https://localhost:8080/"
        }
      },
      "outputs": [
        {
          "output_type": "execute_result",
          "data": {
            "text/plain": [
              "True"
            ]
          },
          "metadata": {},
          "execution_count": 53
        }
      ],
      "source": [
        "set3.issubset(set4)"
      ]
    },
    {
      "cell_type": "code",
      "execution_count": 54,
      "id": "d6fb027c",
      "metadata": {
        "id": "d6fb027c",
        "outputId": "dbca0666-b282-4d57-f0aa-534c6dfd4c5b",
        "colab": {
          "base_uri": "https://localhost:8080/"
        }
      },
      "outputs": [
        {
          "output_type": "execute_result",
          "data": {
            "text/plain": [
              "{2, 5, 10}"
            ]
          },
          "metadata": {},
          "execution_count": 54
        }
      ],
      "source": [
        "set2"
      ]
    },
    {
      "cell_type": "code",
      "execution_count": 55,
      "id": "1cf1ef13",
      "metadata": {
        "id": "1cf1ef13",
        "outputId": "faf6c293-c86b-40ed-c911-b7b038124775",
        "colab": {
          "base_uri": "https://localhost:8080/"
        }
      },
      "outputs": [
        {
          "output_type": "execute_result",
          "data": {
            "text/plain": [
              "{1, 2, 5, 10.5}"
            ]
          },
          "metadata": {},
          "execution_count": 55
        }
      ],
      "source": [
        "set1"
      ]
    },
    {
      "cell_type": "code",
      "execution_count": 56,
      "id": "f7fa48eb",
      "metadata": {
        "id": "f7fa48eb",
        "outputId": "45754546-a79b-4c57-b055-d154719ffb58",
        "colab": {
          "base_uri": "https://localhost:8080/"
        }
      },
      "outputs": [
        {
          "output_type": "execute_result",
          "data": {
            "text/plain": [
              "False"
            ]
          },
          "metadata": {},
          "execution_count": 56
        }
      ],
      "source": [
        "set2.issubset(set1)"
      ]
    },
    {
      "cell_type": "code",
      "execution_count": 57,
      "id": "e0592650",
      "metadata": {
        "id": "e0592650",
        "outputId": "dbced11f-62c3-4061-a676-b31f1482e1dc",
        "colab": {
          "base_uri": "https://localhost:8080/"
        }
      },
      "outputs": [
        {
          "output_type": "execute_result",
          "data": {
            "text/plain": [
              "{2, 4}"
            ]
          },
          "metadata": {},
          "execution_count": 57
        }
      ],
      "source": [
        "set3"
      ]
    },
    {
      "cell_type": "code",
      "execution_count": 58,
      "id": "084144fc",
      "metadata": {
        "id": "084144fc",
        "outputId": "c8fe61d7-69c6-4ecd-fb80-984d597bb5b4",
        "colab": {
          "base_uri": "https://localhost:8080/"
        }
      },
      "outputs": [
        {
          "output_type": "execute_result",
          "data": {
            "text/plain": [
              "{0, 1, 2, 3, 4, 5}"
            ]
          },
          "metadata": {},
          "execution_count": 58
        }
      ],
      "source": [
        "set4"
      ]
    },
    {
      "cell_type": "code",
      "execution_count": 59,
      "id": "3c039b31",
      "metadata": {
        "id": "3c039b31",
        "outputId": "1bc85187-b41a-4811-c166-473b17c7586f",
        "colab": {
          "base_uri": "https://localhost:8080/"
        }
      },
      "outputs": [
        {
          "output_type": "execute_result",
          "data": {
            "text/plain": [
              "True"
            ]
          },
          "metadata": {},
          "execution_count": 59
        }
      ],
      "source": [
        "set4.issuperset(set3)"
      ]
    },
    {
      "cell_type": "markdown",
      "source": [
        "#### Frozenset\n",
        "\n",
        "same as set with 1 difference\n",
        "\n",
        "frozenset is Immutable"
      ],
      "metadata": {
        "id": "IITv_Mze8dod"
      },
      "id": "IITv_Mze8dod"
    },
    {
      "cell_type": "code",
      "execution_count": null,
      "id": "2cc950c2",
      "metadata": {
        "id": "2cc950c2"
      },
      "outputs": [],
      "source": [
        "fs1 = frozenset({1, 2, 3})"
      ]
    },
    {
      "cell_type": "code",
      "execution_count": null,
      "id": "ee16ffe5",
      "metadata": {
        "id": "ee16ffe5",
        "outputId": "f3e7e6ef-87c3-43f4-f1c9-55d3de17fe02"
      },
      "outputs": [
        {
          "data": {
            "text/plain": [
              "frozenset({1, 2, 3})"
            ]
          },
          "execution_count": 71,
          "metadata": {},
          "output_type": "execute_result"
        }
      ],
      "source": [
        "fs1"
      ]
    },
    {
      "cell_type": "code",
      "execution_count": null,
      "id": "3c6e4be7",
      "metadata": {
        "id": "3c6e4be7",
        "outputId": "7fba3335-6a2b-46cc-b71c-f0d060354653"
      },
      "outputs": [
        {
          "data": {
            "text/plain": [
              "frozenset"
            ]
          },
          "execution_count": 72,
          "metadata": {},
          "output_type": "execute_result"
        }
      ],
      "source": [
        "type(fs1)"
      ]
    },
    {
      "cell_type": "code",
      "execution_count": null,
      "id": "4bbb5b8d",
      "metadata": {
        "id": "4bbb5b8d",
        "outputId": "002ecc64-be81-49d9-8975-0b8330555391"
      },
      "outputs": [
        {
          "data": {
            "text/plain": [
              "set"
            ]
          },
          "execution_count": 73,
          "metadata": {},
          "output_type": "execute_result"
        }
      ],
      "source": [
        "type(set1)"
      ]
    },
    {
      "cell_type": "code",
      "execution_count": null,
      "id": "63c22014",
      "metadata": {
        "id": "63c22014",
        "outputId": "fa45a7e0-66a0-4414-8f0b-1d1ffda7968e"
      },
      "outputs": [
        {
          "ename": "AttributeError",
          "evalue": "'frozenset' object has no attribute 'add'",
          "output_type": "error",
          "traceback": [
            "\u001b[1;31m---------------------------------------------------------------------------\u001b[0m",
            "\u001b[1;31mAttributeError\u001b[0m                            Traceback (most recent call last)",
            "\u001b[1;32m~\\AppData\\Local\\Temp/ipykernel_14312/1415858446.py\u001b[0m in \u001b[0;36m<module>\u001b[1;34m\u001b[0m\n\u001b[1;32m----> 1\u001b[1;33m \u001b[0mfs1\u001b[0m\u001b[1;33m.\u001b[0m\u001b[0madd\u001b[0m\u001b[1;33m(\u001b[0m\u001b[1;36m10\u001b[0m\u001b[1;33m)\u001b[0m\u001b[1;33m\u001b[0m\u001b[1;33m\u001b[0m\u001b[0m\n\u001b[0m",
            "\u001b[1;31mAttributeError\u001b[0m: 'frozenset' object has no attribute 'add'"
          ]
        }
      ],
      "source": [
        "fs1.add(10)"
      ]
    },
    {
      "cell_type": "code",
      "execution_count": null,
      "id": "db5843ed",
      "metadata": {
        "id": "db5843ed"
      },
      "outputs": [],
      "source": [
        "fs2 = frozenset({1,2,4,(5,6)})\n"
      ]
    },
    {
      "cell_type": "code",
      "execution_count": null,
      "id": "d29ca973",
      "metadata": {
        "id": "d29ca973",
        "outputId": "cff6d27c-941c-46b4-b11f-3627f4d7acb9"
      },
      "outputs": [
        {
          "data": {
            "text/plain": [
              "frozenset({(5, 6), 1, 2, 4})"
            ]
          },
          "execution_count": 76,
          "metadata": {},
          "output_type": "execute_result"
        }
      ],
      "source": [
        "fs2"
      ]
    },
    {
      "cell_type": "code",
      "execution_count": null,
      "id": "50b16422",
      "metadata": {
        "id": "50b16422"
      },
      "outputs": [],
      "source": []
    }
  ],
  "metadata": {
    "kernelspec": {
      "display_name": "Python 3 (ipykernel)",
      "language": "python",
      "name": "python3"
    },
    "language_info": {
      "codemirror_mode": {
        "name": "ipython",
        "version": 3
      },
      "file_extension": ".py",
      "mimetype": "text/x-python",
      "name": "python",
      "nbconvert_exporter": "python",
      "pygments_lexer": "ipython3",
      "version": "3.9.7"
    },
    "colab": {
      "provenance": [],
      "collapsed_sections": [
        "DalS4jV65DcF",
        "M7NuAgAl7OZr",
        "X0lgatTM7Uw4",
        "_fp54peZ73HS",
        "IITv_Mze8dod"
      ],
      "include_colab_link": true
    }
  },
  "nbformat": 4,
  "nbformat_minor": 5
}