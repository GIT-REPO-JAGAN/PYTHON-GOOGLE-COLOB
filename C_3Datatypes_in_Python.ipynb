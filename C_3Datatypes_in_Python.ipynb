{
  "cells": [
    {
      "cell_type": "markdown",
      "metadata": {
        "id": "view-in-github",
        "colab_type": "text"
      },
      "source": [
        "<a href=\"https://colab.research.google.com/github/GIT-REPO-JAGAN/PYTHON-GOOGLE-COLOB/blob/main/C_3Datatypes_in_Python.ipynb\" target=\"_parent\"><img src=\"https://colab.research.google.com/assets/colab-badge.svg\" alt=\"Open In Colab\"/></a>"
      ]
    },
    {
      "cell_type": "markdown",
      "metadata": {
        "id": "1bc0c116"
      },
      "source": [
        "####**Datatypes**:\n",
        "1. Fundamental datatypes: Integer, Float, Boolean, Special, String, Complex\n",
        "2. Derived datatypes: List, Tuple, Dictionary, Set, Frozenset"
      ],
      "id": "1bc0c116"
    },
    {
      "cell_type": "markdown",
      "metadata": {
        "id": "XmTY_qrWVli7"
      },
      "source": [
        "####Integers\n",
        "1. Integer 200, -10. Base 10 - Decimal - 0-9\n",
        "2. Binary 0, 1 - Base 2 - 0b1010, 0b100\n",
        "3. Octal Octal: 0-7 - Base 8 - 0o15\n",
        "4. Hexadecimal Base 16 - 0-9 and A-F - 0x1A"
      ],
      "id": "XmTY_qrWVli7"
    },
    {
      "cell_type": "code",
      "execution_count": null,
      "metadata": {
        "colab": {
          "base_uri": "https://localhost:8080/"
        },
        "id": "07564e28",
        "outputId": "7bf41fb5-c0bc-4b7b-d193-2a89176da021"
      },
      "outputs": [
        {
          "data": {
            "text/plain": [
              "int"
            ]
          },
          "execution_count": 7,
          "metadata": {},
          "output_type": "execute_result"
        }
      ],
      "source": [
        "num1 = 100 #Integer 200, -10. Base 10 - Decimal - 0-9\n",
        "type(num1)"
      ],
      "id": "07564e28"
    },
    {
      "cell_type": "code",
      "execution_count": null,
      "metadata": {
        "colab": {
          "base_uri": "https://localhost:8080/"
        },
        "id": "de5a0b43",
        "outputId": "4856c2ea-e61f-479e-fee0-eec6d8ec6e37"
      },
      "outputs": [
        {
          "name": "stdout",
          "output_type": "stream",
          "text": [
            "<class 'int'>\n"
          ]
        }
      ],
      "source": [
        "print(type(num1))"
      ],
      "id": "de5a0b43"
    },
    {
      "cell_type": "code",
      "execution_count": null,
      "metadata": {
        "id": "7b253585"
      },
      "outputs": [],
      "source": [
        "a= 10\n",
        "b = 20\n",
        "c = 30"
      ],
      "id": "7b253585"
    },
    {
      "cell_type": "code",
      "execution_count": null,
      "metadata": {
        "colab": {
          "base_uri": "https://localhost:8080/"
        },
        "id": "ae9c2e56",
        "outputId": "13f66209-ad83-40ed-c03c-0258b11afd4c"
      },
      "outputs": [
        {
          "data": {
            "text/plain": [
              "30"
            ]
          },
          "execution_count": 10,
          "metadata": {},
          "output_type": "execute_result"
        }
      ],
      "source": [
        "a\n",
        "b\n",
        "c"
      ],
      "id": "ae9c2e56"
    },
    {
      "cell_type": "code",
      "execution_count": null,
      "metadata": {
        "id": "d95938d7"
      },
      "outputs": [],
      "source": [
        "num2 = 0b1011 # Binary 0, 1 - Base 2 - 0b1010, 0b100"
      ],
      "id": "d95938d7"
    },
    {
      "cell_type": "code",
      "execution_count": null,
      "metadata": {
        "colab": {
          "base_uri": "https://localhost:8080/"
        },
        "id": "f9567756",
        "outputId": "b01402ad-77f0-46ae-eef3-e9dbec97f15d"
      },
      "outputs": [
        {
          "name": "stdout",
          "output_type": "stream",
          "text": [
            "11\n"
          ]
        }
      ],
      "source": [
        "print(num2)"
      ],
      "id": "f9567756"
    },
    {
      "cell_type": "code",
      "execution_count": null,
      "metadata": {
        "colab": {
          "base_uri": "https://localhost:8080/"
        },
        "id": "a99dd082",
        "outputId": "6fa1a9ad-00c8-40fd-9422-2e66df8b278f"
      },
      "outputs": [
        {
          "data": {
            "text/plain": [
              "int"
            ]
          },
          "execution_count": 13,
          "metadata": {},
          "output_type": "execute_result"
        }
      ],
      "source": [
        "type(num2)"
      ],
      "id": "a99dd082"
    },
    {
      "cell_type": "code",
      "execution_count": null,
      "metadata": {
        "id": "65fbd2a3"
      },
      "outputs": [],
      "source": [
        "num3 = 0o30 # Octal Octal: 0-7 - Base 8 - 0o15"
      ],
      "id": "65fbd2a3"
    },
    {
      "cell_type": "code",
      "execution_count": null,
      "metadata": {
        "colab": {
          "base_uri": "https://localhost:8080/"
        },
        "id": "67727308",
        "outputId": "f6e4c594-794a-4b85-9e13-818374f838cf"
      },
      "outputs": [
        {
          "data": {
            "text/plain": [
              "int"
            ]
          },
          "execution_count": 15,
          "metadata": {},
          "output_type": "execute_result"
        }
      ],
      "source": [
        "type(num3)"
      ],
      "id": "67727308"
    },
    {
      "cell_type": "code",
      "execution_count": null,
      "metadata": {
        "id": "d4cc2bb2"
      },
      "outputs": [],
      "source": [
        "num4 = 0x2D #Hexadecimal Base 16 - 0-9 and A-F - 0x1A"
      ],
      "id": "d4cc2bb2"
    },
    {
      "cell_type": "code",
      "execution_count": null,
      "metadata": {
        "colab": {
          "base_uri": "https://localhost:8080/"
        },
        "id": "461390cb",
        "outputId": "5eb215bf-de54-4e75-ada5-701e22e6e5fe"
      },
      "outputs": [
        {
          "data": {
            "text/plain": [
              "int"
            ]
          },
          "execution_count": 17,
          "metadata": {},
          "output_type": "execute_result"
        }
      ],
      "source": [
        "type(num4)"
      ],
      "id": "461390cb"
    },
    {
      "cell_type": "code",
      "execution_count": null,
      "metadata": {
        "colab": {
          "base_uri": "https://localhost:8080/"
        },
        "id": "516f0187",
        "outputId": "69907ca1-2d6e-4367-b58a-fa66278fd04a"
      },
      "outputs": [
        {
          "data": {
            "text/plain": [
              "111"
            ]
          },
          "execution_count": 18,
          "metadata": {},
          "output_type": "execute_result"
        }
      ],
      "source": [
        "num1 + num2"
      ],
      "id": "516f0187"
    },
    {
      "cell_type": "code",
      "execution_count": null,
      "metadata": {
        "colab": {
          "base_uri": "https://localhost:8080/"
        },
        "id": "9f65ec1b",
        "outputId": "a258f36d-88e9-423c-8ff6-54a2ae797ff2"
      },
      "outputs": [
        {
          "data": {
            "text/plain": [
              "21"
            ]
          },
          "execution_count": 19,
          "metadata": {},
          "output_type": "execute_result"
        }
      ],
      "source": [
        "num4 - num3"
      ],
      "id": "9f65ec1b"
    },
    {
      "cell_type": "code",
      "execution_count": null,
      "metadata": {
        "colab": {
          "base_uri": "https://localhost:8080/"
        },
        "id": "2e76d990",
        "outputId": "ea2c65bf-f3fd-4309-df37-5f1e27a16008"
      },
      "outputs": [
        {
          "data": {
            "text/plain": [
              "45"
            ]
          },
          "execution_count": 20,
          "metadata": {},
          "output_type": "execute_result"
        }
      ],
      "source": [
        "num4"
      ],
      "id": "2e76d990"
    },
    {
      "cell_type": "code",
      "execution_count": null,
      "metadata": {
        "colab": {
          "base_uri": "https://localhost:8080/"
        },
        "id": "fcfe9ae4",
        "outputId": "2fdc964e-7f90-4647-a701-75ad4ef32b42"
      },
      "outputs": [
        {
          "data": {
            "text/plain": [
              "24"
            ]
          },
          "execution_count": 21,
          "metadata": {},
          "output_type": "execute_result"
        }
      ],
      "source": [
        "num3"
      ],
      "id": "fcfe9ae4"
    },
    {
      "cell_type": "markdown",
      "metadata": {
        "id": "ZwE9ghmfVrX7"
      },
      "source": [
        "#### Float - Float fractional numbers / Decimals"
      ],
      "id": "ZwE9ghmfVrX7"
    },
    {
      "cell_type": "code",
      "execution_count": null,
      "metadata": {
        "id": "7c9ada9d"
      },
      "outputs": [],
      "source": [
        "num5 = 19.56 # Float fractional numbers / Decimals"
      ],
      "id": "7c9ada9d"
    },
    {
      "cell_type": "code",
      "execution_count": null,
      "metadata": {
        "colab": {
          "base_uri": "https://localhost:8080/"
        },
        "id": "e1240fd1",
        "outputId": "08d6663f-501e-4fec-945b-e5278c8e49d2"
      },
      "outputs": [
        {
          "data": {
            "text/plain": [
              "float"
            ]
          },
          "execution_count": 23,
          "metadata": {},
          "output_type": "execute_result"
        }
      ],
      "source": [
        "type(num5)"
      ],
      "id": "e1240fd1"
    },
    {
      "cell_type": "code",
      "execution_count": null,
      "metadata": {
        "colab": {
          "base_uri": "https://localhost:8080/"
        },
        "id": "c6a63235",
        "outputId": "86148733-f02a-454c-ccbc-12ee26faca74"
      },
      "outputs": [
        {
          "data": {
            "text/plain": [
              "100"
            ]
          },
          "execution_count": 24,
          "metadata": {},
          "output_type": "execute_result"
        }
      ],
      "source": [
        "num1"
      ],
      "id": "c6a63235"
    },
    {
      "cell_type": "code",
      "execution_count": null,
      "metadata": {
        "colab": {
          "base_uri": "https://localhost:8080/"
        },
        "id": "986360f1",
        "outputId": "b821c3ed-0571-458d-f6bd-9355a5e7a1fa"
      },
      "outputs": [
        {
          "data": {
            "text/plain": [
              "19.56"
            ]
          },
          "execution_count": 25,
          "metadata": {},
          "output_type": "execute_result"
        }
      ],
      "source": [
        "num5"
      ],
      "id": "986360f1"
    },
    {
      "cell_type": "code",
      "execution_count": null,
      "metadata": {
        "colab": {
          "base_uri": "https://localhost:8080/"
        },
        "id": "b93e08a8",
        "outputId": "48388f78-a47a-4b5d-9d23-42148d2a73d2"
      },
      "outputs": [
        {
          "data": {
            "text/plain": [
              "119.56"
            ]
          },
          "execution_count": 26,
          "metadata": {},
          "output_type": "execute_result"
        }
      ],
      "source": [
        "num1 + num5"
      ],
      "id": "b93e08a8"
    },
    {
      "cell_type": "markdown",
      "metadata": {
        "id": "-YToXwKtVw2n"
      },
      "source": [
        "#### Complex - a + bj\n",
        "a => real part\n",
        "\n",
        "b => imaginary part\n",
        "\n",
        "j => iota => square root of -1"
      ],
      "id": "-YToXwKtVw2n"
    },
    {
      "cell_type": "code",
      "execution_count": null,
      "metadata": {
        "id": "db7f7631"
      },
      "outputs": [],
      "source": [
        "c1 = 5 + 3j"
      ],
      "id": "db7f7631"
    },
    {
      "cell_type": "code",
      "execution_count": null,
      "metadata": {
        "colab": {
          "base_uri": "https://localhost:8080/"
        },
        "id": "92accbbc",
        "outputId": "27e4aa2f-1bee-4e8a-9b23-e9a329986f65"
      },
      "outputs": [
        {
          "data": {
            "text/plain": [
              "(5+3j)"
            ]
          },
          "execution_count": 28,
          "metadata": {},
          "output_type": "execute_result"
        }
      ],
      "source": [
        "c1"
      ],
      "id": "92accbbc"
    },
    {
      "cell_type": "code",
      "execution_count": null,
      "metadata": {
        "colab": {
          "base_uri": "https://localhost:8080/"
        },
        "id": "59de86d6",
        "outputId": "4aa90ba4-0776-44b4-8315-b30887b2a63e"
      },
      "outputs": [
        {
          "data": {
            "text/plain": [
              "complex"
            ]
          },
          "execution_count": 29,
          "metadata": {},
          "output_type": "execute_result"
        }
      ],
      "source": [
        "type(c1)"
      ],
      "id": "59de86d6"
    },
    {
      "cell_type": "code",
      "execution_count": null,
      "metadata": {
        "colab": {
          "base_uri": "https://localhost:8080/"
        },
        "id": "6c4a1040",
        "outputId": "f725337b-ce81-41ce-cd88-3f78d7f2e536"
      },
      "outputs": [
        {
          "data": {
            "text/plain": [
              "11"
            ]
          },
          "execution_count": 30,
          "metadata": {},
          "output_type": "execute_result"
        }
      ],
      "source": [
        "num2"
      ],
      "id": "6c4a1040"
    },
    {
      "cell_type": "code",
      "execution_count": null,
      "metadata": {
        "colab": {
          "base_uri": "https://localhost:8080/"
        },
        "id": "87045bb9",
        "outputId": "f8b7b1e5-0120-4f84-fda4-cd123a85beb2"
      },
      "outputs": [
        {
          "data": {
            "text/plain": [
              "(16+3j)"
            ]
          },
          "execution_count": 31,
          "metadata": {},
          "output_type": "execute_result"
        }
      ],
      "source": [
        "c1 + num2"
      ],
      "id": "87045bb9"
    },
    {
      "cell_type": "code",
      "execution_count": null,
      "metadata": {
        "colab": {
          "base_uri": "https://localhost:8080/"
        },
        "id": "450ca0ed",
        "outputId": "17988068-965f-41d1-b385-084ce3333aaa"
      },
      "outputs": [
        {
          "data": {
            "text/plain": [
              "(5+3j)"
            ]
          },
          "execution_count": 32,
          "metadata": {},
          "output_type": "execute_result"
        }
      ],
      "source": [
        "c1"
      ],
      "id": "450ca0ed"
    },
    {
      "cell_type": "code",
      "execution_count": null,
      "metadata": {
        "colab": {
          "base_uri": "https://localhost:8080/"
        },
        "id": "af950804",
        "outputId": "62f57a73-03e4-4602-bf3e-78cced4373f7"
      },
      "outputs": [
        {
          "data": {
            "text/plain": [
              "(2.5+1.5j)"
            ]
          },
          "execution_count": 33,
          "metadata": {},
          "output_type": "execute_result"
        }
      ],
      "source": [
        "c1 / 2"
      ],
      "id": "af950804"
    },
    {
      "cell_type": "code",
      "execution_count": null,
      "metadata": {
        "id": "74a67bb5"
      },
      "outputs": [],
      "source": [
        "c2 = 3 - 2j"
      ],
      "id": "74a67bb5"
    },
    {
      "cell_type": "code",
      "execution_count": null,
      "metadata": {
        "colab": {
          "base_uri": "https://localhost:8080/"
        },
        "id": "b2da1c90",
        "outputId": "c410cc40-b936-49d0-9e37-c450832eb825"
      },
      "outputs": [
        {
          "data": {
            "text/plain": [
              "(5+3j)"
            ]
          },
          "execution_count": 35,
          "metadata": {},
          "output_type": "execute_result"
        }
      ],
      "source": [
        "c1"
      ],
      "id": "b2da1c90"
    },
    {
      "cell_type": "code",
      "execution_count": null,
      "metadata": {
        "colab": {
          "base_uri": "https://localhost:8080/"
        },
        "id": "ed6ec1a2",
        "outputId": "e1a7a408-90c6-4c35-f6a9-280c9e4e42cd"
      },
      "outputs": [
        {
          "data": {
            "text/plain": [
              "(3-2j)"
            ]
          },
          "execution_count": 36,
          "metadata": {},
          "output_type": "execute_result"
        }
      ],
      "source": [
        "c2"
      ],
      "id": "ed6ec1a2"
    },
    {
      "cell_type": "code",
      "execution_count": null,
      "metadata": {
        "colab": {
          "base_uri": "https://localhost:8080/"
        },
        "id": "1f33b149",
        "outputId": "c0442ec3-a69a-4efc-f0c8-7e6711f3741b"
      },
      "outputs": [
        {
          "data": {
            "text/plain": [
              "5.0"
            ]
          },
          "execution_count": 37,
          "metadata": {},
          "output_type": "execute_result"
        }
      ],
      "source": [
        "c1.real"
      ],
      "id": "1f33b149"
    },
    {
      "cell_type": "code",
      "execution_count": null,
      "metadata": {
        "colab": {
          "base_uri": "https://localhost:8080/"
        },
        "id": "cb43bf04",
        "outputId": "2a205f9c-2ae2-4002-f538-ab4569b82989"
      },
      "outputs": [
        {
          "data": {
            "text/plain": [
              "3.0"
            ]
          },
          "execution_count": 38,
          "metadata": {},
          "output_type": "execute_result"
        }
      ],
      "source": [
        "c1.imag"
      ],
      "id": "cb43bf04"
    },
    {
      "cell_type": "code",
      "execution_count": null,
      "metadata": {
        "colab": {
          "base_uri": "https://localhost:8080/"
        },
        "id": "d794a43d",
        "outputId": "f12053f5-9a71-4d42-c04e-cfd4da51245e"
      },
      "outputs": [
        {
          "data": {
            "text/plain": [
              "3.0"
            ]
          },
          "execution_count": 39,
          "metadata": {},
          "output_type": "execute_result"
        }
      ],
      "source": [
        "c2.real"
      ],
      "id": "d794a43d"
    },
    {
      "cell_type": "code",
      "execution_count": null,
      "metadata": {
        "colab": {
          "base_uri": "https://localhost:8080/"
        },
        "id": "5779cfe0",
        "outputId": "750fafec-8630-4776-fa90-26e14535a06f"
      },
      "outputs": [
        {
          "data": {
            "text/plain": [
              "-2.0"
            ]
          },
          "execution_count": 40,
          "metadata": {},
          "output_type": "execute_result"
        }
      ],
      "source": [
        "c2.imag"
      ],
      "id": "5779cfe0"
    },
    {
      "cell_type": "code",
      "execution_count": null,
      "metadata": {
        "colab": {
          "base_uri": "https://localhost:8080/"
        },
        "id": "8862ca73",
        "outputId": "004774c3-73ef-4302-8947-23f6119ab1c9"
      },
      "outputs": [
        {
          "data": {
            "text/plain": [
              "(5+3j)"
            ]
          },
          "execution_count": 41,
          "metadata": {},
          "output_type": "execute_result"
        }
      ],
      "source": [
        "c1"
      ],
      "id": "8862ca73"
    },
    {
      "cell_type": "code",
      "execution_count": null,
      "metadata": {
        "colab": {
          "base_uri": "https://localhost:8080/"
        },
        "id": "3086e317",
        "outputId": "c1996947-32c9-489a-a451-e0837566bd57"
      },
      "outputs": [
        {
          "data": {
            "text/plain": [
              "(3-2j)"
            ]
          },
          "execution_count": 42,
          "metadata": {},
          "output_type": "execute_result"
        }
      ],
      "source": [
        "c2"
      ],
      "id": "3086e317"
    },
    {
      "cell_type": "code",
      "execution_count": null,
      "metadata": {
        "colab": {
          "base_uri": "https://localhost:8080/"
        },
        "id": "358c784f",
        "outputId": "3df920e6-7c8d-44f8-a773-a02723e71a62"
      },
      "outputs": [
        {
          "data": {
            "text/plain": [
              "(8+1j)"
            ]
          },
          "execution_count": 43,
          "metadata": {},
          "output_type": "execute_result"
        }
      ],
      "source": [
        "c1 + c2"
      ],
      "id": "358c784f"
    },
    {
      "cell_type": "code",
      "execution_count": null,
      "metadata": {
        "colab": {
          "base_uri": "https://localhost:8080/"
        },
        "id": "16e702ec",
        "outputId": "2c5edeab-bf8b-4db0-d094-7bb7a66d12b9"
      },
      "outputs": [
        {
          "data": {
            "text/plain": [
              "(2+5j)"
            ]
          },
          "execution_count": 44,
          "metadata": {},
          "output_type": "execute_result"
        }
      ],
      "source": [
        "c1 - c2"
      ],
      "id": "16e702ec"
    },
    {
      "cell_type": "code",
      "execution_count": null,
      "metadata": {
        "colab": {
          "base_uri": "https://localhost:8080/"
        },
        "id": "11d80216",
        "outputId": "c5d2eafd-a8d9-488a-c2bd-8055183bbc7c"
      },
      "outputs": [
        {
          "data": {
            "text/plain": [
              "(21-1j)"
            ]
          },
          "execution_count": 45,
          "metadata": {},
          "output_type": "execute_result"
        }
      ],
      "source": [
        "c1 * c2"
      ],
      "id": "11d80216"
    },
    {
      "cell_type": "code",
      "execution_count": null,
      "metadata": {
        "colab": {
          "base_uri": "https://localhost:8080/"
        },
        "id": "03df78a6",
        "outputId": "56e40892-3e19-46c2-e631-c947f45ecf4b"
      },
      "outputs": [
        {
          "data": {
            "text/plain": [
              "(5+3j)"
            ]
          },
          "execution_count": 46,
          "metadata": {},
          "output_type": "execute_result"
        }
      ],
      "source": [
        "c1"
      ],
      "id": "03df78a6"
    },
    {
      "cell_type": "code",
      "execution_count": null,
      "metadata": {
        "colab": {
          "base_uri": "https://localhost:8080/"
        },
        "id": "1b1a5c1b",
        "outputId": "bede8c87-ddc3-4cd4-ce81-d859d6ad2d2f"
      },
      "outputs": [
        {
          "data": {
            "text/plain": [
              "(3-2j)"
            ]
          },
          "execution_count": 47,
          "metadata": {},
          "output_type": "execute_result"
        }
      ],
      "source": [
        "c2"
      ],
      "id": "1b1a5c1b"
    },
    {
      "cell_type": "code",
      "execution_count": null,
      "metadata": {
        "colab": {
          "base_uri": "https://localhost:8080/"
        },
        "id": "4116c15e",
        "outputId": "74ba1eaa-4a2b-4058-fad2-64dc7dbe7fbb"
      },
      "outputs": [
        {
          "data": {
            "text/plain": [
              "(0.6923076923076924+1.4615384615384617j)"
            ]
          },
          "execution_count": 48,
          "metadata": {},
          "output_type": "execute_result"
        }
      ],
      "source": [
        "c1 / c2"
      ],
      "id": "4116c15e"
    },
    {
      "cell_type": "code",
      "execution_count": null,
      "metadata": {
        "colab": {
          "base_uri": "https://localhost:8080/"
        },
        "id": "4252c7a8",
        "outputId": "99eb4be1-4c29-46aa-e2bb-b97584deeb68"
      },
      "outputs": [
        {
          "data": {
            "text/plain": [
              "(5+3j)"
            ]
          },
          "execution_count": 49,
          "metadata": {},
          "output_type": "execute_result"
        }
      ],
      "source": [
        "c1"
      ],
      "id": "4252c7a8"
    },
    {
      "cell_type": "code",
      "execution_count": null,
      "metadata": {
        "colab": {
          "base_uri": "https://localhost:8080/"
        },
        "id": "8602f9c5",
        "outputId": "b53124be-b288-49ce-fb28-8bbbb2f40e39"
      },
      "outputs": [
        {
          "data": {
            "text/plain": [
              "(5-3j)"
            ]
          },
          "execution_count": 50,
          "metadata": {},
          "output_type": "execute_result"
        }
      ],
      "source": [
        "c1.conjugate()"
      ],
      "id": "8602f9c5"
    },
    {
      "cell_type": "code",
      "execution_count": null,
      "metadata": {
        "colab": {
          "base_uri": "https://localhost:8080/"
        },
        "id": "56c77067",
        "outputId": "6faf2752-887d-4095-8257-f780e9c2bcbd"
      },
      "outputs": [
        {
          "name": "stdout",
          "output_type": "stream",
          "text": [
            "Help on complex object:\n",
            "\n",
            "class complex(object)\n",
            " |  complex(real=0, imag=0)\n",
            " |  \n",
            " |  Create a complex number from a real part and an optional imaginary part.\n",
            " |  \n",
            " |  This is equivalent to (real + imag*1j) where imag defaults to 0.\n",
            " |  \n",
            " |  Methods defined here:\n",
            " |  \n",
            " |  __abs__(self, /)\n",
            " |      abs(self)\n",
            " |  \n",
            " |  __add__(self, value, /)\n",
            " |      Return self+value.\n",
            " |  \n",
            " |  __bool__(self, /)\n",
            " |      True if self else False\n",
            " |  \n",
            " |  __eq__(self, value, /)\n",
            " |      Return self==value.\n",
            " |  \n",
            " |  __format__(self, format_spec, /)\n",
            " |      Convert to a string according to format_spec.\n",
            " |  \n",
            " |  __ge__(self, value, /)\n",
            " |      Return self>=value.\n",
            " |  \n",
            " |  __getattribute__(self, name, /)\n",
            " |      Return getattr(self, name).\n",
            " |  \n",
            " |  __getnewargs__(self, /)\n",
            " |  \n",
            " |  __gt__(self, value, /)\n",
            " |      Return self>value.\n",
            " |  \n",
            " |  __hash__(self, /)\n",
            " |      Return hash(self).\n",
            " |  \n",
            " |  __le__(self, value, /)\n",
            " |      Return self<=value.\n",
            " |  \n",
            " |  __lt__(self, value, /)\n",
            " |      Return self<value.\n",
            " |  \n",
            " |  __mul__(self, value, /)\n",
            " |      Return self*value.\n",
            " |  \n",
            " |  __ne__(self, value, /)\n",
            " |      Return self!=value.\n",
            " |  \n",
            " |  __neg__(self, /)\n",
            " |      -self\n",
            " |  \n",
            " |  __pos__(self, /)\n",
            " |      +self\n",
            " |  \n",
            " |  __pow__(self, value, mod=None, /)\n",
            " |      Return pow(self, value, mod).\n",
            " |  \n",
            " |  __radd__(self, value, /)\n",
            " |      Return value+self.\n",
            " |  \n",
            " |  __repr__(self, /)\n",
            " |      Return repr(self).\n",
            " |  \n",
            " |  __rmul__(self, value, /)\n",
            " |      Return value*self.\n",
            " |  \n",
            " |  __rpow__(self, value, mod=None, /)\n",
            " |      Return pow(value, self, mod).\n",
            " |  \n",
            " |  __rsub__(self, value, /)\n",
            " |      Return value-self.\n",
            " |  \n",
            " |  __rtruediv__(self, value, /)\n",
            " |      Return value/self.\n",
            " |  \n",
            " |  __sub__(self, value, /)\n",
            " |      Return self-value.\n",
            " |  \n",
            " |  __truediv__(self, value, /)\n",
            " |      Return self/value.\n",
            " |  \n",
            " |  conjugate(self, /)\n",
            " |      Return the complex conjugate of its argument. (3-4j).conjugate() == 3+4j.\n",
            " |  \n",
            " |  ----------------------------------------------------------------------\n",
            " |  Static methods defined here:\n",
            " |  \n",
            " |  __new__(*args, **kwargs) from builtins.type\n",
            " |      Create and return a new object.  See help(type) for accurate signature.\n",
            " |  \n",
            " |  ----------------------------------------------------------------------\n",
            " |  Data descriptors defined here:\n",
            " |  \n",
            " |  imag\n",
            " |      the imaginary part of a complex number\n",
            " |  \n",
            " |  real\n",
            " |      the real part of a complex number\n",
            "\n"
          ]
        }
      ],
      "source": [
        "help(c1)"
      ],
      "id": "56c77067"
    },
    {
      "cell_type": "code",
      "execution_count": null,
      "metadata": {
        "colab": {
          "base_uri": "https://localhost:8080/"
        },
        "id": "c61bb8dd",
        "outputId": "b2731956-12a6-4941-991b-adb4bd7b4f2d"
      },
      "outputs": [
        {
          "name": "stdout",
          "output_type": "stream",
          "text": [
            "Help on class complex in module builtins:\n",
            "\n",
            "class complex(object)\n",
            " |  complex(real=0, imag=0)\n",
            " |  \n",
            " |  Create a complex number from a real part and an optional imaginary part.\n",
            " |  \n",
            " |  This is equivalent to (real + imag*1j) where imag defaults to 0.\n",
            " |  \n",
            " |  Methods defined here:\n",
            " |  \n",
            " |  __abs__(self, /)\n",
            " |      abs(self)\n",
            " |  \n",
            " |  __add__(self, value, /)\n",
            " |      Return self+value.\n",
            " |  \n",
            " |  __bool__(self, /)\n",
            " |      True if self else False\n",
            " |  \n",
            " |  __eq__(self, value, /)\n",
            " |      Return self==value.\n",
            " |  \n",
            " |  __format__(self, format_spec, /)\n",
            " |      Convert to a string according to format_spec.\n",
            " |  \n",
            " |  __ge__(self, value, /)\n",
            " |      Return self>=value.\n",
            " |  \n",
            " |  __getattribute__(self, name, /)\n",
            " |      Return getattr(self, name).\n",
            " |  \n",
            " |  __getnewargs__(self, /)\n",
            " |  \n",
            " |  __gt__(self, value, /)\n",
            " |      Return self>value.\n",
            " |  \n",
            " |  __hash__(self, /)\n",
            " |      Return hash(self).\n",
            " |  \n",
            " |  __le__(self, value, /)\n",
            " |      Return self<=value.\n",
            " |  \n",
            " |  __lt__(self, value, /)\n",
            " |      Return self<value.\n",
            " |  \n",
            " |  __mul__(self, value, /)\n",
            " |      Return self*value.\n",
            " |  \n",
            " |  __ne__(self, value, /)\n",
            " |      Return self!=value.\n",
            " |  \n",
            " |  __neg__(self, /)\n",
            " |      -self\n",
            " |  \n",
            " |  __pos__(self, /)\n",
            " |      +self\n",
            " |  \n",
            " |  __pow__(self, value, mod=None, /)\n",
            " |      Return pow(self, value, mod).\n",
            " |  \n",
            " |  __radd__(self, value, /)\n",
            " |      Return value+self.\n",
            " |  \n",
            " |  __repr__(self, /)\n",
            " |      Return repr(self).\n",
            " |  \n",
            " |  __rmul__(self, value, /)\n",
            " |      Return value*self.\n",
            " |  \n",
            " |  __rpow__(self, value, mod=None, /)\n",
            " |      Return pow(value, self, mod).\n",
            " |  \n",
            " |  __rsub__(self, value, /)\n",
            " |      Return value-self.\n",
            " |  \n",
            " |  __rtruediv__(self, value, /)\n",
            " |      Return value/self.\n",
            " |  \n",
            " |  __sub__(self, value, /)\n",
            " |      Return self-value.\n",
            " |  \n",
            " |  __truediv__(self, value, /)\n",
            " |      Return self/value.\n",
            " |  \n",
            " |  conjugate(self, /)\n",
            " |      Return the complex conjugate of its argument. (3-4j).conjugate() == 3+4j.\n",
            " |  \n",
            " |  ----------------------------------------------------------------------\n",
            " |  Static methods defined here:\n",
            " |  \n",
            " |  __new__(*args, **kwargs) from builtins.type\n",
            " |      Create and return a new object.  See help(type) for accurate signature.\n",
            " |  \n",
            " |  ----------------------------------------------------------------------\n",
            " |  Data descriptors defined here:\n",
            " |  \n",
            " |  imag\n",
            " |      the imaginary part of a complex number\n",
            " |  \n",
            " |  real\n",
            " |      the real part of a complex number\n",
            "\n"
          ]
        }
      ],
      "source": [
        "help(complex)"
      ],
      "id": "c61bb8dd"
    },
    {
      "cell_type": "markdown",
      "metadata": {
        "id": "8n05zVhMWDir"
      },
      "source": [
        "#### Boolean - True or False"
      ],
      "id": "8n05zVhMWDir"
    },
    {
      "cell_type": "code",
      "execution_count": null,
      "metadata": {
        "id": "fa26eaef"
      },
      "outputs": [],
      "source": [
        "val1 = True"
      ],
      "id": "fa26eaef"
    },
    {
      "cell_type": "code",
      "execution_count": null,
      "metadata": {
        "colab": {
          "base_uri": "https://localhost:8080/"
        },
        "id": "a0205227",
        "outputId": "52cd5b4a-2e91-4f3c-ea18-8f073ad59898"
      },
      "outputs": [
        {
          "data": {
            "text/plain": [
              "bool"
            ]
          },
          "execution_count": 54,
          "metadata": {},
          "output_type": "execute_result"
        }
      ],
      "source": [
        "type(val1)"
      ],
      "id": "a0205227"
    },
    {
      "cell_type": "code",
      "execution_count": null,
      "metadata": {
        "id": "0932c382"
      },
      "outputs": [],
      "source": [
        "val2 = False"
      ],
      "id": "0932c382"
    },
    {
      "cell_type": "code",
      "execution_count": null,
      "metadata": {
        "colab": {
          "base_uri": "https://localhost:8080/"
        },
        "id": "b1e66f2f",
        "outputId": "3141f4b2-a7fd-4549-9726-93f506e9e9a7"
      },
      "outputs": [
        {
          "data": {
            "text/plain": [
              "bool"
            ]
          },
          "execution_count": 56,
          "metadata": {},
          "output_type": "execute_result"
        }
      ],
      "source": [
        "type(val2)"
      ],
      "id": "b1e66f2f"
    },
    {
      "cell_type": "code",
      "execution_count": null,
      "metadata": {
        "colab": {
          "base_uri": "https://localhost:8080/"
        },
        "id": "9dfcd635",
        "outputId": "b94343b2-6541-4c33-bd66-5a5f8d9a4032"
      },
      "outputs": [
        {
          "data": {
            "text/plain": [
              "True"
            ]
          },
          "execution_count": 57,
          "metadata": {},
          "output_type": "execute_result"
        }
      ],
      "source": [
        "10 > 9"
      ],
      "id": "9dfcd635"
    },
    {
      "cell_type": "code",
      "execution_count": null,
      "metadata": {
        "colab": {
          "base_uri": "https://localhost:8080/"
        },
        "id": "7eeecfcb",
        "outputId": "8eec2686-886f-427c-bac1-da3bf11e66b0"
      },
      "outputs": [
        {
          "data": {
            "text/plain": [
              "False"
            ]
          },
          "execution_count": 58,
          "metadata": {},
          "output_type": "execute_result"
        }
      ],
      "source": [
        "10 > 19"
      ],
      "id": "7eeecfcb"
    },
    {
      "cell_type": "code",
      "execution_count": null,
      "metadata": {
        "colab": {
          "base_uri": "https://localhost:8080/"
        },
        "id": "50cbb4da",
        "outputId": "fea80808-28c0-4c75-8227-545f2884aa86"
      },
      "outputs": [
        {
          "name": "stdout",
          "output_type": "stream",
          "text": [
            "Negative\n"
          ]
        }
      ],
      "source": [
        "num = -10\n",
        "\n",
        "if num < 0:\n",
        "    print(\"Negative\")"
      ],
      "id": "50cbb4da"
    },
    {
      "cell_type": "code",
      "execution_count": null,
      "metadata": {
        "id": "8af8b626"
      },
      "outputs": [],
      "source": [
        "num = 11\n",
        "\n",
        "if num < 0:\n",
        "    print(\"Negative\")"
      ],
      "id": "8af8b626"
    },
    {
      "cell_type": "code",
      "execution_count": null,
      "metadata": {
        "colab": {
          "base_uri": "https://localhost:8080/"
        },
        "id": "c874cfed",
        "outputId": "e7efec25-5998-49d5-9bed-dd00544d406d"
      },
      "outputs": [
        {
          "name": "stdout",
          "output_type": "stream",
          "text": [
            "Positve\n"
          ]
        }
      ],
      "source": [
        "num = 11\n",
        "\n",
        "if num < 0:\n",
        "    print(\"Negative\")\n",
        "else:\n",
        "    print(\"Positve\")"
      ],
      "id": "c874cfed"
    },
    {
      "cell_type": "markdown",
      "metadata": {
        "id": "AhQW-OCGWJ0-"
      },
      "source": [
        "#### Special - None"
      ],
      "id": "AhQW-OCGWJ0-"
    },
    {
      "cell_type": "code",
      "execution_count": null,
      "metadata": {
        "id": "0cb16755"
      },
      "outputs": [],
      "source": [
        "value = None"
      ],
      "id": "0cb16755"
    },
    {
      "cell_type": "code",
      "execution_count": null,
      "metadata": {
        "colab": {
          "base_uri": "https://localhost:8080/"
        },
        "id": "2a2c617b",
        "outputId": "f8924732-33ba-4d3f-c678-d35763a90f50"
      },
      "outputs": [
        {
          "data": {
            "text/plain": [
              "NoneType"
            ]
          },
          "execution_count": 63,
          "metadata": {},
          "output_type": "execute_result"
        }
      ],
      "source": [
        "type(value)"
      ],
      "id": "2a2c617b"
    },
    {
      "cell_type": "code",
      "execution_count": null,
      "metadata": {
        "colab": {
          "base_uri": "https://localhost:8080/"
        },
        "id": "bebfee4e",
        "outputId": "1f85ec98-14eb-4aa6-8351-9d864cba28dc"
      },
      "outputs": [
        {
          "name": "stdout",
          "output_type": "stream",
          "text": [
            "None\n"
          ]
        }
      ],
      "source": [
        "print(value)"
      ],
      "id": "bebfee4e"
    },
    {
      "cell_type": "markdown",
      "metadata": {
        "id": "AjYI0s_IWQI1"
      },
      "source": [
        "#### Strings\n",
        "####sequence of characters enclosed within quotes"
      ],
      "id": "AjYI0s_IWQI1"
    },
    {
      "cell_type": "code",
      "execution_count": null,
      "metadata": {
        "id": "0b24851f"
      },
      "outputs": [],
      "source": [
        "s1 = 'Good morning!'"
      ],
      "id": "0b24851f"
    },
    {
      "cell_type": "code",
      "execution_count": null,
      "metadata": {
        "colab": {
          "base_uri": "https://localhost:8080/"
        },
        "id": "c1bbc0c5",
        "outputId": "583c0cb7-a56f-43f3-fc14-75f0bf44cf4e"
      },
      "outputs": [
        {
          "name": "stdout",
          "output_type": "stream",
          "text": [
            "Good morning!\n"
          ]
        }
      ],
      "source": [
        "print(s1)"
      ],
      "id": "c1bbc0c5"
    },
    {
      "cell_type": "code",
      "execution_count": null,
      "metadata": {
        "id": "92fc8e83"
      },
      "outputs": [],
      "source": [
        "s2 = \"Python is fun\""
      ],
      "id": "92fc8e83"
    },
    {
      "cell_type": "code",
      "execution_count": null,
      "metadata": {
        "colab": {
          "base_uri": "https://localhost:8080/"
        },
        "id": "6b6b2c46",
        "outputId": "c7541f17-3378-4f94-9fb3-2ba82591560c"
      },
      "outputs": [
        {
          "name": "stdout",
          "output_type": "stream",
          "text": [
            "Python is fun\n"
          ]
        }
      ],
      "source": [
        "print(s2)"
      ],
      "id": "6b6b2c46"
    },
    {
      "cell_type": "code",
      "execution_count": null,
      "metadata": {
        "id": "9f897255"
      },
      "outputs": [],
      "source": [
        "s3 = \"\"\"We are learning Python\"\"\""
      ],
      "id": "9f897255"
    },
    {
      "cell_type": "code",
      "execution_count": null,
      "metadata": {
        "colab": {
          "base_uri": "https://localhost:8080/"
        },
        "id": "77756e85",
        "outputId": "0d321c3a-11db-402e-e1d7-1423ce68ede1"
      },
      "outputs": [
        {
          "name": "stdout",
          "output_type": "stream",
          "text": [
            "We are learning Python\n"
          ]
        }
      ],
      "source": [
        "print(s3)"
      ],
      "id": "77756e85"
    },
    {
      "cell_type": "code",
      "execution_count": null,
      "metadata": {
        "id": "af68dc97"
      },
      "outputs": [],
      "source": [
        "s4 = '''How are you?'''"
      ],
      "id": "af68dc97"
    },
    {
      "cell_type": "code",
      "execution_count": null,
      "metadata": {
        "colab": {
          "base_uri": "https://localhost:8080/"
        },
        "id": "1c40a354",
        "outputId": "396c83b8-39e6-46cb-8231-3b47819e938e"
      },
      "outputs": [
        {
          "name": "stdout",
          "output_type": "stream",
          "text": [
            "How are you?\n"
          ]
        }
      ],
      "source": [
        "print(s4)"
      ],
      "id": "1c40a354"
    },
    {
      "cell_type": "code",
      "execution_count": null,
      "metadata": {
        "colab": {
          "base_uri": "https://localhost:8080/"
        },
        "id": "27418ffe",
        "outputId": "2ca18f85-e607-4f06-92c5-48859646fd0d"
      },
      "outputs": [
        {
          "data": {
            "text/plain": [
              "str"
            ]
          },
          "execution_count": 73,
          "metadata": {},
          "output_type": "execute_result"
        }
      ],
      "source": [
        "type(s1)"
      ],
      "id": "27418ffe"
    },
    {
      "cell_type": "code",
      "execution_count": null,
      "metadata": {
        "colab": {
          "base_uri": "https://localhost:8080/"
        },
        "id": "89cde141",
        "outputId": "aadbe598-8e8c-4218-ef11-2d26cb6e1bf0"
      },
      "outputs": [
        {
          "data": {
            "text/plain": [
              "str"
            ]
          },
          "execution_count": 74,
          "metadata": {},
          "output_type": "execute_result"
        }
      ],
      "source": [
        "type(s2)"
      ],
      "id": "89cde141"
    },
    {
      "cell_type": "code",
      "execution_count": null,
      "metadata": {
        "id": "5b213da0"
      },
      "outputs": [],
      "source": [
        "s1 = \"Hello World\""
      ],
      "id": "5b213da0"
    },
    {
      "cell_type": "code",
      "execution_count": null,
      "metadata": {
        "colab": {
          "base_uri": "https://localhost:8080/",
          "height": 36
        },
        "id": "13798321",
        "outputId": "03061f9b-a093-4f99-dbd5-ddbd9c7dc34c"
      },
      "outputs": [
        {
          "data": {
            "application/vnd.google.colaboratory.intrinsic+json": {
              "type": "string"
            },
            "text/plain": [
              "'Hello World'"
            ]
          },
          "execution_count": 76,
          "metadata": {},
          "output_type": "execute_result"
        }
      ],
      "source": [
        "s1"
      ],
      "id": "13798321"
    },
    {
      "cell_type": "code",
      "execution_count": null,
      "metadata": {
        "colab": {
          "base_uri": "https://localhost:8080/"
        },
        "id": "1e52d995",
        "outputId": "c3091987-fd1d-4f39-9812-5daadbbc1897"
      },
      "outputs": [
        {
          "data": {
            "text/plain": [
              "str"
            ]
          },
          "execution_count": 77,
          "metadata": {},
          "output_type": "execute_result"
        }
      ],
      "source": [
        "type(s1)"
      ],
      "id": "1e52d995"
    },
    {
      "cell_type": "code",
      "execution_count": null,
      "metadata": {
        "colab": {
          "base_uri": "https://localhost:8080/",
          "height": 165
        },
        "id": "a357a1e1",
        "outputId": "66fb83ef-0695-4a30-8895-94e9fafb14fb"
      },
      "outputs": [
        {
          "ename": "TypeError",
          "evalue": "ignored",
          "output_type": "error",
          "traceback": [
            "\u001b[0;31m---------------------------------------------------------------------------\u001b[0m",
            "\u001b[0;31mTypeError\u001b[0m                                 Traceback (most recent call last)",
            "\u001b[0;32m<ipython-input-78-612fb374b8cb>\u001b[0m in \u001b[0;36m<cell line: 1>\u001b[0;34m()\u001b[0m\n\u001b[0;32m----> 1\u001b[0;31m \u001b[0mtype\u001b[0m\u001b[0;34m(\u001b[0m\u001b[0ms1\u001b[0m\u001b[0;34m,\u001b[0m \u001b[0ms2\u001b[0m\u001b[0;34m)\u001b[0m\u001b[0;34m\u001b[0m\u001b[0;34m\u001b[0m\u001b[0m\n\u001b[0m",
            "\u001b[0;31mTypeError\u001b[0m: type() takes 1 or 3 arguments"
          ]
        }
      ],
      "source": [
        "type(s1, s2)"
      ],
      "id": "a357a1e1"
    },
    {
      "cell_type": "code",
      "execution_count": null,
      "metadata": {
        "colab": {
          "base_uri": "https://localhost:8080/"
        },
        "id": "480bbce9",
        "outputId": "c6e484ba-706d-478b-8877-83b16261e974"
      },
      "outputs": [
        {
          "name": "stdout",
          "output_type": "stream",
          "text": [
            "<class 'str'>\n",
            "<class 'str'>\n"
          ]
        }
      ],
      "source": [
        "print(type(s1))\n",
        "print(type(s2))"
      ],
      "id": "480bbce9"
    },
    {
      "cell_type": "markdown",
      "metadata": {
        "id": "b88e-uFuW1Uw"
      },
      "source": [
        "#### Indexing a string - Positioning of characters\n",
        "1. Index start from 0. indexing is done using subscript operator - **[ ]**\n",
        "2. Reverse indexing starts from -1\n",
        "3. Where length of the str is the total number of characters of the string\n",
        "\n",
        "\n",
        "1. Positive index starts from left to right - 0 to length - 1\n",
        "2. Negative index starts from right to left - -1 to -length\n",
        "\n"
      ],
      "id": "b88e-uFuW1Uw"
    },
    {
      "cell_type": "code",
      "execution_count": null,
      "metadata": {
        "colab": {
          "base_uri": "https://localhost:8080/"
        },
        "id": "1dfde041",
        "outputId": "82b3684a-991c-45db-a1a4-6727d693d4b4"
      },
      "outputs": [
        {
          "name": "stdout",
          "output_type": "stream",
          "text": [
            "Hello World\n"
          ]
        }
      ],
      "source": [
        "print(s1)"
      ],
      "id": "1dfde041"
    },
    {
      "cell_type": "code",
      "execution_count": null,
      "metadata": {
        "colab": {
          "base_uri": "https://localhost:8080/",
          "height": 36
        },
        "id": "357ff9ef",
        "outputId": "2c8f6f6a-1f87-4ec5-ea63-770cb83f8858"
      },
      "outputs": [
        {
          "data": {
            "application/vnd.google.colaboratory.intrinsic+json": {
              "type": "string"
            },
            "text/plain": [
              "'H'"
            ]
          },
          "execution_count": 81,
          "metadata": {},
          "output_type": "execute_result"
        }
      ],
      "source": [
        "s1[0]"
      ],
      "id": "357ff9ef"
    },
    {
      "cell_type": "code",
      "execution_count": null,
      "metadata": {
        "colab": {
          "base_uri": "https://localhost:8080/",
          "height": 36
        },
        "id": "7be01edc",
        "outputId": "6dcb32bb-238e-4db0-dca1-f6c93b9362ce"
      },
      "outputs": [
        {
          "data": {
            "application/vnd.google.colaboratory.intrinsic+json": {
              "type": "string"
            },
            "text/plain": [
              "'e'"
            ]
          },
          "execution_count": 82,
          "metadata": {},
          "output_type": "execute_result"
        }
      ],
      "source": [
        "s1[1]"
      ],
      "id": "7be01edc"
    },
    {
      "cell_type": "code",
      "execution_count": null,
      "metadata": {
        "colab": {
          "base_uri": "https://localhost:8080/",
          "height": 36
        },
        "id": "f0ad5cd5",
        "outputId": "b19384c8-bf50-46a6-e028-d8db1ee4ce37"
      },
      "outputs": [
        {
          "data": {
            "application/vnd.google.colaboratory.intrinsic+json": {
              "type": "string"
            },
            "text/plain": [
              "'l'"
            ]
          },
          "execution_count": 83,
          "metadata": {},
          "output_type": "execute_result"
        }
      ],
      "source": [
        "s1[2]"
      ],
      "id": "f0ad5cd5"
    },
    {
      "cell_type": "code",
      "execution_count": null,
      "metadata": {
        "colab": {
          "base_uri": "https://localhost:8080/",
          "height": 36
        },
        "id": "66a78e60",
        "outputId": "e0ead585-9628-4843-e1c7-747c07fa5c0c"
      },
      "outputs": [
        {
          "data": {
            "application/vnd.google.colaboratory.intrinsic+json": {
              "type": "string"
            },
            "text/plain": [
              "'d'"
            ]
          },
          "execution_count": 84,
          "metadata": {},
          "output_type": "execute_result"
        }
      ],
      "source": [
        "s1[10]"
      ],
      "id": "66a78e60"
    },
    {
      "cell_type": "code",
      "execution_count": null,
      "metadata": {
        "colab": {
          "base_uri": "https://localhost:8080/",
          "height": 36
        },
        "id": "d66cb907",
        "outputId": "b3ebad40-971f-40f0-f171-9e3d7e6f1613"
      },
      "outputs": [
        {
          "data": {
            "application/vnd.google.colaboratory.intrinsic+json": {
              "type": "string"
            },
            "text/plain": [
              "'Hello World'"
            ]
          },
          "execution_count": 85,
          "metadata": {},
          "output_type": "execute_result"
        }
      ],
      "source": [
        "s1"
      ],
      "id": "d66cb907"
    },
    {
      "cell_type": "code",
      "execution_count": null,
      "metadata": {
        "colab": {
          "base_uri": "https://localhost:8080/",
          "height": 165
        },
        "id": "43984a25",
        "outputId": "09f01e86-792a-4d59-d7ee-2d05983ee477"
      },
      "outputs": [
        {
          "ename": "IndexError",
          "evalue": "ignored",
          "output_type": "error",
          "traceback": [
            "\u001b[0;31m---------------------------------------------------------------------------\u001b[0m",
            "\u001b[0;31mIndexError\u001b[0m                                Traceback (most recent call last)",
            "\u001b[0;32m<ipython-input-118-34bcc4d24ffe>\u001b[0m in \u001b[0;36m<cell line: 1>\u001b[0;34m()\u001b[0m\n\u001b[0;32m----> 1\u001b[0;31m \u001b[0ms1\u001b[0m\u001b[0;34m[\u001b[0m\u001b[0;36m11\u001b[0m\u001b[0;34m]\u001b[0m\u001b[0;34m\u001b[0m\u001b[0;34m\u001b[0m\u001b[0m\n\u001b[0m",
            "\u001b[0;31mIndexError\u001b[0m: string index out of range"
          ]
        }
      ],
      "source": [
        "s1[11]"
      ],
      "id": "43984a25"
    },
    {
      "cell_type": "code",
      "execution_count": null,
      "metadata": {
        "colab": {
          "base_uri": "https://localhost:8080/",
          "height": 36
        },
        "id": "845968a1",
        "outputId": "8765450e-2b04-4b11-a575-b2eddd7b100a"
      },
      "outputs": [
        {
          "data": {
            "application/vnd.google.colaboratory.intrinsic+json": {
              "type": "string"
            },
            "text/plain": [
              "'Hello World'"
            ]
          },
          "execution_count": 87,
          "metadata": {},
          "output_type": "execute_result"
        }
      ],
      "source": [
        "s1"
      ],
      "id": "845968a1"
    },
    {
      "cell_type": "code",
      "execution_count": null,
      "metadata": {
        "colab": {
          "base_uri": "https://localhost:8080/",
          "height": 36
        },
        "id": "77e237c6",
        "outputId": "014847d8-1e53-4b85-f94b-7363899357dc"
      },
      "outputs": [
        {
          "data": {
            "application/vnd.google.colaboratory.intrinsic+json": {
              "type": "string"
            },
            "text/plain": [
              "' '"
            ]
          },
          "execution_count": 88,
          "metadata": {},
          "output_type": "execute_result"
        }
      ],
      "source": [
        "s1[5]"
      ],
      "id": "77e237c6"
    },
    {
      "cell_type": "code",
      "execution_count": null,
      "metadata": {
        "colab": {
          "base_uri": "https://localhost:8080/",
          "height": 36
        },
        "id": "e7aba867",
        "outputId": "a43dd163-43c6-497c-de72-ff64138e6f6a"
      },
      "outputs": [
        {
          "data": {
            "application/vnd.google.colaboratory.intrinsic+json": {
              "type": "string"
            },
            "text/plain": [
              "'Hello World'"
            ]
          },
          "execution_count": 89,
          "metadata": {},
          "output_type": "execute_result"
        }
      ],
      "source": [
        "s1"
      ],
      "id": "e7aba867"
    },
    {
      "cell_type": "code",
      "execution_count": null,
      "metadata": {
        "id": "85214ec4"
      },
      "outputs": [],
      "source": [
        "s2 = \"Hello everyone, weare learning datatypes in Python today\""
      ],
      "id": "85214ec4"
    },
    {
      "cell_type": "code",
      "execution_count": null,
      "metadata": {
        "colab": {
          "base_uri": "https://localhost:8080/"
        },
        "id": "d74ec564",
        "outputId": "a1a2cb04-4d34-46d3-f5c6-28bd779550eb"
      },
      "outputs": [
        {
          "name": "stdout",
          "output_type": "stream",
          "text": [
            "H\n"
          ]
        }
      ],
      "source": [
        "print(s1[0])"
      ],
      "id": "d74ec564"
    },
    {
      "cell_type": "code",
      "execution_count": null,
      "metadata": {
        "colab": {
          "base_uri": "https://localhost:8080/",
          "height": 36
        },
        "id": "cf18f6fd",
        "outputId": "fb87080a-0eb4-49b1-d67d-b16e2917b48a"
      },
      "outputs": [
        {
          "data": {
            "application/vnd.google.colaboratory.intrinsic+json": {
              "type": "string"
            },
            "text/plain": [
              "'H'"
            ]
          },
          "execution_count": 92,
          "metadata": {},
          "output_type": "execute_result"
        }
      ],
      "source": [
        "s1[0]"
      ],
      "id": "cf18f6fd"
    },
    {
      "cell_type": "code",
      "execution_count": null,
      "metadata": {
        "colab": {
          "base_uri": "https://localhost:8080/",
          "height": 36
        },
        "id": "0976fcc1",
        "outputId": "e30bb45b-1a90-4c82-ce1a-d92518de8e15"
      },
      "outputs": [
        {
          "data": {
            "application/vnd.google.colaboratory.intrinsic+json": {
              "type": "string"
            },
            "text/plain": [
              "'Hello everyone, weare learning datatypes in Python today'"
            ]
          },
          "execution_count": 93,
          "metadata": {},
          "output_type": "execute_result"
        }
      ],
      "source": [
        "s2"
      ],
      "id": "0976fcc1"
    },
    {
      "cell_type": "code",
      "execution_count": null,
      "metadata": {
        "id": "529f20e7"
      },
      "outputs": [],
      "source": [
        "length_of_s2 = len(s2)"
      ],
      "id": "529f20e7"
    },
    {
      "cell_type": "code",
      "execution_count": null,
      "metadata": {
        "colab": {
          "base_uri": "https://localhost:8080/"
        },
        "id": "268ace4c",
        "outputId": "945605d0-9bdc-4bc2-fb35-cf52ffc6659b"
      },
      "outputs": [
        {
          "data": {
            "text/plain": [
              "56"
            ]
          },
          "execution_count": 95,
          "metadata": {},
          "output_type": "execute_result"
        }
      ],
      "source": [
        "length_of_s2"
      ],
      "id": "268ace4c"
    },
    {
      "cell_type": "code",
      "execution_count": null,
      "metadata": {
        "colab": {
          "base_uri": "https://localhost:8080/",
          "height": 36
        },
        "id": "0b820ec2",
        "outputId": "ad54ed53-1b15-4dd2-8847-a65af088eb54"
      },
      "outputs": [
        {
          "data": {
            "application/vnd.google.colaboratory.intrinsic+json": {
              "type": "string"
            },
            "text/plain": [
              "'y'"
            ]
          },
          "execution_count": 96,
          "metadata": {},
          "output_type": "execute_result"
        }
      ],
      "source": [
        "s2[length_of_s2 - 1]"
      ],
      "id": "0b820ec2"
    },
    {
      "cell_type": "code",
      "execution_count": null,
      "metadata": {
        "colab": {
          "base_uri": "https://localhost:8080/",
          "height": 165
        },
        "id": "58a3473c",
        "outputId": "b2afa2aa-1732-4f35-f67e-2df143dd8047"
      },
      "outputs": [
        {
          "ename": "IndexError",
          "evalue": "ignored",
          "output_type": "error",
          "traceback": [
            "\u001b[0;31m---------------------------------------------------------------------------\u001b[0m",
            "\u001b[0;31mIndexError\u001b[0m                                Traceback (most recent call last)",
            "\u001b[0;32m<ipython-input-97-6d3dfe3924a7>\u001b[0m in \u001b[0;36m<cell line: 1>\u001b[0;34m()\u001b[0m\n\u001b[0;32m----> 1\u001b[0;31m \u001b[0ms2\u001b[0m\u001b[0;34m[\u001b[0m\u001b[0mlength_of_s2\u001b[0m\u001b[0;34m]\u001b[0m\u001b[0;34m\u001b[0m\u001b[0;34m\u001b[0m\u001b[0m\n\u001b[0m",
            "\u001b[0;31mIndexError\u001b[0m: string index out of range"
          ]
        }
      ],
      "source": [
        "s2[length_of_s2]"
      ],
      "id": "58a3473c"
    },
    {
      "cell_type": "code",
      "execution_count": null,
      "metadata": {
        "colab": {
          "base_uri": "https://localhost:8080/",
          "height": 36
        },
        "id": "37b01988",
        "outputId": "1f427550-3974-4c54-cc40-295bdb6e9b49"
      },
      "outputs": [
        {
          "data": {
            "application/vnd.google.colaboratory.intrinsic+json": {
              "type": "string"
            },
            "text/plain": [
              "'Hello everyone, weare learning datatypes in Python today'"
            ]
          },
          "execution_count": 98,
          "metadata": {},
          "output_type": "execute_result"
        }
      ],
      "source": [
        "s2"
      ],
      "id": "37b01988"
    },
    {
      "cell_type": "code",
      "execution_count": null,
      "metadata": {
        "colab": {
          "base_uri": "https://localhost:8080/",
          "height": 36
        },
        "id": "0e2cfcb8",
        "outputId": "ae1c89b1-2e26-42dd-b481-615c67702a23"
      },
      "outputs": [
        {
          "data": {
            "application/vnd.google.colaboratory.intrinsic+json": {
              "type": "string"
            },
            "text/plain": [
              "'y'"
            ]
          },
          "execution_count": 99,
          "metadata": {},
          "output_type": "execute_result"
        }
      ],
      "source": [
        "s2[len(s2) - 1]"
      ],
      "id": "0e2cfcb8"
    },
    {
      "cell_type": "code",
      "source": [
        "## Positive index starts from left to right - 0 to length - 1\n",
        "## Negative index starts from right to left - -1 to -length"
      ],
      "metadata": {
        "id": "T2OJrSMNO_C7"
      },
      "id": "T2OJrSMNO_C7",
      "execution_count": null,
      "outputs": []
    },
    {
      "cell_type": "code",
      "execution_count": null,
      "metadata": {
        "colab": {
          "base_uri": "https://localhost:8080/",
          "height": 36
        },
        "id": "580bf8c2",
        "outputId": "475b6c04-0338-4e21-9e55-cb2b7c8f90b5"
      },
      "outputs": [
        {
          "data": {
            "application/vnd.google.colaboratory.intrinsic+json": {
              "type": "string"
            },
            "text/plain": [
              "'Hello World'"
            ]
          },
          "execution_count": 101,
          "metadata": {},
          "output_type": "execute_result"
        }
      ],
      "source": [
        "s1"
      ],
      "id": "580bf8c2"
    },
    {
      "cell_type": "code",
      "execution_count": null,
      "metadata": {
        "colab": {
          "base_uri": "https://localhost:8080/",
          "height": 36
        },
        "id": "412a41b4",
        "outputId": "8a97d8d5-fbe0-4061-9546-67325815b28d"
      },
      "outputs": [
        {
          "data": {
            "application/vnd.google.colaboratory.intrinsic+json": {
              "type": "string"
            },
            "text/plain": [
              "'d'"
            ]
          },
          "execution_count": 102,
          "metadata": {},
          "output_type": "execute_result"
        }
      ],
      "source": [
        "s1[-1]"
      ],
      "id": "412a41b4"
    },
    {
      "cell_type": "code",
      "execution_count": null,
      "metadata": {
        "colab": {
          "base_uri": "https://localhost:8080/",
          "height": 36
        },
        "id": "169b19cd",
        "outputId": "9fe2f0cf-5c3c-415e-f441-e9dcb8f3c494"
      },
      "outputs": [
        {
          "data": {
            "application/vnd.google.colaboratory.intrinsic+json": {
              "type": "string"
            },
            "text/plain": [
              "'l'"
            ]
          },
          "execution_count": 103,
          "metadata": {},
          "output_type": "execute_result"
        }
      ],
      "source": [
        "s1[-2]"
      ],
      "id": "169b19cd"
    },
    {
      "cell_type": "code",
      "execution_count": null,
      "metadata": {
        "colab": {
          "base_uri": "https://localhost:8080/",
          "height": 36
        },
        "id": "2e551797",
        "outputId": "e0b5aa6e-0154-428e-b672-bcd2646e51cd"
      },
      "outputs": [
        {
          "data": {
            "application/vnd.google.colaboratory.intrinsic+json": {
              "type": "string"
            },
            "text/plain": [
              "'r'"
            ]
          },
          "execution_count": 104,
          "metadata": {},
          "output_type": "execute_result"
        }
      ],
      "source": [
        "s1[-3]"
      ],
      "id": "2e551797"
    },
    {
      "cell_type": "code",
      "execution_count": null,
      "metadata": {
        "colab": {
          "base_uri": "https://localhost:8080/",
          "height": 36
        },
        "id": "159399b8",
        "outputId": "aa19b8a5-0d6c-4814-97f8-2783dcfe7dc3"
      },
      "outputs": [
        {
          "data": {
            "application/vnd.google.colaboratory.intrinsic+json": {
              "type": "string"
            },
            "text/plain": [
              "'H'"
            ]
          },
          "execution_count": 105,
          "metadata": {},
          "output_type": "execute_result"
        }
      ],
      "source": [
        "s1[-11]"
      ],
      "id": "159399b8"
    },
    {
      "cell_type": "code",
      "execution_count": null,
      "metadata": {
        "colab": {
          "base_uri": "https://localhost:8080/",
          "height": 36
        },
        "id": "877e800c",
        "outputId": "4f55f943-3b3c-4c37-eb3b-547307b55d3c"
      },
      "outputs": [
        {
          "data": {
            "application/vnd.google.colaboratory.intrinsic+json": {
              "type": "string"
            },
            "text/plain": [
              "'H'"
            ]
          },
          "execution_count": 106,
          "metadata": {},
          "output_type": "execute_result"
        }
      ],
      "source": [
        "s1[-len(s1)]"
      ],
      "id": "877e800c"
    },
    {
      "cell_type": "code",
      "execution_count": null,
      "metadata": {
        "colab": {
          "base_uri": "https://localhost:8080/",
          "height": 36
        },
        "id": "b62113e9",
        "outputId": "14731b65-a1a2-41de-f19d-c722cbf40ed4"
      },
      "outputs": [
        {
          "data": {
            "application/vnd.google.colaboratory.intrinsic+json": {
              "type": "string"
            },
            "text/plain": [
              "'Hello everyone, weare learning datatypes in Python today'"
            ]
          },
          "execution_count": 107,
          "metadata": {},
          "output_type": "execute_result"
        }
      ],
      "source": [
        "s2 "
      ],
      "id": "b62113e9"
    },
    {
      "cell_type": "code",
      "execution_count": null,
      "metadata": {
        "colab": {
          "base_uri": "https://localhost:8080/",
          "height": 36
        },
        "id": "5e0149d2",
        "outputId": "42b4e83e-c3d5-41f4-e32d-a4e5c928c328"
      },
      "outputs": [
        {
          "data": {
            "application/vnd.google.colaboratory.intrinsic+json": {
              "type": "string"
            },
            "text/plain": [
              "'H'"
            ]
          },
          "execution_count": 108,
          "metadata": {},
          "output_type": "execute_result"
        }
      ],
      "source": [
        "s2[-length_of_s2]"
      ],
      "id": "5e0149d2"
    },
    {
      "cell_type": "code",
      "execution_count": null,
      "metadata": {
        "colab": {
          "base_uri": "https://localhost:8080/",
          "height": 36
        },
        "id": "a0d6843c",
        "outputId": "228f49b4-6ec5-4707-aef0-725441c6a939"
      },
      "outputs": [
        {
          "data": {
            "application/vnd.google.colaboratory.intrinsic+json": {
              "type": "string"
            },
            "text/plain": [
              "'Hello World'"
            ]
          },
          "execution_count": 109,
          "metadata": {},
          "output_type": "execute_result"
        }
      ],
      "source": [
        "s1"
      ],
      "id": "a0d6843c"
    },
    {
      "cell_type": "code",
      "execution_count": null,
      "metadata": {
        "colab": {
          "base_uri": "https://localhost:8080/",
          "height": 165
        },
        "id": "002768f6",
        "outputId": "b1b39f69-133f-4450-8436-d391f533d911"
      },
      "outputs": [
        {
          "ename": "IndexError",
          "evalue": "ignored",
          "output_type": "error",
          "traceback": [
            "\u001b[0;31m---------------------------------------------------------------------------\u001b[0m",
            "\u001b[0;31mIndexError\u001b[0m                                Traceback (most recent call last)",
            "\u001b[0;32m<ipython-input-110-7fc4b858c320>\u001b[0m in \u001b[0;36m<cell line: 1>\u001b[0;34m()\u001b[0m\n\u001b[0;32m----> 1\u001b[0;31m \u001b[0ms1\u001b[0m\u001b[0;34m[\u001b[0m\u001b[0;34m-\u001b[0m\u001b[0;36m12\u001b[0m\u001b[0;34m]\u001b[0m\u001b[0;34m\u001b[0m\u001b[0;34m\u001b[0m\u001b[0m\n\u001b[0m",
            "\u001b[0;31mIndexError\u001b[0m: string index out of range"
          ]
        }
      ],
      "source": [
        "s1[-12]"
      ],
      "id": "002768f6"
    },
    {
      "cell_type": "code",
      "execution_count": null,
      "metadata": {
        "colab": {
          "base_uri": "https://localhost:8080/",
          "height": 165
        },
        "id": "ef3d65d0",
        "outputId": "484ce858-7062-474d-bd8e-b18656edc2e5"
      },
      "outputs": [
        {
          "ename": "IndexError",
          "evalue": "ignored",
          "output_type": "error",
          "traceback": [
            "\u001b[0;31m---------------------------------------------------------------------------\u001b[0m",
            "\u001b[0;31mIndexError\u001b[0m                                Traceback (most recent call last)",
            "\u001b[0;32m<ipython-input-111-af866223dc11>\u001b[0m in \u001b[0;36m<cell line: 1>\u001b[0;34m()\u001b[0m\n\u001b[0;32m----> 1\u001b[0;31m \u001b[0ms1\u001b[0m\u001b[0;34m[\u001b[0m\u001b[0;34m-\u001b[0m\u001b[0;36m20\u001b[0m\u001b[0;34m]\u001b[0m\u001b[0;34m\u001b[0m\u001b[0;34m\u001b[0m\u001b[0m\n\u001b[0m",
            "\u001b[0;31mIndexError\u001b[0m: string index out of range"
          ]
        }
      ],
      "source": [
        "s1[-20]"
      ],
      "id": "ef3d65d0"
    },
    {
      "cell_type": "code",
      "execution_count": null,
      "metadata": {
        "colab": {
          "base_uri": "https://localhost:8080/",
          "height": 36
        },
        "id": "1c8e0fa1",
        "outputId": "27720454-dff8-4e9d-c37a-1ecdf3bc0367"
      },
      "outputs": [
        {
          "data": {
            "application/vnd.google.colaboratory.intrinsic+json": {
              "type": "string"
            },
            "text/plain": [
              "'Hello everyone, weare learning datatypes in Python today'"
            ]
          },
          "execution_count": 112,
          "metadata": {},
          "output_type": "execute_result"
        }
      ],
      "source": [
        "s2"
      ],
      "id": "1c8e0fa1"
    },
    {
      "cell_type": "code",
      "execution_count": null,
      "metadata": {
        "colab": {
          "base_uri": "https://localhost:8080/",
          "height": 36
        },
        "id": "f52ec5bf",
        "outputId": "29d9b90f-e37d-46e8-c05a-bfe7b4dc83e3"
      },
      "outputs": [
        {
          "data": {
            "application/vnd.google.colaboratory.intrinsic+json": {
              "type": "string"
            },
            "text/plain": [
              "'y'"
            ]
          },
          "execution_count": 113,
          "metadata": {},
          "output_type": "execute_result"
        }
      ],
      "source": [
        "s2[-1]"
      ],
      "id": "f52ec5bf"
    },
    {
      "cell_type": "code",
      "execution_count": null,
      "metadata": {
        "colab": {
          "base_uri": "https://localhost:8080/",
          "height": 36
        },
        "id": "7bd8b31e",
        "outputId": "61429818-9ac5-4976-d12a-8bf84a8ef137"
      },
      "outputs": [
        {
          "data": {
            "application/vnd.google.colaboratory.intrinsic+json": {
              "type": "string"
            },
            "text/plain": [
              "'o'"
            ]
          },
          "execution_count": 114,
          "metadata": {},
          "output_type": "execute_result"
        }
      ],
      "source": [
        "s2[-4]"
      ],
      "id": "7bd8b31e"
    },
    {
      "cell_type": "code",
      "execution_count": null,
      "metadata": {
        "colab": {
          "base_uri": "https://localhost:8080/",
          "height": 36
        },
        "id": "91f92317",
        "outputId": "0b399b79-ea98-4572-e2f3-066d2aaa4615"
      },
      "outputs": [
        {
          "data": {
            "application/vnd.google.colaboratory.intrinsic+json": {
              "type": "string"
            },
            "text/plain": [
              "'r'"
            ]
          },
          "execution_count": 115,
          "metadata": {},
          "output_type": "execute_result"
        }
      ],
      "source": [
        "s2[9]"
      ],
      "id": "91f92317"
    },
    {
      "cell_type": "code",
      "execution_count": null,
      "metadata": {
        "colab": {
          "base_uri": "https://localhost:8080/",
          "height": 36
        },
        "id": "c50aa349",
        "outputId": "8012edef-3e5a-4b76-eec9-cf052a0458f1"
      },
      "outputs": [
        {
          "data": {
            "application/vnd.google.colaboratory.intrinsic+json": {
              "type": "string"
            },
            "text/plain": [
              "' '"
            ]
          },
          "execution_count": 116,
          "metadata": {},
          "output_type": "execute_result"
        }
      ],
      "source": [
        "s2[-1*-5]"
      ],
      "id": "c50aa349"
    },
    {
      "cell_type": "code",
      "execution_count": null,
      "metadata": {
        "colab": {
          "base_uri": "https://localhost:8080/",
          "height": 165
        },
        "id": "b622fd28",
        "outputId": "f5b04f69-bbac-4e73-902f-d3961db50635"
      },
      "outputs": [
        {
          "ename": "TypeError",
          "evalue": "ignored",
          "output_type": "error",
          "traceback": [
            "\u001b[0;31m---------------------------------------------------------------------------\u001b[0m",
            "\u001b[0;31mTypeError\u001b[0m                                 Traceback (most recent call last)",
            "\u001b[0;32m<ipython-input-117-9395f19b9593>\u001b[0m in \u001b[0;36m<cell line: 1>\u001b[0;34m()\u001b[0m\n\u001b[0;32m----> 1\u001b[0;31m \u001b[0ms2\u001b[0m\u001b[0;34m[\u001b[0m\u001b[0;36m9\u001b[0m\u001b[0;34m,\u001b[0m \u001b[0;36m10\u001b[0m\u001b[0;34m]\u001b[0m\u001b[0;34m\u001b[0m\u001b[0;34m\u001b[0m\u001b[0m\n\u001b[0m",
            "\u001b[0;31mTypeError\u001b[0m: string indices must be integers"
          ]
        }
      ],
      "source": [
        "s2[9, 10]"
      ],
      "id": "b622fd28"
    },
    {
      "cell_type": "markdown",
      "metadata": {
        "id": "hHU0yrHhZjRQ"
      },
      "source": [
        "####Slicing\n",
        "*   fetching a substring from a string\n",
        "*   string[start:end:step] \n",
        "\n",
        "1. start - starting index from where you want to slice the strig\n",
        "2. end/stop - ending/last index where the slicing of the string ends (excluded)\n",
        "3. step - the increment/decrement in which the slicing should be performed\n",
        "\n",
        "####### By default, \n",
        "* stop = length, when step is positive\n",
        "* stop = 0 (inclusive), when step is negative\n",
        "\n",
        "####### By default, \n",
        "* start = 0, when step is positive\n",
        "* start = length-1 (inclusive), when step is negative"
      ],
      "id": "hHU0yrHhZjRQ"
    },
    {
      "cell_type": "code",
      "execution_count": null,
      "metadata": {
        "colab": {
          "base_uri": "https://localhost:8080/",
          "height": 36
        },
        "id": "fd250b40",
        "outputId": "35be11df-778e-4f5e-f544-0090a2927c07"
      },
      "outputs": [
        {
          "data": {
            "application/vnd.google.colaboratory.intrinsic+json": {
              "type": "string"
            },
            "text/plain": [
              "'Hello World'"
            ]
          },
          "execution_count": 120,
          "metadata": {},
          "output_type": "execute_result"
        }
      ],
      "source": [
        "s1"
      ],
      "id": "fd250b40"
    },
    {
      "cell_type": "code",
      "execution_count": null,
      "metadata": {
        "colab": {
          "base_uri": "https://localhost:8080/",
          "height": 36
        },
        "id": "57460e52",
        "outputId": "1da27b4e-316d-42fe-d702-9697f4800d3f"
      },
      "outputs": [
        {
          "data": {
            "application/vnd.google.colaboratory.intrinsic+json": {
              "type": "string"
            },
            "text/plain": [
              "'lo W'"
            ]
          },
          "execution_count": 121,
          "metadata": {},
          "output_type": "execute_result"
        }
      ],
      "source": [
        "s1[3:7:1]"
      ],
      "id": "57460e52"
    },
    {
      "cell_type": "code",
      "execution_count": null,
      "metadata": {
        "id": "40cafd64"
      },
      "outputs": [],
      "source": [
        "start = 3\n",
        "stop = 7\n",
        "step = 1"
      ],
      "id": "40cafd64"
    },
    {
      "cell_type": "code",
      "execution_count": null,
      "metadata": {
        "colab": {
          "base_uri": "https://localhost:8080/",
          "height": 36
        },
        "id": "807448ae",
        "outputId": "0e76cffd-56ca-45b8-d32f-ef5650a5059e"
      },
      "outputs": [
        {
          "data": {
            "application/vnd.google.colaboratory.intrinsic+json": {
              "type": "string"
            },
            "text/plain": [
              "'lo W'"
            ]
          },
          "execution_count": 123,
          "metadata": {},
          "output_type": "execute_result"
        }
      ],
      "source": [
        "s1[start:stop:step]"
      ],
      "id": "807448ae"
    },
    {
      "cell_type": "code",
      "execution_count": null,
      "metadata": {
        "colab": {
          "base_uri": "https://localhost:8080/",
          "height": 36
        },
        "id": "d0f73f6c",
        "outputId": "7a291f10-00a6-4148-cf1a-d921c8b73355"
      },
      "outputs": [
        {
          "data": {
            "application/vnd.google.colaboratory.intrinsic+json": {
              "type": "string"
            },
            "text/plain": [
              "'loWr'"
            ]
          },
          "execution_count": 124,
          "metadata": {},
          "output_type": "execute_result"
        }
      ],
      "source": [
        "s1[2:9:2]"
      ],
      "id": "d0f73f6c"
    },
    {
      "cell_type": "code",
      "execution_count": null,
      "metadata": {
        "colab": {
          "base_uri": "https://localhost:8080/",
          "height": 165
        },
        "id": "4c8871e2",
        "outputId": "5510e545-df07-4b0c-9384-5b673fe741ff"
      },
      "outputs": [
        {
          "ename": "ValueError",
          "evalue": "ignored",
          "output_type": "error",
          "traceback": [
            "\u001b[0;31m---------------------------------------------------------------------------\u001b[0m",
            "\u001b[0;31mValueError\u001b[0m                                Traceback (most recent call last)",
            "\u001b[0;32m<ipython-input-128-1cef0a09c1a2>\u001b[0m in \u001b[0;36m<cell line: 1>\u001b[0;34m()\u001b[0m\n\u001b[0;32m----> 1\u001b[0;31m \u001b[0ms1\u001b[0m\u001b[0;34m[\u001b[0m\u001b[0;36m3\u001b[0m\u001b[0;34m:\u001b[0m\u001b[0;36m7\u001b[0m\u001b[0;34m:\u001b[0m\u001b[0;36m0\u001b[0m\u001b[0;34m]\u001b[0m\u001b[0;34m\u001b[0m\u001b[0;34m\u001b[0m\u001b[0m\n\u001b[0m",
            "\u001b[0;31mValueError\u001b[0m: slice step cannot be zero"
          ]
        }
      ],
      "source": [
        "s1[3:7:0]"
      ],
      "id": "4c8871e2"
    },
    {
      "cell_type": "code",
      "execution_count": null,
      "metadata": {
        "id": "b3afe48b"
      },
      "outputs": [],
      "source": [
        "s3 = \"\"\"Hello everyone.\n",
        "How are you??\n",
        "This is Python's class.\n",
        "We are learning slicing in strings\"\"\""
      ],
      "id": "b3afe48b"
    },
    {
      "cell_type": "code",
      "execution_count": null,
      "metadata": {
        "colab": {
          "base_uri": "https://localhost:8080/",
          "height": 36
        },
        "id": "66021aee",
        "outputId": "a2a82adb-98ab-4b0c-845f-6c76c6600074"
      },
      "outputs": [
        {
          "data": {
            "application/vnd.google.colaboratory.intrinsic+json": {
              "type": "string"
            },
            "text/plain": [
              "\"Hello everyone.\\nHow are you??\\nThis is Python's class.\\nWe are learning slicing in strings\""
            ]
          },
          "execution_count": 130,
          "metadata": {},
          "output_type": "execute_result"
        }
      ],
      "source": [
        "s3"
      ],
      "id": "66021aee"
    },
    {
      "cell_type": "code",
      "execution_count": null,
      "metadata": {
        "colab": {
          "base_uri": "https://localhost:8080/",
          "height": 36
        },
        "id": "57ffe99e",
        "outputId": "3ce49059-e27a-4c41-ca7b-7c0adc39d71d"
      },
      "outputs": [
        {
          "data": {
            "application/vnd.google.colaboratory.intrinsic+json": {
              "type": "string"
            },
            "text/plain": [
              "'\\nHow are y'"
            ]
          },
          "execution_count": 131,
          "metadata": {},
          "output_type": "execute_result"
        }
      ],
      "source": [
        "s3[15:25]"
      ],
      "id": "57ffe99e"
    },
    {
      "cell_type": "code",
      "execution_count": null,
      "metadata": {
        "colab": {
          "base_uri": "https://localhost:8080/",
          "height": 36
        },
        "id": "5c0631e9",
        "outputId": "e197c6a1-1714-4635-f342-ee43f52ece3d"
      },
      "outputs": [
        {
          "data": {
            "application/vnd.google.colaboratory.intrinsic+json": {
              "type": "string"
            },
            "text/plain": [
              "\"\\nHow are you??\\nThis is Python's class.\\nW\""
            ]
          },
          "execution_count": 132,
          "metadata": {},
          "output_type": "execute_result"
        }
      ],
      "source": [
        "s3[15:55]"
      ],
      "id": "5c0631e9"
    },
    {
      "cell_type": "code",
      "execution_count": null,
      "metadata": {
        "colab": {
          "base_uri": "https://localhost:8080/"
        },
        "id": "cceafc3b",
        "outputId": "a8c2da08-69e3-47de-a8eb-f44259cdb003"
      },
      "outputs": [
        {
          "name": "stdout",
          "output_type": "stream",
          "text": [
            "Hello everyone.\n",
            "How are you??\n",
            "This is Python's class.\n",
            "We are learning slicing in strings\n"
          ]
        }
      ],
      "source": [
        "print(s3)"
      ],
      "id": "cceafc3b"
    },
    {
      "cell_type": "code",
      "execution_count": null,
      "metadata": {
        "id": "47486953"
      },
      "outputs": [],
      "source": [
        "s4 = \"Hello.\\nHow are you?\\nBye.\""
      ],
      "id": "47486953"
    },
    {
      "cell_type": "code",
      "execution_count": null,
      "metadata": {
        "colab": {
          "base_uri": "https://localhost:8080/"
        },
        "id": "6338bf0c",
        "outputId": "d18df138-f761-4a4c-a143-2273368eb453"
      },
      "outputs": [
        {
          "name": "stdout",
          "output_type": "stream",
          "text": [
            "Hello.\n",
            "How are you?\n",
            "Bye.\n"
          ]
        }
      ],
      "source": [
        "print(s4)"
      ],
      "id": "6338bf0c"
    },
    {
      "cell_type": "code",
      "execution_count": null,
      "metadata": {
        "colab": {
          "base_uri": "https://localhost:8080/",
          "height": 36
        },
        "id": "0b85374e",
        "outputId": "facff0c1-cdaa-4edd-89a7-5c4ac57367a8"
      },
      "outputs": [
        {
          "data": {
            "application/vnd.google.colaboratory.intrinsic+json": {
              "type": "string"
            },
            "text/plain": [
              "'Hello.\\nHow are you?\\nBye.'"
            ]
          },
          "execution_count": 136,
          "metadata": {},
          "output_type": "execute_result"
        }
      ],
      "source": [
        "s4"
      ],
      "id": "0b85374e"
    },
    {
      "cell_type": "code",
      "execution_count": null,
      "metadata": {
        "colab": {
          "base_uri": "https://localhost:8080/",
          "height": 36
        },
        "id": "df823aba",
        "outputId": "7700d706-92e3-4767-b146-ef64258c30d6"
      },
      "outputs": [
        {
          "data": {
            "application/vnd.google.colaboratory.intrinsic+json": {
              "type": "string"
            },
            "text/plain": [
              "'Hello World'"
            ]
          },
          "execution_count": 137,
          "metadata": {},
          "output_type": "execute_result"
        }
      ],
      "source": [
        "s1"
      ],
      "id": "df823aba"
    },
    {
      "cell_type": "code",
      "execution_count": null,
      "metadata": {
        "colab": {
          "base_uri": "https://localhost:8080/",
          "height": 36
        },
        "id": "bdbbff87",
        "outputId": "16d03c23-df39-4b08-a0dc-42dd19d78094"
      },
      "outputs": [
        {
          "data": {
            "application/vnd.google.colaboratory.intrinsic+json": {
              "type": "string"
            },
            "text/plain": [
              "'eoo'"
            ]
          },
          "execution_count": 140,
          "metadata": {},
          "output_type": "execute_result"
        }
      ],
      "source": [
        "s1[1:10:3]"
      ],
      "id": "bdbbff87"
    },
    {
      "cell_type": "code",
      "execution_count": null,
      "metadata": {
        "colab": {
          "base_uri": "https://localhost:8080/",
          "height": 36
        },
        "id": "0195b56d",
        "outputId": "b4e9790f-b7e2-4cf0-83cb-6d623c4f541c"
      },
      "outputs": [
        {
          "data": {
            "application/vnd.google.colaboratory.intrinsic+json": {
              "type": "string"
            },
            "text/plain": [
              "'oWrd'"
            ]
          },
          "execution_count": 144,
          "metadata": {},
          "output_type": "execute_result"
        }
      ],
      "source": [
        "s1[4:20:2]"
      ],
      "id": "0195b56d"
    },
    {
      "cell_type": "code",
      "execution_count": null,
      "metadata": {
        "colab": {
          "base_uri": "https://localhost:8080/",
          "height": 36
        },
        "id": "22a2d35b",
        "outputId": "9d4b2154-7525-444f-c100-f8d3d2db2ea6"
      },
      "outputs": [
        {
          "data": {
            "application/vnd.google.colaboratory.intrinsic+json": {
              "type": "string"
            },
            "text/plain": [
              "''"
            ]
          },
          "execution_count": 145,
          "metadata": {},
          "output_type": "execute_result"
        }
      ],
      "source": [
        "s1[8:3:1]"
      ],
      "id": "22a2d35b"
    },
    {
      "cell_type": "code",
      "execution_count": null,
      "metadata": {
        "colab": {
          "base_uri": "https://localhost:8080/",
          "height": 36
        },
        "id": "0acbc59d",
        "outputId": "769b79e4-58e0-418c-a483-d38aeb0dfdc4"
      },
      "outputs": [
        {
          "data": {
            "application/vnd.google.colaboratory.intrinsic+json": {
              "type": "string"
            },
            "text/plain": [
              "'roW o'"
            ]
          },
          "execution_count": 146,
          "metadata": {},
          "output_type": "execute_result"
        }
      ],
      "source": [
        "s1[8:3:-1]"
      ],
      "id": "0acbc59d"
    },
    {
      "cell_type": "code",
      "execution_count": null,
      "metadata": {
        "colab": {
          "base_uri": "https://localhost:8080/",
          "height": 36
        },
        "id": "c0dc9a5b",
        "outputId": "19d0df12-d045-44ca-d13c-7a96a1c2bab1"
      },
      "outputs": [
        {
          "data": {
            "application/vnd.google.colaboratory.intrinsic+json": {
              "type": "string"
            },
            "text/plain": [
              "'lo l'"
            ]
          },
          "execution_count": 147,
          "metadata": {},
          "output_type": "execute_result"
        }
      ],
      "source": [
        "s1[9:2:-2]"
      ],
      "id": "c0dc9a5b"
    },
    {
      "cell_type": "code",
      "execution_count": null,
      "metadata": {
        "colab": {
          "base_uri": "https://localhost:8080/",
          "height": 36
        },
        "id": "16e8cb1e",
        "outputId": "5e2a9357-98da-4231-c7b0-1b78867330ed"
      },
      "outputs": [
        {
          "data": {
            "application/vnd.google.colaboratory.intrinsic+json": {
              "type": "string"
            },
            "text/plain": [
              "'l r'"
            ]
          },
          "execution_count": 148,
          "metadata": {},
          "output_type": "execute_result"
        }
      ],
      "source": [
        "s1[-9:-1:3]"
      ],
      "id": "16e8cb1e"
    },
    {
      "cell_type": "code",
      "execution_count": null,
      "metadata": {
        "colab": {
          "base_uri": "https://localhost:8080/",
          "height": 36
        },
        "id": "147f13e4",
        "outputId": "960027d4-6f0e-4ccd-aaba-eeccc218edcf"
      },
      "outputs": [
        {
          "data": {
            "application/vnd.google.colaboratory.intrinsic+json": {
              "type": "string"
            },
            "text/plain": [
              "'l r'"
            ]
          },
          "execution_count": 151,
          "metadata": {},
          "output_type": "execute_result"
        }
      ],
      "source": [
        "s1[-9:10:3]"
      ],
      "id": "147f13e4"
    },
    {
      "cell_type": "code",
      "execution_count": null,
      "metadata": {
        "colab": {
          "base_uri": "https://localhost:8080/",
          "height": 36
        },
        "id": "9c4f7678",
        "outputId": "8ef8fb77-7c3c-4664-aa94-4e400a10aa74"
      },
      "outputs": [
        {
          "data": {
            "application/vnd.google.colaboratory.intrinsic+json": {
              "type": "string"
            },
            "text/plain": [
              "'rWol'"
            ]
          },
          "execution_count": 150,
          "metadata": {},
          "output_type": "execute_result"
        }
      ],
      "source": [
        "s1[8:-10:-2]"
      ],
      "id": "9c4f7678"
    },
    {
      "cell_type": "code",
      "execution_count": null,
      "metadata": {
        "colab": {
          "base_uri": "https://localhost:8080/",
          "height": 36
        },
        "id": "c159dc57",
        "outputId": "605c8191-84de-4208-b69c-b8b7be87ac0a"
      },
      "outputs": [
        {
          "data": {
            "application/vnd.google.colaboratory.intrinsic+json": {
              "type": "string"
            },
            "text/plain": [
              "'llo Wo'"
            ]
          },
          "execution_count": 153,
          "metadata": {},
          "output_type": "execute_result"
        }
      ],
      "source": [
        "s1[2:8:] # By default, step = 1"
      ],
      "id": "c159dc57"
    },
    {
      "cell_type": "code",
      "execution_count": null,
      "metadata": {
        "colab": {
          "base_uri": "https://localhost:8080/",
          "height": 36
        },
        "id": "4f11b29c",
        "outputId": "10149a0d-3139-4e9e-a63f-373c97682d2c"
      },
      "outputs": [
        {
          "data": {
            "application/vnd.google.colaboratory.intrinsic+json": {
              "type": "string"
            },
            "text/plain": [
              "''"
            ]
          },
          "execution_count": 154,
          "metadata": {},
          "output_type": "execute_result"
        }
      ],
      "source": [
        "s1[7:1:]"
      ],
      "id": "4f11b29c"
    },
    {
      "cell_type": "code",
      "execution_count": null,
      "metadata": {
        "colab": {
          "base_uri": "https://localhost:8080/"
        },
        "id": "2614da52",
        "outputId": "c6975880-773f-48d9-a66e-1d08bea5f7b4"
      },
      "outputs": [
        {
          "data": {
            "text/plain": [
              "str"
            ]
          },
          "execution_count": 155,
          "metadata": {},
          "output_type": "execute_result"
        }
      ],
      "source": [
        "type(s1[7:1:])"
      ],
      "id": "2614da52"
    },
    {
      "cell_type": "code",
      "execution_count": null,
      "metadata": {
        "colab": {
          "base_uri": "https://localhost:8080/",
          "height": 36
        },
        "id": "e35285cc",
        "outputId": "f5310925-0798-474b-9787-50b282c6978a"
      },
      "outputs": [
        {
          "data": {
            "application/vnd.google.colaboratory.intrinsic+json": {
              "type": "string"
            },
            "text/plain": [
              "'llo Wo'"
            ]
          },
          "execution_count": 158,
          "metadata": {},
          "output_type": "execute_result"
        }
      ],
      "source": [
        "s1[2:8:]"
      ],
      "id": "e35285cc"
    },
    {
      "cell_type": "code",
      "execution_count": null,
      "metadata": {
        "colab": {
          "base_uri": "https://localhost:8080/",
          "height": 36
        },
        "id": "8cc0f601",
        "outputId": "006249b7-a0a4-4856-f3ef-34e2cf2756cf"
      },
      "outputs": [
        {
          "data": {
            "application/vnd.google.colaboratory.intrinsic+json": {
              "type": "string"
            },
            "text/plain": [
              "'Hello World'"
            ]
          },
          "execution_count": 159,
          "metadata": {},
          "output_type": "execute_result"
        }
      ],
      "source": [
        "s1"
      ],
      "id": "8cc0f601"
    },
    {
      "cell_type": "code",
      "execution_count": null,
      "metadata": {
        "colab": {
          "base_uri": "https://localhost:8080/",
          "height": 36
        },
        "id": "40110b33",
        "outputId": "9bb44b36-229f-41c8-c174-b253ee288d86"
      },
      "outputs": [
        {
          "data": {
            "application/vnd.google.colaboratory.intrinsic+json": {
              "type": "string"
            },
            "text/plain": [
              "'Hello W'"
            ]
          },
          "execution_count": 161,
          "metadata": {},
          "output_type": "execute_result"
        }
      ],
      "source": [
        "s1[:7:1] # start = 0"
      ],
      "id": "40110b33"
    },
    {
      "cell_type": "code",
      "source": [
        "##By default, \n",
        "#1. stop = length, when step is positive\n",
        "#2. stop = 0 (inclusive), when step is negative"
      ],
      "metadata": {
        "id": "HAGPJxK6MYUq"
      },
      "id": "HAGPJxK6MYUq",
      "execution_count": null,
      "outputs": []
    },
    {
      "cell_type": "code",
      "execution_count": null,
      "metadata": {
        "colab": {
          "base_uri": "https://localhost:8080/",
          "height": 36
        },
        "id": "f7649d8e",
        "outputId": "2c9ac9e1-0278-47d4-b401-37c8c58b7530"
      },
      "outputs": [
        {
          "data": {
            "application/vnd.google.colaboratory.intrinsic+json": {
              "type": "string"
            },
            "text/plain": [
              "'lo World'"
            ]
          },
          "execution_count": 162,
          "metadata": {},
          "output_type": "execute_result"
        }
      ],
      "source": [
        "s1[3::1]"
      ],
      "id": "f7649d8e"
    },
    {
      "cell_type": "code",
      "execution_count": null,
      "metadata": {
        "colab": {
          "base_uri": "https://localhost:8080/",
          "height": 36
        },
        "id": "81c59912",
        "outputId": "d1661992-a8d2-4953-e4b3-bfa2611743bc"
      },
      "outputs": [
        {
          "data": {
            "application/vnd.google.colaboratory.intrinsic+json": {
              "type": "string"
            },
            "text/plain": [
              "'HloWrd'"
            ]
          },
          "execution_count": 163,
          "metadata": {},
          "output_type": "execute_result"
        }
      ],
      "source": [
        "s1[::2] # start = 0, stop = 11, step = 2"
      ],
      "id": "81c59912"
    },
    {
      "cell_type": "code",
      "execution_count": null,
      "metadata": {
        "colab": {
          "base_uri": "https://localhost:8080/",
          "height": 36
        },
        "id": "ce7b35ba",
        "outputId": "c987ddb7-74bf-4ff0-ea93-5112d0dd8297"
      },
      "outputs": [
        {
          "data": {
            "application/vnd.google.colaboratory.intrinsic+json": {
              "type": "string"
            },
            "text/plain": [
              "'W olleH'"
            ]
          },
          "execution_count": 164,
          "metadata": {},
          "output_type": "execute_result"
        }
      ],
      "source": [
        "s1[6::-1]"
      ],
      "id": "ce7b35ba"
    },
    {
      "cell_type": "code",
      "execution_count": null,
      "metadata": {
        "id": "87ecfc09"
      },
      "outputs": [],
      "source": [],
      "id": "87ecfc09"
    },
    {
      "cell_type": "code",
      "execution_count": null,
      "metadata": {
        "colab": {
          "base_uri": "https://localhost:8080/"
        },
        "id": "8a292278",
        "outputId": "f4dab82a-5cac-4695-8e32-7c86ca907bc5"
      },
      "outputs": [
        {
          "name": "stdout",
          "output_type": "stream",
          "text": [
            "\n"
          ]
        }
      ],
      "source": [
        "print('')"
      ],
      "id": "8a292278"
    },
    {
      "cell_type": "code",
      "execution_count": null,
      "metadata": {
        "colab": {
          "base_uri": "https://localhost:8080/"
        },
        "id": "0da1f889",
        "outputId": "4db70b42-1092-4770-97b9-5b962839f6dc"
      },
      "outputs": [
        {
          "name": "stdout",
          "output_type": "stream",
          "text": [
            " \n"
          ]
        }
      ],
      "source": [
        "print(' ')"
      ],
      "id": "0da1f889"
    },
    {
      "cell_type": "code",
      "execution_count": null,
      "metadata": {
        "colab": {
          "base_uri": "https://localhost:8080/",
          "height": 36
        },
        "id": "a0cefd8d",
        "outputId": "d5e7f64d-0a80-4629-df4a-b323a20d21e0"
      },
      "outputs": [
        {
          "data": {
            "application/vnd.google.colaboratory.intrinsic+json": {
              "type": "string"
            },
            "text/plain": [
              "'rWolH'"
            ]
          },
          "execution_count": 167,
          "metadata": {},
          "output_type": "execute_result"
        }
      ],
      "source": [
        "s1[8::-2]"
      ],
      "id": "a0cefd8d"
    },
    {
      "cell_type": "code",
      "execution_count": null,
      "metadata": {
        "colab": {
          "base_uri": "https://localhost:8080/",
          "height": 36
        },
        "id": "df1a7211",
        "outputId": "9a808a85-4a1d-4b68-9241-f9eaa9f890e3"
      },
      "outputs": [
        {
          "data": {
            "application/vnd.google.colaboratory.intrinsic+json": {
              "type": "string"
            },
            "text/plain": [
              "'Hello World'"
            ]
          },
          "execution_count": 168,
          "metadata": {},
          "output_type": "execute_result"
        }
      ],
      "source": [
        "s1"
      ],
      "id": "df1a7211"
    },
    {
      "cell_type": "code",
      "source": [
        "## By default, \n",
        "# 1. start = 0, when step is positive\n",
        "# 2. start = length-1 (inclusive), when step is negative"
      ],
      "metadata": {
        "id": "yJ76Dl62MmOG"
      },
      "id": "yJ76Dl62MmOG",
      "execution_count": null,
      "outputs": []
    },
    {
      "cell_type": "code",
      "execution_count": null,
      "metadata": {
        "colab": {
          "base_uri": "https://localhost:8080/",
          "height": 36
        },
        "id": "0bdd3723",
        "outputId": "df128caf-e0bf-45d1-f351-8bcec257c7d7"
      },
      "outputs": [
        {
          "data": {
            "application/vnd.google.colaboratory.intrinsic+json": {
              "type": "string"
            },
            "text/plain": [
              "'dlr'"
            ]
          },
          "execution_count": 171,
          "metadata": {},
          "output_type": "execute_result"
        }
      ],
      "source": [
        "s1[:7:-1]  "
      ],
      "id": "0bdd3723"
    },
    {
      "cell_type": "code",
      "execution_count": null,
      "metadata": {
        "colab": {
          "base_uri": "https://localhost:8080/",
          "height": 36
        },
        "id": "948fc2c7",
        "outputId": "1cebfda0-b9b9-4305-e6e1-1fd590f7d35a"
      },
      "outputs": [
        {
          "data": {
            "application/vnd.google.colaboratory.intrinsic+json": {
              "type": "string"
            },
            "text/plain": [
              "'lWl'"
            ]
          },
          "execution_count": 172,
          "metadata": {},
          "output_type": "execute_result"
        }
      ],
      "source": [
        "s1[-2:-10:-3]"
      ],
      "id": "948fc2c7"
    },
    {
      "cell_type": "code",
      "execution_count": null,
      "metadata": {
        "colab": {
          "base_uri": "https://localhost:8080/",
          "height": 36
        },
        "id": "13c2f2ad",
        "outputId": "d73276f4-a1bd-4326-b863-b504c166b646"
      },
      "outputs": [
        {
          "data": {
            "application/vnd.google.colaboratory.intrinsic+json": {
              "type": "string"
            },
            "text/plain": [
              "'HloWrd'"
            ]
          },
          "execution_count": 174,
          "metadata": {},
          "output_type": "execute_result"
        }
      ],
      "source": [
        "s1[::2]\n",
        "\n",
        "# start = 0\n",
        "# stop = 11\n",
        "# step = 2"
      ],
      "id": "13c2f2ad"
    },
    {
      "cell_type": "code",
      "execution_count": null,
      "metadata": {
        "colab": {
          "base_uri": "https://localhost:8080/",
          "height": 36
        },
        "id": "a44d14f0",
        "outputId": "68738a8c-7629-4ec8-cf6c-2b4a48c1c74c"
      },
      "outputs": [
        {
          "data": {
            "application/vnd.google.colaboratory.intrinsic+json": {
              "type": "string"
            },
            "text/plain": [
              "'Hello World'"
            ]
          },
          "execution_count": 173,
          "metadata": {},
          "output_type": "execute_result"
        }
      ],
      "source": [
        "s1[::]\n",
        "\n",
        "# step = 1\n",
        "# start = 0\n",
        "# stop/end = 11"
      ],
      "id": "a44d14f0"
    },
    {
      "cell_type": "code",
      "execution_count": null,
      "metadata": {
        "colab": {
          "base_uri": "https://localhost:8080/"
        },
        "id": "6fa9e5f8",
        "outputId": "bd657063-7f31-4d57-fe5c-9dda8aad51fb"
      },
      "outputs": [
        {
          "output_type": "error",
          "ename": "NameError",
          "evalue": "ignored",
          "traceback": [
            "\u001b[0;31m---------------------------------------------------------------------------\u001b[0m",
            "\u001b[0;31mNameError\u001b[0m                                 Traceback (most recent call last)",
            "\u001b[0;32m<ipython-input-1-4eda057cf7ec>\u001b[0m in \u001b[0;36m<cell line: 1>\u001b[0;34m()\u001b[0m\n\u001b[0;32m----> 1\u001b[0;31m \u001b[0ms1\u001b[0m\u001b[0;34m[\u001b[0m\u001b[0;34m:\u001b[0m\u001b[0;34m:\u001b[0m\u001b[0;34m-\u001b[0m\u001b[0;36m1\u001b[0m\u001b[0;34m]\u001b[0m\u001b[0;34m\u001b[0m\u001b[0;34m\u001b[0m\u001b[0m\n\u001b[0m",
            "\u001b[0;31mNameError\u001b[0m: name 's1' is not defined"
          ]
        }
      ],
      "source": [
        "s1[::-1]"
      ],
      "id": "6fa9e5f8"
    },
    {
      "cell_type": "markdown",
      "source": [
        "#### Type casting\n",
        "\n",
        "Rule 1\n",
        "* Any integer except 0 is True\n",
        "* 0 - False\n",
        "\n",
        "Rule 2\n",
        "1.  While converting a boolean into an integer,\n",
        "2.  True - 1\n",
        "3.  False - 0\n",
        "\n",
        "Rule 3\n",
        "1. Any float except 0.0 is True\n",
        "2. 0.0 - False\n",
        "\n",
        "Rule 4\n",
        "1. Any string except Empty String ('') is True\n",
        "2. Empty String ('') - False"
      ],
      "metadata": {
        "id": "FgFNSlgtKCJz"
      },
      "id": "FgFNSlgtKCJz"
    },
    {
      "cell_type": "code",
      "execution_count": null,
      "metadata": {
        "id": "f8cbcb5e"
      },
      "outputs": [],
      "source": [
        "num1 = 100"
      ],
      "id": "f8cbcb5e"
    },
    {
      "cell_type": "code",
      "execution_count": null,
      "metadata": {
        "id": "3fcfe15a",
        "colab": {
          "base_uri": "https://localhost:8080/"
        },
        "outputId": "909a9c9c-87df-48b9-89bb-2756367730ff"
      },
      "outputs": [
        {
          "output_type": "execute_result",
          "data": {
            "text/plain": [
              "100.0"
            ]
          },
          "metadata": {},
          "execution_count": 3
        }
      ],
      "source": [
        "float(num1)"
      ],
      "id": "3fcfe15a"
    },
    {
      "cell_type": "code",
      "execution_count": null,
      "metadata": {
        "id": "d64d539c",
        "colab": {
          "base_uri": "https://localhost:8080/"
        },
        "outputId": "2d66106d-b954-4589-956e-254f8b72fa74"
      },
      "outputs": [
        {
          "output_type": "execute_result",
          "data": {
            "text/plain": [
              "100"
            ]
          },
          "metadata": {},
          "execution_count": 4
        }
      ],
      "source": [
        "num1"
      ],
      "id": "d64d539c"
    },
    {
      "cell_type": "code",
      "execution_count": null,
      "metadata": {
        "id": "0ca9ac5b"
      },
      "outputs": [],
      "source": [
        "num2 = 67.43"
      ],
      "id": "0ca9ac5b"
    },
    {
      "cell_type": "code",
      "execution_count": null,
      "metadata": {
        "id": "13a239ed",
        "colab": {
          "base_uri": "https://localhost:8080/"
        },
        "outputId": "065e502b-285e-4bc6-956d-018e50cbe181"
      },
      "outputs": [
        {
          "output_type": "execute_result",
          "data": {
            "text/plain": [
              "67"
            ]
          },
          "metadata": {},
          "execution_count": 6
        }
      ],
      "source": [
        "int(num2)"
      ],
      "id": "13a239ed"
    },
    {
      "cell_type": "code",
      "execution_count": null,
      "metadata": {
        "id": "6c3a972c",
        "colab": {
          "base_uri": "https://localhost:8080/"
        },
        "outputId": "e50ec05e-0e5c-45a8-8689-c0e126255cdb"
      },
      "outputs": [
        {
          "output_type": "execute_result",
          "data": {
            "text/plain": [
              "99"
            ]
          },
          "metadata": {},
          "execution_count": 7
        }
      ],
      "source": [
        "int(99.9999)"
      ],
      "id": "6c3a972c"
    },
    {
      "cell_type": "code",
      "execution_count": null,
      "metadata": {
        "id": "93940450",
        "colab": {
          "base_uri": "https://localhost:8080/"
        },
        "outputId": "7662da16-dd9c-4e3b-e5a2-1f474df81d91"
      },
      "outputs": [
        {
          "output_type": "execute_result",
          "data": {
            "text/plain": [
              "'100'"
            ],
            "application/vnd.google.colaboratory.intrinsic+json": {
              "type": "string"
            }
          },
          "metadata": {},
          "execution_count": 8
        }
      ],
      "source": [
        "str(100)"
      ],
      "id": "93940450"
    },
    {
      "cell_type": "code",
      "execution_count": null,
      "metadata": {
        "id": "b0127db7",
        "colab": {
          "base_uri": "https://localhost:8080/"
        },
        "outputId": "aa75cd17-9d9c-4550-8b83-f2862582a034"
      },
      "outputs": [
        {
          "output_type": "execute_result",
          "data": {
            "text/plain": [
              "'55.12'"
            ],
            "application/vnd.google.colaboratory.intrinsic+json": {
              "type": "string"
            }
          },
          "metadata": {},
          "execution_count": 9
        }
      ],
      "source": [
        "str(55.12)"
      ],
      "id": "b0127db7"
    },
    {
      "cell_type": "code",
      "execution_count": null,
      "metadata": {
        "id": "ff74b862",
        "colab": {
          "base_uri": "https://localhost:8080/"
        },
        "outputId": "9307d804-7fb0-449b-c33e-708d16d3d51b"
      },
      "outputs": [
        {
          "output_type": "execute_result",
          "data": {
            "text/plain": [
              "2000"
            ]
          },
          "metadata": {},
          "execution_count": 10
        }
      ],
      "source": [
        "int('2000')"
      ],
      "id": "ff74b862"
    },
    {
      "cell_type": "code",
      "execution_count": null,
      "metadata": {
        "id": "cb2538a7",
        "colab": {
          "base_uri": "https://localhost:8080/"
        },
        "outputId": "fb69f93f-7d80-4f35-bc48-c552dd4b9691"
      },
      "outputs": [
        {
          "output_type": "error",
          "ename": "ValueError",
          "evalue": "ignored",
          "traceback": [
            "\u001b[0;31m---------------------------------------------------------------------------\u001b[0m",
            "\u001b[0;31mValueError\u001b[0m                                Traceback (most recent call last)",
            "\u001b[0;32m<ipython-input-11-1e11daa61250>\u001b[0m in \u001b[0;36m<cell line: 1>\u001b[0;34m()\u001b[0m\n\u001b[0;32m----> 1\u001b[0;31m \u001b[0mint\u001b[0m\u001b[0;34m(\u001b[0m\u001b[0;34m'abc'\u001b[0m\u001b[0;34m)\u001b[0m\u001b[0;34m\u001b[0m\u001b[0;34m\u001b[0m\u001b[0m\n\u001b[0m",
            "\u001b[0;31mValueError\u001b[0m: invalid literal for int() with base 10: 'abc'"
          ]
        }
      ],
      "source": [
        "int('abc')"
      ],
      "id": "cb2538a7"
    },
    {
      "cell_type": "code",
      "execution_count": null,
      "metadata": {
        "id": "02081efa",
        "colab": {
          "base_uri": "https://localhost:8080/"
        },
        "outputId": "866deacc-cc7f-42af-9602-49160a96d4ec"
      },
      "outputs": [
        {
          "output_type": "error",
          "ename": "ValueError",
          "evalue": "ignored",
          "traceback": [
            "\u001b[0;31m---------------------------------------------------------------------------\u001b[0m",
            "\u001b[0;31mValueError\u001b[0m                                Traceback (most recent call last)",
            "\u001b[0;32m<ipython-input-12-69ed11def6d2>\u001b[0m in \u001b[0;36m<cell line: 1>\u001b[0;34m()\u001b[0m\n\u001b[0;32m----> 1\u001b[0;31m \u001b[0mint\u001b[0m\u001b[0;34m(\u001b[0m\u001b[0;34m'1234h'\u001b[0m\u001b[0;34m)\u001b[0m\u001b[0;34m\u001b[0m\u001b[0;34m\u001b[0m\u001b[0m\n\u001b[0m",
            "\u001b[0;31mValueError\u001b[0m: invalid literal for int() with base 10: '1234h'"
          ]
        }
      ],
      "source": [
        "int('1234h')"
      ],
      "id": "02081efa"
    },
    {
      "cell_type": "code",
      "execution_count": null,
      "metadata": {
        "id": "85ff91ba",
        "colab": {
          "base_uri": "https://localhost:8080/"
        },
        "outputId": "79786c7f-9f5d-4b30-f644-012e31745de2"
      },
      "outputs": [
        {
          "output_type": "error",
          "ename": "ValueError",
          "evalue": "ignored",
          "traceback": [
            "\u001b[0;31m---------------------------------------------------------------------------\u001b[0m",
            "\u001b[0;31mValueError\u001b[0m                                Traceback (most recent call last)",
            "\u001b[0;32m<ipython-input-13-c280a8beb12d>\u001b[0m in \u001b[0;36m<cell line: 1>\u001b[0;34m()\u001b[0m\n\u001b[0;32m----> 1\u001b[0;31m \u001b[0mint\u001b[0m\u001b[0;34m(\u001b[0m\u001b[0;34m'0b1010'\u001b[0m\u001b[0;34m)\u001b[0m\u001b[0;34m\u001b[0m\u001b[0;34m\u001b[0m\u001b[0m\n\u001b[0m",
            "\u001b[0;31mValueError\u001b[0m: invalid literal for int() with base 10: '0b1010'"
          ]
        }
      ],
      "source": [
        "int('0b1010')"
      ],
      "id": "85ff91ba"
    },
    {
      "cell_type": "code",
      "execution_count": null,
      "metadata": {
        "id": "871e7410",
        "colab": {
          "base_uri": "https://localhost:8080/"
        },
        "outputId": "e0663831-736b-4176-f23e-f6425c34697c"
      },
      "outputs": [
        {
          "output_type": "execute_result",
          "data": {
            "text/plain": [
              "10"
            ]
          },
          "metadata": {},
          "execution_count": 14
        }
      ],
      "source": [
        "int(0b1010)"
      ],
      "id": "871e7410"
    },
    {
      "cell_type": "code",
      "execution_count": null,
      "metadata": {
        "id": "982e053f",
        "colab": {
          "base_uri": "https://localhost:8080/"
        },
        "outputId": "280b986d-0e9d-4de8-b0c1-f0ff27cd25c5"
      },
      "outputs": [
        {
          "output_type": "execute_result",
          "data": {
            "text/plain": [
              "10"
            ]
          },
          "metadata": {},
          "execution_count": 15
        }
      ],
      "source": [
        "0b1010"
      ],
      "id": "982e053f"
    },
    {
      "cell_type": "code",
      "execution_count": null,
      "metadata": {
        "id": "80638701",
        "colab": {
          "base_uri": "https://localhost:8080/"
        },
        "outputId": "9ab32a8d-b6ff-4a95-98e1-a4d3e8ffd088"
      },
      "outputs": [
        {
          "output_type": "error",
          "ename": "ValueError",
          "evalue": "ignored",
          "traceback": [
            "\u001b[0;31m---------------------------------------------------------------------------\u001b[0m",
            "\u001b[0;31mValueError\u001b[0m                                Traceback (most recent call last)",
            "\u001b[0;32m<ipython-input-16-2bc3b0e48504>\u001b[0m in \u001b[0;36m<cell line: 1>\u001b[0;34m()\u001b[0m\n\u001b[0;32m----> 1\u001b[0;31m \u001b[0mint\u001b[0m\u001b[0;34m(\u001b[0m\u001b[0;34m'99.18756'\u001b[0m\u001b[0;34m)\u001b[0m\u001b[0;34m\u001b[0m\u001b[0;34m\u001b[0m\u001b[0m\n\u001b[0m",
            "\u001b[0;31mValueError\u001b[0m: invalid literal for int() with base 10: '99.18756'"
          ]
        }
      ],
      "source": [
        "int('99.18756')"
      ],
      "id": "80638701"
    },
    {
      "cell_type": "code",
      "execution_count": null,
      "metadata": {
        "id": "32c21ad7",
        "colab": {
          "base_uri": "https://localhost:8080/"
        },
        "outputId": "0ab4ce81-dd96-4207-c3b9-58f66c11dc93"
      },
      "outputs": [
        {
          "output_type": "execute_result",
          "data": {
            "text/plain": [
              "10"
            ]
          },
          "metadata": {},
          "execution_count": 17
        }
      ],
      "source": [
        "int(10.5)"
      ],
      "id": "32c21ad7"
    },
    {
      "cell_type": "code",
      "execution_count": null,
      "metadata": {
        "id": "563fedd4",
        "colab": {
          "base_uri": "https://localhost:8080/"
        },
        "outputId": "56a3f1c4-1914-4b34-9c50-4b2e1018cb1e"
      },
      "outputs": [
        {
          "output_type": "execute_result",
          "data": {
            "text/plain": [
              "99.18756"
            ]
          },
          "metadata": {},
          "execution_count": 18
        }
      ],
      "source": [
        "float('99.18756')"
      ],
      "id": "563fedd4"
    },
    {
      "cell_type": "code",
      "execution_count": null,
      "metadata": {
        "id": "961e17ed",
        "colab": {
          "base_uri": "https://localhost:8080/"
        },
        "outputId": "0a5c8f99-c315-4ea8-ae33-d7e59a776169"
      },
      "outputs": [
        {
          "output_type": "execute_result",
          "data": {
            "text/plain": [
              "99"
            ]
          },
          "metadata": {},
          "execution_count": 19
        }
      ],
      "source": [
        "int(float('99.18756'))"
      ],
      "id": "961e17ed"
    },
    {
      "cell_type": "code",
      "execution_count": null,
      "metadata": {
        "id": "3211987e",
        "colab": {
          "base_uri": "https://localhost:8080/"
        },
        "outputId": "fed6785b-2783-431a-a3e2-6a68fba09cd3"
      },
      "outputs": [
        {
          "output_type": "execute_result",
          "data": {
            "text/plain": [
              "'100'"
            ],
            "application/vnd.google.colaboratory.intrinsic+json": {
              "type": "string"
            }
          },
          "metadata": {},
          "execution_count": 20
        }
      ],
      "source": [
        "str(100)"
      ],
      "id": "3211987e"
    },
    {
      "cell_type": "code",
      "execution_count": null,
      "metadata": {
        "id": "7e69807c",
        "colab": {
          "base_uri": "https://localhost:8080/"
        },
        "outputId": "ee962227-1b6e-42cf-d8ff-10d63f3d3da9"
      },
      "outputs": [
        {
          "output_type": "execute_result",
          "data": {
            "text/plain": [
              "'78.6'"
            ],
            "application/vnd.google.colaboratory.intrinsic+json": {
              "type": "string"
            }
          },
          "metadata": {},
          "execution_count": 21
        }
      ],
      "source": [
        "str(78.6)"
      ],
      "id": "7e69807c"
    },
    {
      "cell_type": "code",
      "source": [
        "# Any integer except 0 is True\n",
        "# 0 - False"
      ],
      "metadata": {
        "id": "c5DljNorQxbE"
      },
      "id": "c5DljNorQxbE",
      "execution_count": null,
      "outputs": []
    },
    {
      "cell_type": "code",
      "execution_count": null,
      "metadata": {
        "id": "617bddd7",
        "colab": {
          "base_uri": "https://localhost:8080/"
        },
        "outputId": "5df417dc-1300-4972-9bf4-b09f2b2155f6"
      },
      "outputs": [
        {
          "output_type": "execute_result",
          "data": {
            "text/plain": [
              "True"
            ]
          },
          "metadata": {},
          "execution_count": 22
        }
      ],
      "source": [
        "bool(100)"
      ],
      "id": "617bddd7"
    },
    {
      "cell_type": "code",
      "execution_count": null,
      "metadata": {
        "id": "16fb2595",
        "colab": {
          "base_uri": "https://localhost:8080/"
        },
        "outputId": "ad84ef18-e82c-4da0-999d-59539f979225"
      },
      "outputs": [
        {
          "output_type": "execute_result",
          "data": {
            "text/plain": [
              "True"
            ]
          },
          "metadata": {},
          "execution_count": 23
        }
      ],
      "source": [
        "bool(35)"
      ],
      "id": "16fb2595"
    },
    {
      "cell_type": "code",
      "execution_count": null,
      "metadata": {
        "id": "3917d700",
        "colab": {
          "base_uri": "https://localhost:8080/"
        },
        "outputId": "8cda77d7-7e4d-499a-8674-8c06998b30e6"
      },
      "outputs": [
        {
          "output_type": "execute_result",
          "data": {
            "text/plain": [
              "False"
            ]
          },
          "metadata": {},
          "execution_count": 24
        }
      ],
      "source": [
        "bool(0)"
      ],
      "id": "3917d700"
    },
    {
      "cell_type": "code",
      "execution_count": null,
      "metadata": {
        "id": "32374bd7",
        "colab": {
          "base_uri": "https://localhost:8080/"
        },
        "outputId": "c38b059b-7c89-4799-975f-2d565cefbbab"
      },
      "outputs": [
        {
          "output_type": "execute_result",
          "data": {
            "text/plain": [
              "True"
            ]
          },
          "metadata": {},
          "execution_count": 25
        }
      ],
      "source": [
        "bool(-10)"
      ],
      "id": "32374bd7"
    },
    {
      "cell_type": "code",
      "source": [
        "# While converting a boolean into an integer,\n",
        "# True - 1\n",
        "# False - 0"
      ],
      "metadata": {
        "id": "L31lhNaFQ2Ak"
      },
      "id": "L31lhNaFQ2Ak",
      "execution_count": null,
      "outputs": []
    },
    {
      "cell_type": "code",
      "execution_count": null,
      "metadata": {
        "id": "04321d77",
        "colab": {
          "base_uri": "https://localhost:8080/"
        },
        "outputId": "c44f0a01-34ac-4767-f246-d6a7929e6786"
      },
      "outputs": [
        {
          "output_type": "execute_result",
          "data": {
            "text/plain": [
              "1"
            ]
          },
          "metadata": {},
          "execution_count": 26
        }
      ],
      "source": [
        "int(True)"
      ],
      "id": "04321d77"
    },
    {
      "cell_type": "code",
      "execution_count": null,
      "metadata": {
        "id": "33d1f0df",
        "colab": {
          "base_uri": "https://localhost:8080/"
        },
        "outputId": "93bab8d6-4518-4970-c5e1-4c9541dacdc0"
      },
      "outputs": [
        {
          "output_type": "execute_result",
          "data": {
            "text/plain": [
              "0"
            ]
          },
          "metadata": {},
          "execution_count": 27
        }
      ],
      "source": [
        "int(False)"
      ],
      "id": "33d1f0df"
    },
    {
      "cell_type": "code",
      "source": [
        "# Any float except 0.0 is True\n",
        "# 0.0 - False"
      ],
      "metadata": {
        "id": "ITfujgqyQ-Ro"
      },
      "id": "ITfujgqyQ-Ro",
      "execution_count": null,
      "outputs": []
    },
    {
      "cell_type": "code",
      "execution_count": null,
      "metadata": {
        "id": "6fae3c21",
        "colab": {
          "base_uri": "https://localhost:8080/"
        },
        "outputId": "784670a9-e0a2-43d6-d8bb-7fcdefe439cc"
      },
      "outputs": [
        {
          "output_type": "execute_result",
          "data": {
            "text/plain": [
              "1.0"
            ]
          },
          "metadata": {},
          "execution_count": 28
        }
      ],
      "source": [
        "float(True)"
      ],
      "id": "6fae3c21"
    },
    {
      "cell_type": "code",
      "execution_count": null,
      "metadata": {
        "id": "868d7c44",
        "colab": {
          "base_uri": "https://localhost:8080/"
        },
        "outputId": "b48cb807-eda9-47fb-cff0-1a4045d7d996"
      },
      "outputs": [
        {
          "output_type": "execute_result",
          "data": {
            "text/plain": [
              "0.0"
            ]
          },
          "metadata": {},
          "execution_count": 29
        }
      ],
      "source": [
        "float(False)"
      ],
      "id": "868d7c44"
    },
    {
      "cell_type": "code",
      "execution_count": null,
      "metadata": {
        "id": "0628271a",
        "colab": {
          "base_uri": "https://localhost:8080/"
        },
        "outputId": "37bfc2f6-a83b-492b-e6a2-ad56ac1055b5"
      },
      "outputs": [
        {
          "output_type": "execute_result",
          "data": {
            "text/plain": [
              "True"
            ]
          },
          "metadata": {},
          "execution_count": 30
        }
      ],
      "source": [
        "bool(56.5)"
      ],
      "id": "0628271a"
    },
    {
      "cell_type": "code",
      "execution_count": null,
      "metadata": {
        "id": "0459c20c",
        "colab": {
          "base_uri": "https://localhost:8080/"
        },
        "outputId": "fc37a4d0-5d39-4140-ec4f-b459d0e08c49"
      },
      "outputs": [
        {
          "output_type": "execute_result",
          "data": {
            "text/plain": [
              "True"
            ]
          },
          "metadata": {},
          "execution_count": 31
        }
      ],
      "source": [
        "bool(-10.56)"
      ],
      "id": "0459c20c"
    },
    {
      "cell_type": "code",
      "execution_count": null,
      "metadata": {
        "id": "14abca98",
        "colab": {
          "base_uri": "https://localhost:8080/"
        },
        "outputId": "0210fbc9-8a91-45b5-b07c-83f605cfba72"
      },
      "outputs": [
        {
          "output_type": "execute_result",
          "data": {
            "text/plain": [
              "False"
            ]
          },
          "metadata": {},
          "execution_count": 32
        }
      ],
      "source": [
        "bool(0.0)"
      ],
      "id": "14abca98"
    },
    {
      "cell_type": "code",
      "source": [
        "# Any string except Empty String ('') is True\n",
        "# Empty String ('') - False"
      ],
      "metadata": {
        "id": "UPLo-sU1RIQX"
      },
      "id": "UPLo-sU1RIQX",
      "execution_count": null,
      "outputs": []
    },
    {
      "cell_type": "code",
      "execution_count": null,
      "metadata": {
        "id": "461d89c8",
        "colab": {
          "base_uri": "https://localhost:8080/"
        },
        "outputId": "ff9a9014-1bce-48bb-9998-279eb7a5fa05"
      },
      "outputs": [
        {
          "output_type": "execute_result",
          "data": {
            "text/plain": [
              "True"
            ]
          },
          "metadata": {},
          "execution_count": 33
        }
      ],
      "source": [
        "bool('hello')"
      ],
      "id": "461d89c8"
    },
    {
      "cell_type": "code",
      "execution_count": null,
      "metadata": {
        "id": "2ea9924b",
        "colab": {
          "base_uri": "https://localhost:8080/"
        },
        "outputId": "4d2b3c82-7b1b-4bcd-f4e0-cdadee146533"
      },
      "outputs": [
        {
          "output_type": "execute_result",
          "data": {
            "text/plain": [
              "True"
            ]
          },
          "metadata": {},
          "execution_count": 34
        }
      ],
      "source": [
        "bool('python3.11')"
      ],
      "id": "2ea9924b"
    },
    {
      "cell_type": "code",
      "execution_count": null,
      "metadata": {
        "id": "71689cb7",
        "colab": {
          "base_uri": "https://localhost:8080/"
        },
        "outputId": "63cd8dc2-7845-4fd4-c706-0f626bca3665"
      },
      "outputs": [
        {
          "output_type": "execute_result",
          "data": {
            "text/plain": [
              "False"
            ]
          },
          "metadata": {},
          "execution_count": 35
        }
      ],
      "source": [
        "bool('')"
      ],
      "id": "71689cb7"
    },
    {
      "cell_type": "code",
      "execution_count": null,
      "metadata": {
        "id": "1da0fa25",
        "colab": {
          "base_uri": "https://localhost:8080/"
        },
        "outputId": "0fae77cf-d4cf-4325-a05c-26fe3871ac5f"
      },
      "outputs": [
        {
          "output_type": "execute_result",
          "data": {
            "text/plain": [
              "True"
            ]
          },
          "metadata": {},
          "execution_count": 36
        }
      ],
      "source": [
        "bool(' ')"
      ],
      "id": "1da0fa25"
    },
    {
      "cell_type": "code",
      "execution_count": null,
      "metadata": {
        "id": "f0798b2d",
        "colab": {
          "base_uri": "https://localhost:8080/"
        },
        "outputId": "6a04bf1a-d55c-4b9a-f65e-60f489e4b05f"
      },
      "outputs": [
        {
          "output_type": "execute_result",
          "data": {
            "text/plain": [
              "False"
            ]
          },
          "metadata": {},
          "execution_count": 37
        }
      ],
      "source": [
        "bool(None)"
      ],
      "id": "f0798b2d"
    },
    {
      "cell_type": "code",
      "execution_count": null,
      "metadata": {
        "id": "3ea728ff",
        "colab": {
          "base_uri": "https://localhost:8080/"
        },
        "outputId": "26d06dc6-8fdd-41f1-db7a-55bb71d7b678"
      },
      "outputs": [
        {
          "output_type": "execute_result",
          "data": {
            "text/plain": [
              "'True'"
            ],
            "application/vnd.google.colaboratory.intrinsic+json": {
              "type": "string"
            }
          },
          "metadata": {},
          "execution_count": 38
        }
      ],
      "source": [
        "str(True)"
      ],
      "id": "3ea728ff"
    },
    {
      "cell_type": "markdown",
      "source": [
        "#### List\n",
        "1. comma separated sequence of elements enclosed within []\n",
        "2. It can have any datatype as element (it is heterogenous)\n",
        "3. Indexing in lists is possible\n",
        "4. *Lists can have duplicates*\n",
        "5. Lists are ordered\n",
        "6. **IMP** Lists can be modified\n",
        "7. Lists are mutable (Mutability - ability of an object to be modified/changed)\n",
        "\n"
      ],
      "metadata": {
        "id": "zMYA-LdsK69m"
      },
      "id": "zMYA-LdsK69m"
    },
    {
      "cell_type": "code",
      "execution_count": null,
      "metadata": {
        "id": "46ae0845"
      },
      "outputs": [],
      "source": [
        "l1 = [10, 89.5, 'Python', True, 'hello', 1000] # It can have any datatype as element (it is heterogenous)"
      ],
      "id": "46ae0845"
    },
    {
      "cell_type": "code",
      "execution_count": null,
      "metadata": {
        "id": "f7d08111",
        "colab": {
          "base_uri": "https://localhost:8080/"
        },
        "outputId": "77248bd8-4be2-4e30-aba0-c64b7b2bd8bf"
      },
      "outputs": [
        {
          "output_type": "execute_result",
          "data": {
            "text/plain": [
              "list"
            ]
          },
          "metadata": {},
          "execution_count": 40
        }
      ],
      "source": [
        "type(l1)"
      ],
      "id": "f7d08111"
    },
    {
      "cell_type": "code",
      "execution_count": null,
      "metadata": {
        "id": "897dce20",
        "colab": {
          "base_uri": "https://localhost:8080/"
        },
        "outputId": "7c58507b-09f7-4621-ab56-6c8ecc582887"
      },
      "outputs": [
        {
          "output_type": "execute_result",
          "data": {
            "text/plain": [
              "[10, 89.5, 'Python', True, 'hello', 1000]"
            ]
          },
          "metadata": {},
          "execution_count": 41
        }
      ],
      "source": [
        "l1"
      ],
      "id": "897dce20"
    },
    {
      "cell_type": "code",
      "execution_count": null,
      "metadata": {
        "id": "4b8957ee"
      },
      "outputs": [],
      "source": [
        "len(l1)"
      ],
      "id": "4b8957ee"
    },
    {
      "cell_type": "code",
      "execution_count": null,
      "metadata": {
        "id": "b4ba7167"
      },
      "outputs": [],
      "source": [
        "l2 = [10, 'hi', '', 'bye']"
      ],
      "id": "b4ba7167"
    },
    {
      "cell_type": "code",
      "execution_count": null,
      "metadata": {
        "id": "9a8cb494",
        "colab": {
          "base_uri": "https://localhost:8080/"
        },
        "outputId": "146f4531-700b-48eb-f041-02879a9af1ee"
      },
      "outputs": [
        {
          "output_type": "execute_result",
          "data": {
            "text/plain": [
              "[10, 'hi', '', 'bye']"
            ]
          },
          "metadata": {},
          "execution_count": 44
        }
      ],
      "source": [
        "l2"
      ],
      "id": "9a8cb494"
    },
    {
      "cell_type": "code",
      "execution_count": null,
      "metadata": {
        "id": "710a96b5",
        "colab": {
          "base_uri": "https://localhost:8080/"
        },
        "outputId": "f8f4c984-972d-466f-c904-aea71d847fe0"
      },
      "outputs": [
        {
          "output_type": "execute_result",
          "data": {
            "text/plain": [
              "[10, 89.5, 'Python', True, 'hello', 1000]"
            ]
          },
          "metadata": {},
          "execution_count": 45
        }
      ],
      "source": [
        "l1"
      ],
      "id": "710a96b5"
    },
    {
      "cell_type": "code",
      "execution_count": null,
      "metadata": {
        "id": "7c866450",
        "colab": {
          "base_uri": "https://localhost:8080/"
        },
        "outputId": "47187a52-0041-4d82-b412-0bdfe45dac33"
      },
      "outputs": [
        {
          "output_type": "execute_result",
          "data": {
            "text/plain": [
              "6"
            ]
          },
          "metadata": {},
          "execution_count": 46
        }
      ],
      "source": [
        "len(l1)"
      ],
      "id": "7c866450"
    },
    {
      "cell_type": "code",
      "execution_count": null,
      "metadata": {
        "id": "9dee5777",
        "colab": {
          "base_uri": "https://localhost:8080/"
        },
        "outputId": "8e17c96d-f5ad-4eac-f99a-6556985d3349"
      },
      "outputs": [
        {
          "output_type": "execute_result",
          "data": {
            "text/plain": [
              "10"
            ]
          },
          "metadata": {},
          "execution_count": 62
        }
      ],
      "source": [
        "l1[0] #Indexing in lists is possible"
      ],
      "id": "9dee5777"
    },
    {
      "cell_type": "code",
      "execution_count": null,
      "metadata": {
        "id": "627519a6",
        "colab": {
          "base_uri": "https://localhost:8080/"
        },
        "outputId": "faca750a-939c-4498-a168-3c9b558a488c"
      },
      "outputs": [
        {
          "output_type": "execute_result",
          "data": {
            "text/plain": [
              "89.5"
            ]
          },
          "metadata": {},
          "execution_count": 48
        }
      ],
      "source": [
        "l1[1]"
      ],
      "id": "627519a6"
    },
    {
      "cell_type": "code",
      "execution_count": null,
      "metadata": {
        "id": "ddcecfe2",
        "colab": {
          "base_uri": "https://localhost:8080/"
        },
        "outputId": "130e8f30-51ac-42ea-edb7-a9d404b3281a"
      },
      "outputs": [
        {
          "output_type": "execute_result",
          "data": {
            "text/plain": [
              "'Python'"
            ],
            "application/vnd.google.colaboratory.intrinsic+json": {
              "type": "string"
            }
          },
          "metadata": {},
          "execution_count": 50
        }
      ],
      "source": [
        "l1[2] #Indexing in lists is possible"
      ],
      "id": "ddcecfe2"
    },
    {
      "cell_type": "code",
      "execution_count": null,
      "metadata": {
        "id": "4efc81f6",
        "colab": {
          "base_uri": "https://localhost:8080/"
        },
        "outputId": "65deb188-d66b-42a0-d362-2cdcfd8a6c31"
      },
      "outputs": [
        {
          "output_type": "execute_result",
          "data": {
            "text/plain": [
              "[10, 89.5, 'Python', True, 'hello', 1000]"
            ]
          },
          "metadata": {},
          "execution_count": 51
        }
      ],
      "source": [
        "l1"
      ],
      "id": "4efc81f6"
    },
    {
      "cell_type": "code",
      "execution_count": null,
      "metadata": {
        "id": "9a57c7e1",
        "colab": {
          "base_uri": "https://localhost:8080/"
        },
        "outputId": "6d13a8aa-a785-4958-de94-b3091cadb401"
      },
      "outputs": [
        {
          "output_type": "execute_result",
          "data": {
            "text/plain": [
              "1000"
            ]
          },
          "metadata": {},
          "execution_count": 52
        }
      ],
      "source": [
        "l1[-1]"
      ],
      "id": "9a57c7e1"
    },
    {
      "cell_type": "code",
      "execution_count": null,
      "metadata": {
        "id": "191c88e3",
        "colab": {
          "base_uri": "https://localhost:8080/"
        },
        "outputId": "06196444-927e-409a-b93e-b7f82c5c4e91"
      },
      "outputs": [
        {
          "output_type": "execute_result",
          "data": {
            "text/plain": [
              "'hello'"
            ],
            "application/vnd.google.colaboratory.intrinsic+json": {
              "type": "string"
            }
          },
          "metadata": {},
          "execution_count": 53
        }
      ],
      "source": [
        "l1[-2]"
      ],
      "id": "191c88e3"
    },
    {
      "cell_type": "code",
      "execution_count": null,
      "metadata": {
        "id": "69493a7e",
        "colab": {
          "base_uri": "https://localhost:8080/"
        },
        "outputId": "cc839255-7503-4542-edeb-76cf19f9c140"
      },
      "outputs": [
        {
          "output_type": "execute_result",
          "data": {
            "text/plain": [
              "6"
            ]
          },
          "metadata": {},
          "execution_count": 54
        }
      ],
      "source": [
        "len(l1[2])"
      ],
      "id": "69493a7e"
    },
    {
      "cell_type": "code",
      "execution_count": null,
      "metadata": {
        "id": "0f29fa1c",
        "colab": {
          "base_uri": "https://localhost:8080/"
        },
        "outputId": "b793c722-9b67-4661-9758-a68d190f105e"
      },
      "outputs": [
        {
          "output_type": "execute_result",
          "data": {
            "text/plain": [
              "139783077038720"
            ]
          },
          "metadata": {},
          "execution_count": 55
        }
      ],
      "source": [
        "id(l1)"
      ],
      "id": "0f29fa1c"
    },
    {
      "cell_type": "code",
      "execution_count": null,
      "metadata": {
        "id": "13eabc07",
        "colab": {
          "base_uri": "https://localhost:8080/"
        },
        "outputId": "aaf2e578-9245-4b7f-cd9f-42cc08b1f09b"
      },
      "outputs": [
        {
          "output_type": "execute_result",
          "data": {
            "text/plain": [
              "[10, 89.5, 'Python', True, 'hello', 1000]"
            ]
          },
          "metadata": {},
          "execution_count": 56
        }
      ],
      "source": [
        "l1"
      ],
      "id": "13eabc07"
    },
    {
      "cell_type": "code",
      "execution_count": null,
      "metadata": {
        "id": "227974f9",
        "colab": {
          "base_uri": "https://localhost:8080/"
        },
        "outputId": "628eec65-bd9d-42b0-daf8-5d03f741bf04"
      },
      "outputs": [
        {
          "output_type": "execute_result",
          "data": {
            "text/plain": [
              "139783363622000"
            ]
          },
          "metadata": {},
          "execution_count": 57
        }
      ],
      "source": [
        "id(l1[2])"
      ],
      "id": "227974f9"
    },
    {
      "cell_type": "code",
      "execution_count": null,
      "metadata": {
        "id": "5bc59a83",
        "colab": {
          "base_uri": "https://localhost:8080/"
        },
        "outputId": "307dd4d7-f116-4cf7-e756-92b957e6839a"
      },
      "outputs": [
        {
          "output_type": "execute_result",
          "data": {
            "text/plain": [
              "int"
            ]
          },
          "metadata": {},
          "execution_count": 58
        }
      ],
      "source": [
        "type(l1[0])"
      ],
      "id": "5bc59a83"
    },
    {
      "cell_type": "code",
      "execution_count": null,
      "metadata": {
        "id": "a2f4aea9",
        "colab": {
          "base_uri": "https://localhost:8080/"
        },
        "outputId": "65a3ce61-008a-4ff0-85cd-a791eb77fde1"
      },
      "outputs": [
        {
          "output_type": "execute_result",
          "data": {
            "text/plain": [
              "float"
            ]
          },
          "metadata": {},
          "execution_count": 60
        }
      ],
      "source": [
        "type(l1[1])"
      ],
      "id": "a2f4aea9"
    },
    {
      "cell_type": "code",
      "execution_count": null,
      "metadata": {
        "id": "c278e409",
        "colab": {
          "base_uri": "https://localhost:8080/"
        },
        "outputId": "9ddbb402-e375-4725-d0ca-4f77fb6cb3c0"
      },
      "outputs": [
        {
          "output_type": "execute_result",
          "data": {
            "text/plain": [
              "str"
            ]
          },
          "metadata": {},
          "execution_count": 61
        }
      ],
      "source": [
        "type(l1[2])"
      ],
      "id": "c278e409"
    },
    {
      "cell_type": "code",
      "execution_count": null,
      "metadata": {
        "id": "642d562a"
      },
      "outputs": [],
      "source": [
        "l3 = [10, 10, 10, 10, 'hello'] # Lists can have duplicates"
      ],
      "id": "642d562a"
    },
    {
      "cell_type": "code",
      "execution_count": null,
      "metadata": {
        "id": "5e3fbcff",
        "colab": {
          "base_uri": "https://localhost:8080/"
        },
        "outputId": "702c51dc-44a7-44dd-e6bf-9ac751662041"
      },
      "outputs": [
        {
          "output_type": "execute_result",
          "data": {
            "text/plain": [
              "[10, 10, 10, 10, 'hello']"
            ]
          },
          "metadata": {},
          "execution_count": 64
        }
      ],
      "source": [
        "l3"
      ],
      "id": "5e3fbcff"
    },
    {
      "cell_type": "code",
      "execution_count": null,
      "metadata": {
        "id": "4bf05d22",
        "colab": {
          "base_uri": "https://localhost:8080/"
        },
        "outputId": "17e69bf4-59f7-4e30-9e12-8ac998c58b6f"
      },
      "outputs": [
        {
          "output_type": "execute_result",
          "data": {
            "text/plain": [
              "[10, 89.5, 'Python', True, 'hello', 1000]"
            ]
          },
          "metadata": {},
          "execution_count": 65
        }
      ],
      "source": [
        "l1"
      ],
      "id": "4bf05d22"
    },
    {
      "cell_type": "code",
      "execution_count": null,
      "metadata": {
        "id": "d1df209c",
        "colab": {
          "base_uri": "https://localhost:8080/"
        },
        "outputId": "e43361b9-3149-4ef8-81c9-7bd8e2bc144c"
      },
      "outputs": [
        {
          "output_type": "error",
          "ename": "SyntaxError",
          "evalue": "ignored",
          "traceback": [
            "\u001b[0;36m  File \u001b[0;32m\"<ipython-input-67-16d21ff3c246>\"\u001b[0;36m, line \u001b[0;32m1\u001b[0m\n\u001b[0;31m    l4 = [10, , 10, 1] # Lists are ordered\u001b[0m\n\u001b[0m              ^\u001b[0m\n\u001b[0;31mSyntaxError\u001b[0m\u001b[0;31m:\u001b[0m invalid syntax\n"
          ]
        }
      ],
      "source": [
        "l4 = [10, , 10, 1] # Lists are ordered"
      ],
      "id": "d1df209c"
    },
    {
      "cell_type": "code",
      "execution_count": null,
      "metadata": {
        "id": "abc4a0aa"
      },
      "outputs": [],
      "source": [
        "l4 = [10, ' ' , 10, 1]"
      ],
      "id": "abc4a0aa"
    },
    {
      "cell_type": "code",
      "execution_count": null,
      "metadata": {
        "id": "8afcfd02",
        "colab": {
          "base_uri": "https://localhost:8080/"
        },
        "outputId": "cf554b42-0b8b-4207-b757-bfaa252614e1"
      },
      "outputs": [
        {
          "output_type": "execute_result",
          "data": {
            "text/plain": [
              "[10, ' ', 10, 1]"
            ]
          },
          "metadata": {},
          "execution_count": 69
        }
      ],
      "source": [
        "l4"
      ],
      "id": "8afcfd02"
    },
    {
      "cell_type": "code",
      "execution_count": null,
      "metadata": {
        "id": "e7a373d3",
        "colab": {
          "base_uri": "https://localhost:8080/"
        },
        "outputId": "c381b829-6f62-4c24-8940-a06a540a16f8"
      },
      "outputs": [
        {
          "output_type": "execute_result",
          "data": {
            "text/plain": [
              "[10, 15, 'ram', 10]"
            ]
          },
          "metadata": {},
          "execution_count": 74
        }
      ],
      "source": [
        "l1 = [10, 15, 'ram', 10] # Lists can be modified\n",
        "l1"
      ],
      "id": "e7a373d3"
    },
    {
      "cell_type": "code",
      "execution_count": null,
      "metadata": {
        "id": "d91aa527",
        "colab": {
          "base_uri": "https://localhost:8080/"
        },
        "outputId": "947c3a00-9738-40ea-90da-45fc97dc3e62"
      },
      "outputs": [
        {
          "output_type": "execute_result",
          "data": {
            "text/plain": [
              "15"
            ]
          },
          "metadata": {},
          "execution_count": 75
        }
      ],
      "source": [
        "l1[1]"
      ],
      "id": "d91aa527"
    },
    {
      "cell_type": "code",
      "execution_count": null,
      "metadata": {
        "id": "e80cae07"
      },
      "outputs": [],
      "source": [
        "l1[1] = 20"
      ],
      "id": "e80cae07"
    },
    {
      "cell_type": "code",
      "execution_count": null,
      "metadata": {
        "id": "9a9d1870",
        "colab": {
          "base_uri": "https://localhost:8080/"
        },
        "outputId": "5abea455-e7b0-496b-ed0a-b4d05d29be31"
      },
      "outputs": [
        {
          "output_type": "execute_result",
          "data": {
            "text/plain": [
              "[10, 20, 'ram', 10]"
            ]
          },
          "metadata": {},
          "execution_count": 78
        }
      ],
      "source": [
        "l1"
      ],
      "id": "9a9d1870"
    },
    {
      "cell_type": "code",
      "execution_count": null,
      "metadata": {
        "id": "2aebeacc",
        "colab": {
          "base_uri": "https://localhost:8080/"
        },
        "outputId": "f978973e-4ed0-46fb-f2f5-2f7fa0451694"
      },
      "outputs": [
        {
          "output_type": "execute_result",
          "data": {
            "text/plain": [
              "139782321840064"
            ]
          },
          "metadata": {},
          "execution_count": 79
        }
      ],
      "source": [
        "id(l1)  # ADDRESS ID NOT CHANGED ONLY VALUE / VARIABLE GET CHANGED"
      ],
      "id": "2aebeacc"
    },
    {
      "cell_type": "code",
      "execution_count": null,
      "metadata": {
        "id": "950daee9"
      },
      "outputs": [],
      "source": [
        "l1[-1] = 50"
      ],
      "id": "950daee9"
    },
    {
      "cell_type": "code",
      "execution_count": null,
      "metadata": {
        "id": "d80c11d3",
        "colab": {
          "base_uri": "https://localhost:8080/"
        },
        "outputId": "27e6074f-004f-4800-f3dc-238b7d15d7e1"
      },
      "outputs": [
        {
          "output_type": "execute_result",
          "data": {
            "text/plain": [
              "[10, 20, 'ram', 50]"
            ]
          },
          "metadata": {},
          "execution_count": 81
        }
      ],
      "source": [
        "l1"
      ],
      "id": "d80c11d3"
    },
    {
      "cell_type": "code",
      "execution_count": null,
      "metadata": {
        "id": "ed4d5842",
        "colab": {
          "base_uri": "https://localhost:8080/"
        },
        "outputId": "5444c11a-6681-4b1a-c3d2-9709917c43f9"
      },
      "outputs": [
        {
          "output_type": "execute_result",
          "data": {
            "text/plain": [
              "139782321840064"
            ]
          },
          "metadata": {},
          "execution_count": 83
        }
      ],
      "source": [
        "id(l1)   # ADDRESS ID NOT CHANGED ONLY VALUE / VARIABLE GET CHANGED"
      ],
      "id": "ed4d5842"
    },
    {
      "cell_type": "code",
      "execution_count": null,
      "metadata": {
        "id": "6d3557ed"
      },
      "outputs": [],
      "source": [
        "l1 = [1,2,3]  # Lists are mutable (Mutability - ability of an object to be modified/changed)"
      ],
      "id": "6d3557ed"
    },
    {
      "cell_type": "code",
      "execution_count": null,
      "metadata": {
        "id": "a89468a2",
        "colab": {
          "base_uri": "https://localhost:8080/"
        },
        "outputId": "9e6aa9b2-1f36-4890-8c22-a5d1ea5dcd0e"
      },
      "outputs": [
        {
          "output_type": "execute_result",
          "data": {
            "text/plain": [
              "139782321839616"
            ]
          },
          "metadata": {},
          "execution_count": 85
        }
      ],
      "source": [
        "id(l1)  # ADDRESS ID GOT CHANGED RIGHT AWAY VALUE / VARIABLE GET CHANGED"
      ],
      "id": "a89468a2"
    },
    {
      "cell_type": "markdown",
      "source": [
        "#### Tuple\n",
        "1. collection of elements\n",
        "2. comma separated elements enclosed within ()\n",
        "3. Tuples can any datatype\n",
        "4. Tuples support indexing\n",
        "5. Tuples can have duplicate elements\n",
        "6. **IMP** :- We cannot modify the elements of a Tuple\n",
        "7. Tuples are ordered"
      ],
      "metadata": {
        "id": "hVNdLYcpONeB"
      },
      "id": "hVNdLYcpONeB"
    },
    {
      "cell_type": "code",
      "execution_count": null,
      "metadata": {
        "id": "cf7b7030"
      },
      "outputs": [],
      "source": [
        "t1 = (10, 10, 'Python', 24.5)"
      ],
      "id": "cf7b7030"
    },
    {
      "cell_type": "code",
      "execution_count": null,
      "metadata": {
        "id": "e90c0010",
        "colab": {
          "base_uri": "https://localhost:8080/"
        },
        "outputId": "61d98163-8f7e-417a-de04-7a25417f96bf"
      },
      "outputs": [
        {
          "output_type": "execute_result",
          "data": {
            "text/plain": [
              "(10, 10, 'Python', 24.5)"
            ]
          },
          "metadata": {},
          "execution_count": 87
        }
      ],
      "source": [
        "t1"
      ],
      "id": "e90c0010"
    },
    {
      "cell_type": "code",
      "execution_count": null,
      "metadata": {
        "id": "8b1ce8d9",
        "colab": {
          "base_uri": "https://localhost:8080/"
        },
        "outputId": "ab890e07-f0d5-4041-a4a3-6d7c52b41e4d"
      },
      "outputs": [
        {
          "output_type": "execute_result",
          "data": {
            "text/plain": [
              "tuple"
            ]
          },
          "metadata": {},
          "execution_count": 88
        }
      ],
      "source": [
        "type(t1)"
      ],
      "id": "8b1ce8d9"
    },
    {
      "cell_type": "code",
      "execution_count": null,
      "metadata": {
        "id": "d83df255",
        "colab": {
          "base_uri": "https://localhost:8080/"
        },
        "outputId": "55ddc53c-02c1-4887-da34-0c55cf08b652"
      },
      "outputs": [
        {
          "output_type": "execute_result",
          "data": {
            "text/plain": [
              "10"
            ]
          },
          "metadata": {},
          "execution_count": 89
        }
      ],
      "source": [
        "t1[0]"
      ],
      "id": "d83df255"
    },
    {
      "cell_type": "code",
      "execution_count": null,
      "metadata": {
        "id": "b4ae813a",
        "colab": {
          "base_uri": "https://localhost:8080/"
        },
        "outputId": "c429d7a9-df45-4648-df5b-817e8e798f0b"
      },
      "outputs": [
        {
          "output_type": "execute_result",
          "data": {
            "text/plain": [
              "24.5"
            ]
          },
          "metadata": {},
          "execution_count": 90
        }
      ],
      "source": [
        "t1[3]"
      ],
      "id": "b4ae813a"
    },
    {
      "cell_type": "code",
      "execution_count": null,
      "metadata": {
        "id": "0076f43a",
        "colab": {
          "base_uri": "https://localhost:8080/"
        },
        "outputId": "210592d8-bdba-40b1-9743-4df14805f3d5"
      },
      "outputs": [
        {
          "output_type": "execute_result",
          "data": {
            "text/plain": [
              "24.5"
            ]
          },
          "metadata": {},
          "execution_count": 91
        }
      ],
      "source": [
        "t1[-1]"
      ],
      "id": "0076f43a"
    },
    {
      "cell_type": "code",
      "execution_count": null,
      "metadata": {
        "id": "fef6aa08",
        "colab": {
          "base_uri": "https://localhost:8080/"
        },
        "outputId": "685731ce-29b0-405c-f1f3-78492f6d2de2"
      },
      "outputs": [
        {
          "output_type": "execute_result",
          "data": {
            "text/plain": [
              "4"
            ]
          },
          "metadata": {},
          "execution_count": 92
        }
      ],
      "source": [
        "len(t1)"
      ],
      "id": "fef6aa08"
    },
    {
      "cell_type": "code",
      "execution_count": null,
      "metadata": {
        "id": "d5a10e20",
        "colab": {
          "base_uri": "https://localhost:8080/"
        },
        "outputId": "32fda33a-7706-4f9c-8f60-6240e7c171ec"
      },
      "outputs": [
        {
          "output_type": "execute_result",
          "data": {
            "text/plain": [
              "(10, 10, 'Python', 24.5)"
            ]
          },
          "metadata": {},
          "execution_count": 93
        }
      ],
      "source": [
        "t1"
      ],
      "id": "d5a10e20"
    },
    {
      "cell_type": "code",
      "execution_count": null,
      "metadata": {
        "id": "09603093",
        "colab": {
          "base_uri": "https://localhost:8080/"
        },
        "outputId": "9907399a-3c37-4e28-b295-cb1a7f39ffe8"
      },
      "outputs": [
        {
          "output_type": "error",
          "ename": "TypeError",
          "evalue": "ignored",
          "traceback": [
            "\u001b[0;31m---------------------------------------------------------------------------\u001b[0m",
            "\u001b[0;31mTypeError\u001b[0m                                 Traceback (most recent call last)",
            "\u001b[0;32m<ipython-input-94-febaef70d198>\u001b[0m in \u001b[0;36m<cell line: 1>\u001b[0;34m()\u001b[0m\n\u001b[0;32m----> 1\u001b[0;31m \u001b[0mt1\u001b[0m\u001b[0;34m[\u001b[0m\u001b[0;36m0\u001b[0m\u001b[0;34m]\u001b[0m \u001b[0;34m=\u001b[0m \u001b[0;36m0\u001b[0m\u001b[0;34m\u001b[0m\u001b[0;34m\u001b[0m\u001b[0m\n\u001b[0m",
            "\u001b[0;31mTypeError\u001b[0m: 'tuple' object does not support item assignment"
          ]
        }
      ],
      "source": [
        "t1[0] = 0  # We cannot modify the elements of a Tuple"
      ],
      "id": "09603093"
    },
    {
      "cell_type": "code",
      "execution_count": null,
      "metadata": {
        "id": "e239a630"
      },
      "outputs": [],
      "source": [
        "t1 # Tuples are ordered"
      ],
      "id": "e239a630"
    },
    {
      "cell_type": "code",
      "execution_count": null,
      "metadata": {
        "id": "66e169ef"
      },
      "outputs": [],
      "source": [
        "t1 = (1,2,3)"
      ],
      "id": "66e169ef"
    },
    {
      "cell_type": "code",
      "execution_count": null,
      "metadata": {
        "id": "a2e049b1",
        "colab": {
          "base_uri": "https://localhost:8080/"
        },
        "outputId": "39e35ec9-e06c-4743-e392-f7b64d22e9ab"
      },
      "outputs": [
        {
          "output_type": "execute_result",
          "data": {
            "text/plain": [
              "(1, 2, 3)"
            ]
          },
          "metadata": {},
          "execution_count": 111
        }
      ],
      "source": [
        "t1"
      ],
      "id": "a2e049b1"
    },
    {
      "cell_type": "code",
      "execution_count": null,
      "metadata": {
        "id": "c64f0ae1"
      },
      "outputs": [],
      "source": [
        "var = 'hello'"
      ],
      "id": "c64f0ae1"
    },
    {
      "cell_type": "code",
      "execution_count": null,
      "metadata": {
        "id": "8adadd0d"
      },
      "outputs": [],
      "source": [
        "t1 = (10, 20.6, var)"
      ],
      "id": "8adadd0d"
    },
    {
      "cell_type": "code",
      "execution_count": null,
      "metadata": {
        "id": "ee6b1af2",
        "colab": {
          "base_uri": "https://localhost:8080/"
        },
        "outputId": "19ec6f48-afbd-4a2c-dbd9-a3e83b46f3c2"
      },
      "outputs": [
        {
          "output_type": "execute_result",
          "data": {
            "text/plain": [
              "(10, 20.6, 'hello')"
            ]
          },
          "metadata": {},
          "execution_count": 115
        }
      ],
      "source": [
        "t1"
      ],
      "id": "ee6b1af2"
    },
    {
      "cell_type": "code",
      "execution_count": null,
      "metadata": {
        "id": "76841042"
      },
      "outputs": [],
      "source": [
        "var = 'bye'"
      ],
      "id": "76841042"
    },
    {
      "cell_type": "code",
      "execution_count": null,
      "metadata": {
        "id": "313268a7",
        "colab": {
          "base_uri": "https://localhost:8080/"
        },
        "outputId": "15f43ea2-d464-4f0b-acc1-075a46507a12"
      },
      "outputs": [
        {
          "output_type": "execute_result",
          "data": {
            "text/plain": [
              "(10, 20.6, 'hello')"
            ]
          },
          "metadata": {},
          "execution_count": 118
        }
      ],
      "source": [
        "t1"
      ],
      "id": "313268a7"
    },
    {
      "cell_type": "code",
      "execution_count": null,
      "metadata": {
        "id": "b863500d"
      },
      "outputs": [],
      "source": [
        "t1 = (10, 10.5, 'hi', [1,2,3], (10, 20))"
      ],
      "id": "b863500d"
    },
    {
      "cell_type": "code",
      "execution_count": null,
      "metadata": {
        "id": "efde2bdf",
        "colab": {
          "base_uri": "https://localhost:8080/"
        },
        "outputId": "aadcaced-bb94-4d78-db27-e01f5bbd37d6"
      },
      "outputs": [
        {
          "output_type": "execute_result",
          "data": {
            "text/plain": [
              "(10, 10.5, 'hi', [1, 2, 3], (10, 20))"
            ]
          },
          "metadata": {},
          "execution_count": 121
        }
      ],
      "source": [
        "t1"
      ],
      "id": "efde2bdf"
    },
    {
      "cell_type": "code",
      "execution_count": null,
      "metadata": {
        "id": "50d36536"
      },
      "outputs": [],
      "source": [
        "l1 = [10, 20.5, 'bye', [10, 20, 30], (1,2,3), 'python']"
      ],
      "id": "50d36536"
    },
    {
      "cell_type": "code",
      "execution_count": null,
      "metadata": {
        "id": "1ff34442",
        "colab": {
          "base_uri": "https://localhost:8080/"
        },
        "outputId": "995316c2-13a6-4252-c149-735189eac4f9"
      },
      "outputs": [
        {
          "output_type": "execute_result",
          "data": {
            "text/plain": [
              "[10, 20.5, 'bye', [10, 20, 30], (1, 2, 3), 'python']"
            ]
          },
          "metadata": {},
          "execution_count": 123
        }
      ],
      "source": [
        "l1"
      ],
      "id": "1ff34442"
    },
    {
      "cell_type": "code",
      "execution_count": null,
      "metadata": {
        "id": "adfda2cc",
        "colab": {
          "base_uri": "https://localhost:8080/"
        },
        "outputId": "48b43299-7f2a-4b99-eecb-756f02ea06b9"
      },
      "outputs": [
        {
          "output_type": "execute_result",
          "data": {
            "text/plain": [
              "[10, 20, 30]"
            ]
          },
          "metadata": {},
          "execution_count": 124
        }
      ],
      "source": [
        "l1[3]"
      ],
      "id": "adfda2cc"
    },
    {
      "cell_type": "code",
      "execution_count": null,
      "metadata": {
        "id": "f2e4de7c",
        "colab": {
          "base_uri": "https://localhost:8080/"
        },
        "outputId": "8297b52a-4bcd-4183-db06-620300283b13"
      },
      "outputs": [
        {
          "output_type": "execute_result",
          "data": {
            "text/plain": [
              "20"
            ]
          },
          "metadata": {},
          "execution_count": 125
        }
      ],
      "source": [
        "l1[3][1]"
      ],
      "id": "f2e4de7c"
    },
    {
      "cell_type": "code",
      "execution_count": null,
      "metadata": {
        "id": "49f325a7",
        "colab": {
          "base_uri": "https://localhost:8080/"
        },
        "outputId": "70709891-b5db-4c09-d93b-93919abed00f"
      },
      "outputs": [
        {
          "output_type": "execute_result",
          "data": {
            "text/plain": [
              "'p'"
            ],
            "application/vnd.google.colaboratory.intrinsic+json": {
              "type": "string"
            }
          },
          "metadata": {},
          "execution_count": 126
        }
      ],
      "source": [
        "l1[-1][0]"
      ],
      "id": "49f325a7"
    },
    {
      "cell_type": "code",
      "execution_count": null,
      "metadata": {
        "id": "9d616211",
        "colab": {
          "base_uri": "https://localhost:8080/"
        },
        "outputId": "42c68f13-85a4-4bf6-bff0-ae9c076f67d8"
      },
      "outputs": [
        {
          "output_type": "execute_result",
          "data": {
            "text/plain": [
              "(10, 10.5, 'hi', [1, 2, 3], (10, 20))"
            ]
          },
          "metadata": {},
          "execution_count": 127
        }
      ],
      "source": [
        "t1"
      ],
      "id": "9d616211"
    },
    {
      "cell_type": "code",
      "execution_count": null,
      "metadata": {
        "id": "578284d6",
        "colab": {
          "base_uri": "https://localhost:8080/"
        },
        "outputId": "b076b8bd-8329-4030-bd6d-1a97dcd0e526"
      },
      "outputs": [
        {
          "output_type": "execute_result",
          "data": {
            "text/plain": [
              "3"
            ]
          },
          "metadata": {},
          "execution_count": 128
        }
      ],
      "source": [
        "t1[-2][-1]"
      ],
      "id": "578284d6"
    },
    {
      "cell_type": "code",
      "execution_count": null,
      "metadata": {
        "id": "6424c9bb",
        "colab": {
          "base_uri": "https://localhost:8080/"
        },
        "outputId": "e616d3df-fd82-44b9-fab4-4d6c6a2b8aa2"
      },
      "outputs": [
        {
          "output_type": "execute_result",
          "data": {
            "text/plain": [
              "5"
            ]
          },
          "metadata": {},
          "execution_count": 130
        }
      ],
      "source": [
        "len(t1)"
      ],
      "id": "6424c9bb"
    },
    {
      "cell_type": "code",
      "execution_count": null,
      "metadata": {
        "id": "8c94a7eb"
      },
      "outputs": [],
      "source": [
        "l1 = [7, 3, 4, 5, 8, -1, 0, 2]"
      ],
      "id": "8c94a7eb"
    },
    {
      "cell_type": "code",
      "execution_count": null,
      "metadata": {
        "id": "95748acd",
        "colab": {
          "base_uri": "https://localhost:8080/"
        },
        "outputId": "971cffa1-5ed7-418e-a5f3-4c954a413b16"
      },
      "outputs": [
        {
          "output_type": "execute_result",
          "data": {
            "text/plain": [
              "[7, 3, 4, 5, 8, -1, 0, 2]"
            ]
          },
          "metadata": {},
          "execution_count": 132
        }
      ],
      "source": [
        "l1"
      ],
      "id": "95748acd"
    },
    {
      "cell_type": "code",
      "execution_count": null,
      "metadata": {
        "id": "3e1e25ff",
        "colab": {
          "base_uri": "https://localhost:8080/"
        },
        "outputId": "315cfe4e-e5a4-4023-94c2-ccfcc71c16bb"
      },
      "outputs": [
        {
          "output_type": "execute_result",
          "data": {
            "text/plain": [
              "[4, 5, 8]"
            ]
          },
          "metadata": {},
          "execution_count": 134
        }
      ],
      "source": [
        "l1[2:5:1]"
      ],
      "id": "3e1e25ff"
    },
    {
      "cell_type": "code",
      "execution_count": null,
      "metadata": {
        "id": "4c30e148",
        "colab": {
          "base_uri": "https://localhost:8080/"
        },
        "outputId": "1bbedac0-2335-4ca4-90a4-7400f7566b3c"
      },
      "outputs": [
        {
          "output_type": "execute_result",
          "data": {
            "text/plain": [
              "(10, 10.5, 'hi', [1, 2, 3], (10, 20))"
            ]
          },
          "metadata": {},
          "execution_count": 136
        }
      ],
      "source": [
        "t1"
      ],
      "id": "4c30e148"
    },
    {
      "cell_type": "code",
      "execution_count": null,
      "metadata": {
        "id": "1383898a"
      },
      "outputs": [],
      "source": [
        "t2 = (0, 6, 2, -1, 8, 9, 4, 3, 6, 10, 3)"
      ],
      "id": "1383898a"
    },
    {
      "cell_type": "code",
      "execution_count": null,
      "metadata": {
        "id": "4448c2a4",
        "colab": {
          "base_uri": "https://localhost:8080/"
        },
        "outputId": "55ca8bb4-d954-482f-edf4-4bf94015ff09"
      },
      "outputs": [
        {
          "output_type": "execute_result",
          "data": {
            "text/plain": [
              "(-1, 9, 3)"
            ]
          },
          "metadata": {},
          "execution_count": 138
        }
      ],
      "source": [
        "t2[3:8:2]"
      ],
      "id": "4448c2a4"
    },
    {
      "cell_type": "markdown",
      "source": [
        "#### Complex"
      ],
      "metadata": {
        "id": "WeKTEnT1SxtP"
      },
      "id": "WeKTEnT1SxtP"
    },
    {
      "cell_type": "code",
      "execution_count": null,
      "metadata": {
        "id": "bec2102b",
        "colab": {
          "base_uri": "https://localhost:8080/"
        },
        "outputId": "fedb3c8c-40c9-469c-b9a1-bfc2ef0c14f4"
      },
      "outputs": [
        {
          "output_type": "execute_result",
          "data": {
            "text/plain": [
              "(10+0j)"
            ]
          },
          "metadata": {},
          "execution_count": 1
        }
      ],
      "source": [
        "complex(10)"
      ],
      "id": "bec2102b"
    },
    {
      "cell_type": "code",
      "execution_count": null,
      "metadata": {
        "id": "b7a53e59",
        "colab": {
          "base_uri": "https://localhost:8080/"
        },
        "outputId": "2fc40d0b-5985-4649-b8a4-c31fd1d9aa02"
      },
      "outputs": [
        {
          "output_type": "execute_result",
          "data": {
            "text/plain": [
              "(5.6+0j)"
            ]
          },
          "metadata": {},
          "execution_count": 2
        }
      ],
      "source": [
        "complex(5.6)"
      ],
      "id": "b7a53e59"
    },
    {
      "cell_type": "code",
      "execution_count": null,
      "metadata": {
        "id": "4f99c4c5",
        "colab": {
          "base_uri": "https://localhost:8080/",
          "height": 166
        },
        "outputId": "80e219a0-af6d-4d02-df6a-1f50c441f965"
      },
      "outputs": [
        {
          "output_type": "error",
          "ename": "TypeError",
          "evalue": "ignored",
          "traceback": [
            "\u001b[0;31m---------------------------------------------------------------------------\u001b[0m",
            "\u001b[0;31mTypeError\u001b[0m                                 Traceback (most recent call last)",
            "\u001b[0;32m<ipython-input-3-b4773c1aac08>\u001b[0m in \u001b[0;36m<cell line: 1>\u001b[0;34m()\u001b[0m\n\u001b[0;32m----> 1\u001b[0;31m \u001b[0mint\u001b[0m\u001b[0;34m(\u001b[0m\u001b[0;36m4\u001b[0m\u001b[0;34m+\u001b[0m\u001b[0;36m2j\u001b[0m\u001b[0;34m)\u001b[0m\u001b[0;34m\u001b[0m\u001b[0;34m\u001b[0m\u001b[0m\n\u001b[0m",
            "\u001b[0;31mTypeError\u001b[0m: int() argument must be a string, a bytes-like object or a real number, not 'complex'"
          ]
        }
      ],
      "source": [
        "int(4+2j)"
      ],
      "id": "4f99c4c5"
    },
    {
      "cell_type": "code",
      "execution_count": null,
      "metadata": {
        "id": "73443ac9",
        "colab": {
          "base_uri": "https://localhost:8080/",
          "height": 166
        },
        "outputId": "cb0690f7-b2ea-4920-f8a7-172a90912536"
      },
      "outputs": [
        {
          "output_type": "error",
          "ename": "TypeError",
          "evalue": "ignored",
          "traceback": [
            "\u001b[0;31m---------------------------------------------------------------------------\u001b[0m",
            "\u001b[0;31mTypeError\u001b[0m                                 Traceback (most recent call last)",
            "\u001b[0;32m<ipython-input-4-249325932800>\u001b[0m in \u001b[0;36m<cell line: 1>\u001b[0;34m()\u001b[0m\n\u001b[0;32m----> 1\u001b[0;31m \u001b[0mfloat\u001b[0m\u001b[0;34m(\u001b[0m\u001b[0;36m4\u001b[0m\u001b[0;34m+\u001b[0m\u001b[0;36m2j\u001b[0m\u001b[0;34m)\u001b[0m\u001b[0;34m\u001b[0m\u001b[0;34m\u001b[0m\u001b[0m\n\u001b[0m",
            "\u001b[0;31mTypeError\u001b[0m: float() argument must be a string or a real number, not 'complex'"
          ]
        }
      ],
      "source": [
        "float(4+2j)"
      ],
      "id": "73443ac9"
    },
    {
      "cell_type": "code",
      "execution_count": null,
      "metadata": {
        "id": "ec5bdc23",
        "colab": {
          "base_uri": "https://localhost:8080/",
          "height": 36
        },
        "outputId": "fe5cbeec-a65f-4e96-c197-cf6c460aba7b"
      },
      "outputs": [
        {
          "output_type": "execute_result",
          "data": {
            "text/plain": [
              "'(4+2j)'"
            ],
            "application/vnd.google.colaboratory.intrinsic+json": {
              "type": "string"
            }
          },
          "metadata": {},
          "execution_count": 5
        }
      ],
      "source": [
        "str(4+2j)"
      ],
      "id": "ec5bdc23"
    },
    {
      "cell_type": "code",
      "execution_count": null,
      "metadata": {
        "id": "8c6f3cfa",
        "colab": {
          "base_uri": "https://localhost:8080/"
        },
        "outputId": "903425a1-c95a-4a6c-e0d7-7f78f7fcc138"
      },
      "outputs": [
        {
          "output_type": "execute_result",
          "data": {
            "text/plain": [
              "True"
            ]
          },
          "metadata": {},
          "execution_count": 6
        }
      ],
      "source": [
        "bool(4+2j)"
      ],
      "id": "8c6f3cfa"
    },
    {
      "cell_type": "code",
      "execution_count": null,
      "metadata": {
        "id": "c1050b86",
        "colab": {
          "base_uri": "https://localhost:8080/"
        },
        "outputId": "b6fd219f-9406-44b6-a83d-5c421a660e91"
      },
      "outputs": [
        {
          "output_type": "execute_result",
          "data": {
            "text/plain": [
              "False"
            ]
          },
          "metadata": {},
          "execution_count": 7
        }
      ],
      "source": [
        "bool(0+0j)"
      ],
      "id": "c1050b86"
    },
    {
      "cell_type": "code",
      "execution_count": null,
      "metadata": {
        "id": "a4b503d9",
        "colab": {
          "base_uri": "https://localhost:8080/",
          "height": 166
        },
        "outputId": "acd5d5bd-3049-4024-a0b1-f568eff44ed0"
      },
      "outputs": [
        {
          "output_type": "error",
          "ename": "NameError",
          "evalue": "ignored",
          "traceback": [
            "\u001b[0;31m---------------------------------------------------------------------------\u001b[0m",
            "\u001b[0;31mNameError\u001b[0m                                 Traceback (most recent call last)",
            "\u001b[0;32m<ipython-input-8-56840a5986a6>\u001b[0m in \u001b[0;36m<cell line: 1>\u001b[0;34m()\u001b[0m\n\u001b[0;32m----> 1\u001b[0;31m \u001b[0mstr\u001b[0m\u001b[0;34m(\u001b[0m\u001b[0mabc\u001b[0m\u001b[0;34m)\u001b[0m\u001b[0;34m\u001b[0m\u001b[0;34m\u001b[0m\u001b[0m\n\u001b[0m",
            "\u001b[0;31mNameError\u001b[0m: name 'abc' is not defined"
          ]
        }
      ],
      "source": [
        "str(abc)"
      ],
      "id": "a4b503d9"
    },
    {
      "cell_type": "code",
      "execution_count": null,
      "metadata": {
        "id": "17d3e376",
        "colab": {
          "base_uri": "https://localhost:8080/",
          "height": 36
        },
        "outputId": "bba138e6-8865-4478-ee58-027fb13bc446"
      },
      "outputs": [
        {
          "output_type": "execute_result",
          "data": {
            "text/plain": [
              "'abc'"
            ],
            "application/vnd.google.colaboratory.intrinsic+json": {
              "type": "string"
            }
          },
          "metadata": {},
          "execution_count": 9
        }
      ],
      "source": [
        "str('abc')"
      ],
      "id": "17d3e376"
    },
    {
      "cell_type": "code",
      "execution_count": null,
      "metadata": {
        "id": "83dbcdc3",
        "colab": {
          "base_uri": "https://localhost:8080/"
        },
        "outputId": "8a5c2a79-3875-4087-b7a9-e0a3bd9e5e86"
      },
      "outputs": [
        {
          "output_type": "execute_result",
          "data": {
            "text/plain": [
              "(4+0j)"
            ]
          },
          "metadata": {},
          "execution_count": 10
        }
      ],
      "source": [
        "a1 = 4 + 3j\n",
        "complex(int(a1.real))"
      ],
      "id": "83dbcdc3"
    },
    {
      "cell_type": "code",
      "execution_count": null,
      "metadata": {
        "id": "6f5266ec"
      },
      "outputs": [],
      "source": [
        "l1 = [1,2,3,4,5]"
      ],
      "id": "6f5266ec"
    },
    {
      "cell_type": "code",
      "execution_count": null,
      "metadata": {
        "id": "844bc49c",
        "colab": {
          "base_uri": "https://localhost:8080/"
        },
        "outputId": "5929bcbe-4142-49af-fad1-4a677972d6bd"
      },
      "outputs": [
        {
          "output_type": "execute_result",
          "data": {
            "text/plain": [
              "[1, 2, 3, 4, 5]"
            ]
          },
          "metadata": {},
          "execution_count": 12
        }
      ],
      "source": [
        "l1"
      ],
      "id": "844bc49c"
    },
    {
      "cell_type": "code",
      "execution_count": null,
      "metadata": {
        "id": "16797d45",
        "colab": {
          "base_uri": "https://localhost:8080/"
        },
        "outputId": "7c6d0498-d3c8-41da-c1e2-7f0a80ab48cb"
      },
      "outputs": [
        {
          "output_type": "execute_result",
          "data": {
            "text/plain": [
              "list"
            ]
          },
          "metadata": {},
          "execution_count": 13
        }
      ],
      "source": [
        "type(l1)"
      ],
      "id": "16797d45"
    },
    {
      "cell_type": "code",
      "execution_count": null,
      "metadata": {
        "id": "11f312ad",
        "colab": {
          "base_uri": "https://localhost:8080/"
        },
        "outputId": "d744d1e1-c13e-446a-959e-58cb6361aed1"
      },
      "outputs": [
        {
          "output_type": "execute_result",
          "data": {
            "text/plain": [
              "(1, 2, 3, 4, 5)"
            ]
          },
          "metadata": {},
          "execution_count": 14
        }
      ],
      "source": [
        "tuple(l1)"
      ],
      "id": "11f312ad"
    },
    {
      "cell_type": "code",
      "execution_count": null,
      "metadata": {
        "id": "26aba988"
      },
      "outputs": [],
      "source": [
        "t1 = (10, 20, 30)"
      ],
      "id": "26aba988"
    },
    {
      "cell_type": "code",
      "execution_count": null,
      "metadata": {
        "id": "eb8cd77c",
        "colab": {
          "base_uri": "https://localhost:8080/"
        },
        "outputId": "c0aa219f-73b1-4595-d487-8b297c9b6ac6"
      },
      "outputs": [
        {
          "output_type": "execute_result",
          "data": {
            "text/plain": [
              "[10, 20, 30]"
            ]
          },
          "metadata": {},
          "execution_count": 16
        }
      ],
      "source": [
        "list(t1)"
      ],
      "id": "eb8cd77c"
    },
    {
      "cell_type": "markdown",
      "source": [
        "#### Sets\n",
        "\n",
        "1. Collection of elements\n",
        "2. comma separated values enclosed within {}\n",
        "3. They do not allow duplicates (they are unique collection)\n",
        "4. Mutable\n",
        "5. They are unordered\n",
        "6. No indexing\n",
        "7. We can add and delete values"
      ],
      "metadata": {
        "id": "Dc9OHaWuFVGO"
      },
      "id": "Dc9OHaWuFVGO"
    },
    {
      "cell_type": "code",
      "execution_count": null,
      "metadata": {
        "id": "6df6aa73"
      },
      "outputs": [],
      "source": [
        "set1 = {10, 6.5, True, 'Python'}"
      ],
      "id": "6df6aa73"
    },
    {
      "cell_type": "code",
      "execution_count": null,
      "metadata": {
        "id": "b611f578",
        "colab": {
          "base_uri": "https://localhost:8080/"
        },
        "outputId": "8431c2cd-af30-423e-a26a-779410ac6628"
      },
      "outputs": [
        {
          "output_type": "stream",
          "name": "stdout",
          "text": [
            "{True, 10, 'Python', 6.5}\n"
          ]
        }
      ],
      "source": [
        "print(set1)"
      ],
      "id": "b611f578"
    },
    {
      "cell_type": "code",
      "execution_count": null,
      "metadata": {
        "id": "bea11b6d",
        "colab": {
          "base_uri": "https://localhost:8080/"
        },
        "outputId": "765daf8d-ae8b-4023-ac4a-a071fd7e4825"
      },
      "outputs": [
        {
          "output_type": "error",
          "ename": "TypeError",
          "evalue": "ignored",
          "traceback": [
            "\u001b[0;31m---------------------------------------------------------------------------\u001b[0m",
            "\u001b[0;31mTypeError\u001b[0m                                 Traceback (most recent call last)",
            "\u001b[0;32m<ipython-input-26-c38563f1af7a>\u001b[0m in \u001b[0;36m<cell line: 1>\u001b[0;34m()\u001b[0m\n\u001b[0;32m----> 1\u001b[0;31m \u001b[0mset1\u001b[0m\u001b[0;34m[\u001b[0m\u001b[0;36m0\u001b[0m\u001b[0;34m]\u001b[0m\u001b[0;34m\u001b[0m\u001b[0;34m\u001b[0m\u001b[0m\n\u001b[0m",
            "\u001b[0;31mTypeError\u001b[0m: 'set' object is not subscriptable"
          ]
        }
      ],
      "source": [
        "set1[0]"
      ],
      "id": "bea11b6d"
    },
    {
      "cell_type": "code",
      "execution_count": null,
      "metadata": {
        "id": "9a2118b3",
        "colab": {
          "base_uri": "https://localhost:8080/"
        },
        "outputId": "a3accab4-4f78-485b-bdbe-70ab73b497dd"
      },
      "outputs": [
        {
          "output_type": "execute_result",
          "data": {
            "text/plain": [
              "[True, 10, 'Python', 6.5]"
            ]
          },
          "metadata": {},
          "execution_count": 20
        }
      ],
      "source": [
        "list(set1)"
      ],
      "id": "9a2118b3"
    },
    {
      "cell_type": "code",
      "execution_count": null,
      "metadata": {
        "id": "72910c71"
      },
      "outputs": [],
      "source": [
        "set2 = {10, 20, 40, 10, 20, 30, 40}"
      ],
      "id": "72910c71"
    },
    {
      "cell_type": "code",
      "execution_count": null,
      "metadata": {
        "id": "d53633c6",
        "colab": {
          "base_uri": "https://localhost:8080/"
        },
        "outputId": "a70e64a7-9b8d-40dd-bc25-b6726c10f979"
      },
      "outputs": [
        {
          "output_type": "execute_result",
          "data": {
            "text/plain": [
              "{10, 20, 30, 40}"
            ]
          },
          "metadata": {},
          "execution_count": 22
        }
      ],
      "source": [
        "set2"
      ],
      "id": "d53633c6"
    },
    {
      "cell_type": "code",
      "execution_count": null,
      "metadata": {
        "id": "8637d41b",
        "colab": {
          "base_uri": "https://localhost:8080/"
        },
        "outputId": "866ee51a-5f64-4218-9378-1ac73fb5e56d"
      },
      "outputs": [
        {
          "output_type": "execute_result",
          "data": {
            "text/plain": [
              "{10, 6.5, 'Python', True}"
            ]
          },
          "metadata": {},
          "execution_count": 23
        }
      ],
      "source": [
        "set1"
      ],
      "id": "8637d41b"
    },
    {
      "cell_type": "code",
      "execution_count": null,
      "metadata": {
        "id": "c530b08d",
        "colab": {
          "base_uri": "https://localhost:8080/"
        },
        "outputId": "b9111a2e-a703-43c8-9d40-40afdb1d459b"
      },
      "outputs": [
        {
          "output_type": "error",
          "ename": "TypeError",
          "evalue": "ignored",
          "traceback": [
            "\u001b[0;31m---------------------------------------------------------------------------\u001b[0m",
            "\u001b[0;31mTypeError\u001b[0m                                 Traceback (most recent call last)",
            "\u001b[0;32m<ipython-input-24-2041eea36c21>\u001b[0m in \u001b[0;36m<cell line: 1>\u001b[0;34m()\u001b[0m\n\u001b[0;32m----> 1\u001b[0;31m \u001b[0mset1\u001b[0m\u001b[0;34m[\u001b[0m\u001b[0;36m0\u001b[0m\u001b[0;34m]\u001b[0m \u001b[0;34m=\u001b[0m \u001b[0;36m20\u001b[0m\u001b[0;34m\u001b[0m\u001b[0;34m\u001b[0m\u001b[0m\n\u001b[0m",
            "\u001b[0;31mTypeError\u001b[0m: 'set' object does not support item assignment"
          ]
        }
      ],
      "source": [
        "set1[0] = 20"
      ],
      "id": "c530b08d"
    },
    {
      "cell_type": "code",
      "execution_count": null,
      "metadata": {
        "id": "558fa588"
      },
      "outputs": [],
      "source": [],
      "id": "558fa588"
    },
    {
      "cell_type": "markdown",
      "source": [
        "#### Dictionary\n",
        "\n",
        "1. Comma separated key-value pairs enclosed within {}\n",
        "2. List item\n",
        "3. {key1:value1, key2:value2, .....}\n",
        "4. Unordered\n",
        "5. Mutable - can be modified\n",
        "6. Keys should be unique and values can be duplicate\n",
        "7. **IMP** List as a key of a dict is not allowed\n",
        "8. **IMP** Triple as a key of a dict is allowed\n",
        "9. ***Keys should only be immutable datatypes***\n",
        "10. **IMP** Mutable datatypes are not allowed as a key of a dictionary\n",
        "11. **IMP** Values can be any datatype"
      ],
      "metadata": {
        "id": "TkmWwjyKGC70"
      },
      "id": "TkmWwjyKGC70"
    },
    {
      "cell_type": "code",
      "execution_count": null,
      "metadata": {
        "id": "3d8ba3ab"
      },
      "outputs": [],
      "source": [
        "student1 = {'roll': 101, 'name': 'John', 'percent': 87.5}"
      ],
      "id": "3d8ba3ab"
    },
    {
      "cell_type": "code",
      "execution_count": null,
      "metadata": {
        "id": "6ed08741",
        "colab": {
          "base_uri": "https://localhost:8080/"
        },
        "outputId": "bbe82568-0d7d-4b92-ca10-9162b054b2f4"
      },
      "outputs": [
        {
          "output_type": "execute_result",
          "data": {
            "text/plain": [
              "{'roll': 101, 'name': 'John', 'percent': 87.5}"
            ]
          },
          "metadata": {},
          "execution_count": 29
        }
      ],
      "source": [
        "student1"
      ],
      "id": "6ed08741"
    },
    {
      "cell_type": "code",
      "execution_count": null,
      "metadata": {
        "id": "13d47e79",
        "colab": {
          "base_uri": "https://localhost:8080/"
        },
        "outputId": "6e33e8d6-d8de-4199-c3ff-ba7dafc277f7"
      },
      "outputs": [
        {
          "output_type": "execute_result",
          "data": {
            "text/plain": [
              "dict"
            ]
          },
          "metadata": {},
          "execution_count": 30
        }
      ],
      "source": [
        "type(student1)"
      ],
      "id": "13d47e79"
    },
    {
      "cell_type": "code",
      "execution_count": null,
      "metadata": {
        "id": "ab7cd8fa",
        "colab": {
          "base_uri": "https://localhost:8080/"
        },
        "outputId": "44e248ce-ff0e-41dc-ae5e-a621d6f8791f"
      },
      "outputs": [
        {
          "output_type": "error",
          "ename": "NameError",
          "evalue": "ignored",
          "traceback": [
            "\u001b[0;31m---------------------------------------------------------------------------\u001b[0m",
            "\u001b[0;31mNameError\u001b[0m                                 Traceback (most recent call last)",
            "\u001b[0;32m<ipython-input-31-c629bdd54775>\u001b[0m in \u001b[0;36m<cell line: 1>\u001b[0;34m()\u001b[0m\n\u001b[0;32m----> 1\u001b[0;31m \u001b[0md1\u001b[0m \u001b[0;34m=\u001b[0m \u001b[0;34m{\u001b[0m\u001b[0mx\u001b[0m\u001b[0;34m:\u001b[0m\u001b[0;36m1\u001b[0m\u001b[0;34m,\u001b[0m \u001b[0my\u001b[0m\u001b[0;34m:\u001b[0m\u001b[0;36m2\u001b[0m\u001b[0;34m}\u001b[0m\u001b[0;34m\u001b[0m\u001b[0;34m\u001b[0m\u001b[0m\n\u001b[0m",
            "\u001b[0;31mNameError\u001b[0m: name 'x' is not defined"
          ]
        }
      ],
      "source": [
        "d1 = {x:1, y:2}"
      ],
      "id": "ab7cd8fa"
    },
    {
      "cell_type": "code",
      "execution_count": null,
      "metadata": {
        "id": "124ffec0"
      },
      "outputs": [],
      "source": [
        "l3 = [101, 'John', 87.5]"
      ],
      "id": "124ffec0"
    },
    {
      "cell_type": "code",
      "execution_count": null,
      "metadata": {
        "id": "be7acc0e",
        "colab": {
          "base_uri": "https://localhost:8080/"
        },
        "outputId": "3c6dd8d0-815a-448c-9a06-f1245ece1422"
      },
      "outputs": [
        {
          "output_type": "execute_result",
          "data": {
            "text/plain": [
              "[101, 'John', 87.5]"
            ]
          },
          "metadata": {},
          "execution_count": 33
        }
      ],
      "source": [
        "l3"
      ],
      "id": "be7acc0e"
    },
    {
      "cell_type": "code",
      "execution_count": null,
      "metadata": {
        "id": "e14da263",
        "colab": {
          "base_uri": "https://localhost:8080/"
        },
        "outputId": "f801917a-2289-44cc-b9c3-6283b1f14fad"
      },
      "outputs": [
        {
          "output_type": "execute_result",
          "data": {
            "text/plain": [
              "{'roll': 101, 'name': 'John', 'percent': 87.5}"
            ]
          },
          "metadata": {},
          "execution_count": 34
        }
      ],
      "source": [
        "student1"
      ],
      "id": "e14da263"
    },
    {
      "cell_type": "code",
      "execution_count": null,
      "metadata": {
        "id": "5954fe3c"
      },
      "outputs": [],
      "source": [
        "d2 = {1:'one', 2:'two'}"
      ],
      "id": "5954fe3c"
    },
    {
      "cell_type": "code",
      "execution_count": null,
      "metadata": {
        "id": "3cb37694",
        "colab": {
          "base_uri": "https://localhost:8080/"
        },
        "outputId": "ce1f22d6-df26-41b4-df3a-1b9eab4bd49d"
      },
      "outputs": [
        {
          "output_type": "execute_result",
          "data": {
            "text/plain": [
              "{1: 'one', 2: 'two'}"
            ]
          },
          "metadata": {},
          "execution_count": 36
        }
      ],
      "source": [
        "d2"
      ],
      "id": "3cb37694"
    },
    {
      "cell_type": "code",
      "execution_count": null,
      "metadata": {
        "id": "feea7234"
      },
      "outputs": [],
      "source": [
        "students_list = {101: 'John', 102: 'Jill', 103: 'Carol'}"
      ],
      "id": "feea7234"
    },
    {
      "cell_type": "code",
      "execution_count": null,
      "metadata": {
        "id": "64f9bf4a",
        "colab": {
          "base_uri": "https://localhost:8080/"
        },
        "outputId": "2dfc9975-83da-4f45-86be-acd4934a8ccc"
      },
      "outputs": [
        {
          "output_type": "execute_result",
          "data": {
            "text/plain": [
              "{101: 'John', 102: 'Jill', 103: 'Carol'}"
            ]
          },
          "metadata": {},
          "execution_count": 38
        }
      ],
      "source": [
        "students_list"
      ],
      "id": "64f9bf4a"
    },
    {
      "cell_type": "code",
      "execution_count": null,
      "metadata": {
        "id": "70b03b89"
      },
      "outputs": [],
      "source": [
        "marks = {101:[87.5, 77.0, 81.5], 102:[91.0, 85.5, 82.0]}"
      ],
      "id": "70b03b89"
    },
    {
      "cell_type": "code",
      "execution_count": null,
      "metadata": {
        "id": "5549e520",
        "colab": {
          "base_uri": "https://localhost:8080/"
        },
        "outputId": "dc458763-e20a-4b2b-fe0d-fecdcffa4fee"
      },
      "outputs": [
        {
          "output_type": "execute_result",
          "data": {
            "text/plain": [
              "{101: [87.5, 77.0, 81.5], 102: [91.0, 85.5, 82.0]}"
            ]
          },
          "metadata": {},
          "execution_count": 40
        }
      ],
      "source": [
        "marks"
      ],
      "id": "5549e520"
    },
    {
      "cell_type": "code",
      "execution_count": null,
      "metadata": {
        "id": "a28c3c81"
      },
      "outputs": [],
      "source": [
        "marks = {101:{'sub1':87.5, 'sub2':77.0, 'sub3':81.5}, 102:{'sub1':91.0, 'sub2':85.5, 'sub3':82.0}}"
      ],
      "id": "a28c3c81"
    },
    {
      "cell_type": "code",
      "execution_count": null,
      "metadata": {
        "id": "c84592e0",
        "colab": {
          "base_uri": "https://localhost:8080/"
        },
        "outputId": "803398b3-6099-4ae2-e11c-f2e8d807fa84"
      },
      "outputs": [
        {
          "output_type": "execute_result",
          "data": {
            "text/plain": [
              "{101: {'sub1': 87.5, 'sub2': 77.0, 'sub3': 81.5},\n",
              " 102: {'sub1': 91.0, 'sub2': 85.5, 'sub3': 82.0}}"
            ]
          },
          "metadata": {},
          "execution_count": 42
        }
      ],
      "source": [
        "marks"
      ],
      "id": "c84592e0"
    },
    {
      "cell_type": "code",
      "execution_count": null,
      "metadata": {
        "id": "f1f36883"
      },
      "outputs": [],
      "source": [
        "d3 = {1:'one', 2.5:2, 'three':3}"
      ],
      "id": "f1f36883"
    },
    {
      "cell_type": "code",
      "execution_count": null,
      "metadata": {
        "id": "be443e4c",
        "colab": {
          "base_uri": "https://localhost:8080/"
        },
        "outputId": "4a7bffab-e1d6-4f5b-c21f-91cf7768c0e7"
      },
      "outputs": [
        {
          "output_type": "execute_result",
          "data": {
            "text/plain": [
              "{1: 'one', 2.5: 2, 'three': 3}"
            ]
          },
          "metadata": {},
          "execution_count": 44
        }
      ],
      "source": [
        "d3"
      ],
      "id": "be443e4c"
    },
    {
      "cell_type": "code",
      "execution_count": null,
      "metadata": {
        "id": "a6f05ae1",
        "colab": {
          "base_uri": "https://localhost:8080/"
        },
        "outputId": "35234f4a-692f-40e9-bbd2-4a408dac96d6"
      },
      "outputs": [
        {
          "output_type": "stream",
          "name": "stdout",
          "text": [
            "{101: {'sub1': 87.5, 'sub2': 77.0, 'sub3': 81.5}, 102: {'sub1': 91.0, 'sub2': 85.5, 'sub3': 82.0}}\n"
          ]
        }
      ],
      "source": [
        "print(marks)"
      ],
      "id": "a6f05ae1"
    },
    {
      "cell_type": "code",
      "execution_count": null,
      "metadata": {
        "id": "0c7a8846",
        "colab": {
          "base_uri": "https://localhost:8080/"
        },
        "outputId": "e0ac88e7-713a-4d24-831a-7162e20a790a"
      },
      "outputs": [
        {
          "output_type": "execute_result",
          "data": {
            "text/plain": [
              "{'roll': 101, 'name': 'John', 'percent': 87.5}"
            ]
          },
          "metadata": {},
          "execution_count": 46
        }
      ],
      "source": [
        "student1"
      ],
      "id": "0c7a8846"
    },
    {
      "cell_type": "code",
      "execution_count": null,
      "metadata": {
        "id": "f5d59817",
        "colab": {
          "base_uri": "https://localhost:8080/"
        },
        "outputId": "19174924-555b-4ebc-c39a-1da73990e6c9"
      },
      "outputs": [
        {
          "output_type": "error",
          "ename": "KeyError",
          "evalue": "ignored",
          "traceback": [
            "\u001b[0;31m---------------------------------------------------------------------------\u001b[0m",
            "\u001b[0;31mKeyError\u001b[0m                                  Traceback (most recent call last)",
            "\u001b[0;32m<ipython-input-47-b7dfd9a18f94>\u001b[0m in \u001b[0;36m<cell line: 1>\u001b[0;34m()\u001b[0m\n\u001b[0;32m----> 1\u001b[0;31m \u001b[0mstudent1\u001b[0m\u001b[0;34m[\u001b[0m\u001b[0;36m0\u001b[0m\u001b[0;34m]\u001b[0m\u001b[0;34m\u001b[0m\u001b[0;34m\u001b[0m\u001b[0m\n\u001b[0m",
            "\u001b[0;31mKeyError\u001b[0m: 0"
          ]
        }
      ],
      "source": [
        "student1[0]  # Indexing is not possible"
      ],
      "id": "f5d59817"
    },
    {
      "cell_type": "code",
      "execution_count": null,
      "metadata": {
        "id": "758a3565",
        "colab": {
          "base_uri": "https://localhost:8080/"
        },
        "outputId": "3f2000f5-50ac-48cc-df89-b7bf0922de59"
      },
      "outputs": [
        {
          "output_type": "execute_result",
          "data": {
            "text/plain": [
              "101"
            ]
          },
          "metadata": {},
          "execution_count": 48
        }
      ],
      "source": [
        "student1['roll'] # Similar like indexing we can call out by key "
      ],
      "id": "758a3565"
    },
    {
      "cell_type": "code",
      "execution_count": null,
      "metadata": {
        "id": "06f0205d",
        "colab": {
          "base_uri": "https://localhost:8080/"
        },
        "outputId": "e2fb3112-8a2b-473e-9a6b-04d4a7de5166"
      },
      "outputs": [
        {
          "output_type": "execute_result",
          "data": {
            "text/plain": [
              "'John'"
            ],
            "application/vnd.google.colaboratory.intrinsic+json": {
              "type": "string"
            }
          },
          "metadata": {},
          "execution_count": 49
        }
      ],
      "source": [
        "student1['name']"
      ],
      "id": "06f0205d"
    },
    {
      "cell_type": "code",
      "execution_count": null,
      "metadata": {
        "id": "db1ad461",
        "colab": {
          "base_uri": "https://localhost:8080/"
        },
        "outputId": "93fd7910-2d2e-4e42-814b-816d722389a6"
      },
      "outputs": [
        {
          "output_type": "error",
          "ename": "NameError",
          "evalue": "ignored",
          "traceback": [
            "\u001b[0;31m---------------------------------------------------------------------------\u001b[0m",
            "\u001b[0;31mNameError\u001b[0m                                 Traceback (most recent call last)",
            "\u001b[0;32m<ipython-input-50-8ddf4f27b464>\u001b[0m in \u001b[0;36m<cell line: 1>\u001b[0;34m()\u001b[0m\n\u001b[0;32m----> 1\u001b[0;31m \u001b[0mstudent1\u001b[0m\u001b[0;34m[\u001b[0m\u001b[0mroll\u001b[0m\u001b[0;34m]\u001b[0m\u001b[0;34m\u001b[0m\u001b[0;34m\u001b[0m\u001b[0m\n\u001b[0m",
            "\u001b[0;31mNameError\u001b[0m: name 'roll' is not defined"
          ]
        }
      ],
      "source": [
        "student1[roll]"
      ],
      "id": "db1ad461"
    },
    {
      "cell_type": "code",
      "execution_count": null,
      "metadata": {
        "id": "f0dbbb25",
        "colab": {
          "base_uri": "https://localhost:8080/"
        },
        "outputId": "240ddaf7-043b-4dfd-a231-f3122c63c0a7"
      },
      "outputs": [
        {
          "output_type": "execute_result",
          "data": {
            "text/plain": [
              "{101: {'sub1': 87.5, 'sub2': 77.0, 'sub3': 81.5},\n",
              " 102: {'sub1': 91.0, 'sub2': 85.5, 'sub3': 82.0}}"
            ]
          },
          "metadata": {},
          "execution_count": 51
        }
      ],
      "source": [
        "marks"
      ],
      "id": "f0dbbb25"
    },
    {
      "cell_type": "code",
      "execution_count": null,
      "metadata": {
        "id": "896af36b",
        "colab": {
          "base_uri": "https://localhost:8080/"
        },
        "outputId": "1bbebcb9-06f2-4b1b-90e5-8871c98de114"
      },
      "outputs": [
        {
          "output_type": "execute_result",
          "data": {
            "text/plain": [
              "{'sub1': 87.5, 'sub2': 77.0, 'sub3': 81.5}"
            ]
          },
          "metadata": {},
          "execution_count": 52
        }
      ],
      "source": [
        "marks[101]"
      ],
      "id": "896af36b"
    },
    {
      "cell_type": "code",
      "execution_count": null,
      "metadata": {
        "id": "fbcfa380",
        "colab": {
          "base_uri": "https://localhost:8080/"
        },
        "outputId": "a0b68540-d0b4-4ddb-de6f-5b5d35f95bde"
      },
      "outputs": [
        {
          "output_type": "execute_result",
          "data": {
            "text/plain": [
              "{'sub1': 91.0, 'sub2': 85.5, 'sub3': 82.0}"
            ]
          },
          "metadata": {},
          "execution_count": 53
        }
      ],
      "source": [
        "marks[102] # fetch the marks of sub2 of student id 102"
      ],
      "id": "fbcfa380"
    },
    {
      "cell_type": "code",
      "execution_count": null,
      "metadata": {
        "id": "bbe4e88d",
        "colab": {
          "base_uri": "https://localhost:8080/"
        },
        "outputId": "f9ff87b2-7cb1-4b22-8017-c21ad4171186"
      },
      "outputs": [
        {
          "output_type": "execute_result",
          "data": {
            "text/plain": [
              "85.5"
            ]
          },
          "metadata": {},
          "execution_count": 54
        }
      ],
      "source": [
        "marks[102]['sub2']"
      ],
      "id": "bbe4e88d"
    },
    {
      "cell_type": "code",
      "execution_count": null,
      "metadata": {
        "id": "a87865cf"
      },
      "outputs": [],
      "source": [
        "d3={1:[1,2,3]}"
      ],
      "id": "a87865cf"
    },
    {
      "cell_type": "code",
      "execution_count": null,
      "metadata": {
        "id": "5a249972",
        "colab": {
          "base_uri": "https://localhost:8080/"
        },
        "outputId": "3bf1c1f4-c32f-43d3-e138-c22f1f2b7948"
      },
      "outputs": [
        {
          "output_type": "execute_result",
          "data": {
            "text/plain": [
              "{1: [1, 2, 3]}"
            ]
          },
          "metadata": {},
          "execution_count": 56
        }
      ],
      "source": [
        "d3"
      ],
      "id": "5a249972"
    },
    {
      "cell_type": "code",
      "execution_count": null,
      "metadata": {
        "id": "edc781a0",
        "colab": {
          "base_uri": "https://localhost:8080/"
        },
        "outputId": "0d0a53b2-3d5b-4913-8a0f-57516335981b"
      },
      "outputs": [
        {
          "output_type": "execute_result",
          "data": {
            "text/plain": [
              "[1, 2, 3]"
            ]
          },
          "metadata": {},
          "execution_count": 57
        }
      ],
      "source": [
        "d3[1]"
      ],
      "id": "edc781a0"
    },
    {
      "cell_type": "code",
      "execution_count": null,
      "metadata": {
        "id": "0bc6501e",
        "colab": {
          "base_uri": "https://localhost:8080/"
        },
        "outputId": "73ceac6f-dad1-40ff-910d-5b9112c6cafa"
      },
      "outputs": [
        {
          "output_type": "execute_result",
          "data": {
            "text/plain": [
              "2"
            ]
          },
          "metadata": {},
          "execution_count": 58
        }
      ],
      "source": [
        "d3[1][1]"
      ],
      "id": "0bc6501e"
    },
    {
      "cell_type": "code",
      "execution_count": null,
      "metadata": {
        "id": "dcd7c1ea",
        "colab": {
          "base_uri": "https://localhost:8080/"
        },
        "outputId": "b4a52853-b590-4e79-f72c-6bd62eced7e6"
      },
      "outputs": [
        {
          "output_type": "error",
          "ename": "TypeError",
          "evalue": "ignored",
          "traceback": [
            "\u001b[0;31m---------------------------------------------------------------------------\u001b[0m",
            "\u001b[0;31mTypeError\u001b[0m                                 Traceback (most recent call last)",
            "\u001b[0;32m<ipython-input-59-802d8b5907b0>\u001b[0m in \u001b[0;36m<cell line: 1>\u001b[0;34m()\u001b[0m\n\u001b[0;32m----> 1\u001b[0;31m \u001b[0md4\u001b[0m \u001b[0;34m=\u001b[0m \u001b[0;34m{\u001b[0m\u001b[0;34m[\u001b[0m\u001b[0;36m1\u001b[0m\u001b[0;34m,\u001b[0m\u001b[0;36m2\u001b[0m\u001b[0;34m,\u001b[0m\u001b[0;36m3\u001b[0m\u001b[0;34m]\u001b[0m\u001b[0;34m:\u001b[0m\u001b[0;36m6\u001b[0m\u001b[0;34m,\u001b[0m \u001b[0;34m[\u001b[0m\u001b[0;36m10\u001b[0m\u001b[0;34m,\u001b[0m\u001b[0;36m20\u001b[0m\u001b[0;34m,\u001b[0m\u001b[0;36m30\u001b[0m\u001b[0;34m]\u001b[0m\u001b[0;34m:\u001b[0m\u001b[0;36m60\u001b[0m\u001b[0;34m,\u001b[0m \u001b[0;34m[\u001b[0m\u001b[0;36m100\u001b[0m\u001b[0;34m,\u001b[0m \u001b[0;34m-\u001b[0m\u001b[0;36m5\u001b[0m\u001b[0;34m]\u001b[0m\u001b[0;34m:\u001b[0m \u001b[0;36m95\u001b[0m\u001b[0;34m}\u001b[0m\u001b[0;34m\u001b[0m\u001b[0;34m\u001b[0m\u001b[0m\n\u001b[0m",
            "\u001b[0;31mTypeError\u001b[0m: unhashable type: 'list'"
          ]
        }
      ],
      "source": [
        "d4 = {[1,2,3]:6, [10,20,30]:60, [100, -5]: 95}  # IMP List as a key of a dict is not allowed"
      ],
      "id": "dcd7c1ea"
    },
    {
      "cell_type": "code",
      "execution_count": null,
      "metadata": {
        "id": "1706024f"
      },
      "outputs": [],
      "source": [
        "d4 = {(1,2,3):6, (10,20,30):60, (100, -5): 95} # IMP Triple as a key of a dict is allowed"
      ],
      "id": "1706024f"
    },
    {
      "cell_type": "code",
      "execution_count": null,
      "metadata": {
        "id": "2f518cd0",
        "colab": {
          "base_uri": "https://localhost:8080/"
        },
        "outputId": "aa5b29e3-0e17-4ca0-916a-937aefa5f035"
      },
      "outputs": [
        {
          "output_type": "execute_result",
          "data": {
            "text/plain": [
              "{(1, 2, 3): 6, (10, 20, 30): 60, (100, -5): 95}"
            ]
          },
          "metadata": {},
          "execution_count": 61
        }
      ],
      "source": [
        "d4"
      ],
      "id": "2f518cd0"
    },
    {
      "cell_type": "code",
      "execution_count": null,
      "metadata": {
        "id": "35b6f036",
        "colab": {
          "base_uri": "https://localhost:8080/"
        },
        "outputId": "af6e11bb-138b-4cbe-d140-1f23783547b7"
      },
      "outputs": [
        {
          "output_type": "error",
          "ename": "TypeError",
          "evalue": "ignored",
          "traceback": [
            "\u001b[0;31m---------------------------------------------------------------------------\u001b[0m",
            "\u001b[0;31mTypeError\u001b[0m                                 Traceback (most recent call last)",
            "\u001b[0;32m<ipython-input-62-76f75bb34cc1>\u001b[0m in \u001b[0;36m<cell line: 1>\u001b[0;34m()\u001b[0m\n\u001b[0;32m----> 1\u001b[0;31m \u001b[0md5\u001b[0m \u001b[0;34m=\u001b[0m \u001b[0;34m{\u001b[0m\u001b[0;34m{\u001b[0m\u001b[0;36m1\u001b[0m\u001b[0;34m,\u001b[0m\u001b[0;36m2\u001b[0m\u001b[0;34m,\u001b[0m\u001b[0;36m3\u001b[0m\u001b[0;34m}\u001b[0m\u001b[0;34m:\u001b[0m \u001b[0;36m6\u001b[0m\u001b[0;34m,\u001b[0m \u001b[0;34m{\u001b[0m\u001b[0;36m10\u001b[0m\u001b[0;34m,\u001b[0m \u001b[0;36m20\u001b[0m\u001b[0;34m}\u001b[0m\u001b[0;34m:\u001b[0m \u001b[0;36m30\u001b[0m\u001b[0;34m,\u001b[0m \u001b[0;34m{\u001b[0m\u001b[0;36m100\u001b[0m\u001b[0;34m,\u001b[0m \u001b[0;34m-\u001b[0m\u001b[0;36m5\u001b[0m\u001b[0;34m}\u001b[0m\u001b[0;34m:\u001b[0m \u001b[0;36m95\u001b[0m\u001b[0;34m}\u001b[0m\u001b[0;34m\u001b[0m\u001b[0;34m\u001b[0m\u001b[0m\n\u001b[0m",
            "\u001b[0;31mTypeError\u001b[0m: unhashable type: 'set'"
          ]
        }
      ],
      "source": [
        "d5 = {{1,2,3}: 6, {10, 20}: 30, {100, -5}: 95} # IMP Dic as a key of a dict is not allowed"
      ],
      "id": "35b6f036"
    },
    {
      "cell_type": "code",
      "execution_count": null,
      "metadata": {
        "id": "4a8f9c2b"
      },
      "outputs": [],
      "source": [
        "# Keys should only be immutable datatypes"
      ],
      "id": "4a8f9c2b"
    },
    {
      "cell_type": "code",
      "execution_count": null,
      "metadata": {
        "id": "7b76ce64"
      },
      "outputs": [],
      "source": [
        "# Mutable datatypes are not allowed as a key of a dictionary"
      ],
      "id": "7b76ce64"
    },
    {
      "cell_type": "code",
      "execution_count": null,
      "metadata": {
        "id": "ae9812fb",
        "colab": {
          "base_uri": "https://localhost:8080/"
        },
        "outputId": "70b4bc36-5890-434a-9531-595215b262b5"
      },
      "outputs": [
        {
          "output_type": "execute_result",
          "data": {
            "text/plain": [
              "{'roll': 101, 'name': 'John', 'percent': 87.5}"
            ]
          },
          "metadata": {},
          "execution_count": 63
        }
      ],
      "source": [
        "student1"
      ],
      "id": "ae9812fb"
    },
    {
      "cell_type": "code",
      "execution_count": null,
      "metadata": {
        "id": "0a610ba0",
        "colab": {
          "base_uri": "https://localhost:8080/"
        },
        "outputId": "08e1bd47-72b4-46b0-b1c9-2aa2d53b2c77"
      },
      "outputs": [
        {
          "output_type": "execute_result",
          "data": {
            "text/plain": [
              "87.5"
            ]
          },
          "metadata": {},
          "execution_count": 64
        }
      ],
      "source": [
        "student1['percent']"
      ],
      "id": "0a610ba0"
    },
    {
      "cell_type": "code",
      "execution_count": null,
      "metadata": {
        "id": "717bdf6d"
      },
      "outputs": [],
      "source": [
        "student1['percent'] = 88.5"
      ],
      "id": "717bdf6d"
    },
    {
      "cell_type": "code",
      "execution_count": null,
      "metadata": {
        "id": "3b200fac",
        "colab": {
          "base_uri": "https://localhost:8080/"
        },
        "outputId": "f9f623a1-a44b-43ab-a5b7-a55779dc5248"
      },
      "outputs": [
        {
          "output_type": "execute_result",
          "data": {
            "text/plain": [
              "{'roll': 101, 'name': 'John', 'percent': 88.5}"
            ]
          },
          "metadata": {},
          "execution_count": 66
        }
      ],
      "source": [
        "student1"
      ],
      "id": "3b200fac"
    },
    {
      "cell_type": "code",
      "execution_count": null,
      "metadata": {
        "id": "fa297b7c"
      },
      "outputs": [],
      "source": [
        "d6 = {1: 100, 1: 200}"
      ],
      "id": "fa297b7c"
    },
    {
      "cell_type": "code",
      "execution_count": null,
      "metadata": {
        "id": "32119757",
        "colab": {
          "base_uri": "https://localhost:8080/"
        },
        "outputId": "94a48a18-f5cd-4259-8b44-f0dad7c7f2ff"
      },
      "outputs": [
        {
          "output_type": "execute_result",
          "data": {
            "text/plain": [
              "{1: 200}"
            ]
          },
          "metadata": {},
          "execution_count": 68
        }
      ],
      "source": [
        "d6"
      ],
      "id": "32119757"
    },
    {
      "cell_type": "code",
      "execution_count": null,
      "metadata": {
        "id": "eb1fa56f"
      },
      "outputs": [],
      "source": [
        "student2 = {'roll': 102, 'name': 'Jill', 'sub1': 87.5, 'sub2': 87.5}"
      ],
      "id": "eb1fa56f"
    },
    {
      "cell_type": "code",
      "execution_count": null,
      "metadata": {
        "id": "2d94ac72",
        "colab": {
          "base_uri": "https://localhost:8080/"
        },
        "outputId": "937ad520-bd71-4e61-8aaa-266dc676ad3a"
      },
      "outputs": [
        {
          "output_type": "execute_result",
          "data": {
            "text/plain": [
              "{'roll': 102, 'name': 'Jill', 'sub1': 87.5, 'sub2': 87.5}"
            ]
          },
          "metadata": {},
          "execution_count": 70
        }
      ],
      "source": [
        "student2"
      ],
      "id": "2d94ac72"
    },
    {
      "cell_type": "code",
      "execution_count": null,
      "metadata": {
        "id": "8ebbad8f"
      },
      "outputs": [],
      "source": [
        "# Values can be any datatype"
      ],
      "id": "8ebbad8f"
    },
    {
      "cell_type": "markdown",
      "source": [
        "#### Mutability - ability to modify the object\n",
        "1. **Mutable** - can be modified - list, dict, set\n",
        "2. **Immutable** - cannot be modified - tuple, str, int, float, bool, complex"
      ],
      "metadata": {
        "id": "82be1dPQIQxr"
      },
      "id": "82be1dPQIQxr"
    },
    {
      "cell_type": "code",
      "execution_count": null,
      "metadata": {
        "id": "c8289367"
      },
      "outputs": [],
      "source": [
        "str1 = 'Python'"
      ],
      "id": "c8289367"
    },
    {
      "cell_type": "code",
      "execution_count": null,
      "metadata": {
        "id": "00d865f4",
        "colab": {
          "base_uri": "https://localhost:8080/"
        },
        "outputId": "fdbfaa6e-92a7-482a-eca3-482e08550e76"
      },
      "outputs": [
        {
          "output_type": "execute_result",
          "data": {
            "text/plain": [
              "'P'"
            ],
            "application/vnd.google.colaboratory.intrinsic+json": {
              "type": "string"
            }
          },
          "metadata": {},
          "execution_count": 72
        }
      ],
      "source": [
        "str1[0]"
      ],
      "id": "00d865f4"
    },
    {
      "cell_type": "code",
      "execution_count": null,
      "metadata": {
        "id": "84b2b519",
        "colab": {
          "base_uri": "https://localhost:8080/"
        },
        "outputId": "8e99ec25-b414-4ff0-d730-d8551e986572"
      },
      "outputs": [
        {
          "output_type": "error",
          "ename": "TypeError",
          "evalue": "ignored",
          "traceback": [
            "\u001b[0;31m---------------------------------------------------------------------------\u001b[0m",
            "\u001b[0;31mTypeError\u001b[0m                                 Traceback (most recent call last)",
            "\u001b[0;32m<ipython-input-73-0e468d095ef1>\u001b[0m in \u001b[0;36m<cell line: 1>\u001b[0;34m()\u001b[0m\n\u001b[0;32m----> 1\u001b[0;31m \u001b[0mstr1\u001b[0m\u001b[0;34m[\u001b[0m\u001b[0;36m0\u001b[0m\u001b[0;34m]\u001b[0m \u001b[0;34m=\u001b[0m \u001b[0;34m'Z'\u001b[0m\u001b[0;34m\u001b[0m\u001b[0;34m\u001b[0m\u001b[0m\n\u001b[0m",
            "\u001b[0;31mTypeError\u001b[0m: 'str' object does not support item assignment"
          ]
        }
      ],
      "source": [
        "str1[0] = 'Z'"
      ],
      "id": "84b2b519"
    },
    {
      "cell_type": "code",
      "execution_count": null,
      "metadata": {
        "id": "cf67b545"
      },
      "outputs": [],
      "source": [
        "num1 = 100"
      ],
      "id": "cf67b545"
    },
    {
      "cell_type": "code",
      "execution_count": null,
      "metadata": {
        "id": "98f87ab0",
        "colab": {
          "base_uri": "https://localhost:8080/"
        },
        "outputId": "c11d6253-80c0-44f6-b1e5-4a5f421cef8c"
      },
      "outputs": [
        {
          "output_type": "execute_result",
          "data": {
            "text/plain": [
              "100"
            ]
          },
          "metadata": {},
          "execution_count": 75
        }
      ],
      "source": [
        "num1"
      ],
      "id": "98f87ab0"
    },
    {
      "cell_type": "code",
      "execution_count": null,
      "metadata": {
        "id": "88589d30"
      },
      "outputs": [],
      "source": [
        "num1 = 200"
      ],
      "id": "88589d30"
    },
    {
      "cell_type": "code",
      "execution_count": null,
      "metadata": {
        "id": "8988f378",
        "colab": {
          "base_uri": "https://localhost:8080/"
        },
        "outputId": "231ea7b2-aa13-4e17-d7bb-153b4f784556"
      },
      "outputs": [
        {
          "output_type": "execute_result",
          "data": {
            "text/plain": [
              "200"
            ]
          },
          "metadata": {},
          "execution_count": 77
        }
      ],
      "source": [
        "num1"
      ],
      "id": "8988f378"
    },
    {
      "cell_type": "code",
      "execution_count": null,
      "metadata": {
        "id": "e4c82035",
        "colab": {
          "base_uri": "https://localhost:8080/"
        },
        "outputId": "49443358-b576-49ed-ca6a-19e902121e37"
      },
      "outputs": [
        {
          "output_type": "error",
          "ename": "TypeError",
          "evalue": "ignored",
          "traceback": [
            "\u001b[0;31m---------------------------------------------------------------------------\u001b[0m",
            "\u001b[0;31mTypeError\u001b[0m                                 Traceback (most recent call last)",
            "\u001b[0;32m<ipython-input-78-b6328418177d>\u001b[0m in \u001b[0;36m<cell line: 1>\u001b[0;34m()\u001b[0m\n\u001b[0;32m----> 1\u001b[0;31m \u001b[0mnum1\u001b[0m\u001b[0;34m[\u001b[0m\u001b[0;36m0\u001b[0m\u001b[0;34m]\u001b[0m\u001b[0;34m\u001b[0m\u001b[0;34m\u001b[0m\u001b[0m\n\u001b[0m",
            "\u001b[0;31mTypeError\u001b[0m: 'int' object is not subscriptable"
          ]
        }
      ],
      "source": [
        "num1[0]"
      ],
      "id": "e4c82035"
    },
    {
      "cell_type": "code",
      "execution_count": null,
      "metadata": {
        "id": "52cc313b",
        "colab": {
          "base_uri": "https://localhost:8080/"
        },
        "outputId": "477dd13f-e835-4e38-fb74-fea5b09b5efa"
      },
      "outputs": [
        {
          "output_type": "execute_result",
          "data": {
            "text/plain": [
              "{'roll': 101, 'name': 'John', 'percent': 88.5}"
            ]
          },
          "metadata": {},
          "execution_count": 79
        }
      ],
      "source": [
        "student1"
      ],
      "id": "52cc313b"
    },
    {
      "cell_type": "code",
      "execution_count": null,
      "metadata": {
        "id": "fbc9a43b",
        "colab": {
          "base_uri": "https://localhost:8080/"
        },
        "outputId": "e4400d9b-ecdc-42d1-aa0f-b4ab02ebf4ee"
      },
      "outputs": [
        {
          "output_type": "execute_result",
          "data": {
            "text/plain": [
              "[1, 2, 3, 4, 5]"
            ]
          },
          "metadata": {},
          "execution_count": 80
        }
      ],
      "source": [
        "l1"
      ],
      "id": "fbc9a43b"
    },
    {
      "cell_type": "code",
      "execution_count": null,
      "metadata": {
        "id": "9cb9f539",
        "colab": {
          "base_uri": "https://localhost:8080/"
        },
        "outputId": "e5edfa4f-1edc-486b-bf93-2d13696ff1a5"
      },
      "outputs": [
        {
          "output_type": "execute_result",
          "data": {
            "text/plain": [
              "1"
            ]
          },
          "metadata": {},
          "execution_count": 81
        }
      ],
      "source": [
        "l1[0]"
      ],
      "id": "9cb9f539"
    },
    {
      "cell_type": "code",
      "execution_count": null,
      "metadata": {
        "id": "8f56186b"
      },
      "outputs": [],
      "source": [
        "l1[0] = 100"
      ],
      "id": "8f56186b"
    },
    {
      "cell_type": "code",
      "execution_count": null,
      "metadata": {
        "id": "3c3630ac"
      },
      "outputs": [],
      "source": [
        "l1"
      ],
      "id": "3c3630ac"
    },
    {
      "cell_type": "code",
      "execution_count": null,
      "metadata": {
        "id": "dfd58884"
      },
      "outputs": [],
      "source": [
        "d5={(1,2,3):[0,7,6],2:'Two',3:'Three'}"
      ],
      "id": "dfd58884"
    },
    {
      "cell_type": "code",
      "execution_count": null,
      "metadata": {
        "id": "03618623",
        "colab": {
          "base_uri": "https://localhost:8080/"
        },
        "outputId": "d0490626-3ab5-434a-f0d1-4a7f532d8518"
      },
      "outputs": [
        {
          "output_type": "execute_result",
          "data": {
            "text/plain": [
              "{(1, 2, 3): [0, 7, 6], 2: 'Two', 3: 'Three'}"
            ]
          },
          "metadata": {},
          "execution_count": 85
        }
      ],
      "source": [
        "d5"
      ],
      "id": "03618623"
    },
    {
      "cell_type": "code",
      "execution_count": null,
      "metadata": {
        "id": "d4de78af",
        "colab": {
          "base_uri": "https://localhost:8080/"
        },
        "outputId": "30f2d30a-0050-4b5f-cd7b-1d86c6406922"
      },
      "outputs": [
        {
          "output_type": "execute_result",
          "data": {
            "text/plain": [
              "[0, 7, 6]"
            ]
          },
          "metadata": {},
          "execution_count": 86
        }
      ],
      "source": [
        "d5[(1,2,3)]"
      ],
      "id": "d4de78af"
    },
    {
      "cell_type": "code",
      "execution_count": null,
      "metadata": {
        "id": "54917232",
        "colab": {
          "base_uri": "https://localhost:8080/"
        },
        "outputId": "c7786f99-071a-449f-f2b1-f4d759731d0a"
      },
      "outputs": [
        {
          "output_type": "execute_result",
          "data": {
            "text/plain": [
              "7"
            ]
          },
          "metadata": {},
          "execution_count": 87
        }
      ],
      "source": [
        "d5[(1,2,3)][1]"
      ],
      "id": "54917232"
    },
    {
      "cell_type": "code",
      "execution_count": null,
      "metadata": {
        "id": "15f5cc91",
        "colab": {
          "base_uri": "https://localhost:8080/"
        },
        "outputId": "91a48a1a-b4b5-45f7-8d02-ccee81a8fec9"
      },
      "outputs": [
        {
          "output_type": "execute_result",
          "data": {
            "text/plain": [
              "{'roll': 101, 'name': 'John', 'percent': 88.5}"
            ]
          },
          "metadata": {},
          "execution_count": 88
        }
      ],
      "source": [
        "student1"
      ],
      "id": "15f5cc91"
    },
    {
      "cell_type": "code",
      "execution_count": null,
      "metadata": {
        "id": "0a31a46c"
      },
      "outputs": [],
      "source": [
        "# keys => 'roll', 'name', 'percent'\n",
        "# values => 101, 'John', 88.5"
      ],
      "id": "0a31a46c"
    },
    {
      "cell_type": "code",
      "execution_count": null,
      "metadata": {
        "id": "3ec3f7c2",
        "colab": {
          "base_uri": "https://localhost:8080/"
        },
        "outputId": "5fb48b1b-172c-45ea-a1b3-b9ee8b0f1379"
      },
      "outputs": [
        {
          "output_type": "execute_result",
          "data": {
            "text/plain": [
              "dict_keys(['roll', 'name', 'percent'])"
            ]
          },
          "metadata": {},
          "execution_count": 90
        }
      ],
      "source": [
        "student1.keys()"
      ],
      "id": "3ec3f7c2"
    },
    {
      "cell_type": "code",
      "execution_count": null,
      "metadata": {
        "id": "c8cab3a5"
      },
      "outputs": [],
      "source": [
        "k = student1.keys()"
      ],
      "id": "c8cab3a5"
    },
    {
      "cell_type": "code",
      "execution_count": null,
      "metadata": {
        "id": "aefccaaa",
        "colab": {
          "base_uri": "https://localhost:8080/"
        },
        "outputId": "d2162f41-ddf5-44d2-bfa6-81d9abf081a7"
      },
      "outputs": [
        {
          "output_type": "execute_result",
          "data": {
            "text/plain": [
              "dict_keys(['roll', 'name', 'percent'])"
            ]
          },
          "metadata": {},
          "execution_count": 92
        }
      ],
      "source": [
        "k"
      ],
      "id": "aefccaaa"
    },
    {
      "cell_type": "code",
      "execution_count": null,
      "metadata": {
        "id": "b40d462c",
        "colab": {
          "base_uri": "https://localhost:8080/"
        },
        "outputId": "1d15df91-3e67-4b73-949b-aac50020c961"
      },
      "outputs": [
        {
          "output_type": "execute_result",
          "data": {
            "text/plain": [
              "[100, 2, 3, 4, 5]"
            ]
          },
          "metadata": {},
          "execution_count": 93
        }
      ],
      "source": [
        "l1"
      ],
      "id": "b40d462c"
    },
    {
      "cell_type": "code",
      "execution_count": null,
      "metadata": {
        "id": "8dffa7fe",
        "colab": {
          "base_uri": "https://localhost:8080/"
        },
        "outputId": "36ab6ba5-fbca-4f8b-e135-f740e244377d"
      },
      "outputs": [
        {
          "output_type": "execute_result",
          "data": {
            "text/plain": [
              "dict_keys"
            ]
          },
          "metadata": {},
          "execution_count": 94
        }
      ],
      "source": [
        "type(k)"
      ],
      "id": "8dffa7fe"
    },
    {
      "cell_type": "code",
      "execution_count": null,
      "metadata": {
        "id": "11e19b3e",
        "colab": {
          "base_uri": "https://localhost:8080/"
        },
        "outputId": "a694ae50-fc7f-493f-aaa4-d25e358c4288"
      },
      "outputs": [
        {
          "output_type": "error",
          "ename": "TypeError",
          "evalue": "ignored",
          "traceback": [
            "\u001b[0;31m---------------------------------------------------------------------------\u001b[0m",
            "\u001b[0;31mTypeError\u001b[0m                                 Traceback (most recent call last)",
            "\u001b[0;32m<ipython-input-95-b4ab567bcd7d>\u001b[0m in \u001b[0;36m<cell line: 1>\u001b[0;34m()\u001b[0m\n\u001b[0;32m----> 1\u001b[0;31m \u001b[0mk\u001b[0m\u001b[0;34m[\u001b[0m\u001b[0;36m0\u001b[0m\u001b[0;34m]\u001b[0m\u001b[0;34m\u001b[0m\u001b[0;34m\u001b[0m\u001b[0m\n\u001b[0m",
            "\u001b[0;31mTypeError\u001b[0m: 'dict_keys' object is not subscriptable"
          ]
        }
      ],
      "source": [
        "k[0]"
      ],
      "id": "11e19b3e"
    },
    {
      "cell_type": "code",
      "execution_count": null,
      "metadata": {
        "id": "9934bff2",
        "colab": {
          "base_uri": "https://localhost:8080/"
        },
        "outputId": "21b4bed5-86ee-4a03-ac3f-6b7ac122a3f2"
      },
      "outputs": [
        {
          "output_type": "execute_result",
          "data": {
            "text/plain": [
              "['roll', 'name', 'percent']"
            ]
          },
          "metadata": {},
          "execution_count": 96
        }
      ],
      "source": [
        "list(k)"
      ],
      "id": "9934bff2"
    },
    {
      "cell_type": "code",
      "execution_count": null,
      "metadata": {
        "id": "52284676",
        "colab": {
          "base_uri": "https://localhost:8080/"
        },
        "outputId": "e2be25dd-6ad2-47a4-ffab-fa4199db52ab"
      },
      "outputs": [
        {
          "output_type": "execute_result",
          "data": {
            "text/plain": [
              "{1: 'one', 2: 'two'}"
            ]
          },
          "metadata": {},
          "execution_count": 97
        }
      ],
      "source": [
        "d2"
      ],
      "id": "52284676"
    },
    {
      "cell_type": "code",
      "execution_count": null,
      "metadata": {
        "id": "0d097b0e",
        "colab": {
          "base_uri": "https://localhost:8080/"
        },
        "outputId": "6c266619-2834-4dab-f239-1a5975f75bea"
      },
      "outputs": [
        {
          "output_type": "execute_result",
          "data": {
            "text/plain": [
              "dict_keys([1, 2])"
            ]
          },
          "metadata": {},
          "execution_count": 98
        }
      ],
      "source": [
        "d2.keys()"
      ],
      "id": "0d097b0e"
    },
    {
      "cell_type": "code",
      "execution_count": null,
      "metadata": {
        "id": "c52350fd"
      },
      "outputs": [],
      "source": [
        "k1 = list(d2.keys())"
      ],
      "id": "c52350fd"
    },
    {
      "cell_type": "code",
      "execution_count": null,
      "metadata": {
        "id": "05206739",
        "colab": {
          "base_uri": "https://localhost:8080/"
        },
        "outputId": "9cdd0c5a-2416-4248-a8b7-3ce327c5566c"
      },
      "outputs": [
        {
          "output_type": "execute_result",
          "data": {
            "text/plain": [
              "[1, 2]"
            ]
          },
          "metadata": {},
          "execution_count": 100
        }
      ],
      "source": [
        "k1"
      ],
      "id": "05206739"
    },
    {
      "cell_type": "code",
      "execution_count": null,
      "metadata": {
        "id": "5145916e",
        "colab": {
          "base_uri": "https://localhost:8080/"
        },
        "outputId": "986e21db-4401-4fa7-f951-5b5de601d8f5"
      },
      "outputs": [
        {
          "output_type": "execute_result",
          "data": {
            "text/plain": [
              "list"
            ]
          },
          "metadata": {},
          "execution_count": 101
        }
      ],
      "source": [
        "type(k1)"
      ],
      "id": "5145916e"
    },
    {
      "cell_type": "code",
      "execution_count": null,
      "metadata": {
        "id": "dedb0f34",
        "colab": {
          "base_uri": "https://localhost:8080/"
        },
        "outputId": "bceb61d7-9f2a-4e43-d2af-f5d7695f1d55"
      },
      "outputs": [
        {
          "output_type": "execute_result",
          "data": {
            "text/plain": [
              "{'roll': 101, 'name': 'John', 'percent': 88.5}"
            ]
          },
          "metadata": {},
          "execution_count": 102
        }
      ],
      "source": [
        "student1"
      ],
      "id": "dedb0f34"
    },
    {
      "cell_type": "code",
      "execution_count": null,
      "metadata": {
        "id": "20cbe300"
      },
      "outputs": [],
      "source": [
        "v = student1.values()"
      ],
      "id": "20cbe300"
    },
    {
      "cell_type": "code",
      "execution_count": null,
      "metadata": {
        "id": "07c95a30",
        "colab": {
          "base_uri": "https://localhost:8080/"
        },
        "outputId": "4abf11f3-9b4a-40b1-a87f-e5bc9107db83"
      },
      "outputs": [
        {
          "output_type": "execute_result",
          "data": {
            "text/plain": [
              "dict_values([101, 'John', 88.5])"
            ]
          },
          "metadata": {},
          "execution_count": 104
        }
      ],
      "source": [
        "v"
      ],
      "id": "07c95a30"
    },
    {
      "cell_type": "code",
      "execution_count": null,
      "metadata": {
        "id": "451cc6fb",
        "colab": {
          "base_uri": "https://localhost:8080/"
        },
        "outputId": "2157e95f-bbaa-4118-f667-72a32bb81032"
      },
      "outputs": [
        {
          "output_type": "execute_result",
          "data": {
            "text/plain": [
              "dict_values"
            ]
          },
          "metadata": {},
          "execution_count": 105
        }
      ],
      "source": [
        "type(v)"
      ],
      "id": "451cc6fb"
    },
    {
      "cell_type": "code",
      "execution_count": null,
      "metadata": {
        "id": "c694e0e3",
        "colab": {
          "base_uri": "https://localhost:8080/"
        },
        "outputId": "f2e6185f-e0d3-4d4e-9028-3ae62d1c5766"
      },
      "outputs": [
        {
          "output_type": "execute_result",
          "data": {
            "text/plain": [
              "[101, 'John', 88.5]"
            ]
          },
          "metadata": {},
          "execution_count": 106
        }
      ],
      "source": [
        "list(v)"
      ],
      "id": "c694e0e3"
    },
    {
      "cell_type": "code",
      "execution_count": null,
      "metadata": {
        "id": "bed824f8",
        "colab": {
          "base_uri": "https://localhost:8080/"
        },
        "outputId": "eca8df8d-e845-440d-d76a-8de98d382a1b"
      },
      "outputs": [
        {
          "output_type": "stream",
          "name": "stdout",
          "text": [
            "Help on class dict in module builtins:\n",
            "\n",
            "class dict(object)\n",
            " |  dict() -> new empty dictionary\n",
            " |  dict(mapping) -> new dictionary initialized from a mapping object's\n",
            " |      (key, value) pairs\n",
            " |  dict(iterable) -> new dictionary initialized as if via:\n",
            " |      d = {}\n",
            " |      for k, v in iterable:\n",
            " |          d[k] = v\n",
            " |  dict(**kwargs) -> new dictionary initialized with the name=value pairs\n",
            " |      in the keyword argument list.  For example:  dict(one=1, two=2)\n",
            " |  \n",
            " |  Built-in subclasses:\n",
            " |      StgDict\n",
            " |  \n",
            " |  Methods defined here:\n",
            " |  \n",
            " |  __contains__(self, key, /)\n",
            " |      True if the dictionary has the specified key, else False.\n",
            " |  \n",
            " |  __delitem__(self, key, /)\n",
            " |      Delete self[key].\n",
            " |  \n",
            " |  __eq__(self, value, /)\n",
            " |      Return self==value.\n",
            " |  \n",
            " |  __ge__(self, value, /)\n",
            " |      Return self>=value.\n",
            " |  \n",
            " |  __getattribute__(self, name, /)\n",
            " |      Return getattr(self, name).\n",
            " |  \n",
            " |  __getitem__(...)\n",
            " |      x.__getitem__(y) <==> x[y]\n",
            " |  \n",
            " |  __gt__(self, value, /)\n",
            " |      Return self>value.\n",
            " |  \n",
            " |  __init__(self, /, *args, **kwargs)\n",
            " |      Initialize self.  See help(type(self)) for accurate signature.\n",
            " |  \n",
            " |  __ior__(self, value, /)\n",
            " |      Return self|=value.\n",
            " |  \n",
            " |  __iter__(self, /)\n",
            " |      Implement iter(self).\n",
            " |  \n",
            " |  __le__(self, value, /)\n",
            " |      Return self<=value.\n",
            " |  \n",
            " |  __len__(self, /)\n",
            " |      Return len(self).\n",
            " |  \n",
            " |  __lt__(self, value, /)\n",
            " |      Return self<value.\n",
            " |  \n",
            " |  __ne__(self, value, /)\n",
            " |      Return self!=value.\n",
            " |  \n",
            " |  __or__(self, value, /)\n",
            " |      Return self|value.\n",
            " |  \n",
            " |  __repr__(self, /)\n",
            " |      Return repr(self).\n",
            " |  \n",
            " |  __reversed__(self, /)\n",
            " |      Return a reverse iterator over the dict keys.\n",
            " |  \n",
            " |  __ror__(self, value, /)\n",
            " |      Return value|self.\n",
            " |  \n",
            " |  __setitem__(self, key, value, /)\n",
            " |      Set self[key] to value.\n",
            " |  \n",
            " |  __sizeof__(...)\n",
            " |      D.__sizeof__() -> size of D in memory, in bytes\n",
            " |  \n",
            " |  clear(...)\n",
            " |      D.clear() -> None.  Remove all items from D.\n",
            " |  \n",
            " |  copy(...)\n",
            " |      D.copy() -> a shallow copy of D\n",
            " |  \n",
            " |  get(self, key, default=None, /)\n",
            " |      Return the value for key if key is in the dictionary, else default.\n",
            " |  \n",
            " |  items(...)\n",
            " |      D.items() -> a set-like object providing a view on D's items\n",
            " |  \n",
            " |  keys(...)\n",
            " |      D.keys() -> a set-like object providing a view on D's keys\n",
            " |  \n",
            " |  pop(...)\n",
            " |      D.pop(k[,d]) -> v, remove specified key and return the corresponding value.\n",
            " |      \n",
            " |      If the key is not found, return the default if given; otherwise,\n",
            " |      raise a KeyError.\n",
            " |  \n",
            " |  popitem(self, /)\n",
            " |      Remove and return a (key, value) pair as a 2-tuple.\n",
            " |      \n",
            " |      Pairs are returned in LIFO (last-in, first-out) order.\n",
            " |      Raises KeyError if the dict is empty.\n",
            " |  \n",
            " |  setdefault(self, key, default=None, /)\n",
            " |      Insert key with a value of default if key is not in the dictionary.\n",
            " |      \n",
            " |      Return the value for key if key is in the dictionary, else default.\n",
            " |  \n",
            " |  update(...)\n",
            " |      D.update([E, ]**F) -> None.  Update D from dict/iterable E and F.\n",
            " |      If E is present and has a .keys() method, then does:  for k in E: D[k] = E[k]\n",
            " |      If E is present and lacks a .keys() method, then does:  for k, v in E: D[k] = v\n",
            " |      In either case, this is followed by: for k in F:  D[k] = F[k]\n",
            " |  \n",
            " |  values(...)\n",
            " |      D.values() -> an object providing a view on D's values\n",
            " |  \n",
            " |  ----------------------------------------------------------------------\n",
            " |  Class methods defined here:\n",
            " |  \n",
            " |  __class_getitem__(...) from builtins.type\n",
            " |      See PEP 585\n",
            " |  \n",
            " |  fromkeys(iterable, value=None, /) from builtins.type\n",
            " |      Create a new dictionary with keys from iterable and values set to value.\n",
            " |  \n",
            " |  ----------------------------------------------------------------------\n",
            " |  Static methods defined here:\n",
            " |  \n",
            " |  __new__(*args, **kwargs) from builtins.type\n",
            " |      Create and return a new object.  See help(type) for accurate signature.\n",
            " |  \n",
            " |  ----------------------------------------------------------------------\n",
            " |  Data and other attributes defined here:\n",
            " |  \n",
            " |  __hash__ = None\n",
            "\n"
          ]
        }
      ],
      "source": [
        "help(dict)"
      ],
      "id": "bed824f8"
    },
    {
      "cell_type": "code",
      "execution_count": null,
      "metadata": {
        "id": "207086e2",
        "colab": {
          "base_uri": "https://localhost:8080/"
        },
        "outputId": "765d687d-b037-45be-ebfc-3442bf040d7e"
      },
      "outputs": [
        {
          "output_type": "stream",
          "name": "stdout",
          "text": [
            "Help on built-in function keys:\n",
            "\n",
            "keys(...) method of builtins.dict instance\n",
            "    D.keys() -> a set-like object providing a view on D's keys\n",
            "\n"
          ]
        }
      ],
      "source": [
        "help(student1.keys)"
      ],
      "id": "207086e2"
    },
    {
      "cell_type": "code",
      "execution_count": null,
      "metadata": {
        "id": "290c5024",
        "colab": {
          "base_uri": "https://localhost:8080/"
        },
        "outputId": "d054580c-72f7-46ef-868f-d6126b94cd49"
      },
      "outputs": [
        {
          "output_type": "error",
          "ename": "NameError",
          "evalue": "ignored",
          "traceback": [
            "\u001b[0;31m---------------------------------------------------------------------------\u001b[0m",
            "\u001b[0;31mNameError\u001b[0m                                 Traceback (most recent call last)",
            "\u001b[0;32m<ipython-input-109-64d78d21d367>\u001b[0m in \u001b[0;36m<cell line: 1>\u001b[0;34m()\u001b[0m\n\u001b[0;32m----> 1\u001b[0;31m \u001b[0mhelp\u001b[0m\u001b[0;34m(\u001b[0m\u001b[0mkeys\u001b[0m\u001b[0;34m)\u001b[0m\u001b[0;34m\u001b[0m\u001b[0;34m\u001b[0m\u001b[0m\n\u001b[0m",
            "\u001b[0;31mNameError\u001b[0m: name 'keys' is not defined"
          ]
        }
      ],
      "source": [
        "help(keys)"
      ],
      "id": "290c5024"
    },
    {
      "cell_type": "markdown",
      "source": [
        "#### Memory reusability/ Interning\n",
        "\n",
        "1. **Integers**: Python pre-loads a range of values **(-5 to 256)** in the memory. Anytime, we assign a value between this range, Python uses the pre-loaded value instead of creating a new object/value\n",
        "2. **float** : No memory reusability in floats\n",
        "3. **String**: Between 0-9, a-z, A-Z and _ with no spaces are considered "
      ],
      "metadata": {
        "id": "bdUrG1NJJXmU"
      },
      "id": "bdUrG1NJJXmU"
    },
    {
      "cell_type": "code",
      "execution_count": null,
      "metadata": {
        "id": "8aa9c3c3"
      },
      "outputs": [],
      "source": [
        "a = 1000"
      ],
      "id": "8aa9c3c3"
    },
    {
      "cell_type": "code",
      "execution_count": null,
      "metadata": {
        "id": "ee8676bd"
      },
      "outputs": [],
      "source": [
        "b = 1000"
      ],
      "id": "ee8676bd"
    },
    {
      "cell_type": "code",
      "execution_count": null,
      "metadata": {
        "id": "2fdeb6fc",
        "colab": {
          "base_uri": "https://localhost:8080/"
        },
        "outputId": "07519a6b-7322-4773-f5f1-e0a76d88ef86"
      },
      "outputs": [
        {
          "output_type": "execute_result",
          "data": {
            "text/plain": [
              "140548444054512"
            ]
          },
          "metadata": {},
          "execution_count": 112
        }
      ],
      "source": [
        "id(a)"
      ],
      "id": "2fdeb6fc"
    },
    {
      "cell_type": "code",
      "execution_count": null,
      "metadata": {
        "id": "355bb368",
        "colab": {
          "base_uri": "https://localhost:8080/"
        },
        "outputId": "f2a88fe7-055c-4ca6-ed9e-03beea06f700"
      },
      "outputs": [
        {
          "output_type": "execute_result",
          "data": {
            "text/plain": [
              "140548444056144"
            ]
          },
          "metadata": {},
          "execution_count": 113
        }
      ],
      "source": [
        "id(b)"
      ],
      "id": "355bb368"
    },
    {
      "cell_type": "code",
      "execution_count": null,
      "metadata": {
        "id": "c4f3a4c0"
      },
      "outputs": [],
      "source": [
        "x= 100"
      ],
      "id": "c4f3a4c0"
    },
    {
      "cell_type": "code",
      "execution_count": null,
      "metadata": {
        "id": "eb65f54c"
      },
      "outputs": [],
      "source": [
        "y = 100"
      ],
      "id": "eb65f54c"
    },
    {
      "cell_type": "code",
      "execution_count": null,
      "metadata": {
        "id": "ea481a38",
        "colab": {
          "base_uri": "https://localhost:8080/"
        },
        "outputId": "d3320158-9b69-4bcc-e9ed-b391141c33a8"
      },
      "outputs": [
        {
          "output_type": "execute_result",
          "data": {
            "text/plain": [
              "140548884876624"
            ]
          },
          "metadata": {},
          "execution_count": 116
        }
      ],
      "source": [
        "id(x)"
      ],
      "id": "ea481a38"
    },
    {
      "cell_type": "code",
      "execution_count": null,
      "metadata": {
        "id": "763fdea4",
        "colab": {
          "base_uri": "https://localhost:8080/"
        },
        "outputId": "c1e95e40-8adb-4bb8-94c9-49904d3dd477"
      },
      "outputs": [
        {
          "output_type": "execute_result",
          "data": {
            "text/plain": [
              "140548884876624"
            ]
          },
          "metadata": {},
          "execution_count": 117
        }
      ],
      "source": [
        "id(y)"
      ],
      "id": "763fdea4"
    },
    {
      "cell_type": "code",
      "execution_count": null,
      "metadata": {
        "id": "28d16493"
      },
      "outputs": [],
      "source": [
        "num1 = -6"
      ],
      "id": "28d16493"
    },
    {
      "cell_type": "code",
      "execution_count": null,
      "metadata": {
        "id": "f7d89ef8"
      },
      "outputs": [],
      "source": [
        "num2 = -6"
      ],
      "id": "f7d89ef8"
    },
    {
      "cell_type": "code",
      "execution_count": null,
      "metadata": {
        "id": "d4a382ed",
        "colab": {
          "base_uri": "https://localhost:8080/"
        },
        "outputId": "cd8210ba-2603-4f62-996a-b530c985b892"
      },
      "outputs": [
        {
          "output_type": "execute_result",
          "data": {
            "text/plain": [
              "140548444056624"
            ]
          },
          "metadata": {},
          "execution_count": 120
        }
      ],
      "source": [
        "id(num1)"
      ],
      "id": "d4a382ed"
    },
    {
      "cell_type": "code",
      "execution_count": null,
      "metadata": {
        "id": "c2a28265",
        "colab": {
          "base_uri": "https://localhost:8080/"
        },
        "outputId": "e6361046-1be8-4090-9f95-c1112bd9e155"
      },
      "outputs": [
        {
          "output_type": "execute_result",
          "data": {
            "text/plain": [
              "140548444057168"
            ]
          },
          "metadata": {},
          "execution_count": 121
        }
      ],
      "source": [
        "id(num2)"
      ],
      "id": "c2a28265"
    },
    {
      "cell_type": "code",
      "execution_count": null,
      "metadata": {
        "id": "8f3b4cfe"
      },
      "outputs": [],
      "source": [
        "num1 = 10.0 # float - No memory reusability in floats\n",
        "num2 = 10.0"
      ],
      "id": "8f3b4cfe"
    },
    {
      "cell_type": "code",
      "execution_count": null,
      "metadata": {
        "id": "78d8ef8d",
        "colab": {
          "base_uri": "https://localhost:8080/"
        },
        "outputId": "4d9804f8-c600-4c7a-c52f-214b4cfbd309"
      },
      "outputs": [
        {
          "output_type": "execute_result",
          "data": {
            "text/plain": [
              "140548444057104"
            ]
          },
          "metadata": {},
          "execution_count": 123
        }
      ],
      "source": [
        "id(num1)"
      ],
      "id": "78d8ef8d"
    },
    {
      "cell_type": "code",
      "execution_count": null,
      "metadata": {
        "id": "6c954246",
        "colab": {
          "base_uri": "https://localhost:8080/"
        },
        "outputId": "bccab2ef-24af-421e-b981-e358173eb67d"
      },
      "outputs": [
        {
          "output_type": "execute_result",
          "data": {
            "text/plain": [
              "140548444055952"
            ]
          },
          "metadata": {},
          "execution_count": 124
        }
      ],
      "source": [
        "id(num2)"
      ],
      "id": "6c954246"
    },
    {
      "cell_type": "code",
      "execution_count": null,
      "metadata": {
        "id": "abee9a4b"
      },
      "outputs": [],
      "source": [
        "s1 = \"Hello World\"  #For string between 0-9, a-z, A-Z and _ with no spaces are considered \n",
        "s2 = \"Hello World\""
      ],
      "id": "abee9a4b"
    },
    {
      "cell_type": "code",
      "execution_count": null,
      "metadata": {
        "id": "f92949c3",
        "colab": {
          "base_uri": "https://localhost:8080/"
        },
        "outputId": "154eaf34-eca7-4682-8010-1f93cbc93974"
      },
      "outputs": [
        {
          "output_type": "stream",
          "name": "stdout",
          "text": [
            "140548443987952\n",
            "140548444104944\n"
          ]
        }
      ],
      "source": [
        "print(id(s1))\n",
        "print(id(s2))"
      ],
      "id": "f92949c3"
    },
    {
      "cell_type": "code",
      "execution_count": null,
      "metadata": {
        "id": "92dcee46",
        "colab": {
          "base_uri": "https://localhost:8080/"
        },
        "outputId": "49e7782e-b7de-4718-bc6e-766a4c248790"
      },
      "outputs": [
        {
          "output_type": "stream",
          "name": "stdout",
          "text": [
            "140548884837488\n",
            "140548884837488\n"
          ]
        }
      ],
      "source": [
        "s1 = \"Python\"\n",
        "s2 = \"Python\"\n",
        "\n",
        "print(id(s1))\n",
        "print(id(s2))"
      ],
      "id": "92dcee46"
    },
    {
      "cell_type": "code",
      "execution_count": null,
      "metadata": {
        "id": "71a78d95",
        "colab": {
          "base_uri": "https://localhost:8080/"
        },
        "outputId": "4ec590fc-a9e8-4632-93f6-f0c77530f596"
      },
      "outputs": [
        {
          "output_type": "stream",
          "name": "stdout",
          "text": [
            "140548443888352\n",
            "140548443888352\n"
          ]
        }
      ],
      "source": [
        "s1 = \"jhygjgcjhvgbfhjvfjhvfjhvbgfhjvjhfbjhfbvjhfbvjhfvb\"\n",
        "s2 = \"jhygjgcjhvgbfhjvfjhvfjhvbgfhjvjhfbjhfbvjhfbvjhfvb\"\n",
        "\n",
        "print(id(s1))\n",
        "print(id(s2))"
      ],
      "id": "71a78d95"
    },
    {
      "cell_type": "code",
      "execution_count": null,
      "metadata": {
        "id": "ae3d2b4f",
        "colab": {
          "base_uri": "https://localhost:8080/"
        },
        "outputId": "93b591a7-5cf5-42c9-aaf6-091b415b273b"
      },
      "outputs": [
        {
          "output_type": "stream",
          "name": "stdout",
          "text": [
            "140548444183664\n",
            "140548444182064\n"
          ]
        }
      ],
      "source": [
        "s1 = \"Hello World\"\n",
        "s2 = \"Hello World\"\n",
        "\n",
        "print(id(s1))\n",
        "print(id(s2))"
      ],
      "id": "ae3d2b4f"
    },
    {
      "cell_type": "code",
      "execution_count": null,
      "metadata": {
        "id": "357476a8",
        "colab": {
          "base_uri": "https://localhost:8080/"
        },
        "outputId": "e6bddfbe-43ac-49df-aac8-3671d1a6f89d"
      },
      "outputs": [
        {
          "output_type": "stream",
          "name": "stdout",
          "text": [
            "140548444085232\n",
            "140548444085232\n"
          ]
        }
      ],
      "source": [
        "s1 = \"Hello_World\"\n",
        "s2 = \"Hello_World\"\n",
        "\n",
        "print(id(s1))\n",
        "print(id(s2))"
      ],
      "id": "357476a8"
    },
    {
      "cell_type": "code",
      "execution_count": null,
      "metadata": {
        "id": "f5c872e0",
        "colab": {
          "base_uri": "https://localhost:8080/"
        },
        "outputId": "2770a958-c782-4f7e-c728-4f4398a4316e"
      },
      "outputs": [
        {
          "output_type": "stream",
          "name": "stdout",
          "text": [
            "140548444185520\n",
            "140548444187696\n"
          ]
        }
      ],
      "source": [
        "s1 = \"Hello-World\"\n",
        "s2 = \"Hello-World\"\n",
        "\n",
        "print(id(s1))\n",
        "print(id(s2))"
      ],
      "id": "f5c872e0"
    }
  ],
  "metadata": {
    "colab": {
      "provenance": [],
      "collapsed_sections": [
        "XmTY_qrWVli7",
        "ZwE9ghmfVrX7",
        "-YToXwKtVw2n",
        "8n05zVhMWDir",
        "AhQW-OCGWJ0-",
        "AjYI0s_IWQI1",
        "b88e-uFuW1Uw",
        "hHU0yrHhZjRQ",
        "FgFNSlgtKCJz",
        "zMYA-LdsK69m",
        "hVNdLYcpONeB",
        "WeKTEnT1SxtP",
        "Dc9OHaWuFVGO",
        "TkmWwjyKGC70",
        "82be1dPQIQxr",
        "bdUrG1NJJXmU"
      ],
      "include_colab_link": true
    },
    "kernelspec": {
      "display_name": "Python 3 (ipykernel)",
      "language": "python",
      "name": "python3"
    },
    "language_info": {
      "codemirror_mode": {
        "name": "ipython",
        "version": 3
      },
      "file_extension": ".py",
      "mimetype": "text/x-python",
      "name": "python",
      "nbconvert_exporter": "python",
      "pygments_lexer": "ipython3",
      "version": "3.9.7"
    }
  },
  "nbformat": 4,
  "nbformat_minor": 5
}