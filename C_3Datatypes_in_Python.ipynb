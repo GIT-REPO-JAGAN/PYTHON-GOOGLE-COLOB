{
  "cells": [
    {
      "cell_type": "markdown",
      "metadata": {
        "id": "view-in-github",
        "colab_type": "text"
      },
      "source": [
        "<a href=\"https://colab.research.google.com/github/GIT-REPO-JAGAN/PYTHON-GOOGLE-COLOB/blob/main/C_3Datatypes_in_Python.ipynb\" target=\"_parent\"><img src=\"https://colab.research.google.com/assets/colab-badge.svg\" alt=\"Open In Colab\"/></a>"
      ]
    },
    {
      "cell_type": "markdown",
      "id": "1bc0c116",
      "metadata": {
        "id": "1bc0c116"
      },
      "source": [
        "##Datatypes:\n",
        "1. Fundamental datatypes: Integer, Float, Boolean, Special, String, Complex\n",
        "2. Derived datatypes: List, Tuple, Dictionary, Set, Frozenset"
      ]
    },
    {
      "cell_type": "markdown",
      "source": [
        "##Integers"
      ],
      "metadata": {
        "id": "GV70QhcIMq9q"
      },
      "id": "GV70QhcIMq9q"
    },
    {
      "cell_type": "code",
      "execution_count": null,
      "id": "07564e28",
      "metadata": {
        "id": "07564e28"
      },
      "outputs": [],
      "source": [
        "num1 = 100"
      ]
    },
    {
      "cell_type": "code",
      "execution_count": null,
      "id": "4767649e",
      "metadata": {
        "id": "4767649e",
        "outputId": "8b69def2-f0b8-4d91-bf49-920b0725c5fb"
      },
      "outputs": [
        {
          "data": {
            "text/plain": [
              "int"
            ]
          },
          "execution_count": 3,
          "metadata": {},
          "output_type": "execute_result"
        }
      ],
      "source": [
        "type(num1)"
      ]
    },
    {
      "cell_type": "code",
      "execution_count": null,
      "id": "de5a0b43",
      "metadata": {
        "id": "de5a0b43",
        "outputId": "42093979-fcc8-48d9-ab54-5ff892efc9a3"
      },
      "outputs": [
        {
          "name": "stdout",
          "output_type": "stream",
          "text": [
            "<class 'int'>\n"
          ]
        }
      ],
      "source": [
        "print(type(num1))"
      ]
    },
    {
      "cell_type": "code",
      "execution_count": null,
      "id": "7b253585",
      "metadata": {
        "id": "7b253585"
      },
      "outputs": [],
      "source": [
        "a= 10\n",
        "b = 20\n",
        "c = 30"
      ]
    },
    {
      "cell_type": "code",
      "execution_count": null,
      "id": "ae9c2e56",
      "metadata": {
        "id": "ae9c2e56",
        "outputId": "b1c321bc-be1e-42f3-fa96-879bd5f1ae94"
      },
      "outputs": [
        {
          "data": {
            "text/plain": [
              "30"
            ]
          },
          "execution_count": 6,
          "metadata": {},
          "output_type": "execute_result"
        }
      ],
      "source": [
        "a\n",
        "b\n",
        "c"
      ]
    },
    {
      "cell_type": "code",
      "execution_count": null,
      "id": "d95938d7",
      "metadata": {
        "id": "d95938d7"
      },
      "outputs": [],
      "source": [
        "num2 = 0b1011"
      ]
    },
    {
      "cell_type": "code",
      "execution_count": null,
      "id": "f9567756",
      "metadata": {
        "id": "f9567756",
        "outputId": "021b9004-0c30-4320-cc71-13c5b482732c"
      },
      "outputs": [
        {
          "name": "stdout",
          "output_type": "stream",
          "text": [
            "11\n"
          ]
        }
      ],
      "source": [
        "print(num2)"
      ]
    },
    {
      "cell_type": "code",
      "execution_count": null,
      "id": "a99dd082",
      "metadata": {
        "id": "a99dd082",
        "outputId": "1a407a37-6f16-4c39-8e94-5455a79c658b"
      },
      "outputs": [
        {
          "data": {
            "text/plain": [
              "int"
            ]
          },
          "execution_count": 9,
          "metadata": {},
          "output_type": "execute_result"
        }
      ],
      "source": [
        "type(num2)"
      ]
    },
    {
      "cell_type": "code",
      "execution_count": null,
      "id": "65fbd2a3",
      "metadata": {
        "id": "65fbd2a3"
      },
      "outputs": [],
      "source": [
        "num3 = 0o30"
      ]
    },
    {
      "cell_type": "code",
      "execution_count": null,
      "id": "67727308",
      "metadata": {
        "id": "67727308",
        "outputId": "80c75134-d103-4312-f9e6-1488f4e88ad2"
      },
      "outputs": [
        {
          "data": {
            "text/plain": [
              "int"
            ]
          },
          "execution_count": 11,
          "metadata": {},
          "output_type": "execute_result"
        }
      ],
      "source": [
        "type(num3)"
      ]
    },
    {
      "cell_type": "code",
      "execution_count": null,
      "id": "d4cc2bb2",
      "metadata": {
        "id": "d4cc2bb2"
      },
      "outputs": [],
      "source": [
        "num4 = 0x2D"
      ]
    },
    {
      "cell_type": "code",
      "execution_count": null,
      "id": "461390cb",
      "metadata": {
        "id": "461390cb",
        "outputId": "37826f5d-527b-469f-ed93-79496e62815d"
      },
      "outputs": [
        {
          "data": {
            "text/plain": [
              "int"
            ]
          },
          "execution_count": 13,
          "metadata": {},
          "output_type": "execute_result"
        }
      ],
      "source": [
        "type(num4)"
      ]
    },
    {
      "cell_type": "code",
      "execution_count": null,
      "id": "516f0187",
      "metadata": {
        "id": "516f0187",
        "outputId": "8c472960-3bcf-46f6-ae17-d6e51c17694b"
      },
      "outputs": [
        {
          "data": {
            "text/plain": [
              "111"
            ]
          },
          "execution_count": 14,
          "metadata": {},
          "output_type": "execute_result"
        }
      ],
      "source": [
        "num1 + num2"
      ]
    },
    {
      "cell_type": "code",
      "execution_count": null,
      "id": "9f65ec1b",
      "metadata": {
        "id": "9f65ec1b",
        "outputId": "e9e5023c-86ee-4cbe-ff66-ef4bb3d8e32e"
      },
      "outputs": [
        {
          "data": {
            "text/plain": [
              "21"
            ]
          },
          "execution_count": 15,
          "metadata": {},
          "output_type": "execute_result"
        }
      ],
      "source": [
        "num4 - num3"
      ]
    },
    {
      "cell_type": "code",
      "execution_count": null,
      "id": "2e76d990",
      "metadata": {
        "id": "2e76d990",
        "outputId": "c6774e86-1c33-481f-8a43-9922d276cf31"
      },
      "outputs": [
        {
          "data": {
            "text/plain": [
              "45"
            ]
          },
          "execution_count": 16,
          "metadata": {},
          "output_type": "execute_result"
        }
      ],
      "source": [
        "num4"
      ]
    },
    {
      "cell_type": "code",
      "execution_count": null,
      "id": "fcfe9ae4",
      "metadata": {
        "id": "fcfe9ae4",
        "outputId": "b7dbe9b0-cad0-48dc-ad63-026178e7955a"
      },
      "outputs": [
        {
          "data": {
            "text/plain": [
              "24"
            ]
          },
          "execution_count": 17,
          "metadata": {},
          "output_type": "execute_result"
        }
      ],
      "source": [
        "num3"
      ]
    },
    {
      "cell_type": "markdown",
      "source": [
        "##Float - Fractional numbers / Decimals 18.56"
      ],
      "metadata": {
        "id": "I_fQH_IsMlEH"
      },
      "id": "I_fQH_IsMlEH"
    },
    {
      "cell_type": "code",
      "execution_count": null,
      "id": "7c9ada9d",
      "metadata": {
        "id": "7c9ada9d"
      },
      "outputs": [],
      "source": [
        "num5 = 19.56"
      ]
    },
    {
      "cell_type": "code",
      "execution_count": null,
      "id": "e1240fd1",
      "metadata": {
        "id": "e1240fd1",
        "outputId": "3cc1210a-c863-4dd1-a3e7-c8879224a0a0"
      },
      "outputs": [
        {
          "data": {
            "text/plain": [
              "float"
            ]
          },
          "execution_count": 20,
          "metadata": {},
          "output_type": "execute_result"
        }
      ],
      "source": [
        "type(num5)"
      ]
    },
    {
      "cell_type": "code",
      "execution_count": null,
      "id": "c6a63235",
      "metadata": {
        "id": "c6a63235",
        "outputId": "abbdea67-53cd-49e7-8220-ef85a41d9b7b"
      },
      "outputs": [
        {
          "data": {
            "text/plain": [
              "100"
            ]
          },
          "execution_count": 21,
          "metadata": {},
          "output_type": "execute_result"
        }
      ],
      "source": [
        "num1"
      ]
    },
    {
      "cell_type": "code",
      "execution_count": null,
      "id": "986360f1",
      "metadata": {
        "id": "986360f1",
        "outputId": "dbfb65d6-9265-404d-cf77-dbd1400d343a"
      },
      "outputs": [
        {
          "data": {
            "text/plain": [
              "19.56"
            ]
          },
          "execution_count": 22,
          "metadata": {},
          "output_type": "execute_result"
        }
      ],
      "source": [
        "num5"
      ]
    },
    {
      "cell_type": "code",
      "execution_count": null,
      "id": "b93e08a8",
      "metadata": {
        "id": "b93e08a8",
        "outputId": "0339688b-6270-4c4e-da94-cde93968599f"
      },
      "outputs": [
        {
          "data": {
            "text/plain": [
              "119.56"
            ]
          },
          "execution_count": 23,
          "metadata": {},
          "output_type": "execute_result"
        }
      ],
      "source": [
        "num1 + num5"
      ]
    },
    {
      "cell_type": "markdown",
      "source": [
        "##Complex - a + bj"
      ],
      "metadata": {
        "id": "qCq4CYehMfnq"
      },
      "id": "qCq4CYehMfnq"
    },
    {
      "cell_type": "code",
      "execution_count": null,
      "id": "db7f7631",
      "metadata": {
        "id": "db7f7631"
      },
      "outputs": [],
      "source": [
        "c1 = 5 + 3j"
      ]
    },
    {
      "cell_type": "code",
      "execution_count": null,
      "id": "92accbbc",
      "metadata": {
        "id": "92accbbc",
        "outputId": "54d1e4fd-f2b4-4523-a72d-123a980edd32"
      },
      "outputs": [
        {
          "data": {
            "text/plain": [
              "(5+3j)"
            ]
          },
          "execution_count": 26,
          "metadata": {},
          "output_type": "execute_result"
        }
      ],
      "source": [
        "c1"
      ]
    },
    {
      "cell_type": "code",
      "execution_count": null,
      "id": "59de86d6",
      "metadata": {
        "id": "59de86d6",
        "outputId": "0de38a2f-2639-4062-d840-a672be547566"
      },
      "outputs": [
        {
          "data": {
            "text/plain": [
              "complex"
            ]
          },
          "execution_count": 27,
          "metadata": {},
          "output_type": "execute_result"
        }
      ],
      "source": [
        "type(c1)"
      ]
    },
    {
      "cell_type": "code",
      "execution_count": null,
      "id": "6c4a1040",
      "metadata": {
        "id": "6c4a1040",
        "outputId": "a3b2d910-d7a9-4f6c-f3c6-c114c3dbc879"
      },
      "outputs": [
        {
          "data": {
            "text/plain": [
              "11"
            ]
          },
          "execution_count": 28,
          "metadata": {},
          "output_type": "execute_result"
        }
      ],
      "source": [
        "num2"
      ]
    },
    {
      "cell_type": "code",
      "execution_count": null,
      "id": "87045bb9",
      "metadata": {
        "id": "87045bb9",
        "outputId": "b77ae5f8-d9a1-459f-a3e0-c484fe42d513"
      },
      "outputs": [
        {
          "data": {
            "text/plain": [
              "(16+3j)"
            ]
          },
          "execution_count": 29,
          "metadata": {},
          "output_type": "execute_result"
        }
      ],
      "source": [
        "c1 + num2"
      ]
    },
    {
      "cell_type": "code",
      "execution_count": null,
      "id": "450ca0ed",
      "metadata": {
        "id": "450ca0ed",
        "outputId": "b96c52a9-2dd6-44e8-ea8e-1710711f75cf"
      },
      "outputs": [
        {
          "data": {
            "text/plain": [
              "(5+3j)"
            ]
          },
          "execution_count": 30,
          "metadata": {},
          "output_type": "execute_result"
        }
      ],
      "source": [
        "c1"
      ]
    },
    {
      "cell_type": "code",
      "execution_count": null,
      "id": "af950804",
      "metadata": {
        "id": "af950804",
        "outputId": "5d422701-9b80-4b3d-9fea-962a912ea720"
      },
      "outputs": [
        {
          "data": {
            "text/plain": [
              "(2.5+1.5j)"
            ]
          },
          "execution_count": 31,
          "metadata": {},
          "output_type": "execute_result"
        }
      ],
      "source": [
        "c1 / 2"
      ]
    },
    {
      "cell_type": "code",
      "execution_count": null,
      "id": "74a67bb5",
      "metadata": {
        "id": "74a67bb5"
      },
      "outputs": [],
      "source": [
        "c2 = 3 - 2j"
      ]
    },
    {
      "cell_type": "code",
      "execution_count": null,
      "id": "b2da1c90",
      "metadata": {
        "id": "b2da1c90",
        "outputId": "3c6c371e-1f91-415b-bf22-c40ed6136139"
      },
      "outputs": [
        {
          "data": {
            "text/plain": [
              "(5+3j)"
            ]
          },
          "execution_count": 33,
          "metadata": {},
          "output_type": "execute_result"
        }
      ],
      "source": [
        "c1"
      ]
    },
    {
      "cell_type": "code",
      "execution_count": null,
      "id": "ed6ec1a2",
      "metadata": {
        "id": "ed6ec1a2",
        "outputId": "6f31e71d-8235-4295-e1a9-f8e74996f806"
      },
      "outputs": [
        {
          "data": {
            "text/plain": [
              "(3-2j)"
            ]
          },
          "execution_count": 34,
          "metadata": {},
          "output_type": "execute_result"
        }
      ],
      "source": [
        "c2"
      ]
    },
    {
      "cell_type": "code",
      "execution_count": null,
      "id": "1f33b149",
      "metadata": {
        "id": "1f33b149",
        "outputId": "86be2157-9685-4306-a05b-d8e74f23491f"
      },
      "outputs": [
        {
          "data": {
            "text/plain": [
              "5.0"
            ]
          },
          "execution_count": 35,
          "metadata": {},
          "output_type": "execute_result"
        }
      ],
      "source": [
        "c1.real"
      ]
    },
    {
      "cell_type": "code",
      "execution_count": null,
      "id": "cb43bf04",
      "metadata": {
        "id": "cb43bf04",
        "outputId": "88757529-ec62-4420-a0a2-9b1c4b7e079e"
      },
      "outputs": [
        {
          "data": {
            "text/plain": [
              "3.0"
            ]
          },
          "execution_count": 36,
          "metadata": {},
          "output_type": "execute_result"
        }
      ],
      "source": [
        "c1.imag"
      ]
    },
    {
      "cell_type": "code",
      "execution_count": null,
      "id": "d794a43d",
      "metadata": {
        "id": "d794a43d",
        "outputId": "c7e0368d-1288-4158-de2f-1ab2ad47c45b"
      },
      "outputs": [
        {
          "data": {
            "text/plain": [
              "3.0"
            ]
          },
          "execution_count": 37,
          "metadata": {},
          "output_type": "execute_result"
        }
      ],
      "source": [
        "c2.real"
      ]
    },
    {
      "cell_type": "code",
      "execution_count": null,
      "id": "5779cfe0",
      "metadata": {
        "id": "5779cfe0",
        "outputId": "ae630c0e-2fcd-4662-c542-5b0f57bb5677"
      },
      "outputs": [
        {
          "data": {
            "text/plain": [
              "-2.0"
            ]
          },
          "execution_count": 38,
          "metadata": {},
          "output_type": "execute_result"
        }
      ],
      "source": [
        "c2.imag"
      ]
    },
    {
      "cell_type": "code",
      "execution_count": null,
      "id": "8862ca73",
      "metadata": {
        "id": "8862ca73",
        "outputId": "1b497414-8e48-498b-9602-e1e516500557"
      },
      "outputs": [
        {
          "data": {
            "text/plain": [
              "(5+3j)"
            ]
          },
          "execution_count": 39,
          "metadata": {},
          "output_type": "execute_result"
        }
      ],
      "source": [
        "c1"
      ]
    },
    {
      "cell_type": "code",
      "execution_count": null,
      "id": "3086e317",
      "metadata": {
        "id": "3086e317",
        "outputId": "990544c4-8a55-44b2-f2f3-7be1b4a8c6ee"
      },
      "outputs": [
        {
          "data": {
            "text/plain": [
              "(3-2j)"
            ]
          },
          "execution_count": 40,
          "metadata": {},
          "output_type": "execute_result"
        }
      ],
      "source": [
        "c2"
      ]
    },
    {
      "cell_type": "code",
      "execution_count": null,
      "id": "358c784f",
      "metadata": {
        "id": "358c784f",
        "outputId": "0e9a685e-f3d4-49f8-af16-3b8c298f90b2"
      },
      "outputs": [
        {
          "data": {
            "text/plain": [
              "(8+1j)"
            ]
          },
          "execution_count": 41,
          "metadata": {},
          "output_type": "execute_result"
        }
      ],
      "source": [
        "c1 + c2"
      ]
    },
    {
      "cell_type": "code",
      "execution_count": null,
      "id": "16e702ec",
      "metadata": {
        "id": "16e702ec",
        "outputId": "e59b16b7-e165-4bd8-8484-b588e49bb1a2"
      },
      "outputs": [
        {
          "data": {
            "text/plain": [
              "(2+5j)"
            ]
          },
          "execution_count": 42,
          "metadata": {},
          "output_type": "execute_result"
        }
      ],
      "source": [
        "c1 - c2"
      ]
    },
    {
      "cell_type": "code",
      "execution_count": null,
      "id": "11d80216",
      "metadata": {
        "id": "11d80216",
        "outputId": "45391a1f-0f48-4b9f-f1f8-a1800b785538"
      },
      "outputs": [
        {
          "data": {
            "text/plain": [
              "(21-1j)"
            ]
          },
          "execution_count": 43,
          "metadata": {},
          "output_type": "execute_result"
        }
      ],
      "source": [
        "c1 * c2"
      ]
    },
    {
      "cell_type": "code",
      "execution_count": null,
      "id": "03df78a6",
      "metadata": {
        "id": "03df78a6",
        "outputId": "e5954eac-f3c8-4f5d-eb82-cca12012a53c"
      },
      "outputs": [
        {
          "data": {
            "text/plain": [
              "(5+3j)"
            ]
          },
          "execution_count": 44,
          "metadata": {},
          "output_type": "execute_result"
        }
      ],
      "source": [
        "c1"
      ]
    },
    {
      "cell_type": "code",
      "execution_count": null,
      "id": "1b1a5c1b",
      "metadata": {
        "id": "1b1a5c1b",
        "outputId": "5143957d-24ce-474a-f36e-a0d147db7009"
      },
      "outputs": [
        {
          "data": {
            "text/plain": [
              "(3-2j)"
            ]
          },
          "execution_count": 45,
          "metadata": {},
          "output_type": "execute_result"
        }
      ],
      "source": [
        "c2"
      ]
    },
    {
      "cell_type": "code",
      "execution_count": null,
      "id": "4116c15e",
      "metadata": {
        "id": "4116c15e",
        "outputId": "f7e795c9-c694-47d1-c9ed-e0879178fbbe"
      },
      "outputs": [
        {
          "data": {
            "text/plain": [
              "(0.6923076923076924+1.4615384615384617j)"
            ]
          },
          "execution_count": 46,
          "metadata": {},
          "output_type": "execute_result"
        }
      ],
      "source": [
        "c1 / c2"
      ]
    },
    {
      "cell_type": "code",
      "execution_count": null,
      "id": "4252c7a8",
      "metadata": {
        "id": "4252c7a8",
        "outputId": "e449079b-c000-494c-d190-a85b8cc73ce6"
      },
      "outputs": [
        {
          "data": {
            "text/plain": [
              "(5+3j)"
            ]
          },
          "execution_count": 47,
          "metadata": {},
          "output_type": "execute_result"
        }
      ],
      "source": [
        "c1"
      ]
    },
    {
      "cell_type": "code",
      "execution_count": null,
      "id": "8602f9c5",
      "metadata": {
        "id": "8602f9c5",
        "outputId": "75e38b89-f2ea-46cc-c09c-c62007d19877"
      },
      "outputs": [
        {
          "data": {
            "text/plain": [
              "(5-3j)"
            ]
          },
          "execution_count": 48,
          "metadata": {},
          "output_type": "execute_result"
        }
      ],
      "source": [
        "c1.conjugate()"
      ]
    },
    {
      "cell_type": "code",
      "execution_count": null,
      "id": "56c77067",
      "metadata": {
        "id": "56c77067",
        "outputId": "40960376-3f95-4a24-d576-3639f734425f"
      },
      "outputs": [
        {
          "name": "stdout",
          "output_type": "stream",
          "text": [
            "Help on complex object:\n",
            "\n",
            "class complex(object)\n",
            " |  complex(real=0, imag=0)\n",
            " |  \n",
            " |  Create a complex number from a real part and an optional imaginary part.\n",
            " |  \n",
            " |  This is equivalent to (real + imag*1j) where imag defaults to 0.\n",
            " |  \n",
            " |  Methods defined here:\n",
            " |  \n",
            " |  __abs__(self, /)\n",
            " |      abs(self)\n",
            " |  \n",
            " |  __add__(self, value, /)\n",
            " |      Return self+value.\n",
            " |  \n",
            " |  __bool__(self, /)\n",
            " |      self != 0\n",
            " |  \n",
            " |  __divmod__(self, value, /)\n",
            " |      Return divmod(self, value).\n",
            " |  \n",
            " |  __eq__(self, value, /)\n",
            " |      Return self==value.\n",
            " |  \n",
            " |  __float__(self, /)\n",
            " |      float(self)\n",
            " |  \n",
            " |  __floordiv__(self, value, /)\n",
            " |      Return self//value.\n",
            " |  \n",
            " |  __format__(...)\n",
            " |      complex.__format__() -> str\n",
            " |      \n",
            " |      Convert to a string according to format_spec.\n",
            " |  \n",
            " |  __ge__(self, value, /)\n",
            " |      Return self>=value.\n",
            " |  \n",
            " |  __getattribute__(self, name, /)\n",
            " |      Return getattr(self, name).\n",
            " |  \n",
            " |  __getnewargs__(...)\n",
            " |  \n",
            " |  __gt__(self, value, /)\n",
            " |      Return self>value.\n",
            " |  \n",
            " |  __hash__(self, /)\n",
            " |      Return hash(self).\n",
            " |  \n",
            " |  __int__(self, /)\n",
            " |      int(self)\n",
            " |  \n",
            " |  __le__(self, value, /)\n",
            " |      Return self<=value.\n",
            " |  \n",
            " |  __lt__(self, value, /)\n",
            " |      Return self<value.\n",
            " |  \n",
            " |  __mod__(self, value, /)\n",
            " |      Return self%value.\n",
            " |  \n",
            " |  __mul__(self, value, /)\n",
            " |      Return self*value.\n",
            " |  \n",
            " |  __ne__(self, value, /)\n",
            " |      Return self!=value.\n",
            " |  \n",
            " |  __neg__(self, /)\n",
            " |      -self\n",
            " |  \n",
            " |  __pos__(self, /)\n",
            " |      +self\n",
            " |  \n",
            " |  __pow__(self, value, mod=None, /)\n",
            " |      Return pow(self, value, mod).\n",
            " |  \n",
            " |  __radd__(self, value, /)\n",
            " |      Return value+self.\n",
            " |  \n",
            " |  __rdivmod__(self, value, /)\n",
            " |      Return divmod(value, self).\n",
            " |  \n",
            " |  __repr__(self, /)\n",
            " |      Return repr(self).\n",
            " |  \n",
            " |  __rfloordiv__(self, value, /)\n",
            " |      Return value//self.\n",
            " |  \n",
            " |  __rmod__(self, value, /)\n",
            " |      Return value%self.\n",
            " |  \n",
            " |  __rmul__(self, value, /)\n",
            " |      Return value*self.\n",
            " |  \n",
            " |  __rpow__(self, value, mod=None, /)\n",
            " |      Return pow(value, self, mod).\n",
            " |  \n",
            " |  __rsub__(self, value, /)\n",
            " |      Return value-self.\n",
            " |  \n",
            " |  __rtruediv__(self, value, /)\n",
            " |      Return value/self.\n",
            " |  \n",
            " |  __sub__(self, value, /)\n",
            " |      Return self-value.\n",
            " |  \n",
            " |  __truediv__(self, value, /)\n",
            " |      Return self/value.\n",
            " |  \n",
            " |  conjugate(...)\n",
            " |      complex.conjugate() -> complex\n",
            " |      \n",
            " |      Return the complex conjugate of its argument. (3-4j).conjugate() == 3+4j.\n",
            " |  \n",
            " |  ----------------------------------------------------------------------\n",
            " |  Static methods defined here:\n",
            " |  \n",
            " |  __new__(*args, **kwargs) from builtins.type\n",
            " |      Create and return a new object.  See help(type) for accurate signature.\n",
            " |  \n",
            " |  ----------------------------------------------------------------------\n",
            " |  Data descriptors defined here:\n",
            " |  \n",
            " |  imag\n",
            " |      the imaginary part of a complex number\n",
            " |  \n",
            " |  real\n",
            " |      the real part of a complex number\n",
            "\n"
          ]
        }
      ],
      "source": [
        "help(c1)"
      ]
    },
    {
      "cell_type": "code",
      "execution_count": null,
      "id": "c61bb8dd",
      "metadata": {
        "id": "c61bb8dd",
        "outputId": "3f94bc44-7f2a-4717-a607-adcd03cdb073"
      },
      "outputs": [
        {
          "name": "stdout",
          "output_type": "stream",
          "text": [
            "Help on class complex in module builtins:\n",
            "\n",
            "class complex(object)\n",
            " |  complex(real=0, imag=0)\n",
            " |  \n",
            " |  Create a complex number from a real part and an optional imaginary part.\n",
            " |  \n",
            " |  This is equivalent to (real + imag*1j) where imag defaults to 0.\n",
            " |  \n",
            " |  Methods defined here:\n",
            " |  \n",
            " |  __abs__(self, /)\n",
            " |      abs(self)\n",
            " |  \n",
            " |  __add__(self, value, /)\n",
            " |      Return self+value.\n",
            " |  \n",
            " |  __bool__(self, /)\n",
            " |      self != 0\n",
            " |  \n",
            " |  __divmod__(self, value, /)\n",
            " |      Return divmod(self, value).\n",
            " |  \n",
            " |  __eq__(self, value, /)\n",
            " |      Return self==value.\n",
            " |  \n",
            " |  __float__(self, /)\n",
            " |      float(self)\n",
            " |  \n",
            " |  __floordiv__(self, value, /)\n",
            " |      Return self//value.\n",
            " |  \n",
            " |  __format__(...)\n",
            " |      complex.__format__() -> str\n",
            " |      \n",
            " |      Convert to a string according to format_spec.\n",
            " |  \n",
            " |  __ge__(self, value, /)\n",
            " |      Return self>=value.\n",
            " |  \n",
            " |  __getattribute__(self, name, /)\n",
            " |      Return getattr(self, name).\n",
            " |  \n",
            " |  __getnewargs__(...)\n",
            " |  \n",
            " |  __gt__(self, value, /)\n",
            " |      Return self>value.\n",
            " |  \n",
            " |  __hash__(self, /)\n",
            " |      Return hash(self).\n",
            " |  \n",
            " |  __int__(self, /)\n",
            " |      int(self)\n",
            " |  \n",
            " |  __le__(self, value, /)\n",
            " |      Return self<=value.\n",
            " |  \n",
            " |  __lt__(self, value, /)\n",
            " |      Return self<value.\n",
            " |  \n",
            " |  __mod__(self, value, /)\n",
            " |      Return self%value.\n",
            " |  \n",
            " |  __mul__(self, value, /)\n",
            " |      Return self*value.\n",
            " |  \n",
            " |  __ne__(self, value, /)\n",
            " |      Return self!=value.\n",
            " |  \n",
            " |  __neg__(self, /)\n",
            " |      -self\n",
            " |  \n",
            " |  __pos__(self, /)\n",
            " |      +self\n",
            " |  \n",
            " |  __pow__(self, value, mod=None, /)\n",
            " |      Return pow(self, value, mod).\n",
            " |  \n",
            " |  __radd__(self, value, /)\n",
            " |      Return value+self.\n",
            " |  \n",
            " |  __rdivmod__(self, value, /)\n",
            " |      Return divmod(value, self).\n",
            " |  \n",
            " |  __repr__(self, /)\n",
            " |      Return repr(self).\n",
            " |  \n",
            " |  __rfloordiv__(self, value, /)\n",
            " |      Return value//self.\n",
            " |  \n",
            " |  __rmod__(self, value, /)\n",
            " |      Return value%self.\n",
            " |  \n",
            " |  __rmul__(self, value, /)\n",
            " |      Return value*self.\n",
            " |  \n",
            " |  __rpow__(self, value, mod=None, /)\n",
            " |      Return pow(value, self, mod).\n",
            " |  \n",
            " |  __rsub__(self, value, /)\n",
            " |      Return value-self.\n",
            " |  \n",
            " |  __rtruediv__(self, value, /)\n",
            " |      Return value/self.\n",
            " |  \n",
            " |  __sub__(self, value, /)\n",
            " |      Return self-value.\n",
            " |  \n",
            " |  __truediv__(self, value, /)\n",
            " |      Return self/value.\n",
            " |  \n",
            " |  conjugate(...)\n",
            " |      complex.conjugate() -> complex\n",
            " |      \n",
            " |      Return the complex conjugate of its argument. (3-4j).conjugate() == 3+4j.\n",
            " |  \n",
            " |  ----------------------------------------------------------------------\n",
            " |  Static methods defined here:\n",
            " |  \n",
            " |  __new__(*args, **kwargs) from builtins.type\n",
            " |      Create and return a new object.  See help(type) for accurate signature.\n",
            " |  \n",
            " |  ----------------------------------------------------------------------\n",
            " |  Data descriptors defined here:\n",
            " |  \n",
            " |  imag\n",
            " |      the imaginary part of a complex number\n",
            " |  \n",
            " |  real\n",
            " |      the real part of a complex number\n",
            "\n"
          ]
        }
      ],
      "source": [
        "help(complex)"
      ]
    },
    {
      "cell_type": "code",
      "execution_count": null,
      "id": "3c6204cd",
      "metadata": {
        "id": "3c6204cd"
      },
      "outputs": [],
      "source": []
    },
    {
      "cell_type": "markdown",
      "source": [
        "##Boolean - True or False"
      ],
      "metadata": {
        "id": "vw7bqs9iMP-b"
      },
      "id": "vw7bqs9iMP-b"
    },
    {
      "cell_type": "code",
      "execution_count": null,
      "id": "fa26eaef",
      "metadata": {
        "id": "fa26eaef"
      },
      "outputs": [],
      "source": [
        "val1 = True"
      ]
    },
    {
      "cell_type": "code",
      "execution_count": null,
      "id": "a0205227",
      "metadata": {
        "id": "a0205227",
        "outputId": "0b40adee-ee40-4096-caab-cee8bbfe5df5"
      },
      "outputs": [
        {
          "data": {
            "text/plain": [
              "bool"
            ]
          },
          "execution_count": 53,
          "metadata": {},
          "output_type": "execute_result"
        }
      ],
      "source": [
        "type(val1)"
      ]
    },
    {
      "cell_type": "code",
      "execution_count": null,
      "id": "0932c382",
      "metadata": {
        "id": "0932c382"
      },
      "outputs": [],
      "source": [
        "val2 = False"
      ]
    },
    {
      "cell_type": "code",
      "execution_count": null,
      "id": "b1e66f2f",
      "metadata": {
        "id": "b1e66f2f",
        "outputId": "8511d9a8-7d1d-43ca-d285-c337419182e2"
      },
      "outputs": [
        {
          "data": {
            "text/plain": [
              "bool"
            ]
          },
          "execution_count": 55,
          "metadata": {},
          "output_type": "execute_result"
        }
      ],
      "source": [
        "type(val2)"
      ]
    },
    {
      "cell_type": "code",
      "execution_count": null,
      "id": "9dfcd635",
      "metadata": {
        "id": "9dfcd635",
        "outputId": "66bfbe80-050e-4470-c3df-205b71432687"
      },
      "outputs": [
        {
          "data": {
            "text/plain": [
              "True"
            ]
          },
          "execution_count": 56,
          "metadata": {},
          "output_type": "execute_result"
        }
      ],
      "source": [
        "10 > 9"
      ]
    },
    {
      "cell_type": "code",
      "execution_count": null,
      "id": "7eeecfcb",
      "metadata": {
        "id": "7eeecfcb",
        "outputId": "3bcd4dda-f3db-4141-a190-089ce7553955"
      },
      "outputs": [
        {
          "data": {
            "text/plain": [
              "False"
            ]
          },
          "execution_count": 57,
          "metadata": {},
          "output_type": "execute_result"
        }
      ],
      "source": [
        "10 > 19"
      ]
    },
    {
      "cell_type": "code",
      "execution_count": null,
      "id": "50cbb4da",
      "metadata": {
        "id": "50cbb4da",
        "outputId": "f77eba64-eaba-4667-9dfb-8ea86b6d7bf9"
      },
      "outputs": [
        {
          "name": "stdout",
          "output_type": "stream",
          "text": [
            "Negative\n"
          ]
        }
      ],
      "source": [
        "num = -10\n",
        "\n",
        "if num < 0:\n",
        "    print(\"Negative\")"
      ]
    },
    {
      "cell_type": "code",
      "execution_count": null,
      "id": "8af8b626",
      "metadata": {
        "id": "8af8b626"
      },
      "outputs": [],
      "source": [
        "num = 11\n",
        "\n",
        "if num < 0:\n",
        "    print(\"Negative\")"
      ]
    },
    {
      "cell_type": "code",
      "execution_count": null,
      "id": "c874cfed",
      "metadata": {
        "id": "c874cfed",
        "outputId": "83ad9821-ba52-4a59-a50d-5a84d2587cee"
      },
      "outputs": [
        {
          "name": "stdout",
          "output_type": "stream",
          "text": [
            "Positve\n"
          ]
        }
      ],
      "source": [
        "num = 11\n",
        "\n",
        "if num < 0:\n",
        "    print(\"Negative\")\n",
        "else:\n",
        "    print(\"Positve\")"
      ]
    },
    {
      "cell_type": "code",
      "execution_count": null,
      "id": "e6424f0c",
      "metadata": {
        "id": "e6424f0c"
      },
      "outputs": [],
      "source": []
    }
  ],
  "metadata": {
    "kernelspec": {
      "display_name": "Python 3 (ipykernel)",
      "language": "python",
      "name": "python3"
    },
    "language_info": {
      "codemirror_mode": {
        "name": "ipython",
        "version": 3
      },
      "file_extension": ".py",
      "mimetype": "text/x-python",
      "name": "python",
      "nbconvert_exporter": "python",
      "pygments_lexer": "ipython3",
      "version": "3.9.7"
    },
    "colab": {
      "provenance": [],
      "include_colab_link": true
    }
  },
  "nbformat": 4,
  "nbformat_minor": 5
}