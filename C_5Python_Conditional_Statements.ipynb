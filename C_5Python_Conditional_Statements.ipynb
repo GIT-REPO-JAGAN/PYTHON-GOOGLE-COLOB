{
  "cells": [
    {
      "cell_type": "markdown",
      "metadata": {
        "id": "view-in-github",
        "colab_type": "text"
      },
      "source": [
        "<a href=\"https://colab.research.google.com/github/GIT-REPO-JAGAN/PYTHON-GOOGLE-COLOB/blob/main/C_5Python_Conditional_Statements.ipynb\" target=\"_parent\"><img src=\"https://colab.research.google.com/assets/colab-badge.svg\" alt=\"Open In Colab\"/></a>"
      ]
    },
    {
      "cell_type": "markdown",
      "source": [
        "#### String"
      ],
      "metadata": {
        "id": "Bia4dPozqFzY"
      },
      "id": "Bia4dPozqFzY"
    },
    {
      "cell_type": "code",
      "execution_count": null,
      "id": "861ae95d",
      "metadata": {
        "id": "861ae95d",
        "outputId": "f2ea8072-d7c0-4c69-cfd7-4a050f529238",
        "colab": {
          "base_uri": "https://localhost:8080/"
        }
      },
      "outputs": [
        {
          "output_type": "stream",
          "name": "stdout",
          "text": [
            "John is 20 years old\n"
          ]
        }
      ],
      "source": [
        "name = \"John\"\n",
        "age = 20\n",
        "print(name, \"is\", age, \"years old\")"
      ]
    },
    {
      "cell_type": "code",
      "execution_count": null,
      "id": "95264f25",
      "metadata": {
        "id": "95264f25",
        "outputId": "7100a34b-9c78-4d56-ea8b-d96f11c2841d",
        "colab": {
          "base_uri": "https://localhost:8080/"
        }
      },
      "outputs": [
        {
          "output_type": "stream",
          "name": "stdout",
          "text": [
            "John\n"
          ]
        }
      ],
      "source": [
        "print(name)"
      ]
    },
    {
      "cell_type": "code",
      "execution_count": null,
      "id": "bf0945aa",
      "metadata": {
        "id": "bf0945aa",
        "outputId": "0e14214b-5c2f-4b69-afa7-cc41f775ca94"
      },
      "outputs": [
        {
          "name": "stdout",
          "output_type": "stream",
          "text": [
            "Help on built-in function print in module builtins:\n",
            "\n",
            "print(...)\n",
            "    print(value, ..., sep=' ', end='\\n', file=sys.stdout, flush=False)\n",
            "    \n",
            "    Prints the values to a stream, or to sys.stdout by default.\n",
            "    Optional keyword arguments:\n",
            "    file:  a file-like object (stream); defaults to the current sys.stdout.\n",
            "    sep:   string inserted between values, default a space.\n",
            "    end:   string appended after the last value, default a newline.\n",
            "    flush: whether to forcibly flush the stream.\n",
            "\n"
          ]
        }
      ],
      "source": [
        "help(print)"
      ]
    },
    {
      "cell_type": "code",
      "execution_count": null,
      "id": "711394c3",
      "metadata": {
        "id": "711394c3",
        "outputId": "5cc2a661-800f-42d2-cf77-00d68e355f5d",
        "colab": {
          "base_uri": "https://localhost:8080/"
        }
      },
      "outputs": [
        {
          "output_type": "stream",
          "name": "stdout",
          "text": [
            "10 20 30\n",
            "hi Hello\n"
          ]
        }
      ],
      "source": [
        "print(10, 20, 30)\n",
        "print(\"hi\", \"Hello\")"
      ]
    },
    {
      "cell_type": "code",
      "execution_count": null,
      "id": "07b843a0",
      "metadata": {
        "id": "07b843a0",
        "outputId": "a0b61f6c-c3a4-42a1-f7d2-962120eff124"
      },
      "outputs": [
        {
          "name": "stdout",
          "output_type": "stream",
          "text": [
            "10&20&30\n",
            "hi hello\n"
          ]
        }
      ],
      "source": [
        "print(10, 20, 30, sep='&')\n",
        "print(\"hi\", \"hello\")"
      ]
    },
    {
      "cell_type": "code",
      "execution_count": null,
      "id": "28256449",
      "metadata": {
        "id": "28256449",
        "outputId": "6e9fc76d-e990-43c2-f510-93503f879f05"
      },
      "outputs": [
        {
          "name": "stdout",
          "output_type": "stream",
          "text": [
            "10&20&30$hi#hello\n"
          ]
        }
      ],
      "source": [
        "print(10, 20, 30, sep='&', end=\"$\")\n",
        "print(\"hi\", \"hello\", sep=\"#\")"
      ]
    },
    {
      "cell_type": "code",
      "execution_count": null,
      "id": "63eed1df",
      "metadata": {
        "id": "63eed1df",
        "outputId": "740c3123-6ded-4e53-f2de-86e50ad970a7"
      },
      "outputs": [
        {
          "name": "stdout",
          "output_type": "stream",
          "text": [
            "John is 20 years old\n"
          ]
        }
      ],
      "source": [
        "print(name, \"is\", age, \"years old\")"
      ]
    },
    {
      "cell_type": "code",
      "execution_count": null,
      "id": "225fd18d",
      "metadata": {
        "id": "225fd18d"
      },
      "outputs": [],
      "source": [
        "# Take input from the user"
      ]
    },
    {
      "cell_type": "code",
      "source": [
        "name = input(\"Enter your name: \")"
      ],
      "metadata": {
        "colab": {
          "base_uri": "https://localhost:8080/"
        },
        "id": "Jb2gC2exuPAD",
        "outputId": "ca9fc5c8-eef7-47f2-f7ee-e19364154a6c"
      },
      "id": "Jb2gC2exuPAD",
      "execution_count": null,
      "outputs": [
        {
          "name": "stdout",
          "output_type": "stream",
          "text": [
            "Enter your name: jj\n"
          ]
        }
      ]
    },
    {
      "cell_type": "code",
      "source": [
        "age = input(\"Enter your age: \")"
      ],
      "metadata": {
        "colab": {
          "base_uri": "https://localhost:8080/"
        },
        "id": "4pSi6IyauUZt",
        "outputId": "282c83df-5e52-4aff-dbf4-94a06261d349"
      },
      "id": "4pSi6IyauUZt",
      "execution_count": null,
      "outputs": [
        {
          "name": "stdout",
          "output_type": "stream",
          "text": [
            "Enter your age: 10\n"
          ]
        }
      ]
    },
    {
      "cell_type": "code",
      "source": [
        "print(name)\n",
        "print(age)"
      ],
      "metadata": {
        "colab": {
          "base_uri": "https://localhost:8080/"
        },
        "id": "81KPv1HUufai",
        "outputId": "49d8f99a-4555-41d1-de86-58765d7af7f2"
      },
      "id": "81KPv1HUufai",
      "execution_count": null,
      "outputs": [
        {
          "output_type": "stream",
          "name": "stdout",
          "text": [
            "jj\n",
            "10\n"
          ]
        }
      ]
    },
    {
      "cell_type": "code",
      "source": [
        "print(type(name))\n",
        "print(type(age))"
      ],
      "metadata": {
        "colab": {
          "base_uri": "https://localhost:8080/"
        },
        "id": "5PI20TOQuzkk",
        "outputId": "a32cc224-d076-433f-bf53-3e51feb25b25"
      },
      "id": "5PI20TOQuzkk",
      "execution_count": null,
      "outputs": [
        {
          "output_type": "stream",
          "name": "stdout",
          "text": [
            "<class 'str'>\n",
            "<class 'str'>\n"
          ]
        }
      ]
    },
    {
      "cell_type": "code",
      "source": [
        "age = int(age)\n",
        "type(age)"
      ],
      "metadata": {
        "colab": {
          "base_uri": "https://localhost:8080/"
        },
        "id": "SMuci92bvD0m",
        "outputId": "6109e72a-c5a6-48e2-8bf8-f4d6cb186d83"
      },
      "id": "SMuci92bvD0m",
      "execution_count": null,
      "outputs": [
        {
          "output_type": "execute_result",
          "data": {
            "text/plain": [
              "int"
            ]
          },
          "metadata": {},
          "execution_count": 27
        }
      ]
    },
    {
      "cell_type": "code",
      "source": [
        "age = int(input(\"Enter your age: \"))\n",
        "print(type(age))\n",
        "print(age)"
      ],
      "metadata": {
        "colab": {
          "base_uri": "https://localhost:8080/"
        },
        "id": "rC5yNlqqvQZ5",
        "outputId": "ee1cb271-d3aa-4c33-b78b-e5750c9bab0b"
      },
      "id": "rC5yNlqqvQZ5",
      "execution_count": null,
      "outputs": [
        {
          "output_type": "stream",
          "name": "stdout",
          "text": [
            "Enter your age: 10\n",
            "<class 'int'>\n",
            "10\n"
          ]
        }
      ]
    },
    {
      "cell_type": "markdown",
      "source": [
        "#### F-String"
      ],
      "metadata": {
        "id": "rraKXksqrKUx"
      },
      "id": "rraKXksqrKUx"
    },
    {
      "cell_type": "code",
      "execution_count": null,
      "id": "ca749e7a",
      "metadata": {
        "id": "ca749e7a",
        "outputId": "a9c6c409-fa6c-401b-b9c6-9e7ad44160bd"
      },
      "outputs": [
        {
          "name": "stdout",
          "output_type": "stream",
          "text": [
            "John is 20 years old\n"
          ]
        }
      ],
      "source": [
        "print(f\"{name} is {age} years old\")"
      ]
    },
    {
      "cell_type": "code",
      "execution_count": null,
      "id": "c1ed2c9f",
      "metadata": {
        "id": "c1ed2c9f",
        "outputId": "982e60ee-f733-4ec9-fede-7e421f3470f0"
      },
      "outputs": [
        {
          "name": "stdout",
          "output_type": "stream",
          "text": [
            "Jill is 25 years old. Jill works for XYZ.\n"
          ]
        }
      ],
      "source": [
        "name = \"Jill\"\n",
        "age = 25\n",
        "company = \"XYZ\"\n",
        "\n",
        "print(f\"{name} is {age} years old. {name} works for {company}.\")"
      ]
    },
    {
      "cell_type": "code",
      "execution_count": null,
      "id": "f36ece9f",
      "metadata": {
        "id": "f36ece9f",
        "outputId": "205b6dcf-9be0-4057-9f70-1dc251de753c"
      },
      "outputs": [
        {
          "name": "stdout",
          "output_type": "stream",
          "text": [
            "Jill is 25 years old.\n",
            "Jill works for XYZ.\n"
          ]
        }
      ],
      "source": [
        "name = \"Jill\"\n",
        "age = 25\n",
        "company = \"XYZ\"\n",
        "\n",
        "print(f\"{name} is {age} years old.\\n{name} works for {company}.\")"
      ]
    },
    {
      "cell_type": "code",
      "execution_count": null,
      "id": "b8b293e3",
      "metadata": {
        "id": "b8b293e3",
        "outputId": "c20423c5-0d61-4a4c-d117-0adaf6d2a1c8"
      },
      "outputs": [
        {
          "name": "stdout",
          "output_type": "stream",
          "text": [
            "['a', 'b', 'c', 'd', 'e'] is [10, 20, 30, 40, 50] years old\n"
          ]
        }
      ],
      "source": [
        "name=['a','b','c','d','e']\n",
        "age=[10,20,30,40,50]\n",
        "\n",
        "print(f\"{name} is {age} years old\")"
      ]
    },
    {
      "cell_type": "code",
      "execution_count": null,
      "id": "1e8e0021",
      "metadata": {
        "id": "1e8e0021",
        "outputId": "24bc9b97-9b9d-47a6-c008-77d31f170f55"
      },
      "outputs": [
        {
          "name": "stdout",
          "output_type": "stream",
          "text": [
            "a is 10 years old\n"
          ]
        }
      ],
      "source": [
        "name=['a','b','c','d','e']\n",
        "age=[10,20,30,40,50]\n",
        "\n",
        "print(f\"{name[0]} is {age[0]} years old\")"
      ]
    },
    {
      "cell_type": "code",
      "execution_count": null,
      "id": "9697874e",
      "metadata": {
        "id": "9697874e"
      },
      "outputs": [],
      "source": []
    },
    {
      "cell_type": "markdown",
      "source": [
        "#### IF Statement\n",
        "\"\"\"if condition:\n",
        "*  statement1\n",
        "*  statement2\n",
        "*  ....\n",
        "*  statementN \"\"\""
      ],
      "metadata": {
        "id": "O0ARKb7BrUWK"
      },
      "id": "O0ARKb7BrUWK"
    },
    {
      "cell_type": "code",
      "source": [
        "num = -20\n",
        "\n",
        "if num < 0:\n",
        "    print(\"Number is negative\")\n",
        "    print(\"Bye\")\n",
        "print(\"Outside if block\")"
      ],
      "metadata": {
        "id": "KzZZXdrQpoPQ"
      },
      "id": "KzZZXdrQpoPQ",
      "execution_count": null,
      "outputs": []
    },
    {
      "cell_type": "code",
      "source": [
        "num = 20\n",
        "\n",
        "if num < 0:\n",
        "    print(\"Number is negative\")\n",
        "    print(\"Bye\")\n",
        "print(\"Outside if block\")"
      ],
      "metadata": {
        "id": "U_NAAVcApuAO"
      },
      "id": "U_NAAVcApuAO",
      "execution_count": null,
      "outputs": []
    },
    {
      "cell_type": "code",
      "source": [
        "num = 20\n",
        "\n",
        "if num < 0:\n",
        "    print(\"Number is negative\")\n",
        "    print(\"Bye\")\n",
        "    print(\"Outside if block\")"
      ],
      "metadata": {
        "id": "aSNIs6lupzYk"
      },
      "id": "aSNIs6lupzYk",
      "execution_count": null,
      "outputs": []
    },
    {
      "cell_type": "code",
      "source": [
        "num = 20\n",
        "\n",
        "if num < 0:\n",
        "    print(\"Negative\")\n",
        "else:\n",
        "    print(\"Positive\")"
      ],
      "metadata": {
        "id": "JskVf90mp6_U"
      },
      "id": "JskVf90mp6_U",
      "execution_count": null,
      "outputs": []
    },
    {
      "cell_type": "code",
      "execution_count": null,
      "id": "05479d01",
      "metadata": {
        "id": "05479d01",
        "outputId": "1bd4754b-d725-47b2-93fa-36cb4593b357"
      },
      "outputs": [
        {
          "name": "stdout",
          "output_type": "stream",
          "text": [
            "20 is positive\n"
          ]
        }
      ],
      "source": [
        "num = 20\n",
        "\n",
        "if num < 0:\n",
        "    print(f\"{num} is negative\")\n",
        "else:\n",
        "    print(f\"{num} is positive\")"
      ]
    },
    {
      "cell_type": "markdown",
      "source": [
        "#### ELIF \n",
        "* marks is greater or equal to 90, grade is 'A'\n",
        "* marks is greater or equal to 80 but less than 90, grade is 'B'\n",
        "* marks is greater or equal to 70 but less than 80, grade is 'C'\n",
        "* marks is greater or equal to 60 but less than 70, grade is 'D'\n",
        "* marks is less than 60, grade is 'F'"
      ],
      "metadata": {
        "id": "RJcM2XLwv4U8"
      },
      "id": "RJcM2XLwv4U8"
    },
    {
      "cell_type": "code",
      "execution_count": null,
      "id": "84bc876c",
      "metadata": {
        "id": "84bc876c",
        "outputId": "5247b8e6-6d6a-4db3-a31d-082292f81e6d"
      },
      "outputs": [
        {
          "name": "stdout",
          "output_type": "stream",
          "text": [
            "C\n"
          ]
        }
      ],
      "source": [
        "marks = 75\n",
        "\n",
        "if marks >= 90:\n",
        "    grade = 'A'\n",
        "elif marks >= 80 and marks < 90:\n",
        "    grade = 'B'\n",
        "elif marks >= 70 and marks < 80:\n",
        "    grade = 'C'\n",
        "elif marks >= 60 and marks < 70:\n",
        "    grade = 'D'\n",
        "else:\n",
        "    grade = 'F'\n",
        "    \n",
        "print(grade)"
      ]
    },
    {
      "cell_type": "code",
      "execution_count": null,
      "id": "fe08992c",
      "metadata": {
        "id": "fe08992c",
        "outputId": "3b4e646c-536c-44ab-c6a3-84e6ced1b60b"
      },
      "outputs": [
        {
          "name": "stdout",
          "output_type": "stream",
          "text": [
            "C\n"
          ]
        }
      ],
      "source": [
        "marks = 75\n",
        "\n",
        "if marks >= 90:\n",
        "    grade = 'A'\n",
        "elif marks >= 80:\n",
        "    grade = 'B'\n",
        "elif marks >= 70:\n",
        "    grade = 'C'\n",
        "elif marks >= 60:\n",
        "    grade = 'D'\n",
        "else:\n",
        "    grade = 'F'\n",
        "    \n",
        "print(grade)"
      ]
    },
    {
      "cell_type": "code",
      "execution_count": null,
      "id": "9022b929",
      "metadata": {
        "id": "9022b929",
        "outputId": "2e0059d5-bda4-4795-eeeb-252b5b502c93"
      },
      "outputs": [
        {
          "name": "stdout",
          "output_type": "stream",
          "text": [
            "D\n"
          ]
        }
      ],
      "source": [
        "marks = 75\n",
        "\n",
        "if marks >= 90:\n",
        "    grade = 'A'\n",
        "if marks >= 80:\n",
        "    grade = 'B'\n",
        "if marks >= 70:\n",
        "    grade = 'C'\n",
        "if marks >= 60:\n",
        "    grade = 'D'\n",
        "else:\n",
        "    grade = 'F'\n",
        "    \n",
        "print(grade)"
      ]
    },
    {
      "cell_type": "code",
      "execution_count": null,
      "id": "52242f32",
      "metadata": {
        "id": "52242f32",
        "outputId": "bc361fc5-259a-46a6-e310-db2fba03f954",
        "colab": {
          "base_uri": "https://localhost:8080/",
          "height": 252
        }
      },
      "outputs": [
        {
          "name": "stdout",
          "output_type": "stream",
          "text": [
            "Enter your marks: 100\n"
          ]
        },
        {
          "output_type": "error",
          "ename": "TypeError",
          "evalue": "ignored",
          "traceback": [
            "\u001b[0;31m---------------------------------------------------------------------------\u001b[0m",
            "\u001b[0;31mTypeError\u001b[0m                                 Traceback (most recent call last)",
            "\u001b[0;32m<ipython-input-31-766be0fe54e0>\u001b[0m in \u001b[0;36m<cell line: 3>\u001b[0;34m()\u001b[0m\n\u001b[1;32m      1\u001b[0m \u001b[0mmarks\u001b[0m \u001b[0;34m=\u001b[0m \u001b[0minput\u001b[0m\u001b[0;34m(\u001b[0m\u001b[0;34m\"Enter your marks: \"\u001b[0m\u001b[0;34m)\u001b[0m\u001b[0;34m\u001b[0m\u001b[0;34m\u001b[0m\u001b[0m\n\u001b[1;32m      2\u001b[0m \u001b[0;34m\u001b[0m\u001b[0m\n\u001b[0;32m----> 3\u001b[0;31m \u001b[0;32mif\u001b[0m \u001b[0mmarks\u001b[0m \u001b[0;34m>=\u001b[0m \u001b[0;36m90\u001b[0m\u001b[0;34m:\u001b[0m\u001b[0;34m\u001b[0m\u001b[0;34m\u001b[0m\u001b[0m\n\u001b[0m\u001b[1;32m      4\u001b[0m     \u001b[0mgrade\u001b[0m \u001b[0;34m=\u001b[0m \u001b[0;34m'A'\u001b[0m\u001b[0;34m\u001b[0m\u001b[0;34m\u001b[0m\u001b[0m\n\u001b[1;32m      5\u001b[0m \u001b[0;32mif\u001b[0m \u001b[0mmarks\u001b[0m \u001b[0;34m>=\u001b[0m \u001b[0;36m80\u001b[0m\u001b[0;34m:\u001b[0m\u001b[0;34m\u001b[0m\u001b[0;34m\u001b[0m\u001b[0m\n",
            "\u001b[0;31mTypeError\u001b[0m: '>=' not supported between instances of 'str' and 'int'"
          ]
        }
      ],
      "source": [
        "marks = input(\"Enter your marks: \")\n",
        "\n",
        "if marks >= 90:\n",
        "    grade = 'A'\n",
        "if marks >= 80:\n",
        "    grade = 'B'\n",
        "if marks >= 70:\n",
        "    grade = 'C'\n",
        "if marks >= 60:\n",
        "    grade = 'D'\n",
        "else:\n",
        "    grade = 'F'\n",
        "    \n",
        "print(grade)"
      ]
    },
    {
      "cell_type": "code",
      "execution_count": null,
      "id": "c62fac58",
      "metadata": {
        "id": "c62fac58",
        "outputId": "579ea68c-992f-4328-c5dd-9f431de42e1b"
      },
      "outputs": [
        {
          "name": "stdout",
          "output_type": "stream",
          "text": [
            "Enter your marks: 81\n",
            "D\n"
          ]
        }
      ],
      "source": [
        "marks = int(input(\"Enter your marks: \"))\n",
        "\n",
        "if marks >= 90:\n",
        "    grade = 'A'\n",
        "if marks >= 80:\n",
        "    grade = 'B'\n",
        "if marks >= 70:\n",
        "    grade = 'C'\n",
        "if marks >= 60:\n",
        "    grade = 'D'\n",
        "else:\n",
        "    grade = 'F'\n",
        "    \n",
        "print(grade)"
      ]
    },
    {
      "cell_type": "code",
      "execution_count": null,
      "id": "66349106",
      "metadata": {
        "id": "66349106",
        "outputId": "bb717b2f-cbae-4094-a62a-de6174fcde71"
      },
      "outputs": [
        {
          "name": "stdout",
          "output_type": "stream",
          "text": [
            "Enter your marks: 81\n",
            "B\n"
          ]
        }
      ],
      "source": [
        "marks = int(input(\"Enter your marks: \"))\n",
        "\n",
        "if marks >= 90:\n",
        "    grade = 'A'\n",
        "elif marks >= 80:\n",
        "    grade = 'B'\n",
        "elif marks >= 70:\n",
        "    grade = 'C'\n",
        "elif marks >= 60:\n",
        "    grade = 'D'\n",
        "else:\n",
        "    grade = 'F'\n",
        "    \n",
        "print(grade)"
      ]
    },
    {
      "cell_type": "code",
      "execution_count": null,
      "id": "82ae7b60",
      "metadata": {
        "id": "82ae7b60",
        "outputId": "a809b688-e006-4dd8-b160-aa1c9fb860f3"
      },
      "outputs": [
        {
          "name": "stdout",
          "output_type": "stream",
          "text": [
            "Enter your marks: 81.5\n"
          ]
        },
        {
          "ename": "ValueError",
          "evalue": "invalid literal for int() with base 10: '81.5'",
          "output_type": "error",
          "traceback": [
            "\u001b[1;31m---------------------------------------------------------------------------\u001b[0m",
            "\u001b[1;31mValueError\u001b[0m                                Traceback (most recent call last)",
            "\u001b[1;32m~\\AppData\\Local\\Temp/ipykernel_3380/3151246044.py\u001b[0m in \u001b[0;36m<module>\u001b[1;34m\u001b[0m\n\u001b[1;32m----> 1\u001b[1;33m \u001b[0mmarks\u001b[0m \u001b[1;33m=\u001b[0m \u001b[0mint\u001b[0m\u001b[1;33m(\u001b[0m\u001b[0minput\u001b[0m\u001b[1;33m(\u001b[0m\u001b[1;34m\"Enter your marks: \"\u001b[0m\u001b[1;33m)\u001b[0m\u001b[1;33m)\u001b[0m\u001b[1;33m\u001b[0m\u001b[1;33m\u001b[0m\u001b[0m\n\u001b[0m\u001b[0;32m      2\u001b[0m \u001b[1;33m\u001b[0m\u001b[0m\n\u001b[0;32m      3\u001b[0m \u001b[1;32mif\u001b[0m \u001b[0mmarks\u001b[0m \u001b[1;33m>=\u001b[0m \u001b[1;36m90\u001b[0m\u001b[1;33m:\u001b[0m\u001b[1;33m\u001b[0m\u001b[1;33m\u001b[0m\u001b[0m\n\u001b[0;32m      4\u001b[0m     \u001b[0mgrade\u001b[0m \u001b[1;33m=\u001b[0m \u001b[1;34m'A'\u001b[0m\u001b[1;33m\u001b[0m\u001b[1;33m\u001b[0m\u001b[0m\n\u001b[0;32m      5\u001b[0m \u001b[1;32melif\u001b[0m \u001b[0mmarks\u001b[0m \u001b[1;33m>=\u001b[0m \u001b[1;36m80\u001b[0m\u001b[1;33m:\u001b[0m\u001b[1;33m\u001b[0m\u001b[1;33m\u001b[0m\u001b[0m\n",
            "\u001b[1;31mValueError\u001b[0m: invalid literal for int() with base 10: '81.5'"
          ]
        }
      ],
      "source": [
        "marks = int(input(\"Enter your marks: \"))\n",
        "\n",
        "if marks >= 90:\n",
        "    grade = 'A'\n",
        "elif marks >= 80:\n",
        "    grade = 'B'\n",
        "elif marks >= 70:\n",
        "    grade = 'C'\n",
        "elif marks >= 60:\n",
        "    grade = 'D'\n",
        "else:\n",
        "    grade = 'F'\n",
        "    \n",
        "print(grade)"
      ]
    },
    {
      "cell_type": "code",
      "execution_count": null,
      "id": "f5b4d452",
      "metadata": {
        "id": "f5b4d452",
        "outputId": "7d2cafb8-2510-45b4-a6ed-5222e712ee82"
      },
      "outputs": [
        {
          "name": "stdout",
          "output_type": "stream",
          "text": [
            "Enter your marks: 81.5\n",
            "B\n"
          ]
        }
      ],
      "source": [
        "marks = float(input(\"Enter your marks: \"))\n",
        "\n",
        "if marks >= 90:\n",
        "    grade = 'A'\n",
        "elif marks >= 80:\n",
        "    grade = 'B'\n",
        "elif marks >= 70:\n",
        "    grade = 'C'\n",
        "elif marks >= 60:\n",
        "    grade = 'D'\n",
        "else:\n",
        "    grade = 'F'\n",
        "    \n",
        "print(grade)"
      ]
    },
    {
      "cell_type": "code",
      "execution_count": null,
      "id": "3910832b",
      "metadata": {
        "id": "3910832b",
        "outputId": "15c9969f-8506-4d7f-8330-f9bf2f54723b"
      },
      "outputs": [
        {
          "name": "stdout",
          "output_type": "stream",
          "text": [
            "Enter your marks: 91.5\n",
            "A\n"
          ]
        }
      ],
      "source": [
        "marks = float(input(\"Enter your marks: \"))\n",
        "\n",
        "if marks >= 90:\n",
        "    print('A')\n",
        "elif marks >= 80:\n",
        "    print('B')\n",
        "elif marks >= 70:\n",
        "    print('C')\n",
        "elif marks >= 60:\n",
        "    print('D')\n",
        "else:\n",
        "    print('F')"
      ]
    },
    {
      "cell_type": "code",
      "execution_count": null,
      "id": "6f0a731b",
      "metadata": {
        "id": "6f0a731b",
        "outputId": "30eae978-1212-464f-919e-1051dd4c3d2d"
      },
      "outputs": [
        {
          "name": "stdout",
          "output_type": "stream",
          "text": [
            "Enter your marks: 61.5\n",
            "Your grade is : D\n"
          ]
        }
      ],
      "source": [
        "marks = float(input(\"Enter your marks: \"))\n",
        "\n",
        "if marks >= 90:\n",
        "    grade = 'A'\n",
        "elif marks >= 80:\n",
        "    grade = 'B'\n",
        "elif marks >= 70:\n",
        "    grade = 'C'\n",
        "elif marks >= 60:\n",
        "    grade = 'D'\n",
        "else:\n",
        "    grade = 'F'\n",
        "    \n",
        "print(f\"Your grade is : {grade}\")"
      ]
    },
    {
      "cell_type": "code",
      "execution_count": null,
      "id": "0bf16677",
      "metadata": {
        "id": "0bf16677",
        "outputId": "07aad3f7-8150-4e51-c60e-1f76cc29c391"
      },
      "outputs": [
        {
          "name": "stdout",
          "output_type": "stream",
          "text": [
            "good\n"
          ]
        }
      ],
      "source": [
        "if (9 < 0) and (0 < -9): # False\n",
        "    print(\"hello\")\n",
        "elif (9 > 0) or False: # True\n",
        "    print(\"good\")\n",
        "else:\n",
        "    print(\"bad\")"
      ]
    },
    {
      "cell_type": "markdown",
      "source": [
        "#### Nested if"
      ],
      "metadata": {
        "id": "tPKq3quDwvNR"
      },
      "id": "tPKq3quDwvNR"
    },
    {
      "cell_type": "code",
      "execution_count": null,
      "id": "c0e83b73",
      "metadata": {
        "id": "c0e83b73",
        "outputId": "68bb38a0-1291-4e5e-e01c-95088e004922"
      },
      "outputs": [
        {
          "name": "stdout",
          "output_type": "stream",
          "text": [
            "Enter your marks: 110\n",
            "Marks should be less than or equal to 100\n"
          ]
        }
      ],
      "source": [
        "marks = int(input(\"Enter your marks: \"))\n",
        "\n",
        "if marks <= 100: # False\n",
        "    if marks >= 90:\n",
        "        grade = 'A'\n",
        "    elif marks >= 80:\n",
        "        grade = 'B'\n",
        "    elif marks >= 70:\n",
        "        grade = 'C'\n",
        "    elif marks >= 60:\n",
        "        grade = 'D'\n",
        "    else:\n",
        "        grade = 'F'\n",
        "        \n",
        "    print(grade)\n",
        "else:\n",
        "    print(\"Marks should be less than or equal to 100\")"
      ]
    },
    {
      "cell_type": "code",
      "execution_count": null,
      "id": "3ec58b5e",
      "metadata": {
        "id": "3ec58b5e",
        "outputId": "426a7295-b5c4-478e-ccaf-9c1ba194655e"
      },
      "outputs": [
        {
          "name": "stdout",
          "output_type": "stream",
          "text": [
            "Enter your marks: 73\n",
            "C\n"
          ]
        }
      ],
      "source": [
        "marks = int(input(\"Enter your marks: \"))\n",
        "\n",
        "if marks <= 100: # True\n",
        "    if marks >= 90:\n",
        "        grade = 'A'\n",
        "    elif marks >= 80:\n",
        "        grade = 'B'\n",
        "    elif marks >= 70:\n",
        "        grade = 'C'\n",
        "    elif marks >= 60:\n",
        "        grade = 'D'\n",
        "    else:\n",
        "        grade = 'F'\n",
        "        \n",
        "    print(grade)\n",
        "else:\n",
        "    print(\"Marks should be less than or equal to 100\")"
      ]
    }
  ],
  "metadata": {
    "kernelspec": {
      "display_name": "Python 3 (ipykernel)",
      "language": "python",
      "name": "python3"
    },
    "language_info": {
      "codemirror_mode": {
        "name": "ipython",
        "version": 3
      },
      "file_extension": ".py",
      "mimetype": "text/x-python",
      "name": "python",
      "nbconvert_exporter": "python",
      "pygments_lexer": "ipython3",
      "version": "3.9.7"
    },
    "colab": {
      "provenance": [],
      "collapsed_sections": [
        "Bia4dPozqFzY",
        "rraKXksqrKUx",
        "O0ARKb7BrUWK",
        "RJcM2XLwv4U8",
        "tPKq3quDwvNR"
      ],
      "include_colab_link": true
    }
  },
  "nbformat": 4,
  "nbformat_minor": 5
}