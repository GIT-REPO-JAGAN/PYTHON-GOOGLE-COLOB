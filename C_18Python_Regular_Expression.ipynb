{
  "cells": [
    {
      "cell_type": "markdown",
      "metadata": {
        "id": "view-in-github",
        "colab_type": "text"
      },
      "source": [
        "<a href=\"https://colab.research.google.com/github/GIT-REPO-JAGAN/PYTHON-GOOGLE-COLOB/blob/main/C_18Python_Regular_Expression.ipynb\" target=\"_parent\"><img src=\"https://colab.research.google.com/assets/colab-badge.svg\" alt=\"Open In Colab\"/></a>"
      ]
    },
    {
      "cell_type": "markdown",
      "id": "vbVWnOSfi0hu",
      "metadata": {
        "id": "vbVWnOSfi0hu"
      },
      "source": [
        "#### Regular Expression   -->  RegEx\n",
        "* its a pattern (a string) that contains special symbols and characters to find and extract\n",
        "* required information from a string\n",
        "* Python provides 're' module for RegEx"
      ]
    },
    {
      "cell_type": "code",
      "execution_count": null,
      "id": "88129af1",
      "metadata": {
        "id": "88129af1"
      },
      "outputs": [],
      "source": [
        "import re"
      ]
    },
    {
      "cell_type": "code",
      "execution_count": null,
      "id": "9a3cdf09",
      "metadata": {
        "id": "9a3cdf09",
        "outputId": "d5e4d9ee-0c23-4d20-d417-de3bdf863e39"
      },
      "outputs": [
        {
          "name": "stdout",
          "output_type": "stream",
          "text": [
            "Help on module re:\n",
            "\n",
            "NAME\n",
            "    re - Support for regular expressions (RE).\n",
            "\n",
            "MODULE REFERENCE\n",
            "    https://docs.python.org/3.10/library/re.html\n",
            "    \n",
            "    The following documentation is automatically generated from the Python\n",
            "    source files.  It may be incomplete, incorrect or include features that\n",
            "    are considered implementation detail and may vary between Python\n",
            "    implementations.  When in doubt, consult the module reference at the\n",
            "    location listed above.\n",
            "\n",
            "DESCRIPTION\n",
            "    This module provides regular expression matching operations similar to\n",
            "    those found in Perl.  It supports both 8-bit and Unicode strings; both\n",
            "    the pattern and the strings being processed can contain null bytes and\n",
            "    characters outside the US ASCII range.\n",
            "    \n",
            "    Regular expressions can contain both special and ordinary characters.\n",
            "    Most ordinary characters, like \"A\", \"a\", or \"0\", are the simplest\n",
            "    regular expressions; they simply match themselves.  You can\n",
            "    concatenate ordinary characters, so last matches the string 'last'.\n",
            "    \n",
            "    The special characters are:\n",
            "        \".\"      Matches any character except a newline.\n",
            "        \"^\"      Matches the start of the string.\n",
            "        \"$\"      Matches the end of the string or just before the newline at\n",
            "                 the end of the string.\n",
            "        \"*\"      Matches 0 or more (greedy) repetitions of the preceding RE.\n",
            "                 Greedy means that it will match as many repetitions as possible.\n",
            "        \"+\"      Matches 1 or more (greedy) repetitions of the preceding RE.\n",
            "        \"?\"      Matches 0 or 1 (greedy) of the preceding RE.\n",
            "        *?,+?,?? Non-greedy versions of the previous three special characters.\n",
            "        {m,n}    Matches from m to n repetitions of the preceding RE.\n",
            "        {m,n}?   Non-greedy version of the above.\n",
            "        \"\\\\\"     Either escapes special characters or signals a special sequence.\n",
            "        []       Indicates a set of characters.\n",
            "                 A \"^\" as the first character indicates a complementing set.\n",
            "        \"|\"      A|B, creates an RE that will match either A or B.\n",
            "        (...)    Matches the RE inside the parentheses.\n",
            "                 The contents can be retrieved or matched later in the string.\n",
            "        (?aiLmsux) The letters set the corresponding flags defined below.\n",
            "        (?:...)  Non-grouping version of regular parentheses.\n",
            "        (?P<name>...) The substring matched by the group is accessible by name.\n",
            "        (?P=name)     Matches the text matched earlier by the group named name.\n",
            "        (?#...)  A comment; ignored.\n",
            "        (?=...)  Matches if ... matches next, but doesn't consume the string.\n",
            "        (?!...)  Matches if ... doesn't match next.\n",
            "        (?<=...) Matches if preceded by ... (must be fixed length).\n",
            "        (?<!...) Matches if not preceded by ... (must be fixed length).\n",
            "        (?(id/name)yes|no) Matches yes pattern if the group with id/name matched,\n",
            "                           the (optional) no pattern otherwise.\n",
            "    \n",
            "    The special sequences consist of \"\\\\\" and a character from the list\n",
            "    below.  If the ordinary character is not on the list, then the\n",
            "    resulting RE will match the second character.\n",
            "        \\number  Matches the contents of the group of the same number.\n",
            "        \\A       Matches only at the start of the string.\n",
            "        \\Z       Matches only at the end of the string.\n",
            "        \\b       Matches the empty string, but only at the start or end of a word.\n",
            "        \\B       Matches the empty string, but not at the start or end of a word.\n",
            "        \\d       Matches any decimal digit; equivalent to the set [0-9] in\n",
            "                 bytes patterns or string patterns with the ASCII flag.\n",
            "                 In string patterns without the ASCII flag, it will match the whole\n",
            "                 range of Unicode digits.\n",
            "        \\D       Matches any non-digit character; equivalent to [^\\d].\n",
            "        \\s       Matches any whitespace character; equivalent to [ \\t\\n\\r\\f\\v] in\n",
            "                 bytes patterns or string patterns with the ASCII flag.\n",
            "                 In string patterns without the ASCII flag, it will match the whole\n",
            "                 range of Unicode whitespace characters.\n",
            "        \\S       Matches any non-whitespace character; equivalent to [^\\s].\n",
            "        \\w       Matches any alphanumeric character; equivalent to [a-zA-Z0-9_]\n",
            "                 in bytes patterns or string patterns with the ASCII flag.\n",
            "                 In string patterns without the ASCII flag, it will match the\n",
            "                 range of Unicode alphanumeric characters (letters plus digits\n",
            "                 plus underscore).\n",
            "                 With LOCALE, it will match the set [0-9_] plus characters defined\n",
            "                 as letters for the current locale.\n",
            "        \\W       Matches the complement of \\w.\n",
            "        \\\\       Matches a literal backslash.\n",
            "    \n",
            "    This module exports the following functions:\n",
            "        match     Match a regular expression pattern to the beginning of a string.\n",
            "        fullmatch Match a regular expression pattern to all of a string.\n",
            "        search    Search a string for the presence of a pattern.\n",
            "        sub       Substitute occurrences of a pattern found in a string.\n",
            "        subn      Same as sub, but also return the number of substitutions made.\n",
            "        split     Split a string by the occurrences of a pattern.\n",
            "        findall   Find all occurrences of a pattern in a string.\n",
            "        finditer  Return an iterator yielding a Match object for each match.\n",
            "        compile   Compile a pattern into a Pattern object.\n",
            "        purge     Clear the regular expression cache.\n",
            "        escape    Backslash all non-alphanumerics in a string.\n",
            "    \n",
            "    Each function other than purge and escape can take an optional 'flags' argument\n",
            "    consisting of one or more of the following module constants, joined by \"|\".\n",
            "    A, L, and U are mutually exclusive.\n",
            "        A  ASCII       For string patterns, make \\w, \\W, \\b, \\B, \\d, \\D\n",
            "                       match the corresponding ASCII character categories\n",
            "                       (rather than the whole Unicode categories, which is the\n",
            "                       default).\n",
            "                       For bytes patterns, this flag is the only available\n",
            "                       behaviour and needn't be specified.\n",
            "        I  IGNORECASE  Perform case-insensitive matching.\n",
            "        L  LOCALE      Make \\w, \\W, \\b, \\B, dependent on the current locale.\n",
            "        M  MULTILINE   \"^\" matches the beginning of lines (after a newline)\n",
            "                       as well as the string.\n",
            "                       \"$\" matches the end of lines (before a newline) as well\n",
            "                       as the end of the string.\n",
            "        S  DOTALL      \".\" matches any character at all, including the newline.\n",
            "        X  VERBOSE     Ignore whitespace and comments for nicer looking RE's.\n",
            "        U  UNICODE     For compatibility only. Ignored for string patterns (it\n",
            "                       is the default), and forbidden for bytes patterns.\n",
            "    \n",
            "    This module also defines an exception 'error'.\n",
            "\n",
            "CLASSES\n",
            "    builtins.Exception(builtins.BaseException)\n",
            "        error\n",
            "    builtins.object\n",
            "        Match\n",
            "        Pattern\n",
            "    \n",
            "    class Match(builtins.object)\n",
            "     |  The result of re.match() and re.search().\n",
            "     |  Match objects always have a boolean value of True.\n",
            "     |  \n",
            "     |  Methods defined here:\n",
            "     |  \n",
            "     |  __copy__(self, /)\n",
            "     |  \n",
            "     |  __deepcopy__(self, memo, /)\n",
            "     |  \n",
            "     |  __getitem__(self, key, /)\n",
            "     |      Return self[key].\n",
            "     |  \n",
            "     |  __repr__(self, /)\n",
            "     |      Return repr(self).\n",
            "     |  \n",
            "     |  end(self, group=0, /)\n",
            "     |      Return index of the end of the substring matched by group.\n",
            "     |  \n",
            "     |  expand(self, /, template)\n",
            "     |      Return the string obtained by doing backslash substitution on the string template, as done by the sub() method.\n",
            "     |  \n",
            "     |  group(...)\n",
            "     |      group([group1, ...]) -> str or tuple.\n",
            "     |      Return subgroup(s) of the match by indices or names.\n",
            "     |      For 0 returns the entire match.\n",
            "     |  \n",
            "     |  groupdict(self, /, default=None)\n",
            "     |      Return a dictionary containing all the named subgroups of the match, keyed by the subgroup name.\n",
            "     |      \n",
            "     |      default\n",
            "     |        Is used for groups that did not participate in the match.\n",
            "     |  \n",
            "     |  groups(self, /, default=None)\n",
            "     |      Return a tuple containing all the subgroups of the match, from 1.\n",
            "     |      \n",
            "     |      default\n",
            "     |        Is used for groups that did not participate in the match.\n",
            "     |  \n",
            "     |  span(self, group=0, /)\n",
            "     |      For match object m, return the 2-tuple (m.start(group), m.end(group)).\n",
            "     |  \n",
            "     |  start(self, group=0, /)\n",
            "     |      Return index of the start of the substring matched by group.\n",
            "     |  \n",
            "     |  ----------------------------------------------------------------------\n",
            "     |  Class methods defined here:\n",
            "     |  \n",
            "     |  __class_getitem__(...) from builtins.type\n",
            "     |      See PEP 585\n",
            "     |  \n",
            "     |  ----------------------------------------------------------------------\n",
            "     |  Data descriptors defined here:\n",
            "     |  \n",
            "     |  endpos\n",
            "     |      The index into the string beyond which the RE engine will not go.\n",
            "     |  \n",
            "     |  lastgroup\n",
            "     |      The name of the last matched capturing group.\n",
            "     |  \n",
            "     |  lastindex\n",
            "     |      The integer index of the last matched capturing group.\n",
            "     |  \n",
            "     |  pos\n",
            "     |      The index into the string at which the RE engine started looking for a match.\n",
            "     |  \n",
            "     |  re\n",
            "     |      The regular expression object.\n",
            "     |  \n",
            "     |  regs\n",
            "     |  \n",
            "     |  string\n",
            "     |      The string passed to match() or search().\n",
            "    \n",
            "    class Pattern(builtins.object)\n",
            "     |  Compiled regular expression object.\n",
            "     |  \n",
            "     |  Methods defined here:\n",
            "     |  \n",
            "     |  __copy__(self, /)\n",
            "     |  \n",
            "     |  __deepcopy__(self, memo, /)\n",
            "     |  \n",
            "     |  __eq__(self, value, /)\n",
            "     |      Return self==value.\n",
            "     |  \n",
            "     |  __ge__(self, value, /)\n",
            "     |      Return self>=value.\n",
            "     |  \n",
            "     |  __gt__(self, value, /)\n",
            "     |      Return self>value.\n",
            "     |  \n",
            "     |  __hash__(self, /)\n",
            "     |      Return hash(self).\n",
            "     |  \n",
            "     |  __le__(self, value, /)\n",
            "     |      Return self<=value.\n",
            "     |  \n",
            "     |  __lt__(self, value, /)\n",
            "     |      Return self<value.\n",
            "     |  \n",
            "     |  __ne__(self, value, /)\n",
            "     |      Return self!=value.\n",
            "     |  \n",
            "     |  __repr__(self, /)\n",
            "     |      Return repr(self).\n",
            "     |  \n",
            "     |  findall(self, /, string, pos=0, endpos=9223372036854775807)\n",
            "     |      Return a list of all non-overlapping matches of pattern in string.\n",
            "     |  \n",
            "     |  finditer(self, /, string, pos=0, endpos=9223372036854775807)\n",
            "     |      Return an iterator over all non-overlapping matches for the RE pattern in string.\n",
            "     |      \n",
            "     |      For each match, the iterator returns a match object.\n",
            "     |  \n",
            "     |  fullmatch(self, /, string, pos=0, endpos=9223372036854775807)\n",
            "     |      Matches against all of the string.\n",
            "     |  \n",
            "     |  match(self, /, string, pos=0, endpos=9223372036854775807)\n",
            "     |      Matches zero or more characters at the beginning of the string.\n",
            "     |  \n",
            "     |  scanner(self, /, string, pos=0, endpos=9223372036854775807)\n",
            "     |  \n",
            "     |  search(self, /, string, pos=0, endpos=9223372036854775807)\n",
            "     |      Scan through string looking for a match, and return a corresponding match object instance.\n",
            "     |      \n",
            "     |      Return None if no position in the string matches.\n",
            "     |  \n",
            "     |  split(self, /, string, maxsplit=0)\n",
            "     |      Split string by the occurrences of pattern.\n",
            "     |  \n",
            "     |  sub(self, /, repl, string, count=0)\n",
            "     |      Return the string obtained by replacing the leftmost non-overlapping occurrences of pattern in string by the replacement repl.\n",
            "     |  \n",
            "     |  subn(self, /, repl, string, count=0)\n",
            "     |      Return the tuple (new_string, number_of_subs_made) found by replacing the leftmost non-overlapping occurrences of pattern with the replacement repl.\n",
            "     |  \n",
            "     |  ----------------------------------------------------------------------\n",
            "     |  Class methods defined here:\n",
            "     |  \n",
            "     |  __class_getitem__(...) from builtins.type\n",
            "     |      See PEP 585\n",
            "     |  \n",
            "     |  ----------------------------------------------------------------------\n",
            "     |  Data descriptors defined here:\n",
            "     |  \n",
            "     |  flags\n",
            "     |      The regex matching flags.\n",
            "     |  \n",
            "     |  groupindex\n",
            "     |      A dictionary mapping group names to group numbers.\n",
            "     |  \n",
            "     |  groups\n",
            "     |      The number of capturing groups in the pattern.\n",
            "     |  \n",
            "     |  pattern\n",
            "     |      The pattern string from which the RE object was compiled.\n",
            "    \n",
            "    class error(builtins.Exception)\n",
            "     |  error(msg, pattern=None, pos=None)\n",
            "     |  \n",
            "     |  Exception raised for invalid regular expressions.\n",
            "     |  \n",
            "     |  Attributes:\n",
            "     |  \n",
            "     |      msg: The unformatted error message\n",
            "     |      pattern: The regular expression pattern\n",
            "     |      pos: The index in the pattern where compilation failed (may be None)\n",
            "     |      lineno: The line corresponding to pos (may be None)\n",
            "     |      colno: The column corresponding to pos (may be None)\n",
            "     |  \n",
            "     |  Method resolution order:\n",
            "     |      error\n",
            "     |      builtins.Exception\n",
            "     |      builtins.BaseException\n",
            "     |      builtins.object\n",
            "     |  \n",
            "     |  Methods defined here:\n",
            "     |  \n",
            "     |  __init__(self, msg, pattern=None, pos=None)\n",
            "     |      Initialize self.  See help(type(self)) for accurate signature.\n",
            "     |  \n",
            "     |  ----------------------------------------------------------------------\n",
            "     |  Data descriptors defined here:\n",
            "     |  \n",
            "     |  __weakref__\n",
            "     |      list of weak references to the object (if defined)\n",
            "     |  \n",
            "     |  ----------------------------------------------------------------------\n",
            "     |  Static methods inherited from builtins.Exception:\n",
            "     |  \n",
            "     |  __new__(*args, **kwargs) from builtins.type\n",
            "     |      Create and return a new object.  See help(type) for accurate signature.\n",
            "     |  \n",
            "     |  ----------------------------------------------------------------------\n",
            "     |  Methods inherited from builtins.BaseException:\n",
            "     |  \n",
            "     |  __delattr__(self, name, /)\n",
            "     |      Implement delattr(self, name).\n",
            "     |  \n",
            "     |  __getattribute__(self, name, /)\n",
            "     |      Return getattr(self, name).\n",
            "     |  \n",
            "     |  __reduce__(...)\n",
            "     |      Helper for pickle.\n",
            "     |  \n",
            "     |  __repr__(self, /)\n",
            "     |      Return repr(self).\n",
            "     |  \n",
            "     |  __setattr__(self, name, value, /)\n",
            "     |      Implement setattr(self, name, value).\n",
            "     |  \n",
            "     |  __setstate__(...)\n",
            "     |  \n",
            "     |  __str__(self, /)\n",
            "     |      Return str(self).\n",
            "     |  \n",
            "     |  with_traceback(...)\n",
            "     |      Exception.with_traceback(tb) --\n",
            "     |      set self.__traceback__ to tb and return self.\n",
            "     |  \n",
            "     |  ----------------------------------------------------------------------\n",
            "     |  Data descriptors inherited from builtins.BaseException:\n",
            "     |  \n",
            "     |  __cause__\n",
            "     |      exception cause\n",
            "     |  \n",
            "     |  __context__\n",
            "     |      exception context\n",
            "     |  \n",
            "     |  __dict__\n",
            "     |  \n",
            "     |  __suppress_context__\n",
            "     |  \n",
            "     |  __traceback__\n",
            "     |  \n",
            "     |  args\n",
            "\n",
            "FUNCTIONS\n",
            "    compile(pattern, flags=0)\n",
            "        Compile a regular expression pattern, returning a Pattern object.\n",
            "    \n",
            "    escape(pattern)\n",
            "        Escape special characters in a string.\n",
            "    \n",
            "    findall(pattern, string, flags=0)\n",
            "        Return a list of all non-overlapping matches in the string.\n",
            "        \n",
            "        If one or more capturing groups are present in the pattern, return\n",
            "        a list of groups; this will be a list of tuples if the pattern\n",
            "        has more than one group.\n",
            "        \n",
            "        Empty matches are included in the result.\n",
            "    \n",
            "    finditer(pattern, string, flags=0)\n",
            "        Return an iterator over all non-overlapping matches in the\n",
            "        string.  For each match, the iterator returns a Match object.\n",
            "        \n",
            "        Empty matches are included in the result.\n",
            "    \n",
            "    fullmatch(pattern, string, flags=0)\n",
            "        Try to apply the pattern to all of the string, returning\n",
            "        a Match object, or None if no match was found.\n",
            "    \n",
            "    match(pattern, string, flags=0)\n",
            "        Try to apply the pattern at the start of the string, returning\n",
            "        a Match object, or None if no match was found.\n",
            "    \n",
            "    purge()\n",
            "        Clear the regular expression caches\n",
            "    \n",
            "    search(pattern, string, flags=0)\n",
            "        Scan through string looking for a match to the pattern, returning\n",
            "        a Match object, or None if no match was found.\n",
            "    \n",
            "    split(pattern, string, maxsplit=0, flags=0)\n",
            "        Split the source string by the occurrences of the pattern,\n",
            "        returning a list containing the resulting substrings.  If\n",
            "        capturing parentheses are used in pattern, then the text of all\n",
            "        groups in the pattern are also returned as part of the resulting\n",
            "        list.  If maxsplit is nonzero, at most maxsplit splits occur,\n",
            "        and the remainder of the string is returned as the final element\n",
            "        of the list.\n",
            "    \n",
            "    sub(pattern, repl, string, count=0, flags=0)\n",
            "        Return the string obtained by replacing the leftmost\n",
            "        non-overlapping occurrences of the pattern in string by the\n",
            "        replacement repl.  repl can be either a string or a callable;\n",
            "        if a string, backslash escapes in it are processed.  If it is\n",
            "        a callable, it's passed the Match object and must return\n",
            "        a replacement string to be used.\n",
            "    \n",
            "    subn(pattern, repl, string, count=0, flags=0)\n",
            "        Return a 2-tuple containing (new_string, number).\n",
            "        new_string is the string obtained by replacing the leftmost\n",
            "        non-overlapping occurrences of the pattern in the source\n",
            "        string by the replacement repl.  number is the number of\n",
            "        substitutions that were made. repl can be either a string or a\n",
            "        callable; if a string, backslash escapes in it are processed.\n",
            "        If it is a callable, it's passed the Match object and must\n",
            "        return a replacement string to be used.\n",
            "    \n",
            "    template(pattern, flags=0)\n",
            "        Compile a template pattern, returning a Pattern object\n",
            "\n",
            "DATA\n",
            "    A = re.ASCII\n",
            "    ASCII = re.ASCII\n",
            "    DOTALL = re.DOTALL\n",
            "    I = re.IGNORECASE\n",
            "    IGNORECASE = re.IGNORECASE\n",
            "    L = re.LOCALE\n",
            "    LOCALE = re.LOCALE\n",
            "    M = re.MULTILINE\n",
            "    MULTILINE = re.MULTILINE\n",
            "    S = re.DOTALL\n",
            "    U = re.UNICODE\n",
            "    UNICODE = re.UNICODE\n",
            "    VERBOSE = re.VERBOSE\n",
            "    X = re.VERBOSE\n",
            "    __all__ = ['match', 'fullmatch', 'search', 'sub', 'subn', 'split', 'fi...\n",
            "\n",
            "VERSION\n",
            "    2.2.1\n",
            "\n",
            "FILE\n",
            "    c:\\users\\welcome\\anaconda3\\lib\\re.py\n",
            "\n",
            "\n"
          ]
        }
      ],
      "source": [
        "help(re)"
      ]
    },
    {
      "cell_type": "code",
      "execution_count": null,
      "id": "604d480c",
      "metadata": {
        "id": "604d480c",
        "outputId": "fc0cc737-7a12-4f3a-a2fa-faec692de748"
      },
      "outputs": [
        {
          "data": {
            "text/plain": [
              "'\\n.       - Any Character Except New Line\\n\\\\d      - Digit (0-9)\\n\\\\D      - Not a Digit (0-9)\\n\\\\w      - Alphanumeric Character (a-z, A-Z, 0-9, _)\\n\\\\W      - Non Alphanumeric Character\\n\\\\s      - Whitespace (space, tab, newline)\\n\\\\S      - Not Whitespace (space, tab, newline)\\n\\n\\x08      - Word Boundary\\n\\\\B      - Not a Word Boundary\\n^       - Beginning of a String\\n$       - End of a String\\n\\n[A-Za-z]   - Matches one Character in brackets\\n[^A-Z]  - Matches Characters NOT in brackets\\n|       - Either Or\\n(com|net)     - Group\\n\\nQuantifiers:\\n*       - 0 or More\\n+       - 1 or More\\n?       - 0 or One\\n{3}     - Exact Number\\n{3,4}   - Range of Numbers (Minimum, Maximum)'"
            ]
          },
          "execution_count": 3,
          "metadata": {},
          "output_type": "execute_result"
        }
      ],
      "source": [
        "# Special characters and quantifiers - help to find and extract information\n",
        "\n",
        "'''\n",
        ".       - Any Character Except New Line\n",
        "\\d      - Digit (0-9)\n",
        "\\D      - Not a Digit (0-9)\n",
        "\\w      - Alphanumeric Character (a-z, A-Z, 0-9, _)\n",
        "\\W      - Non Alphanumeric Character\n",
        "\\s      - Whitespace (space, tab, newline)\n",
        "\\S      - Not Whitespace (space, tab, newline)\n",
        "\n",
        "\\b      - Word Boundary\n",
        "\\B      - Not a Word Boundary\n",
        "^       - Beginning of a String\n",
        "$       - End of a String\n",
        "\n",
        "[A-Za-z]   - Matches one Character in brackets\n",
        "[^A-Z]  - Matches Characters NOT in brackets\n",
        "|       - Either Or\n",
        "(com|net)     - Group\n",
        "\n",
        "Quantifiers:\n",
        "*       - 0 or More\n",
        "+       - 1 or More\n",
        "?       - 0 or One\n",
        "{3}     - Exact Number\n",
        "{3,4}   - Range of Numbers (Minimum, Maximum)'''\n",
        "\n",
        "# These special characters and quantifiers are used to create the pattern"
      ]
    },
    {
      "cell_type": "code",
      "execution_count": null,
      "id": "2e2ce9bf",
      "metadata": {
        "id": "2e2ce9bf"
      },
      "outputs": [],
      "source": [
        "str1 = 'old\\new'"
      ]
    },
    {
      "cell_type": "code",
      "execution_count": null,
      "id": "2cb4b5e9",
      "metadata": {
        "id": "2cb4b5e9",
        "outputId": "3590780f-5eb8-48ce-8fbe-8d25e5778773"
      },
      "outputs": [
        {
          "name": "stdout",
          "output_type": "stream",
          "text": [
            "old\n",
            "ew\n"
          ]
        }
      ],
      "source": [
        "print(str1)"
      ]
    },
    {
      "cell_type": "code",
      "execution_count": null,
      "id": "5b85fd80",
      "metadata": {
        "id": "5b85fd80"
      },
      "outputs": [],
      "source": [
        "str1 = 'old\\\\new'"
      ]
    },
    {
      "cell_type": "code",
      "execution_count": null,
      "id": "3810106a",
      "metadata": {
        "id": "3810106a",
        "outputId": "03f2c9a2-cd99-408f-b078-64836b06995c"
      },
      "outputs": [
        {
          "name": "stdout",
          "output_type": "stream",
          "text": [
            "old\\new\n"
          ]
        }
      ],
      "source": [
        "print(str1)"
      ]
    },
    {
      "cell_type": "code",
      "execution_count": null,
      "id": "d5501eb9",
      "metadata": {
        "id": "d5501eb9"
      },
      "outputs": [],
      "source": [
        "str1 = r'old\\new'"
      ]
    },
    {
      "cell_type": "code",
      "execution_count": null,
      "id": "84290b54",
      "metadata": {
        "id": "84290b54",
        "outputId": "fce27016-8dd3-4ed5-ea5b-2423fd1a45b0"
      },
      "outputs": [
        {
          "name": "stdout",
          "output_type": "stream",
          "text": [
            "old\\new\n"
          ]
        }
      ],
      "source": [
        "print(str1)"
      ]
    },
    {
      "cell_type": "markdown",
      "id": "008d3365",
      "metadata": {
        "id": "008d3365"
      },
      "source": [
        "#### Match()  -->   Always starts from first characte\n",
        "\n",
        "* re.match(pattern, string)\n",
        "* finds the pattern in the string at the beginning of the string\n",
        "* If the pattern is found, it returns 'match object'\n",
        "* else, it returns None"
      ]
    },
    {
      "cell_type": "code",
      "execution_count": null,
      "id": "3659e6fb",
      "metadata": {
        "id": "3659e6fb"
      },
      "outputs": [],
      "source": [
        "with open('C-18regex_file.txt', 'rt') as fh:\n",
        "    content = fh.read()"
      ]
    },
    {
      "cell_type": "code",
      "execution_count": null,
      "id": "ff2b79aa",
      "metadata": {
        "id": "ff2b79aa",
        "outputId": "c1df1f12-34e2-4c65-bca1-306b90777d79"
      },
      "outputs": [
        {
          "data": {
            "text/plain": [
              "\"Python3 is a programming language\\nPython3\\npppam\\n.We are learning python3\\nWe have completed our assignments\\nlearn python\\nmylearn A2\\nlearn2,python\\nAssignments are submitted to learnbay16thmay23@gmail.com\\nMy phone number is      91-9876543210\\na123-456-7890 Py3 learn\\nIP address is 192.100.76.24\\n192.101.77.20\\nlearn_bay\\nlearn-bay\\nJonathan25@gmail.com\\nWhat are the topics left?\\nJohn lives in Sweden \\nwhatever.\\\\com\\nabc@learnbay.com\\njohn123@yahoo.in\\npython2\\nlet's learn- RegEx\\npython34\\n192.100.190.111\\nHe says, letting me work, buddy!\\nxyz-id.12@gmail.com\\nxyz-id-12@gmail.com_char\\n333.333.333.333\\nxyz-id-12@gmail-com\\nxyz-id_12@domain.whatever\\n-@gmail.com\\n.@gmail.com\\n_@gmail.com\\nlearn.\\nmylearning\""
            ]
          },
          "execution_count": 9,
          "metadata": {},
          "output_type": "execute_result"
        }
      ],
      "source": [
        "content"
      ]
    },
    {
      "cell_type": "code",
      "execution_count": null,
      "id": "8b51b9f3",
      "metadata": {
        "id": "8b51b9f3",
        "outputId": "ebe9411a-a9c7-4512-e062-e887cee9148d"
      },
      "outputs": [
        {
          "data": {
            "text/plain": [
              "str"
            ]
          },
          "execution_count": 13,
          "metadata": {},
          "output_type": "execute_result"
        }
      ],
      "source": [
        "type(content)"
      ]
    },
    {
      "cell_type": "code",
      "execution_count": null,
      "id": "b6d51163",
      "metadata": {
        "id": "b6d51163"
      },
      "outputs": [],
      "source": [
        "pattern = r'Python'\n",
        "mat = re.match(pattern, content)"
      ]
    },
    {
      "cell_type": "code",
      "execution_count": null,
      "id": "15d1aa61",
      "metadata": {
        "id": "15d1aa61",
        "outputId": "29435a73-7925-4a42-fe63-4cfccb7dcaca"
      },
      "outputs": [
        {
          "data": {
            "text/plain": [
              "<re.Match object; span=(0, 6), match='Python'>"
            ]
          },
          "execution_count": 15,
          "metadata": {},
          "output_type": "execute_result"
        }
      ],
      "source": [
        "mat"
      ]
    },
    {
      "cell_type": "code",
      "execution_count": null,
      "id": "2389e1d1",
      "metadata": {
        "id": "2389e1d1",
        "outputId": "3b33ceb8-15e6-423c-d5b7-3322444369cb"
      },
      "outputs": [
        {
          "data": {
            "text/plain": [
              "re.Match"
            ]
          },
          "execution_count": 16,
          "metadata": {},
          "output_type": "execute_result"
        }
      ],
      "source": [
        "type(mat)"
      ]
    },
    {
      "cell_type": "code",
      "execution_count": null,
      "id": "4d1e3838",
      "metadata": {
        "id": "4d1e3838",
        "outputId": "8376eddc-53e7-46bd-9d50-19480009cebd"
      },
      "outputs": [
        {
          "data": {
            "text/plain": [
              "'Python'"
            ]
          },
          "execution_count": 17,
          "metadata": {},
          "output_type": "execute_result"
        }
      ],
      "source": [
        "mat.group()"
      ]
    },
    {
      "cell_type": "code",
      "execution_count": null,
      "id": "109a4b6a",
      "metadata": {
        "id": "109a4b6a",
        "outputId": "6fbfc051-1add-4e43-ce68-8dae2aeb65c4"
      },
      "outputs": [
        {
          "data": {
            "text/plain": [
              "(0, 6)"
            ]
          },
          "execution_count": 18,
          "metadata": {},
          "output_type": "execute_result"
        }
      ],
      "source": [
        "mat.span()"
      ]
    },
    {
      "cell_type": "code",
      "execution_count": null,
      "id": "39e30edc",
      "metadata": {
        "id": "39e30edc",
        "outputId": "3a0bde40-daf3-4721-df7e-fd5c3d42e425"
      },
      "outputs": [
        {
          "data": {
            "text/plain": [
              "0"
            ]
          },
          "execution_count": 19,
          "metadata": {},
          "output_type": "execute_result"
        }
      ],
      "source": [
        "mat.start()"
      ]
    },
    {
      "cell_type": "code",
      "execution_count": null,
      "id": "9d67ec6e",
      "metadata": {
        "id": "9d67ec6e",
        "outputId": "3bfc9ad1-6886-4004-9567-195c9d108ddd"
      },
      "outputs": [
        {
          "data": {
            "text/plain": [
              "6"
            ]
          },
          "execution_count": 20,
          "metadata": {},
          "output_type": "execute_result"
        }
      ],
      "source": [
        "mat.end()"
      ]
    },
    {
      "cell_type": "markdown",
      "id": "8d920f89",
      "metadata": {
        "id": "8d920f89"
      },
      "source": [
        "#### Read  -->   Always starts from first character"
      ]
    },
    {
      "cell_type": "code",
      "execution_count": null,
      "id": "a0aa69d3",
      "metadata": {
        "id": "a0aa69d3",
        "outputId": "f6626e0b-eafa-4929-9fd2-b307321a646b"
      },
      "outputs": [
        {
          "data": {
            "text/plain": [
              "\"Python3 is a programming language\\nPython3\\npppam\\n.We are learning python3\\nWe have completed our assignments\\nlearn python\\nmylearn A2\\nlearn2,python\\nAssignments are submitted to learnbay16thmay23@gmail.com\\nMy phone number is      91-9876543210\\na123-456-7890 Py3 learn\\nIP address is 192.100.76.24\\n192.101.77.20\\nlearn_bay\\nlearn-bay\\nJonathan25@gmail.com\\nWhat are the topics left?\\nJohn lives in Sweden \\nwhatever.\\\\com\\nabc@learnbay.com\\njohn123@yahoo.in\\npython2\\nlet's learn- RegEx\\npython34\\n192.100.190.111\\nHe says, letting me work, buddy!\\nxyz-id.12@gmail.com\\nxyz-id-12@gmail.com_char\\n333.333.333.333\\nxyz-id-12@gmail-com\\nxyz-id_12@domain.whatever\\n-@gmail.com\\n.@gmail.com\\n_@gmail.com\\nlearn.\\nmylearning\""
            ]
          },
          "execution_count": 24,
          "metadata": {},
          "output_type": "execute_result"
        }
      ],
      "source": [
        "content"
      ]
    },
    {
      "cell_type": "code",
      "execution_count": null,
      "id": "d5bc7eb2",
      "metadata": {
        "id": "d5bc7eb2",
        "outputId": "08562996-01c5-46e3-cb1e-c672c5c71c95"
      },
      "outputs": [
        {
          "name": "stdout",
          "output_type": "stream",
          "text": [
            "<re.Match object; span=(0, 1), match='P'>\n"
          ]
        }
      ],
      "source": [
        "with open('C-18regex_file.txt', 'rt') as fh:\n",
        "    content = fh.read()\n",
        "\n",
        "pattern = r'[A-Z]'  # it will match one character from A to Z\n",
        "mat = re.match(pattern, content)\n",
        "print(mat)"
      ]
    },
    {
      "cell_type": "code",
      "execution_count": null,
      "id": "efdd94be",
      "metadata": {
        "id": "efdd94be",
        "outputId": "71b9ef3c-cb83-48e5-d4c4-94cf8fc4f7a7"
      },
      "outputs": [
        {
          "name": "stdout",
          "output_type": "stream",
          "text": [
            "<re.Match object; span=(0, 2), match='Py'>\n"
          ]
        }
      ],
      "source": [
        "with open('C-18regex_file.txt', 'rt') as fh:\n",
        "    content = fh.read()\n",
        "\n",
        "pattern = r'[A-Z][a-z]' # it will match one character from A to Z & next it will match one character from a to z\n",
        "mat = re.match(pattern, content)\n",
        "print(mat)"
      ]
    },
    {
      "cell_type": "code",
      "execution_count": null,
      "id": "a30b5b11",
      "metadata": {
        "id": "a30b5b11",
        "outputId": "fa49b9dd-9b9c-4cf6-c84a-0d7885fbc99b"
      },
      "outputs": [
        {
          "name": "stdout",
          "output_type": "stream",
          "text": [
            "<re.Match object; span=(0, 3), match='Pyt'>\n"
          ]
        }
      ],
      "source": [
        "with open('C-18regex_file.txt', 'rt') as fh:\n",
        "    content = fh.read()\n",
        "\n",
        "pattern = r'[A-Z][a-z][a-z]' # it will match one character from A to Z & next it will match one character from a to z and again\n",
        "mat = re.match(pattern, content)\n",
        "print(mat)"
      ]
    },
    {
      "cell_type": "code",
      "execution_count": null,
      "id": "f008b741",
      "metadata": {
        "id": "f008b741",
        "outputId": "f06affca-8bea-4435-eb08-4c39786222d9"
      },
      "outputs": [
        {
          "name": "stdout",
          "output_type": "stream",
          "text": [
            "<re.Match object; span=(0, 6), match='Python'>\n"
          ]
        }
      ],
      "source": [
        "with open('C-18regex_file.txt', 'rt') as fh:\n",
        "    content = fh.read()\n",
        "\n",
        "pattern = r'[A-Z][a-z][a-z][a-z][a-z][a-z]'\n",
        "mat = re.match(pattern, content)\n",
        "print(mat)"
      ]
    },
    {
      "cell_type": "code",
      "execution_count": null,
      "id": "094d9d73",
      "metadata": {
        "id": "094d9d73",
        "outputId": "c8db12c7-7063-4cbf-a437-25f607fde55a"
      },
      "outputs": [
        {
          "name": "stdout",
          "output_type": "stream",
          "text": [
            "<re.Match object; span=(0, 7), match='Python3'>\n"
          ]
        }
      ],
      "source": [
        "with open('C-18regex_file.txt', 'rt') as fh:\n",
        "    content = fh.read()\n",
        "\n",
        "pattern = r'[A-Z][a-z][a-z][a-z][a-z][a-z][0-9]'  # it will match one cha from A to Z & next it will match one by one char from a to z and [0-9]\n",
        "mat = re.match(pattern, content)\n",
        "print(mat)"
      ]
    },
    {
      "cell_type": "code",
      "execution_count": null,
      "id": "1720ce60",
      "metadata": {
        "id": "1720ce60",
        "outputId": "f638c148-a23f-4b25-b609-d499dcae47b2"
      },
      "outputs": [
        {
          "name": "stdout",
          "output_type": "stream",
          "text": [
            "<re.Match object; span=(0, 6), match='Python'>\n"
          ]
        }
      ],
      "source": [
        "with open('C-18regex_file.txt', 'rt') as fh:\n",
        "    content = fh.read()\n",
        "\n",
        "pattern = r'[A-Z][a-z]{5}' # it will match one cha from A to Z & next 5 char from a to z\n",
        "mat = re.match(pattern, content)\n",
        "print(mat)"
      ]
    },
    {
      "cell_type": "code",
      "execution_count": null,
      "id": "854a5ca9",
      "metadata": {
        "id": "854a5ca9",
        "outputId": "459491d0-1985-4994-b1f3-8a7b70fb6358"
      },
      "outputs": [
        {
          "name": "stdout",
          "output_type": "stream",
          "text": [
            "<re.Match object; span=(0, 6), match='Python'>\n"
          ]
        }
      ],
      "source": [
        "with open('C-18regex_file.txt', 'rt') as fh:\n",
        "    content = fh.read()\n",
        "\n",
        "pattern = r'[A-Za-z][a-z]{5}'\n",
        "mat = re.match(pattern, content)\n",
        "print(mat)"
      ]
    },
    {
      "cell_type": "code",
      "execution_count": null,
      "id": "cc5e8dc5",
      "metadata": {
        "id": "cc5e8dc5",
        "outputId": "08d36999-b381-4b9d-bc8e-abce7d3c120f"
      },
      "outputs": [
        {
          "data": {
            "text/plain": [
              "\"Python3 is a programming language\\nPython3\\npppam\\n.We are learning python3\\nWe have completed our assignments\\nlearn python\\nmylearn A2\\nlearn2,python\\nAssignments are submitted to learnbay16thmay23@gmail.com\\nMy phone number is      91-9876543210\\na123-456-7890 Py3 learn\\nIP address is 192.100.76.24\\n192.101.77.20\\nlearn_bay\\nlearn-bay\\nJonathan25@gmail.com\\nWhat are the topics left?\\nJohn lives in Sweden \\nwhatever.\\\\com\\nabc@learnbay.com\\njohn123@yahoo.in\\npython2\\nlet's learn- RegEx\\npython34\\n192.100.190.111\\nHe says, letting me work, buddy!\\nxyz-id.12@gmail.com\\nxyz-id-12@gmail.com_char\\n333.333.333.333\\nxyz-id-12@gmail-com\\nxyz-id_12@domain.whatever\\n-@gmail.com\\n.@gmail.com\\n_@gmail.com\\nlearn.\\nmylearning\""
            ]
          },
          "execution_count": 29,
          "metadata": {},
          "output_type": "execute_result"
        }
      ],
      "source": [
        "content"
      ]
    },
    {
      "cell_type": "code",
      "execution_count": null,
      "id": "21212ac8",
      "metadata": {
        "id": "21212ac8",
        "outputId": "783541ab-c460-4d09-936d-819405c09802"
      },
      "outputs": [
        {
          "name": "stdout",
          "output_type": "stream",
          "text": [
            "<re.Match object; span=(0, 6), match='Python'>\n"
          ]
        }
      ],
      "source": [
        "with open('C-18regex_file.txt', 'rt') as fh:\n",
        "    content = fh.read()\n",
        "\n",
        "pattern = r'[A-Z][a-z]+'  # it will match one cha from A to Z & next n+ char from a to z till end\n",
        "mat = re.match(pattern, content)\n",
        "print(mat)"
      ]
    },
    {
      "cell_type": "code",
      "execution_count": null,
      "id": "dc47de02",
      "metadata": {
        "id": "dc47de02",
        "outputId": "24ba42a5-1ae1-4b83-e4dc-9485b6655083"
      },
      "outputs": [
        {
          "name": "stdout",
          "output_type": "stream",
          "text": [
            "<re.Match object; span=(0, 7), match='Python3'>\n"
          ]
        }
      ],
      "source": [
        "with open('C-18regex_file.txt', 'rt') as fh:\n",
        "    content = fh.read()\n",
        "\n",
        "pattern = r'[A-Z][a-z]{5}[0-9]' # it will match one cha from A to Z & next n+ char from a to z till end and [0-9]\n",
        "mat = re.match(pattern, content)\n",
        "print(mat)"
      ]
    },
    {
      "cell_type": "code",
      "execution_count": null,
      "id": "63d670ed",
      "metadata": {
        "id": "63d670ed",
        "outputId": "27847f16-3f2e-496b-86a8-1e7ccac44377"
      },
      "outputs": [
        {
          "name": "stdout",
          "output_type": "stream",
          "text": [
            "<re.Match object; span=(0, 7), match='Python3'>\n"
          ]
        }
      ],
      "source": [
        "with open('C-18regex_file.txt', 'rt') as fh:\n",
        "    content = fh.read()\n",
        "\n",
        "pattern = r'[A-Z][a-z]{5}\\d'# it will match one cha from A to Z & next n+ char from a to z till end and decimals \\d used instead[0-9]\n",
        "mat = re.match(pattern, content)\n",
        "print(mat)"
      ]
    },
    {
      "cell_type": "code",
      "execution_count": null,
      "id": "177a458b",
      "metadata": {
        "id": "177a458b",
        "outputId": "df52ac5f-ac9a-43da-baf6-042309853c6b"
      },
      "outputs": [
        {
          "data": {
            "text/plain": [
              "\"Python3 is a programming language\\nPython3\\npppam\\n.We are learning python3\\nWe have completed our assignments\\nlearn python\\nmylearn A2\\nlearn2,python\\nAssignments are submitted to learnbay16thmay23@gmail.com\\nMy phone number is      91-9876543210\\na123-456-7890 Py3 learn\\nIP address is 192.100.76.24\\n192.101.77.20\\nlearn_bay\\nlearn-bay\\nJonathan25@gmail.com\\nWhat are the topics left?\\nJohn lives in Sweden \\nwhatever.\\\\com\\nabc@learnbay.com\\njohn123@yahoo.in\\npython2\\nlet's learn- RegEx\\npython34\\n192.100.190.111\\nHe says, letting me work, buddy!\\nxyz-id.12@gmail.com\\nxyz-id-12@gmail.com_char\\n333.333.333.333\\nxyz-id-12@gmail-com\\nxyz-id_12@domain.whatever\\n-@gmail.com\\n.@gmail.com\\n_@gmail.com\\nlearn.\\nmylearning\""
            ]
          },
          "execution_count": 31,
          "metadata": {},
          "output_type": "execute_result"
        }
      ],
      "source": [
        "content"
      ]
    },
    {
      "cell_type": "code",
      "execution_count": null,
      "id": "8d56495d",
      "metadata": {
        "id": "8d56495d",
        "outputId": "69e730cb-3570-4ff1-d3ea-38ef264560bc"
      },
      "outputs": [
        {
          "name": "stdout",
          "output_type": "stream",
          "text": [
            "<re.Match object; span=(0, 7), match='Python3'>\n"
          ]
        }
      ],
      "source": [
        "with open('C-18regex_file.txt', 'rt') as fh:\n",
        "    content = fh.read()\n",
        "\n",
        "pattern = r'[A-Z][a-z]{5}\\d{1}'# it will match one cha from A to Z & next n+ char from a to z till end and one decimals number\n",
        "mat = re.match(pattern, content)\n",
        "print(mat)"
      ]
    },
    {
      "cell_type": "code",
      "execution_count": null,
      "id": "c9f30d39",
      "metadata": {
        "id": "c9f30d39",
        "outputId": "276b60aa-c205-4261-f49b-33eaeee2ab49"
      },
      "outputs": [
        {
          "name": "stdout",
          "output_type": "stream",
          "text": [
            "None\n"
          ]
        }
      ],
      "source": [
        "with open('C-18regex_file.txt', 'rt') as fh:\n",
        "    content = fh.read()\n",
        "\n",
        "pattern = r'[A-Z][a-z]{5}\\d{2}'# it will match one cha from A to Z & next n+ char from a to z till end and 2 decimals numbers \\d\n",
        "mat = re.match(pattern, content)\n",
        "print(mat)"
      ]
    },
    {
      "cell_type": "code",
      "execution_count": null,
      "id": "5302f2bb",
      "metadata": {
        "id": "5302f2bb",
        "outputId": "74a91610-b1ce-4883-a26c-6c926bdd6f8b"
      },
      "outputs": [
        {
          "name": "stdout",
          "output_type": "stream",
          "text": [
            "<re.Match object; span=(0, 5), match='Pytho'>\n"
          ]
        }
      ],
      "source": [
        "with open('C-18regex_file.txt', 'rt') as fh:\n",
        "    content = fh.read()\n",
        "\n",
        "pattern = r'[A-Za-z]{5}'  # it will match Caps & Small together upto five char\n",
        "mat = re.match(pattern, content)\n",
        "print(mat)"
      ]
    },
    {
      "cell_type": "code",
      "execution_count": null,
      "id": "1368bfa0",
      "metadata": {
        "id": "1368bfa0",
        "outputId": "c7778200-4256-4faf-82af-bb52551c846e"
      },
      "outputs": [
        {
          "name": "stdout",
          "output_type": "stream",
          "text": [
            "<re.Match object; span=(0, 6), match='Python'>\n"
          ]
        }
      ],
      "source": [
        "with open('C-18regex_file.txt', 'rt') as fh:\n",
        "    content = fh.read()\n",
        "\n",
        "pattern = r'[A-Za-z]{6}'\n",
        "mat = re.match(pattern, content)\n",
        "print(mat)"
      ]
    },
    {
      "cell_type": "code",
      "execution_count": null,
      "id": "983498d1",
      "metadata": {
        "id": "983498d1",
        "outputId": "71cc7775-92d6-4ee1-cbdc-b78df2c510b7"
      },
      "outputs": [
        {
          "name": "stdout",
          "output_type": "stream",
          "text": [
            "None\n"
          ]
        }
      ],
      "source": [
        "with open('C-18regex_file.txt', 'rt') as fh:\n",
        "    content = fh.read()\n",
        "\n",
        "pattern = r'[A-Za-z]{7}'   # Here 7th one is a decimal no will not work\n",
        "mat = re.match(pattern, content)\n",
        "print(mat)"
      ]
    },
    {
      "cell_type": "code",
      "execution_count": null,
      "id": "f3c091ba",
      "metadata": {
        "id": "f3c091ba",
        "outputId": "38b1a694-5313-4637-e852-62963acbe250"
      },
      "outputs": [
        {
          "name": "stdout",
          "output_type": "stream",
          "text": [
            "<re.Match object; span=(0, 7), match='Python3'>\n"
          ]
        }
      ],
      "source": [
        "with open('C-18regex_file.txt', 'rt') as fh:\n",
        "    content = fh.read()\n",
        "\n",
        "pattern = r'[A-Za-z]+\\d'\n",
        "mat = re.match(pattern, content)\n",
        "print(mat)"
      ]
    },
    {
      "cell_type": "code",
      "execution_count": null,
      "id": "87df4b0c",
      "metadata": {
        "id": "87df4b0c",
        "outputId": "d05fdb3d-8c82-4b92-ee58-bf58e9dc99ae"
      },
      "outputs": [
        {
          "name": "stdout",
          "output_type": "stream",
          "text": [
            "None\n"
          ]
        }
      ],
      "source": [
        "with open('C-18regex_file.txt', 'rt') as fh:\n",
        "    content = fh.read()\n",
        "\n",
        "pattern = r'[a-z]+\\d'\n",
        "mat = re.match(pattern, content)\n",
        "print(mat)"
      ]
    },
    {
      "cell_type": "markdown",
      "id": "4a2fa805",
      "metadata": {
        "id": "4a2fa805"
      },
      "source": [
        "#### search()  --> Always starts from first character\n",
        "\n",
        "* re.search(pattern, string)\n",
        "* finds the first occurance pattern in the string\n",
        "* if the pattern is found, it returns the match object of the first occurance\n",
        "* if not found, returns None"
      ]
    },
    {
      "cell_type": "code",
      "execution_count": null,
      "id": "594b69d1",
      "metadata": {
        "id": "594b69d1",
        "outputId": "5a441dc1-14d4-4565-f755-d333ca6ff308"
      },
      "outputs": [
        {
          "data": {
            "text/plain": [
              "\"Python3 is a programming language\\nPython3\\npppam\\n.We are learning python3\\nWe have completed our assignments\\nlearn python\\nmylearn A2\\nlearn2,python\\nAssignments are submitted to learnbay16thmay23@gmail.com\\nMy phone number is      91-9876543210\\na123-456-7890 Py3 learn\\nIP address is 192.100.76.24\\n192.101.77.20\\nlearn_bay\\nlearn-bay\\nJonathan25@gmail.com\\nWhat are the topics left?\\nJohn lives in Sweden \\nwhatever.\\\\com\\nabc@learnbay.com\\njohn123@yahoo.in\\npython2\\nlet's learn- RegEx\\npython34\\n192.100.190.111\\nHe says, letting me work, buddy!\\nxyz-id.12@gmail.com\\nxyz-id-12@gmail.com_char\\n333.333.333.333\\nxyz-id-12@gmail-com\\nxyz-id_12@domain.whatever\\n-@gmail.com\\n.@gmail.com\\n_@gmail.com\\nlearn.\\nmylearning\""
            ]
          },
          "execution_count": 46,
          "metadata": {},
          "output_type": "execute_result"
        }
      ],
      "source": [
        "content"
      ]
    },
    {
      "cell_type": "code",
      "execution_count": null,
      "id": "6ad92cda",
      "metadata": {
        "id": "6ad92cda",
        "outputId": "96ecb0fd-a87e-4897-a8b8-06900fd15c95"
      },
      "outputs": [
        {
          "name": "stdout",
          "output_type": "stream",
          "text": [
            "<re.Match object; span=(1, 6), match='ython'>\n"
          ]
        }
      ],
      "source": [
        "with open('C-18regex_file.txt', 'rt') as fh:\n",
        "    content = fh.read()\n",
        "\n",
        "pattern = r'[a-z]{5}'\n",
        "mat = re.search(pattern, content)   # Search used\n",
        "print(mat)"
      ]
    },
    {
      "cell_type": "code",
      "execution_count": null,
      "id": "7935c093",
      "metadata": {
        "id": "7935c093",
        "outputId": "38513292-cb53-49e3-b31d-a50a9808c305"
      },
      "outputs": [
        {
          "data": {
            "text/plain": [
              "\"Python3 is a programming language\\nPython3\\npppam\\n.We are learning python3\\nWe have completed our assignments\\nlearn python\\nmylearn A2\\nlearn2,python\\nAssignments are submitted to learnbay16thmay23@gmail.com\\nMy phone number is      91-9876543210\\na123-456-7890 Py3 learn\\nIP address is 192.100.76.24\\n192.101.77.20\\nlearn_bay\\nlearn-bay\\nJonathan25@gmail.com\\nWhat are the topics left?\\nJohn lives in Sweden \\nwhatever.\\\\com\\nabc@learnbay.com\\njohn123@yahoo.in\\npython2\\nlet's learn- RegEx\\npython34\\n192.100.190.111\\nHe says, letting me work, buddy!\\nxyz-id.12@gmail.com\\nxyz-id-12@gmail.com_char\\n333.333.333.333\\nxyz-id-12@gmail-com\\nxyz-id_12@domain.whatever\\n-@gmail.com\\n.@gmail.com\\n_@gmail.com\\nlearn.\\nmylearning\""
            ]
          },
          "execution_count": 48,
          "metadata": {},
          "output_type": "execute_result"
        }
      ],
      "source": [
        "content"
      ]
    },
    {
      "cell_type": "code",
      "execution_count": null,
      "id": "16efb782",
      "metadata": {
        "id": "16efb782",
        "outputId": "3c9d21fa-12f9-499e-b599-ddbb897f2535"
      },
      "outputs": [
        {
          "name": "stdout",
          "output_type": "stream",
          "text": [
            "<re.Match object; span=(13, 19), match='progra'>\n"
          ]
        }
      ],
      "source": [
        "with open('C-18regex_file.txt', 'rt') as fh:\n",
        "    content = fh.read()\n",
        "\n",
        "pattern = r'[a-z]{6}'\n",
        "mat = re.search(pattern, content)\n",
        "print(mat)"
      ]
    },
    {
      "cell_type": "code",
      "execution_count": null,
      "id": "7130e22c",
      "metadata": {
        "id": "7130e22c",
        "outputId": "d6d6a9fa-d13e-4735-a5b2-20ee3a7486e7"
      },
      "outputs": [
        {
          "name": "stdout",
          "output_type": "stream",
          "text": [
            "<re.Match object; span=(131, 137), match='learn2'>\n"
          ]
        }
      ],
      "source": [
        "with open('C-18regex_file.txt', 'rt') as fh:\n",
        "    content = fh.read()\n",
        "\n",
        "pattern = r'l[a-z]{4}[0-9]'\n",
        "mat = re.search(pattern, content)\n",
        "print(mat)"
      ]
    },
    {
      "cell_type": "markdown",
      "id": "acaf3a02",
      "metadata": {
        "id": "acaf3a02"
      },
      "source": [
        "#### findall\n",
        "\n",
        "* re.findall(pattern, string)\n",
        "* finds all the occurances of the pattern in the string\n",
        "* if the pattern is found, it returns a list of the matches\n",
        "* if the pattern is not found, it returns []"
      ]
    },
    {
      "cell_type": "code",
      "execution_count": null,
      "id": "edf7ecd1",
      "metadata": {
        "id": "edf7ecd1",
        "outputId": "837cbfd9-a44b-4757-cc17-44f6192fa4eb"
      },
      "outputs": [
        {
          "data": {
            "text/plain": [
              "\"Python3 is a programming language\\nPython3\\npppam\\n.We are learning python3\\nWe have completed our assignments\\nlearn python\\nmylearn A2\\nlearn2,python\\nAssignments are submitted to learnbay16thmay23@gmail.com\\nMy phone number is      91-9876543210\\na123-456-7890 Py3 learn\\nIP address is 192.100.76.24\\n192.101.77.20\\nlearn_bay\\nlearn-bay\\nJonathan25@gmail.com\\nWhat are the topics left?\\nJohn lives in Sweden \\nwhatever.\\\\com\\nabc@learnbay.com\\njohn123@yahoo.in\\npython2\\nlet's learn- RegEx\\npython34\\n192.100.190.111\\nHe says, letting me work, buddy!\\nxyz-id.12@gmail.com\\nxyz-id-12@gmail.com_char\\n333.333.333.333\\nxyz-id-12@gmail-com\\nxyz-id_12@domain.whatever\\n-@gmail.com\\n.@gmail.com\\n_@gmail.com\\nlearn.\\nmylearning\""
            ]
          },
          "execution_count": 51,
          "metadata": {},
          "output_type": "execute_result"
        }
      ],
      "source": [
        "content"
      ]
    },
    {
      "cell_type": "code",
      "execution_count": null,
      "id": "f99656bd",
      "metadata": {
        "id": "f99656bd",
        "outputId": "ba945ef9-416f-4e4d-92bb-355ccd219b65"
      },
      "outputs": [
        {
          "name": "stdout",
          "output_type": "stream",
          "text": [
            "['learn2']\n"
          ]
        }
      ],
      "source": [
        "with open('C-18regex_file.txt', 'rt') as fh:\n",
        "    content = fh.read()\n",
        "\n",
        "pattern = r'l[a-z]{4}[0-9]'\n",
        "mat = re.findall(pattern, content)\n",
        "print(mat)"
      ]
    },
    {
      "cell_type": "code",
      "execution_count": null,
      "id": "0585e7b9",
      "metadata": {
        "id": "0585e7b9",
        "outputId": "15ca8b7e-843c-4bf6-8cba-8799c71a1069"
      },
      "outputs": [
        {
          "name": "stdout",
          "output_type": "stream",
          "text": [
            "['learn2', 'learnbay1']\n"
          ]
        }
      ],
      "source": [
        "with open('C-18regex_file.txt', 'rt') as fh:\n",
        "    content = fh.read()\n",
        "\n",
        "pattern = r'l[a-z]+[0-9]'\n",
        "mat = re.findall(pattern, content)\n",
        "print(mat)"
      ]
    },
    {
      "cell_type": "code",
      "execution_count": null,
      "id": "b9bddc6a",
      "metadata": {
        "id": "b9bddc6a",
        "outputId": "0ea27e7f-6598-4a4d-9395-104dd897c727"
      },
      "outputs": [
        {
          "name": "stdout",
          "output_type": "stream",
          "text": [
            "['learn2', 'learnbay16']\n"
          ]
        }
      ],
      "source": [
        "with open('C-18regex_file.txt', 'rt') as fh:\n",
        "    content = fh.read()\n",
        "\n",
        "pattern = r'l[a-z]+[0-9]+'\n",
        "mat = re.findall(pattern, content)\n",
        "print(mat)"
      ]
    },
    {
      "cell_type": "code",
      "execution_count": null,
      "id": "bb5f8d4a",
      "metadata": {
        "id": "bb5f8d4a",
        "outputId": "24b6b3b8-c759-49f7-a47e-6604faa8efd4"
      },
      "outputs": [
        {
          "name": "stdout",
          "output_type": "stream",
          "text": [
            "['language', 'learning', 'leted', 'learn', 'learn', 'learn', 'learnbay', 'learn', 'learn', 'learn', 'left', 'lives', 'learnbay', 'let', 'learn', 'letting', 'learn', 'learning']\n"
          ]
        }
      ],
      "source": [
        "with open('C-18regex_file.txt', 'rt') as fh:\n",
        "    content = fh.read()\n",
        "\n",
        "pattern = r'l[a-z]+'\n",
        "mat = re.findall(pattern, content)\n",
        "print(mat)"
      ]
    },
    {
      "cell_type": "code",
      "execution_count": null,
      "id": "2aa66118",
      "metadata": {
        "id": "2aa66118",
        "outputId": "0d133ee6-22c6-4e5f-aecb-10dbe9297410"
      },
      "outputs": [
        {
          "data": {
            "text/plain": [
              "18"
            ]
          },
          "execution_count": 57,
          "metadata": {},
          "output_type": "execute_result"
        }
      ],
      "source": [
        "len(mat)"
      ]
    },
    {
      "cell_type": "code",
      "execution_count": null,
      "id": "9f73bd4a",
      "metadata": {
        "id": "9f73bd4a"
      },
      "outputs": [],
      "source": []
    },
    {
      "cell_type": "markdown",
      "id": "a3b7b954",
      "metadata": {
        "id": "a3b7b954"
      },
      "source": [
        "#### finditer\n",
        "\n",
        "* re.finditer(pattern, string)\n",
        "* finds all the occurances of the pattern in the string\n",
        "* if pattern is found, it returns an iterator of the match objects of all the occurances\n",
        "* if pattern not found, it returns an empty iterator"
      ]
    },
    {
      "cell_type": "code",
      "execution_count": null,
      "id": "c2157adc",
      "metadata": {
        "id": "c2157adc",
        "outputId": "35e890f1-9058-4556-e46a-706be7b80e38"
      },
      "outputs": [
        {
          "name": "stdout",
          "output_type": "stream",
          "text": [
            "<callable_iterator object at 0x000001CBF3C78EB0>\n"
          ]
        }
      ],
      "source": [
        "with open('C-18regex_file.txt', 'rt') as fh:\n",
        "    content = fh.read()\n",
        "\n",
        "pattern = r'l[a-z]+'\n",
        "mat = re.finditer(pattern, content)\n",
        "print(mat)"
      ]
    },
    {
      "cell_type": "code",
      "execution_count": null,
      "id": "10915d25",
      "metadata": {
        "id": "10915d25",
        "outputId": "79f1dffa-aea7-412b-869b-5671e0bf40ff"
      },
      "outputs": [
        {
          "name": "stdout",
          "output_type": "stream",
          "text": [
            "<callable_iterator object at 0x000001CBF53E49A0>\n",
            "<re.Match object; span=(25, 33), match='language'>\n",
            "<re.Match object; span=(56, 64), match='learning'>\n",
            "<re.Match object; span=(85, 90), match='leted'>\n",
            "<re.Match object; span=(107, 112), match='learn'>\n",
            "<re.Match object; span=(122, 127), match='learn'>\n",
            "<re.Match object; span=(131, 136), match='learn'>\n",
            "<re.Match object; span=(174, 182), match='learnbay'>\n",
            "<re.Match object; span=(258, 263), match='learn'>\n",
            "<re.Match object; span=(306, 311), match='learn'>\n",
            "<re.Match object; span=(316, 321), match='learn'>\n",
            "<re.Match object; span=(367, 371), match='left'>\n",
            "<re.Match object; span=(378, 383), match='lives'>\n",
            "<re.Match object; span=(413, 421), match='learnbay'>\n",
            "<re.Match object; span=(451, 454), match='let'>\n",
            "<re.Match object; span=(457, 462), match='learn'>\n",
            "<re.Match object; span=(504, 511), match='letting'>\n",
            "<re.Match object; span=(671, 676), match='learn'>\n",
            "<re.Match object; span=(680, 688), match='learning'>\n"
          ]
        }
      ],
      "source": [
        "with open('C-18regex_file.txt', 'rt') as fh:\n",
        "    content = fh.read()\n",
        "\n",
        "pattern = r'l[a-z]+'\n",
        "mat = re.finditer(pattern, content)\n",
        "print(mat)\n",
        "\n",
        "for m in mat:\n",
        "    print(m)"
      ]
    },
    {
      "cell_type": "code",
      "execution_count": null,
      "id": "f92a258e",
      "metadata": {
        "id": "f92a258e",
        "outputId": "0c12ab51-cef8-4039-ca80-58bd8696cf57"
      },
      "outputs": [
        {
          "data": {
            "text/plain": [
              "\"Python3 is a programming language\\nPython3\\npppam\\n.We are learning python3\\nWe have completed our assignments\\nlearn python\\nmylearn A2\\nlearn2,python\\nAssignments are submitted to learnbay16thmay23@gmail.com\\nMy phone number is      91-9876543210\\na123-456-7890 Py3 learn\\nIP address is 192.100.76.24\\n192.101.77.20\\nlearn_bay\\nlearn-bay\\nJonathan25@gmail.com\\nWhat are the topics left?\\nJohn lives in Sweden \\nwhatever.\\\\com\\nabc@learnbay.com\\njohn123@yahoo.in\\npython2\\nlet's learn- RegEx\\npython34\\n192.100.190.111\\nHe says, letting me work, buddy!\\nxyz-id.12@gmail.com\\nxyz-id-12@gmail.com_char\\n333.333.333.333\\nxyz-id-12@gmail-com\\nxyz-id_12@domain.whatever\\n-@gmail.com\\n.@gmail.com\\n_@gmail.com\\nlearn.\\nmylearning\""
            ]
          },
          "execution_count": 60,
          "metadata": {},
          "output_type": "execute_result"
        }
      ],
      "source": [
        "content"
      ]
    },
    {
      "cell_type": "code",
      "execution_count": null,
      "id": "c321e4c6",
      "metadata": {
        "id": "c321e4c6",
        "outputId": "f3a6a831-d281-4778-8cad-eec8115d5d0c"
      },
      "outputs": [
        {
          "name": "stdout",
          "output_type": "stream",
          "text": [
            "<callable_iterator object at 0x000001CBF3D38D00>\n",
            "<re.Match object; span=(25, 33), match='language'>\n",
            "<re.Match object; span=(56, 65), match='learning '>\n",
            "<re.Match object; span=(85, 91), match='leted '>\n",
            "<re.Match object; span=(107, 113), match='learn '>\n",
            "<re.Match object; span=(122, 128), match='learn '>\n",
            "<re.Match object; span=(131, 137), match='learn2'>\n",
            "<re.Match object; span=(174, 183), match='learnbay1'>\n",
            "<re.Match object; span=(258, 263), match='learn'>\n",
            "<re.Match object; span=(306, 312), match='learn_'>\n",
            "<re.Match object; span=(316, 322), match='learn-'>\n",
            "<re.Match object; span=(367, 372), match='left?'>\n",
            "<re.Match object; span=(378, 384), match='lives '>\n",
            "<re.Match object; span=(413, 422), match='learnbay.'>\n",
            "<re.Match object; span=(451, 455), match=\"let'\">\n",
            "<re.Match object; span=(457, 463), match='learn-'>\n",
            "<re.Match object; span=(504, 512), match='letting '>\n",
            "<re.Match object; span=(671, 677), match='learn.'>\n",
            "<re.Match object; span=(680, 688), match='learning'>\n"
          ]
        }
      ],
      "source": [
        "with open('C-18regex_file.txt', 'rt') as fh:\n",
        "    content = fh.read()\n",
        "\n",
        "pattern = r'l[a-z]+.'\n",
        "mat = re.finditer(pattern, content)\n",
        "print(mat)\n",
        "\n",
        "for m in mat:\n",
        "    print(m)"
      ]
    },
    {
      "cell_type": "code",
      "execution_count": null,
      "id": "86579007",
      "metadata": {
        "id": "86579007",
        "outputId": "a99bbf20-9aac-4e74-f69c-4ae11662ab2e"
      },
      "outputs": [
        {
          "data": {
            "text/plain": [
              "\"Python3 is a programming language\\nPython3\\npppam\\n.We are learning python3\\nWe have completed our assignments\\nlearn python\\nmylearn A2\\nlearn2,python\\nAssignments are submitted to learnbay16thmay23@gmail.com\\nMy phone number is      91-9876543210\\na123-456-7890 Py3 learn\\nIP address is 192.100.76.24\\n192.101.77.20\\nlearn_bay\\nlearn-bay\\nJonathan25@gmail.com\\nWhat are the topics left?\\nJohn lives in Sweden \\nwhatever.\\\\com\\nabc@learnbay.com\\njohn123@yahoo.in\\npython2\\nlet's learn- RegEx\\npython34\\n192.100.190.111\\nHe says, letting me work, buddy!\\nxyz-id.12@gmail.com\\nxyz-id-12@gmail.com_char\\n333.333.333.333\\nxyz-id-12@gmail-com\\nxyz-id_12@domain.whatever\\n-@gmail.com\\n.@gmail.com\\n_@gmail.com\\nlearn.\\nmylearning\""
            ]
          },
          "execution_count": 61,
          "metadata": {},
          "output_type": "execute_result"
        }
      ],
      "source": [
        "content"
      ]
    },
    {
      "cell_type": "code",
      "execution_count": null,
      "id": "33f55e0b",
      "metadata": {
        "id": "33f55e0b",
        "outputId": "c8c25f5e-b0e0-4bfc-cb1e-28481c46d87e"
      },
      "outputs": [
        {
          "name": "stdout",
          "output_type": "stream",
          "text": [
            "<callable_iterator object at 0x000001CBF3D38F70>\n",
            "<re.Match object; span=(56, 62), match='learni'>\n",
            "<re.Match object; span=(107, 113), match='learn '>\n",
            "<re.Match object; span=(122, 128), match='learn '>\n",
            "<re.Match object; span=(131, 137), match='learn2'>\n",
            "<re.Match object; span=(174, 180), match='learnb'>\n",
            "<re.Match object; span=(306, 312), match='learn_'>\n",
            "<re.Match object; span=(316, 322), match='learn-'>\n",
            "<re.Match object; span=(413, 419), match='learnb'>\n",
            "<re.Match object; span=(457, 463), match='learn-'>\n",
            "<re.Match object; span=(671, 677), match='learn.'>\n",
            "<re.Match object; span=(680, 686), match='learni'>\n"
          ]
        }
      ],
      "source": [
        "with open('C-18regex_file.txt', 'rt') as fh:\n",
        "    content = fh.read()\n",
        "\n",
        "pattern = r'learn.'\n",
        "mat = re.finditer(pattern, content)\n",
        "print(mat)\n",
        "\n",
        "for m in mat:\n",
        "    print(m)"
      ]
    },
    {
      "cell_type": "code",
      "execution_count": null,
      "id": "bce1369a",
      "metadata": {
        "id": "bce1369a",
        "outputId": "c171a43a-9c7e-4a82-bc66-c371f9463b9f"
      },
      "outputs": [
        {
          "name": "stdout",
          "output_type": "stream",
          "text": [
            "<callable_iterator object at 0x000001CBF53E49A0>\n",
            "<re.Match object; span=(131, 137), match='learn2'>\n"
          ]
        }
      ],
      "source": [
        "with open('C-18regex_file.txt', 'rt') as fh:\n",
        "    content = fh.read()\n",
        "\n",
        "pattern = r'learn\\d'\n",
        "mat = re.finditer(pattern, content)\n",
        "print(mat)\n",
        "\n",
        "for m in mat:\n",
        "    print(m)"
      ]
    },
    {
      "cell_type": "code",
      "execution_count": null,
      "id": "cb8a7448",
      "metadata": {
        "id": "cb8a7448",
        "outputId": "63747515-40b0-4c35-db0c-771578baf46a"
      },
      "outputs": [
        {
          "name": "stdout",
          "output_type": "stream",
          "text": [
            "<callable_iterator object at 0x000001CBF53E49A0>\n",
            "<re.Match object; span=(131, 137), match='learn2'>\n",
            "<re.Match object; span=(174, 183), match='learnbay1'>\n"
          ]
        }
      ],
      "source": [
        "with open('C-18regex_file.txt', 'rt') as fh:\n",
        "    content = fh.read()\n",
        "\n",
        "pattern = r'l[a-z]+\\d'\n",
        "mat = re.finditer(pattern, content)\n",
        "print(mat)\n",
        "\n",
        "for m in mat:\n",
        "    print(m)"
      ]
    },
    {
      "cell_type": "code",
      "execution_count": null,
      "id": "8171c767",
      "metadata": {
        "id": "8171c767",
        "outputId": "f82d6c58-fd7f-4e03-e7db-40fe18ad7d6a"
      },
      "outputs": [
        {
          "name": "stdout",
          "output_type": "stream",
          "text": [
            "<callable_iterator object at 0x000001CBF5254760>\n",
            "<re.Match object; span=(25, 34), match='language\\n'>\n",
            "<re.Match object; span=(56, 65), match='learning '>\n",
            "<re.Match object; span=(85, 91), match='leted '>\n",
            "<re.Match object; span=(107, 113), match='learn '>\n",
            "<re.Match object; span=(122, 128), match='learn '>\n",
            "<re.Match object; span=(131, 136), match='learn'>\n",
            "<re.Match object; span=(174, 182), match='learnbay'>\n",
            "<re.Match object; span=(258, 264), match='learn\\n'>\n",
            "<re.Match object; span=(306, 312), match='learn_'>\n",
            "<re.Match object; span=(316, 322), match='learn-'>\n",
            "<re.Match object; span=(367, 372), match='left?'>\n",
            "<re.Match object; span=(378, 384), match='lives '>\n",
            "<re.Match object; span=(413, 422), match='learnbay.'>\n",
            "<re.Match object; span=(451, 455), match=\"let'\">\n",
            "<re.Match object; span=(457, 463), match='learn-'>\n",
            "<re.Match object; span=(504, 512), match='letting '>\n",
            "<re.Match object; span=(671, 677), match='learn.'>\n",
            "<re.Match object; span=(680, 688), match='learning'>\n"
          ]
        }
      ],
      "source": [
        "with open('C-18regex_file.txt', 'rt') as fh:\n",
        "    content = fh.read()\n",
        "\n",
        "pattern = r'l[a-z]+\\D'\n",
        "mat = re.finditer(pattern, content)\n",
        "print(mat)\n",
        "\n",
        "for m in mat:\n",
        "    print(m)"
      ]
    },
    {
      "cell_type": "code",
      "execution_count": null,
      "id": "609f809e",
      "metadata": {
        "id": "609f809e",
        "outputId": "0aaa875b-8701-4e3a-9ea9-a0e26f2dfa87"
      },
      "outputs": [
        {
          "data": {
            "text/plain": [
              "\"Python3 is a programming language\\nPython3\\npppam\\n.We are learning python3\\nWe have completed our assignments\\nlearn python\\nmylearn A2\\nlearn2,python\\nAssignments are submitted to learnbay16thmay23@gmail.com\\nMy phone number is      91-9876543210\\na123-456-7890 Py3 learn\\nIP address is 192.100.76.24\\n192.101.77.20\\nlearn_bay\\nlearn-bay\\nJonathan25@gmail.com\\nWhat are the topics left?\\nJohn lives in Sweden \\nwhatever.\\\\com\\nabc@learnbay.com\\njohn123@yahoo.in\\npython2\\nlet's learn- RegEx\\npython34\\n192.100.190.111\\nHe says, letting me work, buddy!\\nxyz-id.12@gmail.com\\nxyz-id-12@gmail.com_char\\n333.333.333.333\\nxyz-id-12@gmail-com\\nxyz-id_12@domain.whatever\\n-@gmail.com\\n.@gmail.com\\n_@gmail.com\\nlearn.\\nmylearning\""
            ]
          },
          "execution_count": 66,
          "metadata": {},
          "output_type": "execute_result"
        }
      ],
      "source": [
        "content"
      ]
    },
    {
      "cell_type": "code",
      "execution_count": null,
      "id": "92cbe545",
      "metadata": {
        "id": "92cbe545",
        "outputId": "8dff7587-0ae8-4959-fa29-626dc14fe3e6"
      },
      "outputs": [
        {
          "name": "stdout",
          "output_type": "stream",
          "text": [
            "<callable_iterator object at 0x000001CBF5254400>\n",
            "<re.Match object; span=(56, 62), match='learni'>\n",
            "<re.Match object; span=(131, 137), match='learn2'>\n",
            "<re.Match object; span=(174, 180), match='learnb'>\n",
            "<re.Match object; span=(306, 312), match='learn_'>\n",
            "<re.Match object; span=(413, 419), match='learnb'>\n",
            "<re.Match object; span=(680, 686), match='learni'>\n"
          ]
        }
      ],
      "source": [
        "with open('C-18regex_file.txt', 'rt') as fh:\n",
        "    content = fh.read()\n",
        "\n",
        "pattern = r'learn\\w'\n",
        "mat = re.finditer(pattern, content)\n",
        "print(mat)\n",
        "\n",
        "for m in mat:\n",
        "    print(m)"
      ]
    },
    {
      "cell_type": "code",
      "execution_count": null,
      "id": "743e69b6",
      "metadata": {
        "id": "743e69b6",
        "outputId": "a558b7c2-d22e-4a8b-a8a8-604e7040c499"
      },
      "outputs": [
        {
          "name": "stdout",
          "output_type": "stream",
          "text": [
            "<callable_iterator object at 0x000001CBF5254F40>\n",
            "<re.Match object; span=(107, 113), match='learn '>\n",
            "<re.Match object; span=(122, 128), match='learn '>\n",
            "<re.Match object; span=(258, 264), match='learn\\n'>\n",
            "<re.Match object; span=(316, 322), match='learn-'>\n",
            "<re.Match object; span=(457, 463), match='learn-'>\n",
            "<re.Match object; span=(671, 677), match='learn.'>\n"
          ]
        }
      ],
      "source": [
        "with open('C-18regex_file.txt', 'rt') as fh:\n",
        "    content = fh.read()\n",
        "\n",
        "pattern = r'learn\\W'\n",
        "mat = re.finditer(pattern, content)\n",
        "print(mat)\n",
        "\n",
        "for m in mat:\n",
        "    print(m)"
      ]
    },
    {
      "cell_type": "code",
      "execution_count": null,
      "id": "41dd9437",
      "metadata": {
        "id": "41dd9437",
        "outputId": "1037c4ed-11bf-410b-b5a2-b7f4992ef47b"
      },
      "outputs": [
        {
          "name": "stdout",
          "output_type": "stream",
          "text": [
            "<callable_iterator object at 0x000001CBF52551B0>\n",
            "<re.Match object; span=(107, 113), match='learn '>\n",
            "<re.Match object; span=(122, 128), match='learn '>\n",
            "<re.Match object; span=(258, 264), match='learn\\n'>\n"
          ]
        }
      ],
      "source": [
        "with open('C-18regex_file.txt', 'rt') as fh:\n",
        "    content = fh.read()\n",
        "\n",
        "pattern = r'learn\\s'\n",
        "mat = re.finditer(pattern, content)\n",
        "print(mat)\n",
        "\n",
        "for m in mat:\n",
        "    print(m)"
      ]
    },
    {
      "cell_type": "code",
      "execution_count": null,
      "id": "e9125374",
      "metadata": {
        "id": "e9125374",
        "outputId": "1d2fc301-319b-409f-f5a8-725306bb43ea"
      },
      "outputs": [
        {
          "name": "stdout",
          "output_type": "stream",
          "text": [
            "<callable_iterator object at 0x000001CBF5255090>\n",
            "<re.Match object; span=(56, 62), match='learni'>\n",
            "<re.Match object; span=(131, 137), match='learn2'>\n",
            "<re.Match object; span=(174, 180), match='learnb'>\n",
            "<re.Match object; span=(306, 312), match='learn_'>\n",
            "<re.Match object; span=(316, 322), match='learn-'>\n",
            "<re.Match object; span=(413, 419), match='learnb'>\n",
            "<re.Match object; span=(457, 463), match='learn-'>\n",
            "<re.Match object; span=(671, 677), match='learn.'>\n",
            "<re.Match object; span=(680, 686), match='learni'>\n"
          ]
        }
      ],
      "source": [
        "with open('C-18regex_file.txt', 'rt') as fh:\n",
        "    content = fh.read()\n",
        "\n",
        "pattern = r'learn\\S'\n",
        "mat = re.finditer(pattern, content)\n",
        "print(mat)\n",
        "\n",
        "for m in mat:\n",
        "    print(m)"
      ]
    },
    {
      "cell_type": "code",
      "execution_count": null,
      "id": "df48d4ea",
      "metadata": {
        "id": "df48d4ea",
        "outputId": "beebbee0-9993-4f67-d683-7d2a19066701"
      },
      "outputs": [
        {
          "name": "stdout",
          "output_type": "stream",
          "text": [
            "Help on function finditer in module re:\n",
            "\n",
            "finditer(pattern, string, flags=0)\n",
            "    Return an iterator over all non-overlapping matches in the\n",
            "    string.  For each match, the iterator returns a Match object.\n",
            "    \n",
            "    Empty matches are included in the result.\n",
            "\n"
          ]
        }
      ],
      "source": [
        "help(re.finditer)"
      ]
    },
    {
      "cell_type": "code",
      "execution_count": null,
      "id": "9636d14a",
      "metadata": {
        "id": "9636d14a",
        "outputId": "35aac00f-4e85-4b54-89dc-c2686cb6ffe1"
      },
      "outputs": [
        {
          "name": "stdout",
          "output_type": "stream",
          "text": [
            "<callable_iterator object at 0x000001CBF21718D0>\n",
            "<re.Match object; span=(56, 62), match='learni'>\n",
            "<re.Match object; span=(131, 137), match='learn2'>\n",
            "<re.Match object; span=(174, 180), match='learnb'>\n",
            "<re.Match object; span=(306, 312), match='learn_'>\n",
            "<re.Match object; span=(316, 322), match='learn-'>\n",
            "<re.Match object; span=(413, 419), match='learnb'>\n",
            "<re.Match object; span=(457, 463), match='learn-'>\n",
            "<re.Match object; span=(671, 677), match='learn.'>\n",
            "<re.Match object; span=(680, 686), match='learni'>\n"
          ]
        }
      ],
      "source": [
        "with open('C-18regex_file.txt', 'rt') as fh:\n",
        "    content = fh.read()\n",
        "\n",
        "pattern = r'learn\\S'\n",
        "mat = re.finditer(pattern, content, re.I)\n",
        "print(mat)\n",
        "\n",
        "for m in mat:\n",
        "    print(m)"
      ]
    },
    {
      "cell_type": "code",
      "execution_count": null,
      "id": "fbf44274",
      "metadata": {
        "id": "fbf44274",
        "outputId": "486781e1-9291-4b2b-8730-31fb0414e259"
      },
      "outputs": [
        {
          "name": "stdout",
          "output_type": "stream",
          "text": [
            "<callable_iterator object at 0x000001CBF52548E0>\n",
            "<re.Match object; span=(56, 62), match='learni'>\n",
            "<re.Match object; span=(131, 137), match='learn2'>\n",
            "<re.Match object; span=(174, 180), match='learnb'>\n",
            "<re.Match object; span=(306, 312), match='learn_'>\n",
            "<re.Match object; span=(316, 322), match='learn-'>\n",
            "<re.Match object; span=(413, 419), match='learnb'>\n",
            "<re.Match object; span=(457, 463), match='learn-'>\n",
            "<re.Match object; span=(671, 677), match='learn.'>\n",
            "<re.Match object; span=(680, 686), match='learni'>\n"
          ]
        }
      ],
      "source": [
        "with open('C-18regex_file.txt', 'rt') as fh:\n",
        "    content = fh.read()\n",
        "\n",
        "pattern = r'learn\\S'\n",
        "mat = re.finditer(pattern, content, re.I)\n",
        "print(mat)\n",
        "\n",
        "for m in mat:\n",
        "    print(m)"
      ]
    },
    {
      "cell_type": "code",
      "execution_count": null,
      "id": "cdcddeb4",
      "metadata": {
        "id": "cdcddeb4",
        "outputId": "913abde2-b672-4554-eb25-c364424f4987"
      },
      "outputs": [
        {
          "name": "stdout",
          "output_type": "stream",
          "text": [
            "<callable_iterator object at 0x000001CBF3C789A0>\n",
            "<re.Match object; span=(56, 62), match='learni'>\n",
            "<re.Match object; span=(131, 137), match='learn2'>\n",
            "<re.Match object; span=(174, 180), match='learnb'>\n",
            "<re.Match object; span=(306, 312), match='learn_'>\n",
            "<re.Match object; span=(316, 322), match='learn-'>\n",
            "<re.Match object; span=(413, 419), match='learnb'>\n",
            "<re.Match object; span=(457, 463), match='learn-'>\n",
            "<re.Match object; span=(671, 677), match='learn.'>\n",
            "<re.Match object; span=(680, 686), match='learni'>\n"
          ]
        }
      ],
      "source": [
        "with open('C-18regex_file.txt', 'rt') as fh:\n",
        "    content = fh.read()\n",
        "\n",
        "pattern = r'learn\\S'\n",
        "mat = re.finditer(pattern, content)\n",
        "print(mat)\n",
        "\n",
        "for m in mat:\n",
        "    print(m)"
      ]
    },
    {
      "cell_type": "code",
      "execution_count": null,
      "id": "10289593",
      "metadata": {
        "id": "10289593",
        "outputId": "47642369-dc03-4688-fd72-2ec55649d58b"
      },
      "outputs": [
        {
          "data": {
            "text/plain": [
              "\"Python3 is a programming language\\nPython3\\npppam\\n.We are learning python3\\nWe have completed our assignments\\nlearn python\\nmylearn A2\\nlearn2,python\\nAssignments are submitted to learnbay16thmay23@gmail.com\\nMy phone number is      91-9876543210\\na123-456-7890 Py3 learn\\nIP address is 192.100.76.24\\n192.101.77.20\\nlearn_bay\\nlearn-bay\\nJonathan25@gmail.com\\nWhat are the topics left?\\nJohn lives in Sweden \\nwhatever.\\\\com\\nabc@learnbay.com\\njohn123@yahoo.in\\npython2\\nlet's learn- RegEx\\npython34\\n192.100.190.111\\nHe says, letting me work, buddy!\\nxyz-id.12@gmail.com\\nxyz-id-12@gmail.com_char\\n333.333.333.333\\nxyz-id-12@gmail-com\\nxyz-id_12@domain.whatever\\n-@gmail.com\\n.@gmail.com\\n_@gmail.com\\nlearn.\\nmylearning\""
            ]
          },
          "execution_count": 77,
          "metadata": {},
          "output_type": "execute_result"
        }
      ],
      "source": [
        "content"
      ]
    },
    {
      "cell_type": "code",
      "execution_count": null,
      "id": "ba4a6f06",
      "metadata": {
        "id": "ba4a6f06",
        "outputId": "93143fb6-3275-4df4-a50c-d45cc7ffc334"
      },
      "outputs": [
        {
          "name": "stdout",
          "output_type": "stream",
          "text": [
            "<callable_iterator object at 0x000001CBF21718D0>\n",
            "<re.Match object; span=(56, 61), match='learn'>\n",
            "<re.Match object; span=(107, 112), match='learn'>\n",
            "<re.Match object; span=(122, 127), match='learn'>\n",
            "<re.Match object; span=(131, 136), match='learn'>\n",
            "<re.Match object; span=(174, 179), match='learn'>\n",
            "<re.Match object; span=(258, 263), match='learn'>\n",
            "<re.Match object; span=(306, 311), match='learn'>\n",
            "<re.Match object; span=(316, 321), match='learn'>\n",
            "<re.Match object; span=(413, 418), match='learn'>\n",
            "<re.Match object; span=(457, 462), match='learn'>\n",
            "<re.Match object; span=(671, 676), match='learn'>\n",
            "<re.Match object; span=(680, 685), match='learn'>\n"
          ]
        }
      ],
      "source": [
        "with open('C-18regex_file.txt', 'rt') as fh:\n",
        "    content = fh.read()\n",
        "\n",
        "pattern = r'learn'\n",
        "mat = re.finditer(pattern, content)\n",
        "print(mat)\n",
        "\n",
        "for m in mat:\n",
        "    print(m)"
      ]
    },
    {
      "cell_type": "code",
      "execution_count": null,
      "id": "73bac383",
      "metadata": {
        "id": "73bac383",
        "outputId": "776db582-ab62-4ae7-8223-6a3c72bc0b1d"
      },
      "outputs": [
        {
          "name": "stdout",
          "output_type": "stream",
          "text": [
            "<callable_iterator object at 0x000001CBF5254AC0>\n",
            "<re.Match object; span=(56, 61), match='learn'>\n",
            "<re.Match object; span=(107, 112), match='learn'>\n",
            "<re.Match object; span=(122, 127), match='learn'>\n",
            "<re.Match object; span=(131, 136), match='learn'>\n",
            "<re.Match object; span=(174, 179), match='learn'>\n",
            "<re.Match object; span=(258, 263), match='learn'>\n",
            "<re.Match object; span=(306, 311), match='learn'>\n",
            "<re.Match object; span=(316, 321), match='learn'>\n",
            "<re.Match object; span=(413, 418), match='learn'>\n",
            "<re.Match object; span=(457, 462), match='learn'>\n",
            "<re.Match object; span=(671, 676), match='learn'>\n",
            "<re.Match object; span=(680, 685), match='learn'>\n"
          ]
        }
      ],
      "source": [
        "with open('C-18regex_file.txt', 'rt') as fh:\n",
        "    content = fh.read()\n",
        "\n",
        "pattern = r'learn'\n",
        "mat = re.finditer(pattern, content)\n",
        "print(mat)\n",
        "\n",
        "for m in mat:\n",
        "    print(m)"
      ]
    },
    {
      "cell_type": "code",
      "execution_count": null,
      "id": "c13ecdfd",
      "metadata": {
        "id": "c13ecdfd",
        "outputId": "1461023d-4709-4353-c7fb-c5d662e3fe4c"
      },
      "outputs": [
        {
          "data": {
            "text/plain": [
              "\"Python3 is a programming language\\nPython3\\npppam\\n.We are learning python3\\nWe have completed our assignments\\nlearn python\\nmylearn A2\\nlearn2,python\\nAssignments are submitted to learnbay16thmay23@gmail.com\\nMy phone number is      91-9876543210\\na123-456-7890 Py3 learn\\nIP address is 192.100.76.24\\n192.101.77.20\\nlearn_bay\\nlearn-bay\\nJonathan25@gmail.com\\nWhat are the topics left?\\nJohn lives in Sweden \\nwhatever.\\\\com\\nabc@learnbay.com\\njohn123@yahoo.in\\npython2\\nlet's learn- RegEx\\npython34\\n192.100.190.111\\nHe says, letting me work, buddy!\\nxyz-id.12@gmail.com\\nxyz-id-12@gmail.com_char\\n333.333.333.333\\nxyz-id-12@gmail-com\\nxyz-id_12@domain.whatever\\n-@gmail.com\\n.@gmail.com\\n_@gmail.com\\nlearn.\\nmylearning\""
            ]
          },
          "execution_count": 78,
          "metadata": {},
          "output_type": "execute_result"
        }
      ],
      "source": [
        "content"
      ]
    },
    {
      "cell_type": "code",
      "execution_count": null,
      "id": "82048445",
      "metadata": {
        "id": "82048445",
        "outputId": "4f289c50-2fc1-435e-e82c-da2505033f63"
      },
      "outputs": [
        {
          "name": "stdout",
          "output_type": "stream",
          "text": [
            "<callable_iterator object at 0x000001CBF21718D0>\n",
            "<re.Match object; span=(56, 61), match='learn'>\n",
            "<re.Match object; span=(107, 112), match='learn'>\n",
            "<re.Match object; span=(131, 136), match='learn'>\n",
            "<re.Match object; span=(174, 179), match='learn'>\n",
            "<re.Match object; span=(258, 263), match='learn'>\n",
            "<re.Match object; span=(306, 311), match='learn'>\n",
            "<re.Match object; span=(316, 321), match='learn'>\n",
            "<re.Match object; span=(413, 418), match='learn'>\n",
            "<re.Match object; span=(457, 462), match='learn'>\n",
            "<re.Match object; span=(671, 676), match='learn'>\n"
          ]
        }
      ],
      "source": [
        "with open('C-18regex_file.txt', 'rt') as fh:\n",
        "    content = fh.read()\n",
        "\n",
        "pattern = r'\\blearn'\n",
        "mat = re.finditer(pattern, content)\n",
        "print(mat)\n",
        "\n",
        "for m in mat:\n",
        "    print(m)"
      ]
    },
    {
      "cell_type": "code",
      "execution_count": null,
      "id": "d51e2d87",
      "metadata": {
        "id": "d51e2d87",
        "outputId": "70423ad7-23eb-4497-94b1-39e7071f50d2"
      },
      "outputs": [
        {
          "name": "stdout",
          "output_type": "stream",
          "text": [
            "<callable_iterator object at 0x000001CBF5255B40>\n",
            "<re.Match object; span=(107, 112), match='learn'>\n",
            "<re.Match object; span=(122, 127), match='learn'>\n",
            "<re.Match object; span=(258, 263), match='learn'>\n",
            "<re.Match object; span=(316, 321), match='learn'>\n",
            "<re.Match object; span=(457, 462), match='learn'>\n",
            "<re.Match object; span=(671, 676), match='learn'>\n"
          ]
        }
      ],
      "source": [
        "with open('C-18regex_file.txt', 'rt') as fh:\n",
        "    content = fh.read()\n",
        "\n",
        "pattern = r'learn\\b'\n",
        "mat = re.finditer(pattern, content)\n",
        "print(mat)\n",
        "\n",
        "for m in mat:\n",
        "    print(m)"
      ]
    },
    {
      "cell_type": "code",
      "execution_count": null,
      "id": "93be9079",
      "metadata": {
        "id": "93be9079",
        "outputId": "d155d1b3-3081-44ca-8fab-9b6e21d75a0b"
      },
      "outputs": [
        {
          "data": {
            "text/plain": [
              "\"Python3 is a programming language\\nPython3\\npppam\\n.We are learning python3\\nWe have completed our assignments\\nlearn python\\nmylearn A2\\nlearn2,python\\nAssignments are submitted to learnbay16thmay23@gmail.com\\nMy phone number is      91-9876543210\\na123-456-7890 Py3 learn\\nIP address is 192.100.76.24\\n192.101.77.20\\nlearn_bay\\nlearn-bay\\nJonathan25@gmail.com\\nWhat are the topics left?\\nJohn lives in Sweden \\nwhatever.\\\\com\\nabc@learnbay.com\\njohn123@yahoo.in\\npython2\\nlet's learn- RegEx\\npython34\\n192.100.190.111\\nHe says, letting me work, buddy!\\nxyz-id.12@gmail.com\\nxyz-id-12@gmail.com_char\\n333.333.333.333\\nxyz-id-12@gmail-com\\nxyz-id_12@domain.whatever\\n-@gmail.com\\n.@gmail.com\\n_@gmail.com\\nlearn.\\nmylearning\""
            ]
          },
          "execution_count": 81,
          "metadata": {},
          "output_type": "execute_result"
        }
      ],
      "source": [
        "content"
      ]
    },
    {
      "cell_type": "code",
      "execution_count": null,
      "id": "6a46e83c",
      "metadata": {
        "id": "6a46e83c",
        "outputId": "f7e0b64b-ac56-40f0-e651-21d51d872494"
      },
      "outputs": [
        {
          "name": "stdout",
          "output_type": "stream",
          "text": [
            "<callable_iterator object at 0x000001CBF5255390>\n",
            "<re.Match object; span=(107, 112), match='learn'>\n",
            "<re.Match object; span=(258, 263), match='learn'>\n",
            "<re.Match object; span=(316, 321), match='learn'>\n",
            "<re.Match object; span=(457, 462), match='learn'>\n",
            "<re.Match object; span=(671, 676), match='learn'>\n"
          ]
        }
      ],
      "source": [
        "with open('C-18regex_file.txt', 'rt') as fh:\n",
        "    content = fh.read()\n",
        "\n",
        "pattern = r'\\blearn\\b'\n",
        "mat = re.finditer(pattern, content)\n",
        "print(mat)\n",
        "\n",
        "for m in mat:\n",
        "    print(m)"
      ]
    },
    {
      "cell_type": "code",
      "execution_count": null,
      "id": "d6665121",
      "metadata": {
        "id": "d6665121",
        "outputId": "972b708c-4ae7-4972-cce8-be9629f9bffb"
      },
      "outputs": [
        {
          "name": "stdout",
          "output_type": "stream",
          "text": [
            "<callable_iterator object at 0x000001CBF21718D0>\n",
            "<re.Match object; span=(680, 685), match='learn'>\n"
          ]
        }
      ],
      "source": [
        "with open('C-18regex_file.txt', 'rt') as fh:\n",
        "    content = fh.read()\n",
        "\n",
        "pattern = r'\\Blearn\\B'\n",
        "mat = re.finditer(pattern, content)\n",
        "print(mat)\n",
        "\n",
        "for m in mat:\n",
        "    print(m)"
      ]
    },
    {
      "cell_type": "code",
      "execution_count": null,
      "id": "0ec503ce",
      "metadata": {
        "id": "0ec503ce",
        "outputId": "9f6c49ff-2593-45a1-afc9-866aea3eeddc"
      },
      "outputs": [
        {
          "data": {
            "text/plain": [
              "\"Python3 is a programming language\\nPython3\\npppam\\n.We are learning python3\\nWe have completed our assignments\\nlearn python\\nmylearn A2\\nlearn2,python\\nAssignments are submitted to learnbay16thmay23@gmail.com\\nMy phone number is      91-9876543210\\na123-456-7890 Py3 learn\\nIP address is 192.100.76.24\\n192.101.77.20\\nlearn_bay\\nlearn-bay\\nJonathan25@gmail.com\\nWhat are the topics left?\\nJohn lives in Sweden \\nwhatever.\\\\com\\nabc@learnbay.com\\njohn123@yahoo.in\\npython2\\nlet's learn- RegEx\\npython34\\n192.100.190.111\\nHe says, letting me work, buddy!\\nxyz-id.12@gmail.com\\nxyz-id-12@gmail.com_char\\n333.333.333.333\\nxyz-id-12@gmail-com\\nxyz-id_12@domain.whatever\\n-@gmail.com\\n.@gmail.com\\n_@gmail.com\\nlearn.\\nmylearning\""
            ]
          },
          "execution_count": 84,
          "metadata": {},
          "output_type": "execute_result"
        }
      ],
      "source": [
        "content"
      ]
    },
    {
      "cell_type": "code",
      "execution_count": null,
      "id": "ca9b503d",
      "metadata": {
        "id": "ca9b503d",
        "outputId": "b8941d0d-aacd-4c4b-9f67-7df7e246934b"
      },
      "outputs": [
        {
          "name": "stdout",
          "output_type": "stream",
          "text": [
            "<callable_iterator object at 0x000001CBF5254310>\n",
            "<re.Match object; span=(0, 1), match='P'>\n"
          ]
        }
      ],
      "source": [
        "with open('C-18regex_file.txt', 'rt') as fh:\n",
        "    content = fh.read()\n",
        "\n",
        "pattern = r'^[A-Za-z]'\n",
        "mat = re.finditer(pattern, content)\n",
        "print(mat)\n",
        "\n",
        "for m in mat:\n",
        "    print(m)"
      ]
    },
    {
      "cell_type": "code",
      "execution_count": null,
      "id": "b380b3a7",
      "metadata": {
        "id": "b380b3a7",
        "outputId": "a341d43a-d16f-4eb6-ef82-26b4963ee51d"
      },
      "outputs": [
        {
          "name": "stdout",
          "output_type": "stream",
          "text": [
            "<re.Match object; span=(0, 1), match='P'>\n"
          ]
        }
      ],
      "source": [
        "with open('C-18regex_file.txt', 'rt') as fh:\n",
        "    content = fh.read()\n",
        "\n",
        "pattern = r'^[A-Za-z]'\n",
        "mat = re.search(pattern, content)\n",
        "print(mat)\n"
      ]
    },
    {
      "cell_type": "code",
      "execution_count": null,
      "id": "be0db39a",
      "metadata": {
        "id": "be0db39a",
        "outputId": "4a3553c2-1cca-4a4b-a6d2-c8d813d06304"
      },
      "outputs": [
        {
          "name": "stdout",
          "output_type": "stream",
          "text": [
            "<re.Match object; span=(0, 1), match='P'>\n"
          ]
        }
      ],
      "source": [
        "with open('C-18regex_file.txt', 'rt') as fh:\n",
        "    content = fh.read()\n",
        "\n",
        "pattern = r'[A-Za-z]'\n",
        "mat = re.match(pattern, content)\n",
        "print(mat)\n"
      ]
    },
    {
      "cell_type": "code",
      "execution_count": null,
      "id": "1dbb2e71",
      "metadata": {
        "id": "1dbb2e71",
        "outputId": "286d4e74-cf2e-49fc-9073-a817a47e543f"
      },
      "outputs": [
        {
          "name": "stdout",
          "output_type": "stream",
          "text": [
            "<re.Match object; span=(687, 688), match='g'>\n"
          ]
        }
      ],
      "source": [
        "with open('C-18regex_file.txt', 'rt') as fh:\n",
        "    content = fh.read()\n",
        "\n",
        "pattern = r'[A-Za-z]$'\n",
        "mat = re.search(pattern, content)\n",
        "print(mat)\n"
      ]
    },
    {
      "cell_type": "code",
      "execution_count": null,
      "id": "c0014c70",
      "metadata": {
        "id": "c0014c70",
        "outputId": "26ce1c99-677b-4e12-b87c-33550a00b95d"
      },
      "outputs": [
        {
          "name": "stdout",
          "output_type": "stream",
          "text": [
            "None\n"
          ]
        }
      ],
      "source": [
        "with open('C-18regex_file.txt', 'rt') as fh:\n",
        "    content = fh.read()\n",
        "\n",
        "pattern = r'^[A-Z].+[a-z]$'\n",
        "mat = re.search(pattern, content)\n",
        "print(mat)\n"
      ]
    },
    {
      "cell_type": "code",
      "execution_count": null,
      "id": "0b315ef5",
      "metadata": {
        "id": "0b315ef5",
        "outputId": "c7d57690-b1ca-4aae-889c-d4e751f77dc8"
      },
      "outputs": [
        {
          "name": "stdout",
          "output_type": "stream",
          "text": [
            "None\n"
          ]
        }
      ],
      "source": [
        "with open('C-18regex_file.txt', 'rt') as fh:\n",
        "    content = fh.read()\n",
        "\n",
        "pattern = r'^[A-Za-z]+[\\s.]+[A-Za-z]+$'\n",
        "mat = re.search(pattern, content)\n",
        "print(mat)\n"
      ]
    },
    {
      "cell_type": "code",
      "execution_count": null,
      "id": "09c1f3b5",
      "metadata": {
        "id": "09c1f3b5",
        "outputId": "58efb21a-3e42-415c-9b08-9f6d51923468"
      },
      "outputs": [
        {
          "name": "stdout",
          "output_type": "stream",
          "text": [
            "None\n"
          ]
        }
      ],
      "source": [
        "with open('C-18regex_file.txt', 'rt') as fh:\n",
        "    content = fh.read()\n",
        "\n",
        "pattern = r'^[A-Za-z]+[A-Za-z]+$'\n",
        "mat = re.search(pattern, content)\n",
        "print(mat)\n"
      ]
    },
    {
      "cell_type": "code",
      "execution_count": null,
      "id": "cd283e74",
      "metadata": {
        "id": "cd283e74",
        "outputId": "cf968a19-fe9f-4257-d060-8213204460dc"
      },
      "outputs": [
        {
          "data": {
            "text/plain": [
              "\"Python3 is a programming language\\nPython3\\npppam\\n.We are learning python3\\nWe have completed our assignments\\nlearn python\\nmylearn A2\\nlearn2,python\\nAssignments are submitted to learnbay16thmay23@gmail.com\\nMy phone number is      91-9876543210\\na123-456-7890 Py3 learn\\nIP address is 192.100.76.24\\n192.101.77.20\\nlearn_bay\\nlearn-bay\\nJonathan25@gmail.com\\nWhat are the topics left?\\nJohn lives in Sweden \\nwhatever.\\\\com\\nabc@learnbay.com\\njohn123@yahoo.in\\npython2\\nlet's learn- RegEx\\npython34\\n192.100.190.111\\nHe says, letting me work, buddy!\\nxyz-id.12@gmail.com\\nxyz-id-12@gmail.com_char\\n333.333.333.333\\nxyz-id-12@gmail-com\\nxyz-id_12@domain.whatever\\n-@gmail.com\\n.@gmail.com\\n_@gmail.com\\nlearn.\\nmylearning\""
            ]
          },
          "execution_count": 99,
          "metadata": {},
          "output_type": "execute_result"
        }
      ],
      "source": [
        "content"
      ]
    },
    {
      "cell_type": "code",
      "execution_count": null,
      "id": "f505b75e",
      "metadata": {
        "id": "f505b75e",
        "outputId": "152d0aaf-8ab1-41b3-cdf1-5e5476f1e39d"
      },
      "outputs": [
        {
          "name": "stdout",
          "output_type": "stream",
          "text": [
            "<callable_iterator object at 0x000001CBF21718D0>\n",
            "<re.Match object; span=(56, 62), match='learni'>\n",
            "<re.Match object; span=(107, 113), match='learn '>\n",
            "<re.Match object; span=(122, 128), match='learn '>\n",
            "<re.Match object; span=(131, 137), match='learn2'>\n",
            "<re.Match object; span=(174, 180), match='learnb'>\n",
            "<re.Match object; span=(306, 312), match='learn_'>\n",
            "<re.Match object; span=(316, 322), match='learn-'>\n",
            "<re.Match object; span=(413, 419), match='learnb'>\n",
            "<re.Match object; span=(457, 463), match='learn-'>\n",
            "<re.Match object; span=(671, 677), match='learn.'>\n",
            "<re.Match object; span=(680, 686), match='learni'>\n"
          ]
        }
      ],
      "source": [
        "with open('C-18regex_file.txt', 'rt') as fh:\n",
        "    content = fh.read()\n",
        "\n",
        "pattern = r'learn.'\n",
        "mat = re.finditer(pattern, content)\n",
        "print(mat)\n",
        "\n",
        "for m in mat:\n",
        "    print(m)"
      ]
    },
    {
      "cell_type": "code",
      "execution_count": null,
      "id": "4e15fc82",
      "metadata": {
        "id": "4e15fc82",
        "outputId": "00382a8b-ac8b-4e30-9621-40fcb24b0904"
      },
      "outputs": [
        {
          "name": "stdout",
          "output_type": "stream",
          "text": [
            "<callable_iterator object at 0x000001CBF3C794E0>\n",
            "<re.Match object; span=(56, 62), match='learni'>\n",
            "<re.Match object; span=(174, 180), match='learnb'>\n",
            "<re.Match object; span=(413, 419), match='learnb'>\n",
            "<re.Match object; span=(680, 686), match='learni'>\n"
          ]
        }
      ],
      "source": [
        "with open('C-18regex_file.txt', 'rt') as fh:\n",
        "    content = fh.read()\n",
        "\n",
        "pattern = r'learn[a-z]'\n",
        "mat = re.finditer(pattern, content)\n",
        "print(mat)\n",
        "\n",
        "for m in mat:\n",
        "    print(m)"
      ]
    },
    {
      "cell_type": "code",
      "execution_count": null,
      "id": "f4a8863c",
      "metadata": {
        "id": "f4a8863c",
        "outputId": "35d7a843-567e-468f-93d1-9c9733aba3c5"
      },
      "outputs": [
        {
          "name": "stdout",
          "output_type": "stream",
          "text": [
            "<callable_iterator object at 0x000001CBF3C78EB0>\n",
            "<re.Match object; span=(107, 113), match='learn '>\n",
            "<re.Match object; span=(122, 128), match='learn '>\n",
            "<re.Match object; span=(131, 137), match='learn2'>\n",
            "<re.Match object; span=(258, 264), match='learn\\n'>\n",
            "<re.Match object; span=(306, 312), match='learn_'>\n",
            "<re.Match object; span=(316, 322), match='learn-'>\n",
            "<re.Match object; span=(457, 463), match='learn-'>\n",
            "<re.Match object; span=(671, 677), match='learn.'>\n"
          ]
        }
      ],
      "source": [
        "with open('C-18regex_file.txt', 'rt') as fh:\n",
        "    content = fh.read()\n",
        "\n",
        "pattern = r'learn[^a-z]'\n",
        "mat = re.finditer(pattern, content)\n",
        "print(mat)\n",
        "\n",
        "for m in mat:\n",
        "    print(m)"
      ]
    },
    {
      "cell_type": "code",
      "execution_count": null,
      "id": "f45e9961",
      "metadata": {
        "id": "f45e9961",
        "outputId": "099d19d6-6538-4293-9df5-c23d00058d91"
      },
      "outputs": [
        {
          "name": "stdout",
          "output_type": "stream",
          "text": [
            "<callable_iterator object at 0x000001CBF5255360>\n",
            "<re.Match object; span=(65, 71), match='python'>\n",
            "<re.Match object; span=(113, 119), match='python'>\n",
            "<re.Match object; span=(138, 144), match='python'>\n",
            "<re.Match object; span=(443, 449), match='python'>\n",
            "<re.Match object; span=(470, 476), match='python'>\n"
          ]
        }
      ],
      "source": [
        "with open('C-18regex_file.txt', 'rt') as fh:\n",
        "    content = fh.read()\n",
        "\n",
        "pattern = r'python'\n",
        "mat = re.finditer(pattern, content)\n",
        "print(mat)\n",
        "\n",
        "for m in mat:\n",
        "    print(m)"
      ]
    },
    {
      "cell_type": "code",
      "execution_count": null,
      "id": "75513151",
      "metadata": {
        "id": "75513151",
        "outputId": "d2ecefff-acd3-4d2a-84f9-c04308f0c076"
      },
      "outputs": [
        {
          "data": {
            "text/plain": [
              "\"Python3 is a programming language\\nPython3\\npppam\\n.We are learning python3\\nWe have completed our assignments\\nlearn python\\nmylearn A2\\nlearn2,python\\nAssignments are submitted to learnbay16thmay23@gmail.com\\nMy phone number is      91-9876543210\\na123-456-7890 Py3 learn\\nIP address is 192.100.76.24\\n192.101.77.20\\nlearn_bay\\nlearn-bay\\nJonathan25@gmail.com\\nWhat are the topics left?\\nJohn lives in Sweden \\nwhatever.\\\\com\\nabc@learnbay.com\\njohn123@yahoo.in\\npython2\\nlet's learn- RegEx\\npython34\\n192.100.190.111\\nHe says, letting me work, buddy!\\nxyz-id.12@gmail.com\\nxyz-id-12@gmail.com_char\\n333.333.333.333\\nxyz-id-12@gmail-com\\nxyz-id_12@domain.whatever\\n-@gmail.com\\n.@gmail.com\\n_@gmail.com\\nlearn.\\nmylearning\""
            ]
          },
          "execution_count": 104,
          "metadata": {},
          "output_type": "execute_result"
        }
      ],
      "source": [
        "content"
      ]
    },
    {
      "cell_type": "code",
      "execution_count": null,
      "id": "75fa74a0",
      "metadata": {
        "id": "75fa74a0",
        "outputId": "fb3dca04-6bb9-413b-81b7-ff0de31a10cc"
      },
      "outputs": [
        {
          "name": "stdout",
          "output_type": "stream",
          "text": [
            "<callable_iterator object at 0x000001CBF21718D0>\n",
            "<re.Match object; span=(0, 6), match='Python'>\n",
            "<re.Match object; span=(34, 40), match='Python'>\n",
            "<re.Match object; span=(65, 71), match='python'>\n",
            "<re.Match object; span=(113, 119), match='python'>\n",
            "<re.Match object; span=(138, 144), match='python'>\n",
            "<re.Match object; span=(443, 449), match='python'>\n",
            "<re.Match object; span=(470, 476), match='python'>\n"
          ]
        }
      ],
      "source": [
        "with open('C-18regex_file.txt', 'rt') as fh:\n",
        "    content = fh.read()\n",
        "\n",
        "pattern = r'[Pp]ython'\n",
        "mat = re.finditer(pattern, content)\n",
        "print(mat)\n",
        "\n",
        "for m in mat:\n",
        "    print(m)"
      ]
    },
    {
      "cell_type": "code",
      "execution_count": null,
      "id": "cc27be20",
      "metadata": {
        "id": "cc27be20",
        "outputId": "c4c83099-ef55-4b74-c793-965feb1fbf1b"
      },
      "outputs": [
        {
          "name": "stdout",
          "output_type": "stream",
          "text": [
            "<callable_iterator object at 0x000001CBF3C794E0>\n",
            "<re.Match object; span=(0, 6), match='Python'>\n",
            "<re.Match object; span=(34, 40), match='Python'>\n",
            "<re.Match object; span=(65, 71), match='python'>\n",
            "<re.Match object; span=(113, 119), match='python'>\n",
            "<re.Match object; span=(138, 144), match='python'>\n",
            "<re.Match object; span=(443, 449), match='python'>\n",
            "<re.Match object; span=(470, 476), match='python'>\n"
          ]
        }
      ],
      "source": [
        "with open('C-18regex_file.txt', 'rt') as fh:\n",
        "    content = fh.read()\n",
        "\n",
        "pattern = r'(P|p)ython'\n",
        "mat = re.finditer(pattern, content)\n",
        "print(mat)\n",
        "\n",
        "for m in mat:\n",
        "    print(m)"
      ]
    },
    {
      "cell_type": "code",
      "execution_count": null,
      "id": "34e6f1c2",
      "metadata": {
        "id": "34e6f1c2",
        "outputId": "72c07999-bae6-4417-ff57-4b0e8fc3f869"
      },
      "outputs": [
        {
          "data": {
            "text/plain": [
              "\"Python3 is a programming language\\nPython3\\npppam\\n.We are learning python3\\nWe have completed our assignments\\nlearn python\\nmylearn A2\\nlearn2,python\\nAssignments are submitted to learnbay16thmay23@gmail.com\\nMy phone number is      91-9876543210\\na123-456-7890 Py3 learn\\nIP address is 192.100.76.24\\n192.101.77.20\\nlearn_bay\\nlearn-bay\\nJonathan25@gmail.com\\nWhat are the topics left?\\nJohn lives in Sweden \\nwhatever.\\\\com\\nabc@learnbay.com\\njohn123@yahoo.in\\npython2\\nlet's learn- RegEx\\npython34\\n192.100.190.111\\nHe says, letting me work, buddy!\\nxyz-id.12@gmail.com\\nxyz-id-12@gmail.com_char\\n333.333.333.333\\nxyz-id-12@gmail-com\\nxyz-id_12@domain.whatever\\n-@gmail.com\\n.@gmail.com\\n_@gmail.com\\nlearn.\\nmylearning\""
            ]
          },
          "execution_count": 107,
          "metadata": {},
          "output_type": "execute_result"
        }
      ],
      "source": [
        "content"
      ]
    },
    {
      "cell_type": "code",
      "execution_count": null,
      "id": "2f03d70e",
      "metadata": {
        "id": "2f03d70e",
        "outputId": "461df76a-7551-4dd5-86ce-623e9d168f4d"
      },
      "outputs": [
        {
          "name": "stdout",
          "output_type": "stream",
          "text": [
            "<callable_iterator object at 0x000001CBF3C7BDF0>\n",
            "<re.Match object; span=(48, 51), match='.We'>\n",
            "<re.Match object; span=(197, 201), match='.com'>\n",
            "<re.Match object; span=(281, 285), match='.100'>\n",
            "<re.Match object; span=(285, 288), match='.76'>\n",
            "<re.Match object; span=(288, 291), match='.24'>\n",
            "<re.Match object; span=(295, 299), match='.101'>\n",
            "<re.Match object; span=(299, 302), match='.77'>\n",
            "<re.Match object; span=(302, 305), match='.20'>\n",
            "<re.Match object; span=(342, 346), match='.com'>\n",
            "<re.Match object; span=(421, 425), match='.com'>\n",
            "<re.Match object; span=(439, 442), match='.in'>\n",
            "<re.Match object; span=(482, 486), match='.100'>\n",
            "<re.Match object; span=(486, 490), match='.190'>\n",
            "<re.Match object; span=(490, 494), match='.111'>\n",
            "<re.Match object; span=(534, 537), match='.12'>\n",
            "<re.Match object; span=(543, 547), match='.com'>\n",
            "<re.Match object; span=(563, 572), match='.com_char'>\n",
            "<re.Match object; span=(576, 580), match='.333'>\n",
            "<re.Match object; span=(580, 584), match='.333'>\n",
            "<re.Match object; span=(584, 588), match='.333'>\n",
            "<re.Match object; span=(625, 634), match='.whatever'>\n",
            "<re.Match object; span=(642, 646), match='.com'>\n",
            "<re.Match object; span=(654, 658), match='.com'>\n",
            "<re.Match object; span=(666, 670), match='.com'>\n"
          ]
        }
      ],
      "source": [
        "with open('C-18regex_file.txt', 'rt') as fh:\n",
        "    content = fh.read()\n",
        "\n",
        "pattern = r'[.]\\w+'\n",
        "mat = re.finditer(pattern, content)\n",
        "print(mat)\n",
        "\n",
        "for m in mat:\n",
        "    print(m)"
      ]
    },
    {
      "cell_type": "code",
      "execution_count": null,
      "id": "5ecfae51",
      "metadata": {
        "id": "5ecfae51",
        "outputId": "49d74e9e-1edf-4855-add5-ed5fa2d17a31"
      },
      "outputs": [
        {
          "name": "stdout",
          "output_type": "stream",
          "text": [
            "<callable_iterator object at 0x000001CBF3C789A0>\n",
            "<re.Match object; span=(198, 201), match='com'>\n",
            "<re.Match object; span=(343, 346), match='com'>\n",
            "<re.Match object; span=(384, 386), match='in'>\n",
            "<re.Match object; span=(405, 408), match='com'>\n",
            "<re.Match object; span=(422, 425), match='com'>\n",
            "<re.Match object; span=(440, 442), match='in'>\n",
            "<re.Match object; span=(544, 547), match='com'>\n",
            "<re.Match object; span=(605, 608), match='com'>\n",
            "<re.Match object; span=(643, 646), match='com'>\n",
            "<re.Match object; span=(655, 658), match='com'>\n",
            "<re.Match object; span=(667, 670), match='com'>\n"
          ]
        }
      ],
      "source": [
        "with open('C-18regex_file.txt', 'rt') as fh:\n",
        "    content = fh.read()\n",
        "\n",
        "pattern = r'(\\bcom\\b|\\bin\\b)'\n",
        "mat = re.finditer(pattern, content)\n",
        "print(mat)\n",
        "\n",
        "for m in mat:\n",
        "    print(m)"
      ]
    },
    {
      "cell_type": "markdown",
      "id": "6120ccb8",
      "metadata": {
        "id": "6120ccb8"
      },
      "source": [
        "#### Try to get outpt   -->  .com and .in"
      ]
    },
    {
      "cell_type": "code",
      "execution_count": null,
      "id": "d558e0fd",
      "metadata": {
        "id": "d558e0fd",
        "outputId": "b7468141-cc77-45b4-cbe6-8774c04dcf41"
      },
      "outputs": [
        {
          "name": "stdout",
          "output_type": "stream",
          "text": [
            "<callable_iterator object at 0x000001CBF5256E90>\n",
            "<re.Match object; span=(197, 201), match='.com'>\n",
            "<re.Match object; span=(342, 346), match='.com'>\n",
            "<re.Match object; span=(421, 425), match='.com'>\n",
            "<re.Match object; span=(439, 442), match='.in'>\n",
            "<re.Match object; span=(543, 547), match='.com'>\n",
            "<re.Match object; span=(563, 567), match='.com'>\n",
            "<re.Match object; span=(625, 629), match='.wha'>\n",
            "<re.Match object; span=(642, 646), match='.com'>\n",
            "<re.Match object; span=(654, 658), match='.com'>\n",
            "<re.Match object; span=(666, 670), match='.com'>\n"
          ]
        }
      ],
      "source": [
        "with open('C-18regex_file.txt', 'rt') as fh:\n",
        "    content = fh.read()\n",
        "\n",
        "pattern = r'[.][a-z]{2,3}'\n",
        "mat = re.finditer(pattern, content)\n",
        "print(mat)\n",
        "\n",
        "for m in mat:\n",
        "    print(m)"
      ]
    },
    {
      "cell_type": "code",
      "execution_count": null,
      "id": "25d0b1a2",
      "metadata": {
        "id": "25d0b1a2",
        "outputId": "c03f2e79-709c-4326-f9c2-1722109ea4eb"
      },
      "outputs": [
        {
          "name": "stdout",
          "output_type": "stream",
          "text": [
            "<callable_iterator object at 0x000001CBF5254CD0>\n",
            "<re.Match object; span=(197, 201), match='.com'>\n",
            "<re.Match object; span=(342, 346), match='.com'>\n",
            "<re.Match object; span=(421, 425), match='.com'>\n",
            "<re.Match object; span=(439, 442), match='.in'>\n",
            "<re.Match object; span=(543, 547), match='.com'>\n",
            "<re.Match object; span=(642, 646), match='.com'>\n",
            "<re.Match object; span=(654, 658), match='.com'>\n",
            "<re.Match object; span=(666, 670), match='.com'>\n"
          ]
        }
      ],
      "source": [
        "with open('C-18regex_file.txt', 'rt') as fh:\n",
        "    content = fh.read()\n",
        "\n",
        "pattern = r'[.](com|in)\\b'\n",
        "mat = re.finditer(pattern, content)\n",
        "print(mat)\n",
        "\n",
        "for m in mat:\n",
        "    print(m)"
      ]
    },
    {
      "cell_type": "code",
      "execution_count": null,
      "id": "418f5645",
      "metadata": {
        "id": "418f5645",
        "outputId": "1e890fdb-a2eb-46fe-8d27-e7f8d538f96b"
      },
      "outputs": [
        {
          "name": "stdout",
          "output_type": "stream",
          "text": [
            "<callable_iterator object at 0x000001CBF21718D0>\n",
            "<re.Match object; span=(197, 201), match='.com'>\n",
            "<re.Match object; span=(342, 346), match='.com'>\n",
            "<re.Match object; span=(383, 386), match=' in'>\n",
            "<re.Match object; span=(404, 408), match='\\\\com'>\n",
            "<re.Match object; span=(421, 425), match='.com'>\n",
            "<re.Match object; span=(439, 442), match='.in'>\n",
            "<re.Match object; span=(543, 547), match='.com'>\n",
            "<re.Match object; span=(604, 608), match='-com'>\n",
            "<re.Match object; span=(622, 625), match='ain'>\n",
            "<re.Match object; span=(642, 646), match='.com'>\n",
            "<re.Match object; span=(654, 658), match='.com'>\n",
            "<re.Match object; span=(666, 670), match='.com'>\n"
          ]
        }
      ],
      "source": [
        "with open('C-18regex_file.txt', 'rt') as fh:\n",
        "    content = fh.read()\n",
        "\n",
        "pattern = r'.(com|in)\\b'\n",
        "mat = re.finditer(pattern, content)\n",
        "print(mat)\n",
        "\n",
        "for m in mat:\n",
        "    print(m)"
      ]
    },
    {
      "cell_type": "code",
      "execution_count": null,
      "id": "82b7d806",
      "metadata": {
        "id": "82b7d806",
        "outputId": "c7896ca2-74ce-4ca3-9bab-e4a136f9e26c"
      },
      "outputs": [
        {
          "name": "stdout",
          "output_type": "stream",
          "text": [
            "<callable_iterator object at 0x000001CBF5254250>\n",
            "<re.Match object; span=(197, 201), match='.com'>\n",
            "<re.Match object; span=(342, 346), match='.com'>\n",
            "<re.Match object; span=(421, 425), match='.com'>\n",
            "<re.Match object; span=(439, 442), match='.in'>\n",
            "<re.Match object; span=(543, 547), match='.com'>\n",
            "<re.Match object; span=(563, 567), match='.com'>\n",
            "<re.Match object; span=(642, 646), match='.com'>\n",
            "<re.Match object; span=(654, 658), match='.com'>\n",
            "<re.Match object; span=(666, 670), match='.com'>\n"
          ]
        }
      ],
      "source": [
        "with open('C-18regex_file.txt', 'rt') as fh:\n",
        "    content = fh.read()\n",
        "\n",
        "pattern = r'[.][incom]{2,3}'\n",
        "mat = re.finditer(pattern, content)\n",
        "print(mat)\n",
        "\n",
        "for m in mat:\n",
        "    print(m)"
      ]
    },
    {
      "cell_type": "code",
      "execution_count": null,
      "id": "ba7acb4a",
      "metadata": {
        "id": "ba7acb4a",
        "outputId": "986efe41-b9e8-4aee-dbd5-5d8b5cf5a2b2"
      },
      "outputs": [
        {
          "name": "stdout",
          "output_type": "stream",
          "text": [
            "<callable_iterator object at 0x000001CBF52548B0>\n",
            "<re.Match object; span=(197, 201), match='.com'>\n",
            "<re.Match object; span=(342, 346), match='.com'>\n",
            "<re.Match object; span=(421, 425), match='.com'>\n",
            "<re.Match object; span=(439, 442), match='.in'>\n",
            "<re.Match object; span=(543, 547), match='.com'>\n",
            "<re.Match object; span=(642, 646), match='.com'>\n",
            "<re.Match object; span=(654, 658), match='.com'>\n",
            "<re.Match object; span=(666, 670), match='.com'>\n"
          ]
        }
      ],
      "source": [
        "with open('C-18regex_file.txt', 'rt') as fh:\n",
        "    content = fh.read()\n",
        "\n",
        "pattern = r'[.][incom]{2,3}\\b'\n",
        "mat = re.finditer(pattern, content)\n",
        "print(mat)\n",
        "\n",
        "for m in mat:\n",
        "    print(m)"
      ]
    },
    {
      "cell_type": "code",
      "execution_count": null,
      "id": "7b236faa",
      "metadata": {
        "id": "7b236faa"
      },
      "outputs": [],
      "source": []
    },
    {
      "cell_type": "code",
      "execution_count": null,
      "id": "e583f471",
      "metadata": {
        "id": "e583f471",
        "outputId": "e385d7b2-9d71-4842-d151-20c664eddb07"
      },
      "outputs": [
        {
          "name": "stdout",
          "output_type": "stream",
          "text": [
            "<callable_iterator object at 0x000001CBF21718D0>\n",
            "<re.Match object; span=(197, 201), match='.com'>\n",
            "<re.Match object; span=(342, 346), match='.com'>\n",
            "<re.Match object; span=(421, 425), match='.com'>\n",
            "<re.Match object; span=(439, 442), match='.in'>\n",
            "<re.Match object; span=(543, 547), match='.com'>\n",
            "<re.Match object; span=(642, 646), match='.com'>\n",
            "<re.Match object; span=(654, 658), match='.com'>\n",
            "<re.Match object; span=(666, 670), match='.com'>\n"
          ]
        }
      ],
      "source": [
        "with open('C-18regex_file.txt', 'rt') as fh:\n",
        "    content = fh.read()\n",
        "\n",
        "pattern = r'[.][incom]{2,3}\\b'\n",
        "mat = re.finditer(pattern, content)\n",
        "print(mat)\n",
        "\n",
        "for m in mat:\n",
        "    print(m)"
      ]
    },
    {
      "cell_type": "markdown",
      "id": "ef4c4dbd",
      "metadata": {
        "id": "ef4c4dbd"
      },
      "source": [
        "#### TRY Match all the valid email ids from the file"
      ]
    },
    {
      "cell_type": "code",
      "execution_count": null,
      "id": "daff6f5a",
      "metadata": {
        "id": "daff6f5a"
      },
      "outputs": [],
      "source": [
        "# # Valid ids\n",
        "# learnbay16thmay23@gmail.com\n",
        "# Jonathan25@gmail.com\n",
        "# abc@learnbay.com\n",
        "# john123@yahoo.in\n",
        "# xyz-id.12@gmail.com\n",
        "\n",
        "# # xyz-id_12@domain.whatever\n",
        "\n",
        "# # Invalids\n",
        "# whatever.\\com\n",
        "# xyz-id-12@gmail.com_char\n",
        "# xyz-id-12@gmail-com\n",
        "# -@gmail.com\n",
        "# .@gmail.com\n",
        "# _@gmail.com\n"
      ]
    },
    {
      "cell_type": "code",
      "execution_count": null,
      "id": "12364dca",
      "metadata": {
        "id": "12364dca",
        "outputId": "47ebbda9-2935-4975-d97f-754a70fa4cf6"
      },
      "outputs": [
        {
          "name": "stdout",
          "output_type": "stream",
          "text": [
            "<callable_iterator object at 0x000001CBF5254E80>\n",
            "<re.Match object; span=(191, 201), match='@gmail.com'>\n",
            "<re.Match object; span=(336, 346), match='@gmail.com'>\n",
            "<re.Match object; span=(537, 547), match='@gmail.com'>\n",
            "<re.Match object; span=(557, 567), match='@gmail.com'>\n",
            "<re.Match object; span=(598, 608), match='@gmail-com'>\n",
            "<re.Match object; span=(660, 670), match='@gmail.com'>\n"
          ]
        }
      ],
      "source": [
        "with open('C-18regex_file.txt', 'rt') as fh:\n",
        "    content = fh.read()\n",
        "\n",
        "pattern = r'\\b@gmail.com'\n",
        "mat = re.finditer(pattern, content)\n",
        "print(mat)\n",
        "\n",
        "for m in mat:\n",
        "    print(m)"
      ]
    },
    {
      "cell_type": "code",
      "execution_count": null,
      "id": "346127e7",
      "metadata": {
        "id": "346127e7",
        "outputId": "9709e8a6-81eb-41e3-c738-0bd858128e2b"
      },
      "outputs": [
        {
          "name": "stdout",
          "output_type": "stream",
          "text": [
            "<callable_iterator object at 0x000001CBF5254B20>\n"
          ]
        }
      ],
      "source": [
        "with open('C-18regex_file.txt', 'rt') as fh:\n",
        "    content = fh.read()\n",
        "\n",
        "pattern = r'\\b[A-Za-z].+@.[.](com|in)\\b'\n",
        "mat = re.finditer(pattern, content)\n",
        "print(mat)\n",
        "\n",
        "for m in mat:\n",
        "    print(m)"
      ]
    },
    {
      "cell_type": "code",
      "execution_count": null,
      "id": "fb6d56c2",
      "metadata": {
        "id": "fb6d56c2",
        "outputId": "074cee11-9a5d-40b0-edd1-eb82c36e53ac"
      },
      "outputs": [
        {
          "name": "stdout",
          "output_type": "stream",
          "text": [
            "<callable_iterator object at 0x000001CBF21718D0>\n"
          ]
        }
      ],
      "source": [
        "with open('C-18regex_file.txt', 'rt') as fh:\n",
        "    content = fh.read()\n",
        "\n",
        "pattern = r\"[A-Za-z]+.[.][com/in]\\b\"\n",
        "mat = re.finditer(pattern, content)\n",
        "print(mat)\n",
        "\n",
        "for m in mat:\n",
        "    print(m)"
      ]
    },
    {
      "cell_type": "code",
      "execution_count": null,
      "id": "5dbb3459",
      "metadata": {
        "id": "5dbb3459",
        "outputId": "fe908f3e-bbf1-4736-fc05-44dbbad2016c"
      },
      "outputs": [
        {
          "name": "stdout",
          "output_type": "stream",
          "text": [
            "<callable_iterator object at 0x000001CBF52540A0>\n"
          ]
        }
      ],
      "source": [
        "with open('C-18regex_file.txt', 'rt') as fh:\n",
        "    content = fh.read()\n",
        "\n",
        "pattern = r'\\w@[a-z][.](com|in)\\b'\n",
        "mat = re.finditer(pattern, content)\n",
        "print(mat)\n",
        "\n",
        "for m in mat:\n",
        "    print(m)"
      ]
    },
    {
      "cell_type": "code",
      "execution_count": null,
      "id": "dbc808ba",
      "metadata": {
        "id": "dbc808ba",
        "outputId": "cf3249b3-86d6-4ffc-f0dd-2cf95cea986a"
      },
      "outputs": [
        {
          "name": "stdout",
          "output_type": "stream",
          "text": [
            "<callable_iterator object at 0x000001CBF52576A0>\n"
          ]
        }
      ],
      "source": [
        "with open('C-18regex_file.txt', 'rt') as fh:\n",
        "    content = fh.read()\n",
        "\n",
        "pattern = r'[A-Za-z][@][.][com|in]\\b'\n",
        "mat = re.finditer(pattern, content)\n",
        "print(mat)\n",
        "\n",
        "for m in mat:\n",
        "    print(m)"
      ]
    },
    {
      "cell_type": "code",
      "execution_count": null,
      "id": "f95b9d12",
      "metadata": {
        "id": "f95b9d12",
        "outputId": "76b577a5-fab8-428c-88d5-f6cff4f8d68e"
      },
      "outputs": [
        {
          "name": "stdout",
          "output_type": "stream",
          "text": [
            "<callable_iterator object at 0x000001F650AF34F0>\n",
            "<re.Match object; span=(192, 201), match='gmail.com'>\n",
            "<re.Match object; span=(337, 346), match='gmail.com'>\n",
            "<re.Match object; span=(413, 425), match='learnbay.com'>\n",
            "<re.Match object; span=(434, 442), match='yahoo.in'>\n",
            "<re.Match object; span=(547, 556), match='gmail.com'>\n",
            "<re.Match object; span=(646, 655), match='gmail.com'>\n",
            "<re.Match object; span=(658, 667), match='gmail.com'>\n",
            "<re.Match object; span=(670, 679), match='gmail.com'>\n"
          ]
        }
      ],
      "source": [
        "with open('regex_file.txt', 'rt') as fh:\n",
        "    content = fh.read()\n",
        "\n",
        "pattern = r\"[A-Za-z]+.[.](com|in)\\b\"\n",
        "mat = re.finditer(pattern, content)\n",
        "print(mat)\n",
        "\n",
        "for m in mat:\n",
        "    print(m)"
      ]
    },
    {
      "cell_type": "code",
      "execution_count": null,
      "id": "8358f2de",
      "metadata": {
        "id": "8358f2de",
        "outputId": "8bedbdfd-80c6-4f9d-e3cb-b526b78dd60e"
      },
      "outputs": [
        {
          "name": "stdout",
          "output_type": "stream",
          "text": [
            "<callable_iterator object at 0x000001CBF5254FD0>\n",
            "<re.Match object; span=(174, 201), match='learnbay16thmay23@gmail.com'>\n",
            "<re.Match object; span=(326, 346), match='Jonathan25@gmail.com'>\n",
            "<re.Match object; span=(409, 425), match='abc@learnbay.com'>\n",
            "<re.Match object; span=(535, 547), match='12@gmail.com'>\n",
            "<re.Match object; span=(555, 567), match='12@gmail.com'>\n"
          ]
        }
      ],
      "source": [
        "with open('C-18regex_file.txt', 'rt') as fh:\n",
        "    content = fh.read()\n",
        "\n",
        "pattern = r\"\\w+.@[a-z]+[.](com)\"\n",
        "mat = re.finditer(pattern, content)\n",
        "print(mat)\n",
        "\n",
        "for m in mat:\n",
        "    print(m)"
      ]
    },
    {
      "cell_type": "code",
      "execution_count": null,
      "id": "4976153c",
      "metadata": {
        "id": "4976153c",
        "outputId": "21f1d964-d13d-4931-8b6c-55fce9c2314b"
      },
      "outputs": [
        {
          "name": "stdout",
          "output_type": "stream",
          "text": [
            "<callable_iterator object at 0x000001CBF5255030>\n",
            "<re.Match object; span=(174, 201), match='learnbay16thmay23@gmail.com'>\n",
            "<re.Match object; span=(326, 346), match='Jonathan25@gmail.com'>\n",
            "<re.Match object; span=(409, 425), match='abc@learnbay.com'>\n",
            "<re.Match object; span=(426, 442), match='john123@yahoo.in'>\n",
            "<re.Match object; span=(528, 547), match='xyz-id.12@gmail.com'>\n",
            "<re.Match object; span=(548, 567), match='xyz-id-12@gmail.com'>\n",
            "<re.Match object; span=(635, 646), match='-@gmail.com'>\n",
            "<re.Match object; span=(647, 658), match='.@gmail.com'>\n",
            "<re.Match object; span=(659, 670), match='_@gmail.com'>\n"
          ]
        }
      ],
      "source": [
        "with open('C-18regex_file.txt', 'rt') as fh:\n",
        "    content = fh.read()\n",
        "\n",
        "pattern = r\"[A-Za-z-_.0-9]+[@][a-z]+[.](com|in)\"\n",
        "mat = re.finditer(pattern, content)\n",
        "print(mat)\n",
        "\n",
        "for m in mat:\n",
        "    print(m)"
      ]
    },
    {
      "cell_type": "code",
      "execution_count": null,
      "id": "251c8dab",
      "metadata": {
        "id": "251c8dab",
        "outputId": "4b36ee39-884f-482a-bdbd-ffa3e8800211"
      },
      "outputs": [
        {
          "name": "stdout",
          "output_type": "stream",
          "text": [
            "<callable_iterator object at 0x000001CBF5254250>\n"
          ]
        }
      ],
      "source": [
        "with open('C-18regex_file.txt', 'rt') as fh:\n",
        "    content = fh.read()\n",
        "\n",
        "pattern = r\"'[A-Za-z]+[\\w.-]+[@]\\w[.](com|in)\\b'\"\n",
        "mat = re.finditer(pattern, content)\n",
        "print(mat)\n",
        "\n",
        "for m in mat:\n",
        "    print(m)"
      ]
    },
    {
      "cell_type": "code",
      "execution_count": null,
      "id": "ef09c30a",
      "metadata": {
        "id": "ef09c30a",
        "outputId": "cf2643db-3de2-4e81-8298-d5c8f5beeb1a"
      },
      "outputs": [
        {
          "name": "stdout",
          "output_type": "stream",
          "text": [
            "<callable_iterator object at 0x000001CBF21718D0>\n",
            "<re.Match object; span=(174, 201), match='learnbay16thmay23@gmail.com'>\n",
            "<re.Match object; span=(326, 346), match='Jonathan25@gmail.com'>\n",
            "<re.Match object; span=(409, 425), match='abc@learnbay.com'>\n",
            "<re.Match object; span=(426, 442), match='john123@yahoo.in'>\n",
            "<re.Match object; span=(528, 547), match='xyz-id.12@gmail.com'>\n"
          ]
        }
      ],
      "source": [
        "with open('C-18regex_file.txt', 'rt') as fh:\n",
        "    content = fh.read()\n",
        "\n",
        "pattern = r\"[A-Za-z]+[\\w.-]+[@]\\w+[.](com|in)\\b\"\n",
        "mat = re.finditer(pattern, content)\n",
        "print(mat)\n",
        "\n",
        "for m in mat:\n",
        "    print(m)"
      ]
    },
    {
      "cell_type": "code",
      "execution_count": null,
      "id": "c5854a2e",
      "metadata": {
        "id": "c5854a2e",
        "outputId": "fa0f2389-e2db-4972-8027-6cbb8fc9a37b"
      },
      "outputs": [
        {
          "name": "stdout",
          "output_type": "stream",
          "text": [
            "<callable_iterator object at 0x000001F650AF3AC0>\n",
            "<re.Match object; span=(174, 201), match='learnbay16thmay23@gmail.com'>\n",
            "<re.Match object; span=(326, 346), match='Jonathan25@gmail.com'>\n",
            "<re.Match object; span=(409, 425), match='abc@learnbay.com'>\n",
            "<re.Match object; span=(426, 442), match='john123@yahoo.in'>\n",
            "<re.Match object; span=(537, 556), match='xyz-id.12@gmail.com'>\n"
          ]
        }
      ],
      "source": [
        "with open('regex_file.txt', 'rt') as fh:\n",
        "    content = fh.read()\n",
        "\n",
        "pattern = r\"[A-Za-z]+[\\w.-]+[@][a-z]+[.](com|in)\\b\"\n",
        "mat = re.finditer(pattern, content)\n",
        "print(mat)\n",
        "\n",
        "for m in mat:\n",
        "    print(m)"
      ]
    },
    {
      "cell_type": "code",
      "execution_count": null,
      "id": "64955017",
      "metadata": {
        "id": "64955017",
        "outputId": "bfe920e1-65a8-41c7-f906-e736b61ac41a"
      },
      "outputs": [
        {
          "name": "stdout",
          "output_type": "stream",
          "text": [
            "<callable_iterator object at 0x000001CBF5255330>\n",
            "<re.Match object; span=(174, 201), match='learnbay16thmay23@gmail.com'>\n",
            "<re.Match object; span=(326, 346), match='Jonathan25@gmail.com'>\n",
            "<re.Match object; span=(409, 425), match='abc@learnbay.com'>\n",
            "<re.Match object; span=(426, 442), match='john123@yahoo.in'>\n",
            "<re.Match object; span=(528, 547), match='xyz-id.12@gmail.com'>\n",
            "<re.Match object; span=(609, 634), match='xyz-id_12@domain.whatever'>\n"
          ]
        }
      ],
      "source": [
        "with open('C-18regex_file.txt', 'rt') as fh:\n",
        "    content = fh.read()\n",
        "\n",
        "pattern = r\"[A-Za-z]+[\\w.-]+[@][a-z]+[.][a-z]{2,}\\b\"\n",
        "mat = re.finditer(pattern, content)\n",
        "print(mat)\n",
        "\n",
        "for m in mat:\n",
        "    print(m)"
      ]
    },
    {
      "cell_type": "code",
      "execution_count": null,
      "id": "a480cd6a",
      "metadata": {
        "id": "a480cd6a"
      },
      "outputs": [],
      "source": []
    }
  ],
  "metadata": {
    "colab": {
      "provenance": [],
      "include_colab_link": true
    },
    "kernelspec": {
      "display_name": "Python 3 (ipykernel)",
      "language": "python",
      "name": "python3"
    },
    "language_info": {
      "codemirror_mode": {
        "name": "ipython",
        "version": 3
      },
      "file_extension": ".py",
      "mimetype": "text/x-python",
      "name": "python",
      "nbconvert_exporter": "python",
      "pygments_lexer": "ipython3",
      "version": "3.10.9"
    }
  },
  "nbformat": 4,
  "nbformat_minor": 5
}