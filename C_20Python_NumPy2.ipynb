{
  "cells": [
    {
      "cell_type": "markdown",
      "metadata": {
        "id": "view-in-github",
        "colab_type": "text"
      },
      "source": [
        "<a href=\"https://colab.research.google.com/github/GIT-REPO-JAGAN/PYTHON-GOOGLE-COLOB/blob/main/C_20Python_NumPy2.ipynb\" target=\"_parent\"><img src=\"https://colab.research.google.com/assets/colab-badge.svg\" alt=\"Open In Colab\"/></a>"
      ]
    },
    {
      "cell_type": "code",
      "execution_count": 2,
      "id": "2ede1144",
      "metadata": {
        "id": "2ede1144"
      },
      "outputs": [],
      "source": [
        "import numpy as np"
      ]
    },
    {
      "cell_type": "markdown",
      "source": [
        "#### fromfunction"
      ],
      "metadata": {
        "id": "fA7bcck81ZHV"
      },
      "id": "fA7bcck81ZHV"
    },
    {
      "cell_type": "code",
      "execution_count": 2,
      "id": "92939662",
      "metadata": {
        "id": "92939662",
        "outputId": "f13cfe90-aa4c-48b2-9aac-e0629259cd3a",
        "colab": {
          "base_uri": "https://localhost:8080/"
        }
      },
      "outputs": [
        {
          "output_type": "execute_result",
          "data": {
            "text/plain": [
              "array([[0, 1, 2],\n",
              "       [1, 2, 3],\n",
              "       [2, 3, 4]])"
            ]
          },
          "metadata": {},
          "execution_count": 2
        }
      ],
      "source": [
        "np.fromfunction(lambda x, y: x + y, (3,3), dtype=int)  # The value at position (0, 0) is 0 + 0 = 0, the value at position (0, 1) is 0 + 1 = 1, and so on."
      ]
    },
    {
      "cell_type": "code",
      "execution_count": null,
      "id": "676066ed",
      "metadata": {
        "id": "676066ed",
        "outputId": "c5d713f3-e73c-4d68-8053-63b61b8f3be5"
      },
      "outputs": [
        {
          "data": {
            "text/plain": [
              "array([ 0,  1,  4,  9, 16], dtype=int32)"
            ]
          },
          "execution_count": 6,
          "metadata": {},
          "output_type": "execute_result"
        }
      ],
      "source": [
        "np.fromfunction(lambda x:x**2, (5,), dtype=int) # ,The lambda function x**2 is applied to each index x ranging from 0 to 4."
      ]
    },
    {
      "cell_type": "code",
      "execution_count": 8,
      "id": "425fc537",
      "metadata": {
        "id": "425fc537"
      },
      "outputs": [],
      "source": [
        "arr1 = np.random.randint(1, 20, (6,))"
      ]
    },
    {
      "cell_type": "code",
      "execution_count": 9,
      "id": "af6c56cd",
      "metadata": {
        "id": "af6c56cd",
        "outputId": "f815035e-21b3-42cf-9ffb-14c16b37f481",
        "colab": {
          "base_uri": "https://localhost:8080/"
        }
      },
      "outputs": [
        {
          "output_type": "execute_result",
          "data": {
            "text/plain": [
              "array([15, 15, 15,  1,  3, 18])"
            ]
          },
          "metadata": {},
          "execution_count": 9
        }
      ],
      "source": [
        "arr1"
      ]
    },
    {
      "cell_type": "code",
      "execution_count": 10,
      "id": "ca608513",
      "metadata": {
        "id": "ca608513",
        "outputId": "1ed40bc5-db1a-4ed4-f8ed-8a912223639c",
        "colab": {
          "base_uri": "https://localhost:8080/"
        }
      },
      "outputs": [
        {
          "output_type": "execute_result",
          "data": {
            "text/plain": [
              "67"
            ]
          },
          "metadata": {},
          "execution_count": 10
        }
      ],
      "source": [
        "np.sum(arr1)"
      ]
    },
    {
      "cell_type": "code",
      "execution_count": 11,
      "id": "9f2f36f0",
      "metadata": {
        "id": "9f2f36f0",
        "outputId": "0b2e4dd2-d9a7-4f1c-c2c4-e6d4fda5d980",
        "colab": {
          "base_uri": "https://localhost:8080/"
        }
      },
      "outputs": [
        {
          "output_type": "execute_result",
          "data": {
            "text/plain": [
              "1"
            ]
          },
          "metadata": {},
          "execution_count": 11
        }
      ],
      "source": [
        "np.min(arr1)"
      ]
    },
    {
      "cell_type": "code",
      "execution_count": 12,
      "id": "c9e420b3",
      "metadata": {
        "id": "c9e420b3",
        "outputId": "05a86ca1-0d77-48e2-87ed-1db763ccbd00",
        "colab": {
          "base_uri": "https://localhost:8080/"
        }
      },
      "outputs": [
        {
          "output_type": "execute_result",
          "data": {
            "text/plain": [
              "18"
            ]
          },
          "metadata": {},
          "execution_count": 12
        }
      ],
      "source": [
        "np.max(arr1)"
      ]
    },
    {
      "cell_type": "code",
      "execution_count": 13,
      "id": "80bb7f7f",
      "metadata": {
        "id": "80bb7f7f",
        "outputId": "965ee444-8288-41e2-f693-e92e60298aaa",
        "colab": {
          "base_uri": "https://localhost:8080/"
        }
      },
      "outputs": [
        {
          "output_type": "execute_result",
          "data": {
            "text/plain": [
              "11.166666666666666"
            ]
          },
          "metadata": {},
          "execution_count": 13
        }
      ],
      "source": [
        "np.mean(arr1)  # mean = (addition of all elements) / 6"
      ]
    },
    {
      "cell_type": "code",
      "execution_count": 14,
      "id": "b9059755",
      "metadata": {
        "id": "b9059755",
        "outputId": "f16a6291-97da-447c-e7b2-4c01c3a4d372",
        "colab": {
          "base_uri": "https://localhost:8080/"
        }
      },
      "outputs": [
        {
          "output_type": "execute_result",
          "data": {
            "text/plain": [
              "6.593346814950827"
            ]
          },
          "metadata": {},
          "execution_count": 14
        }
      ],
      "source": [
        "np.std(arr1)  # std = sqrt((sum((x - mean)^2) / N)"
      ]
    },
    {
      "cell_type": "code",
      "execution_count": 15,
      "id": "51f6f86f",
      "metadata": {
        "id": "51f6f86f",
        "outputId": "6f894fb4-a77a-4d41-9eee-fafe86cd62c8",
        "colab": {
          "base_uri": "https://localhost:8080/"
        }
      },
      "outputs": [
        {
          "output_type": "execute_result",
          "data": {
            "text/plain": [
              "43.47222222222222"
            ]
          },
          "metadata": {},
          "execution_count": 15
        }
      ],
      "source": [
        "np.var(arr1) # var = sum((x - mean)^2) / N    -> N = 6"
      ]
    },
    {
      "cell_type": "code",
      "execution_count": 16,
      "id": "fd2d8c63",
      "metadata": {
        "id": "fd2d8c63",
        "outputId": "6ac33190-0201-415c-8090-34ec45b2be72",
        "colab": {
          "base_uri": "https://localhost:8080/"
        }
      },
      "outputs": [
        {
          "output_type": "execute_result",
          "data": {
            "text/plain": [
              "15.0"
            ]
          },
          "metadata": {},
          "execution_count": 16
        }
      ],
      "source": [
        "np.median(arr1)"
      ]
    },
    {
      "cell_type": "code",
      "execution_count": 17,
      "id": "b8ec928b",
      "metadata": {
        "id": "b8ec928b"
      },
      "outputs": [],
      "source": [
        "arr2 = np.random.randint(1, 10, (3,4))"
      ]
    },
    {
      "cell_type": "code",
      "execution_count": 18,
      "id": "1748f672",
      "metadata": {
        "id": "1748f672",
        "outputId": "18321469-036c-44e5-8ba8-7c2f5785a310",
        "colab": {
          "base_uri": "https://localhost:8080/"
        }
      },
      "outputs": [
        {
          "output_type": "execute_result",
          "data": {
            "text/plain": [
              "array([[3, 6, 8, 3],\n",
              "       [7, 5, 3, 7],\n",
              "       [8, 7, 7, 3]])"
            ]
          },
          "metadata": {},
          "execution_count": 18
        }
      ],
      "source": [
        "arr2"
      ]
    },
    {
      "cell_type": "code",
      "execution_count": 19,
      "id": "aa84e6d7",
      "metadata": {
        "id": "aa84e6d7",
        "outputId": "2360dbc5-e7fb-4fd0-c226-8d9f6a52d0b6",
        "colab": {
          "base_uri": "https://localhost:8080/"
        }
      },
      "outputs": [
        {
          "output_type": "execute_result",
          "data": {
            "text/plain": [
              "67"
            ]
          },
          "metadata": {},
          "execution_count": 19
        }
      ],
      "source": [
        "np.sum(arr2)"
      ]
    },
    {
      "cell_type": "code",
      "execution_count": 20,
      "id": "d17e38ee",
      "metadata": {
        "id": "d17e38ee",
        "outputId": "2dae6da4-9eeb-47f6-8304-06ee46bd6afa",
        "colab": {
          "base_uri": "https://localhost:8080/"
        }
      },
      "outputs": [
        {
          "output_type": "execute_result",
          "data": {
            "text/plain": [
              "5.583333333333333"
            ]
          },
          "metadata": {},
          "execution_count": 20
        }
      ],
      "source": [
        "np.mean(arr2)   # Sorting the array in ascending order: [1,2,3,.... Taking the average of the two middle values: (V1 + V2) / 2 ="
      ]
    },
    {
      "cell_type": "code",
      "execution_count": 21,
      "id": "203beaf3",
      "metadata": {
        "id": "203beaf3",
        "outputId": "86bb02ad-acfa-4e2e-c184-313d7d02ecd5",
        "colab": {
          "base_uri": "https://localhost:8080/"
        }
      },
      "outputs": [
        {
          "output_type": "execute_result",
          "data": {
            "text/plain": [
              "array([[3, 6, 8, 3],\n",
              "       [7, 5, 3, 7],\n",
              "       [8, 7, 7, 3]])"
            ]
          },
          "metadata": {},
          "execution_count": 21
        }
      ],
      "source": [
        "arr2"
      ]
    },
    {
      "cell_type": "code",
      "execution_count": 22,
      "id": "f214ed59",
      "metadata": {
        "id": "f214ed59",
        "outputId": "1107ac71-6eaf-45b2-9058-964d357b0e33",
        "colab": {
          "base_uri": "https://localhost:8080/"
        }
      },
      "outputs": [
        {
          "output_type": "execute_result",
          "data": {
            "text/plain": [
              "6.5"
            ]
          },
          "metadata": {},
          "execution_count": 22
        }
      ],
      "source": [
        "np.median(arr2)"
      ]
    },
    {
      "cell_type": "code",
      "execution_count": 5,
      "id": "89c12e73",
      "metadata": {
        "id": "89c12e73"
      },
      "outputs": [],
      "source": [
        "a1 = np.random.randint(1, 10, (5,))\n",
        "a2 = np.random.randint(1, 10, (5,))"
      ]
    },
    {
      "cell_type": "code",
      "execution_count": 24,
      "id": "42bb58f4",
      "metadata": {
        "id": "42bb58f4",
        "outputId": "b14c1cb6-c3b5-4edb-cd31-a71a1dc09840",
        "colab": {
          "base_uri": "https://localhost:8080/"
        }
      },
      "outputs": [
        {
          "output_type": "execute_result",
          "data": {
            "text/plain": [
              "array([6, 6, 1, 5, 3])"
            ]
          },
          "metadata": {},
          "execution_count": 24
        }
      ],
      "source": [
        "a1"
      ]
    },
    {
      "cell_type": "code",
      "execution_count": 25,
      "id": "a55c0157",
      "metadata": {
        "id": "a55c0157",
        "outputId": "4b784b91-08e9-4ca4-df9f-6f1fd78f1a62",
        "colab": {
          "base_uri": "https://localhost:8080/"
        }
      },
      "outputs": [
        {
          "output_type": "execute_result",
          "data": {
            "text/plain": [
              "array([1, 1, 1, 4, 2])"
            ]
          },
          "metadata": {},
          "execution_count": 25
        }
      ],
      "source": [
        "a2"
      ]
    },
    {
      "cell_type": "code",
      "execution_count": 26,
      "id": "fc9729b1",
      "metadata": {
        "id": "fc9729b1",
        "outputId": "f79c704b-e755-465c-f4e9-6c5731185e52",
        "colab": {
          "base_uri": "https://localhost:8080/"
        }
      },
      "outputs": [
        {
          "output_type": "execute_result",
          "data": {
            "text/plain": [
              "array([7, 7, 2, 9, 5])"
            ]
          },
          "metadata": {},
          "execution_count": 26
        }
      ],
      "source": [
        "a1 + a2"
      ]
    },
    {
      "cell_type": "code",
      "execution_count": 27,
      "id": "58198579",
      "metadata": {
        "id": "58198579"
      },
      "outputs": [],
      "source": [
        "a3 = np.random.randint(1, 10, (6,))"
      ]
    },
    {
      "cell_type": "code",
      "execution_count": 28,
      "id": "e069a97a",
      "metadata": {
        "id": "e069a97a",
        "outputId": "72d63d91-ad6d-4538-bbc1-27aee70dd261",
        "colab": {
          "base_uri": "https://localhost:8080/"
        }
      },
      "outputs": [
        {
          "output_type": "execute_result",
          "data": {
            "text/plain": [
              "array([6, 6, 1, 5, 3])"
            ]
          },
          "metadata": {},
          "execution_count": 28
        }
      ],
      "source": [
        "a1"
      ]
    },
    {
      "cell_type": "code",
      "execution_count": 29,
      "id": "6d95a02b",
      "metadata": {
        "id": "6d95a02b",
        "outputId": "3cb0a881-a716-434d-9eae-0f4bccdd4d27",
        "colab": {
          "base_uri": "https://localhost:8080/"
        }
      },
      "outputs": [
        {
          "output_type": "execute_result",
          "data": {
            "text/plain": [
              "array([1, 9, 9, 6, 7, 1])"
            ]
          },
          "metadata": {},
          "execution_count": 29
        }
      ],
      "source": [
        "a3"
      ]
    },
    {
      "cell_type": "code",
      "execution_count": 30,
      "id": "4e73a9b6",
      "metadata": {
        "id": "4e73a9b6",
        "outputId": "3b3406c3-46f2-4eac-ec51-6e65604e2784",
        "colab": {
          "base_uri": "https://localhost:8080/",
          "height": 171
        }
      },
      "outputs": [
        {
          "output_type": "error",
          "ename": "ValueError",
          "evalue": "ignored",
          "traceback": [
            "\u001b[0;31m---------------------------------------------------------------------------\u001b[0m",
            "\u001b[0;31mValueError\u001b[0m                                Traceback (most recent call last)",
            "\u001b[0;32m<ipython-input-30-beff51150b8c>\u001b[0m in \u001b[0;36m<cell line: 1>\u001b[0;34m()\u001b[0m\n\u001b[0;32m----> 1\u001b[0;31m \u001b[0ma1\u001b[0m \u001b[0;34m+\u001b[0m \u001b[0ma3\u001b[0m\u001b[0;34m\u001b[0m\u001b[0;34m\u001b[0m\u001b[0m\n\u001b[0m",
            "\u001b[0;31mValueError\u001b[0m: operands could not be broadcast together with shapes (5,) (6,) "
          ]
        }
      ],
      "source": [
        "a1 + a3"
      ]
    },
    {
      "cell_type": "code",
      "execution_count": 31,
      "id": "7c7cd6bb",
      "metadata": {
        "id": "7c7cd6bb",
        "outputId": "5afbb856-6bad-4b74-9af3-e12fda36603f",
        "colab": {
          "base_uri": "https://localhost:8080/"
        }
      },
      "outputs": [
        {
          "output_type": "execute_result",
          "data": {
            "text/plain": [
              "array([6, 6, 1, 5, 3])"
            ]
          },
          "metadata": {},
          "execution_count": 31
        }
      ],
      "source": [
        "a1"
      ]
    },
    {
      "cell_type": "code",
      "execution_count": 32,
      "id": "8d6d78e6",
      "metadata": {
        "id": "8d6d78e6",
        "outputId": "b9229ed8-0aeb-4fb8-cc46-91f7e2bf650c",
        "colab": {
          "base_uri": "https://localhost:8080/"
        }
      },
      "outputs": [
        {
          "output_type": "execute_result",
          "data": {
            "text/plain": [
              "array([1, 1, 1, 4, 2])"
            ]
          },
          "metadata": {},
          "execution_count": 32
        }
      ],
      "source": [
        "a2"
      ]
    },
    {
      "cell_type": "code",
      "execution_count": 33,
      "id": "7e93d407",
      "metadata": {
        "id": "7e93d407",
        "outputId": "d43a057f-f831-4479-eae9-1eb7a6f9d4bf",
        "colab": {
          "base_uri": "https://localhost:8080/"
        }
      },
      "outputs": [
        {
          "output_type": "execute_result",
          "data": {
            "text/plain": [
              "array([ 6,  6,  1, 20,  6])"
            ]
          },
          "metadata": {},
          "execution_count": 33
        }
      ],
      "source": [
        "a1 * a2"
      ]
    },
    {
      "cell_type": "code",
      "execution_count": 34,
      "id": "890a6a05",
      "metadata": {
        "id": "890a6a05",
        "outputId": "7ba072e6-5348-483e-8a21-cd165278cd30",
        "colab": {
          "base_uri": "https://localhost:8080/"
        }
      },
      "outputs": [
        {
          "output_type": "execute_result",
          "data": {
            "text/plain": [
              "array([6.  , 6.  , 1.  , 1.25, 1.5 ])"
            ]
          },
          "metadata": {},
          "execution_count": 34
        }
      ],
      "source": [
        "a1 / a2"
      ]
    },
    {
      "cell_type": "code",
      "execution_count": 35,
      "id": "bb0f62bd",
      "metadata": {
        "id": "bb0f62bd",
        "outputId": "f948ded3-ef0b-4708-e60b-c4e5611f9f32",
        "colab": {
          "base_uri": "https://localhost:8080/"
        }
      },
      "outputs": [
        {
          "output_type": "execute_result",
          "data": {
            "text/plain": [
              "array([0.16666667, 0.16666667, 1.        , 0.8       , 0.66666667])"
            ]
          },
          "metadata": {},
          "execution_count": 35
        }
      ],
      "source": [
        "a2/ a1"
      ]
    },
    {
      "cell_type": "code",
      "execution_count": 36,
      "id": "9c2e079a",
      "metadata": {
        "id": "9c2e079a",
        "outputId": "7cb6f90a-89d5-4e22-e082-13a026351c5e",
        "colab": {
          "base_uri": "https://localhost:8080/"
        }
      },
      "outputs": [
        {
          "output_type": "execute_result",
          "data": {
            "text/plain": [
              "array([5, 5, 0, 1, 1])"
            ]
          },
          "metadata": {},
          "execution_count": 36
        }
      ],
      "source": [
        "a1 - a2"
      ]
    },
    {
      "cell_type": "code",
      "execution_count": 37,
      "id": "94fd2d1b",
      "metadata": {
        "id": "94fd2d1b",
        "outputId": "b3dcf16b-2341-4c2a-e833-98cce1bea635",
        "colab": {
          "base_uri": "https://localhost:8080/"
        }
      },
      "outputs": [
        {
          "output_type": "execute_result",
          "data": {
            "text/plain": [
              "array([6, 6, 1, 5, 3])"
            ]
          },
          "metadata": {},
          "execution_count": 37
        }
      ],
      "source": [
        "a1"
      ]
    },
    {
      "cell_type": "code",
      "execution_count": 38,
      "id": "59aef12a",
      "metadata": {
        "id": "59aef12a",
        "outputId": "339e10ac-84bb-4a5b-fcdd-99b6304d1424",
        "colab": {
          "base_uri": "https://localhost:8080/"
        }
      },
      "outputs": [
        {
          "output_type": "execute_result",
          "data": {
            "text/plain": [
              "array([1, 1, 1, 4, 2])"
            ]
          },
          "metadata": {},
          "execution_count": 38
        }
      ],
      "source": [
        "a2"
      ]
    },
    {
      "cell_type": "code",
      "execution_count": 39,
      "id": "287e8ac3",
      "metadata": {
        "id": "287e8ac3",
        "outputId": "823510c4-dff0-4a19-9299-54a1a37d5801",
        "colab": {
          "base_uri": "https://localhost:8080/"
        }
      },
      "outputs": [
        {
          "output_type": "execute_result",
          "data": {
            "text/plain": [
              "array([ True,  True, False,  True,  True])"
            ]
          },
          "metadata": {},
          "execution_count": 39
        }
      ],
      "source": [
        "a1 > a2"
      ]
    },
    {
      "cell_type": "code",
      "execution_count": 40,
      "id": "71793a34",
      "metadata": {
        "id": "71793a34",
        "outputId": "05ce8907-26f1-40a5-c144-f6fb0679402a",
        "colab": {
          "base_uri": "https://localhost:8080/",
          "height": 171
        }
      },
      "outputs": [
        {
          "output_type": "error",
          "ename": "ValueError",
          "evalue": "ignored",
          "traceback": [
            "\u001b[0;31m---------------------------------------------------------------------------\u001b[0m",
            "\u001b[0;31mValueError\u001b[0m                                Traceback (most recent call last)",
            "\u001b[0;32m<ipython-input-40-3e4466b24ce2>\u001b[0m in \u001b[0;36m<cell line: 1>\u001b[0;34m()\u001b[0m\n\u001b[0;32m----> 1\u001b[0;31m \u001b[0ma1\u001b[0m \u001b[0;32mand\u001b[0m \u001b[0ma2\u001b[0m\u001b[0;34m\u001b[0m\u001b[0;34m\u001b[0m\u001b[0m\n\u001b[0m",
            "\u001b[0;31mValueError\u001b[0m: The truth value of an array with more than one element is ambiguous. Use a.any() or a.all()"
          ]
        }
      ],
      "source": [
        "a1 and a2"
      ]
    },
    {
      "cell_type": "code",
      "execution_count": 41,
      "id": "de8c3d5e",
      "metadata": {
        "id": "de8c3d5e"
      },
      "outputs": [],
      "source": [
        "a4 = np.array([True, False, True])\n",
        "a5 = np.array([True, True, False])"
      ]
    },
    {
      "cell_type": "code",
      "execution_count": 42,
      "id": "d065f67e",
      "metadata": {
        "id": "d065f67e",
        "outputId": "6109bad0-b3c6-4a4b-8bf5-7e82f2835434",
        "colab": {
          "base_uri": "https://localhost:8080/",
          "height": 171
        }
      },
      "outputs": [
        {
          "output_type": "error",
          "ename": "ValueError",
          "evalue": "ignored",
          "traceback": [
            "\u001b[0;31m---------------------------------------------------------------------------\u001b[0m",
            "\u001b[0;31mValueError\u001b[0m                                Traceback (most recent call last)",
            "\u001b[0;32m<ipython-input-42-2e1b6eb072ea>\u001b[0m in \u001b[0;36m<cell line: 1>\u001b[0;34m()\u001b[0m\n\u001b[0;32m----> 1\u001b[0;31m \u001b[0ma4\u001b[0m \u001b[0;32mand\u001b[0m \u001b[0ma5\u001b[0m\u001b[0;34m\u001b[0m\u001b[0;34m\u001b[0m\u001b[0m\n\u001b[0m",
            "\u001b[0;31mValueError\u001b[0m: The truth value of an array with more than one element is ambiguous. Use a.any() or a.all()"
          ]
        }
      ],
      "source": [
        "a4 and a5"
      ]
    },
    {
      "cell_type": "code",
      "execution_count": 43,
      "id": "8b08befc",
      "metadata": {
        "id": "8b08befc",
        "outputId": "accdcae1-1abc-4a70-c65e-763facaac5ed",
        "colab": {
          "base_uri": "https://localhost:8080/"
        }
      },
      "outputs": [
        {
          "output_type": "execute_result",
          "data": {
            "text/plain": [
              "array([ True, False, False])"
            ]
          },
          "metadata": {},
          "execution_count": 43
        }
      ],
      "source": [
        "a4 & a5  # Same and operaction with & work"
      ]
    },
    {
      "cell_type": "code",
      "execution_count": 44,
      "id": "a6beebbf",
      "metadata": {
        "id": "a6beebbf",
        "outputId": "093f286f-43e8-449b-a983-4d88a94cda84",
        "colab": {
          "base_uri": "https://localhost:8080/"
        }
      },
      "outputs": [
        {
          "output_type": "execute_result",
          "data": {
            "text/plain": [
              "array([ True,  True,  True])"
            ]
          },
          "metadata": {},
          "execution_count": 44
        }
      ],
      "source": [
        "a4 | a5"
      ]
    },
    {
      "cell_type": "code",
      "execution_count": 45,
      "id": "fdf0c993",
      "metadata": {
        "id": "fdf0c993",
        "outputId": "45f7cb54-0446-4d9d-9b1b-865280d47793",
        "colab": {
          "base_uri": "https://localhost:8080/"
        }
      },
      "outputs": [
        {
          "output_type": "execute_result",
          "data": {
            "text/plain": [
              "array([6, 6, 1, 5, 3])"
            ]
          },
          "metadata": {},
          "execution_count": 45
        }
      ],
      "source": [
        "a1"
      ]
    },
    {
      "cell_type": "code",
      "execution_count": 46,
      "id": "0d22c39a",
      "metadata": {
        "id": "0d22c39a",
        "outputId": "6ad6f021-a97a-437a-d7df-4f2fa68c8a74",
        "colab": {
          "base_uri": "https://localhost:8080/"
        }
      },
      "outputs": [
        {
          "output_type": "execute_result",
          "data": {
            "text/plain": [
              "array([1, 1, 1, 4, 2])"
            ]
          },
          "metadata": {},
          "execution_count": 46
        }
      ],
      "source": [
        "a2"
      ]
    },
    {
      "cell_type": "code",
      "execution_count": 47,
      "id": "a70a9955",
      "metadata": {
        "id": "a70a9955",
        "outputId": "1e5aec1f-089c-4beb-b575-7982d4045b15",
        "colab": {
          "base_uri": "https://localhost:8080/"
        }
      },
      "outputs": [
        {
          "output_type": "execute_result",
          "data": {
            "text/plain": [
              "array([0, 0, 1, 4, 2])"
            ]
          },
          "metadata": {},
          "execution_count": 47
        }
      ],
      "source": [
        "a1 & a2"
      ]
    },
    {
      "cell_type": "code",
      "execution_count": 48,
      "id": "21181241",
      "metadata": {
        "id": "21181241",
        "outputId": "bcdf2978-4d33-4d01-b69c-29f92b239f08",
        "colab": {
          "base_uri": "https://localhost:8080/"
        }
      },
      "outputs": [
        {
          "output_type": "execute_result",
          "data": {
            "text/plain": [
              "array([6, 6, 1, 5, 3])"
            ]
          },
          "metadata": {},
          "execution_count": 48
        }
      ],
      "source": [
        "a1"
      ]
    },
    {
      "cell_type": "code",
      "execution_count": 49,
      "id": "3ec471c8",
      "metadata": {
        "id": "3ec471c8",
        "outputId": "b9971b57-a773-49f4-db57-adf3e8ff37f3",
        "colab": {
          "base_uri": "https://localhost:8080/"
        }
      },
      "outputs": [
        {
          "output_type": "execute_result",
          "data": {
            "text/plain": [
              "array([1, 1, 1, 4, 2])"
            ]
          },
          "metadata": {},
          "execution_count": 49
        }
      ],
      "source": [
        "a2"
      ]
    },
    {
      "cell_type": "code",
      "execution_count": 50,
      "id": "1c9a402b",
      "metadata": {
        "id": "1c9a402b",
        "outputId": "c502ac0d-397a-4627-f3f7-129525bb9061",
        "colab": {
          "base_uri": "https://localhost:8080/"
        }
      },
      "outputs": [
        {
          "output_type": "execute_result",
          "data": {
            "text/plain": [
              "array([7, 7, 2, 9, 5])"
            ]
          },
          "metadata": {},
          "execution_count": 50
        }
      ],
      "source": [
        "np.add(a1, a2)"
      ]
    },
    {
      "cell_type": "code",
      "execution_count": 51,
      "id": "8242d387",
      "metadata": {
        "id": "8242d387",
        "outputId": "bdaaf61f-7faa-4aca-ad06-a2ea6ac9113f",
        "colab": {
          "base_uri": "https://localhost:8080/"
        }
      },
      "outputs": [
        {
          "output_type": "execute_result",
          "data": {
            "text/plain": [
              "array([5, 5, 0, 1, 1])"
            ]
          },
          "metadata": {},
          "execution_count": 51
        }
      ],
      "source": [
        "np.subtract(a1, a2)"
      ]
    },
    {
      "cell_type": "code",
      "execution_count": 52,
      "id": "2bcc0388",
      "metadata": {
        "id": "2bcc0388",
        "outputId": "dff07473-f12a-42b2-a26d-580ce4a1103d",
        "colab": {
          "base_uri": "https://localhost:8080/"
        }
      },
      "outputs": [
        {
          "output_type": "execute_result",
          "data": {
            "text/plain": [
              "array([6.  , 6.  , 1.  , 1.25, 1.5 ])"
            ]
          },
          "metadata": {},
          "execution_count": 52
        }
      ],
      "source": [
        "np.divide(a1, a2)"
      ]
    },
    {
      "cell_type": "code",
      "execution_count": 53,
      "id": "642332db",
      "metadata": {
        "id": "642332db",
        "outputId": "7a7c2b0b-bd5f-46d4-f599-acd266a5cc66",
        "colab": {
          "base_uri": "https://localhost:8080/"
        }
      },
      "outputs": [
        {
          "output_type": "execute_result",
          "data": {
            "text/plain": [
              "array([ 6,  6,  1, 20,  6])"
            ]
          },
          "metadata": {},
          "execution_count": 53
        }
      ],
      "source": [
        "np.multiply(a1, a2)"
      ]
    },
    {
      "cell_type": "code",
      "execution_count": 54,
      "id": "4a765b7e",
      "metadata": {
        "id": "4a765b7e",
        "outputId": "89b50ac6-5b6e-4fb6-a782-bde775a4042f",
        "colab": {
          "base_uri": "https://localhost:8080/"
        }
      },
      "outputs": [
        {
          "output_type": "execute_result",
          "data": {
            "text/plain": [
              "array([  6,   6,   1, 625,   9])"
            ]
          },
          "metadata": {},
          "execution_count": 54
        }
      ],
      "source": [
        "a1 ** a2"
      ]
    },
    {
      "cell_type": "code",
      "execution_count": 6,
      "id": "9167a63b",
      "metadata": {
        "id": "9167a63b"
      },
      "outputs": [],
      "source": [
        "m1 = np.random.randint(1, 5, (2, 3))\n",
        "m2 = np.random.randint(1, 5, (2, 3))"
      ]
    },
    {
      "cell_type": "code",
      "execution_count": 7,
      "id": "4ce8dc4e",
      "metadata": {
        "id": "4ce8dc4e",
        "outputId": "f890bc45-2a80-4d57-8901-0d63115600c4",
        "colab": {
          "base_uri": "https://localhost:8080/"
        }
      },
      "outputs": [
        {
          "output_type": "execute_result",
          "data": {
            "text/plain": [
              "array([[3, 2, 2],\n",
              "       [3, 3, 1]])"
            ]
          },
          "metadata": {},
          "execution_count": 7
        }
      ],
      "source": [
        "m1"
      ]
    },
    {
      "cell_type": "code",
      "execution_count": 57,
      "id": "cbce4309",
      "metadata": {
        "id": "cbce4309",
        "outputId": "4cb82c87-dd11-4c84-e92c-4a7bcb28bff3",
        "colab": {
          "base_uri": "https://localhost:8080/"
        }
      },
      "outputs": [
        {
          "output_type": "execute_result",
          "data": {
            "text/plain": [
              "array([[2, 2, 4],\n",
              "       [1, 4, 4]])"
            ]
          },
          "metadata": {},
          "execution_count": 57
        }
      ],
      "source": [
        "m2"
      ]
    },
    {
      "cell_type": "code",
      "execution_count": 58,
      "id": "b8162402",
      "metadata": {
        "id": "b8162402",
        "outputId": "2f3c9ec2-ebc2-4a6e-9fb6-d63baacc4a80",
        "colab": {
          "base_uri": "https://localhost:8080/"
        }
      },
      "outputs": [
        {
          "output_type": "execute_result",
          "data": {
            "text/plain": [
              "array([[6, 4, 6],\n",
              "       [2, 8, 7]])"
            ]
          },
          "metadata": {},
          "execution_count": 58
        }
      ],
      "source": [
        "m1 + m2"
      ]
    },
    {
      "cell_type": "code",
      "execution_count": 59,
      "id": "7c50c112",
      "metadata": {
        "id": "7c50c112",
        "outputId": "c385b1d4-3b72-45d4-b609-258ab45f8b2a",
        "colab": {
          "base_uri": "https://localhost:8080/"
        }
      },
      "outputs": [
        {
          "output_type": "execute_result",
          "data": {
            "text/plain": [
              "array([[6, 4, 6],\n",
              "       [2, 8, 7]])"
            ]
          },
          "metadata": {},
          "execution_count": 59
        }
      ],
      "source": [
        "np.add(m1, m2)"
      ]
    },
    {
      "cell_type": "code",
      "execution_count": 60,
      "id": "857282d8",
      "metadata": {
        "id": "857282d8",
        "outputId": "c45e9fae-71ec-4a60-cade-6178c1fb797e",
        "colab": {
          "base_uri": "https://localhost:8080/"
        }
      },
      "outputs": [
        {
          "output_type": "execute_result",
          "data": {
            "text/plain": [
              "array([[ 2,  0, -2],\n",
              "       [ 0,  0, -1]])"
            ]
          },
          "metadata": {},
          "execution_count": 60
        }
      ],
      "source": [
        "m1 - m2"
      ]
    },
    {
      "cell_type": "code",
      "execution_count": 61,
      "id": "a2e70478",
      "metadata": {
        "id": "a2e70478",
        "outputId": "92a0ed4e-ac8e-46fb-89d6-5f04d2701a99",
        "colab": {
          "base_uri": "https://localhost:8080/"
        }
      },
      "outputs": [
        {
          "output_type": "execute_result",
          "data": {
            "text/plain": [
              "array([[2.  , 1.  , 0.5 ],\n",
              "       [1.  , 1.  , 0.75]])"
            ]
          },
          "metadata": {},
          "execution_count": 61
        }
      ],
      "source": [
        "m1 / m2"
      ]
    },
    {
      "cell_type": "code",
      "execution_count": 62,
      "id": "63d833ae",
      "metadata": {
        "id": "63d833ae"
      },
      "outputs": [],
      "source": [
        "m3 = np.random.randint(1, 5, (3,3))"
      ]
    },
    {
      "cell_type": "code",
      "execution_count": 63,
      "id": "1a0a3631",
      "metadata": {
        "id": "1a0a3631",
        "outputId": "e55977f9-4c7f-47fe-9815-2eed69238d0d",
        "colab": {
          "base_uri": "https://localhost:8080/"
        }
      },
      "outputs": [
        {
          "output_type": "execute_result",
          "data": {
            "text/plain": [
              "array([[3, 2, 4],\n",
              "       [1, 2, 3],\n",
              "       [4, 1, 3]])"
            ]
          },
          "metadata": {},
          "execution_count": 63
        }
      ],
      "source": [
        "m3"
      ]
    },
    {
      "cell_type": "code",
      "execution_count": 64,
      "id": "39d8f776",
      "metadata": {
        "id": "39d8f776",
        "outputId": "a6192a8d-3582-49ca-aa78-1e8f5387b9bf",
        "colab": {
          "base_uri": "https://localhost:8080/"
        }
      },
      "outputs": [
        {
          "output_type": "execute_result",
          "data": {
            "text/plain": [
              "array([[4, 2, 2],\n",
              "       [1, 4, 3]])"
            ]
          },
          "metadata": {},
          "execution_count": 64
        }
      ],
      "source": [
        "m1"
      ]
    },
    {
      "cell_type": "code",
      "execution_count": 65,
      "id": "b20f9d50",
      "metadata": {
        "id": "b20f9d50",
        "outputId": "49fcbb39-b3fe-4e41-fd46-bbb5679d8a1b",
        "colab": {
          "base_uri": "https://localhost:8080/",
          "height": 171
        }
      },
      "outputs": [
        {
          "output_type": "error",
          "ename": "ValueError",
          "evalue": "ignored",
          "traceback": [
            "\u001b[0;31m---------------------------------------------------------------------------\u001b[0m",
            "\u001b[0;31mValueError\u001b[0m                                Traceback (most recent call last)",
            "\u001b[0;32m<ipython-input-65-37b0c7dac305>\u001b[0m in \u001b[0;36m<cell line: 1>\u001b[0;34m()\u001b[0m\n\u001b[0;32m----> 1\u001b[0;31m \u001b[0mm1\u001b[0m \u001b[0;34m+\u001b[0m \u001b[0mm3\u001b[0m\u001b[0;34m\u001b[0m\u001b[0;34m\u001b[0m\u001b[0m\n\u001b[0m",
            "\u001b[0;31mValueError\u001b[0m: operands could not be broadcast together with shapes (2,3) (3,3) "
          ]
        }
      ],
      "source": [
        "m1 + m3"
      ]
    },
    {
      "cell_type": "code",
      "execution_count": 66,
      "id": "791dbd12",
      "metadata": {
        "id": "791dbd12",
        "outputId": "bab116b8-1259-4506-e204-ec15245b4d0f",
        "colab": {
          "base_uri": "https://localhost:8080/"
        }
      },
      "outputs": [
        {
          "output_type": "execute_result",
          "data": {
            "text/plain": [
              "array([[4, 2, 2],\n",
              "       [1, 4, 3]])"
            ]
          },
          "metadata": {},
          "execution_count": 66
        }
      ],
      "source": [
        "m1"
      ]
    },
    {
      "cell_type": "code",
      "execution_count": 67,
      "id": "ee9a7532",
      "metadata": {
        "id": "ee9a7532",
        "outputId": "33849df2-7c67-41c8-a948-ea4ad21b06d1",
        "colab": {
          "base_uri": "https://localhost:8080/"
        }
      },
      "outputs": [
        {
          "output_type": "execute_result",
          "data": {
            "text/plain": [
              "array([[2, 2, 4],\n",
              "       [1, 4, 4]])"
            ]
          },
          "metadata": {},
          "execution_count": 67
        }
      ],
      "source": [
        "m2"
      ]
    },
    {
      "cell_type": "code",
      "execution_count": 68,
      "id": "5362db1c",
      "metadata": {
        "id": "5362db1c",
        "outputId": "f542acaa-4333-4477-e362-529bf6c0a63e",
        "colab": {
          "base_uri": "https://localhost:8080/"
        }
      },
      "outputs": [
        {
          "output_type": "execute_result",
          "data": {
            "text/plain": [
              "array([[ 8,  4,  8],\n",
              "       [ 1, 16, 12]])"
            ]
          },
          "metadata": {},
          "execution_count": 68
        }
      ],
      "source": [
        "m1 * m2"
      ]
    },
    {
      "cell_type": "markdown",
      "source": [
        "####**bold text** dot product"
      ],
      "metadata": {
        "id": "R1r-BnFwB3bA"
      },
      "id": "R1r-BnFwB3bA"
    },
    {
      "cell_type": "markdown",
      "source": [
        "#### for dort product, the number of columns of the first matrix should be equal to number of rows of the second matrix\n",
        "\n",
        "<----------> ROWS\n",
        "\n",
        "* m1 => (r1, c1)\n",
        "* m2 => (r2, c2)\n",
        "\n",
        "* for dot product, c1 == r2\n",
        "* and the shape of the outpt will be (r1, c2)"
      ],
      "metadata": {
        "id": "_3Y3ZIPSIDkQ"
      },
      "id": "_3Y3ZIPSIDkQ"
    },
    {
      "cell_type": "code",
      "execution_count": 69,
      "id": "f9954000",
      "metadata": {
        "id": "f9954000",
        "outputId": "f93b59b9-687e-4151-e0e3-17603ec9e1ef",
        "colab": {
          "base_uri": "https://localhost:8080/",
          "height": 208
        }
      },
      "outputs": [
        {
          "output_type": "error",
          "ename": "ValueError",
          "evalue": "ignored",
          "traceback": [
            "\u001b[0;31m---------------------------------------------------------------------------\u001b[0m",
            "\u001b[0;31mValueError\u001b[0m                                Traceback (most recent call last)",
            "\u001b[0;32m<ipython-input-69-10ff158abd93>\u001b[0m in \u001b[0;36m<cell line: 1>\u001b[0;34m()\u001b[0m\n\u001b[0;32m----> 1\u001b[0;31m \u001b[0mnp\u001b[0m\u001b[0;34m.\u001b[0m\u001b[0mdot\u001b[0m\u001b[0;34m(\u001b[0m\u001b[0mm1\u001b[0m\u001b[0;34m,\u001b[0m \u001b[0mm2\u001b[0m\u001b[0;34m)\u001b[0m\u001b[0;34m\u001b[0m\u001b[0;34m\u001b[0m\u001b[0m\n\u001b[0m",
            "\u001b[0;32m/usr/local/lib/python3.10/dist-packages/numpy/core/overrides.py\u001b[0m in \u001b[0;36mdot\u001b[0;34m(*args, **kwargs)\u001b[0m\n",
            "\u001b[0;31mValueError\u001b[0m: shapes (2,3) and (2,3) not aligned: 3 (dim 1) != 2 (dim 0)"
          ]
        }
      ],
      "source": [
        "np.dot(m1, m2)"
      ]
    },
    {
      "cell_type": "code",
      "execution_count": 70,
      "id": "202be26c",
      "metadata": {
        "id": "202be26c"
      },
      "outputs": [],
      "source": [
        "m4 = np.array([\n",
        "    [2,1,3],\n",
        "    [4,0,1]\n",
        "])"
      ]
    },
    {
      "cell_type": "code",
      "execution_count": 71,
      "id": "bf34ec0e",
      "metadata": {
        "id": "bf34ec0e"
      },
      "outputs": [],
      "source": [
        "m5 = np.array([\n",
        "    [1,4,1],\n",
        "    [2,3,1],\n",
        "    [0,1,2]\n",
        "])"
      ]
    },
    {
      "cell_type": "code",
      "execution_count": 73,
      "id": "2e5dfa89",
      "metadata": {
        "id": "2e5dfa89",
        "outputId": "941f8021-e4f8-4d7f-a600-7617d8e44f09",
        "colab": {
          "base_uri": "https://localhost:8080/"
        }
      },
      "outputs": [
        {
          "output_type": "execute_result",
          "data": {
            "text/plain": [
              "array([[ 4, 14,  9],\n",
              "       [ 4, 17,  6]])"
            ]
          },
          "metadata": {},
          "execution_count": 73
        }
      ],
      "source": [
        "np.dot(m4, m5)"
      ]
    },
    {
      "cell_type": "code",
      "execution_count": 74,
      "id": "668544ce",
      "metadata": {
        "id": "668544ce",
        "outputId": "d4603317-4bae-4efa-f3e4-76f820ce5fb8",
        "colab": {
          "base_uri": "https://localhost:8080/"
        }
      },
      "outputs": [
        {
          "output_type": "execute_result",
          "data": {
            "text/plain": [
              "array([[ 4, 14,  9],\n",
              "       [ 4, 17,  6]])"
            ]
          },
          "metadata": {},
          "execution_count": 74
        }
      ],
      "source": [
        "m4 @ m5   # @ symbol for dot multiplication"
      ]
    },
    {
      "cell_type": "code",
      "execution_count": 78,
      "id": "da688dbb",
      "metadata": {
        "id": "da688dbb",
        "outputId": "d465b897-c894-490e-faaf-1e3830e881be",
        "colab": {
          "base_uri": "https://localhost:8080/"
        }
      },
      "outputs": [
        {
          "output_type": "execute_result",
          "data": {
            "text/plain": [
              "array([[4, 2, 2],\n",
              "       [1, 4, 3]])"
            ]
          },
          "metadata": {},
          "execution_count": 78
        }
      ],
      "source": [
        "m1"
      ]
    },
    {
      "cell_type": "code",
      "execution_count": 79,
      "id": "925e9393",
      "metadata": {
        "id": "925e9393",
        "outputId": "3a2f5990-3808-42af-b44c-c31a03e5417c",
        "colab": {
          "base_uri": "https://localhost:8080/"
        }
      },
      "outputs": [
        {
          "output_type": "execute_result",
          "data": {
            "text/plain": [
              "array([[2, 2, 4],\n",
              "       [1, 4, 4]])"
            ]
          },
          "metadata": {},
          "execution_count": 79
        }
      ],
      "source": [
        "m2"
      ]
    },
    {
      "cell_type": "code",
      "execution_count": 77,
      "id": "a85d4554",
      "metadata": {
        "id": "a85d4554",
        "outputId": "7e2aac01-4142-47b9-9d12-178b5d6c92bb",
        "colab": {
          "base_uri": "https://localhost:8080/"
        }
      },
      "outputs": [
        {
          "output_type": "execute_result",
          "data": {
            "text/plain": [
              "array([[ True, False, False],\n",
              "       [False, False, False]])"
            ]
          },
          "metadata": {},
          "execution_count": 77
        }
      ],
      "source": [
        "m1 > m2"
      ]
    },
    {
      "cell_type": "markdown",
      "source": [
        "#### Indexing and Slicing of arrays"
      ],
      "metadata": {
        "id": "1GEjk4D5I5Hi"
      },
      "id": "1GEjk4D5I5Hi"
    },
    {
      "cell_type": "code",
      "execution_count": 84,
      "id": "f20aaa2c",
      "metadata": {
        "id": "f20aaa2c"
      },
      "outputs": [],
      "source": [
        "a1 = np.random.randint(1, 10, (10, ))"
      ]
    },
    {
      "cell_type": "code",
      "execution_count": 85,
      "id": "12a30d6c",
      "metadata": {
        "id": "12a30d6c",
        "outputId": "17aac40b-2f3b-4f0a-d70c-e364d22a0505",
        "colab": {
          "base_uri": "https://localhost:8080/"
        }
      },
      "outputs": [
        {
          "output_type": "execute_result",
          "data": {
            "text/plain": [
              "array([2, 6, 1, 1, 8, 1, 6, 3, 8, 6])"
            ]
          },
          "metadata": {},
          "execution_count": 85
        }
      ],
      "source": [
        "a1"
      ]
    },
    {
      "cell_type": "code",
      "execution_count": 86,
      "id": "cc1157f9",
      "metadata": {
        "id": "cc1157f9",
        "outputId": "367d7994-0d90-4220-e1f4-61f5607f06d8",
        "colab": {
          "base_uri": "https://localhost:8080/"
        }
      },
      "outputs": [
        {
          "output_type": "execute_result",
          "data": {
            "text/plain": [
              "2"
            ]
          },
          "metadata": {},
          "execution_count": 86
        }
      ],
      "source": [
        "a1[0]"
      ]
    },
    {
      "cell_type": "code",
      "execution_count": 87,
      "id": "176c925b",
      "metadata": {
        "id": "176c925b",
        "outputId": "18ff795d-6ad3-4a77-ef01-edac7835465e",
        "colab": {
          "base_uri": "https://localhost:8080/"
        }
      },
      "outputs": [
        {
          "output_type": "execute_result",
          "data": {
            "text/plain": [
              "6"
            ]
          },
          "metadata": {},
          "execution_count": 87
        }
      ],
      "source": [
        "a1[-1]"
      ]
    },
    {
      "cell_type": "code",
      "execution_count": 88,
      "id": "5bcaa01a",
      "metadata": {
        "id": "5bcaa01a"
      },
      "outputs": [],
      "source": [
        "a1[0] = -1"
      ]
    },
    {
      "cell_type": "code",
      "execution_count": 89,
      "id": "27260ef9",
      "metadata": {
        "id": "27260ef9",
        "outputId": "70f7af22-5c96-4bae-c8cc-67a1857065e2",
        "colab": {
          "base_uri": "https://localhost:8080/"
        }
      },
      "outputs": [
        {
          "output_type": "execute_result",
          "data": {
            "text/plain": [
              "array([-1,  6,  1,  1,  8,  1,  6,  3,  8,  6])"
            ]
          },
          "metadata": {},
          "execution_count": 89
        }
      ],
      "source": [
        "a1"
      ]
    },
    {
      "cell_type": "code",
      "execution_count": 90,
      "id": "8c47500d",
      "metadata": {
        "id": "8c47500d",
        "outputId": "40e0a048-88cb-4e07-8b22-d18c87227f05",
        "colab": {
          "base_uri": "https://localhost:8080/"
        }
      },
      "outputs": [
        {
          "output_type": "execute_result",
          "data": {
            "text/plain": [
              "140621257052240"
            ]
          },
          "metadata": {},
          "execution_count": 90
        }
      ],
      "source": [
        "id(a1)"
      ]
    },
    {
      "cell_type": "code",
      "execution_count": 91,
      "id": "8f2933cc",
      "metadata": {
        "id": "8f2933cc"
      },
      "outputs": [],
      "source": [
        "a1[-1] = 0"
      ]
    },
    {
      "cell_type": "code",
      "execution_count": 92,
      "id": "44155ae0",
      "metadata": {
        "id": "44155ae0",
        "outputId": "48c8afa3-6a90-44d5-b790-80ae375b9f1c",
        "colab": {
          "base_uri": "https://localhost:8080/"
        }
      },
      "outputs": [
        {
          "output_type": "execute_result",
          "data": {
            "text/plain": [
              "array([-1,  6,  1,  1,  8,  1,  6,  3,  8,  0])"
            ]
          },
          "metadata": {},
          "execution_count": 92
        }
      ],
      "source": [
        "a1"
      ]
    },
    {
      "cell_type": "code",
      "execution_count": 93,
      "id": "9de1f593",
      "metadata": {
        "id": "9de1f593",
        "outputId": "ec33060f-8633-42e0-97e7-fe32ea63dd56",
        "colab": {
          "base_uri": "https://localhost:8080/"
        }
      },
      "outputs": [
        {
          "output_type": "execute_result",
          "data": {
            "text/plain": [
              "140621257052240"
            ]
          },
          "metadata": {},
          "execution_count": 93
        }
      ],
      "source": [
        "id(a1)   # Mutable"
      ]
    },
    {
      "cell_type": "code",
      "execution_count": 94,
      "id": "371d27f2",
      "metadata": {
        "id": "371d27f2",
        "outputId": "f67828e2-318e-4ba9-e093-47003526d212",
        "colab": {
          "base_uri": "https://localhost:8080/"
        }
      },
      "outputs": [
        {
          "output_type": "execute_result",
          "data": {
            "text/plain": [
              "array([-1,  6,  1,  1,  8,  1,  6,  3,  8,  0])"
            ]
          },
          "metadata": {},
          "execution_count": 94
        }
      ],
      "source": [
        "a1"
      ]
    },
    {
      "cell_type": "markdown",
      "source": [
        "#### When we create a slice froom an array, it creates a view, not a different array"
      ],
      "metadata": {
        "id": "-loC8PRkKRfw"
      },
      "id": "-loC8PRkKRfw"
    },
    {
      "cell_type": "code",
      "execution_count": 95,
      "id": "04cf9653",
      "metadata": {
        "id": "04cf9653",
        "outputId": "8fafbcad-894d-4d69-f588-9ab546aa6cef",
        "colab": {
          "base_uri": "https://localhost:8080/"
        }
      },
      "outputs": [
        {
          "output_type": "execute_result",
          "data": {
            "text/plain": [
              "array([1, 8, 1, 6, 3])"
            ]
          },
          "metadata": {},
          "execution_count": 95
        }
      ],
      "source": [
        "a1[3:8:1]"
      ]
    },
    {
      "cell_type": "code",
      "execution_count": 96,
      "id": "7742221d",
      "metadata": {
        "id": "7742221d",
        "outputId": "78a78e17-e71c-46cd-c0c6-999d74beebe1",
        "colab": {
          "base_uri": "https://localhost:8080/"
        }
      },
      "outputs": [
        {
          "output_type": "execute_result",
          "data": {
            "text/plain": [
              "array([8, 1, 6])"
            ]
          },
          "metadata": {},
          "execution_count": 96
        }
      ],
      "source": [
        "a1[4:7]"
      ]
    },
    {
      "cell_type": "code",
      "execution_count": 97,
      "id": "f6cbb0cc",
      "metadata": {
        "id": "f6cbb0cc"
      },
      "outputs": [],
      "source": [
        "a1[4:7] = -5"
      ]
    },
    {
      "cell_type": "code",
      "execution_count": 98,
      "id": "dcf5e5cf",
      "metadata": {
        "id": "dcf5e5cf",
        "outputId": "aa7fa370-2720-4b82-f170-367045658b02",
        "colab": {
          "base_uri": "https://localhost:8080/"
        }
      },
      "outputs": [
        {
          "output_type": "execute_result",
          "data": {
            "text/plain": [
              "array([-1,  6,  1,  1, -5, -5, -5,  3,  8,  0])"
            ]
          },
          "metadata": {},
          "execution_count": 98
        }
      ],
      "source": [
        "a1"
      ]
    },
    {
      "cell_type": "code",
      "execution_count": 99,
      "id": "c7a10dfc",
      "metadata": {
        "id": "c7a10dfc"
      },
      "outputs": [],
      "source": [
        "a1[4:7] = 7, 0, 2"
      ]
    },
    {
      "cell_type": "code",
      "execution_count": 100,
      "id": "5a149100",
      "metadata": {
        "id": "5a149100",
        "outputId": "ecb81d40-b534-406a-cd20-5458a0c00f41",
        "colab": {
          "base_uri": "https://localhost:8080/"
        }
      },
      "outputs": [
        {
          "output_type": "execute_result",
          "data": {
            "text/plain": [
              "array([-1,  6,  1,  1,  7,  0,  2,  3,  8,  0])"
            ]
          },
          "metadata": {},
          "execution_count": 100
        }
      ],
      "source": [
        "a1"
      ]
    },
    {
      "cell_type": "code",
      "execution_count": 102,
      "id": "729bb933",
      "metadata": {
        "id": "729bb933",
        "outputId": "3f195eca-2495-4f23-ef99-52be8fd3ae04",
        "colab": {
          "base_uri": "https://localhost:8080/",
          "height": 171
        }
      },
      "outputs": [
        {
          "output_type": "error",
          "ename": "ValueError",
          "evalue": "ignored",
          "traceback": [
            "\u001b[0;31m---------------------------------------------------------------------------\u001b[0m",
            "\u001b[0;31mValueError\u001b[0m                                Traceback (most recent call last)",
            "\u001b[0;32m<ipython-input-102-e64bd13299b8>\u001b[0m in \u001b[0;36m<cell line: 1>\u001b[0;34m()\u001b[0m\n\u001b[0;32m----> 1\u001b[0;31m \u001b[0ma1\u001b[0m\u001b[0;34m[\u001b[0m\u001b[0;36m4\u001b[0m\u001b[0;34m:\u001b[0m\u001b[0;36m7\u001b[0m\u001b[0;34m]\u001b[0m \u001b[0;34m=\u001b[0m \u001b[0;36m8\u001b[0m\u001b[0;34m,\u001b[0m \u001b[0;36m9\u001b[0m\u001b[0;34m\u001b[0m\u001b[0;34m\u001b[0m\u001b[0m\n\u001b[0m",
            "\u001b[0;31mValueError\u001b[0m: could not broadcast input array from shape (2,) into shape (3,)"
          ]
        }
      ],
      "source": [
        "a1[4:7] = 8, 9"
      ]
    },
    {
      "cell_type": "code",
      "execution_count": 101,
      "id": "9645c33c",
      "metadata": {
        "id": "9645c33c",
        "outputId": "30c2e020-5857-4225-e39e-6ff20121a5d1",
        "colab": {
          "base_uri": "https://localhost:8080/",
          "height": 171
        }
      },
      "outputs": [
        {
          "output_type": "error",
          "ename": "ValueError",
          "evalue": "ignored",
          "traceback": [
            "\u001b[0;31m---------------------------------------------------------------------------\u001b[0m",
            "\u001b[0;31mValueError\u001b[0m                                Traceback (most recent call last)",
            "\u001b[0;32m<ipython-input-101-9f6af6d13771>\u001b[0m in \u001b[0;36m<cell line: 1>\u001b[0;34m()\u001b[0m\n\u001b[0;32m----> 1\u001b[0;31m \u001b[0ma1\u001b[0m\u001b[0;34m[\u001b[0m\u001b[0;36m4\u001b[0m\u001b[0;34m:\u001b[0m\u001b[0;36m7\u001b[0m\u001b[0;34m]\u001b[0m \u001b[0;34m=\u001b[0m \u001b[0;36m9\u001b[0m\u001b[0;34m,\u001b[0m \u001b[0;36m8\u001b[0m\u001b[0;34m,\u001b[0m \u001b[0;36m7\u001b[0m\u001b[0;34m,\u001b[0m \u001b[0;36m6\u001b[0m\u001b[0;34m\u001b[0m\u001b[0;34m\u001b[0m\u001b[0m\n\u001b[0m",
            "\u001b[0;31mValueError\u001b[0m: could not broadcast input array from shape (4,) into shape (3,)"
          ]
        }
      ],
      "source": [
        "a1[4:7] = 9, 8, 7, 6"
      ]
    },
    {
      "cell_type": "code",
      "execution_count": 103,
      "id": "aa044419",
      "metadata": {
        "id": "aa044419",
        "outputId": "a8cfa6c4-23f9-4922-facb-9470a90022bc",
        "colab": {
          "base_uri": "https://localhost:8080/"
        }
      },
      "outputs": [
        {
          "output_type": "execute_result",
          "data": {
            "text/plain": [
              "array([-1,  6,  1,  1,  7,  0,  2,  3,  8,  0])"
            ]
          },
          "metadata": {},
          "execution_count": 103
        }
      ],
      "source": [
        "a1"
      ]
    },
    {
      "cell_type": "code",
      "execution_count": 104,
      "id": "daca51e7",
      "metadata": {
        "id": "daca51e7"
      },
      "outputs": [],
      "source": [
        "sliced_a1 = a1[4:7]"
      ]
    },
    {
      "cell_type": "code",
      "execution_count": 105,
      "id": "5a6d0a7b",
      "metadata": {
        "id": "5a6d0a7b",
        "outputId": "d0cb5031-28c4-46af-aebb-d42cd612f448",
        "colab": {
          "base_uri": "https://localhost:8080/"
        }
      },
      "outputs": [
        {
          "output_type": "execute_result",
          "data": {
            "text/plain": [
              "array([7, 0, 2])"
            ]
          },
          "metadata": {},
          "execution_count": 105
        }
      ],
      "source": [
        "sliced_a1"
      ]
    },
    {
      "cell_type": "code",
      "execution_count": 106,
      "id": "0dfb8d36",
      "metadata": {
        "id": "0dfb8d36",
        "outputId": "9ee3666b-e012-4f97-c272-9b0e4a936593",
        "colab": {
          "base_uri": "https://localhost:8080/"
        }
      },
      "outputs": [
        {
          "output_type": "execute_result",
          "data": {
            "text/plain": [
              "numpy.ndarray"
            ]
          },
          "metadata": {},
          "execution_count": 106
        }
      ],
      "source": [
        "type(sliced_a1)"
      ]
    },
    {
      "cell_type": "code",
      "execution_count": 107,
      "id": "17bf3809",
      "metadata": {
        "id": "17bf3809"
      },
      "outputs": [],
      "source": [
        "sliced_a1[0] = 11"
      ]
    },
    {
      "cell_type": "code",
      "execution_count": null,
      "id": "6522a5ff",
      "metadata": {
        "id": "6522a5ff",
        "outputId": "210f906c-1790-4ae0-dd35-9569a39e503f"
      },
      "outputs": [
        {
          "data": {
            "text/plain": [
              "array([11,  0,  2])"
            ]
          },
          "execution_count": 104,
          "metadata": {},
          "output_type": "execute_result"
        }
      ],
      "source": [
        "sliced_a1"
      ]
    },
    {
      "cell_type": "code",
      "execution_count": 108,
      "id": "e4b1f51e",
      "metadata": {
        "id": "e4b1f51e",
        "outputId": "38e39e2d-4a3e-4653-bb51-51163eefad8f",
        "colab": {
          "base_uri": "https://localhost:8080/"
        }
      },
      "outputs": [
        {
          "output_type": "execute_result",
          "data": {
            "text/plain": [
              "array([-1,  6,  1,  1, 11,  0,  2,  3,  8,  0])"
            ]
          },
          "metadata": {},
          "execution_count": 108
        }
      ],
      "source": [
        "a1"
      ]
    },
    {
      "cell_type": "code",
      "execution_count": 109,
      "id": "41068c0c",
      "metadata": {
        "id": "41068c0c"
      },
      "outputs": [],
      "source": [
        "l1 = [1,2,3,4,5]"
      ]
    },
    {
      "cell_type": "code",
      "execution_count": 110,
      "id": "3fad81a5",
      "metadata": {
        "id": "3fad81a5"
      },
      "outputs": [],
      "source": [
        "s1 = l1[1:3]"
      ]
    },
    {
      "cell_type": "code",
      "execution_count": 111,
      "id": "f0787b18",
      "metadata": {
        "id": "f0787b18",
        "outputId": "5d23ab14-c4e2-41ab-8163-590fa6d92451",
        "colab": {
          "base_uri": "https://localhost:8080/"
        }
      },
      "outputs": [
        {
          "output_type": "execute_result",
          "data": {
            "text/plain": [
              "[2, 3]"
            ]
          },
          "metadata": {},
          "execution_count": 111
        }
      ],
      "source": [
        "s1"
      ]
    },
    {
      "cell_type": "code",
      "execution_count": 112,
      "id": "cdf564d7",
      "metadata": {
        "id": "cdf564d7"
      },
      "outputs": [],
      "source": [
        "s1[0] = 100"
      ]
    },
    {
      "cell_type": "code",
      "execution_count": 115,
      "id": "f80a2d32",
      "metadata": {
        "id": "f80a2d32",
        "outputId": "b95e59a2-02ee-4f21-e61f-bb16bd2514fc",
        "colab": {
          "base_uri": "https://localhost:8080/"
        }
      },
      "outputs": [
        {
          "output_type": "execute_result",
          "data": {
            "text/plain": [
              "[100, 3]"
            ]
          },
          "metadata": {},
          "execution_count": 115
        }
      ],
      "source": [
        "s1"
      ]
    },
    {
      "cell_type": "code",
      "execution_count": 116,
      "id": "e8a67eaa",
      "metadata": {
        "id": "e8a67eaa",
        "outputId": "cf014708-e00b-41c7-d9df-86a0dc89fd81",
        "colab": {
          "base_uri": "https://localhost:8080/"
        }
      },
      "outputs": [
        {
          "output_type": "execute_result",
          "data": {
            "text/plain": [
              "[1, 2, 3, 4, 5]"
            ]
          },
          "metadata": {},
          "execution_count": 116
        }
      ],
      "source": [
        "l1"
      ]
    },
    {
      "cell_type": "code",
      "execution_count": 117,
      "id": "ad0d5de9",
      "metadata": {
        "id": "ad0d5de9",
        "outputId": "91d51684-254d-4e69-a21a-b693ef54b261",
        "colab": {
          "base_uri": "https://localhost:8080/"
        }
      },
      "outputs": [
        {
          "output_type": "execute_result",
          "data": {
            "text/plain": [
              "140621257052240"
            ]
          },
          "metadata": {},
          "execution_count": 117
        }
      ],
      "source": [
        "id(a1)"
      ]
    },
    {
      "cell_type": "code",
      "execution_count": 118,
      "id": "974d7a6c",
      "metadata": {
        "id": "974d7a6c",
        "outputId": "fb8ff02c-3555-458f-dd9d-fbeee5c16a52",
        "colab": {
          "base_uri": "https://localhost:8080/"
        }
      },
      "outputs": [
        {
          "output_type": "execute_result",
          "data": {
            "text/plain": [
              "140621283297968"
            ]
          },
          "metadata": {},
          "execution_count": 118
        }
      ],
      "source": [
        "id(sliced_a1)"
      ]
    },
    {
      "cell_type": "code",
      "execution_count": 119,
      "id": "3047a002",
      "metadata": {
        "id": "3047a002"
      },
      "outputs": [],
      "source": [
        "a2 = np.random.randint(0, 10, (3, 4))"
      ]
    },
    {
      "cell_type": "code",
      "execution_count": 120,
      "id": "bc35da9e",
      "metadata": {
        "id": "bc35da9e",
        "outputId": "f57b71dc-4c62-4869-cbd8-61e479477154",
        "colab": {
          "base_uri": "https://localhost:8080/"
        }
      },
      "outputs": [
        {
          "output_type": "execute_result",
          "data": {
            "text/plain": [
              "array([[5, 3, 5, 2],\n",
              "       [7, 8, 3, 2],\n",
              "       [4, 9, 9, 7]])"
            ]
          },
          "metadata": {},
          "execution_count": 120
        }
      ],
      "source": [
        "a2"
      ]
    },
    {
      "cell_type": "code",
      "execution_count": 121,
      "id": "714cc80d",
      "metadata": {
        "id": "714cc80d",
        "outputId": "89e73c21-1a72-45fe-e4bc-460fcadd330d",
        "colab": {
          "base_uri": "https://localhost:8080/"
        }
      },
      "outputs": [
        {
          "output_type": "execute_result",
          "data": {
            "text/plain": [
              "array([5, 3, 5, 2])"
            ]
          },
          "metadata": {},
          "execution_count": 121
        }
      ],
      "source": [
        "a2[0] # 0th row"
      ]
    },
    {
      "cell_type": "code",
      "execution_count": 122,
      "id": "c4513fea",
      "metadata": {
        "id": "c4513fea",
        "outputId": "a8aeeca2-012f-432e-bdf5-24d774f32ded",
        "colab": {
          "base_uri": "https://localhost:8080/"
        }
      },
      "outputs": [
        {
          "output_type": "execute_result",
          "data": {
            "text/plain": [
              "8"
            ]
          },
          "metadata": {},
          "execution_count": 122
        }
      ],
      "source": [
        "a2[1][1]"
      ]
    },
    {
      "cell_type": "code",
      "execution_count": 123,
      "id": "42ba6258",
      "metadata": {
        "id": "42ba6258",
        "outputId": "c71acb1a-660c-46c4-d9b1-f96a9c003260",
        "colab": {
          "base_uri": "https://localhost:8080/"
        }
      },
      "outputs": [
        {
          "output_type": "execute_result",
          "data": {
            "text/plain": [
              "9"
            ]
          },
          "metadata": {},
          "execution_count": 123
        }
      ],
      "source": [
        "a2[2][2]"
      ]
    },
    {
      "cell_type": "code",
      "execution_count": 124,
      "id": "052d10c1",
      "metadata": {
        "id": "052d10c1",
        "outputId": "9b50c069-aa8a-4a60-cca1-eea12035f458",
        "colab": {
          "base_uri": "https://localhost:8080/",
          "height": 171
        }
      },
      "outputs": [
        {
          "output_type": "error",
          "ename": "IndexError",
          "evalue": "ignored",
          "traceback": [
            "\u001b[0;31m---------------------------------------------------------------------------\u001b[0m",
            "\u001b[0;31mIndexError\u001b[0m                                Traceback (most recent call last)",
            "\u001b[0;32m<ipython-input-124-323cf8f258f8>\u001b[0m in \u001b[0;36m<cell line: 1>\u001b[0;34m()\u001b[0m\n\u001b[0;32m----> 1\u001b[0;31m \u001b[0ma2\u001b[0m\u001b[0;34m[\u001b[0m\u001b[0;36m3\u001b[0m\u001b[0;34m]\u001b[0m\u001b[0;34m[\u001b[0m\u001b[0;36m1\u001b[0m\u001b[0;34m]\u001b[0m\u001b[0;34m\u001b[0m\u001b[0;34m\u001b[0m\u001b[0m\n\u001b[0m",
            "\u001b[0;31mIndexError\u001b[0m: index 3 is out of bounds for axis 0 with size 3"
          ]
        }
      ],
      "source": [
        "a2[3][1]"
      ]
    },
    {
      "cell_type": "code",
      "execution_count": 126,
      "id": "824ad087",
      "metadata": {
        "id": "824ad087",
        "outputId": "301a4fec-abb4-44d4-dd70-f38507c4a693",
        "colab": {
          "base_uri": "https://localhost:8080/"
        }
      },
      "outputs": [
        {
          "output_type": "execute_result",
          "data": {
            "text/plain": [
              "array([[5, 3, 5, 2],\n",
              "       [7, 8, 3, 2],\n",
              "       [4, 9, 9, 7]])"
            ]
          },
          "metadata": {},
          "execution_count": 126
        }
      ],
      "source": [
        "a2"
      ]
    },
    {
      "cell_type": "code",
      "execution_count": 127,
      "id": "ac803a1b",
      "metadata": {
        "id": "ac803a1b",
        "outputId": "6aaf51e1-c6b0-454e-9385-abaf1f2ee0d6",
        "colab": {
          "base_uri": "https://localhost:8080/"
        }
      },
      "outputs": [
        {
          "output_type": "execute_result",
          "data": {
            "text/plain": [
              "3"
            ]
          },
          "metadata": {},
          "execution_count": 127
        }
      ],
      "source": [
        "a2[1][2]"
      ]
    },
    {
      "cell_type": "code",
      "execution_count": 128,
      "id": "85737547",
      "metadata": {
        "id": "85737547",
        "outputId": "23621b8f-8cd3-4696-bc90-c69efcb041ca",
        "colab": {
          "base_uri": "https://localhost:8080/"
        }
      },
      "outputs": [
        {
          "output_type": "execute_result",
          "data": {
            "text/plain": [
              "3"
            ]
          },
          "metadata": {},
          "execution_count": 128
        }
      ],
      "source": [
        "a2[1,2]"
      ]
    },
    {
      "cell_type": "code",
      "execution_count": 131,
      "id": "1abb209f",
      "metadata": {
        "id": "1abb209f",
        "outputId": "1ce4f489-a735-4bac-b309-336961bfc212",
        "colab": {
          "base_uri": "https://localhost:8080/"
        }
      },
      "outputs": [
        {
          "output_type": "execute_result",
          "data": {
            "text/plain": [
              "array([[7, 8, 3, 2],\n",
              "       [4, 9, 9, 7]])"
            ]
          },
          "metadata": {},
          "execution_count": 131
        }
      ],
      "source": [
        "a2[1:] # from (1,0) till end"
      ]
    },
    {
      "cell_type": "code",
      "execution_count": 130,
      "id": "06e0b4d0",
      "metadata": {
        "id": "06e0b4d0",
        "outputId": "e17c755a-31be-4888-8344-9d6a773270fb",
        "colab": {
          "base_uri": "https://localhost:8080/"
        }
      },
      "outputs": [
        {
          "output_type": "execute_result",
          "data": {
            "text/plain": [
              "array([[5, 3, 5, 2],\n",
              "       [7, 8, 3, 2],\n",
              "       [4, 9, 9, 7]])"
            ]
          },
          "metadata": {},
          "execution_count": 130
        }
      ],
      "source": [
        "a2"
      ]
    },
    {
      "cell_type": "code",
      "execution_count": 132,
      "id": "73d6b2fe",
      "metadata": {
        "id": "73d6b2fe",
        "outputId": "a65e45c4-10a4-460b-94fc-f2a877c9514c",
        "colab": {
          "base_uri": "https://localhost:8080/"
        }
      },
      "outputs": [
        {
          "output_type": "execute_result",
          "data": {
            "text/plain": [
              "array([[3, 2],\n",
              "       [9, 7]])"
            ]
          },
          "metadata": {},
          "execution_count": 132
        }
      ],
      "source": [
        "a2[1:, 2:]"
      ]
    },
    {
      "cell_type": "code",
      "execution_count": 133,
      "id": "3fcc8fd3",
      "metadata": {
        "id": "3fcc8fd3",
        "outputId": "3ebce94c-5fe4-47f0-c170-808cb8399319",
        "colab": {
          "base_uri": "https://localhost:8080/"
        }
      },
      "outputs": [
        {
          "output_type": "execute_result",
          "data": {
            "text/plain": [
              "array([[7, 8],\n",
              "       [4, 9]])"
            ]
          },
          "metadata": {},
          "execution_count": 133
        }
      ],
      "source": [
        "a2[1:, :2]"
      ]
    },
    {
      "cell_type": "code",
      "execution_count": 134,
      "id": "cdd75b49",
      "metadata": {
        "id": "cdd75b49"
      },
      "outputs": [],
      "source": [
        "s2 = a2[1:, :2] # view"
      ]
    },
    {
      "cell_type": "code",
      "execution_count": null,
      "id": "047d02eb",
      "metadata": {
        "id": "047d02eb",
        "outputId": "e1ae13aa-a420-4cd5-9edb-c62f9e664724"
      },
      "outputs": [
        {
          "data": {
            "text/plain": [
              "array([[2, 5],\n",
              "       [3, 3]])"
            ]
          },
          "execution_count": 129,
          "metadata": {},
          "output_type": "execute_result"
        }
      ],
      "source": [
        "s2"
      ]
    },
    {
      "cell_type": "code",
      "execution_count": 135,
      "id": "e4f12c95",
      "metadata": {
        "id": "e4f12c95",
        "outputId": "9b4fe41a-9797-4098-dcf4-a221ee9ead74",
        "colab": {
          "base_uri": "https://localhost:8080/"
        }
      },
      "outputs": [
        {
          "output_type": "execute_result",
          "data": {
            "text/plain": [
              "8"
            ]
          },
          "metadata": {},
          "execution_count": 135
        }
      ],
      "source": [
        "s2[0,1]"
      ]
    },
    {
      "cell_type": "code",
      "execution_count": 136,
      "id": "f20e4f79",
      "metadata": {
        "id": "f20e4f79"
      },
      "outputs": [],
      "source": [
        "s2[0,1] = 10"
      ]
    },
    {
      "cell_type": "code",
      "execution_count": 137,
      "id": "e8809dad",
      "metadata": {
        "id": "e8809dad",
        "outputId": "712d11aa-87b7-4512-f5fd-a9379d760cb6",
        "colab": {
          "base_uri": "https://localhost:8080/"
        }
      },
      "outputs": [
        {
          "output_type": "execute_result",
          "data": {
            "text/plain": [
              "array([[ 7, 10],\n",
              "       [ 4,  9]])"
            ]
          },
          "metadata": {},
          "execution_count": 137
        }
      ],
      "source": [
        "s2"
      ]
    },
    {
      "cell_type": "code",
      "execution_count": 138,
      "id": "6a99c299",
      "metadata": {
        "id": "6a99c299",
        "outputId": "cbd987d2-9e31-4b98-def6-8aba6957f6d1",
        "colab": {
          "base_uri": "https://localhost:8080/"
        }
      },
      "outputs": [
        {
          "output_type": "execute_result",
          "data": {
            "text/plain": [
              "array([[ 5,  3,  5,  2],\n",
              "       [ 7, 10,  3,  2],\n",
              "       [ 4,  9,  9,  7]])"
            ]
          },
          "metadata": {},
          "execution_count": 138
        }
      ],
      "source": [
        "a2"
      ]
    },
    {
      "cell_type": "code",
      "execution_count": 139,
      "id": "aa9defe9",
      "metadata": {
        "id": "aa9defe9"
      },
      "outputs": [],
      "source": [
        "s3 = a2[1:, :2].copy()"
      ]
    },
    {
      "cell_type": "code",
      "execution_count": 140,
      "id": "e2db87af",
      "metadata": {
        "id": "e2db87af",
        "outputId": "f754036d-2057-4310-e3a6-7f53085965a6",
        "colab": {
          "base_uri": "https://localhost:8080/"
        }
      },
      "outputs": [
        {
          "output_type": "execute_result",
          "data": {
            "text/plain": [
              "array([[ 7, 10],\n",
              "       [ 4,  9]])"
            ]
          },
          "metadata": {},
          "execution_count": 140
        }
      ],
      "source": [
        "s3"
      ]
    },
    {
      "cell_type": "code",
      "execution_count": 141,
      "id": "72ab5843",
      "metadata": {
        "id": "72ab5843"
      },
      "outputs": [],
      "source": [
        "s3[1,1] = 100"
      ]
    },
    {
      "cell_type": "code",
      "execution_count": 142,
      "id": "71f0115d",
      "metadata": {
        "id": "71f0115d",
        "outputId": "7dfa07f5-7380-4540-a06e-9dd0e2f22c6d",
        "colab": {
          "base_uri": "https://localhost:8080/"
        }
      },
      "outputs": [
        {
          "output_type": "execute_result",
          "data": {
            "text/plain": [
              "array([[  7,  10],\n",
              "       [  4, 100]])"
            ]
          },
          "metadata": {},
          "execution_count": 142
        }
      ],
      "source": [
        "s3"
      ]
    },
    {
      "cell_type": "code",
      "execution_count": 143,
      "id": "9240de15",
      "metadata": {
        "id": "9240de15",
        "outputId": "ed8e4df2-29cb-4ffc-c158-164dfa582a7a",
        "colab": {
          "base_uri": "https://localhost:8080/"
        }
      },
      "outputs": [
        {
          "output_type": "execute_result",
          "data": {
            "text/plain": [
              "array([[ 5,  3,  5,  2],\n",
              "       [ 7, 10,  3,  2],\n",
              "       [ 4,  9,  9,  7]])"
            ]
          },
          "metadata": {},
          "execution_count": 143
        }
      ],
      "source": [
        "a2"
      ]
    },
    {
      "cell_type": "code",
      "execution_count": 145,
      "id": "bfc0c16b",
      "metadata": {
        "id": "bfc0c16b",
        "outputId": "c646d019-4972-4155-93a8-227395151856",
        "colab": {
          "base_uri": "https://localhost:8080/"
        }
      },
      "outputs": [
        {
          "output_type": "execute_result",
          "data": {
            "text/plain": [
              "array([[ 5,  3,  5,  2],\n",
              "       [ 7, 10,  3,  2],\n",
              "       [ 4,  9,  9,  7]])"
            ]
          },
          "metadata": {},
          "execution_count": 145
        }
      ],
      "source": [
        "a2"
      ]
    },
    {
      "cell_type": "code",
      "execution_count": 146,
      "id": "5efa29b8",
      "metadata": {
        "id": "5efa29b8",
        "outputId": "0b78e351-366e-4a28-8582-eb3e9b126b7c",
        "colab": {
          "base_uri": "https://localhost:8080/",
          "height": 171
        }
      },
      "outputs": [
        {
          "output_type": "error",
          "ename": "IndexError",
          "evalue": "ignored",
          "traceback": [
            "\u001b[0;31m---------------------------------------------------------------------------\u001b[0m",
            "\u001b[0;31mIndexError\u001b[0m                                Traceback (most recent call last)",
            "\u001b[0;32m<ipython-input-146-887f26a88c1d>\u001b[0m in \u001b[0;36m<cell line: 1>\u001b[0;34m()\u001b[0m\n\u001b[0;32m----> 1\u001b[0;31m \u001b[0ma2\u001b[0m\u001b[0;34m[\u001b[0m\u001b[0;36m1\u001b[0m\u001b[0;34m,\u001b[0m\u001b[0;36m1\u001b[0m\u001b[0;34m]\u001b[0m\u001b[0;34m[\u001b[0m\u001b[0;36m2\u001b[0m\u001b[0;34m,\u001b[0m\u001b[0;36m3\u001b[0m\u001b[0;34m]\u001b[0m\u001b[0;34m\u001b[0m\u001b[0;34m\u001b[0m\u001b[0m\n\u001b[0m",
            "\u001b[0;31mIndexError\u001b[0m: invalid index to scalar variable."
          ]
        }
      ],
      "source": [
        "a2[1,1][2,3]"
      ]
    },
    {
      "cell_type": "code",
      "execution_count": 147,
      "id": "848acb55",
      "metadata": {
        "id": "848acb55",
        "outputId": "4ec9a71d-d03b-4fdf-84ac-32ef9594f028",
        "colab": {
          "base_uri": "https://localhost:8080/"
        }
      },
      "outputs": [
        {
          "output_type": "execute_result",
          "data": {
            "text/plain": [
              "10"
            ]
          },
          "metadata": {},
          "execution_count": 147
        }
      ],
      "source": [
        "a2[1,1]"
      ]
    },
    {
      "cell_type": "code",
      "execution_count": 153,
      "id": "9ab7dfe1",
      "metadata": {
        "id": "9ab7dfe1"
      },
      "outputs": [],
      "source": [
        "a2[1,1]:[2,3]    # Not a right format"
      ]
    },
    {
      "cell_type": "markdown",
      "source": [
        "#### np.linspace"
      ],
      "metadata": {
        "id": "usdWp0WMLAox"
      },
      "id": "usdWp0WMLAox"
    },
    {
      "cell_type": "code",
      "execution_count": null,
      "id": "f1a406cd",
      "metadata": {
        "id": "f1a406cd",
        "outputId": "0f07508f-de8d-465b-ec32-7f75b354b22c"
      },
      "outputs": [
        {
          "name": "stdout",
          "output_type": "stream",
          "text": [
            "Help on function linspace in module numpy:\n",
            "\n",
            "linspace(start, stop, num=50, endpoint=True, retstep=False, dtype=None, axis=0)\n",
            "    Return evenly spaced numbers over a specified interval.\n",
            "    \n",
            "    Returns `num` evenly spaced samples, calculated over the\n",
            "    interval [`start`, `stop`].\n",
            "    \n",
            "    The endpoint of the interval can optionally be excluded.\n",
            "    \n",
            "    .. versionchanged:: 1.16.0\n",
            "        Non-scalar `start` and `stop` are now supported.\n",
            "    \n",
            "    .. versionchanged:: 1.20.0\n",
            "        Values are rounded towards ``-inf`` instead of ``0`` when an\n",
            "        integer ``dtype`` is specified. The old behavior can\n",
            "        still be obtained with ``np.linspace(start, stop, num).astype(int)``\n",
            "    \n",
            "    Parameters\n",
            "    ----------\n",
            "    start : array_like\n",
            "        The starting value of the sequence.\n",
            "    stop : array_like\n",
            "        The end value of the sequence, unless `endpoint` is set to False.\n",
            "        In that case, the sequence consists of all but the last of ``num + 1``\n",
            "        evenly spaced samples, so that `stop` is excluded.  Note that the step\n",
            "        size changes when `endpoint` is False.\n",
            "    num : int, optional\n",
            "        Number of samples to generate. Default is 50. Must be non-negative.\n",
            "    endpoint : bool, optional\n",
            "        If True, `stop` is the last sample. Otherwise, it is not included.\n",
            "        Default is True.\n",
            "    retstep : bool, optional\n",
            "        If True, return (`samples`, `step`), where `step` is the spacing\n",
            "        between samples.\n",
            "    dtype : dtype, optional\n",
            "        The type of the output array.  If `dtype` is not given, the data type\n",
            "        is inferred from `start` and `stop`. The inferred dtype will never be\n",
            "        an integer; `float` is chosen even if the arguments would produce an\n",
            "        array of integers.\n",
            "    \n",
            "        .. versionadded:: 1.9.0\n",
            "    \n",
            "    axis : int, optional\n",
            "        The axis in the result to store the samples.  Relevant only if start\n",
            "        or stop are array-like.  By default (0), the samples will be along a\n",
            "        new axis inserted at the beginning. Use -1 to get an axis at the end.\n",
            "    \n",
            "        .. versionadded:: 1.16.0\n",
            "    \n",
            "    Returns\n",
            "    -------\n",
            "    samples : ndarray\n",
            "        There are `num` equally spaced samples in the closed interval\n",
            "        ``[start, stop]`` or the half-open interval ``[start, stop)``\n",
            "        (depending on whether `endpoint` is True or False).\n",
            "    step : float, optional\n",
            "        Only returned if `retstep` is True\n",
            "    \n",
            "        Size of spacing between samples.\n",
            "    \n",
            "    \n",
            "    See Also\n",
            "    --------\n",
            "    arange : Similar to `linspace`, but uses a step size (instead of the\n",
            "             number of samples).\n",
            "    geomspace : Similar to `linspace`, but with numbers spaced evenly on a log\n",
            "                scale (a geometric progression).\n",
            "    logspace : Similar to `geomspace`, but with the end points specified as\n",
            "               logarithms.\n",
            "    \n",
            "    Examples\n",
            "    --------\n",
            "    >>> np.linspace(2.0, 3.0, num=5)\n",
            "    array([2.  , 2.25, 2.5 , 2.75, 3.  ])\n",
            "    >>> np.linspace(2.0, 3.0, num=5, endpoint=False)\n",
            "    array([2. ,  2.2,  2.4,  2.6,  2.8])\n",
            "    >>> np.linspace(2.0, 3.0, num=5, retstep=True)\n",
            "    (array([2.  ,  2.25,  2.5 ,  2.75,  3.  ]), 0.25)\n",
            "    \n",
            "    Graphical illustration:\n",
            "    \n",
            "    >>> import matplotlib.pyplot as plt\n",
            "    >>> N = 8\n",
            "    >>> y = np.zeros(N)\n",
            "    >>> x1 = np.linspace(0, 10, N, endpoint=True)\n",
            "    >>> x2 = np.linspace(0, 10, N, endpoint=False)\n",
            "    >>> plt.plot(x1, y, 'o')\n",
            "    [<matplotlib.lines.Line2D object at 0x...>]\n",
            "    >>> plt.plot(x2, y + 0.5, 'o')\n",
            "    [<matplotlib.lines.Line2D object at 0x...>]\n",
            "    >>> plt.ylim([-0.5, 1])\n",
            "    (-0.5, 1)\n",
            "    >>> plt.show()\n",
            "\n"
          ]
        }
      ],
      "source": [
        "help(np.linspace)"
      ]
    },
    {
      "cell_type": "code",
      "execution_count": null,
      "id": "18ff3778",
      "metadata": {
        "id": "18ff3778",
        "outputId": "7be535f3-1ac3-43d0-f149-d5b980a2209c"
      },
      "outputs": [
        {
          "data": {
            "text/plain": [
              "array([ 1.        ,  1.18367347,  1.36734694,  1.55102041,  1.73469388,\n",
              "        1.91836735,  2.10204082,  2.28571429,  2.46938776,  2.65306122,\n",
              "        2.83673469,  3.02040816,  3.20408163,  3.3877551 ,  3.57142857,\n",
              "        3.75510204,  3.93877551,  4.12244898,  4.30612245,  4.48979592,\n",
              "        4.67346939,  4.85714286,  5.04081633,  5.2244898 ,  5.40816327,\n",
              "        5.59183673,  5.7755102 ,  5.95918367,  6.14285714,  6.32653061,\n",
              "        6.51020408,  6.69387755,  6.87755102,  7.06122449,  7.24489796,\n",
              "        7.42857143,  7.6122449 ,  7.79591837,  7.97959184,  8.16326531,\n",
              "        8.34693878,  8.53061224,  8.71428571,  8.89795918,  9.08163265,\n",
              "        9.26530612,  9.44897959,  9.63265306,  9.81632653, 10.        ])"
            ]
          },
          "execution_count": 147,
          "metadata": {},
          "output_type": "execute_result"
        }
      ],
      "source": [
        "np.linspace(1, 10)   # function creates an array with 50 evenly spaced numbers between the start and end points"
      ]
    },
    {
      "cell_type": "code",
      "execution_count": null,
      "id": "7c9db71f",
      "metadata": {
        "id": "7c9db71f",
        "outputId": "4258bfe9-5da9-471a-e070-01b78440520a"
      },
      "outputs": [
        {
          "data": {
            "text/plain": [
              "array([ 1.        ,  3.11111111,  5.22222222,  7.33333333,  9.44444444,\n",
              "       11.55555556, 13.66666667, 15.77777778, 17.88888889, 20.        ])"
            ]
          },
          "execution_count": 148,
          "metadata": {},
          "output_type": "execute_result"
        }
      ],
      "source": [
        "np.linspace(1, 20, 10) # 10 evenly spaced numbers    eg 3.11-1 = 2.11   same like  5.22-3.11 = 2.11 and so on"
      ]
    },
    {
      "cell_type": "code",
      "source": [
        "np.geomspace(1, 20, 10)  # function divides the interval between the start and end points into equal logarithmic steps."
      ],
      "metadata": {
        "colab": {
          "base_uri": "https://localhost:8080/"
        },
        "id": "S79NVusKPd_l",
        "outputId": "6633c2c0-4549-4813-faec-8d1903362400"
      },
      "id": "S79NVusKPd_l",
      "execution_count": 157,
      "outputs": [
        {
          "output_type": "execute_result",
          "data": {
            "text/plain": [
              "array([ 1.        ,  1.39495079,  1.94588772,  2.71441762,  3.78647901,\n",
              "        5.2819519 ,  7.368063  , 10.27808533, 14.33742329, 20.        ])"
            ]
          },
          "metadata": {},
          "execution_count": 157
        }
      ]
    },
    {
      "cell_type": "code",
      "execution_count": 158,
      "id": "025b0913",
      "metadata": {
        "id": "025b0913",
        "outputId": "9c4a4a85-f96f-4618-a68c-9be6ba01166b",
        "colab": {
          "base_uri": "https://localhost:8080/"
        }
      },
      "outputs": [
        {
          "output_type": "execute_result",
          "data": {
            "text/plain": [
              "1.39495079"
            ]
          },
          "metadata": {},
          "execution_count": 158
        }
      ],
      "source": [
        "1.39495079 / 1"
      ]
    },
    {
      "cell_type": "code",
      "source": [
        " 1.94588772 / 1.39495079"
      ],
      "metadata": {
        "colab": {
          "base_uri": "https://localhost:8080/"
        },
        "id": "3xlbPClXPtoK",
        "outputId": "dbdb620e-daa3-49e7-da85-7c4ff482854d"
      },
      "id": "3xlbPClXPtoK",
      "execution_count": 159,
      "outputs": [
        {
          "output_type": "execute_result",
          "data": {
            "text/plain": [
              "1.394950799662259"
            ]
          },
          "metadata": {},
          "execution_count": 159
        }
      ]
    },
    {
      "cell_type": "code",
      "execution_count": 160,
      "id": "d36e1f92",
      "metadata": {
        "id": "d36e1f92",
        "outputId": "dd8a75fc-f2e0-47bb-9312-7955c9e29de5",
        "colab": {
          "base_uri": "https://localhost:8080/"
        }
      },
      "outputs": [
        {
          "output_type": "execute_result",
          "data": {
            "text/plain": [
              "array([ 1.        ,  1.23284674,  1.51991108,  1.87381742,  2.3101297 ,\n",
              "        2.84803587,  3.51119173,  4.32876128,  5.33669923,  6.57933225,\n",
              "        8.11130831, 10.        ])"
            ]
          },
          "metadata": {},
          "execution_count": 160
        }
      ],
      "source": [
        "np.geomspace(1, 10, 12)"
      ]
    },
    {
      "cell_type": "code",
      "execution_count": 161,
      "id": "c8dcdf81",
      "metadata": {
        "id": "c8dcdf81",
        "outputId": "54a96e00-b0a6-4353-ce1b-b0e7785173d3",
        "colab": {
          "base_uri": "https://localhost:8080/"
        }
      },
      "outputs": [
        {
          "output_type": "stream",
          "name": "stdout",
          "text": [
            "Help on function geomspace in module numpy:\n",
            "\n",
            "geomspace(start, stop, num=50, endpoint=True, dtype=None, axis=0)\n",
            "    Return numbers spaced evenly on a log scale (a geometric progression).\n",
            "    \n",
            "    This is similar to `logspace`, but with endpoints specified directly.\n",
            "    Each output sample is a constant multiple of the previous.\n",
            "    \n",
            "    .. versionchanged:: 1.16.0\n",
            "        Non-scalar `start` and `stop` are now supported.\n",
            "    \n",
            "    Parameters\n",
            "    ----------\n",
            "    start : array_like\n",
            "        The starting value of the sequence.\n",
            "    stop : array_like\n",
            "        The final value of the sequence, unless `endpoint` is False.\n",
            "        In that case, ``num + 1`` values are spaced over the\n",
            "        interval in log-space, of which all but the last (a sequence of\n",
            "        length `num`) are returned.\n",
            "    num : integer, optional\n",
            "        Number of samples to generate.  Default is 50.\n",
            "    endpoint : boolean, optional\n",
            "        If true, `stop` is the last sample. Otherwise, it is not included.\n",
            "        Default is True.\n",
            "    dtype : dtype\n",
            "        The type of the output array.  If `dtype` is not given, the data type\n",
            "        is inferred from `start` and `stop`. The inferred dtype will never be\n",
            "        an integer; `float` is chosen even if the arguments would produce an\n",
            "        array of integers.\n",
            "    axis : int, optional\n",
            "        The axis in the result to store the samples.  Relevant only if start\n",
            "        or stop are array-like.  By default (0), the samples will be along a\n",
            "        new axis inserted at the beginning. Use -1 to get an axis at the end.\n",
            "    \n",
            "        .. versionadded:: 1.16.0\n",
            "    \n",
            "    Returns\n",
            "    -------\n",
            "    samples : ndarray\n",
            "        `num` samples, equally spaced on a log scale.\n",
            "    \n",
            "    See Also\n",
            "    --------\n",
            "    logspace : Similar to geomspace, but with endpoints specified using log\n",
            "               and base.\n",
            "    linspace : Similar to geomspace, but with arithmetic instead of geometric\n",
            "               progression.\n",
            "    arange : Similar to linspace, with the step size specified instead of the\n",
            "             number of samples.\n",
            "    \n",
            "    Notes\n",
            "    -----\n",
            "    If the inputs or dtype are complex, the output will follow a logarithmic\n",
            "    spiral in the complex plane.  (There are an infinite number of spirals\n",
            "    passing through two points; the output will follow the shortest such path.)\n",
            "    \n",
            "    Examples\n",
            "    --------\n",
            "    >>> np.geomspace(1, 1000, num=4)\n",
            "    array([    1.,    10.,   100.,  1000.])\n",
            "    >>> np.geomspace(1, 1000, num=3, endpoint=False)\n",
            "    array([   1.,   10.,  100.])\n",
            "    >>> np.geomspace(1, 1000, num=4, endpoint=False)\n",
            "    array([   1.        ,    5.62341325,   31.6227766 ,  177.827941  ])\n",
            "    >>> np.geomspace(1, 256, num=9)\n",
            "    array([   1.,    2.,    4.,    8.,   16.,   32.,   64.,  128.,  256.])\n",
            "    \n",
            "    Note that the above may not produce exact integers:\n",
            "    \n",
            "    >>> np.geomspace(1, 256, num=9, dtype=int)\n",
            "    array([  1,   2,   4,   7,  16,  32,  63, 127, 256])\n",
            "    >>> np.around(np.geomspace(1, 256, num=9)).astype(int)\n",
            "    array([  1,   2,   4,   8,  16,  32,  64, 128, 256])\n",
            "    \n",
            "    Negative, decreasing, and complex inputs are allowed:\n",
            "    \n",
            "    >>> np.geomspace(1000, 1, num=4)\n",
            "    array([1000.,  100.,   10.,    1.])\n",
            "    >>> np.geomspace(-1000, -1, num=4)\n",
            "    array([-1000.,  -100.,   -10.,    -1.])\n",
            "    >>> np.geomspace(1j, 1000j, num=4)  # Straight line\n",
            "    array([0.   +1.j, 0.  +10.j, 0. +100.j, 0.+1000.j])\n",
            "    >>> np.geomspace(-1+0j, 1+0j, num=5)  # Circle\n",
            "    array([-1.00000000e+00+1.22464680e-16j, -7.07106781e-01+7.07106781e-01j,\n",
            "            6.12323400e-17+1.00000000e+00j,  7.07106781e-01+7.07106781e-01j,\n",
            "            1.00000000e+00+0.00000000e+00j])\n",
            "    \n",
            "    Graphical illustration of `endpoint` parameter:\n",
            "    \n",
            "    >>> import matplotlib.pyplot as plt\n",
            "    >>> N = 10\n",
            "    >>> y = np.zeros(N)\n",
            "    >>> plt.semilogx(np.geomspace(1, 1000, N, endpoint=True), y + 1, 'o')\n",
            "    [<matplotlib.lines.Line2D object at 0x...>]\n",
            "    >>> plt.semilogx(np.geomspace(1, 1000, N, endpoint=False), y + 2, 'o')\n",
            "    [<matplotlib.lines.Line2D object at 0x...>]\n",
            "    >>> plt.axis([0.5, 2000, 0, 3])\n",
            "    [0.5, 2000, 0, 3]\n",
            "    >>> plt.grid(True, color='0.7', linestyle='-', which='both', axis='both')\n",
            "    >>> plt.show()\n",
            "\n"
          ]
        }
      ],
      "source": [
        "help(np.geomspace)"
      ]
    },
    {
      "cell_type": "markdown",
      "source": [
        "#### reshaping arrays"
      ],
      "metadata": {
        "id": "amM8Q72xP0p8"
      },
      "id": "amM8Q72xP0p8"
    },
    {
      "cell_type": "code",
      "execution_count": 162,
      "id": "5dca9da6",
      "metadata": {
        "id": "5dca9da6",
        "outputId": "e788e1be-5004-47a5-904d-2e502b73a3a2",
        "colab": {
          "base_uri": "https://localhost:8080/"
        }
      },
      "outputs": [
        {
          "output_type": "execute_result",
          "data": {
            "text/plain": [
              "array([-1,  6,  1,  1, 11,  0,  2,  3,  8,  0])"
            ]
          },
          "metadata": {},
          "execution_count": 162
        }
      ],
      "source": [
        "a1"
      ]
    },
    {
      "cell_type": "code",
      "execution_count": 163,
      "id": "a7f06578",
      "metadata": {
        "id": "a7f06578",
        "outputId": "0b3b4ab4-1f73-4937-a6fa-61a92e1a39df",
        "colab": {
          "base_uri": "https://localhost:8080/"
        }
      },
      "outputs": [
        {
          "output_type": "execute_result",
          "data": {
            "text/plain": [
              "(10,)"
            ]
          },
          "metadata": {},
          "execution_count": 163
        }
      ],
      "source": [
        "a1.shape"
      ]
    },
    {
      "cell_type": "code",
      "execution_count": 164,
      "id": "c8f2cde4",
      "metadata": {
        "id": "c8f2cde4",
        "outputId": "07071211-520d-4b95-984b-d543c57b8fba",
        "colab": {
          "base_uri": "https://localhost:8080/",
          "height": 323
        }
      },
      "outputs": [
        {
          "output_type": "error",
          "ename": "ValueError",
          "evalue": "ignored",
          "traceback": [
            "\u001b[0;31m---------------------------------------------------------------------------\u001b[0m",
            "\u001b[0;31mValueError\u001b[0m                                Traceback (most recent call last)",
            "\u001b[0;32m<ipython-input-164-be43a5131875>\u001b[0m in \u001b[0;36m<cell line: 1>\u001b[0;34m()\u001b[0m\n\u001b[0;32m----> 1\u001b[0;31m \u001b[0mnp\u001b[0m\u001b[0;34m.\u001b[0m\u001b[0mreshape\u001b[0m\u001b[0;34m(\u001b[0m\u001b[0ma1\u001b[0m\u001b[0;34m,\u001b[0m \u001b[0;34m(\u001b[0m\u001b[0;36m3\u001b[0m\u001b[0;34m,\u001b[0m\u001b[0;36m3\u001b[0m\u001b[0;34m)\u001b[0m\u001b[0;34m)\u001b[0m\u001b[0;34m\u001b[0m\u001b[0;34m\u001b[0m\u001b[0m\n\u001b[0m",
            "\u001b[0;32m/usr/local/lib/python3.10/dist-packages/numpy/core/overrides.py\u001b[0m in \u001b[0;36mreshape\u001b[0;34m(*args, **kwargs)\u001b[0m\n",
            "\u001b[0;32m/usr/local/lib/python3.10/dist-packages/numpy/core/fromnumeric.py\u001b[0m in \u001b[0;36mreshape\u001b[0;34m(a, newshape, order)\u001b[0m\n\u001b[1;32m    296\u001b[0m            [5, 6]])\n\u001b[1;32m    297\u001b[0m     \"\"\"\n\u001b[0;32m--> 298\u001b[0;31m     \u001b[0;32mreturn\u001b[0m \u001b[0m_wrapfunc\u001b[0m\u001b[0;34m(\u001b[0m\u001b[0ma\u001b[0m\u001b[0;34m,\u001b[0m \u001b[0;34m'reshape'\u001b[0m\u001b[0;34m,\u001b[0m \u001b[0mnewshape\u001b[0m\u001b[0;34m,\u001b[0m \u001b[0morder\u001b[0m\u001b[0;34m=\u001b[0m\u001b[0morder\u001b[0m\u001b[0;34m)\u001b[0m\u001b[0;34m\u001b[0m\u001b[0;34m\u001b[0m\u001b[0m\n\u001b[0m\u001b[1;32m    299\u001b[0m \u001b[0;34m\u001b[0m\u001b[0m\n\u001b[1;32m    300\u001b[0m \u001b[0;34m\u001b[0m\u001b[0m\n",
            "\u001b[0;32m/usr/local/lib/python3.10/dist-packages/numpy/core/fromnumeric.py\u001b[0m in \u001b[0;36m_wrapfunc\u001b[0;34m(obj, method, *args, **kwds)\u001b[0m\n\u001b[1;32m     55\u001b[0m \u001b[0;34m\u001b[0m\u001b[0m\n\u001b[1;32m     56\u001b[0m     \u001b[0;32mtry\u001b[0m\u001b[0;34m:\u001b[0m\u001b[0;34m\u001b[0m\u001b[0;34m\u001b[0m\u001b[0m\n\u001b[0;32m---> 57\u001b[0;31m         \u001b[0;32mreturn\u001b[0m \u001b[0mbound\u001b[0m\u001b[0;34m(\u001b[0m\u001b[0;34m*\u001b[0m\u001b[0margs\u001b[0m\u001b[0;34m,\u001b[0m \u001b[0;34m**\u001b[0m\u001b[0mkwds\u001b[0m\u001b[0;34m)\u001b[0m\u001b[0;34m\u001b[0m\u001b[0;34m\u001b[0m\u001b[0m\n\u001b[0m\u001b[1;32m     58\u001b[0m     \u001b[0;32mexcept\u001b[0m \u001b[0mTypeError\u001b[0m\u001b[0;34m:\u001b[0m\u001b[0;34m\u001b[0m\u001b[0;34m\u001b[0m\u001b[0m\n\u001b[1;32m     59\u001b[0m         \u001b[0;31m# A TypeError occurs if the object does have such a method in its\u001b[0m\u001b[0;34m\u001b[0m\u001b[0;34m\u001b[0m\u001b[0m\n",
            "\u001b[0;31mValueError\u001b[0m: cannot reshape array of size 10 into shape (3,3)"
          ]
        }
      ],
      "source": [
        "np.reshape(a1, (3,3))"
      ]
    },
    {
      "cell_type": "code",
      "execution_count": 165,
      "id": "65dac0af",
      "metadata": {
        "id": "65dac0af",
        "outputId": "03c1ff62-8c40-41f6-e403-103f50b7a34e",
        "colab": {
          "base_uri": "https://localhost:8080/"
        }
      },
      "outputs": [
        {
          "output_type": "execute_result",
          "data": {
            "text/plain": [
              "array([[-1,  6],\n",
              "       [ 1,  1],\n",
              "       [11,  0],\n",
              "       [ 2,  3],\n",
              "       [ 8,  0]])"
            ]
          },
          "metadata": {},
          "execution_count": 165
        }
      ],
      "source": [
        "np.reshape(a1, (5,2))  # reshapes accordangly"
      ]
    },
    {
      "cell_type": "code",
      "execution_count": 166,
      "id": "36028f80",
      "metadata": {
        "id": "36028f80",
        "outputId": "921d5c95-3cc7-4c05-ef34-6be6df3f165a",
        "colab": {
          "base_uri": "https://localhost:8080/"
        }
      },
      "outputs": [
        {
          "output_type": "execute_result",
          "data": {
            "text/plain": [
              "array([[-1,  6,  1,  1, 11],\n",
              "       [ 0,  2,  3,  8,  0]])"
            ]
          },
          "metadata": {},
          "execution_count": 166
        }
      ],
      "source": [
        "np.reshape(a1, (2,5))"
      ]
    },
    {
      "cell_type": "code",
      "execution_count": 167,
      "id": "83d8495a",
      "metadata": {
        "id": "83d8495a",
        "outputId": "e6a93b64-5d52-4bca-c037-dfdb35d380cc",
        "colab": {
          "base_uri": "https://localhost:8080/"
        }
      },
      "outputs": [
        {
          "output_type": "execute_result",
          "data": {
            "text/plain": [
              "array([-1,  6,  1,  1, 11,  0,  2,  3,  8,  0])"
            ]
          },
          "metadata": {},
          "execution_count": 167
        }
      ],
      "source": [
        "a1"
      ]
    },
    {
      "cell_type": "code",
      "execution_count": 168,
      "id": "68c2c092",
      "metadata": {
        "id": "68c2c092",
        "outputId": "0e7e00c3-1ebd-4d13-e989-911060d98363",
        "colab": {
          "base_uri": "https://localhost:8080/"
        }
      },
      "outputs": [
        {
          "output_type": "execute_result",
          "data": {
            "text/plain": [
              "array([[ 5,  3,  5,  2],\n",
              "       [ 7, 10,  3,  2],\n",
              "       [ 4,  9,  9,  7]])"
            ]
          },
          "metadata": {},
          "execution_count": 168
        }
      ],
      "source": [
        "a2"
      ]
    },
    {
      "cell_type": "code",
      "execution_count": 169,
      "id": "646c6e29",
      "metadata": {
        "id": "646c6e29",
        "outputId": "20b18fa3-cad8-45e9-b9d2-e829460ceb81",
        "colab": {
          "base_uri": "https://localhost:8080/"
        }
      },
      "outputs": [
        {
          "output_type": "execute_result",
          "data": {
            "text/plain": [
              "12"
            ]
          },
          "metadata": {},
          "execution_count": 169
        }
      ],
      "source": [
        "a2.size"
      ]
    },
    {
      "cell_type": "code",
      "execution_count": 170,
      "id": "cbcba10f",
      "metadata": {
        "id": "cbcba10f",
        "outputId": "90fece44-6ea7-4de0-d65b-0e0b364fefac",
        "colab": {
          "base_uri": "https://localhost:8080/"
        }
      },
      "outputs": [
        {
          "output_type": "execute_result",
          "data": {
            "text/plain": [
              "array([[ 5,  3,  5],\n",
              "       [ 2,  7, 10],\n",
              "       [ 3,  2,  4],\n",
              "       [ 9,  9,  7]])"
            ]
          },
          "metadata": {},
          "execution_count": 170
        }
      ],
      "source": [
        "np.reshape(a2, (4,3))"
      ]
    },
    {
      "cell_type": "code",
      "execution_count": 171,
      "id": "b7b30b42",
      "metadata": {
        "id": "b7b30b42",
        "outputId": "0ddffc0b-ac24-4f67-88db-41c8eaa7647d",
        "colab": {
          "base_uri": "https://localhost:8080/"
        }
      },
      "outputs": [
        {
          "output_type": "execute_result",
          "data": {
            "text/plain": [
              "array([[[ 5,  3,  5],\n",
              "        [ 2,  7, 10]],\n",
              "\n",
              "       [[ 3,  2,  4],\n",
              "        [ 9,  9,  7]]])"
            ]
          },
          "metadata": {},
          "execution_count": 171
        }
      ],
      "source": [
        "np.reshape(a2, (2,2,3))"
      ]
    },
    {
      "cell_type": "code",
      "execution_count": 172,
      "id": "7cbaa010",
      "metadata": {
        "id": "7cbaa010",
        "outputId": "6156a8e3-ec84-4bc9-8949-e5f0e61a0ac9",
        "colab": {
          "base_uri": "https://localhost:8080/"
        }
      },
      "outputs": [
        {
          "output_type": "execute_result",
          "data": {
            "text/plain": [
              "array([ 5,  3,  5,  2,  7, 10,  3,  2,  4,  9,  9,  7])"
            ]
          },
          "metadata": {},
          "execution_count": 172
        }
      ],
      "source": [
        "np.reshape(a2, (12,))"
      ]
    },
    {
      "cell_type": "code",
      "execution_count": 173,
      "id": "1d5bf8ef",
      "metadata": {
        "id": "1d5bf8ef",
        "outputId": "7408ccb2-9cbf-4441-b2ef-e227d0cfea5e",
        "colab": {
          "base_uri": "https://localhost:8080/"
        }
      },
      "outputs": [
        {
          "output_type": "execute_result",
          "data": {
            "text/plain": [
              "array([[ 5,  3,  5,  2],\n",
              "       [ 7, 10,  3,  2],\n",
              "       [ 4,  9,  9,  7]])"
            ]
          },
          "metadata": {},
          "execution_count": 173
        }
      ],
      "source": [
        "a2"
      ]
    },
    {
      "cell_type": "code",
      "execution_count": null,
      "id": "f607a5ae",
      "metadata": {
        "id": "f607a5ae"
      },
      "outputs": [],
      "source": []
    },
    {
      "cell_type": "code",
      "execution_count": 174,
      "id": "85e80318",
      "metadata": {
        "id": "85e80318",
        "outputId": "bdfdb3bb-da79-4c26-c17e-e0d510b872bd",
        "colab": {
          "base_uri": "https://localhost:8080/"
        }
      },
      "outputs": [
        {
          "output_type": "execute_result",
          "data": {
            "text/plain": [
              "(3, 4)"
            ]
          },
          "metadata": {},
          "execution_count": 174
        }
      ],
      "source": [
        "a2.shape"
      ]
    },
    {
      "cell_type": "markdown",
      "source": [
        "#### transpose"
      ],
      "metadata": {
        "id": "bIc5yurYQsME"
      },
      "id": "bIc5yurYQsME"
    },
    {
      "cell_type": "code",
      "source": [
        "a2"
      ],
      "metadata": {
        "colab": {
          "base_uri": "https://localhost:8080/"
        },
        "id": "pTfknfvGQzEU",
        "outputId": "7cac7f0a-fe18-43ab-dd67-b9bbd31e52ea"
      },
      "id": "pTfknfvGQzEU",
      "execution_count": 177,
      "outputs": [
        {
          "output_type": "execute_result",
          "data": {
            "text/plain": [
              "array([[ 5,  3,  5,  2],\n",
              "       [ 7, 10,  3,  2],\n",
              "       [ 4,  9,  9,  7]])"
            ]
          },
          "metadata": {},
          "execution_count": 177
        }
      ]
    },
    {
      "cell_type": "code",
      "execution_count": 175,
      "id": "df453da7",
      "metadata": {
        "id": "df453da7",
        "outputId": "984e86c8-dc92-42e6-ca99-6a32b595ab33",
        "colab": {
          "base_uri": "https://localhost:8080/"
        }
      },
      "outputs": [
        {
          "output_type": "execute_result",
          "data": {
            "text/plain": [
              "array([[ 5,  7,  4],\n",
              "       [ 3, 10,  9],\n",
              "       [ 5,  3,  9],\n",
              "       [ 2,  2,  7]])"
            ]
          },
          "metadata": {},
          "execution_count": 175
        }
      ],
      "source": [
        "a2.transpose()  # Changes row to colume / cloume to row mut be equal"
      ]
    },
    {
      "cell_type": "code",
      "execution_count": 176,
      "id": "10d93f29",
      "metadata": {
        "id": "10d93f29",
        "outputId": "6bcd2061-8f01-4459-f970-5b053c3ed23f",
        "colab": {
          "base_uri": "https://localhost:8080/"
        }
      },
      "outputs": [
        {
          "output_type": "execute_result",
          "data": {
            "text/plain": [
              "array([[ 5,  7,  4],\n",
              "       [ 3, 10,  9],\n",
              "       [ 5,  3,  9],\n",
              "       [ 2,  2,  7]])"
            ]
          },
          "metadata": {},
          "execution_count": 176
        }
      ],
      "source": [
        "a2.T"
      ]
    },
    {
      "cell_type": "markdown",
      "source": [
        "#### Concatenate Axis"
      ],
      "metadata": {
        "id": "thtxvM3GRAFS"
      },
      "id": "thtxvM3GRAFS"
    },
    {
      "cell_type": "code",
      "execution_count": 178,
      "id": "277b3b26",
      "metadata": {
        "id": "277b3b26",
        "outputId": "5ac177c8-3428-46e2-a5ec-e4034f1ea21b",
        "colab": {
          "base_uri": "https://localhost:8080/"
        }
      },
      "outputs": [
        {
          "output_type": "execute_result",
          "data": {
            "text/plain": [
              "array([[4, 2, 2],\n",
              "       [1, 4, 3]])"
            ]
          },
          "metadata": {},
          "execution_count": 178
        }
      ],
      "source": [
        "m1"
      ]
    },
    {
      "cell_type": "code",
      "execution_count": 179,
      "id": "d15fda8d",
      "metadata": {
        "id": "d15fda8d",
        "outputId": "f1832fb2-13d0-496f-a713-0ecb3039fadd",
        "colab": {
          "base_uri": "https://localhost:8080/"
        }
      },
      "outputs": [
        {
          "output_type": "execute_result",
          "data": {
            "text/plain": [
              "array([[2, 2, 4],\n",
              "       [1, 4, 4]])"
            ]
          },
          "metadata": {},
          "execution_count": 179
        }
      ],
      "source": [
        "m2"
      ]
    },
    {
      "cell_type": "code",
      "execution_count": null,
      "id": "e6fc2275",
      "metadata": {
        "id": "e6fc2275",
        "outputId": "68ca5ba8-00a8-4c1b-d2ad-401d27559c90"
      },
      "outputs": [
        {
          "name": "stdout",
          "output_type": "stream",
          "text": [
            "Help on function concatenate in module numpy:\n",
            "\n",
            "concatenate(...)\n",
            "    concatenate((a1, a2, ...), axis=0, out=None, dtype=None, casting=\"same_kind\")\n",
            "    \n",
            "    Join a sequence of arrays along an existing axis.\n",
            "    \n",
            "    Parameters\n",
            "    ----------\n",
            "    a1, a2, ... : sequence of array_like\n",
            "        The arrays must have the same shape, except in the dimension\n",
            "        corresponding to `axis` (the first, by default).\n",
            "    axis : int, optional\n",
            "        The axis along which the arrays will be joined.  If axis is None,\n",
            "        arrays are flattened before use.  Default is 0.\n",
            "    out : ndarray, optional\n",
            "        If provided, the destination to place the result. The shape must be\n",
            "        correct, matching that of what concatenate would have returned if no\n",
            "        out argument were specified.\n",
            "    dtype : str or dtype\n",
            "        If provided, the destination array will have this dtype. Cannot be\n",
            "        provided together with `out`.\n",
            "    \n",
            "        .. versionadded:: 1.20.0\n",
            "    \n",
            "    casting : {'no', 'equiv', 'safe', 'same_kind', 'unsafe'}, optional\n",
            "        Controls what kind of data casting may occur. Defaults to 'same_kind'.\n",
            "    \n",
            "        .. versionadded:: 1.20.0\n",
            "    \n",
            "    Returns\n",
            "    -------\n",
            "    res : ndarray\n",
            "        The concatenated array.\n",
            "    \n",
            "    See Also\n",
            "    --------\n",
            "    ma.concatenate : Concatenate function that preserves input masks.\n",
            "    array_split : Split an array into multiple sub-arrays of equal or\n",
            "                  near-equal size.\n",
            "    split : Split array into a list of multiple sub-arrays of equal size.\n",
            "    hsplit : Split array into multiple sub-arrays horizontally (column wise).\n",
            "    vsplit : Split array into multiple sub-arrays vertically (row wise).\n",
            "    dsplit : Split array into multiple sub-arrays along the 3rd axis (depth).\n",
            "    stack : Stack a sequence of arrays along a new axis.\n",
            "    block : Assemble arrays from blocks.\n",
            "    hstack : Stack arrays in sequence horizontally (column wise).\n",
            "    vstack : Stack arrays in sequence vertically (row wise).\n",
            "    dstack : Stack arrays in sequence depth wise (along third dimension).\n",
            "    column_stack : Stack 1-D arrays as columns into a 2-D array.\n",
            "    \n",
            "    Notes\n",
            "    -----\n",
            "    When one or more of the arrays to be concatenated is a MaskedArray,\n",
            "    this function will return a MaskedArray object instead of an ndarray,\n",
            "    but the input masks are *not* preserved. In cases where a MaskedArray\n",
            "    is expected as input, use the ma.concatenate function from the masked\n",
            "    array module instead.\n",
            "    \n",
            "    Examples\n",
            "    --------\n",
            "    >>> a = np.array([[1, 2], [3, 4]])\n",
            "    >>> b = np.array([[5, 6]])\n",
            "    >>> np.concatenate((a, b), axis=0)\n",
            "    array([[1, 2],\n",
            "           [3, 4],\n",
            "           [5, 6]])\n",
            "    >>> np.concatenate((a, b.T), axis=1)\n",
            "    array([[1, 2, 5],\n",
            "           [3, 4, 6]])\n",
            "    >>> np.concatenate((a, b), axis=None)\n",
            "    array([1, 2, 3, 4, 5, 6])\n",
            "    \n",
            "    This function will not preserve masking of MaskedArray inputs.\n",
            "    \n",
            "    >>> a = np.ma.arange(3)\n",
            "    >>> a[1] = np.ma.masked\n",
            "    >>> b = np.arange(2, 5)\n",
            "    >>> a\n",
            "    masked_array(data=[0, --, 2],\n",
            "                 mask=[False,  True, False],\n",
            "           fill_value=999999)\n",
            "    >>> b\n",
            "    array([2, 3, 4])\n",
            "    >>> np.concatenate([a, b])\n",
            "    masked_array(data=[0, 1, 2, 2, 3, 4],\n",
            "                 mask=False,\n",
            "           fill_value=999999)\n",
            "    >>> np.ma.concatenate([a, b])\n",
            "    masked_array(data=[0, --, 2, 2, 3, 4],\n",
            "                 mask=[False,  True, False, False, False, False],\n",
            "           fill_value=999999)\n",
            "\n"
          ]
        }
      ],
      "source": [
        "help(np.concatenate)"
      ]
    },
    {
      "cell_type": "code",
      "execution_count": null,
      "id": "2f39c562",
      "metadata": {
        "id": "2f39c562",
        "outputId": "34eace60-95a7-407f-87ce-0062e77ecbde"
      },
      "outputs": [
        {
          "data": {
            "text/plain": [
              "array([[4, 2, 2],\n",
              "       [3, 3, 1]])"
            ]
          },
          "execution_count": 171,
          "metadata": {},
          "output_type": "execute_result"
        }
      ],
      "source": [
        "m1"
      ]
    },
    {
      "cell_type": "code",
      "execution_count": null,
      "id": "01104417",
      "metadata": {
        "id": "01104417",
        "outputId": "3e71f774-723b-4dda-df8a-344deb2a86f9"
      },
      "outputs": [
        {
          "data": {
            "text/plain": [
              "array([[1, 3, 3],\n",
              "       [1, 3, 4]])"
            ]
          },
          "execution_count": 172,
          "metadata": {},
          "output_type": "execute_result"
        }
      ],
      "source": [
        "m2"
      ]
    },
    {
      "cell_type": "code",
      "execution_count": null,
      "id": "eb7b3d0a",
      "metadata": {
        "id": "eb7b3d0a",
        "outputId": "98ac47d7-91f3-4062-cd43-662d2b30822f"
      },
      "outputs": [
        {
          "data": {
            "text/plain": [
              "array([[4, 2, 2],\n",
              "       [3, 3, 1],\n",
              "       [1, 3, 3],\n",
              "       [1, 3, 4]])"
            ]
          },
          "execution_count": 173,
          "metadata": {},
          "output_type": "execute_result"
        }
      ],
      "source": [
        "np.concatenate((m1, m2), axis=0) # Colume should be equal"
      ]
    },
    {
      "cell_type": "code",
      "execution_count": null,
      "id": "3dcb7678",
      "metadata": {
        "id": "3dcb7678",
        "outputId": "01094f21-d58f-43b4-d3cd-f4370e3fa411"
      },
      "outputs": [
        {
          "data": {
            "text/plain": [
              "array([[4, 2, 2, 1, 3, 3],\n",
              "       [3, 3, 1, 1, 3, 4]])"
            ]
          },
          "execution_count": 174,
          "metadata": {},
          "output_type": "execute_result"
        }
      ],
      "source": [
        "np.concatenate((m1, m2), axis=1)  #Row should be equal"
      ]
    },
    {
      "cell_type": "markdown",
      "source": [
        "#### Stacking"
      ],
      "metadata": {
        "id": "_M-8iGGvRe5v"
      },
      "id": "_M-8iGGvRe5v"
    },
    {
      "cell_type": "code",
      "source": [
        "m1 = np.random.randint(1, 5, (2, 3))\n",
        "m2 = np.random.randint(1, 5, (2, 3))"
      ],
      "metadata": {
        "id": "pmcDgCY5CVZm"
      },
      "id": "pmcDgCY5CVZm",
      "execution_count": 8,
      "outputs": []
    },
    {
      "cell_type": "code",
      "execution_count": 9,
      "id": "8eb0acc2",
      "metadata": {
        "id": "8eb0acc2",
        "outputId": "62a33856-76b9-4545-eff8-1508b84316cb",
        "colab": {
          "base_uri": "https://localhost:8080/"
        }
      },
      "outputs": [
        {
          "output_type": "execute_result",
          "data": {
            "text/plain": [
              "array([[3, 1, 4],\n",
              "       [4, 3, 4]])"
            ]
          },
          "metadata": {},
          "execution_count": 9
        }
      ],
      "source": [
        "m1"
      ]
    },
    {
      "cell_type": "code",
      "execution_count": 10,
      "id": "85db36b7",
      "metadata": {
        "id": "85db36b7",
        "outputId": "9184239f-e2cf-4d66-fa55-cdb4abfb80ff",
        "colab": {
          "base_uri": "https://localhost:8080/"
        }
      },
      "outputs": [
        {
          "output_type": "execute_result",
          "data": {
            "text/plain": [
              "array([[2, 3, 1],\n",
              "       [3, 2, 4]])"
            ]
          },
          "metadata": {},
          "execution_count": 10
        }
      ],
      "source": [
        "m2"
      ]
    },
    {
      "cell_type": "code",
      "execution_count": 11,
      "id": "72ce4ab7",
      "metadata": {
        "id": "72ce4ab7",
        "outputId": "f00a1635-cd0b-4e30-985a-b8be26c1e598",
        "colab": {
          "base_uri": "https://localhost:8080/"
        }
      },
      "outputs": [
        {
          "output_type": "execute_result",
          "data": {
            "text/plain": [
              "array([[[3, 1, 4],\n",
              "        [4, 3, 4]],\n",
              "\n",
              "       [[2, 3, 1],\n",
              "        [3, 2, 4]]])"
            ]
          },
          "metadata": {},
          "execution_count": 11
        }
      ],
      "source": [
        "np.stack((m1, m2), axis=0)"
      ]
    },
    {
      "cell_type": "code",
      "execution_count": 12,
      "id": "b0860545",
      "metadata": {
        "id": "b0860545",
        "outputId": "6fe94e6e-6c1f-42e7-d2a5-1781460a2a3a",
        "colab": {
          "base_uri": "https://localhost:8080/"
        }
      },
      "outputs": [
        {
          "output_type": "execute_result",
          "data": {
            "text/plain": [
              "array([[[3, 1, 4],\n",
              "        [2, 3, 1]],\n",
              "\n",
              "       [[4, 3, 4],\n",
              "        [3, 2, 4]]])"
            ]
          },
          "metadata": {},
          "execution_count": 12
        }
      ],
      "source": [
        "np.stack((m1, m2), axis=1)"
      ]
    },
    {
      "cell_type": "markdown",
      "source": [
        "#### Splitting   -->  Equal split only alowed"
      ],
      "metadata": {
        "id": "sBlF4Bs1Cmc8"
      },
      "id": "sBlF4Bs1Cmc8"
    },
    {
      "cell_type": "code",
      "source": [
        "a1 = np.random.randint(1, 10, (10,))"
      ],
      "metadata": {
        "id": "3tsBImeYDBdp"
      },
      "id": "3tsBImeYDBdp",
      "execution_count": 18,
      "outputs": []
    },
    {
      "cell_type": "code",
      "execution_count": 19,
      "id": "1b1ad810",
      "metadata": {
        "id": "1b1ad810",
        "outputId": "cd2092d5-ab94-48d0-b02f-bc65b8400b8c",
        "colab": {
          "base_uri": "https://localhost:8080/"
        }
      },
      "outputs": [
        {
          "output_type": "execute_result",
          "data": {
            "text/plain": [
              "array([1, 5, 2, 4, 1, 4, 5, 4, 3, 9])"
            ]
          },
          "metadata": {},
          "execution_count": 19
        }
      ],
      "source": [
        "a1"
      ]
    },
    {
      "cell_type": "code",
      "execution_count": 20,
      "id": "2f306ed9",
      "metadata": {
        "id": "2f306ed9",
        "outputId": "b0a94480-a608-44b9-98fa-a1ea8c5059fb",
        "colab": {
          "base_uri": "https://localhost:8080/"
        }
      },
      "outputs": [
        {
          "output_type": "execute_result",
          "data": {
            "text/plain": [
              "10"
            ]
          },
          "metadata": {},
          "execution_count": 20
        }
      ],
      "source": [
        "a1.size"
      ]
    },
    {
      "cell_type": "code",
      "execution_count": 21,
      "id": "269ead84",
      "metadata": {
        "id": "269ead84",
        "outputId": "5705791a-2fc1-4a2c-a778-767d99fc0813",
        "colab": {
          "base_uri": "https://localhost:8080/"
        }
      },
      "outputs": [
        {
          "output_type": "execute_result",
          "data": {
            "text/plain": [
              "[array([1, 5, 2, 4, 1]), array([4, 5, 4, 3, 9])]"
            ]
          },
          "metadata": {},
          "execution_count": 21
        }
      ],
      "source": [
        "np.split(a1, 2)"
      ]
    },
    {
      "cell_type": "code",
      "execution_count": 23,
      "id": "5c955244",
      "metadata": {
        "id": "5c955244",
        "outputId": "273c6ffe-24d7-4752-f8b4-699fe00eebcc",
        "colab": {
          "base_uri": "https://localhost:8080/",
          "height": 323
        }
      },
      "outputs": [
        {
          "output_type": "error",
          "ename": "ValueError",
          "evalue": "ignored",
          "traceback": [
            "\u001b[0;31m---------------------------------------------------------------------------\u001b[0m",
            "\u001b[0;31mValueError\u001b[0m                                Traceback (most recent call last)",
            "\u001b[0;32m<ipython-input-23-1e5068b3f3be>\u001b[0m in \u001b[0;36m<cell line: 1>\u001b[0;34m()\u001b[0m\n\u001b[0;32m----> 1\u001b[0;31m \u001b[0mnp\u001b[0m\u001b[0;34m.\u001b[0m\u001b[0msplit\u001b[0m\u001b[0;34m(\u001b[0m\u001b[0ma1\u001b[0m\u001b[0;34m,\u001b[0m \u001b[0;36m3\u001b[0m\u001b[0;34m)\u001b[0m\u001b[0;34m\u001b[0m\u001b[0;34m\u001b[0m\u001b[0m\n\u001b[0m",
            "\u001b[0;32m/usr/local/lib/python3.10/dist-packages/numpy/core/overrides.py\u001b[0m in \u001b[0;36msplit\u001b[0;34m(*args, **kwargs)\u001b[0m\n",
            "\u001b[0;32m/usr/local/lib/python3.10/dist-packages/numpy/lib/shape_base.py\u001b[0m in \u001b[0;36msplit\u001b[0;34m(ary, indices_or_sections, axis)\u001b[0m\n\u001b[1;32m    870\u001b[0m         \u001b[0mN\u001b[0m \u001b[0;34m=\u001b[0m \u001b[0mary\u001b[0m\u001b[0;34m.\u001b[0m\u001b[0mshape\u001b[0m\u001b[0;34m[\u001b[0m\u001b[0maxis\u001b[0m\u001b[0;34m]\u001b[0m\u001b[0;34m\u001b[0m\u001b[0;34m\u001b[0m\u001b[0m\n\u001b[1;32m    871\u001b[0m         \u001b[0;32mif\u001b[0m \u001b[0mN\u001b[0m \u001b[0;34m%\u001b[0m \u001b[0msections\u001b[0m\u001b[0;34m:\u001b[0m\u001b[0;34m\u001b[0m\u001b[0;34m\u001b[0m\u001b[0m\n\u001b[0;32m--> 872\u001b[0;31m             raise ValueError(\n\u001b[0m\u001b[1;32m    873\u001b[0m                 'array split does not result in an equal division') from None\n\u001b[1;32m    874\u001b[0m     \u001b[0;32mreturn\u001b[0m \u001b[0marray_split\u001b[0m\u001b[0;34m(\u001b[0m\u001b[0mary\u001b[0m\u001b[0;34m,\u001b[0m \u001b[0mindices_or_sections\u001b[0m\u001b[0;34m,\u001b[0m \u001b[0maxis\u001b[0m\u001b[0;34m)\u001b[0m\u001b[0;34m\u001b[0m\u001b[0;34m\u001b[0m\u001b[0m\n",
            "\u001b[0;31mValueError\u001b[0m: array split does not result in an equal division"
          ]
        }
      ],
      "source": [
        "np.split(a1, 3)"
      ]
    },
    {
      "cell_type": "code",
      "execution_count": 22,
      "id": "f4f00450",
      "metadata": {
        "id": "f4f00450",
        "outputId": "1e056cd4-bfbf-467b-9453-cc4f07e740eb",
        "colab": {
          "base_uri": "https://localhost:8080/"
        }
      },
      "outputs": [
        {
          "output_type": "execute_result",
          "data": {
            "text/plain": [
              "[array([1, 5]), array([2, 4]), array([1, 4]), array([5, 4]), array([3, 9])]"
            ]
          },
          "metadata": {},
          "execution_count": 22
        }
      ],
      "source": [
        "np.split(a1, 5)"
      ]
    },
    {
      "cell_type": "markdown",
      "source": [
        "#### array_split  -->  Un-equal split only alowed"
      ],
      "metadata": {
        "id": "S0EEwKkEDT6G"
      },
      "id": "S0EEwKkEDT6G"
    },
    {
      "cell_type": "code",
      "source": [
        "a1 = np.random.randint(1, 10, (10,))"
      ],
      "metadata": {
        "id": "30MWU0O5DR-k"
      },
      "id": "30MWU0O5DR-k",
      "execution_count": 25,
      "outputs": []
    },
    {
      "cell_type": "code",
      "execution_count": 26,
      "id": "fa79fca6",
      "metadata": {
        "id": "fa79fca6",
        "outputId": "4ea29158-a063-419e-d856-a486c4423eab",
        "colab": {
          "base_uri": "https://localhost:8080/"
        }
      },
      "outputs": [
        {
          "output_type": "execute_result",
          "data": {
            "text/plain": [
              "array([5, 1, 1, 4, 4, 9, 9, 3, 1, 2])"
            ]
          },
          "metadata": {},
          "execution_count": 26
        }
      ],
      "source": [
        "a1"
      ]
    },
    {
      "cell_type": "code",
      "execution_count": 27,
      "id": "3d0fccd4",
      "metadata": {
        "id": "3d0fccd4",
        "outputId": "c754448e-9a3b-4bd2-9859-4b070093c036",
        "colab": {
          "base_uri": "https://localhost:8080/"
        }
      },
      "outputs": [
        {
          "output_type": "execute_result",
          "data": {
            "text/plain": [
              "[array([5, 1, 1, 4]), array([4, 9, 9]), array([3, 1, 2])]"
            ]
          },
          "metadata": {},
          "execution_count": 27
        }
      ],
      "source": [
        "np.array_split(a1, 3)"
      ]
    },
    {
      "cell_type": "code",
      "execution_count": null,
      "id": "79940e53",
      "metadata": {
        "id": "79940e53",
        "outputId": "e3be66c9-e031-4a48-99b4-6137aa8d168c"
      },
      "outputs": [
        {
          "name": "stdout",
          "output_type": "stream",
          "text": [
            "Help on function array_split in module numpy:\n",
            "\n",
            "array_split(ary, indices_or_sections, axis=0)\n",
            "    Split an array into multiple sub-arrays.\n",
            "    \n",
            "    Please refer to the ``split`` documentation.  The only difference\n",
            "    between these functions is that ``array_split`` allows\n",
            "    `indices_or_sections` to be an integer that does *not* equally\n",
            "    divide the axis. For an array of length l that should be split\n",
            "    into n sections, it returns l % n sub-arrays of size l//n + 1\n",
            "    and the rest of size l//n.\n",
            "    \n",
            "    See Also\n",
            "    --------\n",
            "    split : Split array into multiple sub-arrays of equal size.\n",
            "    \n",
            "    Examples\n",
            "    --------\n",
            "    >>> x = np.arange(8.0)\n",
            "    >>> np.array_split(x, 3)\n",
            "    [array([0.,  1.,  2.]), array([3.,  4.,  5.]), array([6.,  7.])]\n",
            "    \n",
            "    >>> x = np.arange(9)\n",
            "    >>> np.array_split(x, 4)\n",
            "    [array([0, 1, 2]), array([3, 4]), array([5, 6]), array([7, 8])]\n",
            "\n"
          ]
        }
      ],
      "source": [
        "help(np.array_split)"
      ]
    },
    {
      "cell_type": "code",
      "execution_count": 28,
      "id": "86d8f440",
      "metadata": {
        "id": "86d8f440",
        "outputId": "871c8724-fa7c-4fca-e9b7-76bb28d91d41",
        "colab": {
          "base_uri": "https://localhost:8080/"
        }
      },
      "outputs": [
        {
          "output_type": "execute_result",
          "data": {
            "text/plain": [
              "array([5, 1, 1, 4, 4, 9, 9, 3, 1, 2])"
            ]
          },
          "metadata": {},
          "execution_count": 28
        }
      ],
      "source": [
        "a1"
      ]
    },
    {
      "cell_type": "code",
      "execution_count": 29,
      "id": "2a42de11",
      "metadata": {
        "id": "2a42de11"
      },
      "outputs": [],
      "source": [
        "# l = 10, n = 3\n",
        "\n",
        "# l % n sub-arrays of size l//n + 1\n",
        "# 10 % 3 sub-arrays of size 10//3 + 1\n",
        "# 1 sub-array of size 3 + 1 = 4\n",
        "\n",
        "# and the rest of size l//n.\n",
        "# 2 sub-arrays of size 10//3 = 3"
      ]
    },
    {
      "cell_type": "code",
      "execution_count": 30,
      "id": "6cb3bdf5",
      "metadata": {
        "id": "6cb3bdf5",
        "outputId": "b4bf7f73-6775-4ce2-d8b1-cd8a0b52333b",
        "colab": {
          "base_uri": "https://localhost:8080/"
        }
      },
      "outputs": [
        {
          "output_type": "execute_result",
          "data": {
            "text/plain": [
              "[array([5, 1, 1, 4]), array([4, 9, 9]), array([3, 1, 2])]"
            ]
          },
          "metadata": {},
          "execution_count": 30
        }
      ],
      "source": [
        "np.array_split(a1, 3)"
      ]
    },
    {
      "cell_type": "markdown",
      "source": [
        "#### where"
      ],
      "metadata": {
        "id": "DVpQDpeXD5X7"
      },
      "id": "DVpQDpeXD5X7"
    },
    {
      "cell_type": "code",
      "execution_count": null,
      "id": "fe839f97",
      "metadata": {
        "id": "fe839f97",
        "outputId": "143a5868-fb76-4fe9-cbd8-c175ce55a80e"
      },
      "outputs": [
        {
          "name": "stdout",
          "output_type": "stream",
          "text": [
            "Help on function where in module numpy:\n",
            "\n",
            "where(...)\n",
            "    where(condition, [x, y])\n",
            "    \n",
            "    Return elements chosen from `x` or `y` depending on `condition`.\n",
            "    \n",
            "    .. note::\n",
            "        When only `condition` is provided, this function is a shorthand for\n",
            "        ``np.asarray(condition).nonzero()``. Using `nonzero` directly should be\n",
            "        preferred, as it behaves correctly for subclasses. The rest of this\n",
            "        documentation covers only the case where all three arguments are\n",
            "        provided.\n",
            "    \n",
            "    Parameters\n",
            "    ----------\n",
            "    condition : array_like, bool\n",
            "        Where True, yield `x`, otherwise yield `y`.\n",
            "    x, y : array_like\n",
            "        Values from which to choose. `x`, `y` and `condition` need to be\n",
            "        broadcastable to some shape.\n",
            "    \n",
            "    Returns\n",
            "    -------\n",
            "    out : ndarray\n",
            "        An array with elements from `x` where `condition` is True, and elements\n",
            "        from `y` elsewhere.\n",
            "    \n",
            "    See Also\n",
            "    --------\n",
            "    choose\n",
            "    nonzero : The function that is called when x and y are omitted\n",
            "    \n",
            "    Notes\n",
            "    -----\n",
            "    If all the arrays are 1-D, `where` is equivalent to::\n",
            "    \n",
            "        [xv if c else yv\n",
            "         for c, xv, yv in zip(condition, x, y)]\n",
            "    \n",
            "    Examples\n",
            "    --------\n",
            "    >>> a = np.arange(10)\n",
            "    >>> a\n",
            "    array([0, 1, 2, 3, 4, 5, 6, 7, 8, 9])\n",
            "    >>> np.where(a < 5, a, 10*a)\n",
            "    array([ 0,  1,  2,  3,  4, 50, 60, 70, 80, 90])\n",
            "    \n",
            "    This can be used on multidimensional arrays too:\n",
            "    \n",
            "    >>> np.where([[True, False], [True, True]],\n",
            "    ...          [[1, 2], [3, 4]],\n",
            "    ...          [[9, 8], [7, 6]])\n",
            "    array([[1, 8],\n",
            "           [3, 4]])\n",
            "    \n",
            "    The shapes of x, y, and the condition are broadcast together:\n",
            "    \n",
            "    >>> x, y = np.ogrid[:3, :4]\n",
            "    >>> np.where(x < y, x, 10 + y)  # both x and 10+y are broadcast\n",
            "    array([[10,  0,  0,  0],\n",
            "           [10, 11,  1,  1],\n",
            "           [10, 11, 12,  2]])\n",
            "    \n",
            "    >>> a = np.array([[0, 1, 2],\n",
            "    ...               [0, 2, 4],\n",
            "    ...               [0, 3, 6]])\n",
            "    >>> np.where(a < 4, a, -1)  # -1 is broadcast\n",
            "    array([[ 0,  1,  2],\n",
            "           [ 0,  2, -1],\n",
            "           [ 0,  3, -1]])\n",
            "\n"
          ]
        }
      ],
      "source": [
        "help(np.where)"
      ]
    },
    {
      "cell_type": "code",
      "execution_count": 33,
      "id": "b8f70eed",
      "metadata": {
        "id": "b8f70eed",
        "outputId": "5faccff1-d9d9-475e-e51b-5b6d59eb5b33",
        "colab": {
          "base_uri": "https://localhost:8080/"
        }
      },
      "outputs": [
        {
          "output_type": "execute_result",
          "data": {
            "text/plain": [
              "array([5, 1, 1, 4, 4, 9, 9, 3, 1, 2])"
            ]
          },
          "metadata": {},
          "execution_count": 33
        }
      ],
      "source": [
        "a1"
      ]
    },
    {
      "cell_type": "code",
      "execution_count": 34,
      "id": "35300d84",
      "metadata": {
        "id": "35300d84",
        "outputId": "a43c0bc4-da9b-40d1-f3cb-f20842e6ac03",
        "colab": {
          "base_uri": "https://localhost:8080/"
        }
      },
      "outputs": [
        {
          "output_type": "execute_result",
          "data": {
            "text/plain": [
              "array([6. , 2. , 2. , 5. , 5. , 4.5, 4.5, 4. , 2. , 3. ])"
            ]
          },
          "metadata": {},
          "execution_count": 34
        }
      ],
      "source": [
        "np.where(a1 > 5, a1/2, a1+1)  # If a is greater than 5 divide 2 else add 1"
      ]
    },
    {
      "cell_type": "code",
      "execution_count": 35,
      "id": "d3c70e3f",
      "metadata": {
        "id": "d3c70e3f",
        "outputId": "6193f035-6fab-49ef-8804-c704599d89df",
        "colab": {
          "base_uri": "https://localhost:8080/"
        }
      },
      "outputs": [
        {
          "output_type": "execute_result",
          "data": {
            "text/plain": [
              "array([0, 0, 0, 0, 0, 9, 9, 0, 0, 0])"
            ]
          },
          "metadata": {},
          "execution_count": 35
        }
      ],
      "source": [
        "np.where(a1 > 5, a1, 0)"
      ]
    },
    {
      "cell_type": "code",
      "execution_count": 36,
      "id": "b7deb504",
      "metadata": {
        "id": "b7deb504"
      },
      "outputs": [],
      "source": [
        "marks = np.array([89, 91, 71, 45, 55, 61, 78, 53])"
      ]
    },
    {
      "cell_type": "code",
      "execution_count": null,
      "id": "c53181a9",
      "metadata": {
        "id": "c53181a9"
      },
      "outputs": [],
      "source": [
        "# Pass or Fail\n",
        "# 'Pass' if marks >= 60, else 'Fail'"
      ]
    },
    {
      "cell_type": "code",
      "execution_count": 37,
      "id": "2d95a7ff",
      "metadata": {
        "id": "2d95a7ff",
        "outputId": "010f543e-206b-4cc2-c734-33aafb208b7b",
        "colab": {
          "base_uri": "https://localhost:8080/"
        }
      },
      "outputs": [
        {
          "output_type": "execute_result",
          "data": {
            "text/plain": [
              "array(['Pass', 'Pass', 'Pass', 'Fail', 'Fail', 'Pass', 'Pass', 'Fail'],\n",
              "      dtype='<U4')"
            ]
          },
          "metadata": {},
          "execution_count": 37
        }
      ],
      "source": [
        "np.where(marks >= 60, 'Pass', 'Fail')"
      ]
    },
    {
      "cell_type": "code",
      "execution_count": 38,
      "id": "84f56dd6",
      "metadata": {
        "id": "84f56dd6",
        "outputId": "88bbb01a-ea74-4094-f63b-482ede9e8fbc",
        "colab": {
          "base_uri": "https://localhost:8080/"
        }
      },
      "outputs": [
        {
          "output_type": "execute_result",
          "data": {
            "text/plain": [
              "array([89, 91, 71, 45, 55, 61, 78, 53])"
            ]
          },
          "metadata": {},
          "execution_count": 38
        }
      ],
      "source": [
        "marks"
      ]
    },
    {
      "cell_type": "code",
      "execution_count": 41,
      "id": "7a357551",
      "metadata": {
        "id": "7a357551",
        "outputId": "f31bdc07-98df-4492-cfa3-679a2b875abc",
        "colab": {
          "base_uri": "https://localhost:8080/"
        }
      },
      "outputs": [
        {
          "output_type": "stream",
          "name": "stdout",
          "text": [
            "[[1 2 3]\n",
            " [4 5 6]]\n"
          ]
        }
      ],
      "source": [
        "arr = np.array([[1, 2, 3], [4, 5, 6]])\n",
        "print(arr)"
      ]
    },
    {
      "cell_type": "code",
      "execution_count": 43,
      "id": "a7ff4e4c",
      "metadata": {
        "id": "a7ff4e4c",
        "outputId": "1b04dbbb-fda0-4165-b966-97625e24fd82",
        "colab": {
          "base_uri": "https://localhost:8080/"
        }
      },
      "outputs": [
        {
          "output_type": "stream",
          "name": "stdout",
          "text": [
            "[[1 4]\n",
            " [2 5]\n",
            " [3 6]]\n"
          ]
        }
      ],
      "source": [
        "transposed_arr = np.transpose(arr)\n",
        "print(transposed_arr)"
      ]
    },
    {
      "cell_type": "markdown",
      "source": [
        "#### select"
      ],
      "metadata": {
        "id": "AOLBSf4OFFGh"
      },
      "id": "AOLBSf4OFFGh"
    },
    {
      "cell_type": "code",
      "execution_count": 3,
      "id": "934feaaf",
      "metadata": {
        "id": "934feaaf"
      },
      "outputs": [],
      "source": [
        "marks = np.array([89, 91, 71, 45, 55, 61, 78, 53])"
      ]
    },
    {
      "cell_type": "code",
      "source": [
        "conditions = [marks>=90, marks>=80 & marks<90, marks>=70 & marks<80, marks>=60 & marks<70, marks<60]\n",
        "choices = ['A', 'B', 'C', 'D', 'F']"
      ],
      "metadata": {
        "colab": {
          "base_uri": "https://localhost:8080/",
          "height": 190
        },
        "id": "E7HwP-IGTF1i",
        "outputId": "190e4f2a-28cb-4fce-f359-8ee62cfd92d9"
      },
      "id": "E7HwP-IGTF1i",
      "execution_count": 4,
      "outputs": [
        {
          "output_type": "error",
          "ename": "ValueError",
          "evalue": "ignored",
          "traceback": [
            "\u001b[0;31m---------------------------------------------------------------------------\u001b[0m",
            "\u001b[0;31mValueError\u001b[0m                                Traceback (most recent call last)",
            "\u001b[0;32m<ipython-input-4-2d13923494cc>\u001b[0m in \u001b[0;36m<cell line: 1>\u001b[0;34m()\u001b[0m\n\u001b[0;32m----> 1\u001b[0;31m \u001b[0mconditions\u001b[0m \u001b[0;34m=\u001b[0m \u001b[0;34m[\u001b[0m\u001b[0mmarks\u001b[0m\u001b[0;34m>=\u001b[0m\u001b[0;36m90\u001b[0m\u001b[0;34m,\u001b[0m \u001b[0mmarks\u001b[0m\u001b[0;34m>=\u001b[0m\u001b[0;36m80\u001b[0m \u001b[0;34m&\u001b[0m \u001b[0mmarks\u001b[0m\u001b[0;34m<\u001b[0m\u001b[0;36m90\u001b[0m\u001b[0;34m,\u001b[0m \u001b[0mmarks\u001b[0m\u001b[0;34m>=\u001b[0m\u001b[0;36m70\u001b[0m \u001b[0;34m&\u001b[0m \u001b[0mmarks\u001b[0m\u001b[0;34m<\u001b[0m\u001b[0;36m80\u001b[0m\u001b[0;34m,\u001b[0m \u001b[0mmarks\u001b[0m\u001b[0;34m>=\u001b[0m\u001b[0;36m60\u001b[0m \u001b[0;34m&\u001b[0m \u001b[0mmarks\u001b[0m\u001b[0;34m<\u001b[0m\u001b[0;36m70\u001b[0m\u001b[0;34m,\u001b[0m \u001b[0mmarks\u001b[0m\u001b[0;34m<\u001b[0m\u001b[0;36m60\u001b[0m\u001b[0;34m]\u001b[0m\u001b[0;34m\u001b[0m\u001b[0;34m\u001b[0m\u001b[0m\n\u001b[0m\u001b[1;32m      2\u001b[0m \u001b[0mchoices\u001b[0m \u001b[0;34m=\u001b[0m \u001b[0;34m[\u001b[0m\u001b[0;34m'A'\u001b[0m\u001b[0;34m,\u001b[0m \u001b[0;34m'B'\u001b[0m\u001b[0;34m,\u001b[0m \u001b[0;34m'C'\u001b[0m\u001b[0;34m,\u001b[0m \u001b[0;34m'D'\u001b[0m\u001b[0;34m,\u001b[0m \u001b[0;34m'F'\u001b[0m\u001b[0;34m]\u001b[0m\u001b[0;34m\u001b[0m\u001b[0;34m\u001b[0m\u001b[0m\n",
            "\u001b[0;31mValueError\u001b[0m: The truth value of an array with more than one element is ambiguous. Use a.any() or a.all()"
          ]
        }
      ]
    },
    {
      "cell_type": "code",
      "source": [
        "marks>=90"
      ],
      "metadata": {
        "colab": {
          "base_uri": "https://localhost:8080/"
        },
        "id": "_zfd8UZqTLDm",
        "outputId": "e41a122a-223c-42f5-aea9-284b33cfb642"
      },
      "id": "_zfd8UZqTLDm",
      "execution_count": 5,
      "outputs": [
        {
          "output_type": "execute_result",
          "data": {
            "text/plain": [
              "array([False,  True, False, False, False, False, False, False])"
            ]
          },
          "metadata": {},
          "execution_count": 5
        }
      ]
    },
    {
      "cell_type": "code",
      "source": [
        "marks>=80 & marks<90   # issue is with 2 vale comprassion"
      ],
      "metadata": {
        "colab": {
          "base_uri": "https://localhost:8080/",
          "height": 171
        },
        "id": "ItcSFzDETO-G",
        "outputId": "2e69ac72-ea4b-4f93-efcf-d1c176843374"
      },
      "id": "ItcSFzDETO-G",
      "execution_count": 6,
      "outputs": [
        {
          "output_type": "error",
          "ename": "ValueError",
          "evalue": "ignored",
          "traceback": [
            "\u001b[0;31m---------------------------------------------------------------------------\u001b[0m",
            "\u001b[0;31mValueError\u001b[0m                                Traceback (most recent call last)",
            "\u001b[0;32m<ipython-input-6-3136a16100a5>\u001b[0m in \u001b[0;36m<cell line: 1>\u001b[0;34m()\u001b[0m\n\u001b[0;32m----> 1\u001b[0;31m \u001b[0mmarks\u001b[0m\u001b[0;34m>=\u001b[0m\u001b[0;36m80\u001b[0m \u001b[0;34m&\u001b[0m \u001b[0mmarks\u001b[0m\u001b[0;34m<\u001b[0m\u001b[0;36m90\u001b[0m   \u001b[0;31m# issue is with 2 vale comprassion\u001b[0m\u001b[0;34m\u001b[0m\u001b[0;34m\u001b[0m\u001b[0m\n\u001b[0m",
            "\u001b[0;31mValueError\u001b[0m: The truth value of an array with more than one element is ambiguous. Use a.any() or a.all()"
          ]
        }
      ]
    },
    {
      "cell_type": "code",
      "source": [
        "(marks>=80) & (marks<90) # Now works"
      ],
      "metadata": {
        "colab": {
          "base_uri": "https://localhost:8080/"
        },
        "id": "sT_BeprdTWIg",
        "outputId": "c1b04f05-a157-4029-ac48-7b051c69bfee"
      },
      "id": "sT_BeprdTWIg",
      "execution_count": 7,
      "outputs": [
        {
          "output_type": "execute_result",
          "data": {
            "text/plain": [
              "array([ True, False, False, False, False, False, False, False])"
            ]
          },
          "metadata": {},
          "execution_count": 7
        }
      ]
    },
    {
      "cell_type": "code",
      "source": [
        "conditions = [marks>=90, (marks>=80) & (marks<90), (marks>=70) & (marks<80), (marks>=60) & (marks<70), marks<60]\n",
        "choices = ['A', 'B', 'C', 'D', 'F']"
      ],
      "metadata": {
        "id": "FSaTW7cwTb-U"
      },
      "id": "FSaTW7cwTb-U",
      "execution_count": 8,
      "outputs": []
    },
    {
      "cell_type": "code",
      "source": [
        "np.select(conditions, choices)"
      ],
      "metadata": {
        "colab": {
          "base_uri": "https://localhost:8080/"
        },
        "id": "_KclOggxTkFd",
        "outputId": "aec7a35d-524c-4123-b52a-821103118bbc"
      },
      "id": "_KclOggxTkFd",
      "execution_count": 9,
      "outputs": [
        {
          "output_type": "execute_result",
          "data": {
            "text/plain": [
              "array(['B', 'A', 'C', 'F', 'F', 'D', 'C', 'F'], dtype='<U3')"
            ]
          },
          "metadata": {},
          "execution_count": 9
        }
      ]
    },
    {
      "cell_type": "code",
      "source": [
        "marks"
      ],
      "metadata": {
        "colab": {
          "base_uri": "https://localhost:8080/"
        },
        "id": "N8Xr8NQOToU4",
        "outputId": "3b80fd15-396d-4e7e-d738-34c7e6c636a9"
      },
      "id": "N8Xr8NQOToU4",
      "execution_count": 10,
      "outputs": [
        {
          "output_type": "execute_result",
          "data": {
            "text/plain": [
              "array([89, 91, 71, 45, 55, 61, 78, 53])"
            ]
          },
          "metadata": {},
          "execution_count": 10
        }
      ]
    },
    {
      "cell_type": "code",
      "source": [
        "conditions = [marks>=90, (marks>=80) & (marks<90), (marks>=70) & (marks<80), (marks>=60) & (marks<70)]\n",
        "choices = ['A', 'B', 'C', 'D']\n",
        "default_grade = 'F'   # also we can add default value"
      ],
      "metadata": {
        "id": "Z9FCCpGtTsiU"
      },
      "id": "Z9FCCpGtTsiU",
      "execution_count": 11,
      "outputs": []
    },
    {
      "cell_type": "code",
      "source": [
        "np.select(conditions, choices, default_grade)"
      ],
      "metadata": {
        "colab": {
          "base_uri": "https://localhost:8080/"
        },
        "id": "HcoDisbqT3Yd",
        "outputId": "8a8cf616-0ba6-41da-fe92-af0964dd0fa4"
      },
      "id": "HcoDisbqT3Yd",
      "execution_count": 12,
      "outputs": [
        {
          "output_type": "execute_result",
          "data": {
            "text/plain": [
              "array(['B', 'A', 'C', 'F', 'F', 'D', 'C', 'F'], dtype='<U1')"
            ]
          },
          "metadata": {},
          "execution_count": 12
        }
      ]
    }
  ],
  "metadata": {
    "kernelspec": {
      "display_name": "Python 3 (ipykernel)",
      "language": "python",
      "name": "python3"
    },
    "language_info": {
      "codemirror_mode": {
        "name": "ipython",
        "version": 3
      },
      "file_extension": ".py",
      "mimetype": "text/x-python",
      "name": "python",
      "nbconvert_exporter": "python",
      "pygments_lexer": "ipython3",
      "version": "3.9.7"
    },
    "colab": {
      "provenance": [],
      "collapsed_sections": [
        "fA7bcck81ZHV",
        "_3Y3ZIPSIDkQ",
        "1GEjk4D5I5Hi",
        "-loC8PRkKRfw",
        "usdWp0WMLAox",
        "amM8Q72xP0p8",
        "bIc5yurYQsME",
        "thtxvM3GRAFS",
        "_M-8iGGvRe5v",
        "sBlF4Bs1Cmc8",
        "S0EEwKkEDT6G"
      ],
      "include_colab_link": true
    }
  },
  "nbformat": 4,
  "nbformat_minor": 5
}