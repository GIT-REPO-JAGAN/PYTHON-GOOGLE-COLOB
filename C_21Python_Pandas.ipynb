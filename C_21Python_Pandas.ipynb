{
  "cells": [
    {
      "cell_type": "markdown",
      "metadata": {
        "id": "view-in-github",
        "colab_type": "text"
      },
      "source": [
        "<a href=\"https://colab.research.google.com/github/GIT-REPO-JAGAN/PYTHON-GOOGLE-COLOB/blob/main/C_21Python_Pandas.ipynb\" target=\"_parent\"><img src=\"https://colab.research.google.com/assets/colab-badge.svg\" alt=\"Open In Colab\"/></a>"
      ]
    },
    {
      "cell_type": "markdown",
      "source": [
        "#### Pandas\n",
        "Designed to work for structural data or tabular data https://pandas.pydata.org/\n",
        "\n",
        "* Numpy is Homogenies\n",
        "* Panda is Hetro genies"
      ],
      "metadata": {
        "id": "VQA275qiWyzw"
      },
      "id": "VQA275qiWyzw"
    },
    {
      "cell_type": "markdown",
      "source": [],
      "metadata": {
        "id": "oOeIiIdEXX6U"
      },
      "id": "oOeIiIdEXX6U"
    },
    {
      "cell_type": "code",
      "execution_count": null,
      "id": "8b364bdd",
      "metadata": {
        "id": "8b364bdd"
      },
      "outputs": [],
      "source": [
        "import pandas as pd"
      ]
    },
    {
      "cell_type": "markdown",
      "source": [
        "#### Series - 1-D array-like object containing sequence of values"
      ],
      "metadata": {
        "id": "Kqg7M4rhXCD8"
      },
      "id": "Kqg7M4rhXCD8"
    },
    {
      "cell_type": "code",
      "execution_count": null,
      "id": "7f1aa969",
      "metadata": {
        "id": "7f1aa969"
      },
      "outputs": [],
      "source": [
        "s1 = pd.Series([1,2,3,4,5]) # It show the index"
      ]
    },
    {
      "cell_type": "code",
      "execution_count": null,
      "id": "de7804bc",
      "metadata": {
        "id": "de7804bc",
        "outputId": "46c9b4ed-4d4f-4bdb-c633-306694f6a581"
      },
      "outputs": [
        {
          "data": {
            "text/plain": [
              "0    1\n",
              "1    2\n",
              "2    3\n",
              "3    4\n",
              "4    5\n",
              "dtype: int64"
            ]
          },
          "execution_count": 5,
          "metadata": {},
          "output_type": "execute_result"
        }
      ],
      "source": [
        "s1"
      ]
    },
    {
      "cell_type": "code",
      "execution_count": null,
      "id": "4e2bf6cf",
      "metadata": {
        "id": "4e2bf6cf",
        "outputId": "612d1c81-94bb-4f15-c1f1-43d04ad70d00",
        "colab": {
          "base_uri": "https://localhost:8080/"
        }
      },
      "outputs": [
        {
          "output_type": "execute_result",
          "data": {
            "text/plain": [
              "pandas.core.series.Series"
            ]
          },
          "metadata": {},
          "execution_count": 3
        }
      ],
      "source": [
        "type(s1)"
      ]
    },
    {
      "cell_type": "code",
      "execution_count": null,
      "id": "a60c3b0f",
      "metadata": {
        "id": "a60c3b0f"
      },
      "outputs": [],
      "source": [
        "v1 = s1.values"
      ]
    },
    {
      "cell_type": "code",
      "execution_count": null,
      "id": "11bf5d98",
      "metadata": {
        "id": "11bf5d98",
        "outputId": "a71f6681-d44c-46d2-dbea-43cf793c0277",
        "colab": {
          "base_uri": "https://localhost:8080/"
        }
      },
      "outputs": [
        {
          "output_type": "execute_result",
          "data": {
            "text/plain": [
              "array([1, 2, 3, 4, 5])"
            ]
          },
          "metadata": {},
          "execution_count": 5
        }
      ],
      "source": [
        "v1"
      ]
    },
    {
      "cell_type": "code",
      "execution_count": null,
      "id": "96207832",
      "metadata": {
        "id": "96207832",
        "outputId": "54ee6369-6b67-4562-eacf-72cb370fdfe3",
        "colab": {
          "base_uri": "https://localhost:8080/"
        }
      },
      "outputs": [
        {
          "output_type": "execute_result",
          "data": {
            "text/plain": [
              "numpy.ndarray"
            ]
          },
          "metadata": {},
          "execution_count": 6
        }
      ],
      "source": [
        "type(v1)"
      ]
    },
    {
      "cell_type": "code",
      "execution_count": null,
      "id": "5dc22cfc",
      "metadata": {
        "id": "5dc22cfc"
      },
      "outputs": [],
      "source": [
        "i1 = s1.index"
      ]
    },
    {
      "cell_type": "code",
      "execution_count": null,
      "id": "cd983bc0",
      "metadata": {
        "id": "cd983bc0",
        "outputId": "d05939d8-b765-40bf-eae1-3180a01a828c",
        "colab": {
          "base_uri": "https://localhost:8080/"
        }
      },
      "outputs": [
        {
          "output_type": "execute_result",
          "data": {
            "text/plain": [
              "RangeIndex(start=0, stop=5, step=1)"
            ]
          },
          "metadata": {},
          "execution_count": 8
        }
      ],
      "source": [
        "i1"
      ]
    },
    {
      "cell_type": "code",
      "execution_count": null,
      "id": "117702d7",
      "metadata": {
        "id": "117702d7",
        "outputId": "54b95fcf-9025-4cbd-cf8a-50de7fc1dfbe",
        "colab": {
          "base_uri": "https://localhost:8080/"
        }
      },
      "outputs": [
        {
          "output_type": "execute_result",
          "data": {
            "text/plain": [
              "pandas.core.indexes.range.RangeIndex"
            ]
          },
          "metadata": {},
          "execution_count": 10
        }
      ],
      "source": [
        "type(i1)"
      ]
    },
    {
      "cell_type": "code",
      "execution_count": null,
      "id": "cca732bc",
      "metadata": {
        "id": "cca732bc",
        "outputId": "e28d3da4-1f1e-4041-868b-568ac69e8f28",
        "colab": {
          "base_uri": "https://localhost:8080/"
        }
      },
      "outputs": [
        {
          "output_type": "stream",
          "name": "stdout",
          "text": [
            "None\n"
          ]
        }
      ],
      "source": [
        "print(s1.name) # There is a possible we can assign a name"
      ]
    },
    {
      "cell_type": "code",
      "execution_count": null,
      "id": "b3eeb627",
      "metadata": {
        "id": "b3eeb627",
        "outputId": "3e674e79-808b-484b-990c-965c342d5ed3",
        "colab": {
          "base_uri": "https://localhost:8080/"
        }
      },
      "outputs": [
        {
          "output_type": "stream",
          "name": "stdout",
          "text": [
            "Help on package pandas.core in pandas:\n",
            "\n",
            "NAME\n",
            "    pandas.core\n",
            "\n",
            "PACKAGE CONTENTS\n",
            "    _numba (package)\n",
            "    accessor\n",
            "    algorithms\n",
            "    api\n",
            "    apply\n",
            "    array_algos (package)\n",
            "    arraylike\n",
            "    arrays (package)\n",
            "    base\n",
            "    common\n",
            "    computation (package)\n",
            "    config_init\n",
            "    construction\n",
            "    describe\n",
            "    dtypes (package)\n",
            "    flags\n",
            "    frame\n",
            "    generic\n",
            "    groupby (package)\n",
            "    index\n",
            "    indexers (package)\n",
            "    indexes (package)\n",
            "    indexing\n",
            "    interchange (package)\n",
            "    internals (package)\n",
            "    missing\n",
            "    nanops\n",
            "    ops (package)\n",
            "    resample\n",
            "    reshape (package)\n",
            "    roperator\n",
            "    sample\n",
            "    series\n",
            "    shared_docs\n",
            "    sorting\n",
            "    sparse (package)\n",
            "    strings (package)\n",
            "    tools (package)\n",
            "    util (package)\n",
            "    window (package)\n",
            "\n",
            "FILE\n",
            "    /usr/local/lib/python3.10/dist-packages/pandas/core/__init__.py\n",
            "\n",
            "\n"
          ]
        }
      ],
      "source": [
        "help(pd.core)"
      ]
    },
    {
      "cell_type": "code",
      "execution_count": null,
      "id": "632a59f9",
      "metadata": {
        "id": "632a59f9",
        "outputId": "a1b64bf3-68c6-4b6a-9325-5cd09601801b"
      },
      "outputs": [
        {
          "name": "stdout",
          "output_type": "stream",
          "text": [
            "Help on package pandas.core.indexes in pandas.core:\n",
            "\n",
            "NAME\n",
            "    pandas.core.indexes\n",
            "\n",
            "PACKAGE CONTENTS\n",
            "    accessors\n",
            "    api\n",
            "    base\n",
            "    category\n",
            "    datetimelike\n",
            "    datetimes\n",
            "    extension\n",
            "    frozen\n",
            "    interval\n",
            "    multi\n",
            "    numeric\n",
            "    period\n",
            "    range\n",
            "    timedeltas\n",
            "\n",
            "FILE\n",
            "    c:\\users\\hp\\anaconda3\\lib\\site-packages\\pandas\\core\\indexes\\__init__.py\n",
            "\n",
            "\n"
          ]
        }
      ],
      "source": [
        "help(pd.core.indexes)"
      ]
    },
    {
      "cell_type": "code",
      "execution_count": null,
      "id": "80d9d779",
      "metadata": {
        "id": "80d9d779",
        "outputId": "f8a87992-3c96-4b0e-ed4e-2cf7d904277f"
      },
      "outputs": [
        {
          "name": "stdout",
          "output_type": "stream",
          "text": [
            "Help on module pandas.core.indexes.range in pandas.core.indexes:\n",
            "\n",
            "NAME\n",
            "    pandas.core.indexes.range\n",
            "\n",
            "CLASSES\n",
            "    pandas.core.indexes.numeric.NumericIndex(pandas.core.indexes.base.Index)\n",
            "        RangeIndex\n",
            "    \n",
            "    class RangeIndex(pandas.core.indexes.numeric.NumericIndex)\n",
            "     |  RangeIndex(start=None, stop=None, step=None, dtype: 'Dtype | None' = None, copy: 'bool' = False, name: 'Hashable' = None) -> 'RangeIndex'\n",
            "     |  \n",
            "     |  Immutable Index implementing a monotonic integer range.\n",
            "     |  \n",
            "     |  RangeIndex is a memory-saving special case of Int64Index limited to\n",
            "     |  representing monotonic ranges. Using RangeIndex may in some instances\n",
            "     |  improve computing speed.\n",
            "     |  \n",
            "     |  This is the default index type used\n",
            "     |  by DataFrame and Series when no explicit index is provided by the user.\n",
            "     |  \n",
            "     |  Parameters\n",
            "     |  ----------\n",
            "     |  start : int (default: 0), range, or other RangeIndex instance\n",
            "     |      If int and \"stop\" is not given, interpreted as \"stop\" instead.\n",
            "     |  stop : int (default: 0)\n",
            "     |  step : int (default: 1)\n",
            "     |  dtype : np.int64\n",
            "     |      Unused, accepted for homogeneity with other index types.\n",
            "     |  copy : bool, default False\n",
            "     |      Unused, accepted for homogeneity with other index types.\n",
            "     |  name : object, optional\n",
            "     |      Name to be stored in the index.\n",
            "     |  \n",
            "     |  Attributes\n",
            "     |  ----------\n",
            "     |  start\n",
            "     |  stop\n",
            "     |  step\n",
            "     |  \n",
            "     |  Methods\n",
            "     |  -------\n",
            "     |  from_range\n",
            "     |  \n",
            "     |  See Also\n",
            "     |  --------\n",
            "     |  Index : The base pandas Index type.\n",
            "     |  Int64Index : Index of int64 data.\n",
            "     |  \n",
            "     |  Method resolution order:\n",
            "     |      RangeIndex\n",
            "     |      pandas.core.indexes.numeric.NumericIndex\n",
            "     |      pandas.core.indexes.base.Index\n",
            "     |      pandas.core.base.IndexOpsMixin\n",
            "     |      pandas.core.arraylike.OpsMixin\n",
            "     |      pandas.core.base.PandasObject\n",
            "     |      pandas.core.accessor.DirNamesMixin\n",
            "     |      builtins.object\n",
            "     |  \n",
            "     |  Methods defined here:\n",
            "     |  \n",
            "     |  __contains__(self, key: 'Any') -> 'bool'\n",
            "     |      Check if key is a float and has a decimal. If it has, return False.\n",
            "     |  \n",
            "     |  __floordiv__(self, other)\n",
            "     |  \n",
            "     |  __getitem__(self, key)\n",
            "     |      Conserve RangeIndex type for scalar and slice keys.\n",
            "     |  \n",
            "     |  __iter__(self)\n",
            "     |      Return an iterator of the values.\n",
            "     |      \n",
            "     |      These are each a scalar type, which is a Python scalar\n",
            "     |      (for str, int, float) or a pandas scalar\n",
            "     |      (for Timestamp/Timedelta/Interval/Period)\n",
            "     |      \n",
            "     |      Returns\n",
            "     |      -------\n",
            "     |      iterator\n",
            "     |  \n",
            "     |  __len__(self) -> 'int'\n",
            "     |      return the length of the RangeIndex\n",
            "     |  \n",
            "     |  __reduce__(self)\n",
            "     |      Helper for pickle.\n",
            "     |  \n",
            "     |  all(self, *args, **kwargs) -> 'bool'\n",
            "     |      Return whether all elements are Truthy.\n",
            "     |      \n",
            "     |      Parameters\n",
            "     |      ----------\n",
            "     |      *args\n",
            "     |          Required for compatibility with numpy.\n",
            "     |      **kwargs\n",
            "     |          Required for compatibility with numpy.\n",
            "     |      \n",
            "     |      Returns\n",
            "     |      -------\n",
            "     |      all : bool or array-like (if axis is specified)\n",
            "     |          A single element array-like may be converted to bool.\n",
            "     |      \n",
            "     |      See Also\n",
            "     |      --------\n",
            "     |      Index.any : Return whether any element in an Index is True.\n",
            "     |      Series.any : Return whether any element in a Series is True.\n",
            "     |      Series.all : Return whether all elements in a Series are True.\n",
            "     |      \n",
            "     |      Notes\n",
            "     |      -----\n",
            "     |      Not a Number (NaN), positive infinity and negative infinity\n",
            "     |      evaluate to True because these are not equal to zero.\n",
            "     |      \n",
            "     |      Examples\n",
            "     |      --------\n",
            "     |      **all**\n",
            "     |      \n",
            "     |      True, because nonzero integers are considered True.\n",
            "     |      \n",
            "     |      >>> pd.Index([1, 2, 3]).all()\n",
            "     |      True\n",
            "     |      \n",
            "     |      False, because ``0`` is considered False.\n",
            "     |      \n",
            "     |      >>> pd.Index([0, 1, 2]).all()\n",
            "     |      False\n",
            "     |      \n",
            "     |      **any**\n",
            "     |      \n",
            "     |      True, because ``1`` is considered True.\n",
            "     |      \n",
            "     |      >>> pd.Index([0, 0, 1]).any()\n",
            "     |      True\n",
            "     |      \n",
            "     |      False, because ``0`` is considered False.\n",
            "     |      \n",
            "     |      >>> pd.Index([0, 0, 0]).any()\n",
            "     |      False\n",
            "     |  \n",
            "     |  any(self, *args, **kwargs) -> 'bool'\n",
            "     |      Return whether any element is Truthy.\n",
            "     |      \n",
            "     |      Parameters\n",
            "     |      ----------\n",
            "     |      *args\n",
            "     |          Required for compatibility with numpy.\n",
            "     |      **kwargs\n",
            "     |          Required for compatibility with numpy.\n",
            "     |      \n",
            "     |      Returns\n",
            "     |      -------\n",
            "     |      any : bool or array-like (if axis is specified)\n",
            "     |          A single element array-like may be converted to bool.\n",
            "     |      \n",
            "     |      See Also\n",
            "     |      --------\n",
            "     |      Index.all : Return whether all elements are True.\n",
            "     |      Series.all : Return whether all elements are True.\n",
            "     |      \n",
            "     |      Notes\n",
            "     |      -----\n",
            "     |      Not a Number (NaN), positive infinity and negative infinity\n",
            "     |      evaluate to True because these are not equal to zero.\n",
            "     |      \n",
            "     |      Examples\n",
            "     |      --------\n",
            "     |      >>> index = pd.Index([0, 1, 2])\n",
            "     |      >>> index.any()\n",
            "     |      True\n",
            "     |      \n",
            "     |      >>> index = pd.Index([0, 0, 0])\n",
            "     |      >>> index.any()\n",
            "     |      False\n",
            "     |  \n",
            "     |  argsort(self, *args, **kwargs) -> 'np.ndarray'\n",
            "     |      Returns the indices that would sort the index and its\n",
            "     |      underlying data.\n",
            "     |      \n",
            "     |      Returns\n",
            "     |      -------\n",
            "     |      np.ndarray[np.intp]\n",
            "     |      \n",
            "     |      See Also\n",
            "     |      --------\n",
            "     |      numpy.ndarray.argsort\n",
            "     |  \n",
            "     |  copy(self, name: 'Hashable' = None, deep: 'bool' = False, dtype: 'Dtype | None' = None, names=None)\n",
            "     |      Make a copy of this object.\n",
            "     |      \n",
            "     |      Name and dtype sets those attributes on the new object.\n",
            "     |      \n",
            "     |      Parameters\n",
            "     |      ----------\n",
            "     |      name : Label, optional\n",
            "     |          Set name for new object.\n",
            "     |      deep : bool, default False\n",
            "     |      dtype : numpy dtype or pandas type, optional\n",
            "     |          Set dtype for new object.\n",
            "     |      \n",
            "     |          .. deprecated:: 1.2.0\n",
            "     |              use ``astype`` method instead.\n",
            "     |      names : list-like, optional\n",
            "     |          Kept for compatibility with MultiIndex. Should not be used.\n",
            "     |      \n",
            "     |      Returns\n",
            "     |      -------\n",
            "     |      Index\n",
            "     |          Index refer to new object which is a copy of this object.\n",
            "     |      \n",
            "     |      Notes\n",
            "     |      -----\n",
            "     |      In most cases, there should be no functional difference from using\n",
            "     |      ``deep``, but if ``deep`` is passed it will attempt to deepcopy.\n",
            "     |  \n",
            "     |  delete(self, loc) -> 'Int64Index'\n",
            "     |      Make new Index with passed location(-s) deleted.\n",
            "     |      \n",
            "     |      Parameters\n",
            "     |      ----------\n",
            "     |      loc : int or list of int\n",
            "     |          Location of item(-s) which will be deleted.\n",
            "     |          Use a list of locations to delete more than one value at the same time.\n",
            "     |      \n",
            "     |      Returns\n",
            "     |      -------\n",
            "     |      Index\n",
            "     |          Will be same type as self, except for RangeIndex.\n",
            "     |      \n",
            "     |      See Also\n",
            "     |      --------\n",
            "     |      numpy.delete : Delete any rows and column from NumPy array (ndarray).\n",
            "     |      \n",
            "     |      Examples\n",
            "     |      --------\n",
            "     |      >>> idx = pd.Index(['a', 'b', 'c'])\n",
            "     |      >>> idx.delete(1)\n",
            "     |      Index(['a', 'c'], dtype='object')\n",
            "     |      \n",
            "     |      >>> idx = pd.Index(['a', 'b', 'c'])\n",
            "     |      >>> idx.delete([0, 2])\n",
            "     |      Index(['b'], dtype='object')\n",
            "     |  \n",
            "     |  equals(self, other: 'object') -> 'bool'\n",
            "     |      Determines if two Index objects contain the same elements.\n",
            "     |  \n",
            "     |  factorize(self, sort: 'bool' = False, na_sentinel: 'int | None' = -1) -> 'tuple[np.ndarray, RangeIndex]'\n",
            "     |      Encode the object as an enumerated type or categorical variable.\n",
            "     |      \n",
            "     |      This method is useful for obtaining a numeric representation of an\n",
            "     |      array when all that matters is identifying distinct values. `factorize`\n",
            "     |      is available as both a top-level function :func:`pandas.factorize`,\n",
            "     |      and as a method :meth:`Series.factorize` and :meth:`Index.factorize`.\n",
            "     |      \n",
            "     |      Parameters\n",
            "     |      ----------\n",
            "     |      sort : bool, default False\n",
            "     |          Sort `uniques` and shuffle `codes` to maintain the\n",
            "     |          relationship.\n",
            "     |      \n",
            "     |      na_sentinel : int or None, default -1\n",
            "     |          Value to mark \"not found\". If None, will not drop the NaN\n",
            "     |          from the uniques of the values.\n",
            "     |      \n",
            "     |          .. versionchanged:: 1.1.2\n",
            "     |      \n",
            "     |      Returns\n",
            "     |      -------\n",
            "     |      codes : ndarray\n",
            "     |          An integer ndarray that's an indexer into `uniques`.\n",
            "     |          ``uniques.take(codes)`` will have the same values as `values`.\n",
            "     |      uniques : ndarray, Index, or Categorical\n",
            "     |          The unique valid values. When `values` is Categorical, `uniques`\n",
            "     |          is a Categorical. When `values` is some other pandas object, an\n",
            "     |          `Index` is returned. Otherwise, a 1-D ndarray is returned.\n",
            "     |      \n",
            "     |          .. note ::\n",
            "     |      \n",
            "     |             Even if there's a missing value in `values`, `uniques` will\n",
            "     |             *not* contain an entry for it.\n",
            "     |      \n",
            "     |      See Also\n",
            "     |      --------\n",
            "     |      cut : Discretize continuous-valued array.\n",
            "     |      unique : Find the unique value in an array.\n",
            "     |      \n",
            "     |      Examples\n",
            "     |      --------\n",
            "     |      These examples all show factorize as a top-level method like\n",
            "     |      ``pd.factorize(values)``. The results are identical for methods like\n",
            "     |      :meth:`Series.factorize`.\n",
            "     |      \n",
            "     |      >>> codes, uniques = pd.factorize(['b', 'b', 'a', 'c', 'b'])\n",
            "     |      >>> codes\n",
            "     |      array([0, 0, 1, 2, 0]...)\n",
            "     |      >>> uniques\n",
            "     |      array(['b', 'a', 'c'], dtype=object)\n",
            "     |      \n",
            "     |      With ``sort=True``, the `uniques` will be sorted, and `codes` will be\n",
            "     |      shuffled so that the relationship is the maintained.\n",
            "     |      \n",
            "     |      >>> codes, uniques = pd.factorize(['b', 'b', 'a', 'c', 'b'], sort=True)\n",
            "     |      >>> codes\n",
            "     |      array([1, 1, 0, 2, 1]...)\n",
            "     |      >>> uniques\n",
            "     |      array(['a', 'b', 'c'], dtype=object)\n",
            "     |      \n",
            "     |      Missing values are indicated in `codes` with `na_sentinel`\n",
            "     |      (``-1`` by default). Note that missing values are never\n",
            "     |      included in `uniques`.\n",
            "     |      \n",
            "     |      >>> codes, uniques = pd.factorize(['b', None, 'a', 'c', 'b'])\n",
            "     |      >>> codes\n",
            "     |      array([ 0, -1,  1,  2,  0]...)\n",
            "     |      >>> uniques\n",
            "     |      array(['b', 'a', 'c'], dtype=object)\n",
            "     |      \n",
            "     |      Thus far, we've only factorized lists (which are internally coerced to\n",
            "     |      NumPy arrays). When factorizing pandas objects, the type of `uniques`\n",
            "     |      will differ. For Categoricals, a `Categorical` is returned.\n",
            "     |      \n",
            "     |      >>> cat = pd.Categorical(['a', 'a', 'c'], categories=['a', 'b', 'c'])\n",
            "     |      >>> codes, uniques = pd.factorize(cat)\n",
            "     |      >>> codes\n",
            "     |      array([0, 0, 1]...)\n",
            "     |      >>> uniques\n",
            "     |      ['a', 'c']\n",
            "     |      Categories (3, object): ['a', 'b', 'c']\n",
            "     |      \n",
            "     |      Notice that ``'b'`` is in ``uniques.categories``, despite not being\n",
            "     |      present in ``cat.values``.\n",
            "     |      \n",
            "     |      For all other pandas objects, an Index of the appropriate type is\n",
            "     |      returned.\n",
            "     |      \n",
            "     |      >>> cat = pd.Series(['a', 'a', 'c'])\n",
            "     |      >>> codes, uniques = pd.factorize(cat)\n",
            "     |      >>> codes\n",
            "     |      array([0, 0, 1]...)\n",
            "     |      >>> uniques\n",
            "     |      Index(['a', 'c'], dtype='object')\n",
            "     |      \n",
            "     |      If NaN is in the values, and we want to include NaN in the uniques of the\n",
            "     |      values, it can be achieved by setting ``na_sentinel=None``.\n",
            "     |      \n",
            "     |      >>> values = np.array([1, 2, 1, np.nan])\n",
            "     |      >>> codes, uniques = pd.factorize(values)  # default: na_sentinel=-1\n",
            "     |      >>> codes\n",
            "     |      array([ 0,  1,  0, -1])\n",
            "     |      >>> uniques\n",
            "     |      array([1., 2.])\n",
            "     |      \n",
            "     |      >>> codes, uniques = pd.factorize(values, na_sentinel=None)\n",
            "     |      >>> codes\n",
            "     |      array([0, 1, 0, 2])\n",
            "     |      >>> uniques\n",
            "     |      array([ 1.,  2., nan])\n",
            "     |  \n",
            "     |  get_loc(self, key, method=None, tolerance=None)\n",
            "     |      Get integer location, slice or boolean mask for requested label.\n",
            "     |      \n",
            "     |      Parameters\n",
            "     |      ----------\n",
            "     |      key : label\n",
            "     |      method : {None, 'pad'/'ffill', 'backfill'/'bfill', 'nearest'}, optional\n",
            "     |          * default: exact matches only.\n",
            "     |          * pad / ffill: find the PREVIOUS index value if no exact match.\n",
            "     |          * backfill / bfill: use NEXT index value if no exact match\n",
            "     |          * nearest: use the NEAREST index value if no exact match. Tied\n",
            "     |            distances are broken by preferring the larger index value.\n",
            "     |      tolerance : int or float, optional\n",
            "     |          Maximum distance from index value for inexact matches. The value of\n",
            "     |          the index at the matching location must satisfy the equation\n",
            "     |          ``abs(index[loc] - key) <= tolerance``.\n",
            "     |      \n",
            "     |      Returns\n",
            "     |      -------\n",
            "     |      loc : int if unique index, slice if monotonic index, else mask\n",
            "     |      \n",
            "     |      Examples\n",
            "     |      --------\n",
            "     |      >>> unique_index = pd.Index(list('abc'))\n",
            "     |      >>> unique_index.get_loc('b')\n",
            "     |      1\n",
            "     |      \n",
            "     |      >>> monotonic_index = pd.Index(list('abbc'))\n",
            "     |      >>> monotonic_index.get_loc('b')\n",
            "     |      slice(1, 3, None)\n",
            "     |      \n",
            "     |      >>> non_monotonic_index = pd.Index(list('abcb'))\n",
            "     |      >>> non_monotonic_index.get_loc('b')\n",
            "     |      array([False,  True, False,  True])\n",
            "     |  \n",
            "     |  max(self, axis=None, skipna: 'bool' = True, *args, **kwargs) -> 'int'\n",
            "     |      The maximum value of the RangeIndex\n",
            "     |  \n",
            "     |  memory_usage(self, deep: 'bool' = False) -> 'int'\n",
            "     |      Memory usage of my values\n",
            "     |      \n",
            "     |      Parameters\n",
            "     |      ----------\n",
            "     |      deep : bool\n",
            "     |          Introspect the data deeply, interrogate\n",
            "     |          `object` dtypes for system-level memory consumption\n",
            "     |      \n",
            "     |      Returns\n",
            "     |      -------\n",
            "     |      bytes used\n",
            "     |      \n",
            "     |      Notes\n",
            "     |      -----\n",
            "     |      Memory usage does not include memory consumed by elements that\n",
            "     |      are not components of the array if deep=False\n",
            "     |      \n",
            "     |      See Also\n",
            "     |      --------\n",
            "     |      numpy.ndarray.nbytes\n",
            "     |  \n",
            "     |  min(self, axis=None, skipna: 'bool' = True, *args, **kwargs) -> 'int'\n",
            "     |      The minimum value of the RangeIndex\n",
            "     |  \n",
            "     |  repeat(self, repeats, axis=None) -> 'Int64Index'\n",
            "     |      Repeat elements of a Index.\n",
            "     |      \n",
            "     |      Returns a new Index where each element of the current Index\n",
            "     |      is repeated consecutively a given number of times.\n",
            "     |      \n",
            "     |      Parameters\n",
            "     |      ----------\n",
            "     |      repeats : int or array of ints\n",
            "     |          The number of repetitions for each element. This should be a\n",
            "     |          non-negative integer. Repeating 0 times will return an empty\n",
            "     |          Index.\n",
            "     |      axis : None\n",
            "     |          Must be ``None``. Has no effect but is accepted for compatibility\n",
            "     |          with numpy.\n",
            "     |      \n",
            "     |      Returns\n",
            "     |      -------\n",
            "     |      repeated_index : Index\n",
            "     |          Newly created Index with repeated elements.\n",
            "     |      \n",
            "     |      See Also\n",
            "     |      --------\n",
            "     |      Series.repeat : Equivalent function for Series.\n",
            "     |      numpy.repeat : Similar method for :class:`numpy.ndarray`.\n",
            "     |      \n",
            "     |      Examples\n",
            "     |      --------\n",
            "     |      >>> idx = pd.Index(['a', 'b', 'c'])\n",
            "     |      >>> idx\n",
            "     |      Index(['a', 'b', 'c'], dtype='object')\n",
            "     |      >>> idx.repeat(2)\n",
            "     |      Index(['a', 'a', 'b', 'b', 'c', 'c'], dtype='object')\n",
            "     |      >>> idx.repeat([1, 2, 3])\n",
            "     |      Index(['a', 'b', 'b', 'c', 'c', 'c'], dtype='object')\n",
            "     |  \n",
            "     |  symmetric_difference(self, other, result_name: 'Hashable' = None, sort=None)\n",
            "     |      Compute the symmetric difference of two Index objects.\n",
            "     |      \n",
            "     |      Parameters\n",
            "     |      ----------\n",
            "     |      other : Index or array-like\n",
            "     |      result_name : str\n",
            "     |      sort : False or None, default None\n",
            "     |          Whether to sort the resulting index. By default, the\n",
            "     |          values are attempted to be sorted, but any TypeError from\n",
            "     |          incomparable elements is caught by pandas.\n",
            "     |      \n",
            "     |          * None : Attempt to sort the result, but catch any TypeErrors\n",
            "     |            from comparing incomparable elements.\n",
            "     |          * False : Do not sort the result.\n",
            "     |      \n",
            "     |      Returns\n",
            "     |      -------\n",
            "     |      symmetric_difference : Index\n",
            "     |      \n",
            "     |      Notes\n",
            "     |      -----\n",
            "     |      ``symmetric_difference`` contains elements that appear in either\n",
            "     |      ``idx1`` or ``idx2`` but not both. Equivalent to the Index created by\n",
            "     |      ``idx1.difference(idx2) | idx2.difference(idx1)`` with duplicates\n",
            "     |      dropped.\n",
            "     |      \n",
            "     |      Examples\n",
            "     |      --------\n",
            "     |      >>> idx1 = pd.Index([1, 2, 3, 4])\n",
            "     |      >>> idx2 = pd.Index([2, 3, 4, 5])\n",
            "     |      >>> idx1.symmetric_difference(idx2)\n",
            "     |      Int64Index([1, 5], dtype='int64')\n",
            "     |  \n",
            "     |  take(self, indices, axis: 'int' = 0, allow_fill: 'bool' = True, fill_value=None, **kwargs) -> 'Int64Index'\n",
            "     |      Return a new Index of the values selected by the indices.\n",
            "     |      \n",
            "     |      For internal compatibility with numpy arrays.\n",
            "     |      \n",
            "     |      Parameters\n",
            "     |      ----------\n",
            "     |      indices : array-like\n",
            "     |          Indices to be taken.\n",
            "     |      axis : int, optional\n",
            "     |          The axis over which to select values, always 0.\n",
            "     |      allow_fill : bool, default True\n",
            "     |      fill_value : scalar, default None\n",
            "     |          If allow_fill=True and fill_value is not None, indices specified by\n",
            "     |          -1 are regarded as NA. If Index doesn't hold NA, raise ValueError.\n",
            "     |      \n",
            "     |      Returns\n",
            "     |      -------\n",
            "     |      Index\n",
            "     |          An index formed of elements at the given indices. Will be the same\n",
            "     |          type as self, except for RangeIndex.\n",
            "     |      \n",
            "     |      See Also\n",
            "     |      --------\n",
            "     |      numpy.ndarray.take: Return an array formed from the\n",
            "     |          elements of a at the given indices.\n",
            "     |  \n",
            "     |  tolist(self) -> 'list[int]'\n",
            "     |      Return a list of the values.\n",
            "     |      \n",
            "     |      These are each a scalar type, which is a Python scalar\n",
            "     |      (for str, int, float) or a pandas scalar\n",
            "     |      (for Timestamp/Timedelta/Interval/Period)\n",
            "     |      \n",
            "     |      Returns\n",
            "     |      -------\n",
            "     |      list\n",
            "     |      \n",
            "     |      See Also\n",
            "     |      --------\n",
            "     |      numpy.ndarray.tolist : Return the array as an a.ndim-levels deep\n",
            "     |          nested list of Python scalars.\n",
            "     |  \n",
            "     |  ----------------------------------------------------------------------\n",
            "     |  Class methods defined here:\n",
            "     |  \n",
            "     |  from_range(data: 'range', name=None, dtype: 'Dtype | None' = None) -> 'RangeIndex' from builtins.type\n",
            "     |      Create RangeIndex from a range object.\n",
            "     |      \n",
            "     |      Returns\n",
            "     |      -------\n",
            "     |      RangeIndex\n",
            "     |  \n",
            "     |  ----------------------------------------------------------------------\n",
            "     |  Static methods defined here:\n",
            "     |  \n",
            "     |  __new__(cls, start=None, stop=None, step=None, dtype: 'Dtype | None' = None, copy: 'bool' = False, name: 'Hashable' = None) -> 'RangeIndex'\n",
            "     |      Create and return a new object.  See help(type) for accurate signature.\n",
            "     |  \n",
            "     |  ----------------------------------------------------------------------\n",
            "     |  Readonly properties defined here:\n",
            "     |  \n",
            "     |  dtype\n",
            "     |      Return the dtype object of the underlying data.\n",
            "     |  \n",
            "     |  inferred_type\n",
            "     |      Return a string of the type inferred from the values.\n",
            "     |  \n",
            "     |  is_unique\n",
            "     |      return if the index has unique values\n",
            "     |  \n",
            "     |  size\n",
            "     |      Return the number of elements in the underlying data.\n",
            "     |  \n",
            "     |  start\n",
            "     |      The value of the `start` parameter (``0`` if this was not supplied).\n",
            "     |  \n",
            "     |  step\n",
            "     |      The value of the `step` parameter (``1`` if this was not supplied).\n",
            "     |  \n",
            "     |  stop\n",
            "     |      The value of the `stop` parameter.\n",
            "     |  \n",
            "     |  ----------------------------------------------------------------------\n",
            "     |  Data descriptors defined here:\n",
            "     |  \n",
            "     |  is_monotonic_decreasing\n",
            "     |  \n",
            "     |  is_monotonic_increasing\n",
            "     |  \n",
            "     |  nbytes\n",
            "     |      Return the number of bytes in the underlying data.\n",
            "     |  \n",
            "     |  ----------------------------------------------------------------------\n",
            "     |  Data and other attributes defined here:\n",
            "     |  \n",
            "     |  __annotations__ = {'_range': 'range'}\n",
            "     |  \n",
            "     |  ----------------------------------------------------------------------\n",
            "     |  Methods inherited from pandas.core.indexes.numeric.NumericIndex:\n",
            "     |  \n",
            "     |  astype(self, dtype, copy=True)\n",
            "     |      Create an Index with values cast to dtypes.\n",
            "     |      \n",
            "     |      The class of a new Index is determined by dtype. When conversion is\n",
            "     |      impossible, a TypeError exception is raised.\n",
            "     |      \n",
            "     |      Parameters\n",
            "     |      ----------\n",
            "     |      dtype : numpy dtype or pandas type\n",
            "     |          Note that any signed integer `dtype` is treated as ``'int64'``,\n",
            "     |          and any unsigned integer `dtype` is treated as ``'uint64'``,\n",
            "     |          regardless of the size.\n",
            "     |      copy : bool, default True\n",
            "     |          By default, astype always returns a newly allocated object.\n",
            "     |          If copy is set to False and internal requirements on dtype are\n",
            "     |          satisfied, the original data is used to create a new Index\n",
            "     |          or the original Index is returned.\n",
            "     |      \n",
            "     |      Returns\n",
            "     |      -------\n",
            "     |      Index\n",
            "     |          Index with values cast to specified dtype.\n",
            "     |  \n",
            "     |  ----------------------------------------------------------------------\n",
            "     |  Methods inherited from pandas.core.indexes.base.Index:\n",
            "     |  \n",
            "     |  __abs__(self)\n",
            "     |  \n",
            "     |  __and__(self, other)\n",
            "     |  \n",
            "     |  __array__(self, dtype=None) -> 'np.ndarray'\n",
            "     |      The array interface, return my values.\n",
            "     |  \n",
            "     |  __array_wrap__(self, result, context=None)\n",
            "     |      Gets called after a ufunc and other functions.\n",
            "     |  \n",
            "     |  __bool__ = __nonzero__(self)\n",
            "     |  \n",
            "     |  __copy__(self: '_IndexT', **kwargs) -> '_IndexT'\n",
            "     |  \n",
            "     |  __deepcopy__(self: '_IndexT', memo=None) -> '_IndexT'\n",
            "     |      Parameters\n",
            "     |      ----------\n",
            "     |      memo, default None\n",
            "     |          Standard signature. Unused\n",
            "     |  \n",
            "     |  __iadd__(self, other)\n",
            "     |  \n",
            "     |  __inv__(self)\n",
            "     |  \n",
            "     |  __neg__(self)\n",
            "     |  \n",
            "     |  __nonzero__(self)\n",
            "     |  \n",
            "     |  __or__(self, other)\n",
            "     |  \n",
            "     |  __pos__(self)\n",
            "     |  \n",
            "     |  __repr__(self) -> 'str_t'\n",
            "     |      Return a string representation for this object.\n",
            "     |  \n",
            "     |  __setitem__(self, key, value)\n",
            "     |  \n",
            "     |  __xor__(self, other)\n",
            "     |  \n",
            "     |  append(self, other: 'Index | Sequence[Index]') -> 'Index'\n",
            "     |      Append a collection of Index options together.\n",
            "     |      \n",
            "     |      Parameters\n",
            "     |      ----------\n",
            "     |      other : Index or list/tuple of indices\n",
            "     |      \n",
            "     |      Returns\n",
            "     |      -------\n",
            "     |      Index\n",
            "     |  \n",
            "     |  asof(self, label)\n",
            "     |      Return the label from the index, or, if not present, the previous one.\n",
            "     |      \n",
            "     |      Assuming that the index is sorted, return the passed index label if it\n",
            "     |      is in the index, or return the previous index label if the passed one\n",
            "     |      is not in the index.\n",
            "     |      \n",
            "     |      Parameters\n",
            "     |      ----------\n",
            "     |      label : object\n",
            "     |          The label up to which the method returns the latest index label.\n",
            "     |      \n",
            "     |      Returns\n",
            "     |      -------\n",
            "     |      object\n",
            "     |          The passed label if it is in the index. The previous label if the\n",
            "     |          passed label is not in the sorted index or `NaN` if there is no\n",
            "     |          such label.\n",
            "     |      \n",
            "     |      See Also\n",
            "     |      --------\n",
            "     |      Series.asof : Return the latest value in a Series up to the\n",
            "     |          passed index.\n",
            "     |      merge_asof : Perform an asof merge (similar to left join but it\n",
            "     |          matches on nearest key rather than equal key).\n",
            "     |      Index.get_loc : An `asof` is a thin wrapper around `get_loc`\n",
            "     |          with method='pad'.\n",
            "     |      \n",
            "     |      Examples\n",
            "     |      --------\n",
            "     |      `Index.asof` returns the latest index label up to the passed label.\n",
            "     |      \n",
            "     |      >>> idx = pd.Index(['2013-12-31', '2014-01-02', '2014-01-03'])\n",
            "     |      >>> idx.asof('2014-01-01')\n",
            "     |      '2013-12-31'\n",
            "     |      \n",
            "     |      If the label is in the index, the method returns the passed label.\n",
            "     |      \n",
            "     |      >>> idx.asof('2014-01-02')\n",
            "     |      '2014-01-02'\n",
            "     |      \n",
            "     |      If all of the labels in the index are later than the passed label,\n",
            "     |      NaN is returned.\n",
            "     |      \n",
            "     |      >>> idx.asof('1999-01-02')\n",
            "     |      nan\n",
            "     |      \n",
            "     |      If the index is not sorted, an error is raised.\n",
            "     |      \n",
            "     |      >>> idx_not_sorted = pd.Index(['2013-12-31', '2015-01-02',\n",
            "     |      ...                            '2014-01-03'])\n",
            "     |      >>> idx_not_sorted.asof('2013-12-31')\n",
            "     |      Traceback (most recent call last):\n",
            "     |      ValueError: index must be monotonic increasing or decreasing\n",
            "     |  \n",
            "     |  asof_locs(self, where: 'Index', mask: 'np.ndarray') -> 'np.ndarray'\n",
            "     |      Return the locations (indices) of labels in the index.\n",
            "     |      \n",
            "     |      As in the `asof` function, if the label (a particular entry in\n",
            "     |      `where`) is not in the index, the latest index label up to the\n",
            "     |      passed label is chosen and its index returned.\n",
            "     |      \n",
            "     |      If all of the labels in the index are later than a label in `where`,\n",
            "     |      -1 is returned.\n",
            "     |      \n",
            "     |      `mask` is used to ignore NA values in the index during calculation.\n",
            "     |      \n",
            "     |      Parameters\n",
            "     |      ----------\n",
            "     |      where : Index\n",
            "     |          An Index consisting of an array of timestamps.\n",
            "     |      mask : np.ndarray[bool]\n",
            "     |          Array of booleans denoting where values in the original\n",
            "     |          data are not NA.\n",
            "     |      \n",
            "     |      Returns\n",
            "     |      -------\n",
            "     |      np.ndarray[np.intp]\n",
            "     |          An array of locations (indices) of the labels from the Index\n",
            "     |          which correspond to the return values of the `asof` function\n",
            "     |          for every element in `where`.\n",
            "     |  \n",
            "     |  difference(self, other, sort=None)\n",
            "     |      Return a new Index with elements of index not in `other`.\n",
            "     |      \n",
            "     |      This is the set difference of two Index objects.\n",
            "     |      \n",
            "     |      Parameters\n",
            "     |      ----------\n",
            "     |      other : Index or array-like\n",
            "     |      sort : False or None, default None\n",
            "     |          Whether to sort the resulting index. By default, the\n",
            "     |          values are attempted to be sorted, but any TypeError from\n",
            "     |          incomparable elements is caught by pandas.\n",
            "     |      \n",
            "     |          * None : Attempt to sort the result, but catch any TypeErrors\n",
            "     |            from comparing incomparable elements.\n",
            "     |          * False : Do not sort the result.\n",
            "     |      \n",
            "     |      Returns\n",
            "     |      -------\n",
            "     |      difference : Index\n",
            "     |      \n",
            "     |      Examples\n",
            "     |      --------\n",
            "     |      >>> idx1 = pd.Index([2, 1, 3, 4])\n",
            "     |      >>> idx2 = pd.Index([3, 4, 5, 6])\n",
            "     |      >>> idx1.difference(idx2)\n",
            "     |      Int64Index([1, 2], dtype='int64')\n",
            "     |      >>> idx1.difference(idx2, sort=False)\n",
            "     |      Int64Index([2, 1], dtype='int64')\n",
            "     |  \n",
            "     |  drop(self, labels, errors: 'str_t' = 'raise') -> 'Index'\n",
            "     |      Make new Index with passed list of labels deleted.\n",
            "     |      \n",
            "     |      Parameters\n",
            "     |      ----------\n",
            "     |      labels : array-like\n",
            "     |      errors : {'ignore', 'raise'}, default 'raise'\n",
            "     |          If 'ignore', suppress error and existing labels are dropped.\n",
            "     |      \n",
            "     |      Returns\n",
            "     |      -------\n",
            "     |      dropped : Index\n",
            "     |          Will be same type as self, except for RangeIndex.\n",
            "     |      \n",
            "     |      Raises\n",
            "     |      ------\n",
            "     |      KeyError\n",
            "     |          If not all of the labels are found in the selected axis\n",
            "     |  \n",
            "     |  drop_duplicates(self: '_IndexT', keep: 'str_t | bool' = 'first') -> '_IndexT'\n",
            "     |      Return Index with duplicate values removed.\n",
            "     |      \n",
            "     |      Parameters\n",
            "     |      ----------\n",
            "     |      keep : {'first', 'last', ``False``}, default 'first'\n",
            "     |          - 'first' : Drop duplicates except for the first occurrence.\n",
            "     |          - 'last' : Drop duplicates except for the last occurrence.\n",
            "     |          - ``False`` : Drop all duplicates.\n",
            "     |      \n",
            "     |      Returns\n",
            "     |      -------\n",
            "     |      deduplicated : Index\n",
            "     |      \n",
            "     |      See Also\n",
            "     |      --------\n",
            "     |      Series.drop_duplicates : Equivalent method on Series.\n",
            "     |      DataFrame.drop_duplicates : Equivalent method on DataFrame.\n",
            "     |      Index.duplicated : Related method on Index, indicating duplicate\n",
            "     |          Index values.\n",
            "     |      \n",
            "     |      Examples\n",
            "     |      --------\n",
            "     |      Generate an pandas.Index with duplicate values.\n",
            "     |      \n",
            "     |      >>> idx = pd.Index(['lama', 'cow', 'lama', 'beetle', 'lama', 'hippo'])\n",
            "     |      \n",
            "     |      The `keep` parameter controls  which duplicate values are removed.\n",
            "     |      The value 'first' keeps the first occurrence for each\n",
            "     |      set of duplicated entries. The default value of keep is 'first'.\n",
            "     |      \n",
            "     |      >>> idx.drop_duplicates(keep='first')\n",
            "     |      Index(['lama', 'cow', 'beetle', 'hippo'], dtype='object')\n",
            "     |      \n",
            "     |      The value 'last' keeps the last occurrence for each set of duplicated\n",
            "     |      entries.\n",
            "     |      \n",
            "     |      >>> idx.drop_duplicates(keep='last')\n",
            "     |      Index(['cow', 'beetle', 'lama', 'hippo'], dtype='object')\n",
            "     |      \n",
            "     |      The value ``False`` discards all sets of duplicated entries.\n",
            "     |      \n",
            "     |      >>> idx.drop_duplicates(keep=False)\n",
            "     |      Index(['cow', 'beetle', 'hippo'], dtype='object')\n",
            "     |  \n",
            "     |  droplevel(self, level=0)\n",
            "     |      Return index with requested level(s) removed.\n",
            "     |      \n",
            "     |      If resulting index has only 1 level left, the result will be\n",
            "     |      of Index type, not MultiIndex.\n",
            "     |      \n",
            "     |      Parameters\n",
            "     |      ----------\n",
            "     |      level : int, str, or list-like, default 0\n",
            "     |          If a string is given, must be the name of a level\n",
            "     |          If list-like, elements must be names or indexes of levels.\n",
            "     |      \n",
            "     |      Returns\n",
            "     |      -------\n",
            "     |      Index or MultiIndex\n",
            "     |      \n",
            "     |      Examples\n",
            "     |      --------\n",
            "     |      >>> mi = pd.MultiIndex.from_arrays(\n",
            "     |      ... [[1, 2], [3, 4], [5, 6]], names=['x', 'y', 'z'])\n",
            "     |      >>> mi\n",
            "     |      MultiIndex([(1, 3, 5),\n",
            "     |                  (2, 4, 6)],\n",
            "     |                 names=['x', 'y', 'z'])\n",
            "     |      \n",
            "     |      >>> mi.droplevel()\n",
            "     |      MultiIndex([(3, 5),\n",
            "     |                  (4, 6)],\n",
            "     |                 names=['y', 'z'])\n",
            "     |      \n",
            "     |      >>> mi.droplevel(2)\n",
            "     |      MultiIndex([(1, 3),\n",
            "     |                  (2, 4)],\n",
            "     |                 names=['x', 'y'])\n",
            "     |      \n",
            "     |      >>> mi.droplevel('z')\n",
            "     |      MultiIndex([(1, 3),\n",
            "     |                  (2, 4)],\n",
            "     |                 names=['x', 'y'])\n",
            "     |      \n",
            "     |      >>> mi.droplevel(['x', 'y'])\n",
            "     |      Int64Index([5, 6], dtype='int64', name='z')\n",
            "     |  \n",
            "     |  dropna(self: '_IndexT', how: 'str_t' = 'any') -> '_IndexT'\n",
            "     |      Return Index without NA/NaN values.\n",
            "     |      \n",
            "     |      Parameters\n",
            "     |      ----------\n",
            "     |      how : {'any', 'all'}, default 'any'\n",
            "     |          If the Index is a MultiIndex, drop the value when any or all levels\n",
            "     |          are NaN.\n",
            "     |      \n",
            "     |      Returns\n",
            "     |      -------\n",
            "     |      Index\n",
            "     |  \n",
            "     |  duplicated(self, keep: \"Literal['first', 'last', False]\" = 'first') -> 'np.ndarray'\n",
            "     |      Indicate duplicate index values.\n",
            "     |      \n",
            "     |      Duplicated values are indicated as ``True`` values in the resulting\n",
            "     |      array. Either all duplicates, all except the first, or all except the\n",
            "     |      last occurrence of duplicates can be indicated.\n",
            "     |      \n",
            "     |      Parameters\n",
            "     |      ----------\n",
            "     |      keep : {'first', 'last', False}, default 'first'\n",
            "     |          The value or values in a set of duplicates to mark as missing.\n",
            "     |      \n",
            "     |          - 'first' : Mark duplicates as ``True`` except for the first\n",
            "     |            occurrence.\n",
            "     |          - 'last' : Mark duplicates as ``True`` except for the last\n",
            "     |            occurrence.\n",
            "     |          - ``False`` : Mark all duplicates as ``True``.\n",
            "     |      \n",
            "     |      Returns\n",
            "     |      -------\n",
            "     |      np.ndarray[bool]\n",
            "     |      \n",
            "     |      See Also\n",
            "     |      --------\n",
            "     |      Series.duplicated : Equivalent method on pandas.Series.\n",
            "     |      DataFrame.duplicated : Equivalent method on pandas.DataFrame.\n",
            "     |      Index.drop_duplicates : Remove duplicate values from Index.\n",
            "     |      \n",
            "     |      Examples\n",
            "     |      --------\n",
            "     |      By default, for each set of duplicated values, the first occurrence is\n",
            "     |      set to False and all others to True:\n",
            "     |      \n",
            "     |      >>> idx = pd.Index(['lama', 'cow', 'lama', 'beetle', 'lama'])\n",
            "     |      >>> idx.duplicated()\n",
            "     |      array([False, False,  True, False,  True])\n",
            "     |      \n",
            "     |      which is equivalent to\n",
            "     |      \n",
            "     |      >>> idx.duplicated(keep='first')\n",
            "     |      array([False, False,  True, False,  True])\n",
            "     |      \n",
            "     |      By using 'last', the last occurrence of each set of duplicated values\n",
            "     |      is set on False and all others on True:\n",
            "     |      \n",
            "     |      >>> idx.duplicated(keep='last')\n",
            "     |      array([ True, False,  True, False, False])\n",
            "     |      \n",
            "     |      By setting keep on ``False``, all duplicates are True:\n",
            "     |      \n",
            "     |      >>> idx.duplicated(keep=False)\n",
            "     |      array([ True, False,  True, False,  True])\n",
            "     |  \n",
            "     |  fillna(self, value=None, downcast=None)\n",
            "     |      Fill NA/NaN values with the specified value.\n",
            "     |      \n",
            "     |      Parameters\n",
            "     |      ----------\n",
            "     |      value : scalar\n",
            "     |          Scalar value to use to fill holes (e.g. 0).\n",
            "     |          This value cannot be a list-likes.\n",
            "     |      downcast : dict, default is None\n",
            "     |          A dict of item->dtype of what to downcast if possible,\n",
            "     |          or the string 'infer' which will try to downcast to an appropriate\n",
            "     |          equal type (e.g. float64 to int64 if possible).\n",
            "     |      \n",
            "     |      Returns\n",
            "     |      -------\n",
            "     |      Index\n",
            "     |      \n",
            "     |      See Also\n",
            "     |      --------\n",
            "     |      DataFrame.fillna : Fill NaN values of a DataFrame.\n",
            "     |      Series.fillna : Fill NaN Values of a Series.\n",
            "     |  \n",
            "     |  format(self, name: 'bool' = False, formatter: 'Callable | None' = None, na_rep: 'str_t' = 'NaN') -> 'list[str_t]'\n",
            "     |      Render a string representation of the Index.\n",
            "     |  \n",
            "     |  get_indexer(self, target, method: 'str_t | None' = None, limit: 'int | None' = None, tolerance=None) -> 'np.ndarray'\n",
            "     |      Compute indexer and mask for new index given the current index. The\n",
            "     |      indexer should be then used as an input to ndarray.take to align the\n",
            "     |      current data to the new index.\n",
            "     |      \n",
            "     |      Parameters\n",
            "     |      ----------\n",
            "     |      target : Index\n",
            "     |      method : {None, 'pad'/'ffill', 'backfill'/'bfill', 'nearest'}, optional\n",
            "     |          * default: exact matches only.\n",
            "     |          * pad / ffill: find the PREVIOUS index value if no exact match.\n",
            "     |          * backfill / bfill: use NEXT index value if no exact match\n",
            "     |          * nearest: use the NEAREST index value if no exact match. Tied\n",
            "     |            distances are broken by preferring the larger index value.\n",
            "     |      limit : int, optional\n",
            "     |          Maximum number of consecutive labels in ``target`` to match for\n",
            "     |          inexact matches.\n",
            "     |      tolerance : optional\n",
            "     |          Maximum distance between original and new labels for inexact\n",
            "     |          matches. The values of the index at the matching locations must\n",
            "     |          satisfy the equation ``abs(index[indexer] - target) <= tolerance``.\n",
            "     |      \n",
            "     |          Tolerance may be a scalar value, which applies the same tolerance\n",
            "     |          to all values, or list-like, which applies variable tolerance per\n",
            "     |          element. List-like includes list, tuple, array, Series, and must be\n",
            "     |          the same size as the index and its dtype must exactly match the\n",
            "     |          index's type.\n",
            "     |      \n",
            "     |      Returns\n",
            "     |      -------\n",
            "     |      indexer : np.ndarray[np.intp]\n",
            "     |          Integers from 0 to n - 1 indicating that the index at these\n",
            "     |          positions matches the corresponding target values. Missing values\n",
            "     |          in the target are marked by -1.\n",
            "     |      \n",
            "     |      Examples\n",
            "     |      --------\n",
            "     |      >>> index = pd.Index(['c', 'a', 'b'])\n",
            "     |      >>> index.get_indexer(['a', 'b', 'x'])\n",
            "     |      array([ 1,  2, -1])\n",
            "     |      \n",
            "     |      Notice that the return value is an array of locations in ``index``\n",
            "     |      and ``x`` is marked by -1, as it is not in ``index``.\n",
            "     |  \n",
            "     |  get_indexer_for(self, target, **kwargs) -> 'np.ndarray'\n",
            "     |      Guaranteed return of an indexer even when non-unique.\n",
            "     |      \n",
            "     |      This dispatches to get_indexer or get_indexer_non_unique\n",
            "     |      as appropriate.\n",
            "     |      \n",
            "     |      Returns\n",
            "     |      -------\n",
            "     |      np.ndarray[np.intp]\n",
            "     |          List of indices.\n",
            "     |  \n",
            "     |  get_indexer_non_unique(self, target) -> 'tuple[np.ndarray, np.ndarray]'\n",
            "     |      Compute indexer and mask for new index given the current index. The\n",
            "     |      indexer should be then used as an input to ndarray.take to align the\n",
            "     |      current data to the new index.\n",
            "     |      \n",
            "     |      Parameters\n",
            "     |      ----------\n",
            "     |      target : Index\n",
            "     |      \n",
            "     |      Returns\n",
            "     |      -------\n",
            "     |      indexer : np.ndarray[np.intp]\n",
            "     |          Integers from 0 to n - 1 indicating that the index at these\n",
            "     |          positions matches the corresponding target values. Missing values\n",
            "     |          in the target are marked by -1.\n",
            "     |      missing : np.ndarray[np.intp]\n",
            "     |          An indexer into the target of the values not found.\n",
            "     |          These correspond to the -1 in the indexer array.\n",
            "     |  \n",
            "     |  get_level_values = _get_level_values(self, level) -> 'Index'\n",
            "     |  \n",
            "     |  get_slice_bound(self, label, side: 'str_t', kind=None) -> 'int'\n",
            "     |      Calculate slice bound that corresponds to given label.\n",
            "     |      \n",
            "     |      Returns leftmost (one-past-the-rightmost if ``side=='right'``) position\n",
            "     |      of given label.\n",
            "     |      \n",
            "     |      Parameters\n",
            "     |      ----------\n",
            "     |      label : object\n",
            "     |      side : {'left', 'right'}\n",
            "     |      kind : {'loc', 'getitem'} or None\n",
            "     |      \n",
            "     |      Returns\n",
            "     |      -------\n",
            "     |      int\n",
            "     |          Index of label.\n",
            "     |  \n",
            "     |  get_value(self, series: 'Series', key)\n",
            "     |      Fast lookup of value from 1-dimensional ndarray.\n",
            "     |      \n",
            "     |      Only use this if you know what you're doing.\n",
            "     |      \n",
            "     |      Returns\n",
            "     |      -------\n",
            "     |      scalar or Series\n",
            "     |  \n",
            "     |  groupby(self, values) -> 'PrettyDict[Hashable, np.ndarray]'\n",
            "     |      Group the index labels by a given array of values.\n",
            "     |      \n",
            "     |      Parameters\n",
            "     |      ----------\n",
            "     |      values : array\n",
            "     |          Values used to determine the groups.\n",
            "     |      \n",
            "     |      Returns\n",
            "     |      -------\n",
            "     |      dict\n",
            "     |          {group name -> group labels}\n",
            "     |  \n",
            "     |  holds_integer(self) -> 'bool'\n",
            "     |      Whether the type is an integer type.\n",
            "     |  \n",
            "     |  identical(self, other) -> 'bool'\n",
            "     |      Similar to equals, but checks that object attributes and types are also equal.\n",
            "     |      \n",
            "     |      Returns\n",
            "     |      -------\n",
            "     |      bool\n",
            "     |          If two Index objects have equal elements and same type True,\n",
            "     |          otherwise False.\n",
            "     |  \n",
            "     |  insert(self, loc: 'int', item) -> 'Index'\n",
            "     |      Make new Index inserting new item at location.\n",
            "     |      \n",
            "     |      Follows Python list.append semantics for negative values.\n",
            "     |      \n",
            "     |      Parameters\n",
            "     |      ----------\n",
            "     |      loc : int\n",
            "     |      item : object\n",
            "     |      \n",
            "     |      Returns\n",
            "     |      -------\n",
            "     |      new_index : Index\n",
            "     |  \n",
            "     |  intersection(self, other, sort=False)\n",
            "     |      Form the intersection of two Index objects.\n",
            "     |      \n",
            "     |      This returns a new Index with elements common to the index and `other`.\n",
            "     |      \n",
            "     |      Parameters\n",
            "     |      ----------\n",
            "     |      other : Index or array-like\n",
            "     |      sort : False or None, default False\n",
            "     |          Whether to sort the resulting index.\n",
            "     |      \n",
            "     |          * False : do not sort the result.\n",
            "     |          * None : sort the result, except when `self` and `other` are equal\n",
            "     |            or when the values cannot be compared.\n",
            "     |      \n",
            "     |      Returns\n",
            "     |      -------\n",
            "     |      intersection : Index\n",
            "     |      \n",
            "     |      Examples\n",
            "     |      --------\n",
            "     |      >>> idx1 = pd.Index([1, 2, 3, 4])\n",
            "     |      >>> idx2 = pd.Index([3, 4, 5, 6])\n",
            "     |      >>> idx1.intersection(idx2)\n",
            "     |      Int64Index([3, 4], dtype='int64')\n",
            "     |  \n",
            "     |  is_(self, other) -> 'bool'\n",
            "     |      More flexible, faster check like ``is`` but that works through views.\n",
            "     |      \n",
            "     |      Note: this is *not* the same as ``Index.identical()``, which checks\n",
            "     |      that metadata is also the same.\n",
            "     |      \n",
            "     |      Parameters\n",
            "     |      ----------\n",
            "     |      other : object\n",
            "     |          Other object to compare against.\n",
            "     |      \n",
            "     |      Returns\n",
            "     |      -------\n",
            "     |      bool\n",
            "     |          True if both have same underlying data, False otherwise.\n",
            "     |      \n",
            "     |      See Also\n",
            "     |      --------\n",
            "     |      Index.identical : Works like ``Index.is_`` but also checks metadata.\n",
            "     |  \n",
            "     |  is_boolean(self) -> 'bool'\n",
            "     |      Check if the Index only consists of booleans.\n",
            "     |      \n",
            "     |      Returns\n",
            "     |      -------\n",
            "     |      bool\n",
            "     |          Whether or not the Index only consists of booleans.\n",
            "     |      \n",
            "     |      See Also\n",
            "     |      --------\n",
            "     |      is_integer : Check if the Index only consists of integers.\n",
            "     |      is_floating : Check if the Index is a floating type.\n",
            "     |      is_numeric : Check if the Index only consists of numeric data.\n",
            "     |      is_object : Check if the Index is of the object dtype.\n",
            "     |      is_categorical : Check if the Index holds categorical data.\n",
            "     |      is_interval : Check if the Index holds Interval objects.\n",
            "     |      is_mixed : Check if the Index holds data with mixed data types.\n",
            "     |      \n",
            "     |      Examples\n",
            "     |      --------\n",
            "     |      >>> idx = pd.Index([True, False, True])\n",
            "     |      >>> idx.is_boolean()\n",
            "     |      True\n",
            "     |      \n",
            "     |      >>> idx = pd.Index([\"True\", \"False\", \"True\"])\n",
            "     |      >>> idx.is_boolean()\n",
            "     |      False\n",
            "     |      \n",
            "     |      >>> idx = pd.Index([True, False, \"True\"])\n",
            "     |      >>> idx.is_boolean()\n",
            "     |      False\n",
            "     |  \n",
            "     |  is_categorical(self) -> 'bool'\n",
            "     |      Check if the Index holds categorical data.\n",
            "     |      \n",
            "     |      Returns\n",
            "     |      -------\n",
            "     |      bool\n",
            "     |          True if the Index is categorical.\n",
            "     |      \n",
            "     |      See Also\n",
            "     |      --------\n",
            "     |      CategoricalIndex : Index for categorical data.\n",
            "     |      is_boolean : Check if the Index only consists of booleans.\n",
            "     |      is_integer : Check if the Index only consists of integers.\n",
            "     |      is_floating : Check if the Index is a floating type.\n",
            "     |      is_numeric : Check if the Index only consists of numeric data.\n",
            "     |      is_object : Check if the Index is of the object dtype.\n",
            "     |      is_interval : Check if the Index holds Interval objects.\n",
            "     |      is_mixed : Check if the Index holds data with mixed data types.\n",
            "     |      \n",
            "     |      Examples\n",
            "     |      --------\n",
            "     |      >>> idx = pd.Index([\"Watermelon\", \"Orange\", \"Apple\",\n",
            "     |      ...                 \"Watermelon\"]).astype(\"category\")\n",
            "     |      >>> idx.is_categorical()\n",
            "     |      True\n",
            "     |      \n",
            "     |      >>> idx = pd.Index([1, 3, 5, 7])\n",
            "     |      >>> idx.is_categorical()\n",
            "     |      False\n",
            "     |      \n",
            "     |      >>> s = pd.Series([\"Peter\", \"Victor\", \"Elisabeth\", \"Mar\"])\n",
            "     |      >>> s\n",
            "     |      0        Peter\n",
            "     |      1       Victor\n",
            "     |      2    Elisabeth\n",
            "     |      3          Mar\n",
            "     |      dtype: object\n",
            "     |      >>> s.index.is_categorical()\n",
            "     |      False\n",
            "     |  \n",
            "     |  is_floating(self) -> 'bool'\n",
            "     |      Check if the Index is a floating type.\n",
            "     |      \n",
            "     |      The Index may consist of only floats, NaNs, or a mix of floats,\n",
            "     |      integers, or NaNs.\n",
            "     |      \n",
            "     |      Returns\n",
            "     |      -------\n",
            "     |      bool\n",
            "     |          Whether or not the Index only consists of only consists of floats, NaNs, or\n",
            "     |          a mix of floats, integers, or NaNs.\n",
            "     |      \n",
            "     |      See Also\n",
            "     |      --------\n",
            "     |      is_boolean : Check if the Index only consists of booleans.\n",
            "     |      is_integer : Check if the Index only consists of integers.\n",
            "     |      is_numeric : Check if the Index only consists of numeric data.\n",
            "     |      is_object : Check if the Index is of the object dtype.\n",
            "     |      is_categorical : Check if the Index holds categorical data.\n",
            "     |      is_interval : Check if the Index holds Interval objects.\n",
            "     |      is_mixed : Check if the Index holds data with mixed data types.\n",
            "     |      \n",
            "     |      Examples\n",
            "     |      --------\n",
            "     |      >>> idx = pd.Index([1.0, 2.0, 3.0, 4.0])\n",
            "     |      >>> idx.is_floating()\n",
            "     |      True\n",
            "     |      \n",
            "     |      >>> idx = pd.Index([1.0, 2.0, np.nan, 4.0])\n",
            "     |      >>> idx.is_floating()\n",
            "     |      True\n",
            "     |      \n",
            "     |      >>> idx = pd.Index([1, 2, 3, 4, np.nan])\n",
            "     |      >>> idx.is_floating()\n",
            "     |      True\n",
            "     |      \n",
            "     |      >>> idx = pd.Index([1, 2, 3, 4])\n",
            "     |      >>> idx.is_floating()\n",
            "     |      False\n",
            "     |  \n",
            "     |  is_integer(self) -> 'bool'\n",
            "     |      Check if the Index only consists of integers.\n",
            "     |      \n",
            "     |      Returns\n",
            "     |      -------\n",
            "     |      bool\n",
            "     |          Whether or not the Index only consists of integers.\n",
            "     |      \n",
            "     |      See Also\n",
            "     |      --------\n",
            "     |      is_boolean : Check if the Index only consists of booleans.\n",
            "     |      is_floating : Check if the Index is a floating type.\n",
            "     |      is_numeric : Check if the Index only consists of numeric data.\n",
            "     |      is_object : Check if the Index is of the object dtype.\n",
            "     |      is_categorical : Check if the Index holds categorical data.\n",
            "     |      is_interval : Check if the Index holds Interval objects.\n",
            "     |      is_mixed : Check if the Index holds data with mixed data types.\n",
            "     |      \n",
            "     |      Examples\n",
            "     |      --------\n",
            "     |      >>> idx = pd.Index([1, 2, 3, 4])\n",
            "     |      >>> idx.is_integer()\n",
            "     |      True\n",
            "     |      \n",
            "     |      >>> idx = pd.Index([1.0, 2.0, 3.0, 4.0])\n",
            "     |      >>> idx.is_integer()\n",
            "     |      False\n",
            "     |      \n",
            "     |      >>> idx = pd.Index([\"Apple\", \"Mango\", \"Watermelon\"])\n",
            "     |      >>> idx.is_integer()\n",
            "     |      False\n",
            "     |  \n",
            "     |  is_interval(self) -> 'bool'\n",
            "     |      Check if the Index holds Interval objects.\n",
            "     |      \n",
            "     |      Returns\n",
            "     |      -------\n",
            "     |      bool\n",
            "     |          Whether or not the Index holds Interval objects.\n",
            "     |      \n",
            "     |      See Also\n",
            "     |      --------\n",
            "     |      IntervalIndex : Index for Interval objects.\n",
            "     |      is_boolean : Check if the Index only consists of booleans.\n",
            "     |      is_integer : Check if the Index only consists of integers.\n",
            "     |      is_floating : Check if the Index is a floating type.\n",
            "     |      is_numeric : Check if the Index only consists of numeric data.\n",
            "     |      is_object : Check if the Index is of the object dtype.\n",
            "     |      is_categorical : Check if the Index holds categorical data.\n",
            "     |      is_mixed : Check if the Index holds data with mixed data types.\n",
            "     |      \n",
            "     |      Examples\n",
            "     |      --------\n",
            "     |      >>> idx = pd.Index([pd.Interval(left=0, right=5),\n",
            "     |      ...                 pd.Interval(left=5, right=10)])\n",
            "     |      >>> idx.is_interval()\n",
            "     |      True\n",
            "     |      \n",
            "     |      >>> idx = pd.Index([1, 3, 5, 7])\n",
            "     |      >>> idx.is_interval()\n",
            "     |      False\n",
            "     |  \n",
            "     |  is_mixed(self) -> 'bool'\n",
            "     |      Check if the Index holds data with mixed data types.\n",
            "     |      \n",
            "     |      Returns\n",
            "     |      -------\n",
            "     |      bool\n",
            "     |          Whether or not the Index holds data with mixed data types.\n",
            "     |      \n",
            "     |      See Also\n",
            "     |      --------\n",
            "     |      is_boolean : Check if the Index only consists of booleans.\n",
            "     |      is_integer : Check if the Index only consists of integers.\n",
            "     |      is_floating : Check if the Index is a floating type.\n",
            "     |      is_numeric : Check if the Index only consists of numeric data.\n",
            "     |      is_object : Check if the Index is of the object dtype.\n",
            "     |      is_categorical : Check if the Index holds categorical data.\n",
            "     |      is_interval : Check if the Index holds Interval objects.\n",
            "     |      \n",
            "     |      Examples\n",
            "     |      --------\n",
            "     |      >>> idx = pd.Index(['a', np.nan, 'b'])\n",
            "     |      >>> idx.is_mixed()\n",
            "     |      True\n",
            "     |      \n",
            "     |      >>> idx = pd.Index([1.0, 2.0, 3.0, 5.0])\n",
            "     |      >>> idx.is_mixed()\n",
            "     |      False\n",
            "     |  \n",
            "     |  is_numeric(self) -> 'bool'\n",
            "     |      Check if the Index only consists of numeric data.\n",
            "     |      \n",
            "     |      Returns\n",
            "     |      -------\n",
            "     |      bool\n",
            "     |          Whether or not the Index only consists of numeric data.\n",
            "     |      \n",
            "     |      See Also\n",
            "     |      --------\n",
            "     |      is_boolean : Check if the Index only consists of booleans.\n",
            "     |      is_integer : Check if the Index only consists of integers.\n",
            "     |      is_floating : Check if the Index is a floating type.\n",
            "     |      is_object : Check if the Index is of the object dtype.\n",
            "     |      is_categorical : Check if the Index holds categorical data.\n",
            "     |      is_interval : Check if the Index holds Interval objects.\n",
            "     |      is_mixed : Check if the Index holds data with mixed data types.\n",
            "     |      \n",
            "     |      Examples\n",
            "     |      --------\n",
            "     |      >>> idx = pd.Index([1.0, 2.0, 3.0, 4.0])\n",
            "     |      >>> idx.is_numeric()\n",
            "     |      True\n",
            "     |      \n",
            "     |      >>> idx = pd.Index([1, 2, 3, 4.0])\n",
            "     |      >>> idx.is_numeric()\n",
            "     |      True\n",
            "     |      \n",
            "     |      >>> idx = pd.Index([1, 2, 3, 4])\n",
            "     |      >>> idx.is_numeric()\n",
            "     |      True\n",
            "     |      \n",
            "     |      >>> idx = pd.Index([1, 2, 3, 4.0, np.nan])\n",
            "     |      >>> idx.is_numeric()\n",
            "     |      True\n",
            "     |      \n",
            "     |      >>> idx = pd.Index([1, 2, 3, 4.0, np.nan, \"Apple\"])\n",
            "     |      >>> idx.is_numeric()\n",
            "     |      False\n",
            "     |  \n",
            "     |  is_object(self) -> 'bool'\n",
            "     |      Check if the Index is of the object dtype.\n",
            "     |      \n",
            "     |      Returns\n",
            "     |      -------\n",
            "     |      bool\n",
            "     |          Whether or not the Index is of the object dtype.\n",
            "     |      \n",
            "     |      See Also\n",
            "     |      --------\n",
            "     |      is_boolean : Check if the Index only consists of booleans.\n",
            "     |      is_integer : Check if the Index only consists of integers.\n",
            "     |      is_floating : Check if the Index is a floating type.\n",
            "     |      is_numeric : Check if the Index only consists of numeric data.\n",
            "     |      is_categorical : Check if the Index holds categorical data.\n",
            "     |      is_interval : Check if the Index holds Interval objects.\n",
            "     |      is_mixed : Check if the Index holds data with mixed data types.\n",
            "     |      \n",
            "     |      Examples\n",
            "     |      --------\n",
            "     |      >>> idx = pd.Index([\"Apple\", \"Mango\", \"Watermelon\"])\n",
            "     |      >>> idx.is_object()\n",
            "     |      True\n",
            "     |      \n",
            "     |      >>> idx = pd.Index([\"Apple\", \"Mango\", 2.0])\n",
            "     |      >>> idx.is_object()\n",
            "     |      True\n",
            "     |      \n",
            "     |      >>> idx = pd.Index([\"Watermelon\", \"Orange\", \"Apple\",\n",
            "     |      ...                 \"Watermelon\"]).astype(\"category\")\n",
            "     |      >>> idx.is_object()\n",
            "     |      False\n",
            "     |      \n",
            "     |      >>> idx = pd.Index([1.0, 2.0, 3.0, 4.0])\n",
            "     |      >>> idx.is_object()\n",
            "     |      False\n",
            "     |  \n",
            "     |  is_type_compatible(self, kind: 'str_t') -> 'bool'\n",
            "     |      Whether the index type is compatible with the provided type.\n",
            "     |  \n",
            "     |  isin(self, values, level=None) -> 'np.ndarray'\n",
            "     |      Return a boolean array where the index values are in `values`.\n",
            "     |      \n",
            "     |      Compute boolean array of whether each index value is found in the\n",
            "     |      passed set of values. The length of the returned boolean array matches\n",
            "     |      the length of the index.\n",
            "     |      \n",
            "     |      Parameters\n",
            "     |      ----------\n",
            "     |      values : set or list-like\n",
            "     |          Sought values.\n",
            "     |      level : str or int, optional\n",
            "     |          Name or position of the index level to use (if the index is a\n",
            "     |          `MultiIndex`).\n",
            "     |      \n",
            "     |      Returns\n",
            "     |      -------\n",
            "     |      np.ndarray[bool]\n",
            "     |          NumPy array of boolean values.\n",
            "     |      \n",
            "     |      See Also\n",
            "     |      --------\n",
            "     |      Series.isin : Same for Series.\n",
            "     |      DataFrame.isin : Same method for DataFrames.\n",
            "     |      \n",
            "     |      Notes\n",
            "     |      -----\n",
            "     |      In the case of `MultiIndex` you must either specify `values` as a\n",
            "     |      list-like object containing tuples that are the same length as the\n",
            "     |      number of levels, or specify `level`. Otherwise it will raise a\n",
            "     |      ``ValueError``.\n",
            "     |      \n",
            "     |      If `level` is specified:\n",
            "     |      \n",
            "     |      - if it is the name of one *and only one* index level, use that level;\n",
            "     |      - otherwise it should be a number indicating level position.\n",
            "     |      \n",
            "     |      Examples\n",
            "     |      --------\n",
            "     |      >>> idx = pd.Index([1,2,3])\n",
            "     |      >>> idx\n",
            "     |      Int64Index([1, 2, 3], dtype='int64')\n",
            "     |      \n",
            "     |      Check whether each index value in a list of values.\n",
            "     |      \n",
            "     |      >>> idx.isin([1, 4])\n",
            "     |      array([ True, False, False])\n",
            "     |      \n",
            "     |      >>> midx = pd.MultiIndex.from_arrays([[1,2,3],\n",
            "     |      ...                                  ['red', 'blue', 'green']],\n",
            "     |      ...                                  names=('number', 'color'))\n",
            "     |      >>> midx\n",
            "     |      MultiIndex([(1,   'red'),\n",
            "     |                  (2,  'blue'),\n",
            "     |                  (3, 'green')],\n",
            "     |                 names=['number', 'color'])\n",
            "     |      \n",
            "     |      Check whether the strings in the 'color' level of the MultiIndex\n",
            "     |      are in a list of colors.\n",
            "     |      \n",
            "     |      >>> midx.isin(['red', 'orange', 'yellow'], level='color')\n",
            "     |      array([ True, False, False])\n",
            "     |      \n",
            "     |      To check across the levels of a MultiIndex, pass a list of tuples:\n",
            "     |      \n",
            "     |      >>> midx.isin([(1, 'red'), (3, 'red')])\n",
            "     |      array([ True, False, False])\n",
            "     |      \n",
            "     |      For a DatetimeIndex, string values in `values` are converted to\n",
            "     |      Timestamps.\n",
            "     |      \n",
            "     |      >>> dates = ['2000-03-11', '2000-03-12', '2000-03-13']\n",
            "     |      >>> dti = pd.to_datetime(dates)\n",
            "     |      >>> dti\n",
            "     |      DatetimeIndex(['2000-03-11', '2000-03-12', '2000-03-13'],\n",
            "     |      dtype='datetime64[ns]', freq=None)\n",
            "     |      \n",
            "     |      >>> dti.isin(['2000-03-11'])\n",
            "     |      array([ True, False, False])\n",
            "     |  \n",
            "     |  isna(self) -> 'np.ndarray'\n",
            "     |      Detect missing values.\n",
            "     |      \n",
            "     |      Return a boolean same-sized object indicating if the values are NA.\n",
            "     |      NA values, such as ``None``, :attr:`numpy.NaN` or :attr:`pd.NaT`, get\n",
            "     |      mapped to ``True`` values.\n",
            "     |      Everything else get mapped to ``False`` values. Characters such as\n",
            "     |      empty strings `''` or :attr:`numpy.inf` are not considered NA values\n",
            "     |      (unless you set ``pandas.options.mode.use_inf_as_na = True``).\n",
            "     |      \n",
            "     |      Returns\n",
            "     |      -------\n",
            "     |      numpy.ndarray[bool]\n",
            "     |          A boolean array of whether my values are NA.\n",
            "     |      \n",
            "     |      See Also\n",
            "     |      --------\n",
            "     |      Index.notna : Boolean inverse of isna.\n",
            "     |      Index.dropna : Omit entries with missing values.\n",
            "     |      isna : Top-level isna.\n",
            "     |      Series.isna : Detect missing values in Series object.\n",
            "     |      \n",
            "     |      Examples\n",
            "     |      --------\n",
            "     |      Show which entries in a pandas.Index are NA. The result is an\n",
            "     |      array.\n",
            "     |      \n",
            "     |      >>> idx = pd.Index([5.2, 6.0, np.NaN])\n",
            "     |      >>> idx\n",
            "     |      Float64Index([5.2, 6.0, nan], dtype='float64')\n",
            "     |      >>> idx.isna()\n",
            "     |      array([False, False,  True])\n",
            "     |      \n",
            "     |      Empty strings are not considered NA values. None is considered an NA\n",
            "     |      value.\n",
            "     |      \n",
            "     |      >>> idx = pd.Index(['black', '', 'red', None])\n",
            "     |      >>> idx\n",
            "     |      Index(['black', '', 'red', None], dtype='object')\n",
            "     |      >>> idx.isna()\n",
            "     |      array([False, False, False,  True])\n",
            "     |      \n",
            "     |      For datetimes, `NaT` (Not a Time) is considered as an NA value.\n",
            "     |      \n",
            "     |      >>> idx = pd.DatetimeIndex([pd.Timestamp('1940-04-25'),\n",
            "     |      ...                         pd.Timestamp(''), None, pd.NaT])\n",
            "     |      >>> idx\n",
            "     |      DatetimeIndex(['1940-04-25', 'NaT', 'NaT', 'NaT'],\n",
            "     |                    dtype='datetime64[ns]', freq=None)\n",
            "     |      >>> idx.isna()\n",
            "     |      array([False,  True,  True,  True])\n",
            "     |  \n",
            "     |  isnull = isna(self) -> 'np.ndarray'\n",
            "     |  \n",
            "     |  join(self, other, how: 'str_t' = 'left', level=None, return_indexers: 'bool' = False, sort: 'bool' = False)\n",
            "     |      Compute join_index and indexers to conform data\n",
            "     |      structures to the new index.\n",
            "     |      \n",
            "     |      Parameters\n",
            "     |      ----------\n",
            "     |      other : Index\n",
            "     |      how : {'left', 'right', 'inner', 'outer'}\n",
            "     |      level : int or level name, default None\n",
            "     |      return_indexers : bool, default False\n",
            "     |      sort : bool, default False\n",
            "     |          Sort the join keys lexicographically in the result Index. If False,\n",
            "     |          the order of the join keys depends on the join type (how keyword).\n",
            "     |      \n",
            "     |      Returns\n",
            "     |      -------\n",
            "     |      join_index, (left_indexer, right_indexer)\n",
            "     |  \n",
            "     |  map(self, mapper, na_action=None)\n",
            "     |      Map values using input correspondence (a dict, Series, or function).\n",
            "     |      \n",
            "     |      Parameters\n",
            "     |      ----------\n",
            "     |      mapper : function, dict, or Series\n",
            "     |          Mapping correspondence.\n",
            "     |      na_action : {None, 'ignore'}\n",
            "     |          If 'ignore', propagate NA values, without passing them to the\n",
            "     |          mapping correspondence.\n",
            "     |      \n",
            "     |      Returns\n",
            "     |      -------\n",
            "     |      applied : Union[Index, MultiIndex], inferred\n",
            "     |          The output of the mapping function applied to the index.\n",
            "     |          If the function returns a tuple with more than one element\n",
            "     |          a MultiIndex will be returned.\n",
            "     |  \n",
            "     |  notna(self) -> 'np.ndarray'\n",
            "     |      Detect existing (non-missing) values.\n",
            "     |      \n",
            "     |      Return a boolean same-sized object indicating if the values are not NA.\n",
            "     |      Non-missing values get mapped to ``True``. Characters such as empty\n",
            "     |      strings ``''`` or :attr:`numpy.inf` are not considered NA values\n",
            "     |      (unless you set ``pandas.options.mode.use_inf_as_na = True``).\n",
            "     |      NA values, such as None or :attr:`numpy.NaN`, get mapped to ``False``\n",
            "     |      values.\n",
            "     |      \n",
            "     |      Returns\n",
            "     |      -------\n",
            "     |      numpy.ndarray[bool]\n",
            "     |          Boolean array to indicate which entries are not NA.\n",
            "     |      \n",
            "     |      See Also\n",
            "     |      --------\n",
            "     |      Index.notnull : Alias of notna.\n",
            "     |      Index.isna: Inverse of notna.\n",
            "     |      notna : Top-level notna.\n",
            "     |      \n",
            "     |      Examples\n",
            "     |      --------\n",
            "     |      Show which entries in an Index are not NA. The result is an\n",
            "     |      array.\n",
            "     |      \n",
            "     |      >>> idx = pd.Index([5.2, 6.0, np.NaN])\n",
            "     |      >>> idx\n",
            "     |      Float64Index([5.2, 6.0, nan], dtype='float64')\n",
            "     |      >>> idx.notna()\n",
            "     |      array([ True,  True, False])\n",
            "     |      \n",
            "     |      Empty strings are not considered NA values. None is considered a NA\n",
            "     |      value.\n",
            "     |      \n",
            "     |      >>> idx = pd.Index(['black', '', 'red', None])\n",
            "     |      >>> idx\n",
            "     |      Index(['black', '', 'red', None], dtype='object')\n",
            "     |      >>> idx.notna()\n",
            "     |      array([ True,  True,  True, False])\n",
            "     |  \n",
            "     |  notnull = notna(self) -> 'np.ndarray'\n",
            "     |  \n",
            "     |  putmask(self, mask, value) -> 'Index'\n",
            "     |      Return a new Index of the values set with the mask.\n",
            "     |      \n",
            "     |      Returns\n",
            "     |      -------\n",
            "     |      Index\n",
            "     |      \n",
            "     |      See Also\n",
            "     |      --------\n",
            "     |      numpy.ndarray.putmask : Changes elements of an array\n",
            "     |          based on conditional and input values.\n",
            "     |  \n",
            "     |  ravel(self, order='C')\n",
            "     |      Return an ndarray of the flattened values of the underlying data.\n",
            "     |      \n",
            "     |      Returns\n",
            "     |      -------\n",
            "     |      numpy.ndarray\n",
            "     |          Flattened array.\n",
            "     |      \n",
            "     |      See Also\n",
            "     |      --------\n",
            "     |      numpy.ndarray.ravel : Return a flattened array.\n",
            "     |  \n",
            "     |  reindex(self, target, method=None, level=None, limit=None, tolerance=None) -> 'tuple[Index, np.ndarray | None]'\n",
            "     |      Create index with target's values.\n",
            "     |      \n",
            "     |      Parameters\n",
            "     |      ----------\n",
            "     |      target : an iterable\n",
            "     |      \n",
            "     |      Returns\n",
            "     |      -------\n",
            "     |      new_index : pd.Index\n",
            "     |          Resulting index.\n",
            "     |      indexer : np.ndarray[np.intp] or None\n",
            "     |          Indices of output values in original index.\n",
            "     |  \n",
            "     |  rename(self, name, inplace=False)\n",
            "     |      Alter Index or MultiIndex name.\n",
            "     |      \n",
            "     |      Able to set new names without level. Defaults to returning new index.\n",
            "     |      Length of names must match number of levels in MultiIndex.\n",
            "     |      \n",
            "     |      Parameters\n",
            "     |      ----------\n",
            "     |      name : label or list of labels\n",
            "     |          Name(s) to set.\n",
            "     |      inplace : bool, default False\n",
            "     |          Modifies the object directly, instead of creating a new Index or\n",
            "     |          MultiIndex.\n",
            "     |      \n",
            "     |      Returns\n",
            "     |      -------\n",
            "     |      Index or None\n",
            "     |          The same type as the caller or None if ``inplace=True``.\n",
            "     |      \n",
            "     |      See Also\n",
            "     |      --------\n",
            "     |      Index.set_names : Able to set new names partially and by level.\n",
            "     |      \n",
            "     |      Examples\n",
            "     |      --------\n",
            "     |      >>> idx = pd.Index(['A', 'C', 'A', 'B'], name='score')\n",
            "     |      >>> idx.rename('grade')\n",
            "     |      Index(['A', 'C', 'A', 'B'], dtype='object', name='grade')\n",
            "     |      \n",
            "     |      >>> idx = pd.MultiIndex.from_product([['python', 'cobra'],\n",
            "     |      ...                                   [2018, 2019]],\n",
            "     |      ...                                   names=['kind', 'year'])\n",
            "     |      >>> idx\n",
            "     |      MultiIndex([('python', 2018),\n",
            "     |                  ('python', 2019),\n",
            "     |                  ( 'cobra', 2018),\n",
            "     |                  ( 'cobra', 2019)],\n",
            "     |                 names=['kind', 'year'])\n",
            "     |      >>> idx.rename(['species', 'year'])\n",
            "     |      MultiIndex([('python', 2018),\n",
            "     |                  ('python', 2019),\n",
            "     |                  ( 'cobra', 2018),\n",
            "     |                  ( 'cobra', 2019)],\n",
            "     |                 names=['species', 'year'])\n",
            "     |      >>> idx.rename('species')\n",
            "     |      Traceback (most recent call last):\n",
            "     |      TypeError: Must pass list-like as `names`.\n",
            "     |  \n",
            "     |  set_names(self, names, level=None, inplace: 'bool' = False)\n",
            "     |      Set Index or MultiIndex name.\n",
            "     |      \n",
            "     |      Able to set new names partially and by level.\n",
            "     |      \n",
            "     |      Parameters\n",
            "     |      ----------\n",
            "     |      \n",
            "     |      names : label or list of label or dict-like for MultiIndex\n",
            "     |          Name(s) to set.\n",
            "     |      \n",
            "     |          .. versionchanged:: 1.3.0\n",
            "     |      \n",
            "     |      level : int, label or list of int or label, optional\n",
            "     |          If the index is a MultiIndex and names is not dict-like, level(s) to set\n",
            "     |          (None for all levels). Otherwise level must be None.\n",
            "     |      \n",
            "     |          .. versionchanged:: 1.3.0\n",
            "     |      \n",
            "     |      inplace : bool, default False\n",
            "     |          Modifies the object directly, instead of creating a new Index or\n",
            "     |          MultiIndex.\n",
            "     |      \n",
            "     |      Returns\n",
            "     |      -------\n",
            "     |      Index or None\n",
            "     |          The same type as the caller or None if ``inplace=True``.\n",
            "     |      \n",
            "     |      See Also\n",
            "     |      --------\n",
            "     |      Index.rename : Able to set new names without level.\n",
            "     |      \n",
            "     |      Examples\n",
            "     |      --------\n",
            "     |      >>> idx = pd.Index([1, 2, 3, 4])\n",
            "     |      >>> idx\n",
            "     |      Int64Index([1, 2, 3, 4], dtype='int64')\n",
            "     |      >>> idx.set_names('quarter')\n",
            "     |      Int64Index([1, 2, 3, 4], dtype='int64', name='quarter')\n",
            "     |      \n",
            "     |      >>> idx = pd.MultiIndex.from_product([['python', 'cobra'],\n",
            "     |      ...                                   [2018, 2019]])\n",
            "     |      >>> idx\n",
            "     |      MultiIndex([('python', 2018),\n",
            "     |                  ('python', 2019),\n",
            "     |                  ( 'cobra', 2018),\n",
            "     |                  ( 'cobra', 2019)],\n",
            "     |                 )\n",
            "     |      >>> idx.set_names(['kind', 'year'], inplace=True)\n",
            "     |      >>> idx\n",
            "     |      MultiIndex([('python', 2018),\n",
            "     |                  ('python', 2019),\n",
            "     |                  ( 'cobra', 2018),\n",
            "     |                  ( 'cobra', 2019)],\n",
            "     |                 names=['kind', 'year'])\n",
            "     |      >>> idx.set_names('species', level=0)\n",
            "     |      MultiIndex([('python', 2018),\n",
            "     |                  ('python', 2019),\n",
            "     |                  ( 'cobra', 2018),\n",
            "     |                  ( 'cobra', 2019)],\n",
            "     |                 names=['species', 'year'])\n",
            "     |      \n",
            "     |      When renaming levels with a dict, levels can not be passed.\n",
            "     |      \n",
            "     |      >>> idx.set_names({'kind': 'snake'})\n",
            "     |      MultiIndex([('python', 2018),\n",
            "     |                  ('python', 2019),\n",
            "     |                  ( 'cobra', 2018),\n",
            "     |                  ( 'cobra', 2019)],\n",
            "     |                 names=['snake', 'year'])\n",
            "     |  \n",
            "     |  set_value(self, arr, key, value)\n",
            "     |      Fast lookup of value from 1-dimensional ndarray.\n",
            "     |      \n",
            "     |      .. deprecated:: 1.0\n",
            "     |      \n",
            "     |      Notes\n",
            "     |      -----\n",
            "     |      Only use this if you know what you're doing.\n",
            "     |  \n",
            "     |  shift(self, periods=1, freq=None)\n",
            "     |      Shift index by desired number of time frequency increments.\n",
            "     |      \n",
            "     |      This method is for shifting the values of datetime-like indexes\n",
            "     |      by a specified time increment a given number of times.\n",
            "     |      \n",
            "     |      Parameters\n",
            "     |      ----------\n",
            "     |      periods : int, default 1\n",
            "     |          Number of periods (or increments) to shift by,\n",
            "     |          can be positive or negative.\n",
            "     |      freq : pandas.DateOffset, pandas.Timedelta or str, optional\n",
            "     |          Frequency increment to shift by.\n",
            "     |          If None, the index is shifted by its own `freq` attribute.\n",
            "     |          Offset aliases are valid strings, e.g., 'D', 'W', 'M' etc.\n",
            "     |      \n",
            "     |      Returns\n",
            "     |      -------\n",
            "     |      pandas.Index\n",
            "     |          Shifted index.\n",
            "     |      \n",
            "     |      See Also\n",
            "     |      --------\n",
            "     |      Series.shift : Shift values of Series.\n",
            "     |      \n",
            "     |      Notes\n",
            "     |      -----\n",
            "     |      This method is only implemented for datetime-like index classes,\n",
            "     |      i.e., DatetimeIndex, PeriodIndex and TimedeltaIndex.\n",
            "     |      \n",
            "     |      Examples\n",
            "     |      --------\n",
            "     |      Put the first 5 month starts of 2011 into an index.\n",
            "     |      \n",
            "     |      >>> month_starts = pd.date_range('1/1/2011', periods=5, freq='MS')\n",
            "     |      >>> month_starts\n",
            "     |      DatetimeIndex(['2011-01-01', '2011-02-01', '2011-03-01', '2011-04-01',\n",
            "     |                     '2011-05-01'],\n",
            "     |                    dtype='datetime64[ns]', freq='MS')\n",
            "     |      \n",
            "     |      Shift the index by 10 days.\n",
            "     |      \n",
            "     |      >>> month_starts.shift(10, freq='D')\n",
            "     |      DatetimeIndex(['2011-01-11', '2011-02-11', '2011-03-11', '2011-04-11',\n",
            "     |                     '2011-05-11'],\n",
            "     |                    dtype='datetime64[ns]', freq=None)\n",
            "     |      \n",
            "     |      The default value of `freq` is the `freq` attribute of the index,\n",
            "     |      which is 'MS' (month start) in this example.\n",
            "     |      \n",
            "     |      >>> month_starts.shift(10)\n",
            "     |      DatetimeIndex(['2011-11-01', '2011-12-01', '2012-01-01', '2012-02-01',\n",
            "     |                     '2012-03-01'],\n",
            "     |                    dtype='datetime64[ns]', freq='MS')\n",
            "     |  \n",
            "     |  slice_indexer(self, start: 'Hashable | None' = None, end: 'Hashable | None' = None, step: 'int | None' = None, kind: 'str_t | None' = None) -> 'slice'\n",
            "     |      Compute the slice indexer for input labels and step.\n",
            "     |      \n",
            "     |      Index needs to be ordered and unique.\n",
            "     |      \n",
            "     |      Parameters\n",
            "     |      ----------\n",
            "     |      start : label, default None\n",
            "     |          If None, defaults to the beginning.\n",
            "     |      end : label, default None\n",
            "     |          If None, defaults to the end.\n",
            "     |      step : int, default None\n",
            "     |      kind : str, default None\n",
            "     |      \n",
            "     |      Returns\n",
            "     |      -------\n",
            "     |      indexer : slice\n",
            "     |      \n",
            "     |      Raises\n",
            "     |      ------\n",
            "     |      KeyError : If key does not exist, or key is not unique and index is\n",
            "     |          not ordered.\n",
            "     |      \n",
            "     |      Notes\n",
            "     |      -----\n",
            "     |      This function assumes that the data is sorted, so use at your own peril\n",
            "     |      \n",
            "     |      Examples\n",
            "     |      --------\n",
            "     |      This is a method on all index types. For example you can do:\n",
            "     |      \n",
            "     |      >>> idx = pd.Index(list('abcd'))\n",
            "     |      >>> idx.slice_indexer(start='b', end='c')\n",
            "     |      slice(1, 3, None)\n",
            "     |      \n",
            "     |      >>> idx = pd.MultiIndex.from_arrays([list('abcd'), list('efgh')])\n",
            "     |      >>> idx.slice_indexer(start='b', end=('c', 'g'))\n",
            "     |      slice(1, 3, None)\n",
            "     |  \n",
            "     |  slice_locs(self, start=None, end=None, step=None, kind=None)\n",
            "     |      Compute slice locations for input labels.\n",
            "     |      \n",
            "     |      Parameters\n",
            "     |      ----------\n",
            "     |      start : label, default None\n",
            "     |          If None, defaults to the beginning.\n",
            "     |      end : label, default None\n",
            "     |          If None, defaults to the end.\n",
            "     |      step : int, defaults None\n",
            "     |          If None, defaults to 1.\n",
            "     |      kind : {'loc', 'getitem'} or None\n",
            "     |      \n",
            "     |      Returns\n",
            "     |      -------\n",
            "     |      start, end : int\n",
            "     |      \n",
            "     |      See Also\n",
            "     |      --------\n",
            "     |      Index.get_loc : Get location for a single label.\n",
            "     |      \n",
            "     |      Notes\n",
            "     |      -----\n",
            "     |      This method only works if the index is monotonic or unique.\n",
            "     |      \n",
            "     |      Examples\n",
            "     |      --------\n",
            "     |      >>> idx = pd.Index(list('abcd'))\n",
            "     |      >>> idx.slice_locs(start='b', end='c')\n",
            "     |      (1, 3)\n",
            "     |  \n",
            "     |  sort(self, *args, **kwargs)\n",
            "     |      Use sort_values instead.\n",
            "     |  \n",
            "     |  sort_values(self, return_indexer: 'bool' = False, ascending: 'bool' = True, na_position: 'str_t' = 'last', key: 'Callable | None' = None)\n",
            "     |      Return a sorted copy of the index.\n",
            "     |      \n",
            "     |      Return a sorted copy of the index, and optionally return the indices\n",
            "     |      that sorted the index itself.\n",
            "     |      \n",
            "     |      Parameters\n",
            "     |      ----------\n",
            "     |      return_indexer : bool, default False\n",
            "     |          Should the indices that would sort the index be returned.\n",
            "     |      ascending : bool, default True\n",
            "     |          Should the index values be sorted in an ascending order.\n",
            "     |      na_position : {'first' or 'last'}, default 'last'\n",
            "     |          Argument 'first' puts NaNs at the beginning, 'last' puts NaNs at\n",
            "     |          the end.\n",
            "     |      \n",
            "     |          .. versionadded:: 1.2.0\n",
            "     |      \n",
            "     |      key : callable, optional\n",
            "     |          If not None, apply the key function to the index values\n",
            "     |          before sorting. This is similar to the `key` argument in the\n",
            "     |          builtin :meth:`sorted` function, with the notable difference that\n",
            "     |          this `key` function should be *vectorized*. It should expect an\n",
            "     |          ``Index`` and return an ``Index`` of the same shape.\n",
            "     |      \n",
            "     |          .. versionadded:: 1.1.0\n",
            "     |      \n",
            "     |      Returns\n",
            "     |      -------\n",
            "     |      sorted_index : pandas.Index\n",
            "     |          Sorted copy of the index.\n",
            "     |      indexer : numpy.ndarray, optional\n",
            "     |          The indices that the index itself was sorted by.\n",
            "     |      \n",
            "     |      See Also\n",
            "     |      --------\n",
            "     |      Series.sort_values : Sort values of a Series.\n",
            "     |      DataFrame.sort_values : Sort values in a DataFrame.\n",
            "     |      \n",
            "     |      Examples\n",
            "     |      --------\n",
            "     |      >>> idx = pd.Index([10, 100, 1, 1000])\n",
            "     |      >>> idx\n",
            "     |      Int64Index([10, 100, 1, 1000], dtype='int64')\n",
            "     |      \n",
            "     |      Sort values in ascending order (default behavior).\n",
            "     |      \n",
            "     |      >>> idx.sort_values()\n",
            "     |      Int64Index([1, 10, 100, 1000], dtype='int64')\n",
            "     |      \n",
            "     |      Sort values in descending order, and also get the indices `idx` was\n",
            "     |      sorted by.\n",
            "     |      \n",
            "     |      >>> idx.sort_values(ascending=False, return_indexer=True)\n",
            "     |      (Int64Index([1000, 100, 10, 1], dtype='int64'), array([3, 1, 0, 2]))\n",
            "     |  \n",
            "     |  sortlevel(self, level=None, ascending=True, sort_remaining=None)\n",
            "     |      For internal compatibility with the Index API.\n",
            "     |      \n",
            "     |      Sort the Index. This is for compat with MultiIndex\n",
            "     |      \n",
            "     |      Parameters\n",
            "     |      ----------\n",
            "     |      ascending : bool, default True\n",
            "     |          False to sort in descending order\n",
            "     |      \n",
            "     |      level, sort_remaining are compat parameters\n",
            "     |      \n",
            "     |      Returns\n",
            "     |      -------\n",
            "     |      Index\n",
            "     |  \n",
            "     |  to_flat_index(self)\n",
            "     |      Identity method.\n",
            "     |      \n",
            "     |      This is implemented for compatibility with subclass implementations\n",
            "     |      when chaining.\n",
            "     |      \n",
            "     |      Returns\n",
            "     |      -------\n",
            "     |      pd.Index\n",
            "     |          Caller.\n",
            "     |      \n",
            "     |      See Also\n",
            "     |      --------\n",
            "     |      MultiIndex.to_flat_index : Subclass implementation.\n",
            "     |  \n",
            "     |  to_frame(self, index: 'bool' = True, name: 'Hashable' = None) -> 'DataFrame'\n",
            "     |      Create a DataFrame with a column containing the Index.\n",
            "     |      \n",
            "     |      Parameters\n",
            "     |      ----------\n",
            "     |      index : bool, default True\n",
            "     |          Set the index of the returned DataFrame as the original Index.\n",
            "     |      \n",
            "     |      name : object, default None\n",
            "     |          The passed name should substitute for the index name (if it has\n",
            "     |          one).\n",
            "     |      \n",
            "     |      Returns\n",
            "     |      -------\n",
            "     |      DataFrame\n",
            "     |          DataFrame containing the original Index data.\n",
            "     |      \n",
            "     |      See Also\n",
            "     |      --------\n",
            "     |      Index.to_series : Convert an Index to a Series.\n",
            "     |      Series.to_frame : Convert Series to DataFrame.\n",
            "     |      \n",
            "     |      Examples\n",
            "     |      --------\n",
            "     |      >>> idx = pd.Index(['Ant', 'Bear', 'Cow'], name='animal')\n",
            "     |      >>> idx.to_frame()\n",
            "     |             animal\n",
            "     |      animal\n",
            "     |      Ant       Ant\n",
            "     |      Bear     Bear\n",
            "     |      Cow       Cow\n",
            "     |      \n",
            "     |      By default, the original Index is reused. To enforce a new Index:\n",
            "     |      \n",
            "     |      >>> idx.to_frame(index=False)\n",
            "     |          animal\n",
            "     |      0   Ant\n",
            "     |      1  Bear\n",
            "     |      2   Cow\n",
            "     |      \n",
            "     |      To override the name of the resulting column, specify `name`:\n",
            "     |      \n",
            "     |      >>> idx.to_frame(index=False, name='zoo')\n",
            "     |          zoo\n",
            "     |      0   Ant\n",
            "     |      1  Bear\n",
            "     |      2   Cow\n",
            "     |  \n",
            "     |  to_native_types(self, slicer=None, **kwargs) -> 'np.ndarray'\n",
            "     |      Format specified values of `self` and return them.\n",
            "     |      \n",
            "     |      .. deprecated:: 1.2.0\n",
            "     |      \n",
            "     |      Parameters\n",
            "     |      ----------\n",
            "     |      slicer : int, array-like\n",
            "     |          An indexer into `self` that specifies which values\n",
            "     |          are used in the formatting process.\n",
            "     |      kwargs : dict\n",
            "     |          Options for specifying how the values should be formatted.\n",
            "     |          These options include the following:\n",
            "     |      \n",
            "     |          1) na_rep : str\n",
            "     |              The value that serves as a placeholder for NULL values\n",
            "     |          2) quoting : bool or None\n",
            "     |              Whether or not there are quoted values in `self`\n",
            "     |          3) date_format : str\n",
            "     |              The format used to represent date-like values.\n",
            "     |      \n",
            "     |      Returns\n",
            "     |      -------\n",
            "     |      numpy.ndarray\n",
            "     |          Formatted values.\n",
            "     |  \n",
            "     |  to_series(self, index=None, name: 'Hashable' = None) -> 'Series'\n",
            "     |      Create a Series with both index and values equal to the index keys.\n",
            "     |      \n",
            "     |      Useful with map for returning an indexer based on an index.\n",
            "     |      \n",
            "     |      Parameters\n",
            "     |      ----------\n",
            "     |      index : Index, optional\n",
            "     |          Index of resulting Series. If None, defaults to original index.\n",
            "     |      name : str, optional\n",
            "     |          Name of resulting Series. If None, defaults to name of original\n",
            "     |          index.\n",
            "     |      \n",
            "     |      Returns\n",
            "     |      -------\n",
            "     |      Series\n",
            "     |          The dtype will be based on the type of the Index values.\n",
            "     |      \n",
            "     |      See Also\n",
            "     |      --------\n",
            "     |      Index.to_frame : Convert an Index to a DataFrame.\n",
            "     |      Series.to_frame : Convert Series to DataFrame.\n",
            "     |      \n",
            "     |      Examples\n",
            "     |      --------\n",
            "     |      >>> idx = pd.Index(['Ant', 'Bear', 'Cow'], name='animal')\n",
            "     |      \n",
            "     |      By default, the original Index and original name is reused.\n",
            "     |      \n",
            "     |      >>> idx.to_series()\n",
            "     |      animal\n",
            "     |      Ant      Ant\n",
            "     |      Bear    Bear\n",
            "     |      Cow      Cow\n",
            "     |      Name: animal, dtype: object\n",
            "     |      \n",
            "     |      To enforce a new Index, specify new labels to ``index``:\n",
            "     |      \n",
            "     |      >>> idx.to_series(index=[0, 1, 2])\n",
            "     |      0     Ant\n",
            "     |      1    Bear\n",
            "     |      2     Cow\n",
            "     |      Name: animal, dtype: object\n",
            "     |      \n",
            "     |      To override the name of the resulting column, specify `name`:\n",
            "     |      \n",
            "     |      >>> idx.to_series(name='zoo')\n",
            "     |      animal\n",
            "     |      Ant      Ant\n",
            "     |      Bear    Bear\n",
            "     |      Cow      Cow\n",
            "     |      Name: zoo, dtype: object\n",
            "     |  \n",
            "     |  union(self, other, sort=None)\n",
            "     |      Form the union of two Index objects.\n",
            "     |      \n",
            "     |      If the Index objects are incompatible, both Index objects will be\n",
            "     |      cast to dtype('object') first.\n",
            "     |      \n",
            "     |          .. versionchanged:: 0.25.0\n",
            "     |      \n",
            "     |      Parameters\n",
            "     |      ----------\n",
            "     |      other : Index or array-like\n",
            "     |      sort : bool or None, default None\n",
            "     |          Whether to sort the resulting Index.\n",
            "     |      \n",
            "     |          * None : Sort the result, except when\n",
            "     |      \n",
            "     |            1. `self` and `other` are equal.\n",
            "     |            2. `self` or `other` has length 0.\n",
            "     |            3. Some values in `self` or `other` cannot be compared.\n",
            "     |               A RuntimeWarning is issued in this case.\n",
            "     |      \n",
            "     |          * False : do not sort the result.\n",
            "     |      \n",
            "     |      Returns\n",
            "     |      -------\n",
            "     |      union : Index\n",
            "     |      \n",
            "     |      Examples\n",
            "     |      --------\n",
            "     |      Union matching dtypes\n",
            "     |      \n",
            "     |      >>> idx1 = pd.Index([1, 2, 3, 4])\n",
            "     |      >>> idx2 = pd.Index([3, 4, 5, 6])\n",
            "     |      >>> idx1.union(idx2)\n",
            "     |      Int64Index([1, 2, 3, 4, 5, 6], dtype='int64')\n",
            "     |      \n",
            "     |      Union mismatched dtypes\n",
            "     |      \n",
            "     |      >>> idx1 = pd.Index(['a', 'b', 'c', 'd'])\n",
            "     |      >>> idx2 = pd.Index([1, 2, 3, 4])\n",
            "     |      >>> idx1.union(idx2)\n",
            "     |      Index(['a', 'b', 'c', 'd', 1, 2, 3, 4], dtype='object')\n",
            "     |      \n",
            "     |      MultiIndex case\n",
            "     |      \n",
            "     |      >>> idx1 = pd.MultiIndex.from_arrays(\n",
            "     |      ...     [[1, 1, 2, 2], [\"Red\", \"Blue\", \"Red\", \"Blue\"]]\n",
            "     |      ... )\n",
            "     |      >>> idx1\n",
            "     |      MultiIndex([(1,  'Red'),\n",
            "     |          (1, 'Blue'),\n",
            "     |          (2,  'Red'),\n",
            "     |          (2, 'Blue')],\n",
            "     |         )\n",
            "     |      >>> idx2 = pd.MultiIndex.from_arrays(\n",
            "     |      ...     [[3, 3, 2, 2], [\"Red\", \"Green\", \"Red\", \"Green\"]]\n",
            "     |      ... )\n",
            "     |      >>> idx2\n",
            "     |      MultiIndex([(3,   'Red'),\n",
            "     |          (3, 'Green'),\n",
            "     |          (2,   'Red'),\n",
            "     |          (2, 'Green')],\n",
            "     |         )\n",
            "     |      >>> idx1.union(idx2)\n",
            "     |      MultiIndex([(1,  'Blue'),\n",
            "     |          (1,   'Red'),\n",
            "     |          (2,  'Blue'),\n",
            "     |          (2, 'Green'),\n",
            "     |          (2,   'Red'),\n",
            "     |          (3, 'Green'),\n",
            "     |          (3,   'Red')],\n",
            "     |         )\n",
            "     |      >>> idx1.union(idx2, sort=False)\n",
            "     |      MultiIndex([(1,   'Red'),\n",
            "     |          (1,  'Blue'),\n",
            "     |          (2,   'Red'),\n",
            "     |          (2,  'Blue'),\n",
            "     |          (3,   'Red'),\n",
            "     |          (3, 'Green'),\n",
            "     |          (2, 'Green')],\n",
            "     |         )\n",
            "     |  \n",
            "     |  unique(self: '_IndexT', level: 'Hashable | None' = None) -> '_IndexT'\n",
            "     |      Return unique values in the index.\n",
            "     |      \n",
            "     |      Unique values are returned in order of appearance, this does NOT sort.\n",
            "     |      \n",
            "     |      Parameters\n",
            "     |      ----------\n",
            "     |      level : int or hashable, optional\n",
            "     |          Only return values from specified level (for MultiIndex).\n",
            "     |          If int, gets the level by integer position, else by level name.\n",
            "     |      \n",
            "     |      Returns\n",
            "     |      -------\n",
            "     |      Index\n",
            "     |      \n",
            "     |      See Also\n",
            "     |      --------\n",
            "     |      unique : Numpy array of unique values in that column.\n",
            "     |      Series.unique : Return unique values of Series object.\n",
            "     |  \n",
            "     |  view(self, cls=None)\n",
            "     |  \n",
            "     |  where(self, cond, other=None) -> 'Index'\n",
            "     |      Replace values where the condition is False.\n",
            "     |      \n",
            "     |      The replacement is taken from other.\n",
            "     |      \n",
            "     |      Parameters\n",
            "     |      ----------\n",
            "     |      cond : bool array-like with the same length as self\n",
            "     |          Condition to select the values on.\n",
            "     |      other : scalar, or array-like, default None\n",
            "     |          Replacement if the condition is False.\n",
            "     |      \n",
            "     |      Returns\n",
            "     |      -------\n",
            "     |      pandas.Index\n",
            "     |          A copy of self with values replaced from other\n",
            "     |          where the condition is False.\n",
            "     |      \n",
            "     |      See Also\n",
            "     |      --------\n",
            "     |      Series.where : Same method for Series.\n",
            "     |      DataFrame.where : Same method for DataFrame.\n",
            "     |      \n",
            "     |      Examples\n",
            "     |      --------\n",
            "     |      >>> idx = pd.Index(['car', 'bike', 'train', 'tractor'])\n",
            "     |      >>> idx\n",
            "     |      Index(['car', 'bike', 'train', 'tractor'], dtype='object')\n",
            "     |      >>> idx.where(idx.isin(['car', 'train']), 'other')\n",
            "     |      Index(['car', 'other', 'train', 'other'], dtype='object')\n",
            "     |  \n",
            "     |  ----------------------------------------------------------------------\n",
            "     |  Readonly properties inherited from pandas.core.indexes.base.Index:\n",
            "     |  \n",
            "     |  asi8\n",
            "     |      Integer representation of the values.\n",
            "     |      \n",
            "     |      Returns\n",
            "     |      -------\n",
            "     |      ndarray\n",
            "     |          An ndarray with int64 dtype.\n",
            "     |  \n",
            "     |  has_duplicates\n",
            "     |      Check if the Index has duplicate values.\n",
            "     |      \n",
            "     |      Returns\n",
            "     |      -------\n",
            "     |      bool\n",
            "     |          Whether or not the Index has duplicate values.\n",
            "     |      \n",
            "     |      Examples\n",
            "     |      --------\n",
            "     |      >>> idx = pd.Index([1, 5, 7, 7])\n",
            "     |      >>> idx.has_duplicates\n",
            "     |      True\n",
            "     |      \n",
            "     |      >>> idx = pd.Index([1, 5, 7])\n",
            "     |      >>> idx.has_duplicates\n",
            "     |      False\n",
            "     |      \n",
            "     |      >>> idx = pd.Index([\"Watermelon\", \"Orange\", \"Apple\",\n",
            "     |      ...                 \"Watermelon\"]).astype(\"category\")\n",
            "     |      >>> idx.has_duplicates\n",
            "     |      True\n",
            "     |      \n",
            "     |      >>> idx = pd.Index([\"Orange\", \"Apple\",\n",
            "     |      ...                 \"Watermelon\"]).astype(\"category\")\n",
            "     |      >>> idx.has_duplicates\n",
            "     |      False\n",
            "     |  \n",
            "     |  is_monotonic\n",
            "     |      Alias for is_monotonic_increasing.\n",
            "     |  \n",
            "     |  nlevels\n",
            "     |      Number of levels.\n",
            "     |  \n",
            "     |  shape\n",
            "     |      Return a tuple of the shape of the underlying data.\n",
            "     |  \n",
            "     |  values\n",
            "     |      Return an array representing the data in the Index.\n",
            "     |      \n",
            "     |      .. warning::\n",
            "     |      \n",
            "     |         We recommend using :attr:`Index.array` or\n",
            "     |         :meth:`Index.to_numpy`, depending on whether you need\n",
            "     |         a reference to the underlying data or a NumPy array.\n",
            "     |      \n",
            "     |      Returns\n",
            "     |      -------\n",
            "     |      array: numpy.ndarray or ExtensionArray\n",
            "     |      \n",
            "     |      See Also\n",
            "     |      --------\n",
            "     |      Index.array : Reference to the underlying data.\n",
            "     |      Index.to_numpy : A NumPy array representing the underlying data.\n",
            "     |  \n",
            "     |  ----------------------------------------------------------------------\n",
            "     |  Data descriptors inherited from pandas.core.indexes.base.Index:\n",
            "     |  \n",
            "     |  array\n",
            "     |      The ExtensionArray of the data backing this Series or Index.\n",
            "     |      \n",
            "     |      Returns\n",
            "     |      -------\n",
            "     |      ExtensionArray\n",
            "     |          An ExtensionArray of the values stored within. For extension\n",
            "     |          types, this is the actual array. For NumPy native types, this\n",
            "     |          is a thin (no copy) wrapper around :class:`numpy.ndarray`.\n",
            "     |      \n",
            "     |          ``.array`` differs ``.values`` which may require converting the\n",
            "     |          data to a different form.\n",
            "     |      \n",
            "     |      See Also\n",
            "     |      --------\n",
            "     |      Index.to_numpy : Similar method that always returns a NumPy array.\n",
            "     |      Series.to_numpy : Similar method that always returns a NumPy array.\n",
            "     |      \n",
            "     |      Notes\n",
            "     |      -----\n",
            "     |      This table lays out the different array types for each extension\n",
            "     |      dtype within pandas.\n",
            "     |      \n",
            "     |      ================== =============================\n",
            "     |      dtype              array type\n",
            "     |      ================== =============================\n",
            "     |      category           Categorical\n",
            "     |      period             PeriodArray\n",
            "     |      interval           IntervalArray\n",
            "     |      IntegerNA          IntegerArray\n",
            "     |      string             StringArray\n",
            "     |      boolean            BooleanArray\n",
            "     |      datetime64[ns, tz] DatetimeArray\n",
            "     |      ================== =============================\n",
            "     |      \n",
            "     |      For any 3rd-party extension types, the array type will be an\n",
            "     |      ExtensionArray.\n",
            "     |      \n",
            "     |      For all remaining dtypes ``.array`` will be a\n",
            "     |      :class:`arrays.NumpyExtensionArray` wrapping the actual ndarray\n",
            "     |      stored within. If you absolutely need a NumPy array (possibly with\n",
            "     |      copying / coercing data), then use :meth:`Series.to_numpy` instead.\n",
            "     |      \n",
            "     |      Examples\n",
            "     |      --------\n",
            "     |      For regular NumPy types like int, and float, a PandasArray\n",
            "     |      is returned.\n",
            "     |      \n",
            "     |      >>> pd.Series([1, 2, 3]).array\n",
            "     |      <PandasArray>\n",
            "     |      [1, 2, 3]\n",
            "     |      Length: 3, dtype: int64\n",
            "     |      \n",
            "     |      For extension types, like Categorical, the actual ExtensionArray\n",
            "     |      is returned\n",
            "     |      \n",
            "     |      >>> ser = pd.Series(pd.Categorical(['a', 'b', 'a']))\n",
            "     |      >>> ser.array\n",
            "     |      ['a', 'b', 'a']\n",
            "     |      Categories (2, object): ['a', 'b']\n",
            "     |  \n",
            "     |  hasnans\n",
            "     |      Return if I have any nans; enables various perf speedups.\n",
            "     |  \n",
            "     |  is_all_dates\n",
            "     |      Whether or not the index values only consist of dates.\n",
            "     |  \n",
            "     |  name\n",
            "     |      Return Index or MultiIndex name.\n",
            "     |  \n",
            "     |  names\n",
            "     |  \n",
            "     |  ----------------------------------------------------------------------\n",
            "     |  Data and other attributes inherited from pandas.core.indexes.base.Index:\n",
            "     |  \n",
            "     |  str = <class 'pandas.core.strings.accessor.StringMethods'>\n",
            "     |      Vectorized string functions for Series and Index.\n",
            "     |      \n",
            "     |      NAs stay NA unless handled otherwise by a particular method.\n",
            "     |      Patterned after Python's string methods, with some inspiration from\n",
            "     |      R's stringr package.\n",
            "     |      \n",
            "     |      Examples\n",
            "     |      --------\n",
            "     |      >>> s = pd.Series([\"A_Str_Series\"])\n",
            "     |      >>> s\n",
            "     |      0    A_Str_Series\n",
            "     |      dtype: object\n",
            "     |      \n",
            "     |      >>> s.str.split(\"_\")\n",
            "     |      0    [A, Str, Series]\n",
            "     |      dtype: object\n",
            "     |      \n",
            "     |      >>> s.str.replace(\"_\", \"\")\n",
            "     |      0    AStrSeries\n",
            "     |      dtype: object\n",
            "     |  \n",
            "     |  \n",
            "     |  ----------------------------------------------------------------------\n",
            "     |  Methods inherited from pandas.core.base.IndexOpsMixin:\n",
            "     |  \n",
            "     |  argmax(self, axis=None, skipna: 'bool' = True, *args, **kwargs) -> 'int'\n",
            "     |      Return int position of the largest value in the Series.\n",
            "     |      \n",
            "     |      If the maximum is achieved in multiple locations,\n",
            "     |      the first row position is returned.\n",
            "     |      \n",
            "     |      Parameters\n",
            "     |      ----------\n",
            "     |      axis : {None}\n",
            "     |          Dummy argument for consistency with Series.\n",
            "     |      skipna : bool, default True\n",
            "     |          Exclude NA/null values when showing the result.\n",
            "     |      *args, **kwargs\n",
            "     |          Additional arguments and keywords for compatibility with NumPy.\n",
            "     |      \n",
            "     |      Returns\n",
            "     |      -------\n",
            "     |      int\n",
            "     |          Row position of the maximum value.\n",
            "     |      \n",
            "     |      See Also\n",
            "     |      --------\n",
            "     |      Series.argmax : Return position of the maximum value.\n",
            "     |      Series.argmin : Return position of the minimum value.\n",
            "     |      numpy.ndarray.argmax : Equivalent method for numpy arrays.\n",
            "     |      Series.idxmax : Return index label of the maximum values.\n",
            "     |      Series.idxmin : Return index label of the minimum values.\n",
            "     |      \n",
            "     |      Examples\n",
            "     |      --------\n",
            "     |      Consider dataset containing cereal calories\n",
            "     |      \n",
            "     |      >>> s = pd.Series({'Corn Flakes': 100.0, 'Almond Delight': 110.0,\n",
            "     |      ...                'Cinnamon Toast Crunch': 120.0, 'Cocoa Puff': 110.0})\n",
            "     |      >>> s\n",
            "     |      Corn Flakes              100.0\n",
            "     |      Almond Delight           110.0\n",
            "     |      Cinnamon Toast Crunch    120.0\n",
            "     |      Cocoa Puff               110.0\n",
            "     |      dtype: float64\n",
            "     |      \n",
            "     |      >>> s.argmax()\n",
            "     |      2\n",
            "     |      >>> s.argmin()\n",
            "     |      0\n",
            "     |      \n",
            "     |      The maximum cereal calories is the third element and\n",
            "     |      the minimum cereal calories is the first element,\n",
            "     |      since series is zero-indexed.\n",
            "     |  \n",
            "     |  argmin(self, axis=None, skipna=True, *args, **kwargs) -> 'int'\n",
            "     |      Return int position of the smallest value in the Series.\n",
            "     |      \n",
            "     |      If the minimum is achieved in multiple locations,\n",
            "     |      the first row position is returned.\n",
            "     |      \n",
            "     |      Parameters\n",
            "     |      ----------\n",
            "     |      axis : {None}\n",
            "     |          Dummy argument for consistency with Series.\n",
            "     |      skipna : bool, default True\n",
            "     |          Exclude NA/null values when showing the result.\n",
            "     |      *args, **kwargs\n",
            "     |          Additional arguments and keywords for compatibility with NumPy.\n",
            "     |      \n",
            "     |      Returns\n",
            "     |      -------\n",
            "     |      int\n",
            "     |          Row position of the minimum value.\n",
            "     |      \n",
            "     |      See Also\n",
            "     |      --------\n",
            "     |      Series.argmin : Return position of the minimum value.\n",
            "     |      Series.argmax : Return position of the maximum value.\n",
            "     |      numpy.ndarray.argmin : Equivalent method for numpy arrays.\n",
            "     |      Series.idxmax : Return index label of the maximum values.\n",
            "     |      Series.idxmin : Return index label of the minimum values.\n",
            "     |      \n",
            "     |      Examples\n",
            "     |      --------\n",
            "     |      Consider dataset containing cereal calories\n",
            "     |      \n",
            "     |      >>> s = pd.Series({'Corn Flakes': 100.0, 'Almond Delight': 110.0,\n",
            "     |      ...                'Cinnamon Toast Crunch': 120.0, 'Cocoa Puff': 110.0})\n",
            "     |      >>> s\n",
            "     |      Corn Flakes              100.0\n",
            "     |      Almond Delight           110.0\n",
            "     |      Cinnamon Toast Crunch    120.0\n",
            "     |      Cocoa Puff               110.0\n",
            "     |      dtype: float64\n",
            "     |      \n",
            "     |      >>> s.argmax()\n",
            "     |      2\n",
            "     |      >>> s.argmin()\n",
            "     |      0\n",
            "     |      \n",
            "     |      The maximum cereal calories is the third element and\n",
            "     |      the minimum cereal calories is the first element,\n",
            "     |      since series is zero-indexed.\n",
            "     |  \n",
            "     |  item(self)\n",
            "     |      Return the first element of the underlying data as a Python scalar.\n",
            "     |      \n",
            "     |      Returns\n",
            "     |      -------\n",
            "     |      scalar\n",
            "     |          The first element of %(klass)s.\n",
            "     |      \n",
            "     |      Raises\n",
            "     |      ------\n",
            "     |      ValueError\n",
            "     |          If the data is not length-1.\n",
            "     |  \n",
            "     |  nunique(self, dropna: 'bool' = True) -> 'int'\n",
            "     |      Return number of unique elements in the object.\n",
            "     |      \n",
            "     |      Excludes NA values by default.\n",
            "     |      \n",
            "     |      Parameters\n",
            "     |      ----------\n",
            "     |      dropna : bool, default True\n",
            "     |          Don't include NaN in the count.\n",
            "     |      \n",
            "     |      Returns\n",
            "     |      -------\n",
            "     |      int\n",
            "     |      \n",
            "     |      See Also\n",
            "     |      --------\n",
            "     |      DataFrame.nunique: Method nunique for DataFrame.\n",
            "     |      Series.count: Count non-NA/null observations in the Series.\n",
            "     |      \n",
            "     |      Examples\n",
            "     |      --------\n",
            "     |      >>> s = pd.Series([1, 3, 5, 7, 7])\n",
            "     |      >>> s\n",
            "     |      0    1\n",
            "     |      1    3\n",
            "     |      2    5\n",
            "     |      3    7\n",
            "     |      4    7\n",
            "     |      dtype: int64\n",
            "     |      \n",
            "     |      >>> s.nunique()\n",
            "     |      4\n",
            "     |  \n",
            "     |  searchsorted(self, value, side='left', sorter=None) -> 'np.ndarray'\n",
            "     |      Find indices where elements should be inserted to maintain order.\n",
            "     |      \n",
            "     |      Find the indices into a sorted Index `self` such that, if the\n",
            "     |      corresponding elements in `value` were inserted before the indices,\n",
            "     |      the order of `self` would be preserved.\n",
            "     |      \n",
            "     |      .. note::\n",
            "     |      \n",
            "     |          The Index *must* be monotonically sorted, otherwise\n",
            "     |          wrong locations will likely be returned. Pandas does *not*\n",
            "     |          check this for you.\n",
            "     |      \n",
            "     |      Parameters\n",
            "     |      ----------\n",
            "     |      value : array-like\n",
            "     |          Values to insert into `self`.\n",
            "     |      side : {'left', 'right'}, optional\n",
            "     |          If 'left', the index of the first suitable location found is given.\n",
            "     |          If 'right', return the last such index.  If there is no suitable\n",
            "     |          index, return either 0 or N (where N is the length of `self`).\n",
            "     |      sorter : 1-D array-like, optional\n",
            "     |          Optional array of integer indices that sort `self` into ascending\n",
            "     |          order. They are typically the result of ``np.argsort``.\n",
            "     |      \n",
            "     |      Returns\n",
            "     |      -------\n",
            "     |      int or array of int\n",
            "     |          A scalar or array of insertion points with the\n",
            "     |          same shape as `value`.\n",
            "     |      \n",
            "     |      See Also\n",
            "     |      --------\n",
            "     |      sort_values : Sort by the values along either axis.\n",
            "     |      numpy.searchsorted : Similar method from NumPy.\n",
            "     |      \n",
            "     |      Notes\n",
            "     |      -----\n",
            "     |      Binary search is used to find the required insertion points.\n",
            "     |      \n",
            "     |      Examples\n",
            "     |      --------\n",
            "     |      >>> ser = pd.Series([1, 2, 3])\n",
            "     |      >>> ser\n",
            "     |      0    1\n",
            "     |      1    2\n",
            "     |      2    3\n",
            "     |      dtype: int64\n",
            "     |      \n",
            "     |      >>> ser.searchsorted(4)\n",
            "     |      3\n",
            "     |      \n",
            "     |      >>> ser.searchsorted([0, 4])\n",
            "     |      array([0, 3])\n",
            "     |      \n",
            "     |      >>> ser.searchsorted([1, 3], side='left')\n",
            "     |      array([0, 2])\n",
            "     |      \n",
            "     |      >>> ser.searchsorted([1, 3], side='right')\n",
            "     |      array([1, 3])\n",
            "     |      \n",
            "     |      >>> ser = pd.Series(pd.to_datetime(['3/11/2000', '3/12/2000', '3/13/2000']))\n",
            "     |      >>> ser\n",
            "     |      0   2000-03-11\n",
            "     |      1   2000-03-12\n",
            "     |      2   2000-03-13\n",
            "     |      dtype: datetime64[ns]\n",
            "     |      \n",
            "     |      >>> ser.searchsorted('3/14/2000')\n",
            "     |      3\n",
            "     |      \n",
            "     |      >>> ser = pd.Categorical(\n",
            "     |      ...     ['apple', 'bread', 'bread', 'cheese', 'milk'], ordered=True\n",
            "     |      ... )\n",
            "     |      >>> ser\n",
            "     |      ['apple', 'bread', 'bread', 'cheese', 'milk']\n",
            "     |      Categories (4, object): ['apple' < 'bread' < 'cheese' < 'milk']\n",
            "     |      \n",
            "     |      >>> ser.searchsorted('bread')\n",
            "     |      1\n",
            "     |      \n",
            "     |      >>> ser.searchsorted(['bread'], side='right')\n",
            "     |      array([3])\n",
            "     |      \n",
            "     |      If the values are not monotonically sorted, wrong locations\n",
            "     |      may be returned:\n",
            "     |      \n",
            "     |      >>> ser = pd.Series([2, 1, 3])\n",
            "     |      >>> ser\n",
            "     |      0    2\n",
            "     |      1    1\n",
            "     |      2    3\n",
            "     |      dtype: int64\n",
            "     |      \n",
            "     |      >>> ser.searchsorted(1)  # doctest: +SKIP\n",
            "     |      0  # wrong result, correct would be 1\n",
            "     |  \n",
            "     |  to_list = tolist(self)\n",
            "     |      Return a list of the values.\n",
            "     |      \n",
            "     |      These are each a scalar type, which is a Python scalar\n",
            "     |      (for str, int, float) or a pandas scalar\n",
            "     |      (for Timestamp/Timedelta/Interval/Period)\n",
            "     |      \n",
            "     |      Returns\n",
            "     |      -------\n",
            "     |      list\n",
            "     |      \n",
            "     |      See Also\n",
            "     |      --------\n",
            "     |      numpy.ndarray.tolist : Return the array as an a.ndim-levels deep\n",
            "     |          nested list of Python scalars.\n",
            "     |  \n",
            "     |  to_numpy(self, dtype: 'Dtype | None' = None, copy: 'bool' = False, na_value=<no_default>, **kwargs) -> 'np.ndarray'\n",
            "     |      A NumPy ndarray representing the values in this Series or Index.\n",
            "     |      \n",
            "     |      Parameters\n",
            "     |      ----------\n",
            "     |      dtype : str or numpy.dtype, optional\n",
            "     |          The dtype to pass to :meth:`numpy.asarray`.\n",
            "     |      copy : bool, default False\n",
            "     |          Whether to ensure that the returned value is not a view on\n",
            "     |          another array. Note that ``copy=False`` does not *ensure* that\n",
            "     |          ``to_numpy()`` is no-copy. Rather, ``copy=True`` ensure that\n",
            "     |          a copy is made, even if not strictly necessary.\n",
            "     |      na_value : Any, optional\n",
            "     |          The value to use for missing values. The default value depends\n",
            "     |          on `dtype` and the type of the array.\n",
            "     |      \n",
            "     |          .. versionadded:: 1.0.0\n",
            "     |      \n",
            "     |      **kwargs\n",
            "     |          Additional keywords passed through to the ``to_numpy`` method\n",
            "     |          of the underlying array (for extension arrays).\n",
            "     |      \n",
            "     |          .. versionadded:: 1.0.0\n",
            "     |      \n",
            "     |      Returns\n",
            "     |      -------\n",
            "     |      numpy.ndarray\n",
            "     |      \n",
            "     |      See Also\n",
            "     |      --------\n",
            "     |      Series.array : Get the actual data stored within.\n",
            "     |      Index.array : Get the actual data stored within.\n",
            "     |      DataFrame.to_numpy : Similar method for DataFrame.\n",
            "     |      \n",
            "     |      Notes\n",
            "     |      -----\n",
            "     |      The returned array will be the same up to equality (values equal\n",
            "     |      in `self` will be equal in the returned array; likewise for values\n",
            "     |      that are not equal). When `self` contains an ExtensionArray, the\n",
            "     |      dtype may be different. For example, for a category-dtype Series,\n",
            "     |      ``to_numpy()`` will return a NumPy array and the categorical dtype\n",
            "     |      will be lost.\n",
            "     |      \n",
            "     |      For NumPy dtypes, this will be a reference to the actual data stored\n",
            "     |      in this Series or Index (assuming ``copy=False``). Modifying the result\n",
            "     |      in place will modify the data stored in the Series or Index (not that\n",
            "     |      we recommend doing that).\n",
            "     |      \n",
            "     |      For extension types, ``to_numpy()`` *may* require copying data and\n",
            "     |      coercing the result to a NumPy type (possibly object), which may be\n",
            "     |      expensive. When you need a no-copy reference to the underlying data,\n",
            "     |      :attr:`Series.array` should be used instead.\n",
            "     |      \n",
            "     |      This table lays out the different dtypes and default return types of\n",
            "     |      ``to_numpy()`` for various dtypes within pandas.\n",
            "     |      \n",
            "     |      ================== ================================\n",
            "     |      dtype              array type\n",
            "     |      ================== ================================\n",
            "     |      category[T]        ndarray[T] (same dtype as input)\n",
            "     |      period             ndarray[object] (Periods)\n",
            "     |      interval           ndarray[object] (Intervals)\n",
            "     |      IntegerNA          ndarray[object]\n",
            "     |      datetime64[ns]     datetime64[ns]\n",
            "     |      datetime64[ns, tz] ndarray[object] (Timestamps)\n",
            "     |      ================== ================================\n",
            "     |      \n",
            "     |      Examples\n",
            "     |      --------\n",
            "     |      >>> ser = pd.Series(pd.Categorical(['a', 'b', 'a']))\n",
            "     |      >>> ser.to_numpy()\n",
            "     |      array(['a', 'b', 'a'], dtype=object)\n",
            "     |      \n",
            "     |      Specify the `dtype` to control how datetime-aware data is represented.\n",
            "     |      Use ``dtype=object`` to return an ndarray of pandas :class:`Timestamp`\n",
            "     |      objects, each with the correct ``tz``.\n",
            "     |      \n",
            "     |      >>> ser = pd.Series(pd.date_range('2000', periods=2, tz=\"CET\"))\n",
            "     |      >>> ser.to_numpy(dtype=object)\n",
            "     |      array([Timestamp('2000-01-01 00:00:00+0100', tz='CET'),\n",
            "     |             Timestamp('2000-01-02 00:00:00+0100', tz='CET')],\n",
            "     |            dtype=object)\n",
            "     |      \n",
            "     |      Or ``dtype='datetime64[ns]'`` to return an ndarray of native\n",
            "     |      datetime64 values. The values are converted to UTC and the timezone\n",
            "     |      info is dropped.\n",
            "     |      \n",
            "     |      >>> ser.to_numpy(dtype=\"datetime64[ns]\")\n",
            "     |      ... # doctest: +ELLIPSIS\n",
            "     |      array(['1999-12-31T23:00:00.000000000', '2000-01-01T23:00:00...'],\n",
            "     |            dtype='datetime64[ns]')\n",
            "     |  \n",
            "     |  transpose(self: '_T', *args, **kwargs) -> '_T'\n",
            "     |      Return the transpose, which is by definition self.\n",
            "     |      \n",
            "     |      Returns\n",
            "     |      -------\n",
            "     |      %(klass)s\n",
            "     |  \n",
            "     |  value_counts(self, normalize: 'bool' = False, sort: 'bool' = True, ascending: 'bool' = False, bins=None, dropna: 'bool' = True)\n",
            "     |      Return a Series containing counts of unique values.\n",
            "     |      \n",
            "     |      The resulting object will be in descending order so that the\n",
            "     |      first element is the most frequently-occurring element.\n",
            "     |      Excludes NA values by default.\n",
            "     |      \n",
            "     |      Parameters\n",
            "     |      ----------\n",
            "     |      normalize : bool, default False\n",
            "     |          If True then the object returned will contain the relative\n",
            "     |          frequencies of the unique values.\n",
            "     |      sort : bool, default True\n",
            "     |          Sort by frequencies.\n",
            "     |      ascending : bool, default False\n",
            "     |          Sort in ascending order.\n",
            "     |      bins : int, optional\n",
            "     |          Rather than count values, group them into half-open bins,\n",
            "     |          a convenience for ``pd.cut``, only works with numeric data.\n",
            "     |      dropna : bool, default True\n",
            "     |          Don't include counts of NaN.\n",
            "     |      \n",
            "     |      Returns\n",
            "     |      -------\n",
            "     |      Series\n",
            "     |      \n",
            "     |      See Also\n",
            "     |      --------\n",
            "     |      Series.count: Number of non-NA elements in a Series.\n",
            "     |      DataFrame.count: Number of non-NA elements in a DataFrame.\n",
            "     |      DataFrame.value_counts: Equivalent method on DataFrames.\n",
            "     |      \n",
            "     |      Examples\n",
            "     |      --------\n",
            "     |      >>> index = pd.Index([3, 1, 2, 3, 4, np.nan])\n",
            "     |      >>> index.value_counts()\n",
            "     |      3.0    2\n",
            "     |      1.0    1\n",
            "     |      2.0    1\n",
            "     |      4.0    1\n",
            "     |      dtype: int64\n",
            "     |      \n",
            "     |      With `normalize` set to `True`, returns the relative frequency by\n",
            "     |      dividing all values by the sum of values.\n",
            "     |      \n",
            "     |      >>> s = pd.Series([3, 1, 2, 3, 4, np.nan])\n",
            "     |      >>> s.value_counts(normalize=True)\n",
            "     |      3.0    0.4\n",
            "     |      1.0    0.2\n",
            "     |      2.0    0.2\n",
            "     |      4.0    0.2\n",
            "     |      dtype: float64\n",
            "     |      \n",
            "     |      **bins**\n",
            "     |      \n",
            "     |      Bins can be useful for going from a continuous variable to a\n",
            "     |      categorical variable; instead of counting unique\n",
            "     |      apparitions of values, divide the index in the specified\n",
            "     |      number of half-open bins.\n",
            "     |      \n",
            "     |      >>> s.value_counts(bins=3)\n",
            "     |      (0.996, 2.0]    2\n",
            "     |      (2.0, 3.0]      2\n",
            "     |      (3.0, 4.0]      1\n",
            "     |      dtype: int64\n",
            "     |      \n",
            "     |      **dropna**\n",
            "     |      \n",
            "     |      With `dropna` set to `False` we can also see NaN index values.\n",
            "     |      \n",
            "     |      >>> s.value_counts(dropna=False)\n",
            "     |      3.0    2\n",
            "     |      1.0    1\n",
            "     |      2.0    1\n",
            "     |      4.0    1\n",
            "     |      NaN    1\n",
            "     |      dtype: int64\n",
            "     |  \n",
            "     |  ----------------------------------------------------------------------\n",
            "     |  Readonly properties inherited from pandas.core.base.IndexOpsMixin:\n",
            "     |  \n",
            "     |  T\n",
            "     |      Return the transpose, which is by definition self.\n",
            "     |  \n",
            "     |  empty\n",
            "     |  \n",
            "     |  ndim\n",
            "     |      Number of dimensions of the underlying data, by definition 1.\n",
            "     |  \n",
            "     |  ----------------------------------------------------------------------\n",
            "     |  Data and other attributes inherited from pandas.core.base.IndexOpsMixin:\n",
            "     |  \n",
            "     |  __array_priority__ = 1000\n",
            "     |  \n",
            "     |  ----------------------------------------------------------------------\n",
            "     |  Methods inherited from pandas.core.arraylike.OpsMixin:\n",
            "     |  \n",
            "     |  __add__(self, other)\n",
            "     |  \n",
            "     |  __divmod__(self, other)\n",
            "     |  \n",
            "     |  __eq__(self, other)\n",
            "     |      Return self==value.\n",
            "     |  \n",
            "     |  __ge__(self, other)\n",
            "     |      Return self>=value.\n",
            "     |  \n",
            "     |  __gt__(self, other)\n",
            "     |      Return self>value.\n",
            "     |  \n",
            "     |  __le__(self, other)\n",
            "     |      Return self<=value.\n",
            "     |  \n",
            "     |  __lt__(self, other)\n",
            "     |      Return self<value.\n",
            "     |  \n",
            "     |  __mod__(self, other)\n",
            "     |  \n",
            "     |  __mul__(self, other)\n",
            "     |  \n",
            "     |  __ne__(self, other)\n",
            "     |      Return self!=value.\n",
            "     |  \n",
            "     |  __pow__(self, other)\n",
            "     |  \n",
            "     |  __radd__(self, other)\n",
            "     |  \n",
            "     |  __rand__(self, other)\n",
            "     |  \n",
            "     |  __rdivmod__(self, other)\n",
            "     |  \n",
            "     |  __rfloordiv__(self, other)\n",
            "     |  \n",
            "     |  __rmod__(self, other)\n",
            "     |  \n",
            "     |  __rmul__(self, other)\n",
            "     |  \n",
            "     |  __ror__(self, other)\n",
            "     |  \n",
            "     |  __rpow__(self, other)\n",
            "     |  \n",
            "     |  __rsub__(self, other)\n",
            "     |  \n",
            "     |  __rtruediv__(self, other)\n",
            "     |  \n",
            "     |  __rxor__(self, other)\n",
            "     |  \n",
            "     |  __sub__(self, other)\n",
            "     |  \n",
            "     |  __truediv__(self, other)\n",
            "     |  \n",
            "     |  ----------------------------------------------------------------------\n",
            "     |  Data descriptors inherited from pandas.core.arraylike.OpsMixin:\n",
            "     |  \n",
            "     |  __dict__\n",
            "     |      dictionary for instance variables (if defined)\n",
            "     |  \n",
            "     |  __weakref__\n",
            "     |      list of weak references to the object (if defined)\n",
            "     |  \n",
            "     |  ----------------------------------------------------------------------\n",
            "     |  Data and other attributes inherited from pandas.core.arraylike.OpsMixin:\n",
            "     |  \n",
            "     |  __hash__ = None\n",
            "     |  \n",
            "     |  ----------------------------------------------------------------------\n",
            "     |  Methods inherited from pandas.core.base.PandasObject:\n",
            "     |  \n",
            "     |  __sizeof__(self) -> 'int'\n",
            "     |      Generates the total memory usage for an object that returns\n",
            "     |      either a value or Series of values\n",
            "     |  \n",
            "     |  ----------------------------------------------------------------------\n",
            "     |  Methods inherited from pandas.core.accessor.DirNamesMixin:\n",
            "     |  \n",
            "     |  __dir__(self) -> 'list[str]'\n",
            "     |      Provide method name lookup and completion.\n",
            "     |      \n",
            "     |      Notes\n",
            "     |      -----\n",
            "     |      Only provide 'public' methods.\n",
            "\n",
            "FUNCTIONS\n",
            "    ensure_platform_int(...)\n",
            "    \n",
            "    getsizeof(...)\n",
            "        getsizeof(object [, default]) -> int\n",
            "        \n",
            "        Return the size of object in bytes.\n",
            "    \n",
            "    is_float(...)\n",
            "        Return True if given object is float.\n",
            "        \n",
            "        Returns\n",
            "        -------\n",
            "        bool\n",
            "    \n",
            "    is_integer(...)\n",
            "        Return True if given object is integer.\n",
            "        \n",
            "        Returns\n",
            "        -------\n",
            "        bool\n",
            "    \n",
            "    is_scalar(...)\n",
            "        Return True if given object is scalar.\n",
            "        \n",
            "        Parameters\n",
            "        ----------\n",
            "        val : object\n",
            "            This includes:\n",
            "        \n",
            "            - numpy array scalar (e.g. np.int64)\n",
            "            - Python builtin numerics\n",
            "            - Python builtin byte arrays and strings\n",
            "            - None\n",
            "            - datetime.datetime\n",
            "            - datetime.timedelta\n",
            "            - Period\n",
            "            - decimal.Decimal\n",
            "            - Interval\n",
            "            - DateOffset\n",
            "            - Fraction\n",
            "            - Number.\n",
            "        \n",
            "        Returns\n",
            "        -------\n",
            "        bool\n",
            "            Return True if given object is scalar.\n",
            "        \n",
            "        Examples\n",
            "        --------\n",
            "        >>> dt = datetime.datetime(2018, 10, 3)\n",
            "        >>> pd.api.types.is_scalar(dt)\n",
            "        True\n",
            "        \n",
            "        >>> pd.api.types.is_scalar([2, 3])\n",
            "        False\n",
            "        \n",
            "        >>> pd.api.types.is_scalar({0: 1, 2: 3})\n",
            "        False\n",
            "        \n",
            "        >>> pd.api.types.is_scalar((0, 2))\n",
            "        False\n",
            "        \n",
            "        pandas supports PEP 3141 numbers:\n",
            "        \n",
            "        >>> from fractions import Fraction\n",
            "        >>> pd.api.types.is_scalar(Fraction(3, 5))\n",
            "        True\n",
            "\n",
            "DATA\n",
            "    Any = typing.Any\n",
            "        Special type indicating an unconstrained type.\n",
            "        \n",
            "        - Any is compatible with every type.\n",
            "        - Any assumed to have all methods.\n",
            "        - All values assumed to be instances of Any.\n",
            "        \n",
            "        Note that all the above statements are true from the point of view of\n",
            "        static type checkers. At runtime, Any should not be used with instance\n",
            "        or class checks.\n",
            "    \n",
            "    Callable = typing.Callable\n",
            "        Callable type; Callable[[int], str] is a function of (int) -> str.\n",
            "        \n",
            "        The subscription syntax must always be used with exactly two\n",
            "        values: the argument list and the return type.  The argument list\n",
            "        must be a list of types or ellipsis; the return type must be a single type.\n",
            "        \n",
            "        There is no syntax to indicate optional or keyword arguments,\n",
            "        such function types are rarely used as callback types.\n",
            "    \n",
            "    Dtype = typing.Union[ForwardRef('ExtensionDtype'), str, ...g.Union[str...\n",
            "    Hashable = typing.Hashable\n",
            "        A generic version of collections.abc.Hashable.\n",
            "    \n",
            "    List = typing.List\n",
            "        A generic version of list.\n",
            "    \n",
            "    TYPE_CHECKING = False\n",
            "    annotations = _Feature((3, 7, 0, 'beta', 1), (3, 10, 0, 'alpha', 0), 1...\n",
            "    no_default = <no_default>\n",
            "\n",
            "FILE\n",
            "    c:\\users\\hp\\anaconda3\\lib\\site-packages\\pandas\\core\\indexes\\range.py\n",
            "\n",
            "\n"
          ]
        }
      ],
      "source": [
        "help(pd.core.indexes.range)"
      ]
    },
    {
      "cell_type": "code",
      "execution_count": null,
      "id": "0f7e5f42",
      "metadata": {
        "id": "0f7e5f42",
        "outputId": "94ec85c8-f7d8-4b09-c0a4-d27f55d80df7"
      },
      "outputs": [
        {
          "name": "stdout",
          "output_type": "stream",
          "text": [
            "Help on class RangeIndex in module pandas.core.indexes.range:\n",
            "\n",
            "class RangeIndex(pandas.core.indexes.numeric.NumericIndex)\n",
            " |  RangeIndex(start=None, stop=None, step=None, dtype: 'Dtype | None' = None, copy: 'bool' = False, name: 'Hashable' = None) -> 'RangeIndex'\n",
            " |  \n",
            " |  Immutable Index implementing a monotonic integer range.\n",
            " |  \n",
            " |  RangeIndex is a memory-saving special case of Int64Index limited to\n",
            " |  representing monotonic ranges. Using RangeIndex may in some instances\n",
            " |  improve computing speed.\n",
            " |  \n",
            " |  This is the default index type used\n",
            " |  by DataFrame and Series when no explicit index is provided by the user.\n",
            " |  \n",
            " |  Parameters\n",
            " |  ----------\n",
            " |  start : int (default: 0), range, or other RangeIndex instance\n",
            " |      If int and \"stop\" is not given, interpreted as \"stop\" instead.\n",
            " |  stop : int (default: 0)\n",
            " |  step : int (default: 1)\n",
            " |  dtype : np.int64\n",
            " |      Unused, accepted for homogeneity with other index types.\n",
            " |  copy : bool, default False\n",
            " |      Unused, accepted for homogeneity with other index types.\n",
            " |  name : object, optional\n",
            " |      Name to be stored in the index.\n",
            " |  \n",
            " |  Attributes\n",
            " |  ----------\n",
            " |  start\n",
            " |  stop\n",
            " |  step\n",
            " |  \n",
            " |  Methods\n",
            " |  -------\n",
            " |  from_range\n",
            " |  \n",
            " |  See Also\n",
            " |  --------\n",
            " |  Index : The base pandas Index type.\n",
            " |  Int64Index : Index of int64 data.\n",
            " |  \n",
            " |  Method resolution order:\n",
            " |      RangeIndex\n",
            " |      pandas.core.indexes.numeric.NumericIndex\n",
            " |      pandas.core.indexes.base.Index\n",
            " |      pandas.core.base.IndexOpsMixin\n",
            " |      pandas.core.arraylike.OpsMixin\n",
            " |      pandas.core.base.PandasObject\n",
            " |      pandas.core.accessor.DirNamesMixin\n",
            " |      builtins.object\n",
            " |  \n",
            " |  Methods defined here:\n",
            " |  \n",
            " |  __contains__(self, key: 'Any') -> 'bool'\n",
            " |      Check if key is a float and has a decimal. If it has, return False.\n",
            " |  \n",
            " |  __floordiv__(self, other)\n",
            " |  \n",
            " |  __getitem__(self, key)\n",
            " |      Conserve RangeIndex type for scalar and slice keys.\n",
            " |  \n",
            " |  __iter__(self)\n",
            " |      Return an iterator of the values.\n",
            " |      \n",
            " |      These are each a scalar type, which is a Python scalar\n",
            " |      (for str, int, float) or a pandas scalar\n",
            " |      (for Timestamp/Timedelta/Interval/Period)\n",
            " |      \n",
            " |      Returns\n",
            " |      -------\n",
            " |      iterator\n",
            " |  \n",
            " |  __len__(self) -> 'int'\n",
            " |      return the length of the RangeIndex\n",
            " |  \n",
            " |  __reduce__(self)\n",
            " |      Helper for pickle.\n",
            " |  \n",
            " |  all(self, *args, **kwargs) -> 'bool'\n",
            " |      Return whether all elements are Truthy.\n",
            " |      \n",
            " |      Parameters\n",
            " |      ----------\n",
            " |      *args\n",
            " |          Required for compatibility with numpy.\n",
            " |      **kwargs\n",
            " |          Required for compatibility with numpy.\n",
            " |      \n",
            " |      Returns\n",
            " |      -------\n",
            " |      all : bool or array-like (if axis is specified)\n",
            " |          A single element array-like may be converted to bool.\n",
            " |      \n",
            " |      See Also\n",
            " |      --------\n",
            " |      Index.any : Return whether any element in an Index is True.\n",
            " |      Series.any : Return whether any element in a Series is True.\n",
            " |      Series.all : Return whether all elements in a Series are True.\n",
            " |      \n",
            " |      Notes\n",
            " |      -----\n",
            " |      Not a Number (NaN), positive infinity and negative infinity\n",
            " |      evaluate to True because these are not equal to zero.\n",
            " |      \n",
            " |      Examples\n",
            " |      --------\n",
            " |      **all**\n",
            " |      \n",
            " |      True, because nonzero integers are considered True.\n",
            " |      \n",
            " |      >>> pd.Index([1, 2, 3]).all()\n",
            " |      True\n",
            " |      \n",
            " |      False, because ``0`` is considered False.\n",
            " |      \n",
            " |      >>> pd.Index([0, 1, 2]).all()\n",
            " |      False\n",
            " |      \n",
            " |      **any**\n",
            " |      \n",
            " |      True, because ``1`` is considered True.\n",
            " |      \n",
            " |      >>> pd.Index([0, 0, 1]).any()\n",
            " |      True\n",
            " |      \n",
            " |      False, because ``0`` is considered False.\n",
            " |      \n",
            " |      >>> pd.Index([0, 0, 0]).any()\n",
            " |      False\n",
            " |  \n",
            " |  any(self, *args, **kwargs) -> 'bool'\n",
            " |      Return whether any element is Truthy.\n",
            " |      \n",
            " |      Parameters\n",
            " |      ----------\n",
            " |      *args\n",
            " |          Required for compatibility with numpy.\n",
            " |      **kwargs\n",
            " |          Required for compatibility with numpy.\n",
            " |      \n",
            " |      Returns\n",
            " |      -------\n",
            " |      any : bool or array-like (if axis is specified)\n",
            " |          A single element array-like may be converted to bool.\n",
            " |      \n",
            " |      See Also\n",
            " |      --------\n",
            " |      Index.all : Return whether all elements are True.\n",
            " |      Series.all : Return whether all elements are True.\n",
            " |      \n",
            " |      Notes\n",
            " |      -----\n",
            " |      Not a Number (NaN), positive infinity and negative infinity\n",
            " |      evaluate to True because these are not equal to zero.\n",
            " |      \n",
            " |      Examples\n",
            " |      --------\n",
            " |      >>> index = pd.Index([0, 1, 2])\n",
            " |      >>> index.any()\n",
            " |      True\n",
            " |      \n",
            " |      >>> index = pd.Index([0, 0, 0])\n",
            " |      >>> index.any()\n",
            " |      False\n",
            " |  \n",
            " |  argsort(self, *args, **kwargs) -> 'np.ndarray'\n",
            " |      Returns the indices that would sort the index and its\n",
            " |      underlying data.\n",
            " |      \n",
            " |      Returns\n",
            " |      -------\n",
            " |      np.ndarray[np.intp]\n",
            " |      \n",
            " |      See Also\n",
            " |      --------\n",
            " |      numpy.ndarray.argsort\n",
            " |  \n",
            " |  copy(self, name: 'Hashable' = None, deep: 'bool' = False, dtype: 'Dtype | None' = None, names=None)\n",
            " |      Make a copy of this object.\n",
            " |      \n",
            " |      Name and dtype sets those attributes on the new object.\n",
            " |      \n",
            " |      Parameters\n",
            " |      ----------\n",
            " |      name : Label, optional\n",
            " |          Set name for new object.\n",
            " |      deep : bool, default False\n",
            " |      dtype : numpy dtype or pandas type, optional\n",
            " |          Set dtype for new object.\n",
            " |      \n",
            " |          .. deprecated:: 1.2.0\n",
            " |              use ``astype`` method instead.\n",
            " |      names : list-like, optional\n",
            " |          Kept for compatibility with MultiIndex. Should not be used.\n",
            " |      \n",
            " |      Returns\n",
            " |      -------\n",
            " |      Index\n",
            " |          Index refer to new object which is a copy of this object.\n",
            " |      \n",
            " |      Notes\n",
            " |      -----\n",
            " |      In most cases, there should be no functional difference from using\n",
            " |      ``deep``, but if ``deep`` is passed it will attempt to deepcopy.\n",
            " |  \n",
            " |  delete(self, loc) -> 'Int64Index'\n",
            " |      Make new Index with passed location(-s) deleted.\n",
            " |      \n",
            " |      Parameters\n",
            " |      ----------\n",
            " |      loc : int or list of int\n",
            " |          Location of item(-s) which will be deleted.\n",
            " |          Use a list of locations to delete more than one value at the same time.\n",
            " |      \n",
            " |      Returns\n",
            " |      -------\n",
            " |      Index\n",
            " |          Will be same type as self, except for RangeIndex.\n",
            " |      \n",
            " |      See Also\n",
            " |      --------\n",
            " |      numpy.delete : Delete any rows and column from NumPy array (ndarray).\n",
            " |      \n",
            " |      Examples\n",
            " |      --------\n",
            " |      >>> idx = pd.Index(['a', 'b', 'c'])\n",
            " |      >>> idx.delete(1)\n",
            " |      Index(['a', 'c'], dtype='object')\n",
            " |      \n",
            " |      >>> idx = pd.Index(['a', 'b', 'c'])\n",
            " |      >>> idx.delete([0, 2])\n",
            " |      Index(['b'], dtype='object')\n",
            " |  \n",
            " |  equals(self, other: 'object') -> 'bool'\n",
            " |      Determines if two Index objects contain the same elements.\n",
            " |  \n",
            " |  factorize(self, sort: 'bool' = False, na_sentinel: 'int | None' = -1) -> 'tuple[np.ndarray, RangeIndex]'\n",
            " |      Encode the object as an enumerated type or categorical variable.\n",
            " |      \n",
            " |      This method is useful for obtaining a numeric representation of an\n",
            " |      array when all that matters is identifying distinct values. `factorize`\n",
            " |      is available as both a top-level function :func:`pandas.factorize`,\n",
            " |      and as a method :meth:`Series.factorize` and :meth:`Index.factorize`.\n",
            " |      \n",
            " |      Parameters\n",
            " |      ----------\n",
            " |      sort : bool, default False\n",
            " |          Sort `uniques` and shuffle `codes` to maintain the\n",
            " |          relationship.\n",
            " |      \n",
            " |      na_sentinel : int or None, default -1\n",
            " |          Value to mark \"not found\". If None, will not drop the NaN\n",
            " |          from the uniques of the values.\n",
            " |      \n",
            " |          .. versionchanged:: 1.1.2\n",
            " |      \n",
            " |      Returns\n",
            " |      -------\n",
            " |      codes : ndarray\n",
            " |          An integer ndarray that's an indexer into `uniques`.\n",
            " |          ``uniques.take(codes)`` will have the same values as `values`.\n",
            " |      uniques : ndarray, Index, or Categorical\n",
            " |          The unique valid values. When `values` is Categorical, `uniques`\n",
            " |          is a Categorical. When `values` is some other pandas object, an\n",
            " |          `Index` is returned. Otherwise, a 1-D ndarray is returned.\n",
            " |      \n",
            " |          .. note ::\n",
            " |      \n",
            " |             Even if there's a missing value in `values`, `uniques` will\n",
            " |             *not* contain an entry for it.\n",
            " |      \n",
            " |      See Also\n",
            " |      --------\n",
            " |      cut : Discretize continuous-valued array.\n",
            " |      unique : Find the unique value in an array.\n",
            " |      \n",
            " |      Examples\n",
            " |      --------\n",
            " |      These examples all show factorize as a top-level method like\n",
            " |      ``pd.factorize(values)``. The results are identical for methods like\n",
            " |      :meth:`Series.factorize`.\n",
            " |      \n",
            " |      >>> codes, uniques = pd.factorize(['b', 'b', 'a', 'c', 'b'])\n",
            " |      >>> codes\n",
            " |      array([0, 0, 1, 2, 0]...)\n",
            " |      >>> uniques\n",
            " |      array(['b', 'a', 'c'], dtype=object)\n",
            " |      \n",
            " |      With ``sort=True``, the `uniques` will be sorted, and `codes` will be\n",
            " |      shuffled so that the relationship is the maintained.\n",
            " |      \n",
            " |      >>> codes, uniques = pd.factorize(['b', 'b', 'a', 'c', 'b'], sort=True)\n",
            " |      >>> codes\n",
            " |      array([1, 1, 0, 2, 1]...)\n",
            " |      >>> uniques\n",
            " |      array(['a', 'b', 'c'], dtype=object)\n",
            " |      \n",
            " |      Missing values are indicated in `codes` with `na_sentinel`\n",
            " |      (``-1`` by default). Note that missing values are never\n",
            " |      included in `uniques`.\n",
            " |      \n",
            " |      >>> codes, uniques = pd.factorize(['b', None, 'a', 'c', 'b'])\n",
            " |      >>> codes\n",
            " |      array([ 0, -1,  1,  2,  0]...)\n",
            " |      >>> uniques\n",
            " |      array(['b', 'a', 'c'], dtype=object)\n",
            " |      \n",
            " |      Thus far, we've only factorized lists (which are internally coerced to\n",
            " |      NumPy arrays). When factorizing pandas objects, the type of `uniques`\n",
            " |      will differ. For Categoricals, a `Categorical` is returned.\n",
            " |      \n",
            " |      >>> cat = pd.Categorical(['a', 'a', 'c'], categories=['a', 'b', 'c'])\n",
            " |      >>> codes, uniques = pd.factorize(cat)\n",
            " |      >>> codes\n",
            " |      array([0, 0, 1]...)\n",
            " |      >>> uniques\n",
            " |      ['a', 'c']\n",
            " |      Categories (3, object): ['a', 'b', 'c']\n",
            " |      \n",
            " |      Notice that ``'b'`` is in ``uniques.categories``, despite not being\n",
            " |      present in ``cat.values``.\n",
            " |      \n",
            " |      For all other pandas objects, an Index of the appropriate type is\n",
            " |      returned.\n",
            " |      \n",
            " |      >>> cat = pd.Series(['a', 'a', 'c'])\n",
            " |      >>> codes, uniques = pd.factorize(cat)\n",
            " |      >>> codes\n",
            " |      array([0, 0, 1]...)\n",
            " |      >>> uniques\n",
            " |      Index(['a', 'c'], dtype='object')\n",
            " |      \n",
            " |      If NaN is in the values, and we want to include NaN in the uniques of the\n",
            " |      values, it can be achieved by setting ``na_sentinel=None``.\n",
            " |      \n",
            " |      >>> values = np.array([1, 2, 1, np.nan])\n",
            " |      >>> codes, uniques = pd.factorize(values)  # default: na_sentinel=-1\n",
            " |      >>> codes\n",
            " |      array([ 0,  1,  0, -1])\n",
            " |      >>> uniques\n",
            " |      array([1., 2.])\n",
            " |      \n",
            " |      >>> codes, uniques = pd.factorize(values, na_sentinel=None)\n",
            " |      >>> codes\n",
            " |      array([0, 1, 0, 2])\n",
            " |      >>> uniques\n",
            " |      array([ 1.,  2., nan])\n",
            " |  \n",
            " |  get_loc(self, key, method=None, tolerance=None)\n",
            " |      Get integer location, slice or boolean mask for requested label.\n",
            " |      \n",
            " |      Parameters\n",
            " |      ----------\n",
            " |      key : label\n",
            " |      method : {None, 'pad'/'ffill', 'backfill'/'bfill', 'nearest'}, optional\n",
            " |          * default: exact matches only.\n",
            " |          * pad / ffill: find the PREVIOUS index value if no exact match.\n",
            " |          * backfill / bfill: use NEXT index value if no exact match\n",
            " |          * nearest: use the NEAREST index value if no exact match. Tied\n",
            " |            distances are broken by preferring the larger index value.\n",
            " |      tolerance : int or float, optional\n",
            " |          Maximum distance from index value for inexact matches. The value of\n",
            " |          the index at the matching location must satisfy the equation\n",
            " |          ``abs(index[loc] - key) <= tolerance``.\n",
            " |      \n",
            " |      Returns\n",
            " |      -------\n",
            " |      loc : int if unique index, slice if monotonic index, else mask\n",
            " |      \n",
            " |      Examples\n",
            " |      --------\n",
            " |      >>> unique_index = pd.Index(list('abc'))\n",
            " |      >>> unique_index.get_loc('b')\n",
            " |      1\n",
            " |      \n",
            " |      >>> monotonic_index = pd.Index(list('abbc'))\n",
            " |      >>> monotonic_index.get_loc('b')\n",
            " |      slice(1, 3, None)\n",
            " |      \n",
            " |      >>> non_monotonic_index = pd.Index(list('abcb'))\n",
            " |      >>> non_monotonic_index.get_loc('b')\n",
            " |      array([False,  True, False,  True])\n",
            " |  \n",
            " |  max(self, axis=None, skipna: 'bool' = True, *args, **kwargs) -> 'int'\n",
            " |      The maximum value of the RangeIndex\n",
            " |  \n",
            " |  memory_usage(self, deep: 'bool' = False) -> 'int'\n",
            " |      Memory usage of my values\n",
            " |      \n",
            " |      Parameters\n",
            " |      ----------\n",
            " |      deep : bool\n",
            " |          Introspect the data deeply, interrogate\n",
            " |          `object` dtypes for system-level memory consumption\n",
            " |      \n",
            " |      Returns\n",
            " |      -------\n",
            " |      bytes used\n",
            " |      \n",
            " |      Notes\n",
            " |      -----\n",
            " |      Memory usage does not include memory consumed by elements that\n",
            " |      are not components of the array if deep=False\n",
            " |      \n",
            " |      See Also\n",
            " |      --------\n",
            " |      numpy.ndarray.nbytes\n",
            " |  \n",
            " |  min(self, axis=None, skipna: 'bool' = True, *args, **kwargs) -> 'int'\n",
            " |      The minimum value of the RangeIndex\n",
            " |  \n",
            " |  repeat(self, repeats, axis=None) -> 'Int64Index'\n",
            " |      Repeat elements of a Index.\n",
            " |      \n",
            " |      Returns a new Index where each element of the current Index\n",
            " |      is repeated consecutively a given number of times.\n",
            " |      \n",
            " |      Parameters\n",
            " |      ----------\n",
            " |      repeats : int or array of ints\n",
            " |          The number of repetitions for each element. This should be a\n",
            " |          non-negative integer. Repeating 0 times will return an empty\n",
            " |          Index.\n",
            " |      axis : None\n",
            " |          Must be ``None``. Has no effect but is accepted for compatibility\n",
            " |          with numpy.\n",
            " |      \n",
            " |      Returns\n",
            " |      -------\n",
            " |      repeated_index : Index\n",
            " |          Newly created Index with repeated elements.\n",
            " |      \n",
            " |      See Also\n",
            " |      --------\n",
            " |      Series.repeat : Equivalent function for Series.\n",
            " |      numpy.repeat : Similar method for :class:`numpy.ndarray`.\n",
            " |      \n",
            " |      Examples\n",
            " |      --------\n",
            " |      >>> idx = pd.Index(['a', 'b', 'c'])\n",
            " |      >>> idx\n",
            " |      Index(['a', 'b', 'c'], dtype='object')\n",
            " |      >>> idx.repeat(2)\n",
            " |      Index(['a', 'a', 'b', 'b', 'c', 'c'], dtype='object')\n",
            " |      >>> idx.repeat([1, 2, 3])\n",
            " |      Index(['a', 'b', 'b', 'c', 'c', 'c'], dtype='object')\n",
            " |  \n",
            " |  symmetric_difference(self, other, result_name: 'Hashable' = None, sort=None)\n",
            " |      Compute the symmetric difference of two Index objects.\n",
            " |      \n",
            " |      Parameters\n",
            " |      ----------\n",
            " |      other : Index or array-like\n",
            " |      result_name : str\n",
            " |      sort : False or None, default None\n",
            " |          Whether to sort the resulting index. By default, the\n",
            " |          values are attempted to be sorted, but any TypeError from\n",
            " |          incomparable elements is caught by pandas.\n",
            " |      \n",
            " |          * None : Attempt to sort the result, but catch any TypeErrors\n",
            " |            from comparing incomparable elements.\n",
            " |          * False : Do not sort the result.\n",
            " |      \n",
            " |      Returns\n",
            " |      -------\n",
            " |      symmetric_difference : Index\n",
            " |      \n",
            " |      Notes\n",
            " |      -----\n",
            " |      ``symmetric_difference`` contains elements that appear in either\n",
            " |      ``idx1`` or ``idx2`` but not both. Equivalent to the Index created by\n",
            " |      ``idx1.difference(idx2) | idx2.difference(idx1)`` with duplicates\n",
            " |      dropped.\n",
            " |      \n",
            " |      Examples\n",
            " |      --------\n",
            " |      >>> idx1 = pd.Index([1, 2, 3, 4])\n",
            " |      >>> idx2 = pd.Index([2, 3, 4, 5])\n",
            " |      >>> idx1.symmetric_difference(idx2)\n",
            " |      Int64Index([1, 5], dtype='int64')\n",
            " |  \n",
            " |  take(self, indices, axis: 'int' = 0, allow_fill: 'bool' = True, fill_value=None, **kwargs) -> 'Int64Index'\n",
            " |      Return a new Index of the values selected by the indices.\n",
            " |      \n",
            " |      For internal compatibility with numpy arrays.\n",
            " |      \n",
            " |      Parameters\n",
            " |      ----------\n",
            " |      indices : array-like\n",
            " |          Indices to be taken.\n",
            " |      axis : int, optional\n",
            " |          The axis over which to select values, always 0.\n",
            " |      allow_fill : bool, default True\n",
            " |      fill_value : scalar, default None\n",
            " |          If allow_fill=True and fill_value is not None, indices specified by\n",
            " |          -1 are regarded as NA. If Index doesn't hold NA, raise ValueError.\n",
            " |      \n",
            " |      Returns\n",
            " |      -------\n",
            " |      Index\n",
            " |          An index formed of elements at the given indices. Will be the same\n",
            " |          type as self, except for RangeIndex.\n",
            " |      \n",
            " |      See Also\n",
            " |      --------\n",
            " |      numpy.ndarray.take: Return an array formed from the\n",
            " |          elements of a at the given indices.\n",
            " |  \n",
            " |  tolist(self) -> 'list[int]'\n",
            " |      Return a list of the values.\n",
            " |      \n",
            " |      These are each a scalar type, which is a Python scalar\n",
            " |      (for str, int, float) or a pandas scalar\n",
            " |      (for Timestamp/Timedelta/Interval/Period)\n",
            " |      \n",
            " |      Returns\n",
            " |      -------\n",
            " |      list\n",
            " |      \n",
            " |      See Also\n",
            " |      --------\n",
            " |      numpy.ndarray.tolist : Return the array as an a.ndim-levels deep\n",
            " |          nested list of Python scalars.\n",
            " |  \n",
            " |  ----------------------------------------------------------------------\n",
            " |  Class methods defined here:\n",
            " |  \n",
            " |  from_range(data: 'range', name=None, dtype: 'Dtype | None' = None) -> 'RangeIndex' from builtins.type\n",
            " |      Create RangeIndex from a range object.\n",
            " |      \n",
            " |      Returns\n",
            " |      -------\n",
            " |      RangeIndex\n",
            " |  \n",
            " |  ----------------------------------------------------------------------\n",
            " |  Static methods defined here:\n",
            " |  \n",
            " |  __new__(cls, start=None, stop=None, step=None, dtype: 'Dtype | None' = None, copy: 'bool' = False, name: 'Hashable' = None) -> 'RangeIndex'\n",
            " |      Create and return a new object.  See help(type) for accurate signature.\n",
            " |  \n",
            " |  ----------------------------------------------------------------------\n",
            " |  Readonly properties defined here:\n",
            " |  \n",
            " |  dtype\n",
            " |      Return the dtype object of the underlying data.\n",
            " |  \n",
            " |  inferred_type\n",
            " |      Return a string of the type inferred from the values.\n",
            " |  \n",
            " |  is_unique\n",
            " |      return if the index has unique values\n",
            " |  \n",
            " |  size\n",
            " |      Return the number of elements in the underlying data.\n",
            " |  \n",
            " |  start\n",
            " |      The value of the `start` parameter (``0`` if this was not supplied).\n",
            " |  \n",
            " |  step\n",
            " |      The value of the `step` parameter (``1`` if this was not supplied).\n",
            " |  \n",
            " |  stop\n",
            " |      The value of the `stop` parameter.\n",
            " |  \n",
            " |  ----------------------------------------------------------------------\n",
            " |  Data descriptors defined here:\n",
            " |  \n",
            " |  is_monotonic_decreasing\n",
            " |  \n",
            " |  is_monotonic_increasing\n",
            " |  \n",
            " |  nbytes\n",
            " |      Return the number of bytes in the underlying data.\n",
            " |  \n",
            " |  ----------------------------------------------------------------------\n",
            " |  Data and other attributes defined here:\n",
            " |  \n",
            " |  __annotations__ = {'_range': 'range'}\n",
            " |  \n",
            " |  ----------------------------------------------------------------------\n",
            " |  Methods inherited from pandas.core.indexes.numeric.NumericIndex:\n",
            " |  \n",
            " |  astype(self, dtype, copy=True)\n",
            " |      Create an Index with values cast to dtypes.\n",
            " |      \n",
            " |      The class of a new Index is determined by dtype. When conversion is\n",
            " |      impossible, a TypeError exception is raised.\n",
            " |      \n",
            " |      Parameters\n",
            " |      ----------\n",
            " |      dtype : numpy dtype or pandas type\n",
            " |          Note that any signed integer `dtype` is treated as ``'int64'``,\n",
            " |          and any unsigned integer `dtype` is treated as ``'uint64'``,\n",
            " |          regardless of the size.\n",
            " |      copy : bool, default True\n",
            " |          By default, astype always returns a newly allocated object.\n",
            " |          If copy is set to False and internal requirements on dtype are\n",
            " |          satisfied, the original data is used to create a new Index\n",
            " |          or the original Index is returned.\n",
            " |      \n",
            " |      Returns\n",
            " |      -------\n",
            " |      Index\n",
            " |          Index with values cast to specified dtype.\n",
            " |  \n",
            " |  ----------------------------------------------------------------------\n",
            " |  Methods inherited from pandas.core.indexes.base.Index:\n",
            " |  \n",
            " |  __abs__(self)\n",
            " |  \n",
            " |  __and__(self, other)\n",
            " |  \n",
            " |  __array__(self, dtype=None) -> 'np.ndarray'\n",
            " |      The array interface, return my values.\n",
            " |  \n",
            " |  __array_wrap__(self, result, context=None)\n",
            " |      Gets called after a ufunc and other functions.\n",
            " |  \n",
            " |  __bool__ = __nonzero__(self)\n",
            " |  \n",
            " |  __copy__(self: '_IndexT', **kwargs) -> '_IndexT'\n",
            " |  \n",
            " |  __deepcopy__(self: '_IndexT', memo=None) -> '_IndexT'\n",
            " |      Parameters\n",
            " |      ----------\n",
            " |      memo, default None\n",
            " |          Standard signature. Unused\n",
            " |  \n",
            " |  __iadd__(self, other)\n",
            " |  \n",
            " |  __inv__(self)\n",
            " |  \n",
            " |  __neg__(self)\n",
            " |  \n",
            " |  __nonzero__(self)\n",
            " |  \n",
            " |  __or__(self, other)\n",
            " |  \n",
            " |  __pos__(self)\n",
            " |  \n",
            " |  __repr__(self) -> 'str_t'\n",
            " |      Return a string representation for this object.\n",
            " |  \n",
            " |  __setitem__(self, key, value)\n",
            " |  \n",
            " |  __xor__(self, other)\n",
            " |  \n",
            " |  append(self, other: 'Index | Sequence[Index]') -> 'Index'\n",
            " |      Append a collection of Index options together.\n",
            " |      \n",
            " |      Parameters\n",
            " |      ----------\n",
            " |      other : Index or list/tuple of indices\n",
            " |      \n",
            " |      Returns\n",
            " |      -------\n",
            " |      Index\n",
            " |  \n",
            " |  asof(self, label)\n",
            " |      Return the label from the index, or, if not present, the previous one.\n",
            " |      \n",
            " |      Assuming that the index is sorted, return the passed index label if it\n",
            " |      is in the index, or return the previous index label if the passed one\n",
            " |      is not in the index.\n",
            " |      \n",
            " |      Parameters\n",
            " |      ----------\n",
            " |      label : object\n",
            " |          The label up to which the method returns the latest index label.\n",
            " |      \n",
            " |      Returns\n",
            " |      -------\n",
            " |      object\n",
            " |          The passed label if it is in the index. The previous label if the\n",
            " |          passed label is not in the sorted index or `NaN` if there is no\n",
            " |          such label.\n",
            " |      \n",
            " |      See Also\n",
            " |      --------\n",
            " |      Series.asof : Return the latest value in a Series up to the\n",
            " |          passed index.\n",
            " |      merge_asof : Perform an asof merge (similar to left join but it\n",
            " |          matches on nearest key rather than equal key).\n",
            " |      Index.get_loc : An `asof` is a thin wrapper around `get_loc`\n",
            " |          with method='pad'.\n",
            " |      \n",
            " |      Examples\n",
            " |      --------\n",
            " |      `Index.asof` returns the latest index label up to the passed label.\n",
            " |      \n",
            " |      >>> idx = pd.Index(['2013-12-31', '2014-01-02', '2014-01-03'])\n",
            " |      >>> idx.asof('2014-01-01')\n",
            " |      '2013-12-31'\n",
            " |      \n",
            " |      If the label is in the index, the method returns the passed label.\n",
            " |      \n",
            " |      >>> idx.asof('2014-01-02')\n",
            " |      '2014-01-02'\n",
            " |      \n",
            " |      If all of the labels in the index are later than the passed label,\n",
            " |      NaN is returned.\n",
            " |      \n",
            " |      >>> idx.asof('1999-01-02')\n",
            " |      nan\n",
            " |      \n",
            " |      If the index is not sorted, an error is raised.\n",
            " |      \n",
            " |      >>> idx_not_sorted = pd.Index(['2013-12-31', '2015-01-02',\n",
            " |      ...                            '2014-01-03'])\n",
            " |      >>> idx_not_sorted.asof('2013-12-31')\n",
            " |      Traceback (most recent call last):\n",
            " |      ValueError: index must be monotonic increasing or decreasing\n",
            " |  \n",
            " |  asof_locs(self, where: 'Index', mask: 'np.ndarray') -> 'np.ndarray'\n",
            " |      Return the locations (indices) of labels in the index.\n",
            " |      \n",
            " |      As in the `asof` function, if the label (a particular entry in\n",
            " |      `where`) is not in the index, the latest index label up to the\n",
            " |      passed label is chosen and its index returned.\n",
            " |      \n",
            " |      If all of the labels in the index are later than a label in `where`,\n",
            " |      -1 is returned.\n",
            " |      \n",
            " |      `mask` is used to ignore NA values in the index during calculation.\n",
            " |      \n",
            " |      Parameters\n",
            " |      ----------\n",
            " |      where : Index\n",
            " |          An Index consisting of an array of timestamps.\n",
            " |      mask : np.ndarray[bool]\n",
            " |          Array of booleans denoting where values in the original\n",
            " |          data are not NA.\n",
            " |      \n",
            " |      Returns\n",
            " |      -------\n",
            " |      np.ndarray[np.intp]\n",
            " |          An array of locations (indices) of the labels from the Index\n",
            " |          which correspond to the return values of the `asof` function\n",
            " |          for every element in `where`.\n",
            " |  \n",
            " |  difference(self, other, sort=None)\n",
            " |      Return a new Index with elements of index not in `other`.\n",
            " |      \n",
            " |      This is the set difference of two Index objects.\n",
            " |      \n",
            " |      Parameters\n",
            " |      ----------\n",
            " |      other : Index or array-like\n",
            " |      sort : False or None, default None\n",
            " |          Whether to sort the resulting index. By default, the\n",
            " |          values are attempted to be sorted, but any TypeError from\n",
            " |          incomparable elements is caught by pandas.\n",
            " |      \n",
            " |          * None : Attempt to sort the result, but catch any TypeErrors\n",
            " |            from comparing incomparable elements.\n",
            " |          * False : Do not sort the result.\n",
            " |      \n",
            " |      Returns\n",
            " |      -------\n",
            " |      difference : Index\n",
            " |      \n",
            " |      Examples\n",
            " |      --------\n",
            " |      >>> idx1 = pd.Index([2, 1, 3, 4])\n",
            " |      >>> idx2 = pd.Index([3, 4, 5, 6])\n",
            " |      >>> idx1.difference(idx2)\n",
            " |      Int64Index([1, 2], dtype='int64')\n",
            " |      >>> idx1.difference(idx2, sort=False)\n",
            " |      Int64Index([2, 1], dtype='int64')\n",
            " |  \n",
            " |  drop(self, labels, errors: 'str_t' = 'raise') -> 'Index'\n",
            " |      Make new Index with passed list of labels deleted.\n",
            " |      \n",
            " |      Parameters\n",
            " |      ----------\n",
            " |      labels : array-like\n",
            " |      errors : {'ignore', 'raise'}, default 'raise'\n",
            " |          If 'ignore', suppress error and existing labels are dropped.\n",
            " |      \n",
            " |      Returns\n",
            " |      -------\n",
            " |      dropped : Index\n",
            " |          Will be same type as self, except for RangeIndex.\n",
            " |      \n",
            " |      Raises\n",
            " |      ------\n",
            " |      KeyError\n",
            " |          If not all of the labels are found in the selected axis\n",
            " |  \n",
            " |  drop_duplicates(self: '_IndexT', keep: 'str_t | bool' = 'first') -> '_IndexT'\n",
            " |      Return Index with duplicate values removed.\n",
            " |      \n",
            " |      Parameters\n",
            " |      ----------\n",
            " |      keep : {'first', 'last', ``False``}, default 'first'\n",
            " |          - 'first' : Drop duplicates except for the first occurrence.\n",
            " |          - 'last' : Drop duplicates except for the last occurrence.\n",
            " |          - ``False`` : Drop all duplicates.\n",
            " |      \n",
            " |      Returns\n",
            " |      -------\n",
            " |      deduplicated : Index\n",
            " |      \n",
            " |      See Also\n",
            " |      --------\n",
            " |      Series.drop_duplicates : Equivalent method on Series.\n",
            " |      DataFrame.drop_duplicates : Equivalent method on DataFrame.\n",
            " |      Index.duplicated : Related method on Index, indicating duplicate\n",
            " |          Index values.\n",
            " |      \n",
            " |      Examples\n",
            " |      --------\n",
            " |      Generate an pandas.Index with duplicate values.\n",
            " |      \n",
            " |      >>> idx = pd.Index(['lama', 'cow', 'lama', 'beetle', 'lama', 'hippo'])\n",
            " |      \n",
            " |      The `keep` parameter controls  which duplicate values are removed.\n",
            " |      The value 'first' keeps the first occurrence for each\n",
            " |      set of duplicated entries. The default value of keep is 'first'.\n",
            " |      \n",
            " |      >>> idx.drop_duplicates(keep='first')\n",
            " |      Index(['lama', 'cow', 'beetle', 'hippo'], dtype='object')\n",
            " |      \n",
            " |      The value 'last' keeps the last occurrence for each set of duplicated\n",
            " |      entries.\n",
            " |      \n",
            " |      >>> idx.drop_duplicates(keep='last')\n",
            " |      Index(['cow', 'beetle', 'lama', 'hippo'], dtype='object')\n",
            " |      \n",
            " |      The value ``False`` discards all sets of duplicated entries.\n",
            " |      \n",
            " |      >>> idx.drop_duplicates(keep=False)\n",
            " |      Index(['cow', 'beetle', 'hippo'], dtype='object')\n",
            " |  \n",
            " |  droplevel(self, level=0)\n",
            " |      Return index with requested level(s) removed.\n",
            " |      \n",
            " |      If resulting index has only 1 level left, the result will be\n",
            " |      of Index type, not MultiIndex.\n",
            " |      \n",
            " |      Parameters\n",
            " |      ----------\n",
            " |      level : int, str, or list-like, default 0\n",
            " |          If a string is given, must be the name of a level\n",
            " |          If list-like, elements must be names or indexes of levels.\n",
            " |      \n",
            " |      Returns\n",
            " |      -------\n",
            " |      Index or MultiIndex\n",
            " |      \n",
            " |      Examples\n",
            " |      --------\n",
            " |      >>> mi = pd.MultiIndex.from_arrays(\n",
            " |      ... [[1, 2], [3, 4], [5, 6]], names=['x', 'y', 'z'])\n",
            " |      >>> mi\n",
            " |      MultiIndex([(1, 3, 5),\n",
            " |                  (2, 4, 6)],\n",
            " |                 names=['x', 'y', 'z'])\n",
            " |      \n",
            " |      >>> mi.droplevel()\n",
            " |      MultiIndex([(3, 5),\n",
            " |                  (4, 6)],\n",
            " |                 names=['y', 'z'])\n",
            " |      \n",
            " |      >>> mi.droplevel(2)\n",
            " |      MultiIndex([(1, 3),\n",
            " |                  (2, 4)],\n",
            " |                 names=['x', 'y'])\n",
            " |      \n",
            " |      >>> mi.droplevel('z')\n",
            " |      MultiIndex([(1, 3),\n",
            " |                  (2, 4)],\n",
            " |                 names=['x', 'y'])\n",
            " |      \n",
            " |      >>> mi.droplevel(['x', 'y'])\n",
            " |      Int64Index([5, 6], dtype='int64', name='z')\n",
            " |  \n",
            " |  dropna(self: '_IndexT', how: 'str_t' = 'any') -> '_IndexT'\n",
            " |      Return Index without NA/NaN values.\n",
            " |      \n",
            " |      Parameters\n",
            " |      ----------\n",
            " |      how : {'any', 'all'}, default 'any'\n",
            " |          If the Index is a MultiIndex, drop the value when any or all levels\n",
            " |          are NaN.\n",
            " |      \n",
            " |      Returns\n",
            " |      -------\n",
            " |      Index\n",
            " |  \n",
            " |  duplicated(self, keep: \"Literal['first', 'last', False]\" = 'first') -> 'np.ndarray'\n",
            " |      Indicate duplicate index values.\n",
            " |      \n",
            " |      Duplicated values are indicated as ``True`` values in the resulting\n",
            " |      array. Either all duplicates, all except the first, or all except the\n",
            " |      last occurrence of duplicates can be indicated.\n",
            " |      \n",
            " |      Parameters\n",
            " |      ----------\n",
            " |      keep : {'first', 'last', False}, default 'first'\n",
            " |          The value or values in a set of duplicates to mark as missing.\n",
            " |      \n",
            " |          - 'first' : Mark duplicates as ``True`` except for the first\n",
            " |            occurrence.\n",
            " |          - 'last' : Mark duplicates as ``True`` except for the last\n",
            " |            occurrence.\n",
            " |          - ``False`` : Mark all duplicates as ``True``.\n",
            " |      \n",
            " |      Returns\n",
            " |      -------\n",
            " |      np.ndarray[bool]\n",
            " |      \n",
            " |      See Also\n",
            " |      --------\n",
            " |      Series.duplicated : Equivalent method on pandas.Series.\n",
            " |      DataFrame.duplicated : Equivalent method on pandas.DataFrame.\n",
            " |      Index.drop_duplicates : Remove duplicate values from Index.\n",
            " |      \n",
            " |      Examples\n",
            " |      --------\n",
            " |      By default, for each set of duplicated values, the first occurrence is\n",
            " |      set to False and all others to True:\n",
            " |      \n",
            " |      >>> idx = pd.Index(['lama', 'cow', 'lama', 'beetle', 'lama'])\n",
            " |      >>> idx.duplicated()\n",
            " |      array([False, False,  True, False,  True])\n",
            " |      \n",
            " |      which is equivalent to\n",
            " |      \n",
            " |      >>> idx.duplicated(keep='first')\n",
            " |      array([False, False,  True, False,  True])\n",
            " |      \n",
            " |      By using 'last', the last occurrence of each set of duplicated values\n",
            " |      is set on False and all others on True:\n",
            " |      \n",
            " |      >>> idx.duplicated(keep='last')\n",
            " |      array([ True, False,  True, False, False])\n",
            " |      \n",
            " |      By setting keep on ``False``, all duplicates are True:\n",
            " |      \n",
            " |      >>> idx.duplicated(keep=False)\n",
            " |      array([ True, False,  True, False,  True])\n",
            " |  \n",
            " |  fillna(self, value=None, downcast=None)\n",
            " |      Fill NA/NaN values with the specified value.\n",
            " |      \n",
            " |      Parameters\n",
            " |      ----------\n",
            " |      value : scalar\n",
            " |          Scalar value to use to fill holes (e.g. 0).\n",
            " |          This value cannot be a list-likes.\n",
            " |      downcast : dict, default is None\n",
            " |          A dict of item->dtype of what to downcast if possible,\n",
            " |          or the string 'infer' which will try to downcast to an appropriate\n",
            " |          equal type (e.g. float64 to int64 if possible).\n",
            " |      \n",
            " |      Returns\n",
            " |      -------\n",
            " |      Index\n",
            " |      \n",
            " |      See Also\n",
            " |      --------\n",
            " |      DataFrame.fillna : Fill NaN values of a DataFrame.\n",
            " |      Series.fillna : Fill NaN Values of a Series.\n",
            " |  \n",
            " |  format(self, name: 'bool' = False, formatter: 'Callable | None' = None, na_rep: 'str_t' = 'NaN') -> 'list[str_t]'\n",
            " |      Render a string representation of the Index.\n",
            " |  \n",
            " |  get_indexer(self, target, method: 'str_t | None' = None, limit: 'int | None' = None, tolerance=None) -> 'np.ndarray'\n",
            " |      Compute indexer and mask for new index given the current index. The\n",
            " |      indexer should be then used as an input to ndarray.take to align the\n",
            " |      current data to the new index.\n",
            " |      \n",
            " |      Parameters\n",
            " |      ----------\n",
            " |      target : Index\n",
            " |      method : {None, 'pad'/'ffill', 'backfill'/'bfill', 'nearest'}, optional\n",
            " |          * default: exact matches only.\n",
            " |          * pad / ffill: find the PREVIOUS index value if no exact match.\n",
            " |          * backfill / bfill: use NEXT index value if no exact match\n",
            " |          * nearest: use the NEAREST index value if no exact match. Tied\n",
            " |            distances are broken by preferring the larger index value.\n",
            " |      limit : int, optional\n",
            " |          Maximum number of consecutive labels in ``target`` to match for\n",
            " |          inexact matches.\n",
            " |      tolerance : optional\n",
            " |          Maximum distance between original and new labels for inexact\n",
            " |          matches. The values of the index at the matching locations must\n",
            " |          satisfy the equation ``abs(index[indexer] - target) <= tolerance``.\n",
            " |      \n",
            " |          Tolerance may be a scalar value, which applies the same tolerance\n",
            " |          to all values, or list-like, which applies variable tolerance per\n",
            " |          element. List-like includes list, tuple, array, Series, and must be\n",
            " |          the same size as the index and its dtype must exactly match the\n",
            " |          index's type.\n",
            " |      \n",
            " |      Returns\n",
            " |      -------\n",
            " |      indexer : np.ndarray[np.intp]\n",
            " |          Integers from 0 to n - 1 indicating that the index at these\n",
            " |          positions matches the corresponding target values. Missing values\n",
            " |          in the target are marked by -1.\n",
            " |      \n",
            " |      Examples\n",
            " |      --------\n",
            " |      >>> index = pd.Index(['c', 'a', 'b'])\n",
            " |      >>> index.get_indexer(['a', 'b', 'x'])\n",
            " |      array([ 1,  2, -1])\n",
            " |      \n",
            " |      Notice that the return value is an array of locations in ``index``\n",
            " |      and ``x`` is marked by -1, as it is not in ``index``.\n",
            " |  \n",
            " |  get_indexer_for(self, target, **kwargs) -> 'np.ndarray'\n",
            " |      Guaranteed return of an indexer even when non-unique.\n",
            " |      \n",
            " |      This dispatches to get_indexer or get_indexer_non_unique\n",
            " |      as appropriate.\n",
            " |      \n",
            " |      Returns\n",
            " |      -------\n",
            " |      np.ndarray[np.intp]\n",
            " |          List of indices.\n",
            " |  \n",
            " |  get_indexer_non_unique(self, target) -> 'tuple[np.ndarray, np.ndarray]'\n",
            " |      Compute indexer and mask for new index given the current index. The\n",
            " |      indexer should be then used as an input to ndarray.take to align the\n",
            " |      current data to the new index.\n",
            " |      \n",
            " |      Parameters\n",
            " |      ----------\n",
            " |      target : Index\n",
            " |      \n",
            " |      Returns\n",
            " |      -------\n",
            " |      indexer : np.ndarray[np.intp]\n",
            " |          Integers from 0 to n - 1 indicating that the index at these\n",
            " |          positions matches the corresponding target values. Missing values\n",
            " |          in the target are marked by -1.\n",
            " |      missing : np.ndarray[np.intp]\n",
            " |          An indexer into the target of the values not found.\n",
            " |          These correspond to the -1 in the indexer array.\n",
            " |  \n",
            " |  get_level_values = _get_level_values(self, level) -> 'Index'\n",
            " |  \n",
            " |  get_slice_bound(self, label, side: 'str_t', kind=None) -> 'int'\n",
            " |      Calculate slice bound that corresponds to given label.\n",
            " |      \n",
            " |      Returns leftmost (one-past-the-rightmost if ``side=='right'``) position\n",
            " |      of given label.\n",
            " |      \n",
            " |      Parameters\n",
            " |      ----------\n",
            " |      label : object\n",
            " |      side : {'left', 'right'}\n",
            " |      kind : {'loc', 'getitem'} or None\n",
            " |      \n",
            " |      Returns\n",
            " |      -------\n",
            " |      int\n",
            " |          Index of label.\n",
            " |  \n",
            " |  get_value(self, series: 'Series', key)\n",
            " |      Fast lookup of value from 1-dimensional ndarray.\n",
            " |      \n",
            " |      Only use this if you know what you're doing.\n",
            " |      \n",
            " |      Returns\n",
            " |      -------\n",
            " |      scalar or Series\n",
            " |  \n",
            " |  groupby(self, values) -> 'PrettyDict[Hashable, np.ndarray]'\n",
            " |      Group the index labels by a given array of values.\n",
            " |      \n",
            " |      Parameters\n",
            " |      ----------\n",
            " |      values : array\n",
            " |          Values used to determine the groups.\n",
            " |      \n",
            " |      Returns\n",
            " |      -------\n",
            " |      dict\n",
            " |          {group name -> group labels}\n",
            " |  \n",
            " |  holds_integer(self) -> 'bool'\n",
            " |      Whether the type is an integer type.\n",
            " |  \n",
            " |  identical(self, other) -> 'bool'\n",
            " |      Similar to equals, but checks that object attributes and types are also equal.\n",
            " |      \n",
            " |      Returns\n",
            " |      -------\n",
            " |      bool\n",
            " |          If two Index objects have equal elements and same type True,\n",
            " |          otherwise False.\n",
            " |  \n",
            " |  insert(self, loc: 'int', item) -> 'Index'\n",
            " |      Make new Index inserting new item at location.\n",
            " |      \n",
            " |      Follows Python list.append semantics for negative values.\n",
            " |      \n",
            " |      Parameters\n",
            " |      ----------\n",
            " |      loc : int\n",
            " |      item : object\n",
            " |      \n",
            " |      Returns\n",
            " |      -------\n",
            " |      new_index : Index\n",
            " |  \n",
            " |  intersection(self, other, sort=False)\n",
            " |      Form the intersection of two Index objects.\n",
            " |      \n",
            " |      This returns a new Index with elements common to the index and `other`.\n",
            " |      \n",
            " |      Parameters\n",
            " |      ----------\n",
            " |      other : Index or array-like\n",
            " |      sort : False or None, default False\n",
            " |          Whether to sort the resulting index.\n",
            " |      \n",
            " |          * False : do not sort the result.\n",
            " |          * None : sort the result, except when `self` and `other` are equal\n",
            " |            or when the values cannot be compared.\n",
            " |      \n",
            " |      Returns\n",
            " |      -------\n",
            " |      intersection : Index\n",
            " |      \n",
            " |      Examples\n",
            " |      --------\n",
            " |      >>> idx1 = pd.Index([1, 2, 3, 4])\n",
            " |      >>> idx2 = pd.Index([3, 4, 5, 6])\n",
            " |      >>> idx1.intersection(idx2)\n",
            " |      Int64Index([3, 4], dtype='int64')\n",
            " |  \n",
            " |  is_(self, other) -> 'bool'\n",
            " |      More flexible, faster check like ``is`` but that works through views.\n",
            " |      \n",
            " |      Note: this is *not* the same as ``Index.identical()``, which checks\n",
            " |      that metadata is also the same.\n",
            " |      \n",
            " |      Parameters\n",
            " |      ----------\n",
            " |      other : object\n",
            " |          Other object to compare against.\n",
            " |      \n",
            " |      Returns\n",
            " |      -------\n",
            " |      bool\n",
            " |          True if both have same underlying data, False otherwise.\n",
            " |      \n",
            " |      See Also\n",
            " |      --------\n",
            " |      Index.identical : Works like ``Index.is_`` but also checks metadata.\n",
            " |  \n",
            " |  is_boolean(self) -> 'bool'\n",
            " |      Check if the Index only consists of booleans.\n",
            " |      \n",
            " |      Returns\n",
            " |      -------\n",
            " |      bool\n",
            " |          Whether or not the Index only consists of booleans.\n",
            " |      \n",
            " |      See Also\n",
            " |      --------\n",
            " |      is_integer : Check if the Index only consists of integers.\n",
            " |      is_floating : Check if the Index is a floating type.\n",
            " |      is_numeric : Check if the Index only consists of numeric data.\n",
            " |      is_object : Check if the Index is of the object dtype.\n",
            " |      is_categorical : Check if the Index holds categorical data.\n",
            " |      is_interval : Check if the Index holds Interval objects.\n",
            " |      is_mixed : Check if the Index holds data with mixed data types.\n",
            " |      \n",
            " |      Examples\n",
            " |      --------\n",
            " |      >>> idx = pd.Index([True, False, True])\n",
            " |      >>> idx.is_boolean()\n",
            " |      True\n",
            " |      \n",
            " |      >>> idx = pd.Index([\"True\", \"False\", \"True\"])\n",
            " |      >>> idx.is_boolean()\n",
            " |      False\n",
            " |      \n",
            " |      >>> idx = pd.Index([True, False, \"True\"])\n",
            " |      >>> idx.is_boolean()\n",
            " |      False\n",
            " |  \n",
            " |  is_categorical(self) -> 'bool'\n",
            " |      Check if the Index holds categorical data.\n",
            " |      \n",
            " |      Returns\n",
            " |      -------\n",
            " |      bool\n",
            " |          True if the Index is categorical.\n",
            " |      \n",
            " |      See Also\n",
            " |      --------\n",
            " |      CategoricalIndex : Index for categorical data.\n",
            " |      is_boolean : Check if the Index only consists of booleans.\n",
            " |      is_integer : Check if the Index only consists of integers.\n",
            " |      is_floating : Check if the Index is a floating type.\n",
            " |      is_numeric : Check if the Index only consists of numeric data.\n",
            " |      is_object : Check if the Index is of the object dtype.\n",
            " |      is_interval : Check if the Index holds Interval objects.\n",
            " |      is_mixed : Check if the Index holds data with mixed data types.\n",
            " |      \n",
            " |      Examples\n",
            " |      --------\n",
            " |      >>> idx = pd.Index([\"Watermelon\", \"Orange\", \"Apple\",\n",
            " |      ...                 \"Watermelon\"]).astype(\"category\")\n",
            " |      >>> idx.is_categorical()\n",
            " |      True\n",
            " |      \n",
            " |      >>> idx = pd.Index([1, 3, 5, 7])\n",
            " |      >>> idx.is_categorical()\n",
            " |      False\n",
            " |      \n",
            " |      >>> s = pd.Series([\"Peter\", \"Victor\", \"Elisabeth\", \"Mar\"])\n",
            " |      >>> s\n",
            " |      0        Peter\n",
            " |      1       Victor\n",
            " |      2    Elisabeth\n",
            " |      3          Mar\n",
            " |      dtype: object\n",
            " |      >>> s.index.is_categorical()\n",
            " |      False\n",
            " |  \n",
            " |  is_floating(self) -> 'bool'\n",
            " |      Check if the Index is a floating type.\n",
            " |      \n",
            " |      The Index may consist of only floats, NaNs, or a mix of floats,\n",
            " |      integers, or NaNs.\n",
            " |      \n",
            " |      Returns\n",
            " |      -------\n",
            " |      bool\n",
            " |          Whether or not the Index only consists of only consists of floats, NaNs, or\n",
            " |          a mix of floats, integers, or NaNs.\n",
            " |      \n",
            " |      See Also\n",
            " |      --------\n",
            " |      is_boolean : Check if the Index only consists of booleans.\n",
            " |      is_integer : Check if the Index only consists of integers.\n",
            " |      is_numeric : Check if the Index only consists of numeric data.\n",
            " |      is_object : Check if the Index is of the object dtype.\n",
            " |      is_categorical : Check if the Index holds categorical data.\n",
            " |      is_interval : Check if the Index holds Interval objects.\n",
            " |      is_mixed : Check if the Index holds data with mixed data types.\n",
            " |      \n",
            " |      Examples\n",
            " |      --------\n",
            " |      >>> idx = pd.Index([1.0, 2.0, 3.0, 4.0])\n",
            " |      >>> idx.is_floating()\n",
            " |      True\n",
            " |      \n",
            " |      >>> idx = pd.Index([1.0, 2.0, np.nan, 4.0])\n",
            " |      >>> idx.is_floating()\n",
            " |      True\n",
            " |      \n",
            " |      >>> idx = pd.Index([1, 2, 3, 4, np.nan])\n",
            " |      >>> idx.is_floating()\n",
            " |      True\n",
            " |      \n",
            " |      >>> idx = pd.Index([1, 2, 3, 4])\n",
            " |      >>> idx.is_floating()\n",
            " |      False\n",
            " |  \n",
            " |  is_integer(self) -> 'bool'\n",
            " |      Check if the Index only consists of integers.\n",
            " |      \n",
            " |      Returns\n",
            " |      -------\n",
            " |      bool\n",
            " |          Whether or not the Index only consists of integers.\n",
            " |      \n",
            " |      See Also\n",
            " |      --------\n",
            " |      is_boolean : Check if the Index only consists of booleans.\n",
            " |      is_floating : Check if the Index is a floating type.\n",
            " |      is_numeric : Check if the Index only consists of numeric data.\n",
            " |      is_object : Check if the Index is of the object dtype.\n",
            " |      is_categorical : Check if the Index holds categorical data.\n",
            " |      is_interval : Check if the Index holds Interval objects.\n",
            " |      is_mixed : Check if the Index holds data with mixed data types.\n",
            " |      \n",
            " |      Examples\n",
            " |      --------\n",
            " |      >>> idx = pd.Index([1, 2, 3, 4])\n",
            " |      >>> idx.is_integer()\n",
            " |      True\n",
            " |      \n",
            " |      >>> idx = pd.Index([1.0, 2.0, 3.0, 4.0])\n",
            " |      >>> idx.is_integer()\n",
            " |      False\n",
            " |      \n",
            " |      >>> idx = pd.Index([\"Apple\", \"Mango\", \"Watermelon\"])\n",
            " |      >>> idx.is_integer()\n",
            " |      False\n",
            " |  \n",
            " |  is_interval(self) -> 'bool'\n",
            " |      Check if the Index holds Interval objects.\n",
            " |      \n",
            " |      Returns\n",
            " |      -------\n",
            " |      bool\n",
            " |          Whether or not the Index holds Interval objects.\n",
            " |      \n",
            " |      See Also\n",
            " |      --------\n",
            " |      IntervalIndex : Index for Interval objects.\n",
            " |      is_boolean : Check if the Index only consists of booleans.\n",
            " |      is_integer : Check if the Index only consists of integers.\n",
            " |      is_floating : Check if the Index is a floating type.\n",
            " |      is_numeric : Check if the Index only consists of numeric data.\n",
            " |      is_object : Check if the Index is of the object dtype.\n",
            " |      is_categorical : Check if the Index holds categorical data.\n",
            " |      is_mixed : Check if the Index holds data with mixed data types.\n",
            " |      \n",
            " |      Examples\n",
            " |      --------\n",
            " |      >>> idx = pd.Index([pd.Interval(left=0, right=5),\n",
            " |      ...                 pd.Interval(left=5, right=10)])\n",
            " |      >>> idx.is_interval()\n",
            " |      True\n",
            " |      \n",
            " |      >>> idx = pd.Index([1, 3, 5, 7])\n",
            " |      >>> idx.is_interval()\n",
            " |      False\n",
            " |  \n",
            " |  is_mixed(self) -> 'bool'\n",
            " |      Check if the Index holds data with mixed data types.\n",
            " |      \n",
            " |      Returns\n",
            " |      -------\n",
            " |      bool\n",
            " |          Whether or not the Index holds data with mixed data types.\n",
            " |      \n",
            " |      See Also\n",
            " |      --------\n",
            " |      is_boolean : Check if the Index only consists of booleans.\n",
            " |      is_integer : Check if the Index only consists of integers.\n",
            " |      is_floating : Check if the Index is a floating type.\n",
            " |      is_numeric : Check if the Index only consists of numeric data.\n",
            " |      is_object : Check if the Index is of the object dtype.\n",
            " |      is_categorical : Check if the Index holds categorical data.\n",
            " |      is_interval : Check if the Index holds Interval objects.\n",
            " |      \n",
            " |      Examples\n",
            " |      --------\n",
            " |      >>> idx = pd.Index(['a', np.nan, 'b'])\n",
            " |      >>> idx.is_mixed()\n",
            " |      True\n",
            " |      \n",
            " |      >>> idx = pd.Index([1.0, 2.0, 3.0, 5.0])\n",
            " |      >>> idx.is_mixed()\n",
            " |      False\n",
            " |  \n",
            " |  is_numeric(self) -> 'bool'\n",
            " |      Check if the Index only consists of numeric data.\n",
            " |      \n",
            " |      Returns\n",
            " |      -------\n",
            " |      bool\n",
            " |          Whether or not the Index only consists of numeric data.\n",
            " |      \n",
            " |      See Also\n",
            " |      --------\n",
            " |      is_boolean : Check if the Index only consists of booleans.\n",
            " |      is_integer : Check if the Index only consists of integers.\n",
            " |      is_floating : Check if the Index is a floating type.\n",
            " |      is_object : Check if the Index is of the object dtype.\n",
            " |      is_categorical : Check if the Index holds categorical data.\n",
            " |      is_interval : Check if the Index holds Interval objects.\n",
            " |      is_mixed : Check if the Index holds data with mixed data types.\n",
            " |      \n",
            " |      Examples\n",
            " |      --------\n",
            " |      >>> idx = pd.Index([1.0, 2.0, 3.0, 4.0])\n",
            " |      >>> idx.is_numeric()\n",
            " |      True\n",
            " |      \n",
            " |      >>> idx = pd.Index([1, 2, 3, 4.0])\n",
            " |      >>> idx.is_numeric()\n",
            " |      True\n",
            " |      \n",
            " |      >>> idx = pd.Index([1, 2, 3, 4])\n",
            " |      >>> idx.is_numeric()\n",
            " |      True\n",
            " |      \n",
            " |      >>> idx = pd.Index([1, 2, 3, 4.0, np.nan])\n",
            " |      >>> idx.is_numeric()\n",
            " |      True\n",
            " |      \n",
            " |      >>> idx = pd.Index([1, 2, 3, 4.0, np.nan, \"Apple\"])\n",
            " |      >>> idx.is_numeric()\n",
            " |      False\n",
            " |  \n",
            " |  is_object(self) -> 'bool'\n",
            " |      Check if the Index is of the object dtype.\n",
            " |      \n",
            " |      Returns\n",
            " |      -------\n",
            " |      bool\n",
            " |          Whether or not the Index is of the object dtype.\n",
            " |      \n",
            " |      See Also\n",
            " |      --------\n",
            " |      is_boolean : Check if the Index only consists of booleans.\n",
            " |      is_integer : Check if the Index only consists of integers.\n",
            " |      is_floating : Check if the Index is a floating type.\n",
            " |      is_numeric : Check if the Index only consists of numeric data.\n",
            " |      is_categorical : Check if the Index holds categorical data.\n",
            " |      is_interval : Check if the Index holds Interval objects.\n",
            " |      is_mixed : Check if the Index holds data with mixed data types.\n",
            " |      \n",
            " |      Examples\n",
            " |      --------\n",
            " |      >>> idx = pd.Index([\"Apple\", \"Mango\", \"Watermelon\"])\n",
            " |      >>> idx.is_object()\n",
            " |      True\n",
            " |      \n",
            " |      >>> idx = pd.Index([\"Apple\", \"Mango\", 2.0])\n",
            " |      >>> idx.is_object()\n",
            " |      True\n",
            " |      \n",
            " |      >>> idx = pd.Index([\"Watermelon\", \"Orange\", \"Apple\",\n",
            " |      ...                 \"Watermelon\"]).astype(\"category\")\n",
            " |      >>> idx.is_object()\n",
            " |      False\n",
            " |      \n",
            " |      >>> idx = pd.Index([1.0, 2.0, 3.0, 4.0])\n",
            " |      >>> idx.is_object()\n",
            " |      False\n",
            " |  \n",
            " |  is_type_compatible(self, kind: 'str_t') -> 'bool'\n",
            " |      Whether the index type is compatible with the provided type.\n",
            " |  \n",
            " |  isin(self, values, level=None) -> 'np.ndarray'\n",
            " |      Return a boolean array where the index values are in `values`.\n",
            " |      \n",
            " |      Compute boolean array of whether each index value is found in the\n",
            " |      passed set of values. The length of the returned boolean array matches\n",
            " |      the length of the index.\n",
            " |      \n",
            " |      Parameters\n",
            " |      ----------\n",
            " |      values : set or list-like\n",
            " |          Sought values.\n",
            " |      level : str or int, optional\n",
            " |          Name or position of the index level to use (if the index is a\n",
            " |          `MultiIndex`).\n",
            " |      \n",
            " |      Returns\n",
            " |      -------\n",
            " |      np.ndarray[bool]\n",
            " |          NumPy array of boolean values.\n",
            " |      \n",
            " |      See Also\n",
            " |      --------\n",
            " |      Series.isin : Same for Series.\n",
            " |      DataFrame.isin : Same method for DataFrames.\n",
            " |      \n",
            " |      Notes\n",
            " |      -----\n",
            " |      In the case of `MultiIndex` you must either specify `values` as a\n",
            " |      list-like object containing tuples that are the same length as the\n",
            " |      number of levels, or specify `level`. Otherwise it will raise a\n",
            " |      ``ValueError``.\n",
            " |      \n",
            " |      If `level` is specified:\n",
            " |      \n",
            " |      - if it is the name of one *and only one* index level, use that level;\n",
            " |      - otherwise it should be a number indicating level position.\n",
            " |      \n",
            " |      Examples\n",
            " |      --------\n",
            " |      >>> idx = pd.Index([1,2,3])\n",
            " |      >>> idx\n",
            " |      Int64Index([1, 2, 3], dtype='int64')\n",
            " |      \n",
            " |      Check whether each index value in a list of values.\n",
            " |      \n",
            " |      >>> idx.isin([1, 4])\n",
            " |      array([ True, False, False])\n",
            " |      \n",
            " |      >>> midx = pd.MultiIndex.from_arrays([[1,2,3],\n",
            " |      ...                                  ['red', 'blue', 'green']],\n",
            " |      ...                                  names=('number', 'color'))\n",
            " |      >>> midx\n",
            " |      MultiIndex([(1,   'red'),\n",
            " |                  (2,  'blue'),\n",
            " |                  (3, 'green')],\n",
            " |                 names=['number', 'color'])\n",
            " |      \n",
            " |      Check whether the strings in the 'color' level of the MultiIndex\n",
            " |      are in a list of colors.\n",
            " |      \n",
            " |      >>> midx.isin(['red', 'orange', 'yellow'], level='color')\n",
            " |      array([ True, False, False])\n",
            " |      \n",
            " |      To check across the levels of a MultiIndex, pass a list of tuples:\n",
            " |      \n",
            " |      >>> midx.isin([(1, 'red'), (3, 'red')])\n",
            " |      array([ True, False, False])\n",
            " |      \n",
            " |      For a DatetimeIndex, string values in `values` are converted to\n",
            " |      Timestamps.\n",
            " |      \n",
            " |      >>> dates = ['2000-03-11', '2000-03-12', '2000-03-13']\n",
            " |      >>> dti = pd.to_datetime(dates)\n",
            " |      >>> dti\n",
            " |      DatetimeIndex(['2000-03-11', '2000-03-12', '2000-03-13'],\n",
            " |      dtype='datetime64[ns]', freq=None)\n",
            " |      \n",
            " |      >>> dti.isin(['2000-03-11'])\n",
            " |      array([ True, False, False])\n",
            " |  \n",
            " |  isna(self) -> 'np.ndarray'\n",
            " |      Detect missing values.\n",
            " |      \n",
            " |      Return a boolean same-sized object indicating if the values are NA.\n",
            " |      NA values, such as ``None``, :attr:`numpy.NaN` or :attr:`pd.NaT`, get\n",
            " |      mapped to ``True`` values.\n",
            " |      Everything else get mapped to ``False`` values. Characters such as\n",
            " |      empty strings `''` or :attr:`numpy.inf` are not considered NA values\n",
            " |      (unless you set ``pandas.options.mode.use_inf_as_na = True``).\n",
            " |      \n",
            " |      Returns\n",
            " |      -------\n",
            " |      numpy.ndarray[bool]\n",
            " |          A boolean array of whether my values are NA.\n",
            " |      \n",
            " |      See Also\n",
            " |      --------\n",
            " |      Index.notna : Boolean inverse of isna.\n",
            " |      Index.dropna : Omit entries with missing values.\n",
            " |      isna : Top-level isna.\n",
            " |      Series.isna : Detect missing values in Series object.\n",
            " |      \n",
            " |      Examples\n",
            " |      --------\n",
            " |      Show which entries in a pandas.Index are NA. The result is an\n",
            " |      array.\n",
            " |      \n",
            " |      >>> idx = pd.Index([5.2, 6.0, np.NaN])\n",
            " |      >>> idx\n",
            " |      Float64Index([5.2, 6.0, nan], dtype='float64')\n",
            " |      >>> idx.isna()\n",
            " |      array([False, False,  True])\n",
            " |      \n",
            " |      Empty strings are not considered NA values. None is considered an NA\n",
            " |      value.\n",
            " |      \n",
            " |      >>> idx = pd.Index(['black', '', 'red', None])\n",
            " |      >>> idx\n",
            " |      Index(['black', '', 'red', None], dtype='object')\n",
            " |      >>> idx.isna()\n",
            " |      array([False, False, False,  True])\n",
            " |      \n",
            " |      For datetimes, `NaT` (Not a Time) is considered as an NA value.\n",
            " |      \n",
            " |      >>> idx = pd.DatetimeIndex([pd.Timestamp('1940-04-25'),\n",
            " |      ...                         pd.Timestamp(''), None, pd.NaT])\n",
            " |      >>> idx\n",
            " |      DatetimeIndex(['1940-04-25', 'NaT', 'NaT', 'NaT'],\n",
            " |                    dtype='datetime64[ns]', freq=None)\n",
            " |      >>> idx.isna()\n",
            " |      array([False,  True,  True,  True])\n",
            " |  \n",
            " |  isnull = isna(self) -> 'np.ndarray'\n",
            " |  \n",
            " |  join(self, other, how: 'str_t' = 'left', level=None, return_indexers: 'bool' = False, sort: 'bool' = False)\n",
            " |      Compute join_index and indexers to conform data\n",
            " |      structures to the new index.\n",
            " |      \n",
            " |      Parameters\n",
            " |      ----------\n",
            " |      other : Index\n",
            " |      how : {'left', 'right', 'inner', 'outer'}\n",
            " |      level : int or level name, default None\n",
            " |      return_indexers : bool, default False\n",
            " |      sort : bool, default False\n",
            " |          Sort the join keys lexicographically in the result Index. If False,\n",
            " |          the order of the join keys depends on the join type (how keyword).\n",
            " |      \n",
            " |      Returns\n",
            " |      -------\n",
            " |      join_index, (left_indexer, right_indexer)\n",
            " |  \n",
            " |  map(self, mapper, na_action=None)\n",
            " |      Map values using input correspondence (a dict, Series, or function).\n",
            " |      \n",
            " |      Parameters\n",
            " |      ----------\n",
            " |      mapper : function, dict, or Series\n",
            " |          Mapping correspondence.\n",
            " |      na_action : {None, 'ignore'}\n",
            " |          If 'ignore', propagate NA values, without passing them to the\n",
            " |          mapping correspondence.\n",
            " |      \n",
            " |      Returns\n",
            " |      -------\n",
            " |      applied : Union[Index, MultiIndex], inferred\n",
            " |          The output of the mapping function applied to the index.\n",
            " |          If the function returns a tuple with more than one element\n",
            " |          a MultiIndex will be returned.\n",
            " |  \n",
            " |  notna(self) -> 'np.ndarray'\n",
            " |      Detect existing (non-missing) values.\n",
            " |      \n",
            " |      Return a boolean same-sized object indicating if the values are not NA.\n",
            " |      Non-missing values get mapped to ``True``. Characters such as empty\n",
            " |      strings ``''`` or :attr:`numpy.inf` are not considered NA values\n",
            " |      (unless you set ``pandas.options.mode.use_inf_as_na = True``).\n",
            " |      NA values, such as None or :attr:`numpy.NaN`, get mapped to ``False``\n",
            " |      values.\n",
            " |      \n",
            " |      Returns\n",
            " |      -------\n",
            " |      numpy.ndarray[bool]\n",
            " |          Boolean array to indicate which entries are not NA.\n",
            " |      \n",
            " |      See Also\n",
            " |      --------\n",
            " |      Index.notnull : Alias of notna.\n",
            " |      Index.isna: Inverse of notna.\n",
            " |      notna : Top-level notna.\n",
            " |      \n",
            " |      Examples\n",
            " |      --------\n",
            " |      Show which entries in an Index are not NA. The result is an\n",
            " |      array.\n",
            " |      \n",
            " |      >>> idx = pd.Index([5.2, 6.0, np.NaN])\n",
            " |      >>> idx\n",
            " |      Float64Index([5.2, 6.0, nan], dtype='float64')\n",
            " |      >>> idx.notna()\n",
            " |      array([ True,  True, False])\n",
            " |      \n",
            " |      Empty strings are not considered NA values. None is considered a NA\n",
            " |      value.\n",
            " |      \n",
            " |      >>> idx = pd.Index(['black', '', 'red', None])\n",
            " |      >>> idx\n",
            " |      Index(['black', '', 'red', None], dtype='object')\n",
            " |      >>> idx.notna()\n",
            " |      array([ True,  True,  True, False])\n",
            " |  \n",
            " |  notnull = notna(self) -> 'np.ndarray'\n",
            " |  \n",
            " |  putmask(self, mask, value) -> 'Index'\n",
            " |      Return a new Index of the values set with the mask.\n",
            " |      \n",
            " |      Returns\n",
            " |      -------\n",
            " |      Index\n",
            " |      \n",
            " |      See Also\n",
            " |      --------\n",
            " |      numpy.ndarray.putmask : Changes elements of an array\n",
            " |          based on conditional and input values.\n",
            " |  \n",
            " |  ravel(self, order='C')\n",
            " |      Return an ndarray of the flattened values of the underlying data.\n",
            " |      \n",
            " |      Returns\n",
            " |      -------\n",
            " |      numpy.ndarray\n",
            " |          Flattened array.\n",
            " |      \n",
            " |      See Also\n",
            " |      --------\n",
            " |      numpy.ndarray.ravel : Return a flattened array.\n",
            " |  \n",
            " |  reindex(self, target, method=None, level=None, limit=None, tolerance=None) -> 'tuple[Index, np.ndarray | None]'\n",
            " |      Create index with target's values.\n",
            " |      \n",
            " |      Parameters\n",
            " |      ----------\n",
            " |      target : an iterable\n",
            " |      \n",
            " |      Returns\n",
            " |      -------\n",
            " |      new_index : pd.Index\n",
            " |          Resulting index.\n",
            " |      indexer : np.ndarray[np.intp] or None\n",
            " |          Indices of output values in original index.\n",
            " |  \n",
            " |  rename(self, name, inplace=False)\n",
            " |      Alter Index or MultiIndex name.\n",
            " |      \n",
            " |      Able to set new names without level. Defaults to returning new index.\n",
            " |      Length of names must match number of levels in MultiIndex.\n",
            " |      \n",
            " |      Parameters\n",
            " |      ----------\n",
            " |      name : label or list of labels\n",
            " |          Name(s) to set.\n",
            " |      inplace : bool, default False\n",
            " |          Modifies the object directly, instead of creating a new Index or\n",
            " |          MultiIndex.\n",
            " |      \n",
            " |      Returns\n",
            " |      -------\n",
            " |      Index or None\n",
            " |          The same type as the caller or None if ``inplace=True``.\n",
            " |      \n",
            " |      See Also\n",
            " |      --------\n",
            " |      Index.set_names : Able to set new names partially and by level.\n",
            " |      \n",
            " |      Examples\n",
            " |      --------\n",
            " |      >>> idx = pd.Index(['A', 'C', 'A', 'B'], name='score')\n",
            " |      >>> idx.rename('grade')\n",
            " |      Index(['A', 'C', 'A', 'B'], dtype='object', name='grade')\n",
            " |      \n",
            " |      >>> idx = pd.MultiIndex.from_product([['python', 'cobra'],\n",
            " |      ...                                   [2018, 2019]],\n",
            " |      ...                                   names=['kind', 'year'])\n",
            " |      >>> idx\n",
            " |      MultiIndex([('python', 2018),\n",
            " |                  ('python', 2019),\n",
            " |                  ( 'cobra', 2018),\n",
            " |                  ( 'cobra', 2019)],\n",
            " |                 names=['kind', 'year'])\n",
            " |      >>> idx.rename(['species', 'year'])\n",
            " |      MultiIndex([('python', 2018),\n",
            " |                  ('python', 2019),\n",
            " |                  ( 'cobra', 2018),\n",
            " |                  ( 'cobra', 2019)],\n",
            " |                 names=['species', 'year'])\n",
            " |      >>> idx.rename('species')\n",
            " |      Traceback (most recent call last):\n",
            " |      TypeError: Must pass list-like as `names`.\n",
            " |  \n",
            " |  set_names(self, names, level=None, inplace: 'bool' = False)\n",
            " |      Set Index or MultiIndex name.\n",
            " |      \n",
            " |      Able to set new names partially and by level.\n",
            " |      \n",
            " |      Parameters\n",
            " |      ----------\n",
            " |      \n",
            " |      names : label or list of label or dict-like for MultiIndex\n",
            " |          Name(s) to set.\n",
            " |      \n",
            " |          .. versionchanged:: 1.3.0\n",
            " |      \n",
            " |      level : int, label or list of int or label, optional\n",
            " |          If the index is a MultiIndex and names is not dict-like, level(s) to set\n",
            " |          (None for all levels). Otherwise level must be None.\n",
            " |      \n",
            " |          .. versionchanged:: 1.3.0\n",
            " |      \n",
            " |      inplace : bool, default False\n",
            " |          Modifies the object directly, instead of creating a new Index or\n",
            " |          MultiIndex.\n",
            " |      \n",
            " |      Returns\n",
            " |      -------\n",
            " |      Index or None\n",
            " |          The same type as the caller or None if ``inplace=True``.\n",
            " |      \n",
            " |      See Also\n",
            " |      --------\n",
            " |      Index.rename : Able to set new names without level.\n",
            " |      \n",
            " |      Examples\n",
            " |      --------\n",
            " |      >>> idx = pd.Index([1, 2, 3, 4])\n",
            " |      >>> idx\n",
            " |      Int64Index([1, 2, 3, 4], dtype='int64')\n",
            " |      >>> idx.set_names('quarter')\n",
            " |      Int64Index([1, 2, 3, 4], dtype='int64', name='quarter')\n",
            " |      \n",
            " |      >>> idx = pd.MultiIndex.from_product([['python', 'cobra'],\n",
            " |      ...                                   [2018, 2019]])\n",
            " |      >>> idx\n",
            " |      MultiIndex([('python', 2018),\n",
            " |                  ('python', 2019),\n",
            " |                  ( 'cobra', 2018),\n",
            " |                  ( 'cobra', 2019)],\n",
            " |                 )\n",
            " |      >>> idx.set_names(['kind', 'year'], inplace=True)\n",
            " |      >>> idx\n",
            " |      MultiIndex([('python', 2018),\n",
            " |                  ('python', 2019),\n",
            " |                  ( 'cobra', 2018),\n",
            " |                  ( 'cobra', 2019)],\n",
            " |                 names=['kind', 'year'])\n",
            " |      >>> idx.set_names('species', level=0)\n",
            " |      MultiIndex([('python', 2018),\n",
            " |                  ('python', 2019),\n",
            " |                  ( 'cobra', 2018),\n",
            " |                  ( 'cobra', 2019)],\n",
            " |                 names=['species', 'year'])\n",
            " |      \n",
            " |      When renaming levels with a dict, levels can not be passed.\n",
            " |      \n",
            " |      >>> idx.set_names({'kind': 'snake'})\n",
            " |      MultiIndex([('python', 2018),\n",
            " |                  ('python', 2019),\n",
            " |                  ( 'cobra', 2018),\n",
            " |                  ( 'cobra', 2019)],\n",
            " |                 names=['snake', 'year'])\n",
            " |  \n",
            " |  set_value(self, arr, key, value)\n",
            " |      Fast lookup of value from 1-dimensional ndarray.\n",
            " |      \n",
            " |      .. deprecated:: 1.0\n",
            " |      \n",
            " |      Notes\n",
            " |      -----\n",
            " |      Only use this if you know what you're doing.\n",
            " |  \n",
            " |  shift(self, periods=1, freq=None)\n",
            " |      Shift index by desired number of time frequency increments.\n",
            " |      \n",
            " |      This method is for shifting the values of datetime-like indexes\n",
            " |      by a specified time increment a given number of times.\n",
            " |      \n",
            " |      Parameters\n",
            " |      ----------\n",
            " |      periods : int, default 1\n",
            " |          Number of periods (or increments) to shift by,\n",
            " |          can be positive or negative.\n",
            " |      freq : pandas.DateOffset, pandas.Timedelta or str, optional\n",
            " |          Frequency increment to shift by.\n",
            " |          If None, the index is shifted by its own `freq` attribute.\n",
            " |          Offset aliases are valid strings, e.g., 'D', 'W', 'M' etc.\n",
            " |      \n",
            " |      Returns\n",
            " |      -------\n",
            " |      pandas.Index\n",
            " |          Shifted index.\n",
            " |      \n",
            " |      See Also\n",
            " |      --------\n",
            " |      Series.shift : Shift values of Series.\n",
            " |      \n",
            " |      Notes\n",
            " |      -----\n",
            " |      This method is only implemented for datetime-like index classes,\n",
            " |      i.e., DatetimeIndex, PeriodIndex and TimedeltaIndex.\n",
            " |      \n",
            " |      Examples\n",
            " |      --------\n",
            " |      Put the first 5 month starts of 2011 into an index.\n",
            " |      \n",
            " |      >>> month_starts = pd.date_range('1/1/2011', periods=5, freq='MS')\n",
            " |      >>> month_starts\n",
            " |      DatetimeIndex(['2011-01-01', '2011-02-01', '2011-03-01', '2011-04-01',\n",
            " |                     '2011-05-01'],\n",
            " |                    dtype='datetime64[ns]', freq='MS')\n",
            " |      \n",
            " |      Shift the index by 10 days.\n",
            " |      \n",
            " |      >>> month_starts.shift(10, freq='D')\n",
            " |      DatetimeIndex(['2011-01-11', '2011-02-11', '2011-03-11', '2011-04-11',\n",
            " |                     '2011-05-11'],\n",
            " |                    dtype='datetime64[ns]', freq=None)\n",
            " |      \n",
            " |      The default value of `freq` is the `freq` attribute of the index,\n",
            " |      which is 'MS' (month start) in this example.\n",
            " |      \n",
            " |      >>> month_starts.shift(10)\n",
            " |      DatetimeIndex(['2011-11-01', '2011-12-01', '2012-01-01', '2012-02-01',\n",
            " |                     '2012-03-01'],\n",
            " |                    dtype='datetime64[ns]', freq='MS')\n",
            " |  \n",
            " |  slice_indexer(self, start: 'Hashable | None' = None, end: 'Hashable | None' = None, step: 'int | None' = None, kind: 'str_t | None' = None) -> 'slice'\n",
            " |      Compute the slice indexer for input labels and step.\n",
            " |      \n",
            " |      Index needs to be ordered and unique.\n",
            " |      \n",
            " |      Parameters\n",
            " |      ----------\n",
            " |      start : label, default None\n",
            " |          If None, defaults to the beginning.\n",
            " |      end : label, default None\n",
            " |          If None, defaults to the end.\n",
            " |      step : int, default None\n",
            " |      kind : str, default None\n",
            " |      \n",
            " |      Returns\n",
            " |      -------\n",
            " |      indexer : slice\n",
            " |      \n",
            " |      Raises\n",
            " |      ------\n",
            " |      KeyError : If key does not exist, or key is not unique and index is\n",
            " |          not ordered.\n",
            " |      \n",
            " |      Notes\n",
            " |      -----\n",
            " |      This function assumes that the data is sorted, so use at your own peril\n",
            " |      \n",
            " |      Examples\n",
            " |      --------\n",
            " |      This is a method on all index types. For example you can do:\n",
            " |      \n",
            " |      >>> idx = pd.Index(list('abcd'))\n",
            " |      >>> idx.slice_indexer(start='b', end='c')\n",
            " |      slice(1, 3, None)\n",
            " |      \n",
            " |      >>> idx = pd.MultiIndex.from_arrays([list('abcd'), list('efgh')])\n",
            " |      >>> idx.slice_indexer(start='b', end=('c', 'g'))\n",
            " |      slice(1, 3, None)\n",
            " |  \n",
            " |  slice_locs(self, start=None, end=None, step=None, kind=None)\n",
            " |      Compute slice locations for input labels.\n",
            " |      \n",
            " |      Parameters\n",
            " |      ----------\n",
            " |      start : label, default None\n",
            " |          If None, defaults to the beginning.\n",
            " |      end : label, default None\n",
            " |          If None, defaults to the end.\n",
            " |      step : int, defaults None\n",
            " |          If None, defaults to 1.\n",
            " |      kind : {'loc', 'getitem'} or None\n",
            " |      \n",
            " |      Returns\n",
            " |      -------\n",
            " |      start, end : int\n",
            " |      \n",
            " |      See Also\n",
            " |      --------\n",
            " |      Index.get_loc : Get location for a single label.\n",
            " |      \n",
            " |      Notes\n",
            " |      -----\n",
            " |      This method only works if the index is monotonic or unique.\n",
            " |      \n",
            " |      Examples\n",
            " |      --------\n",
            " |      >>> idx = pd.Index(list('abcd'))\n",
            " |      >>> idx.slice_locs(start='b', end='c')\n",
            " |      (1, 3)\n",
            " |  \n",
            " |  sort(self, *args, **kwargs)\n",
            " |      Use sort_values instead.\n",
            " |  \n",
            " |  sort_values(self, return_indexer: 'bool' = False, ascending: 'bool' = True, na_position: 'str_t' = 'last', key: 'Callable | None' = None)\n",
            " |      Return a sorted copy of the index.\n",
            " |      \n",
            " |      Return a sorted copy of the index, and optionally return the indices\n",
            " |      that sorted the index itself.\n",
            " |      \n",
            " |      Parameters\n",
            " |      ----------\n",
            " |      return_indexer : bool, default False\n",
            " |          Should the indices that would sort the index be returned.\n",
            " |      ascending : bool, default True\n",
            " |          Should the index values be sorted in an ascending order.\n",
            " |      na_position : {'first' or 'last'}, default 'last'\n",
            " |          Argument 'first' puts NaNs at the beginning, 'last' puts NaNs at\n",
            " |          the end.\n",
            " |      \n",
            " |          .. versionadded:: 1.2.0\n",
            " |      \n",
            " |      key : callable, optional\n",
            " |          If not None, apply the key function to the index values\n",
            " |          before sorting. This is similar to the `key` argument in the\n",
            " |          builtin :meth:`sorted` function, with the notable difference that\n",
            " |          this `key` function should be *vectorized*. It should expect an\n",
            " |          ``Index`` and return an ``Index`` of the same shape.\n",
            " |      \n",
            " |          .. versionadded:: 1.1.0\n",
            " |      \n",
            " |      Returns\n",
            " |      -------\n",
            " |      sorted_index : pandas.Index\n",
            " |          Sorted copy of the index.\n",
            " |      indexer : numpy.ndarray, optional\n",
            " |          The indices that the index itself was sorted by.\n",
            " |      \n",
            " |      See Also\n",
            " |      --------\n",
            " |      Series.sort_values : Sort values of a Series.\n",
            " |      DataFrame.sort_values : Sort values in a DataFrame.\n",
            " |      \n",
            " |      Examples\n",
            " |      --------\n",
            " |      >>> idx = pd.Index([10, 100, 1, 1000])\n",
            " |      >>> idx\n",
            " |      Int64Index([10, 100, 1, 1000], dtype='int64')\n",
            " |      \n",
            " |      Sort values in ascending order (default behavior).\n",
            " |      \n",
            " |      >>> idx.sort_values()\n",
            " |      Int64Index([1, 10, 100, 1000], dtype='int64')\n",
            " |      \n",
            " |      Sort values in descending order, and also get the indices `idx` was\n",
            " |      sorted by.\n",
            " |      \n",
            " |      >>> idx.sort_values(ascending=False, return_indexer=True)\n",
            " |      (Int64Index([1000, 100, 10, 1], dtype='int64'), array([3, 1, 0, 2]))\n",
            " |  \n",
            " |  sortlevel(self, level=None, ascending=True, sort_remaining=None)\n",
            " |      For internal compatibility with the Index API.\n",
            " |      \n",
            " |      Sort the Index. This is for compat with MultiIndex\n",
            " |      \n",
            " |      Parameters\n",
            " |      ----------\n",
            " |      ascending : bool, default True\n",
            " |          False to sort in descending order\n",
            " |      \n",
            " |      level, sort_remaining are compat parameters\n",
            " |      \n",
            " |      Returns\n",
            " |      -------\n",
            " |      Index\n",
            " |  \n",
            " |  to_flat_index(self)\n",
            " |      Identity method.\n",
            " |      \n",
            " |      This is implemented for compatibility with subclass implementations\n",
            " |      when chaining.\n",
            " |      \n",
            " |      Returns\n",
            " |      -------\n",
            " |      pd.Index\n",
            " |          Caller.\n",
            " |      \n",
            " |      See Also\n",
            " |      --------\n",
            " |      MultiIndex.to_flat_index : Subclass implementation.\n",
            " |  \n",
            " |  to_frame(self, index: 'bool' = True, name: 'Hashable' = None) -> 'DataFrame'\n",
            " |      Create a DataFrame with a column containing the Index.\n",
            " |      \n",
            " |      Parameters\n",
            " |      ----------\n",
            " |      index : bool, default True\n",
            " |          Set the index of the returned DataFrame as the original Index.\n",
            " |      \n",
            " |      name : object, default None\n",
            " |          The passed name should substitute for the index name (if it has\n",
            " |          one).\n",
            " |      \n",
            " |      Returns\n",
            " |      -------\n",
            " |      DataFrame\n",
            " |          DataFrame containing the original Index data.\n",
            " |      \n",
            " |      See Also\n",
            " |      --------\n",
            " |      Index.to_series : Convert an Index to a Series.\n",
            " |      Series.to_frame : Convert Series to DataFrame.\n",
            " |      \n",
            " |      Examples\n",
            " |      --------\n",
            " |      >>> idx = pd.Index(['Ant', 'Bear', 'Cow'], name='animal')\n",
            " |      >>> idx.to_frame()\n",
            " |             animal\n",
            " |      animal\n",
            " |      Ant       Ant\n",
            " |      Bear     Bear\n",
            " |      Cow       Cow\n",
            " |      \n",
            " |      By default, the original Index is reused. To enforce a new Index:\n",
            " |      \n",
            " |      >>> idx.to_frame(index=False)\n",
            " |          animal\n",
            " |      0   Ant\n",
            " |      1  Bear\n",
            " |      2   Cow\n",
            " |      \n",
            " |      To override the name of the resulting column, specify `name`:\n",
            " |      \n",
            " |      >>> idx.to_frame(index=False, name='zoo')\n",
            " |          zoo\n",
            " |      0   Ant\n",
            " |      1  Bear\n",
            " |      2   Cow\n",
            " |  \n",
            " |  to_native_types(self, slicer=None, **kwargs) -> 'np.ndarray'\n",
            " |      Format specified values of `self` and return them.\n",
            " |      \n",
            " |      .. deprecated:: 1.2.0\n",
            " |      \n",
            " |      Parameters\n",
            " |      ----------\n",
            " |      slicer : int, array-like\n",
            " |          An indexer into `self` that specifies which values\n",
            " |          are used in the formatting process.\n",
            " |      kwargs : dict\n",
            " |          Options for specifying how the values should be formatted.\n",
            " |          These options include the following:\n",
            " |      \n",
            " |          1) na_rep : str\n",
            " |              The value that serves as a placeholder for NULL values\n",
            " |          2) quoting : bool or None\n",
            " |              Whether or not there are quoted values in `self`\n",
            " |          3) date_format : str\n",
            " |              The format used to represent date-like values.\n",
            " |      \n",
            " |      Returns\n",
            " |      -------\n",
            " |      numpy.ndarray\n",
            " |          Formatted values.\n",
            " |  \n",
            " |  to_series(self, index=None, name: 'Hashable' = None) -> 'Series'\n",
            " |      Create a Series with both index and values equal to the index keys.\n",
            " |      \n",
            " |      Useful with map for returning an indexer based on an index.\n",
            " |      \n",
            " |      Parameters\n",
            " |      ----------\n",
            " |      index : Index, optional\n",
            " |          Index of resulting Series. If None, defaults to original index.\n",
            " |      name : str, optional\n",
            " |          Name of resulting Series. If None, defaults to name of original\n",
            " |          index.\n",
            " |      \n",
            " |      Returns\n",
            " |      -------\n",
            " |      Series\n",
            " |          The dtype will be based on the type of the Index values.\n",
            " |      \n",
            " |      See Also\n",
            " |      --------\n",
            " |      Index.to_frame : Convert an Index to a DataFrame.\n",
            " |      Series.to_frame : Convert Series to DataFrame.\n",
            " |      \n",
            " |      Examples\n",
            " |      --------\n",
            " |      >>> idx = pd.Index(['Ant', 'Bear', 'Cow'], name='animal')\n",
            " |      \n",
            " |      By default, the original Index and original name is reused.\n",
            " |      \n",
            " |      >>> idx.to_series()\n",
            " |      animal\n",
            " |      Ant      Ant\n",
            " |      Bear    Bear\n",
            " |      Cow      Cow\n",
            " |      Name: animal, dtype: object\n",
            " |      \n",
            " |      To enforce a new Index, specify new labels to ``index``:\n",
            " |      \n",
            " |      >>> idx.to_series(index=[0, 1, 2])\n",
            " |      0     Ant\n",
            " |      1    Bear\n",
            " |      2     Cow\n",
            " |      Name: animal, dtype: object\n",
            " |      \n",
            " |      To override the name of the resulting column, specify `name`:\n",
            " |      \n",
            " |      >>> idx.to_series(name='zoo')\n",
            " |      animal\n",
            " |      Ant      Ant\n",
            " |      Bear    Bear\n",
            " |      Cow      Cow\n",
            " |      Name: zoo, dtype: object\n",
            " |  \n",
            " |  union(self, other, sort=None)\n",
            " |      Form the union of two Index objects.\n",
            " |      \n",
            " |      If the Index objects are incompatible, both Index objects will be\n",
            " |      cast to dtype('object') first.\n",
            " |      \n",
            " |          .. versionchanged:: 0.25.0\n",
            " |      \n",
            " |      Parameters\n",
            " |      ----------\n",
            " |      other : Index or array-like\n",
            " |      sort : bool or None, default None\n",
            " |          Whether to sort the resulting Index.\n",
            " |      \n",
            " |          * None : Sort the result, except when\n",
            " |      \n",
            " |            1. `self` and `other` are equal.\n",
            " |            2. `self` or `other` has length 0.\n",
            " |            3. Some values in `self` or `other` cannot be compared.\n",
            " |               A RuntimeWarning is issued in this case.\n",
            " |      \n",
            " |          * False : do not sort the result.\n",
            " |      \n",
            " |      Returns\n",
            " |      -------\n",
            " |      union : Index\n",
            " |      \n",
            " |      Examples\n",
            " |      --------\n",
            " |      Union matching dtypes\n",
            " |      \n",
            " |      >>> idx1 = pd.Index([1, 2, 3, 4])\n",
            " |      >>> idx2 = pd.Index([3, 4, 5, 6])\n",
            " |      >>> idx1.union(idx2)\n",
            " |      Int64Index([1, 2, 3, 4, 5, 6], dtype='int64')\n",
            " |      \n",
            " |      Union mismatched dtypes\n",
            " |      \n",
            " |      >>> idx1 = pd.Index(['a', 'b', 'c', 'd'])\n",
            " |      >>> idx2 = pd.Index([1, 2, 3, 4])\n",
            " |      >>> idx1.union(idx2)\n",
            " |      Index(['a', 'b', 'c', 'd', 1, 2, 3, 4], dtype='object')\n",
            " |      \n",
            " |      MultiIndex case\n",
            " |      \n",
            " |      >>> idx1 = pd.MultiIndex.from_arrays(\n",
            " |      ...     [[1, 1, 2, 2], [\"Red\", \"Blue\", \"Red\", \"Blue\"]]\n",
            " |      ... )\n",
            " |      >>> idx1\n",
            " |      MultiIndex([(1,  'Red'),\n",
            " |          (1, 'Blue'),\n",
            " |          (2,  'Red'),\n",
            " |          (2, 'Blue')],\n",
            " |         )\n",
            " |      >>> idx2 = pd.MultiIndex.from_arrays(\n",
            " |      ...     [[3, 3, 2, 2], [\"Red\", \"Green\", \"Red\", \"Green\"]]\n",
            " |      ... )\n",
            " |      >>> idx2\n",
            " |      MultiIndex([(3,   'Red'),\n",
            " |          (3, 'Green'),\n",
            " |          (2,   'Red'),\n",
            " |          (2, 'Green')],\n",
            " |         )\n",
            " |      >>> idx1.union(idx2)\n",
            " |      MultiIndex([(1,  'Blue'),\n",
            " |          (1,   'Red'),\n",
            " |          (2,  'Blue'),\n",
            " |          (2, 'Green'),\n",
            " |          (2,   'Red'),\n",
            " |          (3, 'Green'),\n",
            " |          (3,   'Red')],\n",
            " |         )\n",
            " |      >>> idx1.union(idx2, sort=False)\n",
            " |      MultiIndex([(1,   'Red'),\n",
            " |          (1,  'Blue'),\n",
            " |          (2,   'Red'),\n",
            " |          (2,  'Blue'),\n",
            " |          (3,   'Red'),\n",
            " |          (3, 'Green'),\n",
            " |          (2, 'Green')],\n",
            " |         )\n",
            " |  \n",
            " |  unique(self: '_IndexT', level: 'Hashable | None' = None) -> '_IndexT'\n",
            " |      Return unique values in the index.\n",
            " |      \n",
            " |      Unique values are returned in order of appearance, this does NOT sort.\n",
            " |      \n",
            " |      Parameters\n",
            " |      ----------\n",
            " |      level : int or hashable, optional\n",
            " |          Only return values from specified level (for MultiIndex).\n",
            " |          If int, gets the level by integer position, else by level name.\n",
            " |      \n",
            " |      Returns\n",
            " |      -------\n",
            " |      Index\n",
            " |      \n",
            " |      See Also\n",
            " |      --------\n",
            " |      unique : Numpy array of unique values in that column.\n",
            " |      Series.unique : Return unique values of Series object.\n",
            " |  \n",
            " |  view(self, cls=None)\n",
            " |  \n",
            " |  where(self, cond, other=None) -> 'Index'\n",
            " |      Replace values where the condition is False.\n",
            " |      \n",
            " |      The replacement is taken from other.\n",
            " |      \n",
            " |      Parameters\n",
            " |      ----------\n",
            " |      cond : bool array-like with the same length as self\n",
            " |          Condition to select the values on.\n",
            " |      other : scalar, or array-like, default None\n",
            " |          Replacement if the condition is False.\n",
            " |      \n",
            " |      Returns\n",
            " |      -------\n",
            " |      pandas.Index\n",
            " |          A copy of self with values replaced from other\n",
            " |          where the condition is False.\n",
            " |      \n",
            " |      See Also\n",
            " |      --------\n",
            " |      Series.where : Same method for Series.\n",
            " |      DataFrame.where : Same method for DataFrame.\n",
            " |      \n",
            " |      Examples\n",
            " |      --------\n",
            " |      >>> idx = pd.Index(['car', 'bike', 'train', 'tractor'])\n",
            " |      >>> idx\n",
            " |      Index(['car', 'bike', 'train', 'tractor'], dtype='object')\n",
            " |      >>> idx.where(idx.isin(['car', 'train']), 'other')\n",
            " |      Index(['car', 'other', 'train', 'other'], dtype='object')\n",
            " |  \n",
            " |  ----------------------------------------------------------------------\n",
            " |  Readonly properties inherited from pandas.core.indexes.base.Index:\n",
            " |  \n",
            " |  asi8\n",
            " |      Integer representation of the values.\n",
            " |      \n",
            " |      Returns\n",
            " |      -------\n",
            " |      ndarray\n",
            " |          An ndarray with int64 dtype.\n",
            " |  \n",
            " |  has_duplicates\n",
            " |      Check if the Index has duplicate values.\n",
            " |      \n",
            " |      Returns\n",
            " |      -------\n",
            " |      bool\n",
            " |          Whether or not the Index has duplicate values.\n",
            " |      \n",
            " |      Examples\n",
            " |      --------\n",
            " |      >>> idx = pd.Index([1, 5, 7, 7])\n",
            " |      >>> idx.has_duplicates\n",
            " |      True\n",
            " |      \n",
            " |      >>> idx = pd.Index([1, 5, 7])\n",
            " |      >>> idx.has_duplicates\n",
            " |      False\n",
            " |      \n",
            " |      >>> idx = pd.Index([\"Watermelon\", \"Orange\", \"Apple\",\n",
            " |      ...                 \"Watermelon\"]).astype(\"category\")\n",
            " |      >>> idx.has_duplicates\n",
            " |      True\n",
            " |      \n",
            " |      >>> idx = pd.Index([\"Orange\", \"Apple\",\n",
            " |      ...                 \"Watermelon\"]).astype(\"category\")\n",
            " |      >>> idx.has_duplicates\n",
            " |      False\n",
            " |  \n",
            " |  is_monotonic\n",
            " |      Alias for is_monotonic_increasing.\n",
            " |  \n",
            " |  nlevels\n",
            " |      Number of levels.\n",
            " |  \n",
            " |  shape\n",
            " |      Return a tuple of the shape of the underlying data.\n",
            " |  \n",
            " |  values\n",
            " |      Return an array representing the data in the Index.\n",
            " |      \n",
            " |      .. warning::\n",
            " |      \n",
            " |         We recommend using :attr:`Index.array` or\n",
            " |         :meth:`Index.to_numpy`, depending on whether you need\n",
            " |         a reference to the underlying data or a NumPy array.\n",
            " |      \n",
            " |      Returns\n",
            " |      -------\n",
            " |      array: numpy.ndarray or ExtensionArray\n",
            " |      \n",
            " |      See Also\n",
            " |      --------\n",
            " |      Index.array : Reference to the underlying data.\n",
            " |      Index.to_numpy : A NumPy array representing the underlying data.\n",
            " |  \n",
            " |  ----------------------------------------------------------------------\n",
            " |  Data descriptors inherited from pandas.core.indexes.base.Index:\n",
            " |  \n",
            " |  array\n",
            " |      The ExtensionArray of the data backing this Series or Index.\n",
            " |      \n",
            " |      Returns\n",
            " |      -------\n",
            " |      ExtensionArray\n",
            " |          An ExtensionArray of the values stored within. For extension\n",
            " |          types, this is the actual array. For NumPy native types, this\n",
            " |          is a thin (no copy) wrapper around :class:`numpy.ndarray`.\n",
            " |      \n",
            " |          ``.array`` differs ``.values`` which may require converting the\n",
            " |          data to a different form.\n",
            " |      \n",
            " |      See Also\n",
            " |      --------\n",
            " |      Index.to_numpy : Similar method that always returns a NumPy array.\n",
            " |      Series.to_numpy : Similar method that always returns a NumPy array.\n",
            " |      \n",
            " |      Notes\n",
            " |      -----\n",
            " |      This table lays out the different array types for each extension\n",
            " |      dtype within pandas.\n",
            " |      \n",
            " |      ================== =============================\n",
            " |      dtype              array type\n",
            " |      ================== =============================\n",
            " |      category           Categorical\n",
            " |      period             PeriodArray\n",
            " |      interval           IntervalArray\n",
            " |      IntegerNA          IntegerArray\n",
            " |      string             StringArray\n",
            " |      boolean            BooleanArray\n",
            " |      datetime64[ns, tz] DatetimeArray\n",
            " |      ================== =============================\n",
            " |      \n",
            " |      For any 3rd-party extension types, the array type will be an\n",
            " |      ExtensionArray.\n",
            " |      \n",
            " |      For all remaining dtypes ``.array`` will be a\n",
            " |      :class:`arrays.NumpyExtensionArray` wrapping the actual ndarray\n",
            " |      stored within. If you absolutely need a NumPy array (possibly with\n",
            " |      copying / coercing data), then use :meth:`Series.to_numpy` instead.\n",
            " |      \n",
            " |      Examples\n",
            " |      --------\n",
            " |      For regular NumPy types like int, and float, a PandasArray\n",
            " |      is returned.\n",
            " |      \n",
            " |      >>> pd.Series([1, 2, 3]).array\n",
            " |      <PandasArray>\n",
            " |      [1, 2, 3]\n",
            " |      Length: 3, dtype: int64\n",
            " |      \n",
            " |      For extension types, like Categorical, the actual ExtensionArray\n",
            " |      is returned\n",
            " |      \n",
            " |      >>> ser = pd.Series(pd.Categorical(['a', 'b', 'a']))\n",
            " |      >>> ser.array\n",
            " |      ['a', 'b', 'a']\n",
            " |      Categories (2, object): ['a', 'b']\n",
            " |  \n",
            " |  hasnans\n",
            " |      Return if I have any nans; enables various perf speedups.\n",
            " |  \n",
            " |  is_all_dates\n",
            " |      Whether or not the index values only consist of dates.\n",
            " |  \n",
            " |  name\n",
            " |      Return Index or MultiIndex name.\n",
            " |  \n",
            " |  names\n",
            " |  \n",
            " |  ----------------------------------------------------------------------\n",
            " |  Data and other attributes inherited from pandas.core.indexes.base.Index:\n",
            " |  \n",
            " |  str = <class 'pandas.core.strings.accessor.StringMethods'>\n",
            " |      Vectorized string functions for Series and Index.\n",
            " |      \n",
            " |      NAs stay NA unless handled otherwise by a particular method.\n",
            " |      Patterned after Python's string methods, with some inspiration from\n",
            " |      R's stringr package.\n",
            " |      \n",
            " |      Examples\n",
            " |      --------\n",
            " |      >>> s = pd.Series([\"A_Str_Series\"])\n",
            " |      >>> s\n",
            " |      0    A_Str_Series\n",
            " |      dtype: object\n",
            " |      \n",
            " |      >>> s.str.split(\"_\")\n",
            " |      0    [A, Str, Series]\n",
            " |      dtype: object\n",
            " |      \n",
            " |      >>> s.str.replace(\"_\", \"\")\n",
            " |      0    AStrSeries\n",
            " |      dtype: object\n",
            " |  \n",
            " |  \n",
            " |  ----------------------------------------------------------------------\n",
            " |  Methods inherited from pandas.core.base.IndexOpsMixin:\n",
            " |  \n",
            " |  argmax(self, axis=None, skipna: 'bool' = True, *args, **kwargs) -> 'int'\n",
            " |      Return int position of the largest value in the Series.\n",
            " |      \n",
            " |      If the maximum is achieved in multiple locations,\n",
            " |      the first row position is returned.\n",
            " |      \n",
            " |      Parameters\n",
            " |      ----------\n",
            " |      axis : {None}\n",
            " |          Dummy argument for consistency with Series.\n",
            " |      skipna : bool, default True\n",
            " |          Exclude NA/null values when showing the result.\n",
            " |      *args, **kwargs\n",
            " |          Additional arguments and keywords for compatibility with NumPy.\n",
            " |      \n",
            " |      Returns\n",
            " |      -------\n",
            " |      int\n",
            " |          Row position of the maximum value.\n",
            " |      \n",
            " |      See Also\n",
            " |      --------\n",
            " |      Series.argmax : Return position of the maximum value.\n",
            " |      Series.argmin : Return position of the minimum value.\n",
            " |      numpy.ndarray.argmax : Equivalent method for numpy arrays.\n",
            " |      Series.idxmax : Return index label of the maximum values.\n",
            " |      Series.idxmin : Return index label of the minimum values.\n",
            " |      \n",
            " |      Examples\n",
            " |      --------\n",
            " |      Consider dataset containing cereal calories\n",
            " |      \n",
            " |      >>> s = pd.Series({'Corn Flakes': 100.0, 'Almond Delight': 110.0,\n",
            " |      ...                'Cinnamon Toast Crunch': 120.0, 'Cocoa Puff': 110.0})\n",
            " |      >>> s\n",
            " |      Corn Flakes              100.0\n",
            " |      Almond Delight           110.0\n",
            " |      Cinnamon Toast Crunch    120.0\n",
            " |      Cocoa Puff               110.0\n",
            " |      dtype: float64\n",
            " |      \n",
            " |      >>> s.argmax()\n",
            " |      2\n",
            " |      >>> s.argmin()\n",
            " |      0\n",
            " |      \n",
            " |      The maximum cereal calories is the third element and\n",
            " |      the minimum cereal calories is the first element,\n",
            " |      since series is zero-indexed.\n",
            " |  \n",
            " |  argmin(self, axis=None, skipna=True, *args, **kwargs) -> 'int'\n",
            " |      Return int position of the smallest value in the Series.\n",
            " |      \n",
            " |      If the minimum is achieved in multiple locations,\n",
            " |      the first row position is returned.\n",
            " |      \n",
            " |      Parameters\n",
            " |      ----------\n",
            " |      axis : {None}\n",
            " |          Dummy argument for consistency with Series.\n",
            " |      skipna : bool, default True\n",
            " |          Exclude NA/null values when showing the result.\n",
            " |      *args, **kwargs\n",
            " |          Additional arguments and keywords for compatibility with NumPy.\n",
            " |      \n",
            " |      Returns\n",
            " |      -------\n",
            " |      int\n",
            " |          Row position of the minimum value.\n",
            " |      \n",
            " |      See Also\n",
            " |      --------\n",
            " |      Series.argmin : Return position of the minimum value.\n",
            " |      Series.argmax : Return position of the maximum value.\n",
            " |      numpy.ndarray.argmin : Equivalent method for numpy arrays.\n",
            " |      Series.idxmax : Return index label of the maximum values.\n",
            " |      Series.idxmin : Return index label of the minimum values.\n",
            " |      \n",
            " |      Examples\n",
            " |      --------\n",
            " |      Consider dataset containing cereal calories\n",
            " |      \n",
            " |      >>> s = pd.Series({'Corn Flakes': 100.0, 'Almond Delight': 110.0,\n",
            " |      ...                'Cinnamon Toast Crunch': 120.0, 'Cocoa Puff': 110.0})\n",
            " |      >>> s\n",
            " |      Corn Flakes              100.0\n",
            " |      Almond Delight           110.0\n",
            " |      Cinnamon Toast Crunch    120.0\n",
            " |      Cocoa Puff               110.0\n",
            " |      dtype: float64\n",
            " |      \n",
            " |      >>> s.argmax()\n",
            " |      2\n",
            " |      >>> s.argmin()\n",
            " |      0\n",
            " |      \n",
            " |      The maximum cereal calories is the third element and\n",
            " |      the minimum cereal calories is the first element,\n",
            " |      since series is zero-indexed.\n",
            " |  \n",
            " |  item(self)\n",
            " |      Return the first element of the underlying data as a Python scalar.\n",
            " |      \n",
            " |      Returns\n",
            " |      -------\n",
            " |      scalar\n",
            " |          The first element of %(klass)s.\n",
            " |      \n",
            " |      Raises\n",
            " |      ------\n",
            " |      ValueError\n",
            " |          If the data is not length-1.\n",
            " |  \n",
            " |  nunique(self, dropna: 'bool' = True) -> 'int'\n",
            " |      Return number of unique elements in the object.\n",
            " |      \n",
            " |      Excludes NA values by default.\n",
            " |      \n",
            " |      Parameters\n",
            " |      ----------\n",
            " |      dropna : bool, default True\n",
            " |          Don't include NaN in the count.\n",
            " |      \n",
            " |      Returns\n",
            " |      -------\n",
            " |      int\n",
            " |      \n",
            " |      See Also\n",
            " |      --------\n",
            " |      DataFrame.nunique: Method nunique for DataFrame.\n",
            " |      Series.count: Count non-NA/null observations in the Series.\n",
            " |      \n",
            " |      Examples\n",
            " |      --------\n",
            " |      >>> s = pd.Series([1, 3, 5, 7, 7])\n",
            " |      >>> s\n",
            " |      0    1\n",
            " |      1    3\n",
            " |      2    5\n",
            " |      3    7\n",
            " |      4    7\n",
            " |      dtype: int64\n",
            " |      \n",
            " |      >>> s.nunique()\n",
            " |      4\n",
            " |  \n",
            " |  searchsorted(self, value, side='left', sorter=None) -> 'np.ndarray'\n",
            " |      Find indices where elements should be inserted to maintain order.\n",
            " |      \n",
            " |      Find the indices into a sorted Index `self` such that, if the\n",
            " |      corresponding elements in `value` were inserted before the indices,\n",
            " |      the order of `self` would be preserved.\n",
            " |      \n",
            " |      .. note::\n",
            " |      \n",
            " |          The Index *must* be monotonically sorted, otherwise\n",
            " |          wrong locations will likely be returned. Pandas does *not*\n",
            " |          check this for you.\n",
            " |      \n",
            " |      Parameters\n",
            " |      ----------\n",
            " |      value : array-like\n",
            " |          Values to insert into `self`.\n",
            " |      side : {'left', 'right'}, optional\n",
            " |          If 'left', the index of the first suitable location found is given.\n",
            " |          If 'right', return the last such index.  If there is no suitable\n",
            " |          index, return either 0 or N (where N is the length of `self`).\n",
            " |      sorter : 1-D array-like, optional\n",
            " |          Optional array of integer indices that sort `self` into ascending\n",
            " |          order. They are typically the result of ``np.argsort``.\n",
            " |      \n",
            " |      Returns\n",
            " |      -------\n",
            " |      int or array of int\n",
            " |          A scalar or array of insertion points with the\n",
            " |          same shape as `value`.\n",
            " |      \n",
            " |      See Also\n",
            " |      --------\n",
            " |      sort_values : Sort by the values along either axis.\n",
            " |      numpy.searchsorted : Similar method from NumPy.\n",
            " |      \n",
            " |      Notes\n",
            " |      -----\n",
            " |      Binary search is used to find the required insertion points.\n",
            " |      \n",
            " |      Examples\n",
            " |      --------\n",
            " |      >>> ser = pd.Series([1, 2, 3])\n",
            " |      >>> ser\n",
            " |      0    1\n",
            " |      1    2\n",
            " |      2    3\n",
            " |      dtype: int64\n",
            " |      \n",
            " |      >>> ser.searchsorted(4)\n",
            " |      3\n",
            " |      \n",
            " |      >>> ser.searchsorted([0, 4])\n",
            " |      array([0, 3])\n",
            " |      \n",
            " |      >>> ser.searchsorted([1, 3], side='left')\n",
            " |      array([0, 2])\n",
            " |      \n",
            " |      >>> ser.searchsorted([1, 3], side='right')\n",
            " |      array([1, 3])\n",
            " |      \n",
            " |      >>> ser = pd.Series(pd.to_datetime(['3/11/2000', '3/12/2000', '3/13/2000']))\n",
            " |      >>> ser\n",
            " |      0   2000-03-11\n",
            " |      1   2000-03-12\n",
            " |      2   2000-03-13\n",
            " |      dtype: datetime64[ns]\n",
            " |      \n",
            " |      >>> ser.searchsorted('3/14/2000')\n",
            " |      3\n",
            " |      \n",
            " |      >>> ser = pd.Categorical(\n",
            " |      ...     ['apple', 'bread', 'bread', 'cheese', 'milk'], ordered=True\n",
            " |      ... )\n",
            " |      >>> ser\n",
            " |      ['apple', 'bread', 'bread', 'cheese', 'milk']\n",
            " |      Categories (4, object): ['apple' < 'bread' < 'cheese' < 'milk']\n",
            " |      \n",
            " |      >>> ser.searchsorted('bread')\n",
            " |      1\n",
            " |      \n",
            " |      >>> ser.searchsorted(['bread'], side='right')\n",
            " |      array([3])\n",
            " |      \n",
            " |      If the values are not monotonically sorted, wrong locations\n",
            " |      may be returned:\n",
            " |      \n",
            " |      >>> ser = pd.Series([2, 1, 3])\n",
            " |      >>> ser\n",
            " |      0    2\n",
            " |      1    1\n",
            " |      2    3\n",
            " |      dtype: int64\n",
            " |      \n",
            " |      >>> ser.searchsorted(1)  # doctest: +SKIP\n",
            " |      0  # wrong result, correct would be 1\n",
            " |  \n",
            " |  to_list = tolist(self)\n",
            " |      Return a list of the values.\n",
            " |      \n",
            " |      These are each a scalar type, which is a Python scalar\n",
            " |      (for str, int, float) or a pandas scalar\n",
            " |      (for Timestamp/Timedelta/Interval/Period)\n",
            " |      \n",
            " |      Returns\n",
            " |      -------\n",
            " |      list\n",
            " |      \n",
            " |      See Also\n",
            " |      --------\n",
            " |      numpy.ndarray.tolist : Return the array as an a.ndim-levels deep\n",
            " |          nested list of Python scalars.\n",
            " |  \n",
            " |  to_numpy(self, dtype: 'Dtype | None' = None, copy: 'bool' = False, na_value=<no_default>, **kwargs) -> 'np.ndarray'\n",
            " |      A NumPy ndarray representing the values in this Series or Index.\n",
            " |      \n",
            " |      Parameters\n",
            " |      ----------\n",
            " |      dtype : str or numpy.dtype, optional\n",
            " |          The dtype to pass to :meth:`numpy.asarray`.\n",
            " |      copy : bool, default False\n",
            " |          Whether to ensure that the returned value is not a view on\n",
            " |          another array. Note that ``copy=False`` does not *ensure* that\n",
            " |          ``to_numpy()`` is no-copy. Rather, ``copy=True`` ensure that\n",
            " |          a copy is made, even if not strictly necessary.\n",
            " |      na_value : Any, optional\n",
            " |          The value to use for missing values. The default value depends\n",
            " |          on `dtype` and the type of the array.\n",
            " |      \n",
            " |          .. versionadded:: 1.0.0\n",
            " |      \n",
            " |      **kwargs\n",
            " |          Additional keywords passed through to the ``to_numpy`` method\n",
            " |          of the underlying array (for extension arrays).\n",
            " |      \n",
            " |          .. versionadded:: 1.0.0\n",
            " |      \n",
            " |      Returns\n",
            " |      -------\n",
            " |      numpy.ndarray\n",
            " |      \n",
            " |      See Also\n",
            " |      --------\n",
            " |      Series.array : Get the actual data stored within.\n",
            " |      Index.array : Get the actual data stored within.\n",
            " |      DataFrame.to_numpy : Similar method for DataFrame.\n",
            " |      \n",
            " |      Notes\n",
            " |      -----\n",
            " |      The returned array will be the same up to equality (values equal\n",
            " |      in `self` will be equal in the returned array; likewise for values\n",
            " |      that are not equal). When `self` contains an ExtensionArray, the\n",
            " |      dtype may be different. For example, for a category-dtype Series,\n",
            " |      ``to_numpy()`` will return a NumPy array and the categorical dtype\n",
            " |      will be lost.\n",
            " |      \n",
            " |      For NumPy dtypes, this will be a reference to the actual data stored\n",
            " |      in this Series or Index (assuming ``copy=False``). Modifying the result\n",
            " |      in place will modify the data stored in the Series or Index (not that\n",
            " |      we recommend doing that).\n",
            " |      \n",
            " |      For extension types, ``to_numpy()`` *may* require copying data and\n",
            " |      coercing the result to a NumPy type (possibly object), which may be\n",
            " |      expensive. When you need a no-copy reference to the underlying data,\n",
            " |      :attr:`Series.array` should be used instead.\n",
            " |      \n",
            " |      This table lays out the different dtypes and default return types of\n",
            " |      ``to_numpy()`` for various dtypes within pandas.\n",
            " |      \n",
            " |      ================== ================================\n",
            " |      dtype              array type\n",
            " |      ================== ================================\n",
            " |      category[T]        ndarray[T] (same dtype as input)\n",
            " |      period             ndarray[object] (Periods)\n",
            " |      interval           ndarray[object] (Intervals)\n",
            " |      IntegerNA          ndarray[object]\n",
            " |      datetime64[ns]     datetime64[ns]\n",
            " |      datetime64[ns, tz] ndarray[object] (Timestamps)\n",
            " |      ================== ================================\n",
            " |      \n",
            " |      Examples\n",
            " |      --------\n",
            " |      >>> ser = pd.Series(pd.Categorical(['a', 'b', 'a']))\n",
            " |      >>> ser.to_numpy()\n",
            " |      array(['a', 'b', 'a'], dtype=object)\n",
            " |      \n",
            " |      Specify the `dtype` to control how datetime-aware data is represented.\n",
            " |      Use ``dtype=object`` to return an ndarray of pandas :class:`Timestamp`\n",
            " |      objects, each with the correct ``tz``.\n",
            " |      \n",
            " |      >>> ser = pd.Series(pd.date_range('2000', periods=2, tz=\"CET\"))\n",
            " |      >>> ser.to_numpy(dtype=object)\n",
            " |      array([Timestamp('2000-01-01 00:00:00+0100', tz='CET'),\n",
            " |             Timestamp('2000-01-02 00:00:00+0100', tz='CET')],\n",
            " |            dtype=object)\n",
            " |      \n",
            " |      Or ``dtype='datetime64[ns]'`` to return an ndarray of native\n",
            " |      datetime64 values. The values are converted to UTC and the timezone\n",
            " |      info is dropped.\n",
            " |      \n",
            " |      >>> ser.to_numpy(dtype=\"datetime64[ns]\")\n",
            " |      ... # doctest: +ELLIPSIS\n",
            " |      array(['1999-12-31T23:00:00.000000000', '2000-01-01T23:00:00...'],\n",
            " |            dtype='datetime64[ns]')\n",
            " |  \n",
            " |  transpose(self: '_T', *args, **kwargs) -> '_T'\n",
            " |      Return the transpose, which is by definition self.\n",
            " |      \n",
            " |      Returns\n",
            " |      -------\n",
            " |      %(klass)s\n",
            " |  \n",
            " |  value_counts(self, normalize: 'bool' = False, sort: 'bool' = True, ascending: 'bool' = False, bins=None, dropna: 'bool' = True)\n",
            " |      Return a Series containing counts of unique values.\n",
            " |      \n",
            " |      The resulting object will be in descending order so that the\n",
            " |      first element is the most frequently-occurring element.\n",
            " |      Excludes NA values by default.\n",
            " |      \n",
            " |      Parameters\n",
            " |      ----------\n",
            " |      normalize : bool, default False\n",
            " |          If True then the object returned will contain the relative\n",
            " |          frequencies of the unique values.\n",
            " |      sort : bool, default True\n",
            " |          Sort by frequencies.\n",
            " |      ascending : bool, default False\n",
            " |          Sort in ascending order.\n",
            " |      bins : int, optional\n",
            " |          Rather than count values, group them into half-open bins,\n",
            " |          a convenience for ``pd.cut``, only works with numeric data.\n",
            " |      dropna : bool, default True\n",
            " |          Don't include counts of NaN.\n",
            " |      \n",
            " |      Returns\n",
            " |      -------\n",
            " |      Series\n",
            " |      \n",
            " |      See Also\n",
            " |      --------\n",
            " |      Series.count: Number of non-NA elements in a Series.\n",
            " |      DataFrame.count: Number of non-NA elements in a DataFrame.\n",
            " |      DataFrame.value_counts: Equivalent method on DataFrames.\n",
            " |      \n",
            " |      Examples\n",
            " |      --------\n",
            " |      >>> index = pd.Index([3, 1, 2, 3, 4, np.nan])\n",
            " |      >>> index.value_counts()\n",
            " |      3.0    2\n",
            " |      1.0    1\n",
            " |      2.0    1\n",
            " |      4.0    1\n",
            " |      dtype: int64\n",
            " |      \n",
            " |      With `normalize` set to `True`, returns the relative frequency by\n",
            " |      dividing all values by the sum of values.\n",
            " |      \n",
            " |      >>> s = pd.Series([3, 1, 2, 3, 4, np.nan])\n",
            " |      >>> s.value_counts(normalize=True)\n",
            " |      3.0    0.4\n",
            " |      1.0    0.2\n",
            " |      2.0    0.2\n",
            " |      4.0    0.2\n",
            " |      dtype: float64\n",
            " |      \n",
            " |      **bins**\n",
            " |      \n",
            " |      Bins can be useful for going from a continuous variable to a\n",
            " |      categorical variable; instead of counting unique\n",
            " |      apparitions of values, divide the index in the specified\n",
            " |      number of half-open bins.\n",
            " |      \n",
            " |      >>> s.value_counts(bins=3)\n",
            " |      (0.996, 2.0]    2\n",
            " |      (2.0, 3.0]      2\n",
            " |      (3.0, 4.0]      1\n",
            " |      dtype: int64\n",
            " |      \n",
            " |      **dropna**\n",
            " |      \n",
            " |      With `dropna` set to `False` we can also see NaN index values.\n",
            " |      \n",
            " |      >>> s.value_counts(dropna=False)\n",
            " |      3.0    2\n",
            " |      1.0    1\n",
            " |      2.0    1\n",
            " |      4.0    1\n",
            " |      NaN    1\n",
            " |      dtype: int64\n",
            " |  \n",
            " |  ----------------------------------------------------------------------\n",
            " |  Readonly properties inherited from pandas.core.base.IndexOpsMixin:\n",
            " |  \n",
            " |  T\n",
            " |      Return the transpose, which is by definition self.\n",
            " |  \n",
            " |  empty\n",
            " |  \n",
            " |  ndim\n",
            " |      Number of dimensions of the underlying data, by definition 1.\n",
            " |  \n",
            " |  ----------------------------------------------------------------------\n",
            " |  Data and other attributes inherited from pandas.core.base.IndexOpsMixin:\n",
            " |  \n",
            " |  __array_priority__ = 1000\n",
            " |  \n",
            " |  ----------------------------------------------------------------------\n",
            " |  Methods inherited from pandas.core.arraylike.OpsMixin:\n",
            " |  \n",
            " |  __add__(self, other)\n",
            " |  \n",
            " |  __divmod__(self, other)\n",
            " |  \n",
            " |  __eq__(self, other)\n",
            " |      Return self==value.\n",
            " |  \n",
            " |  __ge__(self, other)\n",
            " |      Return self>=value.\n",
            " |  \n",
            " |  __gt__(self, other)\n",
            " |      Return self>value.\n",
            " |  \n",
            " |  __le__(self, other)\n",
            " |      Return self<=value.\n",
            " |  \n",
            " |  __lt__(self, other)\n",
            " |      Return self<value.\n",
            " |  \n",
            " |  __mod__(self, other)\n",
            " |  \n",
            " |  __mul__(self, other)\n",
            " |  \n",
            " |  __ne__(self, other)\n",
            " |      Return self!=value.\n",
            " |  \n",
            " |  __pow__(self, other)\n",
            " |  \n",
            " |  __radd__(self, other)\n",
            " |  \n",
            " |  __rand__(self, other)\n",
            " |  \n",
            " |  __rdivmod__(self, other)\n",
            " |  \n",
            " |  __rfloordiv__(self, other)\n",
            " |  \n",
            " |  __rmod__(self, other)\n",
            " |  \n",
            " |  __rmul__(self, other)\n",
            " |  \n",
            " |  __ror__(self, other)\n",
            " |  \n",
            " |  __rpow__(self, other)\n",
            " |  \n",
            " |  __rsub__(self, other)\n",
            " |  \n",
            " |  __rtruediv__(self, other)\n",
            " |  \n",
            " |  __rxor__(self, other)\n",
            " |  \n",
            " |  __sub__(self, other)\n",
            " |  \n",
            " |  __truediv__(self, other)\n",
            " |  \n",
            " |  ----------------------------------------------------------------------\n",
            " |  Data descriptors inherited from pandas.core.arraylike.OpsMixin:\n",
            " |  \n",
            " |  __dict__\n",
            " |      dictionary for instance variables (if defined)\n",
            " |  \n",
            " |  __weakref__\n",
            " |      list of weak references to the object (if defined)\n",
            " |  \n",
            " |  ----------------------------------------------------------------------\n",
            " |  Data and other attributes inherited from pandas.core.arraylike.OpsMixin:\n",
            " |  \n",
            " |  __hash__ = None\n",
            " |  \n",
            " |  ----------------------------------------------------------------------\n",
            " |  Methods inherited from pandas.core.base.PandasObject:\n",
            " |  \n",
            " |  __sizeof__(self) -> 'int'\n",
            " |      Generates the total memory usage for an object that returns\n",
            " |      either a value or Series of values\n",
            " |  \n",
            " |  ----------------------------------------------------------------------\n",
            " |  Methods inherited from pandas.core.accessor.DirNamesMixin:\n",
            " |  \n",
            " |  __dir__(self) -> 'list[str]'\n",
            " |      Provide method name lookup and completion.\n",
            " |      \n",
            " |      Notes\n",
            " |      -----\n",
            " |      Only provide 'public' methods.\n",
            "\n"
          ]
        }
      ],
      "source": [
        "help(pd.core.indexes.range.RangeIndex)"
      ]
    },
    {
      "cell_type": "code",
      "execution_count": null,
      "id": "36998c37",
      "metadata": {
        "id": "36998c37"
      },
      "outputs": [],
      "source": [
        "s2 = pd.Series([10, 20, 30, 40, 50], index=['a', 'b', 'c', 'd', 'e'], name=\"My series\")  # Assigning index & Name"
      ]
    },
    {
      "cell_type": "code",
      "execution_count": null,
      "id": "a06a7bc6",
      "metadata": {
        "id": "a06a7bc6",
        "outputId": "3a5b3526-1e8a-440f-9cbe-3e4f69458287",
        "colab": {
          "base_uri": "https://localhost:8080/"
        }
      },
      "outputs": [
        {
          "output_type": "execute_result",
          "data": {
            "text/plain": [
              "a    10\n",
              "b    20\n",
              "c    30\n",
              "d    40\n",
              "e    50\n",
              "Name: My series, dtype: int64"
            ]
          },
          "metadata": {},
          "execution_count": 15
        }
      ],
      "source": [
        "s2"
      ]
    },
    {
      "cell_type": "code",
      "execution_count": null,
      "id": "f3f3496c",
      "metadata": {
        "id": "f3f3496c",
        "outputId": "74cc520e-eb3a-4879-bb15-f4bb09b4c2cc",
        "colab": {
          "base_uri": "https://localhost:8080/"
        }
      },
      "outputs": [
        {
          "output_type": "execute_result",
          "data": {
            "text/plain": [
              "pandas.core.series.Series"
            ]
          },
          "metadata": {},
          "execution_count": 16
        }
      ],
      "source": [
        "type(s2)"
      ]
    },
    {
      "cell_type": "code",
      "execution_count": null,
      "id": "96789420",
      "metadata": {
        "id": "96789420"
      },
      "outputs": [],
      "source": [
        "v2 = s2.values"
      ]
    },
    {
      "cell_type": "code",
      "execution_count": null,
      "id": "ebcb4292",
      "metadata": {
        "id": "ebcb4292",
        "outputId": "62bdec18-2f82-4ac3-ea51-dcb608d4d89b",
        "colab": {
          "base_uri": "https://localhost:8080/"
        }
      },
      "outputs": [
        {
          "output_type": "execute_result",
          "data": {
            "text/plain": [
              "array([10, 20, 30, 40, 50])"
            ]
          },
          "metadata": {},
          "execution_count": 18
        }
      ],
      "source": [
        "v2"
      ]
    },
    {
      "cell_type": "code",
      "execution_count": null,
      "id": "e3448365",
      "metadata": {
        "id": "e3448365"
      },
      "outputs": [],
      "source": [
        "i2 = s2.index"
      ]
    },
    {
      "cell_type": "code",
      "execution_count": null,
      "id": "a34ab289",
      "metadata": {
        "id": "a34ab289",
        "outputId": "f84df95e-6655-4b7c-b481-bf7b3f4e8cf4",
        "colab": {
          "base_uri": "https://localhost:8080/"
        }
      },
      "outputs": [
        {
          "output_type": "execute_result",
          "data": {
            "text/plain": [
              "Index(['a', 'b', 'c', 'd', 'e'], dtype='object')"
            ]
          },
          "metadata": {},
          "execution_count": 20
        }
      ],
      "source": [
        "i2"
      ]
    },
    {
      "cell_type": "code",
      "execution_count": null,
      "id": "f24d2437",
      "metadata": {
        "id": "f24d2437",
        "outputId": "ad2d74b6-1e91-455a-8f63-ad9e87204c5a",
        "colab": {
          "base_uri": "https://localhost:8080/"
        }
      },
      "outputs": [
        {
          "output_type": "execute_result",
          "data": {
            "text/plain": [
              "pandas.core.indexes.base.Index"
            ]
          },
          "metadata": {},
          "execution_count": 21
        }
      ],
      "source": [
        "type(i2)"
      ]
    },
    {
      "cell_type": "code",
      "execution_count": null,
      "id": "28761f2e",
      "metadata": {
        "id": "28761f2e",
        "outputId": "04831333-d8f9-44da-e150-5e1ad50bd1cb",
        "colab": {
          "base_uri": "https://localhost:8080/",
          "height": 36
        }
      },
      "outputs": [
        {
          "output_type": "execute_result",
          "data": {
            "text/plain": [
              "'My series'"
            ],
            "application/vnd.google.colaboratory.intrinsic+json": {
              "type": "string"
            }
          },
          "metadata": {},
          "execution_count": 22
        }
      ],
      "source": [
        "s2.name"
      ]
    },
    {
      "cell_type": "code",
      "execution_count": null,
      "id": "4084f208",
      "metadata": {
        "id": "4084f208",
        "outputId": "f54ced68-db0e-4248-a19d-262bfb222104"
      },
      "outputs": [
        {
          "ename": "ValueError",
          "evalue": "Length of values (4) does not match length of index (3)",
          "output_type": "error",
          "traceback": [
            "\u001b[1;31m---------------------------------------------------------------------------\u001b[0m",
            "\u001b[1;31mValueError\u001b[0m                                Traceback (most recent call last)",
            "\u001b[1;32m~\\AppData\\Local\\Temp/ipykernel_7116/2212117218.py\u001b[0m in \u001b[0;36m<module>\u001b[1;34m\u001b[0m\n\u001b[1;32m----> 1\u001b[1;33m \u001b[0ms2\u001b[0m \u001b[1;33m=\u001b[0m \u001b[0mpd\u001b[0m\u001b[1;33m.\u001b[0m\u001b[0mSeries\u001b[0m\u001b[1;33m(\u001b[0m\u001b[1;33m[\u001b[0m\u001b[1;36m1\u001b[0m\u001b[1;33m,\u001b[0m\u001b[1;36m2\u001b[0m\u001b[1;33m,\u001b[0m\u001b[1;36m3\u001b[0m\u001b[1;33m,\u001b[0m\u001b[1;36m4\u001b[0m\u001b[1;33m]\u001b[0m\u001b[1;33m,\u001b[0m \u001b[0mindex\u001b[0m\u001b[1;33m=\u001b[0m\u001b[1;33m[\u001b[0m\u001b[1;34m'a'\u001b[0m\u001b[1;33m,\u001b[0m \u001b[1;34m'b'\u001b[0m\u001b[1;33m,\u001b[0m \u001b[1;34m'c'\u001b[0m\u001b[1;33m]\u001b[0m\u001b[1;33m)\u001b[0m\u001b[1;33m\u001b[0m\u001b[1;33m\u001b[0m\u001b[0m\n\u001b[0m",
            "\u001b[1;32m~\\Anaconda3\\lib\\site-packages\\pandas\\core\\series.py\u001b[0m in \u001b[0;36m__init__\u001b[1;34m(self, data, index, dtype, name, copy, fastpath)\u001b[0m\n\u001b[0;32m    428\u001b[0m                 \u001b[0mindex\u001b[0m \u001b[1;33m=\u001b[0m \u001b[0mibase\u001b[0m\u001b[1;33m.\u001b[0m\u001b[0mdefault_index\u001b[0m\u001b[1;33m(\u001b[0m\u001b[0mlen\u001b[0m\u001b[1;33m(\u001b[0m\u001b[0mdata\u001b[0m\u001b[1;33m)\u001b[0m\u001b[1;33m)\u001b[0m\u001b[1;33m\u001b[0m\u001b[1;33m\u001b[0m\u001b[0m\n\u001b[0;32m    429\u001b[0m             \u001b[1;32melif\u001b[0m \u001b[0mis_list_like\u001b[0m\u001b[1;33m(\u001b[0m\u001b[0mdata\u001b[0m\u001b[1;33m)\u001b[0m\u001b[1;33m:\u001b[0m\u001b[1;33m\u001b[0m\u001b[1;33m\u001b[0m\u001b[0m\n\u001b[1;32m--> 430\u001b[1;33m                 \u001b[0mcom\u001b[0m\u001b[1;33m.\u001b[0m\u001b[0mrequire_length_match\u001b[0m\u001b[1;33m(\u001b[0m\u001b[0mdata\u001b[0m\u001b[1;33m,\u001b[0m \u001b[0mindex\u001b[0m\u001b[1;33m)\u001b[0m\u001b[1;33m\u001b[0m\u001b[1;33m\u001b[0m\u001b[0m\n\u001b[0m\u001b[0;32m    431\u001b[0m \u001b[1;33m\u001b[0m\u001b[0m\n\u001b[0;32m    432\u001b[0m             \u001b[1;31m# create/copy the manager\u001b[0m\u001b[1;33m\u001b[0m\u001b[1;33m\u001b[0m\u001b[0m\n",
            "\u001b[1;32m~\\Anaconda3\\lib\\site-packages\\pandas\\core\\common.py\u001b[0m in \u001b[0;36mrequire_length_match\u001b[1;34m(data, index)\u001b[0m\n\u001b[0;32m    529\u001b[0m     \"\"\"\n\u001b[0;32m    530\u001b[0m     \u001b[1;32mif\u001b[0m \u001b[0mlen\u001b[0m\u001b[1;33m(\u001b[0m\u001b[0mdata\u001b[0m\u001b[1;33m)\u001b[0m \u001b[1;33m!=\u001b[0m \u001b[0mlen\u001b[0m\u001b[1;33m(\u001b[0m\u001b[0mindex\u001b[0m\u001b[1;33m)\u001b[0m\u001b[1;33m:\u001b[0m\u001b[1;33m\u001b[0m\u001b[1;33m\u001b[0m\u001b[0m\n\u001b[1;32m--> 531\u001b[1;33m         raise ValueError(\n\u001b[0m\u001b[0;32m    532\u001b[0m             \u001b[1;34m\"Length of values \"\u001b[0m\u001b[1;33m\u001b[0m\u001b[1;33m\u001b[0m\u001b[0m\n\u001b[0;32m    533\u001b[0m             \u001b[1;34mf\"({len(data)}) \"\u001b[0m\u001b[1;33m\u001b[0m\u001b[1;33m\u001b[0m\u001b[0m\n",
            "\u001b[1;31mValueError\u001b[0m: Length of values (4) does not match length of index (3)"
          ]
        }
      ],
      "source": [
        "s2 = pd.Series([1,2,3,4], index=['a', 'b', 'c']) # Need to assign equally"
      ]
    },
    {
      "cell_type": "code",
      "execution_count": null,
      "id": "fa424d86",
      "metadata": {
        "id": "fa424d86",
        "outputId": "e4fb51ae-d5e4-4db5-c55e-333b32769016"
      },
      "outputs": [
        {
          "ename": "ValueError",
          "evalue": "Length of values (4) does not match length of index (5)",
          "output_type": "error",
          "traceback": [
            "\u001b[1;31m---------------------------------------------------------------------------\u001b[0m",
            "\u001b[1;31mValueError\u001b[0m                                Traceback (most recent call last)",
            "\u001b[1;32m~\\AppData\\Local\\Temp/ipykernel_7116/3656336862.py\u001b[0m in \u001b[0;36m<module>\u001b[1;34m\u001b[0m\n\u001b[1;32m----> 1\u001b[1;33m \u001b[0ms2\u001b[0m \u001b[1;33m=\u001b[0m \u001b[0mpd\u001b[0m\u001b[1;33m.\u001b[0m\u001b[0mSeries\u001b[0m\u001b[1;33m(\u001b[0m\u001b[1;33m[\u001b[0m\u001b[1;36m1\u001b[0m\u001b[1;33m,\u001b[0m\u001b[1;36m2\u001b[0m\u001b[1;33m,\u001b[0m\u001b[1;36m3\u001b[0m\u001b[1;33m,\u001b[0m\u001b[1;36m4\u001b[0m\u001b[1;33m]\u001b[0m\u001b[1;33m,\u001b[0m \u001b[0mindex\u001b[0m\u001b[1;33m=\u001b[0m\u001b[1;33m[\u001b[0m\u001b[1;34m'a'\u001b[0m\u001b[1;33m,\u001b[0m \u001b[1;34m'b'\u001b[0m\u001b[1;33m,\u001b[0m \u001b[1;34m'c'\u001b[0m\u001b[1;33m,\u001b[0m\u001b[1;34m'd'\u001b[0m\u001b[1;33m,\u001b[0m\u001b[1;34m'e'\u001b[0m\u001b[1;33m]\u001b[0m\u001b[1;33m)\u001b[0m\u001b[1;33m\u001b[0m\u001b[1;33m\u001b[0m\u001b[0m\n\u001b[0m",
            "\u001b[1;32m~\\Anaconda3\\lib\\site-packages\\pandas\\core\\series.py\u001b[0m in \u001b[0;36m__init__\u001b[1;34m(self, data, index, dtype, name, copy, fastpath)\u001b[0m\n\u001b[0;32m    428\u001b[0m                 \u001b[0mindex\u001b[0m \u001b[1;33m=\u001b[0m \u001b[0mibase\u001b[0m\u001b[1;33m.\u001b[0m\u001b[0mdefault_index\u001b[0m\u001b[1;33m(\u001b[0m\u001b[0mlen\u001b[0m\u001b[1;33m(\u001b[0m\u001b[0mdata\u001b[0m\u001b[1;33m)\u001b[0m\u001b[1;33m)\u001b[0m\u001b[1;33m\u001b[0m\u001b[1;33m\u001b[0m\u001b[0m\n\u001b[0;32m    429\u001b[0m             \u001b[1;32melif\u001b[0m \u001b[0mis_list_like\u001b[0m\u001b[1;33m(\u001b[0m\u001b[0mdata\u001b[0m\u001b[1;33m)\u001b[0m\u001b[1;33m:\u001b[0m\u001b[1;33m\u001b[0m\u001b[1;33m\u001b[0m\u001b[0m\n\u001b[1;32m--> 430\u001b[1;33m                 \u001b[0mcom\u001b[0m\u001b[1;33m.\u001b[0m\u001b[0mrequire_length_match\u001b[0m\u001b[1;33m(\u001b[0m\u001b[0mdata\u001b[0m\u001b[1;33m,\u001b[0m \u001b[0mindex\u001b[0m\u001b[1;33m)\u001b[0m\u001b[1;33m\u001b[0m\u001b[1;33m\u001b[0m\u001b[0m\n\u001b[0m\u001b[0;32m    431\u001b[0m \u001b[1;33m\u001b[0m\u001b[0m\n\u001b[0;32m    432\u001b[0m             \u001b[1;31m# create/copy the manager\u001b[0m\u001b[1;33m\u001b[0m\u001b[1;33m\u001b[0m\u001b[0m\n",
            "\u001b[1;32m~\\Anaconda3\\lib\\site-packages\\pandas\\core\\common.py\u001b[0m in \u001b[0;36mrequire_length_match\u001b[1;34m(data, index)\u001b[0m\n\u001b[0;32m    529\u001b[0m     \"\"\"\n\u001b[0;32m    530\u001b[0m     \u001b[1;32mif\u001b[0m \u001b[0mlen\u001b[0m\u001b[1;33m(\u001b[0m\u001b[0mdata\u001b[0m\u001b[1;33m)\u001b[0m \u001b[1;33m!=\u001b[0m \u001b[0mlen\u001b[0m\u001b[1;33m(\u001b[0m\u001b[0mindex\u001b[0m\u001b[1;33m)\u001b[0m\u001b[1;33m:\u001b[0m\u001b[1;33m\u001b[0m\u001b[1;33m\u001b[0m\u001b[0m\n\u001b[1;32m--> 531\u001b[1;33m         raise ValueError(\n\u001b[0m\u001b[0;32m    532\u001b[0m             \u001b[1;34m\"Length of values \"\u001b[0m\u001b[1;33m\u001b[0m\u001b[1;33m\u001b[0m\u001b[0m\n\u001b[0;32m    533\u001b[0m             \u001b[1;34mf\"({len(data)}) \"\u001b[0m\u001b[1;33m\u001b[0m\u001b[1;33m\u001b[0m\u001b[0m\n",
            "\u001b[1;31mValueError\u001b[0m: Length of values (4) does not match length of index (5)"
          ]
        }
      ],
      "source": [
        "s2 = pd.Series([1,2,3,4], index=['a', 'b', 'c','d','e'])"
      ]
    },
    {
      "cell_type": "code",
      "execution_count": null,
      "id": "69c4d6ba",
      "metadata": {
        "id": "69c4d6ba"
      },
      "outputs": [],
      "source": [
        "s3 = pd.Series(['Mark', 'John', 'Carol', 'Jill']) # dfault index it takes from 0...."
      ]
    },
    {
      "cell_type": "code",
      "execution_count": null,
      "id": "3e88c085",
      "metadata": {
        "id": "3e88c085",
        "outputId": "b783bcf6-b988-48b2-c9ab-37165c071f95",
        "colab": {
          "base_uri": "https://localhost:8080/"
        }
      },
      "outputs": [
        {
          "output_type": "execute_result",
          "data": {
            "text/plain": [
              "0     Mark\n",
              "1     John\n",
              "2    Carol\n",
              "3     Jill\n",
              "dtype: object"
            ]
          },
          "metadata": {},
          "execution_count": 24
        }
      ],
      "source": [
        "s3"
      ]
    },
    {
      "cell_type": "code",
      "execution_count": null,
      "id": "004124aa",
      "metadata": {
        "id": "004124aa",
        "outputId": "960bec02-2f52-481e-e503-a8f4019d5c47",
        "colab": {
          "base_uri": "https://localhost:8080/"
        }
      },
      "outputs": [
        {
          "output_type": "execute_result",
          "data": {
            "text/plain": [
              "array(['Mark', 'John', 'Carol', 'Jill'], dtype=object)"
            ]
          },
          "metadata": {},
          "execution_count": 25
        }
      ],
      "source": [
        "s3.values"
      ]
    },
    {
      "cell_type": "code",
      "execution_count": null,
      "id": "2296dc8e",
      "metadata": {
        "id": "2296dc8e"
      },
      "outputs": [],
      "source": [
        "s4 = pd.Series([101, 'Mark', 90.5]) # If one element out of all is string the type will be object"
      ]
    },
    {
      "cell_type": "code",
      "execution_count": null,
      "id": "01f1e43d",
      "metadata": {
        "id": "01f1e43d",
        "outputId": "aadba3d1-7696-4547-c22b-da4dabfe34aa",
        "colab": {
          "base_uri": "https://localhost:8080/"
        }
      },
      "outputs": [
        {
          "output_type": "execute_result",
          "data": {
            "text/plain": [
              "0     101\n",
              "1    Mark\n",
              "2    90.5\n",
              "dtype: object"
            ]
          },
          "metadata": {},
          "execution_count": 27
        }
      ],
      "source": [
        "s4"
      ]
    },
    {
      "cell_type": "code",
      "execution_count": null,
      "id": "df7d578e",
      "metadata": {
        "id": "df7d578e",
        "outputId": "8328b5ee-8f84-4688-e06e-88d650994703",
        "colab": {
          "base_uri": "https://localhost:8080/"
        }
      },
      "outputs": [
        {
          "output_type": "execute_result",
          "data": {
            "text/plain": [
              "array([101, 'Mark', 90.5], dtype=object)"
            ]
          },
          "metadata": {},
          "execution_count": 28
        }
      ],
      "source": [
        "s4.values"
      ]
    },
    {
      "cell_type": "code",
      "execution_count": null,
      "id": "70f4bb9a",
      "metadata": {
        "id": "70f4bb9a",
        "outputId": "28cf4e4b-4321-4865-b030-f1655ea1cdec",
        "colab": {
          "base_uri": "https://localhost:8080/"
        }
      },
      "outputs": [
        {
          "output_type": "execute_result",
          "data": {
            "text/plain": [
              "0    1\n",
              "1    2\n",
              "2    3\n",
              "3    4\n",
              "4    5\n",
              "dtype: int64"
            ]
          },
          "metadata": {},
          "execution_count": 29
        }
      ],
      "source": [
        "s1"
      ]
    },
    {
      "cell_type": "code",
      "execution_count": null,
      "id": "9b137195",
      "metadata": {
        "id": "9b137195",
        "outputId": "0136e0b8-33d1-4353-ab18-506f27cb0f46",
        "colab": {
          "base_uri": "https://localhost:8080/"
        }
      },
      "outputs": [
        {
          "output_type": "execute_result",
          "data": {
            "text/plain": [
              "1"
            ]
          },
          "metadata": {},
          "execution_count": 30
        }
      ],
      "source": [
        "s1[0] # Indexing"
      ]
    },
    {
      "cell_type": "code",
      "execution_count": null,
      "id": "f1df4bca",
      "metadata": {
        "id": "f1df4bca",
        "outputId": "101fb299-d82f-41c3-8d2a-7452a35ac203"
      },
      "outputs": [
        {
          "data": {
            "text/plain": [
              "2"
            ]
          },
          "execution_count": 38,
          "metadata": {},
          "output_type": "execute_result"
        }
      ],
      "source": [
        "s1[1]"
      ]
    },
    {
      "cell_type": "code",
      "execution_count": null,
      "id": "24dc006d",
      "metadata": {
        "id": "24dc006d",
        "outputId": "89c26638-4849-4caa-c76c-c0076b4ef6f2"
      },
      "outputs": [
        {
          "ename": "KeyError",
          "evalue": "-1",
          "output_type": "error",
          "traceback": [
            "\u001b[1;31m---------------------------------------------------------------------------\u001b[0m",
            "\u001b[1;31mValueError\u001b[0m                                Traceback (most recent call last)",
            "\u001b[1;32m~\\Anaconda3\\lib\\site-packages\\pandas\\core\\indexes\\range.py\u001b[0m in \u001b[0;36mget_loc\u001b[1;34m(self, key, method, tolerance)\u001b[0m\n\u001b[0;32m    384\u001b[0m                 \u001b[1;32mtry\u001b[0m\u001b[1;33m:\u001b[0m\u001b[1;33m\u001b[0m\u001b[1;33m\u001b[0m\u001b[0m\n\u001b[1;32m--> 385\u001b[1;33m                     \u001b[1;32mreturn\u001b[0m \u001b[0mself\u001b[0m\u001b[1;33m.\u001b[0m\u001b[0m_range\u001b[0m\u001b[1;33m.\u001b[0m\u001b[0mindex\u001b[0m\u001b[1;33m(\u001b[0m\u001b[0mnew_key\u001b[0m\u001b[1;33m)\u001b[0m\u001b[1;33m\u001b[0m\u001b[1;33m\u001b[0m\u001b[0m\n\u001b[0m\u001b[0;32m    386\u001b[0m                 \u001b[1;32mexcept\u001b[0m \u001b[0mValueError\u001b[0m \u001b[1;32mas\u001b[0m \u001b[0merr\u001b[0m\u001b[1;33m:\u001b[0m\u001b[1;33m\u001b[0m\u001b[1;33m\u001b[0m\u001b[0m\n",
            "\u001b[1;31mValueError\u001b[0m: -1 is not in range",
            "\nThe above exception was the direct cause of the following exception:\n",
            "\u001b[1;31mKeyError\u001b[0m                                  Traceback (most recent call last)",
            "\u001b[1;32m~\\AppData\\Local\\Temp/ipykernel_7116/149126795.py\u001b[0m in \u001b[0;36m<module>\u001b[1;34m\u001b[0m\n\u001b[1;32m----> 1\u001b[1;33m \u001b[0ms1\u001b[0m\u001b[1;33m[\u001b[0m\u001b[1;33m-\u001b[0m\u001b[1;36m1\u001b[0m\u001b[1;33m]\u001b[0m\u001b[1;33m\u001b[0m\u001b[1;33m\u001b[0m\u001b[0m\n\u001b[0m",
            "\u001b[1;32m~\\Anaconda3\\lib\\site-packages\\pandas\\core\\series.py\u001b[0m in \u001b[0;36m__getitem__\u001b[1;34m(self, key)\u001b[0m\n\u001b[0;32m    940\u001b[0m \u001b[1;33m\u001b[0m\u001b[0m\n\u001b[0;32m    941\u001b[0m         \u001b[1;32melif\u001b[0m \u001b[0mkey_is_scalar\u001b[0m\u001b[1;33m:\u001b[0m\u001b[1;33m\u001b[0m\u001b[1;33m\u001b[0m\u001b[0m\n\u001b[1;32m--> 942\u001b[1;33m             \u001b[1;32mreturn\u001b[0m \u001b[0mself\u001b[0m\u001b[1;33m.\u001b[0m\u001b[0m_get_value\u001b[0m\u001b[1;33m(\u001b[0m\u001b[0mkey\u001b[0m\u001b[1;33m)\u001b[0m\u001b[1;33m\u001b[0m\u001b[1;33m\u001b[0m\u001b[0m\n\u001b[0m\u001b[0;32m    943\u001b[0m \u001b[1;33m\u001b[0m\u001b[0m\n\u001b[0;32m    944\u001b[0m         \u001b[1;32mif\u001b[0m \u001b[0mis_hashable\u001b[0m\u001b[1;33m(\u001b[0m\u001b[0mkey\u001b[0m\u001b[1;33m)\u001b[0m\u001b[1;33m:\u001b[0m\u001b[1;33m\u001b[0m\u001b[1;33m\u001b[0m\u001b[0m\n",
            "\u001b[1;32m~\\Anaconda3\\lib\\site-packages\\pandas\\core\\series.py\u001b[0m in \u001b[0;36m_get_value\u001b[1;34m(self, label, takeable)\u001b[0m\n\u001b[0;32m   1049\u001b[0m \u001b[1;33m\u001b[0m\u001b[0m\n\u001b[0;32m   1050\u001b[0m         \u001b[1;31m# Similar to Index.get_value, but we do not fall back to positional\u001b[0m\u001b[1;33m\u001b[0m\u001b[1;33m\u001b[0m\u001b[0m\n\u001b[1;32m-> 1051\u001b[1;33m         \u001b[0mloc\u001b[0m \u001b[1;33m=\u001b[0m \u001b[0mself\u001b[0m\u001b[1;33m.\u001b[0m\u001b[0mindex\u001b[0m\u001b[1;33m.\u001b[0m\u001b[0mget_loc\u001b[0m\u001b[1;33m(\u001b[0m\u001b[0mlabel\u001b[0m\u001b[1;33m)\u001b[0m\u001b[1;33m\u001b[0m\u001b[1;33m\u001b[0m\u001b[0m\n\u001b[0m\u001b[0;32m   1052\u001b[0m         \u001b[1;32mreturn\u001b[0m \u001b[0mself\u001b[0m\u001b[1;33m.\u001b[0m\u001b[0mindex\u001b[0m\u001b[1;33m.\u001b[0m\u001b[0m_get_values_for_loc\u001b[0m\u001b[1;33m(\u001b[0m\u001b[0mself\u001b[0m\u001b[1;33m,\u001b[0m \u001b[0mloc\u001b[0m\u001b[1;33m,\u001b[0m \u001b[0mlabel\u001b[0m\u001b[1;33m)\u001b[0m\u001b[1;33m\u001b[0m\u001b[1;33m\u001b[0m\u001b[0m\n\u001b[0;32m   1053\u001b[0m \u001b[1;33m\u001b[0m\u001b[0m\n",
            "\u001b[1;32m~\\Anaconda3\\lib\\site-packages\\pandas\\core\\indexes\\range.py\u001b[0m in \u001b[0;36mget_loc\u001b[1;34m(self, key, method, tolerance)\u001b[0m\n\u001b[0;32m    385\u001b[0m                     \u001b[1;32mreturn\u001b[0m \u001b[0mself\u001b[0m\u001b[1;33m.\u001b[0m\u001b[0m_range\u001b[0m\u001b[1;33m.\u001b[0m\u001b[0mindex\u001b[0m\u001b[1;33m(\u001b[0m\u001b[0mnew_key\u001b[0m\u001b[1;33m)\u001b[0m\u001b[1;33m\u001b[0m\u001b[1;33m\u001b[0m\u001b[0m\n\u001b[0;32m    386\u001b[0m                 \u001b[1;32mexcept\u001b[0m \u001b[0mValueError\u001b[0m \u001b[1;32mas\u001b[0m \u001b[0merr\u001b[0m\u001b[1;33m:\u001b[0m\u001b[1;33m\u001b[0m\u001b[1;33m\u001b[0m\u001b[0m\n\u001b[1;32m--> 387\u001b[1;33m                     \u001b[1;32mraise\u001b[0m \u001b[0mKeyError\u001b[0m\u001b[1;33m(\u001b[0m\u001b[0mkey\u001b[0m\u001b[1;33m)\u001b[0m \u001b[1;32mfrom\u001b[0m \u001b[0merr\u001b[0m\u001b[1;33m\u001b[0m\u001b[1;33m\u001b[0m\u001b[0m\n\u001b[0m\u001b[0;32m    388\u001b[0m             \u001b[1;32mraise\u001b[0m \u001b[0mKeyError\u001b[0m\u001b[1;33m(\u001b[0m\u001b[0mkey\u001b[0m\u001b[1;33m)\u001b[0m\u001b[1;33m\u001b[0m\u001b[1;33m\u001b[0m\u001b[0m\n\u001b[0;32m    389\u001b[0m         \u001b[1;32mreturn\u001b[0m \u001b[0msuper\u001b[0m\u001b[1;33m(\u001b[0m\u001b[1;33m)\u001b[0m\u001b[1;33m.\u001b[0m\u001b[0mget_loc\u001b[0m\u001b[1;33m(\u001b[0m\u001b[0mkey\u001b[0m\u001b[1;33m,\u001b[0m \u001b[0mmethod\u001b[0m\u001b[1;33m=\u001b[0m\u001b[0mmethod\u001b[0m\u001b[1;33m,\u001b[0m \u001b[0mtolerance\u001b[0m\u001b[1;33m=\u001b[0m\u001b[0mtolerance\u001b[0m\u001b[1;33m)\u001b[0m\u001b[1;33m\u001b[0m\u001b[1;33m\u001b[0m\u001b[0m\n",
            "\u001b[1;31mKeyError\u001b[0m: -1"
          ]
        }
      ],
      "source": [
        "s1[-1] # Indexing -1 will not work as it has no -1 inexing assigned. But can make it work with help of inner indexing"
      ]
    },
    {
      "cell_type": "code",
      "execution_count": null,
      "id": "83f1c38b",
      "metadata": {
        "id": "83f1c38b",
        "outputId": "f26d2789-c57d-4f9c-ba40-fc44d702c89b",
        "colab": {
          "base_uri": "https://localhost:8080/"
        }
      },
      "outputs": [
        {
          "output_type": "execute_result",
          "data": {
            "text/plain": [
              "a    10\n",
              "b    20\n",
              "c    30\n",
              "d    40\n",
              "e    50\n",
              "Name: My series, dtype: int64"
            ]
          },
          "metadata": {},
          "execution_count": 31
        }
      ],
      "source": [
        "s2"
      ]
    },
    {
      "cell_type": "code",
      "execution_count": null,
      "id": "12237151",
      "metadata": {
        "id": "12237151",
        "outputId": "8e11e100-ac26-49c3-b2ed-6390ed76d500"
      },
      "outputs": [
        {
          "data": {
            "text/plain": [
              "10"
            ]
          },
          "execution_count": 41,
          "metadata": {},
          "output_type": "execute_result"
        }
      ],
      "source": [
        "s2['a']"
      ]
    },
    {
      "cell_type": "code",
      "execution_count": null,
      "id": "2f4777dd",
      "metadata": {
        "id": "2f4777dd",
        "outputId": "6db1cd85-ef7f-4412-c6f1-42a97dcbae50"
      },
      "outputs": [
        {
          "data": {
            "text/plain": [
              "50"
            ]
          },
          "execution_count": 42,
          "metadata": {},
          "output_type": "execute_result"
        }
      ],
      "source": [
        "s2['e']"
      ]
    },
    {
      "cell_type": "code",
      "execution_count": null,
      "id": "59fe5b6f",
      "metadata": {
        "id": "59fe5b6f",
        "outputId": "6caa9ecf-b35a-4ceb-8815-9e8df12c8174"
      },
      "outputs": [
        {
          "data": {
            "text/plain": [
              "10"
            ]
          },
          "execution_count": 43,
          "metadata": {},
          "output_type": "execute_result"
        }
      ],
      "source": [
        "s2[0]"
      ]
    },
    {
      "cell_type": "code",
      "execution_count": null,
      "id": "e3ce3eaa",
      "metadata": {
        "id": "e3ce3eaa",
        "outputId": "1eb956a3-8050-4cfe-d84b-18230609495b"
      },
      "outputs": [
        {
          "data": {
            "text/plain": [
              "a    10\n",
              "b    20\n",
              "c    30\n",
              "d    40\n",
              "e    50\n",
              "Name: My series, dtype: int64"
            ]
          },
          "execution_count": 44,
          "metadata": {},
          "output_type": "execute_result"
        }
      ],
      "source": [
        "s2"
      ]
    },
    {
      "cell_type": "code",
      "execution_count": null,
      "id": "4ebb830f",
      "metadata": {
        "id": "4ebb830f",
        "outputId": "678068b7-46ec-44cc-975e-ad8678491dd3"
      },
      "outputs": [
        {
          "data": {
            "text/plain": [
              "50"
            ]
          },
          "execution_count": 45,
          "metadata": {},
          "output_type": "execute_result"
        }
      ],
      "source": [
        "s2[-1]  # Here it works as it has no numerical indexing. Same time it takes inner index let see in detail"
      ]
    },
    {
      "cell_type": "code",
      "execution_count": null,
      "id": "64f8308d",
      "metadata": {
        "id": "64f8308d"
      },
      "outputs": [],
      "source": [
        "s5 = pd.Series([10, 20, 30, 40], index=[1,2,3,4])"
      ]
    },
    {
      "cell_type": "code",
      "execution_count": null,
      "id": "66caed2e",
      "metadata": {
        "id": "66caed2e",
        "outputId": "ca29182e-8c04-4990-8341-8d747fb0c480",
        "colab": {
          "base_uri": "https://localhost:8080/"
        }
      },
      "outputs": [
        {
          "output_type": "execute_result",
          "data": {
            "text/plain": [
              "1    10\n",
              "2    20\n",
              "3    30\n",
              "4    40\n",
              "dtype: int64"
            ]
          },
          "metadata": {},
          "execution_count": 33
        }
      ],
      "source": [
        "s5"
      ]
    },
    {
      "cell_type": "code",
      "execution_count": null,
      "id": "fa320ae5",
      "metadata": {
        "id": "fa320ae5",
        "outputId": "5ce3ebe5-3939-4fad-b1c8-3ee2ccdac611",
        "colab": {
          "base_uri": "https://localhost:8080/"
        }
      },
      "outputs": [
        {
          "output_type": "execute_result",
          "data": {
            "text/plain": [
              "10"
            ]
          },
          "metadata": {},
          "execution_count": 34
        }
      ],
      "source": [
        "s5[1]"
      ]
    },
    {
      "cell_type": "code",
      "execution_count": null,
      "id": "a7ac0940",
      "metadata": {
        "id": "a7ac0940",
        "outputId": "fa11e3a3-c8b8-4fab-c064-868756c26489"
      },
      "outputs": [
        {
          "ename": "KeyError",
          "evalue": "0",
          "output_type": "error",
          "traceback": [
            "\u001b[1;31m---------------------------------------------------------------------------\u001b[0m",
            "\u001b[1;31mKeyError\u001b[0m                                  Traceback (most recent call last)",
            "\u001b[1;32m~\\Anaconda3\\lib\\site-packages\\pandas\\core\\indexes\\base.py\u001b[0m in \u001b[0;36mget_loc\u001b[1;34m(self, key, method, tolerance)\u001b[0m\n\u001b[0;32m   3360\u001b[0m             \u001b[1;32mtry\u001b[0m\u001b[1;33m:\u001b[0m\u001b[1;33m\u001b[0m\u001b[1;33m\u001b[0m\u001b[0m\n\u001b[1;32m-> 3361\u001b[1;33m                 \u001b[1;32mreturn\u001b[0m \u001b[0mself\u001b[0m\u001b[1;33m.\u001b[0m\u001b[0m_engine\u001b[0m\u001b[1;33m.\u001b[0m\u001b[0mget_loc\u001b[0m\u001b[1;33m(\u001b[0m\u001b[0mcasted_key\u001b[0m\u001b[1;33m)\u001b[0m\u001b[1;33m\u001b[0m\u001b[1;33m\u001b[0m\u001b[0m\n\u001b[0m\u001b[0;32m   3362\u001b[0m             \u001b[1;32mexcept\u001b[0m \u001b[0mKeyError\u001b[0m \u001b[1;32mas\u001b[0m \u001b[0merr\u001b[0m\u001b[1;33m:\u001b[0m\u001b[1;33m\u001b[0m\u001b[1;33m\u001b[0m\u001b[0m\n",
            "\u001b[1;32m~\\Anaconda3\\lib\\site-packages\\pandas\\_libs\\index.pyx\u001b[0m in \u001b[0;36mpandas._libs.index.IndexEngine.get_loc\u001b[1;34m()\u001b[0m\n",
            "\u001b[1;32m~\\Anaconda3\\lib\\site-packages\\pandas\\_libs\\index.pyx\u001b[0m in \u001b[0;36mpandas._libs.index.IndexEngine.get_loc\u001b[1;34m()\u001b[0m\n",
            "\u001b[1;32mpandas\\_libs\\hashtable_class_helper.pxi\u001b[0m in \u001b[0;36mpandas._libs.hashtable.Int64HashTable.get_item\u001b[1;34m()\u001b[0m\n",
            "\u001b[1;32mpandas\\_libs\\hashtable_class_helper.pxi\u001b[0m in \u001b[0;36mpandas._libs.hashtable.Int64HashTable.get_item\u001b[1;34m()\u001b[0m\n",
            "\u001b[1;31mKeyError\u001b[0m: 0",
            "\nThe above exception was the direct cause of the following exception:\n",
            "\u001b[1;31mKeyError\u001b[0m                                  Traceback (most recent call last)",
            "\u001b[1;32m~\\AppData\\Local\\Temp/ipykernel_7116/4103576207.py\u001b[0m in \u001b[0;36m<module>\u001b[1;34m\u001b[0m\n\u001b[1;32m----> 1\u001b[1;33m \u001b[0ms5\u001b[0m\u001b[1;33m[\u001b[0m\u001b[1;36m0\u001b[0m\u001b[1;33m]\u001b[0m\u001b[1;33m\u001b[0m\u001b[1;33m\u001b[0m\u001b[0m\n\u001b[0m",
            "\u001b[1;32m~\\Anaconda3\\lib\\site-packages\\pandas\\core\\series.py\u001b[0m in \u001b[0;36m__getitem__\u001b[1;34m(self, key)\u001b[0m\n\u001b[0;32m    940\u001b[0m \u001b[1;33m\u001b[0m\u001b[0m\n\u001b[0;32m    941\u001b[0m         \u001b[1;32melif\u001b[0m \u001b[0mkey_is_scalar\u001b[0m\u001b[1;33m:\u001b[0m\u001b[1;33m\u001b[0m\u001b[1;33m\u001b[0m\u001b[0m\n\u001b[1;32m--> 942\u001b[1;33m             \u001b[1;32mreturn\u001b[0m \u001b[0mself\u001b[0m\u001b[1;33m.\u001b[0m\u001b[0m_get_value\u001b[0m\u001b[1;33m(\u001b[0m\u001b[0mkey\u001b[0m\u001b[1;33m)\u001b[0m\u001b[1;33m\u001b[0m\u001b[1;33m\u001b[0m\u001b[0m\n\u001b[0m\u001b[0;32m    943\u001b[0m \u001b[1;33m\u001b[0m\u001b[0m\n\u001b[0;32m    944\u001b[0m         \u001b[1;32mif\u001b[0m \u001b[0mis_hashable\u001b[0m\u001b[1;33m(\u001b[0m\u001b[0mkey\u001b[0m\u001b[1;33m)\u001b[0m\u001b[1;33m:\u001b[0m\u001b[1;33m\u001b[0m\u001b[1;33m\u001b[0m\u001b[0m\n",
            "\u001b[1;32m~\\Anaconda3\\lib\\site-packages\\pandas\\core\\series.py\u001b[0m in \u001b[0;36m_get_value\u001b[1;34m(self, label, takeable)\u001b[0m\n\u001b[0;32m   1049\u001b[0m \u001b[1;33m\u001b[0m\u001b[0m\n\u001b[0;32m   1050\u001b[0m         \u001b[1;31m# Similar to Index.get_value, but we do not fall back to positional\u001b[0m\u001b[1;33m\u001b[0m\u001b[1;33m\u001b[0m\u001b[0m\n\u001b[1;32m-> 1051\u001b[1;33m         \u001b[0mloc\u001b[0m \u001b[1;33m=\u001b[0m \u001b[0mself\u001b[0m\u001b[1;33m.\u001b[0m\u001b[0mindex\u001b[0m\u001b[1;33m.\u001b[0m\u001b[0mget_loc\u001b[0m\u001b[1;33m(\u001b[0m\u001b[0mlabel\u001b[0m\u001b[1;33m)\u001b[0m\u001b[1;33m\u001b[0m\u001b[1;33m\u001b[0m\u001b[0m\n\u001b[0m\u001b[0;32m   1052\u001b[0m         \u001b[1;32mreturn\u001b[0m \u001b[0mself\u001b[0m\u001b[1;33m.\u001b[0m\u001b[0mindex\u001b[0m\u001b[1;33m.\u001b[0m\u001b[0m_get_values_for_loc\u001b[0m\u001b[1;33m(\u001b[0m\u001b[0mself\u001b[0m\u001b[1;33m,\u001b[0m \u001b[0mloc\u001b[0m\u001b[1;33m,\u001b[0m \u001b[0mlabel\u001b[0m\u001b[1;33m)\u001b[0m\u001b[1;33m\u001b[0m\u001b[1;33m\u001b[0m\u001b[0m\n\u001b[0;32m   1053\u001b[0m \u001b[1;33m\u001b[0m\u001b[0m\n",
            "\u001b[1;32m~\\Anaconda3\\lib\\site-packages\\pandas\\core\\indexes\\base.py\u001b[0m in \u001b[0;36mget_loc\u001b[1;34m(self, key, method, tolerance)\u001b[0m\n\u001b[0;32m   3361\u001b[0m                 \u001b[1;32mreturn\u001b[0m \u001b[0mself\u001b[0m\u001b[1;33m.\u001b[0m\u001b[0m_engine\u001b[0m\u001b[1;33m.\u001b[0m\u001b[0mget_loc\u001b[0m\u001b[1;33m(\u001b[0m\u001b[0mcasted_key\u001b[0m\u001b[1;33m)\u001b[0m\u001b[1;33m\u001b[0m\u001b[1;33m\u001b[0m\u001b[0m\n\u001b[0;32m   3362\u001b[0m             \u001b[1;32mexcept\u001b[0m \u001b[0mKeyError\u001b[0m \u001b[1;32mas\u001b[0m \u001b[0merr\u001b[0m\u001b[1;33m:\u001b[0m\u001b[1;33m\u001b[0m\u001b[1;33m\u001b[0m\u001b[0m\n\u001b[1;32m-> 3363\u001b[1;33m                 \u001b[1;32mraise\u001b[0m \u001b[0mKeyError\u001b[0m\u001b[1;33m(\u001b[0m\u001b[0mkey\u001b[0m\u001b[1;33m)\u001b[0m \u001b[1;32mfrom\u001b[0m \u001b[0merr\u001b[0m\u001b[1;33m\u001b[0m\u001b[1;33m\u001b[0m\u001b[0m\n\u001b[0m\u001b[0;32m   3364\u001b[0m \u001b[1;33m\u001b[0m\u001b[0m\n\u001b[0;32m   3365\u001b[0m         \u001b[1;32mif\u001b[0m \u001b[0mis_scalar\u001b[0m\u001b[1;33m(\u001b[0m\u001b[0mkey\u001b[0m\u001b[1;33m)\u001b[0m \u001b[1;32mand\u001b[0m \u001b[0misna\u001b[0m\u001b[1;33m(\u001b[0m\u001b[0mkey\u001b[0m\u001b[1;33m)\u001b[0m \u001b[1;32mand\u001b[0m \u001b[1;32mnot\u001b[0m \u001b[0mself\u001b[0m\u001b[1;33m.\u001b[0m\u001b[0mhasnans\u001b[0m\u001b[1;33m:\u001b[0m\u001b[1;33m\u001b[0m\u001b[1;33m\u001b[0m\u001b[0m\n",
            "\u001b[1;31mKeyError\u001b[0m: 0"
          ]
        }
      ],
      "source": [
        "s5[0] # Will not work as indexing startes from 1"
      ]
    },
    {
      "cell_type": "markdown",
      "source": [
        "#### Indexing : loc and iloc\n",
        "* loc => outer index\n",
        "* iloc => inner index"
      ],
      "metadata": {
        "id": "g7zgSOwTZSrl"
      },
      "id": "g7zgSOwTZSrl"
    },
    {
      "cell_type": "code",
      "execution_count": null,
      "id": "1f74b758",
      "metadata": {
        "id": "1f74b758",
        "outputId": "44f51790-0ea2-4440-edc6-85db268e82a4",
        "colab": {
          "base_uri": "https://localhost:8080/"
        }
      },
      "outputs": [
        {
          "output_type": "execute_result",
          "data": {
            "text/plain": [
              "0    1\n",
              "1    2\n",
              "2    3\n",
              "3    4\n",
              "4    5\n",
              "dtype: int64"
            ]
          },
          "metadata": {},
          "execution_count": 35
        }
      ],
      "source": [
        "s1"
      ]
    },
    {
      "cell_type": "code",
      "execution_count": null,
      "id": "c1238c0b",
      "metadata": {
        "id": "c1238c0b",
        "outputId": "367ed5e2-ac5e-4b5a-ee1a-f755d1a14a1a",
        "colab": {
          "base_uri": "https://localhost:8080/"
        }
      },
      "outputs": [
        {
          "output_type": "execute_result",
          "data": {
            "text/plain": [
              "1"
            ]
          },
          "metadata": {},
          "execution_count": 36
        }
      ],
      "source": [
        "s1.loc[0]"
      ]
    },
    {
      "cell_type": "code",
      "execution_count": null,
      "id": "33396d5d",
      "metadata": {
        "id": "33396d5d",
        "outputId": "205154f0-d174-4540-bf7b-27ff748712c1",
        "colab": {
          "base_uri": "https://localhost:8080/"
        }
      },
      "outputs": [
        {
          "output_type": "execute_result",
          "data": {
            "text/plain": [
              "a    10\n",
              "b    20\n",
              "c    30\n",
              "d    40\n",
              "e    50\n",
              "Name: My series, dtype: int64"
            ]
          },
          "metadata": {},
          "execution_count": 38
        }
      ],
      "source": [
        "s2"
      ]
    },
    {
      "cell_type": "code",
      "execution_count": null,
      "id": "2f573f6f",
      "metadata": {
        "id": "2f573f6f",
        "outputId": "171b726b-6456-46bd-f50c-32862658600d",
        "colab": {
          "base_uri": "https://localhost:8080/"
        }
      },
      "outputs": [
        {
          "output_type": "execute_result",
          "data": {
            "text/plain": [
              "10"
            ]
          },
          "metadata": {},
          "execution_count": 39
        }
      ],
      "source": [
        "s2.iloc[0]"
      ]
    },
    {
      "cell_type": "code",
      "execution_count": null,
      "id": "611f04c4",
      "metadata": {
        "id": "611f04c4",
        "outputId": "08f3069b-b7ba-48be-bd6e-5b8c7b786e8a",
        "colab": {
          "base_uri": "https://localhost:8080/"
        }
      },
      "outputs": [
        {
          "output_type": "execute_result",
          "data": {
            "text/plain": [
              "50"
            ]
          },
          "metadata": {},
          "execution_count": 40
        }
      ],
      "source": [
        "s2.iloc[-1]"
      ]
    },
    {
      "cell_type": "code",
      "execution_count": null,
      "id": "b93bc359",
      "metadata": {
        "id": "b93bc359",
        "outputId": "dd346ad1-efab-4612-ea33-5c56887a525e"
      },
      "outputs": [
        {
          "data": {
            "text/plain": [
              "1    10\n",
              "2    20\n",
              "3    30\n",
              "4    40\n",
              "dtype: int64"
            ]
          },
          "execution_count": 57,
          "metadata": {},
          "output_type": "execute_result"
        }
      ],
      "source": [
        "s5"
      ]
    },
    {
      "cell_type": "code",
      "execution_count": null,
      "id": "5351b165",
      "metadata": {
        "id": "5351b165",
        "outputId": "aa060752-f055-46c5-f011-47b754e7523f"
      },
      "outputs": [
        {
          "ename": "KeyError",
          "evalue": "0",
          "output_type": "error",
          "traceback": [
            "\u001b[1;31m---------------------------------------------------------------------------\u001b[0m",
            "\u001b[1;31mKeyError\u001b[0m                                  Traceback (most recent call last)",
            "\u001b[1;32m~\\Anaconda3\\lib\\site-packages\\pandas\\core\\indexes\\base.py\u001b[0m in \u001b[0;36mget_loc\u001b[1;34m(self, key, method, tolerance)\u001b[0m\n\u001b[0;32m   3360\u001b[0m             \u001b[1;32mtry\u001b[0m\u001b[1;33m:\u001b[0m\u001b[1;33m\u001b[0m\u001b[1;33m\u001b[0m\u001b[0m\n\u001b[1;32m-> 3361\u001b[1;33m                 \u001b[1;32mreturn\u001b[0m \u001b[0mself\u001b[0m\u001b[1;33m.\u001b[0m\u001b[0m_engine\u001b[0m\u001b[1;33m.\u001b[0m\u001b[0mget_loc\u001b[0m\u001b[1;33m(\u001b[0m\u001b[0mcasted_key\u001b[0m\u001b[1;33m)\u001b[0m\u001b[1;33m\u001b[0m\u001b[1;33m\u001b[0m\u001b[0m\n\u001b[0m\u001b[0;32m   3362\u001b[0m             \u001b[1;32mexcept\u001b[0m \u001b[0mKeyError\u001b[0m \u001b[1;32mas\u001b[0m \u001b[0merr\u001b[0m\u001b[1;33m:\u001b[0m\u001b[1;33m\u001b[0m\u001b[1;33m\u001b[0m\u001b[0m\n",
            "\u001b[1;32m~\\Anaconda3\\lib\\site-packages\\pandas\\_libs\\index.pyx\u001b[0m in \u001b[0;36mpandas._libs.index.IndexEngine.get_loc\u001b[1;34m()\u001b[0m\n",
            "\u001b[1;32m~\\Anaconda3\\lib\\site-packages\\pandas\\_libs\\index.pyx\u001b[0m in \u001b[0;36mpandas._libs.index.IndexEngine.get_loc\u001b[1;34m()\u001b[0m\n",
            "\u001b[1;32mpandas\\_libs\\hashtable_class_helper.pxi\u001b[0m in \u001b[0;36mpandas._libs.hashtable.Int64HashTable.get_item\u001b[1;34m()\u001b[0m\n",
            "\u001b[1;32mpandas\\_libs\\hashtable_class_helper.pxi\u001b[0m in \u001b[0;36mpandas._libs.hashtable.Int64HashTable.get_item\u001b[1;34m()\u001b[0m\n",
            "\u001b[1;31mKeyError\u001b[0m: 0",
            "\nThe above exception was the direct cause of the following exception:\n",
            "\u001b[1;31mKeyError\u001b[0m                                  Traceback (most recent call last)",
            "\u001b[1;32m~\\AppData\\Local\\Temp/ipykernel_7116/4103576207.py\u001b[0m in \u001b[0;36m<module>\u001b[1;34m\u001b[0m\n\u001b[1;32m----> 1\u001b[1;33m \u001b[0ms5\u001b[0m\u001b[1;33m[\u001b[0m\u001b[1;36m0\u001b[0m\u001b[1;33m]\u001b[0m\u001b[1;33m\u001b[0m\u001b[1;33m\u001b[0m\u001b[0m\n\u001b[0m",
            "\u001b[1;32m~\\Anaconda3\\lib\\site-packages\\pandas\\core\\series.py\u001b[0m in \u001b[0;36m__getitem__\u001b[1;34m(self, key)\u001b[0m\n\u001b[0;32m    940\u001b[0m \u001b[1;33m\u001b[0m\u001b[0m\n\u001b[0;32m    941\u001b[0m         \u001b[1;32melif\u001b[0m \u001b[0mkey_is_scalar\u001b[0m\u001b[1;33m:\u001b[0m\u001b[1;33m\u001b[0m\u001b[1;33m\u001b[0m\u001b[0m\n\u001b[1;32m--> 942\u001b[1;33m             \u001b[1;32mreturn\u001b[0m \u001b[0mself\u001b[0m\u001b[1;33m.\u001b[0m\u001b[0m_get_value\u001b[0m\u001b[1;33m(\u001b[0m\u001b[0mkey\u001b[0m\u001b[1;33m)\u001b[0m\u001b[1;33m\u001b[0m\u001b[1;33m\u001b[0m\u001b[0m\n\u001b[0m\u001b[0;32m    943\u001b[0m \u001b[1;33m\u001b[0m\u001b[0m\n\u001b[0;32m    944\u001b[0m         \u001b[1;32mif\u001b[0m \u001b[0mis_hashable\u001b[0m\u001b[1;33m(\u001b[0m\u001b[0mkey\u001b[0m\u001b[1;33m)\u001b[0m\u001b[1;33m:\u001b[0m\u001b[1;33m\u001b[0m\u001b[1;33m\u001b[0m\u001b[0m\n",
            "\u001b[1;32m~\\Anaconda3\\lib\\site-packages\\pandas\\core\\series.py\u001b[0m in \u001b[0;36m_get_value\u001b[1;34m(self, label, takeable)\u001b[0m\n\u001b[0;32m   1049\u001b[0m \u001b[1;33m\u001b[0m\u001b[0m\n\u001b[0;32m   1050\u001b[0m         \u001b[1;31m# Similar to Index.get_value, but we do not fall back to positional\u001b[0m\u001b[1;33m\u001b[0m\u001b[1;33m\u001b[0m\u001b[0m\n\u001b[1;32m-> 1051\u001b[1;33m         \u001b[0mloc\u001b[0m \u001b[1;33m=\u001b[0m \u001b[0mself\u001b[0m\u001b[1;33m.\u001b[0m\u001b[0mindex\u001b[0m\u001b[1;33m.\u001b[0m\u001b[0mget_loc\u001b[0m\u001b[1;33m(\u001b[0m\u001b[0mlabel\u001b[0m\u001b[1;33m)\u001b[0m\u001b[1;33m\u001b[0m\u001b[1;33m\u001b[0m\u001b[0m\n\u001b[0m\u001b[0;32m   1052\u001b[0m         \u001b[1;32mreturn\u001b[0m \u001b[0mself\u001b[0m\u001b[1;33m.\u001b[0m\u001b[0mindex\u001b[0m\u001b[1;33m.\u001b[0m\u001b[0m_get_values_for_loc\u001b[0m\u001b[1;33m(\u001b[0m\u001b[0mself\u001b[0m\u001b[1;33m,\u001b[0m \u001b[0mloc\u001b[0m\u001b[1;33m,\u001b[0m \u001b[0mlabel\u001b[0m\u001b[1;33m)\u001b[0m\u001b[1;33m\u001b[0m\u001b[1;33m\u001b[0m\u001b[0m\n\u001b[0;32m   1053\u001b[0m \u001b[1;33m\u001b[0m\u001b[0m\n",
            "\u001b[1;32m~\\Anaconda3\\lib\\site-packages\\pandas\\core\\indexes\\base.py\u001b[0m in \u001b[0;36mget_loc\u001b[1;34m(self, key, method, tolerance)\u001b[0m\n\u001b[0;32m   3361\u001b[0m                 \u001b[1;32mreturn\u001b[0m \u001b[0mself\u001b[0m\u001b[1;33m.\u001b[0m\u001b[0m_engine\u001b[0m\u001b[1;33m.\u001b[0m\u001b[0mget_loc\u001b[0m\u001b[1;33m(\u001b[0m\u001b[0mcasted_key\u001b[0m\u001b[1;33m)\u001b[0m\u001b[1;33m\u001b[0m\u001b[1;33m\u001b[0m\u001b[0m\n\u001b[0;32m   3362\u001b[0m             \u001b[1;32mexcept\u001b[0m \u001b[0mKeyError\u001b[0m \u001b[1;32mas\u001b[0m \u001b[0merr\u001b[0m\u001b[1;33m:\u001b[0m\u001b[1;33m\u001b[0m\u001b[1;33m\u001b[0m\u001b[0m\n\u001b[1;32m-> 3363\u001b[1;33m                 \u001b[1;32mraise\u001b[0m \u001b[0mKeyError\u001b[0m\u001b[1;33m(\u001b[0m\u001b[0mkey\u001b[0m\u001b[1;33m)\u001b[0m \u001b[1;32mfrom\u001b[0m \u001b[0merr\u001b[0m\u001b[1;33m\u001b[0m\u001b[1;33m\u001b[0m\u001b[0m\n\u001b[0m\u001b[0;32m   3364\u001b[0m \u001b[1;33m\u001b[0m\u001b[0m\n\u001b[0;32m   3365\u001b[0m         \u001b[1;32mif\u001b[0m \u001b[0mis_scalar\u001b[0m\u001b[1;33m(\u001b[0m\u001b[0mkey\u001b[0m\u001b[1;33m)\u001b[0m \u001b[1;32mand\u001b[0m \u001b[0misna\u001b[0m\u001b[1;33m(\u001b[0m\u001b[0mkey\u001b[0m\u001b[1;33m)\u001b[0m \u001b[1;32mand\u001b[0m \u001b[1;32mnot\u001b[0m \u001b[0mself\u001b[0m\u001b[1;33m.\u001b[0m\u001b[0mhasnans\u001b[0m\u001b[1;33m:\u001b[0m\u001b[1;33m\u001b[0m\u001b[1;33m\u001b[0m\u001b[0m\n",
            "\u001b[1;31mKeyError\u001b[0m: 0"
          ]
        }
      ],
      "source": [
        "s5[0]"
      ]
    },
    {
      "cell_type": "code",
      "execution_count": null,
      "id": "8f2cfe8d",
      "metadata": {
        "id": "8f2cfe8d",
        "outputId": "3729df16-efc0-41fe-9d86-dfdfa14d1f97",
        "colab": {
          "base_uri": "https://localhost:8080/"
        }
      },
      "outputs": [
        {
          "output_type": "execute_result",
          "data": {
            "text/plain": [
              "10"
            ]
          },
          "metadata": {},
          "execution_count": 41
        }
      ],
      "source": [
        "s5.iloc[0]"
      ]
    },
    {
      "cell_type": "code",
      "execution_count": null,
      "id": "ec868c9d",
      "metadata": {
        "id": "ec868c9d",
        "outputId": "895762b8-45ae-4b03-d017-33fcf2cbd012",
        "colab": {
          "base_uri": "https://localhost:8080/"
        }
      },
      "outputs": [
        {
          "output_type": "execute_result",
          "data": {
            "text/plain": [
              "1    10\n",
              "2    20\n",
              "3    30\n",
              "4    40\n",
              "dtype: int64"
            ]
          },
          "metadata": {},
          "execution_count": 42
        }
      ],
      "source": [
        "s5"
      ]
    },
    {
      "cell_type": "code",
      "execution_count": null,
      "id": "6e3ba1e5",
      "metadata": {
        "id": "6e3ba1e5",
        "outputId": "cbb34ed4-1793-4980-a0e2-cc2cbbaa8f33"
      },
      "outputs": [
        {
          "data": {
            "text/plain": [
              "10"
            ]
          },
          "execution_count": 61,
          "metadata": {},
          "output_type": "execute_result"
        }
      ],
      "source": [
        "s5[1]"
      ]
    },
    {
      "cell_type": "code",
      "execution_count": null,
      "id": "ac7fc8d5",
      "metadata": {
        "id": "ac7fc8d5",
        "outputId": "92f6cccd-689d-4ef4-f36e-07c136d0a103"
      },
      "outputs": [
        {
          "data": {
            "text/plain": [
              "20"
            ]
          },
          "execution_count": 62,
          "metadata": {},
          "output_type": "execute_result"
        }
      ],
      "source": [
        "s5.iloc[1]"
      ]
    },
    {
      "cell_type": "code",
      "execution_count": null,
      "id": "1824b4c6",
      "metadata": {
        "id": "1824b4c6",
        "outputId": "6c79e795-fcd7-4977-dfc9-5f5134034c65"
      },
      "outputs": [
        {
          "ename": "KeyError",
          "evalue": "-1",
          "output_type": "error",
          "traceback": [
            "\u001b[1;31m---------------------------------------------------------------------------\u001b[0m",
            "\u001b[1;31mKeyError\u001b[0m                                  Traceback (most recent call last)",
            "\u001b[1;32m~\\Anaconda3\\lib\\site-packages\\pandas\\core\\indexes\\base.py\u001b[0m in \u001b[0;36mget_loc\u001b[1;34m(self, key, method, tolerance)\u001b[0m\n\u001b[0;32m   3360\u001b[0m             \u001b[1;32mtry\u001b[0m\u001b[1;33m:\u001b[0m\u001b[1;33m\u001b[0m\u001b[1;33m\u001b[0m\u001b[0m\n\u001b[1;32m-> 3361\u001b[1;33m                 \u001b[1;32mreturn\u001b[0m \u001b[0mself\u001b[0m\u001b[1;33m.\u001b[0m\u001b[0m_engine\u001b[0m\u001b[1;33m.\u001b[0m\u001b[0mget_loc\u001b[0m\u001b[1;33m(\u001b[0m\u001b[0mcasted_key\u001b[0m\u001b[1;33m)\u001b[0m\u001b[1;33m\u001b[0m\u001b[1;33m\u001b[0m\u001b[0m\n\u001b[0m\u001b[0;32m   3362\u001b[0m             \u001b[1;32mexcept\u001b[0m \u001b[0mKeyError\u001b[0m \u001b[1;32mas\u001b[0m \u001b[0merr\u001b[0m\u001b[1;33m:\u001b[0m\u001b[1;33m\u001b[0m\u001b[1;33m\u001b[0m\u001b[0m\n",
            "\u001b[1;32m~\\Anaconda3\\lib\\site-packages\\pandas\\_libs\\index.pyx\u001b[0m in \u001b[0;36mpandas._libs.index.IndexEngine.get_loc\u001b[1;34m()\u001b[0m\n",
            "\u001b[1;32m~\\Anaconda3\\lib\\site-packages\\pandas\\_libs\\index.pyx\u001b[0m in \u001b[0;36mpandas._libs.index.IndexEngine.get_loc\u001b[1;34m()\u001b[0m\n",
            "\u001b[1;32mpandas\\_libs\\hashtable_class_helper.pxi\u001b[0m in \u001b[0;36mpandas._libs.hashtable.Int64HashTable.get_item\u001b[1;34m()\u001b[0m\n",
            "\u001b[1;32mpandas\\_libs\\hashtable_class_helper.pxi\u001b[0m in \u001b[0;36mpandas._libs.hashtable.Int64HashTable.get_item\u001b[1;34m()\u001b[0m\n",
            "\u001b[1;31mKeyError\u001b[0m: -1",
            "\nThe above exception was the direct cause of the following exception:\n",
            "\u001b[1;31mKeyError\u001b[0m                                  Traceback (most recent call last)",
            "\u001b[1;32m~\\AppData\\Local\\Temp/ipykernel_7116/1633357029.py\u001b[0m in \u001b[0;36m<module>\u001b[1;34m\u001b[0m\n\u001b[1;32m----> 1\u001b[1;33m \u001b[0ms5\u001b[0m\u001b[1;33m.\u001b[0m\u001b[0mloc\u001b[0m\u001b[1;33m[\u001b[0m\u001b[1;33m-\u001b[0m\u001b[1;36m1\u001b[0m\u001b[1;33m]\u001b[0m\u001b[1;33m\u001b[0m\u001b[1;33m\u001b[0m\u001b[0m\n\u001b[0m",
            "\u001b[1;32m~\\Anaconda3\\lib\\site-packages\\pandas\\core\\indexing.py\u001b[0m in \u001b[0;36m__getitem__\u001b[1;34m(self, key)\u001b[0m\n\u001b[0;32m    929\u001b[0m \u001b[1;33m\u001b[0m\u001b[0m\n\u001b[0;32m    930\u001b[0m             \u001b[0mmaybe_callable\u001b[0m \u001b[1;33m=\u001b[0m \u001b[0mcom\u001b[0m\u001b[1;33m.\u001b[0m\u001b[0mapply_if_callable\u001b[0m\u001b[1;33m(\u001b[0m\u001b[0mkey\u001b[0m\u001b[1;33m,\u001b[0m \u001b[0mself\u001b[0m\u001b[1;33m.\u001b[0m\u001b[0mobj\u001b[0m\u001b[1;33m)\u001b[0m\u001b[1;33m\u001b[0m\u001b[1;33m\u001b[0m\u001b[0m\n\u001b[1;32m--> 931\u001b[1;33m             \u001b[1;32mreturn\u001b[0m \u001b[0mself\u001b[0m\u001b[1;33m.\u001b[0m\u001b[0m_getitem_axis\u001b[0m\u001b[1;33m(\u001b[0m\u001b[0mmaybe_callable\u001b[0m\u001b[1;33m,\u001b[0m \u001b[0maxis\u001b[0m\u001b[1;33m=\u001b[0m\u001b[0maxis\u001b[0m\u001b[1;33m)\u001b[0m\u001b[1;33m\u001b[0m\u001b[1;33m\u001b[0m\u001b[0m\n\u001b[0m\u001b[0;32m    932\u001b[0m \u001b[1;33m\u001b[0m\u001b[0m\n\u001b[0;32m    933\u001b[0m     \u001b[1;32mdef\u001b[0m \u001b[0m_is_scalar_access\u001b[0m\u001b[1;33m(\u001b[0m\u001b[0mself\u001b[0m\u001b[1;33m,\u001b[0m \u001b[0mkey\u001b[0m\u001b[1;33m:\u001b[0m \u001b[0mtuple\u001b[0m\u001b[1;33m)\u001b[0m\u001b[1;33m:\u001b[0m\u001b[1;33m\u001b[0m\u001b[1;33m\u001b[0m\u001b[0m\n",
            "\u001b[1;32m~\\Anaconda3\\lib\\site-packages\\pandas\\core\\indexing.py\u001b[0m in \u001b[0;36m_getitem_axis\u001b[1;34m(self, key, axis)\u001b[0m\n\u001b[0;32m   1162\u001b[0m         \u001b[1;31m# fall thru to straight lookup\u001b[0m\u001b[1;33m\u001b[0m\u001b[1;33m\u001b[0m\u001b[0m\n\u001b[0;32m   1163\u001b[0m         \u001b[0mself\u001b[0m\u001b[1;33m.\u001b[0m\u001b[0m_validate_key\u001b[0m\u001b[1;33m(\u001b[0m\u001b[0mkey\u001b[0m\u001b[1;33m,\u001b[0m \u001b[0maxis\u001b[0m\u001b[1;33m)\u001b[0m\u001b[1;33m\u001b[0m\u001b[1;33m\u001b[0m\u001b[0m\n\u001b[1;32m-> 1164\u001b[1;33m         \u001b[1;32mreturn\u001b[0m \u001b[0mself\u001b[0m\u001b[1;33m.\u001b[0m\u001b[0m_get_label\u001b[0m\u001b[1;33m(\u001b[0m\u001b[0mkey\u001b[0m\u001b[1;33m,\u001b[0m \u001b[0maxis\u001b[0m\u001b[1;33m=\u001b[0m\u001b[0maxis\u001b[0m\u001b[1;33m)\u001b[0m\u001b[1;33m\u001b[0m\u001b[1;33m\u001b[0m\u001b[0m\n\u001b[0m\u001b[0;32m   1165\u001b[0m \u001b[1;33m\u001b[0m\u001b[0m\n\u001b[0;32m   1166\u001b[0m     \u001b[1;32mdef\u001b[0m \u001b[0m_get_slice_axis\u001b[0m\u001b[1;33m(\u001b[0m\u001b[0mself\u001b[0m\u001b[1;33m,\u001b[0m \u001b[0mslice_obj\u001b[0m\u001b[1;33m:\u001b[0m \u001b[0mslice\u001b[0m\u001b[1;33m,\u001b[0m \u001b[0maxis\u001b[0m\u001b[1;33m:\u001b[0m \u001b[0mint\u001b[0m\u001b[1;33m)\u001b[0m\u001b[1;33m:\u001b[0m\u001b[1;33m\u001b[0m\u001b[1;33m\u001b[0m\u001b[0m\n",
            "\u001b[1;32m~\\Anaconda3\\lib\\site-packages\\pandas\\core\\indexing.py\u001b[0m in \u001b[0;36m_get_label\u001b[1;34m(self, label, axis)\u001b[0m\n\u001b[0;32m   1111\u001b[0m     \u001b[1;32mdef\u001b[0m \u001b[0m_get_label\u001b[0m\u001b[1;33m(\u001b[0m\u001b[0mself\u001b[0m\u001b[1;33m,\u001b[0m \u001b[0mlabel\u001b[0m\u001b[1;33m,\u001b[0m \u001b[0maxis\u001b[0m\u001b[1;33m:\u001b[0m \u001b[0mint\u001b[0m\u001b[1;33m)\u001b[0m\u001b[1;33m:\u001b[0m\u001b[1;33m\u001b[0m\u001b[1;33m\u001b[0m\u001b[0m\n\u001b[0;32m   1112\u001b[0m         \u001b[1;31m# GH#5667 this will fail if the label is not present in the axis.\u001b[0m\u001b[1;33m\u001b[0m\u001b[1;33m\u001b[0m\u001b[0m\n\u001b[1;32m-> 1113\u001b[1;33m         \u001b[1;32mreturn\u001b[0m \u001b[0mself\u001b[0m\u001b[1;33m.\u001b[0m\u001b[0mobj\u001b[0m\u001b[1;33m.\u001b[0m\u001b[0mxs\u001b[0m\u001b[1;33m(\u001b[0m\u001b[0mlabel\u001b[0m\u001b[1;33m,\u001b[0m \u001b[0maxis\u001b[0m\u001b[1;33m=\u001b[0m\u001b[0maxis\u001b[0m\u001b[1;33m)\u001b[0m\u001b[1;33m\u001b[0m\u001b[1;33m\u001b[0m\u001b[0m\n\u001b[0m\u001b[0;32m   1114\u001b[0m \u001b[1;33m\u001b[0m\u001b[0m\n\u001b[0;32m   1115\u001b[0m     \u001b[1;32mdef\u001b[0m \u001b[0m_handle_lowerdim_multi_index_axis0\u001b[0m\u001b[1;33m(\u001b[0m\u001b[0mself\u001b[0m\u001b[1;33m,\u001b[0m \u001b[0mtup\u001b[0m\u001b[1;33m:\u001b[0m \u001b[0mtuple\u001b[0m\u001b[1;33m)\u001b[0m\u001b[1;33m:\u001b[0m\u001b[1;33m\u001b[0m\u001b[1;33m\u001b[0m\u001b[0m\n",
            "\u001b[1;32m~\\Anaconda3\\lib\\site-packages\\pandas\\core\\generic.py\u001b[0m in \u001b[0;36mxs\u001b[1;34m(self, key, axis, level, drop_level)\u001b[0m\n\u001b[0;32m   3774\u001b[0m                 \u001b[1;32mraise\u001b[0m \u001b[0mTypeError\u001b[0m\u001b[1;33m(\u001b[0m\u001b[1;34mf\"Expected label or tuple of labels, got {key}\"\u001b[0m\u001b[1;33m)\u001b[0m \u001b[1;32mfrom\u001b[0m \u001b[0me\u001b[0m\u001b[1;33m\u001b[0m\u001b[1;33m\u001b[0m\u001b[0m\n\u001b[0;32m   3775\u001b[0m         \u001b[1;32melse\u001b[0m\u001b[1;33m:\u001b[0m\u001b[1;33m\u001b[0m\u001b[1;33m\u001b[0m\u001b[0m\n\u001b[1;32m-> 3776\u001b[1;33m             \u001b[0mloc\u001b[0m \u001b[1;33m=\u001b[0m \u001b[0mindex\u001b[0m\u001b[1;33m.\u001b[0m\u001b[0mget_loc\u001b[0m\u001b[1;33m(\u001b[0m\u001b[0mkey\u001b[0m\u001b[1;33m)\u001b[0m\u001b[1;33m\u001b[0m\u001b[1;33m\u001b[0m\u001b[0m\n\u001b[0m\u001b[0;32m   3777\u001b[0m \u001b[1;33m\u001b[0m\u001b[0m\n\u001b[0;32m   3778\u001b[0m             \u001b[1;32mif\u001b[0m \u001b[0misinstance\u001b[0m\u001b[1;33m(\u001b[0m\u001b[0mloc\u001b[0m\u001b[1;33m,\u001b[0m \u001b[0mnp\u001b[0m\u001b[1;33m.\u001b[0m\u001b[0mndarray\u001b[0m\u001b[1;33m)\u001b[0m\u001b[1;33m:\u001b[0m\u001b[1;33m\u001b[0m\u001b[1;33m\u001b[0m\u001b[0m\n",
            "\u001b[1;32m~\\Anaconda3\\lib\\site-packages\\pandas\\core\\indexes\\base.py\u001b[0m in \u001b[0;36mget_loc\u001b[1;34m(self, key, method, tolerance)\u001b[0m\n\u001b[0;32m   3361\u001b[0m                 \u001b[1;32mreturn\u001b[0m \u001b[0mself\u001b[0m\u001b[1;33m.\u001b[0m\u001b[0m_engine\u001b[0m\u001b[1;33m.\u001b[0m\u001b[0mget_loc\u001b[0m\u001b[1;33m(\u001b[0m\u001b[0mcasted_key\u001b[0m\u001b[1;33m)\u001b[0m\u001b[1;33m\u001b[0m\u001b[1;33m\u001b[0m\u001b[0m\n\u001b[0;32m   3362\u001b[0m             \u001b[1;32mexcept\u001b[0m \u001b[0mKeyError\u001b[0m \u001b[1;32mas\u001b[0m \u001b[0merr\u001b[0m\u001b[1;33m:\u001b[0m\u001b[1;33m\u001b[0m\u001b[1;33m\u001b[0m\u001b[0m\n\u001b[1;32m-> 3363\u001b[1;33m                 \u001b[1;32mraise\u001b[0m \u001b[0mKeyError\u001b[0m\u001b[1;33m(\u001b[0m\u001b[0mkey\u001b[0m\u001b[1;33m)\u001b[0m \u001b[1;32mfrom\u001b[0m \u001b[0merr\u001b[0m\u001b[1;33m\u001b[0m\u001b[1;33m\u001b[0m\u001b[0m\n\u001b[0m\u001b[0;32m   3364\u001b[0m \u001b[1;33m\u001b[0m\u001b[0m\n\u001b[0;32m   3365\u001b[0m         \u001b[1;32mif\u001b[0m \u001b[0mis_scalar\u001b[0m\u001b[1;33m(\u001b[0m\u001b[0mkey\u001b[0m\u001b[1;33m)\u001b[0m \u001b[1;32mand\u001b[0m \u001b[0misna\u001b[0m\u001b[1;33m(\u001b[0m\u001b[0mkey\u001b[0m\u001b[1;33m)\u001b[0m \u001b[1;32mand\u001b[0m \u001b[1;32mnot\u001b[0m \u001b[0mself\u001b[0m\u001b[1;33m.\u001b[0m\u001b[0mhasnans\u001b[0m\u001b[1;33m:\u001b[0m\u001b[1;33m\u001b[0m\u001b[1;33m\u001b[0m\u001b[0m\n",
            "\u001b[1;31mKeyError\u001b[0m: -1"
          ]
        }
      ],
      "source": [
        "s5.loc[-1]"
      ]
    },
    {
      "cell_type": "code",
      "execution_count": null,
      "id": "45ea7d29",
      "metadata": {
        "id": "45ea7d29",
        "outputId": "cdeea53c-4613-41b6-fdf6-9e20e177c47f",
        "colab": {
          "base_uri": "https://localhost:8080/"
        }
      },
      "outputs": [
        {
          "output_type": "execute_result",
          "data": {
            "text/plain": [
              "a    10\n",
              "b    20\n",
              "c    30\n",
              "d    40\n",
              "e    50\n",
              "Name: My series, dtype: int64"
            ]
          },
          "metadata": {},
          "execution_count": 43
        }
      ],
      "source": [
        "s2"
      ]
    },
    {
      "cell_type": "code",
      "execution_count": null,
      "id": "37fbc3c4",
      "metadata": {
        "id": "37fbc3c4",
        "outputId": "0618b1c2-600c-4413-b173-768c803df8dd"
      },
      "outputs": [
        {
          "data": {
            "text/plain": [
              "40"
            ]
          },
          "execution_count": 65,
          "metadata": {},
          "output_type": "execute_result"
        }
      ],
      "source": [
        "s2.iloc[-2]"
      ]
    },
    {
      "cell_type": "code",
      "execution_count": null,
      "id": "5f8c2a7a",
      "metadata": {
        "id": "5f8c2a7a"
      },
      "outputs": [],
      "source": [
        "s6 = pd.Series([1,2,3,4], index=['a', 'b', 10, 20]) # Any type of indexing is accepted"
      ]
    },
    {
      "cell_type": "code",
      "execution_count": null,
      "id": "f73c8bef",
      "metadata": {
        "id": "f73c8bef",
        "outputId": "445b21fc-3037-4e46-e137-2eecc0401bf8"
      },
      "outputs": [
        {
          "data": {
            "text/plain": [
              "a     1\n",
              "b     2\n",
              "10    3\n",
              "20    4\n",
              "dtype: int64"
            ]
          },
          "execution_count": 67,
          "metadata": {},
          "output_type": "execute_result"
        }
      ],
      "source": [
        "s6"
      ]
    },
    {
      "cell_type": "code",
      "execution_count": null,
      "id": "6f331cdc",
      "metadata": {
        "id": "6f331cdc",
        "outputId": "efe9d755-e956-4e19-8bce-8506d11be006",
        "colab": {
          "base_uri": "https://localhost:8080/"
        }
      },
      "outputs": [
        {
          "output_type": "execute_result",
          "data": {
            "text/plain": [
              "Index(['a', 'b', 10, 20], dtype='object')"
            ]
          },
          "metadata": {},
          "execution_count": 46
        }
      ],
      "source": [
        "s6.index"
      ]
    },
    {
      "cell_type": "code",
      "execution_count": null,
      "id": "21e16a5a",
      "metadata": {
        "id": "21e16a5a",
        "outputId": "47108014-ee0c-49a5-e80d-c98e6a4fd6a7"
      },
      "outputs": [
        {
          "ename": "KeyError",
          "evalue": "0",
          "output_type": "error",
          "traceback": [
            "\u001b[1;31m---------------------------------------------------------------------------\u001b[0m",
            "\u001b[1;31mKeyError\u001b[0m                                  Traceback (most recent call last)",
            "\u001b[1;32m~\\Anaconda3\\lib\\site-packages\\pandas\\core\\indexes\\base.py\u001b[0m in \u001b[0;36mget_loc\u001b[1;34m(self, key, method, tolerance)\u001b[0m\n\u001b[0;32m   3360\u001b[0m             \u001b[1;32mtry\u001b[0m\u001b[1;33m:\u001b[0m\u001b[1;33m\u001b[0m\u001b[1;33m\u001b[0m\u001b[0m\n\u001b[1;32m-> 3361\u001b[1;33m                 \u001b[1;32mreturn\u001b[0m \u001b[0mself\u001b[0m\u001b[1;33m.\u001b[0m\u001b[0m_engine\u001b[0m\u001b[1;33m.\u001b[0m\u001b[0mget_loc\u001b[0m\u001b[1;33m(\u001b[0m\u001b[0mcasted_key\u001b[0m\u001b[1;33m)\u001b[0m\u001b[1;33m\u001b[0m\u001b[1;33m\u001b[0m\u001b[0m\n\u001b[0m\u001b[0;32m   3362\u001b[0m             \u001b[1;32mexcept\u001b[0m \u001b[0mKeyError\u001b[0m \u001b[1;32mas\u001b[0m \u001b[0merr\u001b[0m\u001b[1;33m:\u001b[0m\u001b[1;33m\u001b[0m\u001b[1;33m\u001b[0m\u001b[0m\n",
            "\u001b[1;32m~\\Anaconda3\\lib\\site-packages\\pandas\\_libs\\index.pyx\u001b[0m in \u001b[0;36mpandas._libs.index.IndexEngine.get_loc\u001b[1;34m()\u001b[0m\n",
            "\u001b[1;32m~\\Anaconda3\\lib\\site-packages\\pandas\\_libs\\index.pyx\u001b[0m in \u001b[0;36mpandas._libs.index.IndexEngine.get_loc\u001b[1;34m()\u001b[0m\n",
            "\u001b[1;32mpandas\\_libs\\hashtable_class_helper.pxi\u001b[0m in \u001b[0;36mpandas._libs.hashtable.PyObjectHashTable.get_item\u001b[1;34m()\u001b[0m\n",
            "\u001b[1;32mpandas\\_libs\\hashtable_class_helper.pxi\u001b[0m in \u001b[0;36mpandas._libs.hashtable.PyObjectHashTable.get_item\u001b[1;34m()\u001b[0m\n",
            "\u001b[1;31mKeyError\u001b[0m: 0",
            "\nThe above exception was the direct cause of the following exception:\n",
            "\u001b[1;31mKeyError\u001b[0m                                  Traceback (most recent call last)",
            "\u001b[1;32m~\\AppData\\Local\\Temp/ipykernel_7116/711293821.py\u001b[0m in \u001b[0;36m<module>\u001b[1;34m\u001b[0m\n\u001b[1;32m----> 1\u001b[1;33m \u001b[0ms6\u001b[0m\u001b[1;33m[\u001b[0m\u001b[1;36m0\u001b[0m\u001b[1;33m]\u001b[0m\u001b[1;33m\u001b[0m\u001b[1;33m\u001b[0m\u001b[0m\n\u001b[0m",
            "\u001b[1;32m~\\Anaconda3\\lib\\site-packages\\pandas\\core\\series.py\u001b[0m in \u001b[0;36m__getitem__\u001b[1;34m(self, key)\u001b[0m\n\u001b[0;32m    940\u001b[0m \u001b[1;33m\u001b[0m\u001b[0m\n\u001b[0;32m    941\u001b[0m         \u001b[1;32melif\u001b[0m \u001b[0mkey_is_scalar\u001b[0m\u001b[1;33m:\u001b[0m\u001b[1;33m\u001b[0m\u001b[1;33m\u001b[0m\u001b[0m\n\u001b[1;32m--> 942\u001b[1;33m             \u001b[1;32mreturn\u001b[0m \u001b[0mself\u001b[0m\u001b[1;33m.\u001b[0m\u001b[0m_get_value\u001b[0m\u001b[1;33m(\u001b[0m\u001b[0mkey\u001b[0m\u001b[1;33m)\u001b[0m\u001b[1;33m\u001b[0m\u001b[1;33m\u001b[0m\u001b[0m\n\u001b[0m\u001b[0;32m    943\u001b[0m \u001b[1;33m\u001b[0m\u001b[0m\n\u001b[0;32m    944\u001b[0m         \u001b[1;32mif\u001b[0m \u001b[0mis_hashable\u001b[0m\u001b[1;33m(\u001b[0m\u001b[0mkey\u001b[0m\u001b[1;33m)\u001b[0m\u001b[1;33m:\u001b[0m\u001b[1;33m\u001b[0m\u001b[1;33m\u001b[0m\u001b[0m\n",
            "\u001b[1;32m~\\Anaconda3\\lib\\site-packages\\pandas\\core\\series.py\u001b[0m in \u001b[0;36m_get_value\u001b[1;34m(self, label, takeable)\u001b[0m\n\u001b[0;32m   1049\u001b[0m \u001b[1;33m\u001b[0m\u001b[0m\n\u001b[0;32m   1050\u001b[0m         \u001b[1;31m# Similar to Index.get_value, but we do not fall back to positional\u001b[0m\u001b[1;33m\u001b[0m\u001b[1;33m\u001b[0m\u001b[0m\n\u001b[1;32m-> 1051\u001b[1;33m         \u001b[0mloc\u001b[0m \u001b[1;33m=\u001b[0m \u001b[0mself\u001b[0m\u001b[1;33m.\u001b[0m\u001b[0mindex\u001b[0m\u001b[1;33m.\u001b[0m\u001b[0mget_loc\u001b[0m\u001b[1;33m(\u001b[0m\u001b[0mlabel\u001b[0m\u001b[1;33m)\u001b[0m\u001b[1;33m\u001b[0m\u001b[1;33m\u001b[0m\u001b[0m\n\u001b[0m\u001b[0;32m   1052\u001b[0m         \u001b[1;32mreturn\u001b[0m \u001b[0mself\u001b[0m\u001b[1;33m.\u001b[0m\u001b[0mindex\u001b[0m\u001b[1;33m.\u001b[0m\u001b[0m_get_values_for_loc\u001b[0m\u001b[1;33m(\u001b[0m\u001b[0mself\u001b[0m\u001b[1;33m,\u001b[0m \u001b[0mloc\u001b[0m\u001b[1;33m,\u001b[0m \u001b[0mlabel\u001b[0m\u001b[1;33m)\u001b[0m\u001b[1;33m\u001b[0m\u001b[1;33m\u001b[0m\u001b[0m\n\u001b[0;32m   1053\u001b[0m \u001b[1;33m\u001b[0m\u001b[0m\n",
            "\u001b[1;32m~\\Anaconda3\\lib\\site-packages\\pandas\\core\\indexes\\base.py\u001b[0m in \u001b[0;36mget_loc\u001b[1;34m(self, key, method, tolerance)\u001b[0m\n\u001b[0;32m   3361\u001b[0m                 \u001b[1;32mreturn\u001b[0m \u001b[0mself\u001b[0m\u001b[1;33m.\u001b[0m\u001b[0m_engine\u001b[0m\u001b[1;33m.\u001b[0m\u001b[0mget_loc\u001b[0m\u001b[1;33m(\u001b[0m\u001b[0mcasted_key\u001b[0m\u001b[1;33m)\u001b[0m\u001b[1;33m\u001b[0m\u001b[1;33m\u001b[0m\u001b[0m\n\u001b[0;32m   3362\u001b[0m             \u001b[1;32mexcept\u001b[0m \u001b[0mKeyError\u001b[0m \u001b[1;32mas\u001b[0m \u001b[0merr\u001b[0m\u001b[1;33m:\u001b[0m\u001b[1;33m\u001b[0m\u001b[1;33m\u001b[0m\u001b[0m\n\u001b[1;32m-> 3363\u001b[1;33m                 \u001b[1;32mraise\u001b[0m \u001b[0mKeyError\u001b[0m\u001b[1;33m(\u001b[0m\u001b[0mkey\u001b[0m\u001b[1;33m)\u001b[0m \u001b[1;32mfrom\u001b[0m \u001b[0merr\u001b[0m\u001b[1;33m\u001b[0m\u001b[1;33m\u001b[0m\u001b[0m\n\u001b[0m\u001b[0;32m   3364\u001b[0m \u001b[1;33m\u001b[0m\u001b[0m\n\u001b[0;32m   3365\u001b[0m         \u001b[1;32mif\u001b[0m \u001b[0mis_scalar\u001b[0m\u001b[1;33m(\u001b[0m\u001b[0mkey\u001b[0m\u001b[1;33m)\u001b[0m \u001b[1;32mand\u001b[0m \u001b[0misna\u001b[0m\u001b[1;33m(\u001b[0m\u001b[0mkey\u001b[0m\u001b[1;33m)\u001b[0m \u001b[1;32mand\u001b[0m \u001b[1;32mnot\u001b[0m \u001b[0mself\u001b[0m\u001b[1;33m.\u001b[0m\u001b[0mhasnans\u001b[0m\u001b[1;33m:\u001b[0m\u001b[1;33m\u001b[0m\u001b[1;33m\u001b[0m\u001b[0m\n",
            "\u001b[1;31mKeyError\u001b[0m: 0"
          ]
        }
      ],
      "source": [
        "s6[0]"
      ]
    },
    {
      "cell_type": "code",
      "execution_count": null,
      "id": "a7071a3c",
      "metadata": {
        "id": "a7071a3c"
      },
      "outputs": [],
      "source": [
        "s7 = pd.Series([10, 20, 30, 40, 50], index=['a', 'b', 'c', 'd', 'd']) # Dulicate index also accepted"
      ]
    },
    {
      "cell_type": "code",
      "execution_count": null,
      "id": "56f04dbd",
      "metadata": {
        "id": "56f04dbd",
        "outputId": "89bcb65e-dadc-4d36-98a5-a508bfe48622",
        "colab": {
          "base_uri": "https://localhost:8080/"
        }
      },
      "outputs": [
        {
          "output_type": "execute_result",
          "data": {
            "text/plain": [
              "a    10\n",
              "b    20\n",
              "c    30\n",
              "d    40\n",
              "d    50\n",
              "dtype: int64"
            ]
          },
          "metadata": {},
          "execution_count": 49
        }
      ],
      "source": [
        "s7"
      ]
    },
    {
      "cell_type": "code",
      "execution_count": null,
      "id": "38d44780",
      "metadata": {
        "id": "38d44780"
      },
      "outputs": [],
      "source": [
        "students = pd.Series([81.5, 90.5, 78.5, 86.0], index=['John', 'Jill', 'Mark', 'John'])"
      ]
    },
    {
      "cell_type": "code",
      "execution_count": null,
      "id": "400bf057",
      "metadata": {
        "id": "400bf057",
        "outputId": "0af089d1-1c60-4735-bdfc-193707a70603",
        "colab": {
          "base_uri": "https://localhost:8080/"
        }
      },
      "outputs": [
        {
          "output_type": "execute_result",
          "data": {
            "text/plain": [
              "John    81.5\n",
              "Jill    90.5\n",
              "Mark    78.5\n",
              "John    86.0\n",
              "dtype: float64"
            ]
          },
          "metadata": {},
          "execution_count": 50
        }
      ],
      "source": [
        "students"
      ]
    },
    {
      "cell_type": "code",
      "execution_count": null,
      "id": "d40e6103",
      "metadata": {
        "id": "d40e6103",
        "outputId": "bda3e4d9-e29a-49b6-8c5b-373963272cfd",
        "colab": {
          "base_uri": "https://localhost:8080/"
        }
      },
      "outputs": [
        {
          "output_type": "execute_result",
          "data": {
            "text/plain": [
              "a    10\n",
              "b    20\n",
              "c    30\n",
              "d    40\n",
              "d    50\n",
              "dtype: int64"
            ]
          },
          "metadata": {},
          "execution_count": 51
        }
      ],
      "source": [
        "s7"
      ]
    },
    {
      "cell_type": "code",
      "execution_count": null,
      "id": "878962aa",
      "metadata": {
        "id": "878962aa",
        "outputId": "ca86d56d-1ef3-40e3-fb03-a3a9c511ede4",
        "colab": {
          "base_uri": "https://localhost:8080/"
        }
      },
      "outputs": [
        {
          "output_type": "execute_result",
          "data": {
            "text/plain": [
              "d    40\n",
              "d    50\n",
              "dtype: int64"
            ]
          },
          "metadata": {},
          "execution_count": 52
        }
      ],
      "source": [
        "s7.loc['d']"
      ]
    },
    {
      "cell_type": "code",
      "execution_count": null,
      "id": "f52296a6",
      "metadata": {
        "id": "f52296a6",
        "outputId": "7ba59bef-bced-4b70-c4f7-9041d2c10ed1",
        "colab": {
          "base_uri": "https://localhost:8080/"
        }
      },
      "outputs": [
        {
          "output_type": "execute_result",
          "data": {
            "text/plain": [
              "a    10\n",
              "b    20\n",
              "c    30\n",
              "d    40\n",
              "d    50\n",
              "dtype: int64"
            ]
          },
          "metadata": {},
          "execution_count": 53
        }
      ],
      "source": [
        "s7"
      ]
    },
    {
      "cell_type": "code",
      "execution_count": null,
      "id": "438e9b06",
      "metadata": {
        "id": "438e9b06",
        "outputId": "a0c291e9-faef-47f7-a958-36387a27a744",
        "colab": {
          "base_uri": "https://localhost:8080/"
        }
      },
      "outputs": [
        {
          "output_type": "execute_result",
          "data": {
            "text/plain": [
              "d    40\n",
              "d    50\n",
              "dtype: int64"
            ]
          },
          "metadata": {},
          "execution_count": 54
        }
      ],
      "source": [
        "s7['d']"
      ]
    },
    {
      "cell_type": "code",
      "execution_count": null,
      "id": "0831addd",
      "metadata": {
        "id": "0831addd",
        "outputId": "471cc459-f906-4671-cbe5-09d38446345f",
        "colab": {
          "base_uri": "https://localhost:8080/"
        }
      },
      "outputs": [
        {
          "output_type": "execute_result",
          "data": {
            "text/plain": [
              "d    40\n",
              "d    50\n",
              "dtype: int64"
            ]
          },
          "metadata": {},
          "execution_count": 55
        }
      ],
      "source": [
        "s7.loc['d']"
      ]
    },
    {
      "cell_type": "code",
      "execution_count": null,
      "id": "9f4dc0de",
      "metadata": {
        "id": "9f4dc0de",
        "outputId": "c8bf3d4b-effb-4fb3-d80a-3988d60f381a",
        "colab": {
          "base_uri": "https://localhost:8080/"
        }
      },
      "outputs": [
        {
          "output_type": "execute_result",
          "data": {
            "text/plain": [
              "40"
            ]
          },
          "metadata": {},
          "execution_count": 56
        }
      ],
      "source": [
        "s7.loc['d'].iloc[0]"
      ]
    },
    {
      "cell_type": "code",
      "execution_count": null,
      "id": "f7a9594e",
      "metadata": {
        "id": "f7a9594e",
        "outputId": "ebc2a2d6-c6e3-4bb8-9f56-3aeb4ce38c75",
        "colab": {
          "base_uri": "https://localhost:8080/"
        }
      },
      "outputs": [
        {
          "output_type": "execute_result",
          "data": {
            "text/plain": [
              "a    10\n",
              "b    20\n",
              "c    30\n",
              "d    40\n",
              "d    50\n",
              "dtype: int64"
            ]
          },
          "metadata": {},
          "execution_count": 57
        }
      ],
      "source": [
        "s7"
      ]
    },
    {
      "cell_type": "code",
      "execution_count": null,
      "id": "15c66ea9",
      "metadata": {
        "id": "15c66ea9"
      },
      "outputs": [],
      "source": [
        "s7.loc['a'] = 100  # Change the value"
      ]
    },
    {
      "cell_type": "code",
      "execution_count": null,
      "id": "5d85f496",
      "metadata": {
        "id": "5d85f496",
        "outputId": "498db106-0cc5-4cb0-d076-61a5ad34d5ce",
        "colab": {
          "base_uri": "https://localhost:8080/"
        }
      },
      "outputs": [
        {
          "output_type": "execute_result",
          "data": {
            "text/plain": [
              "a    100\n",
              "b     20\n",
              "c     30\n",
              "d     40\n",
              "d     50\n",
              "dtype: int64"
            ]
          },
          "metadata": {},
          "execution_count": 59
        }
      ],
      "source": [
        "s7"
      ]
    },
    {
      "cell_type": "code",
      "execution_count": null,
      "id": "3f7db775",
      "metadata": {
        "id": "3f7db775"
      },
      "outputs": [],
      "source": [
        "s7.loc['d'] = 100"
      ]
    },
    {
      "cell_type": "code",
      "execution_count": null,
      "id": "038b1b43",
      "metadata": {
        "id": "038b1b43",
        "outputId": "89675e2c-5c7f-418a-ad00-128f318e5db2",
        "colab": {
          "base_uri": "https://localhost:8080/"
        }
      },
      "outputs": [
        {
          "output_type": "execute_result",
          "data": {
            "text/plain": [
              "a    100\n",
              "b     20\n",
              "c     30\n",
              "d    100\n",
              "d    100\n",
              "dtype: int64"
            ]
          },
          "metadata": {},
          "execution_count": 61
        }
      ],
      "source": [
        "s7"
      ]
    },
    {
      "cell_type": "code",
      "execution_count": null,
      "id": "3a0407f9",
      "metadata": {
        "id": "3a0407f9"
      },
      "outputs": [],
      "source": [
        "s7.loc['d'].iloc[0] = 500"
      ]
    },
    {
      "cell_type": "code",
      "execution_count": null,
      "id": "a3b01507",
      "metadata": {
        "id": "a3b01507",
        "outputId": "22ecf89b-7f98-41db-cca2-3b90f4932df4"
      },
      "outputs": [
        {
          "data": {
            "text/plain": [
              "a    100\n",
              "b     20\n",
              "c     30\n",
              "d    500\n",
              "d    100\n",
              "dtype: int64"
            ]
          },
          "execution_count": 87,
          "metadata": {},
          "output_type": "execute_result"
        }
      ],
      "source": [
        "s7"
      ]
    },
    {
      "cell_type": "code",
      "execution_count": null,
      "id": "43711fa0",
      "metadata": {
        "id": "43711fa0"
      },
      "outputs": [],
      "source": [
        "s7.loc['d'] = -1, -2  # Change value continually for respected index"
      ]
    },
    {
      "cell_type": "code",
      "execution_count": null,
      "id": "590ca856",
      "metadata": {
        "id": "590ca856",
        "outputId": "9a8ca32d-554f-4bdb-c211-30162dc723ec",
        "colab": {
          "base_uri": "https://localhost:8080/"
        }
      },
      "outputs": [
        {
          "output_type": "execute_result",
          "data": {
            "text/plain": [
              "a    100\n",
              "b     20\n",
              "c     30\n",
              "d     -1\n",
              "d     -2\n",
              "dtype: int64"
            ]
          },
          "metadata": {},
          "execution_count": 64
        }
      ],
      "source": [
        "s7"
      ]
    },
    {
      "cell_type": "code",
      "execution_count": null,
      "id": "f0f79b7f",
      "metadata": {
        "id": "f0f79b7f"
      },
      "outputs": [],
      "source": [
        "import numpy as np"
      ]
    },
    {
      "cell_type": "code",
      "execution_count": null,
      "id": "d3e6ab0c",
      "metadata": {
        "id": "d3e6ab0c"
      },
      "outputs": [],
      "source": [
        "s7.loc['d'] = np.array([0, 0])"
      ]
    },
    {
      "cell_type": "code",
      "execution_count": null,
      "id": "5b57c878",
      "metadata": {
        "id": "5b57c878",
        "outputId": "bbf72fd8-91f4-46bf-c6b9-f9fdeff68e06",
        "colab": {
          "base_uri": "https://localhost:8080/"
        }
      },
      "outputs": [
        {
          "output_type": "execute_result",
          "data": {
            "text/plain": [
              "a    100\n",
              "b     20\n",
              "c     30\n",
              "d      0\n",
              "d      0\n",
              "dtype: int64"
            ]
          },
          "metadata": {},
          "execution_count": 67
        }
      ],
      "source": [
        "s7"
      ]
    },
    {
      "cell_type": "code",
      "execution_count": null,
      "id": "002407eb",
      "metadata": {
        "id": "002407eb",
        "outputId": "1eed2ebd-5123-4556-e8e3-bf48086294ea",
        "colab": {
          "base_uri": "https://localhost:8080/"
        }
      },
      "outputs": [
        {
          "output_type": "execute_result",
          "data": {
            "text/plain": [
              "a    100\n",
              "b     20\n",
              "c     30\n",
              "d      0\n",
              "d      0\n",
              "dtype: int64"
            ]
          },
          "metadata": {},
          "execution_count": 68
        }
      ],
      "source": [
        "s7"
      ]
    },
    {
      "cell_type": "code",
      "execution_count": null,
      "id": "0a1d1a48",
      "metadata": {
        "id": "0a1d1a48",
        "outputId": "c3c042b9-22e1-4878-fe00-6feea7e1a043",
        "colab": {
          "base_uri": "https://localhost:8080/"
        }
      },
      "outputs": [
        {
          "output_type": "execute_result",
          "data": {
            "text/plain": [
              "a    100\n",
              "b     20\n",
              "dtype: int64"
            ]
          },
          "metadata": {},
          "execution_count": 69
        }
      ],
      "source": [
        "s7.loc[['a', 'b']]"
      ]
    },
    {
      "cell_type": "code",
      "execution_count": null,
      "id": "01c0f580",
      "metadata": {
        "id": "01c0f580",
        "outputId": "95a436ba-d4cf-4f8a-83da-e90d84811684",
        "colab": {
          "base_uri": "https://localhost:8080/"
        }
      },
      "outputs": [
        {
          "output_type": "execute_result",
          "data": {
            "text/plain": [
              "a    100\n",
              "b     20\n",
              "d      0\n",
              "d      0\n",
              "dtype: int64"
            ]
          },
          "metadata": {},
          "execution_count": 70
        }
      ],
      "source": [
        "s7.loc[['a', 'b', 'd']]"
      ]
    },
    {
      "cell_type": "code",
      "execution_count": null,
      "id": "301b6660",
      "metadata": {
        "id": "301b6660",
        "outputId": "1abeb260-9b47-4628-f61a-874e51faf216",
        "colab": {
          "base_uri": "https://localhost:8080/"
        }
      },
      "outputs": [
        {
          "output_type": "execute_result",
          "data": {
            "text/plain": [
              "a    100\n",
              "b     20\n",
              "c     30\n",
              "d      0\n",
              "d      0\n",
              "dtype: int64"
            ]
          },
          "metadata": {},
          "execution_count": 71
        }
      ],
      "source": [
        "s7"
      ]
    },
    {
      "cell_type": "code",
      "execution_count": null,
      "id": "720881b2",
      "metadata": {
        "id": "720881b2",
        "outputId": "c6e16bdc-bd78-4c2c-a1cd-7f2e191f7a2e",
        "colab": {
          "base_uri": "https://localhost:8080/"
        }
      },
      "outputs": [
        {
          "output_type": "execute_result",
          "data": {
            "text/plain": [
              "b    20\n",
              "c    30\n",
              "dtype: int64"
            ]
          },
          "metadata": {},
          "execution_count": 72
        }
      ],
      "source": [
        "s7[1:3] # Slicing"
      ]
    },
    {
      "cell_type": "code",
      "execution_count": null,
      "id": "e5dbfb72",
      "metadata": {
        "id": "e5dbfb72",
        "outputId": "371ffee1-0710-4299-821a-a1b730b5caaa"
      },
      "outputs": [
        {
          "data": {
            "text/plain": [
              "b    20\n",
              "c    30\n",
              "dtype: int64"
            ]
          },
          "execution_count": 98,
          "metadata": {},
          "output_type": "execute_result"
        }
      ],
      "source": [
        "s7.iloc[1:3]"
      ]
    },
    {
      "cell_type": "code",
      "execution_count": null,
      "id": "51876ff9",
      "metadata": {
        "id": "51876ff9",
        "outputId": "7bbf3bfe-9d24-4a0f-ce69-ed797e71b322",
        "colab": {
          "base_uri": "https://localhost:8080/"
        }
      },
      "outputs": [
        {
          "output_type": "execute_result",
          "data": {
            "text/plain": [
              "a    100\n",
              "b     20\n",
              "c     30\n",
              "d      0\n",
              "d      0\n",
              "dtype: int64"
            ]
          },
          "metadata": {},
          "execution_count": 73
        }
      ],
      "source": [
        "s7"
      ]
    },
    {
      "cell_type": "code",
      "execution_count": null,
      "id": "59b4940b",
      "metadata": {
        "id": "59b4940b",
        "outputId": "22da55a5-11fd-481b-b213-439d100a2b83",
        "colab": {
          "base_uri": "https://localhost:8080/"
        }
      },
      "outputs": [
        {
          "output_type": "execute_result",
          "data": {
            "text/plain": [
              "a    100\n",
              "b     20\n",
              "c     30\n",
              "dtype: int64"
            ]
          },
          "metadata": {},
          "execution_count": 74
        }
      ],
      "source": [
        "s7.loc['a':'c']"
      ]
    },
    {
      "cell_type": "code",
      "execution_count": null,
      "id": "737828a0",
      "metadata": {
        "id": "737828a0",
        "outputId": "01379684-34cd-4f23-be52-2c72532658f1",
        "colab": {
          "base_uri": "https://localhost:8080/"
        }
      },
      "outputs": [
        {
          "output_type": "execute_result",
          "data": {
            "text/plain": [
              "c     30\n",
              "b     20\n",
              "a    100\n",
              "dtype: int64"
            ]
          },
          "metadata": {},
          "execution_count": 75
        }
      ],
      "source": [
        "s7.loc['c':'a':-1] # Reversing"
      ]
    },
    {
      "cell_type": "code",
      "execution_count": null,
      "id": "73bc3b09",
      "metadata": {
        "id": "73bc3b09",
        "outputId": "a8e07b22-69ba-41ef-cfcd-5d71d210ec01",
        "colab": {
          "base_uri": "https://localhost:8080/"
        }
      },
      "outputs": [
        {
          "output_type": "execute_result",
          "data": {
            "text/plain": [
              "a    100\n",
              "b     20\n",
              "c     30\n",
              "d      0\n",
              "d      0\n",
              "dtype: int64"
            ]
          },
          "metadata": {},
          "execution_count": 76
        }
      ],
      "source": [
        "s7"
      ]
    },
    {
      "cell_type": "code",
      "execution_count": null,
      "id": "6cfcb291",
      "metadata": {
        "id": "6cfcb291",
        "outputId": "4f4f5e4f-ef3a-4fef-baa3-cb51e0281ca4",
        "colab": {
          "base_uri": "https://localhost:8080/"
        }
      },
      "outputs": [
        {
          "output_type": "execute_result",
          "data": {
            "text/plain": [
              "a    101\n",
              "b     21\n",
              "c     31\n",
              "d      1\n",
              "d      1\n",
              "dtype: int64"
            ]
          },
          "metadata": {},
          "execution_count": 78
        }
      ],
      "source": [
        "s7 + 1 # arithmetic operators"
      ]
    },
    {
      "cell_type": "code",
      "execution_count": null,
      "id": "ed1a6928",
      "metadata": {
        "id": "ed1a6928",
        "outputId": "dd2c1636-fabb-4f7a-f451-747a2e739b83",
        "colab": {
          "base_uri": "https://localhost:8080/"
        }
      },
      "outputs": [
        {
          "output_type": "execute_result",
          "data": {
            "text/plain": [
              "a    99\n",
              "b    19\n",
              "c    29\n",
              "d    -1\n",
              "d    -1\n",
              "dtype: int64"
            ]
          },
          "metadata": {},
          "execution_count": 79
        }
      ],
      "source": [
        "s7 - 1"
      ]
    },
    {
      "cell_type": "code",
      "execution_count": null,
      "id": "61009de4",
      "metadata": {
        "id": "61009de4",
        "outputId": "1dfdda9a-94a4-4c19-97c9-6de5f636097f",
        "colab": {
          "base_uri": "https://localhost:8080/"
        }
      },
      "outputs": [
        {
          "output_type": "execute_result",
          "data": {
            "text/plain": [
              "a    200\n",
              "b     40\n",
              "c     60\n",
              "d      0\n",
              "d      0\n",
              "dtype: int64"
            ]
          },
          "metadata": {},
          "execution_count": 80
        }
      ],
      "source": [
        "s7 * 2"
      ]
    },
    {
      "cell_type": "code",
      "execution_count": null,
      "id": "65ca909d",
      "metadata": {
        "id": "65ca909d",
        "outputId": "2609f8ce-8aa1-4fc3-cb7b-864ce382d11e",
        "colab": {
          "base_uri": "https://localhost:8080/"
        }
      },
      "outputs": [
        {
          "output_type": "execute_result",
          "data": {
            "text/plain": [
              "a    100\n",
              "b     20\n",
              "c     30\n",
              "d      0\n",
              "d      0\n",
              "dtype: int64"
            ]
          },
          "metadata": {},
          "execution_count": 81
        }
      ],
      "source": [
        "s7 # Original value will not change"
      ]
    },
    {
      "cell_type": "code",
      "execution_count": null,
      "id": "62f9aad2",
      "metadata": {
        "id": "62f9aad2",
        "outputId": "9fd8c99d-c893-44ce-b6d4-a499fbccbca3",
        "colab": {
          "base_uri": "https://localhost:8080/"
        }
      },
      "outputs": [
        {
          "output_type": "execute_result",
          "data": {
            "text/plain": [
              "a    False\n",
              "b    False\n",
              "c    False\n",
              "d     True\n",
              "d     True\n",
              "dtype: bool"
            ]
          },
          "metadata": {},
          "execution_count": 82
        }
      ],
      "source": [
        "s7 < 10"
      ]
    },
    {
      "cell_type": "code",
      "execution_count": null,
      "id": "55a925a0",
      "metadata": {
        "id": "55a925a0",
        "outputId": "632d12f4-e261-4748-983b-e145f8b641f6",
        "colab": {
          "base_uri": "https://localhost:8080/"
        }
      },
      "outputs": [
        {
          "output_type": "execute_result",
          "data": {
            "text/plain": [
              "a    100\n",
              "b     20\n",
              "c     30\n",
              "d      0\n",
              "d      0\n",
              "dtype: int64"
            ]
          },
          "metadata": {},
          "execution_count": 83
        }
      ],
      "source": [
        "s7"
      ]
    },
    {
      "cell_type": "code",
      "execution_count": null,
      "id": "69b57bfb",
      "metadata": {
        "id": "69b57bfb",
        "outputId": "80283b96-8a75-4aa6-8eab-5364dec7bc1a",
        "colab": {
          "base_uri": "https://localhost:8080/"
        }
      },
      "outputs": [
        {
          "output_type": "execute_result",
          "data": {
            "text/plain": [
              "d    0\n",
              "d    0\n",
              "dtype: int64"
            ]
          },
          "metadata": {},
          "execution_count": 84
        }
      ],
      "source": [
        "s7[s7 < 10]"
      ]
    },
    {
      "cell_type": "code",
      "execution_count": null,
      "id": "b2e81d58",
      "metadata": {
        "id": "b2e81d58",
        "outputId": "1512a04c-d4c2-4092-d76b-3aca9364aa22",
        "colab": {
          "base_uri": "https://localhost:8080/"
        }
      },
      "outputs": [
        {
          "output_type": "execute_result",
          "data": {
            "text/plain": [
              "John    81.5\n",
              "Jill    90.5\n",
              "Mark    78.5\n",
              "John    86.0\n",
              "dtype: float64"
            ]
          },
          "metadata": {},
          "execution_count": 85
        }
      ],
      "source": [
        "students"
      ]
    },
    {
      "cell_type": "code",
      "execution_count": null,
      "id": "63274065",
      "metadata": {
        "id": "63274065"
      },
      "outputs": [],
      "source": [
        "# fetch the student details having more than 85% marks"
      ]
    },
    {
      "cell_type": "code",
      "execution_count": null,
      "id": "bfe7241a",
      "metadata": {
        "id": "bfe7241a",
        "outputId": "a24714a6-75f1-445e-9ba8-7447b5ab39c1",
        "colab": {
          "base_uri": "https://localhost:8080/"
        }
      },
      "outputs": [
        {
          "output_type": "execute_result",
          "data": {
            "text/plain": [
              "Jill    90.5\n",
              "John    86.0\n",
              "dtype: float64"
            ]
          },
          "metadata": {},
          "execution_count": 87
        }
      ],
      "source": [
        "students[students>=85]"
      ]
    },
    {
      "cell_type": "code",
      "execution_count": null,
      "id": "e8dd4f55",
      "metadata": {
        "id": "e8dd4f55"
      },
      "outputs": [],
      "source": [
        "s8 = pd.Series(['a', 10, 'hi', 20.5])"
      ]
    },
    {
      "cell_type": "code",
      "execution_count": null,
      "id": "487e2b69",
      "metadata": {
        "id": "487e2b69",
        "outputId": "6d88138a-68e3-45d8-f490-8463bd833566",
        "colab": {
          "base_uri": "https://localhost:8080/"
        }
      },
      "outputs": [
        {
          "output_type": "execute_result",
          "data": {
            "text/plain": [
              "0       a\n",
              "1      10\n",
              "2      hi\n",
              "3    20.5\n",
              "dtype: object"
            ]
          },
          "metadata": {},
          "execution_count": 89
        }
      ],
      "source": [
        "s8"
      ]
    },
    {
      "cell_type": "code",
      "execution_count": null,
      "id": "9a5aa8fe",
      "metadata": {
        "id": "9a5aa8fe",
        "outputId": "112f79d9-6421-4536-e475-6837d1439980",
        "colab": {
          "base_uri": "https://localhost:8080/",
          "height": 432
        }
      },
      "outputs": [
        {
          "output_type": "error",
          "ename": "TypeError",
          "evalue": "ignored",
          "traceback": [
            "\u001b[0;31m---------------------------------------------------------------------------\u001b[0m",
            "\u001b[0;31mTypeError\u001b[0m                                 Traceback (most recent call last)",
            "\u001b[0;32m/usr/local/lib/python3.10/dist-packages/pandas/core/ops/array_ops.py\u001b[0m in \u001b[0;36m_na_arithmetic_op\u001b[0;34m(left, right, op, is_cmp)\u001b[0m\n\u001b[1;32m    164\u001b[0m     \u001b[0;32mtry\u001b[0m\u001b[0;34m:\u001b[0m\u001b[0;34m\u001b[0m\u001b[0;34m\u001b[0m\u001b[0m\n\u001b[0;32m--> 165\u001b[0;31m         \u001b[0mresult\u001b[0m \u001b[0;34m=\u001b[0m \u001b[0mfunc\u001b[0m\u001b[0;34m(\u001b[0m\u001b[0mleft\u001b[0m\u001b[0;34m,\u001b[0m \u001b[0mright\u001b[0m\u001b[0;34m)\u001b[0m\u001b[0;34m\u001b[0m\u001b[0;34m\u001b[0m\u001b[0m\n\u001b[0m\u001b[1;32m    166\u001b[0m     \u001b[0;32mexcept\u001b[0m \u001b[0mTypeError\u001b[0m\u001b[0;34m:\u001b[0m\u001b[0;34m\u001b[0m\u001b[0;34m\u001b[0m\u001b[0m\n",
            "\u001b[0;32m/usr/local/lib/python3.10/dist-packages/pandas/core/computation/expressions.py\u001b[0m in \u001b[0;36mevaluate\u001b[0;34m(op, a, b, use_numexpr)\u001b[0m\n\u001b[1;32m    240\u001b[0m             \u001b[0;31m# error: \"None\" not callable\u001b[0m\u001b[0;34m\u001b[0m\u001b[0;34m\u001b[0m\u001b[0m\n\u001b[0;32m--> 241\u001b[0;31m             \u001b[0;32mreturn\u001b[0m \u001b[0m_evaluate\u001b[0m\u001b[0;34m(\u001b[0m\u001b[0mop\u001b[0m\u001b[0;34m,\u001b[0m \u001b[0mop_str\u001b[0m\u001b[0;34m,\u001b[0m \u001b[0ma\u001b[0m\u001b[0;34m,\u001b[0m \u001b[0mb\u001b[0m\u001b[0;34m)\u001b[0m  \u001b[0;31m# type: ignore[misc]\u001b[0m\u001b[0;34m\u001b[0m\u001b[0;34m\u001b[0m\u001b[0m\n\u001b[0m\u001b[1;32m    242\u001b[0m     \u001b[0;32mreturn\u001b[0m \u001b[0m_evaluate_standard\u001b[0m\u001b[0;34m(\u001b[0m\u001b[0mop\u001b[0m\u001b[0;34m,\u001b[0m \u001b[0mop_str\u001b[0m\u001b[0;34m,\u001b[0m \u001b[0ma\u001b[0m\u001b[0;34m,\u001b[0m \u001b[0mb\u001b[0m\u001b[0;34m)\u001b[0m\u001b[0;34m\u001b[0m\u001b[0;34m\u001b[0m\u001b[0m\n",
            "\u001b[0;32m/usr/local/lib/python3.10/dist-packages/pandas/core/computation/expressions.py\u001b[0m in \u001b[0;36m_evaluate_numexpr\u001b[0;34m(op, op_str, a, b)\u001b[0m\n\u001b[1;32m    128\u001b[0m     \u001b[0;32mif\u001b[0m \u001b[0mresult\u001b[0m \u001b[0;32mis\u001b[0m \u001b[0;32mNone\u001b[0m\u001b[0;34m:\u001b[0m\u001b[0;34m\u001b[0m\u001b[0;34m\u001b[0m\u001b[0m\n\u001b[0;32m--> 129\u001b[0;31m         \u001b[0mresult\u001b[0m \u001b[0;34m=\u001b[0m \u001b[0m_evaluate_standard\u001b[0m\u001b[0;34m(\u001b[0m\u001b[0mop\u001b[0m\u001b[0;34m,\u001b[0m \u001b[0mop_str\u001b[0m\u001b[0;34m,\u001b[0m \u001b[0ma\u001b[0m\u001b[0;34m,\u001b[0m \u001b[0mb\u001b[0m\u001b[0;34m)\u001b[0m\u001b[0;34m\u001b[0m\u001b[0;34m\u001b[0m\u001b[0m\n\u001b[0m\u001b[1;32m    130\u001b[0m \u001b[0;34m\u001b[0m\u001b[0m\n",
            "\u001b[0;32m/usr/local/lib/python3.10/dist-packages/pandas/core/computation/expressions.py\u001b[0m in \u001b[0;36m_evaluate_standard\u001b[0;34m(op, op_str, a, b)\u001b[0m\n\u001b[1;32m     69\u001b[0m         \u001b[0m_store_test_result\u001b[0m\u001b[0;34m(\u001b[0m\u001b[0;32mFalse\u001b[0m\u001b[0;34m)\u001b[0m\u001b[0;34m\u001b[0m\u001b[0;34m\u001b[0m\u001b[0m\n\u001b[0;32m---> 70\u001b[0;31m     \u001b[0;32mreturn\u001b[0m \u001b[0mop\u001b[0m\u001b[0;34m(\u001b[0m\u001b[0ma\u001b[0m\u001b[0;34m,\u001b[0m \u001b[0mb\u001b[0m\u001b[0;34m)\u001b[0m\u001b[0;34m\u001b[0m\u001b[0;34m\u001b[0m\u001b[0m\n\u001b[0m\u001b[1;32m     71\u001b[0m \u001b[0;34m\u001b[0m\u001b[0m\n",
            "\u001b[0;31mTypeError\u001b[0m: can only concatenate str (not \"int\") to str",
            "\nDuring handling of the above exception, another exception occurred:\n",
            "\u001b[0;31mTypeError\u001b[0m                                 Traceback (most recent call last)",
            "\u001b[0;32m<ipython-input-90-755d037fae13>\u001b[0m in \u001b[0;36m<cell line: 1>\u001b[0;34m()\u001b[0m\n\u001b[0;32m----> 1\u001b[0;31m \u001b[0ms8\u001b[0m \u001b[0;34m+\u001b[0m \u001b[0;36m1\u001b[0m\u001b[0;34m\u001b[0m\u001b[0;34m\u001b[0m\u001b[0m\n\u001b[0m",
            "\u001b[0;32m/usr/local/lib/python3.10/dist-packages/pandas/core/ops/common.py\u001b[0m in \u001b[0;36mnew_method\u001b[0;34m(self, other)\u001b[0m\n\u001b[1;32m     70\u001b[0m         \u001b[0mother\u001b[0m \u001b[0;34m=\u001b[0m \u001b[0mitem_from_zerodim\u001b[0m\u001b[0;34m(\u001b[0m\u001b[0mother\u001b[0m\u001b[0;34m)\u001b[0m\u001b[0;34m\u001b[0m\u001b[0;34m\u001b[0m\u001b[0m\n\u001b[1;32m     71\u001b[0m \u001b[0;34m\u001b[0m\u001b[0m\n\u001b[0;32m---> 72\u001b[0;31m         \u001b[0;32mreturn\u001b[0m \u001b[0mmethod\u001b[0m\u001b[0;34m(\u001b[0m\u001b[0mself\u001b[0m\u001b[0;34m,\u001b[0m \u001b[0mother\u001b[0m\u001b[0;34m)\u001b[0m\u001b[0;34m\u001b[0m\u001b[0;34m\u001b[0m\u001b[0m\n\u001b[0m\u001b[1;32m     73\u001b[0m \u001b[0;34m\u001b[0m\u001b[0m\n\u001b[1;32m     74\u001b[0m     \u001b[0;32mreturn\u001b[0m \u001b[0mnew_method\u001b[0m\u001b[0;34m\u001b[0m\u001b[0;34m\u001b[0m\u001b[0m\n",
            "\u001b[0;32m/usr/local/lib/python3.10/dist-packages/pandas/core/arraylike.py\u001b[0m in \u001b[0;36m__add__\u001b[0;34m(self, other)\u001b[0m\n\u001b[1;32m    100\u001b[0m     \u001b[0;34m@\u001b[0m\u001b[0munpack_zerodim_and_defer\u001b[0m\u001b[0;34m(\u001b[0m\u001b[0;34m\"__add__\"\u001b[0m\u001b[0;34m)\u001b[0m\u001b[0;34m\u001b[0m\u001b[0;34m\u001b[0m\u001b[0m\n\u001b[1;32m    101\u001b[0m     \u001b[0;32mdef\u001b[0m \u001b[0m__add__\u001b[0m\u001b[0;34m(\u001b[0m\u001b[0mself\u001b[0m\u001b[0;34m,\u001b[0m \u001b[0mother\u001b[0m\u001b[0;34m)\u001b[0m\u001b[0;34m:\u001b[0m\u001b[0;34m\u001b[0m\u001b[0;34m\u001b[0m\u001b[0m\n\u001b[0;32m--> 102\u001b[0;31m         \u001b[0;32mreturn\u001b[0m \u001b[0mself\u001b[0m\u001b[0;34m.\u001b[0m\u001b[0m_arith_method\u001b[0m\u001b[0;34m(\u001b[0m\u001b[0mother\u001b[0m\u001b[0;34m,\u001b[0m \u001b[0moperator\u001b[0m\u001b[0;34m.\u001b[0m\u001b[0madd\u001b[0m\u001b[0;34m)\u001b[0m\u001b[0;34m\u001b[0m\u001b[0;34m\u001b[0m\u001b[0m\n\u001b[0m\u001b[1;32m    103\u001b[0m \u001b[0;34m\u001b[0m\u001b[0m\n\u001b[1;32m    104\u001b[0m     \u001b[0;34m@\u001b[0m\u001b[0munpack_zerodim_and_defer\u001b[0m\u001b[0;34m(\u001b[0m\u001b[0;34m\"__radd__\"\u001b[0m\u001b[0;34m)\u001b[0m\u001b[0;34m\u001b[0m\u001b[0;34m\u001b[0m\u001b[0m\n",
            "\u001b[0;32m/usr/local/lib/python3.10/dist-packages/pandas/core/series.py\u001b[0m in \u001b[0;36m_arith_method\u001b[0;34m(self, other, op)\u001b[0m\n\u001b[1;32m   6257\u001b[0m     \u001b[0;32mdef\u001b[0m \u001b[0m_arith_method\u001b[0m\u001b[0;34m(\u001b[0m\u001b[0mself\u001b[0m\u001b[0;34m,\u001b[0m \u001b[0mother\u001b[0m\u001b[0;34m,\u001b[0m \u001b[0mop\u001b[0m\u001b[0;34m)\u001b[0m\u001b[0;34m:\u001b[0m\u001b[0;34m\u001b[0m\u001b[0;34m\u001b[0m\u001b[0m\n\u001b[1;32m   6258\u001b[0m         \u001b[0mself\u001b[0m\u001b[0;34m,\u001b[0m \u001b[0mother\u001b[0m \u001b[0;34m=\u001b[0m \u001b[0mops\u001b[0m\u001b[0;34m.\u001b[0m\u001b[0malign_method_SERIES\u001b[0m\u001b[0;34m(\u001b[0m\u001b[0mself\u001b[0m\u001b[0;34m,\u001b[0m \u001b[0mother\u001b[0m\u001b[0;34m)\u001b[0m\u001b[0;34m\u001b[0m\u001b[0;34m\u001b[0m\u001b[0m\n\u001b[0;32m-> 6259\u001b[0;31m         \u001b[0;32mreturn\u001b[0m \u001b[0mbase\u001b[0m\u001b[0;34m.\u001b[0m\u001b[0mIndexOpsMixin\u001b[0m\u001b[0;34m.\u001b[0m\u001b[0m_arith_method\u001b[0m\u001b[0;34m(\u001b[0m\u001b[0mself\u001b[0m\u001b[0;34m,\u001b[0m \u001b[0mother\u001b[0m\u001b[0;34m,\u001b[0m \u001b[0mop\u001b[0m\u001b[0;34m)\u001b[0m\u001b[0;34m\u001b[0m\u001b[0;34m\u001b[0m\u001b[0m\n\u001b[0m\u001b[1;32m   6260\u001b[0m \u001b[0;34m\u001b[0m\u001b[0m\n\u001b[1;32m   6261\u001b[0m \u001b[0;34m\u001b[0m\u001b[0m\n",
            "\u001b[0;32m/usr/local/lib/python3.10/dist-packages/pandas/core/base.py\u001b[0m in \u001b[0;36m_arith_method\u001b[0;34m(self, other, op)\u001b[0m\n\u001b[1;32m   1323\u001b[0m \u001b[0;34m\u001b[0m\u001b[0m\n\u001b[1;32m   1324\u001b[0m         \u001b[0;32mwith\u001b[0m \u001b[0mnp\u001b[0m\u001b[0;34m.\u001b[0m\u001b[0merrstate\u001b[0m\u001b[0;34m(\u001b[0m\u001b[0mall\u001b[0m\u001b[0;34m=\u001b[0m\u001b[0;34m\"ignore\"\u001b[0m\u001b[0;34m)\u001b[0m\u001b[0;34m:\u001b[0m\u001b[0;34m\u001b[0m\u001b[0;34m\u001b[0m\u001b[0m\n\u001b[0;32m-> 1325\u001b[0;31m             \u001b[0mresult\u001b[0m \u001b[0;34m=\u001b[0m \u001b[0mops\u001b[0m\u001b[0;34m.\u001b[0m\u001b[0marithmetic_op\u001b[0m\u001b[0;34m(\u001b[0m\u001b[0mlvalues\u001b[0m\u001b[0;34m,\u001b[0m \u001b[0mrvalues\u001b[0m\u001b[0;34m,\u001b[0m \u001b[0mop\u001b[0m\u001b[0;34m)\u001b[0m\u001b[0;34m\u001b[0m\u001b[0;34m\u001b[0m\u001b[0m\n\u001b[0m\u001b[1;32m   1326\u001b[0m \u001b[0;34m\u001b[0m\u001b[0m\n\u001b[1;32m   1327\u001b[0m         \u001b[0;32mreturn\u001b[0m \u001b[0mself\u001b[0m\u001b[0;34m.\u001b[0m\u001b[0m_construct_result\u001b[0m\u001b[0;34m(\u001b[0m\u001b[0mresult\u001b[0m\u001b[0;34m,\u001b[0m \u001b[0mname\u001b[0m\u001b[0;34m=\u001b[0m\u001b[0mres_name\u001b[0m\u001b[0;34m)\u001b[0m\u001b[0;34m\u001b[0m\u001b[0;34m\u001b[0m\u001b[0m\n",
            "\u001b[0;32m/usr/local/lib/python3.10/dist-packages/pandas/core/ops/array_ops.py\u001b[0m in \u001b[0;36marithmetic_op\u001b[0;34m(left, right, op)\u001b[0m\n\u001b[1;32m    224\u001b[0m         \u001b[0;31m# error: Argument 1 to \"_na_arithmetic_op\" has incompatible type\u001b[0m\u001b[0;34m\u001b[0m\u001b[0;34m\u001b[0m\u001b[0m\n\u001b[1;32m    225\u001b[0m         \u001b[0;31m# \"Union[ExtensionArray, ndarray[Any, Any]]\"; expected \"ndarray[Any, Any]\"\u001b[0m\u001b[0;34m\u001b[0m\u001b[0;34m\u001b[0m\u001b[0m\n\u001b[0;32m--> 226\u001b[0;31m         \u001b[0mres_values\u001b[0m \u001b[0;34m=\u001b[0m \u001b[0m_na_arithmetic_op\u001b[0m\u001b[0;34m(\u001b[0m\u001b[0mleft\u001b[0m\u001b[0;34m,\u001b[0m \u001b[0mright\u001b[0m\u001b[0;34m,\u001b[0m \u001b[0mop\u001b[0m\u001b[0;34m)\u001b[0m  \u001b[0;31m# type: ignore[arg-type]\u001b[0m\u001b[0;34m\u001b[0m\u001b[0;34m\u001b[0m\u001b[0m\n\u001b[0m\u001b[1;32m    227\u001b[0m \u001b[0;34m\u001b[0m\u001b[0m\n\u001b[1;32m    228\u001b[0m     \u001b[0;32mreturn\u001b[0m \u001b[0mres_values\u001b[0m\u001b[0;34m\u001b[0m\u001b[0;34m\u001b[0m\u001b[0m\n",
            "\u001b[0;32m/usr/local/lib/python3.10/dist-packages/pandas/core/ops/array_ops.py\u001b[0m in \u001b[0;36m_na_arithmetic_op\u001b[0;34m(left, right, op, is_cmp)\u001b[0m\n\u001b[1;32m    170\u001b[0m             \u001b[0;31m# Don't do this for comparisons, as that will handle complex numbers\u001b[0m\u001b[0;34m\u001b[0m\u001b[0;34m\u001b[0m\u001b[0m\n\u001b[1;32m    171\u001b[0m             \u001b[0;31m#  incorrectly, see GH#32047\u001b[0m\u001b[0;34m\u001b[0m\u001b[0;34m\u001b[0m\u001b[0m\n\u001b[0;32m--> 172\u001b[0;31m             \u001b[0mresult\u001b[0m \u001b[0;34m=\u001b[0m \u001b[0m_masked_arith_op\u001b[0m\u001b[0;34m(\u001b[0m\u001b[0mleft\u001b[0m\u001b[0;34m,\u001b[0m \u001b[0mright\u001b[0m\u001b[0;34m,\u001b[0m \u001b[0mop\u001b[0m\u001b[0;34m)\u001b[0m\u001b[0;34m\u001b[0m\u001b[0;34m\u001b[0m\u001b[0m\n\u001b[0m\u001b[1;32m    173\u001b[0m         \u001b[0;32melse\u001b[0m\u001b[0;34m:\u001b[0m\u001b[0;34m\u001b[0m\u001b[0;34m\u001b[0m\u001b[0m\n\u001b[1;32m    174\u001b[0m             \u001b[0;32mraise\u001b[0m\u001b[0;34m\u001b[0m\u001b[0;34m\u001b[0m\u001b[0m\n",
            "\u001b[0;32m/usr/local/lib/python3.10/dist-packages/pandas/core/ops/array_ops.py\u001b[0m in \u001b[0;36m_masked_arith_op\u001b[0;34m(x, y, op)\u001b[0m\n\u001b[1;32m    127\u001b[0m \u001b[0;34m\u001b[0m\u001b[0m\n\u001b[1;32m    128\u001b[0m         \u001b[0;32mif\u001b[0m \u001b[0mmask\u001b[0m\u001b[0;34m.\u001b[0m\u001b[0many\u001b[0m\u001b[0;34m(\u001b[0m\u001b[0;34m)\u001b[0m\u001b[0;34m:\u001b[0m\u001b[0;34m\u001b[0m\u001b[0;34m\u001b[0m\u001b[0m\n\u001b[0;32m--> 129\u001b[0;31m             \u001b[0mresult\u001b[0m\u001b[0;34m[\u001b[0m\u001b[0mmask\u001b[0m\u001b[0;34m]\u001b[0m \u001b[0;34m=\u001b[0m \u001b[0mop\u001b[0m\u001b[0;34m(\u001b[0m\u001b[0mxrav\u001b[0m\u001b[0;34m[\u001b[0m\u001b[0mmask\u001b[0m\u001b[0;34m]\u001b[0m\u001b[0;34m,\u001b[0m \u001b[0my\u001b[0m\u001b[0;34m)\u001b[0m\u001b[0;34m\u001b[0m\u001b[0;34m\u001b[0m\u001b[0m\n\u001b[0m\u001b[1;32m    130\u001b[0m \u001b[0;34m\u001b[0m\u001b[0m\n\u001b[1;32m    131\u001b[0m     \u001b[0mnp\u001b[0m\u001b[0;34m.\u001b[0m\u001b[0mputmask\u001b[0m\u001b[0;34m(\u001b[0m\u001b[0mresult\u001b[0m\u001b[0;34m,\u001b[0m \u001b[0;34m~\u001b[0m\u001b[0mmask\u001b[0m\u001b[0;34m,\u001b[0m \u001b[0mnp\u001b[0m\u001b[0;34m.\u001b[0m\u001b[0mnan\u001b[0m\u001b[0;34m)\u001b[0m\u001b[0;34m\u001b[0m\u001b[0;34m\u001b[0m\u001b[0m\n",
            "\u001b[0;31mTypeError\u001b[0m: can only concatenate str (not \"int\") to str"
          ]
        }
      ],
      "source": [
        "s8 + 1 # arithmetic operators is not allowed with diffrent elements"
      ]
    },
    {
      "cell_type": "code",
      "execution_count": null,
      "id": "0eab9663",
      "metadata": {
        "id": "0eab9663"
      },
      "outputs": [],
      "source": []
    },
    {
      "cell_type": "code",
      "execution_count": null,
      "id": "ad1c1700",
      "metadata": {
        "id": "ad1c1700"
      },
      "outputs": [],
      "source": [
        "students_data = {'Alice': 91.5, 'Carol': 68.5, 'John': 87.5, 'Dan': 81.0, 'Mark':56.5}"
      ]
    },
    {
      "cell_type": "code",
      "execution_count": null,
      "id": "d3e817bd",
      "metadata": {
        "id": "d3e817bd",
        "outputId": "abedd6ea-f3be-42d8-b057-c1298c82e474",
        "colab": {
          "base_uri": "https://localhost:8080/"
        }
      },
      "outputs": [
        {
          "output_type": "execute_result",
          "data": {
            "text/plain": [
              "{'Alice': 91.5, 'Carol': 68.5, 'John': 87.5, 'Dan': 81.0, 'Mark': 56.5}"
            ]
          },
          "metadata": {},
          "execution_count": 92
        }
      ],
      "source": [
        "students_data"
      ]
    },
    {
      "cell_type": "code",
      "execution_count": null,
      "id": "a32ebb6d",
      "metadata": {
        "id": "a32ebb6d"
      },
      "outputs": [],
      "source": [
        "ser1 = pd.Series(students_data)"
      ]
    },
    {
      "cell_type": "code",
      "execution_count": null,
      "id": "fddf0317",
      "metadata": {
        "id": "fddf0317",
        "outputId": "fccf4140-d592-4650-9348-e3075b7eeb0b",
        "colab": {
          "base_uri": "https://localhost:8080/"
        }
      },
      "outputs": [
        {
          "output_type": "execute_result",
          "data": {
            "text/plain": [
              "Alice    91.5\n",
              "Carol    68.5\n",
              "John     87.5\n",
              "Dan      81.0\n",
              "Mark     56.5\n",
              "dtype: float64"
            ]
          },
          "metadata": {},
          "execution_count": 94
        }
      ],
      "source": [
        "ser1"
      ]
    },
    {
      "cell_type": "code",
      "execution_count": null,
      "id": "62a4994c",
      "metadata": {
        "id": "62a4994c",
        "outputId": "df6f3089-7c0a-4935-e2e9-d92db1e6b49f",
        "colab": {
          "base_uri": "https://localhost:8080/"
        }
      },
      "outputs": [
        {
          "output_type": "execute_result",
          "data": {
            "text/plain": [
              "{'Alice': 91.5, 'Carol': 68.5, 'John': 87.5, 'Dan': 81.0, 'Mark': 56.5}"
            ]
          },
          "metadata": {},
          "execution_count": 95
        }
      ],
      "source": [
        "students_data"
      ]
    },
    {
      "cell_type": "code",
      "execution_count": null,
      "id": "75498f0e",
      "metadata": {
        "id": "75498f0e"
      },
      "outputs": [],
      "source": [
        "ser2 = pd.Series(students_data, index=['Dan', 'Ross', 'Steve', 'Alice', 'John', 'Monica'])"
      ]
    },
    {
      "cell_type": "code",
      "execution_count": null,
      "id": "4f29f41e",
      "metadata": {
        "id": "4f29f41e",
        "outputId": "f2ae7616-91ed-4b45-e2b0-b816e2bedb6b",
        "colab": {
          "base_uri": "https://localhost:8080/"
        }
      },
      "outputs": [
        {
          "output_type": "execute_result",
          "data": {
            "text/plain": [
              "Dan       81.0\n",
              "Ross       NaN\n",
              "Steve      NaN\n",
              "Alice     91.5\n",
              "John      87.5\n",
              "Monica     NaN\n",
              "dtype: float64"
            ]
          },
          "metadata": {},
          "execution_count": 97
        }
      ],
      "source": [
        "ser2 # NaN => Not a number => numpy.float64 datatype"
      ]
    },
    {
      "cell_type": "code",
      "execution_count": null,
      "id": "4134f522",
      "metadata": {
        "id": "4134f522",
        "outputId": "473b0ce2-663e-45dc-bc71-650e3ba3b511",
        "colab": {
          "base_uri": "https://localhost:8080/"
        }
      },
      "outputs": [
        {
          "output_type": "execute_result",
          "data": {
            "text/plain": [
              "nan"
            ]
          },
          "metadata": {},
          "execution_count": 98
        }
      ],
      "source": [
        "ser2.loc['Ross']"
      ]
    },
    {
      "cell_type": "code",
      "execution_count": null,
      "id": "d9b42563",
      "metadata": {
        "id": "d9b42563",
        "outputId": "e77efb24-1952-4e7d-b8a4-0e741989bf59",
        "colab": {
          "base_uri": "https://localhost:8080/"
        }
      },
      "outputs": [
        {
          "output_type": "execute_result",
          "data": {
            "text/plain": [
              "numpy.float64"
            ]
          },
          "metadata": {},
          "execution_count": 99
        }
      ],
      "source": [
        "type(ser2.loc['Ross'])"
      ]
    },
    {
      "cell_type": "code",
      "execution_count": null,
      "id": "0c11163f",
      "metadata": {
        "id": "0c11163f"
      },
      "outputs": [],
      "source": [
        "d1 = {'one': 1, 'two': 2, 'five':5}"
      ]
    },
    {
      "cell_type": "code",
      "execution_count": null,
      "id": "834fa927",
      "metadata": {
        "id": "834fa927",
        "outputId": "3657efab-e2fb-4d17-8554-11beef5b1ec6",
        "colab": {
          "base_uri": "https://localhost:8080/"
        }
      },
      "outputs": [
        {
          "output_type": "execute_result",
          "data": {
            "text/plain": [
              "{'one': 1, 'two': 2, 'five': 5}"
            ]
          },
          "metadata": {},
          "execution_count": 102
        }
      ],
      "source": [
        "d1"
      ]
    },
    {
      "cell_type": "code",
      "execution_count": null,
      "id": "8dc31322",
      "metadata": {
        "id": "8dc31322"
      },
      "outputs": [],
      "source": [
        "ser3 = pd.Series(d1, index=['one', 'three'])"
      ]
    },
    {
      "cell_type": "code",
      "execution_count": null,
      "id": "cce0ea09",
      "metadata": {
        "id": "cce0ea09",
        "outputId": "0d7527d5-998e-41f2-88fd-451e7a135d9d",
        "colab": {
          "base_uri": "https://localhost:8080/"
        }
      },
      "outputs": [
        {
          "output_type": "execute_result",
          "data": {
            "text/plain": [
              "one      1.0\n",
              "three    NaN\n",
              "dtype: float64"
            ]
          },
          "metadata": {},
          "execution_count": 104
        }
      ],
      "source": [
        "ser3"
      ]
    },
    {
      "cell_type": "code",
      "execution_count": null,
      "id": "fe3d6a51",
      "metadata": {
        "id": "fe3d6a51"
      },
      "outputs": [],
      "source": [
        "ser4 = pd.Series([101, 'John', 90.5])"
      ]
    },
    {
      "cell_type": "code",
      "execution_count": null,
      "id": "e59ee72b",
      "metadata": {
        "id": "e59ee72b",
        "outputId": "51f60aeb-9b33-411a-e112-538e8398b8e6",
        "colab": {
          "base_uri": "https://localhost:8080/"
        }
      },
      "outputs": [
        {
          "output_type": "execute_result",
          "data": {
            "text/plain": [
              "0     101\n",
              "1    John\n",
              "2    90.5\n",
              "dtype: object"
            ]
          },
          "metadata": {},
          "execution_count": 106
        }
      ],
      "source": [
        "ser4"
      ]
    },
    {
      "cell_type": "code",
      "execution_count": null,
      "id": "7bb85291",
      "metadata": {
        "id": "7bb85291",
        "outputId": "ed8e5fca-e9f2-4121-a169-811d27e25e68",
        "colab": {
          "base_uri": "https://localhost:8080/"
        }
      },
      "outputs": [
        {
          "output_type": "execute_result",
          "data": {
            "text/plain": [
              "array([101, 'John', 90.5], dtype=object)"
            ]
          },
          "metadata": {},
          "execution_count": 107
        }
      ],
      "source": [
        "ser4.values"
      ]
    },
    {
      "cell_type": "code",
      "execution_count": null,
      "id": "96e117cc",
      "metadata": {
        "id": "96e117cc",
        "outputId": "e2d488ac-2272-4e84-f7b3-2c92d2e0c642",
        "colab": {
          "base_uri": "https://localhost:8080/"
        }
      },
      "outputs": [
        {
          "output_type": "execute_result",
          "data": {
            "text/plain": [
              "0    10.0\n",
              "1    20.0\n",
              "2    90.0\n",
              "3     7.5\n",
              "dtype: float64"
            ]
          },
          "metadata": {},
          "execution_count": 108
        }
      ],
      "source": [
        "pd.Series([10,20, 90, 7.5])"
      ]
    },
    {
      "cell_type": "code",
      "execution_count": null,
      "id": "e2f15a22",
      "metadata": {
        "id": "e2f15a22",
        "outputId": "e5ca902d-b281-4ca0-cc4d-361605596045",
        "colab": {
          "base_uri": "https://localhost:8080/"
        }
      },
      "outputs": [
        {
          "output_type": "execute_result",
          "data": {
            "text/plain": [
              "0    101\n",
              "1    102\n",
              "2     Hi\n",
              "dtype: object"
            ]
          },
          "metadata": {},
          "execution_count": 109
        }
      ],
      "source": [
        "pd.Series([101, 102, 'Hi'])"
      ]
    },
    {
      "cell_type": "code",
      "execution_count": null,
      "id": "4f3188da",
      "metadata": {
        "id": "4f3188da"
      },
      "outputs": [],
      "source": []
    },
    {
      "cell_type": "code",
      "execution_count": null,
      "id": "dccc5222",
      "metadata": {
        "id": "dccc5222",
        "outputId": "67448f2d-8c8b-49f2-ca18-401300ba2a7f",
        "colab": {
          "base_uri": "https://localhost:8080/"
        }
      },
      "outputs": [
        {
          "output_type": "execute_result",
          "data": {
            "text/plain": [
              "Dan       81.0\n",
              "Ross       NaN\n",
              "Steve      NaN\n",
              "Alice     91.5\n",
              "John      87.5\n",
              "Monica     NaN\n",
              "dtype: float64"
            ]
          },
          "metadata": {},
          "execution_count": 110
        }
      ],
      "source": [
        "ser2"
      ]
    },
    {
      "cell_type": "code",
      "execution_count": null,
      "id": "4e3da193",
      "metadata": {
        "id": "4e3da193"
      },
      "outputs": [],
      "source": []
    },
    {
      "cell_type": "code",
      "execution_count": null,
      "id": "e470dbdd",
      "metadata": {
        "id": "e470dbdd"
      },
      "outputs": [],
      "source": [
        "sub1 = {'Alice':91.5, 'John': 87.5, 'Dan': 77.0}"
      ]
    },
    {
      "cell_type": "code",
      "execution_count": null,
      "id": "670c8983",
      "metadata": {
        "id": "670c8983"
      },
      "outputs": [],
      "source": [
        "sub2 = {'Alice': 71.5, 'Mark': 81.0, 'John': 66.5, 'Jill': 89.0}"
      ]
    },
    {
      "cell_type": "code",
      "execution_count": null,
      "id": "c95f4a90",
      "metadata": {
        "id": "c95f4a90",
        "outputId": "ed0bbeb9-f44d-4045-b70c-4654020f373b",
        "colab": {
          "base_uri": "https://localhost:8080/"
        }
      },
      "outputs": [
        {
          "output_type": "execute_result",
          "data": {
            "text/plain": [
              "{'Alice': 91.5, 'John': 87.5, 'Dan': 77.0}"
            ]
          },
          "metadata": {},
          "execution_count": 113
        }
      ],
      "source": [
        "sub1"
      ]
    },
    {
      "cell_type": "code",
      "execution_count": null,
      "id": "eb4b201d",
      "metadata": {
        "id": "eb4b201d",
        "outputId": "fff73e20-e63d-41dd-9581-3fbfca4028f7",
        "colab": {
          "base_uri": "https://localhost:8080/"
        }
      },
      "outputs": [
        {
          "output_type": "execute_result",
          "data": {
            "text/plain": [
              "{'Alice': 71.5, 'Mark': 81.0, 'John': 66.5, 'Jill': 89.0}"
            ]
          },
          "metadata": {},
          "execution_count": 114
        }
      ],
      "source": [
        "sub2"
      ]
    },
    {
      "cell_type": "code",
      "execution_count": null,
      "id": "bece4565",
      "metadata": {
        "id": "bece4565"
      },
      "outputs": [],
      "source": [
        "s1 = pd.Series(sub1, index=['Alice', 'John', 'Jill', 'Carol', 'Mark'])"
      ]
    },
    {
      "cell_type": "code",
      "execution_count": null,
      "id": "7dbc1781",
      "metadata": {
        "id": "7dbc1781",
        "outputId": "0e4e384a-00ad-420c-fdbb-67b8c8ccab13",
        "colab": {
          "base_uri": "https://localhost:8080/"
        }
      },
      "outputs": [
        {
          "output_type": "execute_result",
          "data": {
            "text/plain": [
              "Alice    91.5\n",
              "John     87.5\n",
              "Jill      NaN\n",
              "Carol     NaN\n",
              "Mark      NaN\n",
              "dtype: float64"
            ]
          },
          "metadata": {},
          "execution_count": 116
        }
      ],
      "source": [
        "s1"
      ]
    },
    {
      "cell_type": "code",
      "execution_count": null,
      "id": "0d119a16",
      "metadata": {
        "id": "0d119a16"
      },
      "outputs": [],
      "source": [
        "s2 = pd.Series(sub2, index=['Alice', 'John', 'Jill', 'Carol', 'Mark', 'Monica'])"
      ]
    },
    {
      "cell_type": "code",
      "execution_count": null,
      "id": "98bd86df",
      "metadata": {
        "id": "98bd86df",
        "outputId": "5cca4863-c30f-4b67-b273-f4b5441f573a",
        "colab": {
          "base_uri": "https://localhost:8080/"
        }
      },
      "outputs": [
        {
          "output_type": "execute_result",
          "data": {
            "text/plain": [
              "Alice     71.5\n",
              "John      66.5\n",
              "Jill      89.0\n",
              "Carol      NaN\n",
              "Mark      81.0\n",
              "Monica     NaN\n",
              "dtype: float64"
            ]
          },
          "metadata": {},
          "execution_count": 118
        }
      ],
      "source": [
        "s2"
      ]
    },
    {
      "cell_type": "code",
      "execution_count": null,
      "id": "6fdafdd9",
      "metadata": {
        "id": "6fdafdd9",
        "outputId": "d04b3891-599d-4b5e-ef7a-a97835bb5841",
        "colab": {
          "base_uri": "https://localhost:8080/"
        }
      },
      "outputs": [
        {
          "output_type": "execute_result",
          "data": {
            "text/plain": [
              "Alice    91.5\n",
              "John     87.5\n",
              "Jill      NaN\n",
              "Carol     NaN\n",
              "Mark      NaN\n",
              "dtype: float64"
            ]
          },
          "metadata": {},
          "execution_count": 119
        }
      ],
      "source": [
        "s1"
      ]
    },
    {
      "cell_type": "code",
      "execution_count": null,
      "id": "c40f803a",
      "metadata": {
        "id": "c40f803a",
        "outputId": "2c8f1cb9-e5c9-4b97-e74f-a48353c5b18b",
        "colab": {
          "base_uri": "https://localhost:8080/"
        }
      },
      "outputs": [
        {
          "output_type": "execute_result",
          "data": {
            "text/plain": [
              "Alice     71.5\n",
              "John      66.5\n",
              "Jill      89.0\n",
              "Carol      NaN\n",
              "Mark      81.0\n",
              "Monica     NaN\n",
              "dtype: float64"
            ]
          },
          "metadata": {},
          "execution_count": 120
        }
      ],
      "source": [
        "s2"
      ]
    },
    {
      "cell_type": "code",
      "execution_count": null,
      "id": "0bb8e592",
      "metadata": {
        "id": "0bb8e592",
        "outputId": "99abfc28-2a68-4d97-ec40-0f4d7a6a85ff",
        "colab": {
          "base_uri": "https://localhost:8080/"
        }
      },
      "outputs": [
        {
          "output_type": "execute_result",
          "data": {
            "text/plain": [
              "Alice     163.0\n",
              "Carol       NaN\n",
              "Jill        NaN\n",
              "John      154.0\n",
              "Mark        NaN\n",
              "Monica      NaN\n",
              "dtype: float64"
            ]
          },
          "metadata": {},
          "execution_count": 121
        }
      ],
      "source": [
        "s1 + s2"
      ]
    },
    {
      "cell_type": "markdown",
      "source": [
        "#### Dataframe - 2D structure - tabular data"
      ],
      "metadata": {
        "id": "wOS68YrgbdKE"
      },
      "id": "wOS68YrgbdKE"
    },
    {
      "cell_type": "code",
      "execution_count": null,
      "id": "062b340e",
      "metadata": {
        "id": "062b340e"
      },
      "outputs": [],
      "source": [
        "data = {'names' : ['John', 'Alice', 'Mark', 'Carol'],\n",
        "       'ids': [101, 102, 103, 104],\n",
        "       'percents': [81.5, 90.5, 77.5, 61.0]}"
      ]
    },
    {
      "cell_type": "code",
      "execution_count": null,
      "id": "dc3a06e2",
      "metadata": {
        "id": "dc3a06e2",
        "outputId": "54e102bf-936b-4ed8-ed56-a9bb4105e669",
        "colab": {
          "base_uri": "https://localhost:8080/"
        }
      },
      "outputs": [
        {
          "output_type": "execute_result",
          "data": {
            "text/plain": [
              "{'names': ['John', 'Alice', 'Mark', 'Carol'],\n",
              " 'ids': [101, 102, 103, 104],\n",
              " 'percents': [81.5, 90.5, 77.5, 61.0]}"
            ]
          },
          "metadata": {},
          "execution_count": 90
        }
      ],
      "source": [
        "data"
      ]
    },
    {
      "cell_type": "code",
      "execution_count": null,
      "id": "59d17051",
      "metadata": {
        "id": "59d17051"
      },
      "outputs": [],
      "source": [
        "df1 = pd.DataFrame(data)"
      ]
    },
    {
      "cell_type": "code",
      "execution_count": null,
      "id": "3cd01c36",
      "metadata": {
        "id": "3cd01c36",
        "outputId": "c8aa0ac3-f46b-42fb-8843-581ed9456f1a",
        "colab": {
          "base_uri": "https://localhost:8080/"
        }
      },
      "outputs": [
        {
          "output_type": "stream",
          "name": "stdout",
          "text": [
            "   names  ids  percents\n",
            "0   John  101      81.5\n",
            "1  Alice  102      90.5\n",
            "2   Mark  103      77.5\n",
            "3  Carol  104      61.0\n"
          ]
        }
      ],
      "source": [
        "print(df1)"
      ]
    },
    {
      "cell_type": "code",
      "execution_count": null,
      "id": "e18ce818",
      "metadata": {
        "id": "e18ce818",
        "outputId": "ffaefd5b-f1cc-46cc-87f0-e23a0a2e516f",
        "colab": {
          "base_uri": "https://localhost:8080/",
          "height": 175
        }
      },
      "outputs": [
        {
          "output_type": "execute_result",
          "data": {
            "text/plain": [
              "   names  ids  percents\n",
              "0   John  101      81.5\n",
              "1  Alice  102      90.5\n",
              "2   Mark  103      77.5\n",
              "3  Carol  104      61.0"
            ],
            "text/html": [
              "\n",
              "  <div id=\"df-ef107826-d8c1-4da1-81ee-c521206eeedc\">\n",
              "    <div class=\"colab-df-container\">\n",
              "      <div>\n",
              "<style scoped>\n",
              "    .dataframe tbody tr th:only-of-type {\n",
              "        vertical-align: middle;\n",
              "    }\n",
              "\n",
              "    .dataframe tbody tr th {\n",
              "        vertical-align: top;\n",
              "    }\n",
              "\n",
              "    .dataframe thead th {\n",
              "        text-align: right;\n",
              "    }\n",
              "</style>\n",
              "<table border=\"1\" class=\"dataframe\">\n",
              "  <thead>\n",
              "    <tr style=\"text-align: right;\">\n",
              "      <th></th>\n",
              "      <th>names</th>\n",
              "      <th>ids</th>\n",
              "      <th>percents</th>\n",
              "    </tr>\n",
              "  </thead>\n",
              "  <tbody>\n",
              "    <tr>\n",
              "      <th>0</th>\n",
              "      <td>John</td>\n",
              "      <td>101</td>\n",
              "      <td>81.5</td>\n",
              "    </tr>\n",
              "    <tr>\n",
              "      <th>1</th>\n",
              "      <td>Alice</td>\n",
              "      <td>102</td>\n",
              "      <td>90.5</td>\n",
              "    </tr>\n",
              "    <tr>\n",
              "      <th>2</th>\n",
              "      <td>Mark</td>\n",
              "      <td>103</td>\n",
              "      <td>77.5</td>\n",
              "    </tr>\n",
              "    <tr>\n",
              "      <th>3</th>\n",
              "      <td>Carol</td>\n",
              "      <td>104</td>\n",
              "      <td>61.0</td>\n",
              "    </tr>\n",
              "  </tbody>\n",
              "</table>\n",
              "</div>\n",
              "      <button class=\"colab-df-convert\" onclick=\"convertToInteractive('df-ef107826-d8c1-4da1-81ee-c521206eeedc')\"\n",
              "              title=\"Convert this dataframe to an interactive table.\"\n",
              "              style=\"display:none;\">\n",
              "        \n",
              "  <svg xmlns=\"http://www.w3.org/2000/svg\" height=\"24px\"viewBox=\"0 0 24 24\"\n",
              "       width=\"24px\">\n",
              "    <path d=\"M0 0h24v24H0V0z\" fill=\"none\"/>\n",
              "    <path d=\"M18.56 5.44l.94 2.06.94-2.06 2.06-.94-2.06-.94-.94-2.06-.94 2.06-2.06.94zm-11 1L8.5 8.5l.94-2.06 2.06-.94-2.06-.94L8.5 2.5l-.94 2.06-2.06.94zm10 10l.94 2.06.94-2.06 2.06-.94-2.06-.94-.94-2.06-.94 2.06-2.06.94z\"/><path d=\"M17.41 7.96l-1.37-1.37c-.4-.4-.92-.59-1.43-.59-.52 0-1.04.2-1.43.59L10.3 9.45l-7.72 7.72c-.78.78-.78 2.05 0 2.83L4 21.41c.39.39.9.59 1.41.59.51 0 1.02-.2 1.41-.59l7.78-7.78 2.81-2.81c.8-.78.8-2.07 0-2.86zM5.41 20L4 18.59l7.72-7.72 1.47 1.35L5.41 20z\"/>\n",
              "  </svg>\n",
              "      </button>\n",
              "      \n",
              "  <style>\n",
              "    .colab-df-container {\n",
              "      display:flex;\n",
              "      flex-wrap:wrap;\n",
              "      gap: 12px;\n",
              "    }\n",
              "\n",
              "    .colab-df-convert {\n",
              "      background-color: #E8F0FE;\n",
              "      border: none;\n",
              "      border-radius: 50%;\n",
              "      cursor: pointer;\n",
              "      display: none;\n",
              "      fill: #1967D2;\n",
              "      height: 32px;\n",
              "      padding: 0 0 0 0;\n",
              "      width: 32px;\n",
              "    }\n",
              "\n",
              "    .colab-df-convert:hover {\n",
              "      background-color: #E2EBFA;\n",
              "      box-shadow: 0px 1px 2px rgba(60, 64, 67, 0.3), 0px 1px 3px 1px rgba(60, 64, 67, 0.15);\n",
              "      fill: #174EA6;\n",
              "    }\n",
              "\n",
              "    [theme=dark] .colab-df-convert {\n",
              "      background-color: #3B4455;\n",
              "      fill: #D2E3FC;\n",
              "    }\n",
              "\n",
              "    [theme=dark] .colab-df-convert:hover {\n",
              "      background-color: #434B5C;\n",
              "      box-shadow: 0px 1px 3px 1px rgba(0, 0, 0, 0.15);\n",
              "      filter: drop-shadow(0px 1px 2px rgba(0, 0, 0, 0.3));\n",
              "      fill: #FFFFFF;\n",
              "    }\n",
              "  </style>\n",
              "\n",
              "      <script>\n",
              "        const buttonEl =\n",
              "          document.querySelector('#df-ef107826-d8c1-4da1-81ee-c521206eeedc button.colab-df-convert');\n",
              "        buttonEl.style.display =\n",
              "          google.colab.kernel.accessAllowed ? 'block' : 'none';\n",
              "\n",
              "        async function convertToInteractive(key) {\n",
              "          const element = document.querySelector('#df-ef107826-d8c1-4da1-81ee-c521206eeedc');\n",
              "          const dataTable =\n",
              "            await google.colab.kernel.invokeFunction('convertToInteractive',\n",
              "                                                     [key], {});\n",
              "          if (!dataTable) return;\n",
              "\n",
              "          const docLinkHtml = 'Like what you see? Visit the ' +\n",
              "            '<a target=\"_blank\" href=https://colab.research.google.com/notebooks/data_table.ipynb>data table notebook</a>'\n",
              "            + ' to learn more about interactive tables.';\n",
              "          element.innerHTML = '';\n",
              "          dataTable['output_type'] = 'display_data';\n",
              "          await google.colab.output.renderOutput(dataTable, element);\n",
              "          const docLink = document.createElement('div');\n",
              "          docLink.innerHTML = docLinkHtml;\n",
              "          element.appendChild(docLink);\n",
              "        }\n",
              "      </script>\n",
              "    </div>\n",
              "  </div>\n",
              "  "
            ]
          },
          "metadata": {},
          "execution_count": 93
        }
      ],
      "source": [
        "df1"
      ]
    },
    {
      "cell_type": "code",
      "execution_count": null,
      "id": "ef5ab8da",
      "metadata": {
        "id": "ef5ab8da",
        "outputId": "67e2e205-df17-49e5-f760-8a3b85a8b199",
        "colab": {
          "base_uri": "https://localhost:8080/"
        }
      },
      "outputs": [
        {
          "output_type": "execute_result",
          "data": {
            "text/plain": [
              "pandas.core.frame.DataFrame"
            ]
          },
          "metadata": {},
          "execution_count": 94
        }
      ],
      "source": [
        "type(df1)"
      ]
    },
    {
      "cell_type": "code",
      "execution_count": null,
      "id": "57395ad9",
      "metadata": {
        "id": "57395ad9",
        "outputId": "3873357a-86d5-44a6-f907-5d0144822476",
        "colab": {
          "base_uri": "https://localhost:8080/"
        }
      },
      "outputs": [
        {
          "output_type": "execute_result",
          "data": {
            "text/plain": [
              "RangeIndex(start=0, stop=4, step=1)"
            ]
          },
          "metadata": {},
          "execution_count": 95
        }
      ],
      "source": [
        "df1.index"
      ]
    },
    {
      "cell_type": "code",
      "execution_count": null,
      "id": "898208fb",
      "metadata": {
        "id": "898208fb",
        "outputId": "0f2d986c-bd5a-403e-beb1-4e1ad5979f0c",
        "colab": {
          "base_uri": "https://localhost:8080/"
        }
      },
      "outputs": [
        {
          "output_type": "execute_result",
          "data": {
            "text/plain": [
              "array([['John', 101, 81.5],\n",
              "       ['Alice', 102, 90.5],\n",
              "       ['Mark', 103, 77.5],\n",
              "       ['Carol', 104, 61.0]], dtype=object)"
            ]
          },
          "metadata": {},
          "execution_count": 96
        }
      ],
      "source": [
        "df1.values"
      ]
    },
    {
      "cell_type": "code",
      "execution_count": null,
      "id": "5e220059",
      "metadata": {
        "id": "5e220059",
        "outputId": "5ff92047-73a4-41f6-fa03-7d4a88986c0e",
        "colab": {
          "base_uri": "https://localhost:8080/"
        }
      },
      "outputs": [
        {
          "output_type": "execute_result",
          "data": {
            "text/plain": [
              "Index(['names', 'ids', 'percents'], dtype='object')"
            ]
          },
          "metadata": {},
          "execution_count": 16
        }
      ],
      "source": [
        "df1.columns"
      ]
    },
    {
      "cell_type": "code",
      "execution_count": null,
      "id": "e602a98b",
      "metadata": {
        "id": "e602a98b"
      },
      "outputs": [],
      "source": [
        "df2 = pd.DataFrame(data, index=['a', 'b', 'c', 'd'], columns=['ids', 'names', 'percents'])"
      ]
    },
    {
      "cell_type": "code",
      "execution_count": null,
      "id": "b5e13127",
      "metadata": {
        "id": "b5e13127",
        "outputId": "1978ebbb-bf90-4940-ed6a-eb28e05aa325",
        "colab": {
          "base_uri": "https://localhost:8080/",
          "height": 175
        }
      },
      "outputs": [
        {
          "output_type": "execute_result",
          "data": {
            "text/plain": [
              "   ids  names  percents\n",
              "a  101   John      81.5\n",
              "b  102  Alice      90.5\n",
              "c  103   Mark      77.5\n",
              "d  104  Carol      61.0"
            ],
            "text/html": [
              "\n",
              "  <div id=\"df-83f27f08-9d84-4fb0-9ef4-32ba687d4115\">\n",
              "    <div class=\"colab-df-container\">\n",
              "      <div>\n",
              "<style scoped>\n",
              "    .dataframe tbody tr th:only-of-type {\n",
              "        vertical-align: middle;\n",
              "    }\n",
              "\n",
              "    .dataframe tbody tr th {\n",
              "        vertical-align: top;\n",
              "    }\n",
              "\n",
              "    .dataframe thead th {\n",
              "        text-align: right;\n",
              "    }\n",
              "</style>\n",
              "<table border=\"1\" class=\"dataframe\">\n",
              "  <thead>\n",
              "    <tr style=\"text-align: right;\">\n",
              "      <th></th>\n",
              "      <th>ids</th>\n",
              "      <th>names</th>\n",
              "      <th>percents</th>\n",
              "    </tr>\n",
              "  </thead>\n",
              "  <tbody>\n",
              "    <tr>\n",
              "      <th>a</th>\n",
              "      <td>101</td>\n",
              "      <td>John</td>\n",
              "      <td>81.5</td>\n",
              "    </tr>\n",
              "    <tr>\n",
              "      <th>b</th>\n",
              "      <td>102</td>\n",
              "      <td>Alice</td>\n",
              "      <td>90.5</td>\n",
              "    </tr>\n",
              "    <tr>\n",
              "      <th>c</th>\n",
              "      <td>103</td>\n",
              "      <td>Mark</td>\n",
              "      <td>77.5</td>\n",
              "    </tr>\n",
              "    <tr>\n",
              "      <th>d</th>\n",
              "      <td>104</td>\n",
              "      <td>Carol</td>\n",
              "      <td>61.0</td>\n",
              "    </tr>\n",
              "  </tbody>\n",
              "</table>\n",
              "</div>\n",
              "      <button class=\"colab-df-convert\" onclick=\"convertToInteractive('df-83f27f08-9d84-4fb0-9ef4-32ba687d4115')\"\n",
              "              title=\"Convert this dataframe to an interactive table.\"\n",
              "              style=\"display:none;\">\n",
              "        \n",
              "  <svg xmlns=\"http://www.w3.org/2000/svg\" height=\"24px\"viewBox=\"0 0 24 24\"\n",
              "       width=\"24px\">\n",
              "    <path d=\"M0 0h24v24H0V0z\" fill=\"none\"/>\n",
              "    <path d=\"M18.56 5.44l.94 2.06.94-2.06 2.06-.94-2.06-.94-.94-2.06-.94 2.06-2.06.94zm-11 1L8.5 8.5l.94-2.06 2.06-.94-2.06-.94L8.5 2.5l-.94 2.06-2.06.94zm10 10l.94 2.06.94-2.06 2.06-.94-2.06-.94-.94-2.06-.94 2.06-2.06.94z\"/><path d=\"M17.41 7.96l-1.37-1.37c-.4-.4-.92-.59-1.43-.59-.52 0-1.04.2-1.43.59L10.3 9.45l-7.72 7.72c-.78.78-.78 2.05 0 2.83L4 21.41c.39.39.9.59 1.41.59.51 0 1.02-.2 1.41-.59l7.78-7.78 2.81-2.81c.8-.78.8-2.07 0-2.86zM5.41 20L4 18.59l7.72-7.72 1.47 1.35L5.41 20z\"/>\n",
              "  </svg>\n",
              "      </button>\n",
              "      \n",
              "  <style>\n",
              "    .colab-df-container {\n",
              "      display:flex;\n",
              "      flex-wrap:wrap;\n",
              "      gap: 12px;\n",
              "    }\n",
              "\n",
              "    .colab-df-convert {\n",
              "      background-color: #E8F0FE;\n",
              "      border: none;\n",
              "      border-radius: 50%;\n",
              "      cursor: pointer;\n",
              "      display: none;\n",
              "      fill: #1967D2;\n",
              "      height: 32px;\n",
              "      padding: 0 0 0 0;\n",
              "      width: 32px;\n",
              "    }\n",
              "\n",
              "    .colab-df-convert:hover {\n",
              "      background-color: #E2EBFA;\n",
              "      box-shadow: 0px 1px 2px rgba(60, 64, 67, 0.3), 0px 1px 3px 1px rgba(60, 64, 67, 0.15);\n",
              "      fill: #174EA6;\n",
              "    }\n",
              "\n",
              "    [theme=dark] .colab-df-convert {\n",
              "      background-color: #3B4455;\n",
              "      fill: #D2E3FC;\n",
              "    }\n",
              "\n",
              "    [theme=dark] .colab-df-convert:hover {\n",
              "      background-color: #434B5C;\n",
              "      box-shadow: 0px 1px 3px 1px rgba(0, 0, 0, 0.15);\n",
              "      filter: drop-shadow(0px 1px 2px rgba(0, 0, 0, 0.3));\n",
              "      fill: #FFFFFF;\n",
              "    }\n",
              "  </style>\n",
              "\n",
              "      <script>\n",
              "        const buttonEl =\n",
              "          document.querySelector('#df-83f27f08-9d84-4fb0-9ef4-32ba687d4115 button.colab-df-convert');\n",
              "        buttonEl.style.display =\n",
              "          google.colab.kernel.accessAllowed ? 'block' : 'none';\n",
              "\n",
              "        async function convertToInteractive(key) {\n",
              "          const element = document.querySelector('#df-83f27f08-9d84-4fb0-9ef4-32ba687d4115');\n",
              "          const dataTable =\n",
              "            await google.colab.kernel.invokeFunction('convertToInteractive',\n",
              "                                                     [key], {});\n",
              "          if (!dataTable) return;\n",
              "\n",
              "          const docLinkHtml = 'Like what you see? Visit the ' +\n",
              "            '<a target=\"_blank\" href=https://colab.research.google.com/notebooks/data_table.ipynb>data table notebook</a>'\n",
              "            + ' to learn more about interactive tables.';\n",
              "          element.innerHTML = '';\n",
              "          dataTable['output_type'] = 'display_data';\n",
              "          await google.colab.output.renderOutput(dataTable, element);\n",
              "          const docLink = document.createElement('div');\n",
              "          docLink.innerHTML = docLinkHtml;\n",
              "          element.appendChild(docLink);\n",
              "        }\n",
              "      </script>\n",
              "    </div>\n",
              "  </div>\n",
              "  "
            ]
          },
          "metadata": {},
          "execution_count": 97
        }
      ],
      "source": [
        "df2"
      ]
    },
    {
      "cell_type": "code",
      "execution_count": null,
      "id": "7ead9d81",
      "metadata": {
        "id": "7ead9d81",
        "outputId": "c89b890c-cb67-4a47-e830-defc86533adf",
        "colab": {
          "base_uri": "https://localhost:8080/"
        }
      },
      "outputs": [
        {
          "output_type": "execute_result",
          "data": {
            "text/plain": [
              "Index(['a', 'b', 'c', 'd'], dtype='object')"
            ]
          },
          "metadata": {},
          "execution_count": 98
        }
      ],
      "source": [
        "df2.index"
      ]
    },
    {
      "cell_type": "code",
      "execution_count": null,
      "id": "76a96fc1",
      "metadata": {
        "id": "76a96fc1",
        "outputId": "0a5d7c57-06a4-467f-bc15-16de82af0a61",
        "colab": {
          "base_uri": "https://localhost:8080/"
        }
      },
      "outputs": [
        {
          "output_type": "execute_result",
          "data": {
            "text/plain": [
              "array([[101, 'John', 81.5],\n",
              "       [102, 'Alice', 90.5],\n",
              "       [103, 'Mark', 77.5],\n",
              "       [104, 'Carol', 61.0]], dtype=object)"
            ]
          },
          "metadata": {},
          "execution_count": 99
        }
      ],
      "source": [
        "df2.values"
      ]
    },
    {
      "cell_type": "code",
      "execution_count": null,
      "id": "b5298d0e",
      "metadata": {
        "id": "b5298d0e",
        "outputId": "7e8b34a4-aebc-42bc-dab0-84e8af4e7717",
        "colab": {
          "base_uri": "https://localhost:8080/"
        }
      },
      "outputs": [
        {
          "output_type": "execute_result",
          "data": {
            "text/plain": [
              "Index(['ids', 'names', 'percents'], dtype='object')"
            ]
          },
          "metadata": {},
          "execution_count": 100
        }
      ],
      "source": [
        "df2.columns"
      ]
    },
    {
      "cell_type": "code",
      "execution_count": null,
      "id": "17520d37",
      "metadata": {
        "id": "17520d37",
        "outputId": "62648222-b23f-4ecc-895e-ead4d27f565a",
        "colab": {
          "base_uri": "https://localhost:8080/",
          "height": 175
        }
      },
      "outputs": [
        {
          "output_type": "execute_result",
          "data": {
            "text/plain": [
              "   ids  names  percents\n",
              "a  101   John      81.5\n",
              "b  102  Alice      90.5\n",
              "c  103   Mark      77.5\n",
              "d  104  Carol      61.0"
            ],
            "text/html": [
              "\n",
              "  <div id=\"df-256cc58d-bb37-4f48-90b9-f5e8737deefb\">\n",
              "    <div class=\"colab-df-container\">\n",
              "      <div>\n",
              "<style scoped>\n",
              "    .dataframe tbody tr th:only-of-type {\n",
              "        vertical-align: middle;\n",
              "    }\n",
              "\n",
              "    .dataframe tbody tr th {\n",
              "        vertical-align: top;\n",
              "    }\n",
              "\n",
              "    .dataframe thead th {\n",
              "        text-align: right;\n",
              "    }\n",
              "</style>\n",
              "<table border=\"1\" class=\"dataframe\">\n",
              "  <thead>\n",
              "    <tr style=\"text-align: right;\">\n",
              "      <th></th>\n",
              "      <th>ids</th>\n",
              "      <th>names</th>\n",
              "      <th>percents</th>\n",
              "    </tr>\n",
              "  </thead>\n",
              "  <tbody>\n",
              "    <tr>\n",
              "      <th>a</th>\n",
              "      <td>101</td>\n",
              "      <td>John</td>\n",
              "      <td>81.5</td>\n",
              "    </tr>\n",
              "    <tr>\n",
              "      <th>b</th>\n",
              "      <td>102</td>\n",
              "      <td>Alice</td>\n",
              "      <td>90.5</td>\n",
              "    </tr>\n",
              "    <tr>\n",
              "      <th>c</th>\n",
              "      <td>103</td>\n",
              "      <td>Mark</td>\n",
              "      <td>77.5</td>\n",
              "    </tr>\n",
              "    <tr>\n",
              "      <th>d</th>\n",
              "      <td>104</td>\n",
              "      <td>Carol</td>\n",
              "      <td>61.0</td>\n",
              "    </tr>\n",
              "  </tbody>\n",
              "</table>\n",
              "</div>\n",
              "      <button class=\"colab-df-convert\" onclick=\"convertToInteractive('df-256cc58d-bb37-4f48-90b9-f5e8737deefb')\"\n",
              "              title=\"Convert this dataframe to an interactive table.\"\n",
              "              style=\"display:none;\">\n",
              "        \n",
              "  <svg xmlns=\"http://www.w3.org/2000/svg\" height=\"24px\"viewBox=\"0 0 24 24\"\n",
              "       width=\"24px\">\n",
              "    <path d=\"M0 0h24v24H0V0z\" fill=\"none\"/>\n",
              "    <path d=\"M18.56 5.44l.94 2.06.94-2.06 2.06-.94-2.06-.94-.94-2.06-.94 2.06-2.06.94zm-11 1L8.5 8.5l.94-2.06 2.06-.94-2.06-.94L8.5 2.5l-.94 2.06-2.06.94zm10 10l.94 2.06.94-2.06 2.06-.94-2.06-.94-.94-2.06-.94 2.06-2.06.94z\"/><path d=\"M17.41 7.96l-1.37-1.37c-.4-.4-.92-.59-1.43-.59-.52 0-1.04.2-1.43.59L10.3 9.45l-7.72 7.72c-.78.78-.78 2.05 0 2.83L4 21.41c.39.39.9.59 1.41.59.51 0 1.02-.2 1.41-.59l7.78-7.78 2.81-2.81c.8-.78.8-2.07 0-2.86zM5.41 20L4 18.59l7.72-7.72 1.47 1.35L5.41 20z\"/>\n",
              "  </svg>\n",
              "      </button>\n",
              "      \n",
              "  <style>\n",
              "    .colab-df-container {\n",
              "      display:flex;\n",
              "      flex-wrap:wrap;\n",
              "      gap: 12px;\n",
              "    }\n",
              "\n",
              "    .colab-df-convert {\n",
              "      background-color: #E8F0FE;\n",
              "      border: none;\n",
              "      border-radius: 50%;\n",
              "      cursor: pointer;\n",
              "      display: none;\n",
              "      fill: #1967D2;\n",
              "      height: 32px;\n",
              "      padding: 0 0 0 0;\n",
              "      width: 32px;\n",
              "    }\n",
              "\n",
              "    .colab-df-convert:hover {\n",
              "      background-color: #E2EBFA;\n",
              "      box-shadow: 0px 1px 2px rgba(60, 64, 67, 0.3), 0px 1px 3px 1px rgba(60, 64, 67, 0.15);\n",
              "      fill: #174EA6;\n",
              "    }\n",
              "\n",
              "    [theme=dark] .colab-df-convert {\n",
              "      background-color: #3B4455;\n",
              "      fill: #D2E3FC;\n",
              "    }\n",
              "\n",
              "    [theme=dark] .colab-df-convert:hover {\n",
              "      background-color: #434B5C;\n",
              "      box-shadow: 0px 1px 3px 1px rgba(0, 0, 0, 0.15);\n",
              "      filter: drop-shadow(0px 1px 2px rgba(0, 0, 0, 0.3));\n",
              "      fill: #FFFFFF;\n",
              "    }\n",
              "  </style>\n",
              "\n",
              "      <script>\n",
              "        const buttonEl =\n",
              "          document.querySelector('#df-256cc58d-bb37-4f48-90b9-f5e8737deefb button.colab-df-convert');\n",
              "        buttonEl.style.display =\n",
              "          google.colab.kernel.accessAllowed ? 'block' : 'none';\n",
              "\n",
              "        async function convertToInteractive(key) {\n",
              "          const element = document.querySelector('#df-256cc58d-bb37-4f48-90b9-f5e8737deefb');\n",
              "          const dataTable =\n",
              "            await google.colab.kernel.invokeFunction('convertToInteractive',\n",
              "                                                     [key], {});\n",
              "          if (!dataTable) return;\n",
              "\n",
              "          const docLinkHtml = 'Like what you see? Visit the ' +\n",
              "            '<a target=\"_blank\" href=https://colab.research.google.com/notebooks/data_table.ipynb>data table notebook</a>'\n",
              "            + ' to learn more about interactive tables.';\n",
              "          element.innerHTML = '';\n",
              "          dataTable['output_type'] = 'display_data';\n",
              "          await google.colab.output.renderOutput(dataTable, element);\n",
              "          const docLink = document.createElement('div');\n",
              "          docLink.innerHTML = docLinkHtml;\n",
              "          element.appendChild(docLink);\n",
              "        }\n",
              "      </script>\n",
              "    </div>\n",
              "  </div>\n",
              "  "
            ]
          },
          "metadata": {},
          "execution_count": 101
        }
      ],
      "source": [
        "df2"
      ]
    },
    {
      "cell_type": "code",
      "execution_count": null,
      "id": "71db82f7",
      "metadata": {
        "id": "71db82f7",
        "outputId": "b0853089-f574-437f-b8c9-194c5e93eb3b",
        "colab": {
          "base_uri": "https://localhost:8080/"
        }
      },
      "outputs": [
        {
          "output_type": "execute_result",
          "data": {
            "text/plain": [
              "ids           102\n",
              "names       Alice\n",
              "percents     90.5\n",
              "Name: b, dtype: object"
            ]
          },
          "metadata": {},
          "execution_count": 102
        }
      ],
      "source": [
        "df2.loc['b']"
      ]
    },
    {
      "cell_type": "code",
      "execution_count": null,
      "id": "989d4778",
      "metadata": {
        "id": "989d4778",
        "outputId": "9a6fc6bb-4011-4797-bd04-04c10e02855f",
        "colab": {
          "base_uri": "https://localhost:8080/"
        }
      },
      "outputs": [
        {
          "output_type": "execute_result",
          "data": {
            "text/plain": [
              "ids           102\n",
              "names       Alice\n",
              "percents     90.5\n",
              "Name: b, dtype: object"
            ]
          },
          "metadata": {},
          "execution_count": 103
        }
      ],
      "source": [
        "df2.iloc[1]"
      ]
    },
    {
      "cell_type": "code",
      "execution_count": null,
      "id": "5a1672da",
      "metadata": {
        "id": "5a1672da",
        "outputId": "91b76a73-4242-43fa-db55-c05d87d85621",
        "colab": {
          "base_uri": "https://localhost:8080/",
          "height": 175
        }
      },
      "outputs": [
        {
          "output_type": "execute_result",
          "data": {
            "text/plain": [
              "   ids  names  percents\n",
              "a  101   John      81.5\n",
              "b  102  Alice      90.5\n",
              "c  103   Mark      77.5\n",
              "d  104  Carol      61.0"
            ],
            "text/html": [
              "\n",
              "  <div id=\"df-2eb40d39-2dc5-42ea-9a1b-f0b278aa4494\">\n",
              "    <div class=\"colab-df-container\">\n",
              "      <div>\n",
              "<style scoped>\n",
              "    .dataframe tbody tr th:only-of-type {\n",
              "        vertical-align: middle;\n",
              "    }\n",
              "\n",
              "    .dataframe tbody tr th {\n",
              "        vertical-align: top;\n",
              "    }\n",
              "\n",
              "    .dataframe thead th {\n",
              "        text-align: right;\n",
              "    }\n",
              "</style>\n",
              "<table border=\"1\" class=\"dataframe\">\n",
              "  <thead>\n",
              "    <tr style=\"text-align: right;\">\n",
              "      <th></th>\n",
              "      <th>ids</th>\n",
              "      <th>names</th>\n",
              "      <th>percents</th>\n",
              "    </tr>\n",
              "  </thead>\n",
              "  <tbody>\n",
              "    <tr>\n",
              "      <th>a</th>\n",
              "      <td>101</td>\n",
              "      <td>John</td>\n",
              "      <td>81.5</td>\n",
              "    </tr>\n",
              "    <tr>\n",
              "      <th>b</th>\n",
              "      <td>102</td>\n",
              "      <td>Alice</td>\n",
              "      <td>90.5</td>\n",
              "    </tr>\n",
              "    <tr>\n",
              "      <th>c</th>\n",
              "      <td>103</td>\n",
              "      <td>Mark</td>\n",
              "      <td>77.5</td>\n",
              "    </tr>\n",
              "    <tr>\n",
              "      <th>d</th>\n",
              "      <td>104</td>\n",
              "      <td>Carol</td>\n",
              "      <td>61.0</td>\n",
              "    </tr>\n",
              "  </tbody>\n",
              "</table>\n",
              "</div>\n",
              "      <button class=\"colab-df-convert\" onclick=\"convertToInteractive('df-2eb40d39-2dc5-42ea-9a1b-f0b278aa4494')\"\n",
              "              title=\"Convert this dataframe to an interactive table.\"\n",
              "              style=\"display:none;\">\n",
              "        \n",
              "  <svg xmlns=\"http://www.w3.org/2000/svg\" height=\"24px\"viewBox=\"0 0 24 24\"\n",
              "       width=\"24px\">\n",
              "    <path d=\"M0 0h24v24H0V0z\" fill=\"none\"/>\n",
              "    <path d=\"M18.56 5.44l.94 2.06.94-2.06 2.06-.94-2.06-.94-.94-2.06-.94 2.06-2.06.94zm-11 1L8.5 8.5l.94-2.06 2.06-.94-2.06-.94L8.5 2.5l-.94 2.06-2.06.94zm10 10l.94 2.06.94-2.06 2.06-.94-2.06-.94-.94-2.06-.94 2.06-2.06.94z\"/><path d=\"M17.41 7.96l-1.37-1.37c-.4-.4-.92-.59-1.43-.59-.52 0-1.04.2-1.43.59L10.3 9.45l-7.72 7.72c-.78.78-.78 2.05 0 2.83L4 21.41c.39.39.9.59 1.41.59.51 0 1.02-.2 1.41-.59l7.78-7.78 2.81-2.81c.8-.78.8-2.07 0-2.86zM5.41 20L4 18.59l7.72-7.72 1.47 1.35L5.41 20z\"/>\n",
              "  </svg>\n",
              "      </button>\n",
              "      \n",
              "  <style>\n",
              "    .colab-df-container {\n",
              "      display:flex;\n",
              "      flex-wrap:wrap;\n",
              "      gap: 12px;\n",
              "    }\n",
              "\n",
              "    .colab-df-convert {\n",
              "      background-color: #E8F0FE;\n",
              "      border: none;\n",
              "      border-radius: 50%;\n",
              "      cursor: pointer;\n",
              "      display: none;\n",
              "      fill: #1967D2;\n",
              "      height: 32px;\n",
              "      padding: 0 0 0 0;\n",
              "      width: 32px;\n",
              "    }\n",
              "\n",
              "    .colab-df-convert:hover {\n",
              "      background-color: #E2EBFA;\n",
              "      box-shadow: 0px 1px 2px rgba(60, 64, 67, 0.3), 0px 1px 3px 1px rgba(60, 64, 67, 0.15);\n",
              "      fill: #174EA6;\n",
              "    }\n",
              "\n",
              "    [theme=dark] .colab-df-convert {\n",
              "      background-color: #3B4455;\n",
              "      fill: #D2E3FC;\n",
              "    }\n",
              "\n",
              "    [theme=dark] .colab-df-convert:hover {\n",
              "      background-color: #434B5C;\n",
              "      box-shadow: 0px 1px 3px 1px rgba(0, 0, 0, 0.15);\n",
              "      filter: drop-shadow(0px 1px 2px rgba(0, 0, 0, 0.3));\n",
              "      fill: #FFFFFF;\n",
              "    }\n",
              "  </style>\n",
              "\n",
              "      <script>\n",
              "        const buttonEl =\n",
              "          document.querySelector('#df-2eb40d39-2dc5-42ea-9a1b-f0b278aa4494 button.colab-df-convert');\n",
              "        buttonEl.style.display =\n",
              "          google.colab.kernel.accessAllowed ? 'block' : 'none';\n",
              "\n",
              "        async function convertToInteractive(key) {\n",
              "          const element = document.querySelector('#df-2eb40d39-2dc5-42ea-9a1b-f0b278aa4494');\n",
              "          const dataTable =\n",
              "            await google.colab.kernel.invokeFunction('convertToInteractive',\n",
              "                                                     [key], {});\n",
              "          if (!dataTable) return;\n",
              "\n",
              "          const docLinkHtml = 'Like what you see? Visit the ' +\n",
              "            '<a target=\"_blank\" href=https://colab.research.google.com/notebooks/data_table.ipynb>data table notebook</a>'\n",
              "            + ' to learn more about interactive tables.';\n",
              "          element.innerHTML = '';\n",
              "          dataTable['output_type'] = 'display_data';\n",
              "          await google.colab.output.renderOutput(dataTable, element);\n",
              "          const docLink = document.createElement('div');\n",
              "          docLink.innerHTML = docLinkHtml;\n",
              "          element.appendChild(docLink);\n",
              "        }\n",
              "      </script>\n",
              "    </div>\n",
              "  </div>\n",
              "  "
            ]
          },
          "metadata": {},
          "execution_count": 104
        }
      ],
      "source": [
        "df2"
      ]
    },
    {
      "cell_type": "code",
      "execution_count": null,
      "id": "3702b71c",
      "metadata": {
        "id": "3702b71c",
        "outputId": "694bf661-024d-405e-95ee-0fd186ec4a17",
        "colab": {
          "base_uri": "https://localhost:8080/"
        }
      },
      "outputs": [
        {
          "output_type": "execute_result",
          "data": {
            "text/plain": [
              "a     John\n",
              "b    Alice\n",
              "c     Mark\n",
              "d    Carol\n",
              "Name: names, dtype: object"
            ]
          },
          "metadata": {},
          "execution_count": 105
        }
      ],
      "source": [
        "df2['names']"
      ]
    },
    {
      "cell_type": "code",
      "execution_count": null,
      "id": "14ba75bd",
      "metadata": {
        "id": "14ba75bd",
        "outputId": "ed25bb69-b202-4792-89d1-0bbf16571173",
        "colab": {
          "base_uri": "https://localhost:8080/"
        }
      },
      "outputs": [
        {
          "output_type": "execute_result",
          "data": {
            "text/plain": [
              "ids          103\n",
              "names       Mark\n",
              "percents    77.5\n",
              "Name: c, dtype: object"
            ]
          },
          "metadata": {},
          "execution_count": 106
        }
      ],
      "source": [
        "df2.loc['c']"
      ]
    },
    {
      "cell_type": "code",
      "execution_count": null,
      "id": "9eef2cb4",
      "metadata": {
        "id": "9eef2cb4",
        "outputId": "71ef3b94-8da5-42a5-ce7e-42109ce1832b",
        "colab": {
          "base_uri": "https://localhost:8080/"
        }
      },
      "outputs": [
        {
          "output_type": "execute_result",
          "data": {
            "text/plain": [
              "77.5"
            ]
          },
          "metadata": {},
          "execution_count": 107
        }
      ],
      "source": [
        "df2.loc['c'].loc['percents']"
      ]
    },
    {
      "cell_type": "code",
      "execution_count": null,
      "id": "57482c37",
      "metadata": {
        "id": "57482c37",
        "outputId": "91f7c667-4d94-480f-b497-db7ebe348018",
        "colab": {
          "base_uri": "https://localhost:8080/"
        }
      },
      "outputs": [
        {
          "output_type": "execute_result",
          "data": {
            "text/plain": [
              "77.5"
            ]
          },
          "metadata": {},
          "execution_count": 108
        }
      ],
      "source": [
        "df2.loc['c']['percents']"
      ]
    },
    {
      "cell_type": "code",
      "execution_count": null,
      "id": "478dce75",
      "metadata": {
        "id": "478dce75",
        "outputId": "70712f90-44e3-48f8-aa78-d956381da648",
        "colab": {
          "base_uri": "https://localhost:8080/"
        }
      },
      "outputs": [
        {
          "output_type": "execute_result",
          "data": {
            "text/plain": [
              "77.5"
            ]
          },
          "metadata": {},
          "execution_count": 109
        }
      ],
      "source": [
        "df2['percents'].loc['c']"
      ]
    },
    {
      "cell_type": "code",
      "execution_count": null,
      "id": "f139087e",
      "metadata": {
        "id": "f139087e",
        "outputId": "ae95496e-b993-41fa-bb5e-40adb480401f",
        "colab": {
          "base_uri": "https://localhost:8080/",
          "height": 175
        }
      },
      "outputs": [
        {
          "output_type": "execute_result",
          "data": {
            "text/plain": [
              "   ids  names  percents\n",
              "a  101   John      81.5\n",
              "b  102  Alice      90.5\n",
              "c  103   Mark      77.5\n",
              "d  104  Carol      61.0"
            ],
            "text/html": [
              "\n",
              "  <div id=\"df-ff829861-793f-4a3b-a74f-5591de0258ee\">\n",
              "    <div class=\"colab-df-container\">\n",
              "      <div>\n",
              "<style scoped>\n",
              "    .dataframe tbody tr th:only-of-type {\n",
              "        vertical-align: middle;\n",
              "    }\n",
              "\n",
              "    .dataframe tbody tr th {\n",
              "        vertical-align: top;\n",
              "    }\n",
              "\n",
              "    .dataframe thead th {\n",
              "        text-align: right;\n",
              "    }\n",
              "</style>\n",
              "<table border=\"1\" class=\"dataframe\">\n",
              "  <thead>\n",
              "    <tr style=\"text-align: right;\">\n",
              "      <th></th>\n",
              "      <th>ids</th>\n",
              "      <th>names</th>\n",
              "      <th>percents</th>\n",
              "    </tr>\n",
              "  </thead>\n",
              "  <tbody>\n",
              "    <tr>\n",
              "      <th>a</th>\n",
              "      <td>101</td>\n",
              "      <td>John</td>\n",
              "      <td>81.5</td>\n",
              "    </tr>\n",
              "    <tr>\n",
              "      <th>b</th>\n",
              "      <td>102</td>\n",
              "      <td>Alice</td>\n",
              "      <td>90.5</td>\n",
              "    </tr>\n",
              "    <tr>\n",
              "      <th>c</th>\n",
              "      <td>103</td>\n",
              "      <td>Mark</td>\n",
              "      <td>77.5</td>\n",
              "    </tr>\n",
              "    <tr>\n",
              "      <th>d</th>\n",
              "      <td>104</td>\n",
              "      <td>Carol</td>\n",
              "      <td>61.0</td>\n",
              "    </tr>\n",
              "  </tbody>\n",
              "</table>\n",
              "</div>\n",
              "      <button class=\"colab-df-convert\" onclick=\"convertToInteractive('df-ff829861-793f-4a3b-a74f-5591de0258ee')\"\n",
              "              title=\"Convert this dataframe to an interactive table.\"\n",
              "              style=\"display:none;\">\n",
              "        \n",
              "  <svg xmlns=\"http://www.w3.org/2000/svg\" height=\"24px\"viewBox=\"0 0 24 24\"\n",
              "       width=\"24px\">\n",
              "    <path d=\"M0 0h24v24H0V0z\" fill=\"none\"/>\n",
              "    <path d=\"M18.56 5.44l.94 2.06.94-2.06 2.06-.94-2.06-.94-.94-2.06-.94 2.06-2.06.94zm-11 1L8.5 8.5l.94-2.06 2.06-.94-2.06-.94L8.5 2.5l-.94 2.06-2.06.94zm10 10l.94 2.06.94-2.06 2.06-.94-2.06-.94-.94-2.06-.94 2.06-2.06.94z\"/><path d=\"M17.41 7.96l-1.37-1.37c-.4-.4-.92-.59-1.43-.59-.52 0-1.04.2-1.43.59L10.3 9.45l-7.72 7.72c-.78.78-.78 2.05 0 2.83L4 21.41c.39.39.9.59 1.41.59.51 0 1.02-.2 1.41-.59l7.78-7.78 2.81-2.81c.8-.78.8-2.07 0-2.86zM5.41 20L4 18.59l7.72-7.72 1.47 1.35L5.41 20z\"/>\n",
              "  </svg>\n",
              "      </button>\n",
              "      \n",
              "  <style>\n",
              "    .colab-df-container {\n",
              "      display:flex;\n",
              "      flex-wrap:wrap;\n",
              "      gap: 12px;\n",
              "    }\n",
              "\n",
              "    .colab-df-convert {\n",
              "      background-color: #E8F0FE;\n",
              "      border: none;\n",
              "      border-radius: 50%;\n",
              "      cursor: pointer;\n",
              "      display: none;\n",
              "      fill: #1967D2;\n",
              "      height: 32px;\n",
              "      padding: 0 0 0 0;\n",
              "      width: 32px;\n",
              "    }\n",
              "\n",
              "    .colab-df-convert:hover {\n",
              "      background-color: #E2EBFA;\n",
              "      box-shadow: 0px 1px 2px rgba(60, 64, 67, 0.3), 0px 1px 3px 1px rgba(60, 64, 67, 0.15);\n",
              "      fill: #174EA6;\n",
              "    }\n",
              "\n",
              "    [theme=dark] .colab-df-convert {\n",
              "      background-color: #3B4455;\n",
              "      fill: #D2E3FC;\n",
              "    }\n",
              "\n",
              "    [theme=dark] .colab-df-convert:hover {\n",
              "      background-color: #434B5C;\n",
              "      box-shadow: 0px 1px 3px 1px rgba(0, 0, 0, 0.15);\n",
              "      filter: drop-shadow(0px 1px 2px rgba(0, 0, 0, 0.3));\n",
              "      fill: #FFFFFF;\n",
              "    }\n",
              "  </style>\n",
              "\n",
              "      <script>\n",
              "        const buttonEl =\n",
              "          document.querySelector('#df-ff829861-793f-4a3b-a74f-5591de0258ee button.colab-df-convert');\n",
              "        buttonEl.style.display =\n",
              "          google.colab.kernel.accessAllowed ? 'block' : 'none';\n",
              "\n",
              "        async function convertToInteractive(key) {\n",
              "          const element = document.querySelector('#df-ff829861-793f-4a3b-a74f-5591de0258ee');\n",
              "          const dataTable =\n",
              "            await google.colab.kernel.invokeFunction('convertToInteractive',\n",
              "                                                     [key], {});\n",
              "          if (!dataTable) return;\n",
              "\n",
              "          const docLinkHtml = 'Like what you see? Visit the ' +\n",
              "            '<a target=\"_blank\" href=https://colab.research.google.com/notebooks/data_table.ipynb>data table notebook</a>'\n",
              "            + ' to learn more about interactive tables.';\n",
              "          element.innerHTML = '';\n",
              "          dataTable['output_type'] = 'display_data';\n",
              "          await google.colab.output.renderOutput(dataTable, element);\n",
              "          const docLink = document.createElement('div');\n",
              "          docLink.innerHTML = docLinkHtml;\n",
              "          element.appendChild(docLink);\n",
              "        }\n",
              "      </script>\n",
              "    </div>\n",
              "  </div>\n",
              "  "
            ]
          },
          "metadata": {},
          "execution_count": 110
        }
      ],
      "source": [
        "df2"
      ]
    },
    {
      "cell_type": "code",
      "execution_count": null,
      "id": "d40fd503",
      "metadata": {
        "id": "d40fd503",
        "outputId": "4da7045e-6fce-4e99-ecdb-57a4aef79661",
        "colab": {
          "base_uri": "https://localhost:8080/"
        }
      },
      "outputs": [
        {
          "output_type": "execute_result",
          "data": {
            "text/plain": [
              "77.5"
            ]
          },
          "metadata": {},
          "execution_count": 111
        }
      ],
      "source": [
        "df2.iloc[2].iloc[2]"
      ]
    },
    {
      "cell_type": "code",
      "execution_count": null,
      "id": "ea9fdbdc",
      "metadata": {
        "id": "ea9fdbdc",
        "outputId": "c3d1f56d-e5a5-43be-9dec-ba09a2a62170",
        "colab": {
          "base_uri": "https://localhost:8080/",
          "height": 175
        }
      },
      "outputs": [
        {
          "output_type": "execute_result",
          "data": {
            "text/plain": [
              "   ids  names  percents\n",
              "a  101   John      81.5\n",
              "b  102  Alice      90.5\n",
              "c  103   Mark      77.5\n",
              "d  104  Carol      61.0"
            ],
            "text/html": [
              "\n",
              "  <div id=\"df-086e4a2a-66d8-4958-81a1-ed2a65f950cb\">\n",
              "    <div class=\"colab-df-container\">\n",
              "      <div>\n",
              "<style scoped>\n",
              "    .dataframe tbody tr th:only-of-type {\n",
              "        vertical-align: middle;\n",
              "    }\n",
              "\n",
              "    .dataframe tbody tr th {\n",
              "        vertical-align: top;\n",
              "    }\n",
              "\n",
              "    .dataframe thead th {\n",
              "        text-align: right;\n",
              "    }\n",
              "</style>\n",
              "<table border=\"1\" class=\"dataframe\">\n",
              "  <thead>\n",
              "    <tr style=\"text-align: right;\">\n",
              "      <th></th>\n",
              "      <th>ids</th>\n",
              "      <th>names</th>\n",
              "      <th>percents</th>\n",
              "    </tr>\n",
              "  </thead>\n",
              "  <tbody>\n",
              "    <tr>\n",
              "      <th>a</th>\n",
              "      <td>101</td>\n",
              "      <td>John</td>\n",
              "      <td>81.5</td>\n",
              "    </tr>\n",
              "    <tr>\n",
              "      <th>b</th>\n",
              "      <td>102</td>\n",
              "      <td>Alice</td>\n",
              "      <td>90.5</td>\n",
              "    </tr>\n",
              "    <tr>\n",
              "      <th>c</th>\n",
              "      <td>103</td>\n",
              "      <td>Mark</td>\n",
              "      <td>77.5</td>\n",
              "    </tr>\n",
              "    <tr>\n",
              "      <th>d</th>\n",
              "      <td>104</td>\n",
              "      <td>Carol</td>\n",
              "      <td>61.0</td>\n",
              "    </tr>\n",
              "  </tbody>\n",
              "</table>\n",
              "</div>\n",
              "      <button class=\"colab-df-convert\" onclick=\"convertToInteractive('df-086e4a2a-66d8-4958-81a1-ed2a65f950cb')\"\n",
              "              title=\"Convert this dataframe to an interactive table.\"\n",
              "              style=\"display:none;\">\n",
              "        \n",
              "  <svg xmlns=\"http://www.w3.org/2000/svg\" height=\"24px\"viewBox=\"0 0 24 24\"\n",
              "       width=\"24px\">\n",
              "    <path d=\"M0 0h24v24H0V0z\" fill=\"none\"/>\n",
              "    <path d=\"M18.56 5.44l.94 2.06.94-2.06 2.06-.94-2.06-.94-.94-2.06-.94 2.06-2.06.94zm-11 1L8.5 8.5l.94-2.06 2.06-.94-2.06-.94L8.5 2.5l-.94 2.06-2.06.94zm10 10l.94 2.06.94-2.06 2.06-.94-2.06-.94-.94-2.06-.94 2.06-2.06.94z\"/><path d=\"M17.41 7.96l-1.37-1.37c-.4-.4-.92-.59-1.43-.59-.52 0-1.04.2-1.43.59L10.3 9.45l-7.72 7.72c-.78.78-.78 2.05 0 2.83L4 21.41c.39.39.9.59 1.41.59.51 0 1.02-.2 1.41-.59l7.78-7.78 2.81-2.81c.8-.78.8-2.07 0-2.86zM5.41 20L4 18.59l7.72-7.72 1.47 1.35L5.41 20z\"/>\n",
              "  </svg>\n",
              "      </button>\n",
              "      \n",
              "  <style>\n",
              "    .colab-df-container {\n",
              "      display:flex;\n",
              "      flex-wrap:wrap;\n",
              "      gap: 12px;\n",
              "    }\n",
              "\n",
              "    .colab-df-convert {\n",
              "      background-color: #E8F0FE;\n",
              "      border: none;\n",
              "      border-radius: 50%;\n",
              "      cursor: pointer;\n",
              "      display: none;\n",
              "      fill: #1967D2;\n",
              "      height: 32px;\n",
              "      padding: 0 0 0 0;\n",
              "      width: 32px;\n",
              "    }\n",
              "\n",
              "    .colab-df-convert:hover {\n",
              "      background-color: #E2EBFA;\n",
              "      box-shadow: 0px 1px 2px rgba(60, 64, 67, 0.3), 0px 1px 3px 1px rgba(60, 64, 67, 0.15);\n",
              "      fill: #174EA6;\n",
              "    }\n",
              "\n",
              "    [theme=dark] .colab-df-convert {\n",
              "      background-color: #3B4455;\n",
              "      fill: #D2E3FC;\n",
              "    }\n",
              "\n",
              "    [theme=dark] .colab-df-convert:hover {\n",
              "      background-color: #434B5C;\n",
              "      box-shadow: 0px 1px 3px 1px rgba(0, 0, 0, 0.15);\n",
              "      filter: drop-shadow(0px 1px 2px rgba(0, 0, 0, 0.3));\n",
              "      fill: #FFFFFF;\n",
              "    }\n",
              "  </style>\n",
              "\n",
              "      <script>\n",
              "        const buttonEl =\n",
              "          document.querySelector('#df-086e4a2a-66d8-4958-81a1-ed2a65f950cb button.colab-df-convert');\n",
              "        buttonEl.style.display =\n",
              "          google.colab.kernel.accessAllowed ? 'block' : 'none';\n",
              "\n",
              "        async function convertToInteractive(key) {\n",
              "          const element = document.querySelector('#df-086e4a2a-66d8-4958-81a1-ed2a65f950cb');\n",
              "          const dataTable =\n",
              "            await google.colab.kernel.invokeFunction('convertToInteractive',\n",
              "                                                     [key], {});\n",
              "          if (!dataTable) return;\n",
              "\n",
              "          const docLinkHtml = 'Like what you see? Visit the ' +\n",
              "            '<a target=\"_blank\" href=https://colab.research.google.com/notebooks/data_table.ipynb>data table notebook</a>'\n",
              "            + ' to learn more about interactive tables.';\n",
              "          element.innerHTML = '';\n",
              "          dataTable['output_type'] = 'display_data';\n",
              "          await google.colab.output.renderOutput(dataTable, element);\n",
              "          const docLink = document.createElement('div');\n",
              "          docLink.innerHTML = docLinkHtml;\n",
              "          element.appendChild(docLink);\n",
              "        }\n",
              "      </script>\n",
              "    </div>\n",
              "  </div>\n",
              "  "
            ]
          },
          "metadata": {},
          "execution_count": 112
        }
      ],
      "source": [
        "df2"
      ]
    },
    {
      "cell_type": "code",
      "execution_count": null,
      "id": "b36d8016",
      "metadata": {
        "id": "b36d8016",
        "outputId": "d14b7f35-7958-486f-8ecf-4cd2e8421968",
        "colab": {
          "base_uri": "https://localhost:8080/"
        }
      },
      "outputs": [
        {
          "output_type": "execute_result",
          "data": {
            "text/plain": [
              "{'names': ['John', 'Alice', 'Mark', 'Carol'],\n",
              " 'ids': [101, 102, 103, 104],\n",
              " 'percents': [81.5, 90.5, 77.5, 61.0]}"
            ]
          },
          "metadata": {},
          "execution_count": 113
        }
      ],
      "source": [
        "data"
      ]
    },
    {
      "cell_type": "code",
      "execution_count": null,
      "id": "6d231254",
      "metadata": {
        "id": "6d231254"
      },
      "outputs": [],
      "source": [
        "df3 = pd.DataFrame(data, columns=['ids', 'percents', 'grade'])"
      ]
    },
    {
      "cell_type": "code",
      "execution_count": null,
      "id": "fc81d807",
      "metadata": {
        "id": "fc81d807",
        "outputId": "2edab2a1-47a7-4caa-a2f6-5b7a40c9566f",
        "colab": {
          "base_uri": "https://localhost:8080/",
          "height": 175
        }
      },
      "outputs": [
        {
          "output_type": "execute_result",
          "data": {
            "text/plain": [
              "   ids  percents grade\n",
              "0  101      81.5   NaN\n",
              "1  102      90.5   NaN\n",
              "2  103      77.5   NaN\n",
              "3  104      61.0   NaN"
            ],
            "text/html": [
              "\n",
              "  <div id=\"df-edb36708-1d2f-41f3-a43d-8541a82df2f2\">\n",
              "    <div class=\"colab-df-container\">\n",
              "      <div>\n",
              "<style scoped>\n",
              "    .dataframe tbody tr th:only-of-type {\n",
              "        vertical-align: middle;\n",
              "    }\n",
              "\n",
              "    .dataframe tbody tr th {\n",
              "        vertical-align: top;\n",
              "    }\n",
              "\n",
              "    .dataframe thead th {\n",
              "        text-align: right;\n",
              "    }\n",
              "</style>\n",
              "<table border=\"1\" class=\"dataframe\">\n",
              "  <thead>\n",
              "    <tr style=\"text-align: right;\">\n",
              "      <th></th>\n",
              "      <th>ids</th>\n",
              "      <th>percents</th>\n",
              "      <th>grade</th>\n",
              "    </tr>\n",
              "  </thead>\n",
              "  <tbody>\n",
              "    <tr>\n",
              "      <th>0</th>\n",
              "      <td>101</td>\n",
              "      <td>81.5</td>\n",
              "      <td>NaN</td>\n",
              "    </tr>\n",
              "    <tr>\n",
              "      <th>1</th>\n",
              "      <td>102</td>\n",
              "      <td>90.5</td>\n",
              "      <td>NaN</td>\n",
              "    </tr>\n",
              "    <tr>\n",
              "      <th>2</th>\n",
              "      <td>103</td>\n",
              "      <td>77.5</td>\n",
              "      <td>NaN</td>\n",
              "    </tr>\n",
              "    <tr>\n",
              "      <th>3</th>\n",
              "      <td>104</td>\n",
              "      <td>61.0</td>\n",
              "      <td>NaN</td>\n",
              "    </tr>\n",
              "  </tbody>\n",
              "</table>\n",
              "</div>\n",
              "      <button class=\"colab-df-convert\" onclick=\"convertToInteractive('df-edb36708-1d2f-41f3-a43d-8541a82df2f2')\"\n",
              "              title=\"Convert this dataframe to an interactive table.\"\n",
              "              style=\"display:none;\">\n",
              "        \n",
              "  <svg xmlns=\"http://www.w3.org/2000/svg\" height=\"24px\"viewBox=\"0 0 24 24\"\n",
              "       width=\"24px\">\n",
              "    <path d=\"M0 0h24v24H0V0z\" fill=\"none\"/>\n",
              "    <path d=\"M18.56 5.44l.94 2.06.94-2.06 2.06-.94-2.06-.94-.94-2.06-.94 2.06-2.06.94zm-11 1L8.5 8.5l.94-2.06 2.06-.94-2.06-.94L8.5 2.5l-.94 2.06-2.06.94zm10 10l.94 2.06.94-2.06 2.06-.94-2.06-.94-.94-2.06-.94 2.06-2.06.94z\"/><path d=\"M17.41 7.96l-1.37-1.37c-.4-.4-.92-.59-1.43-.59-.52 0-1.04.2-1.43.59L10.3 9.45l-7.72 7.72c-.78.78-.78 2.05 0 2.83L4 21.41c.39.39.9.59 1.41.59.51 0 1.02-.2 1.41-.59l7.78-7.78 2.81-2.81c.8-.78.8-2.07 0-2.86zM5.41 20L4 18.59l7.72-7.72 1.47 1.35L5.41 20z\"/>\n",
              "  </svg>\n",
              "      </button>\n",
              "      \n",
              "  <style>\n",
              "    .colab-df-container {\n",
              "      display:flex;\n",
              "      flex-wrap:wrap;\n",
              "      gap: 12px;\n",
              "    }\n",
              "\n",
              "    .colab-df-convert {\n",
              "      background-color: #E8F0FE;\n",
              "      border: none;\n",
              "      border-radius: 50%;\n",
              "      cursor: pointer;\n",
              "      display: none;\n",
              "      fill: #1967D2;\n",
              "      height: 32px;\n",
              "      padding: 0 0 0 0;\n",
              "      width: 32px;\n",
              "    }\n",
              "\n",
              "    .colab-df-convert:hover {\n",
              "      background-color: #E2EBFA;\n",
              "      box-shadow: 0px 1px 2px rgba(60, 64, 67, 0.3), 0px 1px 3px 1px rgba(60, 64, 67, 0.15);\n",
              "      fill: #174EA6;\n",
              "    }\n",
              "\n",
              "    [theme=dark] .colab-df-convert {\n",
              "      background-color: #3B4455;\n",
              "      fill: #D2E3FC;\n",
              "    }\n",
              "\n",
              "    [theme=dark] .colab-df-convert:hover {\n",
              "      background-color: #434B5C;\n",
              "      box-shadow: 0px 1px 3px 1px rgba(0, 0, 0, 0.15);\n",
              "      filter: drop-shadow(0px 1px 2px rgba(0, 0, 0, 0.3));\n",
              "      fill: #FFFFFF;\n",
              "    }\n",
              "  </style>\n",
              "\n",
              "      <script>\n",
              "        const buttonEl =\n",
              "          document.querySelector('#df-edb36708-1d2f-41f3-a43d-8541a82df2f2 button.colab-df-convert');\n",
              "        buttonEl.style.display =\n",
              "          google.colab.kernel.accessAllowed ? 'block' : 'none';\n",
              "\n",
              "        async function convertToInteractive(key) {\n",
              "          const element = document.querySelector('#df-edb36708-1d2f-41f3-a43d-8541a82df2f2');\n",
              "          const dataTable =\n",
              "            await google.colab.kernel.invokeFunction('convertToInteractive',\n",
              "                                                     [key], {});\n",
              "          if (!dataTable) return;\n",
              "\n",
              "          const docLinkHtml = 'Like what you see? Visit the ' +\n",
              "            '<a target=\"_blank\" href=https://colab.research.google.com/notebooks/data_table.ipynb>data table notebook</a>'\n",
              "            + ' to learn more about interactive tables.';\n",
              "          element.innerHTML = '';\n",
              "          dataTable['output_type'] = 'display_data';\n",
              "          await google.colab.output.renderOutput(dataTable, element);\n",
              "          const docLink = document.createElement('div');\n",
              "          docLink.innerHTML = docLinkHtml;\n",
              "          element.appendChild(docLink);\n",
              "        }\n",
              "      </script>\n",
              "    </div>\n",
              "  </div>\n",
              "  "
            ]
          },
          "metadata": {},
          "execution_count": 115
        }
      ],
      "source": [
        "df3"
      ]
    },
    {
      "cell_type": "code",
      "execution_count": null,
      "id": "0a6112e7",
      "metadata": {
        "id": "0a6112e7"
      },
      "outputs": [],
      "source": [
        "df3.index = ['a', 'b', 'c', 'd']"
      ]
    },
    {
      "cell_type": "code",
      "execution_count": null,
      "id": "fa31c0cb",
      "metadata": {
        "id": "fa31c0cb",
        "outputId": "17c26ac2-0fb3-457f-8cb0-18658e5429f0",
        "colab": {
          "base_uri": "https://localhost:8080/",
          "height": 175
        }
      },
      "outputs": [
        {
          "output_type": "execute_result",
          "data": {
            "text/plain": [
              "   ids  percents grade\n",
              "a  101      81.5   NaN\n",
              "b  102      90.5   NaN\n",
              "c  103      77.5   NaN\n",
              "d  104      61.0   NaN"
            ],
            "text/html": [
              "\n",
              "  <div id=\"df-ff8ecc41-eb20-4dd8-93a4-4bb903b83566\">\n",
              "    <div class=\"colab-df-container\">\n",
              "      <div>\n",
              "<style scoped>\n",
              "    .dataframe tbody tr th:only-of-type {\n",
              "        vertical-align: middle;\n",
              "    }\n",
              "\n",
              "    .dataframe tbody tr th {\n",
              "        vertical-align: top;\n",
              "    }\n",
              "\n",
              "    .dataframe thead th {\n",
              "        text-align: right;\n",
              "    }\n",
              "</style>\n",
              "<table border=\"1\" class=\"dataframe\">\n",
              "  <thead>\n",
              "    <tr style=\"text-align: right;\">\n",
              "      <th></th>\n",
              "      <th>ids</th>\n",
              "      <th>percents</th>\n",
              "      <th>grade</th>\n",
              "    </tr>\n",
              "  </thead>\n",
              "  <tbody>\n",
              "    <tr>\n",
              "      <th>a</th>\n",
              "      <td>101</td>\n",
              "      <td>81.5</td>\n",
              "      <td>NaN</td>\n",
              "    </tr>\n",
              "    <tr>\n",
              "      <th>b</th>\n",
              "      <td>102</td>\n",
              "      <td>90.5</td>\n",
              "      <td>NaN</td>\n",
              "    </tr>\n",
              "    <tr>\n",
              "      <th>c</th>\n",
              "      <td>103</td>\n",
              "      <td>77.5</td>\n",
              "      <td>NaN</td>\n",
              "    </tr>\n",
              "    <tr>\n",
              "      <th>d</th>\n",
              "      <td>104</td>\n",
              "      <td>61.0</td>\n",
              "      <td>NaN</td>\n",
              "    </tr>\n",
              "  </tbody>\n",
              "</table>\n",
              "</div>\n",
              "      <button class=\"colab-df-convert\" onclick=\"convertToInteractive('df-ff8ecc41-eb20-4dd8-93a4-4bb903b83566')\"\n",
              "              title=\"Convert this dataframe to an interactive table.\"\n",
              "              style=\"display:none;\">\n",
              "        \n",
              "  <svg xmlns=\"http://www.w3.org/2000/svg\" height=\"24px\"viewBox=\"0 0 24 24\"\n",
              "       width=\"24px\">\n",
              "    <path d=\"M0 0h24v24H0V0z\" fill=\"none\"/>\n",
              "    <path d=\"M18.56 5.44l.94 2.06.94-2.06 2.06-.94-2.06-.94-.94-2.06-.94 2.06-2.06.94zm-11 1L8.5 8.5l.94-2.06 2.06-.94-2.06-.94L8.5 2.5l-.94 2.06-2.06.94zm10 10l.94 2.06.94-2.06 2.06-.94-2.06-.94-.94-2.06-.94 2.06-2.06.94z\"/><path d=\"M17.41 7.96l-1.37-1.37c-.4-.4-.92-.59-1.43-.59-.52 0-1.04.2-1.43.59L10.3 9.45l-7.72 7.72c-.78.78-.78 2.05 0 2.83L4 21.41c.39.39.9.59 1.41.59.51 0 1.02-.2 1.41-.59l7.78-7.78 2.81-2.81c.8-.78.8-2.07 0-2.86zM5.41 20L4 18.59l7.72-7.72 1.47 1.35L5.41 20z\"/>\n",
              "  </svg>\n",
              "      </button>\n",
              "      \n",
              "  <style>\n",
              "    .colab-df-container {\n",
              "      display:flex;\n",
              "      flex-wrap:wrap;\n",
              "      gap: 12px;\n",
              "    }\n",
              "\n",
              "    .colab-df-convert {\n",
              "      background-color: #E8F0FE;\n",
              "      border: none;\n",
              "      border-radius: 50%;\n",
              "      cursor: pointer;\n",
              "      display: none;\n",
              "      fill: #1967D2;\n",
              "      height: 32px;\n",
              "      padding: 0 0 0 0;\n",
              "      width: 32px;\n",
              "    }\n",
              "\n",
              "    .colab-df-convert:hover {\n",
              "      background-color: #E2EBFA;\n",
              "      box-shadow: 0px 1px 2px rgba(60, 64, 67, 0.3), 0px 1px 3px 1px rgba(60, 64, 67, 0.15);\n",
              "      fill: #174EA6;\n",
              "    }\n",
              "\n",
              "    [theme=dark] .colab-df-convert {\n",
              "      background-color: #3B4455;\n",
              "      fill: #D2E3FC;\n",
              "    }\n",
              "\n",
              "    [theme=dark] .colab-df-convert:hover {\n",
              "      background-color: #434B5C;\n",
              "      box-shadow: 0px 1px 3px 1px rgba(0, 0, 0, 0.15);\n",
              "      filter: drop-shadow(0px 1px 2px rgba(0, 0, 0, 0.3));\n",
              "      fill: #FFFFFF;\n",
              "    }\n",
              "  </style>\n",
              "\n",
              "      <script>\n",
              "        const buttonEl =\n",
              "          document.querySelector('#df-ff8ecc41-eb20-4dd8-93a4-4bb903b83566 button.colab-df-convert');\n",
              "        buttonEl.style.display =\n",
              "          google.colab.kernel.accessAllowed ? 'block' : 'none';\n",
              "\n",
              "        async function convertToInteractive(key) {\n",
              "          const element = document.querySelector('#df-ff8ecc41-eb20-4dd8-93a4-4bb903b83566');\n",
              "          const dataTable =\n",
              "            await google.colab.kernel.invokeFunction('convertToInteractive',\n",
              "                                                     [key], {});\n",
              "          if (!dataTable) return;\n",
              "\n",
              "          const docLinkHtml = 'Like what you see? Visit the ' +\n",
              "            '<a target=\"_blank\" href=https://colab.research.google.com/notebooks/data_table.ipynb>data table notebook</a>'\n",
              "            + ' to learn more about interactive tables.';\n",
              "          element.innerHTML = '';\n",
              "          dataTable['output_type'] = 'display_data';\n",
              "          await google.colab.output.renderOutput(dataTable, element);\n",
              "          const docLink = document.createElement('div');\n",
              "          docLink.innerHTML = docLinkHtml;\n",
              "          element.appendChild(docLink);\n",
              "        }\n",
              "      </script>\n",
              "    </div>\n",
              "  </div>\n",
              "  "
            ]
          },
          "metadata": {},
          "execution_count": 117
        }
      ],
      "source": [
        "df3"
      ]
    },
    {
      "cell_type": "code",
      "execution_count": null,
      "id": "b99594f3",
      "metadata": {
        "id": "b99594f3"
      },
      "outputs": [],
      "source": [
        "df3['grade'] = 'A' # It adds same value to all the  Columns"
      ]
    },
    {
      "cell_type": "code",
      "execution_count": null,
      "id": "4074c967",
      "metadata": {
        "id": "4074c967",
        "outputId": "e9594c04-d90e-43ef-b8cb-61bc77bddf21",
        "colab": {
          "base_uri": "https://localhost:8080/",
          "height": 175
        }
      },
      "outputs": [
        {
          "output_type": "execute_result",
          "data": {
            "text/plain": [
              "   ids  percents grade\n",
              "a  101      81.5     A\n",
              "b  102      90.5     A\n",
              "c  103      77.5     A\n",
              "d  104      61.0     A"
            ],
            "text/html": [
              "\n",
              "  <div id=\"df-a22ac7e2-e468-4963-979d-9f4f4e451e5c\">\n",
              "    <div class=\"colab-df-container\">\n",
              "      <div>\n",
              "<style scoped>\n",
              "    .dataframe tbody tr th:only-of-type {\n",
              "        vertical-align: middle;\n",
              "    }\n",
              "\n",
              "    .dataframe tbody tr th {\n",
              "        vertical-align: top;\n",
              "    }\n",
              "\n",
              "    .dataframe thead th {\n",
              "        text-align: right;\n",
              "    }\n",
              "</style>\n",
              "<table border=\"1\" class=\"dataframe\">\n",
              "  <thead>\n",
              "    <tr style=\"text-align: right;\">\n",
              "      <th></th>\n",
              "      <th>ids</th>\n",
              "      <th>percents</th>\n",
              "      <th>grade</th>\n",
              "    </tr>\n",
              "  </thead>\n",
              "  <tbody>\n",
              "    <tr>\n",
              "      <th>a</th>\n",
              "      <td>101</td>\n",
              "      <td>81.5</td>\n",
              "      <td>A</td>\n",
              "    </tr>\n",
              "    <tr>\n",
              "      <th>b</th>\n",
              "      <td>102</td>\n",
              "      <td>90.5</td>\n",
              "      <td>A</td>\n",
              "    </tr>\n",
              "    <tr>\n",
              "      <th>c</th>\n",
              "      <td>103</td>\n",
              "      <td>77.5</td>\n",
              "      <td>A</td>\n",
              "    </tr>\n",
              "    <tr>\n",
              "      <th>d</th>\n",
              "      <td>104</td>\n",
              "      <td>61.0</td>\n",
              "      <td>A</td>\n",
              "    </tr>\n",
              "  </tbody>\n",
              "</table>\n",
              "</div>\n",
              "      <button class=\"colab-df-convert\" onclick=\"convertToInteractive('df-a22ac7e2-e468-4963-979d-9f4f4e451e5c')\"\n",
              "              title=\"Convert this dataframe to an interactive table.\"\n",
              "              style=\"display:none;\">\n",
              "        \n",
              "  <svg xmlns=\"http://www.w3.org/2000/svg\" height=\"24px\"viewBox=\"0 0 24 24\"\n",
              "       width=\"24px\">\n",
              "    <path d=\"M0 0h24v24H0V0z\" fill=\"none\"/>\n",
              "    <path d=\"M18.56 5.44l.94 2.06.94-2.06 2.06-.94-2.06-.94-.94-2.06-.94 2.06-2.06.94zm-11 1L8.5 8.5l.94-2.06 2.06-.94-2.06-.94L8.5 2.5l-.94 2.06-2.06.94zm10 10l.94 2.06.94-2.06 2.06-.94-2.06-.94-.94-2.06-.94 2.06-2.06.94z\"/><path d=\"M17.41 7.96l-1.37-1.37c-.4-.4-.92-.59-1.43-.59-.52 0-1.04.2-1.43.59L10.3 9.45l-7.72 7.72c-.78.78-.78 2.05 0 2.83L4 21.41c.39.39.9.59 1.41.59.51 0 1.02-.2 1.41-.59l7.78-7.78 2.81-2.81c.8-.78.8-2.07 0-2.86zM5.41 20L4 18.59l7.72-7.72 1.47 1.35L5.41 20z\"/>\n",
              "  </svg>\n",
              "      </button>\n",
              "      \n",
              "  <style>\n",
              "    .colab-df-container {\n",
              "      display:flex;\n",
              "      flex-wrap:wrap;\n",
              "      gap: 12px;\n",
              "    }\n",
              "\n",
              "    .colab-df-convert {\n",
              "      background-color: #E8F0FE;\n",
              "      border: none;\n",
              "      border-radius: 50%;\n",
              "      cursor: pointer;\n",
              "      display: none;\n",
              "      fill: #1967D2;\n",
              "      height: 32px;\n",
              "      padding: 0 0 0 0;\n",
              "      width: 32px;\n",
              "    }\n",
              "\n",
              "    .colab-df-convert:hover {\n",
              "      background-color: #E2EBFA;\n",
              "      box-shadow: 0px 1px 2px rgba(60, 64, 67, 0.3), 0px 1px 3px 1px rgba(60, 64, 67, 0.15);\n",
              "      fill: #174EA6;\n",
              "    }\n",
              "\n",
              "    [theme=dark] .colab-df-convert {\n",
              "      background-color: #3B4455;\n",
              "      fill: #D2E3FC;\n",
              "    }\n",
              "\n",
              "    [theme=dark] .colab-df-convert:hover {\n",
              "      background-color: #434B5C;\n",
              "      box-shadow: 0px 1px 3px 1px rgba(0, 0, 0, 0.15);\n",
              "      filter: drop-shadow(0px 1px 2px rgba(0, 0, 0, 0.3));\n",
              "      fill: #FFFFFF;\n",
              "    }\n",
              "  </style>\n",
              "\n",
              "      <script>\n",
              "        const buttonEl =\n",
              "          document.querySelector('#df-a22ac7e2-e468-4963-979d-9f4f4e451e5c button.colab-df-convert');\n",
              "        buttonEl.style.display =\n",
              "          google.colab.kernel.accessAllowed ? 'block' : 'none';\n",
              "\n",
              "        async function convertToInteractive(key) {\n",
              "          const element = document.querySelector('#df-a22ac7e2-e468-4963-979d-9f4f4e451e5c');\n",
              "          const dataTable =\n",
              "            await google.colab.kernel.invokeFunction('convertToInteractive',\n",
              "                                                     [key], {});\n",
              "          if (!dataTable) return;\n",
              "\n",
              "          const docLinkHtml = 'Like what you see? Visit the ' +\n",
              "            '<a target=\"_blank\" href=https://colab.research.google.com/notebooks/data_table.ipynb>data table notebook</a>'\n",
              "            + ' to learn more about interactive tables.';\n",
              "          element.innerHTML = '';\n",
              "          dataTable['output_type'] = 'display_data';\n",
              "          await google.colab.output.renderOutput(dataTable, element);\n",
              "          const docLink = document.createElement('div');\n",
              "          docLink.innerHTML = docLinkHtml;\n",
              "          element.appendChild(docLink);\n",
              "        }\n",
              "      </script>\n",
              "    </div>\n",
              "  </div>\n",
              "  "
            ]
          },
          "metadata": {},
          "execution_count": 119
        }
      ],
      "source": [
        "df3"
      ]
    },
    {
      "cell_type": "code",
      "execution_count": null,
      "id": "45d6bdbd",
      "metadata": {
        "id": "45d6bdbd"
      },
      "outputs": [],
      "source": [
        "df3['col1'] = 10 # Add New Columns"
      ]
    },
    {
      "cell_type": "code",
      "execution_count": null,
      "id": "61a1baa5",
      "metadata": {
        "id": "61a1baa5",
        "outputId": "4a6289d5-73ca-4898-8ca2-db46c2e4c2b1",
        "colab": {
          "base_uri": "https://localhost:8080/",
          "height": 175
        }
      },
      "outputs": [
        {
          "output_type": "execute_result",
          "data": {
            "text/plain": [
              "   ids  percents grade  col1\n",
              "a  101      81.5     A    10\n",
              "b  102      90.5     A    10\n",
              "c  103      77.5     A    10\n",
              "d  104      61.0     A    10"
            ],
            "text/html": [
              "\n",
              "  <div id=\"df-1c6287a4-4274-4ff8-b1ca-0e13fe594fc7\">\n",
              "    <div class=\"colab-df-container\">\n",
              "      <div>\n",
              "<style scoped>\n",
              "    .dataframe tbody tr th:only-of-type {\n",
              "        vertical-align: middle;\n",
              "    }\n",
              "\n",
              "    .dataframe tbody tr th {\n",
              "        vertical-align: top;\n",
              "    }\n",
              "\n",
              "    .dataframe thead th {\n",
              "        text-align: right;\n",
              "    }\n",
              "</style>\n",
              "<table border=\"1\" class=\"dataframe\">\n",
              "  <thead>\n",
              "    <tr style=\"text-align: right;\">\n",
              "      <th></th>\n",
              "      <th>ids</th>\n",
              "      <th>percents</th>\n",
              "      <th>grade</th>\n",
              "      <th>col1</th>\n",
              "    </tr>\n",
              "  </thead>\n",
              "  <tbody>\n",
              "    <tr>\n",
              "      <th>a</th>\n",
              "      <td>101</td>\n",
              "      <td>81.5</td>\n",
              "      <td>A</td>\n",
              "      <td>10</td>\n",
              "    </tr>\n",
              "    <tr>\n",
              "      <th>b</th>\n",
              "      <td>102</td>\n",
              "      <td>90.5</td>\n",
              "      <td>A</td>\n",
              "      <td>10</td>\n",
              "    </tr>\n",
              "    <tr>\n",
              "      <th>c</th>\n",
              "      <td>103</td>\n",
              "      <td>77.5</td>\n",
              "      <td>A</td>\n",
              "      <td>10</td>\n",
              "    </tr>\n",
              "    <tr>\n",
              "      <th>d</th>\n",
              "      <td>104</td>\n",
              "      <td>61.0</td>\n",
              "      <td>A</td>\n",
              "      <td>10</td>\n",
              "    </tr>\n",
              "  </tbody>\n",
              "</table>\n",
              "</div>\n",
              "      <button class=\"colab-df-convert\" onclick=\"convertToInteractive('df-1c6287a4-4274-4ff8-b1ca-0e13fe594fc7')\"\n",
              "              title=\"Convert this dataframe to an interactive table.\"\n",
              "              style=\"display:none;\">\n",
              "        \n",
              "  <svg xmlns=\"http://www.w3.org/2000/svg\" height=\"24px\"viewBox=\"0 0 24 24\"\n",
              "       width=\"24px\">\n",
              "    <path d=\"M0 0h24v24H0V0z\" fill=\"none\"/>\n",
              "    <path d=\"M18.56 5.44l.94 2.06.94-2.06 2.06-.94-2.06-.94-.94-2.06-.94 2.06-2.06.94zm-11 1L8.5 8.5l.94-2.06 2.06-.94-2.06-.94L8.5 2.5l-.94 2.06-2.06.94zm10 10l.94 2.06.94-2.06 2.06-.94-2.06-.94-.94-2.06-.94 2.06-2.06.94z\"/><path d=\"M17.41 7.96l-1.37-1.37c-.4-.4-.92-.59-1.43-.59-.52 0-1.04.2-1.43.59L10.3 9.45l-7.72 7.72c-.78.78-.78 2.05 0 2.83L4 21.41c.39.39.9.59 1.41.59.51 0 1.02-.2 1.41-.59l7.78-7.78 2.81-2.81c.8-.78.8-2.07 0-2.86zM5.41 20L4 18.59l7.72-7.72 1.47 1.35L5.41 20z\"/>\n",
              "  </svg>\n",
              "      </button>\n",
              "      \n",
              "  <style>\n",
              "    .colab-df-container {\n",
              "      display:flex;\n",
              "      flex-wrap:wrap;\n",
              "      gap: 12px;\n",
              "    }\n",
              "\n",
              "    .colab-df-convert {\n",
              "      background-color: #E8F0FE;\n",
              "      border: none;\n",
              "      border-radius: 50%;\n",
              "      cursor: pointer;\n",
              "      display: none;\n",
              "      fill: #1967D2;\n",
              "      height: 32px;\n",
              "      padding: 0 0 0 0;\n",
              "      width: 32px;\n",
              "    }\n",
              "\n",
              "    .colab-df-convert:hover {\n",
              "      background-color: #E2EBFA;\n",
              "      box-shadow: 0px 1px 2px rgba(60, 64, 67, 0.3), 0px 1px 3px 1px rgba(60, 64, 67, 0.15);\n",
              "      fill: #174EA6;\n",
              "    }\n",
              "\n",
              "    [theme=dark] .colab-df-convert {\n",
              "      background-color: #3B4455;\n",
              "      fill: #D2E3FC;\n",
              "    }\n",
              "\n",
              "    [theme=dark] .colab-df-convert:hover {\n",
              "      background-color: #434B5C;\n",
              "      box-shadow: 0px 1px 3px 1px rgba(0, 0, 0, 0.15);\n",
              "      filter: drop-shadow(0px 1px 2px rgba(0, 0, 0, 0.3));\n",
              "      fill: #FFFFFF;\n",
              "    }\n",
              "  </style>\n",
              "\n",
              "      <script>\n",
              "        const buttonEl =\n",
              "          document.querySelector('#df-1c6287a4-4274-4ff8-b1ca-0e13fe594fc7 button.colab-df-convert');\n",
              "        buttonEl.style.display =\n",
              "          google.colab.kernel.accessAllowed ? 'block' : 'none';\n",
              "\n",
              "        async function convertToInteractive(key) {\n",
              "          const element = document.querySelector('#df-1c6287a4-4274-4ff8-b1ca-0e13fe594fc7');\n",
              "          const dataTable =\n",
              "            await google.colab.kernel.invokeFunction('convertToInteractive',\n",
              "                                                     [key], {});\n",
              "          if (!dataTable) return;\n",
              "\n",
              "          const docLinkHtml = 'Like what you see? Visit the ' +\n",
              "            '<a target=\"_blank\" href=https://colab.research.google.com/notebooks/data_table.ipynb>data table notebook</a>'\n",
              "            + ' to learn more about interactive tables.';\n",
              "          element.innerHTML = '';\n",
              "          dataTable['output_type'] = 'display_data';\n",
              "          await google.colab.output.renderOutput(dataTable, element);\n",
              "          const docLink = document.createElement('div');\n",
              "          docLink.innerHTML = docLinkHtml;\n",
              "          element.appendChild(docLink);\n",
              "        }\n",
              "      </script>\n",
              "    </div>\n",
              "  </div>\n",
              "  "
            ]
          },
          "metadata": {},
          "execution_count": 121
        }
      ],
      "source": [
        "df3"
      ]
    },
    {
      "cell_type": "code",
      "execution_count": null,
      "id": "8bfe801f",
      "metadata": {
        "id": "8bfe801f"
      },
      "outputs": [],
      "source": [
        "df3['col2'] = [10, 20, 30, 40]"
      ]
    },
    {
      "cell_type": "code",
      "execution_count": null,
      "id": "ededdd64",
      "metadata": {
        "id": "ededdd64",
        "outputId": "254bf0dd-ee2b-4c7f-bed9-3d2c953923a2",
        "colab": {
          "base_uri": "https://localhost:8080/",
          "height": 175
        }
      },
      "outputs": [
        {
          "output_type": "execute_result",
          "data": {
            "text/plain": [
              "   ids  percents grade  col1  col2\n",
              "a  101      81.5     A    10    10\n",
              "b  102      90.5     A    10    20\n",
              "c  103      77.5     A    10    30\n",
              "d  104      61.0     A    10    40"
            ],
            "text/html": [
              "\n",
              "  <div id=\"df-b9f9a8d4-8350-4a77-9507-036be4455129\">\n",
              "    <div class=\"colab-df-container\">\n",
              "      <div>\n",
              "<style scoped>\n",
              "    .dataframe tbody tr th:only-of-type {\n",
              "        vertical-align: middle;\n",
              "    }\n",
              "\n",
              "    .dataframe tbody tr th {\n",
              "        vertical-align: top;\n",
              "    }\n",
              "\n",
              "    .dataframe thead th {\n",
              "        text-align: right;\n",
              "    }\n",
              "</style>\n",
              "<table border=\"1\" class=\"dataframe\">\n",
              "  <thead>\n",
              "    <tr style=\"text-align: right;\">\n",
              "      <th></th>\n",
              "      <th>ids</th>\n",
              "      <th>percents</th>\n",
              "      <th>grade</th>\n",
              "      <th>col1</th>\n",
              "      <th>col2</th>\n",
              "    </tr>\n",
              "  </thead>\n",
              "  <tbody>\n",
              "    <tr>\n",
              "      <th>a</th>\n",
              "      <td>101</td>\n",
              "      <td>81.5</td>\n",
              "      <td>A</td>\n",
              "      <td>10</td>\n",
              "      <td>10</td>\n",
              "    </tr>\n",
              "    <tr>\n",
              "      <th>b</th>\n",
              "      <td>102</td>\n",
              "      <td>90.5</td>\n",
              "      <td>A</td>\n",
              "      <td>10</td>\n",
              "      <td>20</td>\n",
              "    </tr>\n",
              "    <tr>\n",
              "      <th>c</th>\n",
              "      <td>103</td>\n",
              "      <td>77.5</td>\n",
              "      <td>A</td>\n",
              "      <td>10</td>\n",
              "      <td>30</td>\n",
              "    </tr>\n",
              "    <tr>\n",
              "      <th>d</th>\n",
              "      <td>104</td>\n",
              "      <td>61.0</td>\n",
              "      <td>A</td>\n",
              "      <td>10</td>\n",
              "      <td>40</td>\n",
              "    </tr>\n",
              "  </tbody>\n",
              "</table>\n",
              "</div>\n",
              "      <button class=\"colab-df-convert\" onclick=\"convertToInteractive('df-b9f9a8d4-8350-4a77-9507-036be4455129')\"\n",
              "              title=\"Convert this dataframe to an interactive table.\"\n",
              "              style=\"display:none;\">\n",
              "        \n",
              "  <svg xmlns=\"http://www.w3.org/2000/svg\" height=\"24px\"viewBox=\"0 0 24 24\"\n",
              "       width=\"24px\">\n",
              "    <path d=\"M0 0h24v24H0V0z\" fill=\"none\"/>\n",
              "    <path d=\"M18.56 5.44l.94 2.06.94-2.06 2.06-.94-2.06-.94-.94-2.06-.94 2.06-2.06.94zm-11 1L8.5 8.5l.94-2.06 2.06-.94-2.06-.94L8.5 2.5l-.94 2.06-2.06.94zm10 10l.94 2.06.94-2.06 2.06-.94-2.06-.94-.94-2.06-.94 2.06-2.06.94z\"/><path d=\"M17.41 7.96l-1.37-1.37c-.4-.4-.92-.59-1.43-.59-.52 0-1.04.2-1.43.59L10.3 9.45l-7.72 7.72c-.78.78-.78 2.05 0 2.83L4 21.41c.39.39.9.59 1.41.59.51 0 1.02-.2 1.41-.59l7.78-7.78 2.81-2.81c.8-.78.8-2.07 0-2.86zM5.41 20L4 18.59l7.72-7.72 1.47 1.35L5.41 20z\"/>\n",
              "  </svg>\n",
              "      </button>\n",
              "      \n",
              "  <style>\n",
              "    .colab-df-container {\n",
              "      display:flex;\n",
              "      flex-wrap:wrap;\n",
              "      gap: 12px;\n",
              "    }\n",
              "\n",
              "    .colab-df-convert {\n",
              "      background-color: #E8F0FE;\n",
              "      border: none;\n",
              "      border-radius: 50%;\n",
              "      cursor: pointer;\n",
              "      display: none;\n",
              "      fill: #1967D2;\n",
              "      height: 32px;\n",
              "      padding: 0 0 0 0;\n",
              "      width: 32px;\n",
              "    }\n",
              "\n",
              "    .colab-df-convert:hover {\n",
              "      background-color: #E2EBFA;\n",
              "      box-shadow: 0px 1px 2px rgba(60, 64, 67, 0.3), 0px 1px 3px 1px rgba(60, 64, 67, 0.15);\n",
              "      fill: #174EA6;\n",
              "    }\n",
              "\n",
              "    [theme=dark] .colab-df-convert {\n",
              "      background-color: #3B4455;\n",
              "      fill: #D2E3FC;\n",
              "    }\n",
              "\n",
              "    [theme=dark] .colab-df-convert:hover {\n",
              "      background-color: #434B5C;\n",
              "      box-shadow: 0px 1px 3px 1px rgba(0, 0, 0, 0.15);\n",
              "      filter: drop-shadow(0px 1px 2px rgba(0, 0, 0, 0.3));\n",
              "      fill: #FFFFFF;\n",
              "    }\n",
              "  </style>\n",
              "\n",
              "      <script>\n",
              "        const buttonEl =\n",
              "          document.querySelector('#df-b9f9a8d4-8350-4a77-9507-036be4455129 button.colab-df-convert');\n",
              "        buttonEl.style.display =\n",
              "          google.colab.kernel.accessAllowed ? 'block' : 'none';\n",
              "\n",
              "        async function convertToInteractive(key) {\n",
              "          const element = document.querySelector('#df-b9f9a8d4-8350-4a77-9507-036be4455129');\n",
              "          const dataTable =\n",
              "            await google.colab.kernel.invokeFunction('convertToInteractive',\n",
              "                                                     [key], {});\n",
              "          if (!dataTable) return;\n",
              "\n",
              "          const docLinkHtml = 'Like what you see? Visit the ' +\n",
              "            '<a target=\"_blank\" href=https://colab.research.google.com/notebooks/data_table.ipynb>data table notebook</a>'\n",
              "            + ' to learn more about interactive tables.';\n",
              "          element.innerHTML = '';\n",
              "          dataTable['output_type'] = 'display_data';\n",
              "          await google.colab.output.renderOutput(dataTable, element);\n",
              "          const docLink = document.createElement('div');\n",
              "          docLink.innerHTML = docLinkHtml;\n",
              "          element.appendChild(docLink);\n",
              "        }\n",
              "      </script>\n",
              "    </div>\n",
              "  </div>\n",
              "  "
            ]
          },
          "metadata": {},
          "execution_count": 123
        }
      ],
      "source": [
        "df3"
      ]
    },
    {
      "cell_type": "code",
      "execution_count": null,
      "id": "34e0eb34",
      "metadata": {
        "id": "34e0eb34",
        "outputId": "2503b6ad-b11c-4db2-9825-9764c553dad1",
        "colab": {
          "base_uri": "https://localhost:8080/",
          "height": 311
        }
      },
      "outputs": [
        {
          "output_type": "error",
          "ename": "ValueError",
          "evalue": "ignored",
          "traceback": [
            "\u001b[0;31m---------------------------------------------------------------------------\u001b[0m",
            "\u001b[0;31mValueError\u001b[0m                                Traceback (most recent call last)",
            "\u001b[0;32m<ipython-input-124-d0d460c42a44>\u001b[0m in \u001b[0;36m<cell line: 1>\u001b[0;34m()\u001b[0m\n\u001b[0;32m----> 1\u001b[0;31m \u001b[0mdf3\u001b[0m\u001b[0;34m[\u001b[0m\u001b[0;34m'col3'\u001b[0m\u001b[0;34m]\u001b[0m \u001b[0;34m=\u001b[0m \u001b[0;34m[\u001b[0m\u001b[0;36m10\u001b[0m\u001b[0;34m,\u001b[0m \u001b[0;36m20\u001b[0m\u001b[0;34m,\u001b[0m \u001b[0;36m30\u001b[0m\u001b[0;34m]\u001b[0m\u001b[0;34m\u001b[0m\u001b[0;34m\u001b[0m\u001b[0m\n\u001b[0m",
            "\u001b[0;32m/usr/local/lib/python3.10/dist-packages/pandas/core/frame.py\u001b[0m in \u001b[0;36m__setitem__\u001b[0;34m(self, key, value)\u001b[0m\n\u001b[1;32m   3978\u001b[0m         \u001b[0;32melse\u001b[0m\u001b[0;34m:\u001b[0m\u001b[0;34m\u001b[0m\u001b[0;34m\u001b[0m\u001b[0m\n\u001b[1;32m   3979\u001b[0m             \u001b[0;31m# set column\u001b[0m\u001b[0;34m\u001b[0m\u001b[0;34m\u001b[0m\u001b[0m\n\u001b[0;32m-> 3980\u001b[0;31m             \u001b[0mself\u001b[0m\u001b[0;34m.\u001b[0m\u001b[0m_set_item\u001b[0m\u001b[0;34m(\u001b[0m\u001b[0mkey\u001b[0m\u001b[0;34m,\u001b[0m \u001b[0mvalue\u001b[0m\u001b[0;34m)\u001b[0m\u001b[0;34m\u001b[0m\u001b[0;34m\u001b[0m\u001b[0m\n\u001b[0m\u001b[1;32m   3981\u001b[0m \u001b[0;34m\u001b[0m\u001b[0m\n\u001b[1;32m   3982\u001b[0m     \u001b[0;32mdef\u001b[0m \u001b[0m_setitem_slice\u001b[0m\u001b[0;34m(\u001b[0m\u001b[0mself\u001b[0m\u001b[0;34m,\u001b[0m \u001b[0mkey\u001b[0m\u001b[0;34m:\u001b[0m \u001b[0mslice\u001b[0m\u001b[0;34m,\u001b[0m \u001b[0mvalue\u001b[0m\u001b[0;34m)\u001b[0m\u001b[0;34m:\u001b[0m\u001b[0;34m\u001b[0m\u001b[0;34m\u001b[0m\u001b[0m\n",
            "\u001b[0;32m/usr/local/lib/python3.10/dist-packages/pandas/core/frame.py\u001b[0m in \u001b[0;36m_set_item\u001b[0;34m(self, key, value)\u001b[0m\n\u001b[1;32m   4172\u001b[0m         \u001b[0mensure\u001b[0m \u001b[0mhomogeneity\u001b[0m\u001b[0;34m.\u001b[0m\u001b[0;34m\u001b[0m\u001b[0;34m\u001b[0m\u001b[0m\n\u001b[1;32m   4173\u001b[0m         \"\"\"\n\u001b[0;32m-> 4174\u001b[0;31m         \u001b[0mvalue\u001b[0m \u001b[0;34m=\u001b[0m \u001b[0mself\u001b[0m\u001b[0;34m.\u001b[0m\u001b[0m_sanitize_column\u001b[0m\u001b[0;34m(\u001b[0m\u001b[0mvalue\u001b[0m\u001b[0;34m)\u001b[0m\u001b[0;34m\u001b[0m\u001b[0;34m\u001b[0m\u001b[0m\n\u001b[0m\u001b[1;32m   4175\u001b[0m \u001b[0;34m\u001b[0m\u001b[0m\n\u001b[1;32m   4176\u001b[0m         if (\n",
            "\u001b[0;32m/usr/local/lib/python3.10/dist-packages/pandas/core/frame.py\u001b[0m in \u001b[0;36m_sanitize_column\u001b[0;34m(self, value)\u001b[0m\n\u001b[1;32m   4913\u001b[0m \u001b[0;34m\u001b[0m\u001b[0m\n\u001b[1;32m   4914\u001b[0m         \u001b[0;32mif\u001b[0m \u001b[0mis_list_like\u001b[0m\u001b[0;34m(\u001b[0m\u001b[0mvalue\u001b[0m\u001b[0;34m)\u001b[0m\u001b[0;34m:\u001b[0m\u001b[0;34m\u001b[0m\u001b[0;34m\u001b[0m\u001b[0m\n\u001b[0;32m-> 4915\u001b[0;31m             \u001b[0mcom\u001b[0m\u001b[0;34m.\u001b[0m\u001b[0mrequire_length_match\u001b[0m\u001b[0;34m(\u001b[0m\u001b[0mvalue\u001b[0m\u001b[0;34m,\u001b[0m \u001b[0mself\u001b[0m\u001b[0;34m.\u001b[0m\u001b[0mindex\u001b[0m\u001b[0;34m)\u001b[0m\u001b[0;34m\u001b[0m\u001b[0;34m\u001b[0m\u001b[0m\n\u001b[0m\u001b[1;32m   4916\u001b[0m         \u001b[0;32mreturn\u001b[0m \u001b[0msanitize_array\u001b[0m\u001b[0;34m(\u001b[0m\u001b[0mvalue\u001b[0m\u001b[0;34m,\u001b[0m \u001b[0mself\u001b[0m\u001b[0;34m.\u001b[0m\u001b[0mindex\u001b[0m\u001b[0;34m,\u001b[0m \u001b[0mcopy\u001b[0m\u001b[0;34m=\u001b[0m\u001b[0;32mTrue\u001b[0m\u001b[0;34m,\u001b[0m \u001b[0mallow_2d\u001b[0m\u001b[0;34m=\u001b[0m\u001b[0;32mTrue\u001b[0m\u001b[0;34m)\u001b[0m\u001b[0;34m\u001b[0m\u001b[0;34m\u001b[0m\u001b[0m\n\u001b[1;32m   4917\u001b[0m \u001b[0;34m\u001b[0m\u001b[0m\n",
            "\u001b[0;32m/usr/local/lib/python3.10/dist-packages/pandas/core/common.py\u001b[0m in \u001b[0;36mrequire_length_match\u001b[0;34m(data, index)\u001b[0m\n\u001b[1;32m    569\u001b[0m     \"\"\"\n\u001b[1;32m    570\u001b[0m     \u001b[0;32mif\u001b[0m \u001b[0mlen\u001b[0m\u001b[0;34m(\u001b[0m\u001b[0mdata\u001b[0m\u001b[0;34m)\u001b[0m \u001b[0;34m!=\u001b[0m \u001b[0mlen\u001b[0m\u001b[0;34m(\u001b[0m\u001b[0mindex\u001b[0m\u001b[0;34m)\u001b[0m\u001b[0;34m:\u001b[0m\u001b[0;34m\u001b[0m\u001b[0;34m\u001b[0m\u001b[0m\n\u001b[0;32m--> 571\u001b[0;31m         raise ValueError(\n\u001b[0m\u001b[1;32m    572\u001b[0m             \u001b[0;34m\"Length of values \"\u001b[0m\u001b[0;34m\u001b[0m\u001b[0;34m\u001b[0m\u001b[0m\n\u001b[1;32m    573\u001b[0m             \u001b[0;34mf\"({len(data)}) \"\u001b[0m\u001b[0;34m\u001b[0m\u001b[0;34m\u001b[0m\u001b[0m\n",
            "\u001b[0;31mValueError\u001b[0m: Length of values (3) does not match length of index (4)"
          ]
        }
      ],
      "source": [
        "df3['col3'] = [10, 20, 30]"
      ]
    },
    {
      "cell_type": "code",
      "execution_count": null,
      "id": "b16b01b1",
      "metadata": {
        "id": "b16b01b1",
        "outputId": "f03d05dd-1064-4f0d-ab00-972276910565",
        "colab": {
          "base_uri": "https://localhost:8080/",
          "height": 175
        }
      },
      "outputs": [
        {
          "output_type": "execute_result",
          "data": {
            "text/plain": [
              "   ids  percents grade  col1  col2\n",
              "a  101      81.5     A    10    10\n",
              "b  102      90.5     A    10    20\n",
              "c  103      77.5     A    10    30\n",
              "d  104      61.0     A    10    40"
            ],
            "text/html": [
              "\n",
              "  <div id=\"df-ab6048a7-cca9-4c86-a3b0-afbaf7e66eb5\">\n",
              "    <div class=\"colab-df-container\">\n",
              "      <div>\n",
              "<style scoped>\n",
              "    .dataframe tbody tr th:only-of-type {\n",
              "        vertical-align: middle;\n",
              "    }\n",
              "\n",
              "    .dataframe tbody tr th {\n",
              "        vertical-align: top;\n",
              "    }\n",
              "\n",
              "    .dataframe thead th {\n",
              "        text-align: right;\n",
              "    }\n",
              "</style>\n",
              "<table border=\"1\" class=\"dataframe\">\n",
              "  <thead>\n",
              "    <tr style=\"text-align: right;\">\n",
              "      <th></th>\n",
              "      <th>ids</th>\n",
              "      <th>percents</th>\n",
              "      <th>grade</th>\n",
              "      <th>col1</th>\n",
              "      <th>col2</th>\n",
              "    </tr>\n",
              "  </thead>\n",
              "  <tbody>\n",
              "    <tr>\n",
              "      <th>a</th>\n",
              "      <td>101</td>\n",
              "      <td>81.5</td>\n",
              "      <td>A</td>\n",
              "      <td>10</td>\n",
              "      <td>10</td>\n",
              "    </tr>\n",
              "    <tr>\n",
              "      <th>b</th>\n",
              "      <td>102</td>\n",
              "      <td>90.5</td>\n",
              "      <td>A</td>\n",
              "      <td>10</td>\n",
              "      <td>20</td>\n",
              "    </tr>\n",
              "    <tr>\n",
              "      <th>c</th>\n",
              "      <td>103</td>\n",
              "      <td>77.5</td>\n",
              "      <td>A</td>\n",
              "      <td>10</td>\n",
              "      <td>30</td>\n",
              "    </tr>\n",
              "    <tr>\n",
              "      <th>d</th>\n",
              "      <td>104</td>\n",
              "      <td>61.0</td>\n",
              "      <td>A</td>\n",
              "      <td>10</td>\n",
              "      <td>40</td>\n",
              "    </tr>\n",
              "  </tbody>\n",
              "</table>\n",
              "</div>\n",
              "      <button class=\"colab-df-convert\" onclick=\"convertToInteractive('df-ab6048a7-cca9-4c86-a3b0-afbaf7e66eb5')\"\n",
              "              title=\"Convert this dataframe to an interactive table.\"\n",
              "              style=\"display:none;\">\n",
              "        \n",
              "  <svg xmlns=\"http://www.w3.org/2000/svg\" height=\"24px\"viewBox=\"0 0 24 24\"\n",
              "       width=\"24px\">\n",
              "    <path d=\"M0 0h24v24H0V0z\" fill=\"none\"/>\n",
              "    <path d=\"M18.56 5.44l.94 2.06.94-2.06 2.06-.94-2.06-.94-.94-2.06-.94 2.06-2.06.94zm-11 1L8.5 8.5l.94-2.06 2.06-.94-2.06-.94L8.5 2.5l-.94 2.06-2.06.94zm10 10l.94 2.06.94-2.06 2.06-.94-2.06-.94-.94-2.06-.94 2.06-2.06.94z\"/><path d=\"M17.41 7.96l-1.37-1.37c-.4-.4-.92-.59-1.43-.59-.52 0-1.04.2-1.43.59L10.3 9.45l-7.72 7.72c-.78.78-.78 2.05 0 2.83L4 21.41c.39.39.9.59 1.41.59.51 0 1.02-.2 1.41-.59l7.78-7.78 2.81-2.81c.8-.78.8-2.07 0-2.86zM5.41 20L4 18.59l7.72-7.72 1.47 1.35L5.41 20z\"/>\n",
              "  </svg>\n",
              "      </button>\n",
              "      \n",
              "  <style>\n",
              "    .colab-df-container {\n",
              "      display:flex;\n",
              "      flex-wrap:wrap;\n",
              "      gap: 12px;\n",
              "    }\n",
              "\n",
              "    .colab-df-convert {\n",
              "      background-color: #E8F0FE;\n",
              "      border: none;\n",
              "      border-radius: 50%;\n",
              "      cursor: pointer;\n",
              "      display: none;\n",
              "      fill: #1967D2;\n",
              "      height: 32px;\n",
              "      padding: 0 0 0 0;\n",
              "      width: 32px;\n",
              "    }\n",
              "\n",
              "    .colab-df-convert:hover {\n",
              "      background-color: #E2EBFA;\n",
              "      box-shadow: 0px 1px 2px rgba(60, 64, 67, 0.3), 0px 1px 3px 1px rgba(60, 64, 67, 0.15);\n",
              "      fill: #174EA6;\n",
              "    }\n",
              "\n",
              "    [theme=dark] .colab-df-convert {\n",
              "      background-color: #3B4455;\n",
              "      fill: #D2E3FC;\n",
              "    }\n",
              "\n",
              "    [theme=dark] .colab-df-convert:hover {\n",
              "      background-color: #434B5C;\n",
              "      box-shadow: 0px 1px 3px 1px rgba(0, 0, 0, 0.15);\n",
              "      filter: drop-shadow(0px 1px 2px rgba(0, 0, 0, 0.3));\n",
              "      fill: #FFFFFF;\n",
              "    }\n",
              "  </style>\n",
              "\n",
              "      <script>\n",
              "        const buttonEl =\n",
              "          document.querySelector('#df-ab6048a7-cca9-4c86-a3b0-afbaf7e66eb5 button.colab-df-convert');\n",
              "        buttonEl.style.display =\n",
              "          google.colab.kernel.accessAllowed ? 'block' : 'none';\n",
              "\n",
              "        async function convertToInteractive(key) {\n",
              "          const element = document.querySelector('#df-ab6048a7-cca9-4c86-a3b0-afbaf7e66eb5');\n",
              "          const dataTable =\n",
              "            await google.colab.kernel.invokeFunction('convertToInteractive',\n",
              "                                                     [key], {});\n",
              "          if (!dataTable) return;\n",
              "\n",
              "          const docLinkHtml = 'Like what you see? Visit the ' +\n",
              "            '<a target=\"_blank\" href=https://colab.research.google.com/notebooks/data_table.ipynb>data table notebook</a>'\n",
              "            + ' to learn more about interactive tables.';\n",
              "          element.innerHTML = '';\n",
              "          dataTable['output_type'] = 'display_data';\n",
              "          await google.colab.output.renderOutput(dataTable, element);\n",
              "          const docLink = document.createElement('div');\n",
              "          docLink.innerHTML = docLinkHtml;\n",
              "          element.appendChild(docLink);\n",
              "        }\n",
              "      </script>\n",
              "    </div>\n",
              "  </div>\n",
              "  "
            ]
          },
          "metadata": {},
          "execution_count": 125
        }
      ],
      "source": [
        "df3"
      ]
    },
    {
      "cell_type": "code",
      "source": [
        "import numpy as np"
      ],
      "metadata": {
        "id": "lVQDeQ9hgDHa"
      },
      "id": "lVQDeQ9hgDHa",
      "execution_count": null,
      "outputs": []
    },
    {
      "cell_type": "code",
      "execution_count": null,
      "id": "3e3622ad",
      "metadata": {
        "id": "3e3622ad"
      },
      "outputs": [],
      "source": [
        "df3['col3'] = np.arange(10, 18, 2) # Here 10 start value 2 is steps and 18 last value is ignorred"
      ]
    },
    {
      "cell_type": "code",
      "execution_count": null,
      "id": "c6cb0b17",
      "metadata": {
        "id": "c6cb0b17",
        "outputId": "d7d88ddc-d828-4dc2-c0cb-7fd14e92c206",
        "colab": {
          "base_uri": "https://localhost:8080/",
          "height": 175
        }
      },
      "outputs": [
        {
          "output_type": "execute_result",
          "data": {
            "text/plain": [
              "   ids  percents grade  col1  col2  col3\n",
              "a  101      81.5     A    10    10    10\n",
              "b  102      90.5     A    10    20    12\n",
              "c  103      77.5     A    10    30    14\n",
              "d  104      61.0     A    10    40    16"
            ],
            "text/html": [
              "\n",
              "  <div id=\"df-9a7300b0-fc42-480e-94b5-cb601fb8433c\">\n",
              "    <div class=\"colab-df-container\">\n",
              "      <div>\n",
              "<style scoped>\n",
              "    .dataframe tbody tr th:only-of-type {\n",
              "        vertical-align: middle;\n",
              "    }\n",
              "\n",
              "    .dataframe tbody tr th {\n",
              "        vertical-align: top;\n",
              "    }\n",
              "\n",
              "    .dataframe thead th {\n",
              "        text-align: right;\n",
              "    }\n",
              "</style>\n",
              "<table border=\"1\" class=\"dataframe\">\n",
              "  <thead>\n",
              "    <tr style=\"text-align: right;\">\n",
              "      <th></th>\n",
              "      <th>ids</th>\n",
              "      <th>percents</th>\n",
              "      <th>grade</th>\n",
              "      <th>col1</th>\n",
              "      <th>col2</th>\n",
              "      <th>col3</th>\n",
              "    </tr>\n",
              "  </thead>\n",
              "  <tbody>\n",
              "    <tr>\n",
              "      <th>a</th>\n",
              "      <td>101</td>\n",
              "      <td>81.5</td>\n",
              "      <td>A</td>\n",
              "      <td>10</td>\n",
              "      <td>10</td>\n",
              "      <td>10</td>\n",
              "    </tr>\n",
              "    <tr>\n",
              "      <th>b</th>\n",
              "      <td>102</td>\n",
              "      <td>90.5</td>\n",
              "      <td>A</td>\n",
              "      <td>10</td>\n",
              "      <td>20</td>\n",
              "      <td>12</td>\n",
              "    </tr>\n",
              "    <tr>\n",
              "      <th>c</th>\n",
              "      <td>103</td>\n",
              "      <td>77.5</td>\n",
              "      <td>A</td>\n",
              "      <td>10</td>\n",
              "      <td>30</td>\n",
              "      <td>14</td>\n",
              "    </tr>\n",
              "    <tr>\n",
              "      <th>d</th>\n",
              "      <td>104</td>\n",
              "      <td>61.0</td>\n",
              "      <td>A</td>\n",
              "      <td>10</td>\n",
              "      <td>40</td>\n",
              "      <td>16</td>\n",
              "    </tr>\n",
              "  </tbody>\n",
              "</table>\n",
              "</div>\n",
              "      <button class=\"colab-df-convert\" onclick=\"convertToInteractive('df-9a7300b0-fc42-480e-94b5-cb601fb8433c')\"\n",
              "              title=\"Convert this dataframe to an interactive table.\"\n",
              "              style=\"display:none;\">\n",
              "        \n",
              "  <svg xmlns=\"http://www.w3.org/2000/svg\" height=\"24px\"viewBox=\"0 0 24 24\"\n",
              "       width=\"24px\">\n",
              "    <path d=\"M0 0h24v24H0V0z\" fill=\"none\"/>\n",
              "    <path d=\"M18.56 5.44l.94 2.06.94-2.06 2.06-.94-2.06-.94-.94-2.06-.94 2.06-2.06.94zm-11 1L8.5 8.5l.94-2.06 2.06-.94-2.06-.94L8.5 2.5l-.94 2.06-2.06.94zm10 10l.94 2.06.94-2.06 2.06-.94-2.06-.94-.94-2.06-.94 2.06-2.06.94z\"/><path d=\"M17.41 7.96l-1.37-1.37c-.4-.4-.92-.59-1.43-.59-.52 0-1.04.2-1.43.59L10.3 9.45l-7.72 7.72c-.78.78-.78 2.05 0 2.83L4 21.41c.39.39.9.59 1.41.59.51 0 1.02-.2 1.41-.59l7.78-7.78 2.81-2.81c.8-.78.8-2.07 0-2.86zM5.41 20L4 18.59l7.72-7.72 1.47 1.35L5.41 20z\"/>\n",
              "  </svg>\n",
              "      </button>\n",
              "      \n",
              "  <style>\n",
              "    .colab-df-container {\n",
              "      display:flex;\n",
              "      flex-wrap:wrap;\n",
              "      gap: 12px;\n",
              "    }\n",
              "\n",
              "    .colab-df-convert {\n",
              "      background-color: #E8F0FE;\n",
              "      border: none;\n",
              "      border-radius: 50%;\n",
              "      cursor: pointer;\n",
              "      display: none;\n",
              "      fill: #1967D2;\n",
              "      height: 32px;\n",
              "      padding: 0 0 0 0;\n",
              "      width: 32px;\n",
              "    }\n",
              "\n",
              "    .colab-df-convert:hover {\n",
              "      background-color: #E2EBFA;\n",
              "      box-shadow: 0px 1px 2px rgba(60, 64, 67, 0.3), 0px 1px 3px 1px rgba(60, 64, 67, 0.15);\n",
              "      fill: #174EA6;\n",
              "    }\n",
              "\n",
              "    [theme=dark] .colab-df-convert {\n",
              "      background-color: #3B4455;\n",
              "      fill: #D2E3FC;\n",
              "    }\n",
              "\n",
              "    [theme=dark] .colab-df-convert:hover {\n",
              "      background-color: #434B5C;\n",
              "      box-shadow: 0px 1px 3px 1px rgba(0, 0, 0, 0.15);\n",
              "      filter: drop-shadow(0px 1px 2px rgba(0, 0, 0, 0.3));\n",
              "      fill: #FFFFFF;\n",
              "    }\n",
              "  </style>\n",
              "\n",
              "      <script>\n",
              "        const buttonEl =\n",
              "          document.querySelector('#df-9a7300b0-fc42-480e-94b5-cb601fb8433c button.colab-df-convert');\n",
              "        buttonEl.style.display =\n",
              "          google.colab.kernel.accessAllowed ? 'block' : 'none';\n",
              "\n",
              "        async function convertToInteractive(key) {\n",
              "          const element = document.querySelector('#df-9a7300b0-fc42-480e-94b5-cb601fb8433c');\n",
              "          const dataTable =\n",
              "            await google.colab.kernel.invokeFunction('convertToInteractive',\n",
              "                                                     [key], {});\n",
              "          if (!dataTable) return;\n",
              "\n",
              "          const docLinkHtml = 'Like what you see? Visit the ' +\n",
              "            '<a target=\"_blank\" href=https://colab.research.google.com/notebooks/data_table.ipynb>data table notebook</a>'\n",
              "            + ' to learn more about interactive tables.';\n",
              "          element.innerHTML = '';\n",
              "          dataTable['output_type'] = 'display_data';\n",
              "          await google.colab.output.renderOutput(dataTable, element);\n",
              "          const docLink = document.createElement('div');\n",
              "          docLink.innerHTML = docLinkHtml;\n",
              "          element.appendChild(docLink);\n",
              "        }\n",
              "      </script>\n",
              "    </div>\n",
              "  </div>\n",
              "  "
            ]
          },
          "metadata": {},
          "execution_count": 128
        }
      ],
      "source": [
        "df3"
      ]
    },
    {
      "cell_type": "code",
      "execution_count": null,
      "id": "bb332e7f",
      "metadata": {
        "id": "bb332e7f",
        "outputId": "fc879aa8-c5bd-4d69-e95b-7dd7eb823212",
        "colab": {
          "base_uri": "https://localhost:8080/"
        }
      },
      "outputs": [
        {
          "output_type": "execute_result",
          "data": {
            "text/plain": [
              "4"
            ]
          },
          "metadata": {},
          "execution_count": 129
        }
      ],
      "source": [
        "len(df3)"
      ]
    },
    {
      "cell_type": "code",
      "execution_count": null,
      "id": "74258c2c",
      "metadata": {
        "id": "74258c2c"
      },
      "outputs": [],
      "source": [
        "series1 = pd.Series([10, 6, 8, 0, 4, 12, 5], index=['h', 'c', 'a', 'z', 'g', 'e', 'j'])"
      ]
    },
    {
      "cell_type": "code",
      "execution_count": null,
      "id": "bedbedd2",
      "metadata": {
        "id": "bedbedd2",
        "outputId": "f55e7f84-1d20-4a8d-870b-c3dda8ec8445",
        "colab": {
          "base_uri": "https://localhost:8080/"
        }
      },
      "outputs": [
        {
          "output_type": "execute_result",
          "data": {
            "text/plain": [
              "h    10\n",
              "c     6\n",
              "a     8\n",
              "z     0\n",
              "g     4\n",
              "e    12\n",
              "j     5\n",
              "dtype: int64"
            ]
          },
          "metadata": {},
          "execution_count": 131
        }
      ],
      "source": [
        "series1"
      ]
    },
    {
      "cell_type": "code",
      "execution_count": null,
      "id": "44d67f0f",
      "metadata": {
        "id": "44d67f0f",
        "outputId": "b850f875-c899-4079-a003-cbf68cdb520b",
        "colab": {
          "base_uri": "https://localhost:8080/",
          "height": 175
        }
      },
      "outputs": [
        {
          "output_type": "execute_result",
          "data": {
            "text/plain": [
              "   ids  percents grade  col1  col2  col3\n",
              "a  101      81.5     A    10    10    10\n",
              "b  102      90.5     A    10    20    12\n",
              "c  103      77.5     A    10    30    14\n",
              "d  104      61.0     A    10    40    16"
            ],
            "text/html": [
              "\n",
              "  <div id=\"df-61dd2da7-09fc-4eef-a022-d8091f6f02d7\">\n",
              "    <div class=\"colab-df-container\">\n",
              "      <div>\n",
              "<style scoped>\n",
              "    .dataframe tbody tr th:only-of-type {\n",
              "        vertical-align: middle;\n",
              "    }\n",
              "\n",
              "    .dataframe tbody tr th {\n",
              "        vertical-align: top;\n",
              "    }\n",
              "\n",
              "    .dataframe thead th {\n",
              "        text-align: right;\n",
              "    }\n",
              "</style>\n",
              "<table border=\"1\" class=\"dataframe\">\n",
              "  <thead>\n",
              "    <tr style=\"text-align: right;\">\n",
              "      <th></th>\n",
              "      <th>ids</th>\n",
              "      <th>percents</th>\n",
              "      <th>grade</th>\n",
              "      <th>col1</th>\n",
              "      <th>col2</th>\n",
              "      <th>col3</th>\n",
              "    </tr>\n",
              "  </thead>\n",
              "  <tbody>\n",
              "    <tr>\n",
              "      <th>a</th>\n",
              "      <td>101</td>\n",
              "      <td>81.5</td>\n",
              "      <td>A</td>\n",
              "      <td>10</td>\n",
              "      <td>10</td>\n",
              "      <td>10</td>\n",
              "    </tr>\n",
              "    <tr>\n",
              "      <th>b</th>\n",
              "      <td>102</td>\n",
              "      <td>90.5</td>\n",
              "      <td>A</td>\n",
              "      <td>10</td>\n",
              "      <td>20</td>\n",
              "      <td>12</td>\n",
              "    </tr>\n",
              "    <tr>\n",
              "      <th>c</th>\n",
              "      <td>103</td>\n",
              "      <td>77.5</td>\n",
              "      <td>A</td>\n",
              "      <td>10</td>\n",
              "      <td>30</td>\n",
              "      <td>14</td>\n",
              "    </tr>\n",
              "    <tr>\n",
              "      <th>d</th>\n",
              "      <td>104</td>\n",
              "      <td>61.0</td>\n",
              "      <td>A</td>\n",
              "      <td>10</td>\n",
              "      <td>40</td>\n",
              "      <td>16</td>\n",
              "    </tr>\n",
              "  </tbody>\n",
              "</table>\n",
              "</div>\n",
              "      <button class=\"colab-df-convert\" onclick=\"convertToInteractive('df-61dd2da7-09fc-4eef-a022-d8091f6f02d7')\"\n",
              "              title=\"Convert this dataframe to an interactive table.\"\n",
              "              style=\"display:none;\">\n",
              "        \n",
              "  <svg xmlns=\"http://www.w3.org/2000/svg\" height=\"24px\"viewBox=\"0 0 24 24\"\n",
              "       width=\"24px\">\n",
              "    <path d=\"M0 0h24v24H0V0z\" fill=\"none\"/>\n",
              "    <path d=\"M18.56 5.44l.94 2.06.94-2.06 2.06-.94-2.06-.94-.94-2.06-.94 2.06-2.06.94zm-11 1L8.5 8.5l.94-2.06 2.06-.94-2.06-.94L8.5 2.5l-.94 2.06-2.06.94zm10 10l.94 2.06.94-2.06 2.06-.94-2.06-.94-.94-2.06-.94 2.06-2.06.94z\"/><path d=\"M17.41 7.96l-1.37-1.37c-.4-.4-.92-.59-1.43-.59-.52 0-1.04.2-1.43.59L10.3 9.45l-7.72 7.72c-.78.78-.78 2.05 0 2.83L4 21.41c.39.39.9.59 1.41.59.51 0 1.02-.2 1.41-.59l7.78-7.78 2.81-2.81c.8-.78.8-2.07 0-2.86zM5.41 20L4 18.59l7.72-7.72 1.47 1.35L5.41 20z\"/>\n",
              "  </svg>\n",
              "      </button>\n",
              "      \n",
              "  <style>\n",
              "    .colab-df-container {\n",
              "      display:flex;\n",
              "      flex-wrap:wrap;\n",
              "      gap: 12px;\n",
              "    }\n",
              "\n",
              "    .colab-df-convert {\n",
              "      background-color: #E8F0FE;\n",
              "      border: none;\n",
              "      border-radius: 50%;\n",
              "      cursor: pointer;\n",
              "      display: none;\n",
              "      fill: #1967D2;\n",
              "      height: 32px;\n",
              "      padding: 0 0 0 0;\n",
              "      width: 32px;\n",
              "    }\n",
              "\n",
              "    .colab-df-convert:hover {\n",
              "      background-color: #E2EBFA;\n",
              "      box-shadow: 0px 1px 2px rgba(60, 64, 67, 0.3), 0px 1px 3px 1px rgba(60, 64, 67, 0.15);\n",
              "      fill: #174EA6;\n",
              "    }\n",
              "\n",
              "    [theme=dark] .colab-df-convert {\n",
              "      background-color: #3B4455;\n",
              "      fill: #D2E3FC;\n",
              "    }\n",
              "\n",
              "    [theme=dark] .colab-df-convert:hover {\n",
              "      background-color: #434B5C;\n",
              "      box-shadow: 0px 1px 3px 1px rgba(0, 0, 0, 0.15);\n",
              "      filter: drop-shadow(0px 1px 2px rgba(0, 0, 0, 0.3));\n",
              "      fill: #FFFFFF;\n",
              "    }\n",
              "  </style>\n",
              "\n",
              "      <script>\n",
              "        const buttonEl =\n",
              "          document.querySelector('#df-61dd2da7-09fc-4eef-a022-d8091f6f02d7 button.colab-df-convert');\n",
              "        buttonEl.style.display =\n",
              "          google.colab.kernel.accessAllowed ? 'block' : 'none';\n",
              "\n",
              "        async function convertToInteractive(key) {\n",
              "          const element = document.querySelector('#df-61dd2da7-09fc-4eef-a022-d8091f6f02d7');\n",
              "          const dataTable =\n",
              "            await google.colab.kernel.invokeFunction('convertToInteractive',\n",
              "                                                     [key], {});\n",
              "          if (!dataTable) return;\n",
              "\n",
              "          const docLinkHtml = 'Like what you see? Visit the ' +\n",
              "            '<a target=\"_blank\" href=https://colab.research.google.com/notebooks/data_table.ipynb>data table notebook</a>'\n",
              "            + ' to learn more about interactive tables.';\n",
              "          element.innerHTML = '';\n",
              "          dataTable['output_type'] = 'display_data';\n",
              "          await google.colab.output.renderOutput(dataTable, element);\n",
              "          const docLink = document.createElement('div');\n",
              "          docLink.innerHTML = docLinkHtml;\n",
              "          element.appendChild(docLink);\n",
              "        }\n",
              "      </script>\n",
              "    </div>\n",
              "  </div>\n",
              "  "
            ]
          },
          "metadata": {},
          "execution_count": 132
        }
      ],
      "source": [
        "df3"
      ]
    },
    {
      "cell_type": "code",
      "execution_count": null,
      "id": "e8427085",
      "metadata": {
        "id": "e8427085"
      },
      "outputs": [],
      "source": [
        "df3['col4'] = series1 # Here if the series index is availabe it will add else add NaN"
      ]
    },
    {
      "cell_type": "code",
      "execution_count": null,
      "id": "70392dde",
      "metadata": {
        "id": "70392dde",
        "outputId": "07844216-6ae0-4ad8-9670-3e2d1f843979",
        "colab": {
          "base_uri": "https://localhost:8080/",
          "height": 175
        }
      },
      "outputs": [
        {
          "output_type": "execute_result",
          "data": {
            "text/plain": [
              "   ids  percents grade  col1  col2  col3  col4\n",
              "a  101      81.5     A    10    10    10   8.0\n",
              "b  102      90.5     A    10    20    12   NaN\n",
              "c  103      77.5     A    10    30    14   6.0\n",
              "d  104      61.0     A    10    40    16   NaN"
            ],
            "text/html": [
              "\n",
              "  <div id=\"df-b633e4b4-132d-4785-ba90-f7d987819845\">\n",
              "    <div class=\"colab-df-container\">\n",
              "      <div>\n",
              "<style scoped>\n",
              "    .dataframe tbody tr th:only-of-type {\n",
              "        vertical-align: middle;\n",
              "    }\n",
              "\n",
              "    .dataframe tbody tr th {\n",
              "        vertical-align: top;\n",
              "    }\n",
              "\n",
              "    .dataframe thead th {\n",
              "        text-align: right;\n",
              "    }\n",
              "</style>\n",
              "<table border=\"1\" class=\"dataframe\">\n",
              "  <thead>\n",
              "    <tr style=\"text-align: right;\">\n",
              "      <th></th>\n",
              "      <th>ids</th>\n",
              "      <th>percents</th>\n",
              "      <th>grade</th>\n",
              "      <th>col1</th>\n",
              "      <th>col2</th>\n",
              "      <th>col3</th>\n",
              "      <th>col4</th>\n",
              "    </tr>\n",
              "  </thead>\n",
              "  <tbody>\n",
              "    <tr>\n",
              "      <th>a</th>\n",
              "      <td>101</td>\n",
              "      <td>81.5</td>\n",
              "      <td>A</td>\n",
              "      <td>10</td>\n",
              "      <td>10</td>\n",
              "      <td>10</td>\n",
              "      <td>8.0</td>\n",
              "    </tr>\n",
              "    <tr>\n",
              "      <th>b</th>\n",
              "      <td>102</td>\n",
              "      <td>90.5</td>\n",
              "      <td>A</td>\n",
              "      <td>10</td>\n",
              "      <td>20</td>\n",
              "      <td>12</td>\n",
              "      <td>NaN</td>\n",
              "    </tr>\n",
              "    <tr>\n",
              "      <th>c</th>\n",
              "      <td>103</td>\n",
              "      <td>77.5</td>\n",
              "      <td>A</td>\n",
              "      <td>10</td>\n",
              "      <td>30</td>\n",
              "      <td>14</td>\n",
              "      <td>6.0</td>\n",
              "    </tr>\n",
              "    <tr>\n",
              "      <th>d</th>\n",
              "      <td>104</td>\n",
              "      <td>61.0</td>\n",
              "      <td>A</td>\n",
              "      <td>10</td>\n",
              "      <td>40</td>\n",
              "      <td>16</td>\n",
              "      <td>NaN</td>\n",
              "    </tr>\n",
              "  </tbody>\n",
              "</table>\n",
              "</div>\n",
              "      <button class=\"colab-df-convert\" onclick=\"convertToInteractive('df-b633e4b4-132d-4785-ba90-f7d987819845')\"\n",
              "              title=\"Convert this dataframe to an interactive table.\"\n",
              "              style=\"display:none;\">\n",
              "        \n",
              "  <svg xmlns=\"http://www.w3.org/2000/svg\" height=\"24px\"viewBox=\"0 0 24 24\"\n",
              "       width=\"24px\">\n",
              "    <path d=\"M0 0h24v24H0V0z\" fill=\"none\"/>\n",
              "    <path d=\"M18.56 5.44l.94 2.06.94-2.06 2.06-.94-2.06-.94-.94-2.06-.94 2.06-2.06.94zm-11 1L8.5 8.5l.94-2.06 2.06-.94-2.06-.94L8.5 2.5l-.94 2.06-2.06.94zm10 10l.94 2.06.94-2.06 2.06-.94-2.06-.94-.94-2.06-.94 2.06-2.06.94z\"/><path d=\"M17.41 7.96l-1.37-1.37c-.4-.4-.92-.59-1.43-.59-.52 0-1.04.2-1.43.59L10.3 9.45l-7.72 7.72c-.78.78-.78 2.05 0 2.83L4 21.41c.39.39.9.59 1.41.59.51 0 1.02-.2 1.41-.59l7.78-7.78 2.81-2.81c.8-.78.8-2.07 0-2.86zM5.41 20L4 18.59l7.72-7.72 1.47 1.35L5.41 20z\"/>\n",
              "  </svg>\n",
              "      </button>\n",
              "      \n",
              "  <style>\n",
              "    .colab-df-container {\n",
              "      display:flex;\n",
              "      flex-wrap:wrap;\n",
              "      gap: 12px;\n",
              "    }\n",
              "\n",
              "    .colab-df-convert {\n",
              "      background-color: #E8F0FE;\n",
              "      border: none;\n",
              "      border-radius: 50%;\n",
              "      cursor: pointer;\n",
              "      display: none;\n",
              "      fill: #1967D2;\n",
              "      height: 32px;\n",
              "      padding: 0 0 0 0;\n",
              "      width: 32px;\n",
              "    }\n",
              "\n",
              "    .colab-df-convert:hover {\n",
              "      background-color: #E2EBFA;\n",
              "      box-shadow: 0px 1px 2px rgba(60, 64, 67, 0.3), 0px 1px 3px 1px rgba(60, 64, 67, 0.15);\n",
              "      fill: #174EA6;\n",
              "    }\n",
              "\n",
              "    [theme=dark] .colab-df-convert {\n",
              "      background-color: #3B4455;\n",
              "      fill: #D2E3FC;\n",
              "    }\n",
              "\n",
              "    [theme=dark] .colab-df-convert:hover {\n",
              "      background-color: #434B5C;\n",
              "      box-shadow: 0px 1px 3px 1px rgba(0, 0, 0, 0.15);\n",
              "      filter: drop-shadow(0px 1px 2px rgba(0, 0, 0, 0.3));\n",
              "      fill: #FFFFFF;\n",
              "    }\n",
              "  </style>\n",
              "\n",
              "      <script>\n",
              "        const buttonEl =\n",
              "          document.querySelector('#df-b633e4b4-132d-4785-ba90-f7d987819845 button.colab-df-convert');\n",
              "        buttonEl.style.display =\n",
              "          google.colab.kernel.accessAllowed ? 'block' : 'none';\n",
              "\n",
              "        async function convertToInteractive(key) {\n",
              "          const element = document.querySelector('#df-b633e4b4-132d-4785-ba90-f7d987819845');\n",
              "          const dataTable =\n",
              "            await google.colab.kernel.invokeFunction('convertToInteractive',\n",
              "                                                     [key], {});\n",
              "          if (!dataTable) return;\n",
              "\n",
              "          const docLinkHtml = 'Like what you see? Visit the ' +\n",
              "            '<a target=\"_blank\" href=https://colab.research.google.com/notebooks/data_table.ipynb>data table notebook</a>'\n",
              "            + ' to learn more about interactive tables.';\n",
              "          element.innerHTML = '';\n",
              "          dataTable['output_type'] = 'display_data';\n",
              "          await google.colab.output.renderOutput(dataTable, element);\n",
              "          const docLink = document.createElement('div');\n",
              "          docLink.innerHTML = docLinkHtml;\n",
              "          element.appendChild(docLink);\n",
              "        }\n",
              "      </script>\n",
              "    </div>\n",
              "  </div>\n",
              "  "
            ]
          },
          "metadata": {},
          "execution_count": 134
        }
      ],
      "source": [
        "df3"
      ]
    },
    {
      "cell_type": "code",
      "execution_count": null,
      "id": "3ac6fb49",
      "metadata": {
        "id": "3ac6fb49",
        "outputId": "38b3b9d7-fac8-4e0d-adec-e07d2585bac9",
        "colab": {
          "base_uri": "https://localhost:8080/",
          "height": 175
        }
      },
      "outputs": [
        {
          "output_type": "execute_result",
          "data": {
            "text/plain": [
              "   ids  percents grade  col1  col2  col3  col4\n",
              "a  101      81.5     A    10    10    10   8.0\n",
              "b  102      90.5     A    10    20    12   NaN\n",
              "c  103      77.5     A    10    30    20   6.0\n",
              "d  104      61.0     A    10    40    16   NaN"
            ],
            "text/html": [
              "\n",
              "  <div id=\"df-bcac2293-eeb9-419b-8cea-30e948568d56\">\n",
              "    <div class=\"colab-df-container\">\n",
              "      <div>\n",
              "<style scoped>\n",
              "    .dataframe tbody tr th:only-of-type {\n",
              "        vertical-align: middle;\n",
              "    }\n",
              "\n",
              "    .dataframe tbody tr th {\n",
              "        vertical-align: top;\n",
              "    }\n",
              "\n",
              "    .dataframe thead th {\n",
              "        text-align: right;\n",
              "    }\n",
              "</style>\n",
              "<table border=\"1\" class=\"dataframe\">\n",
              "  <thead>\n",
              "    <tr style=\"text-align: right;\">\n",
              "      <th></th>\n",
              "      <th>ids</th>\n",
              "      <th>percents</th>\n",
              "      <th>grade</th>\n",
              "      <th>col1</th>\n",
              "      <th>col2</th>\n",
              "      <th>col3</th>\n",
              "      <th>col4</th>\n",
              "    </tr>\n",
              "  </thead>\n",
              "  <tbody>\n",
              "    <tr>\n",
              "      <th>a</th>\n",
              "      <td>101</td>\n",
              "      <td>81.5</td>\n",
              "      <td>A</td>\n",
              "      <td>10</td>\n",
              "      <td>10</td>\n",
              "      <td>10</td>\n",
              "      <td>8.0</td>\n",
              "    </tr>\n",
              "    <tr>\n",
              "      <th>b</th>\n",
              "      <td>102</td>\n",
              "      <td>90.5</td>\n",
              "      <td>A</td>\n",
              "      <td>10</td>\n",
              "      <td>20</td>\n",
              "      <td>12</td>\n",
              "      <td>NaN</td>\n",
              "    </tr>\n",
              "    <tr>\n",
              "      <th>c</th>\n",
              "      <td>103</td>\n",
              "      <td>77.5</td>\n",
              "      <td>A</td>\n",
              "      <td>10</td>\n",
              "      <td>30</td>\n",
              "      <td>20</td>\n",
              "      <td>6.0</td>\n",
              "    </tr>\n",
              "    <tr>\n",
              "      <th>d</th>\n",
              "      <td>104</td>\n",
              "      <td>61.0</td>\n",
              "      <td>A</td>\n",
              "      <td>10</td>\n",
              "      <td>40</td>\n",
              "      <td>16</td>\n",
              "      <td>NaN</td>\n",
              "    </tr>\n",
              "  </tbody>\n",
              "</table>\n",
              "</div>\n",
              "      <button class=\"colab-df-convert\" onclick=\"convertToInteractive('df-bcac2293-eeb9-419b-8cea-30e948568d56')\"\n",
              "              title=\"Convert this dataframe to an interactive table.\"\n",
              "              style=\"display:none;\">\n",
              "        \n",
              "  <svg xmlns=\"http://www.w3.org/2000/svg\" height=\"24px\"viewBox=\"0 0 24 24\"\n",
              "       width=\"24px\">\n",
              "    <path d=\"M0 0h24v24H0V0z\" fill=\"none\"/>\n",
              "    <path d=\"M18.56 5.44l.94 2.06.94-2.06 2.06-.94-2.06-.94-.94-2.06-.94 2.06-2.06.94zm-11 1L8.5 8.5l.94-2.06 2.06-.94-2.06-.94L8.5 2.5l-.94 2.06-2.06.94zm10 10l.94 2.06.94-2.06 2.06-.94-2.06-.94-.94-2.06-.94 2.06-2.06.94z\"/><path d=\"M17.41 7.96l-1.37-1.37c-.4-.4-.92-.59-1.43-.59-.52 0-1.04.2-1.43.59L10.3 9.45l-7.72 7.72c-.78.78-.78 2.05 0 2.83L4 21.41c.39.39.9.59 1.41.59.51 0 1.02-.2 1.41-.59l7.78-7.78 2.81-2.81c.8-.78.8-2.07 0-2.86zM5.41 20L4 18.59l7.72-7.72 1.47 1.35L5.41 20z\"/>\n",
              "  </svg>\n",
              "      </button>\n",
              "      \n",
              "  <style>\n",
              "    .colab-df-container {\n",
              "      display:flex;\n",
              "      flex-wrap:wrap;\n",
              "      gap: 12px;\n",
              "    }\n",
              "\n",
              "    .colab-df-convert {\n",
              "      background-color: #E8F0FE;\n",
              "      border: none;\n",
              "      border-radius: 50%;\n",
              "      cursor: pointer;\n",
              "      display: none;\n",
              "      fill: #1967D2;\n",
              "      height: 32px;\n",
              "      padding: 0 0 0 0;\n",
              "      width: 32px;\n",
              "    }\n",
              "\n",
              "    .colab-df-convert:hover {\n",
              "      background-color: #E2EBFA;\n",
              "      box-shadow: 0px 1px 2px rgba(60, 64, 67, 0.3), 0px 1px 3px 1px rgba(60, 64, 67, 0.15);\n",
              "      fill: #174EA6;\n",
              "    }\n",
              "\n",
              "    [theme=dark] .colab-df-convert {\n",
              "      background-color: #3B4455;\n",
              "      fill: #D2E3FC;\n",
              "    }\n",
              "\n",
              "    [theme=dark] .colab-df-convert:hover {\n",
              "      background-color: #434B5C;\n",
              "      box-shadow: 0px 1px 3px 1px rgba(0, 0, 0, 0.15);\n",
              "      filter: drop-shadow(0px 1px 2px rgba(0, 0, 0, 0.3));\n",
              "      fill: #FFFFFF;\n",
              "    }\n",
              "  </style>\n",
              "\n",
              "      <script>\n",
              "        const buttonEl =\n",
              "          document.querySelector('#df-bcac2293-eeb9-419b-8cea-30e948568d56 button.colab-df-convert');\n",
              "        buttonEl.style.display =\n",
              "          google.colab.kernel.accessAllowed ? 'block' : 'none';\n",
              "\n",
              "        async function convertToInteractive(key) {\n",
              "          const element = document.querySelector('#df-bcac2293-eeb9-419b-8cea-30e948568d56');\n",
              "          const dataTable =\n",
              "            await google.colab.kernel.invokeFunction('convertToInteractive',\n",
              "                                                     [key], {});\n",
              "          if (!dataTable) return;\n",
              "\n",
              "          const docLinkHtml = 'Like what you see? Visit the ' +\n",
              "            '<a target=\"_blank\" href=https://colab.research.google.com/notebooks/data_table.ipynb>data table notebook</a>'\n",
              "            + ' to learn more about interactive tables.';\n",
              "          element.innerHTML = '';\n",
              "          dataTable['output_type'] = 'display_data';\n",
              "          await google.colab.output.renderOutput(dataTable, element);\n",
              "          const docLink = document.createElement('div');\n",
              "          docLink.innerHTML = docLinkHtml;\n",
              "          element.appendChild(docLink);\n",
              "        }\n",
              "      </script>\n",
              "    </div>\n",
              "  </div>\n",
              "  "
            ]
          },
          "metadata": {},
          "execution_count": 135
        }
      ],
      "source": [
        "df3.replace(14, 20) # Replace all value 14 to 20. But not in permenent added"
      ]
    },
    {
      "cell_type": "code",
      "execution_count": null,
      "id": "abdb023a",
      "metadata": {
        "id": "abdb023a",
        "outputId": "5846f0ef-237a-4495-cf47-e44905471064",
        "colab": {
          "base_uri": "https://localhost:8080/",
          "height": 175
        }
      },
      "outputs": [
        {
          "output_type": "execute_result",
          "data": {
            "text/plain": [
              "   ids  percents grade  col1  col2  col3  col4\n",
              "a  101      81.5     A    10    10    10   8.0\n",
              "b  102      90.5     A    10    20    12   NaN\n",
              "c  103      77.5     A    10    30    14   6.0\n",
              "d  104      61.0     A    10    40    16   NaN"
            ],
            "text/html": [
              "\n",
              "  <div id=\"df-b1bb7ae5-8283-4730-9afa-29d720b96ff0\">\n",
              "    <div class=\"colab-df-container\">\n",
              "      <div>\n",
              "<style scoped>\n",
              "    .dataframe tbody tr th:only-of-type {\n",
              "        vertical-align: middle;\n",
              "    }\n",
              "\n",
              "    .dataframe tbody tr th {\n",
              "        vertical-align: top;\n",
              "    }\n",
              "\n",
              "    .dataframe thead th {\n",
              "        text-align: right;\n",
              "    }\n",
              "</style>\n",
              "<table border=\"1\" class=\"dataframe\">\n",
              "  <thead>\n",
              "    <tr style=\"text-align: right;\">\n",
              "      <th></th>\n",
              "      <th>ids</th>\n",
              "      <th>percents</th>\n",
              "      <th>grade</th>\n",
              "      <th>col1</th>\n",
              "      <th>col2</th>\n",
              "      <th>col3</th>\n",
              "      <th>col4</th>\n",
              "    </tr>\n",
              "  </thead>\n",
              "  <tbody>\n",
              "    <tr>\n",
              "      <th>a</th>\n",
              "      <td>101</td>\n",
              "      <td>81.5</td>\n",
              "      <td>A</td>\n",
              "      <td>10</td>\n",
              "      <td>10</td>\n",
              "      <td>10</td>\n",
              "      <td>8.0</td>\n",
              "    </tr>\n",
              "    <tr>\n",
              "      <th>b</th>\n",
              "      <td>102</td>\n",
              "      <td>90.5</td>\n",
              "      <td>A</td>\n",
              "      <td>10</td>\n",
              "      <td>20</td>\n",
              "      <td>12</td>\n",
              "      <td>NaN</td>\n",
              "    </tr>\n",
              "    <tr>\n",
              "      <th>c</th>\n",
              "      <td>103</td>\n",
              "      <td>77.5</td>\n",
              "      <td>A</td>\n",
              "      <td>10</td>\n",
              "      <td>30</td>\n",
              "      <td>14</td>\n",
              "      <td>6.0</td>\n",
              "    </tr>\n",
              "    <tr>\n",
              "      <th>d</th>\n",
              "      <td>104</td>\n",
              "      <td>61.0</td>\n",
              "      <td>A</td>\n",
              "      <td>10</td>\n",
              "      <td>40</td>\n",
              "      <td>16</td>\n",
              "      <td>NaN</td>\n",
              "    </tr>\n",
              "  </tbody>\n",
              "</table>\n",
              "</div>\n",
              "      <button class=\"colab-df-convert\" onclick=\"convertToInteractive('df-b1bb7ae5-8283-4730-9afa-29d720b96ff0')\"\n",
              "              title=\"Convert this dataframe to an interactive table.\"\n",
              "              style=\"display:none;\">\n",
              "        \n",
              "  <svg xmlns=\"http://www.w3.org/2000/svg\" height=\"24px\"viewBox=\"0 0 24 24\"\n",
              "       width=\"24px\">\n",
              "    <path d=\"M0 0h24v24H0V0z\" fill=\"none\"/>\n",
              "    <path d=\"M18.56 5.44l.94 2.06.94-2.06 2.06-.94-2.06-.94-.94-2.06-.94 2.06-2.06.94zm-11 1L8.5 8.5l.94-2.06 2.06-.94-2.06-.94L8.5 2.5l-.94 2.06-2.06.94zm10 10l.94 2.06.94-2.06 2.06-.94-2.06-.94-.94-2.06-.94 2.06-2.06.94z\"/><path d=\"M17.41 7.96l-1.37-1.37c-.4-.4-.92-.59-1.43-.59-.52 0-1.04.2-1.43.59L10.3 9.45l-7.72 7.72c-.78.78-.78 2.05 0 2.83L4 21.41c.39.39.9.59 1.41.59.51 0 1.02-.2 1.41-.59l7.78-7.78 2.81-2.81c.8-.78.8-2.07 0-2.86zM5.41 20L4 18.59l7.72-7.72 1.47 1.35L5.41 20z\"/>\n",
              "  </svg>\n",
              "      </button>\n",
              "      \n",
              "  <style>\n",
              "    .colab-df-container {\n",
              "      display:flex;\n",
              "      flex-wrap:wrap;\n",
              "      gap: 12px;\n",
              "    }\n",
              "\n",
              "    .colab-df-convert {\n",
              "      background-color: #E8F0FE;\n",
              "      border: none;\n",
              "      border-radius: 50%;\n",
              "      cursor: pointer;\n",
              "      display: none;\n",
              "      fill: #1967D2;\n",
              "      height: 32px;\n",
              "      padding: 0 0 0 0;\n",
              "      width: 32px;\n",
              "    }\n",
              "\n",
              "    .colab-df-convert:hover {\n",
              "      background-color: #E2EBFA;\n",
              "      box-shadow: 0px 1px 2px rgba(60, 64, 67, 0.3), 0px 1px 3px 1px rgba(60, 64, 67, 0.15);\n",
              "      fill: #174EA6;\n",
              "    }\n",
              "\n",
              "    [theme=dark] .colab-df-convert {\n",
              "      background-color: #3B4455;\n",
              "      fill: #D2E3FC;\n",
              "    }\n",
              "\n",
              "    [theme=dark] .colab-df-convert:hover {\n",
              "      background-color: #434B5C;\n",
              "      box-shadow: 0px 1px 3px 1px rgba(0, 0, 0, 0.15);\n",
              "      filter: drop-shadow(0px 1px 2px rgba(0, 0, 0, 0.3));\n",
              "      fill: #FFFFFF;\n",
              "    }\n",
              "  </style>\n",
              "\n",
              "      <script>\n",
              "        const buttonEl =\n",
              "          document.querySelector('#df-b1bb7ae5-8283-4730-9afa-29d720b96ff0 button.colab-df-convert');\n",
              "        buttonEl.style.display =\n",
              "          google.colab.kernel.accessAllowed ? 'block' : 'none';\n",
              "\n",
              "        async function convertToInteractive(key) {\n",
              "          const element = document.querySelector('#df-b1bb7ae5-8283-4730-9afa-29d720b96ff0');\n",
              "          const dataTable =\n",
              "            await google.colab.kernel.invokeFunction('convertToInteractive',\n",
              "                                                     [key], {});\n",
              "          if (!dataTable) return;\n",
              "\n",
              "          const docLinkHtml = 'Like what you see? Visit the ' +\n",
              "            '<a target=\"_blank\" href=https://colab.research.google.com/notebooks/data_table.ipynb>data table notebook</a>'\n",
              "            + ' to learn more about interactive tables.';\n",
              "          element.innerHTML = '';\n",
              "          dataTable['output_type'] = 'display_data';\n",
              "          await google.colab.output.renderOutput(dataTable, element);\n",
              "          const docLink = document.createElement('div');\n",
              "          docLink.innerHTML = docLinkHtml;\n",
              "          element.appendChild(docLink);\n",
              "        }\n",
              "      </script>\n",
              "    </div>\n",
              "  </div>\n",
              "  "
            ]
          },
          "metadata": {},
          "execution_count": 136
        }
      ],
      "source": [
        "df3"
      ]
    },
    {
      "cell_type": "code",
      "execution_count": null,
      "id": "1afa4383",
      "metadata": {
        "id": "1afa4383"
      },
      "outputs": [],
      "source": [
        "df3.replace(14, 20, inplace=True)  # Replace all value 14 to 20. make it permenent"
      ]
    },
    {
      "cell_type": "code",
      "execution_count": null,
      "id": "77266d55",
      "metadata": {
        "id": "77266d55",
        "outputId": "1291a26a-b1ee-4207-e47a-27a84b80c966",
        "colab": {
          "base_uri": "https://localhost:8080/",
          "height": 175
        }
      },
      "outputs": [
        {
          "output_type": "execute_result",
          "data": {
            "text/plain": [
              "   ids  percents grade  col1  col2  col3  col4\n",
              "a  101      81.5     A    10    10    10   8.0\n",
              "b  102      90.5     A    10    20    12   NaN\n",
              "c  103      77.5     A    10    30    20   6.0\n",
              "d  104      61.0     A    10    40    16   NaN"
            ],
            "text/html": [
              "\n",
              "  <div id=\"df-63ae18f9-d741-42f8-a4c7-ab6b2a2029dc\">\n",
              "    <div class=\"colab-df-container\">\n",
              "      <div>\n",
              "<style scoped>\n",
              "    .dataframe tbody tr th:only-of-type {\n",
              "        vertical-align: middle;\n",
              "    }\n",
              "\n",
              "    .dataframe tbody tr th {\n",
              "        vertical-align: top;\n",
              "    }\n",
              "\n",
              "    .dataframe thead th {\n",
              "        text-align: right;\n",
              "    }\n",
              "</style>\n",
              "<table border=\"1\" class=\"dataframe\">\n",
              "  <thead>\n",
              "    <tr style=\"text-align: right;\">\n",
              "      <th></th>\n",
              "      <th>ids</th>\n",
              "      <th>percents</th>\n",
              "      <th>grade</th>\n",
              "      <th>col1</th>\n",
              "      <th>col2</th>\n",
              "      <th>col3</th>\n",
              "      <th>col4</th>\n",
              "    </tr>\n",
              "  </thead>\n",
              "  <tbody>\n",
              "    <tr>\n",
              "      <th>a</th>\n",
              "      <td>101</td>\n",
              "      <td>81.5</td>\n",
              "      <td>A</td>\n",
              "      <td>10</td>\n",
              "      <td>10</td>\n",
              "      <td>10</td>\n",
              "      <td>8.0</td>\n",
              "    </tr>\n",
              "    <tr>\n",
              "      <th>b</th>\n",
              "      <td>102</td>\n",
              "      <td>90.5</td>\n",
              "      <td>A</td>\n",
              "      <td>10</td>\n",
              "      <td>20</td>\n",
              "      <td>12</td>\n",
              "      <td>NaN</td>\n",
              "    </tr>\n",
              "    <tr>\n",
              "      <th>c</th>\n",
              "      <td>103</td>\n",
              "      <td>77.5</td>\n",
              "      <td>A</td>\n",
              "      <td>10</td>\n",
              "      <td>30</td>\n",
              "      <td>20</td>\n",
              "      <td>6.0</td>\n",
              "    </tr>\n",
              "    <tr>\n",
              "      <th>d</th>\n",
              "      <td>104</td>\n",
              "      <td>61.0</td>\n",
              "      <td>A</td>\n",
              "      <td>10</td>\n",
              "      <td>40</td>\n",
              "      <td>16</td>\n",
              "      <td>NaN</td>\n",
              "    </tr>\n",
              "  </tbody>\n",
              "</table>\n",
              "</div>\n",
              "      <button class=\"colab-df-convert\" onclick=\"convertToInteractive('df-63ae18f9-d741-42f8-a4c7-ab6b2a2029dc')\"\n",
              "              title=\"Convert this dataframe to an interactive table.\"\n",
              "              style=\"display:none;\">\n",
              "        \n",
              "  <svg xmlns=\"http://www.w3.org/2000/svg\" height=\"24px\"viewBox=\"0 0 24 24\"\n",
              "       width=\"24px\">\n",
              "    <path d=\"M0 0h24v24H0V0z\" fill=\"none\"/>\n",
              "    <path d=\"M18.56 5.44l.94 2.06.94-2.06 2.06-.94-2.06-.94-.94-2.06-.94 2.06-2.06.94zm-11 1L8.5 8.5l.94-2.06 2.06-.94-2.06-.94L8.5 2.5l-.94 2.06-2.06.94zm10 10l.94 2.06.94-2.06 2.06-.94-2.06-.94-.94-2.06-.94 2.06-2.06.94z\"/><path d=\"M17.41 7.96l-1.37-1.37c-.4-.4-.92-.59-1.43-.59-.52 0-1.04.2-1.43.59L10.3 9.45l-7.72 7.72c-.78.78-.78 2.05 0 2.83L4 21.41c.39.39.9.59 1.41.59.51 0 1.02-.2 1.41-.59l7.78-7.78 2.81-2.81c.8-.78.8-2.07 0-2.86zM5.41 20L4 18.59l7.72-7.72 1.47 1.35L5.41 20z\"/>\n",
              "  </svg>\n",
              "      </button>\n",
              "      \n",
              "  <style>\n",
              "    .colab-df-container {\n",
              "      display:flex;\n",
              "      flex-wrap:wrap;\n",
              "      gap: 12px;\n",
              "    }\n",
              "\n",
              "    .colab-df-convert {\n",
              "      background-color: #E8F0FE;\n",
              "      border: none;\n",
              "      border-radius: 50%;\n",
              "      cursor: pointer;\n",
              "      display: none;\n",
              "      fill: #1967D2;\n",
              "      height: 32px;\n",
              "      padding: 0 0 0 0;\n",
              "      width: 32px;\n",
              "    }\n",
              "\n",
              "    .colab-df-convert:hover {\n",
              "      background-color: #E2EBFA;\n",
              "      box-shadow: 0px 1px 2px rgba(60, 64, 67, 0.3), 0px 1px 3px 1px rgba(60, 64, 67, 0.15);\n",
              "      fill: #174EA6;\n",
              "    }\n",
              "\n",
              "    [theme=dark] .colab-df-convert {\n",
              "      background-color: #3B4455;\n",
              "      fill: #D2E3FC;\n",
              "    }\n",
              "\n",
              "    [theme=dark] .colab-df-convert:hover {\n",
              "      background-color: #434B5C;\n",
              "      box-shadow: 0px 1px 3px 1px rgba(0, 0, 0, 0.15);\n",
              "      filter: drop-shadow(0px 1px 2px rgba(0, 0, 0, 0.3));\n",
              "      fill: #FFFFFF;\n",
              "    }\n",
              "  </style>\n",
              "\n",
              "      <script>\n",
              "        const buttonEl =\n",
              "          document.querySelector('#df-63ae18f9-d741-42f8-a4c7-ab6b2a2029dc button.colab-df-convert');\n",
              "        buttonEl.style.display =\n",
              "          google.colab.kernel.accessAllowed ? 'block' : 'none';\n",
              "\n",
              "        async function convertToInteractive(key) {\n",
              "          const element = document.querySelector('#df-63ae18f9-d741-42f8-a4c7-ab6b2a2029dc');\n",
              "          const dataTable =\n",
              "            await google.colab.kernel.invokeFunction('convertToInteractive',\n",
              "                                                     [key], {});\n",
              "          if (!dataTable) return;\n",
              "\n",
              "          const docLinkHtml = 'Like what you see? Visit the ' +\n",
              "            '<a target=\"_blank\" href=https://colab.research.google.com/notebooks/data_table.ipynb>data table notebook</a>'\n",
              "            + ' to learn more about interactive tables.';\n",
              "          element.innerHTML = '';\n",
              "          dataTable['output_type'] = 'display_data';\n",
              "          await google.colab.output.renderOutput(dataTable, element);\n",
              "          const docLink = document.createElement('div');\n",
              "          docLink.innerHTML = docLinkHtml;\n",
              "          element.appendChild(docLink);\n",
              "        }\n",
              "      </script>\n",
              "    </div>\n",
              "  </div>\n",
              "  "
            ]
          },
          "metadata": {},
          "execution_count": 138
        }
      ],
      "source": [
        "df3"
      ]
    },
    {
      "cell_type": "markdown",
      "source": [
        "#### drop()"
      ],
      "metadata": {
        "id": "_DDQWAT2dqoA"
      },
      "id": "_DDQWAT2dqoA"
    },
    {
      "cell_type": "code",
      "execution_count": null,
      "id": "fe1f9d00",
      "metadata": {
        "id": "fe1f9d00",
        "outputId": "47d69cae-6722-4109-99e2-0c86a83c8d1e",
        "colab": {
          "base_uri": "https://localhost:8080/"
        }
      },
      "outputs": [
        {
          "output_type": "stream",
          "name": "stdout",
          "text": [
            "Help on method drop in module pandas.core.frame:\n",
            "\n",
            "drop(labels: 'IndexLabel' = None, *, axis: 'Axis' = 0, index: 'IndexLabel' = None, columns: 'IndexLabel' = None, level: 'Level' = None, inplace: 'bool' = False, errors: 'IgnoreRaise' = 'raise') -> 'DataFrame | None' method of pandas.core.frame.DataFrame instance\n",
            "    Drop specified labels from rows or columns.\n",
            "    \n",
            "    Remove rows or columns by specifying label names and corresponding\n",
            "    axis, or by specifying directly index or column names. When using a\n",
            "    multi-index, labels on different levels can be removed by specifying\n",
            "    the level. See the `user guide <advanced.shown_levels>`\n",
            "    for more information about the now unused levels.\n",
            "    \n",
            "    Parameters\n",
            "    ----------\n",
            "    labels : single label or list-like\n",
            "        Index or column labels to drop. A tuple will be used as a single\n",
            "        label and not treated as a list-like.\n",
            "    axis : {0 or 'index', 1 or 'columns'}, default 0\n",
            "        Whether to drop labels from the index (0 or 'index') or\n",
            "        columns (1 or 'columns').\n",
            "    index : single label or list-like\n",
            "        Alternative to specifying axis (``labels, axis=0``\n",
            "        is equivalent to ``index=labels``).\n",
            "    columns : single label or list-like\n",
            "        Alternative to specifying axis (``labels, axis=1``\n",
            "        is equivalent to ``columns=labels``).\n",
            "    level : int or level name, optional\n",
            "        For MultiIndex, level from which the labels will be removed.\n",
            "    inplace : bool, default False\n",
            "        If False, return a copy. Otherwise, do operation\n",
            "        inplace and return None.\n",
            "    errors : {'ignore', 'raise'}, default 'raise'\n",
            "        If 'ignore', suppress error and only existing labels are\n",
            "        dropped.\n",
            "    \n",
            "    Returns\n",
            "    -------\n",
            "    DataFrame or None\n",
            "        DataFrame without the removed index or column labels or\n",
            "        None if ``inplace=True``.\n",
            "    \n",
            "    Raises\n",
            "    ------\n",
            "    KeyError\n",
            "        If any of the labels is not found in the selected axis.\n",
            "    \n",
            "    See Also\n",
            "    --------\n",
            "    DataFrame.loc : Label-location based indexer for selection by label.\n",
            "    DataFrame.dropna : Return DataFrame with labels on given axis omitted\n",
            "        where (all or any) data are missing.\n",
            "    DataFrame.drop_duplicates : Return DataFrame with duplicate rows\n",
            "        removed, optionally only considering certain columns.\n",
            "    Series.drop : Return Series with specified index labels removed.\n",
            "    \n",
            "    Examples\n",
            "    --------\n",
            "    >>> df = pd.DataFrame(np.arange(12).reshape(3, 4),\n",
            "    ...                   columns=['A', 'B', 'C', 'D'])\n",
            "    >>> df\n",
            "       A  B   C   D\n",
            "    0  0  1   2   3\n",
            "    1  4  5   6   7\n",
            "    2  8  9  10  11\n",
            "    \n",
            "    Drop columns\n",
            "    \n",
            "    >>> df.drop(['B', 'C'], axis=1)\n",
            "       A   D\n",
            "    0  0   3\n",
            "    1  4   7\n",
            "    2  8  11\n",
            "    \n",
            "    >>> df.drop(columns=['B', 'C'])\n",
            "       A   D\n",
            "    0  0   3\n",
            "    1  4   7\n",
            "    2  8  11\n",
            "    \n",
            "    Drop a row by index\n",
            "    \n",
            "    >>> df.drop([0, 1])\n",
            "       A  B   C   D\n",
            "    2  8  9  10  11\n",
            "    \n",
            "    Drop columns and/or rows of MultiIndex DataFrame\n",
            "    \n",
            "    >>> midx = pd.MultiIndex(levels=[['lama', 'cow', 'falcon'],\n",
            "    ...                              ['speed', 'weight', 'length']],\n",
            "    ...                      codes=[[0, 0, 0, 1, 1, 1, 2, 2, 2],\n",
            "    ...                             [0, 1, 2, 0, 1, 2, 0, 1, 2]])\n",
            "    >>> df = pd.DataFrame(index=midx, columns=['big', 'small'],\n",
            "    ...                   data=[[45, 30], [200, 100], [1.5, 1], [30, 20],\n",
            "    ...                         [250, 150], [1.5, 0.8], [320, 250],\n",
            "    ...                         [1, 0.8], [0.3, 0.2]])\n",
            "    >>> df\n",
            "                    big     small\n",
            "    lama    speed   45.0    30.0\n",
            "            weight  200.0   100.0\n",
            "            length  1.5     1.0\n",
            "    cow     speed   30.0    20.0\n",
            "            weight  250.0   150.0\n",
            "            length  1.5     0.8\n",
            "    falcon  speed   320.0   250.0\n",
            "            weight  1.0     0.8\n",
            "            length  0.3     0.2\n",
            "    \n",
            "    Drop a specific index combination from the MultiIndex\n",
            "    DataFrame, i.e., drop the combination ``'falcon'`` and\n",
            "    ``'weight'``, which deletes only the corresponding row\n",
            "    \n",
            "    >>> df.drop(index=('falcon', 'weight'))\n",
            "                    big     small\n",
            "    lama    speed   45.0    30.0\n",
            "            weight  200.0   100.0\n",
            "            length  1.5     1.0\n",
            "    cow     speed   30.0    20.0\n",
            "            weight  250.0   150.0\n",
            "            length  1.5     0.8\n",
            "    falcon  speed   320.0   250.0\n",
            "            length  0.3     0.2\n",
            "    \n",
            "    >>> df.drop(index='cow', columns='small')\n",
            "                    big\n",
            "    lama    speed   45.0\n",
            "            weight  200.0\n",
            "            length  1.5\n",
            "    falcon  speed   320.0\n",
            "            weight  1.0\n",
            "            length  0.3\n",
            "    \n",
            "    >>> df.drop(index='length', level=1)\n",
            "                    big     small\n",
            "    lama    speed   45.0    30.0\n",
            "            weight  200.0   100.0\n",
            "    cow     speed   30.0    20.0\n",
            "            weight  250.0   150.0\n",
            "    falcon  speed   320.0   250.0\n",
            "            weight  1.0     0.8\n",
            "\n"
          ]
        }
      ],
      "source": [
        "help(df3.drop)"
      ]
    },
    {
      "cell_type": "code",
      "execution_count": null,
      "id": "1907fafc",
      "metadata": {
        "id": "1907fafc",
        "outputId": "fae877ca-5cb7-4049-dda1-029dc6c48eb8",
        "colab": {
          "base_uri": "https://localhost:8080/",
          "height": 175
        }
      },
      "outputs": [
        {
          "output_type": "execute_result",
          "data": {
            "text/plain": [
              "   ids  percents grade  col1  col2  col3  col4\n",
              "a  101      81.5     A    10    10    10   8.0\n",
              "b  102      90.5     A    10    20    12   NaN\n",
              "c  103      77.5     A    10    30    20   6.0\n",
              "d  104      61.0     A    10    40    16   NaN"
            ],
            "text/html": [
              "\n",
              "  <div id=\"df-c5d6e23e-41a4-4488-b6a8-4a18e1b8e570\">\n",
              "    <div class=\"colab-df-container\">\n",
              "      <div>\n",
              "<style scoped>\n",
              "    .dataframe tbody tr th:only-of-type {\n",
              "        vertical-align: middle;\n",
              "    }\n",
              "\n",
              "    .dataframe tbody tr th {\n",
              "        vertical-align: top;\n",
              "    }\n",
              "\n",
              "    .dataframe thead th {\n",
              "        text-align: right;\n",
              "    }\n",
              "</style>\n",
              "<table border=\"1\" class=\"dataframe\">\n",
              "  <thead>\n",
              "    <tr style=\"text-align: right;\">\n",
              "      <th></th>\n",
              "      <th>ids</th>\n",
              "      <th>percents</th>\n",
              "      <th>grade</th>\n",
              "      <th>col1</th>\n",
              "      <th>col2</th>\n",
              "      <th>col3</th>\n",
              "      <th>col4</th>\n",
              "    </tr>\n",
              "  </thead>\n",
              "  <tbody>\n",
              "    <tr>\n",
              "      <th>a</th>\n",
              "      <td>101</td>\n",
              "      <td>81.5</td>\n",
              "      <td>A</td>\n",
              "      <td>10</td>\n",
              "      <td>10</td>\n",
              "      <td>10</td>\n",
              "      <td>8.0</td>\n",
              "    </tr>\n",
              "    <tr>\n",
              "      <th>b</th>\n",
              "      <td>102</td>\n",
              "      <td>90.5</td>\n",
              "      <td>A</td>\n",
              "      <td>10</td>\n",
              "      <td>20</td>\n",
              "      <td>12</td>\n",
              "      <td>NaN</td>\n",
              "    </tr>\n",
              "    <tr>\n",
              "      <th>c</th>\n",
              "      <td>103</td>\n",
              "      <td>77.5</td>\n",
              "      <td>A</td>\n",
              "      <td>10</td>\n",
              "      <td>30</td>\n",
              "      <td>20</td>\n",
              "      <td>6.0</td>\n",
              "    </tr>\n",
              "    <tr>\n",
              "      <th>d</th>\n",
              "      <td>104</td>\n",
              "      <td>61.0</td>\n",
              "      <td>A</td>\n",
              "      <td>10</td>\n",
              "      <td>40</td>\n",
              "      <td>16</td>\n",
              "      <td>NaN</td>\n",
              "    </tr>\n",
              "  </tbody>\n",
              "</table>\n",
              "</div>\n",
              "      <button class=\"colab-df-convert\" onclick=\"convertToInteractive('df-c5d6e23e-41a4-4488-b6a8-4a18e1b8e570')\"\n",
              "              title=\"Convert this dataframe to an interactive table.\"\n",
              "              style=\"display:none;\">\n",
              "        \n",
              "  <svg xmlns=\"http://www.w3.org/2000/svg\" height=\"24px\"viewBox=\"0 0 24 24\"\n",
              "       width=\"24px\">\n",
              "    <path d=\"M0 0h24v24H0V0z\" fill=\"none\"/>\n",
              "    <path d=\"M18.56 5.44l.94 2.06.94-2.06 2.06-.94-2.06-.94-.94-2.06-.94 2.06-2.06.94zm-11 1L8.5 8.5l.94-2.06 2.06-.94-2.06-.94L8.5 2.5l-.94 2.06-2.06.94zm10 10l.94 2.06.94-2.06 2.06-.94-2.06-.94-.94-2.06-.94 2.06-2.06.94z\"/><path d=\"M17.41 7.96l-1.37-1.37c-.4-.4-.92-.59-1.43-.59-.52 0-1.04.2-1.43.59L10.3 9.45l-7.72 7.72c-.78.78-.78 2.05 0 2.83L4 21.41c.39.39.9.59 1.41.59.51 0 1.02-.2 1.41-.59l7.78-7.78 2.81-2.81c.8-.78.8-2.07 0-2.86zM5.41 20L4 18.59l7.72-7.72 1.47 1.35L5.41 20z\"/>\n",
              "  </svg>\n",
              "      </button>\n",
              "      \n",
              "  <style>\n",
              "    .colab-df-container {\n",
              "      display:flex;\n",
              "      flex-wrap:wrap;\n",
              "      gap: 12px;\n",
              "    }\n",
              "\n",
              "    .colab-df-convert {\n",
              "      background-color: #E8F0FE;\n",
              "      border: none;\n",
              "      border-radius: 50%;\n",
              "      cursor: pointer;\n",
              "      display: none;\n",
              "      fill: #1967D2;\n",
              "      height: 32px;\n",
              "      padding: 0 0 0 0;\n",
              "      width: 32px;\n",
              "    }\n",
              "\n",
              "    .colab-df-convert:hover {\n",
              "      background-color: #E2EBFA;\n",
              "      box-shadow: 0px 1px 2px rgba(60, 64, 67, 0.3), 0px 1px 3px 1px rgba(60, 64, 67, 0.15);\n",
              "      fill: #174EA6;\n",
              "    }\n",
              "\n",
              "    [theme=dark] .colab-df-convert {\n",
              "      background-color: #3B4455;\n",
              "      fill: #D2E3FC;\n",
              "    }\n",
              "\n",
              "    [theme=dark] .colab-df-convert:hover {\n",
              "      background-color: #434B5C;\n",
              "      box-shadow: 0px 1px 3px 1px rgba(0, 0, 0, 0.15);\n",
              "      filter: drop-shadow(0px 1px 2px rgba(0, 0, 0, 0.3));\n",
              "      fill: #FFFFFF;\n",
              "    }\n",
              "  </style>\n",
              "\n",
              "      <script>\n",
              "        const buttonEl =\n",
              "          document.querySelector('#df-c5d6e23e-41a4-4488-b6a8-4a18e1b8e570 button.colab-df-convert');\n",
              "        buttonEl.style.display =\n",
              "          google.colab.kernel.accessAllowed ? 'block' : 'none';\n",
              "\n",
              "        async function convertToInteractive(key) {\n",
              "          const element = document.querySelector('#df-c5d6e23e-41a4-4488-b6a8-4a18e1b8e570');\n",
              "          const dataTable =\n",
              "            await google.colab.kernel.invokeFunction('convertToInteractive',\n",
              "                                                     [key], {});\n",
              "          if (!dataTable) return;\n",
              "\n",
              "          const docLinkHtml = 'Like what you see? Visit the ' +\n",
              "            '<a target=\"_blank\" href=https://colab.research.google.com/notebooks/data_table.ipynb>data table notebook</a>'\n",
              "            + ' to learn more about interactive tables.';\n",
              "          element.innerHTML = '';\n",
              "          dataTable['output_type'] = 'display_data';\n",
              "          await google.colab.output.renderOutput(dataTable, element);\n",
              "          const docLink = document.createElement('div');\n",
              "          docLink.innerHTML = docLinkHtml;\n",
              "          element.appendChild(docLink);\n",
              "        }\n",
              "      </script>\n",
              "    </div>\n",
              "  </div>\n",
              "  "
            ]
          },
          "metadata": {},
          "execution_count": 140
        }
      ],
      "source": [
        "df3"
      ]
    },
    {
      "cell_type": "code",
      "execution_count": null,
      "id": "673b81e0",
      "metadata": {
        "id": "673b81e0",
        "outputId": "d45f5720-3962-4d5d-dce0-5262faa01894",
        "colab": {
          "base_uri": "https://localhost:8080/",
          "height": 175
        }
      },
      "outputs": [
        {
          "output_type": "execute_result",
          "data": {
            "text/plain": [
              "   ids  percents grade  col3  col4\n",
              "a  101      81.5     A    10   8.0\n",
              "b  102      90.5     A    12   NaN\n",
              "c  103      77.5     A    20   6.0\n",
              "d  104      61.0     A    16   NaN"
            ],
            "text/html": [
              "\n",
              "  <div id=\"df-39dc9ab3-4719-4353-abc3-5765c17f3235\">\n",
              "    <div class=\"colab-df-container\">\n",
              "      <div>\n",
              "<style scoped>\n",
              "    .dataframe tbody tr th:only-of-type {\n",
              "        vertical-align: middle;\n",
              "    }\n",
              "\n",
              "    .dataframe tbody tr th {\n",
              "        vertical-align: top;\n",
              "    }\n",
              "\n",
              "    .dataframe thead th {\n",
              "        text-align: right;\n",
              "    }\n",
              "</style>\n",
              "<table border=\"1\" class=\"dataframe\">\n",
              "  <thead>\n",
              "    <tr style=\"text-align: right;\">\n",
              "      <th></th>\n",
              "      <th>ids</th>\n",
              "      <th>percents</th>\n",
              "      <th>grade</th>\n",
              "      <th>col3</th>\n",
              "      <th>col4</th>\n",
              "    </tr>\n",
              "  </thead>\n",
              "  <tbody>\n",
              "    <tr>\n",
              "      <th>a</th>\n",
              "      <td>101</td>\n",
              "      <td>81.5</td>\n",
              "      <td>A</td>\n",
              "      <td>10</td>\n",
              "      <td>8.0</td>\n",
              "    </tr>\n",
              "    <tr>\n",
              "      <th>b</th>\n",
              "      <td>102</td>\n",
              "      <td>90.5</td>\n",
              "      <td>A</td>\n",
              "      <td>12</td>\n",
              "      <td>NaN</td>\n",
              "    </tr>\n",
              "    <tr>\n",
              "      <th>c</th>\n",
              "      <td>103</td>\n",
              "      <td>77.5</td>\n",
              "      <td>A</td>\n",
              "      <td>20</td>\n",
              "      <td>6.0</td>\n",
              "    </tr>\n",
              "    <tr>\n",
              "      <th>d</th>\n",
              "      <td>104</td>\n",
              "      <td>61.0</td>\n",
              "      <td>A</td>\n",
              "      <td>16</td>\n",
              "      <td>NaN</td>\n",
              "    </tr>\n",
              "  </tbody>\n",
              "</table>\n",
              "</div>\n",
              "      <button class=\"colab-df-convert\" onclick=\"convertToInteractive('df-39dc9ab3-4719-4353-abc3-5765c17f3235')\"\n",
              "              title=\"Convert this dataframe to an interactive table.\"\n",
              "              style=\"display:none;\">\n",
              "        \n",
              "  <svg xmlns=\"http://www.w3.org/2000/svg\" height=\"24px\"viewBox=\"0 0 24 24\"\n",
              "       width=\"24px\">\n",
              "    <path d=\"M0 0h24v24H0V0z\" fill=\"none\"/>\n",
              "    <path d=\"M18.56 5.44l.94 2.06.94-2.06 2.06-.94-2.06-.94-.94-2.06-.94 2.06-2.06.94zm-11 1L8.5 8.5l.94-2.06 2.06-.94-2.06-.94L8.5 2.5l-.94 2.06-2.06.94zm10 10l.94 2.06.94-2.06 2.06-.94-2.06-.94-.94-2.06-.94 2.06-2.06.94z\"/><path d=\"M17.41 7.96l-1.37-1.37c-.4-.4-.92-.59-1.43-.59-.52 0-1.04.2-1.43.59L10.3 9.45l-7.72 7.72c-.78.78-.78 2.05 0 2.83L4 21.41c.39.39.9.59 1.41.59.51 0 1.02-.2 1.41-.59l7.78-7.78 2.81-2.81c.8-.78.8-2.07 0-2.86zM5.41 20L4 18.59l7.72-7.72 1.47 1.35L5.41 20z\"/>\n",
              "  </svg>\n",
              "      </button>\n",
              "      \n",
              "  <style>\n",
              "    .colab-df-container {\n",
              "      display:flex;\n",
              "      flex-wrap:wrap;\n",
              "      gap: 12px;\n",
              "    }\n",
              "\n",
              "    .colab-df-convert {\n",
              "      background-color: #E8F0FE;\n",
              "      border: none;\n",
              "      border-radius: 50%;\n",
              "      cursor: pointer;\n",
              "      display: none;\n",
              "      fill: #1967D2;\n",
              "      height: 32px;\n",
              "      padding: 0 0 0 0;\n",
              "      width: 32px;\n",
              "    }\n",
              "\n",
              "    .colab-df-convert:hover {\n",
              "      background-color: #E2EBFA;\n",
              "      box-shadow: 0px 1px 2px rgba(60, 64, 67, 0.3), 0px 1px 3px 1px rgba(60, 64, 67, 0.15);\n",
              "      fill: #174EA6;\n",
              "    }\n",
              "\n",
              "    [theme=dark] .colab-df-convert {\n",
              "      background-color: #3B4455;\n",
              "      fill: #D2E3FC;\n",
              "    }\n",
              "\n",
              "    [theme=dark] .colab-df-convert:hover {\n",
              "      background-color: #434B5C;\n",
              "      box-shadow: 0px 1px 3px 1px rgba(0, 0, 0, 0.15);\n",
              "      filter: drop-shadow(0px 1px 2px rgba(0, 0, 0, 0.3));\n",
              "      fill: #FFFFFF;\n",
              "    }\n",
              "  </style>\n",
              "\n",
              "      <script>\n",
              "        const buttonEl =\n",
              "          document.querySelector('#df-39dc9ab3-4719-4353-abc3-5765c17f3235 button.colab-df-convert');\n",
              "        buttonEl.style.display =\n",
              "          google.colab.kernel.accessAllowed ? 'block' : 'none';\n",
              "\n",
              "        async function convertToInteractive(key) {\n",
              "          const element = document.querySelector('#df-39dc9ab3-4719-4353-abc3-5765c17f3235');\n",
              "          const dataTable =\n",
              "            await google.colab.kernel.invokeFunction('convertToInteractive',\n",
              "                                                     [key], {});\n",
              "          if (!dataTable) return;\n",
              "\n",
              "          const docLinkHtml = 'Like what you see? Visit the ' +\n",
              "            '<a target=\"_blank\" href=https://colab.research.google.com/notebooks/data_table.ipynb>data table notebook</a>'\n",
              "            + ' to learn more about interactive tables.';\n",
              "          element.innerHTML = '';\n",
              "          dataTable['output_type'] = 'display_data';\n",
              "          await google.colab.output.renderOutput(dataTable, element);\n",
              "          const docLink = document.createElement('div');\n",
              "          docLink.innerHTML = docLinkHtml;\n",
              "          element.appendChild(docLink);\n",
              "        }\n",
              "      </script>\n",
              "    </div>\n",
              "  </div>\n",
              "  "
            ]
          },
          "metadata": {},
          "execution_count": 141
        }
      ],
      "source": [
        "df3.drop(['col1', 'col2'], axis=1) # Here axis=1 works cloumn vice axis=0 is for row vice also default is axis=0"
      ]
    },
    {
      "cell_type": "code",
      "execution_count": null,
      "id": "a51772a3",
      "metadata": {
        "id": "a51772a3",
        "outputId": "2d8ef23d-a5c0-4059-b722-d013daa48ce7",
        "colab": {
          "base_uri": "https://localhost:8080/",
          "height": 175
        }
      },
      "outputs": [
        {
          "output_type": "execute_result",
          "data": {
            "text/plain": [
              "   ids  percents grade  col1  col2  col3  col4\n",
              "a  101      81.5     A    10    10    10   8.0\n",
              "b  102      90.5     A    10    20    12   NaN\n",
              "c  103      77.5     A    10    30    20   6.0\n",
              "d  104      61.0     A    10    40    16   NaN"
            ],
            "text/html": [
              "\n",
              "  <div id=\"df-7a7042db-350b-467c-abaa-98a4a284ff5e\">\n",
              "    <div class=\"colab-df-container\">\n",
              "      <div>\n",
              "<style scoped>\n",
              "    .dataframe tbody tr th:only-of-type {\n",
              "        vertical-align: middle;\n",
              "    }\n",
              "\n",
              "    .dataframe tbody tr th {\n",
              "        vertical-align: top;\n",
              "    }\n",
              "\n",
              "    .dataframe thead th {\n",
              "        text-align: right;\n",
              "    }\n",
              "</style>\n",
              "<table border=\"1\" class=\"dataframe\">\n",
              "  <thead>\n",
              "    <tr style=\"text-align: right;\">\n",
              "      <th></th>\n",
              "      <th>ids</th>\n",
              "      <th>percents</th>\n",
              "      <th>grade</th>\n",
              "      <th>col1</th>\n",
              "      <th>col2</th>\n",
              "      <th>col3</th>\n",
              "      <th>col4</th>\n",
              "    </tr>\n",
              "  </thead>\n",
              "  <tbody>\n",
              "    <tr>\n",
              "      <th>a</th>\n",
              "      <td>101</td>\n",
              "      <td>81.5</td>\n",
              "      <td>A</td>\n",
              "      <td>10</td>\n",
              "      <td>10</td>\n",
              "      <td>10</td>\n",
              "      <td>8.0</td>\n",
              "    </tr>\n",
              "    <tr>\n",
              "      <th>b</th>\n",
              "      <td>102</td>\n",
              "      <td>90.5</td>\n",
              "      <td>A</td>\n",
              "      <td>10</td>\n",
              "      <td>20</td>\n",
              "      <td>12</td>\n",
              "      <td>NaN</td>\n",
              "    </tr>\n",
              "    <tr>\n",
              "      <th>c</th>\n",
              "      <td>103</td>\n",
              "      <td>77.5</td>\n",
              "      <td>A</td>\n",
              "      <td>10</td>\n",
              "      <td>30</td>\n",
              "      <td>20</td>\n",
              "      <td>6.0</td>\n",
              "    </tr>\n",
              "    <tr>\n",
              "      <th>d</th>\n",
              "      <td>104</td>\n",
              "      <td>61.0</td>\n",
              "      <td>A</td>\n",
              "      <td>10</td>\n",
              "      <td>40</td>\n",
              "      <td>16</td>\n",
              "      <td>NaN</td>\n",
              "    </tr>\n",
              "  </tbody>\n",
              "</table>\n",
              "</div>\n",
              "      <button class=\"colab-df-convert\" onclick=\"convertToInteractive('df-7a7042db-350b-467c-abaa-98a4a284ff5e')\"\n",
              "              title=\"Convert this dataframe to an interactive table.\"\n",
              "              style=\"display:none;\">\n",
              "        \n",
              "  <svg xmlns=\"http://www.w3.org/2000/svg\" height=\"24px\"viewBox=\"0 0 24 24\"\n",
              "       width=\"24px\">\n",
              "    <path d=\"M0 0h24v24H0V0z\" fill=\"none\"/>\n",
              "    <path d=\"M18.56 5.44l.94 2.06.94-2.06 2.06-.94-2.06-.94-.94-2.06-.94 2.06-2.06.94zm-11 1L8.5 8.5l.94-2.06 2.06-.94-2.06-.94L8.5 2.5l-.94 2.06-2.06.94zm10 10l.94 2.06.94-2.06 2.06-.94-2.06-.94-.94-2.06-.94 2.06-2.06.94z\"/><path d=\"M17.41 7.96l-1.37-1.37c-.4-.4-.92-.59-1.43-.59-.52 0-1.04.2-1.43.59L10.3 9.45l-7.72 7.72c-.78.78-.78 2.05 0 2.83L4 21.41c.39.39.9.59 1.41.59.51 0 1.02-.2 1.41-.59l7.78-7.78 2.81-2.81c.8-.78.8-2.07 0-2.86zM5.41 20L4 18.59l7.72-7.72 1.47 1.35L5.41 20z\"/>\n",
              "  </svg>\n",
              "      </button>\n",
              "      \n",
              "  <style>\n",
              "    .colab-df-container {\n",
              "      display:flex;\n",
              "      flex-wrap:wrap;\n",
              "      gap: 12px;\n",
              "    }\n",
              "\n",
              "    .colab-df-convert {\n",
              "      background-color: #E8F0FE;\n",
              "      border: none;\n",
              "      border-radius: 50%;\n",
              "      cursor: pointer;\n",
              "      display: none;\n",
              "      fill: #1967D2;\n",
              "      height: 32px;\n",
              "      padding: 0 0 0 0;\n",
              "      width: 32px;\n",
              "    }\n",
              "\n",
              "    .colab-df-convert:hover {\n",
              "      background-color: #E2EBFA;\n",
              "      box-shadow: 0px 1px 2px rgba(60, 64, 67, 0.3), 0px 1px 3px 1px rgba(60, 64, 67, 0.15);\n",
              "      fill: #174EA6;\n",
              "    }\n",
              "\n",
              "    [theme=dark] .colab-df-convert {\n",
              "      background-color: #3B4455;\n",
              "      fill: #D2E3FC;\n",
              "    }\n",
              "\n",
              "    [theme=dark] .colab-df-convert:hover {\n",
              "      background-color: #434B5C;\n",
              "      box-shadow: 0px 1px 3px 1px rgba(0, 0, 0, 0.15);\n",
              "      filter: drop-shadow(0px 1px 2px rgba(0, 0, 0, 0.3));\n",
              "      fill: #FFFFFF;\n",
              "    }\n",
              "  </style>\n",
              "\n",
              "      <script>\n",
              "        const buttonEl =\n",
              "          document.querySelector('#df-7a7042db-350b-467c-abaa-98a4a284ff5e button.colab-df-convert');\n",
              "        buttonEl.style.display =\n",
              "          google.colab.kernel.accessAllowed ? 'block' : 'none';\n",
              "\n",
              "        async function convertToInteractive(key) {\n",
              "          const element = document.querySelector('#df-7a7042db-350b-467c-abaa-98a4a284ff5e');\n",
              "          const dataTable =\n",
              "            await google.colab.kernel.invokeFunction('convertToInteractive',\n",
              "                                                     [key], {});\n",
              "          if (!dataTable) return;\n",
              "\n",
              "          const docLinkHtml = 'Like what you see? Visit the ' +\n",
              "            '<a target=\"_blank\" href=https://colab.research.google.com/notebooks/data_table.ipynb>data table notebook</a>'\n",
              "            + ' to learn more about interactive tables.';\n",
              "          element.innerHTML = '';\n",
              "          dataTable['output_type'] = 'display_data';\n",
              "          await google.colab.output.renderOutput(dataTable, element);\n",
              "          const docLink = document.createElement('div');\n",
              "          docLink.innerHTML = docLinkHtml;\n",
              "          element.appendChild(docLink);\n",
              "        }\n",
              "      </script>\n",
              "    </div>\n",
              "  </div>\n",
              "  "
            ]
          },
          "metadata": {},
          "execution_count": 142
        }
      ],
      "source": [
        "df3"
      ]
    },
    {
      "cell_type": "code",
      "execution_count": null,
      "id": "99171a05",
      "metadata": {
        "id": "99171a05"
      },
      "outputs": [],
      "source": [
        "df3.drop(['col1', 'col2'], axis=1, inplace=True)"
      ]
    },
    {
      "cell_type": "code",
      "execution_count": null,
      "id": "139e352e",
      "metadata": {
        "id": "139e352e",
        "outputId": "defb4854-6d36-4719-b22c-c88f64ad8173",
        "colab": {
          "base_uri": "https://localhost:8080/",
          "height": 175
        }
      },
      "outputs": [
        {
          "output_type": "execute_result",
          "data": {
            "text/plain": [
              "   ids  percents grade  col3  col4\n",
              "a  101      81.5     A    10   8.0\n",
              "b  102      90.5     A    12   NaN\n",
              "c  103      77.5     A    20   6.0\n",
              "d  104      61.0     A    16   NaN"
            ],
            "text/html": [
              "\n",
              "  <div id=\"df-7fdc2d58-ac6d-4353-861e-c995892a08c3\">\n",
              "    <div class=\"colab-df-container\">\n",
              "      <div>\n",
              "<style scoped>\n",
              "    .dataframe tbody tr th:only-of-type {\n",
              "        vertical-align: middle;\n",
              "    }\n",
              "\n",
              "    .dataframe tbody tr th {\n",
              "        vertical-align: top;\n",
              "    }\n",
              "\n",
              "    .dataframe thead th {\n",
              "        text-align: right;\n",
              "    }\n",
              "</style>\n",
              "<table border=\"1\" class=\"dataframe\">\n",
              "  <thead>\n",
              "    <tr style=\"text-align: right;\">\n",
              "      <th></th>\n",
              "      <th>ids</th>\n",
              "      <th>percents</th>\n",
              "      <th>grade</th>\n",
              "      <th>col3</th>\n",
              "      <th>col4</th>\n",
              "    </tr>\n",
              "  </thead>\n",
              "  <tbody>\n",
              "    <tr>\n",
              "      <th>a</th>\n",
              "      <td>101</td>\n",
              "      <td>81.5</td>\n",
              "      <td>A</td>\n",
              "      <td>10</td>\n",
              "      <td>8.0</td>\n",
              "    </tr>\n",
              "    <tr>\n",
              "      <th>b</th>\n",
              "      <td>102</td>\n",
              "      <td>90.5</td>\n",
              "      <td>A</td>\n",
              "      <td>12</td>\n",
              "      <td>NaN</td>\n",
              "    </tr>\n",
              "    <tr>\n",
              "      <th>c</th>\n",
              "      <td>103</td>\n",
              "      <td>77.5</td>\n",
              "      <td>A</td>\n",
              "      <td>20</td>\n",
              "      <td>6.0</td>\n",
              "    </tr>\n",
              "    <tr>\n",
              "      <th>d</th>\n",
              "      <td>104</td>\n",
              "      <td>61.0</td>\n",
              "      <td>A</td>\n",
              "      <td>16</td>\n",
              "      <td>NaN</td>\n",
              "    </tr>\n",
              "  </tbody>\n",
              "</table>\n",
              "</div>\n",
              "      <button class=\"colab-df-convert\" onclick=\"convertToInteractive('df-7fdc2d58-ac6d-4353-861e-c995892a08c3')\"\n",
              "              title=\"Convert this dataframe to an interactive table.\"\n",
              "              style=\"display:none;\">\n",
              "        \n",
              "  <svg xmlns=\"http://www.w3.org/2000/svg\" height=\"24px\"viewBox=\"0 0 24 24\"\n",
              "       width=\"24px\">\n",
              "    <path d=\"M0 0h24v24H0V0z\" fill=\"none\"/>\n",
              "    <path d=\"M18.56 5.44l.94 2.06.94-2.06 2.06-.94-2.06-.94-.94-2.06-.94 2.06-2.06.94zm-11 1L8.5 8.5l.94-2.06 2.06-.94-2.06-.94L8.5 2.5l-.94 2.06-2.06.94zm10 10l.94 2.06.94-2.06 2.06-.94-2.06-.94-.94-2.06-.94 2.06-2.06.94z\"/><path d=\"M17.41 7.96l-1.37-1.37c-.4-.4-.92-.59-1.43-.59-.52 0-1.04.2-1.43.59L10.3 9.45l-7.72 7.72c-.78.78-.78 2.05 0 2.83L4 21.41c.39.39.9.59 1.41.59.51 0 1.02-.2 1.41-.59l7.78-7.78 2.81-2.81c.8-.78.8-2.07 0-2.86zM5.41 20L4 18.59l7.72-7.72 1.47 1.35L5.41 20z\"/>\n",
              "  </svg>\n",
              "      </button>\n",
              "      \n",
              "  <style>\n",
              "    .colab-df-container {\n",
              "      display:flex;\n",
              "      flex-wrap:wrap;\n",
              "      gap: 12px;\n",
              "    }\n",
              "\n",
              "    .colab-df-convert {\n",
              "      background-color: #E8F0FE;\n",
              "      border: none;\n",
              "      border-radius: 50%;\n",
              "      cursor: pointer;\n",
              "      display: none;\n",
              "      fill: #1967D2;\n",
              "      height: 32px;\n",
              "      padding: 0 0 0 0;\n",
              "      width: 32px;\n",
              "    }\n",
              "\n",
              "    .colab-df-convert:hover {\n",
              "      background-color: #E2EBFA;\n",
              "      box-shadow: 0px 1px 2px rgba(60, 64, 67, 0.3), 0px 1px 3px 1px rgba(60, 64, 67, 0.15);\n",
              "      fill: #174EA6;\n",
              "    }\n",
              "\n",
              "    [theme=dark] .colab-df-convert {\n",
              "      background-color: #3B4455;\n",
              "      fill: #D2E3FC;\n",
              "    }\n",
              "\n",
              "    [theme=dark] .colab-df-convert:hover {\n",
              "      background-color: #434B5C;\n",
              "      box-shadow: 0px 1px 3px 1px rgba(0, 0, 0, 0.15);\n",
              "      filter: drop-shadow(0px 1px 2px rgba(0, 0, 0, 0.3));\n",
              "      fill: #FFFFFF;\n",
              "    }\n",
              "  </style>\n",
              "\n",
              "      <script>\n",
              "        const buttonEl =\n",
              "          document.querySelector('#df-7fdc2d58-ac6d-4353-861e-c995892a08c3 button.colab-df-convert');\n",
              "        buttonEl.style.display =\n",
              "          google.colab.kernel.accessAllowed ? 'block' : 'none';\n",
              "\n",
              "        async function convertToInteractive(key) {\n",
              "          const element = document.querySelector('#df-7fdc2d58-ac6d-4353-861e-c995892a08c3');\n",
              "          const dataTable =\n",
              "            await google.colab.kernel.invokeFunction('convertToInteractive',\n",
              "                                                     [key], {});\n",
              "          if (!dataTable) return;\n",
              "\n",
              "          const docLinkHtml = 'Like what you see? Visit the ' +\n",
              "            '<a target=\"_blank\" href=https://colab.research.google.com/notebooks/data_table.ipynb>data table notebook</a>'\n",
              "            + ' to learn more about interactive tables.';\n",
              "          element.innerHTML = '';\n",
              "          dataTable['output_type'] = 'display_data';\n",
              "          await google.colab.output.renderOutput(dataTable, element);\n",
              "          const docLink = document.createElement('div');\n",
              "          docLink.innerHTML = docLinkHtml;\n",
              "          element.appendChild(docLink);\n",
              "        }\n",
              "      </script>\n",
              "    </div>\n",
              "  </div>\n",
              "  "
            ]
          },
          "metadata": {},
          "execution_count": 144
        }
      ],
      "source": [
        "df3"
      ]
    },
    {
      "cell_type": "code",
      "execution_count": null,
      "id": "485132c0",
      "metadata": {
        "id": "485132c0",
        "outputId": "759edd1a-f50c-438f-a45e-53ab03d77ca8",
        "colab": {
          "base_uri": "https://localhost:8080/",
          "height": 311
        }
      },
      "outputs": [
        {
          "output_type": "error",
          "ename": "KeyError",
          "evalue": "ignored",
          "traceback": [
            "\u001b[0;31m---------------------------------------------------------------------------\u001b[0m",
            "\u001b[0;31mKeyError\u001b[0m                                  Traceback (most recent call last)",
            "\u001b[0;32m<ipython-input-145-4cc8584948d1>\u001b[0m in \u001b[0;36m<cell line: 1>\u001b[0;34m()\u001b[0m\n\u001b[0;32m----> 1\u001b[0;31m \u001b[0mdf3\u001b[0m\u001b[0;34m.\u001b[0m\u001b[0mdrop\u001b[0m\u001b[0;34m(\u001b[0m\u001b[0;34m[\u001b[0m\u001b[0;34m'col4'\u001b[0m\u001b[0;34m]\u001b[0m\u001b[0;34m,\u001b[0m \u001b[0minplace\u001b[0m\u001b[0;34m=\u001b[0m\u001b[0;32mTrue\u001b[0m\u001b[0;34m)\u001b[0m\u001b[0;34m\u001b[0m\u001b[0;34m\u001b[0m\u001b[0m\n\u001b[0m",
            "\u001b[0;32m/usr/local/lib/python3.10/dist-packages/pandas/util/_decorators.py\u001b[0m in \u001b[0;36mwrapper\u001b[0;34m(*args, **kwargs)\u001b[0m\n\u001b[1;32m    329\u001b[0m                     \u001b[0mstacklevel\u001b[0m\u001b[0;34m=\u001b[0m\u001b[0mfind_stack_level\u001b[0m\u001b[0;34m(\u001b[0m\u001b[0;34m)\u001b[0m\u001b[0;34m,\u001b[0m\u001b[0;34m\u001b[0m\u001b[0;34m\u001b[0m\u001b[0m\n\u001b[1;32m    330\u001b[0m                 )\n\u001b[0;32m--> 331\u001b[0;31m             \u001b[0;32mreturn\u001b[0m \u001b[0mfunc\u001b[0m\u001b[0;34m(\u001b[0m\u001b[0;34m*\u001b[0m\u001b[0margs\u001b[0m\u001b[0;34m,\u001b[0m \u001b[0;34m**\u001b[0m\u001b[0mkwargs\u001b[0m\u001b[0;34m)\u001b[0m\u001b[0;34m\u001b[0m\u001b[0;34m\u001b[0m\u001b[0m\n\u001b[0m\u001b[1;32m    332\u001b[0m \u001b[0;34m\u001b[0m\u001b[0m\n\u001b[1;32m    333\u001b[0m         \u001b[0;31m# error: \"Callable[[VarArg(Any), KwArg(Any)], Any]\" has no\u001b[0m\u001b[0;34m\u001b[0m\u001b[0;34m\u001b[0m\u001b[0m\n",
            "\u001b[0;32m/usr/local/lib/python3.10/dist-packages/pandas/core/frame.py\u001b[0m in \u001b[0;36mdrop\u001b[0;34m(self, labels, axis, index, columns, level, inplace, errors)\u001b[0m\n\u001b[1;32m   5397\u001b[0m                 \u001b[0mweight\u001b[0m  \u001b[0;36m1.0\u001b[0m     \u001b[0;36m0.8\u001b[0m\u001b[0;34m\u001b[0m\u001b[0;34m\u001b[0m\u001b[0m\n\u001b[1;32m   5398\u001b[0m         \"\"\"\n\u001b[0;32m-> 5399\u001b[0;31m         return super().drop(\n\u001b[0m\u001b[1;32m   5400\u001b[0m             \u001b[0mlabels\u001b[0m\u001b[0;34m=\u001b[0m\u001b[0mlabels\u001b[0m\u001b[0;34m,\u001b[0m\u001b[0;34m\u001b[0m\u001b[0;34m\u001b[0m\u001b[0m\n\u001b[1;32m   5401\u001b[0m             \u001b[0maxis\u001b[0m\u001b[0;34m=\u001b[0m\u001b[0maxis\u001b[0m\u001b[0;34m,\u001b[0m\u001b[0;34m\u001b[0m\u001b[0;34m\u001b[0m\u001b[0m\n",
            "\u001b[0;32m/usr/local/lib/python3.10/dist-packages/pandas/util/_decorators.py\u001b[0m in \u001b[0;36mwrapper\u001b[0;34m(*args, **kwargs)\u001b[0m\n\u001b[1;32m    329\u001b[0m                     \u001b[0mstacklevel\u001b[0m\u001b[0;34m=\u001b[0m\u001b[0mfind_stack_level\u001b[0m\u001b[0;34m(\u001b[0m\u001b[0;34m)\u001b[0m\u001b[0;34m,\u001b[0m\u001b[0;34m\u001b[0m\u001b[0;34m\u001b[0m\u001b[0m\n\u001b[1;32m    330\u001b[0m                 )\n\u001b[0;32m--> 331\u001b[0;31m             \u001b[0;32mreturn\u001b[0m \u001b[0mfunc\u001b[0m\u001b[0;34m(\u001b[0m\u001b[0;34m*\u001b[0m\u001b[0margs\u001b[0m\u001b[0;34m,\u001b[0m \u001b[0;34m**\u001b[0m\u001b[0mkwargs\u001b[0m\u001b[0;34m)\u001b[0m\u001b[0;34m\u001b[0m\u001b[0;34m\u001b[0m\u001b[0m\n\u001b[0m\u001b[1;32m    332\u001b[0m \u001b[0;34m\u001b[0m\u001b[0m\n\u001b[1;32m    333\u001b[0m         \u001b[0;31m# error: \"Callable[[VarArg(Any), KwArg(Any)], Any]\" has no\u001b[0m\u001b[0;34m\u001b[0m\u001b[0;34m\u001b[0m\u001b[0m\n",
            "\u001b[0;32m/usr/local/lib/python3.10/dist-packages/pandas/core/generic.py\u001b[0m in \u001b[0;36mdrop\u001b[0;34m(self, labels, axis, index, columns, level, inplace, errors)\u001b[0m\n\u001b[1;32m   4503\u001b[0m         \u001b[0;32mfor\u001b[0m \u001b[0maxis\u001b[0m\u001b[0;34m,\u001b[0m \u001b[0mlabels\u001b[0m \u001b[0;32min\u001b[0m \u001b[0maxes\u001b[0m\u001b[0;34m.\u001b[0m\u001b[0mitems\u001b[0m\u001b[0;34m(\u001b[0m\u001b[0;34m)\u001b[0m\u001b[0;34m:\u001b[0m\u001b[0;34m\u001b[0m\u001b[0;34m\u001b[0m\u001b[0m\n\u001b[1;32m   4504\u001b[0m             \u001b[0;32mif\u001b[0m \u001b[0mlabels\u001b[0m \u001b[0;32mis\u001b[0m \u001b[0;32mnot\u001b[0m \u001b[0;32mNone\u001b[0m\u001b[0;34m:\u001b[0m\u001b[0;34m\u001b[0m\u001b[0;34m\u001b[0m\u001b[0m\n\u001b[0;32m-> 4505\u001b[0;31m                 \u001b[0mobj\u001b[0m \u001b[0;34m=\u001b[0m \u001b[0mobj\u001b[0m\u001b[0;34m.\u001b[0m\u001b[0m_drop_axis\u001b[0m\u001b[0;34m(\u001b[0m\u001b[0mlabels\u001b[0m\u001b[0;34m,\u001b[0m \u001b[0maxis\u001b[0m\u001b[0;34m,\u001b[0m \u001b[0mlevel\u001b[0m\u001b[0;34m=\u001b[0m\u001b[0mlevel\u001b[0m\u001b[0;34m,\u001b[0m \u001b[0merrors\u001b[0m\u001b[0;34m=\u001b[0m\u001b[0merrors\u001b[0m\u001b[0;34m)\u001b[0m\u001b[0;34m\u001b[0m\u001b[0;34m\u001b[0m\u001b[0m\n\u001b[0m\u001b[1;32m   4506\u001b[0m \u001b[0;34m\u001b[0m\u001b[0m\n\u001b[1;32m   4507\u001b[0m         \u001b[0;32mif\u001b[0m \u001b[0minplace\u001b[0m\u001b[0;34m:\u001b[0m\u001b[0;34m\u001b[0m\u001b[0;34m\u001b[0m\u001b[0m\n",
            "\u001b[0;32m/usr/local/lib/python3.10/dist-packages/pandas/core/generic.py\u001b[0m in \u001b[0;36m_drop_axis\u001b[0;34m(self, labels, axis, level, errors, only_slice)\u001b[0m\n\u001b[1;32m   4544\u001b[0m                 \u001b[0mnew_axis\u001b[0m \u001b[0;34m=\u001b[0m \u001b[0maxis\u001b[0m\u001b[0;34m.\u001b[0m\u001b[0mdrop\u001b[0m\u001b[0;34m(\u001b[0m\u001b[0mlabels\u001b[0m\u001b[0;34m,\u001b[0m \u001b[0mlevel\u001b[0m\u001b[0;34m=\u001b[0m\u001b[0mlevel\u001b[0m\u001b[0;34m,\u001b[0m \u001b[0merrors\u001b[0m\u001b[0;34m=\u001b[0m\u001b[0merrors\u001b[0m\u001b[0;34m)\u001b[0m\u001b[0;34m\u001b[0m\u001b[0;34m\u001b[0m\u001b[0m\n\u001b[1;32m   4545\u001b[0m             \u001b[0;32melse\u001b[0m\u001b[0;34m:\u001b[0m\u001b[0;34m\u001b[0m\u001b[0;34m\u001b[0m\u001b[0m\n\u001b[0;32m-> 4546\u001b[0;31m                 \u001b[0mnew_axis\u001b[0m \u001b[0;34m=\u001b[0m \u001b[0maxis\u001b[0m\u001b[0;34m.\u001b[0m\u001b[0mdrop\u001b[0m\u001b[0;34m(\u001b[0m\u001b[0mlabels\u001b[0m\u001b[0;34m,\u001b[0m \u001b[0merrors\u001b[0m\u001b[0;34m=\u001b[0m\u001b[0merrors\u001b[0m\u001b[0;34m)\u001b[0m\u001b[0;34m\u001b[0m\u001b[0;34m\u001b[0m\u001b[0m\n\u001b[0m\u001b[1;32m   4547\u001b[0m             \u001b[0mindexer\u001b[0m \u001b[0;34m=\u001b[0m \u001b[0maxis\u001b[0m\u001b[0;34m.\u001b[0m\u001b[0mget_indexer\u001b[0m\u001b[0;34m(\u001b[0m\u001b[0mnew_axis\u001b[0m\u001b[0;34m)\u001b[0m\u001b[0;34m\u001b[0m\u001b[0;34m\u001b[0m\u001b[0m\n\u001b[1;32m   4548\u001b[0m \u001b[0;34m\u001b[0m\u001b[0m\n",
            "\u001b[0;32m/usr/local/lib/python3.10/dist-packages/pandas/core/indexes/base.py\u001b[0m in \u001b[0;36mdrop\u001b[0;34m(self, labels, errors)\u001b[0m\n\u001b[1;32m   6932\u001b[0m         \u001b[0;32mif\u001b[0m \u001b[0mmask\u001b[0m\u001b[0;34m.\u001b[0m\u001b[0many\u001b[0m\u001b[0;34m(\u001b[0m\u001b[0;34m)\u001b[0m\u001b[0;34m:\u001b[0m\u001b[0;34m\u001b[0m\u001b[0;34m\u001b[0m\u001b[0m\n\u001b[1;32m   6933\u001b[0m             \u001b[0;32mif\u001b[0m \u001b[0merrors\u001b[0m \u001b[0;34m!=\u001b[0m \u001b[0;34m\"ignore\"\u001b[0m\u001b[0;34m:\u001b[0m\u001b[0;34m\u001b[0m\u001b[0;34m\u001b[0m\u001b[0m\n\u001b[0;32m-> 6934\u001b[0;31m                 \u001b[0;32mraise\u001b[0m \u001b[0mKeyError\u001b[0m\u001b[0;34m(\u001b[0m\u001b[0;34mf\"{list(labels[mask])} not found in axis\"\u001b[0m\u001b[0;34m)\u001b[0m\u001b[0;34m\u001b[0m\u001b[0;34m\u001b[0m\u001b[0m\n\u001b[0m\u001b[1;32m   6935\u001b[0m             \u001b[0mindexer\u001b[0m \u001b[0;34m=\u001b[0m \u001b[0mindexer\u001b[0m\u001b[0;34m[\u001b[0m\u001b[0;34m~\u001b[0m\u001b[0mmask\u001b[0m\u001b[0;34m]\u001b[0m\u001b[0;34m\u001b[0m\u001b[0;34m\u001b[0m\u001b[0m\n\u001b[1;32m   6936\u001b[0m         \u001b[0;32mreturn\u001b[0m \u001b[0mself\u001b[0m\u001b[0;34m.\u001b[0m\u001b[0mdelete\u001b[0m\u001b[0;34m(\u001b[0m\u001b[0mindexer\u001b[0m\u001b[0;34m)\u001b[0m\u001b[0;34m\u001b[0m\u001b[0;34m\u001b[0m\u001b[0m\n",
            "\u001b[0;31mKeyError\u001b[0m: \"['col4'] not found in axis\""
          ]
        }
      ],
      "source": [
        "df3.drop(['col4'], inplace=True)"
      ]
    },
    {
      "cell_type": "code",
      "execution_count": null,
      "id": "141ae445",
      "metadata": {
        "id": "141ae445",
        "outputId": "01e5d393-fbc4-4e9f-947d-fff01a67b242",
        "colab": {
          "base_uri": "https://localhost:8080/",
          "height": 143
        }
      },
      "outputs": [
        {
          "output_type": "execute_result",
          "data": {
            "text/plain": [
              "   ids  percents grade  col3  col4\n",
              "a  101      81.5     A    10   8.0\n",
              "b  102      90.5     A    12   NaN\n",
              "c  103      77.5     A    20   6.0"
            ],
            "text/html": [
              "\n",
              "  <div id=\"df-56b3bab1-ea01-4fd3-900b-01b67db30052\">\n",
              "    <div class=\"colab-df-container\">\n",
              "      <div>\n",
              "<style scoped>\n",
              "    .dataframe tbody tr th:only-of-type {\n",
              "        vertical-align: middle;\n",
              "    }\n",
              "\n",
              "    .dataframe tbody tr th {\n",
              "        vertical-align: top;\n",
              "    }\n",
              "\n",
              "    .dataframe thead th {\n",
              "        text-align: right;\n",
              "    }\n",
              "</style>\n",
              "<table border=\"1\" class=\"dataframe\">\n",
              "  <thead>\n",
              "    <tr style=\"text-align: right;\">\n",
              "      <th></th>\n",
              "      <th>ids</th>\n",
              "      <th>percents</th>\n",
              "      <th>grade</th>\n",
              "      <th>col3</th>\n",
              "      <th>col4</th>\n",
              "    </tr>\n",
              "  </thead>\n",
              "  <tbody>\n",
              "    <tr>\n",
              "      <th>a</th>\n",
              "      <td>101</td>\n",
              "      <td>81.5</td>\n",
              "      <td>A</td>\n",
              "      <td>10</td>\n",
              "      <td>8.0</td>\n",
              "    </tr>\n",
              "    <tr>\n",
              "      <th>b</th>\n",
              "      <td>102</td>\n",
              "      <td>90.5</td>\n",
              "      <td>A</td>\n",
              "      <td>12</td>\n",
              "      <td>NaN</td>\n",
              "    </tr>\n",
              "    <tr>\n",
              "      <th>c</th>\n",
              "      <td>103</td>\n",
              "      <td>77.5</td>\n",
              "      <td>A</td>\n",
              "      <td>20</td>\n",
              "      <td>6.0</td>\n",
              "    </tr>\n",
              "  </tbody>\n",
              "</table>\n",
              "</div>\n",
              "      <button class=\"colab-df-convert\" onclick=\"convertToInteractive('df-56b3bab1-ea01-4fd3-900b-01b67db30052')\"\n",
              "              title=\"Convert this dataframe to an interactive table.\"\n",
              "              style=\"display:none;\">\n",
              "        \n",
              "  <svg xmlns=\"http://www.w3.org/2000/svg\" height=\"24px\"viewBox=\"0 0 24 24\"\n",
              "       width=\"24px\">\n",
              "    <path d=\"M0 0h24v24H0V0z\" fill=\"none\"/>\n",
              "    <path d=\"M18.56 5.44l.94 2.06.94-2.06 2.06-.94-2.06-.94-.94-2.06-.94 2.06-2.06.94zm-11 1L8.5 8.5l.94-2.06 2.06-.94-2.06-.94L8.5 2.5l-.94 2.06-2.06.94zm10 10l.94 2.06.94-2.06 2.06-.94-2.06-.94-.94-2.06-.94 2.06-2.06.94z\"/><path d=\"M17.41 7.96l-1.37-1.37c-.4-.4-.92-.59-1.43-.59-.52 0-1.04.2-1.43.59L10.3 9.45l-7.72 7.72c-.78.78-.78 2.05 0 2.83L4 21.41c.39.39.9.59 1.41.59.51 0 1.02-.2 1.41-.59l7.78-7.78 2.81-2.81c.8-.78.8-2.07 0-2.86zM5.41 20L4 18.59l7.72-7.72 1.47 1.35L5.41 20z\"/>\n",
              "  </svg>\n",
              "      </button>\n",
              "      \n",
              "  <style>\n",
              "    .colab-df-container {\n",
              "      display:flex;\n",
              "      flex-wrap:wrap;\n",
              "      gap: 12px;\n",
              "    }\n",
              "\n",
              "    .colab-df-convert {\n",
              "      background-color: #E8F0FE;\n",
              "      border: none;\n",
              "      border-radius: 50%;\n",
              "      cursor: pointer;\n",
              "      display: none;\n",
              "      fill: #1967D2;\n",
              "      height: 32px;\n",
              "      padding: 0 0 0 0;\n",
              "      width: 32px;\n",
              "    }\n",
              "\n",
              "    .colab-df-convert:hover {\n",
              "      background-color: #E2EBFA;\n",
              "      box-shadow: 0px 1px 2px rgba(60, 64, 67, 0.3), 0px 1px 3px 1px rgba(60, 64, 67, 0.15);\n",
              "      fill: #174EA6;\n",
              "    }\n",
              "\n",
              "    [theme=dark] .colab-df-convert {\n",
              "      background-color: #3B4455;\n",
              "      fill: #D2E3FC;\n",
              "    }\n",
              "\n",
              "    [theme=dark] .colab-df-convert:hover {\n",
              "      background-color: #434B5C;\n",
              "      box-shadow: 0px 1px 3px 1px rgba(0, 0, 0, 0.15);\n",
              "      filter: drop-shadow(0px 1px 2px rgba(0, 0, 0, 0.3));\n",
              "      fill: #FFFFFF;\n",
              "    }\n",
              "  </style>\n",
              "\n",
              "      <script>\n",
              "        const buttonEl =\n",
              "          document.querySelector('#df-56b3bab1-ea01-4fd3-900b-01b67db30052 button.colab-df-convert');\n",
              "        buttonEl.style.display =\n",
              "          google.colab.kernel.accessAllowed ? 'block' : 'none';\n",
              "\n",
              "        async function convertToInteractive(key) {\n",
              "          const element = document.querySelector('#df-56b3bab1-ea01-4fd3-900b-01b67db30052');\n",
              "          const dataTable =\n",
              "            await google.colab.kernel.invokeFunction('convertToInteractive',\n",
              "                                                     [key], {});\n",
              "          if (!dataTable) return;\n",
              "\n",
              "          const docLinkHtml = 'Like what you see? Visit the ' +\n",
              "            '<a target=\"_blank\" href=https://colab.research.google.com/notebooks/data_table.ipynb>data table notebook</a>'\n",
              "            + ' to learn more about interactive tables.';\n",
              "          element.innerHTML = '';\n",
              "          dataTable['output_type'] = 'display_data';\n",
              "          await google.colab.output.renderOutput(dataTable, element);\n",
              "          const docLink = document.createElement('div');\n",
              "          docLink.innerHTML = docLinkHtml;\n",
              "          element.appendChild(docLink);\n",
              "        }\n",
              "      </script>\n",
              "    </div>\n",
              "  </div>\n",
              "  "
            ]
          },
          "metadata": {},
          "execution_count": 146
        }
      ],
      "source": [
        "df3.drop(['d'], axis=0)"
      ]
    },
    {
      "cell_type": "code",
      "execution_count": null,
      "id": "ab3bc710",
      "metadata": {
        "id": "ab3bc710",
        "outputId": "9135fc23-a958-478a-8b02-f0eb0d54bb36",
        "colab": {
          "base_uri": "https://localhost:8080/",
          "height": 175
        }
      },
      "outputs": [
        {
          "output_type": "execute_result",
          "data": {
            "text/plain": [
              "   ids  percents grade  col3  col4\n",
              "a  101      81.5     A    10   8.0\n",
              "b  102      90.5     A    12   NaN\n",
              "c  103      77.5     A    20   6.0\n",
              "d  104      61.0     A    16   NaN"
            ],
            "text/html": [
              "\n",
              "  <div id=\"df-526e3392-9c86-4979-ae73-552d1b76c07a\">\n",
              "    <div class=\"colab-df-container\">\n",
              "      <div>\n",
              "<style scoped>\n",
              "    .dataframe tbody tr th:only-of-type {\n",
              "        vertical-align: middle;\n",
              "    }\n",
              "\n",
              "    .dataframe tbody tr th {\n",
              "        vertical-align: top;\n",
              "    }\n",
              "\n",
              "    .dataframe thead th {\n",
              "        text-align: right;\n",
              "    }\n",
              "</style>\n",
              "<table border=\"1\" class=\"dataframe\">\n",
              "  <thead>\n",
              "    <tr style=\"text-align: right;\">\n",
              "      <th></th>\n",
              "      <th>ids</th>\n",
              "      <th>percents</th>\n",
              "      <th>grade</th>\n",
              "      <th>col3</th>\n",
              "      <th>col4</th>\n",
              "    </tr>\n",
              "  </thead>\n",
              "  <tbody>\n",
              "    <tr>\n",
              "      <th>a</th>\n",
              "      <td>101</td>\n",
              "      <td>81.5</td>\n",
              "      <td>A</td>\n",
              "      <td>10</td>\n",
              "      <td>8.0</td>\n",
              "    </tr>\n",
              "    <tr>\n",
              "      <th>b</th>\n",
              "      <td>102</td>\n",
              "      <td>90.5</td>\n",
              "      <td>A</td>\n",
              "      <td>12</td>\n",
              "      <td>NaN</td>\n",
              "    </tr>\n",
              "    <tr>\n",
              "      <th>c</th>\n",
              "      <td>103</td>\n",
              "      <td>77.5</td>\n",
              "      <td>A</td>\n",
              "      <td>20</td>\n",
              "      <td>6.0</td>\n",
              "    </tr>\n",
              "    <tr>\n",
              "      <th>d</th>\n",
              "      <td>104</td>\n",
              "      <td>61.0</td>\n",
              "      <td>A</td>\n",
              "      <td>16</td>\n",
              "      <td>NaN</td>\n",
              "    </tr>\n",
              "  </tbody>\n",
              "</table>\n",
              "</div>\n",
              "      <button class=\"colab-df-convert\" onclick=\"convertToInteractive('df-526e3392-9c86-4979-ae73-552d1b76c07a')\"\n",
              "              title=\"Convert this dataframe to an interactive table.\"\n",
              "              style=\"display:none;\">\n",
              "        \n",
              "  <svg xmlns=\"http://www.w3.org/2000/svg\" height=\"24px\"viewBox=\"0 0 24 24\"\n",
              "       width=\"24px\">\n",
              "    <path d=\"M0 0h24v24H0V0z\" fill=\"none\"/>\n",
              "    <path d=\"M18.56 5.44l.94 2.06.94-2.06 2.06-.94-2.06-.94-.94-2.06-.94 2.06-2.06.94zm-11 1L8.5 8.5l.94-2.06 2.06-.94-2.06-.94L8.5 2.5l-.94 2.06-2.06.94zm10 10l.94 2.06.94-2.06 2.06-.94-2.06-.94-.94-2.06-.94 2.06-2.06.94z\"/><path d=\"M17.41 7.96l-1.37-1.37c-.4-.4-.92-.59-1.43-.59-.52 0-1.04.2-1.43.59L10.3 9.45l-7.72 7.72c-.78.78-.78 2.05 0 2.83L4 21.41c.39.39.9.59 1.41.59.51 0 1.02-.2 1.41-.59l7.78-7.78 2.81-2.81c.8-.78.8-2.07 0-2.86zM5.41 20L4 18.59l7.72-7.72 1.47 1.35L5.41 20z\"/>\n",
              "  </svg>\n",
              "      </button>\n",
              "      \n",
              "  <style>\n",
              "    .colab-df-container {\n",
              "      display:flex;\n",
              "      flex-wrap:wrap;\n",
              "      gap: 12px;\n",
              "    }\n",
              "\n",
              "    .colab-df-convert {\n",
              "      background-color: #E8F0FE;\n",
              "      border: none;\n",
              "      border-radius: 50%;\n",
              "      cursor: pointer;\n",
              "      display: none;\n",
              "      fill: #1967D2;\n",
              "      height: 32px;\n",
              "      padding: 0 0 0 0;\n",
              "      width: 32px;\n",
              "    }\n",
              "\n",
              "    .colab-df-convert:hover {\n",
              "      background-color: #E2EBFA;\n",
              "      box-shadow: 0px 1px 2px rgba(60, 64, 67, 0.3), 0px 1px 3px 1px rgba(60, 64, 67, 0.15);\n",
              "      fill: #174EA6;\n",
              "    }\n",
              "\n",
              "    [theme=dark] .colab-df-convert {\n",
              "      background-color: #3B4455;\n",
              "      fill: #D2E3FC;\n",
              "    }\n",
              "\n",
              "    [theme=dark] .colab-df-convert:hover {\n",
              "      background-color: #434B5C;\n",
              "      box-shadow: 0px 1px 3px 1px rgba(0, 0, 0, 0.15);\n",
              "      filter: drop-shadow(0px 1px 2px rgba(0, 0, 0, 0.3));\n",
              "      fill: #FFFFFF;\n",
              "    }\n",
              "  </style>\n",
              "\n",
              "      <script>\n",
              "        const buttonEl =\n",
              "          document.querySelector('#df-526e3392-9c86-4979-ae73-552d1b76c07a button.colab-df-convert');\n",
              "        buttonEl.style.display =\n",
              "          google.colab.kernel.accessAllowed ? 'block' : 'none';\n",
              "\n",
              "        async function convertToInteractive(key) {\n",
              "          const element = document.querySelector('#df-526e3392-9c86-4979-ae73-552d1b76c07a');\n",
              "          const dataTable =\n",
              "            await google.colab.kernel.invokeFunction('convertToInteractive',\n",
              "                                                     [key], {});\n",
              "          if (!dataTable) return;\n",
              "\n",
              "          const docLinkHtml = 'Like what you see? Visit the ' +\n",
              "            '<a target=\"_blank\" href=https://colab.research.google.com/notebooks/data_table.ipynb>data table notebook</a>'\n",
              "            + ' to learn more about interactive tables.';\n",
              "          element.innerHTML = '';\n",
              "          dataTable['output_type'] = 'display_data';\n",
              "          await google.colab.output.renderOutput(dataTable, element);\n",
              "          const docLink = document.createElement('div');\n",
              "          docLink.innerHTML = docLinkHtml;\n",
              "          element.appendChild(docLink);\n",
              "        }\n",
              "      </script>\n",
              "    </div>\n",
              "  </div>\n",
              "  "
            ]
          },
          "metadata": {},
          "execution_count": 147
        }
      ],
      "source": [
        "df3"
      ]
    },
    {
      "cell_type": "code",
      "execution_count": null,
      "id": "c1a0d72f",
      "metadata": {
        "id": "c1a0d72f"
      },
      "outputs": [],
      "source": [
        "df4 = df3.drop(['d'], axis=0)  # Here d4 is a copy & permenet"
      ]
    },
    {
      "cell_type": "code",
      "execution_count": null,
      "id": "c4aca37e",
      "metadata": {
        "id": "c4aca37e",
        "outputId": "fb69aa71-3019-4d56-b07c-61de850621ba",
        "colab": {
          "base_uri": "https://localhost:8080/",
          "height": 143
        }
      },
      "outputs": [
        {
          "output_type": "execute_result",
          "data": {
            "text/plain": [
              "   ids  percents grade  col3  col4\n",
              "a  101      81.5     A    10   8.0\n",
              "b  102      90.5     A    12   NaN\n",
              "c  103      77.5     A    20   6.0"
            ],
            "text/html": [
              "\n",
              "  <div id=\"df-6b5b06c0-4a4f-4d77-a65c-ee123b25bc97\">\n",
              "    <div class=\"colab-df-container\">\n",
              "      <div>\n",
              "<style scoped>\n",
              "    .dataframe tbody tr th:only-of-type {\n",
              "        vertical-align: middle;\n",
              "    }\n",
              "\n",
              "    .dataframe tbody tr th {\n",
              "        vertical-align: top;\n",
              "    }\n",
              "\n",
              "    .dataframe thead th {\n",
              "        text-align: right;\n",
              "    }\n",
              "</style>\n",
              "<table border=\"1\" class=\"dataframe\">\n",
              "  <thead>\n",
              "    <tr style=\"text-align: right;\">\n",
              "      <th></th>\n",
              "      <th>ids</th>\n",
              "      <th>percents</th>\n",
              "      <th>grade</th>\n",
              "      <th>col3</th>\n",
              "      <th>col4</th>\n",
              "    </tr>\n",
              "  </thead>\n",
              "  <tbody>\n",
              "    <tr>\n",
              "      <th>a</th>\n",
              "      <td>101</td>\n",
              "      <td>81.5</td>\n",
              "      <td>A</td>\n",
              "      <td>10</td>\n",
              "      <td>8.0</td>\n",
              "    </tr>\n",
              "    <tr>\n",
              "      <th>b</th>\n",
              "      <td>102</td>\n",
              "      <td>90.5</td>\n",
              "      <td>A</td>\n",
              "      <td>12</td>\n",
              "      <td>NaN</td>\n",
              "    </tr>\n",
              "    <tr>\n",
              "      <th>c</th>\n",
              "      <td>103</td>\n",
              "      <td>77.5</td>\n",
              "      <td>A</td>\n",
              "      <td>20</td>\n",
              "      <td>6.0</td>\n",
              "    </tr>\n",
              "  </tbody>\n",
              "</table>\n",
              "</div>\n",
              "      <button class=\"colab-df-convert\" onclick=\"convertToInteractive('df-6b5b06c0-4a4f-4d77-a65c-ee123b25bc97')\"\n",
              "              title=\"Convert this dataframe to an interactive table.\"\n",
              "              style=\"display:none;\">\n",
              "        \n",
              "  <svg xmlns=\"http://www.w3.org/2000/svg\" height=\"24px\"viewBox=\"0 0 24 24\"\n",
              "       width=\"24px\">\n",
              "    <path d=\"M0 0h24v24H0V0z\" fill=\"none\"/>\n",
              "    <path d=\"M18.56 5.44l.94 2.06.94-2.06 2.06-.94-2.06-.94-.94-2.06-.94 2.06-2.06.94zm-11 1L8.5 8.5l.94-2.06 2.06-.94-2.06-.94L8.5 2.5l-.94 2.06-2.06.94zm10 10l.94 2.06.94-2.06 2.06-.94-2.06-.94-.94-2.06-.94 2.06-2.06.94z\"/><path d=\"M17.41 7.96l-1.37-1.37c-.4-.4-.92-.59-1.43-.59-.52 0-1.04.2-1.43.59L10.3 9.45l-7.72 7.72c-.78.78-.78 2.05 0 2.83L4 21.41c.39.39.9.59 1.41.59.51 0 1.02-.2 1.41-.59l7.78-7.78 2.81-2.81c.8-.78.8-2.07 0-2.86zM5.41 20L4 18.59l7.72-7.72 1.47 1.35L5.41 20z\"/>\n",
              "  </svg>\n",
              "      </button>\n",
              "      \n",
              "  <style>\n",
              "    .colab-df-container {\n",
              "      display:flex;\n",
              "      flex-wrap:wrap;\n",
              "      gap: 12px;\n",
              "    }\n",
              "\n",
              "    .colab-df-convert {\n",
              "      background-color: #E8F0FE;\n",
              "      border: none;\n",
              "      border-radius: 50%;\n",
              "      cursor: pointer;\n",
              "      display: none;\n",
              "      fill: #1967D2;\n",
              "      height: 32px;\n",
              "      padding: 0 0 0 0;\n",
              "      width: 32px;\n",
              "    }\n",
              "\n",
              "    .colab-df-convert:hover {\n",
              "      background-color: #E2EBFA;\n",
              "      box-shadow: 0px 1px 2px rgba(60, 64, 67, 0.3), 0px 1px 3px 1px rgba(60, 64, 67, 0.15);\n",
              "      fill: #174EA6;\n",
              "    }\n",
              "\n",
              "    [theme=dark] .colab-df-convert {\n",
              "      background-color: #3B4455;\n",
              "      fill: #D2E3FC;\n",
              "    }\n",
              "\n",
              "    [theme=dark] .colab-df-convert:hover {\n",
              "      background-color: #434B5C;\n",
              "      box-shadow: 0px 1px 3px 1px rgba(0, 0, 0, 0.15);\n",
              "      filter: drop-shadow(0px 1px 2px rgba(0, 0, 0, 0.3));\n",
              "      fill: #FFFFFF;\n",
              "    }\n",
              "  </style>\n",
              "\n",
              "      <script>\n",
              "        const buttonEl =\n",
              "          document.querySelector('#df-6b5b06c0-4a4f-4d77-a65c-ee123b25bc97 button.colab-df-convert');\n",
              "        buttonEl.style.display =\n",
              "          google.colab.kernel.accessAllowed ? 'block' : 'none';\n",
              "\n",
              "        async function convertToInteractive(key) {\n",
              "          const element = document.querySelector('#df-6b5b06c0-4a4f-4d77-a65c-ee123b25bc97');\n",
              "          const dataTable =\n",
              "            await google.colab.kernel.invokeFunction('convertToInteractive',\n",
              "                                                     [key], {});\n",
              "          if (!dataTable) return;\n",
              "\n",
              "          const docLinkHtml = 'Like what you see? Visit the ' +\n",
              "            '<a target=\"_blank\" href=https://colab.research.google.com/notebooks/data_table.ipynb>data table notebook</a>'\n",
              "            + ' to learn more about interactive tables.';\n",
              "          element.innerHTML = '';\n",
              "          dataTable['output_type'] = 'display_data';\n",
              "          await google.colab.output.renderOutput(dataTable, element);\n",
              "          const docLink = document.createElement('div');\n",
              "          docLink.innerHTML = docLinkHtml;\n",
              "          element.appendChild(docLink);\n",
              "        }\n",
              "      </script>\n",
              "    </div>\n",
              "  </div>\n",
              "  "
            ]
          },
          "metadata": {},
          "execution_count": 149
        }
      ],
      "source": [
        "df4"
      ]
    },
    {
      "cell_type": "code",
      "execution_count": null,
      "id": "a942099b",
      "metadata": {
        "id": "a942099b",
        "outputId": "4d5c2380-abf9-427a-f7e6-1038e2107a18",
        "colab": {
          "base_uri": "https://localhost:8080/",
          "height": 175
        }
      },
      "outputs": [
        {
          "output_type": "execute_result",
          "data": {
            "text/plain": [
              "   ids  percents grade  col3  col4\n",
              "a  101      81.5     A    10   8.0\n",
              "b  102      90.5     A    12   NaN\n",
              "c  103      77.5     A    20   6.0\n",
              "d  104      61.0     A    16   NaN"
            ],
            "text/html": [
              "\n",
              "  <div id=\"df-7ab1fadf-c09b-40dd-bb06-b790542f0b54\">\n",
              "    <div class=\"colab-df-container\">\n",
              "      <div>\n",
              "<style scoped>\n",
              "    .dataframe tbody tr th:only-of-type {\n",
              "        vertical-align: middle;\n",
              "    }\n",
              "\n",
              "    .dataframe tbody tr th {\n",
              "        vertical-align: top;\n",
              "    }\n",
              "\n",
              "    .dataframe thead th {\n",
              "        text-align: right;\n",
              "    }\n",
              "</style>\n",
              "<table border=\"1\" class=\"dataframe\">\n",
              "  <thead>\n",
              "    <tr style=\"text-align: right;\">\n",
              "      <th></th>\n",
              "      <th>ids</th>\n",
              "      <th>percents</th>\n",
              "      <th>grade</th>\n",
              "      <th>col3</th>\n",
              "      <th>col4</th>\n",
              "    </tr>\n",
              "  </thead>\n",
              "  <tbody>\n",
              "    <tr>\n",
              "      <th>a</th>\n",
              "      <td>101</td>\n",
              "      <td>81.5</td>\n",
              "      <td>A</td>\n",
              "      <td>10</td>\n",
              "      <td>8.0</td>\n",
              "    </tr>\n",
              "    <tr>\n",
              "      <th>b</th>\n",
              "      <td>102</td>\n",
              "      <td>90.5</td>\n",
              "      <td>A</td>\n",
              "      <td>12</td>\n",
              "      <td>NaN</td>\n",
              "    </tr>\n",
              "    <tr>\n",
              "      <th>c</th>\n",
              "      <td>103</td>\n",
              "      <td>77.5</td>\n",
              "      <td>A</td>\n",
              "      <td>20</td>\n",
              "      <td>6.0</td>\n",
              "    </tr>\n",
              "    <tr>\n",
              "      <th>d</th>\n",
              "      <td>104</td>\n",
              "      <td>61.0</td>\n",
              "      <td>A</td>\n",
              "      <td>16</td>\n",
              "      <td>NaN</td>\n",
              "    </tr>\n",
              "  </tbody>\n",
              "</table>\n",
              "</div>\n",
              "      <button class=\"colab-df-convert\" onclick=\"convertToInteractive('df-7ab1fadf-c09b-40dd-bb06-b790542f0b54')\"\n",
              "              title=\"Convert this dataframe to an interactive table.\"\n",
              "              style=\"display:none;\">\n",
              "        \n",
              "  <svg xmlns=\"http://www.w3.org/2000/svg\" height=\"24px\"viewBox=\"0 0 24 24\"\n",
              "       width=\"24px\">\n",
              "    <path d=\"M0 0h24v24H0V0z\" fill=\"none\"/>\n",
              "    <path d=\"M18.56 5.44l.94 2.06.94-2.06 2.06-.94-2.06-.94-.94-2.06-.94 2.06-2.06.94zm-11 1L8.5 8.5l.94-2.06 2.06-.94-2.06-.94L8.5 2.5l-.94 2.06-2.06.94zm10 10l.94 2.06.94-2.06 2.06-.94-2.06-.94-.94-2.06-.94 2.06-2.06.94z\"/><path d=\"M17.41 7.96l-1.37-1.37c-.4-.4-.92-.59-1.43-.59-.52 0-1.04.2-1.43.59L10.3 9.45l-7.72 7.72c-.78.78-.78 2.05 0 2.83L4 21.41c.39.39.9.59 1.41.59.51 0 1.02-.2 1.41-.59l7.78-7.78 2.81-2.81c.8-.78.8-2.07 0-2.86zM5.41 20L4 18.59l7.72-7.72 1.47 1.35L5.41 20z\"/>\n",
              "  </svg>\n",
              "      </button>\n",
              "      \n",
              "  <style>\n",
              "    .colab-df-container {\n",
              "      display:flex;\n",
              "      flex-wrap:wrap;\n",
              "      gap: 12px;\n",
              "    }\n",
              "\n",
              "    .colab-df-convert {\n",
              "      background-color: #E8F0FE;\n",
              "      border: none;\n",
              "      border-radius: 50%;\n",
              "      cursor: pointer;\n",
              "      display: none;\n",
              "      fill: #1967D2;\n",
              "      height: 32px;\n",
              "      padding: 0 0 0 0;\n",
              "      width: 32px;\n",
              "    }\n",
              "\n",
              "    .colab-df-convert:hover {\n",
              "      background-color: #E2EBFA;\n",
              "      box-shadow: 0px 1px 2px rgba(60, 64, 67, 0.3), 0px 1px 3px 1px rgba(60, 64, 67, 0.15);\n",
              "      fill: #174EA6;\n",
              "    }\n",
              "\n",
              "    [theme=dark] .colab-df-convert {\n",
              "      background-color: #3B4455;\n",
              "      fill: #D2E3FC;\n",
              "    }\n",
              "\n",
              "    [theme=dark] .colab-df-convert:hover {\n",
              "      background-color: #434B5C;\n",
              "      box-shadow: 0px 1px 3px 1px rgba(0, 0, 0, 0.15);\n",
              "      filter: drop-shadow(0px 1px 2px rgba(0, 0, 0, 0.3));\n",
              "      fill: #FFFFFF;\n",
              "    }\n",
              "  </style>\n",
              "\n",
              "      <script>\n",
              "        const buttonEl =\n",
              "          document.querySelector('#df-7ab1fadf-c09b-40dd-bb06-b790542f0b54 button.colab-df-convert');\n",
              "        buttonEl.style.display =\n",
              "          google.colab.kernel.accessAllowed ? 'block' : 'none';\n",
              "\n",
              "        async function convertToInteractive(key) {\n",
              "          const element = document.querySelector('#df-7ab1fadf-c09b-40dd-bb06-b790542f0b54');\n",
              "          const dataTable =\n",
              "            await google.colab.kernel.invokeFunction('convertToInteractive',\n",
              "                                                     [key], {});\n",
              "          if (!dataTable) return;\n",
              "\n",
              "          const docLinkHtml = 'Like what you see? Visit the ' +\n",
              "            '<a target=\"_blank\" href=https://colab.research.google.com/notebooks/data_table.ipynb>data table notebook</a>'\n",
              "            + ' to learn more about interactive tables.';\n",
              "          element.innerHTML = '';\n",
              "          dataTable['output_type'] = 'display_data';\n",
              "          await google.colab.output.renderOutput(dataTable, element);\n",
              "          const docLink = document.createElement('div');\n",
              "          docLink.innerHTML = docLinkHtml;\n",
              "          element.appendChild(docLink);\n",
              "        }\n",
              "      </script>\n",
              "    </div>\n",
              "  </div>\n",
              "  "
            ]
          },
          "metadata": {},
          "execution_count": 150
        }
      ],
      "source": [
        "df3"
      ]
    },
    {
      "cell_type": "markdown",
      "source": [
        "\"\"Situvation - 1\"\"\n",
        "* \"\"create a column named 'award' the values of this column will depend on the percent column if the student has got more than 90% marks, then he/gets an award value of the column => True, else False\"\""
      ],
      "metadata": {
        "id": "BS9uJHYdeYNT"
      },
      "id": "BS9uJHYdeYNT"
    },
    {
      "cell_type": "code",
      "execution_count": null,
      "id": "d8586b47",
      "metadata": {
        "id": "d8586b47",
        "outputId": "f6d3ce0b-1726-4050-ef91-f217447ce5d9",
        "colab": {
          "base_uri": "https://localhost:8080/"
        }
      },
      "outputs": [
        {
          "output_type": "execute_result",
          "data": {
            "text/plain": [
              "a    81.5\n",
              "b    90.5\n",
              "c    77.5\n",
              "d    61.0\n",
              "Name: percents, dtype: float64"
            ]
          },
          "metadata": {},
          "execution_count": 151
        }
      ],
      "source": [
        "df3['percents']"
      ]
    },
    {
      "cell_type": "code",
      "execution_count": null,
      "id": "cbb537bf",
      "metadata": {
        "id": "cbb537bf",
        "outputId": "9843ca8f-3474-4d69-f9dc-3f58edb86e14",
        "colab": {
          "base_uri": "https://localhost:8080/"
        }
      },
      "outputs": [
        {
          "output_type": "execute_result",
          "data": {
            "text/plain": [
              "a    False\n",
              "b     True\n",
              "c    False\n",
              "d    False\n",
              "Name: percents, dtype: bool"
            ]
          },
          "metadata": {},
          "execution_count": 152
        }
      ],
      "source": [
        "df3['percents'] >= 90"
      ]
    },
    {
      "cell_type": "code",
      "execution_count": null,
      "id": "12d8684a",
      "metadata": {
        "id": "12d8684a",
        "outputId": "7adbfe04-f0fc-4f1b-bd66-c4c65877fc6e",
        "colab": {
          "base_uri": "https://localhost:8080/",
          "height": 175
        }
      },
      "outputs": [
        {
          "output_type": "execute_result",
          "data": {
            "text/plain": [
              "   ids  percents grade  col3  col4\n",
              "a  101      81.5     A    10   8.0\n",
              "b  102      90.5     A    12   NaN\n",
              "c  103      77.5     A    20   6.0\n",
              "d  104      61.0     A    16   NaN"
            ],
            "text/html": [
              "\n",
              "  <div id=\"df-7005ec0d-c057-41c0-95a8-3297fa7ccd22\">\n",
              "    <div class=\"colab-df-container\">\n",
              "      <div>\n",
              "<style scoped>\n",
              "    .dataframe tbody tr th:only-of-type {\n",
              "        vertical-align: middle;\n",
              "    }\n",
              "\n",
              "    .dataframe tbody tr th {\n",
              "        vertical-align: top;\n",
              "    }\n",
              "\n",
              "    .dataframe thead th {\n",
              "        text-align: right;\n",
              "    }\n",
              "</style>\n",
              "<table border=\"1\" class=\"dataframe\">\n",
              "  <thead>\n",
              "    <tr style=\"text-align: right;\">\n",
              "      <th></th>\n",
              "      <th>ids</th>\n",
              "      <th>percents</th>\n",
              "      <th>grade</th>\n",
              "      <th>col3</th>\n",
              "      <th>col4</th>\n",
              "    </tr>\n",
              "  </thead>\n",
              "  <tbody>\n",
              "    <tr>\n",
              "      <th>a</th>\n",
              "      <td>101</td>\n",
              "      <td>81.5</td>\n",
              "      <td>A</td>\n",
              "      <td>10</td>\n",
              "      <td>8.0</td>\n",
              "    </tr>\n",
              "    <tr>\n",
              "      <th>b</th>\n",
              "      <td>102</td>\n",
              "      <td>90.5</td>\n",
              "      <td>A</td>\n",
              "      <td>12</td>\n",
              "      <td>NaN</td>\n",
              "    </tr>\n",
              "    <tr>\n",
              "      <th>c</th>\n",
              "      <td>103</td>\n",
              "      <td>77.5</td>\n",
              "      <td>A</td>\n",
              "      <td>20</td>\n",
              "      <td>6.0</td>\n",
              "    </tr>\n",
              "    <tr>\n",
              "      <th>d</th>\n",
              "      <td>104</td>\n",
              "      <td>61.0</td>\n",
              "      <td>A</td>\n",
              "      <td>16</td>\n",
              "      <td>NaN</td>\n",
              "    </tr>\n",
              "  </tbody>\n",
              "</table>\n",
              "</div>\n",
              "      <button class=\"colab-df-convert\" onclick=\"convertToInteractive('df-7005ec0d-c057-41c0-95a8-3297fa7ccd22')\"\n",
              "              title=\"Convert this dataframe to an interactive table.\"\n",
              "              style=\"display:none;\">\n",
              "        \n",
              "  <svg xmlns=\"http://www.w3.org/2000/svg\" height=\"24px\"viewBox=\"0 0 24 24\"\n",
              "       width=\"24px\">\n",
              "    <path d=\"M0 0h24v24H0V0z\" fill=\"none\"/>\n",
              "    <path d=\"M18.56 5.44l.94 2.06.94-2.06 2.06-.94-2.06-.94-.94-2.06-.94 2.06-2.06.94zm-11 1L8.5 8.5l.94-2.06 2.06-.94-2.06-.94L8.5 2.5l-.94 2.06-2.06.94zm10 10l.94 2.06.94-2.06 2.06-.94-2.06-.94-.94-2.06-.94 2.06-2.06.94z\"/><path d=\"M17.41 7.96l-1.37-1.37c-.4-.4-.92-.59-1.43-.59-.52 0-1.04.2-1.43.59L10.3 9.45l-7.72 7.72c-.78.78-.78 2.05 0 2.83L4 21.41c.39.39.9.59 1.41.59.51 0 1.02-.2 1.41-.59l7.78-7.78 2.81-2.81c.8-.78.8-2.07 0-2.86zM5.41 20L4 18.59l7.72-7.72 1.47 1.35L5.41 20z\"/>\n",
              "  </svg>\n",
              "      </button>\n",
              "      \n",
              "  <style>\n",
              "    .colab-df-container {\n",
              "      display:flex;\n",
              "      flex-wrap:wrap;\n",
              "      gap: 12px;\n",
              "    }\n",
              "\n",
              "    .colab-df-convert {\n",
              "      background-color: #E8F0FE;\n",
              "      border: none;\n",
              "      border-radius: 50%;\n",
              "      cursor: pointer;\n",
              "      display: none;\n",
              "      fill: #1967D2;\n",
              "      height: 32px;\n",
              "      padding: 0 0 0 0;\n",
              "      width: 32px;\n",
              "    }\n",
              "\n",
              "    .colab-df-convert:hover {\n",
              "      background-color: #E2EBFA;\n",
              "      box-shadow: 0px 1px 2px rgba(60, 64, 67, 0.3), 0px 1px 3px 1px rgba(60, 64, 67, 0.15);\n",
              "      fill: #174EA6;\n",
              "    }\n",
              "\n",
              "    [theme=dark] .colab-df-convert {\n",
              "      background-color: #3B4455;\n",
              "      fill: #D2E3FC;\n",
              "    }\n",
              "\n",
              "    [theme=dark] .colab-df-convert:hover {\n",
              "      background-color: #434B5C;\n",
              "      box-shadow: 0px 1px 3px 1px rgba(0, 0, 0, 0.15);\n",
              "      filter: drop-shadow(0px 1px 2px rgba(0, 0, 0, 0.3));\n",
              "      fill: #FFFFFF;\n",
              "    }\n",
              "  </style>\n",
              "\n",
              "      <script>\n",
              "        const buttonEl =\n",
              "          document.querySelector('#df-7005ec0d-c057-41c0-95a8-3297fa7ccd22 button.colab-df-convert');\n",
              "        buttonEl.style.display =\n",
              "          google.colab.kernel.accessAllowed ? 'block' : 'none';\n",
              "\n",
              "        async function convertToInteractive(key) {\n",
              "          const element = document.querySelector('#df-7005ec0d-c057-41c0-95a8-3297fa7ccd22');\n",
              "          const dataTable =\n",
              "            await google.colab.kernel.invokeFunction('convertToInteractive',\n",
              "                                                     [key], {});\n",
              "          if (!dataTable) return;\n",
              "\n",
              "          const docLinkHtml = 'Like what you see? Visit the ' +\n",
              "            '<a target=\"_blank\" href=https://colab.research.google.com/notebooks/data_table.ipynb>data table notebook</a>'\n",
              "            + ' to learn more about interactive tables.';\n",
              "          element.innerHTML = '';\n",
              "          dataTable['output_type'] = 'display_data';\n",
              "          await google.colab.output.renderOutput(dataTable, element);\n",
              "          const docLink = document.createElement('div');\n",
              "          docLink.innerHTML = docLinkHtml;\n",
              "          element.appendChild(docLink);\n",
              "        }\n",
              "      </script>\n",
              "    </div>\n",
              "  </div>\n",
              "  "
            ]
          },
          "metadata": {},
          "execution_count": 153
        }
      ],
      "source": [
        "df3"
      ]
    },
    {
      "cell_type": "code",
      "execution_count": null,
      "id": "6a49f35a",
      "metadata": {
        "id": "6a49f35a"
      },
      "outputs": [],
      "source": [
        "df3['award'] = df3['percents'] >= 90"
      ]
    },
    {
      "cell_type": "markdown",
      "source": [
        "\"\"Situvation - 3\"\"\n",
        "create a sports column assign 'yes' to id number 104 and 'no' to everyone else"
      ],
      "metadata": {
        "id": "8nsTUEV5cRm_"
      },
      "id": "8nsTUEV5cRm_"
    },
    {
      "cell_type": "code",
      "execution_count": null,
      "id": "e5135fa7",
      "metadata": {
        "id": "e5135fa7"
      },
      "outputs": [],
      "source": [
        "df3['sports'] = ['no', 'no', 'no', 'yes']"
      ]
    },
    {
      "cell_type": "code",
      "execution_count": null,
      "id": "a6b8e532",
      "metadata": {
        "id": "a6b8e532",
        "outputId": "fe15da0e-a009-4f38-9d5c-4b28654701f4",
        "colab": {
          "base_uri": "https://localhost:8080/",
          "height": 175
        }
      },
      "outputs": [
        {
          "output_type": "execute_result",
          "data": {
            "text/plain": [
              "   ids  percents grade  col3  col4  award sports\n",
              "a  101      81.5     A    10   8.0  False     no\n",
              "b  102      90.5     A    12   NaN   True     no\n",
              "c  103      77.5     A    20   6.0  False     no\n",
              "d  104      61.0     A    16   NaN  False    yes"
            ],
            "text/html": [
              "\n",
              "  <div id=\"df-10783145-35f6-41e7-b76b-dc06fec21713\">\n",
              "    <div class=\"colab-df-container\">\n",
              "      <div>\n",
              "<style scoped>\n",
              "    .dataframe tbody tr th:only-of-type {\n",
              "        vertical-align: middle;\n",
              "    }\n",
              "\n",
              "    .dataframe tbody tr th {\n",
              "        vertical-align: top;\n",
              "    }\n",
              "\n",
              "    .dataframe thead th {\n",
              "        text-align: right;\n",
              "    }\n",
              "</style>\n",
              "<table border=\"1\" class=\"dataframe\">\n",
              "  <thead>\n",
              "    <tr style=\"text-align: right;\">\n",
              "      <th></th>\n",
              "      <th>ids</th>\n",
              "      <th>percents</th>\n",
              "      <th>grade</th>\n",
              "      <th>col3</th>\n",
              "      <th>col4</th>\n",
              "      <th>award</th>\n",
              "      <th>sports</th>\n",
              "    </tr>\n",
              "  </thead>\n",
              "  <tbody>\n",
              "    <tr>\n",
              "      <th>a</th>\n",
              "      <td>101</td>\n",
              "      <td>81.5</td>\n",
              "      <td>A</td>\n",
              "      <td>10</td>\n",
              "      <td>8.0</td>\n",
              "      <td>False</td>\n",
              "      <td>no</td>\n",
              "    </tr>\n",
              "    <tr>\n",
              "      <th>b</th>\n",
              "      <td>102</td>\n",
              "      <td>90.5</td>\n",
              "      <td>A</td>\n",
              "      <td>12</td>\n",
              "      <td>NaN</td>\n",
              "      <td>True</td>\n",
              "      <td>no</td>\n",
              "    </tr>\n",
              "    <tr>\n",
              "      <th>c</th>\n",
              "      <td>103</td>\n",
              "      <td>77.5</td>\n",
              "      <td>A</td>\n",
              "      <td>20</td>\n",
              "      <td>6.0</td>\n",
              "      <td>False</td>\n",
              "      <td>no</td>\n",
              "    </tr>\n",
              "    <tr>\n",
              "      <th>d</th>\n",
              "      <td>104</td>\n",
              "      <td>61.0</td>\n",
              "      <td>A</td>\n",
              "      <td>16</td>\n",
              "      <td>NaN</td>\n",
              "      <td>False</td>\n",
              "      <td>yes</td>\n",
              "    </tr>\n",
              "  </tbody>\n",
              "</table>\n",
              "</div>\n",
              "      <button class=\"colab-df-convert\" onclick=\"convertToInteractive('df-10783145-35f6-41e7-b76b-dc06fec21713')\"\n",
              "              title=\"Convert this dataframe to an interactive table.\"\n",
              "              style=\"display:none;\">\n",
              "        \n",
              "  <svg xmlns=\"http://www.w3.org/2000/svg\" height=\"24px\"viewBox=\"0 0 24 24\"\n",
              "       width=\"24px\">\n",
              "    <path d=\"M0 0h24v24H0V0z\" fill=\"none\"/>\n",
              "    <path d=\"M18.56 5.44l.94 2.06.94-2.06 2.06-.94-2.06-.94-.94-2.06-.94 2.06-2.06.94zm-11 1L8.5 8.5l.94-2.06 2.06-.94-2.06-.94L8.5 2.5l-.94 2.06-2.06.94zm10 10l.94 2.06.94-2.06 2.06-.94-2.06-.94-.94-2.06-.94 2.06-2.06.94z\"/><path d=\"M17.41 7.96l-1.37-1.37c-.4-.4-.92-.59-1.43-.59-.52 0-1.04.2-1.43.59L10.3 9.45l-7.72 7.72c-.78.78-.78 2.05 0 2.83L4 21.41c.39.39.9.59 1.41.59.51 0 1.02-.2 1.41-.59l7.78-7.78 2.81-2.81c.8-.78.8-2.07 0-2.86zM5.41 20L4 18.59l7.72-7.72 1.47 1.35L5.41 20z\"/>\n",
              "  </svg>\n",
              "      </button>\n",
              "      \n",
              "  <style>\n",
              "    .colab-df-container {\n",
              "      display:flex;\n",
              "      flex-wrap:wrap;\n",
              "      gap: 12px;\n",
              "    }\n",
              "\n",
              "    .colab-df-convert {\n",
              "      background-color: #E8F0FE;\n",
              "      border: none;\n",
              "      border-radius: 50%;\n",
              "      cursor: pointer;\n",
              "      display: none;\n",
              "      fill: #1967D2;\n",
              "      height: 32px;\n",
              "      padding: 0 0 0 0;\n",
              "      width: 32px;\n",
              "    }\n",
              "\n",
              "    .colab-df-convert:hover {\n",
              "      background-color: #E2EBFA;\n",
              "      box-shadow: 0px 1px 2px rgba(60, 64, 67, 0.3), 0px 1px 3px 1px rgba(60, 64, 67, 0.15);\n",
              "      fill: #174EA6;\n",
              "    }\n",
              "\n",
              "    [theme=dark] .colab-df-convert {\n",
              "      background-color: #3B4455;\n",
              "      fill: #D2E3FC;\n",
              "    }\n",
              "\n",
              "    [theme=dark] .colab-df-convert:hover {\n",
              "      background-color: #434B5C;\n",
              "      box-shadow: 0px 1px 3px 1px rgba(0, 0, 0, 0.15);\n",
              "      filter: drop-shadow(0px 1px 2px rgba(0, 0, 0, 0.3));\n",
              "      fill: #FFFFFF;\n",
              "    }\n",
              "  </style>\n",
              "\n",
              "      <script>\n",
              "        const buttonEl =\n",
              "          document.querySelector('#df-10783145-35f6-41e7-b76b-dc06fec21713 button.colab-df-convert');\n",
              "        buttonEl.style.display =\n",
              "          google.colab.kernel.accessAllowed ? 'block' : 'none';\n",
              "\n",
              "        async function convertToInteractive(key) {\n",
              "          const element = document.querySelector('#df-10783145-35f6-41e7-b76b-dc06fec21713');\n",
              "          const dataTable =\n",
              "            await google.colab.kernel.invokeFunction('convertToInteractive',\n",
              "                                                     [key], {});\n",
              "          if (!dataTable) return;\n",
              "\n",
              "          const docLinkHtml = 'Like what you see? Visit the ' +\n",
              "            '<a target=\"_blank\" href=https://colab.research.google.com/notebooks/data_table.ipynb>data table notebook</a>'\n",
              "            + ' to learn more about interactive tables.';\n",
              "          element.innerHTML = '';\n",
              "          dataTable['output_type'] = 'display_data';\n",
              "          await google.colab.output.renderOutput(dataTable, element);\n",
              "          const docLink = document.createElement('div');\n",
              "          docLink.innerHTML = docLinkHtml;\n",
              "          element.appendChild(docLink);\n",
              "        }\n",
              "      </script>\n",
              "    </div>\n",
              "  </div>\n",
              "  "
            ]
          },
          "metadata": {},
          "execution_count": 156
        }
      ],
      "source": [
        "df3"
      ]
    },
    {
      "cell_type": "code",
      "execution_count": null,
      "id": "b11cecd2",
      "metadata": {
        "id": "b11cecd2"
      },
      "outputs": [],
      "source": [
        "df3.drop(['grade', 'col3', 'col4', 'award'], axis=1, inplace=True)"
      ]
    },
    {
      "cell_type": "code",
      "execution_count": null,
      "id": "2f818c5b",
      "metadata": {
        "id": "2f818c5b",
        "outputId": "51b63506-b8e6-49a0-af54-c89e08d40660"
      },
      "outputs": [
        {
          "data": {
            "text/html": [
              "<div>\n",
              "<style scoped>\n",
              "    .dataframe tbody tr th:only-of-type {\n",
              "        vertical-align: middle;\n",
              "    }\n",
              "\n",
              "    .dataframe tbody tr th {\n",
              "        vertical-align: top;\n",
              "    }\n",
              "\n",
              "    .dataframe thead th {\n",
              "        text-align: right;\n",
              "    }\n",
              "</style>\n",
              "<table border=\"1\" class=\"dataframe\">\n",
              "  <thead>\n",
              "    <tr style=\"text-align: right;\">\n",
              "      <th></th>\n",
              "      <th>ids</th>\n",
              "      <th>percents</th>\n",
              "      <th>sports</th>\n",
              "    </tr>\n",
              "  </thead>\n",
              "  <tbody>\n",
              "    <tr>\n",
              "      <th>a</th>\n",
              "      <td>101</td>\n",
              "      <td>81.5</td>\n",
              "      <td>no</td>\n",
              "    </tr>\n",
              "    <tr>\n",
              "      <th>b</th>\n",
              "      <td>102</td>\n",
              "      <td>90.5</td>\n",
              "      <td>no</td>\n",
              "    </tr>\n",
              "    <tr>\n",
              "      <th>c</th>\n",
              "      <td>103</td>\n",
              "      <td>77.5</td>\n",
              "      <td>no</td>\n",
              "    </tr>\n",
              "    <tr>\n",
              "      <th>d</th>\n",
              "      <td>104</td>\n",
              "      <td>61.0</td>\n",
              "      <td>yes</td>\n",
              "    </tr>\n",
              "  </tbody>\n",
              "</table>\n",
              "</div>"
            ],
            "text/plain": [
              "   ids  percents sports\n",
              "a  101      81.5     no\n",
              "b  102      90.5     no\n",
              "c  103      77.5     no\n",
              "d  104      61.0    yes"
            ]
          },
          "execution_count": 239,
          "metadata": {},
          "output_type": "execute_result"
        }
      ],
      "source": [
        "df3"
      ]
    },
    {
      "cell_type": "markdown",
      "source": [
        "\"\"create a column named 'award' the values of this column will depend on the percent column and sports column if the student has got more than or equal to 90% marks OR plays sports, then he/she gets an award value of the column => True, else False \"\""
      ],
      "metadata": {
        "id": "384cdxv7hXjZ"
      },
      "id": "384cdxv7hXjZ"
    },
    {
      "cell_type": "code",
      "execution_count": null,
      "id": "e99da629",
      "metadata": {
        "id": "e99da629",
        "outputId": "25ffb43b-bbb8-4f97-e9e7-d6d1c3cfbc52",
        "colab": {
          "base_uri": "https://localhost:8080/",
          "height": 287
        }
      },
      "outputs": [
        {
          "output_type": "error",
          "ename": "ValueError",
          "evalue": "ignored",
          "traceback": [
            "\u001b[0;31m---------------------------------------------------------------------------\u001b[0m",
            "\u001b[0;31mValueError\u001b[0m                                Traceback (most recent call last)",
            "\u001b[0;32m<ipython-input-158-9f2cba1fae80>\u001b[0m in \u001b[0;36m<cell line: 1>\u001b[0;34m()\u001b[0m\n\u001b[0;32m----> 1\u001b[0;31m \u001b[0mdf3\u001b[0m\u001b[0;34m[\u001b[0m\u001b[0;34m'percents'\u001b[0m\u001b[0;34m]\u001b[0m \u001b[0;34m>=\u001b[0m \u001b[0;36m90\u001b[0m \u001b[0;32mor\u001b[0m \u001b[0mdf3\u001b[0m\u001b[0;34m[\u001b[0m\u001b[0;34m'sports'\u001b[0m\u001b[0;34m]\u001b[0m \u001b[0;34m==\u001b[0m \u001b[0;34m'yes'\u001b[0m\u001b[0;34m\u001b[0m\u001b[0;34m\u001b[0m\u001b[0m\n\u001b[0m",
            "\u001b[0;32m/usr/local/lib/python3.10/dist-packages/pandas/core/generic.py\u001b[0m in \u001b[0;36m__nonzero__\u001b[0;34m(self)\u001b[0m\n\u001b[1;32m   1525\u001b[0m     \u001b[0;34m@\u001b[0m\u001b[0mfinal\u001b[0m\u001b[0;34m\u001b[0m\u001b[0;34m\u001b[0m\u001b[0m\n\u001b[1;32m   1526\u001b[0m     \u001b[0;32mdef\u001b[0m \u001b[0m__nonzero__\u001b[0m\u001b[0;34m(\u001b[0m\u001b[0mself\u001b[0m\u001b[0;34m)\u001b[0m \u001b[0;34m->\u001b[0m \u001b[0mNoReturn\u001b[0m\u001b[0;34m:\u001b[0m\u001b[0;34m\u001b[0m\u001b[0;34m\u001b[0m\u001b[0m\n\u001b[0;32m-> 1527\u001b[0;31m         raise ValueError(\n\u001b[0m\u001b[1;32m   1528\u001b[0m             \u001b[0;34mf\"The truth value of a {type(self).__name__} is ambiguous. \"\u001b[0m\u001b[0;34m\u001b[0m\u001b[0;34m\u001b[0m\u001b[0m\n\u001b[1;32m   1529\u001b[0m             \u001b[0;34m\"Use a.empty, a.bool(), a.item(), a.any() or a.all().\"\u001b[0m\u001b[0;34m\u001b[0m\u001b[0;34m\u001b[0m\u001b[0m\n",
            "\u001b[0;31mValueError\u001b[0m: The truth value of a Series is ambiguous. Use a.empty, a.bool(), a.item(), a.any() or a.all()."
          ]
        }
      ],
      "source": [
        "df3['percents'] >= 90 or df3['sports'] == 'yes'"
      ]
    },
    {
      "cell_type": "code",
      "execution_count": null,
      "id": "5a13b0e9",
      "metadata": {
        "id": "5a13b0e9",
        "outputId": "586b46a4-3fa6-4366-a374-c5fecd50f3ec",
        "colab": {
          "base_uri": "https://localhost:8080/",
          "height": 287
        }
      },
      "outputs": [
        {
          "output_type": "error",
          "ename": "ValueError",
          "evalue": "ignored",
          "traceback": [
            "\u001b[0;31m---------------------------------------------------------------------------\u001b[0m",
            "\u001b[0;31mValueError\u001b[0m                                Traceback (most recent call last)",
            "\u001b[0;32m<ipython-input-159-a24e594a6570>\u001b[0m in \u001b[0;36m<cell line: 1>\u001b[0;34m()\u001b[0m\n\u001b[0;32m----> 1\u001b[0;31m \u001b[0;34m(\u001b[0m\u001b[0mdf3\u001b[0m\u001b[0;34m[\u001b[0m\u001b[0;34m'percents'\u001b[0m\u001b[0;34m]\u001b[0m \u001b[0;34m>=\u001b[0m \u001b[0;36m90\u001b[0m\u001b[0;34m)\u001b[0m \u001b[0;32mor\u001b[0m \u001b[0;34m(\u001b[0m\u001b[0mdf3\u001b[0m\u001b[0;34m[\u001b[0m\u001b[0;34m'sports'\u001b[0m\u001b[0;34m]\u001b[0m \u001b[0;34m==\u001b[0m \u001b[0;34m'yes'\u001b[0m\u001b[0;34m)\u001b[0m\u001b[0;34m\u001b[0m\u001b[0;34m\u001b[0m\u001b[0m\n\u001b[0m",
            "\u001b[0;32m/usr/local/lib/python3.10/dist-packages/pandas/core/generic.py\u001b[0m in \u001b[0;36m__nonzero__\u001b[0;34m(self)\u001b[0m\n\u001b[1;32m   1525\u001b[0m     \u001b[0;34m@\u001b[0m\u001b[0mfinal\u001b[0m\u001b[0;34m\u001b[0m\u001b[0;34m\u001b[0m\u001b[0m\n\u001b[1;32m   1526\u001b[0m     \u001b[0;32mdef\u001b[0m \u001b[0m__nonzero__\u001b[0m\u001b[0;34m(\u001b[0m\u001b[0mself\u001b[0m\u001b[0;34m)\u001b[0m \u001b[0;34m->\u001b[0m \u001b[0mNoReturn\u001b[0m\u001b[0;34m:\u001b[0m\u001b[0;34m\u001b[0m\u001b[0;34m\u001b[0m\u001b[0m\n\u001b[0;32m-> 1527\u001b[0;31m         raise ValueError(\n\u001b[0m\u001b[1;32m   1528\u001b[0m             \u001b[0;34mf\"The truth value of a {type(self).__name__} is ambiguous. \"\u001b[0m\u001b[0;34m\u001b[0m\u001b[0;34m\u001b[0m\u001b[0m\n\u001b[1;32m   1529\u001b[0m             \u001b[0;34m\"Use a.empty, a.bool(), a.item(), a.any() or a.all().\"\u001b[0m\u001b[0;34m\u001b[0m\u001b[0;34m\u001b[0m\u001b[0m\n",
            "\u001b[0;31mValueError\u001b[0m: The truth value of a Series is ambiguous. Use a.empty, a.bool(), a.item(), a.any() or a.all()."
          ]
        }
      ],
      "source": [
        "(df3['percents'] >= 90) or (df3['sports'] == 'yes')"
      ]
    },
    {
      "cell_type": "code",
      "execution_count": null,
      "id": "38aa3a7a",
      "metadata": {
        "id": "38aa3a7a",
        "outputId": "df2d7745-5132-44d1-eceb-a012c58fdead",
        "colab": {
          "base_uri": "https://localhost:8080/"
        }
      },
      "outputs": [
        {
          "output_type": "execute_result",
          "data": {
            "text/plain": [
              "a    False\n",
              "b     True\n",
              "c    False\n",
              "d     True\n",
              "dtype: bool"
            ]
          },
          "metadata": {},
          "execution_count": 160
        }
      ],
      "source": [
        "(df3['percents'] >= 90) | (df3['sports'] == 'yes')"
      ]
    },
    {
      "cell_type": "code",
      "execution_count": null,
      "id": "e93c066d",
      "metadata": {
        "id": "e93c066d",
        "outputId": "1ddd2b3b-2382-4604-d57e-31d4506c6bff",
        "colab": {
          "base_uri": "https://localhost:8080/",
          "height": 175
        }
      },
      "outputs": [
        {
          "output_type": "execute_result",
          "data": {
            "text/plain": [
              "   ids  percents sports\n",
              "a  101      81.5     no\n",
              "b  102      90.5     no\n",
              "c  103      77.5     no\n",
              "d  104      61.0    yes"
            ],
            "text/html": [
              "\n",
              "  <div id=\"df-68e3c0a1-9386-4c16-9d75-499a720fa7e1\">\n",
              "    <div class=\"colab-df-container\">\n",
              "      <div>\n",
              "<style scoped>\n",
              "    .dataframe tbody tr th:only-of-type {\n",
              "        vertical-align: middle;\n",
              "    }\n",
              "\n",
              "    .dataframe tbody tr th {\n",
              "        vertical-align: top;\n",
              "    }\n",
              "\n",
              "    .dataframe thead th {\n",
              "        text-align: right;\n",
              "    }\n",
              "</style>\n",
              "<table border=\"1\" class=\"dataframe\">\n",
              "  <thead>\n",
              "    <tr style=\"text-align: right;\">\n",
              "      <th></th>\n",
              "      <th>ids</th>\n",
              "      <th>percents</th>\n",
              "      <th>sports</th>\n",
              "    </tr>\n",
              "  </thead>\n",
              "  <tbody>\n",
              "    <tr>\n",
              "      <th>a</th>\n",
              "      <td>101</td>\n",
              "      <td>81.5</td>\n",
              "      <td>no</td>\n",
              "    </tr>\n",
              "    <tr>\n",
              "      <th>b</th>\n",
              "      <td>102</td>\n",
              "      <td>90.5</td>\n",
              "      <td>no</td>\n",
              "    </tr>\n",
              "    <tr>\n",
              "      <th>c</th>\n",
              "      <td>103</td>\n",
              "      <td>77.5</td>\n",
              "      <td>no</td>\n",
              "    </tr>\n",
              "    <tr>\n",
              "      <th>d</th>\n",
              "      <td>104</td>\n",
              "      <td>61.0</td>\n",
              "      <td>yes</td>\n",
              "    </tr>\n",
              "  </tbody>\n",
              "</table>\n",
              "</div>\n",
              "      <button class=\"colab-df-convert\" onclick=\"convertToInteractive('df-68e3c0a1-9386-4c16-9d75-499a720fa7e1')\"\n",
              "              title=\"Convert this dataframe to an interactive table.\"\n",
              "              style=\"display:none;\">\n",
              "        \n",
              "  <svg xmlns=\"http://www.w3.org/2000/svg\" height=\"24px\"viewBox=\"0 0 24 24\"\n",
              "       width=\"24px\">\n",
              "    <path d=\"M0 0h24v24H0V0z\" fill=\"none\"/>\n",
              "    <path d=\"M18.56 5.44l.94 2.06.94-2.06 2.06-.94-2.06-.94-.94-2.06-.94 2.06-2.06.94zm-11 1L8.5 8.5l.94-2.06 2.06-.94-2.06-.94L8.5 2.5l-.94 2.06-2.06.94zm10 10l.94 2.06.94-2.06 2.06-.94-2.06-.94-.94-2.06-.94 2.06-2.06.94z\"/><path d=\"M17.41 7.96l-1.37-1.37c-.4-.4-.92-.59-1.43-.59-.52 0-1.04.2-1.43.59L10.3 9.45l-7.72 7.72c-.78.78-.78 2.05 0 2.83L4 21.41c.39.39.9.59 1.41.59.51 0 1.02-.2 1.41-.59l7.78-7.78 2.81-2.81c.8-.78.8-2.07 0-2.86zM5.41 20L4 18.59l7.72-7.72 1.47 1.35L5.41 20z\"/>\n",
              "  </svg>\n",
              "      </button>\n",
              "      \n",
              "  <style>\n",
              "    .colab-df-container {\n",
              "      display:flex;\n",
              "      flex-wrap:wrap;\n",
              "      gap: 12px;\n",
              "    }\n",
              "\n",
              "    .colab-df-convert {\n",
              "      background-color: #E8F0FE;\n",
              "      border: none;\n",
              "      border-radius: 50%;\n",
              "      cursor: pointer;\n",
              "      display: none;\n",
              "      fill: #1967D2;\n",
              "      height: 32px;\n",
              "      padding: 0 0 0 0;\n",
              "      width: 32px;\n",
              "    }\n",
              "\n",
              "    .colab-df-convert:hover {\n",
              "      background-color: #E2EBFA;\n",
              "      box-shadow: 0px 1px 2px rgba(60, 64, 67, 0.3), 0px 1px 3px 1px rgba(60, 64, 67, 0.15);\n",
              "      fill: #174EA6;\n",
              "    }\n",
              "\n",
              "    [theme=dark] .colab-df-convert {\n",
              "      background-color: #3B4455;\n",
              "      fill: #D2E3FC;\n",
              "    }\n",
              "\n",
              "    [theme=dark] .colab-df-convert:hover {\n",
              "      background-color: #434B5C;\n",
              "      box-shadow: 0px 1px 3px 1px rgba(0, 0, 0, 0.15);\n",
              "      filter: drop-shadow(0px 1px 2px rgba(0, 0, 0, 0.3));\n",
              "      fill: #FFFFFF;\n",
              "    }\n",
              "  </style>\n",
              "\n",
              "      <script>\n",
              "        const buttonEl =\n",
              "          document.querySelector('#df-68e3c0a1-9386-4c16-9d75-499a720fa7e1 button.colab-df-convert');\n",
              "        buttonEl.style.display =\n",
              "          google.colab.kernel.accessAllowed ? 'block' : 'none';\n",
              "\n",
              "        async function convertToInteractive(key) {\n",
              "          const element = document.querySelector('#df-68e3c0a1-9386-4c16-9d75-499a720fa7e1');\n",
              "          const dataTable =\n",
              "            await google.colab.kernel.invokeFunction('convertToInteractive',\n",
              "                                                     [key], {});\n",
              "          if (!dataTable) return;\n",
              "\n",
              "          const docLinkHtml = 'Like what you see? Visit the ' +\n",
              "            '<a target=\"_blank\" href=https://colab.research.google.com/notebooks/data_table.ipynb>data table notebook</a>'\n",
              "            + ' to learn more about interactive tables.';\n",
              "          element.innerHTML = '';\n",
              "          dataTable['output_type'] = 'display_data';\n",
              "          await google.colab.output.renderOutput(dataTable, element);\n",
              "          const docLink = document.createElement('div');\n",
              "          docLink.innerHTML = docLinkHtml;\n",
              "          element.appendChild(docLink);\n",
              "        }\n",
              "      </script>\n",
              "    </div>\n",
              "  </div>\n",
              "  "
            ]
          },
          "metadata": {},
          "execution_count": 161
        }
      ],
      "source": [
        "df3"
      ]
    },
    {
      "cell_type": "code",
      "execution_count": null,
      "id": "bc2b4f47",
      "metadata": {
        "id": "bc2b4f47",
        "outputId": "a10faa64-a06a-4c72-c237-b115eab74ef4",
        "colab": {
          "base_uri": "https://localhost:8080/"
        }
      },
      "outputs": [
        {
          "output_type": "execute_result",
          "data": {
            "text/plain": [
              "a    False\n",
              "b     True\n",
              "c    False\n",
              "d    False\n",
              "Name: percents, dtype: bool"
            ]
          },
          "metadata": {},
          "execution_count": 162
        }
      ],
      "source": [
        "df3['percents'] >= 90"
      ]
    },
    {
      "cell_type": "code",
      "execution_count": null,
      "id": "4c51d91c",
      "metadata": {
        "id": "4c51d91c",
        "outputId": "3d9b24ae-368e-42eb-9e14-d089ae66be49",
        "colab": {
          "base_uri": "https://localhost:8080/"
        }
      },
      "outputs": [
        {
          "output_type": "execute_result",
          "data": {
            "text/plain": [
              "a    False\n",
              "b    False\n",
              "c    False\n",
              "d     True\n",
              "Name: sports, dtype: bool"
            ]
          },
          "metadata": {},
          "execution_count": 163
        }
      ],
      "source": [
        "df3['sports'] == 'yes'"
      ]
    },
    {
      "cell_type": "code",
      "execution_count": null,
      "id": "a9b4798a",
      "metadata": {
        "id": "a9b4798a"
      },
      "outputs": [],
      "source": [
        "df3['award'] = (df3['percents'] >= 90) | (df3['sports'] == 'yes')"
      ]
    },
    {
      "cell_type": "code",
      "execution_count": null,
      "id": "1c9e0b79",
      "metadata": {
        "id": "1c9e0b79",
        "outputId": "6fec189c-12cf-40de-bbfe-ef1890771147",
        "colab": {
          "base_uri": "https://localhost:8080/",
          "height": 175
        }
      },
      "outputs": [
        {
          "output_type": "execute_result",
          "data": {
            "text/plain": [
              "   ids  percents sports  award\n",
              "a  101      81.5     no  False\n",
              "b  102      90.5     no   True\n",
              "c  103      77.5     no  False\n",
              "d  104      61.0    yes   True"
            ],
            "text/html": [
              "\n",
              "  <div id=\"df-cfe191cd-50e6-4b7f-8fbb-c44af9856b2f\">\n",
              "    <div class=\"colab-df-container\">\n",
              "      <div>\n",
              "<style scoped>\n",
              "    .dataframe tbody tr th:only-of-type {\n",
              "        vertical-align: middle;\n",
              "    }\n",
              "\n",
              "    .dataframe tbody tr th {\n",
              "        vertical-align: top;\n",
              "    }\n",
              "\n",
              "    .dataframe thead th {\n",
              "        text-align: right;\n",
              "    }\n",
              "</style>\n",
              "<table border=\"1\" class=\"dataframe\">\n",
              "  <thead>\n",
              "    <tr style=\"text-align: right;\">\n",
              "      <th></th>\n",
              "      <th>ids</th>\n",
              "      <th>percents</th>\n",
              "      <th>sports</th>\n",
              "      <th>award</th>\n",
              "    </tr>\n",
              "  </thead>\n",
              "  <tbody>\n",
              "    <tr>\n",
              "      <th>a</th>\n",
              "      <td>101</td>\n",
              "      <td>81.5</td>\n",
              "      <td>no</td>\n",
              "      <td>False</td>\n",
              "    </tr>\n",
              "    <tr>\n",
              "      <th>b</th>\n",
              "      <td>102</td>\n",
              "      <td>90.5</td>\n",
              "      <td>no</td>\n",
              "      <td>True</td>\n",
              "    </tr>\n",
              "    <tr>\n",
              "      <th>c</th>\n",
              "      <td>103</td>\n",
              "      <td>77.5</td>\n",
              "      <td>no</td>\n",
              "      <td>False</td>\n",
              "    </tr>\n",
              "    <tr>\n",
              "      <th>d</th>\n",
              "      <td>104</td>\n",
              "      <td>61.0</td>\n",
              "      <td>yes</td>\n",
              "      <td>True</td>\n",
              "    </tr>\n",
              "  </tbody>\n",
              "</table>\n",
              "</div>\n",
              "      <button class=\"colab-df-convert\" onclick=\"convertToInteractive('df-cfe191cd-50e6-4b7f-8fbb-c44af9856b2f')\"\n",
              "              title=\"Convert this dataframe to an interactive table.\"\n",
              "              style=\"display:none;\">\n",
              "        \n",
              "  <svg xmlns=\"http://www.w3.org/2000/svg\" height=\"24px\"viewBox=\"0 0 24 24\"\n",
              "       width=\"24px\">\n",
              "    <path d=\"M0 0h24v24H0V0z\" fill=\"none\"/>\n",
              "    <path d=\"M18.56 5.44l.94 2.06.94-2.06 2.06-.94-2.06-.94-.94-2.06-.94 2.06-2.06.94zm-11 1L8.5 8.5l.94-2.06 2.06-.94-2.06-.94L8.5 2.5l-.94 2.06-2.06.94zm10 10l.94 2.06.94-2.06 2.06-.94-2.06-.94-.94-2.06-.94 2.06-2.06.94z\"/><path d=\"M17.41 7.96l-1.37-1.37c-.4-.4-.92-.59-1.43-.59-.52 0-1.04.2-1.43.59L10.3 9.45l-7.72 7.72c-.78.78-.78 2.05 0 2.83L4 21.41c.39.39.9.59 1.41.59.51 0 1.02-.2 1.41-.59l7.78-7.78 2.81-2.81c.8-.78.8-2.07 0-2.86zM5.41 20L4 18.59l7.72-7.72 1.47 1.35L5.41 20z\"/>\n",
              "  </svg>\n",
              "      </button>\n",
              "      \n",
              "  <style>\n",
              "    .colab-df-container {\n",
              "      display:flex;\n",
              "      flex-wrap:wrap;\n",
              "      gap: 12px;\n",
              "    }\n",
              "\n",
              "    .colab-df-convert {\n",
              "      background-color: #E8F0FE;\n",
              "      border: none;\n",
              "      border-radius: 50%;\n",
              "      cursor: pointer;\n",
              "      display: none;\n",
              "      fill: #1967D2;\n",
              "      height: 32px;\n",
              "      padding: 0 0 0 0;\n",
              "      width: 32px;\n",
              "    }\n",
              "\n",
              "    .colab-df-convert:hover {\n",
              "      background-color: #E2EBFA;\n",
              "      box-shadow: 0px 1px 2px rgba(60, 64, 67, 0.3), 0px 1px 3px 1px rgba(60, 64, 67, 0.15);\n",
              "      fill: #174EA6;\n",
              "    }\n",
              "\n",
              "    [theme=dark] .colab-df-convert {\n",
              "      background-color: #3B4455;\n",
              "      fill: #D2E3FC;\n",
              "    }\n",
              "\n",
              "    [theme=dark] .colab-df-convert:hover {\n",
              "      background-color: #434B5C;\n",
              "      box-shadow: 0px 1px 3px 1px rgba(0, 0, 0, 0.15);\n",
              "      filter: drop-shadow(0px 1px 2px rgba(0, 0, 0, 0.3));\n",
              "      fill: #FFFFFF;\n",
              "    }\n",
              "  </style>\n",
              "\n",
              "      <script>\n",
              "        const buttonEl =\n",
              "          document.querySelector('#df-cfe191cd-50e6-4b7f-8fbb-c44af9856b2f button.colab-df-convert');\n",
              "        buttonEl.style.display =\n",
              "          google.colab.kernel.accessAllowed ? 'block' : 'none';\n",
              "\n",
              "        async function convertToInteractive(key) {\n",
              "          const element = document.querySelector('#df-cfe191cd-50e6-4b7f-8fbb-c44af9856b2f');\n",
              "          const dataTable =\n",
              "            await google.colab.kernel.invokeFunction('convertToInteractive',\n",
              "                                                     [key], {});\n",
              "          if (!dataTable) return;\n",
              "\n",
              "          const docLinkHtml = 'Like what you see? Visit the ' +\n",
              "            '<a target=\"_blank\" href=https://colab.research.google.com/notebooks/data_table.ipynb>data table notebook</a>'\n",
              "            + ' to learn more about interactive tables.';\n",
              "          element.innerHTML = '';\n",
              "          dataTable['output_type'] = 'display_data';\n",
              "          await google.colab.output.renderOutput(dataTable, element);\n",
              "          const docLink = document.createElement('div');\n",
              "          docLink.innerHTML = docLinkHtml;\n",
              "          element.appendChild(docLink);\n",
              "        }\n",
              "      </script>\n",
              "    </div>\n",
              "  </div>\n",
              "  "
            ]
          },
          "metadata": {},
          "execution_count": 165
        }
      ],
      "source": [
        "df3"
      ]
    },
    {
      "cell_type": "markdown",
      "source": [
        "\"\"create a column named 'award' the values of this column will depend on the percent column and sports column if the student has got more than or equal to 90% marks OR plays sports, then he/she gets an award value of the column => 'yes', else 'no' \"\""
      ],
      "metadata": {
        "id": "F9IrXnWehrAn"
      },
      "id": "F9IrXnWehrAn"
    },
    {
      "cell_type": "code",
      "execution_count": null,
      "id": "d9170ae9",
      "metadata": {
        "id": "d9170ae9",
        "outputId": "dd610702-746a-41eb-aa7c-4e8fc5fd3cd2",
        "colab": {
          "base_uri": "https://localhost:8080/"
        }
      },
      "outputs": [
        {
          "output_type": "execute_result",
          "data": {
            "text/plain": [
              "array(['no', 'yes', 'no', 'yes'], dtype='<U3')"
            ]
          },
          "metadata": {},
          "execution_count": 166
        }
      ],
      "source": [
        "np.where((df3['percents'] >= 90) | (df3['sports'] == 'yes'), 'yes', 'no')"
      ]
    },
    {
      "cell_type": "code",
      "execution_count": null,
      "id": "7b1c503f",
      "metadata": {
        "id": "7b1c503f"
      },
      "outputs": [],
      "source": [
        "df3['award'] = np.where((df3['percents'] >= 90) | (df3['sports'] == 'yes'), 'yes', 'no')"
      ]
    },
    {
      "cell_type": "code",
      "execution_count": null,
      "id": "c34bd36b",
      "metadata": {
        "id": "c34bd36b",
        "outputId": "dc492418-f276-4cb5-ba80-f6c07f592f4a",
        "colab": {
          "base_uri": "https://localhost:8080/",
          "height": 175
        }
      },
      "outputs": [
        {
          "output_type": "execute_result",
          "data": {
            "text/plain": [
              "   ids  percents sports award\n",
              "a  101      81.5     no    no\n",
              "b  102      90.5     no   yes\n",
              "c  103      77.5     no    no\n",
              "d  104      61.0    yes   yes"
            ],
            "text/html": [
              "\n",
              "  <div id=\"df-cafaa1a5-7a59-45a0-8b72-ba59019c957e\">\n",
              "    <div class=\"colab-df-container\">\n",
              "      <div>\n",
              "<style scoped>\n",
              "    .dataframe tbody tr th:only-of-type {\n",
              "        vertical-align: middle;\n",
              "    }\n",
              "\n",
              "    .dataframe tbody tr th {\n",
              "        vertical-align: top;\n",
              "    }\n",
              "\n",
              "    .dataframe thead th {\n",
              "        text-align: right;\n",
              "    }\n",
              "</style>\n",
              "<table border=\"1\" class=\"dataframe\">\n",
              "  <thead>\n",
              "    <tr style=\"text-align: right;\">\n",
              "      <th></th>\n",
              "      <th>ids</th>\n",
              "      <th>percents</th>\n",
              "      <th>sports</th>\n",
              "      <th>award</th>\n",
              "    </tr>\n",
              "  </thead>\n",
              "  <tbody>\n",
              "    <tr>\n",
              "      <th>a</th>\n",
              "      <td>101</td>\n",
              "      <td>81.5</td>\n",
              "      <td>no</td>\n",
              "      <td>no</td>\n",
              "    </tr>\n",
              "    <tr>\n",
              "      <th>b</th>\n",
              "      <td>102</td>\n",
              "      <td>90.5</td>\n",
              "      <td>no</td>\n",
              "      <td>yes</td>\n",
              "    </tr>\n",
              "    <tr>\n",
              "      <th>c</th>\n",
              "      <td>103</td>\n",
              "      <td>77.5</td>\n",
              "      <td>no</td>\n",
              "      <td>no</td>\n",
              "    </tr>\n",
              "    <tr>\n",
              "      <th>d</th>\n",
              "      <td>104</td>\n",
              "      <td>61.0</td>\n",
              "      <td>yes</td>\n",
              "      <td>yes</td>\n",
              "    </tr>\n",
              "  </tbody>\n",
              "</table>\n",
              "</div>\n",
              "      <button class=\"colab-df-convert\" onclick=\"convertToInteractive('df-cafaa1a5-7a59-45a0-8b72-ba59019c957e')\"\n",
              "              title=\"Convert this dataframe to an interactive table.\"\n",
              "              style=\"display:none;\">\n",
              "        \n",
              "  <svg xmlns=\"http://www.w3.org/2000/svg\" height=\"24px\"viewBox=\"0 0 24 24\"\n",
              "       width=\"24px\">\n",
              "    <path d=\"M0 0h24v24H0V0z\" fill=\"none\"/>\n",
              "    <path d=\"M18.56 5.44l.94 2.06.94-2.06 2.06-.94-2.06-.94-.94-2.06-.94 2.06-2.06.94zm-11 1L8.5 8.5l.94-2.06 2.06-.94-2.06-.94L8.5 2.5l-.94 2.06-2.06.94zm10 10l.94 2.06.94-2.06 2.06-.94-2.06-.94-.94-2.06-.94 2.06-2.06.94z\"/><path d=\"M17.41 7.96l-1.37-1.37c-.4-.4-.92-.59-1.43-.59-.52 0-1.04.2-1.43.59L10.3 9.45l-7.72 7.72c-.78.78-.78 2.05 0 2.83L4 21.41c.39.39.9.59 1.41.59.51 0 1.02-.2 1.41-.59l7.78-7.78 2.81-2.81c.8-.78.8-2.07 0-2.86zM5.41 20L4 18.59l7.72-7.72 1.47 1.35L5.41 20z\"/>\n",
              "  </svg>\n",
              "      </button>\n",
              "      \n",
              "  <style>\n",
              "    .colab-df-container {\n",
              "      display:flex;\n",
              "      flex-wrap:wrap;\n",
              "      gap: 12px;\n",
              "    }\n",
              "\n",
              "    .colab-df-convert {\n",
              "      background-color: #E8F0FE;\n",
              "      border: none;\n",
              "      border-radius: 50%;\n",
              "      cursor: pointer;\n",
              "      display: none;\n",
              "      fill: #1967D2;\n",
              "      height: 32px;\n",
              "      padding: 0 0 0 0;\n",
              "      width: 32px;\n",
              "    }\n",
              "\n",
              "    .colab-df-convert:hover {\n",
              "      background-color: #E2EBFA;\n",
              "      box-shadow: 0px 1px 2px rgba(60, 64, 67, 0.3), 0px 1px 3px 1px rgba(60, 64, 67, 0.15);\n",
              "      fill: #174EA6;\n",
              "    }\n",
              "\n",
              "    [theme=dark] .colab-df-convert {\n",
              "      background-color: #3B4455;\n",
              "      fill: #D2E3FC;\n",
              "    }\n",
              "\n",
              "    [theme=dark] .colab-df-convert:hover {\n",
              "      background-color: #434B5C;\n",
              "      box-shadow: 0px 1px 3px 1px rgba(0, 0, 0, 0.15);\n",
              "      filter: drop-shadow(0px 1px 2px rgba(0, 0, 0, 0.3));\n",
              "      fill: #FFFFFF;\n",
              "    }\n",
              "  </style>\n",
              "\n",
              "      <script>\n",
              "        const buttonEl =\n",
              "          document.querySelector('#df-cafaa1a5-7a59-45a0-8b72-ba59019c957e button.colab-df-convert');\n",
              "        buttonEl.style.display =\n",
              "          google.colab.kernel.accessAllowed ? 'block' : 'none';\n",
              "\n",
              "        async function convertToInteractive(key) {\n",
              "          const element = document.querySelector('#df-cafaa1a5-7a59-45a0-8b72-ba59019c957e');\n",
              "          const dataTable =\n",
              "            await google.colab.kernel.invokeFunction('convertToInteractive',\n",
              "                                                     [key], {});\n",
              "          if (!dataTable) return;\n",
              "\n",
              "          const docLinkHtml = 'Like what you see? Visit the ' +\n",
              "            '<a target=\"_blank\" href=https://colab.research.google.com/notebooks/data_table.ipynb>data table notebook</a>'\n",
              "            + ' to learn more about interactive tables.';\n",
              "          element.innerHTML = '';\n",
              "          dataTable['output_type'] = 'display_data';\n",
              "          await google.colab.output.renderOutput(dataTable, element);\n",
              "          const docLink = document.createElement('div');\n",
              "          docLink.innerHTML = docLinkHtml;\n",
              "          element.appendChild(docLink);\n",
              "        }\n",
              "      </script>\n",
              "    </div>\n",
              "  </div>\n",
              "  "
            ]
          },
          "metadata": {},
          "execution_count": 168
        }
      ],
      "source": [
        "df3"
      ]
    },
    {
      "cell_type": "markdown",
      "source": [
        "\"\"create a column 'grade'\n",
        "* values will depend on 'percents' column\n",
        "* if percents>=90 => 'A'\n",
        "* if percents bet 80-89 => 'B'\n",
        "* if percents bet 70-79 => 'C'\n",
        "* if percents bet 60-69 => 'D'\n",
        "* if percents < 60 => 'F' \"\""
      ],
      "metadata": {
        "id": "Ej1YkXIWh3hl"
      },
      "id": "Ej1YkXIWh3hl"
    },
    {
      "cell_type": "code",
      "execution_count": null,
      "id": "333fe62f",
      "metadata": {
        "id": "333fe62f"
      },
      "outputs": [],
      "source": [
        "conditions = [df3['percents']>=90,\n",
        "              (df3['percents']>=80) & (df3['percents']<89),\n",
        "             (df3['percents']>=70) & (df3['percents']<79),\n",
        "             (df3['percents']>=60) & (df3['percents']<69)]\n",
        "\n",
        "choices = ['A', 'B', 'C', 'D']\n",
        "def_grade = 'F'\n"
      ]
    },
    {
      "cell_type": "code",
      "execution_count": null,
      "id": "44e696ba",
      "metadata": {
        "id": "44e696ba",
        "outputId": "87202c93-e788-4633-fca4-6ddc264cc081",
        "colab": {
          "base_uri": "https://localhost:8080/"
        }
      },
      "outputs": [
        {
          "output_type": "execute_result",
          "data": {
            "text/plain": [
              "array(['B', 'A', 'C', 'D'], dtype='<U1')"
            ]
          },
          "metadata": {},
          "execution_count": 170
        }
      ],
      "source": [
        "np.select(conditions, choices, def_grade)"
      ]
    },
    {
      "cell_type": "code",
      "execution_count": null,
      "id": "71928a8b",
      "metadata": {
        "id": "71928a8b"
      },
      "outputs": [],
      "source": [
        "df3['grade'] = np.select(conditions, choices, def_grade)"
      ]
    },
    {
      "cell_type": "code",
      "execution_count": null,
      "id": "6fe248f0",
      "metadata": {
        "id": "6fe248f0",
        "outputId": "5c43a460-8005-45fe-f4ae-f8017f17b70d",
        "colab": {
          "base_uri": "https://localhost:8080/",
          "height": 175
        }
      },
      "outputs": [
        {
          "output_type": "execute_result",
          "data": {
            "text/plain": [
              "   ids  percents sports award grade\n",
              "a  101      81.5     no    no     B\n",
              "b  102      90.5     no   yes     A\n",
              "c  103      77.5     no    no     C\n",
              "d  104      61.0    yes   yes     D"
            ],
            "text/html": [
              "\n",
              "  <div id=\"df-8ab71c78-f61c-4f2d-a5a0-06192e764210\">\n",
              "    <div class=\"colab-df-container\">\n",
              "      <div>\n",
              "<style scoped>\n",
              "    .dataframe tbody tr th:only-of-type {\n",
              "        vertical-align: middle;\n",
              "    }\n",
              "\n",
              "    .dataframe tbody tr th {\n",
              "        vertical-align: top;\n",
              "    }\n",
              "\n",
              "    .dataframe thead th {\n",
              "        text-align: right;\n",
              "    }\n",
              "</style>\n",
              "<table border=\"1\" class=\"dataframe\">\n",
              "  <thead>\n",
              "    <tr style=\"text-align: right;\">\n",
              "      <th></th>\n",
              "      <th>ids</th>\n",
              "      <th>percents</th>\n",
              "      <th>sports</th>\n",
              "      <th>award</th>\n",
              "      <th>grade</th>\n",
              "    </tr>\n",
              "  </thead>\n",
              "  <tbody>\n",
              "    <tr>\n",
              "      <th>a</th>\n",
              "      <td>101</td>\n",
              "      <td>81.5</td>\n",
              "      <td>no</td>\n",
              "      <td>no</td>\n",
              "      <td>B</td>\n",
              "    </tr>\n",
              "    <tr>\n",
              "      <th>b</th>\n",
              "      <td>102</td>\n",
              "      <td>90.5</td>\n",
              "      <td>no</td>\n",
              "      <td>yes</td>\n",
              "      <td>A</td>\n",
              "    </tr>\n",
              "    <tr>\n",
              "      <th>c</th>\n",
              "      <td>103</td>\n",
              "      <td>77.5</td>\n",
              "      <td>no</td>\n",
              "      <td>no</td>\n",
              "      <td>C</td>\n",
              "    </tr>\n",
              "    <tr>\n",
              "      <th>d</th>\n",
              "      <td>104</td>\n",
              "      <td>61.0</td>\n",
              "      <td>yes</td>\n",
              "      <td>yes</td>\n",
              "      <td>D</td>\n",
              "    </tr>\n",
              "  </tbody>\n",
              "</table>\n",
              "</div>\n",
              "      <button class=\"colab-df-convert\" onclick=\"convertToInteractive('df-8ab71c78-f61c-4f2d-a5a0-06192e764210')\"\n",
              "              title=\"Convert this dataframe to an interactive table.\"\n",
              "              style=\"display:none;\">\n",
              "        \n",
              "  <svg xmlns=\"http://www.w3.org/2000/svg\" height=\"24px\"viewBox=\"0 0 24 24\"\n",
              "       width=\"24px\">\n",
              "    <path d=\"M0 0h24v24H0V0z\" fill=\"none\"/>\n",
              "    <path d=\"M18.56 5.44l.94 2.06.94-2.06 2.06-.94-2.06-.94-.94-2.06-.94 2.06-2.06.94zm-11 1L8.5 8.5l.94-2.06 2.06-.94-2.06-.94L8.5 2.5l-.94 2.06-2.06.94zm10 10l.94 2.06.94-2.06 2.06-.94-2.06-.94-.94-2.06-.94 2.06-2.06.94z\"/><path d=\"M17.41 7.96l-1.37-1.37c-.4-.4-.92-.59-1.43-.59-.52 0-1.04.2-1.43.59L10.3 9.45l-7.72 7.72c-.78.78-.78 2.05 0 2.83L4 21.41c.39.39.9.59 1.41.59.51 0 1.02-.2 1.41-.59l7.78-7.78 2.81-2.81c.8-.78.8-2.07 0-2.86zM5.41 20L4 18.59l7.72-7.72 1.47 1.35L5.41 20z\"/>\n",
              "  </svg>\n",
              "      </button>\n",
              "      \n",
              "  <style>\n",
              "    .colab-df-container {\n",
              "      display:flex;\n",
              "      flex-wrap:wrap;\n",
              "      gap: 12px;\n",
              "    }\n",
              "\n",
              "    .colab-df-convert {\n",
              "      background-color: #E8F0FE;\n",
              "      border: none;\n",
              "      border-radius: 50%;\n",
              "      cursor: pointer;\n",
              "      display: none;\n",
              "      fill: #1967D2;\n",
              "      height: 32px;\n",
              "      padding: 0 0 0 0;\n",
              "      width: 32px;\n",
              "    }\n",
              "\n",
              "    .colab-df-convert:hover {\n",
              "      background-color: #E2EBFA;\n",
              "      box-shadow: 0px 1px 2px rgba(60, 64, 67, 0.3), 0px 1px 3px 1px rgba(60, 64, 67, 0.15);\n",
              "      fill: #174EA6;\n",
              "    }\n",
              "\n",
              "    [theme=dark] .colab-df-convert {\n",
              "      background-color: #3B4455;\n",
              "      fill: #D2E3FC;\n",
              "    }\n",
              "\n",
              "    [theme=dark] .colab-df-convert:hover {\n",
              "      background-color: #434B5C;\n",
              "      box-shadow: 0px 1px 3px 1px rgba(0, 0, 0, 0.15);\n",
              "      filter: drop-shadow(0px 1px 2px rgba(0, 0, 0, 0.3));\n",
              "      fill: #FFFFFF;\n",
              "    }\n",
              "  </style>\n",
              "\n",
              "      <script>\n",
              "        const buttonEl =\n",
              "          document.querySelector('#df-8ab71c78-f61c-4f2d-a5a0-06192e764210 button.colab-df-convert');\n",
              "        buttonEl.style.display =\n",
              "          google.colab.kernel.accessAllowed ? 'block' : 'none';\n",
              "\n",
              "        async function convertToInteractive(key) {\n",
              "          const element = document.querySelector('#df-8ab71c78-f61c-4f2d-a5a0-06192e764210');\n",
              "          const dataTable =\n",
              "            await google.colab.kernel.invokeFunction('convertToInteractive',\n",
              "                                                     [key], {});\n",
              "          if (!dataTable) return;\n",
              "\n",
              "          const docLinkHtml = 'Like what you see? Visit the ' +\n",
              "            '<a target=\"_blank\" href=https://colab.research.google.com/notebooks/data_table.ipynb>data table notebook</a>'\n",
              "            + ' to learn more about interactive tables.';\n",
              "          element.innerHTML = '';\n",
              "          dataTable['output_type'] = 'display_data';\n",
              "          await google.colab.output.renderOutput(dataTable, element);\n",
              "          const docLink = document.createElement('div');\n",
              "          docLink.innerHTML = docLinkHtml;\n",
              "          element.appendChild(docLink);\n",
              "        }\n",
              "      </script>\n",
              "    </div>\n",
              "  </div>\n",
              "  "
            ]
          },
          "metadata": {},
          "execution_count": 172
        }
      ],
      "source": [
        "df3"
      ]
    },
    {
      "cell_type": "markdown",
      "source": [
        "#### Sorting"
      ],
      "metadata": {
        "id": "03UyD_pNiF1n"
      },
      "id": "03UyD_pNiF1n"
    },
    {
      "cell_type": "code",
      "execution_count": null,
      "id": "5b4cd391",
      "metadata": {
        "id": "5b4cd391",
        "outputId": "3b504026-f074-417e-e186-2d2663e42b80",
        "colab": {
          "base_uri": "https://localhost:8080/"
        }
      },
      "outputs": [
        {
          "output_type": "execute_result",
          "data": {
            "text/plain": [
              "h    10\n",
              "c     6\n",
              "a     8\n",
              "z     0\n",
              "g     4\n",
              "e    12\n",
              "j     5\n",
              "dtype: int64"
            ]
          },
          "metadata": {},
          "execution_count": 173
        }
      ],
      "source": [
        "series1"
      ]
    },
    {
      "cell_type": "code",
      "execution_count": null,
      "id": "63de6491",
      "metadata": {
        "id": "63de6491",
        "outputId": "113beca6-4b49-4121-e457-b0d773fc4389",
        "colab": {
          "base_uri": "https://localhost:8080/"
        }
      },
      "outputs": [
        {
          "output_type": "execute_result",
          "data": {
            "text/plain": [
              "a     8\n",
              "c     6\n",
              "e    12\n",
              "g     4\n",
              "h    10\n",
              "j     5\n",
              "z     0\n",
              "dtype: int64"
            ]
          },
          "metadata": {},
          "execution_count": 174
        }
      ],
      "source": [
        "series1.sort_index()  # Index sorting"
      ]
    },
    {
      "cell_type": "code",
      "execution_count": null,
      "id": "5c920197",
      "metadata": {
        "id": "5c920197",
        "outputId": "67022036-238a-4baf-a084-27002ddad607",
        "colab": {
          "base_uri": "https://localhost:8080/"
        }
      },
      "outputs": [
        {
          "output_type": "execute_result",
          "data": {
            "text/plain": [
              "h    10\n",
              "c     6\n",
              "a     8\n",
              "z     0\n",
              "g     4\n",
              "e    12\n",
              "j     5\n",
              "dtype: int64"
            ]
          },
          "metadata": {},
          "execution_count": 175
        }
      ],
      "source": [
        "series1"
      ]
    },
    {
      "cell_type": "code",
      "execution_count": null,
      "id": "9310e0cd",
      "metadata": {
        "id": "9310e0cd",
        "outputId": "d258d0f7-98df-4619-c39f-ae0caa517e15",
        "colab": {
          "base_uri": "https://localhost:8080/"
        }
      },
      "outputs": [
        {
          "output_type": "execute_result",
          "data": {
            "text/plain": [
              "z     0\n",
              "j     5\n",
              "h    10\n",
              "g     4\n",
              "e    12\n",
              "c     6\n",
              "a     8\n",
              "dtype: int64"
            ]
          },
          "metadata": {},
          "execution_count": 178
        }
      ],
      "source": [
        "series1.sort_index(ascending=False)  # As we don't have desinding to achive desinding here we use ascending=False"
      ]
    },
    {
      "cell_type": "code",
      "execution_count": null,
      "id": "91ba24a1",
      "metadata": {
        "id": "91ba24a1",
        "outputId": "fd802a91-a216-4231-876a-d0f572990b5b",
        "colab": {
          "base_uri": "https://localhost:8080/"
        }
      },
      "outputs": [
        {
          "output_type": "execute_result",
          "data": {
            "text/plain": [
              "z     0\n",
              "g     4\n",
              "j     5\n",
              "c     6\n",
              "a     8\n",
              "h    10\n",
              "e    12\n",
              "dtype: int64"
            ]
          },
          "metadata": {},
          "execution_count": 180
        }
      ],
      "source": [
        "series1.sort_values() # Index Value"
      ]
    },
    {
      "cell_type": "code",
      "execution_count": null,
      "id": "42dcd0f1",
      "metadata": {
        "id": "42dcd0f1"
      },
      "outputs": [],
      "source": [
        "series1.sort_values(ascending=False, inplace=True)"
      ]
    },
    {
      "cell_type": "code",
      "execution_count": null,
      "id": "8e88d3c5",
      "metadata": {
        "id": "8e88d3c5",
        "outputId": "4db2827c-e5dc-4f9f-f908-859f8082b7b4",
        "colab": {
          "base_uri": "https://localhost:8080/"
        }
      },
      "outputs": [
        {
          "output_type": "execute_result",
          "data": {
            "text/plain": [
              "e    12\n",
              "h    10\n",
              "a     8\n",
              "c     6\n",
              "j     5\n",
              "g     4\n",
              "z     0\n",
              "dtype: int64"
            ]
          },
          "metadata": {},
          "execution_count": 182
        }
      ],
      "source": [
        "series1"
      ]
    },
    {
      "cell_type": "code",
      "execution_count": null,
      "id": "c2c1d75e",
      "metadata": {
        "id": "c2c1d75e"
      },
      "outputs": [],
      "source": []
    },
    {
      "cell_type": "code",
      "execution_count": null,
      "id": "2a7dfde5",
      "metadata": {
        "id": "2a7dfde5",
        "outputId": "59bfd95d-bfec-407d-f02c-7510ea3b3e17",
        "colab": {
          "base_uri": "https://localhost:8080/",
          "height": 175
        }
      },
      "outputs": [
        {
          "output_type": "execute_result",
          "data": {
            "text/plain": [
              "   ids  percents sports award grade\n",
              "a  101      81.5     no    no     B\n",
              "b  102      90.5     no   yes     A\n",
              "c  103      77.5     no    no     C\n",
              "d  104      61.0    yes   yes     D"
            ],
            "text/html": [
              "\n",
              "  <div id=\"df-7e653837-9312-4394-a8db-b5b96efc2efc\">\n",
              "    <div class=\"colab-df-container\">\n",
              "      <div>\n",
              "<style scoped>\n",
              "    .dataframe tbody tr th:only-of-type {\n",
              "        vertical-align: middle;\n",
              "    }\n",
              "\n",
              "    .dataframe tbody tr th {\n",
              "        vertical-align: top;\n",
              "    }\n",
              "\n",
              "    .dataframe thead th {\n",
              "        text-align: right;\n",
              "    }\n",
              "</style>\n",
              "<table border=\"1\" class=\"dataframe\">\n",
              "  <thead>\n",
              "    <tr style=\"text-align: right;\">\n",
              "      <th></th>\n",
              "      <th>ids</th>\n",
              "      <th>percents</th>\n",
              "      <th>sports</th>\n",
              "      <th>award</th>\n",
              "      <th>grade</th>\n",
              "    </tr>\n",
              "  </thead>\n",
              "  <tbody>\n",
              "    <tr>\n",
              "      <th>a</th>\n",
              "      <td>101</td>\n",
              "      <td>81.5</td>\n",
              "      <td>no</td>\n",
              "      <td>no</td>\n",
              "      <td>B</td>\n",
              "    </tr>\n",
              "    <tr>\n",
              "      <th>b</th>\n",
              "      <td>102</td>\n",
              "      <td>90.5</td>\n",
              "      <td>no</td>\n",
              "      <td>yes</td>\n",
              "      <td>A</td>\n",
              "    </tr>\n",
              "    <tr>\n",
              "      <th>c</th>\n",
              "      <td>103</td>\n",
              "      <td>77.5</td>\n",
              "      <td>no</td>\n",
              "      <td>no</td>\n",
              "      <td>C</td>\n",
              "    </tr>\n",
              "    <tr>\n",
              "      <th>d</th>\n",
              "      <td>104</td>\n",
              "      <td>61.0</td>\n",
              "      <td>yes</td>\n",
              "      <td>yes</td>\n",
              "      <td>D</td>\n",
              "    </tr>\n",
              "  </tbody>\n",
              "</table>\n",
              "</div>\n",
              "      <button class=\"colab-df-convert\" onclick=\"convertToInteractive('df-7e653837-9312-4394-a8db-b5b96efc2efc')\"\n",
              "              title=\"Convert this dataframe to an interactive table.\"\n",
              "              style=\"display:none;\">\n",
              "        \n",
              "  <svg xmlns=\"http://www.w3.org/2000/svg\" height=\"24px\"viewBox=\"0 0 24 24\"\n",
              "       width=\"24px\">\n",
              "    <path d=\"M0 0h24v24H0V0z\" fill=\"none\"/>\n",
              "    <path d=\"M18.56 5.44l.94 2.06.94-2.06 2.06-.94-2.06-.94-.94-2.06-.94 2.06-2.06.94zm-11 1L8.5 8.5l.94-2.06 2.06-.94-2.06-.94L8.5 2.5l-.94 2.06-2.06.94zm10 10l.94 2.06.94-2.06 2.06-.94-2.06-.94-.94-2.06-.94 2.06-2.06.94z\"/><path d=\"M17.41 7.96l-1.37-1.37c-.4-.4-.92-.59-1.43-.59-.52 0-1.04.2-1.43.59L10.3 9.45l-7.72 7.72c-.78.78-.78 2.05 0 2.83L4 21.41c.39.39.9.59 1.41.59.51 0 1.02-.2 1.41-.59l7.78-7.78 2.81-2.81c.8-.78.8-2.07 0-2.86zM5.41 20L4 18.59l7.72-7.72 1.47 1.35L5.41 20z\"/>\n",
              "  </svg>\n",
              "      </button>\n",
              "      \n",
              "  <style>\n",
              "    .colab-df-container {\n",
              "      display:flex;\n",
              "      flex-wrap:wrap;\n",
              "      gap: 12px;\n",
              "    }\n",
              "\n",
              "    .colab-df-convert {\n",
              "      background-color: #E8F0FE;\n",
              "      border: none;\n",
              "      border-radius: 50%;\n",
              "      cursor: pointer;\n",
              "      display: none;\n",
              "      fill: #1967D2;\n",
              "      height: 32px;\n",
              "      padding: 0 0 0 0;\n",
              "      width: 32px;\n",
              "    }\n",
              "\n",
              "    .colab-df-convert:hover {\n",
              "      background-color: #E2EBFA;\n",
              "      box-shadow: 0px 1px 2px rgba(60, 64, 67, 0.3), 0px 1px 3px 1px rgba(60, 64, 67, 0.15);\n",
              "      fill: #174EA6;\n",
              "    }\n",
              "\n",
              "    [theme=dark] .colab-df-convert {\n",
              "      background-color: #3B4455;\n",
              "      fill: #D2E3FC;\n",
              "    }\n",
              "\n",
              "    [theme=dark] .colab-df-convert:hover {\n",
              "      background-color: #434B5C;\n",
              "      box-shadow: 0px 1px 3px 1px rgba(0, 0, 0, 0.15);\n",
              "      filter: drop-shadow(0px 1px 2px rgba(0, 0, 0, 0.3));\n",
              "      fill: #FFFFFF;\n",
              "    }\n",
              "  </style>\n",
              "\n",
              "      <script>\n",
              "        const buttonEl =\n",
              "          document.querySelector('#df-7e653837-9312-4394-a8db-b5b96efc2efc button.colab-df-convert');\n",
              "        buttonEl.style.display =\n",
              "          google.colab.kernel.accessAllowed ? 'block' : 'none';\n",
              "\n",
              "        async function convertToInteractive(key) {\n",
              "          const element = document.querySelector('#df-7e653837-9312-4394-a8db-b5b96efc2efc');\n",
              "          const dataTable =\n",
              "            await google.colab.kernel.invokeFunction('convertToInteractive',\n",
              "                                                     [key], {});\n",
              "          if (!dataTable) return;\n",
              "\n",
              "          const docLinkHtml = 'Like what you see? Visit the ' +\n",
              "            '<a target=\"_blank\" href=https://colab.research.google.com/notebooks/data_table.ipynb>data table notebook</a>'\n",
              "            + ' to learn more about interactive tables.';\n",
              "          element.innerHTML = '';\n",
              "          dataTable['output_type'] = 'display_data';\n",
              "          await google.colab.output.renderOutput(dataTable, element);\n",
              "          const docLink = document.createElement('div');\n",
              "          docLink.innerHTML = docLinkHtml;\n",
              "          element.appendChild(docLink);\n",
              "        }\n",
              "      </script>\n",
              "    </div>\n",
              "  </div>\n",
              "  "
            ]
          },
          "metadata": {},
          "execution_count": 183
        }
      ],
      "source": [
        "df3"
      ]
    },
    {
      "cell_type": "code",
      "execution_count": null,
      "id": "55d3de25",
      "metadata": {
        "id": "55d3de25",
        "outputId": "36419409-1ed1-44db-e0ef-36552a3fdfd1",
        "colab": {
          "base_uri": "https://localhost:8080/",
          "height": 175
        }
      },
      "outputs": [
        {
          "output_type": "execute_result",
          "data": {
            "text/plain": [
              "   ids  percents sports award grade\n",
              "d  104      61.0    yes   yes     D\n",
              "c  103      77.5     no    no     C\n",
              "b  102      90.5     no   yes     A\n",
              "a  101      81.5     no    no     B"
            ],
            "text/html": [
              "\n",
              "  <div id=\"df-c4168f42-369c-40e2-a237-4e34abfa15dc\">\n",
              "    <div class=\"colab-df-container\">\n",
              "      <div>\n",
              "<style scoped>\n",
              "    .dataframe tbody tr th:only-of-type {\n",
              "        vertical-align: middle;\n",
              "    }\n",
              "\n",
              "    .dataframe tbody tr th {\n",
              "        vertical-align: top;\n",
              "    }\n",
              "\n",
              "    .dataframe thead th {\n",
              "        text-align: right;\n",
              "    }\n",
              "</style>\n",
              "<table border=\"1\" class=\"dataframe\">\n",
              "  <thead>\n",
              "    <tr style=\"text-align: right;\">\n",
              "      <th></th>\n",
              "      <th>ids</th>\n",
              "      <th>percents</th>\n",
              "      <th>sports</th>\n",
              "      <th>award</th>\n",
              "      <th>grade</th>\n",
              "    </tr>\n",
              "  </thead>\n",
              "  <tbody>\n",
              "    <tr>\n",
              "      <th>d</th>\n",
              "      <td>104</td>\n",
              "      <td>61.0</td>\n",
              "      <td>yes</td>\n",
              "      <td>yes</td>\n",
              "      <td>D</td>\n",
              "    </tr>\n",
              "    <tr>\n",
              "      <th>c</th>\n",
              "      <td>103</td>\n",
              "      <td>77.5</td>\n",
              "      <td>no</td>\n",
              "      <td>no</td>\n",
              "      <td>C</td>\n",
              "    </tr>\n",
              "    <tr>\n",
              "      <th>b</th>\n",
              "      <td>102</td>\n",
              "      <td>90.5</td>\n",
              "      <td>no</td>\n",
              "      <td>yes</td>\n",
              "      <td>A</td>\n",
              "    </tr>\n",
              "    <tr>\n",
              "      <th>a</th>\n",
              "      <td>101</td>\n",
              "      <td>81.5</td>\n",
              "      <td>no</td>\n",
              "      <td>no</td>\n",
              "      <td>B</td>\n",
              "    </tr>\n",
              "  </tbody>\n",
              "</table>\n",
              "</div>\n",
              "      <button class=\"colab-df-convert\" onclick=\"convertToInteractive('df-c4168f42-369c-40e2-a237-4e34abfa15dc')\"\n",
              "              title=\"Convert this dataframe to an interactive table.\"\n",
              "              style=\"display:none;\">\n",
              "        \n",
              "  <svg xmlns=\"http://www.w3.org/2000/svg\" height=\"24px\"viewBox=\"0 0 24 24\"\n",
              "       width=\"24px\">\n",
              "    <path d=\"M0 0h24v24H0V0z\" fill=\"none\"/>\n",
              "    <path d=\"M18.56 5.44l.94 2.06.94-2.06 2.06-.94-2.06-.94-.94-2.06-.94 2.06-2.06.94zm-11 1L8.5 8.5l.94-2.06 2.06-.94-2.06-.94L8.5 2.5l-.94 2.06-2.06.94zm10 10l.94 2.06.94-2.06 2.06-.94-2.06-.94-.94-2.06-.94 2.06-2.06.94z\"/><path d=\"M17.41 7.96l-1.37-1.37c-.4-.4-.92-.59-1.43-.59-.52 0-1.04.2-1.43.59L10.3 9.45l-7.72 7.72c-.78.78-.78 2.05 0 2.83L4 21.41c.39.39.9.59 1.41.59.51 0 1.02-.2 1.41-.59l7.78-7.78 2.81-2.81c.8-.78.8-2.07 0-2.86zM5.41 20L4 18.59l7.72-7.72 1.47 1.35L5.41 20z\"/>\n",
              "  </svg>\n",
              "      </button>\n",
              "      \n",
              "  <style>\n",
              "    .colab-df-container {\n",
              "      display:flex;\n",
              "      flex-wrap:wrap;\n",
              "      gap: 12px;\n",
              "    }\n",
              "\n",
              "    .colab-df-convert {\n",
              "      background-color: #E8F0FE;\n",
              "      border: none;\n",
              "      border-radius: 50%;\n",
              "      cursor: pointer;\n",
              "      display: none;\n",
              "      fill: #1967D2;\n",
              "      height: 32px;\n",
              "      padding: 0 0 0 0;\n",
              "      width: 32px;\n",
              "    }\n",
              "\n",
              "    .colab-df-convert:hover {\n",
              "      background-color: #E2EBFA;\n",
              "      box-shadow: 0px 1px 2px rgba(60, 64, 67, 0.3), 0px 1px 3px 1px rgba(60, 64, 67, 0.15);\n",
              "      fill: #174EA6;\n",
              "    }\n",
              "\n",
              "    [theme=dark] .colab-df-convert {\n",
              "      background-color: #3B4455;\n",
              "      fill: #D2E3FC;\n",
              "    }\n",
              "\n",
              "    [theme=dark] .colab-df-convert:hover {\n",
              "      background-color: #434B5C;\n",
              "      box-shadow: 0px 1px 3px 1px rgba(0, 0, 0, 0.15);\n",
              "      filter: drop-shadow(0px 1px 2px rgba(0, 0, 0, 0.3));\n",
              "      fill: #FFFFFF;\n",
              "    }\n",
              "  </style>\n",
              "\n",
              "      <script>\n",
              "        const buttonEl =\n",
              "          document.querySelector('#df-c4168f42-369c-40e2-a237-4e34abfa15dc button.colab-df-convert');\n",
              "        buttonEl.style.display =\n",
              "          google.colab.kernel.accessAllowed ? 'block' : 'none';\n",
              "\n",
              "        async function convertToInteractive(key) {\n",
              "          const element = document.querySelector('#df-c4168f42-369c-40e2-a237-4e34abfa15dc');\n",
              "          const dataTable =\n",
              "            await google.colab.kernel.invokeFunction('convertToInteractive',\n",
              "                                                     [key], {});\n",
              "          if (!dataTable) return;\n",
              "\n",
              "          const docLinkHtml = 'Like what you see? Visit the ' +\n",
              "            '<a target=\"_blank\" href=https://colab.research.google.com/notebooks/data_table.ipynb>data table notebook</a>'\n",
              "            + ' to learn more about interactive tables.';\n",
              "          element.innerHTML = '';\n",
              "          dataTable['output_type'] = 'display_data';\n",
              "          await google.colab.output.renderOutput(dataTable, element);\n",
              "          const docLink = document.createElement('div');\n",
              "          docLink.innerHTML = docLinkHtml;\n",
              "          element.appendChild(docLink);\n",
              "        }\n",
              "      </script>\n",
              "    </div>\n",
              "  </div>\n",
              "  "
            ]
          },
          "metadata": {},
          "execution_count": 184
        }
      ],
      "source": [
        "df3.sort_index(ascending=False)"
      ]
    },
    {
      "cell_type": "code",
      "execution_count": null,
      "id": "70726956",
      "metadata": {
        "id": "70726956",
        "outputId": "7aa59477-c8b0-4914-d778-e5d55cca7f2e",
        "colab": {
          "base_uri": "https://localhost:8080/",
          "height": 175
        }
      },
      "outputs": [
        {
          "output_type": "execute_result",
          "data": {
            "text/plain": [
              "   ids  percents sports award grade\n",
              "a  101      81.5     no    no     B\n",
              "b  102      90.5     no   yes     A\n",
              "c  103      77.5     no    no     C\n",
              "d  104      61.0    yes   yes     D"
            ],
            "text/html": [
              "\n",
              "  <div id=\"df-bfd10cdb-0778-4f57-b650-555dbb0e6c56\">\n",
              "    <div class=\"colab-df-container\">\n",
              "      <div>\n",
              "<style scoped>\n",
              "    .dataframe tbody tr th:only-of-type {\n",
              "        vertical-align: middle;\n",
              "    }\n",
              "\n",
              "    .dataframe tbody tr th {\n",
              "        vertical-align: top;\n",
              "    }\n",
              "\n",
              "    .dataframe thead th {\n",
              "        text-align: right;\n",
              "    }\n",
              "</style>\n",
              "<table border=\"1\" class=\"dataframe\">\n",
              "  <thead>\n",
              "    <tr style=\"text-align: right;\">\n",
              "      <th></th>\n",
              "      <th>ids</th>\n",
              "      <th>percents</th>\n",
              "      <th>sports</th>\n",
              "      <th>award</th>\n",
              "      <th>grade</th>\n",
              "    </tr>\n",
              "  </thead>\n",
              "  <tbody>\n",
              "    <tr>\n",
              "      <th>a</th>\n",
              "      <td>101</td>\n",
              "      <td>81.5</td>\n",
              "      <td>no</td>\n",
              "      <td>no</td>\n",
              "      <td>B</td>\n",
              "    </tr>\n",
              "    <tr>\n",
              "      <th>b</th>\n",
              "      <td>102</td>\n",
              "      <td>90.5</td>\n",
              "      <td>no</td>\n",
              "      <td>yes</td>\n",
              "      <td>A</td>\n",
              "    </tr>\n",
              "    <tr>\n",
              "      <th>c</th>\n",
              "      <td>103</td>\n",
              "      <td>77.5</td>\n",
              "      <td>no</td>\n",
              "      <td>no</td>\n",
              "      <td>C</td>\n",
              "    </tr>\n",
              "    <tr>\n",
              "      <th>d</th>\n",
              "      <td>104</td>\n",
              "      <td>61.0</td>\n",
              "      <td>yes</td>\n",
              "      <td>yes</td>\n",
              "      <td>D</td>\n",
              "    </tr>\n",
              "  </tbody>\n",
              "</table>\n",
              "</div>\n",
              "      <button class=\"colab-df-convert\" onclick=\"convertToInteractive('df-bfd10cdb-0778-4f57-b650-555dbb0e6c56')\"\n",
              "              title=\"Convert this dataframe to an interactive table.\"\n",
              "              style=\"display:none;\">\n",
              "        \n",
              "  <svg xmlns=\"http://www.w3.org/2000/svg\" height=\"24px\"viewBox=\"0 0 24 24\"\n",
              "       width=\"24px\">\n",
              "    <path d=\"M0 0h24v24H0V0z\" fill=\"none\"/>\n",
              "    <path d=\"M18.56 5.44l.94 2.06.94-2.06 2.06-.94-2.06-.94-.94-2.06-.94 2.06-2.06.94zm-11 1L8.5 8.5l.94-2.06 2.06-.94-2.06-.94L8.5 2.5l-.94 2.06-2.06.94zm10 10l.94 2.06.94-2.06 2.06-.94-2.06-.94-.94-2.06-.94 2.06-2.06.94z\"/><path d=\"M17.41 7.96l-1.37-1.37c-.4-.4-.92-.59-1.43-.59-.52 0-1.04.2-1.43.59L10.3 9.45l-7.72 7.72c-.78.78-.78 2.05 0 2.83L4 21.41c.39.39.9.59 1.41.59.51 0 1.02-.2 1.41-.59l7.78-7.78 2.81-2.81c.8-.78.8-2.07 0-2.86zM5.41 20L4 18.59l7.72-7.72 1.47 1.35L5.41 20z\"/>\n",
              "  </svg>\n",
              "      </button>\n",
              "      \n",
              "  <style>\n",
              "    .colab-df-container {\n",
              "      display:flex;\n",
              "      flex-wrap:wrap;\n",
              "      gap: 12px;\n",
              "    }\n",
              "\n",
              "    .colab-df-convert {\n",
              "      background-color: #E8F0FE;\n",
              "      border: none;\n",
              "      border-radius: 50%;\n",
              "      cursor: pointer;\n",
              "      display: none;\n",
              "      fill: #1967D2;\n",
              "      height: 32px;\n",
              "      padding: 0 0 0 0;\n",
              "      width: 32px;\n",
              "    }\n",
              "\n",
              "    .colab-df-convert:hover {\n",
              "      background-color: #E2EBFA;\n",
              "      box-shadow: 0px 1px 2px rgba(60, 64, 67, 0.3), 0px 1px 3px 1px rgba(60, 64, 67, 0.15);\n",
              "      fill: #174EA6;\n",
              "    }\n",
              "\n",
              "    [theme=dark] .colab-df-convert {\n",
              "      background-color: #3B4455;\n",
              "      fill: #D2E3FC;\n",
              "    }\n",
              "\n",
              "    [theme=dark] .colab-df-convert:hover {\n",
              "      background-color: #434B5C;\n",
              "      box-shadow: 0px 1px 3px 1px rgba(0, 0, 0, 0.15);\n",
              "      filter: drop-shadow(0px 1px 2px rgba(0, 0, 0, 0.3));\n",
              "      fill: #FFFFFF;\n",
              "    }\n",
              "  </style>\n",
              "\n",
              "      <script>\n",
              "        const buttonEl =\n",
              "          document.querySelector('#df-bfd10cdb-0778-4f57-b650-555dbb0e6c56 button.colab-df-convert');\n",
              "        buttonEl.style.display =\n",
              "          google.colab.kernel.accessAllowed ? 'block' : 'none';\n",
              "\n",
              "        async function convertToInteractive(key) {\n",
              "          const element = document.querySelector('#df-bfd10cdb-0778-4f57-b650-555dbb0e6c56');\n",
              "          const dataTable =\n",
              "            await google.colab.kernel.invokeFunction('convertToInteractive',\n",
              "                                                     [key], {});\n",
              "          if (!dataTable) return;\n",
              "\n",
              "          const docLinkHtml = 'Like what you see? Visit the ' +\n",
              "            '<a target=\"_blank\" href=https://colab.research.google.com/notebooks/data_table.ipynb>data table notebook</a>'\n",
              "            + ' to learn more about interactive tables.';\n",
              "          element.innerHTML = '';\n",
              "          dataTable['output_type'] = 'display_data';\n",
              "          await google.colab.output.renderOutput(dataTable, element);\n",
              "          const docLink = document.createElement('div');\n",
              "          docLink.innerHTML = docLinkHtml;\n",
              "          element.appendChild(docLink);\n",
              "        }\n",
              "      </script>\n",
              "    </div>\n",
              "  </div>\n",
              "  "
            ]
          },
          "metadata": {},
          "execution_count": 185
        }
      ],
      "source": [
        "df3"
      ]
    },
    {
      "cell_type": "code",
      "execution_count": null,
      "id": "dbcdba02",
      "metadata": {
        "id": "dbcdba02"
      },
      "outputs": [],
      "source": [
        "# sort df3 using percents columns\n",
        "# higher percent first"
      ]
    },
    {
      "cell_type": "code",
      "execution_count": null,
      "id": "9f43620c",
      "metadata": {
        "id": "9f43620c",
        "outputId": "8f3296e2-95f1-4ca9-827b-9aa0658572e3",
        "colab": {
          "base_uri": "https://localhost:8080/",
          "height": 287
        }
      },
      "outputs": [
        {
          "output_type": "error",
          "ename": "TypeError",
          "evalue": "ignored",
          "traceback": [
            "\u001b[0;31m---------------------------------------------------------------------------\u001b[0m",
            "\u001b[0;31mTypeError\u001b[0m                                 Traceback (most recent call last)",
            "\u001b[0;32m<ipython-input-187-a2da5f67acf4>\u001b[0m in \u001b[0;36m<cell line: 1>\u001b[0;34m()\u001b[0m\n\u001b[0;32m----> 1\u001b[0;31m \u001b[0mdf3\u001b[0m\u001b[0;34m.\u001b[0m\u001b[0msort_values\u001b[0m\u001b[0;34m(\u001b[0m\u001b[0;34m)\u001b[0m\u001b[0;34m\u001b[0m\u001b[0;34m\u001b[0m\u001b[0m\n\u001b[0m",
            "\u001b[0;32m/usr/local/lib/python3.10/dist-packages/pandas/util/_decorators.py\u001b[0m in \u001b[0;36mwrapper\u001b[0;34m(*args, **kwargs)\u001b[0m\n\u001b[1;32m    329\u001b[0m                     \u001b[0mstacklevel\u001b[0m\u001b[0;34m=\u001b[0m\u001b[0mfind_stack_level\u001b[0m\u001b[0;34m(\u001b[0m\u001b[0;34m)\u001b[0m\u001b[0;34m,\u001b[0m\u001b[0;34m\u001b[0m\u001b[0;34m\u001b[0m\u001b[0m\n\u001b[1;32m    330\u001b[0m                 )\n\u001b[0;32m--> 331\u001b[0;31m             \u001b[0;32mreturn\u001b[0m \u001b[0mfunc\u001b[0m\u001b[0;34m(\u001b[0m\u001b[0;34m*\u001b[0m\u001b[0margs\u001b[0m\u001b[0;34m,\u001b[0m \u001b[0;34m**\u001b[0m\u001b[0mkwargs\u001b[0m\u001b[0;34m)\u001b[0m\u001b[0;34m\u001b[0m\u001b[0;34m\u001b[0m\u001b[0m\n\u001b[0m\u001b[1;32m    332\u001b[0m \u001b[0;34m\u001b[0m\u001b[0m\n\u001b[1;32m    333\u001b[0m         \u001b[0;31m# error: \"Callable[[VarArg(Any), KwArg(Any)], Any]\" has no\u001b[0m\u001b[0;34m\u001b[0m\u001b[0;34m\u001b[0m\u001b[0m\n",
            "\u001b[0;31mTypeError\u001b[0m: DataFrame.sort_values() missing 1 required positional argument: 'by'"
          ]
        }
      ],
      "source": [
        "df3.sort_values()"
      ]
    },
    {
      "cell_type": "code",
      "execution_count": null,
      "id": "bde18734",
      "metadata": {
        "id": "bde18734"
      },
      "outputs": [],
      "source": [
        "df3.sort_values(by='percents', inplace=True, ascending=False)"
      ]
    },
    {
      "cell_type": "code",
      "execution_count": null,
      "id": "0f0a3162",
      "metadata": {
        "id": "0f0a3162",
        "outputId": "f5bc82fb-42c1-4577-c321-fe43b73e8212",
        "colab": {
          "base_uri": "https://localhost:8080/",
          "height": 175
        }
      },
      "outputs": [
        {
          "output_type": "execute_result",
          "data": {
            "text/plain": [
              "   ids  percents sports award grade\n",
              "b  102      90.5     no   yes     A\n",
              "a  101      81.5     no    no     B\n",
              "c  103      77.5     no    no     C\n",
              "d  104      61.0    yes   yes     D"
            ],
            "text/html": [
              "\n",
              "  <div id=\"df-f6316ff1-4ce9-4c12-8d6b-ebd1323b1187\">\n",
              "    <div class=\"colab-df-container\">\n",
              "      <div>\n",
              "<style scoped>\n",
              "    .dataframe tbody tr th:only-of-type {\n",
              "        vertical-align: middle;\n",
              "    }\n",
              "\n",
              "    .dataframe tbody tr th {\n",
              "        vertical-align: top;\n",
              "    }\n",
              "\n",
              "    .dataframe thead th {\n",
              "        text-align: right;\n",
              "    }\n",
              "</style>\n",
              "<table border=\"1\" class=\"dataframe\">\n",
              "  <thead>\n",
              "    <tr style=\"text-align: right;\">\n",
              "      <th></th>\n",
              "      <th>ids</th>\n",
              "      <th>percents</th>\n",
              "      <th>sports</th>\n",
              "      <th>award</th>\n",
              "      <th>grade</th>\n",
              "    </tr>\n",
              "  </thead>\n",
              "  <tbody>\n",
              "    <tr>\n",
              "      <th>b</th>\n",
              "      <td>102</td>\n",
              "      <td>90.5</td>\n",
              "      <td>no</td>\n",
              "      <td>yes</td>\n",
              "      <td>A</td>\n",
              "    </tr>\n",
              "    <tr>\n",
              "      <th>a</th>\n",
              "      <td>101</td>\n",
              "      <td>81.5</td>\n",
              "      <td>no</td>\n",
              "      <td>no</td>\n",
              "      <td>B</td>\n",
              "    </tr>\n",
              "    <tr>\n",
              "      <th>c</th>\n",
              "      <td>103</td>\n",
              "      <td>77.5</td>\n",
              "      <td>no</td>\n",
              "      <td>no</td>\n",
              "      <td>C</td>\n",
              "    </tr>\n",
              "    <tr>\n",
              "      <th>d</th>\n",
              "      <td>104</td>\n",
              "      <td>61.0</td>\n",
              "      <td>yes</td>\n",
              "      <td>yes</td>\n",
              "      <td>D</td>\n",
              "    </tr>\n",
              "  </tbody>\n",
              "</table>\n",
              "</div>\n",
              "      <button class=\"colab-df-convert\" onclick=\"convertToInteractive('df-f6316ff1-4ce9-4c12-8d6b-ebd1323b1187')\"\n",
              "              title=\"Convert this dataframe to an interactive table.\"\n",
              "              style=\"display:none;\">\n",
              "        \n",
              "  <svg xmlns=\"http://www.w3.org/2000/svg\" height=\"24px\"viewBox=\"0 0 24 24\"\n",
              "       width=\"24px\">\n",
              "    <path d=\"M0 0h24v24H0V0z\" fill=\"none\"/>\n",
              "    <path d=\"M18.56 5.44l.94 2.06.94-2.06 2.06-.94-2.06-.94-.94-2.06-.94 2.06-2.06.94zm-11 1L8.5 8.5l.94-2.06 2.06-.94-2.06-.94L8.5 2.5l-.94 2.06-2.06.94zm10 10l.94 2.06.94-2.06 2.06-.94-2.06-.94-.94-2.06-.94 2.06-2.06.94z\"/><path d=\"M17.41 7.96l-1.37-1.37c-.4-.4-.92-.59-1.43-.59-.52 0-1.04.2-1.43.59L10.3 9.45l-7.72 7.72c-.78.78-.78 2.05 0 2.83L4 21.41c.39.39.9.59 1.41.59.51 0 1.02-.2 1.41-.59l7.78-7.78 2.81-2.81c.8-.78.8-2.07 0-2.86zM5.41 20L4 18.59l7.72-7.72 1.47 1.35L5.41 20z\"/>\n",
              "  </svg>\n",
              "      </button>\n",
              "      \n",
              "  <style>\n",
              "    .colab-df-container {\n",
              "      display:flex;\n",
              "      flex-wrap:wrap;\n",
              "      gap: 12px;\n",
              "    }\n",
              "\n",
              "    .colab-df-convert {\n",
              "      background-color: #E8F0FE;\n",
              "      border: none;\n",
              "      border-radius: 50%;\n",
              "      cursor: pointer;\n",
              "      display: none;\n",
              "      fill: #1967D2;\n",
              "      height: 32px;\n",
              "      padding: 0 0 0 0;\n",
              "      width: 32px;\n",
              "    }\n",
              "\n",
              "    .colab-df-convert:hover {\n",
              "      background-color: #E2EBFA;\n",
              "      box-shadow: 0px 1px 2px rgba(60, 64, 67, 0.3), 0px 1px 3px 1px rgba(60, 64, 67, 0.15);\n",
              "      fill: #174EA6;\n",
              "    }\n",
              "\n",
              "    [theme=dark] .colab-df-convert {\n",
              "      background-color: #3B4455;\n",
              "      fill: #D2E3FC;\n",
              "    }\n",
              "\n",
              "    [theme=dark] .colab-df-convert:hover {\n",
              "      background-color: #434B5C;\n",
              "      box-shadow: 0px 1px 3px 1px rgba(0, 0, 0, 0.15);\n",
              "      filter: drop-shadow(0px 1px 2px rgba(0, 0, 0, 0.3));\n",
              "      fill: #FFFFFF;\n",
              "    }\n",
              "  </style>\n",
              "\n",
              "      <script>\n",
              "        const buttonEl =\n",
              "          document.querySelector('#df-f6316ff1-4ce9-4c12-8d6b-ebd1323b1187 button.colab-df-convert');\n",
              "        buttonEl.style.display =\n",
              "          google.colab.kernel.accessAllowed ? 'block' : 'none';\n",
              "\n",
              "        async function convertToInteractive(key) {\n",
              "          const element = document.querySelector('#df-f6316ff1-4ce9-4c12-8d6b-ebd1323b1187');\n",
              "          const dataTable =\n",
              "            await google.colab.kernel.invokeFunction('convertToInteractive',\n",
              "                                                     [key], {});\n",
              "          if (!dataTable) return;\n",
              "\n",
              "          const docLinkHtml = 'Like what you see? Visit the ' +\n",
              "            '<a target=\"_blank\" href=https://colab.research.google.com/notebooks/data_table.ipynb>data table notebook</a>'\n",
              "            + ' to learn more about interactive tables.';\n",
              "          element.innerHTML = '';\n",
              "          dataTable['output_type'] = 'display_data';\n",
              "          await google.colab.output.renderOutput(dataTable, element);\n",
              "          const docLink = document.createElement('div');\n",
              "          docLink.innerHTML = docLinkHtml;\n",
              "          element.appendChild(docLink);\n",
              "        }\n",
              "      </script>\n",
              "    </div>\n",
              "  </div>\n",
              "  "
            ]
          },
          "metadata": {},
          "execution_count": 189
        }
      ],
      "source": [
        "df3"
      ]
    },
    {
      "cell_type": "markdown",
      "source": [
        "#### TEST"
      ],
      "metadata": {
        "id": "mSnyfEbOyr53"
      },
      "id": "mSnyfEbOyr53"
    },
    {
      "cell_type": "code",
      "source": [
        "from google.colab import files   # To load a file from PC to Google.colab\n",
        "Upload = files.upload()   # Upload file from google colob"
      ],
      "metadata": {
        "colab": {
          "base_uri": "https://localhost:8080/",
          "height": 69
        },
        "id": "NF7_YbgVjTfC",
        "outputId": "83587510-9da3-424d-8c71-1122b6238741"
      },
      "id": "NF7_YbgVjTfC",
      "execution_count": null,
      "outputs": [
        {
          "output_type": "display_data",
          "data": {
            "text/plain": [
              "<IPython.core.display.HTML object>"
            ],
            "text/html": [
              "\n",
              "     <input type=\"file\" id=\"files-88d2aaec-366c-4394-9007-5a6d0175aeae\" name=\"files[]\" multiple disabled\n",
              "        style=\"border:none\" />\n",
              "     <output id=\"result-88d2aaec-366c-4394-9007-5a6d0175aeae\">\n",
              "      Upload widget is only available when the cell has been executed in the\n",
              "      current browser session. Please rerun this cell to enable.\n",
              "      </output>\n",
              "      <script>// Copyright 2017 Google LLC\n",
              "//\n",
              "// Licensed under the Apache License, Version 2.0 (the \"License\");\n",
              "// you may not use this file except in compliance with the License.\n",
              "// You may obtain a copy of the License at\n",
              "//\n",
              "//      http://www.apache.org/licenses/LICENSE-2.0\n",
              "//\n",
              "// Unless required by applicable law or agreed to in writing, software\n",
              "// distributed under the License is distributed on an \"AS IS\" BASIS,\n",
              "// WITHOUT WARRANTIES OR CONDITIONS OF ANY KIND, either express or implied.\n",
              "// See the License for the specific language governing permissions and\n",
              "// limitations under the License.\n",
              "\n",
              "/**\n",
              " * @fileoverview Helpers for google.colab Python module.\n",
              " */\n",
              "(function(scope) {\n",
              "function span(text, styleAttributes = {}) {\n",
              "  const element = document.createElement('span');\n",
              "  element.textContent = text;\n",
              "  for (const key of Object.keys(styleAttributes)) {\n",
              "    element.style[key] = styleAttributes[key];\n",
              "  }\n",
              "  return element;\n",
              "}\n",
              "\n",
              "// Max number of bytes which will be uploaded at a time.\n",
              "const MAX_PAYLOAD_SIZE = 100 * 1024;\n",
              "\n",
              "function _uploadFiles(inputId, outputId) {\n",
              "  const steps = uploadFilesStep(inputId, outputId);\n",
              "  const outputElement = document.getElementById(outputId);\n",
              "  // Cache steps on the outputElement to make it available for the next call\n",
              "  // to uploadFilesContinue from Python.\n",
              "  outputElement.steps = steps;\n",
              "\n",
              "  return _uploadFilesContinue(outputId);\n",
              "}\n",
              "\n",
              "// This is roughly an async generator (not supported in the browser yet),\n",
              "// where there are multiple asynchronous steps and the Python side is going\n",
              "// to poll for completion of each step.\n",
              "// This uses a Promise to block the python side on completion of each step,\n",
              "// then passes the result of the previous step as the input to the next step.\n",
              "function _uploadFilesContinue(outputId) {\n",
              "  const outputElement = document.getElementById(outputId);\n",
              "  const steps = outputElement.steps;\n",
              "\n",
              "  const next = steps.next(outputElement.lastPromiseValue);\n",
              "  return Promise.resolve(next.value.promise).then((value) => {\n",
              "    // Cache the last promise value to make it available to the next\n",
              "    // step of the generator.\n",
              "    outputElement.lastPromiseValue = value;\n",
              "    return next.value.response;\n",
              "  });\n",
              "}\n",
              "\n",
              "/**\n",
              " * Generator function which is called between each async step of the upload\n",
              " * process.\n",
              " * @param {string} inputId Element ID of the input file picker element.\n",
              " * @param {string} outputId Element ID of the output display.\n",
              " * @return {!Iterable<!Object>} Iterable of next steps.\n",
              " */\n",
              "function* uploadFilesStep(inputId, outputId) {\n",
              "  const inputElement = document.getElementById(inputId);\n",
              "  inputElement.disabled = false;\n",
              "\n",
              "  const outputElement = document.getElementById(outputId);\n",
              "  outputElement.innerHTML = '';\n",
              "\n",
              "  const pickedPromise = new Promise((resolve) => {\n",
              "    inputElement.addEventListener('change', (e) => {\n",
              "      resolve(e.target.files);\n",
              "    });\n",
              "  });\n",
              "\n",
              "  const cancel = document.createElement('button');\n",
              "  inputElement.parentElement.appendChild(cancel);\n",
              "  cancel.textContent = 'Cancel upload';\n",
              "  const cancelPromise = new Promise((resolve) => {\n",
              "    cancel.onclick = () => {\n",
              "      resolve(null);\n",
              "    };\n",
              "  });\n",
              "\n",
              "  // Wait for the user to pick the files.\n",
              "  const files = yield {\n",
              "    promise: Promise.race([pickedPromise, cancelPromise]),\n",
              "    response: {\n",
              "      action: 'starting',\n",
              "    }\n",
              "  };\n",
              "\n",
              "  cancel.remove();\n",
              "\n",
              "  // Disable the input element since further picks are not allowed.\n",
              "  inputElement.disabled = true;\n",
              "\n",
              "  if (!files) {\n",
              "    return {\n",
              "      response: {\n",
              "        action: 'complete',\n",
              "      }\n",
              "    };\n",
              "  }\n",
              "\n",
              "  for (const file of files) {\n",
              "    const li = document.createElement('li');\n",
              "    li.append(span(file.name, {fontWeight: 'bold'}));\n",
              "    li.append(span(\n",
              "        `(${file.type || 'n/a'}) - ${file.size} bytes, ` +\n",
              "        `last modified: ${\n",
              "            file.lastModifiedDate ? file.lastModifiedDate.toLocaleDateString() :\n",
              "                                    'n/a'} - `));\n",
              "    const percent = span('0% done');\n",
              "    li.appendChild(percent);\n",
              "\n",
              "    outputElement.appendChild(li);\n",
              "\n",
              "    const fileDataPromise = new Promise((resolve) => {\n",
              "      const reader = new FileReader();\n",
              "      reader.onload = (e) => {\n",
              "        resolve(e.target.result);\n",
              "      };\n",
              "      reader.readAsArrayBuffer(file);\n",
              "    });\n",
              "    // Wait for the data to be ready.\n",
              "    let fileData = yield {\n",
              "      promise: fileDataPromise,\n",
              "      response: {\n",
              "        action: 'continue',\n",
              "      }\n",
              "    };\n",
              "\n",
              "    // Use a chunked sending to avoid message size limits. See b/62115660.\n",
              "    let position = 0;\n",
              "    do {\n",
              "      const length = Math.min(fileData.byteLength - position, MAX_PAYLOAD_SIZE);\n",
              "      const chunk = new Uint8Array(fileData, position, length);\n",
              "      position += length;\n",
              "\n",
              "      const base64 = btoa(String.fromCharCode.apply(null, chunk));\n",
              "      yield {\n",
              "        response: {\n",
              "          action: 'append',\n",
              "          file: file.name,\n",
              "          data: base64,\n",
              "        },\n",
              "      };\n",
              "\n",
              "      let percentDone = fileData.byteLength === 0 ?\n",
              "          100 :\n",
              "          Math.round((position / fileData.byteLength) * 100);\n",
              "      percent.textContent = `${percentDone}% done`;\n",
              "\n",
              "    } while (position < fileData.byteLength);\n",
              "  }\n",
              "\n",
              "  // All done.\n",
              "  yield {\n",
              "    response: {\n",
              "      action: 'complete',\n",
              "    }\n",
              "  };\n",
              "}\n",
              "\n",
              "scope.google = scope.google || {};\n",
              "scope.google.colab = scope.google.colab || {};\n",
              "scope.google.colab._files = {\n",
              "  _uploadFiles,\n",
              "  _uploadFilesContinue,\n",
              "};\n",
              "})(self);\n",
              "</script> "
            ]
          },
          "metadata": {}
        },
        {
          "output_type": "stream",
          "name": "stdout",
          "text": [
            "Saving share_example.xlsx to share_example.xlsx\n"
          ]
        }
      ]
    },
    {
      "cell_type": "code",
      "source": [
        "fh = open('share_example.xlsx', 'DataFrame')"
      ],
      "metadata": {
        "colab": {
          "base_uri": "https://localhost:8080/",
          "height": 165
        },
        "id": "d2clh4_BxWJ8",
        "outputId": "e5723df7-0152-4a74-d559-d1a57c901089"
      },
      "id": "d2clh4_BxWJ8",
      "execution_count": null,
      "outputs": [
        {
          "output_type": "error",
          "ename": "ValueError",
          "evalue": "ignored",
          "traceback": [
            "\u001b[0;31m---------------------------------------------------------------------------\u001b[0m",
            "\u001b[0;31mValueError\u001b[0m                                Traceback (most recent call last)",
            "\u001b[0;32m<ipython-input-12-fdf3e7331863>\u001b[0m in \u001b[0;36m<cell line: 1>\u001b[0;34m()\u001b[0m\n\u001b[0;32m----> 1\u001b[0;31m \u001b[0mfh\u001b[0m \u001b[0;34m=\u001b[0m \u001b[0mopen\u001b[0m\u001b[0;34m(\u001b[0m\u001b[0;34m'share_example.xlsx'\u001b[0m\u001b[0;34m,\u001b[0m \u001b[0;34m'DataFrame'\u001b[0m\u001b[0;34m)\u001b[0m\u001b[0;34m\u001b[0m\u001b[0;34m\u001b[0m\u001b[0m\n\u001b[0m",
            "\u001b[0;31mValueError\u001b[0m: invalid mode: 'DataFrame'"
          ]
        }
      ]
    },
    {
      "cell_type": "code",
      "source": [
        "fh"
      ],
      "metadata": {
        "colab": {
          "base_uri": "https://localhost:8080/"
        },
        "id": "IGBi_ucHnJ3u",
        "outputId": "babff34b-c342-4aff-a1b1-0cba554e5302"
      },
      "id": "IGBi_ucHnJ3u",
      "execution_count": null,
      "outputs": [
        {
          "output_type": "execute_result",
          "data": {
            "text/plain": [
              "<_io.BufferedReader name='share_example.xlsx'>"
            ]
          },
          "metadata": {},
          "execution_count": 11
        }
      ]
    },
    {
      "cell_type": "code",
      "execution_count": null,
      "id": "ee1ebfd9",
      "metadata": {
        "id": "ee1ebfd9"
      },
      "outputs": [],
      "source": [
        "# shares_df = pd.read_excel('share_example.xlsx')  # Direcctly use by anoconda install"
      ]
    },
    {
      "cell_type": "code",
      "execution_count": null,
      "id": "4a23813c",
      "metadata": {
        "id": "4a23813c",
        "outputId": "48f7455d-6f31-4244-ba1f-5dc456aecebd",
        "colab": {
          "base_uri": "https://localhost:8080/"
        }
      },
      "outputs": [
        {
          "output_type": "execute_result",
          "data": {
            "text/plain": [
              "{'share_example.xlsx': b'PK\\x03\\x04\\x14\\x00\\x06\\x00\\x08\\x00\\x00\\x00!\\x00\\xebz\\xd2\\x93b\\x01\\x00\\x00\\x90\\x04\\x00\\x00\\x13\\x00\\xdc\\x01[Content_Types].xml \\xa2\\xd8\\x01(\\xa0\\x00\\x02\\x00\\x00\\x00\\x00\\x00\\x00\\x00\\x00\\x00\\x00\\x00\\x00\\x00\\x00\\x00\\x00\\x00\\x00\\x00\\x00\\x00\\x00\\x00\\x00\\x00\\x00\\x00\\x00\\x00\\x00\\x00\\x00\\x00\\x00\\x00\\x00\\x00\\x00\\x00\\x00\\x00\\x00\\x00\\x00\\x00\\x00\\x00\\x00\\x00\\x00\\x00\\x00\\x00\\x00\\x00\\x00\\x00\\x00\\x00\\x00\\x00\\x00\\x00\\x00\\x00\\x00\\x00\\x00\\x00\\x00\\x00\\x00\\x00\\x00\\x00\\x00\\x00\\x00\\x00\\x00\\x00\\x00\\x00\\x00\\x00\\x00\\x00\\x00\\x00\\x00\\x00\\x00\\x00\\x00\\x00\\x00\\x00\\x00\\x00\\x00\\x00\\x00\\x00\\x00\\x00\\x00\\x00\\x00\\x00\\x00\\x00\\x00\\x00\\x00\\x00\\x00\\x00\\x00\\x00\\x00\\x00\\x00\\x00\\x00\\x00\\x00\\x00\\x00\\x00\\x00\\x00\\x00\\x00\\x00\\x00\\x00\\x00\\x00\\x00\\x00\\x00\\x00\\x00\\x00\\x00\\x00\\x00\\x00\\x00\\x00\\x00\\x00\\x00\\x00\\x00\\x00\\x00\\x00\\x00\\x00\\x00\\x00\\x00\\x00\\x00\\x00\\x00\\x00\\x00\\x00\\x00\\x00\\x00\\x00\\x00\\x00\\x00\\x00\\x00\\x00\\x00\\x00\\x00\\x00\\x00\\x00\\x00\\x00\\x00\\x00\\x00\\x00\\x00\\x00\\x00\\x00\\x00\\x00\\x00\\x00\\x00\\x00\\x00\\x00\\x00\\x00\\x00\\x00\\x00\\x00\\x00\\x00\\x00\\x00\\x00\\x00\\x00\\x00\\x00\\x00\\x00\\x00\\x00\\x00\\x00\\x00\\x00\\x00\\x00\\x00\\x00\\x00\\x00\\x00\\x00\\x00\\x00\\x00\\x00\\x00\\x00\\x00\\x00\\x00\\x00\\x00\\x00\\x00\\x00\\x00\\x00\\x00\\x00\\x00\\x00\\x00\\x00\\x00\\x00\\x00\\x00\\x00\\x00\\x00\\x00\\x00\\x00\\x00\\x00\\x00\\x00\\x00\\x00\\x00\\x00\\x00\\x00\\x00\\x00\\x00\\x00\\x00\\x00\\x00\\x00\\x00\\x00\\x00\\x00\\x00\\x00\\x00\\x00\\x00\\x00\\x00\\x00\\x00\\x00\\x00\\x00\\x00\\x00\\x00\\x00\\x00\\x00\\x00\\x00\\x00\\x00\\x00\\x00\\x00\\x00\\x00\\x00\\x00\\x00\\x00\\x00\\x00\\x00\\x00\\x00\\x00\\x00\\x00\\x00\\x00\\x00\\x00\\x00\\x00\\x00\\x00\\x00\\x00\\x00\\x00\\x00\\x00\\x00\\x00\\x00\\x00\\x00\\x00\\x00\\x00\\x00\\x00\\x00\\x00\\x00\\x00\\x00\\x00\\x00\\x00\\x00\\x00\\x00\\x00\\x00\\x00\\x00\\x00\\x00\\x00\\x00\\x00\\x00\\x00\\x00\\x00\\x00\\x00\\x00\\x00\\x00\\x00\\x00\\x00\\x00\\x00\\x00\\x00\\x00\\x00\\x00\\x00\\x00\\x00\\x00\\x00\\x00\\x00\\x00\\x00\\x00\\x00\\x00\\x00\\x00\\x00\\x00\\x00\\x00\\x00\\x00\\x00\\x00\\x00\\x00\\x00\\x00\\x00\\x00\\x00\\x00\\x00\\x00\\x00\\x00\\x00\\x00\\x00\\x00\\x00\\x00\\x00\\x00\\x00\\x00\\x00\\x00\\x00\\x00\\x00\\x00\\x00\\x00\\x00\\x00\\x00\\x00\\x00\\x00\\x00\\x00\\x00\\x00\\x00\\x00\\x00\\x00\\x00\\x00\\x00\\x00\\x00\\x00\\x00\\x00\\x00\\x00\\x00\\xacT\\xcbN\\xc30\\x10\\xbc#\\xf1\\x0f\\x91\\xaf(q\\xcb\\x01!\\xd4\\xb4\\x07\\x1eG\\xa8\\x04|\\x80\\xb17\\x8dU\\xc7\\xb6\\xbc\\xdb\\xd2\\xfe=\\x9b\\x84V\\x80J\\xa4\\xaa\\xbd$\\x8a\\xa2\\x9d\\x99\\x9d\\x19{2\\xdb4.[CB\\x1b|)\\xc6\\xc5Hd\\xe0u0\\xd6/J\\xf1\\xfe\\xf6\\x94\\xdf\\x8a\\x0cIy\\xa3\\\\\\xf0P\\x8a-\\xa0\\x98M//&o\\xdb\\x08\\x98\\xf1\\xb4\\xc7R\\xd4D\\xf1NJ\\xd454\\n\\x8b\\x10\\xc1\\xf3\\x9f*\\xa4F\\x11\\x7f\\xa6\\x85\\x8cJ/\\xd5\\x02\\xe4\\xf5ht#u\\xf0\\x04\\x9erj1\\xc4t\\xf2\\xc2\\x02\\x925\\x90\\xcdU\\xa2g\\xd50\\x8f\\xdc8I\\x8c\\x06\\xfds\\\\0\\x9e\\xc8\\xee\\xfb\\xc1\\x96\\xbb\\x14*Fg\\xb5\"V.\\xd7\\xde\\xfca\\xcdCUY\\r&\\xe8U\\xc3\\\\E\\x07v\\xd5\\xa2\\xc8\\x7f\\t\\x91\\xb6\\x0e\\xf0d*\\x8c\\t\\x94\\xc1\\x1a\\x80\\x1aW\\xf4\\xa0;\\xe6\\x07\\xa8\\xd4\\xcaQ\\xf6\\xb8a\\x07z\\xd3\\x138<n\\xb5o3\\x0b\\x9e\\xec\\xd6\\xc7\\xdaF\\x1c`\\x18\\xf6n\\xd8\\x93\\xcf\\x90\\x96\\x1f!,\\xcf\\xedJ\\xebN\\xd1(\\xebw\\xba\\x0f\\x95\\x80\\xd3\\x9b\\xa7\\x10Qr\\xd6\\'\\x0b\\x80\\xd6r\\x03&\\x8f\\x0c\\t\\x89,\\xec=;\\xc4\\xcd\\x05lw\\xefbD\\xd9\\xbdNo\\xe1\\xefj\\xec\\xf1\\x87<`\\x1dX\\xab\\x04\\xe6\\x95\\x12\\x9f\\xca\\xb3\\xd7\\xf3\\'\\xf6\\x90\\x8e}\\x16:$8>\\x8c]g\\xdb\\xe9\\x03\\t\\xc8\\xee>\\x99~\\x01\\x00\\x00\\xff\\xff\\x03\\x00PK\\x03\\x04\\x14\\x00\\x06\\x00\\x08\\x00\\x00\\x00!\\x00\\xb5U0#\\xf5\\x00\\x00\\x00L\\x02\\x00\\x00\\x0b\\x00\\xce\\x01_rels/.rels \\xa2\\xca\\x01(\\xa0\\x00\\x02\\x00\\x00\\x00\\x00\\x00\\x00\\x00\\x00\\x00\\x00\\x00\\x00\\x00\\x00\\x00\\x00\\x00\\x00\\x00\\x00\\x00\\x00\\x00\\x00\\x00\\x00\\x00\\x00\\x00\\x00\\x00\\x00\\x00\\x00\\x00\\x00\\x00\\x00\\x00\\x00\\x00\\x00\\x00\\x00\\x00\\x00\\x00\\x00\\x00\\x00\\x00\\x00\\x00\\x00\\x00\\x00\\x00\\x00\\x00\\x00\\x00\\x00\\x00\\x00\\x00\\x00\\x00\\x00\\x00\\x00\\x00\\x00\\x00\\x00\\x00\\x00\\x00\\x00\\x00\\x00\\x00\\x00\\x00\\x00\\x00\\x00\\x00\\x00\\x00\\x00\\x00\\x00\\x00\\x00\\x00\\x00\\x00\\x00\\x00\\x00\\x00\\x00\\x00\\x00\\x00\\x00\\x00\\x00\\x00\\x00\\x00\\x00\\x00\\x00\\x00\\x00\\x00\\x00\\x00\\x00\\x00\\x00\\x00\\x00\\x00\\x00\\x00\\x00\\x00\\x00\\x00\\x00\\x00\\x00\\x00\\x00\\x00\\x00\\x00\\x00\\x00\\x00\\x00\\x00\\x00\\x00\\x00\\x00\\x00\\x00\\x00\\x00\\x00\\x00\\x00\\x00\\x00\\x00\\x00\\x00\\x00\\x00\\x00\\x00\\x00\\x00\\x00\\x00\\x00\\x00\\x00\\x00\\x00\\x00\\x00\\x00\\x00\\x00\\x00\\x00\\x00\\x00\\x00\\x00\\x00\\x00\\x00\\x00\\x00\\x00\\x00\\x00\\x00\\x00\\x00\\x00\\x00\\x00\\x00\\x00\\x00\\x00\\x00\\x00\\x00\\x00\\x00\\x00\\x00\\x00\\x00\\x00\\x00\\x00\\x00\\x00\\x00\\x00\\x00\\x00\\x00\\x00\\x00\\x00\\x00\\x00\\x00\\x00\\x00\\x00\\x00\\x00\\x00\\x00\\x00\\x00\\x00\\x00\\x00\\x00\\x00\\x00\\x00\\x00\\x00\\x00\\x00\\x00\\x00\\x00\\x00\\x00\\x00\\x00\\x00\\x00\\x00\\x00\\x00\\x00\\x00\\x00\\x00\\x00\\x00\\x00\\x00\\x00\\x00\\x00\\x00\\x00\\x00\\x00\\x00\\x00\\x00\\x00\\x00\\x00\\x00\\x00\\x00\\x00\\x00\\x00\\x00\\x00\\x00\\x00\\x00\\x00\\x00\\x00\\x00\\x00\\x00\\x00\\x00\\x00\\x00\\x00\\x00\\x00\\x00\\x00\\x00\\x00\\x00\\x00\\x00\\x00\\x00\\x00\\x00\\x00\\x00\\x00\\x00\\x00\\x00\\x00\\x00\\x00\\x00\\x00\\x00\\x00\\x00\\x00\\x00\\x00\\x00\\x00\\x00\\x00\\x00\\x00\\x00\\x00\\x00\\x00\\x00\\x00\\x00\\x00\\x00\\x00\\x00\\x00\\x00\\x00\\x00\\x00\\x00\\x00\\x00\\x00\\x00\\x00\\x00\\x00\\x00\\x00\\x00\\x00\\x00\\x00\\x00\\x00\\x00\\x00\\x00\\x00\\x00\\x00\\x00\\x00\\x00\\x00\\x00\\x00\\x00\\x00\\x00\\x00\\x00\\x00\\x00\\x00\\x00\\x00\\x00\\x00\\x00\\x00\\x00\\x00\\x00\\x00\\x00\\x00\\x00\\x00\\x00\\x00\\x00\\x00\\x00\\x00\\x00\\x00\\x00\\x00\\x00\\x00\\x00\\x00\\x00\\x00\\x00\\x00\\x00\\x00\\x00\\x00\\x00\\x00\\x00\\x00\\x00\\x00\\x00\\x00\\x00\\x00\\x00\\x00\\x00\\x00\\x00\\x00\\x00\\x00\\x00\\x00\\x00\\x00\\x00\\x00\\x00\\x00\\x00\\x00\\x8c\\x92\\xcfN\\xc30\\x0c\\xc6\\xefH\\xbcC\\xe4\\xfb\\xeanH\\x08\\xa1\\xa5\\xbbLH\\xbb!T\\x1e\\xc0$\\xee\\x1f\\xb5\\x8d\\xa3$@\\xf7\\xf6\\x84\\x03\\x82Jc\\xdb\\xd1\\xf6\\xe7\\xcf?[\\xde\\xee\\xe6iT\\x1f\\x1cb/N\\xc3\\xba(A\\xb13b{\\xd7jx\\xad\\x9fV\\x0f\\xa0b\"gi\\x14\\xc7\\x1a\\x8e\\x1caW\\xdd\\xdel_x\\xa4\\x94\\x9bb\\xd7\\xfb\\xa8\\xb2\\x8b\\x8b\\x1a\\xba\\x94\\xfc#b4\\x1dO\\x14\\x0b\\xf1\\xecr\\xa5\\x910Q\\xcaah\\xd1\\x93\\x19\\xa8e\\xdc\\x94\\xe5=\\x86\\xbf\\x1eP-<\\xd5\\xc1j\\x08\\x07{\\x07\\xaa>\\xfa<\\xf9\\xb2\\xb74Mox/\\xe6}b\\x97N\\x8c@\\x9e\\x13;\\xcbv\\xe5Cf\\x0b\\xa9\\xcf\\xdb\\xa8\\x9aB\\xcbI\\x83\\x15\\xf3\\x9c\\xd3\\x11\\xc9\\xfb\"c\\x03\\x9e&\\xda\\\\O\\xf4\\xff\\xb68q\"K\\x89\\xd0H\\xe0\\xf3<\\xdf\\x8as@\\xeb\\xeb\\x81.\\x9fh\\xa9\\xf8\\xbd\\xce<\\xe2\\xa7\\x84\\xe1Md\\xf8a\\xc1\\xc5\\x0fT_\\x00\\x00\\x00\\xff\\xff\\x03\\x00PK\\x03\\x04\\x14\\x00\\x06\\x00\\x08\\x00\\x00\\x00!\\x00\\x81>\\x94\\x97\\xf4\\x00\\x00\\x00\\xba\\x02\\x00\\x00\\x1a\\x00\\x08\\x01xl/_rels/workbook.xml.rels \\xa2\\x04\\x01(\\xa0\\x00\\x01\\x00\\x00\\x00\\x00\\x00\\x00\\x00\\x00\\x00\\x00\\x00\\x00\\x00\\x00\\x00\\x00\\x00\\x00\\x00\\x00\\x00\\x00\\x00\\x00\\x00\\x00\\x00\\x00\\x00\\x00\\x00\\x00\\x00\\x00\\x00\\x00\\x00\\x00\\x00\\x00\\x00\\x00\\x00\\x00\\x00\\x00\\x00\\x00\\x00\\x00\\x00\\x00\\x00\\x00\\x00\\x00\\x00\\x00\\x00\\x00\\x00\\x00\\x00\\x00\\x00\\x00\\x00\\x00\\x00\\x00\\x00\\x00\\x00\\x00\\x00\\x00\\x00\\x00\\x00\\x00\\x00\\x00\\x00\\x00\\x00\\x00\\x00\\x00\\x00\\x00\\x00\\x00\\x00\\x00\\x00\\x00\\x00\\x00\\x00\\x00\\x00\\x00\\x00\\x00\\x00\\x00\\x00\\x00\\x00\\x00\\x00\\x00\\x00\\x00\\x00\\x00\\x00\\x00\\x00\\x00\\x00\\x00\\x00\\x00\\x00\\x00\\x00\\x00\\x00\\x00\\x00\\x00\\x00\\x00\\x00\\x00\\x00\\x00\\x00\\x00\\x00\\x00\\x00\\x00\\x00\\x00\\x00\\x00\\x00\\x00\\x00\\x00\\x00\\x00\\x00\\x00\\x00\\x00\\x00\\x00\\x00\\x00\\x00\\x00\\x00\\x00\\x00\\x00\\x00\\x00\\x00\\x00\\x00\\x00\\x00\\x00\\x00\\x00\\x00\\x00\\x00\\x00\\x00\\x00\\x00\\x00\\x00\\x00\\x00\\x00\\x00\\x00\\x00\\x00\\x00\\x00\\x00\\x00\\x00\\x00\\x00\\x00\\x00\\x00\\x00\\x00\\x00\\x00\\x00\\x00\\x00\\x00\\x00\\x00\\x00\\x00\\x00\\x00\\x00\\x00\\x00\\x00\\x00\\x00\\x00\\x00\\x00\\x00\\x00\\x00\\x00\\x00\\x00\\x00\\x00\\x00\\x00\\x00\\x00\\x00\\x00\\x00\\x00\\x00\\x00\\x00\\x00\\x00\\x00\\x00\\x00\\x00\\x00\\x00\\x00\\x00\\xac\\x92\\xcfJ\\xc40\\x10\\xc6\\xef\\x82\\xef\\x10\\xe6n\\xd3\\xae\"\"\\x9b\\xeeE\\x84\\xbdj}\\x80\\x90L\\x9b\\xb2m\\x122\\xe3\\x9f\\xbe\\xbd\\xa1\\xa2\\xdb\\x85e\\xbd\\xf4\\x12\\xf8f\\xc8\\xf7\\xfd2\\x99\\xed\\xeek\\x1c\\xc4\\x07&\\xea\\x83WP\\x15%\\x08\\xf4&\\xd8\\xdew\\n\\xde\\x9a\\xe7\\x9b\\x07\\x10\\xc4\\xda[=\\x04\\x8f\\n&$\\xd8\\xd5\\xd7W\\xdb\\x17\\x1c4\\xe7K\\xe4\\xfaH\"\\xbbxR\\xe0\\x98\\xe3\\xa3\\x94d\\x1c\\x8e\\x9a\\x8a\\x10\\xd1\\xe7N\\x1b\\xd2\\xa89\\xcb\\xd4\\xc9\\xa8\\xcdAw(7ey/\\xd3\\xd2\\x03\\xea\\x13O\\xb1\\xb7\\n\\xd2\\xde\\xde\\x82h\\xa6\\x98\\x93\\xff\\xf7\\x0em\\xdb\\x1b|\\n\\xe6}D\\xcfg\"$\\xf14\\xe4\\x07\\x88F\\xa7\\x0eY\\xc1\\x8f.2#\\xc8\\xf3\\xf1\\x9b5\\xe39\\x8f\\x05\\x8f\\xe9\\xb3\\x94\\xf3Y]b\\xa8\\xd6d\\xf8\\x0c\\xe9@\\x0e\\x91\\x8f\\x1c\\x7f%\\x92s\\xe7\"\\xcc\\xdd\\x9a0\\xe4tB\\xfb\\xca)\\xaf\\xdb\\xf2[\\x96\\xe5\\xdf\\xc9\\xc8\\x93\\x8d\\xab\\xbf\\x01\\x00\\x00\\xff\\xff\\x03\\x00PK\\x03\\x04\\x14\\x00\\x06\\x00\\x08\\x00\\x00\\x00!\\x00\\xe1P\\xb5\\x1d\\x18\\x02\\x00\\x00G\\x04\\x00\\x00\\x0f\\x00\\x00\\x00xl/workbook.xml\\x9cR]o\\x9b0\\x14}\\x9f\\xb4\\xff\\x80\\xfcN\\xb0\\xf9(\\t\\n\\xa9F\\x00\\xadR[Um\\x96<N\\x1e\\x98`\\x050\\xb2\\x9d%\\xd5\\xd4\\xff\\xbekH\\xdaN\\x9d\\xa6h/\\x98{}|\\xef=\\xe7\\xdc\\xf9\\xf5\\xb1m\\xac\\x9fL*.\\xba\\x18\\x91\\tF\\x16\\xeb\\nQ\\xf2n\\x1b\\xa3o\\xab\\xdc\\x9e\"Ki\\xda\\x95\\xb4\\x11\\x1d\\x8b\\xd13S\\xe8z\\xf1\\xf9\\xd3\\xfc \\xe4\\xee\\x87\\x10;\\x0b\\nt*F\\xb5\\xd6}\\xe48\\xaa\\xa8YK\\xd5D\\xf4\\xac\\x83\\x9bJ\\xc8\\x96j\\x08\\xe5\\xd6Q\\xbdd\\xb4T5c\\xbam\\x1c\\x17\\xe3+\\xa7\\xa5\\xbcCc\\x85H^RCT\\x15/X*\\x8a}\\xcb:=\\x16\\x91\\xac\\xa1\\x1a\\xc6W5\\xef\\x15Z\\xcc+\\xde\\xb0\\xf5\\xc8\\xc8\\xa2}\\x7fO[\\x98\\xfb\\xd8 \\xab\\xa1Jg%\\xd7\\xac\\x8c\\x91\\x0f\\xa18\\xb0\\xb7D\\x88,\\xb9\\xef\\x93=o\\xccm\\x80\\x03\\xe4,^I>H\\x08\\x0c\\xdb5g\\x07\\xf5\\x967\\xa1u\\xdc\\xf0\\xae\\x14\\x87\\x18y3\\x0c\\xf2=\\x9fC\\xd7\\x85\"\\xd6a\\xb8\\xdc\\xf0R\\xd71rq\\xe8\\x01d\\xcc}e|[k\\x10\\x9d\\x84W\\xd8ts\\xdeu\\x18d\\x82N\\xc3iu\\x03\\x87\\'#\\x1d\\x01?\\xccy\\x03c\\xc2\\xbf\\x8c8\\xfc\\xc8\\x9b\\x92\\x0c\\x15\\xce\\xcf\\n\\xda\\x14\\x0f\\xd22\\xc7\\x00t\\xfd\\x80\\xcc\\x0c\\x82\\x1d\\xf5\\xad\\xd2\\'\\xc9\\x8f$\\xf8 z\\xcb\\x0b)\\x94\\xa8\\xf4\\xa4\\x10\\xad3\\xea\\xfd\\xc1:\\x82\\x1dBF\\xf7\\x86\\x92\\xd6^\\xf2\\x18\\xfd\">\\xfe\\x12\\xe2\\x99o\\xe3\\xcc\\x0bl\\x7f:s\\xed\\xa9\\xef\\xb9\\xf6\\xd2O\\xdd,\\x08\\xb34K\\x82\\x17p\\x08\\xfaF\\xe7\\xfd1S\\xd6T\\xea\\x95\\xa4\\xc5\\x0e\\xb6\\xee\\x91U\\tU\\xe0\\xd8H\\x08\\xe6}\\xdf!\\t\\xa6\\t\\xf6\\xa0\\xae\\x9f\\x93\\xdc\\xf6\\xc9\\x0c\\xdbIr\\xe5\\xdbA\\x9a{AH\\xd2e\\x16\\xe4/\\xe7\\x8d:\\x1a\\xfa\\xd5\\x7f2\\x9c:\\xc3kF\\xf5^\\xc2\\xce\\xc3\\xd0C\\x1c\\x99o~\\xca\\xbe&\\xab1q\\xf2\\xe9\\x0f\\t\\xa3\\xc7\\xd4\\xe8~z\\xfd/\\xe0\\x13\\xb0o\\xd8\\x85\\xe0|}!py\\x7f\\xb7\\xba\\xbb\\x10{\\x9b\\xad\\xbeor\\x03v\\xfe\\xca\\xd6\\x19\\xdc0_\\xd8!\\x00\\x9d=\\\\\\xfc\\x06\\x00\\x00\\xff\\xff\\x03\\x00PK\\x03\\x04\\x14\\x00\\x06\\x00\\x08\\x00\\x00\\x00!\\x00|\\x05y+\\xbd\\x00\\x00\\x00\\x1f\\x01\\x00\\x00\\x14\\x00\\x00\\x00xl/sharedStrings.xml\\\\\\x8f\\xdb\\x8a\\xc20\\x10\\x86\\xef\\x17|\\x870\\xf7\\x9a\\xea\\x85\\x88$)\\x1e\\x9f\\xc0}\\x80\\xd0\\xce\\xda@3\\xa9\\x99\\xa9\\xe8\\xdb\\x1b\\x85E\\xe8\\xe5\\xf7\\xcd?\\'S?b\\xaf\\xee\\x989$\\xb2\\xb0\\\\T\\xa0\\x90\\x9a\\xd4\\x06\\xbaZ\\xf8\\xbd\\x9c\\xe7\\x1bP,\\x9eZ\\xdf\\'B\\x0bOd\\xa8\\xdd\\xec\\xc70\\x8b*\\xbd\\xc4\\x16:\\x91a\\xab57\\x1dF\\xcf\\x8b4 \\x95\\xca_\\xca\\xd1K\\xc1|\\xd5<d\\xf4-w\\x88\\x12{\\xbd\\xaa\\xaa\\xb5\\x8e>\\x10\\xa8&\\x8d$\\x16\\xd6\\xa0F\\n\\xb7\\x11\\x0f\\xff\\xec\\x0c\\x07g\\xc4\\xed\\x8c\\x16g\\xf4\\x1b>\\xe2\\xbds\\xcb\\x83o\\xca-e(c\\xbe#\\xb8\\xbd\\x9a\\xc4\\xdca*\\x8eSq\\x9a\\x8a\\xa3\\x17\\xfc:]\\x1et/\\x00\\x00\\x00\\xff\\xff\\x03\\x00PK\\x03\\x04\\x14\\x00\\x06\\x00\\x08\\x00\\x00\\x00!\\x00\\xa6GZ)f\\x02\\x00\\x00K\\x05\\x00\\x00\\r\\x00\\x00\\x00xl/styles.xml\\x9cT\\xdb\\x8a\\xdb0\\x10}/\\xf4\\x1f\\x84\\xde\\xbd\\xb2\\xbdq\\x9a\\x04\\xdbK\\xb3YCa\\xbb\\x14\\xb2\\x85\\xbe*\\xb6\\x9c\\x08t1\\x92\\xbc$-\\xfd\\xf7\\x8el\\xc7\\xf6\\xb2\\xd0\\xdbK43\\x9e9s\\xe6\\x96\\xf4\\xee,\\x05za\\xc6r\\xad2\\x1c\\xdd\\x84\\x181U\\xea\\x8a\\xabc\\x86\\xbf>\\x17\\xc1\\n#\\xeb\\xa8\\xaa\\xa8\\xd0\\x8ae\\xf8\\xc2,\\xbe\\xcb\\xdf\\xbfK\\xad\\xbb\\x08\\xb6?1\\xe6\\x10@(\\x9b\\xe1\\x93s\\xcd\\x86\\x10[\\x9e\\x98\\xa4\\xf6F7L\\xc1\\x97Z\\x1bI\\x1d\\xa8\\xe6Hlc\\x18\\xad\\xac\\x0f\\x92\\x82\\xc4a\\xb8$\\x92r\\x85\\xf3\\xb4\\xd6\\xcaYT\\xeaV9`1\\x18\\xf2\\xd4~G/T\\x80%\\xc6$OK-\\xb4A\\x0e\\xe0\\x81H\\xe4-\\x8aJ\\xd6{\\xdcS\\xc1\\x0f\\x86{cM%\\x17\\x97\\xde\\xdc\\xc5u\\x8c\\x06?\\xc9\\x956\\xde\\x8b\\xf8\\x94\\xc3c!\\x88\\x0b1\\x12\\x88=\\x010\\xe4iC\\x9dcF\\x15\\xa0\\xa0A~\\xbe4\\x90^A7z\\x98\\xce\\xef\\x0f\\xdeGC/Q\\x9c\\xcc\\x02H\\x970O\\x0f\\xdaT\\xd0\\xfdy\\xe9\\xbd)O\\x05\\xab\\x1d\\x105\\xfcx\\xf2\\xaf\\xd3\\r\\xfc\\x1e\\xb4sZ\\x82Pqz\\xd4\\x8a\\n\\x10\\xc95b\\x10\\xa0\\x9c\\x92\\t\\xb1\\xf7\\x13\\xfaV\\xbf\\xc2>\\xd7H\\xb5\\xb2\\x90\\xeeS\\x95a\\x98\\xb5o\\xc2U\\x84B\\x06\\xb1\\xc7\\xeb\\x15\\x8f?G\\xeb\\xb1g\\xb0\\xbeY\\xff\\x0e\\x8b\\xce\\xf5\\x88\\xff*:Z\\xfc\\r\\xab1\\x1c\\xd1\\xa6\\x11\\x97\\xa7V\\x1e\\x98)\\xbaU\\x1bV\\xa3#\\r4g\\xbdx\\xd5\\x89\\xb1&\\xe4\\x97(\\xc3O>X\\xe0\\t\\xf8\\xd0r\\xe1\\xb8\\x1aYN]\\x00\\xcc\\xea<\\xf55\\xf4cu\\xf4\\x00\\xe7\\xe0;>f\\x81\\xf6V\\xac\\xa6\\xadp\\xcf\\xe3\\xc7\\x0cO\\xf2gV\\xf1V\\xc6\\xa3\\xd7\\x17\\xfe\\xa2]\\x07\\x91\\xe1I~\\xf4\\xe3\\x8f\\x96>\\x07;\\xbbG\\x0b;\\x0b/j\\r\\xcf\\xf0\\x8f\\x87\\xed\\x87\\xf5\\xee\\xa1\\x88\\x83U\\xb8]\\x05\\x8b[\\x96\\x04\\xebd\\xbb\\x0b\\x92\\xc5\\xfdv\\xb7+\\xd6a\\x1c\\xde\\xff\\x84\\x9a\\xfc\\x81n\\xce\\xd1\\xe2\\xcd\\x91J^\\x1amu\\xednJ\\xd8*]\\xd7\\xbcdo\\xcftM\\xd6\\xd7C\\x05\\x90\\x8d\\x15\\xe0e\\x86b\\x87\\x12\\xf7\\x93-\\xc33\\xa5\\xa7\\xdf->\\xd0\\x9es_\\xc7\\xcb\\xf0c\\x12\\x85Aq\\x1bF\\xc1bIW\\xc1jy\\x9b\\x04E\\x12\\xc5\\xbb\\xe5b\\xfb\\x90\\x14\\xc9\\x8c{\\xf2\\x7f\\xdc\\xa3\\x90D\\xd1D>\\xd98.\\x99\\xe0\\xea:\\xab\\xeb\\x84\\xe6V\\x18\\x12\\xa8\\xbf)\\x82\\\\\\'A\\xec\\xf8/\\x98\\xff\\x02\\x00\\x00\\xff\\xff\\x03\\x00PK\\x03\\x04\\x14\\x00\\x06\\x00\\x08\\x00\\x00\\x00!\\x00\\xdb\\xccpho\\x07\\x00\\x00\\x93 \\x00\\x00\\x13\\x00\\x00\\x00xl/theme/theme1.xml\\xecYKo\\x1b7\\x10\\xbe\\x17\\xe8\\x7fX\\xec]\\xd1kW\\x0f#J\\xa0g\\xdc\\xc4N\\x82HI\\x91#-QZ\\xc6\\xdc\\xa5@Rv\\x84 @\\x91\\x9cz)P -z)\\xd0[\\x0fE\\xd1\\x02-\\xd0\\xa2\\x97\\xfe\\x98\\x00\\t\\xfa\\xf8\\x11\\x1drW+R\\xa2\\x12\\xdb\\xf0\\xa1-l_\\xb4\\xdco\\x86\\xc3\\x99\\xe17\\xb3\\xe4\\xf5\\x9bOc\\xea\\x9d`.\\x08KZ~\\xf9Z\\xc9\\xf7p2f\\x13\\x92\\xccZ\\xfe\\xc3\\xd1\\xa0\\xd0\\xf0=!Q2A\\x94%\\xb8\\xe5/\\xb1\\xf0o\\xde\\xf8\\xf0\\x83\\xebhOF8\\xc6\\x1e\\xc8\\'b\\x0f\\xb5\\xfcH\\xca\\xf9^\\xb1(\\xc60\\x8c\\xc456\\xc7\\t\\xbc\\x9b2\\x1e#\\t\\x8f|V\\x9cpt\\nzcZ\\xac\\x94J\\xb5b\\x8cH\\xe2{\\t\\x8aA\\xed\\xbd\\xe9\\x94\\x8c\\xb17R*\\xfd\\x1b+\\xe5}\\n\\x8f\\x89\\x14j`L\\xf9P\\xa9\\xc6\\x96\\x84\\xc6N\\x8e\\xcb\\n!\\x96\\xa2K\\xb9w\\x82h\\xcb\\x87y&\\xect\\x84\\x9fJ\\xdf\\xa3HHx\\xd1\\xf2K\\xfa\\xcf/\\xde\\xb8^D{\\x99\\x10\\x95;d\\r\\xb9\\x81\\xfe\\xcb\\xe42\\x81\\xc9qE\\xcf\\xc9gG\\xf9\\xa4A\\x10\\x06\\xb5v\\xae_\\x03\\xa8\\xdc\\xc6\\xf5\\xeb\\xfdZ\\xbf\\x96\\xeb\\xd3\\x004\\x1e\\xc3JS[l\\x9d\\xf5J7\\xc8\\xb0\\x06(\\xfd\\xe9\\xd0\\xdd\\xab\\xf7\\xaae\\x0bo\\xe8\\xafn\\xd9\\xdc\\x0e\\xd5\\xbf\\x85\\xd7\\xa0T\\x7f\\xb0\\x85\\x1f\\x0c\\xba\\xe0E\\x0b\\xafA)>\\xdc\\xc2\\x87\\x9df\\xa7g\\xeb\\xd7\\xa0\\x14_\\xdb\\xc2\\xd7K\\xed^P\\xb7\\xf4kPDIr\\xbc\\x85.\\x85\\xb5jw\\xb5\\xda\\x1c2et\\xdf\\to\\x86\\xc1\\xa0^\\xc9\\x94\\xafQ\\x90\\ryv\\xa9)\\xa6,\\x91\\xbbr-FO\\x18\\x1f\\x00@\\x01)\\x92$\\xf1\\xe4r\\x8e\\xa7h\\x0cY\\xdcE\\x94\\x1cq\\xe2\\x1d\\x90Y$\\xd54h\\x0f#\\xe3}:4\\x16[CjFO\\x8c9\\x99\\xcb\\x96\\x7f{\\x8e`_\\xac\\xb5\\xbe\\xf9\\xf5\\xd7\\xd7/~~\\xfd\\xe2\\x97\\xd7/_\\xbe~\\xf1\\x83\\xa9\\xdd\\x92\\xdbG\\xc9\\xcc\\x94\\xfb\\xeb\\xdb\\xcf\\xff\\xfe\\xfa\\x13\\xef\\xcf\\x9f\\xbe\\xf9\\xeb\\xd5\\x17\\xe9\\xd4\\x9bxa\\xe2\\xdf~\\xff\\xe9\\xdb\\xdf~\\x7f\\x97z\\xd8L\\x86Y_\\xfe\\xf8\\xf6\\xe7\\x1f\\xdf|\\xf5\\xd9\\x1f\\xdf\\xbdrhostd\\xc2G$\\xc6\\xc2\\xbb\\x8bO\\xbd\\x07,\\x86\\x05j\\xef\\xd8\\xf6\\xe0#~>\\x89Q\\x84\\x88%\\x81\"\\xd0\\xedP\\xdd\\x97\\x91\\x05\\xbc\\xbbD\\xd4\\x85\\xeb`\\xdb\\x85\\x8f8\\xf0\\x88\\x0bxk\\xf1\\xc4\\xb2u\\x18\\xf1\\x85$\\x8e\\x99\\xefD\\xb1\\x05<d\\x8cv\\x18w:\\xe0\\x8e\\x9a\\xcb\\xf0\\xf0h\\x91\\xcc\\xdc\\x93\\xf3\\x85\\x89{\\x80\\xd0\\x89k\\xee.J\\xac\\x00\\xf7\\x17s P\\xe2R\\xd9\\x8d\\xb0e\\xe6}\\x8a\\x12\\x89f8\\xc1\\xd2S\\xef\\xd81\\xc6\\x8e\\xd5=&\\xc4\\xf2\\xeb!\\x19s&\\xd8Tz\\x8f\\x89\\xd7A\\xc4\\xe9\\x92\\x119\\xb2\\x12i-\\xb4Ob\\x88\\xcb\\xd2e \\x84\\xda\\xf2\\xcd\\xe1#\\xaf\\xc3\\xa8k\\xd5=|b#a[ \\xea0~\\x84\\xa9\\xe5\\xc6[h!Q\\xecR9B15\\x1d~\\x80d\\xe42r\\xb8\\xe4c\\x13\\xd7\\x17\\x12\"=\\xc3\\x94y\\xfd\\t\\x16\\xc2%s\\x8f\\xc3z\\x8d\\xa0\\xdf\\x01\\x0eq\\x87\\xfd\\x90.c\\x1b\\xc9%9v\\xe9<@\\x8c\\x99\\xc8\\x1e;\\xeeF(\\x9e\\xbb\\xb0C\\x92D&\\xf6#q\\x0c)\\x8a\\xbc\\xfbL\\xba\\xe0\\x87\\xcc\\xde!\\xea\\x19\\xe2\\x80\\x92\\x9d\\xe1~D\\xb0\\x15\\xee\\xf7\\x13\\xc1C\\xa0O\\xd3\\xa4u\\x82\\xa87\\x0b\\xee\\x88\\xe5-\\xcc\\xac\\xfc\\x1d.\\xe9\\x14a\\x17\\xcb\\xb4yl\\xb1k\\x9b\\x13gvt\\x163+\\xb5\\x0f0\\xa6\\xe8\\x14M0\\xf6\\x1e~\\xe4\\xb0\\xa0\\xc3\\xe6\\x96\\xcf\\xd7F\\xdf\\x8e\\x80U\\xf6\\xb1+\\xb1n#;W\\xd5s\\x82\\x054B\\xaas\\xd9\\xa6\\xc8\\x03\"\\xac\\x94\\x1d\\xe2\\x19\\xdba\\xcf\\xe1r\\x83x\\x96(\\x89\\x11\\xdf\\xa5\\xf9.D\\xdd\\xf4y\\x1f\\xea\\x98\\x93J\\xef\\xd1\\xf1\\xb1\\t\\xbcK\\xa0\\xc1\\x83|q:\\xe5\\x9e\\x00\\x1dFr\\xef\\xd4z?BV\\xedR\\xcf\\xc2\\x9d\\xafKn\\xc5\\xef,{\\x0c\\xf6\\xe5\\x13\\xcb\\x8c3\\xecK\\x90\\xc1\\xe7\\x96\\x01b7e\\xde\\xe9\\x9b\\x11\\xa2\\xd6\\x04\\xeb\\x84\\x19!h!\\\\t\\x0b\"V\\xf8\\xd7\"\\xaa\\xaej\\xb1\\x85Snjo\\xdau\\x18\\xa0\\xf5\\xb1:\\x9a\\x98$\\xefmo\\xd2\\xbc\\xbc\\xfc\\xc6\\xc6\\x91\\xef\\x97\\xd3\\xd2\\xb8\\x15[\\xa4\\xf4\\xe6|\\xcd\\xcc.\\xd2\\xd8\\xdfhav\\xe1\\xfe\\x83\\x8dK\\x0f-\\x92\\xfb\\x18j\\xc56+]\\xf5-W}\\x8b\\xff\\xbf\\xef[v\\xed\\xe5\\xabneWOq\\xd5\\xad\\xf8\\xd0E\\\\u+\\xd9\\xe9\\xc8\\xe5t+\\xeb\\x06\\x05z\\x17u~\\x90\\x9e\\xd4\\xe8s\\x9bx\\xe7\\xb1\\xcd\\x94P:\\x94K\\x8a\\x0f\\x84>\\xb9\\x11\\xf0\\xcd2\\x19\\xc0\\xa0\\x92\\xd3G\\x968?\\xc6\\x9bG\\xf0S\\x959\\x98\\xc0\\xc2\\xcd8\\xd22\\x1eg\\xf2c\"\\xa3a\\x84\\xe6p\\xeaS\\xf6\\x95\\x92\\x99\\xc8T\\xcf\\x847g\\x02N\\x1b\\xf5\\xb0S\\xb7\\xc2\\xd3E|\\xc8&\\xe9ie\\xb9\\xacN&\\xd3\\xca*\\x90\\\\\\x8f\\x97\\xc2|\\x1cN\\x9ad\\x8a\\xae\\xd5\\xd7\\'p\\xb9zm\\xedL\\x9f\\x94\\xae\\x0cP\\xb2\\xe71\\xc2\\x98\\xcc6\\xa2\\xea0\\xa2\\xbe\\x1aTN\\xd2\\xe7\\xb2\\xe04\\x87\\x11ze\\x97bE\\xd3aEC\\xa9_\\x85j\\xcb\\n0-\\x8f\\n|T{\\xf0)\\xde\\xf2\\xc3\\x00D@\\x08\\x8e\\xdb\\xa0\\x01\\x9f\\xa88\\xa5\\xa1^EW\\x07\\xf32#\\xbd\\xcb\\x99V\\x06\\x94\\xe0H<\\xcb\\x80u\\xa4\\x9b\\xca\\xd6\\x9d\\xcbS\\xabKS\\xed\\x0c\\x91\\xb6\\x8c0\\xd2\\xcd6B{F7x\"\\x82O\\xdd,;\\xd5\\xe8Y\\xcc8o\\xac\\x9b\\xeb\\x90Z\\xe6)Wd\\xbe0\\xcc\\xa87\\xdee\\xc5Ec\\rr\\x9b\\xdc@\\x13\\x93)h\\xe2\\x9d\\xb6\\xfcZ5\\x84\\x94\\x19\\xa3y\\xcb\\x9f\\xc2\\xa9/\\xfc\\x8c\\xe7\\x90;B}W!:\\x83\\xab\\x93\\xb1\\xe4\\xe9\\x86\\xbf\\x08\\xb3\\xcc\\xb9\\x90=$\\xa2\\xd4\\xe1\\x9atR6\\x88\\x89\\xc4\\xdc\\xa3$n\\xf9j\\xf9y\\x18h\\xa29D\\xdbV\\xae\\x00!\\xfck\\x8dk\\x02\\xad\\xfc\\xdb\\x8c\\x83\\xa0\\xdbA\\xc6\\xd3)\\x1eK3\\xec\\xc6\\x88\\xf2t\\xfa\\x08\\x0c\\x9fr\\x85\\xf3\\xad\\x16\\xbf8XI\\xb2\\x05\\x84{\\x18MN\\xbd#\\xba\\xe0\\x0f\\x10\\xa4XX/+\\x07N\\x88\\x80\\xab\\x81r\\xea\\xcd\\t\\x81\\xdb\\xac\\x9c\\xc8\\xd6\\xf9\\xb7Q\\x982\\xda5\\xaf\\x93t\\x0e\\xa5\\xe3\\x88\\xce#\\x94U\\x14\\x93\\xccS\\xb8\\xa6\\xf2\\xdc\\x1c\\xfd\\x94\\xfb\\xc0x\\xca\\xd6\\x0c\\x0e5\\\\\\x92\\x15\\xc2\\xa3\\x99*\\xb0\\xa6S\\xadj\\x9aW\\x8d\\xd4\\x86\\x9dU\\xf7\\xfdB\\xcas\\x06i\\xaek\\xa6\\xc5*\\xaaj\\xbaY\\xcc\\x9aaU\\x066|y\\xb1\"oX\\xb5r1\\x94K\\xb3\\xc2\\xa7\\xd4\\xbdI\\xb9\\xcd\\x15\\xd7m\\xf4\\ty\\x95\\x00\\x87\\xe7\\xfesT\\xdd3\\x14\\x04\\xc3\\xb4\\xf5d\\x96i\\xca\\xe2m\\x1aV\\x9c\\x9d\\x8d\\xda\\xb5c\\xb5\\xc0\\xf7\\x98v\\x96\"a\\xb0~m\\xa5v\\xc3oy\\x8dpN\\x07\\x83\\x17\\xaa\\xfc \\xb7\\x99\\xb504]\\xf5\\x95\\xda\\xd3\\xfa\\xda\\xdb\\xbc\\x99fGO\\x80<z\\xd0\\xe5.\\xa8\\x14:\\x94pz\\xcb\\x114DC\\xdd\\x93\\xa4\\xb4\\x01[\\xe4\\xa9\\xcc\\xb6\\x06\\xfc\\xf2\\x16\\x9c\\xb4\\xfcg\\xa5\\xb0\\x1dt+a\\xb7Pj\\x84\\xfdBP\\rJ\\x85F\\xd8\\xae\\x16\\xdaaX-\\xf7\\xc3r\\xa9\\xd7\\xa9<\\x87\\xc2\"\\xa3\\xb8\\x1c\\xa6W\\xee\\x03\\xb8\\xa4\\xa0\\xcb\\xf4\\xe2\\xbd\\xe5\\xfb\\xd9\\r\\xbc\\x06l\\xdd\\xc2\\xc7\\xab\\x0b\\x99kc\\x16\\x17\\x99\\xbee/\\xea\\x15\\xe8[\\xf8re\\xf7-\\xbcG\\x80}\\x9e\\xd5*\\x83f\\xb5\\xd9\\xa9\\x15\\x9a\\xd5\\xf6\\xa0\\x10\\xf4:\\x8dB\\xb3[\\xeb\\x14z\\xb5n\\xbd7\\xe8u\\xc3Fs\\xf0\\xdc\\xf7N48hW\\xbbA\\xad\\xdf(\\xd4\\xca\\xddn!\\xa8\\x95\\xd4:\\x1a\\xcdB=\\xa8T\\xdaA\\xbd\\xdd\\xe8\\x07\\xed\\xe7Y?\\x03.Hy$s\\n\\xf8Y\\xdbu\\xe3\\x1f\\x00\\x00\\x00\\xff\\xff\\x03\\x00PK\\x03\\x04\\x14\\x00\\x06\\x00\\x08\\x00\\x00\\x00!\\x00\\xf9\\x1a\\xbdyf\\x02\\x00\\x00`\\x06\\x00\\x00\\x18\\x00\\x00\\x00xl/worksheets/sheet1.xml\\x8cU\\xcb\\x92\\x9b0\\x10\\xbc\\xa7*\\xff@\\xe9\\x1e\\xf30\\xe0Ga\\xb6\\xd6\\xd8T\\xf6\\x90\\xaa\\xad<\\xcf2\\x08C- \\x82\\xb4v\\xf2\\xf7\\x191\\xe6%\\xfb\\x90\\x9b\\xd4-zz\\x1a1\\x04O\\x7f\\xaa\\xd2\\xb8\\xb0V\\x14\\xbc\\xde\\x11{a\\x11\\x83\\xd5\\tO\\x8b\\xfa\\xbc#?\\xbe\\xc7\\x9f\\xd6\\xc4\\x10\\x92\\xd6)-y\\xcdv\\xe4/\\x13\\xe4)\\xfc\\xf8!\\xb8\\xf2\\xf6M\\xe4\\x8cI\\x03\\x14j\\xb1#\\xb9\\x94\\xcd\\xd64E\\x92\\xb3\\x8a\\x8a\\x05oX\\rL\\xc6\\xdb\\x8aJ\\xd8\\xb6gS4-\\xa3i\\xf7PU\\x9a\\x8ee\\xf9fE\\x8b\\x9a\\xa0\\xc2\\xb6\\xfd\\x1f\\r\\x9eeE\\xc2\\x0e<y\\xafX-Q\\xa4e%\\x95\\xe0_\\xe4E#H\\x18\\xa4\\x05p\\xaa!\\xa3e\\xd9\\x8e<\\xdb\\xdb\\xd8\\'f\\x18t\\x95\\x7f\\x16\\xec*&kC\\xd2\\xd37V\\xb2D\\xb2\\x14\\x02 \\x86j\\xec\\xc4\\xf9\\x9b:\\xf8\\x02\\x90\\x05\\x8a\\xa2;\\xa0\\x14i\"\\x8b\\x0b\\x8bXY\\xee\\xc8\\x8b\\x0f\\xd9\\xfc\\xeej\\xc0\\x12\\n\\x98C\\x85\\xe9\\xba\\xaf\\x16wQ\\xbc\\xb6F\\xca2\\xfa^\\xca\\x88\\x97\\xbf\\x8aT\\xe6P\\x15\\xca\\xde\\xc0\\xaf\\xfc\\xfa\\x99\\x15\\xe7\\\\\\x02\\xea-V\\xde\\xe0\\xfb@%\\r\\x83\\x96_\\r\\xc8\\t\\xce\\x8b\\x86\\xaa\\xd4\\xed\\xad\\x0f\\xfe\\x12\\x05>\\x03\\n\\x8f\\xa9\\x04.\\xa1\\x17\\x98\\x170\\x91\\xdc\\xb8\\xfd\\x94\\xb3\\xe6\\\\4\\xe5\\xec9w\\x98r\\xce\\x9c;N\\xb9\\xe5\\x9c\\x8b\\xa7\\x9c;p&\\xf8\\x1f\\x9ap\\x1e6\\xa1P\\xd5\\xa0j\\xc2u\\xbd\\xb5fh\\xeft\\xccf3hv\\xbdG\\x08;Zk\\x07\\x84]-\\x8d#\\xc2\\x9e?\\x17\\x89{\\x11k\\x94\\x999^>t\\xac\\xd0\\xa9c-\\xa6\\xfd\\x12\\x1d\\xaf\\xe7\\xc5\"\\x84m\\xad\\x91\\x03\\xc2\\xeej~\\xfa\\x88\\xb0\\xa75\\x12\\xf7\"\\x9b1\\xff\\x99c\\xf7\\xa1c\\x85N\\x1d\\x8f\\x0fwa\\xee]t\\xac\\x15\\x8b\\x10\\xbes\\x8c\\xb07f\\xd6\\x89\\x1c\\x11\\xf658\\xeeE\\x9c\\xf1\\xc5\\xce\\x1c{\\x0f\\x1d+t\\xeax\\xbcR\\xe8\\xd8\\xeb\\x1c\\xdb\\xd6(\\x8a\\xd7\\x02qG{%\\x07\\x84\\xf5\\xf7\\x7fD\\xd8\\xd7D\\xe2\\x9b\\xf8f5\\xde\\x97\\x99e5\\x06\\xee\\xbfF\\x85N-ki\\xee\\xd5w{\\tmK\\x0b?B\\xfc\\xce2\\xc2\\xfa\\x058\"\\xeck\\xe20\\xef\\x94\\xb8c\\xd9c\\xfch\\x19G\\x14\\x0e\\x93\\x86\\x9e\\xd9\\x17\\xda\\x9e\\x8bZ\\x18%\\xcb`vX\\x8b\\x151Z\\x1c?\\xddZ\\xf2\\xa6C!\\xff\\x13\\x97\\x92W\\xfd.\\x87I\\xce`\\xe8X\\x0b\\xb8\\xfe\\x19\\xe7\\xb2\\xdf\\xa818\\xfc\\x1b\\xc2\\x7f\\x00\\x00\\x00\\xff\\xff\\x03\\x00PK\\x03\\x04\\x14\\x00\\x06\\x00\\x08\\x00\\x00\\x00!\\x00_\\xbd\\r\\x7fT\\x01\\x00\\x00h\\x02\\x00\\x00\\x11\\x00\\x08\\x01docProps/core.xml \\xa2\\x04\\x01(\\xa0\\x00\\x01\\x00\\x00\\x00\\x00\\x00\\x00\\x00\\x00\\x00\\x00\\x00\\x00\\x00\\x00\\x00\\x00\\x00\\x00\\x00\\x00\\x00\\x00\\x00\\x00\\x00\\x00\\x00\\x00\\x00\\x00\\x00\\x00\\x00\\x00\\x00\\x00\\x00\\x00\\x00\\x00\\x00\\x00\\x00\\x00\\x00\\x00\\x00\\x00\\x00\\x00\\x00\\x00\\x00\\x00\\x00\\x00\\x00\\x00\\x00\\x00\\x00\\x00\\x00\\x00\\x00\\x00\\x00\\x00\\x00\\x00\\x00\\x00\\x00\\x00\\x00\\x00\\x00\\x00\\x00\\x00\\x00\\x00\\x00\\x00\\x00\\x00\\x00\\x00\\x00\\x00\\x00\\x00\\x00\\x00\\x00\\x00\\x00\\x00\\x00\\x00\\x00\\x00\\x00\\x00\\x00\\x00\\x00\\x00\\x00\\x00\\x00\\x00\\x00\\x00\\x00\\x00\\x00\\x00\\x00\\x00\\x00\\x00\\x00\\x00\\x00\\x00\\x00\\x00\\x00\\x00\\x00\\x00\\x00\\x00\\x00\\x00\\x00\\x00\\x00\\x00\\x00\\x00\\x00\\x00\\x00\\x00\\x00\\x00\\x00\\x00\\x00\\x00\\x00\\x00\\x00\\x00\\x00\\x00\\x00\\x00\\x00\\x00\\x00\\x00\\x00\\x00\\x00\\x00\\x00\\x00\\x00\\x00\\x00\\x00\\x00\\x00\\x00\\x00\\x00\\x00\\x00\\x00\\x00\\x00\\x00\\x00\\x00\\x00\\x00\\x00\\x00\\x00\\x00\\x00\\x00\\x00\\x00\\x00\\x00\\x00\\x00\\x00\\x00\\x00\\x00\\x00\\x00\\x00\\x00\\x00\\x00\\x00\\x00\\x00\\x00\\x00\\x00\\x00\\x00\\x00\\x00\\x00\\x00\\x00\\x00\\x00\\x00\\x00\\x00\\x00\\x00\\x00\\x00\\x00\\x00\\x00\\x00\\x00\\x00\\x00\\x00\\x00\\x00\\x00\\x00\\x00\\x00\\x00\\x00\\x00\\x00\\x00\\x00\\x00\\x00\\x00|\\x92_K\\xc30\\x14\\xc5\\xdf\\x05\\xbfC\\xc9{\\x9b\\xb4\\xfb\\xa3\\x86\\xb6\\x03\\x95=9\\x14\\x9c(\\xbe\\x85\\xe4v\\x0b\\xb6IH\\xa2\\xdd\\xbe\\xbdi\\xb7\\xd5\\x0eE\\xc8K\\xee9\\xf9\\xdds/\\xc9\\x17\\xbb\\xa6\\x8e\\xbe\\xc0:\\xa9U\\x81\\xd2\\x84\\xa0\\x08\\x14\\xd7B\\xaaM\\x81^\\xd6\\xcb\\xf8\\x1aE\\xce3%X\\xad\\x15\\x14h\\x0f\\x0e-\\xca\\xcb\\x8b\\x9c\\x1b\\xca\\xb5\\x85\\'\\xab\\rX/\\xc1E\\x81\\xa4\\x1c\\xe5\\xa6@[\\xef\\r\\xc5\\xd8\\xf1-4\\xcc%\\xc1\\xa1\\x82Xi\\xdb0\\x1f\\xaev\\x83\\r\\xe3\\x1fl\\x038#d\\x8e\\x1b\\xf0L0\\xcfp\\x07\\x8c\\xcd@DG\\xa4\\xe0\\x03\\xd2|\\xda\\xba\\x07\\x08\\x8e\\xa1\\x86\\x06\\x94w8MR\\xfc\\xe3\\xf5`\\x1b\\xf7\\xe7\\x83^\\x199\\x1b\\xe9\\xf7&\\xcct\\x8c;f\\x0b~\\x10\\x07\\xf7\\xce\\xc9\\xc1\\xd8\\xb6m\\xd2N\\xfa\\x18!\\x7f\\x8a\\xdfV\\x0f\\xcf\\xfd\\xa8\\xb1T\\xdd\\xae8\\xa02\\x17\\x9cr\\x0b\\xcck[\\xae$\\xb7\\xda\\xe9\\xcaG\\x8fU%9D/\\x0el\\x8eG\\x8en\\x9b5s~\\x15\\x16_I\\x10\\xb7\\xfbrkr\\xfc\\xbb\\x1a\\xb0\\xfd\\x14\\x076\\x88(\\xe4\\xa2\\x87)N\\xca\\xeb\\xe4\\xee~\\xbdDeF\\xb2,&\\xe1L\\xd7\\x19\\xa1\\xd9\\x8cf\\xf3\\xf7\\xae\\xe9\\xd9\\xfb.\\xe7\\xa1\\xd0\\x1c[\\xffO\\x9c\\xc4\\xe4\\xaa#\\x92)%s:\\xbb\\x19\\x11O\\x80\\xb2\\xcf}\\xfe7\\xcao\\x00\\x00\\x00\\xff\\xff\\x03\\x00PK\\x03\\x04\\x14\\x00\\x06\\x00\\x08\\x00\\x00\\x00!\\x00\\x84/\\xdb\\xdc\\x90\\x01\\x00\\x00\\x1b\\x03\\x00\\x00\\x10\\x00\\x08\\x01docProps/app.xml \\xa2\\x04\\x01(\\xa0\\x00\\x01\\x00\\x00\\x00\\x00\\x00\\x00\\x00\\x00\\x00\\x00\\x00\\x00\\x00\\x00\\x00\\x00\\x00\\x00\\x00\\x00\\x00\\x00\\x00\\x00\\x00\\x00\\x00\\x00\\x00\\x00\\x00\\x00\\x00\\x00\\x00\\x00\\x00\\x00\\x00\\x00\\x00\\x00\\x00\\x00\\x00\\x00\\x00\\x00\\x00\\x00\\x00\\x00\\x00\\x00\\x00\\x00\\x00\\x00\\x00\\x00\\x00\\x00\\x00\\x00\\x00\\x00\\x00\\x00\\x00\\x00\\x00\\x00\\x00\\x00\\x00\\x00\\x00\\x00\\x00\\x00\\x00\\x00\\x00\\x00\\x00\\x00\\x00\\x00\\x00\\x00\\x00\\x00\\x00\\x00\\x00\\x00\\x00\\x00\\x00\\x00\\x00\\x00\\x00\\x00\\x00\\x00\\x00\\x00\\x00\\x00\\x00\\x00\\x00\\x00\\x00\\x00\\x00\\x00\\x00\\x00\\x00\\x00\\x00\\x00\\x00\\x00\\x00\\x00\\x00\\x00\\x00\\x00\\x00\\x00\\x00\\x00\\x00\\x00\\x00\\x00\\x00\\x00\\x00\\x00\\x00\\x00\\x00\\x00\\x00\\x00\\x00\\x00\\x00\\x00\\x00\\x00\\x00\\x00\\x00\\x00\\x00\\x00\\x00\\x00\\x00\\x00\\x00\\x00\\x00\\x00\\x00\\x00\\x00\\x00\\x00\\x00\\x00\\x00\\x00\\x00\\x00\\x00\\x00\\x00\\x00\\x00\\x00\\x00\\x00\\x00\\x00\\x00\\x00\\x00\\x00\\x00\\x00\\x00\\x00\\x00\\x00\\x00\\x00\\x00\\x00\\x00\\x00\\x00\\x00\\x00\\x00\\x00\\x00\\x00\\x00\\x00\\x00\\x00\\x00\\x00\\x00\\x00\\x00\\x00\\x00\\x00\\x00\\x00\\x00\\x00\\x00\\x00\\x00\\x00\\x00\\x00\\x00\\x00\\x00\\x00\\x00\\x00\\x00\\x00\\x00\\x00\\x00\\x00\\x00\\x00\\x00\\x00\\x00\\x00\\x00\\x00\\x9c\\x92Mo\\xdb0\\x0c\\x86\\xef\\x03\\xf6\\x1f\\x0c\\xdd\\x1b9\\xc10\\x0c\\x81\\xac\\xa2H7\\xf4\\xb0b\\x01\\x92vgU\\xa6c\\xa1\\xb2$\\x88\\xac\\x91\\xec\\xd7\\x8f\\xb6\\x91\\xc6\\xd9v\\x9aN\\xfcx\\xf1\\xf2\\x11%u{\\xec|\\xd1CF\\x17C%\\x96\\x8bR\\x14\\x10l\\xac]8T\\xe2i\\xff\\xed\\xe6\\x8b(\\x90L\\xa8\\x8d\\x8f\\x01*q\\x02\\x14\\xb7\\xfa\\xe3\\x07\\xb5\\xcd1A&\\x07X\\xb0E\\xc0J\\xb4Di-%\\xda\\x16:\\x83\\x0bn\\x07\\xee41w\\x868\\xcd\\x07\\x19\\x9b\\xc6Y\\xb8\\x8f\\xf6\\xad\\x83@rU\\x96\\x9f%\\x1c\\tB\\r\\xf5Mz7\\x14\\x93\\xe3\\xba\\xa7\\xff5\\xad\\xa3\\x1d\\xf8\\xf0y\\x7fJ\\x0c\\xac\\xd5]J\\xdeYC|K\\xfd\\xe8l\\x8e\\x18\\x1b*\\x1e\\x8du\\x81\"\\xb6\\xc5\\xd7\\xa3\\x05\\xaf\\xe4\\\\\\xa6\\x98s\\x07\\xf6-;:\\xe9R\\xc9y\\xaav\\xd6x\\xd8\\xf0\\x08\\xdd\\x18\\x8f\\xa0\\xe4\\xa5\\xa0\\x1e\\xc0\\x0c\\xeb\\xdb\\x1a\\x97Q\\xab\\x9e\\xd6=X\\x8a\\xb9@\\xf7\\x8b\\x17\\xb8\\x12\\xc5\\x8bA\\x18\\xc0*\\xd1\\x9b\\xecL \\x06\\x1cdS2\\xc6>!e\\xfd3\\xe6Wl\\x01\\x08\\x95d\\xc1T\\x1c\\xc3\\xb9v\\x1e\\xbbOz9\\n8\\xb8\\x16\\x0e\\x06\\x13\\x087\\xae\\x11\\xf7\\x8e<\\xe0\\x8ffk2\\xfd\\x83x9\\'\\x1e\\x19&\\xde\\tg7\\xf0M3\\xe7|\\xe3\\x95y\\xd2\\x1f\\xde\\x9b\\xd8%\\x13N\\xdcx\\x8f\\xbe\\xbb\\xf0\\x8aOi\\x1f\\xef\\r\\xc1y\\x9d\\xd7E\\xb5kM\\x86\\x9a_\\xe0\\xdc\\xbf\\x14\\xd4\\x03o2\\xfb\\xc1d\\xd3\\x9ap\\x80\\xfa\\xac\\xf9\\xbb1|\\x83\\xe7\\xe9\\xaf\\xeb\\xe5jQ\\xf2\\x19\\xdf\\xfc\\\\S\\xf2\\xf2\\xab\\xf5o\\x00\\x00\\x00\\xff\\xff\\x03\\x00PK\\x01\\x02-\\x00\\x14\\x00\\x06\\x00\\x08\\x00\\x00\\x00!\\x00\\xebz\\xd2\\x93b\\x01\\x00\\x00\\x90\\x04\\x00\\x00\\x13\\x00\\x00\\x00\\x00\\x00\\x00\\x00\\x00\\x00\\x00\\x00\\x00\\x00\\x00\\x00\\x00\\x00[Content_Types].xmlPK\\x01\\x02-\\x00\\x14\\x00\\x06\\x00\\x08\\x00\\x00\\x00!\\x00\\xb5U0#\\xf5\\x00\\x00\\x00L\\x02\\x00\\x00\\x0b\\x00\\x00\\x00\\x00\\x00\\x00\\x00\\x00\\x00\\x00\\x00\\x00\\x00o\\x03\\x00\\x00_rels/.relsPK\\x01\\x02-\\x00\\x14\\x00\\x06\\x00\\x08\\x00\\x00\\x00!\\x00\\x81>\\x94\\x97\\xf4\\x00\\x00\\x00\\xba\\x02\\x00\\x00\\x1a\\x00\\x00\\x00\\x00\\x00\\x00\\x00\\x00\\x00\\x00\\x00\\x00\\x00[\\x06\\x00\\x00xl/_rels/workbook.xml.relsPK\\x01\\x02-\\x00\\x14\\x00\\x06\\x00\\x08\\x00\\x00\\x00!\\x00\\xe1P\\xb5\\x1d\\x18\\x02\\x00\\x00G\\x04\\x00\\x00\\x0f\\x00\\x00\\x00\\x00\\x00\\x00\\x00\\x00\\x00\\x00\\x00\\x00\\x00\\x8f\\x08\\x00\\x00xl/workbook.xmlPK\\x01\\x02-\\x00\\x14\\x00\\x06\\x00\\x08\\x00\\x00\\x00!\\x00|\\x05y+\\xbd\\x00\\x00\\x00\\x1f\\x01\\x00\\x00\\x14\\x00\\x00\\x00\\x00\\x00\\x00\\x00\\x00\\x00\\x00\\x00\\x00\\x00\\xd4\\n\\x00\\x00xl/sharedStrings.xmlPK\\x01\\x02-\\x00\\x14\\x00\\x06\\x00\\x08\\x00\\x00\\x00!\\x00\\xa6GZ)f\\x02\\x00\\x00K\\x05\\x00\\x00\\r\\x00\\x00\\x00\\x00\\x00\\x00\\x00\\x00\\x00\\x00\\x00\\x00\\x00\\xc3\\x0b\\x00\\x00xl/styles.xmlPK\\x01\\x02-\\x00\\x14\\x00\\x06\\x00\\x08\\x00\\x00\\x00!\\x00\\xdb\\xccpho\\x07\\x00\\x00\\x93 \\x00\\x00\\x13\\x00\\x00\\x00\\x00\\x00\\x00\\x00\\x00\\x00\\x00\\x00\\x00\\x00T\\x0e\\x00\\x00xl/theme/theme1.xmlPK\\x01\\x02-\\x00\\x14\\x00\\x06\\x00\\x08\\x00\\x00\\x00!\\x00\\xf9\\x1a\\xbdyf\\x02\\x00\\x00`\\x06\\x00\\x00\\x18\\x00\\x00\\x00\\x00\\x00\\x00\\x00\\x00\\x00\\x00\\x00\\x00\\x00\\xf4\\x15\\x00\\x00xl/worksheets/sheet1.xmlPK\\x01\\x02-\\x00\\x14\\x00\\x06\\x00\\x08\\x00\\x00\\x00!\\x00_\\xbd\\r\\x7fT\\x01\\x00\\x00h\\x02\\x00\\x00\\x11\\x00\\x00\\x00\\x00\\x00\\x00\\x00\\x00\\x00\\x00\\x00\\x00\\x00\\x90\\x18\\x00\\x00docProps/core.xmlPK\\x01\\x02-\\x00\\x14\\x00\\x06\\x00\\x08\\x00\\x00\\x00!\\x00\\x84/\\xdb\\xdc\\x90\\x01\\x00\\x00\\x1b\\x03\\x00\\x00\\x10\\x00\\x00\\x00\\x00\\x00\\x00\\x00\\x00\\x00\\x00\\x00\\x00\\x00\\x1b\\x1b\\x00\\x00docProps/app.xmlPK\\x05\\x06\\x00\\x00\\x00\\x00\\n\\x00\\n\\x00\\x80\\x02\\x00\\x00\\xe1\\x1d\\x00\\x00\\x00\\x00'}"
            ]
          },
          "metadata": {},
          "execution_count": 205
        }
      ],
      "source": [
        "shares_df"
      ]
    },
    {
      "cell_type": "code",
      "source": [
        "shares_df1 = open('shares_df', 'br')"
      ],
      "metadata": {
        "colab": {
          "base_uri": "https://localhost:8080/",
          "height": 165
        },
        "id": "S-7F0KL1oNit",
        "outputId": "42d61c73-ebc5-4e9c-9deb-592715780d48"
      },
      "id": "S-7F0KL1oNit",
      "execution_count": null,
      "outputs": [
        {
          "output_type": "error",
          "ename": "FileNotFoundError",
          "evalue": "ignored",
          "traceback": [
            "\u001b[0;31m---------------------------------------------------------------------------\u001b[0m",
            "\u001b[0;31mFileNotFoundError\u001b[0m                         Traceback (most recent call last)",
            "\u001b[0;32m<ipython-input-7-5dd85132dda6>\u001b[0m in \u001b[0;36m<cell line: 1>\u001b[0;34m()\u001b[0m\n\u001b[0;32m----> 1\u001b[0;31m \u001b[0mshares_df1\u001b[0m \u001b[0;34m=\u001b[0m \u001b[0mopen\u001b[0m\u001b[0;34m(\u001b[0m\u001b[0;34m'shares_df'\u001b[0m\u001b[0;34m,\u001b[0m \u001b[0;34m'br'\u001b[0m\u001b[0;34m)\u001b[0m\u001b[0;34m\u001b[0m\u001b[0;34m\u001b[0m\u001b[0m\n\u001b[0m",
            "\u001b[0;31mFileNotFoundError\u001b[0m: [Errno 2] No such file or directory: 'shares_df'"
          ]
        }
      ]
    },
    {
      "cell_type": "code",
      "execution_count": null,
      "id": "b8922e66",
      "metadata": {
        "id": "b8922e66",
        "outputId": "d14d39be-0d8a-423e-84c8-abab835f5849"
      },
      "outputs": [
        {
          "data": {
            "text/plain": [
              "RangeIndex(start=0, stop=5, step=1)"
            ]
          },
          "execution_count": 278,
          "metadata": {},
          "output_type": "execute_result"
        }
      ],
      "source": [
        "shares_df.index"
      ]
    },
    {
      "cell_type": "code",
      "execution_count": null,
      "id": "72812ddd",
      "metadata": {
        "id": "72812ddd",
        "outputId": "e0de3dce-0f5a-4e02-b56a-df51dcec7bda"
      },
      "outputs": [
        {
          "data": {
            "text/plain": [
              "Index(['Date', 'A', 'B ', 'C', 'D', 'E'], dtype='object')"
            ]
          },
          "execution_count": 279,
          "metadata": {},
          "output_type": "execute_result"
        }
      ],
      "source": [
        "shares_df.columns"
      ]
    },
    {
      "cell_type": "code",
      "execution_count": null,
      "id": "efc1563e",
      "metadata": {
        "id": "efc1563e",
        "outputId": "895b93b9-9ec5-479d-8dcc-df914a179af1"
      },
      "outputs": [
        {
          "data": {
            "text/plain": [
              "array([[Timestamp('2022-01-20 00:00:00'), 99, 20, 45, 56, 2000],\n",
              "       [Timestamp('2022-01-21 00:00:00'), 98, 19, 47, 55, 1993],\n",
              "       [Timestamp('2022-01-22 00:00:00'), 95, 19, 50, 60, 1921],\n",
              "       [Timestamp('2022-01-23 00:00:00'), 101, 22, 56, 61, 1976],\n",
              "       [Timestamp('2022-01-24 00:00:00'), 103, 22, 55, 65, 2010]],\n",
              "      dtype=object)"
            ]
          },
          "execution_count": 280,
          "metadata": {},
          "output_type": "execute_result"
        }
      ],
      "source": [
        "shares_df.values"
      ]
    },
    {
      "cell_type": "code",
      "execution_count": null,
      "id": "3f91d141",
      "metadata": {
        "id": "3f91d141",
        "outputId": "d5122664-2c1a-4c37-ed3f-3afd6fde0d02"
      },
      "outputs": [
        {
          "data": {
            "text/plain": [
              "Timestamp('2022-01-20 00:00:00')"
            ]
          },
          "execution_count": 281,
          "metadata": {},
          "output_type": "execute_result"
        }
      ],
      "source": [
        "shares_df['Date'].loc[0]"
      ]
    },
    {
      "cell_type": "code",
      "execution_count": null,
      "id": "9f35fd3f",
      "metadata": {
        "id": "9f35fd3f",
        "outputId": "26df6372-adb1-445f-9020-58d0ea2bd10a"
      },
      "outputs": [
        {
          "data": {
            "text/plain": [
              "pandas._libs.tslibs.timestamps.Timestamp"
            ]
          },
          "execution_count": 282,
          "metadata": {},
          "output_type": "execute_result"
        }
      ],
      "source": [
        "type(shares_df['Date'].loc[0])"
      ]
    },
    {
      "cell_type": "code",
      "execution_count": null,
      "id": "899939d5",
      "metadata": {
        "id": "899939d5"
      },
      "outputs": [],
      "source": []
    },
    {
      "cell_type": "code",
      "execution_count": null,
      "id": "6ac99fda",
      "metadata": {
        "id": "6ac99fda"
      },
      "outputs": [],
      "source": [
        "# stack"
      ]
    },
    {
      "cell_type": "code",
      "execution_count": null,
      "id": "f60e3d0b",
      "metadata": {
        "id": "f60e3d0b",
        "outputId": "6c4de00e-4585-4b94-d7d9-0cae65187ca9"
      },
      "outputs": [
        {
          "data": {
            "text/html": [
              "<div>\n",
              "<style scoped>\n",
              "    .dataframe tbody tr th:only-of-type {\n",
              "        vertical-align: middle;\n",
              "    }\n",
              "\n",
              "    .dataframe tbody tr th {\n",
              "        vertical-align: top;\n",
              "    }\n",
              "\n",
              "    .dataframe thead th {\n",
              "        text-align: right;\n",
              "    }\n",
              "</style>\n",
              "<table border=\"1\" class=\"dataframe\">\n",
              "  <thead>\n",
              "    <tr style=\"text-align: right;\">\n",
              "      <th></th>\n",
              "      <th>Date</th>\n",
              "      <th>A</th>\n",
              "      <th>B</th>\n",
              "      <th>C</th>\n",
              "      <th>D</th>\n",
              "      <th>E</th>\n",
              "    </tr>\n",
              "  </thead>\n",
              "  <tbody>\n",
              "    <tr>\n",
              "      <th>0</th>\n",
              "      <td>2022-01-20</td>\n",
              "      <td>99</td>\n",
              "      <td>20</td>\n",
              "      <td>45</td>\n",
              "      <td>56</td>\n",
              "      <td>2000</td>\n",
              "    </tr>\n",
              "    <tr>\n",
              "      <th>1</th>\n",
              "      <td>2022-01-21</td>\n",
              "      <td>98</td>\n",
              "      <td>19</td>\n",
              "      <td>47</td>\n",
              "      <td>55</td>\n",
              "      <td>1993</td>\n",
              "    </tr>\n",
              "    <tr>\n",
              "      <th>2</th>\n",
              "      <td>2022-01-22</td>\n",
              "      <td>95</td>\n",
              "      <td>19</td>\n",
              "      <td>50</td>\n",
              "      <td>60</td>\n",
              "      <td>1921</td>\n",
              "    </tr>\n",
              "    <tr>\n",
              "      <th>3</th>\n",
              "      <td>2022-01-23</td>\n",
              "      <td>101</td>\n",
              "      <td>22</td>\n",
              "      <td>56</td>\n",
              "      <td>61</td>\n",
              "      <td>1976</td>\n",
              "    </tr>\n",
              "    <tr>\n",
              "      <th>4</th>\n",
              "      <td>2022-01-24</td>\n",
              "      <td>103</td>\n",
              "      <td>22</td>\n",
              "      <td>55</td>\n",
              "      <td>65</td>\n",
              "      <td>2010</td>\n",
              "    </tr>\n",
              "  </tbody>\n",
              "</table>\n",
              "</div>"
            ],
            "text/plain": [
              "        Date    A  B    C   D     E\n",
              "0 2022-01-20   99  20  45  56  2000\n",
              "1 2022-01-21   98  19  47  55  1993\n",
              "2 2022-01-22   95  19  50  60  1921\n",
              "3 2022-01-23  101  22  56  61  1976\n",
              "4 2022-01-24  103  22  55  65  2010"
            ]
          },
          "execution_count": 284,
          "metadata": {},
          "output_type": "execute_result"
        }
      ],
      "source": [
        "shares_df"
      ]
    },
    {
      "cell_type": "code",
      "execution_count": null,
      "id": "c3477c07",
      "metadata": {
        "id": "c3477c07"
      },
      "outputs": [],
      "source": [
        "shares_stacked = shares_df.stack()"
      ]
    },
    {
      "cell_type": "code",
      "execution_count": null,
      "id": "ce513fcc",
      "metadata": {
        "id": "ce513fcc",
        "outputId": "072e1935-4057-4898-e0a4-80bbc448da2a"
      },
      "outputs": [
        {
          "data": {
            "text/plain": [
              "0  Date    2022-01-20 00:00:00\n",
              "   A                        99\n",
              "   B                        20\n",
              "   C                        45\n",
              "   D                        56\n",
              "   E                      2000\n",
              "1  Date    2022-01-21 00:00:00\n",
              "   A                        98\n",
              "   B                        19\n",
              "   C                        47\n",
              "   D                        55\n",
              "   E                      1993\n",
              "2  Date    2022-01-22 00:00:00\n",
              "   A                        95\n",
              "   B                        19\n",
              "   C                        50\n",
              "   D                        60\n",
              "   E                      1921\n",
              "3  Date    2022-01-23 00:00:00\n",
              "   A                       101\n",
              "   B                        22\n",
              "   C                        56\n",
              "   D                        61\n",
              "   E                      1976\n",
              "4  Date    2022-01-24 00:00:00\n",
              "   A                       103\n",
              "   B                        22\n",
              "   C                        55\n",
              "   D                        65\n",
              "   E                      2010\n",
              "dtype: object"
            ]
          },
          "execution_count": 287,
          "metadata": {},
          "output_type": "execute_result"
        }
      ],
      "source": [
        "shares_stacked"
      ]
    },
    {
      "cell_type": "code",
      "execution_count": null,
      "id": "d9c1a5d0",
      "metadata": {
        "id": "d9c1a5d0",
        "outputId": "4bdc283f-88d0-4638-a2a6-6d90331626ae"
      },
      "outputs": [
        {
          "data": {
            "text/plain": [
              "pandas.core.series.Series"
            ]
          },
          "execution_count": 288,
          "metadata": {},
          "output_type": "execute_result"
        }
      ],
      "source": [
        "type(shares_stacked)"
      ]
    },
    {
      "cell_type": "code",
      "execution_count": null,
      "id": "71a6ce3a",
      "metadata": {
        "id": "71a6ce3a",
        "outputId": "0f794437-e70f-4396-aaea-a35e0698c426"
      },
      "outputs": [
        {
          "data": {
            "text/plain": [
              "MultiIndex([(0, 'Date'),\n",
              "            (0,    'A'),\n",
              "            (0,   'B '),\n",
              "            (0,    'C'),\n",
              "            (0,    'D'),\n",
              "            (0,    'E'),\n",
              "            (1, 'Date'),\n",
              "            (1,    'A'),\n",
              "            (1,   'B '),\n",
              "            (1,    'C'),\n",
              "            (1,    'D'),\n",
              "            (1,    'E'),\n",
              "            (2, 'Date'),\n",
              "            (2,    'A'),\n",
              "            (2,   'B '),\n",
              "            (2,    'C'),\n",
              "            (2,    'D'),\n",
              "            (2,    'E'),\n",
              "            (3, 'Date'),\n",
              "            (3,    'A'),\n",
              "            (3,   'B '),\n",
              "            (3,    'C'),\n",
              "            (3,    'D'),\n",
              "            (3,    'E'),\n",
              "            (4, 'Date'),\n",
              "            (4,    'A'),\n",
              "            (4,   'B '),\n",
              "            (4,    'C'),\n",
              "            (4,    'D'),\n",
              "            (4,    'E')],\n",
              "           )"
            ]
          },
          "execution_count": 289,
          "metadata": {},
          "output_type": "execute_result"
        }
      ],
      "source": [
        "shares_stacked.index"
      ]
    },
    {
      "cell_type": "code",
      "execution_count": null,
      "id": "c8e41fdc",
      "metadata": {
        "id": "c8e41fdc",
        "outputId": "6fa20edd-c0b4-475c-cde2-6079fbe16aa2"
      },
      "outputs": [
        {
          "data": {
            "text/plain": [
              "array([Timestamp('2022-01-20 00:00:00'), 99, 20, 45, 56, 2000,\n",
              "       Timestamp('2022-01-21 00:00:00'), 98, 19, 47, 55, 1993,\n",
              "       Timestamp('2022-01-22 00:00:00'), 95, 19, 50, 60, 1921,\n",
              "       Timestamp('2022-01-23 00:00:00'), 101, 22, 56, 61, 1976,\n",
              "       Timestamp('2022-01-24 00:00:00'), 103, 22, 55, 65, 2010],\n",
              "      dtype=object)"
            ]
          },
          "execution_count": 290,
          "metadata": {},
          "output_type": "execute_result"
        }
      ],
      "source": [
        "shares_stacked.values"
      ]
    },
    {
      "cell_type": "code",
      "execution_count": null,
      "id": "f97d7165",
      "metadata": {
        "id": "f97d7165",
        "outputId": "f8c93b1f-a390-4c70-d412-c950fbb597be"
      },
      "outputs": [
        {
          "data": {
            "text/plain": [
              "55"
            ]
          },
          "execution_count": 291,
          "metadata": {},
          "output_type": "execute_result"
        }
      ],
      "source": [
        "shares_stacked[(1, 'D')]"
      ]
    },
    {
      "cell_type": "code",
      "execution_count": null,
      "id": "c4d278bb",
      "metadata": {
        "id": "c4d278bb",
        "outputId": "dfbcc05f-565a-4137-aaf3-83a910d8e877"
      },
      "outputs": [
        {
          "data": {
            "text/html": [
              "<div>\n",
              "<style scoped>\n",
              "    .dataframe tbody tr th:only-of-type {\n",
              "        vertical-align: middle;\n",
              "    }\n",
              "\n",
              "    .dataframe tbody tr th {\n",
              "        vertical-align: top;\n",
              "    }\n",
              "\n",
              "    .dataframe thead th {\n",
              "        text-align: right;\n",
              "    }\n",
              "</style>\n",
              "<table border=\"1\" class=\"dataframe\">\n",
              "  <thead>\n",
              "    <tr style=\"text-align: right;\">\n",
              "      <th></th>\n",
              "      <th>Date</th>\n",
              "      <th>A</th>\n",
              "      <th>B</th>\n",
              "      <th>C</th>\n",
              "      <th>D</th>\n",
              "      <th>E</th>\n",
              "    </tr>\n",
              "  </thead>\n",
              "  <tbody>\n",
              "    <tr>\n",
              "      <th>0</th>\n",
              "      <td>2022-01-20</td>\n",
              "      <td>99</td>\n",
              "      <td>20</td>\n",
              "      <td>45</td>\n",
              "      <td>56</td>\n",
              "      <td>2000</td>\n",
              "    </tr>\n",
              "    <tr>\n",
              "      <th>1</th>\n",
              "      <td>2022-01-21</td>\n",
              "      <td>98</td>\n",
              "      <td>19</td>\n",
              "      <td>47</td>\n",
              "      <td>55</td>\n",
              "      <td>1993</td>\n",
              "    </tr>\n",
              "    <tr>\n",
              "      <th>2</th>\n",
              "      <td>2022-01-22</td>\n",
              "      <td>95</td>\n",
              "      <td>19</td>\n",
              "      <td>50</td>\n",
              "      <td>60</td>\n",
              "      <td>1921</td>\n",
              "    </tr>\n",
              "    <tr>\n",
              "      <th>3</th>\n",
              "      <td>2022-01-23</td>\n",
              "      <td>101</td>\n",
              "      <td>22</td>\n",
              "      <td>56</td>\n",
              "      <td>61</td>\n",
              "      <td>1976</td>\n",
              "    </tr>\n",
              "    <tr>\n",
              "      <th>4</th>\n",
              "      <td>2022-01-24</td>\n",
              "      <td>103</td>\n",
              "      <td>22</td>\n",
              "      <td>55</td>\n",
              "      <td>65</td>\n",
              "      <td>2010</td>\n",
              "    </tr>\n",
              "  </tbody>\n",
              "</table>\n",
              "</div>"
            ],
            "text/plain": [
              "        Date    A  B    C   D     E\n",
              "0 2022-01-20   99  20  45  56  2000\n",
              "1 2022-01-21   98  19  47  55  1993\n",
              "2 2022-01-22   95  19  50  60  1921\n",
              "3 2022-01-23  101  22  56  61  1976\n",
              "4 2022-01-24  103  22  55  65  2010"
            ]
          },
          "execution_count": 292,
          "metadata": {},
          "output_type": "execute_result"
        }
      ],
      "source": [
        "shares_df"
      ]
    },
    {
      "cell_type": "code",
      "execution_count": null,
      "id": "c6e67b8c",
      "metadata": {
        "id": "c6e67b8c",
        "outputId": "7ce6bbd8-e172-4cd8-f8ba-6e9eb4f000b1"
      },
      "outputs": [
        {
          "data": {
            "text/plain": [
              "55"
            ]
          },
          "execution_count": 293,
          "metadata": {},
          "output_type": "execute_result"
        }
      ],
      "source": [
        "shares_df['D'].loc[1]"
      ]
    },
    {
      "cell_type": "code",
      "execution_count": null,
      "id": "c838131c",
      "metadata": {
        "id": "c838131c",
        "outputId": "c3714aed-df63-4618-f6ec-f9dcadcb7105"
      },
      "outputs": [
        {
          "ename": "KeyError",
          "evalue": "(1, 'D')",
          "output_type": "error",
          "traceback": [
            "\u001b[1;31m---------------------------------------------------------------------------\u001b[0m",
            "\u001b[1;31mKeyError\u001b[0m                                  Traceback (most recent call last)",
            "\u001b[1;32m~\\Anaconda3\\lib\\site-packages\\pandas\\core\\indexes\\base.py\u001b[0m in \u001b[0;36mget_loc\u001b[1;34m(self, key, method, tolerance)\u001b[0m\n\u001b[0;32m   3360\u001b[0m             \u001b[1;32mtry\u001b[0m\u001b[1;33m:\u001b[0m\u001b[1;33m\u001b[0m\u001b[1;33m\u001b[0m\u001b[0m\n\u001b[1;32m-> 3361\u001b[1;33m                 \u001b[1;32mreturn\u001b[0m \u001b[0mself\u001b[0m\u001b[1;33m.\u001b[0m\u001b[0m_engine\u001b[0m\u001b[1;33m.\u001b[0m\u001b[0mget_loc\u001b[0m\u001b[1;33m(\u001b[0m\u001b[0mcasted_key\u001b[0m\u001b[1;33m)\u001b[0m\u001b[1;33m\u001b[0m\u001b[1;33m\u001b[0m\u001b[0m\n\u001b[0m\u001b[0;32m   3362\u001b[0m             \u001b[1;32mexcept\u001b[0m \u001b[0mKeyError\u001b[0m \u001b[1;32mas\u001b[0m \u001b[0merr\u001b[0m\u001b[1;33m:\u001b[0m\u001b[1;33m\u001b[0m\u001b[1;33m\u001b[0m\u001b[0m\n",
            "\u001b[1;32m~\\Anaconda3\\lib\\site-packages\\pandas\\_libs\\index.pyx\u001b[0m in \u001b[0;36mpandas._libs.index.IndexEngine.get_loc\u001b[1;34m()\u001b[0m\n",
            "\u001b[1;32m~\\Anaconda3\\lib\\site-packages\\pandas\\_libs\\index.pyx\u001b[0m in \u001b[0;36mpandas._libs.index.IndexEngine.get_loc\u001b[1;34m()\u001b[0m\n",
            "\u001b[1;32mpandas\\_libs\\hashtable_class_helper.pxi\u001b[0m in \u001b[0;36mpandas._libs.hashtable.PyObjectHashTable.get_item\u001b[1;34m()\u001b[0m\n",
            "\u001b[1;32mpandas\\_libs\\hashtable_class_helper.pxi\u001b[0m in \u001b[0;36mpandas._libs.hashtable.PyObjectHashTable.get_item\u001b[1;34m()\u001b[0m\n",
            "\u001b[1;31mKeyError\u001b[0m: (1, 'D')",
            "\nThe above exception was the direct cause of the following exception:\n",
            "\u001b[1;31mKeyError\u001b[0m                                  Traceback (most recent call last)",
            "\u001b[1;32m~\\AppData\\Local\\Temp/ipykernel_7116/1523679363.py\u001b[0m in \u001b[0;36m<module>\u001b[1;34m\u001b[0m\n\u001b[1;32m----> 1\u001b[1;33m \u001b[0mshares_df\u001b[0m\u001b[1;33m[\u001b[0m\u001b[1;36m1\u001b[0m\u001b[1;33m,\u001b[0m \u001b[1;34m'D'\u001b[0m\u001b[1;33m]\u001b[0m\u001b[1;33m\u001b[0m\u001b[1;33m\u001b[0m\u001b[0m\n\u001b[0m",
            "\u001b[1;32m~\\Anaconda3\\lib\\site-packages\\pandas\\core\\frame.py\u001b[0m in \u001b[0;36m__getitem__\u001b[1;34m(self, key)\u001b[0m\n\u001b[0;32m   3456\u001b[0m             \u001b[1;32mif\u001b[0m \u001b[0mself\u001b[0m\u001b[1;33m.\u001b[0m\u001b[0mcolumns\u001b[0m\u001b[1;33m.\u001b[0m\u001b[0mnlevels\u001b[0m \u001b[1;33m>\u001b[0m \u001b[1;36m1\u001b[0m\u001b[1;33m:\u001b[0m\u001b[1;33m\u001b[0m\u001b[1;33m\u001b[0m\u001b[0m\n\u001b[0;32m   3457\u001b[0m                 \u001b[1;32mreturn\u001b[0m \u001b[0mself\u001b[0m\u001b[1;33m.\u001b[0m\u001b[0m_getitem_multilevel\u001b[0m\u001b[1;33m(\u001b[0m\u001b[0mkey\u001b[0m\u001b[1;33m)\u001b[0m\u001b[1;33m\u001b[0m\u001b[1;33m\u001b[0m\u001b[0m\n\u001b[1;32m-> 3458\u001b[1;33m             \u001b[0mindexer\u001b[0m \u001b[1;33m=\u001b[0m \u001b[0mself\u001b[0m\u001b[1;33m.\u001b[0m\u001b[0mcolumns\u001b[0m\u001b[1;33m.\u001b[0m\u001b[0mget_loc\u001b[0m\u001b[1;33m(\u001b[0m\u001b[0mkey\u001b[0m\u001b[1;33m)\u001b[0m\u001b[1;33m\u001b[0m\u001b[1;33m\u001b[0m\u001b[0m\n\u001b[0m\u001b[0;32m   3459\u001b[0m             \u001b[1;32mif\u001b[0m \u001b[0mis_integer\u001b[0m\u001b[1;33m(\u001b[0m\u001b[0mindexer\u001b[0m\u001b[1;33m)\u001b[0m\u001b[1;33m:\u001b[0m\u001b[1;33m\u001b[0m\u001b[1;33m\u001b[0m\u001b[0m\n\u001b[0;32m   3460\u001b[0m                 \u001b[0mindexer\u001b[0m \u001b[1;33m=\u001b[0m \u001b[1;33m[\u001b[0m\u001b[0mindexer\u001b[0m\u001b[1;33m]\u001b[0m\u001b[1;33m\u001b[0m\u001b[1;33m\u001b[0m\u001b[0m\n",
            "\u001b[1;32m~\\Anaconda3\\lib\\site-packages\\pandas\\core\\indexes\\base.py\u001b[0m in \u001b[0;36mget_loc\u001b[1;34m(self, key, method, tolerance)\u001b[0m\n\u001b[0;32m   3361\u001b[0m                 \u001b[1;32mreturn\u001b[0m \u001b[0mself\u001b[0m\u001b[1;33m.\u001b[0m\u001b[0m_engine\u001b[0m\u001b[1;33m.\u001b[0m\u001b[0mget_loc\u001b[0m\u001b[1;33m(\u001b[0m\u001b[0mcasted_key\u001b[0m\u001b[1;33m)\u001b[0m\u001b[1;33m\u001b[0m\u001b[1;33m\u001b[0m\u001b[0m\n\u001b[0;32m   3362\u001b[0m             \u001b[1;32mexcept\u001b[0m \u001b[0mKeyError\u001b[0m \u001b[1;32mas\u001b[0m \u001b[0merr\u001b[0m\u001b[1;33m:\u001b[0m\u001b[1;33m\u001b[0m\u001b[1;33m\u001b[0m\u001b[0m\n\u001b[1;32m-> 3363\u001b[1;33m                 \u001b[1;32mraise\u001b[0m \u001b[0mKeyError\u001b[0m\u001b[1;33m(\u001b[0m\u001b[0mkey\u001b[0m\u001b[1;33m)\u001b[0m \u001b[1;32mfrom\u001b[0m \u001b[0merr\u001b[0m\u001b[1;33m\u001b[0m\u001b[1;33m\u001b[0m\u001b[0m\n\u001b[0m\u001b[0;32m   3364\u001b[0m \u001b[1;33m\u001b[0m\u001b[0m\n\u001b[0;32m   3365\u001b[0m         \u001b[1;32mif\u001b[0m \u001b[0mis_scalar\u001b[0m\u001b[1;33m(\u001b[0m\u001b[0mkey\u001b[0m\u001b[1;33m)\u001b[0m \u001b[1;32mand\u001b[0m \u001b[0misna\u001b[0m\u001b[1;33m(\u001b[0m\u001b[0mkey\u001b[0m\u001b[1;33m)\u001b[0m \u001b[1;32mand\u001b[0m \u001b[1;32mnot\u001b[0m \u001b[0mself\u001b[0m\u001b[1;33m.\u001b[0m\u001b[0mhasnans\u001b[0m\u001b[1;33m:\u001b[0m\u001b[1;33m\u001b[0m\u001b[1;33m\u001b[0m\u001b[0m\n",
            "\u001b[1;31mKeyError\u001b[0m: (1, 'D')"
          ]
        }
      ],
      "source": [
        "shares_df[1, 'D']"
      ]
    },
    {
      "cell_type": "code",
      "execution_count": null,
      "id": "ff4a6c29",
      "metadata": {
        "id": "ff4a6c29",
        "outputId": "25629e1e-2776-447e-f95e-25dd684f8c74"
      },
      "outputs": [
        {
          "ename": "KeyError",
          "evalue": "('D', 1)",
          "output_type": "error",
          "traceback": [
            "\u001b[1;31m---------------------------------------------------------------------------\u001b[0m",
            "\u001b[1;31mKeyError\u001b[0m                                  Traceback (most recent call last)",
            "\u001b[1;32m~\\Anaconda3\\lib\\site-packages\\pandas\\core\\indexes\\base.py\u001b[0m in \u001b[0;36mget_loc\u001b[1;34m(self, key, method, tolerance)\u001b[0m\n\u001b[0;32m   3360\u001b[0m             \u001b[1;32mtry\u001b[0m\u001b[1;33m:\u001b[0m\u001b[1;33m\u001b[0m\u001b[1;33m\u001b[0m\u001b[0m\n\u001b[1;32m-> 3361\u001b[1;33m                 \u001b[1;32mreturn\u001b[0m \u001b[0mself\u001b[0m\u001b[1;33m.\u001b[0m\u001b[0m_engine\u001b[0m\u001b[1;33m.\u001b[0m\u001b[0mget_loc\u001b[0m\u001b[1;33m(\u001b[0m\u001b[0mcasted_key\u001b[0m\u001b[1;33m)\u001b[0m\u001b[1;33m\u001b[0m\u001b[1;33m\u001b[0m\u001b[0m\n\u001b[0m\u001b[0;32m   3362\u001b[0m             \u001b[1;32mexcept\u001b[0m \u001b[0mKeyError\u001b[0m \u001b[1;32mas\u001b[0m \u001b[0merr\u001b[0m\u001b[1;33m:\u001b[0m\u001b[1;33m\u001b[0m\u001b[1;33m\u001b[0m\u001b[0m\n",
            "\u001b[1;32m~\\Anaconda3\\lib\\site-packages\\pandas\\_libs\\index.pyx\u001b[0m in \u001b[0;36mpandas._libs.index.IndexEngine.get_loc\u001b[1;34m()\u001b[0m\n",
            "\u001b[1;32m~\\Anaconda3\\lib\\site-packages\\pandas\\_libs\\index.pyx\u001b[0m in \u001b[0;36mpandas._libs.index.IndexEngine.get_loc\u001b[1;34m()\u001b[0m\n",
            "\u001b[1;32mpandas\\_libs\\hashtable_class_helper.pxi\u001b[0m in \u001b[0;36mpandas._libs.hashtable.PyObjectHashTable.get_item\u001b[1;34m()\u001b[0m\n",
            "\u001b[1;32mpandas\\_libs\\hashtable_class_helper.pxi\u001b[0m in \u001b[0;36mpandas._libs.hashtable.PyObjectHashTable.get_item\u001b[1;34m()\u001b[0m\n",
            "\u001b[1;31mKeyError\u001b[0m: ('D', 1)",
            "\nThe above exception was the direct cause of the following exception:\n",
            "\u001b[1;31mKeyError\u001b[0m                                  Traceback (most recent call last)",
            "\u001b[1;32m~\\AppData\\Local\\Temp/ipykernel_7116/1531995900.py\u001b[0m in \u001b[0;36m<module>\u001b[1;34m\u001b[0m\n\u001b[1;32m----> 1\u001b[1;33m \u001b[0mshares_df\u001b[0m\u001b[1;33m[\u001b[0m\u001b[1;34m'D'\u001b[0m\u001b[1;33m,\u001b[0m \u001b[1;36m1\u001b[0m\u001b[1;33m]\u001b[0m\u001b[1;33m\u001b[0m\u001b[1;33m\u001b[0m\u001b[0m\n\u001b[0m",
            "\u001b[1;32m~\\Anaconda3\\lib\\site-packages\\pandas\\core\\frame.py\u001b[0m in \u001b[0;36m__getitem__\u001b[1;34m(self, key)\u001b[0m\n\u001b[0;32m   3456\u001b[0m             \u001b[1;32mif\u001b[0m \u001b[0mself\u001b[0m\u001b[1;33m.\u001b[0m\u001b[0mcolumns\u001b[0m\u001b[1;33m.\u001b[0m\u001b[0mnlevels\u001b[0m \u001b[1;33m>\u001b[0m \u001b[1;36m1\u001b[0m\u001b[1;33m:\u001b[0m\u001b[1;33m\u001b[0m\u001b[1;33m\u001b[0m\u001b[0m\n\u001b[0;32m   3457\u001b[0m                 \u001b[1;32mreturn\u001b[0m \u001b[0mself\u001b[0m\u001b[1;33m.\u001b[0m\u001b[0m_getitem_multilevel\u001b[0m\u001b[1;33m(\u001b[0m\u001b[0mkey\u001b[0m\u001b[1;33m)\u001b[0m\u001b[1;33m\u001b[0m\u001b[1;33m\u001b[0m\u001b[0m\n\u001b[1;32m-> 3458\u001b[1;33m             \u001b[0mindexer\u001b[0m \u001b[1;33m=\u001b[0m \u001b[0mself\u001b[0m\u001b[1;33m.\u001b[0m\u001b[0mcolumns\u001b[0m\u001b[1;33m.\u001b[0m\u001b[0mget_loc\u001b[0m\u001b[1;33m(\u001b[0m\u001b[0mkey\u001b[0m\u001b[1;33m)\u001b[0m\u001b[1;33m\u001b[0m\u001b[1;33m\u001b[0m\u001b[0m\n\u001b[0m\u001b[0;32m   3459\u001b[0m             \u001b[1;32mif\u001b[0m \u001b[0mis_integer\u001b[0m\u001b[1;33m(\u001b[0m\u001b[0mindexer\u001b[0m\u001b[1;33m)\u001b[0m\u001b[1;33m:\u001b[0m\u001b[1;33m\u001b[0m\u001b[1;33m\u001b[0m\u001b[0m\n\u001b[0;32m   3460\u001b[0m                 \u001b[0mindexer\u001b[0m \u001b[1;33m=\u001b[0m \u001b[1;33m[\u001b[0m\u001b[0mindexer\u001b[0m\u001b[1;33m]\u001b[0m\u001b[1;33m\u001b[0m\u001b[1;33m\u001b[0m\u001b[0m\n",
            "\u001b[1;32m~\\Anaconda3\\lib\\site-packages\\pandas\\core\\indexes\\base.py\u001b[0m in \u001b[0;36mget_loc\u001b[1;34m(self, key, method, tolerance)\u001b[0m\n\u001b[0;32m   3361\u001b[0m                 \u001b[1;32mreturn\u001b[0m \u001b[0mself\u001b[0m\u001b[1;33m.\u001b[0m\u001b[0m_engine\u001b[0m\u001b[1;33m.\u001b[0m\u001b[0mget_loc\u001b[0m\u001b[1;33m(\u001b[0m\u001b[0mcasted_key\u001b[0m\u001b[1;33m)\u001b[0m\u001b[1;33m\u001b[0m\u001b[1;33m\u001b[0m\u001b[0m\n\u001b[0;32m   3362\u001b[0m             \u001b[1;32mexcept\u001b[0m \u001b[0mKeyError\u001b[0m \u001b[1;32mas\u001b[0m \u001b[0merr\u001b[0m\u001b[1;33m:\u001b[0m\u001b[1;33m\u001b[0m\u001b[1;33m\u001b[0m\u001b[0m\n\u001b[1;32m-> 3363\u001b[1;33m                 \u001b[1;32mraise\u001b[0m \u001b[0mKeyError\u001b[0m\u001b[1;33m(\u001b[0m\u001b[0mkey\u001b[0m\u001b[1;33m)\u001b[0m \u001b[1;32mfrom\u001b[0m \u001b[0merr\u001b[0m\u001b[1;33m\u001b[0m\u001b[1;33m\u001b[0m\u001b[0m\n\u001b[0m\u001b[0;32m   3364\u001b[0m \u001b[1;33m\u001b[0m\u001b[0m\n\u001b[0;32m   3365\u001b[0m         \u001b[1;32mif\u001b[0m \u001b[0mis_scalar\u001b[0m\u001b[1;33m(\u001b[0m\u001b[0mkey\u001b[0m\u001b[1;33m)\u001b[0m \u001b[1;32mand\u001b[0m \u001b[0misna\u001b[0m\u001b[1;33m(\u001b[0m\u001b[0mkey\u001b[0m\u001b[1;33m)\u001b[0m \u001b[1;32mand\u001b[0m \u001b[1;32mnot\u001b[0m \u001b[0mself\u001b[0m\u001b[1;33m.\u001b[0m\u001b[0mhasnans\u001b[0m\u001b[1;33m:\u001b[0m\u001b[1;33m\u001b[0m\u001b[1;33m\u001b[0m\u001b[0m\n",
            "\u001b[1;31mKeyError\u001b[0m: ('D', 1)"
          ]
        }
      ],
      "source": [
        "shares_df['D', 1]"
      ]
    },
    {
      "cell_type": "code",
      "execution_count": null,
      "id": "3729091a",
      "metadata": {
        "id": "3729091a"
      },
      "outputs": [],
      "source": []
    },
    {
      "cell_type": "code",
      "execution_count": null,
      "id": "a946906a",
      "metadata": {
        "id": "a946906a"
      },
      "outputs": [],
      "source": [
        "data = {'company': ['A', 'B', 'C', 'C', 'B', 'B', 'A', 'D', 'D'],\n",
        "       'year': [2019, 2018, 2018, 2019, 2019, 2020, 2018, 2018, 2019],\n",
        "       'sales': [100, 89, 70, 85, 67, 110, 76, 56, 71],\n",
        "       'profits': [11, 9, 4, 17, 20, -10, 7, 7, 18]}"
      ]
    },
    {
      "cell_type": "code",
      "execution_count": null,
      "id": "329e41d4",
      "metadata": {
        "id": "329e41d4",
        "outputId": "254b80ae-6a1e-4020-8ee4-a8093ffec443"
      },
      "outputs": [
        {
          "data": {
            "text/plain": [
              "{'company': ['A', 'B', 'C', 'C', 'B', 'B', 'A', 'D', 'D'],\n",
              " 'year': [2019, 2018, 2018, 2019, 2019, 2020, 2018, 2018, 2019],\n",
              " 'sales': [100, 89, 70, 85, 67, 110, 76, 56, 71],\n",
              " 'profits': [11, 9, 4, 17, 20, -10, 7, 7, 18]}"
            ]
          },
          "execution_count": 298,
          "metadata": {},
          "output_type": "execute_result"
        }
      ],
      "source": [
        "data"
      ]
    },
    {
      "cell_type": "code",
      "execution_count": null,
      "id": "08cf9d85",
      "metadata": {
        "id": "08cf9d85"
      },
      "outputs": [],
      "source": [
        "df = pd.DataFrame(data)"
      ]
    },
    {
      "cell_type": "code",
      "execution_count": null,
      "id": "abb41e43",
      "metadata": {
        "id": "abb41e43",
        "outputId": "3591c7bc-a6c7-4eb5-b2fd-6006775f85aa"
      },
      "outputs": [
        {
          "data": {
            "text/html": [
              "<div>\n",
              "<style scoped>\n",
              "    .dataframe tbody tr th:only-of-type {\n",
              "        vertical-align: middle;\n",
              "    }\n",
              "\n",
              "    .dataframe tbody tr th {\n",
              "        vertical-align: top;\n",
              "    }\n",
              "\n",
              "    .dataframe thead th {\n",
              "        text-align: right;\n",
              "    }\n",
              "</style>\n",
              "<table border=\"1\" class=\"dataframe\">\n",
              "  <thead>\n",
              "    <tr style=\"text-align: right;\">\n",
              "      <th></th>\n",
              "      <th>company</th>\n",
              "      <th>year</th>\n",
              "      <th>sales</th>\n",
              "      <th>profits</th>\n",
              "    </tr>\n",
              "  </thead>\n",
              "  <tbody>\n",
              "    <tr>\n",
              "      <th>0</th>\n",
              "      <td>A</td>\n",
              "      <td>2019</td>\n",
              "      <td>100</td>\n",
              "      <td>11</td>\n",
              "    </tr>\n",
              "    <tr>\n",
              "      <th>1</th>\n",
              "      <td>B</td>\n",
              "      <td>2018</td>\n",
              "      <td>89</td>\n",
              "      <td>9</td>\n",
              "    </tr>\n",
              "    <tr>\n",
              "      <th>2</th>\n",
              "      <td>C</td>\n",
              "      <td>2018</td>\n",
              "      <td>70</td>\n",
              "      <td>4</td>\n",
              "    </tr>\n",
              "    <tr>\n",
              "      <th>3</th>\n",
              "      <td>C</td>\n",
              "      <td>2019</td>\n",
              "      <td>85</td>\n",
              "      <td>17</td>\n",
              "    </tr>\n",
              "    <tr>\n",
              "      <th>4</th>\n",
              "      <td>B</td>\n",
              "      <td>2019</td>\n",
              "      <td>67</td>\n",
              "      <td>20</td>\n",
              "    </tr>\n",
              "    <tr>\n",
              "      <th>5</th>\n",
              "      <td>B</td>\n",
              "      <td>2020</td>\n",
              "      <td>110</td>\n",
              "      <td>-10</td>\n",
              "    </tr>\n",
              "    <tr>\n",
              "      <th>6</th>\n",
              "      <td>A</td>\n",
              "      <td>2018</td>\n",
              "      <td>76</td>\n",
              "      <td>7</td>\n",
              "    </tr>\n",
              "    <tr>\n",
              "      <th>7</th>\n",
              "      <td>D</td>\n",
              "      <td>2018</td>\n",
              "      <td>56</td>\n",
              "      <td>7</td>\n",
              "    </tr>\n",
              "    <tr>\n",
              "      <th>8</th>\n",
              "      <td>D</td>\n",
              "      <td>2019</td>\n",
              "      <td>71</td>\n",
              "      <td>18</td>\n",
              "    </tr>\n",
              "  </tbody>\n",
              "</table>\n",
              "</div>"
            ],
            "text/plain": [
              "  company  year  sales  profits\n",
              "0       A  2019    100       11\n",
              "1       B  2018     89        9\n",
              "2       C  2018     70        4\n",
              "3       C  2019     85       17\n",
              "4       B  2019     67       20\n",
              "5       B  2020    110      -10\n",
              "6       A  2018     76        7\n",
              "7       D  2018     56        7\n",
              "8       D  2019     71       18"
            ]
          },
          "execution_count": 300,
          "metadata": {},
          "output_type": "execute_result"
        }
      ],
      "source": [
        "df"
      ]
    },
    {
      "cell_type": "code",
      "execution_count": null,
      "id": "ca157127",
      "metadata": {
        "id": "ca157127",
        "outputId": "24423efb-c80d-410e-b047-add8f5e90a85"
      },
      "outputs": [
        {
          "data": {
            "text/plain": [
              "Index(['company', 'year', 'sales', 'profits'], dtype='object')"
            ]
          },
          "execution_count": 301,
          "metadata": {},
          "output_type": "execute_result"
        }
      ],
      "source": [
        "df.columns"
      ]
    },
    {
      "cell_type": "code",
      "execution_count": null,
      "id": "efd92ab1",
      "metadata": {
        "id": "efd92ab1",
        "outputId": "0249ddf5-aa49-4c2c-f424-fcd8695e2e51"
      },
      "outputs": [
        {
          "data": {
            "text/plain": [
              "RangeIndex(start=0, stop=9, step=1)"
            ]
          },
          "execution_count": 302,
          "metadata": {},
          "output_type": "execute_result"
        }
      ],
      "source": [
        "df.index"
      ]
    },
    {
      "cell_type": "code",
      "execution_count": null,
      "id": "9205e0a6",
      "metadata": {
        "id": "9205e0a6",
        "outputId": "48e4406c-417d-4122-b148-5f400b42c94b"
      },
      "outputs": [
        {
          "data": {
            "text/plain": [
              "array([['A', 2019, 100, 11],\n",
              "       ['B', 2018, 89, 9],\n",
              "       ['C', 2018, 70, 4],\n",
              "       ['C', 2019, 85, 17],\n",
              "       ['B', 2019, 67, 20],\n",
              "       ['B', 2020, 110, -10],\n",
              "       ['A', 2018, 76, 7],\n",
              "       ['D', 2018, 56, 7],\n",
              "       ['D', 2019, 71, 18]], dtype=object)"
            ]
          },
          "execution_count": 303,
          "metadata": {},
          "output_type": "execute_result"
        }
      ],
      "source": [
        "df.values"
      ]
    },
    {
      "cell_type": "code",
      "execution_count": null,
      "id": "d55fafb9",
      "metadata": {
        "id": "d55fafb9",
        "outputId": "9718fbce-44d9-4bed-c80a-aea181de7f77"
      },
      "outputs": [
        {
          "data": {
            "text/html": [
              "<div>\n",
              "<style scoped>\n",
              "    .dataframe tbody tr th:only-of-type {\n",
              "        vertical-align: middle;\n",
              "    }\n",
              "\n",
              "    .dataframe tbody tr th {\n",
              "        vertical-align: top;\n",
              "    }\n",
              "\n",
              "    .dataframe thead th {\n",
              "        text-align: right;\n",
              "    }\n",
              "</style>\n",
              "<table border=\"1\" class=\"dataframe\">\n",
              "  <thead>\n",
              "    <tr style=\"text-align: right;\">\n",
              "      <th></th>\n",
              "      <th>company</th>\n",
              "      <th>year</th>\n",
              "      <th>sales</th>\n",
              "      <th>profits</th>\n",
              "    </tr>\n",
              "  </thead>\n",
              "  <tbody>\n",
              "    <tr>\n",
              "      <th>0</th>\n",
              "      <td>A</td>\n",
              "      <td>2019</td>\n",
              "      <td>100</td>\n",
              "      <td>11</td>\n",
              "    </tr>\n",
              "    <tr>\n",
              "      <th>1</th>\n",
              "      <td>B</td>\n",
              "      <td>2018</td>\n",
              "      <td>89</td>\n",
              "      <td>9</td>\n",
              "    </tr>\n",
              "    <tr>\n",
              "      <th>2</th>\n",
              "      <td>C</td>\n",
              "      <td>2018</td>\n",
              "      <td>70</td>\n",
              "      <td>4</td>\n",
              "    </tr>\n",
              "    <tr>\n",
              "      <th>3</th>\n",
              "      <td>C</td>\n",
              "      <td>2019</td>\n",
              "      <td>85</td>\n",
              "      <td>17</td>\n",
              "    </tr>\n",
              "    <tr>\n",
              "      <th>4</th>\n",
              "      <td>B</td>\n",
              "      <td>2019</td>\n",
              "      <td>67</td>\n",
              "      <td>20</td>\n",
              "    </tr>\n",
              "    <tr>\n",
              "      <th>5</th>\n",
              "      <td>B</td>\n",
              "      <td>2020</td>\n",
              "      <td>110</td>\n",
              "      <td>-10</td>\n",
              "    </tr>\n",
              "    <tr>\n",
              "      <th>6</th>\n",
              "      <td>A</td>\n",
              "      <td>2018</td>\n",
              "      <td>76</td>\n",
              "      <td>7</td>\n",
              "    </tr>\n",
              "    <tr>\n",
              "      <th>7</th>\n",
              "      <td>D</td>\n",
              "      <td>2018</td>\n",
              "      <td>56</td>\n",
              "      <td>7</td>\n",
              "    </tr>\n",
              "    <tr>\n",
              "      <th>8</th>\n",
              "      <td>D</td>\n",
              "      <td>2019</td>\n",
              "      <td>71</td>\n",
              "      <td>18</td>\n",
              "    </tr>\n",
              "  </tbody>\n",
              "</table>\n",
              "</div>"
            ],
            "text/plain": [
              "  company  year  sales  profits\n",
              "0       A  2019    100       11\n",
              "1       B  2018     89        9\n",
              "2       C  2018     70        4\n",
              "3       C  2019     85       17\n",
              "4       B  2019     67       20\n",
              "5       B  2020    110      -10\n",
              "6       A  2018     76        7\n",
              "7       D  2018     56        7\n",
              "8       D  2019     71       18"
            ]
          },
          "execution_count": 304,
          "metadata": {},
          "output_type": "execute_result"
        }
      ],
      "source": [
        "df"
      ]
    },
    {
      "cell_type": "code",
      "execution_count": null,
      "id": "da9fa6cd",
      "metadata": {
        "id": "da9fa6cd",
        "outputId": "57138d76-332b-4834-f29e-49166cd9763c"
      },
      "outputs": [
        {
          "data": {
            "text/plain": [
              "array(['A', 'B', 'C', 'D'], dtype=object)"
            ]
          },
          "execution_count": 305,
          "metadata": {},
          "output_type": "execute_result"
        }
      ],
      "source": [
        "df['company'].unique()"
      ]
    },
    {
      "cell_type": "code",
      "execution_count": null,
      "id": "d4dade29",
      "metadata": {
        "id": "d4dade29",
        "outputId": "715bea94-37e7-41ab-bbd8-58fc07bacfd1"
      },
      "outputs": [
        {
          "data": {
            "text/plain": [
              "array([2019, 2018, 2020], dtype=int64)"
            ]
          },
          "execution_count": 306,
          "metadata": {},
          "output_type": "execute_result"
        }
      ],
      "source": [
        "df['year'].unique()"
      ]
    },
    {
      "cell_type": "code",
      "execution_count": null,
      "id": "c13b7f0d",
      "metadata": {
        "id": "c13b7f0d",
        "outputId": "154c398a-1710-4780-f37e-6fef6021681a"
      },
      "outputs": [
        {
          "data": {
            "text/html": [
              "<div>\n",
              "<style scoped>\n",
              "    .dataframe tbody tr th:only-of-type {\n",
              "        vertical-align: middle;\n",
              "    }\n",
              "\n",
              "    .dataframe tbody tr th {\n",
              "        vertical-align: top;\n",
              "    }\n",
              "\n",
              "    .dataframe thead th {\n",
              "        text-align: right;\n",
              "    }\n",
              "</style>\n",
              "<table border=\"1\" class=\"dataframe\">\n",
              "  <thead>\n",
              "    <tr style=\"text-align: right;\">\n",
              "      <th></th>\n",
              "      <th>company</th>\n",
              "      <th>year</th>\n",
              "      <th>sales</th>\n",
              "      <th>profits</th>\n",
              "    </tr>\n",
              "  </thead>\n",
              "  <tbody>\n",
              "    <tr>\n",
              "      <th>0</th>\n",
              "      <td>A</td>\n",
              "      <td>2019</td>\n",
              "      <td>100</td>\n",
              "      <td>11</td>\n",
              "    </tr>\n",
              "    <tr>\n",
              "      <th>1</th>\n",
              "      <td>B</td>\n",
              "      <td>2018</td>\n",
              "      <td>89</td>\n",
              "      <td>9</td>\n",
              "    </tr>\n",
              "    <tr>\n",
              "      <th>2</th>\n",
              "      <td>C</td>\n",
              "      <td>2018</td>\n",
              "      <td>70</td>\n",
              "      <td>4</td>\n",
              "    </tr>\n",
              "    <tr>\n",
              "      <th>3</th>\n",
              "      <td>C</td>\n",
              "      <td>2019</td>\n",
              "      <td>85</td>\n",
              "      <td>17</td>\n",
              "    </tr>\n",
              "    <tr>\n",
              "      <th>4</th>\n",
              "      <td>B</td>\n",
              "      <td>2019</td>\n",
              "      <td>67</td>\n",
              "      <td>20</td>\n",
              "    </tr>\n",
              "    <tr>\n",
              "      <th>5</th>\n",
              "      <td>B</td>\n",
              "      <td>2020</td>\n",
              "      <td>110</td>\n",
              "      <td>-10</td>\n",
              "    </tr>\n",
              "    <tr>\n",
              "      <th>6</th>\n",
              "      <td>A</td>\n",
              "      <td>2018</td>\n",
              "      <td>76</td>\n",
              "      <td>7</td>\n",
              "    </tr>\n",
              "    <tr>\n",
              "      <th>7</th>\n",
              "      <td>D</td>\n",
              "      <td>2018</td>\n",
              "      <td>56</td>\n",
              "      <td>7</td>\n",
              "    </tr>\n",
              "    <tr>\n",
              "      <th>8</th>\n",
              "      <td>D</td>\n",
              "      <td>2019</td>\n",
              "      <td>71</td>\n",
              "      <td>18</td>\n",
              "    </tr>\n",
              "  </tbody>\n",
              "</table>\n",
              "</div>"
            ],
            "text/plain": [
              "  company  year  sales  profits\n",
              "0       A  2019    100       11\n",
              "1       B  2018     89        9\n",
              "2       C  2018     70        4\n",
              "3       C  2019     85       17\n",
              "4       B  2019     67       20\n",
              "5       B  2020    110      -10\n",
              "6       A  2018     76        7\n",
              "7       D  2018     56        7\n",
              "8       D  2019     71       18"
            ]
          },
          "execution_count": 307,
          "metadata": {},
          "output_type": "execute_result"
        }
      ],
      "source": [
        "df"
      ]
    },
    {
      "cell_type": "code",
      "execution_count": null,
      "id": "116f07c0",
      "metadata": {
        "id": "116f07c0",
        "outputId": "b678a661-a350-4cad-adc3-13f2870bc3d1"
      },
      "outputs": [
        {
          "data": {
            "text/html": [
              "<div>\n",
              "<style scoped>\n",
              "    .dataframe tbody tr th:only-of-type {\n",
              "        vertical-align: middle;\n",
              "    }\n",
              "\n",
              "    .dataframe tbody tr th {\n",
              "        vertical-align: top;\n",
              "    }\n",
              "\n",
              "    .dataframe thead th {\n",
              "        text-align: right;\n",
              "    }\n",
              "</style>\n",
              "<table border=\"1\" class=\"dataframe\">\n",
              "  <thead>\n",
              "    <tr style=\"text-align: right;\">\n",
              "      <th></th>\n",
              "      <th>company</th>\n",
              "      <th>year</th>\n",
              "      <th>sales</th>\n",
              "      <th>profits</th>\n",
              "    </tr>\n",
              "  </thead>\n",
              "  <tbody>\n",
              "    <tr>\n",
              "      <th>1</th>\n",
              "      <td>B</td>\n",
              "      <td>2018</td>\n",
              "      <td>89</td>\n",
              "      <td>9</td>\n",
              "    </tr>\n",
              "    <tr>\n",
              "      <th>4</th>\n",
              "      <td>B</td>\n",
              "      <td>2019</td>\n",
              "      <td>67</td>\n",
              "      <td>20</td>\n",
              "    </tr>\n",
              "    <tr>\n",
              "      <th>5</th>\n",
              "      <td>B</td>\n",
              "      <td>2020</td>\n",
              "      <td>110</td>\n",
              "      <td>-10</td>\n",
              "    </tr>\n",
              "  </tbody>\n",
              "</table>\n",
              "</div>"
            ],
            "text/plain": [
              "  company  year  sales  profits\n",
              "1       B  2018     89        9\n",
              "4       B  2019     67       20\n",
              "5       B  2020    110      -10"
            ]
          },
          "execution_count": 308,
          "metadata": {},
          "output_type": "execute_result"
        }
      ],
      "source": [
        "# fetch all the rows/data for company 'B'\n",
        "\n",
        "df[df['company'] == 'B']"
      ]
    },
    {
      "cell_type": "code",
      "execution_count": null,
      "id": "a719a1de",
      "metadata": {
        "id": "a719a1de",
        "outputId": "43332d16-1c78-4c7d-f850-acfb28d4cae4"
      },
      "outputs": [
        {
          "data": {
            "text/plain": [
              "0    A\n",
              "1    B\n",
              "2    C\n",
              "3    C\n",
              "4    B\n",
              "5    B\n",
              "6    A\n",
              "7    D\n",
              "8    D\n",
              "Name: company, dtype: object"
            ]
          },
          "execution_count": 309,
          "metadata": {},
          "output_type": "execute_result"
        }
      ],
      "source": [
        "df['company']"
      ]
    },
    {
      "cell_type": "code",
      "execution_count": null,
      "id": "1fc16298",
      "metadata": {
        "id": "1fc16298",
        "outputId": "36f7ca25-0e4a-4cb2-de5b-a77ad05ab96d"
      },
      "outputs": [
        {
          "data": {
            "text/plain": [
              "0    False\n",
              "1     True\n",
              "2    False\n",
              "3    False\n",
              "4     True\n",
              "5     True\n",
              "6    False\n",
              "7    False\n",
              "8    False\n",
              "Name: company, dtype: bool"
            ]
          },
          "execution_count": 310,
          "metadata": {},
          "output_type": "execute_result"
        }
      ],
      "source": [
        "df['company'] == 'B'"
      ]
    },
    {
      "cell_type": "code",
      "execution_count": null,
      "id": "cd09994d",
      "metadata": {
        "id": "cd09994d",
        "outputId": "5197da55-2126-47b8-b40f-d9055e77e443"
      },
      "outputs": [
        {
          "data": {
            "text/html": [
              "<div>\n",
              "<style scoped>\n",
              "    .dataframe tbody tr th:only-of-type {\n",
              "        vertical-align: middle;\n",
              "    }\n",
              "\n",
              "    .dataframe tbody tr th {\n",
              "        vertical-align: top;\n",
              "    }\n",
              "\n",
              "    .dataframe thead th {\n",
              "        text-align: right;\n",
              "    }\n",
              "</style>\n",
              "<table border=\"1\" class=\"dataframe\">\n",
              "  <thead>\n",
              "    <tr style=\"text-align: right;\">\n",
              "      <th></th>\n",
              "      <th>company</th>\n",
              "      <th>year</th>\n",
              "      <th>sales</th>\n",
              "      <th>profits</th>\n",
              "    </tr>\n",
              "  </thead>\n",
              "  <tbody>\n",
              "    <tr>\n",
              "      <th>0</th>\n",
              "      <td>A</td>\n",
              "      <td>2019</td>\n",
              "      <td>100</td>\n",
              "      <td>11</td>\n",
              "    </tr>\n",
              "    <tr>\n",
              "      <th>1</th>\n",
              "      <td>B</td>\n",
              "      <td>2018</td>\n",
              "      <td>89</td>\n",
              "      <td>9</td>\n",
              "    </tr>\n",
              "    <tr>\n",
              "      <th>2</th>\n",
              "      <td>C</td>\n",
              "      <td>2018</td>\n",
              "      <td>70</td>\n",
              "      <td>4</td>\n",
              "    </tr>\n",
              "    <tr>\n",
              "      <th>3</th>\n",
              "      <td>C</td>\n",
              "      <td>2019</td>\n",
              "      <td>85</td>\n",
              "      <td>17</td>\n",
              "    </tr>\n",
              "    <tr>\n",
              "      <th>4</th>\n",
              "      <td>B</td>\n",
              "      <td>2019</td>\n",
              "      <td>67</td>\n",
              "      <td>20</td>\n",
              "    </tr>\n",
              "    <tr>\n",
              "      <th>5</th>\n",
              "      <td>B</td>\n",
              "      <td>2020</td>\n",
              "      <td>110</td>\n",
              "      <td>-10</td>\n",
              "    </tr>\n",
              "    <tr>\n",
              "      <th>6</th>\n",
              "      <td>A</td>\n",
              "      <td>2018</td>\n",
              "      <td>76</td>\n",
              "      <td>7</td>\n",
              "    </tr>\n",
              "    <tr>\n",
              "      <th>7</th>\n",
              "      <td>D</td>\n",
              "      <td>2018</td>\n",
              "      <td>56</td>\n",
              "      <td>7</td>\n",
              "    </tr>\n",
              "    <tr>\n",
              "      <th>8</th>\n",
              "      <td>D</td>\n",
              "      <td>2019</td>\n",
              "      <td>71</td>\n",
              "      <td>18</td>\n",
              "    </tr>\n",
              "  </tbody>\n",
              "</table>\n",
              "</div>"
            ],
            "text/plain": [
              "  company  year  sales  profits\n",
              "0       A  2019    100       11\n",
              "1       B  2018     89        9\n",
              "2       C  2018     70        4\n",
              "3       C  2019     85       17\n",
              "4       B  2019     67       20\n",
              "5       B  2020    110      -10\n",
              "6       A  2018     76        7\n",
              "7       D  2018     56        7\n",
              "8       D  2019     71       18"
            ]
          },
          "execution_count": 311,
          "metadata": {},
          "output_type": "execute_result"
        }
      ],
      "source": [
        "df"
      ]
    },
    {
      "cell_type": "code",
      "execution_count": null,
      "id": "36f7f608",
      "metadata": {
        "id": "36f7f608",
        "outputId": "1f20776f-f7ab-4466-eb6b-c0a7794595b0"
      },
      "outputs": [
        {
          "data": {
            "text/html": [
              "<div>\n",
              "<style scoped>\n",
              "    .dataframe tbody tr th:only-of-type {\n",
              "        vertical-align: middle;\n",
              "    }\n",
              "\n",
              "    .dataframe tbody tr th {\n",
              "        vertical-align: top;\n",
              "    }\n",
              "\n",
              "    .dataframe thead th {\n",
              "        text-align: right;\n",
              "    }\n",
              "</style>\n",
              "<table border=\"1\" class=\"dataframe\">\n",
              "  <thead>\n",
              "    <tr style=\"text-align: right;\">\n",
              "      <th></th>\n",
              "      <th>company</th>\n",
              "      <th>year</th>\n",
              "      <th>sales</th>\n",
              "      <th>profits</th>\n",
              "    </tr>\n",
              "  </thead>\n",
              "  <tbody>\n",
              "    <tr>\n",
              "      <th>6</th>\n",
              "      <td>A</td>\n",
              "      <td>2018</td>\n",
              "      <td>76</td>\n",
              "      <td>7</td>\n",
              "    </tr>\n",
              "  </tbody>\n",
              "</table>\n",
              "</div>"
            ],
            "text/plain": [
              "  company  year  sales  profits\n",
              "6       A  2018     76        7"
            ]
          },
          "execution_count": 312,
          "metadata": {},
          "output_type": "execute_result"
        }
      ],
      "source": [
        "# fetch the rows/data for the company 'A' for the year 2018\n",
        "\n",
        "df[(df['company'] == 'A') & (df['year'] == 2018)]"
      ]
    },
    {
      "cell_type": "code",
      "execution_count": null,
      "id": "233f4ee4",
      "metadata": {
        "id": "233f4ee4"
      },
      "outputs": [],
      "source": [
        "# fetch all the profits for company 'B'"
      ]
    },
    {
      "cell_type": "code",
      "execution_count": null,
      "id": "79fee258",
      "metadata": {
        "id": "79fee258",
        "outputId": "e29f598b-0ff9-491f-ae88-74f8de3833dc"
      },
      "outputs": [
        {
          "data": {
            "text/html": [
              "<div>\n",
              "<style scoped>\n",
              "    .dataframe tbody tr th:only-of-type {\n",
              "        vertical-align: middle;\n",
              "    }\n",
              "\n",
              "    .dataframe tbody tr th {\n",
              "        vertical-align: top;\n",
              "    }\n",
              "\n",
              "    .dataframe thead th {\n",
              "        text-align: right;\n",
              "    }\n",
              "</style>\n",
              "<table border=\"1\" class=\"dataframe\">\n",
              "  <thead>\n",
              "    <tr style=\"text-align: right;\">\n",
              "      <th></th>\n",
              "      <th>company</th>\n",
              "      <th>year</th>\n",
              "      <th>sales</th>\n",
              "      <th>profits</th>\n",
              "    </tr>\n",
              "  </thead>\n",
              "  <tbody>\n",
              "    <tr>\n",
              "      <th>0</th>\n",
              "      <td>A</td>\n",
              "      <td>2019</td>\n",
              "      <td>100</td>\n",
              "      <td>11</td>\n",
              "    </tr>\n",
              "    <tr>\n",
              "      <th>1</th>\n",
              "      <td>B</td>\n",
              "      <td>2018</td>\n",
              "      <td>89</td>\n",
              "      <td>9</td>\n",
              "    </tr>\n",
              "    <tr>\n",
              "      <th>2</th>\n",
              "      <td>C</td>\n",
              "      <td>2018</td>\n",
              "      <td>70</td>\n",
              "      <td>4</td>\n",
              "    </tr>\n",
              "    <tr>\n",
              "      <th>3</th>\n",
              "      <td>C</td>\n",
              "      <td>2019</td>\n",
              "      <td>85</td>\n",
              "      <td>17</td>\n",
              "    </tr>\n",
              "    <tr>\n",
              "      <th>4</th>\n",
              "      <td>B</td>\n",
              "      <td>2019</td>\n",
              "      <td>67</td>\n",
              "      <td>20</td>\n",
              "    </tr>\n",
              "    <tr>\n",
              "      <th>5</th>\n",
              "      <td>B</td>\n",
              "      <td>2020</td>\n",
              "      <td>110</td>\n",
              "      <td>-10</td>\n",
              "    </tr>\n",
              "    <tr>\n",
              "      <th>6</th>\n",
              "      <td>A</td>\n",
              "      <td>2018</td>\n",
              "      <td>76</td>\n",
              "      <td>7</td>\n",
              "    </tr>\n",
              "    <tr>\n",
              "      <th>7</th>\n",
              "      <td>D</td>\n",
              "      <td>2018</td>\n",
              "      <td>56</td>\n",
              "      <td>7</td>\n",
              "    </tr>\n",
              "    <tr>\n",
              "      <th>8</th>\n",
              "      <td>D</td>\n",
              "      <td>2019</td>\n",
              "      <td>71</td>\n",
              "      <td>18</td>\n",
              "    </tr>\n",
              "  </tbody>\n",
              "</table>\n",
              "</div>"
            ],
            "text/plain": [
              "  company  year  sales  profits\n",
              "0       A  2019    100       11\n",
              "1       B  2018     89        9\n",
              "2       C  2018     70        4\n",
              "3       C  2019     85       17\n",
              "4       B  2019     67       20\n",
              "5       B  2020    110      -10\n",
              "6       A  2018     76        7\n",
              "7       D  2018     56        7\n",
              "8       D  2019     71       18"
            ]
          },
          "execution_count": 314,
          "metadata": {},
          "output_type": "execute_result"
        }
      ],
      "source": [
        "df"
      ]
    },
    {
      "cell_type": "code",
      "execution_count": null,
      "id": "82297e42",
      "metadata": {
        "id": "82297e42",
        "outputId": "15732797-8e9c-425f-c524-696c2f2453fc"
      },
      "outputs": [
        {
          "data": {
            "text/html": [
              "<div>\n",
              "<style scoped>\n",
              "    .dataframe tbody tr th:only-of-type {\n",
              "        vertical-align: middle;\n",
              "    }\n",
              "\n",
              "    .dataframe tbody tr th {\n",
              "        vertical-align: top;\n",
              "    }\n",
              "\n",
              "    .dataframe thead th {\n",
              "        text-align: right;\n",
              "    }\n",
              "</style>\n",
              "<table border=\"1\" class=\"dataframe\">\n",
              "  <thead>\n",
              "    <tr style=\"text-align: right;\">\n",
              "      <th></th>\n",
              "      <th>company</th>\n",
              "      <th>year</th>\n",
              "      <th>sales</th>\n",
              "      <th>profits</th>\n",
              "    </tr>\n",
              "  </thead>\n",
              "  <tbody>\n",
              "    <tr>\n",
              "      <th>1</th>\n",
              "      <td>B</td>\n",
              "      <td>2018</td>\n",
              "      <td>89</td>\n",
              "      <td>9</td>\n",
              "    </tr>\n",
              "    <tr>\n",
              "      <th>4</th>\n",
              "      <td>B</td>\n",
              "      <td>2019</td>\n",
              "      <td>67</td>\n",
              "      <td>20</td>\n",
              "    </tr>\n",
              "    <tr>\n",
              "      <th>5</th>\n",
              "      <td>B</td>\n",
              "      <td>2020</td>\n",
              "      <td>110</td>\n",
              "      <td>-10</td>\n",
              "    </tr>\n",
              "  </tbody>\n",
              "</table>\n",
              "</div>"
            ],
            "text/plain": [
              "  company  year  sales  profits\n",
              "1       B  2018     89        9\n",
              "4       B  2019     67       20\n",
              "5       B  2020    110      -10"
            ]
          },
          "execution_count": 315,
          "metadata": {},
          "output_type": "execute_result"
        }
      ],
      "source": [
        "df[df['company'] == 'B']"
      ]
    },
    {
      "cell_type": "code",
      "execution_count": null,
      "id": "6ad85b50",
      "metadata": {
        "id": "6ad85b50",
        "outputId": "32ac322e-1e9b-4ad4-8fb1-b77bc1da0284"
      },
      "outputs": [
        {
          "data": {
            "text/plain": [
              "1     9\n",
              "4    20\n",
              "5   -10\n",
              "Name: profits, dtype: int64"
            ]
          },
          "execution_count": 316,
          "metadata": {},
          "output_type": "execute_result"
        }
      ],
      "source": [
        "df[df['company'] == 'B']['profits']"
      ]
    },
    {
      "cell_type": "code",
      "execution_count": null,
      "id": "3b757c8c",
      "metadata": {
        "id": "3b757c8c"
      },
      "outputs": [],
      "source": [
        "# sum of the profits of company 'B'"
      ]
    },
    {
      "cell_type": "code",
      "execution_count": null,
      "id": "6378ccb1",
      "metadata": {
        "id": "6378ccb1",
        "outputId": "336ebe61-e6ad-47b9-f97e-407526b1b18c"
      },
      "outputs": [
        {
          "data": {
            "text/plain": [
              "19"
            ]
          },
          "execution_count": 318,
          "metadata": {},
          "output_type": "execute_result"
        }
      ],
      "source": [
        "df[df['company'] == 'B']['profits'].sum()"
      ]
    },
    {
      "cell_type": "code",
      "execution_count": null,
      "id": "c39f594f",
      "metadata": {
        "id": "c39f594f",
        "outputId": "fb78cd4c-f252-4d83-af91-92d01f345078"
      },
      "outputs": [
        {
          "data": {
            "text/plain": [
              "6.333333333333333"
            ]
          },
          "execution_count": 319,
          "metadata": {},
          "output_type": "execute_result"
        }
      ],
      "source": [
        "df[df['company'] == 'B']['profits'].mean()"
      ]
    },
    {
      "cell_type": "code",
      "execution_count": null,
      "id": "68eed1a5",
      "metadata": {
        "id": "68eed1a5",
        "outputId": "c48cffaa-2178-46e2-825a-f35b9049b41c"
      },
      "outputs": [
        {
          "data": {
            "text/plain": [
              "9.0"
            ]
          },
          "execution_count": 320,
          "metadata": {},
          "output_type": "execute_result"
        }
      ],
      "source": [
        "df[df['company'] == 'B']['profits'].median()"
      ]
    },
    {
      "cell_type": "code",
      "execution_count": null,
      "id": "69f2d530",
      "metadata": {
        "id": "69f2d530",
        "outputId": "f1da4f3b-f7bb-456a-f41e-9682732a140e"
      },
      "outputs": [
        {
          "data": {
            "text/plain": [
              "15.17673658377628"
            ]
          },
          "execution_count": 321,
          "metadata": {},
          "output_type": "execute_result"
        }
      ],
      "source": [
        "df[df['company'] == 'B']['profits'].std()"
      ]
    },
    {
      "cell_type": "code",
      "execution_count": null,
      "id": "01a4b50e",
      "metadata": {
        "id": "01a4b50e",
        "outputId": "9297a0bf-5402-4e84-8989-df2c2860aab6"
      },
      "outputs": [
        {
          "data": {
            "text/plain": [
              "230.33333333333331"
            ]
          },
          "execution_count": 322,
          "metadata": {},
          "output_type": "execute_result"
        }
      ],
      "source": [
        "df[df['company'] == 'B']['profits'].var()"
      ]
    },
    {
      "cell_type": "code",
      "execution_count": null,
      "id": "92a2eb53",
      "metadata": {
        "id": "92a2eb53",
        "outputId": "32487501-6624-4bf6-9db3-bd89a91df124"
      },
      "outputs": [
        {
          "data": {
            "text/html": [
              "<div>\n",
              "<style scoped>\n",
              "    .dataframe tbody tr th:only-of-type {\n",
              "        vertical-align: middle;\n",
              "    }\n",
              "\n",
              "    .dataframe tbody tr th {\n",
              "        vertical-align: top;\n",
              "    }\n",
              "\n",
              "    .dataframe thead th {\n",
              "        text-align: right;\n",
              "    }\n",
              "</style>\n",
              "<table border=\"1\" class=\"dataframe\">\n",
              "  <thead>\n",
              "    <tr style=\"text-align: right;\">\n",
              "      <th></th>\n",
              "      <th>company</th>\n",
              "      <th>year</th>\n",
              "      <th>sales</th>\n",
              "      <th>profits</th>\n",
              "    </tr>\n",
              "  </thead>\n",
              "  <tbody>\n",
              "    <tr>\n",
              "      <th>0</th>\n",
              "      <td>A</td>\n",
              "      <td>2019</td>\n",
              "      <td>100</td>\n",
              "      <td>11</td>\n",
              "    </tr>\n",
              "    <tr>\n",
              "      <th>1</th>\n",
              "      <td>B</td>\n",
              "      <td>2018</td>\n",
              "      <td>89</td>\n",
              "      <td>9</td>\n",
              "    </tr>\n",
              "    <tr>\n",
              "      <th>2</th>\n",
              "      <td>C</td>\n",
              "      <td>2018</td>\n",
              "      <td>70</td>\n",
              "      <td>4</td>\n",
              "    </tr>\n",
              "    <tr>\n",
              "      <th>3</th>\n",
              "      <td>C</td>\n",
              "      <td>2019</td>\n",
              "      <td>85</td>\n",
              "      <td>17</td>\n",
              "    </tr>\n",
              "    <tr>\n",
              "      <th>4</th>\n",
              "      <td>B</td>\n",
              "      <td>2019</td>\n",
              "      <td>67</td>\n",
              "      <td>20</td>\n",
              "    </tr>\n",
              "    <tr>\n",
              "      <th>5</th>\n",
              "      <td>B</td>\n",
              "      <td>2020</td>\n",
              "      <td>110</td>\n",
              "      <td>-10</td>\n",
              "    </tr>\n",
              "    <tr>\n",
              "      <th>6</th>\n",
              "      <td>A</td>\n",
              "      <td>2018</td>\n",
              "      <td>76</td>\n",
              "      <td>7</td>\n",
              "    </tr>\n",
              "    <tr>\n",
              "      <th>7</th>\n",
              "      <td>D</td>\n",
              "      <td>2018</td>\n",
              "      <td>56</td>\n",
              "      <td>7</td>\n",
              "    </tr>\n",
              "    <tr>\n",
              "      <th>8</th>\n",
              "      <td>D</td>\n",
              "      <td>2019</td>\n",
              "      <td>71</td>\n",
              "      <td>18</td>\n",
              "    </tr>\n",
              "  </tbody>\n",
              "</table>\n",
              "</div>"
            ],
            "text/plain": [
              "  company  year  sales  profits\n",
              "0       A  2019    100       11\n",
              "1       B  2018     89        9\n",
              "2       C  2018     70        4\n",
              "3       C  2019     85       17\n",
              "4       B  2019     67       20\n",
              "5       B  2020    110      -10\n",
              "6       A  2018     76        7\n",
              "7       D  2018     56        7\n",
              "8       D  2019     71       18"
            ]
          },
          "execution_count": 323,
          "metadata": {},
          "output_type": "execute_result"
        }
      ],
      "source": [
        "df"
      ]
    },
    {
      "cell_type": "code",
      "execution_count": null,
      "id": "0632f693",
      "metadata": {
        "id": "0632f693",
        "outputId": "f1428087-d895-4ff3-8dd0-6a3b4ed08834"
      },
      "outputs": [
        {
          "data": {
            "text/plain": [
              "0    A\n",
              "1    B\n",
              "2    C\n",
              "3    C\n",
              "4    B\n",
              "5    B\n",
              "6    A\n",
              "7    D\n",
              "8    D\n",
              "Name: company, dtype: object"
            ]
          },
          "execution_count": 325,
          "metadata": {},
          "output_type": "execute_result"
        }
      ],
      "source": [
        "df['company']"
      ]
    },
    {
      "cell_type": "code",
      "execution_count": null,
      "id": "c231238e",
      "metadata": {
        "id": "c231238e",
        "outputId": "bc6f903e-f24c-4145-f4fb-54c6865a3504"
      },
      "outputs": [
        {
          "data": {
            "text/plain": [
              "0    B\n",
              "dtype: object"
            ]
          },
          "execution_count": 326,
          "metadata": {},
          "output_type": "execute_result"
        }
      ],
      "source": [
        "df['company'].mode()"
      ]
    },
    {
      "cell_type": "code",
      "execution_count": null,
      "id": "dd41ac52",
      "metadata": {
        "id": "dd41ac52",
        "outputId": "6c6f7f58-ddd4-4837-874e-0bf518f64047"
      },
      "outputs": [
        {
          "data": {
            "text/plain": [
              "'B'"
            ]
          },
          "execution_count": 327,
          "metadata": {},
          "output_type": "execute_result"
        }
      ],
      "source": [
        "df['company'].mode().loc[0]"
      ]
    },
    {
      "cell_type": "code",
      "execution_count": null,
      "id": "418ede20",
      "metadata": {
        "id": "418ede20"
      },
      "outputs": [],
      "source": []
    }
  ],
  "metadata": {
    "kernelspec": {
      "display_name": "Python 3 (ipykernel)",
      "language": "python",
      "name": "python3"
    },
    "language_info": {
      "codemirror_mode": {
        "name": "ipython",
        "version": 3
      },
      "file_extension": ".py",
      "mimetype": "text/x-python",
      "name": "python",
      "nbconvert_exporter": "python",
      "pygments_lexer": "ipython3",
      "version": "3.9.7"
    },
    "colab": {
      "provenance": [],
      "include_colab_link": true
    }
  },
  "nbformat": 4,
  "nbformat_minor": 5
}