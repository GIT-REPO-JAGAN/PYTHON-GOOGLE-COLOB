{
  "cells": [
    {
      "cell_type": "markdown",
      "metadata": {
        "id": "view-in-github",
        "colab_type": "text"
      },
      "source": [
        "<a href=\"https://colab.research.google.com/github/GIT-REPO-JAGAN/PYTHON-GOOGLE-COLOB/blob/main/C_13Python_Functions.ipynb\" target=\"_parent\"><img src=\"https://colab.research.google.com/assets/colab-badge.svg\" alt=\"Open In Colab\"/></a>"
      ]
    },
    {
      "cell_type": "markdown",
      "source": [
        "#### Functions class -2\n",
        "\n",
        "Lambda is use to work once not a repetable one"
      ],
      "metadata": {
        "id": "cJZxodH5Wzyr"
      },
      "id": "cJZxodH5Wzyr"
    },
    {
      "cell_type": "code",
      "execution_count": null,
      "id": "f8310029",
      "metadata": {
        "id": "f8310029"
      },
      "outputs": [],
      "source": [
        "f1 = lambda x, y: x * y"
      ]
    },
    {
      "cell_type": "code",
      "execution_count": null,
      "id": "5a9e54d1",
      "metadata": {
        "id": "5a9e54d1",
        "outputId": "8e1b0095-20b3-4da4-e672-d409c7d83ad6"
      },
      "outputs": [
        {
          "data": {
            "text/plain": [
              "50"
            ]
          },
          "execution_count": 3,
          "metadata": {},
          "output_type": "execute_result"
        }
      ],
      "source": [
        "f1(10, 5)"
      ]
    },
    {
      "cell_type": "markdown",
      "source": [
        "#### MAP() function\n",
        "map(function, iterable_object)\n",
        "\n",
        "Map maks lambda to repetable by call out char by char / value by val to make repetable as like for loop\n",
        "\n",
        "Returns MAP object as a output"
      ],
      "metadata": {
        "id": "BboIU-M6XAcU"
      },
      "id": "BboIU-M6XAcU"
    },
    {
      "cell_type": "code",
      "execution_count": 3,
      "id": "a74276da",
      "metadata": {
        "id": "a74276da",
        "colab": {
          "base_uri": "https://localhost:8080/"
        },
        "outputId": "49e0ea5e-625f-4e25-b797-a22c2b60e3f2"
      },
      "outputs": [
        {
          "output_type": "execute_result",
          "data": {
            "text/plain": [
              "[1, 2, 3, 4, 5]"
            ]
          },
          "metadata": {},
          "execution_count": 3
        }
      ],
      "source": [
        "l1 = [1,2,3,4,5]\n",
        "l1"
      ]
    },
    {
      "cell_type": "code",
      "execution_count": 4,
      "id": "c85fad40",
      "metadata": {
        "id": "c85fad40"
      },
      "outputs": [],
      "source": [
        "square = lambda num: num ** 2"
      ]
    },
    {
      "cell_type": "code",
      "execution_count": 5,
      "id": "54138f03",
      "metadata": {
        "id": "54138f03",
        "outputId": "33bce14f-6f03-4993-d784-d0cbb211df78",
        "colab": {
          "base_uri": "https://localhost:8080/"
        }
      },
      "outputs": [
        {
          "output_type": "execute_result",
          "data": {
            "text/plain": [
              "16"
            ]
          },
          "metadata": {},
          "execution_count": 5
        }
      ],
      "source": [
        "square(4)"
      ]
    },
    {
      "cell_type": "code",
      "execution_count": 6,
      "id": "5b55f9ca",
      "metadata": {
        "id": "5b55f9ca",
        "outputId": "403cdf2f-379d-4399-9b29-c0072f7bcb70",
        "colab": {
          "base_uri": "https://localhost:8080/"
        }
      },
      "outputs": [
        {
          "output_type": "execute_result",
          "data": {
            "text/plain": [
              "64"
            ]
          },
          "metadata": {},
          "execution_count": 6
        }
      ],
      "source": [
        "square(8)"
      ]
    },
    {
      "cell_type": "code",
      "execution_count": 7,
      "id": "afebe86c",
      "metadata": {
        "id": "afebe86c"
      },
      "outputs": [],
      "source": [
        "m1 = map(square, l1)"
      ]
    },
    {
      "cell_type": "code",
      "execution_count": 8,
      "id": "373aa80c",
      "metadata": {
        "id": "373aa80c",
        "outputId": "6178c79b-182e-43fb-8a0c-c91d28e476cc",
        "colab": {
          "base_uri": "https://localhost:8080/"
        }
      },
      "outputs": [
        {
          "output_type": "stream",
          "name": "stdout",
          "text": [
            "<map object at 0x7f70fbb7ac20>\n"
          ]
        }
      ],
      "source": [
        "print(m1) # Outbut as MAP object"
      ]
    },
    {
      "cell_type": "code",
      "execution_count": 9,
      "id": "42615927",
      "metadata": {
        "id": "42615927",
        "outputId": "31dddc46-61a3-4560-98bc-a6ffa3cb785f",
        "colab": {
          "base_uri": "https://localhost:8080/"
        }
      },
      "outputs": [
        {
          "output_type": "execute_result",
          "data": {
            "text/plain": [
              "map"
            ]
          },
          "metadata": {},
          "execution_count": 9
        }
      ],
      "source": [
        "type(m1)"
      ]
    },
    {
      "cell_type": "code",
      "execution_count": 10,
      "id": "4fd00abc",
      "metadata": {
        "id": "4fd00abc",
        "outputId": "fbffdfa7-9714-44b4-a0d1-eb3d8b3a7a92",
        "colab": {
          "base_uri": "https://localhost:8080/"
        }
      },
      "outputs": [
        {
          "output_type": "execute_result",
          "data": {
            "text/plain": [
              "[1, 4, 9, 16, 25]"
            ]
          },
          "metadata": {},
          "execution_count": 10
        }
      ],
      "source": [
        "list(m1)"
      ]
    },
    {
      "cell_type": "code",
      "execution_count": 11,
      "id": "3ad834f9",
      "metadata": {
        "id": "3ad834f9",
        "outputId": "3b5c6776-abb7-4e20-9607-e114033340c9",
        "colab": {
          "base_uri": "https://localhost:8080/"
        }
      },
      "outputs": [
        {
          "output_type": "execute_result",
          "data": {
            "text/plain": [
              "[1, 4, 9, 16, 25]"
            ]
          },
          "metadata": {},
          "execution_count": 11
        }
      ],
      "source": [
        "list(map(square, l1)) # converting MAP output  as a List"
      ]
    },
    {
      "cell_type": "code",
      "execution_count": 12,
      "id": "8ceacbb1",
      "metadata": {
        "id": "8ceacbb1",
        "outputId": "86e84eac-5fca-4457-95c9-40fb559aefc1",
        "colab": {
          "base_uri": "https://localhost:8080/"
        }
      },
      "outputs": [
        {
          "output_type": "execute_result",
          "data": {
            "text/plain": [
              "[9, 1, 36, 4, 64, 25, 9]"
            ]
          },
          "metadata": {},
          "execution_count": 12
        }
      ],
      "source": [
        "list(map(lambda x: x**2, [3, 1, 6, 2, 8, 5, -3]))"
      ]
    },
    {
      "cell_type": "code",
      "execution_count": 13,
      "id": "2a502718",
      "metadata": {
        "id": "2a502718",
        "outputId": "321a5b83-f4db-4a90-ad55-b4bafaaf5438",
        "colab": {
          "base_uri": "https://localhost:8080/"
        }
      },
      "outputs": [
        {
          "output_type": "execute_result",
          "data": {
            "text/plain": [
              "[1.7320508075688772,\n",
              " 1.0,\n",
              " 2.449489742783178,\n",
              " 1.4142135623730951,\n",
              " 2.8284271247461903,\n",
              " 2.23606797749979,\n",
              " (1.0605752387249068e-16+1.7320508075688772j)]"
            ]
          },
          "metadata": {},
          "execution_count": 13
        }
      ],
      "source": [
        "list(map(lambda x: x**0.5, [3, 1, 6, 2, 8, 5, -3]))"
      ]
    },
    {
      "cell_type": "code",
      "execution_count": 14,
      "id": "dd1006bd",
      "metadata": {
        "id": "dd1006bd",
        "outputId": "610feed9-91d0-4ad9-c7da-147bb640e558",
        "colab": {
          "base_uri": "https://localhost:8080/",
          "height": 171
        }
      },
      "outputs": [
        {
          "output_type": "error",
          "ename": "TypeError",
          "evalue": "ignored",
          "traceback": [
            "\u001b[0;31m---------------------------------------------------------------------------\u001b[0m",
            "\u001b[0;31mTypeError\u001b[0m                                 Traceback (most recent call last)",
            "\u001b[0;32m<ipython-input-14-9d650fcb4bc7>\u001b[0m in \u001b[0;36m<cell line: 1>\u001b[0;34m()\u001b[0m\n\u001b[0;32m----> 1\u001b[0;31m \u001b[0mlist\u001b[0m\u001b[0;34m(\u001b[0m\u001b[0mmap\u001b[0m\u001b[0;34m(\u001b[0m\u001b[0;32mlambda\u001b[0m \u001b[0mx\u001b[0m\u001b[0;34m,\u001b[0m \u001b[0my\u001b[0m\u001b[0;34m:\u001b[0m \u001b[0mx\u001b[0m\u001b[0;34m+\u001b[0m\u001b[0my\u001b[0m\u001b[0;34m,\u001b[0m \u001b[0;34m[\u001b[0m\u001b[0;36m3\u001b[0m\u001b[0;34m,\u001b[0m \u001b[0;36m1\u001b[0m\u001b[0;34m,\u001b[0m \u001b[0;36m6\u001b[0m\u001b[0;34m,\u001b[0m \u001b[0;36m2\u001b[0m\u001b[0;34m,\u001b[0m \u001b[0;36m8\u001b[0m\u001b[0;34m,\u001b[0m \u001b[0;36m5\u001b[0m\u001b[0;34m,\u001b[0m \u001b[0;34m-\u001b[0m\u001b[0;36m3\u001b[0m\u001b[0;34m]\u001b[0m\u001b[0;34m)\u001b[0m\u001b[0;34m)\u001b[0m  \u001b[0;31m# No y vale available\u001b[0m\u001b[0;34m\u001b[0m\u001b[0;34m\u001b[0m\u001b[0m\n\u001b[0m",
            "\u001b[0;31mTypeError\u001b[0m: <lambda>() missing 1 required positional argument: 'y'"
          ]
        }
      ],
      "source": [
        "list(map(lambda x, y: x+y, [3, 1, 6, 2, 8, 5, -3]))  # No y vale available"
      ]
    },
    {
      "cell_type": "code",
      "execution_count": 15,
      "id": "02504dbe",
      "metadata": {
        "id": "02504dbe",
        "outputId": "60a614ed-5407-4724-b6bb-5d921f5d5271",
        "colab": {
          "base_uri": "https://localhost:8080/"
        }
      },
      "outputs": [
        {
          "output_type": "execute_result",
          "data": {
            "text/plain": [
              "['H', 'E', 'L', 'L', 'O']"
            ]
          },
          "metadata": {},
          "execution_count": 15
        }
      ],
      "source": [
        "list(map(lambda x: x.upper(), 'hello')) # It changes each character to upper case"
      ]
    },
    {
      "cell_type": "code",
      "execution_count": 16,
      "id": "504cef60",
      "metadata": {
        "id": "504cef60",
        "outputId": "f1141344-bfe2-4c1e-8488-d9b5a9c3714b",
        "colab": {
          "base_uri": "https://localhost:8080/",
          "height": 226
        }
      },
      "outputs": [
        {
          "output_type": "error",
          "ename": "TypeError",
          "evalue": "ignored",
          "traceback": [
            "\u001b[0;31m---------------------------------------------------------------------------\u001b[0m",
            "\u001b[0;31mTypeError\u001b[0m                                 Traceback (most recent call last)",
            "\u001b[0;32m<ipython-input-16-351801932cfb>\u001b[0m in \u001b[0;36m<cell line: 1>\u001b[0;34m()\u001b[0m\n\u001b[0;32m----> 1\u001b[0;31m \u001b[0mlist\u001b[0m\u001b[0;34m(\u001b[0m\u001b[0mmap\u001b[0m\u001b[0;34m(\u001b[0m\u001b[0;32mlambda\u001b[0m \u001b[0mx\u001b[0m\u001b[0;34m:\u001b[0m \u001b[0mx\u001b[0m \u001b[0;34m**\u001b[0m \u001b[0;36m2\u001b[0m\u001b[0;34m,\u001b[0m \u001b[0;34m'hello'\u001b[0m\u001b[0;34m)\u001b[0m\u001b[0;34m)\u001b[0m\u001b[0;34m\u001b[0m\u001b[0;34m\u001b[0m\u001b[0m\n\u001b[0m",
            "\u001b[0;32m<ipython-input-16-351801932cfb>\u001b[0m in \u001b[0;36m<lambda>\u001b[0;34m(x)\u001b[0m\n\u001b[0;32m----> 1\u001b[0;31m \u001b[0mlist\u001b[0m\u001b[0;34m(\u001b[0m\u001b[0mmap\u001b[0m\u001b[0;34m(\u001b[0m\u001b[0;32mlambda\u001b[0m \u001b[0mx\u001b[0m\u001b[0;34m:\u001b[0m \u001b[0mx\u001b[0m \u001b[0;34m**\u001b[0m \u001b[0;36m2\u001b[0m\u001b[0;34m,\u001b[0m \u001b[0;34m'hello'\u001b[0m\u001b[0;34m)\u001b[0m\u001b[0;34m)\u001b[0m\u001b[0;34m\u001b[0m\u001b[0;34m\u001b[0m\u001b[0m\n\u001b[0m",
            "\u001b[0;31mTypeError\u001b[0m: unsupported operand type(s) for ** or pow(): 'str' and 'int'"
          ]
        }
      ],
      "source": [
        "list(map(lambda x: x ** 2, 'hello'))"
      ]
    },
    {
      "cell_type": "code",
      "execution_count": 17,
      "id": "e6af2d73",
      "metadata": {
        "id": "e6af2d73",
        "outputId": "9c526928-0cb0-4688-b55d-68ff1ee3f691",
        "colab": {
          "base_uri": "https://localhost:8080/"
        }
      },
      "outputs": [
        {
          "output_type": "execute_result",
          "data": {
            "text/plain": [
              "<map at 0x7f70fbb7abc0>"
            ]
          },
          "metadata": {},
          "execution_count": 17
        }
      ],
      "source": [
        "map(lambda x, y: x+y, [4,3,5,-2], [8,-2,1,5])"
      ]
    },
    {
      "cell_type": "code",
      "execution_count": 18,
      "id": "d2550ad5",
      "metadata": {
        "id": "d2550ad5",
        "outputId": "7de93528-86ff-48ab-9f19-7edd57567a59",
        "colab": {
          "base_uri": "https://localhost:8080/"
        }
      },
      "outputs": [
        {
          "output_type": "execute_result",
          "data": {
            "text/plain": [
              "(12, 1, 6, 3)"
            ]
          },
          "metadata": {},
          "execution_count": 18
        }
      ],
      "source": [
        "tuple(map(lambda x, y: x+y, [4,3,5,-2], [8,-2,1,5])) # x+ y make output as tupple"
      ]
    },
    {
      "cell_type": "code",
      "execution_count": 19,
      "id": "5a1369a6",
      "metadata": {
        "id": "5a1369a6",
        "outputId": "b426a749-6309-4ee5-dffb-1bebb6780fcd",
        "colab": {
          "base_uri": "https://localhost:8080/",
          "height": 171
        }
      },
      "outputs": [
        {
          "output_type": "error",
          "ename": "TypeError",
          "evalue": "ignored",
          "traceback": [
            "\u001b[0;31m---------------------------------------------------------------------------\u001b[0m",
            "\u001b[0;31mTypeError\u001b[0m                                 Traceback (most recent call last)",
            "\u001b[0;32m<ipython-input-19-5c33461ec2a4>\u001b[0m in \u001b[0;36m<cell line: 1>\u001b[0;34m()\u001b[0m\n\u001b[0;32m----> 1\u001b[0;31m \u001b[0mtuple\u001b[0m\u001b[0;34m(\u001b[0m\u001b[0mmap\u001b[0m\u001b[0;34m(\u001b[0m\u001b[0;32mlambda\u001b[0m \u001b[0mx\u001b[0m\u001b[0;34m,\u001b[0m \u001b[0my\u001b[0m\u001b[0;34m:\u001b[0m \u001b[0mx\u001b[0m\u001b[0;34m+\u001b[0m\u001b[0my\u001b[0m\u001b[0;34m,\u001b[0m \u001b[0;34m(\u001b[0m\u001b[0;34m(\u001b[0m\u001b[0;36m1\u001b[0m\u001b[0;34m,\u001b[0m\u001b[0;36m2\u001b[0m\u001b[0;34m)\u001b[0m\u001b[0;34m,\u001b[0m\u001b[0;34m(\u001b[0m\u001b[0;36m2\u001b[0m\u001b[0;34m,\u001b[0m\u001b[0;36m3\u001b[0m\u001b[0;34m)\u001b[0m\u001b[0;34m,\u001b[0m\u001b[0;34m(\u001b[0m\u001b[0;36m3\u001b[0m\u001b[0;34m,\u001b[0m\u001b[0;36m4\u001b[0m\u001b[0;34m)\u001b[0m\u001b[0;34m)\u001b[0m\u001b[0;34m)\u001b[0m\u001b[0;34m)\u001b[0m\u001b[0;34m\u001b[0m\u001b[0;34m\u001b[0m\u001b[0m\n\u001b[0m",
            "\u001b[0;31mTypeError\u001b[0m: <lambda>() missing 1 required positional argument: 'y'"
          ]
        }
      ],
      "source": [
        "tuple(map(lambda x, y: x+y, ((1,2),(2,3),(3,4)))) # All are considered as x so y needed to be given seperatelly"
      ]
    },
    {
      "cell_type": "code",
      "execution_count": 20,
      "id": "76f34889",
      "metadata": {
        "id": "76f34889"
      },
      "outputs": [],
      "source": [
        "l1 = [4,3,5,-2]\n",
        "l2 = [8,-2,1,5]"
      ]
    },
    {
      "cell_type": "code",
      "execution_count": 21,
      "id": "911bf4af",
      "metadata": {
        "id": "911bf4af",
        "outputId": "8fa51b78-1404-4af5-a45d-71f157edf5c6",
        "colab": {
          "base_uri": "https://localhost:8080/"
        }
      },
      "outputs": [
        {
          "output_type": "stream",
          "name": "stdout",
          "text": [
            "0\n",
            "1\n",
            "2\n",
            "3\n"
          ]
        }
      ],
      "source": [
        "for i in range(len(l1)):\n",
        "    print(i)"
      ]
    },
    {
      "cell_type": "code",
      "execution_count": 22,
      "id": "a59c2161",
      "metadata": {
        "id": "a59c2161",
        "outputId": "b4c9bb7d-6c3c-4252-968b-513147e1a630",
        "colab": {
          "base_uri": "https://localhost:8080/"
        }
      },
      "outputs": [
        {
          "output_type": "stream",
          "name": "stdout",
          "text": [
            "[12, 1, 6, 3]\n"
          ]
        }
      ],
      "source": [
        "out = []\n",
        "for i in range(len(l1)):\n",
        "    out.append(l1[i] + l2[i])\n",
        "\n",
        "print(out)"
      ]
    },
    {
      "cell_type": "code",
      "execution_count": 24,
      "id": "e7fcb7cf",
      "metadata": {
        "id": "e7fcb7cf",
        "outputId": "aba0e3f4-ea1a-4978-9cca-1e797c9f71df",
        "colab": {
          "base_uri": "https://localhost:8080/"
        }
      },
      "outputs": [
        {
          "output_type": "execute_result",
          "data": {
            "text/plain": [
              "(12, 1, 6, 3)"
            ]
          },
          "metadata": {},
          "execution_count": 24
        }
      ],
      "source": [
        "tuple(map(lambda x, y: x+y, [4,3,5,-2,6], [8,-2,1,5])) # Here it discards last elemet from larger cell and fit eually to lesser cell"
      ]
    },
    {
      "cell_type": "code",
      "execution_count": 25,
      "id": "e1ee21ad",
      "metadata": {
        "id": "e1ee21ad",
        "outputId": "d59380e8-6d1b-4808-c636-be426ef1f808",
        "colab": {
          "base_uri": "https://localhost:8080/"
        }
      },
      "outputs": [
        {
          "output_type": "stream",
          "name": "stdout",
          "text": [
            "Help on class map in module builtins:\n",
            "\n",
            "class map(object)\n",
            " |  map(func, *iterables) --> map object\n",
            " |  \n",
            " |  Make an iterator that computes the function using arguments from\n",
            " |  each of the iterables.  Stops when the shortest iterable is exhausted.\n",
            " |  \n",
            " |  Methods defined here:\n",
            " |  \n",
            " |  __getattribute__(self, name, /)\n",
            " |      Return getattr(self, name).\n",
            " |  \n",
            " |  __iter__(self, /)\n",
            " |      Implement iter(self).\n",
            " |  \n",
            " |  __next__(self, /)\n",
            " |      Implement next(self).\n",
            " |  \n",
            " |  __reduce__(...)\n",
            " |      Return state information for pickling.\n",
            " |  \n",
            " |  ----------------------------------------------------------------------\n",
            " |  Static methods defined here:\n",
            " |  \n",
            " |  __new__(*args, **kwargs) from builtins.type\n",
            " |      Create and return a new object.  See help(type) for accurate signature.\n",
            "\n"
          ]
        }
      ],
      "source": [
        "help(map)"
      ]
    },
    {
      "cell_type": "markdown",
      "source": [
        "#### Filter() function\n",
        "filters out the elements of an iterable object depending on the result of the function\n",
        "\n",
        "filter(function, iterable_obj)"
      ],
      "metadata": {
        "id": "3dx3_AzCZtdK"
      },
      "id": "3dx3_AzCZtdK"
    },
    {
      "cell_type": "code",
      "execution_count": null,
      "id": "7cc75376",
      "metadata": {
        "id": "7cc75376",
        "outputId": "b0116f10-7a3f-4c08-f710-5bf03e7a5603"
      },
      "outputs": [
        {
          "data": {
            "text/plain": [
              "<filter at 0x265f878aa60>"
            ]
          },
          "execution_count": 30,
          "metadata": {},
          "output_type": "execute_result"
        }
      ],
      "source": [
        "filter(lambda x: x**2, [1,2,3,4,5])"
      ]
    },
    {
      "cell_type": "code",
      "execution_count": 26,
      "id": "6c80a52b",
      "metadata": {
        "id": "6c80a52b",
        "outputId": "bfe49a28-de27-4826-dfbf-1cff847156b2",
        "colab": {
          "base_uri": "https://localhost:8080/"
        }
      },
      "outputs": [
        {
          "output_type": "execute_result",
          "data": {
            "text/plain": [
              "[1, 2, 3, 4, 5]"
            ]
          },
          "metadata": {},
          "execution_count": 26
        }
      ],
      "source": [
        "list(filter(lambda x: x**2, [1,2,3,4,5])) # It just printes the given input element as output. depends on result function"
      ]
    },
    {
      "cell_type": "code",
      "execution_count": 27,
      "id": "1404539d",
      "metadata": {
        "id": "1404539d",
        "outputId": "a9729bb7-8953-4a62-9129-029ec1244a8a",
        "colab": {
          "base_uri": "https://localhost:8080/"
        }
      },
      "outputs": [
        {
          "output_type": "execute_result",
          "data": {
            "text/plain": [
              "[8, 4, 5]"
            ]
          },
          "metadata": {},
          "execution_count": 27
        }
      ],
      "source": [
        "list(filter(lambda x: x > 0, [8,-2,-3,4,5]))"
      ]
    },
    {
      "cell_type": "code",
      "execution_count": 28,
      "id": "bdb2dfef",
      "metadata": {
        "id": "bdb2dfef"
      },
      "outputs": [],
      "source": [
        "l1 = [8, 3, 9, 2, 5, 7, 1, 21, 45, 3, 81, 18]"
      ]
    },
    {
      "cell_type": "code",
      "execution_count": 29,
      "id": "cbbac531",
      "metadata": {
        "id": "cbbac531"
      },
      "outputs": [],
      "source": [
        "# list of all the odd numbers ONLY"
      ]
    },
    {
      "cell_type": "code",
      "execution_count": 30,
      "id": "d7d839b7",
      "metadata": {
        "id": "d7d839b7",
        "outputId": "0d844853-5814-4ec9-959c-7284d510d427",
        "colab": {
          "base_uri": "https://localhost:8080/"
        }
      },
      "outputs": [
        {
          "output_type": "execute_result",
          "data": {
            "text/plain": [
              "[3, 9, 5, 7, 1, 21, 45, 3, 81]"
            ]
          },
          "metadata": {},
          "execution_count": 30
        }
      ],
      "source": [
        "list(filter(lambda x: x%2!=0,l1))"
      ]
    },
    {
      "cell_type": "code",
      "execution_count": 31,
      "id": "fb46f107",
      "metadata": {
        "id": "fb46f107"
      },
      "outputs": [],
      "source": [
        "f1 = lambda x: True if x % 2 != 0 else False"
      ]
    },
    {
      "cell_type": "code",
      "execution_count": 32,
      "id": "67309b79",
      "metadata": {
        "id": "67309b79",
        "outputId": "1bc9f7a0-5b04-4e23-8413-6aa9d52c03a3",
        "colab": {
          "base_uri": "https://localhost:8080/"
        }
      },
      "outputs": [
        {
          "output_type": "execute_result",
          "data": {
            "text/plain": [
              "[3, 9, 5, 7, 1, 21, 45, 3, 81]"
            ]
          },
          "metadata": {},
          "execution_count": 32
        }
      ],
      "source": [
        "list(filter(f1, l1))"
      ]
    },
    {
      "cell_type": "code",
      "execution_count": 33,
      "id": "8a32420b",
      "metadata": {
        "id": "8a32420b",
        "outputId": "797b4610-98cc-436e-bf92-a039f583e00a",
        "colab": {
          "base_uri": "https://localhost:8080/"
        }
      },
      "outputs": [
        {
          "output_type": "execute_result",
          "data": {
            "text/plain": [
              "[8, 2, 18]"
            ]
          },
          "metadata": {},
          "execution_count": 33
        }
      ],
      "source": [
        "list(filter(lambda x: True if x % 2 == 0 else False, l1))"
      ]
    },
    {
      "cell_type": "code",
      "execution_count": 34,
      "id": "22b90a14",
      "metadata": {
        "id": "22b90a14",
        "outputId": "974863c0-d6a4-449e-c489-0e986e133c62",
        "colab": {
          "base_uri": "https://localhost:8080/"
        }
      },
      "outputs": [
        {
          "output_type": "stream",
          "name": "stdout",
          "text": [
            "Help on class filter in module builtins:\n",
            "\n",
            "class filter(object)\n",
            " |  filter(function or None, iterable) --> filter object\n",
            " |  \n",
            " |  Return an iterator yielding those items of iterable for which function(item)\n",
            " |  is true. If function is None, return the items that are true.\n",
            " |  \n",
            " |  Methods defined here:\n",
            " |  \n",
            " |  __getattribute__(self, name, /)\n",
            " |      Return getattr(self, name).\n",
            " |  \n",
            " |  __iter__(self, /)\n",
            " |      Implement iter(self).\n",
            " |  \n",
            " |  __next__(self, /)\n",
            " |      Implement next(self).\n",
            " |  \n",
            " |  __reduce__(...)\n",
            " |      Return state information for pickling.\n",
            " |  \n",
            " |  ----------------------------------------------------------------------\n",
            " |  Static methods defined here:\n",
            " |  \n",
            " |  __new__(*args, **kwargs) from builtins.type\n",
            " |      Create and return a new object.  See help(type) for accurate signature.\n",
            "\n"
          ]
        }
      ],
      "source": [
        "help(filter)"
      ]
    },
    {
      "cell_type": "markdown",
      "source": [
        "#### reduce : reduces a sequence of elements to a single value by processing the elements according to the function\n",
        "\n",
        "reduce(function, sequence)"
      ],
      "metadata": {
        "id": "Ii9wal5maZg3"
      },
      "id": "Ii9wal5maZg3"
    },
    {
      "cell_type": "code",
      "execution_count": 35,
      "id": "3e4c3f74",
      "metadata": {
        "id": "3e4c3f74",
        "outputId": "cf89135d-3ac3-4683-ebaf-2189ce2d0d9f",
        "colab": {
          "base_uri": "https://localhost:8080/",
          "height": 171
        }
      },
      "outputs": [
        {
          "output_type": "error",
          "ename": "NameError",
          "evalue": "ignored",
          "traceback": [
            "\u001b[0;31m---------------------------------------------------------------------------\u001b[0m",
            "\u001b[0;31mNameError\u001b[0m                                 Traceback (most recent call last)",
            "\u001b[0;32m<ipython-input-35-73eeb5152f5e>\u001b[0m in \u001b[0;36m<cell line: 1>\u001b[0;34m()\u001b[0m\n\u001b[0;32m----> 1\u001b[0;31m \u001b[0mhelp\u001b[0m\u001b[0;34m(\u001b[0m\u001b[0mreduce\u001b[0m\u001b[0;34m)\u001b[0m\u001b[0;34m\u001b[0m\u001b[0;34m\u001b[0m\u001b[0m\n\u001b[0m",
            "\u001b[0;31mNameError\u001b[0m: name 'reduce' is not defined"
          ]
        }
      ],
      "source": [
        "help(reduce)"
      ]
    },
    {
      "cell_type": "code",
      "execution_count": 36,
      "id": "a3c10e5d",
      "metadata": {
        "id": "a3c10e5d"
      },
      "outputs": [],
      "source": [
        "# module => functools"
      ]
    },
    {
      "cell_type": "code",
      "execution_count": 37,
      "id": "1391fd35",
      "metadata": {
        "id": "1391fd35"
      },
      "outputs": [],
      "source": [
        "from functools import reduce"
      ]
    },
    {
      "cell_type": "code",
      "execution_count": 39,
      "id": "04691ada",
      "metadata": {
        "id": "04691ada",
        "outputId": "2e0e254e-ed3c-4c82-bbf4-721e1bd2bdfb",
        "colab": {
          "base_uri": "https://localhost:8080/"
        }
      },
      "outputs": [
        {
          "output_type": "execute_result",
          "data": {
            "text/plain": [
              "17"
            ]
          },
          "metadata": {},
          "execution_count": 39
        }
      ],
      "source": [
        "reduce(lambda x, y: x + y, [1, 3, 2, 6, 5]) # Fist value is get assignet to x and added to next value as y\n",
        "# EG : x=1+y=3 = 4. again becomes x=4+y=2 ...... So finally it returns single value as output"
      ]
    },
    {
      "cell_type": "code",
      "execution_count": 40,
      "id": "b32a4713",
      "metadata": {
        "id": "b32a4713",
        "outputId": "b5667fd2-5aec-4916-de98-26bc8bf301a0",
        "colab": {
          "base_uri": "https://localhost:8080/"
        }
      },
      "outputs": [
        {
          "output_type": "stream",
          "name": "stdout",
          "text": [
            "Help on built-in function reduce in module _functools:\n",
            "\n",
            "reduce(...)\n",
            "    reduce(function, iterable[, initial]) -> value\n",
            "    \n",
            "    Apply a function of two arguments cumulatively to the items of a sequence\n",
            "    or iterable, from left to right, so as to reduce the iterable to a single\n",
            "    value.  For example, reduce(lambda x, y: x+y, [1, 2, 3, 4, 5]) calculates\n",
            "    ((((1+2)+3)+4)+5).  If initial is present, it is placed before the items\n",
            "    of the iterable in the calculation, and serves as a default when the\n",
            "    iterable is empty.\n",
            "\n"
          ]
        }
      ],
      "source": [
        "help(reduce)"
      ]
    },
    {
      "cell_type": "code",
      "execution_count": 41,
      "id": "98c69344",
      "metadata": {
        "id": "98c69344",
        "outputId": "feb9d585-a01c-426b-c346-d176bba71612",
        "colab": {
          "base_uri": "https://localhost:8080/"
        }
      },
      "outputs": [
        {
          "output_type": "execute_result",
          "data": {
            "text/plain": [
              "180"
            ]
          },
          "metadata": {},
          "execution_count": 41
        }
      ],
      "source": [
        "reduce(lambda x, y: x * y, [1, 3, 2, 6, 5])"
      ]
    },
    {
      "cell_type": "code",
      "execution_count": 42,
      "id": "fd410c40",
      "metadata": {
        "id": "fd410c40",
        "outputId": "99ef95c4-4aa7-48e3-c737-8ee4f0e4ba7e",
        "colab": {
          "base_uri": "https://localhost:8080/"
        }
      },
      "outputs": [
        {
          "output_type": "execute_result",
          "data": {
            "text/plain": [
              "0"
            ]
          },
          "metadata": {},
          "execution_count": 42
        }
      ],
      "source": [
        "reduce(lambda x, y: x * y, [67, 54, 89, 0, 45])"
      ]
    },
    {
      "cell_type": "code",
      "execution_count": 43,
      "id": "8f9ffd4f",
      "metadata": {
        "id": "8f9ffd4f",
        "outputId": "4c26ffa1-9da4-4beb-dc69-aca73f329827",
        "colab": {
          "base_uri": "https://localhost:8080/",
          "height": 171
        }
      },
      "outputs": [
        {
          "output_type": "error",
          "ename": "TypeError",
          "evalue": "ignored",
          "traceback": [
            "\u001b[0;31m---------------------------------------------------------------------------\u001b[0m",
            "\u001b[0;31mTypeError\u001b[0m                                 Traceback (most recent call last)",
            "\u001b[0;32m<ipython-input-43-6fa50f1bd908>\u001b[0m in \u001b[0;36m<cell line: 1>\u001b[0;34m()\u001b[0m\n\u001b[0;32m----> 1\u001b[0;31m \u001b[0mreduce\u001b[0m\u001b[0;34m(\u001b[0m\u001b[0;32mlambda\u001b[0m \u001b[0mx\u001b[0m\u001b[0;34m,\u001b[0m \u001b[0my\u001b[0m\u001b[0;34m:\u001b[0m \u001b[0mx\u001b[0m \u001b[0;34m+\u001b[0m \u001b[0my\u001b[0m\u001b[0;34m,\u001b[0m \u001b[0;34m[\u001b[0m\u001b[0;34m]\u001b[0m\u001b[0;34m)\u001b[0m\u001b[0;34m\u001b[0m\u001b[0;34m\u001b[0m\u001b[0m\n\u001b[0m",
            "\u001b[0;31mTypeError\u001b[0m: reduce() of empty iterable with no initial value"
          ]
        }
      ],
      "source": [
        "reduce(lambda x, y: x + y, [])"
      ]
    },
    {
      "cell_type": "code",
      "execution_count": 44,
      "id": "a74da717",
      "metadata": {
        "id": "a74da717",
        "outputId": "c67f60d8-2858-4250-dea6-f5e6c2590829",
        "colab": {
          "base_uri": "https://localhost:8080/"
        }
      },
      "outputs": [
        {
          "output_type": "execute_result",
          "data": {
            "text/plain": [
              "0"
            ]
          },
          "metadata": {},
          "execution_count": 44
        }
      ],
      "source": [
        "reduce(lambda x, y: x + y, [], 0) # Here 0 is a default value we assigned to avoid reporting error"
      ]
    },
    {
      "cell_type": "code",
      "execution_count": 45,
      "id": "2b568997",
      "metadata": {
        "id": "2b568997",
        "outputId": "a8f647e8-bf96-4f9f-8dd3-16777e5d56c4",
        "colab": {
          "base_uri": "https://localhost:8080/"
        }
      },
      "outputs": [
        {
          "output_type": "execute_result",
          "data": {
            "text/plain": [
              "27"
            ]
          },
          "metadata": {},
          "execution_count": 45
        }
      ],
      "source": [
        "reduce(lambda x, y: x + y, [1, 3, 2, 6, 5], 10)"
      ]
    },
    {
      "cell_type": "markdown",
      "source": [
        "#### zip() : Joins 1st value of set1 to 1st value of set2"
      ],
      "metadata": {
        "id": "5FUrhvhdboJr"
      },
      "id": "5FUrhvhdboJr"
    },
    {
      "cell_type": "code",
      "execution_count": 46,
      "id": "764d5eae",
      "metadata": {
        "id": "764d5eae"
      },
      "outputs": [],
      "source": [
        "ids = [101, 102, 103, 104]\n",
        "names = ['John', 'Alice', 'Jill', 'Dan']"
      ]
    },
    {
      "cell_type": "code",
      "execution_count": 47,
      "id": "97e52dbf",
      "metadata": {
        "id": "97e52dbf",
        "outputId": "72f46927-2377-4260-f280-d87d33e00134",
        "colab": {
          "base_uri": "https://localhost:8080/"
        }
      },
      "outputs": [
        {
          "output_type": "execute_result",
          "data": {
            "text/plain": [
              "<zip at 0x7f70fbbae180>"
            ]
          },
          "metadata": {},
          "execution_count": 47
        }
      ],
      "source": [
        "zip(ids, names)"
      ]
    },
    {
      "cell_type": "code",
      "execution_count": 48,
      "id": "319770fe",
      "metadata": {
        "id": "319770fe",
        "outputId": "886fb1e5-af77-46e4-e9b3-cec87e6e8f56",
        "colab": {
          "base_uri": "https://localhost:8080/"
        }
      },
      "outputs": [
        {
          "output_type": "execute_result",
          "data": {
            "text/plain": [
              "[(101, 'John'), (102, 'Alice'), (103, 'Jill'), (104, 'Dan')]"
            ]
          },
          "metadata": {},
          "execution_count": 48
        }
      ],
      "source": [
        "list(zip(ids, names))"
      ]
    },
    {
      "cell_type": "code",
      "execution_count": 49,
      "id": "8a519f3f",
      "metadata": {
        "id": "8a519f3f",
        "outputId": "df08fbf6-6fd2-495f-d324-9ea8807dc3bf",
        "colab": {
          "base_uri": "https://localhost:8080/"
        }
      },
      "outputs": [
        {
          "output_type": "execute_result",
          "data": {
            "text/plain": [
              "{101: 'John', 102: 'Alice', 103: 'Jill', 104: 'Dan'}"
            ]
          },
          "metadata": {},
          "execution_count": 49
        }
      ],
      "source": [
        "dict(zip(ids, names))"
      ]
    },
    {
      "cell_type": "code",
      "execution_count": 50,
      "id": "857ee53b",
      "metadata": {
        "id": "857ee53b"
      },
      "outputs": [],
      "source": [
        "ids = [101, 102, 103, 104]\n",
        "names = ['John', 'Alice', 'Jill', 'Dan', 'Mark']"
      ]
    },
    {
      "cell_type": "code",
      "execution_count": 51,
      "id": "729da33f",
      "metadata": {
        "id": "729da33f",
        "outputId": "9c3492e2-7702-4450-c07c-867735bfd6e9",
        "colab": {
          "base_uri": "https://localhost:8080/"
        }
      },
      "outputs": [
        {
          "output_type": "execute_result",
          "data": {
            "text/plain": [
              "{101: 'John', 102: 'Alice', 103: 'Jill', 104: 'Dan'}"
            ]
          },
          "metadata": {},
          "execution_count": 51
        }
      ],
      "source": [
        "dict(zip(ids, names))"
      ]
    },
    {
      "cell_type": "code",
      "execution_count": 52,
      "id": "c63b9bca",
      "metadata": {
        "id": "c63b9bca",
        "outputId": "9e355a2d-eef6-4969-ccb8-b505bde73221",
        "colab": {
          "base_uri": "https://localhost:8080/"
        }
      },
      "outputs": [
        {
          "output_type": "execute_result",
          "data": {
            "text/plain": [
              "{101: 'Alice', 103: 'Jill', 104: 'Dan'}"
            ]
          },
          "metadata": {},
          "execution_count": 52
        }
      ],
      "source": [
        "ids = [101, 101, 103, 104]\n",
        "names = ['John', 'Alice', 'Jill', 'Dan', 'Mark'] # Here it discards last elemet from larger cell and fit eually to lesser cell\n",
        "dict(zip(ids, names))"
      ]
    },
    {
      "cell_type": "code",
      "execution_count": 53,
      "id": "2f6d76ad",
      "metadata": {
        "id": "2f6d76ad",
        "outputId": "973d86b2-19b2-4c41-d58b-786ce80c5543",
        "colab": {
          "base_uri": "https://localhost:8080/"
        }
      },
      "outputs": [
        {
          "output_type": "execute_result",
          "data": {
            "text/plain": [
              "<zip at 0x7f70db405580>"
            ]
          },
          "metadata": {},
          "execution_count": 53
        }
      ],
      "source": [
        "zip(ids, names)"
      ]
    },
    {
      "cell_type": "code",
      "execution_count": 54,
      "id": "764128ff",
      "metadata": {
        "id": "764128ff",
        "outputId": "f0f32f4a-2486-44c4-e3ec-49402129da25",
        "colab": {
          "base_uri": "https://localhost:8080/"
        }
      },
      "outputs": [
        {
          "output_type": "execute_result",
          "data": {
            "text/plain": [
              "[(101, 'John'), (101, 'Alice'), (103, 'Jill'), (104, 'Dan')]"
            ]
          },
          "metadata": {},
          "execution_count": 54
        }
      ],
      "source": [
        "list(zip(ids, names))"
      ]
    },
    {
      "cell_type": "code",
      "execution_count": 55,
      "id": "f882aca2",
      "metadata": {
        "id": "f882aca2",
        "outputId": "cea2429f-7927-4298-d37a-3dc7a407afe0",
        "colab": {
          "base_uri": "https://localhost:8080/"
        }
      },
      "outputs": [
        {
          "output_type": "execute_result",
          "data": {
            "text/plain": [
              "<zip at 0x7f70db407380>"
            ]
          },
          "metadata": {},
          "execution_count": 55
        }
      ],
      "source": [
        "ids = [101, 101, 103, 104]\n",
        "names = ['John', 'Alice', 'Jill', 'Dan']\n",
        "percents = [76.5, 89.5, 67.0, 81.5]\n",
        "zip(ids, names, percents)"
      ]
    },
    {
      "cell_type": "code",
      "execution_count": 60,
      "id": "164c3512",
      "metadata": {
        "id": "164c3512",
        "outputId": "e11c370a-fed5-4a9c-eda7-c4aea5fae47d",
        "colab": {
          "base_uri": "https://localhost:8080/"
        }
      },
      "outputs": [
        {
          "output_type": "execute_result",
          "data": {
            "text/plain": [
              "[(101, 'John', 76.5),\n",
              " (101, 'Alice', 89.5),\n",
              " (103, 'Jill', 67.0),\n",
              " (104, 'Dan', 81.5)]"
            ]
          },
          "metadata": {},
          "execution_count": 60
        }
      ],
      "source": [
        "ids = [101, 101, 103, 104]\n",
        "names = ['John', 'Alice', 'Jill', 'Dan']\n",
        "percents = [76.5, 89.5, 67.0, 81.5]\n",
        "list(zip(ids, names, percents))"
      ]
    },
    {
      "cell_type": "code",
      "execution_count": null,
      "id": "d0c17e4f",
      "metadata": {
        "id": "d0c17e4f",
        "outputId": "b6ca022f-2494-453c-c9f0-0ec54e1a6e0e"
      },
      "outputs": [
        {
          "ename": "ValueError",
          "evalue": "dictionary update sequence element #0 has length 3; 2 is required",
          "output_type": "error",
          "traceback": [
            "\u001b[1;31m---------------------------------------------------------------------------\u001b[0m",
            "\u001b[1;31mValueError\u001b[0m                                Traceback (most recent call last)",
            "\u001b[1;32m~\\AppData\\Local\\Temp/ipykernel_7964/1795830769.py\u001b[0m in \u001b[0;36m<module>\u001b[1;34m\u001b[0m\n\u001b[0;32m      2\u001b[0m \u001b[0mnames\u001b[0m \u001b[1;33m=\u001b[0m \u001b[1;33m[\u001b[0m\u001b[1;34m'John'\u001b[0m\u001b[1;33m,\u001b[0m \u001b[1;34m'Alice'\u001b[0m\u001b[1;33m,\u001b[0m \u001b[1;34m'Jill'\u001b[0m\u001b[1;33m,\u001b[0m \u001b[1;34m'Dan'\u001b[0m\u001b[1;33m]\u001b[0m\u001b[1;33m\u001b[0m\u001b[1;33m\u001b[0m\u001b[0m\n\u001b[0;32m      3\u001b[0m \u001b[0mpercents\u001b[0m \u001b[1;33m=\u001b[0m \u001b[1;33m[\u001b[0m\u001b[1;36m76.5\u001b[0m\u001b[1;33m,\u001b[0m \u001b[1;36m89.5\u001b[0m\u001b[1;33m,\u001b[0m \u001b[1;36m67.0\u001b[0m\u001b[1;33m,\u001b[0m \u001b[1;36m81.5\u001b[0m\u001b[1;33m]\u001b[0m\u001b[1;33m\u001b[0m\u001b[1;33m\u001b[0m\u001b[0m\n\u001b[1;32m----> 4\u001b[1;33m \u001b[0mdict\u001b[0m\u001b[1;33m(\u001b[0m\u001b[0mzip\u001b[0m\u001b[1;33m(\u001b[0m\u001b[0mids\u001b[0m\u001b[1;33m,\u001b[0m \u001b[0mnames\u001b[0m\u001b[1;33m,\u001b[0m \u001b[0mpercents\u001b[0m\u001b[1;33m)\u001b[0m\u001b[1;33m)\u001b[0m\u001b[1;33m\u001b[0m\u001b[1;33m\u001b[0m\u001b[0m\n\u001b[0m",
            "\u001b[1;31mValueError\u001b[0m: dictionary update sequence element #0 has length 3; 2 is required"
          ]
        }
      ],
      "source": [
        "ids = [101, 101, 103, 104] # In disctonary thee values as input is not allowded\n",
        "names = ['John', 'Alice', 'Jill', 'Dan']\n",
        "percents = [76.5, 89.5, 67.0, 81.5]\n",
        "dict(zip(ids, names, percents))"
      ]
    },
    {
      "cell_type": "code",
      "execution_count": 57,
      "id": "fa86ed02",
      "metadata": {
        "id": "fa86ed02",
        "outputId": "09e31806-a96c-46ef-8b86-a1bc203fd8da",
        "colab": {
          "base_uri": "https://localhost:8080/"
        }
      },
      "outputs": [
        {
          "output_type": "execute_result",
          "data": {
            "text/plain": [
              "((101, 'John', 76.5),\n",
              " (101, 'Alice', 89.5),\n",
              " (103, 'Jill', 67.0),\n",
              " (104, 'Dan', 81.5))"
            ]
          },
          "metadata": {},
          "execution_count": 57
        }
      ],
      "source": [
        "ids = [101, 101, 103, 104]\n",
        "names = ['John', 'Alice', 'Jill', 'Dan']\n",
        "percents = [76.5, 89.5, 67.0, 81.5]\n",
        "tuple(zip(ids, names, percents))"
      ]
    },
    {
      "cell_type": "code",
      "execution_count": 58,
      "id": "6992cc44",
      "metadata": {
        "id": "6992cc44",
        "outputId": "69df4f53-c895-4b03-982f-8ee972f64dc8",
        "colab": {
          "base_uri": "https://localhost:8080/"
        }
      },
      "outputs": [
        {
          "output_type": "stream",
          "name": "stdout",
          "text": [
            "Help on built-in function print in module builtins:\n",
            "\n",
            "print(...)\n",
            "    print(value, ..., sep=' ', end='\\n', file=sys.stdout, flush=False)\n",
            "    \n",
            "    Prints the values to a stream, or to sys.stdout by default.\n",
            "    Optional keyword arguments:\n",
            "    file:  a file-like object (stream); defaults to the current sys.stdout.\n",
            "    sep:   string inserted between values, default a space.\n",
            "    end:   string appended after the last value, default a newline.\n",
            "    flush: whether to forcibly flush the stream.\n",
            "\n"
          ]
        }
      ],
      "source": [
        "help(print)"
      ]
    },
    {
      "cell_type": "code",
      "execution_count": null,
      "id": "d15cae34",
      "metadata": {
        "id": "d15cae34"
      },
      "outputs": [],
      "source": []
    },
    {
      "cell_type": "markdown",
      "source": [
        "#### iterators and generators\n",
        "\n",
        "Iteration : process of repeatedly executing a block a code\n",
        "\n",
        "iterable object - an object on which iteration can be performed str, list, dict, ..."
      ],
      "metadata": {
        "id": "kYHVMo85coVq"
      },
      "id": "kYHVMo85coVq"
    },
    {
      "cell_type": "code",
      "execution_count": null,
      "id": "a2176903",
      "metadata": {
        "id": "a2176903"
      },
      "outputs": [],
      "source": [
        "# Iterator"
      ]
    },
    {
      "cell_type": "code",
      "execution_count": null,
      "id": "8a113174",
      "metadata": {
        "id": "8a113174"
      },
      "outputs": [],
      "source": [
        "# iterator - an object that is used to iterate on an iterable object"
      ]
    },
    {
      "cell_type": "code",
      "execution_count": null,
      "id": "5de94036",
      "metadata": {
        "id": "5de94036"
      },
      "outputs": [],
      "source": [
        "# iter() - used to create an iterator"
      ]
    },
    {
      "cell_type": "code",
      "execution_count": 61,
      "id": "be170360",
      "metadata": {
        "id": "be170360"
      },
      "outputs": [],
      "source": [
        "l1 = [3, 8, 1, -4, 6]"
      ]
    },
    {
      "cell_type": "code",
      "execution_count": 62,
      "id": "4d0e975b",
      "metadata": {
        "id": "4d0e975b",
        "outputId": "b201c1ec-052a-4329-b2a0-8bc1501b8fa4",
        "colab": {
          "base_uri": "https://localhost:8080/"
        }
      },
      "outputs": [
        {
          "output_type": "execute_result",
          "data": {
            "text/plain": [
              "[3, 8, 1, -4, 6]"
            ]
          },
          "metadata": {},
          "execution_count": 62
        }
      ],
      "source": [
        "l1"
      ]
    },
    {
      "cell_type": "code",
      "execution_count": 63,
      "id": "f3553b0e",
      "metadata": {
        "id": "f3553b0e",
        "outputId": "8085de80-ac9f-4cff-ed5d-f90c4475bed5",
        "colab": {
          "base_uri": "https://localhost:8080/"
        }
      },
      "outputs": [
        {
          "output_type": "execute_result",
          "data": {
            "text/plain": [
              "list"
            ]
          },
          "metadata": {},
          "execution_count": 63
        }
      ],
      "source": [
        "type(l1)"
      ]
    },
    {
      "cell_type": "code",
      "execution_count": 64,
      "id": "f8977eea",
      "metadata": {
        "id": "f8977eea"
      },
      "outputs": [],
      "source": [
        "i1 = iter(l1)"
      ]
    },
    {
      "cell_type": "code",
      "execution_count": 67,
      "id": "462ebc53",
      "metadata": {
        "id": "462ebc53",
        "outputId": "eb541c3a-3c38-427c-9329-a01e30b9d4c2",
        "colab": {
          "base_uri": "https://localhost:8080/"
        }
      },
      "outputs": [
        {
          "output_type": "execute_result",
          "data": {
            "text/plain": [
              "<list_iterator at 0x7f70fbb7bd30>"
            ]
          },
          "metadata": {},
          "execution_count": 67
        }
      ],
      "source": [
        "i1"
      ]
    },
    {
      "cell_type": "code",
      "execution_count": 66,
      "id": "d30d204b",
      "metadata": {
        "id": "d30d204b",
        "outputId": "34b095c6-bf9f-4a01-c46a-9b62c221ee84",
        "colab": {
          "base_uri": "https://localhost:8080/"
        }
      },
      "outputs": [
        {
          "output_type": "execute_result",
          "data": {
            "text/plain": [
              "list_iterator"
            ]
          },
          "metadata": {},
          "execution_count": 66
        }
      ],
      "source": [
        "type(i1)"
      ]
    },
    {
      "cell_type": "markdown",
      "source": [
        "#### Next()\n",
        "\"\"\"It is similar to for loop but it gives output of each value for each enter's till loops get completed next is needed to soow iter object ouput\"\"\""
      ],
      "metadata": {
        "id": "oU-gTOBzd8xI"
      },
      "id": "oU-gTOBzd8xI"
    },
    {
      "cell_type": "code",
      "execution_count": 69,
      "id": "067f254c",
      "metadata": {
        "id": "067f254c",
        "outputId": "90ee681f-3713-410a-c24f-d363b979d5eb",
        "colab": {
          "base_uri": "https://localhost:8080/"
        }
      },
      "outputs": [
        {
          "output_type": "execute_result",
          "data": {
            "text/plain": [
              "[3, 8, 1, -4, 6]"
            ]
          },
          "metadata": {},
          "execution_count": 69
        }
      ],
      "source": [
        "l1"
      ]
    },
    {
      "cell_type": "code",
      "execution_count": 70,
      "id": "5c55eb7d",
      "metadata": {
        "id": "5c55eb7d",
        "outputId": "f929e4f2-6fd9-4b0e-a574-745968d3a1aa",
        "colab": {
          "base_uri": "https://localhost:8080/"
        }
      },
      "outputs": [
        {
          "output_type": "execute_result",
          "data": {
            "text/plain": [
              "3"
            ]
          },
          "metadata": {},
          "execution_count": 70
        }
      ],
      "source": [
        "next(i1)"
      ]
    },
    {
      "cell_type": "code",
      "execution_count": 71,
      "id": "11d9b98d",
      "metadata": {
        "id": "11d9b98d",
        "outputId": "403c8df0-f130-4451-e1eb-2ae0a5f3cae3",
        "colab": {
          "base_uri": "https://localhost:8080/"
        }
      },
      "outputs": [
        {
          "output_type": "execute_result",
          "data": {
            "text/plain": [
              "8"
            ]
          },
          "metadata": {},
          "execution_count": 71
        }
      ],
      "source": [
        "next(i1)"
      ]
    },
    {
      "cell_type": "code",
      "execution_count": 73,
      "id": "18c5f1d2",
      "metadata": {
        "id": "18c5f1d2",
        "outputId": "c369750e-d062-421d-ca1e-d7003579aaef",
        "colab": {
          "base_uri": "https://localhost:8080/"
        }
      },
      "outputs": [
        {
          "output_type": "execute_result",
          "data": {
            "text/plain": [
              "1"
            ]
          },
          "metadata": {},
          "execution_count": 73
        }
      ],
      "source": [
        "next(i1)"
      ]
    },
    {
      "cell_type": "code",
      "execution_count": 74,
      "id": "4a8d4124",
      "metadata": {
        "id": "4a8d4124",
        "outputId": "14b848f4-fb66-46a7-a036-cd36d4a357b9",
        "colab": {
          "base_uri": "https://localhost:8080/"
        }
      },
      "outputs": [
        {
          "output_type": "execute_result",
          "data": {
            "text/plain": [
              "-4"
            ]
          },
          "metadata": {},
          "execution_count": 74
        }
      ],
      "source": [
        "next(i1)"
      ]
    },
    {
      "cell_type": "code",
      "execution_count": 75,
      "id": "6b00e46b",
      "metadata": {
        "id": "6b00e46b",
        "outputId": "451e91fe-a3c7-42ce-8fbc-b01905c70d3e",
        "colab": {
          "base_uri": "https://localhost:8080/"
        }
      },
      "outputs": [
        {
          "output_type": "execute_result",
          "data": {
            "text/plain": [
              "6"
            ]
          },
          "metadata": {},
          "execution_count": 75
        }
      ],
      "source": [
        "next(i1)"
      ]
    },
    {
      "cell_type": "code",
      "execution_count": null,
      "id": "4feb2eba",
      "metadata": {
        "id": "4feb2eba"
      },
      "outputs": [],
      "source": [
        "next(i1) # As no value it reports error"
      ]
    },
    {
      "cell_type": "code",
      "execution_count": 79,
      "id": "e1520ddf",
      "metadata": {
        "id": "e1520ddf"
      },
      "outputs": [],
      "source": [
        "t1 = (7, 3)"
      ]
    },
    {
      "cell_type": "code",
      "execution_count": 80,
      "id": "9189b7ee",
      "metadata": {
        "id": "9189b7ee",
        "outputId": "5435bf22-df7b-4abe-b946-205842554714",
        "colab": {
          "base_uri": "https://localhost:8080/"
        }
      },
      "outputs": [
        {
          "output_type": "execute_result",
          "data": {
            "text/plain": [
              "(7, 3)"
            ]
          },
          "metadata": {},
          "execution_count": 80
        }
      ],
      "source": [
        "t1"
      ]
    },
    {
      "cell_type": "code",
      "execution_count": 81,
      "id": "1b467bd7",
      "metadata": {
        "id": "1b467bd7"
      },
      "outputs": [],
      "source": [
        "i2 = iter(t1)"
      ]
    },
    {
      "cell_type": "code",
      "execution_count": 82,
      "id": "554dcef6",
      "metadata": {
        "id": "554dcef6",
        "outputId": "2ca3a39b-b0c0-4b95-ebf9-da4351167cf9",
        "colab": {
          "base_uri": "https://localhost:8080/"
        }
      },
      "outputs": [
        {
          "output_type": "execute_result",
          "data": {
            "text/plain": [
              "<tuple_iterator at 0x7f7110a9b040>"
            ]
          },
          "metadata": {},
          "execution_count": 82
        }
      ],
      "source": [
        "i2"
      ]
    },
    {
      "cell_type": "code",
      "execution_count": 83,
      "id": "9d02dd2b",
      "metadata": {
        "id": "9d02dd2b",
        "outputId": "f4819ac5-fd4f-43c1-871b-4a1502fa04ca",
        "colab": {
          "base_uri": "https://localhost:8080/"
        }
      },
      "outputs": [
        {
          "output_type": "execute_result",
          "data": {
            "text/plain": [
              "7"
            ]
          },
          "metadata": {},
          "execution_count": 83
        }
      ],
      "source": [
        "next(i2, 'NA')"
      ]
    },
    {
      "cell_type": "code",
      "execution_count": 84,
      "id": "80921399",
      "metadata": {
        "id": "80921399",
        "outputId": "2a88c1a6-05d1-47b3-c2ad-5883492f4c92",
        "colab": {
          "base_uri": "https://localhost:8080/"
        }
      },
      "outputs": [
        {
          "output_type": "execute_result",
          "data": {
            "text/plain": [
              "3"
            ]
          },
          "metadata": {},
          "execution_count": 84
        }
      ],
      "source": [
        "next(i2, 'NA')"
      ]
    },
    {
      "cell_type": "code",
      "execution_count": 87,
      "id": "28a66cd9",
      "metadata": {
        "id": "28a66cd9",
        "outputId": "5da986d1-ba72-409f-ce04-c1c1d3a30897",
        "colab": {
          "base_uri": "https://localhost:8080/",
          "height": 36
        }
      },
      "outputs": [
        {
          "output_type": "execute_result",
          "data": {
            "text/plain": [
              "'NA'"
            ],
            "application/vnd.google.colaboratory.intrinsic+json": {
              "type": "string"
            }
          },
          "metadata": {},
          "execution_count": 87
        }
      ],
      "source": [
        "next(i2, 'NA')"
      ]
    },
    {
      "cell_type": "code",
      "execution_count": 88,
      "id": "5b21bcca",
      "metadata": {
        "id": "5b21bcca",
        "outputId": "1a349c08-6c0c-47cf-a984-a20e740660cd",
        "colab": {
          "base_uri": "https://localhost:8080/",
          "height": 36
        }
      },
      "outputs": [
        {
          "output_type": "execute_result",
          "data": {
            "text/plain": [
              "'NA'"
            ],
            "application/vnd.google.colaboratory.intrinsic+json": {
              "type": "string"
            }
          },
          "metadata": {},
          "execution_count": 88
        }
      ],
      "source": [
        "next(i2, 'NA') # As no value it prints default value n number of times to avoid error"
      ]
    },
    {
      "cell_type": "markdown",
      "source": [
        "#### Generators:-  to generate, it uses yield\n",
        "\n",
        "user defined function that returns a sequence of values"
      ],
      "metadata": {
        "id": "yGoMexSZew2H"
      },
      "id": "yGoMexSZew2H"
    },
    {
      "cell_type": "code",
      "execution_count": 89,
      "id": "136d2b09",
      "metadata": {
        "id": "136d2b09",
        "outputId": "89fdc0a7-cfea-411a-9de8-5f0dd6787fcc",
        "colab": {
          "base_uri": "https://localhost:8080/"
        }
      },
      "outputs": [
        {
          "output_type": "execute_result",
          "data": {
            "text/plain": [
              "range(5, 10)"
            ]
          },
          "metadata": {},
          "execution_count": 89
        }
      ],
      "source": [
        "range(5, 10)"
      ]
    },
    {
      "cell_type": "code",
      "execution_count": 90,
      "id": "5f27d8f5",
      "metadata": {
        "id": "5f27d8f5",
        "outputId": "674ad62c-4619-44b5-adee-22671834fade",
        "colab": {
          "base_uri": "https://localhost:8080/"
        }
      },
      "outputs": [
        {
          "output_type": "execute_result",
          "data": {
            "text/plain": [
              "[5, 6, 7, 8, 9]"
            ]
          },
          "metadata": {},
          "execution_count": 90
        }
      ],
      "source": [
        "list(range(5, 10))"
      ]
    },
    {
      "cell_type": "code",
      "execution_count": 93,
      "id": "e87280a5",
      "metadata": {
        "id": "e87280a5"
      },
      "outputs": [],
      "source": [
        "def gene1(a, b):\n",
        "    while a < b:\n",
        "        yield a # Here yield i as a key used to create a genertor\n",
        "        a += 1"
      ]
    },
    {
      "cell_type": "code",
      "execution_count": 99,
      "id": "503f09c2",
      "metadata": {
        "id": "503f09c2",
        "outputId": "350edea0-a6fc-4763-f195-e08c682d389d",
        "colab": {
          "base_uri": "https://localhost:8080/"
        }
      },
      "outputs": [
        {
          "output_type": "execute_result",
          "data": {
            "text/plain": [
              "<generator object gene1 at 0x7f70dbaca1f0>"
            ]
          },
          "metadata": {},
          "execution_count": 99
        }
      ],
      "source": [
        "gene1(5, 10)"
      ]
    },
    {
      "cell_type": "code",
      "execution_count": 100,
      "id": "ad6d0ce3",
      "metadata": {
        "id": "ad6d0ce3",
        "outputId": "35704030-7220-4079-be51-2c8da3099a51",
        "colab": {
          "base_uri": "https://localhost:8080/"
        }
      },
      "outputs": [
        {
          "output_type": "execute_result",
          "data": {
            "text/plain": [
              "[5, 6, 7, 8, 9, 10]"
            ]
          },
          "metadata": {},
          "execution_count": 100
        }
      ],
      "source": [
        "list(gene1(5, 10))"
      ]
    },
    {
      "cell_type": "code",
      "execution_count": 101,
      "id": "bcdcf4dd",
      "metadata": {
        "id": "bcdcf4dd",
        "outputId": "132274bf-9ab1-424c-a261-33feee6e582e",
        "colab": {
          "base_uri": "https://localhost:8080/"
        }
      },
      "outputs": [
        {
          "output_type": "execute_result",
          "data": {
            "text/plain": [
              "[5, 6, 7, 8, 9]"
            ]
          },
          "metadata": {},
          "execution_count": 101
        }
      ],
      "source": [
        "list(range(5, 10)) # The same output range dose"
      ]
    },
    {
      "cell_type": "code",
      "execution_count": 97,
      "id": "0776b1d4",
      "metadata": {
        "id": "0776b1d4"
      },
      "outputs": [],
      "source": [
        "def gene1(a, b):\n",
        "    while a <= b:\n",
        "        yield a\n",
        "        a += 1"
      ]
    },
    {
      "cell_type": "code",
      "execution_count": 102,
      "id": "963aaaf8",
      "metadata": {
        "id": "963aaaf8",
        "outputId": "01002629-1e6a-421a-89e6-468897573a3e",
        "colab": {
          "base_uri": "https://localhost:8080/"
        }
      },
      "outputs": [
        {
          "output_type": "execute_result",
          "data": {
            "text/plain": [
              "[5, 6, 7, 8, 9, 10]"
            ]
          },
          "metadata": {},
          "execution_count": 102
        }
      ],
      "source": [
        "list(gene1(5, 10))"
      ]
    },
    {
      "cell_type": "code",
      "execution_count": 103,
      "id": "2deb4cc6",
      "metadata": {
        "id": "2deb4cc6"
      },
      "outputs": [],
      "source": [
        "def gene2(start, stop, step):\n",
        "    while start <= stop:\n",
        "        yield start\n",
        "        start += step"
      ]
    },
    {
      "cell_type": "code",
      "execution_count": 113,
      "id": "ea3680ae",
      "metadata": {
        "id": "ea3680ae",
        "outputId": "d2197b09-85f0-41b6-ce00-73409790f5b9",
        "colab": {
          "base_uri": "https://localhost:8080/"
        }
      },
      "outputs": [
        {
          "output_type": "execute_result",
          "data": {
            "text/plain": [
              "[10, 10.5, 11.0, 11.5, 12.0, 12.5, 13.0, 13.5, 14.0, 14.5, 15.0]"
            ]
          },
          "metadata": {},
          "execution_count": 113
        }
      ],
      "source": [
        "list(gene2(10, 15, 0.5)) # Check the same in to range"
      ]
    },
    {
      "cell_type": "code",
      "source": [
        "list(range (10, 15, 0.5)) # Float will not support in range"
      ],
      "metadata": {
        "colab": {
          "base_uri": "https://localhost:8080/",
          "height": 171
        },
        "id": "r8SRUJN8fkdu",
        "outputId": "84761674-20d7-409f-c8a8-6004ddddd156"
      },
      "id": "r8SRUJN8fkdu",
      "execution_count": 114,
      "outputs": [
        {
          "output_type": "error",
          "ename": "TypeError",
          "evalue": "ignored",
          "traceback": [
            "\u001b[0;31m---------------------------------------------------------------------------\u001b[0m",
            "\u001b[0;31mTypeError\u001b[0m                                 Traceback (most recent call last)",
            "\u001b[0;32m<ipython-input-114-ab9211d94b61>\u001b[0m in \u001b[0;36m<cell line: 1>\u001b[0;34m()\u001b[0m\n\u001b[0;32m----> 1\u001b[0;31m \u001b[0mlist\u001b[0m\u001b[0;34m(\u001b[0m\u001b[0mrange\u001b[0m \u001b[0;34m(\u001b[0m\u001b[0;36m10\u001b[0m\u001b[0;34m,\u001b[0m \u001b[0;36m15\u001b[0m\u001b[0;34m,\u001b[0m \u001b[0;36m0.5\u001b[0m\u001b[0;34m)\u001b[0m\u001b[0;34m)\u001b[0m \u001b[0;31m# Float will not support in range\u001b[0m\u001b[0;34m\u001b[0m\u001b[0;34m\u001b[0m\u001b[0m\n\u001b[0m",
            "\u001b[0;31mTypeError\u001b[0m: 'float' object cannot be interpreted as an integer"
          ]
        }
      ]
    },
    {
      "cell_type": "code",
      "source": [
        "list(range (10, 15, 2)) # But steps supports in range"
      ],
      "metadata": {
        "colab": {
          "base_uri": "https://localhost:8080/"
        },
        "id": "IgJBviiXgWED",
        "outputId": "dac5f9a9-96e0-4f63-f9a7-990edb7bf10b"
      },
      "id": "IgJBviiXgWED",
      "execution_count": 116,
      "outputs": [
        {
          "output_type": "execute_result",
          "data": {
            "text/plain": [
              "[10, 12, 14]"
            ]
          },
          "metadata": {},
          "execution_count": 116
        }
      ]
    },
    {
      "cell_type": "code",
      "execution_count": 117,
      "id": "4d712920",
      "metadata": {
        "id": "4d712920",
        "outputId": "c5d79ffb-7fd4-426f-de30-7c2fef362f5d",
        "colab": {
          "base_uri": "https://localhost:8080/"
        }
      },
      "outputs": [
        {
          "output_type": "stream",
          "name": "stdout",
          "text": [
            "10 11 12 13 14 15 "
          ]
        }
      ],
      "source": [
        "numbers = range(10, 16)\n",
        "for n in numbers:\n",
        "    print(n, end=' ')"
      ]
    },
    {
      "cell_type": "code",
      "execution_count": 118,
      "id": "4bc17609",
      "metadata": {
        "id": "4bc17609",
        "outputId": "624f2ac2-40aa-4878-e83b-cb4dc0795329",
        "colab": {
          "base_uri": "https://localhost:8080/"
        }
      },
      "outputs": [
        {
          "output_type": "stream",
          "name": "stdout",
          "text": [
            "10\n",
            "10.5\n",
            "11.0\n",
            "11.5\n",
            "12.0\n"
          ]
        }
      ],
      "source": [
        "for i in gene2(10, 12, 0.5):\n",
        "    print(i)"
      ]
    },
    {
      "cell_type": "code",
      "execution_count": 120,
      "id": "53bbc4db",
      "metadata": {
        "id": "53bbc4db",
        "outputId": "1167f4f6-2653-4a79-8817-bab0c9b7c8d4",
        "colab": {
          "base_uri": "https://localhost:8080/"
        }
      },
      "outputs": [
        {
          "output_type": "execute_result",
          "data": {
            "text/plain": [
              "[10, 10.5, 11.0, 11.5, 12.0]"
            ]
          },
          "metadata": {},
          "execution_count": 120
        }
      ],
      "source": [
        "list(gene2(10, 12, 0.5))"
      ]
    },
    {
      "cell_type": "code",
      "execution_count": 121,
      "id": "811403cf",
      "metadata": {
        "id": "811403cf",
        "outputId": "61cdbaf3-f979-4a8e-aed4-6db78a40216b",
        "colab": {
          "base_uri": "https://localhost:8080/"
        }
      },
      "outputs": [
        {
          "output_type": "stream",
          "name": "stdout",
          "text": [
            "[10, 10.5, 11.0, 11.5, 12.0]\n"
          ]
        }
      ],
      "source": [
        "def gene2(start, stop, step):\n",
        "    while start <= stop:\n",
        "        yield start\n",
        "        start += step\n",
        "\n",
        "print(list(gene2(10, 12, 0.5)))"
      ]
    },
    {
      "cell_type": "code",
      "execution_count": 122,
      "id": "24f1e778",
      "metadata": {
        "id": "24f1e778"
      },
      "outputs": [],
      "source": [
        "def gene2(start, stop, step):\n",
        "    while start <= stop:\n",
        "        yield 'a'\n",
        "        start += step"
      ]
    },
    {
      "cell_type": "code",
      "execution_count": 123,
      "id": "2ae8e6d1",
      "metadata": {
        "id": "2ae8e6d1",
        "outputId": "4050fbcf-bde7-4a81-a9af-3a8e017cfb71",
        "colab": {
          "base_uri": "https://localhost:8080/"
        }
      },
      "outputs": [
        {
          "output_type": "execute_result",
          "data": {
            "text/plain": [
              "['a', 'a', 'a', 'a', 'a']"
            ]
          },
          "metadata": {},
          "execution_count": 123
        }
      ],
      "source": [
        "list(gene2(1, 5, 1))"
      ]
    },
    {
      "cell_type": "code",
      "execution_count": null,
      "id": "67b3104d",
      "metadata": {
        "id": "67b3104d"
      },
      "outputs": [],
      "source": [
        "# 'a' to 'g'"
      ]
    },
    {
      "cell_type": "code",
      "execution_count": null,
      "id": "ea41ff7c",
      "metadata": {
        "id": "ea41ff7c"
      },
      "outputs": [],
      "source": [
        "# gen_char('a', 'g') => 'a', 'b', 'c', 'd', 'e', 'f', 'g'"
      ]
    },
    {
      "cell_type": "code",
      "execution_count": 124,
      "id": "86e6664c",
      "metadata": {
        "id": "86e6664c"
      },
      "outputs": [],
      "source": [
        "def gen_char(start_char, end_char, step=1):\n",
        "    start = ord(start_char)\n",
        "    end = ord(end_char)\n",
        "\n",
        "    while start <= end:\n",
        "        yield chr(start)\n",
        "        start += step"
      ]
    },
    {
      "cell_type": "code",
      "execution_count": 125,
      "id": "dcc47a41",
      "metadata": {
        "id": "dcc47a41",
        "outputId": "ea48bf94-c9de-4a7f-9349-9a3b8b3833b5",
        "colab": {
          "base_uri": "https://localhost:8080/"
        }
      },
      "outputs": [
        {
          "output_type": "execute_result",
          "data": {
            "text/plain": [
              "['a', 'b', 'c', 'd', 'e', 'f', 'g']"
            ]
          },
          "metadata": {},
          "execution_count": 125
        }
      ],
      "source": [
        "list(gen_char('a', 'g'))"
      ]
    },
    {
      "cell_type": "code",
      "execution_count": 126,
      "id": "e3dd0fda",
      "metadata": {
        "id": "e3dd0fda",
        "outputId": "2a3b6fcf-9177-42b4-aa1f-3366003eabe0",
        "colab": {
          "base_uri": "https://localhost:8080/"
        }
      },
      "outputs": [
        {
          "output_type": "execute_result",
          "data": {
            "text/plain": [
              "103"
            ]
          },
          "metadata": {},
          "execution_count": 126
        }
      ],
      "source": [
        "ord('g') # ord is to verify the ASCI valie of character"
      ]
    },
    {
      "cell_type": "code",
      "execution_count": 127,
      "id": "77d462be",
      "metadata": {
        "id": "77d462be",
        "outputId": "9d2a27e2-dc57-4549-c511-f8cb7224eb46",
        "colab": {
          "base_uri": "https://localhost:8080/"
        }
      },
      "outputs": [
        {
          "output_type": "execute_result",
          "data": {
            "text/plain": [
              "['a', 'c', 'e', 'g', 'i', 'k', 'm', 'o', 'q', 's', 'u', 'w', 'y']"
            ]
          },
          "metadata": {},
          "execution_count": 127
        }
      ],
      "source": [
        "list(gen_char('a', 'z', 2))"
      ]
    },
    {
      "cell_type": "code",
      "execution_count": 129,
      "id": "5733c755",
      "metadata": {
        "id": "5733c755",
        "outputId": "dec72da9-4c01-4f79-bb2a-935a6d19bdb0",
        "colab": {
          "base_uri": "https://localhost:8080/"
        }
      },
      "outputs": [
        {
          "name": "stdout",
          "output_type": "stream",
          "text": [
            "enter the end value1\n",
            "enter the start value5\n",
            "enter the step value1\n"
          ]
        }
      ],
      "source": [
        "end = eval(input(\"enter the end value\"))\n",
        "start = eval (input(\"enter the start value\"))\n",
        "step = eval (input(\"enter the step value\"))\n",
        "while start <= end:\n",
        "    print(start)\n",
        "    start += step\n"
      ]
    },
    {
      "cell_type": "code",
      "execution_count": 130,
      "id": "6df5c1bb",
      "metadata": {
        "id": "6df5c1bb",
        "outputId": "6a5c105e-79d1-459d-e2f1-1671fb31de5f",
        "colab": {
          "base_uri": "https://localhost:8080/"
        }
      },
      "outputs": [
        {
          "output_type": "stream",
          "name": "stdout",
          "text": [
            "enter the end value1\n",
            "enter the start value5\n",
            "enter the step value1\n",
            "1\n",
            "2\n",
            "3\n",
            "4\n",
            "5\n"
          ]
        }
      ],
      "source": [
        "start = eval(input(\"enter the end value\"))\n",
        "end = eval (input(\"enter the start value\"))\n",
        "step = eval (input(\"enter the step value\"))\n",
        "while start <= end:\n",
        "    print(start)\n",
        "    start += step\n"
      ]
    }
  ],
  "metadata": {
    "kernelspec": {
      "display_name": "Python 3 (ipykernel)",
      "language": "python",
      "name": "python3"
    },
    "language_info": {
      "codemirror_mode": {
        "name": "ipython",
        "version": 3
      },
      "file_extension": ".py",
      "mimetype": "text/x-python",
      "name": "python",
      "nbconvert_exporter": "python",
      "pygments_lexer": "ipython3",
      "version": "3.9.7"
    },
    "colab": {
      "provenance": [],
      "include_colab_link": true
    }
  },
  "nbformat": 4,
  "nbformat_minor": 5
}