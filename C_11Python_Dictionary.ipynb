{
  "cells": [
    {
      "cell_type": "markdown",
      "metadata": {
        "id": "view-in-github",
        "colab_type": "text"
      },
      "source": [
        "<a href=\"https://colab.research.google.com/github/GIT-REPO-JAGAN/PYTHON-GOOGLE-COLOB/blob/main/C_11Python_Dictionary.ipynb\" target=\"_parent\"><img src=\"https://colab.research.google.com/assets/colab-badge.svg\" alt=\"Open In Colab\"/></a>"
      ]
    },
    {
      "cell_type": "markdown",
      "source": [
        "####Dictionary\n",
        "comma separated key-value pairs enclosed within {}\n",
        "\n",
        "Unordered\n",
        "\n",
        "no indexing\n",
        "\n",
        "Mutable\n",
        "\n",
        "Mutable objects are NOT allowed as keys\n",
        "\n",
        "Keys cannot be duplicate\n",
        "\n",
        "Values can be anything (can be duplicate and can be any datatype)"
      ],
      "metadata": {
        "id": "2BWSG9lPCUUJ"
      },
      "id": "2BWSG9lPCUUJ"
    },
    {
      "cell_type": "code",
      "execution_count": 2,
      "id": "ef86fd22",
      "metadata": {
        "id": "ef86fd22"
      },
      "outputs": [],
      "source": [
        "d1 = {'id': 101, 'name': 'John', 'percent': 87.5}"
      ]
    },
    {
      "cell_type": "code",
      "execution_count": 3,
      "id": "499f726e",
      "metadata": {
        "id": "499f726e",
        "outputId": "29f69049-965d-4f08-a3d3-e45a7be1ca84",
        "colab": {
          "base_uri": "https://localhost:8080/"
        }
      },
      "outputs": [
        {
          "output_type": "execute_result",
          "data": {
            "text/plain": [
              "dict"
            ]
          },
          "metadata": {},
          "execution_count": 3
        }
      ],
      "source": [
        "type(d1)"
      ]
    },
    {
      "cell_type": "code",
      "execution_count": 4,
      "id": "6e95c6cc",
      "metadata": {
        "id": "6e95c6cc",
        "outputId": "db881674-48ad-40eb-db8c-a6d40ac643ad",
        "colab": {
          "base_uri": "https://localhost:8080/"
        }
      },
      "outputs": [
        {
          "output_type": "execute_result",
          "data": {
            "text/plain": [
              "{'id': 101, 'name': 'John', 'percent': 87.5}"
            ]
          },
          "metadata": {},
          "execution_count": 4
        }
      ],
      "source": [
        "d1"
      ]
    },
    {
      "cell_type": "code",
      "execution_count": 5,
      "id": "00ca8671",
      "metadata": {
        "id": "00ca8671",
        "outputId": "72e0596a-8791-4ed6-f6e9-d718e774f746",
        "colab": {
          "base_uri": "https://localhost:8080/"
        }
      },
      "outputs": [
        {
          "output_type": "execute_result",
          "data": {
            "text/plain": [
              "101"
            ]
          },
          "metadata": {},
          "execution_count": 5
        }
      ],
      "source": [
        "d1['id']"
      ]
    },
    {
      "cell_type": "code",
      "execution_count": 6,
      "id": "b26e8b82",
      "metadata": {
        "id": "b26e8b82"
      },
      "outputs": [],
      "source": [
        "d1['id'] = 102"
      ]
    },
    {
      "cell_type": "code",
      "execution_count": 7,
      "id": "596d0399",
      "metadata": {
        "id": "596d0399",
        "outputId": "1f369f61-0ee6-425f-e608-ea94ebef2776",
        "colab": {
          "base_uri": "https://localhost:8080/"
        }
      },
      "outputs": [
        {
          "output_type": "execute_result",
          "data": {
            "text/plain": [
              "{'id': 102, 'name': 'John', 'percent': 87.5}"
            ]
          },
          "metadata": {},
          "execution_count": 7
        }
      ],
      "source": [
        "d1"
      ]
    },
    {
      "cell_type": "code",
      "execution_count": 8,
      "id": "9774fc6e",
      "metadata": {
        "id": "9774fc6e",
        "outputId": "d620db89-db50-4972-d17e-74799276fdd3",
        "colab": {
          "base_uri": "https://localhost:8080/",
          "height": 171
        }
      },
      "outputs": [
        {
          "output_type": "error",
          "ename": "KeyError",
          "evalue": "ignored",
          "traceback": [
            "\u001b[0;31m---------------------------------------------------------------------------\u001b[0m",
            "\u001b[0;31mKeyError\u001b[0m                                  Traceback (most recent call last)",
            "\u001b[0;32m<ipython-input-8-f64ff61913e8>\u001b[0m in \u001b[0;36m<cell line: 1>\u001b[0;34m()\u001b[0m\n\u001b[0;32m----> 1\u001b[0;31m \u001b[0md1\u001b[0m\u001b[0;34m[\u001b[0m\u001b[0;36m0\u001b[0m\u001b[0;34m]\u001b[0m\u001b[0;34m\u001b[0m\u001b[0;34m\u001b[0m\u001b[0m\n\u001b[0m",
            "\u001b[0;31mKeyError\u001b[0m: 0"
          ]
        }
      ],
      "source": [
        "d1[0] # Indexing is not possible"
      ]
    },
    {
      "cell_type": "code",
      "execution_count": 9,
      "id": "37a8e208",
      "metadata": {
        "id": "37a8e208",
        "outputId": "83246c98-dcb9-41c6-83fe-88990bee8253",
        "colab": {
          "base_uri": "https://localhost:8080/",
          "height": 171
        }
      },
      "outputs": [
        {
          "output_type": "error",
          "ename": "TypeError",
          "evalue": "ignored",
          "traceback": [
            "\u001b[0;31m---------------------------------------------------------------------------\u001b[0m",
            "\u001b[0;31mTypeError\u001b[0m                                 Traceback (most recent call last)",
            "\u001b[0;32m<ipython-input-9-6d8ca4267920>\u001b[0m in \u001b[0;36m<cell line: 1>\u001b[0;34m()\u001b[0m\n\u001b[0;32m----> 1\u001b[0;31m \u001b[0md2\u001b[0m \u001b[0;34m=\u001b[0m \u001b[0;34m{\u001b[0m\u001b[0;34m[\u001b[0m\u001b[0;36m1\u001b[0m\u001b[0;34m,\u001b[0m\u001b[0;36m2\u001b[0m\u001b[0;34m,\u001b[0m\u001b[0;36m3\u001b[0m\u001b[0;34m]\u001b[0m\u001b[0;34m:\u001b[0m \u001b[0;36m6\u001b[0m\u001b[0;34m}\u001b[0m\u001b[0;34m\u001b[0m\u001b[0;34m\u001b[0m\u001b[0m\n\u001b[0m",
            "\u001b[0;31mTypeError\u001b[0m: unhashable type: 'list'"
          ]
        }
      ],
      "source": [
        "d2 = {[1,2,3]: 6}"
      ]
    },
    {
      "cell_type": "code",
      "execution_count": 10,
      "id": "45080798",
      "metadata": {
        "id": "45080798",
        "outputId": "52b641e4-f7b1-4ca0-dca0-42bad7ec96b0",
        "colab": {
          "base_uri": "https://localhost:8080/",
          "height": 171
        }
      },
      "outputs": [
        {
          "output_type": "error",
          "ename": "TypeError",
          "evalue": "ignored",
          "traceback": [
            "\u001b[0;31m---------------------------------------------------------------------------\u001b[0m",
            "\u001b[0;31mTypeError\u001b[0m                                 Traceback (most recent call last)",
            "\u001b[0;32m<ipython-input-10-37f64941cb96>\u001b[0m in \u001b[0;36m<cell line: 1>\u001b[0;34m()\u001b[0m\n\u001b[0;32m----> 1\u001b[0;31m \u001b[0md2\u001b[0m \u001b[0;34m=\u001b[0m \u001b[0;34m{\u001b[0m\u001b[0;34m{\u001b[0m\u001b[0;36m1\u001b[0m\u001b[0;34m,\u001b[0m\u001b[0;36m2\u001b[0m\u001b[0;34m,\u001b[0m\u001b[0;36m3\u001b[0m\u001b[0;34m}\u001b[0m\u001b[0;34m:\u001b[0m \u001b[0;36m6\u001b[0m\u001b[0;34m}\u001b[0m\u001b[0;34m\u001b[0m\u001b[0;34m\u001b[0m\u001b[0m\n\u001b[0m",
            "\u001b[0;31mTypeError\u001b[0m: unhashable type: 'set'"
          ]
        }
      ],
      "source": [
        "d2 = {{1,2,3}: 6}"
      ]
    },
    {
      "cell_type": "code",
      "execution_count": 11,
      "id": "0e70334c",
      "metadata": {
        "id": "0e70334c",
        "outputId": "21840bb9-d7d4-45d0-ccc8-d1680fa6ea85",
        "colab": {
          "base_uri": "https://localhost:8080/",
          "height": 171
        }
      },
      "outputs": [
        {
          "output_type": "error",
          "ename": "TypeError",
          "evalue": "ignored",
          "traceback": [
            "\u001b[0;31m---------------------------------------------------------------------------\u001b[0m",
            "\u001b[0;31mTypeError\u001b[0m                                 Traceback (most recent call last)",
            "\u001b[0;32m<ipython-input-11-1c33152fea6b>\u001b[0m in \u001b[0;36m<cell line: 1>\u001b[0;34m()\u001b[0m\n\u001b[0;32m----> 1\u001b[0;31m \u001b[0md2\u001b[0m \u001b[0;34m=\u001b[0m \u001b[0;34m{\u001b[0m\u001b[0;34m{\u001b[0m\u001b[0;34m'a'\u001b[0m\u001b[0;34m:\u001b[0m\u001b[0;36m1\u001b[0m\u001b[0;34m,\u001b[0m \u001b[0;34m'b'\u001b[0m\u001b[0;34m:\u001b[0m\u001b[0;36m2\u001b[0m\u001b[0;34m}\u001b[0m\u001b[0;34m:\u001b[0m \u001b[0;36m100\u001b[0m\u001b[0;34m}\u001b[0m\u001b[0;34m\u001b[0m\u001b[0;34m\u001b[0m\u001b[0m\n\u001b[0m",
            "\u001b[0;31mTypeError\u001b[0m: unhashable type: 'dict'"
          ]
        }
      ],
      "source": [
        "d2 = {{'a':1, 'b':2}: 100}"
      ]
    },
    {
      "cell_type": "code",
      "execution_count": 12,
      "id": "bf87a415",
      "metadata": {
        "id": "bf87a415"
      },
      "outputs": [],
      "source": [
        "d2 = {(1,2,3): 6} # Key as a tupple works"
      ]
    },
    {
      "cell_type": "code",
      "execution_count": 13,
      "id": "8857d314",
      "metadata": {
        "id": "8857d314",
        "outputId": "2316dd82-3ee9-4669-eb9a-e85b8ae3ea6a",
        "colab": {
          "base_uri": "https://localhost:8080/"
        }
      },
      "outputs": [
        {
          "output_type": "execute_result",
          "data": {
            "text/plain": [
              "{(1, 2, 3): 6}"
            ]
          },
          "metadata": {},
          "execution_count": 13
        }
      ],
      "source": [
        "d2"
      ]
    },
    {
      "cell_type": "code",
      "execution_count": 14,
      "id": "098b1c71",
      "metadata": {
        "id": "098b1c71"
      },
      "outputs": [],
      "source": [
        "d3 = {'a': 1, 'b': 2, 'c': 3, 'b': 4}"
      ]
    },
    {
      "cell_type": "code",
      "execution_count": 15,
      "id": "3affeaac",
      "metadata": {
        "id": "3affeaac",
        "outputId": "2c259729-eabe-4f6f-e98f-9ad3592e94bf",
        "colab": {
          "base_uri": "https://localhost:8080/"
        }
      },
      "outputs": [
        {
          "output_type": "execute_result",
          "data": {
            "text/plain": [
              "{'a': 1, 'b': 4, 'c': 3}"
            ]
          },
          "metadata": {},
          "execution_count": 15
        }
      ],
      "source": [
        "d3"
      ]
    },
    {
      "cell_type": "code",
      "execution_count": 16,
      "id": "cc9f5f14",
      "metadata": {
        "id": "cc9f5f14"
      },
      "outputs": [],
      "source": [
        "student1 = {'id':101, 'name':'John', 'marks':{'sub1':67.5, 'sub2': 88.0, 'sub3': 71.5}}"
      ]
    },
    {
      "cell_type": "code",
      "execution_count": 17,
      "id": "8d72ab6b",
      "metadata": {
        "id": "8d72ab6b",
        "outputId": "5bdd7b45-a149-4101-80e8-8b58672531eb",
        "colab": {
          "base_uri": "https://localhost:8080/"
        }
      },
      "outputs": [
        {
          "output_type": "execute_result",
          "data": {
            "text/plain": [
              "{'id': 101,\n",
              " 'name': 'John',\n",
              " 'marks': {'sub1': 67.5, 'sub2': 88.0, 'sub3': 71.5}}"
            ]
          },
          "metadata": {},
          "execution_count": 17
        }
      ],
      "source": [
        "student1"
      ]
    },
    {
      "cell_type": "code",
      "execution_count": 18,
      "id": "314447b9",
      "metadata": {
        "id": "314447b9",
        "outputId": "6089ede0-18f6-4a22-8915-07264d036d32",
        "colab": {
          "base_uri": "https://localhost:8080/"
        }
      },
      "outputs": [
        {
          "output_type": "stream",
          "name": "stdout",
          "text": [
            "{'id': 101, 'name': 'John', 'marks': {'sub1': 67.5, 'sub2': 88.0, 'sub3': 71.5}}\n"
          ]
        }
      ],
      "source": [
        "print(student1)"
      ]
    },
    {
      "cell_type": "code",
      "execution_count": 19,
      "id": "6ea46595",
      "metadata": {
        "id": "6ea46595",
        "outputId": "1df28603-6c5b-45ef-af52-9169efa2456a",
        "colab": {
          "base_uri": "https://localhost:8080/"
        }
      },
      "outputs": [
        {
          "output_type": "execute_result",
          "data": {
            "text/plain": [
              "88.0"
            ]
          },
          "metadata": {},
          "execution_count": 19
        }
      ],
      "source": [
        "student1['marks']['sub2']"
      ]
    },
    {
      "cell_type": "code",
      "execution_count": 20,
      "id": "85c402d5",
      "metadata": {
        "id": "85c402d5",
        "outputId": "8f3cd767-2b0e-41cc-e418-82014032f6d3",
        "colab": {
          "base_uri": "https://localhost:8080/"
        }
      },
      "outputs": [
        {
          "output_type": "execute_result",
          "data": {
            "text/plain": [
              "{'sub1': 67.5, 'sub2': 88.0, 'sub3': 71.5}"
            ]
          },
          "metadata": {},
          "execution_count": 20
        }
      ],
      "source": [
        "student1['marks']"
      ]
    },
    {
      "cell_type": "code",
      "execution_count": 21,
      "id": "dfd632dd",
      "metadata": {
        "id": "dfd632dd"
      },
      "outputs": [],
      "source": [
        "marks = student1['marks'].values()"
      ]
    },
    {
      "cell_type": "code",
      "execution_count": 22,
      "id": "edb7c7bc",
      "metadata": {
        "id": "edb7c7bc",
        "outputId": "d1884f2c-0e09-4205-e98d-a46296b3a574",
        "colab": {
          "base_uri": "https://localhost:8080/"
        }
      },
      "outputs": [
        {
          "output_type": "execute_result",
          "data": {
            "text/plain": [
              "dict_values([67.5, 88.0, 71.5])"
            ]
          },
          "metadata": {},
          "execution_count": 22
        }
      ],
      "source": [
        "marks"
      ]
    },
    {
      "cell_type": "code",
      "execution_count": 25,
      "id": "26313cc2",
      "metadata": {
        "id": "26313cc2",
        "outputId": "3fa30c36-eec5-4e6b-82b2-da6651f1d5e5",
        "colab": {
          "base_uri": "https://localhost:8080/"
        }
      },
      "outputs": [
        {
          "output_type": "stream",
          "name": "stdout",
          "text": [
            "227.0\n"
          ]
        }
      ],
      "source": [
        "total_marks_obtained = 0 #Total mark = value of sub1+sub2+sub3\n",
        "\n",
        "for m in marks:\n",
        "    total_marks_obtained += m\n",
        "\n",
        "print(total_marks_obtained)"
      ]
    },
    {
      "cell_type": "markdown",
      "source": [
        "#### Calculate Average"
      ],
      "metadata": {
        "id": "zGeYzq71FkOU"
      },
      "id": "zGeYzq71FkOU"
    },
    {
      "cell_type": "code",
      "execution_count": 26,
      "id": "447691c6",
      "metadata": {
        "id": "447691c6",
        "outputId": "297f8a49-5b8f-4f74-9cfd-fc3657b79f2b",
        "colab": {
          "base_uri": "https://localhost:8080/"
        }
      },
      "outputs": [
        {
          "output_type": "execute_result",
          "data": {
            "text/plain": [
              "75.66666666666667"
            ]
          },
          "metadata": {},
          "execution_count": 26
        }
      ],
      "source": [
        "total_marks_obtained/len(marks)  # Average = Total mark /300 * 100  (OR) Average = Total mark / len(marks)"
      ]
    },
    {
      "cell_type": "code",
      "execution_count": 29,
      "id": "7ddbf44a",
      "metadata": {
        "id": "7ddbf44a",
        "outputId": "06314f77-194c-4403-e262-c2e1688e37e2",
        "colab": {
          "base_uri": "https://localhost:8080/"
        }
      },
      "outputs": [
        {
          "output_type": "execute_result",
          "data": {
            "text/plain": [
              "75.66666666666667"
            ]
          },
          "metadata": {},
          "execution_count": 29
        }
      ],
      "source": [
        "sum(marks) / len(marks)  # Easy way to calculate"
      ]
    },
    {
      "cell_type": "code",
      "execution_count": 28,
      "id": "15c81de3",
      "metadata": {
        "id": "15c81de3",
        "outputId": "9ff5ba15-da26-4d98-fab6-7247c190e05c",
        "colab": {
          "base_uri": "https://localhost:8080/"
        }
      },
      "outputs": [
        {
          "output_type": "execute_result",
          "data": {
            "text/plain": [
              "dict_keys(['id', 'name', 'marks'])"
            ]
          },
          "metadata": {},
          "execution_count": 28
        }
      ],
      "source": [
        "student1.keys()"
      ]
    },
    {
      "cell_type": "code",
      "execution_count": null,
      "id": "4a487ea4",
      "metadata": {
        "id": "4a487ea4",
        "outputId": "57a3cf68-b713-4a8f-cd78-62644943c684"
      },
      "outputs": [
        {
          "data": {
            "text/plain": [
              "dict_items([('id', 101), ('name', 'John'), ('marks', {'sub1': 67.5, 'sub2': 88.0, 'sub3': 71.5})])"
            ]
          },
          "execution_count": 30,
          "metadata": {},
          "output_type": "execute_result"
        }
      ],
      "source": [
        "student1.items()"
      ]
    },
    {
      "cell_type": "code",
      "execution_count": 30,
      "id": "3e356d73",
      "metadata": {
        "id": "3e356d73",
        "outputId": "ca9fee31-707d-4029-ca2f-16fc267ae6dc",
        "colab": {
          "base_uri": "https://localhost:8080/"
        }
      },
      "outputs": [
        {
          "output_type": "execute_result",
          "data": {
            "text/plain": [
              "dict_items([('sub1', 67.5), ('sub2', 88.0), ('sub3', 71.5)])"
            ]
          },
          "metadata": {},
          "execution_count": 30
        }
      ],
      "source": [
        "student1['marks'].items()"
      ]
    },
    {
      "cell_type": "code",
      "execution_count": 31,
      "id": "df56a475",
      "metadata": {
        "id": "df56a475",
        "outputId": "e3e2cab7-c3f2-4560-f1d7-9489c34ad979",
        "colab": {
          "base_uri": "https://localhost:8080/"
        }
      },
      "outputs": [
        {
          "output_type": "stream",
          "name": "stdout",
          "text": [
            "('sub1', 67.5)\n",
            "('sub2', 88.0)\n",
            "('sub3', 71.5)\n"
          ]
        }
      ],
      "source": [
        "for i in student1['marks'].items():\n",
        "    print(i)"
      ]
    },
    {
      "cell_type": "code",
      "execution_count": 32,
      "id": "8fa32519",
      "metadata": {
        "id": "8fa32519",
        "outputId": "839e9df5-6c22-4162-a554-a87067ba6f0d",
        "colab": {
          "base_uri": "https://localhost:8080/"
        }
      },
      "outputs": [
        {
          "output_type": "stream",
          "name": "stdout",
          "text": [
            "Sub sub1: 67.5\n",
            "Sub sub2: 88.0\n",
            "Sub sub3: 71.5\n"
          ]
        }
      ],
      "source": [
        "for sub, mark in student1['marks'].items():\n",
        "    print(f\"Sub {sub}: {mark}\")"
      ]
    },
    {
      "cell_type": "markdown",
      "source": [
        "#### Update"
      ],
      "metadata": {
        "id": "9GwNxf4cFtL0"
      },
      "id": "9GwNxf4cFtL0"
    },
    {
      "cell_type": "code",
      "execution_count": 33,
      "id": "7a4bcae4",
      "metadata": {
        "id": "7a4bcae4",
        "outputId": "af51380d-ba0d-41c2-a9ba-2996d0867cb7",
        "colab": {
          "base_uri": "https://localhost:8080/"
        }
      },
      "outputs": [
        {
          "output_type": "execute_result",
          "data": {
            "text/plain": [
              "{'id': 102, 'name': 'John', 'percent': 87.5}"
            ]
          },
          "metadata": {},
          "execution_count": 33
        }
      ],
      "source": [
        "d1"
      ]
    },
    {
      "cell_type": "code",
      "execution_count": 34,
      "id": "989b3e85",
      "metadata": {
        "id": "989b3e85"
      },
      "outputs": [],
      "source": [
        "d1.update({'percent': 90.5, 'grade': 'A'}) # Modified & added"
      ]
    },
    {
      "cell_type": "code",
      "execution_count": 35,
      "id": "bce08fb2",
      "metadata": {
        "id": "bce08fb2",
        "outputId": "08101ff4-e347-4f6c-c882-819ff9469058",
        "colab": {
          "base_uri": "https://localhost:8080/"
        }
      },
      "outputs": [
        {
          "output_type": "execute_result",
          "data": {
            "text/plain": [
              "{'id': 102, 'name': 'John', 'percent': 90.5, 'grade': 'A'}"
            ]
          },
          "metadata": {},
          "execution_count": 35
        }
      ],
      "source": [
        "d1"
      ]
    },
    {
      "cell_type": "code",
      "execution_count": 36,
      "id": "389b118a",
      "metadata": {
        "id": "389b118a"
      },
      "outputs": [],
      "source": [
        "d1['percent'] = 91.0"
      ]
    },
    {
      "cell_type": "code",
      "execution_count": 37,
      "id": "70be6996",
      "metadata": {
        "id": "70be6996",
        "outputId": "53a61291-6a7d-4504-d1eb-4800a52e88a2",
        "colab": {
          "base_uri": "https://localhost:8080/"
        }
      },
      "outputs": [
        {
          "output_type": "execute_result",
          "data": {
            "text/plain": [
              "{'id': 102, 'name': 'John', 'percent': 91.0, 'grade': 'A'}"
            ]
          },
          "metadata": {},
          "execution_count": 37
        }
      ],
      "source": [
        "d1"
      ]
    },
    {
      "cell_type": "code",
      "execution_count": 38,
      "id": "9c3d09cf",
      "metadata": {
        "id": "9c3d09cf",
        "outputId": "c631f191-5444-48d4-fabf-00522925b7eb",
        "colab": {
          "base_uri": "https://localhost:8080/",
          "height": 171
        }
      },
      "outputs": [
        {
          "output_type": "error",
          "ename": "KeyError",
          "evalue": "ignored",
          "traceback": [
            "\u001b[0;31m---------------------------------------------------------------------------\u001b[0m",
            "\u001b[0;31mKeyError\u001b[0m                                  Traceback (most recent call last)",
            "\u001b[0;32m<ipython-input-38-739693ebb6bf>\u001b[0m in \u001b[0;36m<cell line: 1>\u001b[0;34m()\u001b[0m\n\u001b[0;32m----> 1\u001b[0;31m \u001b[0md1\u001b[0m\u001b[0;34m[\u001b[0m\u001b[0;34m'sports'\u001b[0m\u001b[0;34m]\u001b[0m \u001b[0;31m# Only Key value couldn't be added\u001b[0m\u001b[0;34m\u001b[0m\u001b[0;34m\u001b[0m\u001b[0m\n\u001b[0m",
            "\u001b[0;31mKeyError\u001b[0m: 'sports'"
          ]
        }
      ],
      "source": [
        "d1['sports'] # Only Key value couldn't be added"
      ]
    },
    {
      "cell_type": "code",
      "execution_count": 39,
      "id": "c1e20b11",
      "metadata": {
        "id": "c1e20b11"
      },
      "outputs": [],
      "source": [
        "d1['sports'] = True"
      ]
    },
    {
      "cell_type": "markdown",
      "source": [
        "#### pop"
      ],
      "metadata": {
        "id": "NS3fHvIqF1_3"
      },
      "id": "NS3fHvIqF1_3"
    },
    {
      "cell_type": "code",
      "execution_count": 40,
      "id": "74a5c2d3",
      "metadata": {
        "id": "74a5c2d3",
        "outputId": "58002358-bcd9-44a9-b3f1-8912212cde2d",
        "colab": {
          "base_uri": "https://localhost:8080/"
        }
      },
      "outputs": [
        {
          "output_type": "execute_result",
          "data": {
            "text/plain": [
              "{'id': 102, 'name': 'John', 'percent': 91.0, 'grade': 'A', 'sports': True}"
            ]
          },
          "metadata": {},
          "execution_count": 40
        }
      ],
      "source": [
        "d1"
      ]
    },
    {
      "cell_type": "code",
      "execution_count": 41,
      "id": "8703aa1c",
      "metadata": {
        "id": "8703aa1c",
        "outputId": "2dfb0052-3f0a-4bdc-8aa2-5d69f93f0cf8",
        "colab": {
          "base_uri": "https://localhost:8080/",
          "height": 36
        }
      },
      "outputs": [
        {
          "output_type": "execute_result",
          "data": {
            "text/plain": [
              "'A'"
            ],
            "application/vnd.google.colaboratory.intrinsic+json": {
              "type": "string"
            }
          },
          "metadata": {},
          "execution_count": 41
        }
      ],
      "source": [
        "d1.pop('grade') # Print the value of key and remove the key : value pair"
      ]
    },
    {
      "cell_type": "code",
      "execution_count": 42,
      "id": "3f355036",
      "metadata": {
        "id": "3f355036",
        "outputId": "d8a11f3e-957f-4566-8561-e3854880280e",
        "colab": {
          "base_uri": "https://localhost:8080/"
        }
      },
      "outputs": [
        {
          "output_type": "execute_result",
          "data": {
            "text/plain": [
              "{'id': 102, 'name': 'John', 'percent': 91.0, 'sports': True}"
            ]
          },
          "metadata": {},
          "execution_count": 42
        }
      ],
      "source": [
        "d1"
      ]
    },
    {
      "cell_type": "code",
      "execution_count": 43,
      "id": "5d2af569",
      "metadata": {
        "id": "5d2af569",
        "outputId": "4da57411-6f22-4dc3-d9cc-ed4886dd9916",
        "colab": {
          "base_uri": "https://localhost:8080/",
          "height": 171
        }
      },
      "outputs": [
        {
          "output_type": "error",
          "ename": "TypeError",
          "evalue": "ignored",
          "traceback": [
            "\u001b[0;31m---------------------------------------------------------------------------\u001b[0m",
            "\u001b[0;31mTypeError\u001b[0m                                 Traceback (most recent call last)",
            "\u001b[0;32m<ipython-input-43-fba20c9e8f6a>\u001b[0m in \u001b[0;36m<cell line: 1>\u001b[0;34m()\u001b[0m\n\u001b[0;32m----> 1\u001b[0;31m \u001b[0md1\u001b[0m\u001b[0;34m.\u001b[0m\u001b[0mpop\u001b[0m\u001b[0;34m(\u001b[0m\u001b[0;34m)\u001b[0m\u001b[0;34m\u001b[0m\u001b[0;34m\u001b[0m\u001b[0m\n\u001b[0m",
            "\u001b[0;31mTypeError\u001b[0m: pop expected at least 1 argument, got 0"
          ]
        }
      ],
      "source": [
        "d1.pop() # Argument is needed"
      ]
    },
    {
      "cell_type": "markdown",
      "source": [
        "#### Clear"
      ],
      "metadata": {
        "id": "Z1Rts4IuF5rC"
      },
      "id": "Z1Rts4IuF5rC"
    },
    {
      "cell_type": "code",
      "execution_count": 44,
      "id": "86271caf",
      "metadata": {
        "id": "86271caf"
      },
      "outputs": [],
      "source": [
        "d1.clear()  # it will clear everthing"
      ]
    },
    {
      "cell_type": "code",
      "execution_count": null,
      "id": "b18ea807",
      "metadata": {
        "id": "b18ea807",
        "outputId": "d31e10bd-66c8-4baa-9dc6-19fcf0f169c2"
      },
      "outputs": [
        {
          "data": {
            "text/plain": [
              "{}"
            ]
          },
          "execution_count": 47,
          "metadata": {},
          "output_type": "execute_result"
        }
      ],
      "source": [
        "d1"
      ]
    },
    {
      "cell_type": "code",
      "execution_count": 45,
      "id": "bf2ac66c",
      "metadata": {
        "id": "bf2ac66c",
        "outputId": "5ee8e41d-6b8a-4b55-840b-17f6052f668a",
        "colab": {
          "base_uri": "https://localhost:8080/"
        }
      },
      "outputs": [
        {
          "output_type": "execute_result",
          "data": {
            "text/plain": [
              "{'id': 101,\n",
              " 'name': 'John',\n",
              " 'marks': {'sub1': 67.5, 'sub2': 88.0, 'sub3': 71.5}}"
            ]
          },
          "metadata": {},
          "execution_count": 45
        }
      ],
      "source": [
        "student1"
      ]
    },
    {
      "cell_type": "markdown",
      "source": [
        "####.Get"
      ],
      "metadata": {
        "id": "ocolL8VGGCrE"
      },
      "id": "ocolL8VGGCrE"
    },
    {
      "cell_type": "code",
      "execution_count": 46,
      "id": "50d19707",
      "metadata": {
        "id": "50d19707",
        "outputId": "8eaf304a-d1bf-4d9f-85cc-776960b8e45b",
        "colab": {
          "base_uri": "https://localhost:8080/"
        }
      },
      "outputs": [
        {
          "output_type": "execute_result",
          "data": {
            "text/plain": [
              "101"
            ]
          },
          "metadata": {},
          "execution_count": 46
        }
      ],
      "source": [
        "student1['id']"
      ]
    },
    {
      "cell_type": "code",
      "execution_count": 47,
      "id": "c7f76ca7",
      "metadata": {
        "id": "c7f76ca7",
        "outputId": "32b006a2-6807-4334-9bb7-7e4011a9475d",
        "colab": {
          "base_uri": "https://localhost:8080/"
        }
      },
      "outputs": [
        {
          "output_type": "execute_result",
          "data": {
            "text/plain": [
              "101"
            ]
          },
          "metadata": {},
          "execution_count": 47
        }
      ],
      "source": [
        "student1.get('id')"
      ]
    },
    {
      "cell_type": "code",
      "execution_count": 48,
      "id": "808fb791",
      "metadata": {
        "id": "808fb791",
        "outputId": "9f1f75cd-5120-4ab6-a19d-d87037eef852",
        "colab": {
          "base_uri": "https://localhost:8080/",
          "height": 36
        }
      },
      "outputs": [
        {
          "output_type": "execute_result",
          "data": {
            "text/plain": [
              "'John'"
            ],
            "application/vnd.google.colaboratory.intrinsic+json": {
              "type": "string"
            }
          },
          "metadata": {},
          "execution_count": 48
        }
      ],
      "source": [
        "student1.get('name')"
      ]
    },
    {
      "cell_type": "code",
      "execution_count": 49,
      "id": "4f15a1c3",
      "metadata": {
        "id": "4f15a1c3",
        "outputId": "992dbe1b-061c-4bc0-cc6f-de68bbb8f889",
        "colab": {
          "base_uri": "https://localhost:8080/"
        }
      },
      "outputs": [
        {
          "output_type": "execute_result",
          "data": {
            "text/plain": [
              "{'sub1': 67.5, 'sub2': 88.0, 'sub3': 71.5}"
            ]
          },
          "metadata": {},
          "execution_count": 49
        }
      ],
      "source": [
        "student1.get('marks')"
      ]
    },
    {
      "cell_type": "code",
      "execution_count": 50,
      "id": "927390f5",
      "metadata": {
        "id": "927390f5"
      },
      "outputs": [],
      "source": [
        "student1.get(101)"
      ]
    },
    {
      "cell_type": "code",
      "execution_count": 51,
      "id": "d833143c",
      "metadata": {
        "id": "d833143c",
        "outputId": "9d0e665d-91ac-4cbb-da9d-1b4ebc8c1ae7",
        "colab": {
          "base_uri": "https://localhost:8080/",
          "height": 171
        }
      },
      "outputs": [
        {
          "output_type": "error",
          "ename": "KeyError",
          "evalue": "ignored",
          "traceback": [
            "\u001b[0;31m---------------------------------------------------------------------------\u001b[0m",
            "\u001b[0;31mKeyError\u001b[0m                                  Traceback (most recent call last)",
            "\u001b[0;32m<ipython-input-51-196c44b23156>\u001b[0m in \u001b[0;36m<cell line: 1>\u001b[0;34m()\u001b[0m\n\u001b[0;32m----> 1\u001b[0;31m \u001b[0mstudent1\u001b[0m\u001b[0;34m[\u001b[0m\u001b[0;36m101\u001b[0m\u001b[0;34m]\u001b[0m\u001b[0;34m\u001b[0m\u001b[0;34m\u001b[0m\u001b[0m\n\u001b[0m",
            "\u001b[0;31mKeyError\u001b[0m: 101"
          ]
        }
      ],
      "source": [
        "student1[101]"
      ]
    },
    {
      "cell_type": "code",
      "execution_count": 52,
      "id": "7c4d7fcc",
      "metadata": {
        "id": "7c4d7fcc",
        "outputId": "c7d0772d-3377-49c1-e501-0d3614e6c0db",
        "colab": {
          "base_uri": "https://localhost:8080/",
          "height": 171
        }
      },
      "outputs": [
        {
          "output_type": "error",
          "ename": "KeyError",
          "evalue": "ignored",
          "traceback": [
            "\u001b[0;31m---------------------------------------------------------------------------\u001b[0m",
            "\u001b[0;31mKeyError\u001b[0m                                  Traceback (most recent call last)",
            "\u001b[0;32m<ipython-input-52-5c8eb48beacd>\u001b[0m in \u001b[0;36m<cell line: 1>\u001b[0;34m()\u001b[0m\n\u001b[0;32m----> 1\u001b[0;31m \u001b[0mstudent1\u001b[0m\u001b[0;34m[\u001b[0m\u001b[0;34m'grade'\u001b[0m\u001b[0;34m]\u001b[0m\u001b[0;34m\u001b[0m\u001b[0;34m\u001b[0m\u001b[0m\n\u001b[0m",
            "\u001b[0;31mKeyError\u001b[0m: 'grade'"
          ]
        }
      ],
      "source": [
        "student1['grade']"
      ]
    },
    {
      "cell_type": "code",
      "execution_count": 53,
      "id": "779149de",
      "metadata": {
        "id": "779149de"
      },
      "outputs": [],
      "source": [
        "student1.get('grade') # .get reports nothing as it prints none value"
      ]
    },
    {
      "cell_type": "code",
      "execution_count": 54,
      "id": "2af602f4",
      "metadata": {
        "id": "2af602f4",
        "outputId": "e2124a09-71bd-47c9-c441-4f0aed9782c3",
        "colab": {
          "base_uri": "https://localhost:8080/"
        }
      },
      "outputs": [
        {
          "output_type": "stream",
          "name": "stdout",
          "text": [
            "None\n"
          ]
        }
      ],
      "source": [
        "print(student1.get('grade'))"
      ]
    },
    {
      "cell_type": "code",
      "execution_count": null,
      "id": "30c0dd88",
      "metadata": {
        "id": "30c0dd88",
        "outputId": "118b7e96-2c4f-4fb7-d710-7f89a8a99d10"
      },
      "outputs": [
        {
          "data": {
            "text/plain": [
              "'NA'"
            ]
          },
          "execution_count": 59,
          "metadata": {},
          "output_type": "execute_result"
        }
      ],
      "source": [
        "student1.get('grade', 'NA') # .get reports nothing as it suppose to prints none value in this case its prints default value as it has"
      ]
    },
    {
      "cell_type": "code",
      "execution_count": 55,
      "id": "1722817a",
      "metadata": {
        "id": "1722817a",
        "outputId": "5d5c1fe2-8fbb-46fb-c135-1aaafc04139a",
        "colab": {
          "base_uri": "https://localhost:8080/"
        }
      },
      "outputs": [
        {
          "output_type": "stream",
          "name": "stdout",
          "text": [
            "Help on built-in function get:\n",
            "\n",
            "get(key, default=None, /) method of builtins.dict instance\n",
            "    Return the value for key if key is in the dictionary, else default.\n",
            "\n"
          ]
        }
      ],
      "source": [
        "help(student1.get)"
      ]
    },
    {
      "cell_type": "code",
      "execution_count": 56,
      "id": "f8255ee8",
      "metadata": {
        "id": "f8255ee8",
        "outputId": "1dfca14a-391e-480e-f7ee-f9c6f5b26a93",
        "colab": {
          "base_uri": "https://localhost:8080/"
        }
      },
      "outputs": [
        {
          "output_type": "execute_result",
          "data": {
            "text/plain": [
              "{'id': 101,\n",
              " 'name': 'John',\n",
              " 'marks': {'sub1': 67.5, 'sub2': 88.0, 'sub3': 71.5}}"
            ]
          },
          "metadata": {},
          "execution_count": 56
        }
      ],
      "source": [
        "student1"
      ]
    },
    {
      "cell_type": "code",
      "execution_count": 57,
      "id": "e3764b35",
      "metadata": {
        "id": "e3764b35",
        "outputId": "9d7fb7c5-4219-4983-8f66-33dfabba466b",
        "colab": {
          "base_uri": "https://localhost:8080/"
        }
      },
      "outputs": [
        {
          "output_type": "execute_result",
          "data": {
            "text/plain": [
              "101"
            ]
          },
          "metadata": {},
          "execution_count": 57
        }
      ],
      "source": [
        "student1.get('id', 0)"
      ]
    },
    {
      "cell_type": "code",
      "execution_count": 58,
      "id": "a8fd8c2c",
      "metadata": {
        "id": "a8fd8c2c",
        "outputId": "12d4e19a-8511-4c44-ad07-f765ef5ab2ba",
        "colab": {
          "base_uri": "https://localhost:8080/",
          "height": 36
        }
      },
      "outputs": [
        {
          "output_type": "execute_result",
          "data": {
            "text/plain": [
              "'NA'"
            ],
            "application/vnd.google.colaboratory.intrinsic+json": {
              "type": "string"
            }
          },
          "metadata": {},
          "execution_count": 58
        }
      ],
      "source": [
        "student1.get('grade', 'NA')"
      ]
    },
    {
      "cell_type": "markdown",
      "source": [
        "#### Alias, Copy, Shallow Copy, Deep copy"
      ],
      "metadata": {
        "id": "rdzx0_vNGLIa"
      },
      "id": "rdzx0_vNGLIa"
    },
    {
      "cell_type": "code",
      "execution_count": 59,
      "id": "a97cb980",
      "metadata": {
        "id": "a97cb980",
        "outputId": "0c14f1c7-d1fb-4f4d-d8c9-a6d9417852a4",
        "colab": {
          "base_uri": "https://localhost:8080/"
        }
      },
      "outputs": [
        {
          "output_type": "stream",
          "name": "stdout",
          "text": [
            "{'id': 101, 'name': 'John', 'marks': {'sub1': 67.5, 'sub2': 88.0, 'sub3': 71.5}}\n"
          ]
        }
      ],
      "source": [
        "print(student1)"
      ]
    },
    {
      "cell_type": "code",
      "execution_count": 60,
      "id": "440dbafc",
      "metadata": {
        "id": "440dbafc",
        "outputId": "e29192d7-2462-4d41-e365-21a27cfd8719",
        "colab": {
          "base_uri": "https://localhost:8080/"
        }
      },
      "outputs": [
        {
          "output_type": "execute_result",
          "data": {
            "text/plain": [
              "140285484097024"
            ]
          },
          "metadata": {},
          "execution_count": 60
        }
      ],
      "source": [
        "id(student1)"
      ]
    },
    {
      "cell_type": "code",
      "execution_count": 61,
      "id": "b60e041f",
      "metadata": {
        "id": "b60e041f"
      },
      "outputs": [],
      "source": [
        "student2 = student1 # alias"
      ]
    },
    {
      "cell_type": "code",
      "execution_count": 62,
      "id": "f4525ca8",
      "metadata": {
        "id": "f4525ca8",
        "outputId": "b341e261-472a-4ca0-dff3-4956d07c8588",
        "colab": {
          "base_uri": "https://localhost:8080/"
        }
      },
      "outputs": [
        {
          "output_type": "stream",
          "name": "stdout",
          "text": [
            "{'id': 101, 'name': 'John', 'marks': {'sub1': 67.5, 'sub2': 88.0, 'sub3': 71.5}}\n"
          ]
        }
      ],
      "source": [
        "print(student2)"
      ]
    },
    {
      "cell_type": "code",
      "execution_count": 63,
      "id": "287594b1",
      "metadata": {
        "id": "287594b1",
        "outputId": "293e4fe9-90f5-49f2-fbda-3528e42f9b08",
        "colab": {
          "base_uri": "https://localhost:8080/"
        }
      },
      "outputs": [
        {
          "output_type": "execute_result",
          "data": {
            "text/plain": [
              "140285484097024"
            ]
          },
          "metadata": {},
          "execution_count": 63
        }
      ],
      "source": [
        "id(student2)"
      ]
    },
    {
      "cell_type": "code",
      "execution_count": null,
      "id": "8ae2e9c8",
      "metadata": {
        "id": "8ae2e9c8"
      },
      "outputs": [],
      "source": [
        "student3 = student1.copy() # clone OR shallow copy"
      ]
    },
    {
      "cell_type": "code",
      "execution_count": null,
      "id": "6e4e1528",
      "metadata": {
        "id": "6e4e1528",
        "outputId": "6abece45-2fda-4427-adb6-d808101109cd"
      },
      "outputs": [
        {
          "name": "stdout",
          "output_type": "stream",
          "text": [
            "{'id': 101, 'name': 'John', 'marks': {'sub1': 67.5, 'sub2': 88.0, 'sub3': 71.5}}\n"
          ]
        }
      ],
      "source": [
        "print(student3)"
      ]
    },
    {
      "cell_type": "code",
      "execution_count": null,
      "id": "e6e8dc6a",
      "metadata": {
        "id": "e6e8dc6a",
        "outputId": "a6b6caef-f14e-42cc-eca9-26cc6fe9f68b"
      },
      "outputs": [
        {
          "data": {
            "text/plain": [
              "1767708833728"
            ]
          },
          "execution_count": 74,
          "metadata": {},
          "output_type": "execute_result"
        }
      ],
      "source": [
        "id(student3)"
      ]
    },
    {
      "cell_type": "code",
      "execution_count": null,
      "id": "a52bb57d",
      "metadata": {
        "id": "a52bb57d"
      },
      "outputs": [],
      "source": [
        "student1['name'] = 'Jill'"
      ]
    },
    {
      "cell_type": "code",
      "execution_count": null,
      "id": "57dfe84e",
      "metadata": {
        "id": "57dfe84e",
        "outputId": "92eca0a0-7456-4ae6-aeec-58606b0d1101"
      },
      "outputs": [
        {
          "name": "stdout",
          "output_type": "stream",
          "text": [
            "{'id': 101, 'name': 'Jill', 'marks': {'sub1': 67.5, 'sub2': 88.0, 'sub3': 71.5}}\n"
          ]
        }
      ],
      "source": [
        "print(student1)"
      ]
    },
    {
      "cell_type": "code",
      "execution_count": null,
      "id": "d01a0627",
      "metadata": {
        "id": "d01a0627",
        "outputId": "663beb6a-ac91-4140-d55b-5467459d2a31"
      },
      "outputs": [
        {
          "name": "stdout",
          "output_type": "stream",
          "text": [
            "{'id': 101, 'name': 'Jill', 'marks': {'sub1': 67.5, 'sub2': 88.0, 'sub3': 71.5}}\n"
          ]
        }
      ],
      "source": [
        "print(student2)"
      ]
    },
    {
      "cell_type": "code",
      "execution_count": null,
      "id": "391f9e2d",
      "metadata": {
        "id": "391f9e2d",
        "outputId": "5b950c16-4caa-4a23-e675-fa4d412100e7"
      },
      "outputs": [
        {
          "name": "stdout",
          "output_type": "stream",
          "text": [
            "{'id': 101, 'name': 'John', 'marks': {'sub1': 67.5, 'sub2': 88.0, 'sub3': 71.5}}\n"
          ]
        }
      ],
      "source": [
        "print(student3)"
      ]
    },
    {
      "cell_type": "code",
      "execution_count": null,
      "id": "840d387b",
      "metadata": {
        "id": "840d387b"
      },
      "outputs": [],
      "source": [
        "student1['marks']['sub1'] = 75.5"
      ]
    },
    {
      "cell_type": "code",
      "execution_count": null,
      "id": "30ced7cc",
      "metadata": {
        "id": "30ced7cc",
        "outputId": "fa001765-0153-4400-86eb-38c61ad93e5b"
      },
      "outputs": [
        {
          "name": "stdout",
          "output_type": "stream",
          "text": [
            "{'id': 101, 'name': 'Jill', 'marks': {'sub1': 75.5, 'sub2': 88.0, 'sub3': 71.5}}\n"
          ]
        }
      ],
      "source": [
        "print(student1)"
      ]
    },
    {
      "cell_type": "code",
      "execution_count": null,
      "id": "7f3cc0dd",
      "metadata": {
        "id": "7f3cc0dd",
        "outputId": "e7b030aa-004e-46d6-9686-7a568353dbf2"
      },
      "outputs": [
        {
          "name": "stdout",
          "output_type": "stream",
          "text": [
            "{'id': 101, 'name': 'Jill', 'marks': {'sub1': 75.5, 'sub2': 88.0, 'sub3': 71.5}}\n"
          ]
        }
      ],
      "source": [
        "print(student2)"
      ]
    },
    {
      "cell_type": "code",
      "execution_count": null,
      "id": "682597d6",
      "metadata": {
        "id": "682597d6",
        "outputId": "5caac252-53ca-48a4-f055-9ac8cbbf43c1"
      },
      "outputs": [
        {
          "name": "stdout",
          "output_type": "stream",
          "text": [
            "{'id': 101, 'name': 'John', 'marks': {'sub1': 75.5, 'sub2': 88.0, 'sub3': 71.5}}\n"
          ]
        }
      ],
      "source": [
        "print(student3)"
      ]
    },
    {
      "cell_type": "code",
      "execution_count": null,
      "id": "9f450c76",
      "metadata": {
        "id": "9f450c76",
        "outputId": "d59fbcb3-d6c9-4300-93d0-7810fb18051f"
      },
      "outputs": [
        {
          "ename": "NameError",
          "evalue": "name 'copy' is not defined",
          "output_type": "error",
          "traceback": [
            "\u001b[1;31m---------------------------------------------------------------------------\u001b[0m",
            "\u001b[1;31mNameError\u001b[0m                                 Traceback (most recent call last)",
            "\u001b[1;32m~\\AppData\\Local\\Temp/ipykernel_4016/4265036163.py\u001b[0m in \u001b[0;36m<module>\u001b[1;34m\u001b[0m\n\u001b[1;32m----> 1\u001b[1;33m \u001b[0mstudent4\u001b[0m \u001b[1;33m=\u001b[0m \u001b[0mcopy\u001b[0m\u001b[1;33m.\u001b[0m\u001b[0mdeepcopy\u001b[0m\u001b[1;33m(\u001b[0m\u001b[0mstudent1\u001b[0m\u001b[1;33m)\u001b[0m\u001b[1;33m\u001b[0m\u001b[1;33m\u001b[0m\u001b[0m\n\u001b[0m",
            "\u001b[1;31mNameError\u001b[0m: name 'copy' is not defined"
          ]
        }
      ],
      "source": [
        "student4 = copy.deepcopy(student1)"
      ]
    },
    {
      "cell_type": "code",
      "execution_count": null,
      "id": "36977132",
      "metadata": {
        "id": "36977132"
      },
      "outputs": [],
      "source": [
        "import copy # Import copy is needed for Deep copy"
      ]
    },
    {
      "cell_type": "code",
      "execution_count": null,
      "id": "b6365ea0",
      "metadata": {
        "id": "b6365ea0"
      },
      "outputs": [],
      "source": [
        "student4 = copy.deepcopy(student1)"
      ]
    },
    {
      "cell_type": "code",
      "execution_count": null,
      "id": "89625ba5",
      "metadata": {
        "id": "89625ba5",
        "outputId": "17407b99-9b35-4d6c-8ca5-a57c4bac0f61"
      },
      "outputs": [
        {
          "name": "stdout",
          "output_type": "stream",
          "text": [
            "{'id': 101, 'name': 'Jill', 'marks': {'sub1': 75.5, 'sub2': 88.0, 'sub3': 71.5}}\n"
          ]
        }
      ],
      "source": [
        "print(student4)"
      ]
    },
    {
      "cell_type": "code",
      "execution_count": null,
      "id": "25107106",
      "metadata": {
        "id": "25107106"
      },
      "outputs": [],
      "source": [
        "student1['marks']['sub2'] = 88.5"
      ]
    },
    {
      "cell_type": "code",
      "execution_count": null,
      "id": "e28f4d75",
      "metadata": {
        "id": "e28f4d75",
        "outputId": "356ed219-9de6-4c80-f88a-b661988bdf98"
      },
      "outputs": [
        {
          "name": "stdout",
          "output_type": "stream",
          "text": [
            "{'id': 101, 'name': 'Jill', 'marks': {'sub1': 75.5, 'sub2': 88.5, 'sub3': 71.5}}\n"
          ]
        }
      ],
      "source": [
        "print(student1)"
      ]
    },
    {
      "cell_type": "code",
      "execution_count": null,
      "id": "56a1b8b8",
      "metadata": {
        "id": "56a1b8b8",
        "outputId": "f9c608e5-0a6f-4dff-cec2-e3df4c410bfd"
      },
      "outputs": [
        {
          "name": "stdout",
          "output_type": "stream",
          "text": [
            "{'id': 101, 'name': 'Jill', 'marks': {'sub1': 75.5, 'sub2': 88.0, 'sub3': 71.5}}\n"
          ]
        }
      ],
      "source": [
        "print(student4)"
      ]
    },
    {
      "cell_type": "code",
      "execution_count": null,
      "id": "4b85ae71",
      "metadata": {
        "id": "4b85ae71",
        "outputId": "b6495cf4-8674-4357-9df9-bef8129a3dbe"
      },
      "outputs": [
        {
          "data": {
            "text/plain": [
              "1767674405184"
            ]
          },
          "execution_count": 90,
          "metadata": {},
          "output_type": "execute_result"
        }
      ],
      "source": [
        "id(student1['marks'])"
      ]
    },
    {
      "cell_type": "code",
      "execution_count": null,
      "id": "6d8b8f59",
      "metadata": {
        "id": "6d8b8f59",
        "outputId": "953a6087-dc34-4d03-9162-aa98fc5dfd60"
      },
      "outputs": [
        {
          "data": {
            "text/plain": [
              "1767674405184"
            ]
          },
          "execution_count": 91,
          "metadata": {},
          "output_type": "execute_result"
        }
      ],
      "source": [
        "id(student2['marks'])"
      ]
    },
    {
      "cell_type": "code",
      "execution_count": null,
      "id": "50134ac8",
      "metadata": {
        "id": "50134ac8",
        "outputId": "313aa1f7-88e5-4c44-d211-aba8ff2cfb30"
      },
      "outputs": [
        {
          "data": {
            "text/plain": [
              "1767674405184"
            ]
          },
          "execution_count": 92,
          "metadata": {},
          "output_type": "execute_result"
        }
      ],
      "source": [
        "id(student3['marks'])"
      ]
    },
    {
      "cell_type": "code",
      "execution_count": null,
      "id": "6a2dbe86",
      "metadata": {
        "id": "6a2dbe86",
        "outputId": "9f111bf1-e2e0-4d6f-f2da-a3497dabec62"
      },
      "outputs": [
        {
          "data": {
            "text/plain": [
              "1767710586624"
            ]
          },
          "execution_count": 93,
          "metadata": {},
          "output_type": "execute_result"
        }
      ],
      "source": [
        "id(student4['marks'])"
      ]
    },
    {
      "cell_type": "markdown",
      "source": [
        "####Examples"
      ],
      "metadata": {
        "id": "y8CCwTQDGmxD"
      },
      "id": "y8CCwTQDGmxD"
    },
    {
      "cell_type": "code",
      "execution_count": 66,
      "id": "4dd054cc",
      "metadata": {
        "id": "4dd054cc"
      },
      "outputs": [],
      "source": [
        "str1 = \"Hello World\"    # output needed in a way {'H':1, 'e': 1, 'l': 3, 'o': 2, ........}"
      ]
    },
    {
      "cell_type": "code",
      "execution_count": null,
      "id": "df4ddefd",
      "metadata": {
        "id": "df4ddefd",
        "outputId": "cfc48d3c-dd72-46b6-d702-b4ffaba2a7b7"
      },
      "outputs": [
        {
          "data": {
            "text/plain": [
              "'Hello World'"
            ]
          },
          "execution_count": 95,
          "metadata": {},
          "output_type": "execute_result"
        }
      ],
      "source": [
        "str1"
      ]
    },
    {
      "cell_type": "code",
      "execution_count": 67,
      "id": "5c7727b9",
      "metadata": {
        "id": "5c7727b9",
        "outputId": "03689c1e-7849-4987-9419-6e89ad197950",
        "colab": {
          "base_uri": "https://localhost:8080/"
        }
      },
      "outputs": [
        {
          "output_type": "stream",
          "name": "stdout",
          "text": [
            "{'H': 1, 'e': 1, 'l': 3, 'o': 2, ' ': 1, 'W': 1, 'r': 1, 'd': 1}\n"
          ]
        }
      ],
      "source": [
        "d={}\n",
        "for i in str1:\n",
        "    a=str1.count(i)\n",
        "    d[i]=a\n",
        "print(d)"
      ]
    },
    {
      "cell_type": "code",
      "execution_count": 68,
      "id": "02823053",
      "metadata": {
        "id": "02823053",
        "outputId": "2ba60b40-6aef-4683-927e-8e983d6379f9",
        "colab": {
          "base_uri": "https://localhost:8080/"
        }
      },
      "outputs": [
        {
          "output_type": "stream",
          "name": "stdout",
          "text": [
            "11\n"
          ]
        }
      ],
      "source": [
        "count=0\n",
        "for h in str1:\n",
        "\tcount =count+1\n",
        "print(count)\n"
      ]
    },
    {
      "cell_type": "code",
      "execution_count": null,
      "id": "2a231446",
      "metadata": {
        "id": "2a231446",
        "outputId": "fcd7097e-5a0d-48a8-f240-934f682a037d"
      },
      "outputs": [
        {
          "name": "stdout",
          "output_type": "stream",
          "text": [
            "{'H', 'd', 'e', ' ', 'o', 'r', 'l', 'W'}\n",
            "{'H': 1, 'd': 1, 'e': 1, ' ': 1, 'o': 2, 'r': 1, 'l': 3, 'W': 1}\n"
          ]
        }
      ],
      "source": [
        "str1 = \"Hello World\"\n",
        "set1 = set(str1)\n",
        "print(set1)\n",
        "dict1 = {}\n",
        "for x in set1:\n",
        "    dict1.update({x:str1.count(x)})\n",
        "print(dict1)\n"
      ]
    },
    {
      "cell_type": "code",
      "execution_count": null,
      "id": "8937af7b",
      "metadata": {
        "id": "8937af7b",
        "outputId": "212615d8-ace3-4e58-963f-0d92a50b99b3"
      },
      "outputs": [
        {
          "data": {
            "text/plain": [
              "'Hello World'"
            ]
          },
          "execution_count": 100,
          "metadata": {},
          "output_type": "execute_result"
        }
      ],
      "source": [
        "str1"
      ]
    },
    {
      "cell_type": "code",
      "execution_count": null,
      "id": "c3aa5188",
      "metadata": {
        "id": "c3aa5188",
        "outputId": "586c275f-1880-4d64-8a0e-5bbd88e90040"
      },
      "outputs": [
        {
          "name": "stdout",
          "output_type": "stream",
          "text": [
            "{'H': 1, 'e': 1, 'l': 3, 'o': 2, ' ': 1, 'W': 1, 'r': 1, 'd': 1}\n"
          ]
        }
      ],
      "source": [
        "out = {}\n",
        "for i in str1:\n",
        "    if i not in out:\n",
        "        out[i] = 1 # out.update({i:1})\n",
        "    else:\n",
        "        out[i] = out[i] + 1 #out[i] +=1 OR val = out[i] and out.update({i:val+1})\n",
        "\n",
        "print(out)"
      ]
    },
    {
      "cell_type": "markdown",
      "source": [
        "##### Ordered dictionary"
      ],
      "metadata": {
        "id": "4sMHby-hG6lE"
      },
      "id": "4sMHby-hG6lE"
    },
    {
      "cell_type": "code",
      "execution_count": null,
      "id": "5f55b4cb",
      "metadata": {
        "id": "5f55b4cb"
      },
      "outputs": [],
      "source": [
        "import collections"
      ]
    },
    {
      "cell_type": "code",
      "execution_count": null,
      "id": "3b6670a6",
      "metadata": {
        "id": "3b6670a6"
      },
      "outputs": [],
      "source": [
        "od1 = collections.OrderedDict({'a': 1, 'b': 2, 'c': 3})"
      ]
    },
    {
      "cell_type": "code",
      "execution_count": null,
      "id": "7f59d439",
      "metadata": {
        "id": "7f59d439",
        "outputId": "eb8785eb-bcf5-4556-ffd3-2b8943053de8"
      },
      "outputs": [
        {
          "name": "stdout",
          "output_type": "stream",
          "text": [
            "OrderedDict([('a', 1), ('b', 2), ('c', 3)])\n"
          ]
        }
      ],
      "source": [
        "print(od1)"
      ]
    },
    {
      "cell_type": "code",
      "execution_count": null,
      "id": "deb3eb7a",
      "metadata": {
        "id": "deb3eb7a",
        "outputId": "6760900a-3732-41ec-c654-bb8fa33a836f"
      },
      "outputs": [
        {
          "data": {
            "text/plain": [
              "collections.OrderedDict"
            ]
          },
          "execution_count": 106,
          "metadata": {},
          "output_type": "execute_result"
        }
      ],
      "source": [
        "type(od1)"
      ]
    },
    {
      "cell_type": "code",
      "execution_count": null,
      "id": "6e503531",
      "metadata": {
        "id": "6e503531",
        "outputId": "14a5e05b-21f5-45d2-c860-d4ced5e72bd2"
      },
      "outputs": [
        {
          "data": {
            "text/plain": [
              "1"
            ]
          },
          "execution_count": 107,
          "metadata": {},
          "output_type": "execute_result"
        }
      ],
      "source": [
        "od1['a']"
      ]
    },
    {
      "cell_type": "code",
      "execution_count": null,
      "id": "becf5871",
      "metadata": {
        "id": "becf5871"
      },
      "outputs": [],
      "source": [
        "od1['a'] = 100"
      ]
    },
    {
      "cell_type": "code",
      "execution_count": null,
      "id": "40dc35ed",
      "metadata": {
        "id": "40dc35ed",
        "outputId": "6dc3d468-e917-4efa-e820-731b5b0752a7"
      },
      "outputs": [
        {
          "data": {
            "text/plain": [
              "OrderedDict([('a', 100), ('b', 2), ('c', 3)])"
            ]
          },
          "execution_count": 109,
          "metadata": {},
          "output_type": "execute_result"
        }
      ],
      "source": [
        "od1"
      ]
    },
    {
      "cell_type": "code",
      "execution_count": null,
      "id": "a336ef26",
      "metadata": {
        "id": "a336ef26"
      },
      "outputs": [],
      "source": [
        "od1.update({'d':4})"
      ]
    },
    {
      "cell_type": "code",
      "execution_count": null,
      "id": "386c265b",
      "metadata": {
        "id": "386c265b",
        "outputId": "ce751e54-7129-45d1-abb3-5ee838d714c6"
      },
      "outputs": [
        {
          "data": {
            "text/plain": [
              "OrderedDict([('a', 100), ('b', 2), ('c', 3), ('d', 4)])"
            ]
          },
          "execution_count": 111,
          "metadata": {},
          "output_type": "execute_result"
        }
      ],
      "source": [
        "od1"
      ]
    },
    {
      "cell_type": "code",
      "execution_count": null,
      "id": "bbc14ced",
      "metadata": {
        "id": "bbc14ced",
        "outputId": "edd88141-400a-4987-dec9-66432eeb0c69"
      },
      "outputs": [
        {
          "ename": "TypeError",
          "evalue": "pop() missing required argument 'key' (pos 1)",
          "output_type": "error",
          "traceback": [
            "\u001b[1;31m---------------------------------------------------------------------------\u001b[0m",
            "\u001b[1;31mTypeError\u001b[0m                                 Traceback (most recent call last)",
            "\u001b[1;32m~\\AppData\\Local\\Temp/ipykernel_4016/302436045.py\u001b[0m in \u001b[0;36m<module>\u001b[1;34m\u001b[0m\n\u001b[1;32m----> 1\u001b[1;33m \u001b[0mod1\u001b[0m\u001b[1;33m.\u001b[0m\u001b[0mpop\u001b[0m\u001b[1;33m(\u001b[0m\u001b[1;33m)\u001b[0m\u001b[1;33m\u001b[0m\u001b[1;33m\u001b[0m\u001b[0m\n\u001b[0m",
            "\u001b[1;31mTypeError\u001b[0m: pop() missing required argument 'key' (pos 1)"
          ]
        }
      ],
      "source": [
        "od1.pop()"
      ]
    },
    {
      "cell_type": "code",
      "execution_count": null,
      "id": "cea0d2be",
      "metadata": {
        "id": "cea0d2be"
      },
      "outputs": [],
      "source": []
    }
  ],
  "metadata": {
    "kernelspec": {
      "display_name": "Python 3 (ipykernel)",
      "language": "python",
      "name": "python3"
    },
    "language_info": {
      "codemirror_mode": {
        "name": "ipython",
        "version": 3
      },
      "file_extension": ".py",
      "mimetype": "text/x-python",
      "name": "python",
      "nbconvert_exporter": "python",
      "pygments_lexer": "ipython3",
      "version": "3.9.7"
    },
    "colab": {
      "provenance": [],
      "include_colab_link": true
    }
  },
  "nbformat": 4,
  "nbformat_minor": 5
}