{
  "nbformat": 4,
  "nbformat_minor": 0,
  "metadata": {
    "colab": {
      "provenance": [],
      "include_colab_link": true
    },
    "kernelspec": {
      "name": "python3",
      "display_name": "Python 3"
    },
    "language_info": {
      "name": "python"
    }
  },
  "cells": [
    {
      "cell_type": "markdown",
      "metadata": {
        "id": "view-in-github",
        "colab_type": "text"
      },
      "source": [
        "<a href=\"https://colab.research.google.com/github/GIT-REPO-JAGAN/PYTHON-GOOGLE-COLOB/blob/main/Testing_List_Set_Distonary.ipynb\" target=\"_parent\"><img src=\"https://colab.research.google.com/assets/colab-badge.svg\" alt=\"Open In Colab\"/></a>"
      ]
    },
    {
      "cell_type": "markdown",
      "source": [
        "**List** **Set** **Distonary**"
      ],
      "metadata": {
        "id": "Z8XXjbsQ7Hzo"
      }
    },
    {
      "cell_type": "code",
      "source": [
        "l1 = [1,2,3]  # -> indexing value of l1's 0 is 1\n",
        "l2 = [2,3,4,6] # -> indexing value of l2's 3 is 6\n",
        "l3 = [\"A\",10,3.25,1]  # -> indexing value of l3's o is A\n",
        "l4 = [1,2,3,[10,5],20,30]"
      ],
      "metadata": {
        "id": "l7MHoIs67FvQ"
      },
      "execution_count": null,
      "outputs": []
    },
    {
      "cell_type": "code",
      "source": [
        "l1[2], l1[2]"
      ],
      "metadata": {
        "colab": {
          "base_uri": "https://localhost:8080/"
        },
        "id": "Ekqfca0f7e6w",
        "outputId": "f85b89bc-c347-44bf-9e53-84873148d957"
      },
      "execution_count": null,
      "outputs": [
        {
          "output_type": "execute_result",
          "data": {
            "text/plain": [
              "(3, 3)"
            ]
          },
          "metadata": {},
          "execution_count": 2
        }
      ]
    },
    {
      "cell_type": "code",
      "source": [
        "l1[0], l2[3] , l3[0]"
      ],
      "metadata": {
        "colab": {
          "base_uri": "https://localhost:8080/"
        },
        "id": "aa1i9zTM7lk3",
        "outputId": "c8f1939a-65ba-4c94-a905-581624b4aaae"
      },
      "execution_count": null,
      "outputs": [
        {
          "output_type": "execute_result",
          "data": {
            "text/plain": [
              "(1, 6, 'A')"
            ]
          },
          "metadata": {},
          "execution_count": 3
        }
      ]
    },
    {
      "cell_type": "code",
      "source": [
        "l1+l3\t"
      ],
      "metadata": {
        "colab": {
          "base_uri": "https://localhost:8080/"
        },
        "id": "1wAJSwCT7oVz",
        "outputId": "f15179f5-a371-4fbf-c70e-6efecdad4119"
      },
      "execution_count": null,
      "outputs": [
        {
          "output_type": "execute_result",
          "data": {
            "text/plain": [
              "[1, 2, 3, 'A', 10, 3.25, 1]"
            ]
          },
          "metadata": {},
          "execution_count": 4
        }
      ]
    },
    {
      "cell_type": "code",
      "source": [
        "print (l2)"
      ],
      "metadata": {
        "colab": {
          "base_uri": "https://localhost:8080/"
        },
        "id": "2VIQOnJO7rQD",
        "outputId": "f7a6e5a3-333d-4815-b250-46172a133573"
      },
      "execution_count": null,
      "outputs": [
        {
          "output_type": "stream",
          "name": "stdout",
          "text": [
            "[2, 3, 4, 6]\n"
          ]
        }
      ]
    },
    {
      "cell_type": "code",
      "source": [
        "l1\t# It will take only the last one\tNOTHING PRINTED\n",
        "l2"
      ],
      "metadata": {
        "colab": {
          "base_uri": "https://localhost:8080/"
        },
        "id": "VFs9moA97yPm",
        "outputId": "81c17bff-b7a7-4f38-dec4-c2483139050c"
      },
      "execution_count": null,
      "outputs": [
        {
          "output_type": "execute_result",
          "data": {
            "text/plain": [
              "[2, 3, 4, 6]"
            ]
          },
          "metadata": {},
          "execution_count": 6
        }
      ]
    },
    {
      "cell_type": "code",
      "source": [
        "print (l2)  # Here It will take both\n",
        "l3"
      ],
      "metadata": {
        "colab": {
          "base_uri": "https://localhost:8080/"
        },
        "id": "YGIGAcdy72-s",
        "outputId": "c67a781c-7b79-475c-85ce-148c816fccbe"
      },
      "execution_count": null,
      "outputs": [
        {
          "output_type": "stream",
          "name": "stdout",
          "text": [
            "[2, 3, 4, 6]\n"
          ]
        },
        {
          "output_type": "execute_result",
          "data": {
            "text/plain": [
              "['A', 10, 3.25, 1]"
            ]
          },
          "metadata": {},
          "execution_count": 7
        }
      ]
    },
    {
      "cell_type": "code",
      "source": [
        "l1[2] #Indexing starts from 0,1,2. S the value should be \"3\""
      ],
      "metadata": {
        "colab": {
          "base_uri": "https://localhost:8080/"
        },
        "id": "F1zAGGU87-XB",
        "outputId": "2199860e-8fff-4a38-a273-1828952af865"
      },
      "execution_count": null,
      "outputs": [
        {
          "output_type": "execute_result",
          "data": {
            "text/plain": [
              "3"
            ]
          },
          "metadata": {},
          "execution_count": 8
        }
      ]
    },
    {
      "cell_type": "code",
      "source": [
        "l1[3]  #Indexing starts from 0,1,2. So list index out of range\t"
      ],
      "metadata": {
        "colab": {
          "base_uri": "https://localhost:8080/",
          "height": 171
        },
        "id": "yo5Oyix78ZG7",
        "outputId": "e13fb7cc-b4f6-4573-d6df-b5de077dfd57"
      },
      "execution_count": null,
      "outputs": [
        {
          "output_type": "error",
          "ename": "IndexError",
          "evalue": "ignored",
          "traceback": [
            "\u001b[0;31m---------------------------------------------------------------------------\u001b[0m",
            "\u001b[0;31mIndexError\u001b[0m                                Traceback (most recent call last)",
            "\u001b[0;32m<ipython-input-9-837f43b59b46>\u001b[0m in \u001b[0;36m<cell line: 1>\u001b[0;34m()\u001b[0m\n\u001b[0;32m----> 1\u001b[0;31m \u001b[0ml1\u001b[0m\u001b[0;34m[\u001b[0m\u001b[0;36m3\u001b[0m\u001b[0;34m]\u001b[0m  \u001b[0;31m#Indexing starts from 0,1,2. So list index out of range\u001b[0m\u001b[0;34m\u001b[0m\u001b[0;34m\u001b[0m\u001b[0m\n\u001b[0m",
            "\u001b[0;31mIndexError\u001b[0m: list index out of range"
          ]
        }
      ]
    },
    {
      "cell_type": "code",
      "source": [
        "type(l3)"
      ],
      "metadata": {
        "colab": {
          "base_uri": "https://localhost:8080/"
        },
        "id": "5MUYH85w8hxy",
        "outputId": "72b3f656-4118-45ad-a5e1-86f56926650e"
      },
      "execution_count": null,
      "outputs": [
        {
          "output_type": "execute_result",
          "data": {
            "text/plain": [
              "list"
            ]
          },
          "metadata": {},
          "execution_count": 10
        }
      ]
    },
    {
      "cell_type": "code",
      "source": [
        "len(l1) # Length of the values"
      ],
      "metadata": {
        "colab": {
          "base_uri": "https://localhost:8080/"
        },
        "id": "XYdeJcbK8oin",
        "outputId": "936df08a-7883-4407-8fa9-1ef8f243b8d8"
      },
      "execution_count": null,
      "outputs": [
        {
          "output_type": "execute_result",
          "data": {
            "text/plain": [
              "3"
            ]
          },
          "metadata": {},
          "execution_count": 11
        }
      ]
    },
    {
      "cell_type": "code",
      "source": [
        "len(l3)\t# String also calcoulated "
      ],
      "metadata": {
        "colab": {
          "base_uri": "https://localhost:8080/"
        },
        "id": "7p6RpPIU8su0",
        "outputId": "0eeb1b3e-26de-4a85-9ab4-3be50d90f8a5"
      },
      "execution_count": null,
      "outputs": [
        {
          "output_type": "execute_result",
          "data": {
            "text/plain": [
              "4"
            ]
          },
          "metadata": {},
          "execution_count": 12
        }
      ]
    },
    {
      "cell_type": "code",
      "source": [
        "new_l = l1+[10,20]\t\t\t\n",
        "new_l\t # Add it to print the value"
      ],
      "metadata": {
        "colab": {
          "base_uri": "https://localhost:8080/"
        },
        "id": "GSS4ctRm8zYv",
        "outputId": "ba58be0d-9ea7-4bde-dad0-58ea45ba15ab"
      },
      "execution_count": null,
      "outputs": [
        {
          "output_type": "execute_result",
          "data": {
            "text/plain": [
              "[1, 2, 3, 10, 20]"
            ]
          },
          "metadata": {},
          "execution_count": 13
        }
      ]
    },
    {
      "cell_type": "code",
      "source": [
        "type(l3[0])"
      ],
      "metadata": {
        "colab": {
          "base_uri": "https://localhost:8080/"
        },
        "id": "HCUXRLpC857I",
        "outputId": "0ab004b7-d1a9-4399-9e7a-ce4728dde962"
      },
      "execution_count": null,
      "outputs": [
        {
          "output_type": "execute_result",
          "data": {
            "text/plain": [
              "str"
            ]
          },
          "metadata": {},
          "execution_count": 14
        }
      ]
    },
    {
      "cell_type": "code",
      "source": [
        "type(l3[2])"
      ],
      "metadata": {
        "colab": {
          "base_uri": "https://localhost:8080/"
        },
        "id": "gUbVs21p88gM",
        "outputId": "2a547178-1284-49ee-e257-68d161b322f2"
      },
      "execution_count": null,
      "outputs": [
        {
          "output_type": "execute_result",
          "data": {
            "text/plain": [
              "float"
            ]
          },
          "metadata": {},
          "execution_count": 15
        }
      ]
    },
    {
      "cell_type": "code",
      "source": [
        "l1.extend([10,30])\t\t\t\n",
        "l1 # Add it to print the value"
      ],
      "metadata": {
        "colab": {
          "base_uri": "https://localhost:8080/"
        },
        "id": "hmWZHYEk9A25",
        "outputId": "6322eed3-f0de-4f54-8c1d-7d57c288d912"
      },
      "execution_count": null,
      "outputs": [
        {
          "output_type": "execute_result",
          "data": {
            "text/plain": [
              "[1, 2, 3, 10, 30]"
            ]
          },
          "metadata": {},
          "execution_count": 16
        }
      ]
    },
    {
      "cell_type": "code",
      "source": [
        "l1.extend(l2)\t\t\t\t\n",
        "l1 # Add it to print the value"
      ],
      "metadata": {
        "colab": {
          "base_uri": "https://localhost:8080/"
        },
        "id": "2zz6GgUG9Exg",
        "outputId": "5b523f9e-7861-4a48-db33-cec1c3c3b291"
      },
      "execution_count": null,
      "outputs": [
        {
          "output_type": "execute_result",
          "data": {
            "text/plain": [
              "[1, 2, 3, 10, 30, 2, 3, 4, 6]"
            ]
          },
          "metadata": {},
          "execution_count": 17
        }
      ]
    },
    {
      "cell_type": "code",
      "source": [
        "l1.append(l2)\t\t\t\t\n",
        "l1 # Add it to print the value"
      ],
      "metadata": {
        "colab": {
          "base_uri": "https://localhost:8080/"
        },
        "id": "aGPQir0k9IBd",
        "outputId": "3c41a56b-836d-49ad-e0e2-f30a4303d3f1"
      },
      "execution_count": null,
      "outputs": [
        {
          "output_type": "execute_result",
          "data": {
            "text/plain": [
              "[1, 2, 3, 10, 30, 2, 3, 4, 6, [2, 3, 4, 6]]"
            ]
          },
          "metadata": {},
          "execution_count": 18
        }
      ]
    },
    {
      "cell_type": "code",
      "source": [
        "l1.append([10,30])\n",
        "l1 # Add it to print the value"
      ],
      "metadata": {
        "colab": {
          "base_uri": "https://localhost:8080/"
        },
        "id": "sF5QpWX39LuV",
        "outputId": "041dbca0-88a3-40c8-eb91-a78ff05d37c7"
      },
      "execution_count": null,
      "outputs": [
        {
          "output_type": "execute_result",
          "data": {
            "text/plain": [
              "[1, 2, 3, 10, 30, 2, 3, 4, 6, [2, 3, 4, 6], [10, 30]]"
            ]
          },
          "metadata": {},
          "execution_count": 19
        }
      ]
    },
    {
      "cell_type": "code",
      "source": [
        "l1.extend([10,30]),l1"
      ],
      "metadata": {
        "colab": {
          "base_uri": "https://localhost:8080/"
        },
        "id": "xclje_rR9PnY",
        "outputId": "cce0082e-d80d-4f55-9008-0050edf1a78c"
      },
      "execution_count": null,
      "outputs": [
        {
          "output_type": "execute_result",
          "data": {
            "text/plain": [
              "(None, [1, 2, 3, 10, 30, 2, 3, 4, 6, [2, 3, 4, 6], [10, 30], 10, 30])"
            ]
          },
          "metadata": {},
          "execution_count": 20
        }
      ]
    },
    {
      "cell_type": "code",
      "source": [
        "l1.append([10,30]),l1"
      ],
      "metadata": {
        "colab": {
          "base_uri": "https://localhost:8080/"
        },
        "id": "NgMyh8HA9Y5F",
        "outputId": "d6734ee9-8117-4e32-9c19-9a26d1ed07a8"
      },
      "execution_count": null,
      "outputs": [
        {
          "output_type": "execute_result",
          "data": {
            "text/plain": [
              "(None, [1, 2, 3, 10, 30, 2, 3, 4, 6, [2, 3, 4, 6], [10, 30], 10, 30, [10, 30]])"
            ]
          },
          "metadata": {},
          "execution_count": 21
        }
      ]
    },
    {
      "cell_type": "code",
      "source": [
        "l1.append(l2).append(l2)\t\t\n",
        "l1\t# Add it to print the value"
      ],
      "metadata": {
        "colab": {
          "base_uri": "https://localhost:8080/",
          "height": 189
        },
        "id": "oTZqEnY29d86",
        "outputId": "2fcc43b2-898a-4b4f-9b55-026a62157da2"
      },
      "execution_count": null,
      "outputs": [
        {
          "output_type": "error",
          "ename": "AttributeError",
          "evalue": "ignored",
          "traceback": [
            "\u001b[0;31m---------------------------------------------------------------------------\u001b[0m",
            "\u001b[0;31mAttributeError\u001b[0m                            Traceback (most recent call last)",
            "\u001b[0;32m<ipython-input-22-ef38518fabb2>\u001b[0m in \u001b[0;36m<cell line: 1>\u001b[0;34m()\u001b[0m\n\u001b[0;32m----> 1\u001b[0;31m \u001b[0ml1\u001b[0m\u001b[0;34m.\u001b[0m\u001b[0mappend\u001b[0m\u001b[0;34m(\u001b[0m\u001b[0ml2\u001b[0m\u001b[0;34m)\u001b[0m\u001b[0;34m.\u001b[0m\u001b[0mappend\u001b[0m\u001b[0;34m(\u001b[0m\u001b[0ml2\u001b[0m\u001b[0;34m)\u001b[0m\u001b[0;34m\u001b[0m\u001b[0;34m\u001b[0m\u001b[0m\n\u001b[0m\u001b[1;32m      2\u001b[0m \u001b[0ml1\u001b[0m      \u001b[0;31m# Add it to print the value\u001b[0m\u001b[0;34m\u001b[0m\u001b[0;34m\u001b[0m\u001b[0m\n",
            "\u001b[0;31mAttributeError\u001b[0m: 'NoneType' object has no attribute 'append'"
          ]
        }
      ]
    },
    {
      "cell_type": "code",
      "source": [
        "l1.append(l2)\t\t\t\t# Hear l1 is the parent append is child one \n",
        "l1.append(l2)\n",
        "l1 # Add it to print the value"
      ],
      "metadata": {
        "colab": {
          "base_uri": "https://localhost:8080/"
        },
        "id": "wb-64dRw9g1z",
        "outputId": "e751dc38-63e3-4636-d270-f62eb0ed7f4e"
      },
      "execution_count": null,
      "outputs": [
        {
          "output_type": "execute_result",
          "data": {
            "text/plain": [
              "[1,\n",
              " 2,\n",
              " 3,\n",
              " 10,\n",
              " 30,\n",
              " 2,\n",
              " 3,\n",
              " 4,\n",
              " 6,\n",
              " [2, 3, 4, 6],\n",
              " [10, 30],\n",
              " 10,\n",
              " 30,\n",
              " [10, 30],\n",
              " [2, 3, 4, 6],\n",
              " [2, 3, 4, 6],\n",
              " [2, 3, 4, 6]]"
            ]
          },
          "metadata": {},
          "execution_count": 23
        }
      ]
    },
    {
      "cell_type": "code",
      "source": [
        "l1=[l2,l3]\n",
        "l1"
      ],
      "metadata": {
        "colab": {
          "base_uri": "https://localhost:8080/"
        },
        "id": "eWzhLLy79pZH",
        "outputId": "e4919243-7d83-4931-a401-949e9831fd30"
      },
      "execution_count": null,
      "outputs": [
        {
          "output_type": "execute_result",
          "data": {
            "text/plain": [
              "[[2, 3, 4, 6], ['A', 10, 3.25, 1]]"
            ]
          },
          "metadata": {},
          "execution_count": 25
        }
      ]
    },
    {
      "cell_type": "code",
      "source": [
        "inner_list=l4[3]\t\t\t\n",
        "inner_list"
      ],
      "metadata": {
        "colab": {
          "base_uri": "https://localhost:8080/"
        },
        "id": "ePc7TjHV95J2",
        "outputId": "060ec272-d561-4dc9-9b06-ab06ff280b15"
      },
      "execution_count": null,
      "outputs": [
        {
          "output_type": "execute_result",
          "data": {
            "text/plain": [
              "[10, 5]"
            ]
          },
          "metadata": {},
          "execution_count": 26
        }
      ]
    },
    {
      "cell_type": "code",
      "source": [
        "inner_list=l4[3]\n",
        "inner_list\n",
        "sublist = inner_list[1]\n",
        "sublist"
      ],
      "metadata": {
        "colab": {
          "base_uri": "https://localhost:8080/"
        },
        "id": "z3IdLsUP99Cy",
        "outputId": "e8187b37-9b8d-4530-9e86-b7cabf7124cb"
      },
      "execution_count": null,
      "outputs": [
        {
          "output_type": "execute_result",
          "data": {
            "text/plain": [
              "5"
            ]
          },
          "metadata": {},
          "execution_count": 27
        }
      ]
    },
    {
      "cell_type": "code",
      "source": [
        "l4.pop() # Print the last value"
      ],
      "metadata": {
        "colab": {
          "base_uri": "https://localhost:8080/"
        },
        "id": "P7YCVkzX-CAN",
        "outputId": "0bad5072-2274-45d3-c75a-e31ae074dac5"
      },
      "execution_count": null,
      "outputs": [
        {
          "output_type": "execute_result",
          "data": {
            "text/plain": [
              "30"
            ]
          },
          "metadata": {},
          "execution_count": 28
        }
      ]
    },
    {
      "cell_type": "code",
      "source": [
        "l4.pop()\n",
        "l4 # Add it to print the value"
      ],
      "metadata": {
        "colab": {
          "base_uri": "https://localhost:8080/"
        },
        "id": "abj_fULS-G33",
        "outputId": "faaf0801-7ac0-4479-a91f-2c19d6d897d1"
      },
      "execution_count": null,
      "outputs": [
        {
          "output_type": "execute_result",
          "data": {
            "text/plain": [
              "[1, 2, 3, [10, 5]]"
            ]
          },
          "metadata": {},
          "execution_count": 29
        }
      ]
    },
    {
      "cell_type": "code",
      "source": [
        "l4.pop(2) #Exclude the Specified value\n",
        "l4\t# Add it to print the value"
      ],
      "metadata": {
        "colab": {
          "base_uri": "https://localhost:8080/"
        },
        "id": "FxHxXGYA-LWg",
        "outputId": "4fb6b372-a1b2-46be-d8a9-7224a4530142"
      },
      "execution_count": null,
      "outputs": [
        {
          "output_type": "execute_result",
          "data": {
            "text/plain": [
              "[1, 2]"
            ]
          },
          "metadata": {},
          "execution_count": 32
        }
      ]
    },
    {
      "cell_type": "code",
      "source": [
        "conert_to_list=list(l1set)  # All elements are covered by order looks weaired\n",
        "conert_to_list"
      ],
      "metadata": {
        "colab": {
          "base_uri": "https://localhost:8080/"
        },
        "id": "Wg0U7aA_-aaQ",
        "outputId": "e26b71b6-2b13-4157-9f9d-9b3209db7fb0"
      },
      "execution_count": null,
      "outputs": [
        {
          "output_type": "execute_result",
          "data": {
            "text/plain": [
              "[0, 1.3, 2, 5, 7, 'Q', 'p', 'C', 'z']"
            ]
          },
          "metadata": {},
          "execution_count": 33
        }
      ]
    },
    {
      "cell_type": "markdown",
      "source": [
        "**SET**   --> Eg: Where we we use Set & List \n",
        "\n",
        "Class room \tHere Names are same as part of List,\tRollnu chnages as part of Set"
      ],
      "metadata": {
        "id": "8ixOlrC3-jRd"
      }
    },
    {
      "cell_type": "code",
      "source": [
        "l1set = set ({\"z\",\"Q\",\"C\",\"p\", 5,5,7,2,0,1.3})  #  Will do Arranging in assanding order way Numbers 1,2,3..., Caps 1st, Smaller 2nd and also removes duplicate\n",
        "l1set"
      ],
      "metadata": {
        "colab": {
          "base_uri": "https://localhost:8080/"
        },
        "id": "fbOw0njG-mO-",
        "outputId": "3cc13e02-6dc6-4d98-f4ad-8f2de3a35ac8"
      },
      "execution_count": null,
      "outputs": [
        {
          "output_type": "execute_result",
          "data": {
            "text/plain": [
              "{0, 1.3, 2, 5, 7, 'C', 'Q', 'p', 'z'}"
            ]
          },
          "metadata": {},
          "execution_count": 43
        }
      ]
    },
    {
      "cell_type": "markdown",
      "source": [
        "**Dictonary**   -->  Dictonary is a Key Value par seperated by ,"
      ],
      "metadata": {
        "id": "SqqOvd88AJxv"
      }
    },
    {
      "cell_type": "code",
      "source": [
        "new_dict = {\"First Name\":\"JJ\", \"Second Name\": 2} # -> Dictonary\n",
        "new_dict"
      ],
      "metadata": {
        "colab": {
          "base_uri": "https://localhost:8080/"
        },
        "id": "twSydhg8-o-t",
        "outputId": "ce41df06-9e65-4e06-9039-97602c775552"
      },
      "execution_count": null,
      "outputs": [
        {
          "output_type": "execute_result",
          "data": {
            "text/plain": [
              "{'First Name': 'JJ', 'Second Name': 2}"
            ]
          },
          "metadata": {},
          "execution_count": 45
        }
      ]
    },
    {
      "cell_type": "code",
      "source": [
        "list(new_dict.keys())"
      ],
      "metadata": {
        "colab": {
          "base_uri": "https://localhost:8080/"
        },
        "id": "Rtvlu4FDAX2L",
        "outputId": "97bbd673-d13b-4339-dbfb-8168f7b9a8df"
      },
      "execution_count": null,
      "outputs": [
        {
          "output_type": "execute_result",
          "data": {
            "text/plain": [
              "['First Name', 'Second Name']"
            ]
          },
          "metadata": {},
          "execution_count": 46
        }
      ]
    },
    {
      "cell_type": "code",
      "source": [
        "list(new_dict.values())"
      ],
      "metadata": {
        "colab": {
          "base_uri": "https://localhost:8080/"
        },
        "id": "K9d752akAakP",
        "outputId": "cb67ef39-218e-4a02-d562-7b84f65ec23c"
      },
      "execution_count": null,
      "outputs": [
        {
          "output_type": "execute_result",
          "data": {
            "text/plain": [
              "['JJ', 2]"
            ]
          },
          "metadata": {},
          "execution_count": 47
        }
      ]
    },
    {
      "cell_type": "code",
      "source": [
        "new_dict[\"First Name\"] = \"JE\"\n",
        "new_dict"
      ],
      "metadata": {
        "colab": {
          "base_uri": "https://localhost:8080/"
        },
        "id": "xN6Ai4OfBAVx",
        "outputId": "0bdf66f1-a5b5-4bdc-a497-0b8eec431714"
      },
      "execution_count": null,
      "outputs": [
        {
          "output_type": "execute_result",
          "data": {
            "text/plain": [
              "{'First Name': 'JE', 'Second Name': 2}"
            ]
          },
          "metadata": {},
          "execution_count": 48
        }
      ]
    },
    {
      "cell_type": "code",
      "source": [
        "check_key_value = {\"K1\":\"V1\",\"K2\":\"V2\",\"K3\":\"V3\",\"K4\":\"V4\"}  # -> Test Key value par\n",
        "check_key_value"
      ],
      "metadata": {
        "colab": {
          "base_uri": "https://localhost:8080/"
        },
        "id": "tgFc8jBIBGOy",
        "outputId": "47af9b7d-1483-452a-d6d7-5d69395283c8"
      },
      "execution_count": null,
      "outputs": [
        {
          "output_type": "execute_result",
          "data": {
            "text/plain": [
              "{'K1': 'V1', 'K2': 'V2', 'K3': 'V3', 'K4': 'V4'}"
            ]
          },
          "metadata": {},
          "execution_count": 51
        }
      ]
    },
    {
      "cell_type": "code",
      "source": [
        "list(check_key_value.keys())"
      ],
      "metadata": {
        "colab": {
          "base_uri": "https://localhost:8080/"
        },
        "id": "D2BIh_XWBSYp",
        "outputId": "f176a727-549f-43cc-e599-eab3f7fd537a"
      },
      "execution_count": null,
      "outputs": [
        {
          "output_type": "execute_result",
          "data": {
            "text/plain": [
              "['K1', 'K2', 'K3', 'K4']"
            ]
          },
          "metadata": {},
          "execution_count": 52
        }
      ]
    },
    {
      "cell_type": "code",
      "source": [
        "list(check_key_value.values())"
      ],
      "metadata": {
        "colab": {
          "base_uri": "https://localhost:8080/"
        },
        "id": "kY7OKG2SBU76",
        "outputId": "14b41db0-f802-4f52-fe9b-fc8e8a81109d"
      },
      "execution_count": null,
      "outputs": [
        {
          "output_type": "execute_result",
          "data": {
            "text/plain": [
              "['V1', 'V2', 'V3', 'V4']"
            ]
          },
          "metadata": {},
          "execution_count": 53
        }
      ]
    },
    {
      "cell_type": "code",
      "source": [
        "empty_dict = dict ()\n",
        "empty_dict"
      ],
      "metadata": {
        "colab": {
          "base_uri": "https://localhost:8080/"
        },
        "id": "ScpG2w7KBX44",
        "outputId": "de096c25-e460-4d4c-b216-c170e21d968e"
      },
      "execution_count": null,
      "outputs": [
        {
          "output_type": "execute_result",
          "data": {
            "text/plain": [
              "{}"
            ]
          },
          "metadata": {},
          "execution_count": 54
        }
      ]
    },
    {
      "cell_type": "code",
      "source": [
        "sorted([\"A\",10,3.25,1])\t"
      ],
      "metadata": {
        "colab": {
          "base_uri": "https://localhost:8080/",
          "height": 171
        },
        "id": "kFUVu96HBbfK",
        "outputId": "4b424e2f-623c-4785-892d-e86305feebbb"
      },
      "execution_count": null,
      "outputs": [
        {
          "output_type": "error",
          "ename": "TypeError",
          "evalue": "ignored",
          "traceback": [
            "\u001b[0;31m---------------------------------------------------------------------------\u001b[0m",
            "\u001b[0;31mTypeError\u001b[0m                                 Traceback (most recent call last)",
            "\u001b[0;32m<ipython-input-55-09808533406a>\u001b[0m in \u001b[0;36m<cell line: 1>\u001b[0;34m()\u001b[0m\n\u001b[0;32m----> 1\u001b[0;31m \u001b[0msorted\u001b[0m\u001b[0;34m(\u001b[0m\u001b[0;34m[\u001b[0m\u001b[0;34m\"A\"\u001b[0m\u001b[0;34m,\u001b[0m\u001b[0;36m10\u001b[0m\u001b[0;34m,\u001b[0m\u001b[0;36m3.25\u001b[0m\u001b[0;34m,\u001b[0m\u001b[0;36m1\u001b[0m\u001b[0;34m]\u001b[0m\u001b[0;34m)\u001b[0m\u001b[0;34m\u001b[0m\u001b[0;34m\u001b[0m\u001b[0m\n\u001b[0m",
            "\u001b[0;31mTypeError\u001b[0m: '<' not supported between instances of 'int' and 'str'"
          ]
        }
      ]
    },
    {
      "cell_type": "code",
      "source": [
        "sorted([10,3.25,1])"
      ],
      "metadata": {
        "colab": {
          "base_uri": "https://localhost:8080/"
        },
        "id": "fFDqE7kCBfkj",
        "outputId": "557de1cb-3498-435c-a5a6-a274d8612d7f"
      },
      "execution_count": null,
      "outputs": [
        {
          "output_type": "execute_result",
          "data": {
            "text/plain": [
              "[1, 3.25, 10]"
            ]
          },
          "metadata": {},
          "execution_count": 56
        }
      ]
    },
    {
      "cell_type": "code",
      "source": [
        "names = [\"J1\",\"J2\",\"J3\"]  \n",
        "age = [1,2,3]\n",
        "print (names)\n",
        "print (age)"
      ],
      "metadata": {
        "colab": {
          "base_uri": "https://localhost:8080/"
        },
        "id": "d27tHpCGBjrH",
        "outputId": "eb6a71a2-b736-4652-e9fe-b206cd3b9220"
      },
      "execution_count": null,
      "outputs": [
        {
          "output_type": "stream",
          "name": "stdout",
          "text": [
            "['J1', 'J2', 'J3']\n",
            "[1, 2, 3]\n"
          ]
        }
      ]
    },
    {
      "cell_type": "code",
      "source": [
        "list_to_dic = dict(zip(names,age))   # Combain List to Dic\n",
        "list_to_dic # Output of Combain List to Dic"
      ],
      "metadata": {
        "colab": {
          "base_uri": "https://localhost:8080/"
        },
        "id": "DyqTzUj6Brji",
        "outputId": "a14ac1b1-8e54-4c59-f208-95f9678497e9"
      },
      "execution_count": null,
      "outputs": [
        {
          "output_type": "execute_result",
          "data": {
            "text/plain": [
              "{'J1': 1, 'J2': 2, 'J3': 3}"
            ]
          },
          "metadata": {},
          "execution_count": 58
        }
      ]
    },
    {
      "cell_type": "code",
      "source": [
        "list_to_dic = dict(zip(names,age))       # Combain List to Dic\n",
        "list_to_dic # Output of Combain List to Dic\n",
        "for keys, values in list_to_dic.items():\n",
        "    print(keys,\"...\",values)\t"
      ],
      "metadata": {
        "colab": {
          "base_uri": "https://localhost:8080/"
        },
        "id": "xa2hZCEmBxsa",
        "outputId": "34a903d1-0d6c-4152-f4d2-70c8b586b80c"
      },
      "execution_count": null,
      "outputs": [
        {
          "output_type": "stream",
          "name": "stdout",
          "text": [
            "J1 ... 1\n",
            "J2 ... 2\n",
            "J3 ... 3\n"
          ]
        }
      ]
    },
    {
      "cell_type": "code",
      "source": [
        "list_to_dic = dict(zip(names,age))       # Combain List to Dic\n",
        "list_to_dic # Output of Combain List to Dic\t\t\t\t\t\t\t(OR)\n",
        "for i in list_to_dic.items():\n",
        "    print(i[0],\"...\",i[1])"
      ],
      "metadata": {
        "colab": {
          "base_uri": "https://localhost:8080/"
        },
        "id": "fAJdFwIrB0-x",
        "outputId": "d3fc952e-36d8-4f66-8ccd-afe1abd28b57"
      },
      "execution_count": null,
      "outputs": [
        {
          "output_type": "stream",
          "name": "stdout",
          "text": [
            "J1 ... 1\n",
            "J2 ... 2\n",
            "J3 ... 3\n"
          ]
        }
      ]
    },
    {
      "cell_type": "code",
      "source": [
        "list_to_dic = dict(zip(names,age))       # Combain List to Dic\n",
        "list_to_dic # Output of Combain List to Dic\n",
        "for keys, values in list_to_dic.items():\n",
        "    print(keys)"
      ],
      "metadata": {
        "colab": {
          "base_uri": "https://localhost:8080/"
        },
        "id": "00wfZrDoB3ik",
        "outputId": "07d20bd6-15ea-42e7-87e9-0538303bad9d"
      },
      "execution_count": null,
      "outputs": [
        {
          "output_type": "stream",
          "name": "stdout",
          "text": [
            "J1\n",
            "J2\n",
            "J3\n"
          ]
        }
      ]
    },
    {
      "cell_type": "code",
      "source": [
        "list_to_dic = dict(zip(names,age))       # Combain List to Dic\n",
        "list_to_dic # Output of Combain List to Dic\n",
        "for keys, values in list_to_dic.items():\n",
        "    print(\"K: \", keys)\t"
      ],
      "metadata": {
        "id": "7mjgXcIvB7I1",
        "outputId": "381fbce1-6cbc-450c-fecf-9fe164c74156",
        "colab": {
          "base_uri": "https://localhost:8080/"
        }
      },
      "execution_count": null,
      "outputs": [
        {
          "output_type": "stream",
          "name": "stdout",
          "text": [
            "K:  J1\n",
            "K:  J2\n",
            "K:  J3\n"
          ]
        }
      ]
    },
    {
      "cell_type": "code",
      "source": [
        "list_to_dic = dict(zip(names,age))       # Combain List to Dic\n",
        "list_to_dic # Output of Combain List to Dic\n",
        "for keys, values in list_to_dic.items():\n",
        "    print(\"K: \", keys)\n",
        "    print(\"V: \", values)"
      ],
      "metadata": {
        "id": "Fwcu1qp7B-IA",
        "outputId": "ffec8a99-27ea-4445-ff40-ef9824cde932",
        "colab": {
          "base_uri": "https://localhost:8080/"
        }
      },
      "execution_count": null,
      "outputs": [
        {
          "output_type": "stream",
          "name": "stdout",
          "text": [
            "K:  J1\n",
            "V:  1\n",
            "K:  J2\n",
            "V:  2\n",
            "K:  J3\n",
            "V:  3\n"
          ]
        }
      ]
    },
    {
      "cell_type": "code",
      "source": [
        "list_to_dic = dict(zip(names,age))       # Combain List to Dic\n",
        "list_to_dic # Output of Combain List to Dic\n",
        "for keys, values in list_to_dic.items():\n",
        "    print(\"K: \", keys)\n",
        "    print(\"V: \", values)\n",
        "    print(\"---end---\")"
      ],
      "metadata": {
        "id": "gFbjkrO6CBO2",
        "outputId": "006d5ddd-0cd5-4d0b-9b14-81540d5a5187",
        "colab": {
          "base_uri": "https://localhost:8080/"
        }
      },
      "execution_count": null,
      "outputs": [
        {
          "output_type": "stream",
          "name": "stdout",
          "text": [
            "K:  J1\n",
            "V:  1\n",
            "---end---\n",
            "K:  J2\n",
            "V:  2\n",
            "---end---\n",
            "K:  J3\n",
            "V:  3\n",
            "---end---\n"
          ]
        }
      ]
    }
  ]
}