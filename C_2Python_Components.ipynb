{
  "cells": [
    {
      "cell_type": "markdown",
      "metadata": {
        "id": "view-in-github",
        "colab_type": "text"
      },
      "source": [
        "<a href=\"https://colab.research.google.com/github/GIT-REPO-JAGAN/PYTHON-GOOGLE-COLOB/blob/main/C_2Python_Components.ipynb\" target=\"_parent\"><img src=\"https://colab.research.google.com/assets/colab-badge.svg\" alt=\"Open In Colab\"/></a>"
      ]
    },
    {
      "cell_type": "markdown",
      "id": "499539c7",
      "metadata": {
        "id": "499539c7"
      },
      "source": [
        "#### Components of Python program\n",
        "\n",
        "- Literals\n",
        "- Identifiers\n",
        "- Variable\n",
        "- Keyword\n",
        "- Constant\n",
        "- Comment\n",
        "- Expression\n",
        "- Statement\n",
        "- Block"
      ]
    },
    {
      "cell_type": "markdown",
      "id": "24df4535",
      "metadata": {
        "id": "24df4535"
      },
      "source": [
        "##Literals - Data or value stored\n",
        "\n",
        "- Python supports following Literals:\n",
        "    - Numerical Literal\n",
        "        - **Integer**  200, -10. Base 10 - Decimal - 0-9\n",
        "        - **Binary**   0, 1 - Base 2 - 0b1010, 0b100\n",
        "        - **Octal**    Octal: 0-7 - Base 8 - 0o15\n",
        "        - **Hexadecimal**  Base 16 - 0-9 and A-F - 0x1A\n",
        "        - **Float**   fractional numbers / Decimals\n",
        "        - **Complex**  a + bj\n",
        "            - a => real part\n",
        "            - b => imaginary part\n",
        "            - j => iota => square root of -1\n",
        "    - **String** Literal   sequence of characters enclosed within qoutes\n",
        "    - **Boolean** Literal   True, False\n",
        "    - **Special** Literal    None  "
      ]
    },
    {
      "cell_type": "markdown",
      "id": "2f4c01ed",
      "metadata": {
        "id": "2f4c01ed"
      },
      "source": [
        "- Numerical Literal\n",
        "    - Integer: 200, -10. Base 10 - Decimal - 0-9\n",
        "    - Binary: 0, 1 - Base 2 - 0b1010, 0b100\n",
        "    - Octal: 0-7 - Base 8 - 0o15\n",
        "    - Hexadecimal: Base 16 - 0-9 and A-F - 0x1A"
      ]
    },
    {
      "cell_type": "code",
      "execution_count": null,
      "id": "cf657103",
      "metadata": {
        "id": "cf657103"
      },
      "outputs": [],
      "source": [
        "a = 200"
      ]
    },
    {
      "cell_type": "code",
      "execution_count": null,
      "id": "af1dd6a5",
      "metadata": {
        "id": "af1dd6a5",
        "outputId": "ca24f7b7-42b5-45ab-ff8c-d55c6bc93673",
        "colab": {
          "base_uri": "https://localhost:8080/"
        }
      },
      "outputs": [
        {
          "output_type": "stream",
          "name": "stdout",
          "text": [
            "200\n"
          ]
        }
      ],
      "source": [
        "print(a)"
      ]
    },
    {
      "cell_type": "code",
      "execution_count": null,
      "id": "8869ab19",
      "metadata": {
        "id": "8869ab19"
      },
      "outputs": [],
      "source": [
        "b = 0b1010"
      ]
    },
    {
      "cell_type": "code",
      "execution_count": null,
      "id": "62f972d9",
      "metadata": {
        "id": "62f972d9",
        "outputId": "6e46deba-d9d4-46e3-feb7-5d04dec64795",
        "colab": {
          "base_uri": "https://localhost:8080/"
        }
      },
      "outputs": [
        {
          "output_type": "stream",
          "name": "stdout",
          "text": [
            "10\n"
          ]
        }
      ],
      "source": [
        "print(b)"
      ]
    },
    {
      "cell_type": "code",
      "execution_count": null,
      "id": "be2bfbd2",
      "metadata": {
        "id": "be2bfbd2",
        "outputId": "26f6b9e1-059a-49aa-e364-eaa77029b238",
        "colab": {
          "base_uri": "https://localhost:8080/"
        }
      },
      "outputs": [
        {
          "output_type": "stream",
          "name": "stdout",
          "text": [
            "0b11001\n"
          ]
        }
      ],
      "source": [
        "print(bin(25))"
      ]
    },
    {
      "cell_type": "code",
      "execution_count": null,
      "id": "45ba0fb6",
      "metadata": {
        "id": "45ba0fb6",
        "outputId": "c75b7b51-5e6b-47e0-e265-a49eb13e523f",
        "colab": {
          "base_uri": "https://localhost:8080/"
        }
      },
      "outputs": [
        {
          "output_type": "stream",
          "name": "stdout",
          "text": [
            "0b1000\n"
          ]
        }
      ],
      "source": [
        "print(bin(8))"
      ]
    },
    {
      "cell_type": "code",
      "execution_count": null,
      "id": "4efc30af",
      "metadata": {
        "id": "4efc30af"
      },
      "outputs": [],
      "source": [
        "c = 0o20"
      ]
    },
    {
      "cell_type": "code",
      "execution_count": null,
      "id": "c05dbc31",
      "metadata": {
        "id": "c05dbc31",
        "outputId": "5cf6eda2-1a9d-4e53-dfdb-569c98e605dd",
        "colab": {
          "base_uri": "https://localhost:8080/"
        }
      },
      "outputs": [
        {
          "output_type": "stream",
          "name": "stdout",
          "text": [
            "16\n"
          ]
        }
      ],
      "source": [
        "print(c)"
      ]
    },
    {
      "cell_type": "code",
      "execution_count": null,
      "id": "6f4b62e2",
      "metadata": {
        "id": "6f4b62e2",
        "outputId": "55734af7-7658-471f-ba35-f24e67938597",
        "colab": {
          "base_uri": "https://localhost:8080/"
        }
      },
      "outputs": [
        {
          "output_type": "stream",
          "name": "stdout",
          "text": [
            "0o31\n"
          ]
        }
      ],
      "source": [
        "print(oct(25))"
      ]
    },
    {
      "cell_type": "code",
      "execution_count": null,
      "id": "8136fc4f",
      "metadata": {
        "id": "8136fc4f",
        "outputId": "7b899c75-fe97-41a8-c031-4df6a7ff2cf3",
        "colab": {
          "base_uri": "https://localhost:8080/"
        }
      },
      "outputs": [
        {
          "output_type": "stream",
          "name": "stdout",
          "text": [
            "0o144\n"
          ]
        }
      ],
      "source": [
        "print(oct(100))"
      ]
    },
    {
      "cell_type": "code",
      "execution_count": null,
      "id": "52e7d120",
      "metadata": {
        "id": "52e7d120"
      },
      "outputs": [],
      "source": [
        "d = 0x1A"
      ]
    },
    {
      "cell_type": "code",
      "execution_count": null,
      "id": "5554c24a",
      "metadata": {
        "id": "5554c24a",
        "outputId": "ff8ef672-0391-4e94-81c9-1a0e3bc87a1d",
        "colab": {
          "base_uri": "https://localhost:8080/"
        }
      },
      "outputs": [
        {
          "output_type": "stream",
          "name": "stdout",
          "text": [
            "26\n"
          ]
        }
      ],
      "source": [
        "print(d)"
      ]
    },
    {
      "cell_type": "code",
      "execution_count": null,
      "id": "5895ab88",
      "metadata": {
        "id": "5895ab88",
        "outputId": "83cd4545-0a27-4d89-bf4c-4f5b7d4a7073",
        "colab": {
          "base_uri": "https://localhost:8080/"
        }
      },
      "outputs": [
        {
          "output_type": "stream",
          "name": "stdout",
          "text": [
            "0x64\n"
          ]
        }
      ],
      "source": [
        "print(hex(100))"
      ]
    },
    {
      "cell_type": "code",
      "execution_count": null,
      "id": "05a095ae",
      "metadata": {
        "id": "05a095ae",
        "outputId": "b8daa727-b912-4c1d-a4e7-b3c2a0671fef",
        "colab": {
          "base_uri": "https://localhost:8080/"
        }
      },
      "outputs": [
        {
          "output_type": "stream",
          "name": "stdout",
          "text": [
            "0b10000\n"
          ]
        }
      ],
      "source": [
        "print(bin(c))"
      ]
    },
    {
      "cell_type": "markdown",
      "id": "d6df577f",
      "metadata": {
        "id": "d6df577f"
      },
      "source": [
        "##Float: fractional numbers\n",
        "\n",
        "- 10.5, 200.012, -55.67"
      ]
    },
    {
      "cell_type": "code",
      "execution_count": null,
      "id": "e3cd8833",
      "metadata": {
        "id": "e3cd8833"
      },
      "outputs": [],
      "source": [
        "num1 = 10.5"
      ]
    },
    {
      "cell_type": "code",
      "execution_count": null,
      "id": "96733d63",
      "metadata": {
        "id": "96733d63",
        "outputId": "8f32ee75-c57b-4e6e-fcc5-b8f56b7f4034"
      },
      "outputs": [
        {
          "name": "stdout",
          "output_type": "stream",
          "text": [
            "10.5\n"
          ]
        }
      ],
      "source": [
        "print(num1)"
      ]
    },
    {
      "cell_type": "code",
      "execution_count": null,
      "id": "deb44cfb",
      "metadata": {
        "id": "deb44cfb",
        "outputId": "60b01960-b3c5-48f7-e862-f2551d547e48"
      },
      "outputs": [
        {
          "data": {
            "text/plain": [
              "16"
            ]
          },
          "execution_count": 17,
          "metadata": {},
          "output_type": "execute_result"
        }
      ],
      "source": [
        "a\n",
        "b\n",
        "c"
      ]
    },
    {
      "cell_type": "code",
      "execution_count": null,
      "id": "dcd223e0",
      "metadata": {
        "id": "dcd223e0",
        "outputId": "6cb9cb5e-ba81-4886-de3c-804800e7b3df"
      },
      "outputs": [
        {
          "name": "stdout",
          "output_type": "stream",
          "text": [
            "200\n",
            "10\n",
            "16\n"
          ]
        }
      ],
      "source": [
        "print(a)\n",
        "print(b)\n",
        "print(c)"
      ]
    },
    {
      "cell_type": "code",
      "execution_count": null,
      "id": "d10e6dfb",
      "metadata": {
        "id": "d10e6dfb",
        "outputId": "e3054613-02c0-4b2a-a46c-b2f635ac9b9b"
      },
      "outputs": [
        {
          "data": {
            "text/plain": [
              "10.5"
            ]
          },
          "execution_count": 19,
          "metadata": {},
          "output_type": "execute_result"
        }
      ],
      "source": [
        "num1"
      ]
    },
    {
      "cell_type": "code",
      "execution_count": null,
      "id": "78373779",
      "metadata": {
        "id": "78373779"
      },
      "outputs": [],
      "source": [
        "num2 = -25.56"
      ]
    },
    {
      "cell_type": "code",
      "execution_count": null,
      "id": "04871b0f",
      "metadata": {
        "id": "04871b0f",
        "outputId": "1ef4a4af-78cb-450f-8cfe-35b657f331c0"
      },
      "outputs": [
        {
          "data": {
            "text/plain": [
              "-25.56"
            ]
          },
          "execution_count": 21,
          "metadata": {},
          "output_type": "execute_result"
        }
      ],
      "source": [
        "num2"
      ]
    },
    {
      "cell_type": "markdown",
      "id": "24226673",
      "metadata": {
        "id": "24226673"
      },
      "source": [
        "##Complex number => real part + imaginary part\n",
        "\n",
        "a + bj\n",
        "\n",
        "- a => real part\n",
        "- b => imaginary part\n",
        "- j => iota => square root of -1"
      ]
    },
    {
      "cell_type": "code",
      "execution_count": null,
      "id": "a3d012e9",
      "metadata": {
        "id": "a3d012e9"
      },
      "outputs": [],
      "source": [
        "c1 = 5 + 6j"
      ]
    },
    {
      "cell_type": "code",
      "execution_count": null,
      "id": "29dcb26a",
      "metadata": {
        "id": "29dcb26a",
        "outputId": "c77e4328-c525-40be-a112-a42e9a63d0e0"
      },
      "outputs": [
        {
          "data": {
            "text/plain": [
              "(5+6j)"
            ]
          },
          "execution_count": 23,
          "metadata": {},
          "output_type": "execute_result"
        }
      ],
      "source": [
        "c1"
      ]
    },
    {
      "cell_type": "markdown",
      "id": "2c896133",
      "metadata": {
        "id": "2c896133"
      },
      "source": [
        "##String literal: sequence of characters enclosed within qoutes"
      ]
    },
    {
      "cell_type": "code",
      "execution_count": null,
      "id": "360e9c89",
      "metadata": {
        "id": "360e9c89"
      },
      "outputs": [],
      "source": [
        "s1 = 'hello world'"
      ]
    },
    {
      "cell_type": "code",
      "execution_count": null,
      "id": "623db80c",
      "metadata": {
        "id": "623db80c",
        "outputId": "a19db248-23ca-4086-a7e3-6e305b6511c8"
      },
      "outputs": [
        {
          "data": {
            "text/plain": [
              "'hello world'"
            ]
          },
          "execution_count": 25,
          "metadata": {},
          "output_type": "execute_result"
        }
      ],
      "source": [
        "s1"
      ]
    },
    {
      "cell_type": "code",
      "execution_count": null,
      "id": "a2fe9cfb",
      "metadata": {
        "id": "a2fe9cfb"
      },
      "outputs": [],
      "source": [
        "s2 = \"How are you?\""
      ]
    },
    {
      "cell_type": "code",
      "execution_count": null,
      "id": "a07a18b3",
      "metadata": {
        "id": "a07a18b3",
        "outputId": "f103a485-f8fb-46ac-b1fe-8052e09796e1"
      },
      "outputs": [
        {
          "data": {
            "text/plain": [
              "'How are you?'"
            ]
          },
          "execution_count": 27,
          "metadata": {},
          "output_type": "execute_result"
        }
      ],
      "source": [
        "s2"
      ]
    },
    {
      "cell_type": "code",
      "execution_count": null,
      "id": "0a24bb5f",
      "metadata": {
        "id": "0a24bb5f"
      },
      "outputs": [],
      "source": [
        "s3 = '''We are learning Python'''"
      ]
    },
    {
      "cell_type": "code",
      "execution_count": null,
      "id": "dbca374f",
      "metadata": {
        "id": "dbca374f",
        "outputId": "c1e85e9e-e1d2-48c5-98a3-6d8070d41bae"
      },
      "outputs": [
        {
          "data": {
            "text/plain": [
              "'We are learning Python'"
            ]
          },
          "execution_count": 29,
          "metadata": {},
          "output_type": "execute_result"
        }
      ],
      "source": [
        "s3"
      ]
    },
    {
      "cell_type": "code",
      "execution_count": null,
      "id": "af86417e",
      "metadata": {
        "id": "af86417e"
      },
      "outputs": [],
      "source": [
        "s4 = \"\"\"Python is fun\"\"\""
      ]
    },
    {
      "cell_type": "code",
      "execution_count": null,
      "id": "30ed7c9d",
      "metadata": {
        "id": "30ed7c9d",
        "outputId": "38d97815-a122-4c23-c8ee-6f729c87856c"
      },
      "outputs": [
        {
          "data": {
            "text/plain": [
              "'Python is fun'"
            ]
          },
          "execution_count": 31,
          "metadata": {},
          "output_type": "execute_result"
        }
      ],
      "source": [
        "s4"
      ]
    },
    {
      "cell_type": "code",
      "execution_count": null,
      "id": "1b3a9fd1",
      "metadata": {
        "id": "1b3a9fd1",
        "outputId": "7e72a861-699e-47b7-ad77-d11a868e9206"
      },
      "outputs": [
        {
          "ename": "SyntaxError",
          "evalue": "EOL while scanning string literal (Temp/ipykernel_4848/2541063421.py, line 1)",
          "output_type": "error",
          "traceback": [
            "\u001b[1;36m  File \u001b[1;32m\"C:\\Users\\hp\\AppData\\Local\\Temp/ipykernel_4848/2541063421.py\"\u001b[1;36m, line \u001b[1;32m1\u001b[0m\n\u001b[1;33m    s5 = \"Hello\u001b[0m\n\u001b[1;37m               ^\u001b[0m\n\u001b[1;31mSyntaxError\u001b[0m\u001b[1;31m:\u001b[0m EOL while scanning string literal\n"
          ]
        }
      ],
      "source": [
        "s5 = \"Hello\n",
        "How are you?\n",
        "Bye\""
      ]
    },
    {
      "cell_type": "code",
      "execution_count": null,
      "id": "b42f72c7",
      "metadata": {
        "id": "b42f72c7"
      },
      "outputs": [],
      "source": [
        "s5 = '''Hello\n",
        "How are you?\n",
        "Bye!!'''"
      ]
    },
    {
      "cell_type": "code",
      "execution_count": null,
      "id": "3736fb81",
      "metadata": {
        "id": "3736fb81",
        "outputId": "bc82db51-76be-48ea-de65-b385cffd38ea"
      },
      "outputs": [
        {
          "data": {
            "text/plain": [
              "'Hello\\nHow are you?\\nBye!!'"
            ]
          },
          "execution_count": 34,
          "metadata": {},
          "output_type": "execute_result"
        }
      ],
      "source": [
        "s5"
      ]
    },
    {
      "cell_type": "code",
      "execution_count": null,
      "id": "a3d08f9d",
      "metadata": {
        "id": "a3d08f9d"
      },
      "outputs": [],
      "source": [
        "# \\n => new line character"
      ]
    },
    {
      "cell_type": "code",
      "execution_count": null,
      "id": "f69056c9",
      "metadata": {
        "id": "f69056c9"
      },
      "outputs": [],
      "source": [
        "s6 = \"I am working on Python3\""
      ]
    },
    {
      "cell_type": "code",
      "execution_count": null,
      "id": "05613eb6",
      "metadata": {
        "id": "05613eb6",
        "outputId": "438739f9-8aea-454b-a9a6-ced6a7477d90"
      },
      "outputs": [
        {
          "data": {
            "text/plain": [
              "'I am working on Python3'"
            ]
          },
          "execution_count": 37,
          "metadata": {},
          "output_type": "execute_result"
        }
      ],
      "source": [
        "s6"
      ]
    },
    {
      "cell_type": "code",
      "execution_count": null,
      "id": "2c6fc68d",
      "metadata": {
        "id": "2c6fc68d",
        "outputId": "eb87fe57-2891-418d-9d27-ff196d05ab38"
      },
      "outputs": [
        {
          "name": "stdout",
          "output_type": "stream",
          "text": [
            "Hello\n",
            "How are you?\n",
            "Bye!!\n"
          ]
        }
      ],
      "source": [
        "print(s5)"
      ]
    },
    {
      "cell_type": "code",
      "execution_count": null,
      "id": "b81cbf38",
      "metadata": {
        "id": "b81cbf38",
        "outputId": "d16a071b-0506-4087-9e00-7f3d0dceb041"
      },
      "outputs": [
        {
          "ename": "SyntaxError",
          "evalue": "invalid syntax (Temp/ipykernel_4848/2942857006.py, line 1)",
          "output_type": "error",
          "traceback": [
            "\u001b[1;36m  File \u001b[1;32m\"C:\\Users\\hp\\AppData\\Local\\Temp/ipykernel_4848/2942857006.py\"\u001b[1;36m, line \u001b[1;32m1\u001b[0m\n\u001b[1;33m    s7 = 'This is Python's class'\u001b[0m\n\u001b[1;37m                         ^\u001b[0m\n\u001b[1;31mSyntaxError\u001b[0m\u001b[1;31m:\u001b[0m invalid syntax\n"
          ]
        }
      ],
      "source": [
        "s7 = 'This is Python's class'"
      ]
    },
    {
      "cell_type": "code",
      "execution_count": null,
      "id": "b533a612",
      "metadata": {
        "id": "b533a612"
      },
      "outputs": [],
      "source": [
        "s7 = \"This is Python's class\""
      ]
    },
    {
      "cell_type": "code",
      "execution_count": null,
      "id": "6b5a7696",
      "metadata": {
        "id": "6b5a7696",
        "outputId": "f8cca660-35bb-4022-eff9-3d356f3b4a4d"
      },
      "outputs": [
        {
          "name": "stdout",
          "output_type": "stream",
          "text": [
            "This is Python's class\n"
          ]
        }
      ],
      "source": [
        "print(s7)"
      ]
    },
    {
      "cell_type": "code",
      "execution_count": null,
      "id": "7b80c227",
      "metadata": {
        "id": "7b80c227"
      },
      "outputs": [],
      "source": []
    },
    {
      "cell_type": "markdown",
      "id": "a7e411f4",
      "metadata": {
        "id": "a7e411f4"
      },
      "source": [
        "##Boolean literal: True, False\n",
        "\n"
      ]
    },
    {
      "cell_type": "code",
      "execution_count": null,
      "id": "1c87425b",
      "metadata": {
        "id": "1c87425b"
      },
      "outputs": [],
      "source": [
        "val1 = True"
      ]
    },
    {
      "cell_type": "code",
      "execution_count": null,
      "id": "7022866e",
      "metadata": {
        "id": "7022866e",
        "outputId": "4d3f3463-38a2-4f76-dc72-ffe03ec8c639"
      },
      "outputs": [
        {
          "data": {
            "text/plain": [
              "True"
            ]
          },
          "execution_count": 44,
          "metadata": {},
          "output_type": "execute_result"
        }
      ],
      "source": [
        "val1"
      ]
    },
    {
      "cell_type": "code",
      "execution_count": null,
      "id": "334afee9",
      "metadata": {
        "id": "334afee9"
      },
      "outputs": [],
      "source": [
        "val2 = False"
      ]
    },
    {
      "cell_type": "code",
      "execution_count": null,
      "id": "67b5c4fe",
      "metadata": {
        "id": "67b5c4fe",
        "outputId": "9c724177-81cf-46b1-bc0a-c371670ac55c"
      },
      "outputs": [
        {
          "data": {
            "text/plain": [
              "False"
            ]
          },
          "execution_count": 46,
          "metadata": {},
          "output_type": "execute_result"
        }
      ],
      "source": [
        "val2"
      ]
    },
    {
      "cell_type": "markdown",
      "id": "704bcbb0",
      "metadata": {
        "id": "704bcbb0"
      },
      "source": [
        "##Special Literal: None  \n",
        "eg val = None"
      ]
    },
    {
      "cell_type": "code",
      "execution_count": null,
      "id": "4faec121",
      "metadata": {
        "id": "4faec121"
      },
      "outputs": [],
      "source": [
        "val = None"
      ]
    },
    {
      "cell_type": "code",
      "execution_count": null,
      "id": "7110d293",
      "metadata": {
        "id": "7110d293",
        "outputId": "be454f66-69d7-4e80-bafd-a2c885def1a2"
      },
      "outputs": [
        {
          "name": "stdout",
          "output_type": "stream",
          "text": [
            "None\n"
          ]
        }
      ],
      "source": [
        "print(val)"
      ]
    },
    {
      "cell_type": "code",
      "execution_count": null,
      "id": "342b3c48",
      "metadata": {
        "id": "342b3c48",
        "outputId": "9aba1e85-e784-4cfe-a680-13bdda0a71e2"
      },
      "outputs": [
        {
          "data": {
            "text/plain": [
              "140733530184920"
            ]
          },
          "execution_count": 49,
          "metadata": {},
          "output_type": "execute_result"
        }
      ],
      "source": [
        "id(val)"
      ]
    },
    {
      "cell_type": "code",
      "execution_count": null,
      "id": "288866ff",
      "metadata": {
        "id": "288866ff"
      },
      "outputs": [],
      "source": []
    },
    {
      "cell_type": "markdown",
      "id": "e4920dc7",
      "metadata": {
        "id": "e4920dc7"
      },
      "source": [
        "##Identifier: A name given to a variable, function, class\n",
        "\n",
        "- Rules for defining an identifier:\n",
        "    - Can only contain - a-z, A-Z, 0-9, _\n",
        "    - Special characters are NOT allowed: ^, &, @, #, .....\n",
        "    - Cannot start with a digit (0-9)\n",
        "    - Cannot be a keyword\n",
        "    - Case sensitive - 'var' and 'Var' are different\n",
        "    - Do not use In-built functions as identifier"
      ]
    },
    {
      "cell_type": "code",
      "execution_count": null,
      "id": "34e3609d",
      "metadata": {
        "id": "34e3609d"
      },
      "outputs": [],
      "source": [
        "Var_1 = 100"
      ]
    },
    {
      "cell_type": "code",
      "execution_count": null,
      "id": "c87893c1",
      "metadata": {
        "id": "c87893c1",
        "outputId": "0448e18c-3dee-425a-e733-973301ae86f1"
      },
      "outputs": [
        {
          "data": {
            "text/plain": [
              "100"
            ]
          },
          "execution_count": 51,
          "metadata": {},
          "output_type": "execute_result"
        }
      ],
      "source": [
        "Var_1"
      ]
    },
    {
      "cell_type": "code",
      "execution_count": null,
      "id": "b74e8952",
      "metadata": {
        "id": "b74e8952",
        "outputId": "a639e446-463c-4695-92b8-3737cafe6116"
      },
      "outputs": [
        {
          "ename": "NameError",
          "evalue": "name 'var_' is not defined",
          "output_type": "error",
          "traceback": [
            "\u001b[1;31m---------------------------------------------------------------------------\u001b[0m",
            "\u001b[1;31mNameError\u001b[0m                                 Traceback (most recent call last)",
            "\u001b[1;32m~\\AppData\\Local\\Temp/ipykernel_4848/1023396351.py\u001b[0m in \u001b[0;36m<module>\u001b[1;34m\u001b[0m\n\u001b[1;32m----> 1\u001b[1;33m \u001b[0mvar_\u001b[0m\u001b[1;31m# = 200\u001b[0m\u001b[1;33m\u001b[0m\u001b[1;33m\u001b[0m\u001b[0m\n\u001b[0m",
            "\u001b[1;31mNameError\u001b[0m: name 'var_' is not defined"
          ]
        }
      ],
      "source": [
        "var_# = 200"
      ]
    },
    {
      "cell_type": "code",
      "execution_count": null,
      "id": "aeabef95",
      "metadata": {
        "id": "aeabef95"
      },
      "outputs": [],
      "source": [
        "var1 = 10"
      ]
    },
    {
      "cell_type": "code",
      "execution_count": null,
      "id": "81947583",
      "metadata": {
        "id": "81947583",
        "outputId": "8cf067b3-0cb3-47b9-c49c-9721409f9cd2"
      },
      "outputs": [
        {
          "ename": "SyntaxError",
          "evalue": "invalid syntax (Temp/ipykernel_4848/2311339134.py, line 1)",
          "output_type": "error",
          "traceback": [
            "\u001b[1;36m  File \u001b[1;32m\"C:\\Users\\hp\\AppData\\Local\\Temp/ipykernel_4848/2311339134.py\"\u001b[1;36m, line \u001b[1;32m1\u001b[0m\n\u001b[1;33m    1var = 20\u001b[0m\n\u001b[1;37m     ^\u001b[0m\n\u001b[1;31mSyntaxError\u001b[0m\u001b[1;31m:\u001b[0m invalid syntax\n"
          ]
        }
      ],
      "source": [
        "1var = 20"
      ]
    },
    {
      "cell_type": "code",
      "execution_count": null,
      "id": "14f43299",
      "metadata": {
        "id": "14f43299",
        "outputId": "ffa9d229-edce-4373-e05c-9057cc160584"
      },
      "outputs": [
        {
          "ename": "SyntaxError",
          "evalue": "invalid syntax (Temp/ipykernel_4848/1639650106.py, line 1)",
          "output_type": "error",
          "traceback": [
            "\u001b[1;36m  File \u001b[1;32m\"C:\\Users\\hp\\AppData\\Local\\Temp/ipykernel_4848/1639650106.py\"\u001b[1;36m, line \u001b[1;32m1\u001b[0m\n\u001b[1;33m    if = 200\u001b[0m\n\u001b[1;37m       ^\u001b[0m\n\u001b[1;31mSyntaxError\u001b[0m\u001b[1;31m:\u001b[0m invalid syntax\n"
          ]
        }
      ],
      "source": [
        "if = 200"
      ]
    },
    {
      "cell_type": "code",
      "execution_count": null,
      "id": "391b08fd",
      "metadata": {
        "id": "391b08fd"
      },
      "outputs": [],
      "source": [
        "var = 100\n",
        "Var = 200"
      ]
    },
    {
      "cell_type": "code",
      "execution_count": null,
      "id": "0980269c",
      "metadata": {
        "id": "0980269c",
        "outputId": "f890c296-3363-4f61-bcb8-635a1e7e99dc"
      },
      "outputs": [
        {
          "data": {
            "text/plain": [
              "100"
            ]
          },
          "execution_count": 57,
          "metadata": {},
          "output_type": "execute_result"
        }
      ],
      "source": [
        "var"
      ]
    },
    {
      "cell_type": "code",
      "execution_count": null,
      "id": "9618034f",
      "metadata": {
        "id": "9618034f",
        "outputId": "b3e120a4-f5c1-4acf-c025-4520c4d4022f"
      },
      "outputs": [
        {
          "data": {
            "text/plain": [
              "200"
            ]
          },
          "execution_count": 58,
          "metadata": {},
          "output_type": "execute_result"
        }
      ],
      "source": [
        "Var"
      ]
    },
    {
      "cell_type": "code",
      "execution_count": null,
      "id": "2eae32f0",
      "metadata": {
        "id": "2eae32f0"
      },
      "outputs": [],
      "source": [
        "value = 100"
      ]
    },
    {
      "cell_type": "code",
      "execution_count": null,
      "id": "16f2f26e",
      "metadata": {
        "id": "16f2f26e",
        "outputId": "f392a1c1-e5d7-450c-f84e-60be8c5db258"
      },
      "outputs": [
        {
          "ename": "NameError",
          "evalue": "name 'Value' is not defined",
          "output_type": "error",
          "traceback": [
            "\u001b[1;31m---------------------------------------------------------------------------\u001b[0m",
            "\u001b[1;31mNameError\u001b[0m                                 Traceback (most recent call last)",
            "\u001b[1;32m~\\AppData\\Local\\Temp/ipykernel_4848/3002434512.py\u001b[0m in \u001b[0;36m<module>\u001b[1;34m\u001b[0m\n\u001b[1;32m----> 1\u001b[1;33m \u001b[0mprint\u001b[0m\u001b[1;33m(\u001b[0m\u001b[0mValue\u001b[0m\u001b[1;33m)\u001b[0m\u001b[1;33m\u001b[0m\u001b[1;33m\u001b[0m\u001b[0m\n\u001b[0m",
            "\u001b[1;31mNameError\u001b[0m: name 'Value' is not defined"
          ]
        }
      ],
      "source": [
        "print(Value)"
      ]
    },
    {
      "cell_type": "code",
      "execution_count": null,
      "id": "52ae3702",
      "metadata": {
        "id": "52ae3702"
      },
      "outputs": [],
      "source": []
    },
    {
      "cell_type": "markdown",
      "id": "716bf772",
      "metadata": {
        "id": "716bf772"
      },
      "source": [
        "##Variable: Name given to a value/data to be stored. The value of a variable can change/vary.\n",
        "\n",
        "- Rules of the variable are same as identifier\n",
        "- When we assign a value to a variable, the value gets stored in the memory and the variable refers to the memory where that value gets stored\n",
        "- In Python, we can change the value of a constant\n",
        "- Constants are just defined as upper case variables just an indication that it should not be changed! Constant: It is like variable but the value does not change In Python, we define constants as **capital/upper** case variables/identifier"
      ]
    },
    {
      "cell_type": "markdown",
      "id": "13d5abe7",
      "metadata": {
        "id": "13d5abe7"
      },
      "source": [
        "\n"
      ]
    },
    {
      "cell_type": "code",
      "execution_count": null,
      "id": "9128f076",
      "metadata": {
        "id": "9128f076"
      },
      "outputs": [],
      "source": [
        "GRAVITY = 9.8"
      ]
    },
    {
      "cell_type": "code",
      "execution_count": null,
      "id": "8594792f",
      "metadata": {
        "id": "8594792f",
        "outputId": "eb789cbf-1d5b-401c-f152-3720299e4b0a"
      },
      "outputs": [
        {
          "name": "stdout",
          "output_type": "stream",
          "text": [
            "9.8\n"
          ]
        }
      ],
      "source": [
        "print(GRAVITY)"
      ]
    },
    {
      "cell_type": "code",
      "execution_count": null,
      "id": "84c6eba2",
      "metadata": {
        "id": "84c6eba2"
      },
      "outputs": [],
      "source": [
        "GRAVITY = 10"
      ]
    },
    {
      "cell_type": "code",
      "execution_count": null,
      "id": "43ce48bc",
      "metadata": {
        "id": "43ce48bc",
        "outputId": "efce71e4-4264-4577-a955-00d87b339abc"
      },
      "outputs": [
        {
          "name": "stdout",
          "output_type": "stream",
          "text": [
            "10\n"
          ]
        }
      ],
      "source": [
        "print(GRAVITY)"
      ]
    },
    {
      "cell_type": "markdown",
      "id": "92658d1a",
      "metadata": {
        "id": "92658d1a"
      },
      "source": []
    },
    {
      "cell_type": "code",
      "execution_count": null,
      "id": "b3e8dcfb",
      "metadata": {
        "id": "b3e8dcfb"
      },
      "outputs": [],
      "source": []
    },
    {
      "cell_type": "markdown",
      "id": "01030ee1",
      "metadata": {
        "id": "01030ee1"
      },
      "source": [
        "##Keywords: Pre-defined reserved words having a special meaning and which does a particular task\n",
        "\n",
        "- there are 36 keywords in current version of Python\n",
        "- Example: if, for, while, else, def, True, ...\n",
        "- There is a 'keyword' module which helps us to list all the keywords\n",
        "**eg:print(keyword.kwlist)**"
      ]
    },
    {
      "cell_type": "code",
      "execution_count": null,
      "id": "eccb0db2",
      "metadata": {
        "id": "eccb0db2"
      },
      "outputs": [],
      "source": [
        "import keyword"
      ]
    },
    {
      "cell_type": "code",
      "execution_count": null,
      "id": "ba25541f",
      "metadata": {
        "id": "ba25541f",
        "outputId": "81dc863e-4cf0-4b70-f0fa-5893ac410f26",
        "colab": {
          "base_uri": "https://localhost:8080/",
          "height": 171
        }
      },
      "outputs": [
        {
          "output_type": "error",
          "ename": "NameError",
          "evalue": "ignored",
          "traceback": [
            "\u001b[0;31m---------------------------------------------------------------------------\u001b[0m",
            "\u001b[0;31mNameError\u001b[0m                                 Traceback (most recent call last)",
            "\u001b[0;32m<ipython-input-1-e95b2ef98bdd>\u001b[0m in \u001b[0;36m<cell line: 1>\u001b[0;34m()\u001b[0m\n\u001b[0;32m----> 1\u001b[0;31m \u001b[0mprint\u001b[0m\u001b[0;34m(\u001b[0m\u001b[0mkeyword\u001b[0m\u001b[0;34m.\u001b[0m\u001b[0mkwlist\u001b[0m\u001b[0;34m)\u001b[0m\u001b[0;34m\u001b[0m\u001b[0;34m\u001b[0m\u001b[0m\n\u001b[0m",
            "\u001b[0;31mNameError\u001b[0m: name 'keyword' is not defined"
          ]
        }
      ],
      "source": [
        "print(keyword.kwlist)"
      ]
    },
    {
      "cell_type": "code",
      "execution_count": null,
      "id": "9e89a5ee",
      "metadata": {
        "id": "9e89a5ee"
      },
      "outputs": [],
      "source": []
    },
    {
      "cell_type": "code",
      "execution_count": null,
      "id": "75cef955",
      "metadata": {
        "id": "75cef955",
        "outputId": "4233e26b-ea8b-494c-aaaf-c91dd63dd859"
      },
      "outputs": [
        {
          "ename": "NameError",
          "evalue": "name 'platform' is not defined",
          "output_type": "error",
          "traceback": [
            "\u001b[1;31m---------------------------------------------------------------------------\u001b[0m",
            "\u001b[1;31mNameError\u001b[0m                                 Traceback (most recent call last)",
            "\u001b[1;32m~\\AppData\\Local\\Temp/ipykernel_4848/2598540469.py\u001b[0m in \u001b[0;36m<module>\u001b[1;34m\u001b[0m\n\u001b[1;32m----> 1\u001b[1;33m \u001b[0mplatform\u001b[0m\u001b[1;33m.\u001b[0m\u001b[0mpython_version\u001b[0m\u001b[1;33m(\u001b[0m\u001b[1;33m)\u001b[0m\u001b[1;33m\u001b[0m\u001b[1;33m\u001b[0m\u001b[0m\n\u001b[0m",
            "\u001b[1;31mNameError\u001b[0m: name 'platform' is not defined"
          ]
        }
      ],
      "source": [
        "platform.python_version()"
      ]
    },
    {
      "cell_type": "code",
      "execution_count": null,
      "id": "175c7290",
      "metadata": {
        "id": "175c7290"
      },
      "outputs": [],
      "source": [
        "import platform"
      ]
    },
    {
      "cell_type": "code",
      "execution_count": null,
      "id": "5934544c",
      "metadata": {
        "id": "5934544c",
        "outputId": "3c2e6553-23f3-47cb-a677-535b8406bfd3"
      },
      "outputs": [
        {
          "data": {
            "text/plain": [
              "'3.9.7'"
            ]
          },
          "execution_count": 71,
          "metadata": {},
          "output_type": "execute_result"
        }
      ],
      "source": [
        "platform.python_version()"
      ]
    },
    {
      "cell_type": "code",
      "execution_count": null,
      "id": "16f5d6c4",
      "metadata": {
        "id": "16f5d6c4"
      },
      "outputs": [],
      "source": []
    },
    {
      "cell_type": "markdown",
      "id": "5c065ee1",
      "metadata": {
        "id": "5c065ee1"
      },
      "source": [
        "##Comment: notes/illustrative info about the code that we write in our program\n",
        "\n",
        "- It is a good practice to write comments in the program\n",
        "- '#' is used to write single line comment\n",
        "- triple qoutes are used to write multi-line comments"
      ]
    },
    {
      "cell_type": "code",
      "execution_count": null,
      "id": "c3a04ac1",
      "metadata": {
        "id": "c3a04ac1",
        "outputId": "cfd4f1a2-d60a-4d65-ff7a-1762bf9b4f80"
      },
      "outputs": [
        {
          "name": "stdout",
          "output_type": "stream",
          "text": [
            "30\n"
          ]
        }
      ],
      "source": [
        "a = 10\n",
        "b = 20\n",
        "c = a + b\n",
        "print(c)"
      ]
    },
    {
      "cell_type": "code",
      "execution_count": null,
      "id": "12ef48bd",
      "metadata": {
        "id": "12ef48bd",
        "outputId": "288163e9-7183-44d3-bf13-18e71c30962c"
      },
      "outputs": [
        {
          "name": "stdout",
          "output_type": "stream",
          "text": [
            "30\n"
          ]
        }
      ],
      "source": [
        "# Adding 2 numbers and displaying the result\n",
        "a = 10\n",
        "b = 20\n",
        "c = a + b\n",
        "print(c)"
      ]
    },
    {
      "cell_type": "markdown",
      "id": "daab3535",
      "metadata": {
        "id": "daab3535"
      },
      "source": [
        "Comments are NOT executed. They are ignored by the compiler and the interpreter"
      ]
    },
    {
      "cell_type": "code",
      "execution_count": null,
      "id": "0571e521",
      "metadata": {
        "id": "0571e521",
        "outputId": "d871cb66-c711-443c-d91e-ae001c9a8295"
      },
      "outputs": [
        {
          "name": "stdout",
          "output_type": "stream",
          "text": [
            "30\n"
          ]
        }
      ],
      "source": [
        "# Adding 2 numbers and displaying the result\n",
        "a = 10 # Assiging value 10 to variable a\n",
        "b = 20 # Assiging value 20 to variable b\n",
        "c = a + b # Add\n",
        "print(c) # Displaying the value of c"
      ]
    },
    {
      "cell_type": "code",
      "execution_count": null,
      "id": "982409bd",
      "metadata": {
        "id": "982409bd",
        "outputId": "8bbc0c0e-6d11-4e31-ec4f-7be4eab97692"
      },
      "outputs": [
        {
          "name": "stdout",
          "output_type": "stream",
          "text": [
            "30\n"
          ]
        }
      ],
      "source": [
        "# Adding 2 numbers\n",
        "# First assign 2 values to 2 variables\n",
        "# Then add them and assign to new variable\n",
        "# Display the result\n",
        "a = 10\n",
        "b = 20\n",
        "c = a + b\n",
        "print(c)"
      ]
    },
    {
      "cell_type": "code",
      "execution_count": null,
      "id": "37238ba4",
      "metadata": {
        "id": "37238ba4",
        "outputId": "5692156d-e901-4f62-a5b8-d9065af57215"
      },
      "outputs": [
        {
          "name": "stdout",
          "output_type": "stream",
          "text": [
            "30\n"
          ]
        }
      ],
      "source": [
        "# Adding 2 numbers\n",
        "# First assign 2 values to 2 variables\n",
        "# Then add them and assign to new variable\n",
        "# Display the result\n",
        "a = 10\n",
        "b = 20\n",
        "c = a + b\n",
        "print(c)\n",
        "# Another comment"
      ]
    },
    {
      "cell_type": "code",
      "execution_count": null,
      "id": "e562a6c0",
      "metadata": {
        "id": "e562a6c0"
      },
      "outputs": [],
      "source": [
        "# Adding 2 numbers\n",
        "# First assign 2 values to 2 variables\n",
        "# Then add them and assign to new variable\n",
        "# Display the result\n",
        "a = 10\n",
        "b = 20\n",
        "c = a + b\n",
        "# print(c)\n",
        "# Another comment"
      ]
    },
    {
      "cell_type": "code",
      "execution_count": null,
      "id": "7acde58e",
      "metadata": {
        "id": "7acde58e",
        "outputId": "f821cf4f-6402-4d05-fcc8-e56cc2994102"
      },
      "outputs": [
        {
          "name": "stdout",
          "output_type": "stream",
          "text": [
            "30\n"
          ]
        }
      ],
      "source": [
        "\"\"\"Adding 2 numbers\n",
        "First assign 2 values to 2 variables\n",
        "Then add them and assign to new variable\n",
        "Display the result\n",
        "\"\"\"\n",
        "a = 10\n",
        "b = 20\n",
        "c = a + b # Add\n",
        "print(c)"
      ]
    },
    {
      "cell_type": "code",
      "execution_count": null,
      "id": "1eac601f",
      "metadata": {
        "id": "1eac601f",
        "outputId": "84b0a286-f8c3-49e5-c1fc-71aa78cbd1df"
      },
      "outputs": [
        {
          "data": {
            "text/plain": [
              "'Hello\\nHow are you?'"
            ]
          },
          "execution_count": 80,
          "metadata": {},
          "output_type": "execute_result"
        }
      ],
      "source": [
        "\"\"\"Hello\n",
        "How are you?\"\"\""
      ]
    },
    {
      "cell_type": "code",
      "execution_count": null,
      "id": "89cfa947",
      "metadata": {
        "id": "89cfa947"
      },
      "outputs": [],
      "source": []
    },
    {
      "cell_type": "markdown",
      "id": "f9f1d275",
      "metadata": {
        "id": "f9f1d275"
      },
      "source": [
        "##Expression: combination of values, variables and operators\n",
        "\n",
        "- Expressions are evaluated\n",
        "- We can assign the output of an expression to a variable or print directly\n",
        "eg: a * 2 + 5 "
      ]
    },
    {
      "cell_type": "code",
      "execution_count": null,
      "id": "c18eead0",
      "metadata": {
        "id": "c18eead0"
      },
      "outputs": [],
      "source": [
        "a = 10"
      ]
    },
    {
      "cell_type": "code",
      "execution_count": null,
      "id": "450c9087",
      "metadata": {
        "id": "450c9087",
        "outputId": "716e073f-18fe-49d7-fbdc-b8f443760b19"
      },
      "outputs": [
        {
          "data": {
            "text/plain": [
              "25"
            ]
          },
          "execution_count": 82,
          "metadata": {},
          "output_type": "execute_result"
        }
      ],
      "source": [
        "a * 2 + 5"
      ]
    },
    {
      "cell_type": "code",
      "execution_count": null,
      "id": "be7a545b",
      "metadata": {
        "id": "be7a545b",
        "outputId": "b32ecddd-ca97-4aed-cad2-a7bd6900013f"
      },
      "outputs": [
        {
          "name": "stdout",
          "output_type": "stream",
          "text": [
            "25\n"
          ]
        }
      ],
      "source": [
        "print(a * 2 + 5)"
      ]
    },
    {
      "cell_type": "code",
      "execution_count": null,
      "id": "ac73a42c",
      "metadata": {
        "id": "ac73a42c"
      },
      "outputs": [],
      "source": [
        "res = a * 2 + 5"
      ]
    },
    {
      "cell_type": "code",
      "execution_count": null,
      "id": "9c93cb27",
      "metadata": {
        "id": "9c93cb27"
      },
      "outputs": [],
      "source": [
        "value = 100"
      ]
    },
    {
      "cell_type": "code",
      "execution_count": null,
      "id": "c41e3b2c",
      "metadata": {
        "id": "c41e3b2c"
      },
      "outputs": [],
      "source": []
    },
    {
      "cell_type": "markdown",
      "id": "045b6b96",
      "metadata": {
        "id": "045b6b96"
      },
      "source": [
        "##Statement: Iinstruction that we write in the code for execution"
      ]
    },
    {
      "cell_type": "code",
      "execution_count": null,
      "id": "ffc48f79",
      "metadata": {
        "id": "ffc48f79"
      },
      "outputs": [],
      "source": [
        "res = a * 2 + 5"
      ]
    },
    {
      "cell_type": "code",
      "execution_count": null,
      "id": "5a739e5e",
      "metadata": {
        "id": "5a739e5e",
        "outputId": "a2e78128-7b8b-41e0-f823-4b32e01e56ee"
      },
      "outputs": [
        {
          "name": "stdout",
          "output_type": "stream",
          "text": [
            "25\n"
          ]
        }
      ],
      "source": [
        "print(res)"
      ]
    },
    {
      "cell_type": "code",
      "execution_count": null,
      "id": "4498bc1e",
      "metadata": {
        "id": "4498bc1e"
      },
      "outputs": [],
      "source": []
    },
    {
      "cell_type": "markdown",
      "id": "95e7328d",
      "metadata": {
        "id": "95e7328d"
      },
      "source": [
        "##Block: Combination of statements\n",
        "\n",
        "- We use **indentation** to write blocks in Python\n",
        "- Indentation is spaces/tab\n",
        "- Standard is to use 4 whitespaces for indentation\n",
        "\n",
        "EG\n",
        "if num < 0:\n",
        "    print(\"Number is negative\")  # if block   # The given space is called Indentation\n",
        "else:\n",
        "    print(\"Number is positive\")  # else block"
      ]
    },
    {
      "cell_type": "code",
      "execution_count": null,
      "id": "5dd2f89d",
      "metadata": {
        "id": "5dd2f89d",
        "outputId": "01ec91b6-a7d1-4130-8e8a-ceb8ac090819"
      },
      "outputs": [
        {
          "name": "stdout",
          "output_type": "stream",
          "text": [
            "Number is negative\n"
          ]
        }
      ],
      "source": [
        "num = -10\n",
        "\n",
        "if num < 0:\n",
        "    print(\"Number is negative\")  # if block\n",
        "else:\n",
        "    print(\"Number is positive\")  # else block"
      ]
    },
    {
      "cell_type": "code",
      "execution_count": null,
      "id": "33b0dd13",
      "metadata": {
        "id": "33b0dd13",
        "outputId": "34266c36-9cd2-491f-fb1a-c72e664c2aad"
      },
      "outputs": [
        {
          "ename": "IndentationError",
          "evalue": "expected an indented block (Temp/ipykernel_4848/3357825010.py, line 4)",
          "output_type": "error",
          "traceback": [
            "\u001b[1;36m  File \u001b[1;32m\"C:\\Users\\hp\\AppData\\Local\\Temp/ipykernel_4848/3357825010.py\"\u001b[1;36m, line \u001b[1;32m4\u001b[0m\n\u001b[1;33m    print(\"Number is negative\")  # if block\u001b[0m\n\u001b[1;37m    ^\u001b[0m\n\u001b[1;31mIndentationError\u001b[0m\u001b[1;31m:\u001b[0m expected an indented block\n"
          ]
        }
      ],
      "source": [
        "num = -10\n",
        "\n",
        "if num < 0:\n",
        "print(\"Number is negative\")  # if block\n",
        "else:\n",
        "print(\"Number is positive\")  # else block"
      ]
    },
    {
      "cell_type": "code",
      "execution_count": null,
      "id": "521938ac",
      "metadata": {
        "id": "521938ac",
        "outputId": "98934dfa-46f0-4e29-d826-bb291589ce50"
      },
      "outputs": [
        {
          "name": "stdout",
          "output_type": "stream",
          "text": [
            "Number is negative\n"
          ]
        }
      ],
      "source": [
        "num = -10\n",
        "\n",
        "if num < 0:\n",
        " print(\"Number is negative\")  # if block\n",
        "else:\n",
        " print(\"Number is positive\")  # else block"
      ]
    },
    {
      "cell_type": "code",
      "execution_count": null,
      "id": "f01e29d6",
      "metadata": {
        "id": "f01e29d6",
        "outputId": "2994e703-e0dd-4fcb-ffef-480f1ca4129f"
      },
      "outputs": [
        {
          "ename": "IndentationError",
          "evalue": "unexpected indent (Temp/ipykernel_4848/1769364034.py, line 5)",
          "output_type": "error",
          "traceback": [
            "\u001b[1;36m  File \u001b[1;32m\"C:\\Users\\hp\\AppData\\Local\\Temp/ipykernel_4848/1769364034.py\"\u001b[1;36m, line \u001b[1;32m5\u001b[0m\n\u001b[1;33m    print(\"Hello\")\u001b[0m\n\u001b[1;37m    ^\u001b[0m\n\u001b[1;31mIndentationError\u001b[0m\u001b[1;31m:\u001b[0m unexpected indent\n"
          ]
        }
      ],
      "source": [
        "num = -10\n",
        "\n",
        "if num < 0:\n",
        " print(\"Number is negative\")  # if block\n",
        "  print(\"Hello\")\n",
        "else:\n",
        " print(\"Number is positive\")  # else block"
      ]
    },
    {
      "cell_type": "code",
      "execution_count": null,
      "id": "cfacb537",
      "metadata": {
        "id": "cfacb537"
      },
      "outputs": [],
      "source": []
    }
  ],
  "metadata": {
    "kernelspec": {
      "display_name": "Python 3 (ipykernel)",
      "language": "python",
      "name": "python3"
    },
    "language_info": {
      "codemirror_mode": {
        "name": "ipython",
        "version": 3
      },
      "file_extension": ".py",
      "mimetype": "text/x-python",
      "name": "python",
      "nbconvert_exporter": "python",
      "pygments_lexer": "ipython3",
      "version": "3.9.7"
    },
    "colab": {
      "provenance": [],
      "collapsed_sections": [
        "24df4535",
        "d6df577f",
        "24226673",
        "2c896133",
        "a7e411f4",
        "704bcbb0",
        "e4920dc7",
        "716bf772",
        "01030ee1",
        "5c065ee1",
        "f9f1d275",
        "045b6b96",
        "95e7328d"
      ],
      "include_colab_link": true
    }
  },
  "nbformat": 4,
  "nbformat_minor": 5
}