{
  "cells": [
    {
      "cell_type": "markdown",
      "metadata": {
        "id": "view-in-github",
        "colab_type": "text"
      },
      "source": [
        "<a href=\"https://colab.research.google.com/github/GIT-REPO-JAGAN/PYTHON-GOOGLE-COLOB/blob/main/C_17Python_Exception_Handling.ipynb\" target=\"_parent\"><img src=\"https://colab.research.google.com/assets/colab-badge.svg\" alt=\"Open In Colab\"/></a>"
      ]
    },
    {
      "cell_type": "markdown",
      "source": [
        "##### Some Doubts"
      ],
      "metadata": {
        "id": "RUVZicccif9T"
      },
      "id": "RUVZicccif9T"
    },
    {
      "cell_type": "code",
      "execution_count": null,
      "id": "c8e3d03f",
      "metadata": {
        "id": "c8e3d03f",
        "outputId": "970d7853-a738-49f8-b7a5-7de956a73aa9"
      },
      "outputs": [
        {
          "name": "stdout",
          "output_type": "stream",
          "text": [
            "The string is empty\n"
          ]
        }
      ],
      "source": [
        "str1 = ''\n",
        "\n",
        "if str1 == '':\n",
        "    print(\"The string is empty\")\n",
        "else:\n",
        "    print(\"Not empty\")"
      ]
    },
    {
      "cell_type": "code",
      "execution_count": null,
      "id": "51f908d7",
      "metadata": {
        "id": "51f908d7",
        "outputId": "b3707558-88fc-46a7-a16f-180f2403f34a"
      },
      "outputs": [
        {
          "name": "stdout",
          "output_type": "stream",
          "text": [
            "Not empty\n"
          ]
        }
      ],
      "source": [
        "str1 = 'a'\n",
        "\n",
        "if str1 == '':\n",
        "    print(\"The string is empty\")\n",
        "else:\n",
        "    print(\"Not empty\")"
      ]
    },
    {
      "cell_type": "markdown",
      "source": [
        "#### **Exceptions** - are runtime errors\n",
        "\n",
        "**Exception handling** - process of handling the runtime errors/exception"
      ],
      "metadata": {
        "id": "iYYVe5hOMmcz"
      },
      "id": "iYYVe5hOMmcz"
    },
    {
      "cell_type": "code",
      "execution_count": null,
      "id": "99b8de73",
      "metadata": {
        "id": "99b8de73"
      },
      "outputs": [],
      "source": [
        "# try:\n",
        "#     statements\n",
        "# except Exceptname:\n",
        "#     statements"
      ]
    },
    {
      "cell_type": "code",
      "execution_count": null,
      "id": "049960f5",
      "metadata": {
        "id": "049960f5",
        "outputId": "d3308441-cd4d-4d94-bbe9-21d4f6d9e7f8"
      },
      "outputs": [
        {
          "name": "stdout",
          "output_type": "stream",
          "text": [
            "Enter a number: 10\n",
            "Enter another number: 5\n",
            "2.0\n"
          ]
        }
      ],
      "source": [
        "num1 = int(input(\"Enter a number: \"))\n",
        "num2 = int(input(\"Enter another number: \"))\n",
        "\n",
        "result = num1 / num2\n",
        "print(result)"
      ]
    },
    {
      "cell_type": "code",
      "execution_count": null,
      "id": "82b543c7",
      "metadata": {
        "id": "82b543c7",
        "outputId": "791c5e57-68e6-40d7-916f-23d2a004ff2e"
      },
      "outputs": [
        {
          "name": "stdout",
          "output_type": "stream",
          "text": [
            "Enter a number: 10\n",
            "Enter another number: 0\n"
          ]
        },
        {
          "ename": "ZeroDivisionError",
          "evalue": "division by zero",
          "output_type": "error",
          "traceback": [
            "\u001b[1;31m---------------------------------------------------------------------------\u001b[0m",
            "\u001b[1;31mZeroDivisionError\u001b[0m                         Traceback (most recent call last)",
            "\u001b[1;32m~\\AppData\\Local\\Temp/ipykernel_9236/319179232.py\u001b[0m in \u001b[0;36m<module>\u001b[1;34m\u001b[0m\n\u001b[0;32m      2\u001b[0m \u001b[0mnum2\u001b[0m \u001b[1;33m=\u001b[0m \u001b[0mint\u001b[0m\u001b[1;33m(\u001b[0m\u001b[0minput\u001b[0m\u001b[1;33m(\u001b[0m\u001b[1;34m\"Enter another number: \"\u001b[0m\u001b[1;33m)\u001b[0m\u001b[1;33m)\u001b[0m\u001b[1;33m\u001b[0m\u001b[1;33m\u001b[0m\u001b[0m\n\u001b[0;32m      3\u001b[0m \u001b[1;33m\u001b[0m\u001b[0m\n\u001b[1;32m----> 4\u001b[1;33m \u001b[0mresult\u001b[0m \u001b[1;33m=\u001b[0m \u001b[0mnum1\u001b[0m \u001b[1;33m/\u001b[0m \u001b[0mnum2\u001b[0m\u001b[1;33m\u001b[0m\u001b[1;33m\u001b[0m\u001b[0m\n\u001b[0m\u001b[0;32m      5\u001b[0m \u001b[0mprint\u001b[0m\u001b[1;33m(\u001b[0m\u001b[0mresult\u001b[0m\u001b[1;33m)\u001b[0m\u001b[1;33m\u001b[0m\u001b[1;33m\u001b[0m\u001b[0m\n",
            "\u001b[1;31mZeroDivisionError\u001b[0m: division by zero"
          ]
        }
      ],
      "source": [
        "num1 = int(input(\"Enter a number: \"))   # Any number divide by 0 is error\n",
        "num2 = int(input(\"Enter another number: \"))\n",
        "\n",
        "result = num1 / num2\n",
        "print(result)"
      ]
    },
    {
      "cell_type": "markdown",
      "source": [
        "#### Handling speific to sigle error \"ZeroDivisionErro\"](https://)\n"
      ],
      "metadata": {
        "id": "YLsfGZoKUHH4"
      },
      "id": "YLsfGZoKUHH4"
    },
    {
      "cell_type": "code",
      "execution_count": null,
      "id": "43ea83c2",
      "metadata": {
        "id": "43ea83c2",
        "outputId": "baef361a-15f0-458c-c7ea-668dd0497a4a",
        "colab": {
          "base_uri": "https://localhost:8080/"
        }
      },
      "outputs": [
        {
          "output_type": "stream",
          "name": "stdout",
          "text": [
            "Enter a number: 10\n",
            "Enter another number: 0\n",
            "Infinite!\n"
          ]
        }
      ],
      "source": [
        "num1 = int(input(\"Enter a number: \"))          # Eg:  10\n",
        "num2 = int(input(\"Enter another number: \"))    # Eg:  0\n",
        "\n",
        "try:                          # try and except come together\n",
        "    result = num1 / num2\n",
        "    print(result)\n",
        "except ZeroDivisionError:\n",
        "    print(\"Infinite!\")"
      ]
    },
    {
      "cell_type": "code",
      "execution_count": null,
      "id": "fb5caca3",
      "metadata": {
        "id": "fb5caca3",
        "outputId": "477eabe6-b7e5-4924-c57b-49f1347c4e3d",
        "colab": {
          "base_uri": "https://localhost:8080/"
        }
      },
      "outputs": [
        {
          "output_type": "stream",
          "name": "stdout",
          "text": [
            "Enter a number: 10\n",
            "Enter another number: 2\n",
            "5.0\n"
          ]
        }
      ],
      "source": [
        "num1 = int(input(\"Enter a number: \"))\n",
        "num2 = int(input(\"Enter another number: \"))\n",
        "\n",
        "try:\n",
        "    result = num1 / num2\n",
        "    print(result)\n",
        "except ZeroDivisionError:\n",
        "    print(\"Infinite!\")"
      ]
    },
    {
      "cell_type": "code",
      "execution_count": null,
      "id": "9c079a3c",
      "metadata": {
        "id": "9c079a3c",
        "outputId": "ef76784d-eb55-4d2d-cae0-52811ed5cb79",
        "colab": {
          "base_uri": "https://localhost:8080/"
        }
      },
      "outputs": [
        {
          "output_type": "stream",
          "name": "stdout",
          "text": [
            "Enter a number: 10\n",
            "Enter another number: 5\n",
            "2.0\n",
            "Execution completed\n"
          ]
        }
      ],
      "source": [
        "\"\"\"Important point to noitce in case of x/y reason if error occures at any line it will not move furthe\n",
        " to make program to complete right a final comand \"\"\"\n",
        "num1 = int(input(\"Enter a number: \"))\n",
        "num2 = int(input(\"Enter another number: \"))\n",
        "\n",
        "try:\n",
        "    result = num1 / num2\n",
        "    print(result)\n",
        "except ZeroDivisionError:\n",
        "    print(\"Infinite!\")\n",
        "\n",
        "print(\"Execution completed\")"
      ]
    },
    {
      "cell_type": "code",
      "execution_count": null,
      "id": "1247f1d5",
      "metadata": {
        "id": "1247f1d5",
        "outputId": "bbedd42a-2b9e-4fdf-a0bd-4192b9f3fc96"
      },
      "outputs": [
        {
          "name": "stdout",
          "output_type": "stream",
          "text": [
            "Enter a number: 10\n",
            "Enter another number: 0\n",
            "Infinite!\n",
            "Execution completed\n"
          ]
        }
      ],
      "source": [
        "num1 = int(input(\"Enter a number: \"))\n",
        "num2 = int(input(\"Enter another number: \"))\n",
        "\n",
        "try:\n",
        "    result = num1 / num2\n",
        "    print(result)\n",
        "except ZeroDivisionError:\n",
        "    print(\"Infinite!\")\n",
        "    # exit()\n",
        "\n",
        "print(\"Execution completed\")"
      ]
    },
    {
      "cell_type": "markdown",
      "source": [
        "#### Handling multile error \"ZeroDivisionErro\" , \"ValueError\"\n"
      ],
      "metadata": {
        "id": "1PH-jshvURlV"
      },
      "id": "1PH-jshvURlV"
    },
    {
      "cell_type": "code",
      "execution_count": null,
      "id": "1641297b",
      "metadata": {
        "id": "1641297b",
        "outputId": "5ae460fa-78c2-4360-c670-668c01e5ad8a",
        "colab": {
          "base_uri": "https://localhost:8080/",
          "height": 263
        }
      },
      "outputs": [
        {
          "name": "stdout",
          "output_type": "stream",
          "text": [
            "Enter a number: hi\n"
          ]
        },
        {
          "output_type": "error",
          "ename": "ValueError",
          "evalue": "ignored",
          "traceback": [
            "\u001b[0;31m---------------------------------------------------------------------------\u001b[0m",
            "\u001b[0;31mValueError\u001b[0m                                Traceback (most recent call last)",
            "\u001b[0;32m<ipython-input-9-0b5c1829cadb>\u001b[0m in \u001b[0;36m<cell line: 1>\u001b[0;34m()\u001b[0m\n\u001b[0;32m----> 1\u001b[0;31m \u001b[0mnum1\u001b[0m \u001b[0;34m=\u001b[0m \u001b[0mint\u001b[0m\u001b[0;34m(\u001b[0m\u001b[0minput\u001b[0m\u001b[0;34m(\u001b[0m\u001b[0;34m\"Enter a number: \"\u001b[0m\u001b[0;34m)\u001b[0m\u001b[0;34m)\u001b[0m  \u001b[0;31m# Eg : hi\u001b[0m\u001b[0;34m\u001b[0m\u001b[0;34m\u001b[0m\u001b[0m\n\u001b[0m\u001b[1;32m      2\u001b[0m \u001b[0mnum2\u001b[0m \u001b[0;34m=\u001b[0m \u001b[0mint\u001b[0m\u001b[0;34m(\u001b[0m\u001b[0minput\u001b[0m\u001b[0;34m(\u001b[0m\u001b[0;34m\"Enter another number: \"\u001b[0m\u001b[0;34m)\u001b[0m\u001b[0;34m)\u001b[0m\u001b[0;34m\u001b[0m\u001b[0;34m\u001b[0m\u001b[0m\n\u001b[1;32m      3\u001b[0m \u001b[0;34m\u001b[0m\u001b[0m\n\u001b[1;32m      4\u001b[0m \u001b[0;32mtry\u001b[0m\u001b[0;34m:\u001b[0m\u001b[0;34m\u001b[0m\u001b[0;34m\u001b[0m\u001b[0m\n\u001b[1;32m      5\u001b[0m     \u001b[0mresult\u001b[0m \u001b[0;34m=\u001b[0m \u001b[0mnum1\u001b[0m \u001b[0;34m/\u001b[0m \u001b[0mnum2\u001b[0m\u001b[0;34m\u001b[0m\u001b[0;34m\u001b[0m\u001b[0m\n",
            "\u001b[0;31mValueError\u001b[0m: invalid literal for int() with base 10: 'hi'"
          ]
        }
      ],
      "source": [
        "num1 = int(input(\"Enter a number: \"))  # Eg : hi\n",
        "num2 = int(input(\"Enter another number: \"))\n",
        "\n",
        "try:\n",
        "    result = num1 / num2\n",
        "    print(result)\n",
        "except ZeroDivisionError:\n",
        "    print(\"Infinite!\")\n",
        "\n",
        "print(\"Execution completed\")"
      ]
    },
    {
      "cell_type": "code",
      "execution_count": null,
      "id": "cf4c256e",
      "metadata": {
        "id": "cf4c256e",
        "outputId": "a82e6a9c-e397-4aac-811f-d2dcd119258a",
        "colab": {
          "base_uri": "https://localhost:8080/"
        }
      },
      "outputs": [
        {
          "output_type": "stream",
          "name": "stdout",
          "text": [
            "Enter a number: hi\n",
            "Input should only be a number!\n",
            "Execution completed\n"
          ]
        }
      ],
      "source": [
        "# N number of except's are allowed in with try\n",
        "\n",
        "try:\n",
        "    num1 = int(input(\"Enter a number: \"))\n",
        "    num2 = int(input(\"Enter another number: \"))\n",
        "    result = num1 / num2\n",
        "    print(result)\n",
        "except ZeroDivisionError:\n",
        "    print(\"Infinite!\")\n",
        "except ValueError:\n",
        "    print(\"Input should only be a number!\")\n",
        "\n",
        "print(\"Execution completed\")"
      ]
    },
    {
      "cell_type": "code",
      "execution_count": null,
      "id": "e3522ace",
      "metadata": {
        "id": "e3522ace",
        "outputId": "3c4834d5-550a-4c44-ca68-acb6e2859c8a"
      },
      "outputs": [
        {
          "name": "stdout",
          "output_type": "stream",
          "text": [
            "Help on ZMQExitAutocall in module IPython.core.autocall object:\n",
            "\n",
            "class ZMQExitAutocall(ExitAutocall)\n",
            " |  ZMQExitAutocall(ip=None)\n",
            " |  \n",
            " |  Exit IPython. Autocallable, so it needn't be explicitly called.\n",
            " |  \n",
            " |  Parameters\n",
            " |  ----------\n",
            " |  keep_kernel : bool\n",
            " |    If True, leave the kernel alive. Otherwise, tell the kernel to exit too\n",
            " |    (default).\n",
            " |  \n",
            " |  Method resolution order:\n",
            " |      ZMQExitAutocall\n",
            " |      ExitAutocall\n",
            " |      IPyAutocall\n",
            " |      builtins.object\n",
            " |  \n",
            " |  Methods defined here:\n",
            " |  \n",
            " |  __call__(self, keep_kernel=False)\n",
            " |      Call self as a function.\n",
            " |  \n",
            " |  ----------------------------------------------------------------------\n",
            " |  Data and other attributes inherited from ExitAutocall:\n",
            " |  \n",
            " |  rewrite = False\n",
            " |  \n",
            " |  ----------------------------------------------------------------------\n",
            " |  Methods inherited from IPyAutocall:\n",
            " |  \n",
            " |  __init__(self, ip=None)\n",
            " |      Initialize self.  See help(type(self)) for accurate signature.\n",
            " |  \n",
            " |  set_ip(self, ip)\n",
            " |      Will be used to set _ip point to current ipython instance b/f call\n",
            " |      \n",
            " |      Override this method if you don't want this to happen.\n",
            " |  \n",
            " |  ----------------------------------------------------------------------\n",
            " |  Data descriptors inherited from IPyAutocall:\n",
            " |  \n",
            " |  __dict__\n",
            " |      dictionary for instance variables (if defined)\n",
            " |  \n",
            " |  __weakref__\n",
            " |      list of weak references to the object (if defined)\n",
            "\n"
          ]
        }
      ],
      "source": [
        "help(exit)"
      ]
    },
    {
      "cell_type": "markdown",
      "source": [
        "#### Lets understand how Error hierarchy works"
      ],
      "metadata": {
        "id": "m9mJT1kSUwdQ"
      },
      "id": "m9mJT1kSUwdQ"
    },
    {
      "cell_type": "code",
      "execution_count": null,
      "id": "71e22ffe",
      "metadata": {
        "id": "71e22ffe",
        "outputId": "c57c38bd-b401-49fa-f22d-3f366cded1da"
      },
      "outputs": [
        {
          "name": "stdout",
          "output_type": "stream",
          "text": [
            "Help on class ZeroDivisionError in module builtins:\n",
            "\n",
            "class ZeroDivisionError(ArithmeticError)\n",
            " |  Second argument to a division or modulo operation was zero.\n",
            " |  \n",
            " |  Method resolution order:\n",
            " |      ZeroDivisionError\n",
            " |      ArithmeticError\n",
            " |      Exception\n",
            " |      BaseException\n",
            " |      object\n",
            " |  \n",
            " |  Methods defined here:\n",
            " |  \n",
            " |  __init__(self, /, *args, **kwargs)\n",
            " |      Initialize self.  See help(type(self)) for accurate signature.\n",
            " |  \n",
            " |  ----------------------------------------------------------------------\n",
            " |  Static methods defined here:\n",
            " |  \n",
            " |  __new__(*args, **kwargs) from builtins.type\n",
            " |      Create and return a new object.  See help(type) for accurate signature.\n",
            " |  \n",
            " |  ----------------------------------------------------------------------\n",
            " |  Methods inherited from BaseException:\n",
            " |  \n",
            " |  __delattr__(self, name, /)\n",
            " |      Implement delattr(self, name).\n",
            " |  \n",
            " |  __getattribute__(self, name, /)\n",
            " |      Return getattr(self, name).\n",
            " |  \n",
            " |  __reduce__(...)\n",
            " |      Helper for pickle.\n",
            " |  \n",
            " |  __repr__(self, /)\n",
            " |      Return repr(self).\n",
            " |  \n",
            " |  __setattr__(self, name, value, /)\n",
            " |      Implement setattr(self, name, value).\n",
            " |  \n",
            " |  __setstate__(...)\n",
            " |  \n",
            " |  __str__(self, /)\n",
            " |      Return str(self).\n",
            " |  \n",
            " |  with_traceback(...)\n",
            " |      Exception.with_traceback(tb) --\n",
            " |      set self.__traceback__ to tb and return self.\n",
            " |  \n",
            " |  ----------------------------------------------------------------------\n",
            " |  Data descriptors inherited from BaseException:\n",
            " |  \n",
            " |  __cause__\n",
            " |      exception cause\n",
            " |  \n",
            " |  __context__\n",
            " |      exception context\n",
            " |  \n",
            " |  __dict__\n",
            " |  \n",
            " |  __suppress_context__\n",
            " |  \n",
            " |  __traceback__\n",
            " |  \n",
            " |  args\n",
            "\n"
          ]
        }
      ],
      "source": [
        "help(ZeroDivisionError)"
      ]
    },
    {
      "cell_type": "code",
      "execution_count": null,
      "id": "81702c26",
      "metadata": {
        "id": "81702c26",
        "outputId": "d170e9f4-9dc5-4162-fbc4-d9b20102fd98"
      },
      "outputs": [
        {
          "name": "stdout",
          "output_type": "stream",
          "text": [
            "Help on class ArithmeticError in module builtins:\n",
            "\n",
            "class ArithmeticError(Exception)\n",
            " |  Base class for arithmetic errors.\n",
            " |  \n",
            " |  Method resolution order:\n",
            " |      ArithmeticError\n",
            " |      Exception\n",
            " |      BaseException\n",
            " |      object\n",
            " |  \n",
            " |  Built-in subclasses:\n",
            " |      FloatingPointError\n",
            " |      OverflowError\n",
            " |      ZeroDivisionError\n",
            " |  \n",
            " |  Methods defined here:\n",
            " |  \n",
            " |  __init__(self, /, *args, **kwargs)\n",
            " |      Initialize self.  See help(type(self)) for accurate signature.\n",
            " |  \n",
            " |  ----------------------------------------------------------------------\n",
            " |  Static methods defined here:\n",
            " |  \n",
            " |  __new__(*args, **kwargs) from builtins.type\n",
            " |      Create and return a new object.  See help(type) for accurate signature.\n",
            " |  \n",
            " |  ----------------------------------------------------------------------\n",
            " |  Methods inherited from BaseException:\n",
            " |  \n",
            " |  __delattr__(self, name, /)\n",
            " |      Implement delattr(self, name).\n",
            " |  \n",
            " |  __getattribute__(self, name, /)\n",
            " |      Return getattr(self, name).\n",
            " |  \n",
            " |  __reduce__(...)\n",
            " |      Helper for pickle.\n",
            " |  \n",
            " |  __repr__(self, /)\n",
            " |      Return repr(self).\n",
            " |  \n",
            " |  __setattr__(self, name, value, /)\n",
            " |      Implement setattr(self, name, value).\n",
            " |  \n",
            " |  __setstate__(...)\n",
            " |  \n",
            " |  __str__(self, /)\n",
            " |      Return str(self).\n",
            " |  \n",
            " |  with_traceback(...)\n",
            " |      Exception.with_traceback(tb) --\n",
            " |      set self.__traceback__ to tb and return self.\n",
            " |  \n",
            " |  ----------------------------------------------------------------------\n",
            " |  Data descriptors inherited from BaseException:\n",
            " |  \n",
            " |  __cause__\n",
            " |      exception cause\n",
            " |  \n",
            " |  __context__\n",
            " |      exception context\n",
            " |  \n",
            " |  __dict__\n",
            " |  \n",
            " |  __suppress_context__\n",
            " |  \n",
            " |  __traceback__\n",
            " |  \n",
            " |  args\n",
            "\n"
          ]
        }
      ],
      "source": [
        "help(ArithmeticError)"
      ]
    },
    {
      "cell_type": "code",
      "execution_count": null,
      "id": "2e3641e8",
      "metadata": {
        "id": "2e3641e8",
        "outputId": "b34e2f23-64c0-4d76-e830-ac15efcba527"
      },
      "outputs": [
        {
          "name": "stdout",
          "output_type": "stream",
          "text": [
            "Help on class Exception in module builtins:\n",
            "\n",
            "class Exception(BaseException)\n",
            " |  Common base class for all non-exit exceptions.\n",
            " |  \n",
            " |  Method resolution order:\n",
            " |      Exception\n",
            " |      BaseException\n",
            " |      object\n",
            " |  \n",
            " |  Built-in subclasses:\n",
            " |      ArithmeticError\n",
            " |      AssertionError\n",
            " |      AttributeError\n",
            " |      BufferError\n",
            " |      ... and 15 other subclasses\n",
            " |  \n",
            " |  Methods defined here:\n",
            " |  \n",
            " |  __init__(self, /, *args, **kwargs)\n",
            " |      Initialize self.  See help(type(self)) for accurate signature.\n",
            " |  \n",
            " |  ----------------------------------------------------------------------\n",
            " |  Static methods defined here:\n",
            " |  \n",
            " |  __new__(*args, **kwargs) from builtins.type\n",
            " |      Create and return a new object.  See help(type) for accurate signature.\n",
            " |  \n",
            " |  ----------------------------------------------------------------------\n",
            " |  Methods inherited from BaseException:\n",
            " |  \n",
            " |  __delattr__(self, name, /)\n",
            " |      Implement delattr(self, name).\n",
            " |  \n",
            " |  __getattribute__(self, name, /)\n",
            " |      Return getattr(self, name).\n",
            " |  \n",
            " |  __reduce__(...)\n",
            " |      Helper for pickle.\n",
            " |  \n",
            " |  __repr__(self, /)\n",
            " |      Return repr(self).\n",
            " |  \n",
            " |  __setattr__(self, name, value, /)\n",
            " |      Implement setattr(self, name, value).\n",
            " |  \n",
            " |  __setstate__(...)\n",
            " |  \n",
            " |  __str__(self, /)\n",
            " |      Return str(self).\n",
            " |  \n",
            " |  with_traceback(...)\n",
            " |      Exception.with_traceback(tb) --\n",
            " |      set self.__traceback__ to tb and return self.\n",
            " |  \n",
            " |  ----------------------------------------------------------------------\n",
            " |  Data descriptors inherited from BaseException:\n",
            " |  \n",
            " |  __cause__\n",
            " |      exception cause\n",
            " |  \n",
            " |  __context__\n",
            " |      exception context\n",
            " |  \n",
            " |  __dict__\n",
            " |  \n",
            " |  __suppress_context__\n",
            " |  \n",
            " |  __traceback__\n",
            " |  \n",
            " |  args\n",
            "\n"
          ]
        }
      ],
      "source": [
        "help(Exception)"
      ]
    },
    {
      "cell_type": "code",
      "execution_count": null,
      "id": "a6c57722",
      "metadata": {
        "scrolled": true,
        "id": "a6c57722",
        "outputId": "0111d070-9931-4fb2-e93c-238085f042ed"
      },
      "outputs": [
        {
          "name": "stdout",
          "output_type": "stream",
          "text": [
            "Help on class BaseException in module builtins:\n",
            "\n",
            "class BaseException(object)\n",
            " |  Common base class for all exceptions\n",
            " |  \n",
            " |  Built-in subclasses:\n",
            " |      Exception\n",
            " |      GeneratorExit\n",
            " |      KeyboardInterrupt\n",
            " |      SystemExit\n",
            " |  \n",
            " |  Methods defined here:\n",
            " |  \n",
            " |  __delattr__(self, name, /)\n",
            " |      Implement delattr(self, name).\n",
            " |  \n",
            " |  __getattribute__(self, name, /)\n",
            " |      Return getattr(self, name).\n",
            " |  \n",
            " |  __init__(self, /, *args, **kwargs)\n",
            " |      Initialize self.  See help(type(self)) for accurate signature.\n",
            " |  \n",
            " |  __reduce__(...)\n",
            " |      Helper for pickle.\n",
            " |  \n",
            " |  __repr__(self, /)\n",
            " |      Return repr(self).\n",
            " |  \n",
            " |  __setattr__(self, name, value, /)\n",
            " |      Implement setattr(self, name, value).\n",
            " |  \n",
            " |  __setstate__(...)\n",
            " |  \n",
            " |  __str__(self, /)\n",
            " |      Return str(self).\n",
            " |  \n",
            " |  with_traceback(...)\n",
            " |      Exception.with_traceback(tb) --\n",
            " |      set self.__traceback__ to tb and return self.\n",
            " |  \n",
            " |  ----------------------------------------------------------------------\n",
            " |  Static methods defined here:\n",
            " |  \n",
            " |  __new__(*args, **kwargs) from builtins.type\n",
            " |      Create and return a new object.  See help(type) for accurate signature.\n",
            " |  \n",
            " |  ----------------------------------------------------------------------\n",
            " |  Data descriptors defined here:\n",
            " |  \n",
            " |  __cause__\n",
            " |      exception cause\n",
            " |  \n",
            " |  __context__\n",
            " |      exception context\n",
            " |  \n",
            " |  __dict__\n",
            " |  \n",
            " |  __suppress_context__\n",
            " |  \n",
            " |  __traceback__\n",
            " |  \n",
            " |  args\n",
            "\n"
          ]
        }
      ],
      "source": [
        "help(BaseException)"
      ]
    },
    {
      "cell_type": "markdown",
      "source": [
        "#### Way to cover multile errors by using respected error class"
      ],
      "metadata": {
        "id": "yxhMzpUlVrah"
      },
      "id": "yxhMzpUlVrah"
    },
    {
      "cell_type": "code",
      "source": [
        "# BaseException is a parent class for all subclasses listed below\n",
        "#  |      Exception   \"\"\"Lets see the examle using Exception to cover all errors related to this\"\"\"\n",
        "#  |      GeneratorExit\n",
        "#  |      KeyboardInterrupt\n",
        "#  |      SystemExit"
      ],
      "metadata": {
        "id": "uG2Xhed_TZVE"
      },
      "id": "uG2Xhed_TZVE",
      "execution_count": null,
      "outputs": []
    },
    {
      "cell_type": "code",
      "execution_count": null,
      "id": "1b3a5cfa",
      "metadata": {
        "id": "1b3a5cfa",
        "outputId": "6b6eff2e-0558-4bd1-9db7-fb27d7ff6711",
        "colab": {
          "base_uri": "https://localhost:8080/"
        }
      },
      "outputs": [
        {
          "output_type": "stream",
          "name": "stdout",
          "text": [
            "Enter a number: 10\n",
            "Enter another number: 0\n",
            "Some error occured\n",
            "Execution completed\n"
          ]
        }
      ],
      "source": [
        "try:\n",
        "    num1 = int(input(\"Enter a number: \"))\n",
        "    num2 = int(input(\"Enter another number: \"))\n",
        "    result = num1 / num2\n",
        "    print(result)\n",
        "except Exception:  # It covers all Exception errors instead righting individually\n",
        "    print(\"Some error occured\")   # It prints what we asked for to print\n",
        "\n",
        "print(\"Execution completed\")"
      ]
    },
    {
      "cell_type": "code",
      "execution_count": null,
      "id": "5caa33ba",
      "metadata": {
        "id": "5caa33ba",
        "outputId": "ebe7c280-2a40-42ad-cb27-f99b4eec73e3"
      },
      "outputs": [
        {
          "name": "stdout",
          "output_type": "stream",
          "text": [
            "Enter a number: 10\n",
            "Enter another number: j\n",
            "Some error occured\n",
            "Execution completed\n"
          ]
        }
      ],
      "source": [
        "try:\n",
        "    num1 = int(input(\"Enter a number: \"))\n",
        "    num2 = int(input(\"Enter another number: \"))\n",
        "    result = num1 / num2\n",
        "    print(result)\n",
        "except Exception:\n",
        "    print(\"Some error occured\")\n",
        "\n",
        "print(\"Execution completed\")"
      ]
    },
    {
      "cell_type": "code",
      "execution_count": null,
      "id": "d32d02af",
      "metadata": {
        "id": "d32d02af"
      },
      "outputs": [],
      "source": []
    },
    {
      "cell_type": "markdown",
      "source": [
        "#### Way to cover errors messge which is already defiend for error class"
      ],
      "metadata": {
        "id": "_Q3EqBlwXLRx"
      },
      "id": "_Q3EqBlwXLRx"
    },
    {
      "cell_type": "code",
      "execution_count": null,
      "id": "62c1d191",
      "metadata": {
        "id": "62c1d191",
        "outputId": "6e4045bf-d16e-41a6-b7f2-feb677e07b47",
        "colab": {
          "base_uri": "https://localhost:8080/"
        }
      },
      "outputs": [
        {
          "output_type": "stream",
          "name": "stdout",
          "text": [
            "Enter a number: 10\n",
            "Enter another number: 0\n",
            "Some error occured\n",
            "division by zero\n",
            "Execution completed\n"
          ]
        }
      ],
      "source": [
        "try:\n",
        "    num1 = int(input(\"Enter a number: \"))  # Eg 10\n",
        "    num2 = int(input(\"Enter another number: \"))   # Eg 0\n",
        "    result = num1 / num2\n",
        "    print(result)\n",
        "\n",
        "except Exception as err_msg:  # It covers all Exception errors instead righting individually and collet the output to err_msg\n",
        "    print(\"Some error occured\")   # It prints what we asked for to print\n",
        "    print(err_msg)  # Prints the respected err_msg something make sence / something already defiend\n",
        "\n",
        "print(\"Execution completed\")"
      ]
    },
    {
      "cell_type": "code",
      "execution_count": null,
      "id": "cd24e45c",
      "metadata": {
        "id": "cd24e45c",
        "outputId": "0f7dbc78-b8cb-4291-ad39-244e7d686967"
      },
      "outputs": [
        {
          "ename": "ZeroDivisionError",
          "evalue": "division by zero",
          "output_type": "error",
          "traceback": [
            "\u001b[1;31m---------------------------------------------------------------------------\u001b[0m",
            "\u001b[1;31mZeroDivisionError\u001b[0m                         Traceback (most recent call last)",
            "\u001b[1;32m~\\AppData\\Local\\Temp/ipykernel_9236/1725448531.py\u001b[0m in \u001b[0;36m<module>\u001b[1;34m\u001b[0m\n\u001b[1;32m----> 1\u001b[1;33m \u001b[1;36m10\u001b[0m \u001b[1;33m/\u001b[0m \u001b[1;36m0\u001b[0m\u001b[1;33m\u001b[0m\u001b[1;33m\u001b[0m\u001b[0m\n\u001b[0m",
            "\u001b[1;31mZeroDivisionError\u001b[0m: division by zero"
          ]
        }
      ],
      "source": [
        "10 / 0"
      ]
    },
    {
      "cell_type": "code",
      "execution_count": null,
      "id": "10154454",
      "metadata": {
        "id": "10154454",
        "outputId": "a8d63ddf-8a75-4000-8541-ad65f7fcf3b7"
      },
      "outputs": [
        {
          "name": "stdout",
          "output_type": "stream",
          "text": [
            "Enter a number: 10\n",
            "Enter another number: 0\n",
            "Some error occured\n",
            "<class 'ZeroDivisionError'>\n",
            "Execution completed\n"
          ]
        }
      ],
      "source": [
        "try:\n",
        "    num1 = int(input(\"Enter a number: \"))\n",
        "    num2 = int(input(\"Enter another number: \"))\n",
        "    result = num1 / num2\n",
        "    print(result)\n",
        "except Exception as err_msg:\n",
        "    print(\"Some error occured\")\n",
        "    print(type(err_msg))  # Print the type of message\n",
        "\n",
        "print(\"Execution completed\")"
      ]
    },
    {
      "cell_type": "code",
      "execution_count": null,
      "id": "bfa17d31",
      "metadata": {
        "id": "bfa17d31",
        "outputId": "f2513060-8ae7-4957-b184-1176361915b0"
      },
      "outputs": [
        {
          "name": "stdout",
          "output_type": "stream",
          "text": [
            "Enter a number: 10\n",
            "Enter another number: 0\n",
            "Some error occured\n",
            "<class 'ZeroDivisionError'> division by zero\n",
            "Execution completed\n"
          ]
        }
      ],
      "source": [
        "try:\n",
        "    num1 = int(input(\"Enter a number: \"))\n",
        "    num2 = int(input(\"Enter another number: \"))\n",
        "    result = num1 / num2\n",
        "    print(result)\n",
        "except Exception as err_msg:\n",
        "    print(\"Some error occured\")\n",
        "    print(type(err_msg), err_msg) # Print the type of message, respected  message\n",
        "\n",
        "print(\"Execution completed\")"
      ]
    },
    {
      "cell_type": "code",
      "execution_count": null,
      "id": "2e826c4b",
      "metadata": {
        "id": "2e826c4b",
        "outputId": "8ead5149-0957-4067-f584-b968e1fbf5e6"
      },
      "outputs": [
        {
          "name": "stdout",
          "output_type": "stream",
          "text": [
            "Enter a number: 0\n",
            "Enter another number: i\n",
            "Some error occured\n",
            "<class 'ValueError'> invalid literal for int() with base 10: 'i'\n",
            "Execution completed\n"
          ]
        }
      ],
      "source": [
        "try:\n",
        "    num1 = int(input(\"Enter a number: \"))\n",
        "    num2 = int(input(\"Enter another number: \"))\n",
        "    result = num1 / num2\n",
        "    print(result)\n",
        "except Exception as err_msg:\n",
        "    print(\"Some error occured\")\n",
        "    print(type(err_msg), err_msg)\n",
        "\n",
        "print(\"Execution completed\")"
      ]
    },
    {
      "cell_type": "markdown",
      "source": [
        "#### To know the line number of the error - sys module  \n",
        "\n",
        "Use sys module for the same"
      ],
      "metadata": {
        "id": "CKtHTA8gW8Ld"
      },
      "id": "CKtHTA8gW8Ld"
    },
    {
      "cell_type": "code",
      "execution_count": null,
      "id": "12ff60c7",
      "metadata": {
        "id": "12ff60c7"
      },
      "outputs": [],
      "source": [
        "import sys"
      ]
    },
    {
      "cell_type": "markdown",
      "source": [],
      "metadata": {
        "id": "Yt6PMeU0XbtH"
      },
      "id": "Yt6PMeU0XbtH"
    },
    {
      "cell_type": "code",
      "execution_count": null,
      "id": "8dd527d3",
      "metadata": {
        "id": "8dd527d3",
        "outputId": "e0a7cab5-2b44-41df-9a71-443cd5bc4e32",
        "colab": {
          "base_uri": "https://localhost:8080/"
        }
      },
      "outputs": [
        {
          "output_type": "stream",
          "name": "stdout",
          "text": [
            "Enter a number: 10\n",
            "Enter another number: 0\n",
            "Some error occured\n",
            "<class 'ZeroDivisionError'> division by zero\n",
            "(<class 'ZeroDivisionError'>, ZeroDivisionError('division by zero'), <traceback object at 0x7fbe0eca3fc0>)\n",
            "Execution completed\n"
          ]
        }
      ],
      "source": [
        "try:\n",
        "    num1 = int(input(\"Enter a number: \"))\n",
        "    num2 = int(input(\"Enter another number: \"))\n",
        "    result = num1 / num2\n",
        "    print(result)\n",
        "except Exception as err_msg:\n",
        "    print(\"Some error occured\")\n",
        "    print(type(err_msg), err_msg)\n",
        "    info = sys.exc_info()   # here it gives the info of error as form of Tupple with trackback object id\n",
        "    print(info)\n",
        "\n",
        "print(\"Execution completed\")"
      ]
    },
    {
      "cell_type": "code",
      "execution_count": null,
      "id": "b66e81a0",
      "metadata": {
        "id": "b66e81a0",
        "outputId": "6a831d71-93ca-43e9-d3b1-a20b73283a33",
        "colab": {
          "base_uri": "https://localhost:8080/"
        }
      },
      "outputs": [
        {
          "output_type": "stream",
          "name": "stdout",
          "text": [
            "Enter a number: 10\n",
            "Enter another number: 0\n",
            "<class 'ZeroDivisionError'>\n",
            "division by zero\n",
            "<traceback object at 0x7fbe0e5c7840>\n",
            "Execution completed\n"
          ]
        }
      ],
      "source": [
        "try:\n",
        "    num1 = int(input(\"Enter a number: \"))\n",
        "    num2 = int(input(\"Enter another number: \"))\n",
        "    result = num1 / num2\n",
        "    print(result)\n",
        "except Exception:\n",
        "    info = sys.exc_info()   # To view the track back object id call the tuple out-put by indexing\n",
        "    print(info[0])\n",
        "    print(info[1])\n",
        "    print(info[2])\n",
        "\n",
        "print(\"Execution completed\")"
      ]
    },
    {
      "cell_type": "code",
      "execution_count": null,
      "id": "ede01648",
      "metadata": {
        "id": "ede01648",
        "outputId": "6f08910a-bfb5-4f13-80b4-ec82d2bdfd71"
      },
      "outputs": [
        {
          "name": "stdout",
          "output_type": "stream",
          "text": [
            "Help on traceback object:\n",
            "\n",
            "class traceback(object)\n",
            " |  TracebackType(tb_next, tb_frame, tb_lasti, tb_lineno)\n",
            " |  --\n",
            " |  \n",
            " |  Create a new traceback object.\n",
            " |  \n",
            " |  Methods defined here:\n",
            " |  \n",
            " |  __dir__(...)\n",
            " |      Default dir() implementation.\n",
            " |  \n",
            " |  __getattribute__(self, name, /)\n",
            " |      Return getattr(self, name).\n",
            " |  \n",
            " |  ----------------------------------------------------------------------\n",
            " |  Static methods defined here:\n",
            " |  \n",
            " |  __new__(*args, **kwargs) from builtins.type\n",
            " |      Create and return a new object.  See help(type) for accurate signature.\n",
            " |  \n",
            " |  ----------------------------------------------------------------------\n",
            " |  Data descriptors defined here:\n",
            " |  \n",
            " |  tb_frame\n",
            " |  \n",
            " |  tb_lasti\n",
            " |  \n",
            " |  tb_lineno\n",
            " |  \n",
            " |  tb_next\n",
            "\n"
          ]
        }
      ],
      "source": [
        "help(info[2])"
      ]
    },
    {
      "cell_type": "code",
      "execution_count": null,
      "id": "89464f60",
      "metadata": {
        "id": "89464f60",
        "outputId": "26257545-11ab-45b8-dad2-468343c76ade"
      },
      "outputs": [
        {
          "name": "stdout",
          "output_type": "stream",
          "text": [
            "Enter a number: 10\n",
            "Enter another number: 0\n",
            "<class 'ZeroDivisionError'>\n",
            "division by zero\n",
            "4\n",
            "Execution completed\n"
          ]
        }
      ],
      "source": [
        "try:\n",
        "    num1 = int(input(\"Enter a number: \"))\n",
        "    num2 = int(input(\"Enter another number: \"))\n",
        "    result = num1 / num2\n",
        "    print(result)\n",
        "except Exception:\n",
        "    info = sys.exc_info()\n",
        "    print(info[0])\n",
        "    print(info[1])\n",
        "    print(info[2].tb_lineno)  # To view the track back object id call the tuple out-put by indexing to find error line\n",
        "\n",
        "print(\"Execution completed\")"
      ]
    },
    {
      "cell_type": "code",
      "execution_count": null,
      "id": "335c1cb6",
      "metadata": {
        "id": "335c1cb6",
        "outputId": "d46214e3-c1bc-4263-ff29-212542f1148a"
      },
      "outputs": [
        {
          "name": "stdout",
          "output_type": "stream",
          "text": [
            "Enter a number: 10\n",
            "Enter another number: j\n",
            "<class 'ValueError'>\n",
            "invalid literal for int() with base 10: 'j'\n",
            "3\n",
            "Execution completed\n"
          ]
        }
      ],
      "source": [
        "try:\n",
        "    num1 = int(input(\"Enter a number: \"))\n",
        "    num2 = int(input(\"Enter another number: \"))\n",
        "    result = num1 / num2\n",
        "    print(result)\n",
        "except Exception:\n",
        "    info = sys.exc_info()\n",
        "    print(info[0])\n",
        "    print(info[1])\n",
        "    print(info[2].tb_lineno)\n",
        "\n",
        "print(\"Execution completed\")"
      ]
    },
    {
      "cell_type": "markdown",
      "source": [
        "#### Good to add know error note if we know but where to add in important"
      ],
      "metadata": {
        "id": "igaNaBnadpSd"
      },
      "id": "igaNaBnadpSd"
    },
    {
      "cell_type": "code",
      "execution_count": null,
      "id": "45fefe51",
      "metadata": {
        "id": "45fefe51",
        "outputId": "5e56d46a-57a8-4520-a98b-2a04b8b7926b"
      },
      "outputs": [
        {
          "name": "stdout",
          "output_type": "stream",
          "text": [
            "Enter a number: 10\n",
            "Enter another number: 0\n",
            "<class 'ZeroDivisionError'>\n",
            "division by zero\n",
            "4\n",
            "Execution completed\n"
          ]
        }
      ],
      "source": [
        "try:\n",
        "    num1 = int(input(\"Enter a number: \"))\n",
        "    num2 = int(input(\"Enter another number: \"))\n",
        "    result = num1 / num2\n",
        "    print(result)\n",
        "except Exception:\n",
        "    info = sys.exc_info()\n",
        "    print(info[0])\n",
        "    print(info[1])\n",
        "    print(info[2].tb_lineno)\n",
        "except ZeroDivisionError:   # Here expect Exception coveres the ZeroDivisionError so the 2nd expect messgae are not allwoed to run\n",
        "    print(\"Denominator cannot be 0\")\n",
        "\n",
        "print(\"Execution completed\")"
      ]
    },
    {
      "cell_type": "code",
      "execution_count": null,
      "id": "7d15f5e4",
      "metadata": {
        "id": "7d15f5e4",
        "outputId": "cac13698-36cc-4ecd-b335-fbab4f65e5dd"
      },
      "outputs": [
        {
          "name": "stdout",
          "output_type": "stream",
          "text": [
            "Enter a number: 10\n",
            "Enter another number: 0\n",
            "Denominator cannot be 0\n",
            "Execution completed\n"
          ]
        }
      ],
      "source": [
        "try:\n",
        "    num1 = int(input(\"Enter a number: \"))\n",
        "    num2 = int(input(\"Enter another number: \"))\n",
        "    result = num1 / num2\n",
        "    print(result)\n",
        "except ZeroDivisionError:\n",
        "    print(\"Denominator cannot be 0\")\n",
        "except Exception:\n",
        "    info = sys.exc_info()\n",
        "    print(info[0])\n",
        "    print(info[1])\n",
        "    print(info[2].tb_lineno)\n",
        "\n",
        "print(\"Execution completed\")"
      ]
    },
    {
      "cell_type": "markdown",
      "source": [
        "#### else and finally\n",
        "\n",
        "* **Else** is used to print no error occures\n",
        "* **Finally** will make sure to run the end print to close the program smooth\n",
        "* Else and Finally can work together / eperatelly also"
      ],
      "metadata": {
        "id": "U8lIt7mLeKmj"
      },
      "id": "U8lIt7mLeKmj"
    },
    {
      "cell_type": "code",
      "execution_count": null,
      "id": "9ccd159e",
      "metadata": {
        "id": "9ccd159e",
        "outputId": "e03f6a51-8bd2-4431-cd4b-7449c8877857"
      },
      "outputs": [
        {
          "name": "stdout",
          "output_type": "stream",
          "text": [
            "Enter a number: 10\n",
            "Enter another number: 5\n",
            "2.0\n",
            "No error occured\n",
            "executed always\n",
            "Execution completed\n"
          ]
        }
      ],
      "source": [
        "try:\n",
        "    num1 = int(input(\"Enter a number: \"))\n",
        "    num2 = int(input(\"Enter another number: \"))\n",
        "    result = num1 / num2\n",
        "    print(result)\n",
        "except ZeroDivisionError:\n",
        "    print(\"Denominator cannot be 0\")\n",
        "except Exception:\n",
        "    info = sys.exc_info()\n",
        "    print(info[0])\n",
        "    print(info[1])\n",
        "    print(info[2].tb_lineno)\n",
        "else:\n",
        "    print(\"No error occured\")\n",
        "finally:\n",
        "    print(\"executed always\")\n",
        "\n",
        "print(\"Execution completed\")"
      ]
    },
    {
      "cell_type": "code",
      "execution_count": null,
      "id": "c7fd5f51",
      "metadata": {
        "id": "c7fd5f51",
        "outputId": "8296e5aa-4701-4d34-ae73-5846bd532457"
      },
      "outputs": [
        {
          "name": "stdout",
          "output_type": "stream",
          "text": [
            "Enter a number: 10\n",
            "Enter another number: 0\n",
            "Denominator cannot be 0\n",
            "executed always\n",
            "Execution completed\n"
          ]
        }
      ],
      "source": [
        "try:\n",
        "    num1 = int(input(\"Enter a number: \"))\n",
        "    num2 = int(input(\"Enter another number: \"))\n",
        "    result = num1 / num2\n",
        "    print(result)\n",
        "except ZeroDivisionError:\n",
        "    print(\"Denominator cannot be 0\")\n",
        "except Exception:\n",
        "    info = sys.exc_info()\n",
        "    print(info[0])\n",
        "    print(info[1])\n",
        "    print(info[2].tb_lineno)\n",
        "else:\n",
        "    print(\"No error occured\")\n",
        "finally:\n",
        "    print(\"executed always\")\n",
        "\n",
        "print(\"Execution completed\")"
      ]
    },
    {
      "cell_type": "code",
      "execution_count": null,
      "id": "eec957c1",
      "metadata": {
        "id": "eec957c1",
        "outputId": "dea04a4c-5270-44e3-d7c8-c8ac71d0793d"
      },
      "outputs": [
        {
          "name": "stdout",
          "output_type": "stream",
          "text": [
            "Enter a number: 10\n",
            "Enter another number: 7\n",
            "No error occured\n",
            "1.4285714285714286\n",
            "Execution completed\n"
          ]
        }
      ],
      "source": [
        "try:\n",
        "    num1 = int(input(\"Enter a number: \"))\n",
        "    num2 = int(input(\"Enter another number: \"))\n",
        "    result = num1 / num2\n",
        "except ZeroDivisionError:\n",
        "    print(\"Denominator cannot be 0\")\n",
        "except Exception:\n",
        "    info = sys.exc_info()\n",
        "    print(info[0])\n",
        "    print(info[1])\n",
        "    print(info[2].tb_lineno)\n",
        "else:\n",
        "    print(\"No error occured\")\n",
        "    print(result)\n",
        "finally:\n",
        "    print(\"Execution completed\")\n"
      ]
    },
    {
      "cell_type": "code",
      "execution_count": null,
      "id": "f3029c0e",
      "metadata": {
        "id": "f3029c0e"
      },
      "outputs": [],
      "source": []
    },
    {
      "cell_type": "code",
      "execution_count": null,
      "id": "df2da763",
      "metadata": {
        "id": "df2da763",
        "outputId": "7cb4df24-7686-44af-9467-2e818a0410a4"
      },
      "outputs": [
        {
          "ename": "UnsupportedOperation",
          "evalue": "not writable",
          "output_type": "error",
          "traceback": [
            "\u001b[1;31m---------------------------------------------------------------------------\u001b[0m",
            "\u001b[1;31mUnsupportedOperation\u001b[0m                      Traceback (most recent call last)",
            "\u001b[1;32m~\\AppData\\Local\\Temp/ipykernel_9236/278928176.py\u001b[0m in \u001b[0;36m<module>\u001b[1;34m\u001b[0m\n\u001b[0;32m      1\u001b[0m \u001b[0mfh\u001b[0m \u001b[1;33m=\u001b[0m \u001b[0mopen\u001b[0m\u001b[1;33m(\u001b[0m\u001b[1;34m'file5'\u001b[0m\u001b[1;33m,\u001b[0m \u001b[1;34m'tr'\u001b[0m\u001b[1;33m)\u001b[0m\u001b[1;33m\u001b[0m\u001b[1;33m\u001b[0m\u001b[0m\n\u001b[1;32m----> 2\u001b[1;33m \u001b[0mfh\u001b[0m\u001b[1;33m.\u001b[0m\u001b[0mwrite\u001b[0m\u001b[1;33m(\u001b[0m\u001b[1;34m\"Hello\"\u001b[0m\u001b[1;33m)\u001b[0m\u001b[1;33m\u001b[0m\u001b[1;33m\u001b[0m\u001b[0m\n\u001b[0m\u001b[0;32m      3\u001b[0m \u001b[0mfh\u001b[0m\u001b[1;33m.\u001b[0m\u001b[0mclose\u001b[0m\u001b[1;33m(\u001b[0m\u001b[1;33m)\u001b[0m\u001b[1;33m\u001b[0m\u001b[1;33m\u001b[0m\u001b[0m\n",
            "\u001b[1;31mUnsupportedOperation\u001b[0m: not writable"
          ]
        }
      ],
      "source": [
        "fh = open('file5', 'tr')\n",
        "fh.write(\"Hello\")\n",
        "fh.close()"
      ]
    },
    {
      "cell_type": "code",
      "execution_count": null,
      "id": "6006ed1e",
      "metadata": {
        "id": "6006ed1e"
      },
      "outputs": [],
      "source": [
        "fh.close() # In such case finally will help to close"
      ]
    },
    {
      "cell_type": "markdown",
      "source": [
        "#### User defined exception\n",
        "\n",
        "Used where for python it may not be a error but for application its a error."
      ],
      "metadata": {
        "id": "MWTmyaRefHRY"
      },
      "id": "MWTmyaRefHRY"
    },
    {
      "cell_type": "code",
      "execution_count": null,
      "id": "70499b40",
      "metadata": {
        "id": "70499b40"
      },
      "outputs": [],
      "source": [
        "def check_salary(salary):\n",
        "    if salary < 10000:\n",
        "        print(\"Salary is low\")"
      ]
    },
    {
      "cell_type": "code",
      "execution_count": null,
      "id": "40dcb9cb",
      "metadata": {
        "id": "40dcb9cb",
        "outputId": "f61895cf-70b7-40b1-8030-d09b3d123a66",
        "colab": {
          "base_uri": "https://localhost:8080/"
        }
      },
      "outputs": [
        {
          "output_type": "stream",
          "name": "stdout",
          "text": [
            "Salary deposited!\n"
          ]
        }
      ],
      "source": [
        "sal = 12000\n",
        "check_salary(sal)\n",
        "# Depositing the salary in the bacnk account\n",
        "print(\"Salary deposited!\")"
      ]
    },
    {
      "cell_type": "code",
      "execution_count": null,
      "id": "eb2a88ef",
      "metadata": {
        "id": "eb2a88ef",
        "outputId": "fe16cda9-f888-4b2f-fcbc-b76c5d423f8d",
        "colab": {
          "base_uri": "https://localhost:8080/"
        }
      },
      "outputs": [
        {
          "output_type": "stream",
          "name": "stdout",
          "text": [
            "Salary is low\n",
            "Salary deposited!\n"
          ]
        }
      ],
      "source": [
        "sal = 9000\n",
        "check_salary(sal)\n",
        "# Depositing the salary in the bacnk account\n",
        "print(\"Salary deposited!\")"
      ]
    },
    {
      "cell_type": "markdown",
      "source": [
        "### For calling an error, we use the keyword 'raise'"
      ],
      "metadata": {
        "id": "Nf5z7BqFhKGH"
      },
      "id": "Nf5z7BqFhKGH"
    },
    {
      "cell_type": "code",
      "execution_count": null,
      "id": "68c8c639",
      "metadata": {
        "id": "68c8c639",
        "outputId": "54b30736-df86-4f3b-efbc-e1a23ac345d1",
        "colab": {
          "base_uri": "https://localhost:8080/",
          "height": 171
        }
      },
      "outputs": [
        {
          "output_type": "error",
          "ename": "Exception",
          "evalue": "ignored",
          "traceback": [
            "\u001b[0;31m---------------------------------------------------------------------------\u001b[0m",
            "\u001b[0;31mException\u001b[0m                                 Traceback (most recent call last)",
            "\u001b[0;32m<ipython-input-5-2aee0157c87b>\u001b[0m in \u001b[0;36m<cell line: 1>\u001b[0;34m()\u001b[0m\n\u001b[0;32m----> 1\u001b[0;31m \u001b[0;32mraise\u001b[0m \u001b[0mException\u001b[0m\u001b[0;34m\u001b[0m\u001b[0;34m\u001b[0m\u001b[0m\n\u001b[0m",
            "\u001b[0;31mException\u001b[0m: "
          ]
        }
      ],
      "source": [
        "raise Exception"
      ]
    },
    {
      "cell_type": "code",
      "execution_count": null,
      "id": "e00be0c5",
      "metadata": {
        "id": "e00be0c5",
        "outputId": "f48544aa-3605-4609-f3b9-5074e88046da",
        "colab": {
          "base_uri": "https://localhost:8080/",
          "height": 171
        }
      },
      "outputs": [
        {
          "output_type": "error",
          "ename": "Exception",
          "evalue": "ignored",
          "traceback": [
            "\u001b[0;31m---------------------------------------------------------------------------\u001b[0m",
            "\u001b[0;31mException\u001b[0m                                 Traceback (most recent call last)",
            "\u001b[0;32m<ipython-input-6-cecf599d2dff>\u001b[0m in \u001b[0;36m<cell line: 1>\u001b[0;34m()\u001b[0m\n\u001b[0;32m----> 1\u001b[0;31m \u001b[0;32mraise\u001b[0m \u001b[0mException\u001b[0m\u001b[0;34m(\u001b[0m\u001b[0;34m\"Some error occured\"\u001b[0m\u001b[0;34m)\u001b[0m\u001b[0;34m\u001b[0m\u001b[0;34m\u001b[0m\u001b[0m\n\u001b[0m",
            "\u001b[0;31mException\u001b[0m: Some error occured"
          ]
        }
      ],
      "source": [
        "raise Exception(\"Some error occured\")"
      ]
    },
    {
      "cell_type": "code",
      "execution_count": null,
      "id": "9b254bc0",
      "metadata": {
        "id": "9b254bc0",
        "outputId": "745d0019-06a2-4334-dd54-fa472f1cd936",
        "colab": {
          "base_uri": "https://localhost:8080/",
          "height": 171
        }
      },
      "outputs": [
        {
          "output_type": "error",
          "ename": "ZeroDivisionError",
          "evalue": "ignored",
          "traceback": [
            "\u001b[0;31m---------------------------------------------------------------------------\u001b[0m",
            "\u001b[0;31mZeroDivisionError\u001b[0m                         Traceback (most recent call last)",
            "\u001b[0;32m<ipython-input-8-7750f5cc6ab3>\u001b[0m in \u001b[0;36m<cell line: 1>\u001b[0;34m()\u001b[0m\n\u001b[0;32m----> 1\u001b[0;31m \u001b[0;32mraise\u001b[0m \u001b[0mZeroDivisionError\u001b[0m\u001b[0;34m(\u001b[0m\u001b[0;34m\"Infinite!!!!\"\u001b[0m\u001b[0;34m)\u001b[0m\u001b[0;34m\u001b[0m\u001b[0;34m\u001b[0m\u001b[0m\n\u001b[0m",
            "\u001b[0;31mZeroDivisionError\u001b[0m: Infinite!!!!"
          ]
        }
      ],
      "source": [
        "raise ZeroDivisionError(\"Infinite!!!!\")"
      ]
    },
    {
      "cell_type": "code",
      "execution_count": null,
      "id": "17386db0",
      "metadata": {
        "id": "17386db0",
        "outputId": "bc8f65cf-f18f-4487-a93e-ba710fb6368f",
        "colab": {
          "base_uri": "https://localhost:8080/",
          "height": 171
        }
      },
      "outputs": [
        {
          "output_type": "error",
          "ename": "ZeroDivisionError",
          "evalue": "ignored",
          "traceback": [
            "\u001b[0;31m---------------------------------------------------------------------------\u001b[0m",
            "\u001b[0;31mZeroDivisionError\u001b[0m                         Traceback (most recent call last)",
            "\u001b[0;32m<ipython-input-7-cd759d3fcf39>\u001b[0m in \u001b[0;36m<cell line: 1>\u001b[0;34m()\u001b[0m\n\u001b[0;32m----> 1\u001b[0;31m \u001b[0;36m10\u001b[0m \u001b[0;34m/\u001b[0m \u001b[0;36m0\u001b[0m\u001b[0;34m\u001b[0m\u001b[0;34m\u001b[0m\u001b[0m\n\u001b[0m",
            "\u001b[0;31mZeroDivisionError\u001b[0m: division by zero"
          ]
        }
      ],
      "source": [
        "10 / 0"
      ]
    },
    {
      "cell_type": "code",
      "execution_count": null,
      "id": "5ab15cfc",
      "metadata": {
        "id": "5ab15cfc"
      },
      "outputs": [],
      "source": [
        "class SalaryError(Exception):\n",
        "    pass"
      ]
    },
    {
      "cell_type": "code",
      "execution_count": null,
      "id": "cbb328d5",
      "metadata": {
        "id": "cbb328d5"
      },
      "outputs": [],
      "source": [
        "def check_salary(salary):\n",
        "    if salary < 10000:\n",
        "        raise SalaryError(\"Salary is low\")"
      ]
    },
    {
      "cell_type": "code",
      "execution_count": null,
      "id": "eb8fc1d9",
      "metadata": {
        "id": "eb8fc1d9",
        "outputId": "7b14ae0d-1f83-4b7b-d5c9-7a8cfdce556a",
        "colab": {
          "base_uri": "https://localhost:8080/",
          "height": 317
        }
      },
      "outputs": [
        {
          "output_type": "error",
          "ename": "SalaryError",
          "evalue": "ignored",
          "traceback": [
            "\u001b[0;31m---------------------------------------------------------------------------\u001b[0m",
            "\u001b[0;31mSalaryError\u001b[0m                               Traceback (most recent call last)",
            "\u001b[0;32m<ipython-input-11-4e2de0ad59c0>\u001b[0m in \u001b[0;36m<cell line: 2>\u001b[0;34m()\u001b[0m\n\u001b[1;32m      1\u001b[0m \u001b[0msal\u001b[0m \u001b[0;34m=\u001b[0m \u001b[0;36m9000\u001b[0m\u001b[0;34m\u001b[0m\u001b[0;34m\u001b[0m\u001b[0m\n\u001b[0;32m----> 2\u001b[0;31m \u001b[0mcheck_salary\u001b[0m\u001b[0;34m(\u001b[0m\u001b[0msal\u001b[0m\u001b[0;34m)\u001b[0m\u001b[0;34m\u001b[0m\u001b[0;34m\u001b[0m\u001b[0m\n\u001b[0m\u001b[1;32m      3\u001b[0m \u001b[0;31m# Depositing the salary in the bacnk account\u001b[0m\u001b[0;34m\u001b[0m\u001b[0;34m\u001b[0m\u001b[0m\n\u001b[1;32m      4\u001b[0m \u001b[0mprint\u001b[0m\u001b[0;34m(\u001b[0m\u001b[0;34m\"Salary deposited!\"\u001b[0m\u001b[0;34m)\u001b[0m\u001b[0;34m\u001b[0m\u001b[0;34m\u001b[0m\u001b[0m\n",
            "\u001b[0;32m<ipython-input-10-2c3399c6f8d2>\u001b[0m in \u001b[0;36mcheck_salary\u001b[0;34m(salary)\u001b[0m\n\u001b[1;32m      1\u001b[0m \u001b[0;32mdef\u001b[0m \u001b[0mcheck_salary\u001b[0m\u001b[0;34m(\u001b[0m\u001b[0msalary\u001b[0m\u001b[0;34m)\u001b[0m\u001b[0;34m:\u001b[0m\u001b[0;34m\u001b[0m\u001b[0;34m\u001b[0m\u001b[0m\n\u001b[1;32m      2\u001b[0m     \u001b[0;32mif\u001b[0m \u001b[0msalary\u001b[0m \u001b[0;34m<\u001b[0m \u001b[0;36m10000\u001b[0m\u001b[0;34m:\u001b[0m\u001b[0;34m\u001b[0m\u001b[0;34m\u001b[0m\u001b[0m\n\u001b[0;32m----> 3\u001b[0;31m         \u001b[0;32mraise\u001b[0m \u001b[0mSalaryError\u001b[0m\u001b[0;34m(\u001b[0m\u001b[0;34m\"Salary is low\"\u001b[0m\u001b[0;34m)\u001b[0m\u001b[0;34m\u001b[0m\u001b[0;34m\u001b[0m\u001b[0m\n\u001b[0m",
            "\u001b[0;31mSalaryError\u001b[0m: Salary is low"
          ]
        }
      ],
      "source": [
        "sal = 9000\n",
        "check_salary(sal)\n",
        "# Depositing the salary in the bacnk account\n",
        "print(\"Salary deposited!\")"
      ]
    },
    {
      "cell_type": "markdown",
      "source": [
        "#### Error handling user defined error"
      ],
      "metadata": {
        "id": "MusfrvwLh487"
      },
      "id": "MusfrvwLh487"
    },
    {
      "cell_type": "code",
      "execution_count": null,
      "id": "0a0e5bdc",
      "metadata": {
        "id": "0a0e5bdc",
        "outputId": "514f1325-7384-4740-ba30-29a1755978a0",
        "colab": {
          "base_uri": "https://localhost:8080/"
        }
      },
      "outputs": [
        {
          "output_type": "stream",
          "name": "stdout",
          "text": [
            "Salary is low\n"
          ]
        }
      ],
      "source": [
        "\n",
        "try:\n",
        "    sal = 9000\n",
        "    check_salary(sal)\n",
        "except SalaryError as err_msg:\n",
        "    print(err_msg)\n",
        "else:\n",
        "    # Depositing the salary in the bacnk account\n",
        "    print(\"Salary deposited!\")"
      ]
    },
    {
      "cell_type": "code",
      "execution_count": null,
      "id": "fdcf2e7a",
      "metadata": {
        "id": "fdcf2e7a",
        "outputId": "e7025b0b-db78-43fa-956a-32d8c01066db",
        "colab": {
          "base_uri": "https://localhost:8080/"
        }
      },
      "outputs": [
        {
          "output_type": "stream",
          "name": "stdout",
          "text": [
            "Salary deposited!\n"
          ]
        }
      ],
      "source": [
        "try:\n",
        "    sal = 19000\n",
        "    check_salary(sal)\n",
        "except SalaryError as err_msg:\n",
        "    print(err_msg)\n",
        "else:\n",
        "    # Depositing the salary in the bacnk account\n",
        "    print(\"Salary deposited!\")"
      ]
    },
    {
      "cell_type": "code",
      "execution_count": null,
      "id": "38e73426",
      "metadata": {
        "id": "38e73426"
      },
      "outputs": [],
      "source": [
        "def check_salary(salary):\n",
        "    if salary < 10000:\n",
        "        raise ValueError(\"Value of salary is low\")"
      ]
    },
    {
      "cell_type": "code",
      "execution_count": null,
      "id": "8b233001",
      "metadata": {
        "id": "8b233001",
        "outputId": "26bf6160-0d7c-4be8-d3e2-9b542f1590cf",
        "colab": {
          "base_uri": "https://localhost:8080/",
          "height": 263
        }
      },
      "outputs": [
        {
          "output_type": "error",
          "ename": "ValueError",
          "evalue": "ignored",
          "traceback": [
            "\u001b[0;31m---------------------------------------------------------------------------\u001b[0m",
            "\u001b[0;31mValueError\u001b[0m                                Traceback (most recent call last)",
            "\u001b[0;32m<ipython-input-19-9fa6f9cbe9ae>\u001b[0m in \u001b[0;36m<cell line: 1>\u001b[0;34m()\u001b[0m\n\u001b[0;32m----> 1\u001b[0;31m \u001b[0mcheck_salary\u001b[0m\u001b[0;34m(\u001b[0m\u001b[0;36m8000\u001b[0m\u001b[0;34m)\u001b[0m\u001b[0;34m\u001b[0m\u001b[0;34m\u001b[0m\u001b[0m\n\u001b[0m",
            "\u001b[0;32m<ipython-input-18-cecf0a4b1fb3>\u001b[0m in \u001b[0;36mcheck_salary\u001b[0;34m(salary)\u001b[0m\n\u001b[1;32m      1\u001b[0m \u001b[0;32mdef\u001b[0m \u001b[0mcheck_salary\u001b[0m\u001b[0;34m(\u001b[0m\u001b[0msalary\u001b[0m\u001b[0;34m)\u001b[0m\u001b[0;34m:\u001b[0m\u001b[0;34m\u001b[0m\u001b[0;34m\u001b[0m\u001b[0m\n\u001b[1;32m      2\u001b[0m     \u001b[0;32mif\u001b[0m \u001b[0msalary\u001b[0m \u001b[0;34m<\u001b[0m \u001b[0;36m10000\u001b[0m\u001b[0;34m:\u001b[0m\u001b[0;34m\u001b[0m\u001b[0;34m\u001b[0m\u001b[0m\n\u001b[0;32m----> 3\u001b[0;31m         \u001b[0;32mraise\u001b[0m \u001b[0mValueError\u001b[0m\u001b[0;34m(\u001b[0m\u001b[0;34m\"Value of salary is low\"\u001b[0m\u001b[0;34m)\u001b[0m\u001b[0;34m\u001b[0m\u001b[0;34m\u001b[0m\u001b[0m\n\u001b[0m",
            "\u001b[0;31mValueError\u001b[0m: Value of salary is low"
          ]
        }
      ],
      "source": [
        "check_salary(8000)"
      ]
    },
    {
      "cell_type": "code",
      "execution_count": null,
      "id": "338fbf1c",
      "metadata": {
        "id": "338fbf1c"
      },
      "outputs": [],
      "source": []
    },
    {
      "cell_type": "code",
      "execution_count": null,
      "id": "bdf96034",
      "metadata": {
        "id": "bdf96034",
        "outputId": "0e155fef-9bc2-4fde-bf73-c3fdcc29152c",
        "colab": {
          "base_uri": "https://localhost:8080/",
          "height": 171
        }
      },
      "outputs": [
        {
          "output_type": "error",
          "ename": "ValueError",
          "evalue": "ignored",
          "traceback": [
            "\u001b[0;31m---------------------------------------------------------------------------\u001b[0m",
            "\u001b[0;31mValueError\u001b[0m                                Traceback (most recent call last)",
            "\u001b[0;32m<ipython-input-20-e4c8e09828d5>\u001b[0m in \u001b[0;36m<cell line: 1>\u001b[0;34m()\u001b[0m\n\u001b[0;32m----> 1\u001b[0;31m \u001b[0;32mraise\u001b[0m \u001b[0mValueError\u001b[0m\u001b[0;34m\u001b[0m\u001b[0;34m\u001b[0m\u001b[0m\n\u001b[0m",
            "\u001b[0;31mValueError\u001b[0m: "
          ]
        }
      ],
      "source": [
        "raise ValueError"
      ]
    },
    {
      "cell_type": "code",
      "execution_count": null,
      "id": "e8b57c13",
      "metadata": {
        "id": "e8b57c13"
      },
      "outputs": [],
      "source": []
    }
  ],
  "metadata": {
    "kernelspec": {
      "display_name": "Python 3 (ipykernel)",
      "language": "python",
      "name": "python3"
    },
    "language_info": {
      "codemirror_mode": {
        "name": "ipython",
        "version": 3
      },
      "file_extension": ".py",
      "mimetype": "text/x-python",
      "name": "python",
      "nbconvert_exporter": "python",
      "pygments_lexer": "ipython3",
      "version": "3.9.7"
    },
    "colab": {
      "provenance": [],
      "collapsed_sections": [
        "RUVZicccif9T",
        "iYYVe5hOMmcz",
        "YLsfGZoKUHH4",
        "1PH-jshvURlV",
        "m9mJT1kSUwdQ",
        "yxhMzpUlVrah",
        "_Q3EqBlwXLRx",
        "CKtHTA8gW8Ld"
      ],
      "include_colab_link": true
    }
  },
  "nbformat": 4,
  "nbformat_minor": 5
}