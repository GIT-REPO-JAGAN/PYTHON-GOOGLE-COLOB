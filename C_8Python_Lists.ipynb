{
  "cells": [
    {
      "cell_type": "markdown",
      "metadata": {
        "id": "view-in-github",
        "colab_type": "text"
      },
      "source": [
        "<a href=\"https://colab.research.google.com/github/GIT-REPO-JAGAN/PYTHON-GOOGLE-COLOB/blob/main/C_8Python_Lists.ipynb\" target=\"_parent\"><img src=\"https://colab.research.google.com/assets/colab-badge.svg\" alt=\"Open In Colab\"/></a>"
      ]
    },
    {
      "cell_type": "markdown",
      "source": [
        "#### List\n",
        "Ordered sequence of comma separated elements enclosed within []"
      ],
      "metadata": {
        "id": "83lhzgW1Bwem"
      },
      "id": "83lhzgW1Bwem"
    },
    {
      "cell_type": "code",
      "execution_count": null,
      "id": "b7dc2f75",
      "metadata": {
        "id": "b7dc2f75"
      },
      "outputs": [],
      "source": [
        "l1 = [1, 10.5, 'Python', False, None, [10, 20], (1, 2, 3), {'a': 1, 'b': 2}, {10, 7}]"
      ]
    },
    {
      "cell_type": "code",
      "execution_count": null,
      "id": "f9b4bfce",
      "metadata": {
        "id": "f9b4bfce",
        "outputId": "cb92e0ba-1592-4536-852f-ade6c2751c77"
      },
      "outputs": [
        {
          "data": {
            "text/plain": [
              "[1,\n",
              " 10.5,\n",
              " 'Python',\n",
              " False,\n",
              " None,\n",
              " [10, 20],\n",
              " (1, 2, 3),\n",
              " {'a': 1, 'b': 2},\n",
              " {7, 10}]"
            ]
          },
          "execution_count": 3,
          "metadata": {},
          "output_type": "execute_result"
        }
      ],
      "source": [
        "l1"
      ]
    },
    {
      "cell_type": "code",
      "execution_count": null,
      "id": "c898da39",
      "metadata": {
        "id": "c898da39",
        "outputId": "d2570d1c-0a53-4990-a517-e6495979e578"
      },
      "outputs": [
        {
          "data": {
            "text/plain": [
              "list"
            ]
          },
          "execution_count": 4,
          "metadata": {},
          "output_type": "execute_result"
        }
      ],
      "source": [
        "type(l1)"
      ]
    },
    {
      "cell_type": "code",
      "execution_count": null,
      "id": "51b04cf5",
      "metadata": {
        "id": "51b04cf5",
        "outputId": "46e0b15e-8c6e-401b-bb73-6701d6088334"
      },
      "outputs": [
        {
          "data": {
            "text/plain": [
              "9"
            ]
          },
          "execution_count": 5,
          "metadata": {},
          "output_type": "execute_result"
        }
      ],
      "source": [
        "len(l1)"
      ]
    },
    {
      "cell_type": "code",
      "execution_count": null,
      "id": "47549952",
      "metadata": {
        "id": "47549952",
        "outputId": "194dda1e-a9af-4b29-b4ca-26470e510979"
      },
      "outputs": [
        {
          "name": "stdout",
          "output_type": "stream",
          "text": [
            "[1, 10.5, 'Python', False, None, [10, 20], (1, 2, 3), {'a': 1, 'b': 2}, {10, 7}]\n"
          ]
        }
      ],
      "source": [
        "print(l1)"
      ]
    },
    {
      "cell_type": "code",
      "execution_count": null,
      "id": "f348e611",
      "metadata": {
        "id": "f348e611",
        "outputId": "23cfbbd6-59a0-471c-a36b-70a5c9b998a1"
      },
      "outputs": [
        {
          "data": {
            "text/plain": [
              "1"
            ]
          },
          "execution_count": 7,
          "metadata": {},
          "output_type": "execute_result"
        }
      ],
      "source": [
        "l1[0]  # Indexing is ok"
      ]
    },
    {
      "cell_type": "code",
      "execution_count": null,
      "id": "048721c3",
      "metadata": {
        "id": "048721c3",
        "outputId": "ca4b2881-4c52-4242-ad4e-557e4f30c29a"
      },
      "outputs": [
        {
          "data": {
            "text/plain": [
              "10.5"
            ]
          },
          "execution_count": 8,
          "metadata": {},
          "output_type": "execute_result"
        }
      ],
      "source": [
        "l1[1]"
      ]
    },
    {
      "cell_type": "code",
      "execution_count": null,
      "id": "31f2cb74",
      "metadata": {
        "id": "31f2cb74",
        "outputId": "57afd42f-e62d-424e-fdab-9773a04fb540"
      },
      "outputs": [
        {
          "data": {
            "text/plain": [
              "{7, 10}"
            ]
          },
          "execution_count": 9,
          "metadata": {},
          "output_type": "execute_result"
        }
      ],
      "source": [
        "l1[-1]   # Negative indexing is ok"
      ]
    },
    {
      "cell_type": "code",
      "execution_count": null,
      "id": "61d950a3",
      "metadata": {
        "id": "61d950a3",
        "outputId": "02e0a7c7-29ea-4ee6-e584-a641896c6208"
      },
      "outputs": [
        {
          "data": {
            "text/plain": [
              "{'a': 1, 'b': 2}"
            ]
          },
          "execution_count": 10,
          "metadata": {},
          "output_type": "execute_result"
        }
      ],
      "source": [
        "l1[-2]"
      ]
    },
    {
      "cell_type": "code",
      "execution_count": null,
      "id": "dabf123b",
      "metadata": {
        "id": "dabf123b",
        "outputId": "b3ca6d97-4620-4cf7-be79-ebf19f463b49"
      },
      "outputs": [
        {
          "name": "stdout",
          "output_type": "stream",
          "text": [
            "[1, 10.5, 'Python', False, None, [10, 20], (1, 2, 3), {'a': 1, 'b': 2}, {10, 7}]\n"
          ]
        }
      ],
      "source": [
        "print(l1)"
      ]
    },
    {
      "cell_type": "code",
      "execution_count": null,
      "id": "bf175502",
      "metadata": {
        "id": "bf175502",
        "outputId": "3e45100f-e7bf-48b2-98f6-d13520e072f1"
      },
      "outputs": [
        {
          "data": {
            "text/plain": [
              "20"
            ]
          },
          "execution_count": 13,
          "metadata": {},
          "output_type": "execute_result"
        }
      ],
      "source": [
        "l1[5][1]"
      ]
    },
    {
      "cell_type": "code",
      "execution_count": null,
      "id": "4477c1c3",
      "metadata": {
        "id": "4477c1c3",
        "outputId": "f00c4589-e151-4a95-8c92-6bbe73858175"
      },
      "outputs": [
        {
          "data": {
            "text/plain": [
              "2"
            ]
          },
          "execution_count": 14,
          "metadata": {},
          "output_type": "execute_result"
        }
      ],
      "source": [
        "l1[-2]['b']"
      ]
    },
    {
      "cell_type": "code",
      "execution_count": null,
      "id": "4e9c2d78",
      "metadata": {
        "id": "4e9c2d78",
        "outputId": "cdf7956d-7716-4b14-ed9c-3e28961f8859"
      },
      "outputs": [
        {
          "data": {
            "text/plain": [
              "2"
            ]
          },
          "execution_count": 15,
          "metadata": {},
          "output_type": "execute_result"
        }
      ],
      "source": [
        "l1[7]['b']"
      ]
    },
    {
      "cell_type": "code",
      "execution_count": null,
      "id": "3dfb3e9a",
      "metadata": {
        "id": "3dfb3e9a",
        "outputId": "254cb5e7-8aa3-4b37-bf6f-404902294a9e"
      },
      "outputs": [
        {
          "data": {
            "text/plain": [
              "'n'"
            ]
          },
          "execution_count": 16,
          "metadata": {},
          "output_type": "execute_result"
        }
      ],
      "source": [
        "l1[2][-1]"
      ]
    },
    {
      "cell_type": "code",
      "execution_count": null,
      "id": "5e066c4b",
      "metadata": {
        "id": "5e066c4b",
        "outputId": "3eb80adf-eb0f-4b3d-83ef-b432b4f8ca83",
        "colab": {
          "base_uri": "https://localhost:8080/"
        }
      },
      "outputs": [
        {
          "output_type": "stream",
          "name": "stdout",
          "text": [
            "[1, 10.5, 'Python', False, None, [10, 20], (1, 2, 3), {'a': 1, 'b': 2}, {10, 7}]\n"
          ]
        }
      ],
      "source": [
        "print(l1)"
      ]
    },
    {
      "cell_type": "code",
      "execution_count": null,
      "id": "25a2f34d",
      "metadata": {
        "id": "25a2f34d"
      },
      "outputs": [],
      "source": [
        "l2 = [9, 4, 1, 3, 2, 0, 4, 3, 7]"
      ]
    },
    {
      "cell_type": "code",
      "execution_count": null,
      "id": "db7655d7",
      "metadata": {
        "id": "db7655d7",
        "outputId": "cd9f1a4f-2ab0-4bc4-900d-276e896489ac"
      },
      "outputs": [
        {
          "data": {
            "text/plain": [
              "[9, 4, 1, 3, 2, 0, 4, 3, 7]"
            ]
          },
          "execution_count": 19,
          "metadata": {},
          "output_type": "execute_result"
        }
      ],
      "source": [
        "l2"
      ]
    },
    {
      "cell_type": "code",
      "execution_count": null,
      "id": "84121841",
      "metadata": {
        "id": "84121841",
        "outputId": "6f8883ee-9e7a-49fc-a3c0-d40a95693cfe"
      },
      "outputs": [
        {
          "data": {
            "text/plain": [
              "[1, 3, 2, 0]"
            ]
          },
          "execution_count": 20,
          "metadata": {},
          "output_type": "execute_result"
        }
      ],
      "source": [
        "l2[2:6:1] # Slicing"
      ]
    },
    {
      "cell_type": "code",
      "execution_count": null,
      "id": "2f899c4b",
      "metadata": {
        "id": "2f899c4b",
        "outputId": "02e18b09-3d5d-401d-8faf-5ab95c6e6cfa"
      },
      "outputs": [
        {
          "name": "stdout",
          "output_type": "stream",
          "text": [
            "9\n",
            "4\n",
            "1\n",
            "3\n",
            "2\n",
            "0\n",
            "4\n",
            "3\n",
            "7\n"
          ]
        }
      ],
      "source": [
        "for i in l2:\n",
        "    print(i)"
      ]
    },
    {
      "cell_type": "code",
      "execution_count": null,
      "id": "95ed5d4a",
      "metadata": {
        "id": "95ed5d4a",
        "outputId": "21f2e61b-1300-4cc0-cfbf-52196548a02f"
      },
      "outputs": [
        {
          "data": {
            "text/plain": [
              "[9, 4, 1, 3, 2, 0, 4, 3, 7]"
            ]
          },
          "execution_count": 22,
          "metadata": {},
          "output_type": "execute_result"
        }
      ],
      "source": [
        "l2"
      ]
    },
    {
      "cell_type": "code",
      "execution_count": null,
      "id": "ab6a8fe5",
      "metadata": {
        "id": "ab6a8fe5"
      },
      "outputs": [],
      "source": [
        "# print only the odd numbers from the list l2"
      ]
    },
    {
      "cell_type": "code",
      "execution_count": null,
      "id": "c36f0af5",
      "metadata": {
        "id": "c36f0af5",
        "outputId": "5635502b-355b-4d8e-f188-a39a0d7f43e0"
      },
      "outputs": [
        {
          "name": "stdout",
          "output_type": "stream",
          "text": [
            "9\n",
            "4\n",
            "1\n",
            "3\n",
            "2\n",
            "0\n",
            "4\n",
            "3\n",
            "7\n"
          ]
        }
      ],
      "source": [
        "for i in l2:\n",
        "    print(i)"
      ]
    },
    {
      "cell_type": "code",
      "execution_count": null,
      "id": "89d6583b",
      "metadata": {
        "id": "89d6583b",
        "outputId": "2b96de74-0c2d-4146-a79b-4d1afadc7f9c"
      },
      "outputs": [
        {
          "name": "stdout",
          "output_type": "stream",
          "text": [
            "9\n",
            "1\n",
            "3\n",
            "3\n",
            "7\n"
          ]
        }
      ],
      "source": [
        "for i in l2:\n",
        "    if i % 2 != 0:\n",
        "        print(i)"
      ]
    },
    {
      "cell_type": "code",
      "execution_count": null,
      "id": "a65a8aba",
      "metadata": {
        "id": "a65a8aba",
        "outputId": "9cc41e0d-8e3b-46bd-8f4b-7911a2e60499"
      },
      "outputs": [
        {
          "data": {
            "text/plain": [
              "[9, 4, 1, 3, 2, 0, 4, 3, 7]"
            ]
          },
          "execution_count": 26,
          "metadata": {},
          "output_type": "execute_result"
        }
      ],
      "source": [
        "l2"
      ]
    },
    {
      "cell_type": "markdown",
      "source": [
        "#### Append"
      ],
      "metadata": {
        "id": "9YZWdKjpCcR2"
      },
      "id": "9YZWdKjpCcR2"
    },
    {
      "cell_type": "code",
      "execution_count": null,
      "id": "1fc5a37d",
      "metadata": {
        "id": "1fc5a37d"
      },
      "outputs": [],
      "source": [
        "l3 = [1000, 76.5, \"Python\"]"
      ]
    },
    {
      "cell_type": "code",
      "execution_count": null,
      "id": "e38d4713",
      "metadata": {
        "id": "e38d4713",
        "outputId": "89678f6a-3c9f-4054-f78a-5525295a8546"
      },
      "outputs": [
        {
          "data": {
            "text/plain": [
              "[1000, 76.5, 'Python']"
            ]
          },
          "execution_count": 29,
          "metadata": {},
          "output_type": "execute_result"
        }
      ],
      "source": [
        "l3"
      ]
    },
    {
      "cell_type": "code",
      "execution_count": null,
      "id": "00180fdc",
      "metadata": {
        "id": "00180fdc"
      },
      "outputs": [],
      "source": [
        "l3.append(100)"
      ]
    },
    {
      "cell_type": "code",
      "execution_count": null,
      "id": "92d21093",
      "metadata": {
        "id": "92d21093",
        "outputId": "78f94024-6b9c-479f-d9e2-53e8c8fe76da",
        "colab": {
          "base_uri": "https://localhost:8080/"
        }
      },
      "outputs": [
        {
          "output_type": "execute_result",
          "data": {
            "text/plain": [
              "[1000, 76.5, 'Python', 100]"
            ]
          },
          "metadata": {},
          "execution_count": 6
        }
      ],
      "source": [
        "l3"
      ]
    },
    {
      "cell_type": "code",
      "execution_count": null,
      "id": "c1e80ab6",
      "metadata": {
        "id": "c1e80ab6",
        "outputId": "60c0cef7-8517-47b4-db63-ce5af4cb8914"
      },
      "outputs": [
        {
          "data": {
            "text/plain": [
              "2435154056256"
            ]
          },
          "execution_count": 32,
          "metadata": {},
          "output_type": "execute_result"
        }
      ],
      "source": [
        "id(l3)"
      ]
    },
    {
      "cell_type": "code",
      "execution_count": null,
      "id": "e8440948",
      "metadata": {
        "id": "e8440948"
      },
      "outputs": [],
      "source": [
        "l3.append('Hello')"
      ]
    },
    {
      "cell_type": "code",
      "execution_count": null,
      "id": "06bf6e1e",
      "metadata": {
        "id": "06bf6e1e",
        "outputId": "baa40d5d-b847-489d-e79d-4601c83e9fc9"
      },
      "outputs": [
        {
          "data": {
            "text/plain": [
              "[1000, 76.5, 'Python', 100, 'Hello']"
            ]
          },
          "execution_count": 34,
          "metadata": {},
          "output_type": "execute_result"
        }
      ],
      "source": [
        "l3"
      ]
    },
    {
      "cell_type": "code",
      "execution_count": null,
      "id": "c083def5",
      "metadata": {
        "id": "c083def5",
        "outputId": "e6053b26-75f8-45a3-d01a-9ab85de0c282"
      },
      "outputs": [
        {
          "data": {
            "text/plain": [
              "2435154056256"
            ]
          },
          "execution_count": 35,
          "metadata": {},
          "output_type": "execute_result"
        }
      ],
      "source": [
        "id(l3)"
      ]
    },
    {
      "cell_type": "markdown",
      "source": [
        "####Append"
      ],
      "metadata": {
        "id": "NhB2k0ClEFnP"
      },
      "id": "NhB2k0ClEFnP"
    },
    {
      "cell_type": "code",
      "execution_count": null,
      "id": "79a125ef",
      "metadata": {
        "id": "79a125ef",
        "outputId": "1a478d2d-e800-457e-a47f-b9fc830c6705",
        "colab": {
          "base_uri": "https://localhost:8080/"
        }
      },
      "outputs": [
        {
          "output_type": "execute_result",
          "data": {
            "text/plain": [
              "[1000, 76.5, 'Bye', 'Python', 'Bye', 100, [1, 2, 3]]"
            ]
          },
          "metadata": {},
          "execution_count": 24
        }
      ],
      "source": [
        "l3"
      ]
    },
    {
      "cell_type": "code",
      "execution_count": null,
      "id": "fef3c524",
      "metadata": {
        "id": "fef3c524"
      },
      "outputs": [],
      "source": [
        "l3.append([1,2,3])   # Append will add as a single list"
      ]
    },
    {
      "cell_type": "code",
      "execution_count": null,
      "id": "d739eb06",
      "metadata": {
        "id": "d739eb06",
        "outputId": "e83c9e20-cae6-453d-bbcb-40034b7b835e",
        "colab": {
          "base_uri": "https://localhost:8080/"
        }
      },
      "outputs": [
        {
          "output_type": "execute_result",
          "data": {
            "text/plain": [
              "[1000, 76.5, 'Bye', 'Python', 'Bye', 100, [1, 2, 3], [1, 2, 3]]"
            ]
          },
          "metadata": {},
          "execution_count": 26
        }
      ],
      "source": [
        "l3"
      ]
    },
    {
      "cell_type": "markdown",
      "source": [
        "#### Insert same like append"
      ],
      "metadata": {
        "id": "9VM0nZIYCwYN"
      },
      "id": "9VM0nZIYCwYN"
    },
    {
      "cell_type": "code",
      "execution_count": null,
      "id": "15380bc9",
      "metadata": {
        "id": "15380bc9",
        "outputId": "a69c37df-4bb4-48d7-bd88-0872cfe55c9e"
      },
      "outputs": [
        {
          "name": "stdout",
          "output_type": "stream",
          "text": [
            "Help on built-in function insert:\n",
            "\n",
            "insert(index, object, /) method of builtins.list instance\n",
            "    Insert object before index.\n",
            "\n"
          ]
        }
      ],
      "source": [
        "help(l3.insert)"
      ]
    },
    {
      "cell_type": "code",
      "execution_count": null,
      "id": "b1a2061c",
      "metadata": {
        "id": "b1a2061c",
        "outputId": "4bca6851-650e-4c0c-e347-33f3fdbf96e5",
        "colab": {
          "base_uri": "https://localhost:8080/"
        }
      },
      "outputs": [
        {
          "output_type": "execute_result",
          "data": {
            "text/plain": [
              "[1000, 76.5, 'Python', 100]"
            ]
          },
          "metadata": {},
          "execution_count": 7
        }
      ],
      "source": [
        "l3"
      ]
    },
    {
      "cell_type": "code",
      "execution_count": null,
      "id": "d2bec9a8",
      "metadata": {
        "id": "d2bec9a8"
      },
      "outputs": [],
      "source": [
        "l3.insert(2, \"Bye\")"
      ]
    },
    {
      "cell_type": "code",
      "execution_count": null,
      "id": "5aa2ae29",
      "metadata": {
        "id": "5aa2ae29",
        "outputId": "b019d76b-7b72-4f68-b7c1-b7d662b6126c",
        "colab": {
          "base_uri": "https://localhost:8080/"
        }
      },
      "outputs": [
        {
          "output_type": "execute_result",
          "data": {
            "text/plain": [
              "[1000, 76.5, 'Bye', 'Python', 'Bye', 100, [1, 2, 3]]"
            ]
          },
          "metadata": {},
          "execution_count": 21
        }
      ],
      "source": [
        "l3"
      ]
    },
    {
      "cell_type": "code",
      "execution_count": null,
      "id": "b0f88398",
      "metadata": {
        "id": "b0f88398",
        "outputId": "d38dced1-57e7-44d2-c0e7-2a8e0ffd883f",
        "colab": {
          "base_uri": "https://localhost:8080/"
        }
      },
      "outputs": [
        {
          "output_type": "execute_result",
          "data": {
            "text/plain": [
              "140613315191360"
            ]
          },
          "metadata": {},
          "execution_count": 22
        }
      ],
      "source": [
        "id(l3)"
      ]
    },
    {
      "cell_type": "code",
      "execution_count": null,
      "id": "bce7e44d",
      "metadata": {
        "id": "bce7e44d",
        "outputId": "8a03bad9-e02a-4560-ca41-32f0d4782b4e"
      },
      "outputs": [
        {
          "name": "stdout",
          "output_type": "stream",
          "text": [
            "Help on class list in module builtins:\n",
            "\n",
            "class list(object)\n",
            " |  list(iterable=(), /)\n",
            " |  \n",
            " |  Built-in mutable sequence.\n",
            " |  \n",
            " |  If no argument is given, the constructor creates a new empty list.\n",
            " |  The argument must be an iterable if specified.\n",
            " |  \n",
            " |  Methods defined here:\n",
            " |  \n",
            " |  __add__(self, value, /)\n",
            " |      Return self+value.\n",
            " |  \n",
            " |  __contains__(self, key, /)\n",
            " |      Return key in self.\n",
            " |  \n",
            " |  __delitem__(self, key, /)\n",
            " |      Delete self[key].\n",
            " |  \n",
            " |  __eq__(self, value, /)\n",
            " |      Return self==value.\n",
            " |  \n",
            " |  __ge__(self, value, /)\n",
            " |      Return self>=value.\n",
            " |  \n",
            " |  __getattribute__(self, name, /)\n",
            " |      Return getattr(self, name).\n",
            " |  \n",
            " |  __getitem__(...)\n",
            " |      x.__getitem__(y) <==> x[y]\n",
            " |  \n",
            " |  __gt__(self, value, /)\n",
            " |      Return self>value.\n",
            " |  \n",
            " |  __iadd__(self, value, /)\n",
            " |      Implement self+=value.\n",
            " |  \n",
            " |  __imul__(self, value, /)\n",
            " |      Implement self*=value.\n",
            " |  \n",
            " |  __init__(self, /, *args, **kwargs)\n",
            " |      Initialize self.  See help(type(self)) for accurate signature.\n",
            " |  \n",
            " |  __iter__(self, /)\n",
            " |      Implement iter(self).\n",
            " |  \n",
            " |  __le__(self, value, /)\n",
            " |      Return self<=value.\n",
            " |  \n",
            " |  __len__(self, /)\n",
            " |      Return len(self).\n",
            " |  \n",
            " |  __lt__(self, value, /)\n",
            " |      Return self<value.\n",
            " |  \n",
            " |  __mul__(self, value, /)\n",
            " |      Return self*value.\n",
            " |  \n",
            " |  __ne__(self, value, /)\n",
            " |      Return self!=value.\n",
            " |  \n",
            " |  __repr__(self, /)\n",
            " |      Return repr(self).\n",
            " |  \n",
            " |  __reversed__(self, /)\n",
            " |      Return a reverse iterator over the list.\n",
            " |  \n",
            " |  __rmul__(self, value, /)\n",
            " |      Return value*self.\n",
            " |  \n",
            " |  __setitem__(self, key, value, /)\n",
            " |      Set self[key] to value.\n",
            " |  \n",
            " |  __sizeof__(self, /)\n",
            " |      Return the size of the list in memory, in bytes.\n",
            " |  \n",
            " |  append(self, object, /)\n",
            " |      Append object to the end of the list.\n",
            " |  \n",
            " |  clear(self, /)\n",
            " |      Remove all items from list.\n",
            " |  \n",
            " |  copy(self, /)\n",
            " |      Return a shallow copy of the list.\n",
            " |  \n",
            " |  count(self, value, /)\n",
            " |      Return number of occurrences of value.\n",
            " |  \n",
            " |  extend(self, iterable, /)\n",
            " |      Extend list by appending elements from the iterable.\n",
            " |  \n",
            " |  index(self, value, start=0, stop=9223372036854775807, /)\n",
            " |      Return first index of value.\n",
            " |      \n",
            " |      Raises ValueError if the value is not present.\n",
            " |  \n",
            " |  insert(self, index, object, /)\n",
            " |      Insert object before index.\n",
            " |  \n",
            " |  pop(self, index=-1, /)\n",
            " |      Remove and return item at index (default last).\n",
            " |      \n",
            " |      Raises IndexError if list is empty or index is out of range.\n",
            " |  \n",
            " |  remove(self, value, /)\n",
            " |      Remove first occurrence of value.\n",
            " |      \n",
            " |      Raises ValueError if the value is not present.\n",
            " |  \n",
            " |  reverse(self, /)\n",
            " |      Reverse *IN PLACE*.\n",
            " |  \n",
            " |  sort(self, /, *, key=None, reverse=False)\n",
            " |      Sort the list in ascending order and return None.\n",
            " |      \n",
            " |      The sort is in-place (i.e. the list itself is modified) and stable (i.e. the\n",
            " |      order of two equal elements is maintained).\n",
            " |      \n",
            " |      If a key function is given, apply it once to each list item and sort them,\n",
            " |      ascending or descending, according to their function values.\n",
            " |      \n",
            " |      The reverse flag can be set to sort in descending order.\n",
            " |  \n",
            " |  ----------------------------------------------------------------------\n",
            " |  Class methods defined here:\n",
            " |  \n",
            " |  __class_getitem__(...) from builtins.type\n",
            " |      See PEP 585\n",
            " |  \n",
            " |  ----------------------------------------------------------------------\n",
            " |  Static methods defined here:\n",
            " |  \n",
            " |  __new__(*args, **kwargs) from builtins.type\n",
            " |      Create and return a new object.  See help(type) for accurate signature.\n",
            " |  \n",
            " |  ----------------------------------------------------------------------\n",
            " |  Data and other attributes defined here:\n",
            " |  \n",
            " |  __hash__ = None\n",
            "\n"
          ]
        }
      ],
      "source": [
        "help(list)"
      ]
    },
    {
      "cell_type": "code",
      "execution_count": null,
      "id": "652130e9",
      "metadata": {
        "id": "652130e9",
        "outputId": "8ca06eb5-4483-4527-9d48-ed8685753a54"
      },
      "outputs": [
        {
          "name": "stdout",
          "output_type": "stream",
          "text": [
            "Help on method_descriptor:\n",
            "\n",
            "capitalize(self, /)\n",
            "    Return a capitalized version of the string.\n",
            "    \n",
            "    More specifically, make the first character have upper case and the rest lower\n",
            "    case.\n",
            "\n"
          ]
        }
      ],
      "source": [
        "help(str.capitalize)"
      ]
    },
    {
      "cell_type": "code",
      "execution_count": null,
      "id": "11eb95d7",
      "metadata": {
        "id": "11eb95d7"
      },
      "outputs": [],
      "source": [
        "s1 = \"Hello\""
      ]
    },
    {
      "cell_type": "code",
      "execution_count": null,
      "id": "120e9e56",
      "metadata": {
        "id": "120e9e56",
        "outputId": "fe3c0d10-df81-48c1-a09b-2239a0999382",
        "colab": {
          "base_uri": "https://localhost:8080/"
        }
      },
      "outputs": [
        {
          "output_type": "stream",
          "name": "stdout",
          "text": [
            "Help on built-in function capitalize:\n",
            "\n",
            "capitalize() method of builtins.str instance\n",
            "    Return a capitalized version of the string.\n",
            "    \n",
            "    More specifically, make the first character have upper case and the rest lower\n",
            "    case.\n",
            "\n"
          ]
        }
      ],
      "source": [
        "help(s1.capitalize)"
      ]
    },
    {
      "cell_type": "markdown",
      "source": [
        "####Extend"
      ],
      "metadata": {
        "id": "1RkD-t3tEKmx"
      },
      "id": "1RkD-t3tEKmx"
    },
    {
      "cell_type": "code",
      "execution_count": null,
      "id": "cb2d9cbe",
      "metadata": {
        "id": "cb2d9cbe",
        "outputId": "5c4b9494-5a21-47a3-f8c5-1a6b70622957"
      },
      "outputs": [
        {
          "name": "stdout",
          "output_type": "stream",
          "text": [
            "Help on built-in function extend:\n",
            "\n",
            "extend(iterable, /) method of builtins.list instance\n",
            "    Extend list by appending elements from the iterable.\n",
            "\n"
          ]
        }
      ],
      "source": [
        "help(l3.extend)"
      ]
    },
    {
      "cell_type": "code",
      "execution_count": null,
      "id": "afce9b65",
      "metadata": {
        "id": "afce9b65",
        "outputId": "b3b6a756-b561-4539-b8f8-9b14ea45de4c",
        "colab": {
          "base_uri": "https://localhost:8080/"
        }
      },
      "outputs": [
        {
          "output_type": "execute_result",
          "data": {
            "text/plain": [
              "[1000, 76.5, 'Bye', 'Python', 'Bye', 100, [1, 2, 3], [1, 2, 3]]"
            ]
          },
          "metadata": {},
          "execution_count": 27
        }
      ],
      "source": [
        "l3"
      ]
    },
    {
      "cell_type": "code",
      "execution_count": null,
      "id": "cd688656",
      "metadata": {
        "id": "cd688656"
      },
      "outputs": [],
      "source": [
        "l3.extend([10, 20]) # Extend will add as a seperate value / element"
      ]
    },
    {
      "cell_type": "code",
      "execution_count": null,
      "id": "1e1f9fac",
      "metadata": {
        "id": "1e1f9fac",
        "outputId": "d34f40a1-9ead-4173-88ed-4827bafe0e36",
        "colab": {
          "base_uri": "https://localhost:8080/"
        }
      },
      "outputs": [
        {
          "output_type": "execute_result",
          "data": {
            "text/plain": [
              "[1000, 76.5, 'Bye', 'Python', 'Bye', 100, [1, 2, 3], [1, 2, 3], 10, 20]"
            ]
          },
          "metadata": {},
          "execution_count": 29
        }
      ],
      "source": [
        "l3"
      ]
    },
    {
      "cell_type": "code",
      "execution_count": null,
      "id": "7978b231",
      "metadata": {
        "id": "7978b231",
        "outputId": "edeecf6a-9707-46a9-8c26-5257c6733d08",
        "colab": {
          "base_uri": "https://localhost:8080/",
          "height": 171
        }
      },
      "outputs": [
        {
          "output_type": "error",
          "ename": "TypeError",
          "evalue": "ignored",
          "traceback": [
            "\u001b[0;31m---------------------------------------------------------------------------\u001b[0m",
            "\u001b[0;31mTypeError\u001b[0m                                 Traceback (most recent call last)",
            "\u001b[0;32m<ipython-input-30-00b0e2d3e29d>\u001b[0m in \u001b[0;36m<cell line: 1>\u001b[0;34m()\u001b[0m\n\u001b[0;32m----> 1\u001b[0;31m \u001b[0ml3\u001b[0m\u001b[0;34m.\u001b[0m\u001b[0mextend\u001b[0m\u001b[0;34m(\u001b[0m\u001b[0;36m100\u001b[0m\u001b[0;34m)\u001b[0m\u001b[0;34m\u001b[0m\u001b[0;34m\u001b[0m\u001b[0m\n\u001b[0m",
            "\u001b[0;31mTypeError\u001b[0m: 'int' object is not iterable"
          ]
        }
      ],
      "source": [
        "l3.extend(100)"
      ]
    },
    {
      "cell_type": "code",
      "execution_count": null,
      "id": "30e94591",
      "metadata": {
        "id": "30e94591",
        "outputId": "0e0c2f4c-01c1-4c09-eaa5-1f18a2d0a184",
        "colab": {
          "base_uri": "https://localhost:8080/"
        }
      },
      "outputs": [
        {
          "output_type": "execute_result",
          "data": {
            "text/plain": [
              "[1000, 76.5, 'Bye', 'Python', 'Bye', 100, [1, 2, 3], [1, 2, 3], 10, 20]"
            ]
          },
          "metadata": {},
          "execution_count": 31
        }
      ],
      "source": [
        "l3"
      ]
    },
    {
      "cell_type": "code",
      "execution_count": null,
      "id": "29ff2f46",
      "metadata": {
        "id": "29ff2f46"
      },
      "outputs": [],
      "source": [
        "l3.extend('Hi')"
      ]
    },
    {
      "cell_type": "code",
      "execution_count": null,
      "id": "ee5b46cb",
      "metadata": {
        "id": "ee5b46cb",
        "outputId": "05e368f6-8491-4321-8ee6-958161568047",
        "colab": {
          "base_uri": "https://localhost:8080/"
        }
      },
      "outputs": [
        {
          "output_type": "stream",
          "name": "stdout",
          "text": [
            "[1000, 76.5, 'Bye', 'Python', 'Bye', 100, [1, 2, 3], [1, 2, 3], 10, 20, 'H', 'i']\n"
          ]
        }
      ],
      "source": [
        "print(l3)"
      ]
    },
    {
      "cell_type": "code",
      "execution_count": null,
      "id": "9345a9c7",
      "metadata": {
        "id": "9345a9c7"
      },
      "outputs": [],
      "source": [
        "l3.extend([1,2])"
      ]
    },
    {
      "cell_type": "code",
      "execution_count": null,
      "id": "aa2b3758",
      "metadata": {
        "id": "aa2b3758",
        "outputId": "a47c006a-134e-4a29-ed06-f811ba2660a5",
        "colab": {
          "base_uri": "https://localhost:8080/"
        }
      },
      "outputs": [
        {
          "output_type": "stream",
          "name": "stdout",
          "text": [
            "[1000, 76.5, 'Bye', 'Python', 'Bye', 100, [1, 2, 3], [1, 2, 3], 10, 20, 'H', 'i', 1, 2]\n"
          ]
        }
      ],
      "source": [
        "print(l3)"
      ]
    },
    {
      "cell_type": "code",
      "execution_count": null,
      "id": "6717af2a",
      "metadata": {
        "id": "6717af2a"
      },
      "outputs": [],
      "source": [
        "l3.append([1,2])"
      ]
    },
    {
      "cell_type": "code",
      "execution_count": null,
      "id": "b66429d8",
      "metadata": {
        "id": "b66429d8",
        "outputId": "1c5d3ba2-5a5f-427a-9b64-de438202ea1f",
        "colab": {
          "base_uri": "https://localhost:8080/"
        }
      },
      "outputs": [
        {
          "output_type": "stream",
          "name": "stdout",
          "text": [
            "[1000, 76.5, 'Bye', 'Python', 'Bye', 100, [1, 2, 3], [1, 2, 3], 10, 20, 'H', 'i', 1, 2, [1, 2]]\n"
          ]
        }
      ],
      "source": [
        "print(l3)"
      ]
    },
    {
      "cell_type": "code",
      "execution_count": null,
      "id": "e6014d6b",
      "metadata": {
        "id": "e6014d6b"
      },
      "outputs": [],
      "source": [
        "l3.extend((1,2,3))"
      ]
    },
    {
      "cell_type": "code",
      "execution_count": null,
      "id": "814ee0b2",
      "metadata": {
        "id": "814ee0b2",
        "outputId": "cb74d92d-1b0e-445c-e1dd-86414122cc82",
        "colab": {
          "base_uri": "https://localhost:8080/"
        }
      },
      "outputs": [
        {
          "output_type": "stream",
          "name": "stdout",
          "text": [
            "[1000, 76.5, 'Bye', 'Python', 'Bye', 100, [1, 2, 3], [1, 2, 3], 10, 20, 'H', 'i', 1, 2, [1, 2], 1, 2, 3]\n"
          ]
        }
      ],
      "source": [
        "print(l3)"
      ]
    },
    {
      "cell_type": "code",
      "execution_count": null,
      "id": "a3b8092c",
      "metadata": {
        "id": "a3b8092c"
      },
      "outputs": [],
      "source": [
        "l3.extend({'a':1, 'b':2})"
      ]
    },
    {
      "cell_type": "code",
      "execution_count": null,
      "id": "19d2d575",
      "metadata": {
        "id": "19d2d575",
        "outputId": "ea501ba2-40ca-4967-961d-c5cedadda32e",
        "colab": {
          "base_uri": "https://localhost:8080/"
        }
      },
      "outputs": [
        {
          "output_type": "stream",
          "name": "stdout",
          "text": [
            "[1000, 76.5, 'Bye', 'Python', 'Bye', 100, [1, 2, 3], [1, 2, 3], 10, 20, 'H', 'i', 1, 2, [1, 2], 1, 2, 3, 'a', 'b']\n"
          ]
        }
      ],
      "source": [
        "print(l3)"
      ]
    },
    {
      "cell_type": "markdown",
      "source": [
        "#### Remove"
      ],
      "metadata": {
        "id": "4z2_-v-DE8wj"
      },
      "id": "4z2_-v-DE8wj"
    },
    {
      "cell_type": "code",
      "execution_count": null,
      "id": "1494ac58",
      "metadata": {
        "id": "1494ac58"
      },
      "outputs": [],
      "source": [
        "l3.remove(1000)"
      ]
    },
    {
      "cell_type": "code",
      "execution_count": null,
      "id": "d5349400",
      "metadata": {
        "id": "d5349400",
        "outputId": "967fb80e-1608-4cb4-d3d5-7f6792506670",
        "colab": {
          "base_uri": "https://localhost:8080/"
        }
      },
      "outputs": [
        {
          "output_type": "stream",
          "name": "stdout",
          "text": [
            "[76.5, 'Bye', 'Python', 'Bye', 100, [1, 2, 3], [1, 2, 3], 10, 20, 'H', 'i', 1, 2, [1, 2], 1, 2, 3, 'a', 'b']\n"
          ]
        }
      ],
      "source": [
        "print(l3)"
      ]
    },
    {
      "cell_type": "code",
      "execution_count": null,
      "id": "91616047",
      "metadata": {
        "id": "91616047"
      },
      "outputs": [],
      "source": [
        "l3.remove('i')  # Will remove i from right side"
      ]
    },
    {
      "cell_type": "code",
      "execution_count": null,
      "id": "3c6ccac4",
      "metadata": {
        "id": "3c6ccac4",
        "outputId": "e2463aec-bb39-4297-ffb1-7d200ecdc6c2",
        "colab": {
          "base_uri": "https://localhost:8080/"
        }
      },
      "outputs": [
        {
          "output_type": "stream",
          "name": "stdout",
          "text": [
            "[76.5, 'Bye', 'Python', 'Bye', 100, [1, 2, 3], [1, 2, 3], 10, 20, 'H', 1, 2, [1, 2], 1, 2, 3, 'a', 'b']\n"
          ]
        }
      ],
      "source": [
        "print(l3)"
      ]
    },
    {
      "cell_type": "code",
      "execution_count": null,
      "id": "6178da79",
      "metadata": {
        "id": "6178da79"
      },
      "outputs": [],
      "source": [
        "l3.remove(1) # Will remove only once 1 from right side that too it needs be in"
      ]
    },
    {
      "cell_type": "code",
      "execution_count": null,
      "id": "700170af",
      "metadata": {
        "id": "700170af",
        "outputId": "eb846bcf-02f4-4a17-80d4-10281af5517e",
        "colab": {
          "base_uri": "https://localhost:8080/"
        }
      },
      "outputs": [
        {
          "output_type": "stream",
          "name": "stdout",
          "text": [
            "[76.5, 'Bye', 'Python', 'Bye', 100, [1, 2, 3], [1, 2, 3], 10, 20, 'H', 2, [1, 2], 2, 3, 'a', 'b']\n"
          ]
        }
      ],
      "source": [
        "print(l3)"
      ]
    },
    {
      "cell_type": "code",
      "execution_count": null,
      "id": "5f84cf4e",
      "metadata": {
        "id": "5f84cf4e"
      },
      "outputs": [],
      "source": [
        "l3[5].remove(1) # Will remove 1 from right 5th Indexing inside value"
      ]
    },
    {
      "cell_type": "code",
      "execution_count": null,
      "id": "a999ba5c",
      "metadata": {
        "id": "a999ba5c",
        "outputId": "d9da025a-bea2-4d74-f0a8-4791d7fa2f51",
        "colab": {
          "base_uri": "https://localhost:8080/"
        }
      },
      "outputs": [
        {
          "output_type": "stream",
          "name": "stdout",
          "text": [
            "[76.5, 'Bye', 'Python', 'Bye', 100, [2, 3], [1, 2, 3], 10, 20, 'H', 2, [1, 2], 2, 3, 'a', 'b']\n"
          ]
        }
      ],
      "source": [
        "print(l3)"
      ]
    },
    {
      "cell_type": "code",
      "execution_count": null,
      "id": "e79dc07e",
      "metadata": {
        "id": "e79dc07e",
        "outputId": "a4bb1f76-99ec-44fd-88e5-815a38c8e3be",
        "colab": {
          "base_uri": "https://localhost:8080/",
          "height": 171
        }
      },
      "outputs": [
        {
          "output_type": "error",
          "ename": "ValueError",
          "evalue": "ignored",
          "traceback": [
            "\u001b[0;31m---------------------------------------------------------------------------\u001b[0m",
            "\u001b[0;31mValueError\u001b[0m                                Traceback (most recent call last)",
            "\u001b[0;32m<ipython-input-57-0b350bd41282>\u001b[0m in \u001b[0;36m<cell line: 1>\u001b[0;34m()\u001b[0m\n\u001b[0;32m----> 1\u001b[0;31m \u001b[0ml3\u001b[0m\u001b[0;34m.\u001b[0m\u001b[0mremove\u001b[0m\u001b[0;34m(\u001b[0m\u001b[0;36m25\u001b[0m\u001b[0;34m)\u001b[0m\u001b[0;34m\u001b[0m\u001b[0;34m\u001b[0m\u001b[0m\n\u001b[0m",
            "\u001b[0;31mValueError\u001b[0m: list.remove(x): x not in list"
          ]
        }
      ],
      "source": [
        "l3.remove(25)"
      ]
    },
    {
      "cell_type": "code",
      "execution_count": null,
      "id": "0f5bf1d3",
      "metadata": {
        "id": "0f5bf1d3"
      },
      "outputs": [],
      "source": []
    },
    {
      "cell_type": "markdown",
      "source": [
        "#### Pop:-Remove the respected value and pint the removed value"
      ],
      "metadata": {
        "id": "GjPF19f3GTZF"
      },
      "id": "GjPF19f3GTZF"
    },
    {
      "cell_type": "code",
      "execution_count": null,
      "id": "a302b980",
      "metadata": {
        "id": "a302b980",
        "outputId": "addb37ac-b54d-4696-bcf1-55546f87755f",
        "colab": {
          "base_uri": "https://localhost:8080/"
        }
      },
      "outputs": [
        {
          "output_type": "stream",
          "name": "stdout",
          "text": [
            "[76.5, 'Bye', 'Python', 'Bye', 100, [2, 3], [1, 2, 3], 10, 20, 'H', 2, [1, 2], 2, 3, 'a', 'b']\n"
          ]
        }
      ],
      "source": [
        "print(l3)"
      ]
    },
    {
      "cell_type": "code",
      "execution_count": null,
      "id": "e26a29a9",
      "metadata": {
        "id": "e26a29a9",
        "outputId": "7cc62d93-62a1-4511-a23a-76b7043e1656",
        "colab": {
          "base_uri": "https://localhost:8080/"
        }
      },
      "outputs": [
        {
          "output_type": "execute_result",
          "data": {
            "text/plain": [
              "100"
            ]
          },
          "metadata": {},
          "execution_count": 60
        }
      ],
      "source": [
        "l3.pop(4) # Will print the indexth value and will remove the same"
      ]
    },
    {
      "cell_type": "code",
      "execution_count": null,
      "id": "55462d66",
      "metadata": {
        "id": "55462d66",
        "outputId": "a8b55631-ab12-4a99-d667-bcde00ecdf5a",
        "colab": {
          "base_uri": "https://localhost:8080/"
        }
      },
      "outputs": [
        {
          "output_type": "stream",
          "name": "stdout",
          "text": [
            "[76.5, 'Bye', 'Python', 'Bye', [2, 3], [1, 2, 3], 10, 20, 'H', 2, [1, 2], 2, 3, 'a', 'b']\n"
          ]
        }
      ],
      "source": [
        "print(l3)"
      ]
    },
    {
      "cell_type": "code",
      "execution_count": null,
      "id": "ce01bfad",
      "metadata": {
        "id": "ce01bfad"
      },
      "outputs": [],
      "source": [
        "deleted_ele = l3.pop(0) # Will print the indexth value and will remove the same"
      ]
    },
    {
      "cell_type": "code",
      "execution_count": null,
      "id": "37ffb136",
      "metadata": {
        "id": "37ffb136",
        "outputId": "0b2c4967-1bde-4f53-a776-47badb31ccde",
        "colab": {
          "base_uri": "https://localhost:8080/"
        }
      },
      "outputs": [
        {
          "output_type": "execute_result",
          "data": {
            "text/plain": [
              "76.5"
            ]
          },
          "metadata": {},
          "execution_count": 63
        }
      ],
      "source": [
        "deleted_ele"
      ]
    },
    {
      "cell_type": "code",
      "execution_count": null,
      "id": "17e20b5f",
      "metadata": {
        "id": "17e20b5f",
        "outputId": "7a5bbfe5-1221-47d0-ce6b-42560ad46760",
        "colab": {
          "base_uri": "https://localhost:8080/"
        }
      },
      "outputs": [
        {
          "output_type": "stream",
          "name": "stdout",
          "text": [
            "['Bye', 'Python', 'Bye', [2, 3], [1, 2, 3], 10, 20, 'H', 2, [1, 2], 2, 3, 'a', 'b']\n"
          ]
        }
      ],
      "source": [
        "print (l3)"
      ]
    },
    {
      "cell_type": "code",
      "execution_count": null,
      "id": "e452ba5b",
      "metadata": {
        "id": "e452ba5b",
        "outputId": "6e1eab34-92a6-4167-fd7d-a44f252a218d",
        "colab": {
          "base_uri": "https://localhost:8080/"
        }
      },
      "outputs": [
        {
          "output_type": "execute_result",
          "data": {
            "text/plain": [
              "14"
            ]
          },
          "metadata": {},
          "execution_count": 66
        }
      ],
      "source": [
        "len(l3)"
      ]
    },
    {
      "cell_type": "code",
      "execution_count": null,
      "id": "557f7cf8",
      "metadata": {
        "id": "557f7cf8",
        "outputId": "4458be60-d69c-4e79-a600-4dd9482b8c0b",
        "colab": {
          "base_uri": "https://localhost:8080/",
          "height": 171
        }
      },
      "outputs": [
        {
          "output_type": "error",
          "ename": "IndexError",
          "evalue": "ignored",
          "traceback": [
            "\u001b[0;31m---------------------------------------------------------------------------\u001b[0m",
            "\u001b[0;31mIndexError\u001b[0m                                Traceback (most recent call last)",
            "\u001b[0;32m<ipython-input-67-b4210fb0571f>\u001b[0m in \u001b[0;36m<cell line: 1>\u001b[0;34m()\u001b[0m\n\u001b[0;32m----> 1\u001b[0;31m \u001b[0ml3\u001b[0m\u001b[0;34m.\u001b[0m\u001b[0mpop\u001b[0m\u001b[0;34m(\u001b[0m\u001b[0;36m15\u001b[0m\u001b[0;34m)\u001b[0m\u001b[0;34m\u001b[0m\u001b[0;34m\u001b[0m\u001b[0m\n\u001b[0m",
            "\u001b[0;31mIndexError\u001b[0m: pop index out of range"
          ]
        }
      ],
      "source": [
        "l3.pop(15)"
      ]
    },
    {
      "cell_type": "code",
      "execution_count": null,
      "id": "81cc2318",
      "metadata": {
        "id": "81cc2318",
        "outputId": "498e3692-ec3d-4850-e031-8c884b0b3538",
        "colab": {
          "base_uri": "https://localhost:8080/"
        }
      },
      "outputs": [
        {
          "output_type": "stream",
          "name": "stdout",
          "text": [
            "['Bye', 'Python', 'Bye', [2, 3], [1, 2, 3], 10, 20, 'H', 2, [1, 2], 2, 3, 'a', 'b']\n"
          ]
        }
      ],
      "source": [
        "print(l3)"
      ]
    },
    {
      "cell_type": "code",
      "execution_count": null,
      "id": "9acc6096",
      "metadata": {
        "id": "9acc6096",
        "outputId": "75210e8e-089d-46b0-a7fa-0b288209c68d",
        "colab": {
          "base_uri": "https://localhost:8080/",
          "height": 36
        }
      },
      "outputs": [
        {
          "output_type": "execute_result",
          "data": {
            "text/plain": [
              "'b'"
            ],
            "application/vnd.google.colaboratory.intrinsic+json": {
              "type": "string"
            }
          },
          "metadata": {},
          "execution_count": 70
        }
      ],
      "source": [
        "l3.pop() # Empty pop will print the last value / -1 indexing value and will remove the same"
      ]
    },
    {
      "cell_type": "code",
      "execution_count": null,
      "id": "1afa6d64",
      "metadata": {
        "id": "1afa6d64",
        "outputId": "87a128f2-2396-45fa-a22a-4b99c6da6714",
        "colab": {
          "base_uri": "https://localhost:8080/"
        }
      },
      "outputs": [
        {
          "output_type": "execute_result",
          "data": {
            "text/plain": [
              "['Bye', 'Python', 'Bye', [2, 3], [1, 2, 3], 10, 20, 'H', 2, [1, 2], 2, 3, 'a']"
            ]
          },
          "metadata": {},
          "execution_count": 71
        }
      ],
      "source": [
        "l3"
      ]
    },
    {
      "cell_type": "code",
      "execution_count": null,
      "id": "b81e81a9",
      "metadata": {
        "id": "b81e81a9",
        "outputId": "996966f0-9c4c-4524-bcd4-4faabb39daff",
        "colab": {
          "base_uri": "https://localhost:8080/",
          "height": 36
        }
      },
      "outputs": [
        {
          "output_type": "execute_result",
          "data": {
            "text/plain": [
              "'a'"
            ],
            "application/vnd.google.colaboratory.intrinsic+json": {
              "type": "string"
            }
          },
          "metadata": {},
          "execution_count": 72
        }
      ],
      "source": [
        "l3.pop()"
      ]
    },
    {
      "cell_type": "code",
      "execution_count": null,
      "id": "4816a154",
      "metadata": {
        "id": "4816a154",
        "outputId": "0345e804-cb35-489d-ab3e-ab1c08195543",
        "colab": {
          "base_uri": "https://localhost:8080/"
        }
      },
      "outputs": [
        {
          "output_type": "execute_result",
          "data": {
            "text/plain": [
              "['Bye', 'Python', 'Bye', [2, 3], [1, 2, 3], 10, 20, 'H', 2, [1, 2], 2, 3]"
            ]
          },
          "metadata": {},
          "execution_count": 73
        }
      ],
      "source": [
        "l3"
      ]
    },
    {
      "cell_type": "code",
      "execution_count": null,
      "id": "a062d20e",
      "metadata": {
        "id": "a062d20e",
        "outputId": "de28beea-c1ff-4a12-c18e-5eb9762ac29d",
        "colab": {
          "base_uri": "https://localhost:8080/"
        }
      },
      "outputs": [
        {
          "output_type": "execute_result",
          "data": {
            "text/plain": [
              "3"
            ]
          },
          "metadata": {},
          "execution_count": 74
        }
      ],
      "source": [
        "l3.pop()"
      ]
    },
    {
      "cell_type": "code",
      "execution_count": null,
      "id": "129cea65",
      "metadata": {
        "id": "129cea65",
        "outputId": "cb8fa06b-eb99-4ee5-ed1b-d7bbed145889",
        "colab": {
          "base_uri": "https://localhost:8080/"
        }
      },
      "outputs": [
        {
          "output_type": "execute_result",
          "data": {
            "text/plain": [
              "2"
            ]
          },
          "metadata": {},
          "execution_count": 75
        }
      ],
      "source": [
        "l3.pop()"
      ]
    },
    {
      "cell_type": "code",
      "execution_count": null,
      "id": "18b3f5ef",
      "metadata": {
        "id": "18b3f5ef",
        "outputId": "f6720b1f-00fb-4bc0-e5d3-e014d3a902f4",
        "colab": {
          "base_uri": "https://localhost:8080/"
        }
      },
      "outputs": [
        {
          "output_type": "execute_result",
          "data": {
            "text/plain": [
              "['Bye', 'Python', 'Bye', [2, 3], [1, 2, 3], 10, 20, 'H', 2, [1, 2]]"
            ]
          },
          "metadata": {},
          "execution_count": 76
        }
      ],
      "source": [
        "l3"
      ]
    },
    {
      "cell_type": "code",
      "execution_count": null,
      "id": "ed70e015",
      "metadata": {
        "id": "ed70e015",
        "outputId": "597612e3-5ce4-4591-d369-c7ab2504112b"
      },
      "outputs": [
        {
          "name": "stdout",
          "output_type": "stream",
          "text": [
            "Help on built-in function pop:\n",
            "\n",
            "pop(index=-1, /) method of builtins.list instance\n",
            "    Remove and return item at index (default last).\n",
            "    \n",
            "    Raises IndexError if list is empty or index is out of range.\n",
            "\n"
          ]
        }
      ],
      "source": [
        "help(l3.pop)"
      ]
    },
    {
      "cell_type": "markdown",
      "source": [
        "#### Count the values"
      ],
      "metadata": {
        "id": "MVkaqzAcIklF"
      },
      "id": "MVkaqzAcIklF"
    },
    {
      "cell_type": "code",
      "execution_count": null,
      "id": "7d65cacd",
      "metadata": {
        "id": "7d65cacd",
        "outputId": "8fe74e7c-9401-44ab-8e81-ebac582ae9ce",
        "colab": {
          "base_uri": "https://localhost:8080/"
        }
      },
      "outputs": [
        {
          "output_type": "execute_result",
          "data": {
            "text/plain": [
              "[9, 4, 1, 3, 2, 0, 4, 3, 7]"
            ]
          },
          "metadata": {},
          "execution_count": 77
        }
      ],
      "source": [
        "l2"
      ]
    },
    {
      "cell_type": "code",
      "execution_count": null,
      "id": "e99309f3",
      "metadata": {
        "id": "e99309f3",
        "outputId": "6bea7955-4bef-4364-b1a0-45d17fa27757",
        "colab": {
          "base_uri": "https://localhost:8080/"
        }
      },
      "outputs": [
        {
          "output_type": "execute_result",
          "data": {
            "text/plain": [
              "2"
            ]
          },
          "metadata": {},
          "execution_count": 88
        }
      ],
      "source": [
        "l2.count(4) # It counts how many 4 in the list"
      ]
    },
    {
      "cell_type": "code",
      "execution_count": null,
      "id": "b0db5dc8",
      "metadata": {
        "id": "b0db5dc8",
        "outputId": "4d7a783d-2a34-492e-abfd-1279470dd321",
        "colab": {
          "base_uri": "https://localhost:8080/"
        }
      },
      "outputs": [
        {
          "output_type": "stream",
          "name": "stdout",
          "text": [
            "[1, 10.5, 'Python', False, None, [10, 20], (1, 2, 3), {'a': 1, 'b': 2}, {10, 7}]\n"
          ]
        }
      ],
      "source": [
        "print(l1)"
      ]
    },
    {
      "cell_type": "markdown",
      "source": [
        "#### Clears the values"
      ],
      "metadata": {
        "id": "k4b3wWgzIxoY"
      },
      "id": "k4b3wWgzIxoY"
    },
    {
      "cell_type": "code",
      "execution_count": null,
      "id": "cbeb20e8",
      "metadata": {
        "id": "cbeb20e8"
      },
      "outputs": [],
      "source": [
        "l1.clear()  # Will clear all"
      ]
    },
    {
      "cell_type": "code",
      "execution_count": null,
      "id": "f4747938",
      "metadata": {
        "id": "f4747938",
        "outputId": "7951b0e9-16e7-4d89-beb4-e70388e72822",
        "colab": {
          "base_uri": "https://localhost:8080/"
        }
      },
      "outputs": [
        {
          "output_type": "execute_result",
          "data": {
            "text/plain": [
              "[]"
            ]
          },
          "metadata": {},
          "execution_count": 81
        }
      ],
      "source": [
        "l1"
      ]
    },
    {
      "cell_type": "code",
      "execution_count": null,
      "id": "912120fd",
      "metadata": {
        "id": "912120fd",
        "outputId": "79c2f2da-69c0-4fb2-fc12-8fd713c0da66"
      },
      "outputs": [
        {
          "data": {
            "text/plain": [
              "[9, 4, 1, 3, 2, 0, 4, 3, 7]"
            ]
          },
          "execution_count": 103,
          "metadata": {},
          "output_type": "execute_result"
        }
      ],
      "source": [
        "l2"
      ]
    },
    {
      "cell_type": "markdown",
      "source": [
        "#### Will show the respected index values"
      ],
      "metadata": {
        "id": "KhXu-06rI2vX"
      },
      "id": "KhXu-06rI2vX"
    },
    {
      "cell_type": "code",
      "execution_count": null,
      "id": "34566c63",
      "metadata": {
        "id": "34566c63",
        "outputId": "1c16a003-4be2-42a6-90ce-3614074b123f",
        "colab": {
          "base_uri": "https://localhost:8080/"
        }
      },
      "outputs": [
        {
          "output_type": "execute_result",
          "data": {
            "text/plain": [
              "2"
            ]
          },
          "metadata": {},
          "execution_count": 82
        }
      ],
      "source": [
        "l2.index(1)  # To find the index of 1"
      ]
    },
    {
      "cell_type": "code",
      "execution_count": null,
      "id": "98a2556f",
      "metadata": {
        "id": "98a2556f",
        "outputId": "c2ec45c5-5382-4d7e-a69f-f7c74b240d77",
        "colab": {
          "base_uri": "https://localhost:8080/"
        }
      },
      "outputs": [
        {
          "output_type": "execute_result",
          "data": {
            "text/plain": [
              "3"
            ]
          },
          "metadata": {},
          "execution_count": 83
        }
      ],
      "source": [
        "l2.index(3) # To find the index of 3 it shows from rightside 1st value only"
      ]
    },
    {
      "cell_type": "code",
      "execution_count": null,
      "id": "4b6a7ed6",
      "metadata": {
        "id": "4b6a7ed6",
        "outputId": "5b20327f-8488-426c-e0b8-9ae8c3757630",
        "colab": {
          "base_uri": "https://localhost:8080/",
          "height": 171
        }
      },
      "outputs": [
        {
          "output_type": "error",
          "ename": "AttributeError",
          "evalue": "ignored",
          "traceback": [
            "\u001b[0;31m---------------------------------------------------------------------------\u001b[0m",
            "\u001b[0;31mAttributeError\u001b[0m                            Traceback (most recent call last)",
            "\u001b[0;32m<ipython-input-84-8b25d90f7080>\u001b[0m in \u001b[0;36m<cell line: 1>\u001b[0;34m()\u001b[0m\n\u001b[0;32m----> 1\u001b[0;31m \u001b[0ml2\u001b[0m\u001b[0;34m.\u001b[0m\u001b[0mrindex\u001b[0m\u001b[0;34m(\u001b[0m\u001b[0;36m3\u001b[0m\u001b[0;34m)\u001b[0m\u001b[0;34m\u001b[0m\u001b[0;34m\u001b[0m\u001b[0m\n\u001b[0m",
            "\u001b[0;31mAttributeError\u001b[0m: 'list' object has no attribute 'rindex'"
          ]
        }
      ],
      "source": [
        "l2.rindex(3)"
      ]
    },
    {
      "cell_type": "markdown",
      "source": [
        "#### Value can be reversed"
      ],
      "metadata": {
        "id": "J6o6clBYI_nk"
      },
      "id": "J6o6clBYI_nk"
    },
    {
      "cell_type": "code",
      "execution_count": null,
      "id": "278165e7",
      "metadata": {
        "id": "278165e7",
        "outputId": "5a3a432e-4065-444d-bfe8-f51d2be98f86",
        "colab": {
          "base_uri": "https://localhost:8080/"
        }
      },
      "outputs": [
        {
          "output_type": "execute_result",
          "data": {
            "text/plain": [
              "[9, 4, 1, 3, 2, 0, 4, 3, 7]"
            ]
          },
          "metadata": {},
          "execution_count": 85
        }
      ],
      "source": [
        "l2"
      ]
    },
    {
      "cell_type": "code",
      "execution_count": null,
      "id": "b561507e",
      "metadata": {
        "id": "b561507e"
      },
      "outputs": [],
      "source": [
        "l2.reverse()"
      ]
    },
    {
      "cell_type": "code",
      "execution_count": null,
      "id": "854bca89",
      "metadata": {
        "id": "854bca89",
        "outputId": "a4c284c4-ef7d-45a7-e354-63c5567f9aed",
        "colab": {
          "base_uri": "https://localhost:8080/"
        }
      },
      "outputs": [
        {
          "output_type": "execute_result",
          "data": {
            "text/plain": [
              "[7, 3, 4, 0, 2, 3, 1, 4, 9]"
            ]
          },
          "metadata": {},
          "execution_count": 89
        }
      ],
      "source": [
        "l2"
      ]
    },
    {
      "cell_type": "markdown",
      "source": [
        "####Value can be sorted"
      ],
      "metadata": {
        "id": "2p-c7B_yZa2_"
      },
      "id": "2p-c7B_yZa2_"
    },
    {
      "cell_type": "code",
      "execution_count": null,
      "id": "a3e4db54",
      "metadata": {
        "id": "a3e4db54"
      },
      "outputs": [],
      "source": [
        "l2.sort()"
      ]
    },
    {
      "cell_type": "code",
      "execution_count": null,
      "id": "fcf47552",
      "metadata": {
        "id": "fcf47552",
        "outputId": "3549a4d1-11c3-4050-8faf-7fc678f0761b",
        "colab": {
          "base_uri": "https://localhost:8080/"
        }
      },
      "outputs": [
        {
          "output_type": "execute_result",
          "data": {
            "text/plain": [
              "[0, 1, 2, 3, 3, 4, 4, 7, 9]"
            ]
          },
          "metadata": {},
          "execution_count": 91
        }
      ],
      "source": [
        "l2"
      ]
    },
    {
      "cell_type": "code",
      "execution_count": null,
      "id": "b291b896",
      "metadata": {
        "id": "b291b896"
      },
      "outputs": [],
      "source": [
        "l2.sort(reverse=True) # sort the list in descending order"
      ]
    },
    {
      "cell_type": "code",
      "execution_count": null,
      "id": "e576c312",
      "metadata": {
        "id": "e576c312",
        "outputId": "7678ce2f-7624-4888-a796-e1f50d60c981",
        "colab": {
          "base_uri": "https://localhost:8080/"
        }
      },
      "outputs": [
        {
          "output_type": "execute_result",
          "data": {
            "text/plain": [
              "[9, 7, 4, 4, 3, 3, 2, 1, 0]"
            ]
          },
          "metadata": {},
          "execution_count": 93
        }
      ],
      "source": [
        "l2"
      ]
    },
    {
      "cell_type": "code",
      "execution_count": null,
      "id": "9ff7eadf",
      "metadata": {
        "id": "9ff7eadf",
        "outputId": "6fcb9d4f-8450-42f6-b919-58f78772e64b",
        "colab": {
          "base_uri": "https://localhost:8080/"
        }
      },
      "outputs": [
        {
          "output_type": "execute_result",
          "data": {
            "text/plain": [
              "['Bye', 'Python', 'Bye', [2, 3], [1, 2, 3], 10, 20, 'H', 2, [1, 2]]"
            ]
          },
          "metadata": {},
          "execution_count": 94
        }
      ],
      "source": [
        "l3"
      ]
    },
    {
      "cell_type": "code",
      "execution_count": null,
      "id": "4338b337",
      "metadata": {
        "id": "4338b337",
        "outputId": "1f3bd842-3e6b-45c4-91c1-f436ba65d1c1",
        "colab": {
          "base_uri": "https://localhost:8080/",
          "height": 171
        }
      },
      "outputs": [
        {
          "output_type": "error",
          "ename": "TypeError",
          "evalue": "ignored",
          "traceback": [
            "\u001b[0;31m---------------------------------------------------------------------------\u001b[0m",
            "\u001b[0;31mTypeError\u001b[0m                                 Traceback (most recent call last)",
            "\u001b[0;32m<ipython-input-95-4ece838cd89d>\u001b[0m in \u001b[0;36m<cell line: 1>\u001b[0;34m()\u001b[0m\n\u001b[0;32m----> 1\u001b[0;31m \u001b[0ml3\u001b[0m\u001b[0;34m.\u001b[0m\u001b[0msort\u001b[0m\u001b[0;34m(\u001b[0m\u001b[0;34m)\u001b[0m\u001b[0;34m\u001b[0m\u001b[0;34m\u001b[0m\u001b[0m\n\u001b[0m",
            "\u001b[0;31mTypeError\u001b[0m: '<' not supported between instances of 'list' and 'str'"
          ]
        }
      ],
      "source": [
        "l3.sort() # Sort will not work between sring & list"
      ]
    },
    {
      "cell_type": "code",
      "execution_count": null,
      "id": "56c1a1f7",
      "metadata": {
        "id": "56c1a1f7"
      },
      "outputs": [],
      "source": [
        "l4 = ['hello', 'Hi', 'bye', 'Python', 'Java']"
      ]
    },
    {
      "cell_type": "code",
      "execution_count": null,
      "id": "8352b0e8",
      "metadata": {
        "id": "8352b0e8"
      },
      "outputs": [],
      "source": [
        "l4.sort() # Sorting as per ASCI value"
      ]
    },
    {
      "cell_type": "code",
      "execution_count": null,
      "id": "4815b794",
      "metadata": {
        "id": "4815b794",
        "outputId": "ec64f18e-d971-46f0-da59-64c1dd436da9",
        "colab": {
          "base_uri": "https://localhost:8080/"
        }
      },
      "outputs": [
        {
          "output_type": "execute_result",
          "data": {
            "text/plain": [
              "['Hi', 'Java', 'Python', 'bye', 'hello']"
            ]
          },
          "metadata": {},
          "execution_count": 98
        }
      ],
      "source": [
        "l4"
      ]
    },
    {
      "cell_type": "markdown",
      "source": [
        "#### Copy"
      ],
      "metadata": {
        "id": "7JwIInRaZ5wj"
      },
      "id": "7JwIInRaZ5wj"
    },
    {
      "cell_type": "code",
      "execution_count": null,
      "id": "937331e4",
      "metadata": {
        "id": "937331e4",
        "outputId": "cd775449-1057-4adc-e6b4-5dcf9ef36719",
        "colab": {
          "base_uri": "https://localhost:8080/"
        }
      },
      "outputs": [
        {
          "output_type": "execute_result",
          "data": {
            "text/plain": [
              "[9, 7, 4, 4, 3, 3, 2, 1, 0]"
            ]
          },
          "metadata": {},
          "execution_count": 99
        }
      ],
      "source": [
        "l2"
      ]
    },
    {
      "cell_type": "code",
      "execution_count": null,
      "id": "9a11c8a8",
      "metadata": {
        "id": "9a11c8a8",
        "outputId": "d1471c2c-8291-44ec-fa2a-b638f1ea9bee",
        "colab": {
          "base_uri": "https://localhost:8080/"
        }
      },
      "outputs": [
        {
          "output_type": "execute_result",
          "data": {
            "text/plain": [
              "['Bye', 'Bye', 'Python', [2, 3], [1, 2, 3], 10, 20, 'H', 2, [1, 2]]"
            ]
          },
          "metadata": {},
          "execution_count": 100
        }
      ],
      "source": [
        "l3"
      ]
    },
    {
      "cell_type": "code",
      "execution_count": null,
      "id": "80d883d8",
      "metadata": {
        "id": "80d883d8"
      },
      "outputs": [],
      "source": [
        "l4 = l3.copy()"
      ]
    },
    {
      "cell_type": "code",
      "execution_count": null,
      "id": "2910a44f",
      "metadata": {
        "id": "2910a44f",
        "outputId": "0ef8f9d2-8b63-4f48-bd52-7287192ba986",
        "colab": {
          "base_uri": "https://localhost:8080/"
        }
      },
      "outputs": [
        {
          "output_type": "execute_result",
          "data": {
            "text/plain": [
              "['Bye', 'Bye', 'Python', [2, 3], [1, 2, 3], 10, 20, 'H', 2, [1, 2]]"
            ]
          },
          "metadata": {},
          "execution_count": 102
        }
      ],
      "source": [
        "l4"
      ]
    },
    {
      "cell_type": "code",
      "execution_count": null,
      "id": "56055144",
      "metadata": {
        "id": "56055144",
        "outputId": "f7d8f827-7c78-43b3-8976-7966fc67f336",
        "colab": {
          "base_uri": "https://localhost:8080/"
        }
      },
      "outputs": [
        {
          "output_type": "execute_result",
          "data": {
            "text/plain": [
              "['Bye', 'Bye', 'Python', [2, 3], [1, 2, 3], 10, 20, 'H', 2, [1, 2]]"
            ]
          },
          "metadata": {},
          "execution_count": 103
        }
      ],
      "source": [
        "l3"
      ]
    },
    {
      "cell_type": "code",
      "execution_count": null,
      "id": "ad7ea26b",
      "metadata": {
        "id": "ad7ea26b",
        "outputId": "74d04004-ae81-4745-aeb1-a7fd1e956834",
        "colab": {
          "base_uri": "https://localhost:8080/"
        }
      },
      "outputs": [
        {
          "output_type": "execute_result",
          "data": {
            "text/plain": [
              "140613315191360"
            ]
          },
          "metadata": {},
          "execution_count": 104
        }
      ],
      "source": [
        "id(l3)"
      ]
    },
    {
      "cell_type": "code",
      "execution_count": null,
      "id": "081db54f",
      "metadata": {
        "id": "081db54f",
        "outputId": "cd67fe91-21e9-482a-9ab8-6398efd7527e",
        "colab": {
          "base_uri": "https://localhost:8080/"
        }
      },
      "outputs": [
        {
          "output_type": "execute_result",
          "data": {
            "text/plain": [
              "140613314501888"
            ]
          },
          "metadata": {},
          "execution_count": 105
        }
      ],
      "source": [
        "id(l4)"
      ]
    },
    {
      "cell_type": "code",
      "execution_count": null,
      "id": "591b2c38",
      "metadata": {
        "id": "591b2c38"
      },
      "outputs": [],
      "source": [
        "l5 = l3"
      ]
    },
    {
      "cell_type": "code",
      "execution_count": null,
      "id": "93455e17",
      "metadata": {
        "id": "93455e17",
        "outputId": "34c2edf8-40b1-48d5-a2c9-ff1cb2eac40b",
        "colab": {
          "base_uri": "https://localhost:8080/"
        }
      },
      "outputs": [
        {
          "output_type": "execute_result",
          "data": {
            "text/plain": [
              "['Bye', 'Bye', 'Python', [2, 3], [1, 2, 3], 10, 20, 'H', 2, [1, 2]]"
            ]
          },
          "metadata": {},
          "execution_count": 107
        }
      ],
      "source": [
        "l5"
      ]
    },
    {
      "cell_type": "code",
      "execution_count": null,
      "id": "98e71ed4",
      "metadata": {
        "id": "98e71ed4",
        "outputId": "385dbf23-156f-49ba-d811-c2b6ecb16766",
        "colab": {
          "base_uri": "https://localhost:8080/"
        }
      },
      "outputs": [
        {
          "output_type": "execute_result",
          "data": {
            "text/plain": [
              "140613315191360"
            ]
          },
          "metadata": {},
          "execution_count": 108
        }
      ],
      "source": [
        "id(l5)"
      ]
    },
    {
      "cell_type": "code",
      "execution_count": null,
      "id": "3906ef92",
      "metadata": {
        "id": "3906ef92",
        "outputId": "8938ddab-a72d-42fe-a7c7-63a0c7ed01f2",
        "colab": {
          "base_uri": "https://localhost:8080/"
        }
      },
      "outputs": [
        {
          "output_type": "execute_result",
          "data": {
            "text/plain": [
              "140613315191360"
            ]
          },
          "metadata": {},
          "execution_count": 109
        }
      ],
      "source": [
        "id(l3)"
      ]
    },
    {
      "cell_type": "markdown",
      "source": [
        "#### Diff between Copy & Alias\n",
        "l4 is a copy/clone of l3\n",
        "\n",
        "l5 is an alias of l3"
      ],
      "metadata": {
        "id": "XG7y09UOaJKy"
      },
      "id": "XG7y09UOaJKy"
    },
    {
      "cell_type": "code",
      "execution_count": null,
      "id": "14a18815",
      "metadata": {
        "id": "14a18815",
        "outputId": "ec2fe274-0ad5-429f-eb4b-4744beaf88c0",
        "colab": {
          "base_uri": "https://localhost:8080/"
        }
      },
      "outputs": [
        {
          "output_type": "execute_result",
          "data": {
            "text/plain": [
              "['Bye', 'Bye', 'Python', [2, 3], [1, 2, 3], 10, 20, 'H', 2, [1, 2]]"
            ]
          },
          "metadata": {},
          "execution_count": 110
        }
      ],
      "source": [
        "l3"
      ]
    },
    {
      "cell_type": "code",
      "execution_count": null,
      "id": "5b50ac39",
      "metadata": {
        "id": "5b50ac39",
        "outputId": "2a184051-babf-4b92-ff30-de539fbfe188",
        "colab": {
          "base_uri": "https://localhost:8080/"
        }
      },
      "outputs": [
        {
          "output_type": "execute_result",
          "data": {
            "text/plain": [
              "['Bye', 'Bye', 'Python', [2, 3], [1, 2, 3], 10, 20, 'H', 2, [1, 2]]"
            ]
          },
          "metadata": {},
          "execution_count": 111
        }
      ],
      "source": [
        "l4"
      ]
    },
    {
      "cell_type": "code",
      "execution_count": null,
      "id": "1487c1a6",
      "metadata": {
        "id": "1487c1a6",
        "outputId": "c23d6393-c3ea-49c6-ebfe-3751c9cd1d40",
        "colab": {
          "base_uri": "https://localhost:8080/"
        }
      },
      "outputs": [
        {
          "output_type": "execute_result",
          "data": {
            "text/plain": [
              "['Bye', 'Bye', 'Python', [2, 3], [1, 2, 3], 10, 20, 'H', 2, [1, 2]]"
            ]
          },
          "metadata": {},
          "execution_count": 112
        }
      ],
      "source": [
        "l5"
      ]
    },
    {
      "cell_type": "code",
      "execution_count": null,
      "id": "f45e8984",
      "metadata": {
        "id": "f45e8984"
      },
      "outputs": [],
      "source": [
        "l3[1] = 'Hi'"
      ]
    },
    {
      "cell_type": "code",
      "execution_count": null,
      "id": "4dd90699",
      "metadata": {
        "id": "4dd90699",
        "outputId": "78826ca2-f884-43df-d2c1-507e32db7e96",
        "colab": {
          "base_uri": "https://localhost:8080/"
        }
      },
      "outputs": [
        {
          "output_type": "execute_result",
          "data": {
            "text/plain": [
              "['Bye', 'Hi', 'Python', [2, 3], [1, 2, 3], 10, 20, 'H', 2, [1, 2]]"
            ]
          },
          "metadata": {},
          "execution_count": 114
        }
      ],
      "source": [
        "l3"
      ]
    },
    {
      "cell_type": "code",
      "execution_count": null,
      "id": "33c094a5",
      "metadata": {
        "id": "33c094a5",
        "outputId": "41801c97-af5e-4974-fe9c-4eab03dd295a",
        "colab": {
          "base_uri": "https://localhost:8080/"
        }
      },
      "outputs": [
        {
          "output_type": "execute_result",
          "data": {
            "text/plain": [
              "['Bye', 'Hi', 'Python', [2, 3], [1, 2, 3], 10, 20, 'H', 2, [1, 2]]"
            ]
          },
          "metadata": {},
          "execution_count": 115
        }
      ],
      "source": [
        "l5"
      ]
    },
    {
      "cell_type": "code",
      "execution_count": null,
      "id": "0f4edc10",
      "metadata": {
        "id": "0f4edc10",
        "outputId": "fede1134-dc68-4211-889a-d542591ef784",
        "colab": {
          "base_uri": "https://localhost:8080/"
        }
      },
      "outputs": [
        {
          "output_type": "execute_result",
          "data": {
            "text/plain": [
              "['Bye', 'Bye', 'Python', [2, 3], [1, 2, 3], 10, 20, 'H', 2, [1, 2]]"
            ]
          },
          "metadata": {},
          "execution_count": 116
        }
      ],
      "source": [
        "l4"
      ]
    },
    {
      "cell_type": "code",
      "execution_count": null,
      "id": "27e661e8",
      "metadata": {
        "id": "27e661e8",
        "outputId": "e7896c85-f379-4917-8ae1-63bef8a1ee1d",
        "colab": {
          "base_uri": "https://localhost:8080/"
        }
      },
      "outputs": [
        {
          "output_type": "execute_result",
          "data": {
            "text/plain": [
              "['Bye', 'Hi', 'Python', [2, 3], [1, 2, 3], 10, 20, 'H', 2, [1, 2]]"
            ]
          },
          "metadata": {},
          "execution_count": 117
        }
      ],
      "source": [
        "l5"
      ]
    },
    {
      "cell_type": "code",
      "execution_count": null,
      "id": "879427e1",
      "metadata": {
        "id": "879427e1"
      },
      "outputs": [],
      "source": [
        "l5[-1] = 25"
      ]
    },
    {
      "cell_type": "code",
      "execution_count": null,
      "id": "8111cc9e",
      "metadata": {
        "id": "8111cc9e",
        "outputId": "86172c5d-b85d-44f4-dce2-4f15cc2dee00",
        "colab": {
          "base_uri": "https://localhost:8080/"
        }
      },
      "outputs": [
        {
          "output_type": "execute_result",
          "data": {
            "text/plain": [
              "['Bye', 'Hi', 'Python', [2, 3], [1, 2, 3], 10, 20, 'H', 2, 25]"
            ]
          },
          "metadata": {},
          "execution_count": 119
        }
      ],
      "source": [
        "l5"
      ]
    },
    {
      "cell_type": "code",
      "execution_count": null,
      "id": "ae323f82",
      "metadata": {
        "id": "ae323f82",
        "outputId": "b86cebf9-e0ab-4519-836c-f02ebfbc1866",
        "colab": {
          "base_uri": "https://localhost:8080/"
        }
      },
      "outputs": [
        {
          "output_type": "execute_result",
          "data": {
            "text/plain": [
              "['Bye', 'Hi', 'Python', [2, 3], [1, 2, 3], 10, 20, 'H', 2, 25]"
            ]
          },
          "metadata": {},
          "execution_count": 120
        }
      ],
      "source": [
        "l3"
      ]
    },
    {
      "cell_type": "code",
      "execution_count": null,
      "id": "ef9f7f92",
      "metadata": {
        "id": "ef9f7f92",
        "outputId": "4cc9c600-1875-4284-ed98-ee9f2f3031aa",
        "colab": {
          "base_uri": "https://localhost:8080/"
        }
      },
      "outputs": [
        {
          "output_type": "execute_result",
          "data": {
            "text/plain": [
              "['Bye', 'Bye', 'Python', [2, 3], [1, 2, 3], 10, 20, 'H', 2, [1, 2]]"
            ]
          },
          "metadata": {},
          "execution_count": 121
        }
      ],
      "source": [
        "l4"
      ]
    },
    {
      "cell_type": "code",
      "execution_count": null,
      "id": "85ad65b3",
      "metadata": {
        "id": "85ad65b3"
      },
      "outputs": [],
      "source": [
        "l4.remove('H')"
      ]
    },
    {
      "cell_type": "code",
      "execution_count": null,
      "id": "f1d53ad3",
      "metadata": {
        "id": "f1d53ad3",
        "outputId": "88b94328-6b88-48c6-db29-6dcdfb528d25",
        "colab": {
          "base_uri": "https://localhost:8080/"
        }
      },
      "outputs": [
        {
          "output_type": "execute_result",
          "data": {
            "text/plain": [
              "['Bye', 'Bye', 'Python', [2, 3], [1, 2, 3], 10, 20, 2, [1, 2]]"
            ]
          },
          "metadata": {},
          "execution_count": 123
        }
      ],
      "source": [
        "l4"
      ]
    },
    {
      "cell_type": "code",
      "execution_count": null,
      "id": "d1d6618e",
      "metadata": {
        "id": "d1d6618e",
        "outputId": "08b68c15-a18a-4a17-8b29-1bff3da59478",
        "colab": {
          "base_uri": "https://localhost:8080/"
        }
      },
      "outputs": [
        {
          "output_type": "execute_result",
          "data": {
            "text/plain": [
              "['Bye', 'Hi', 'Python', [2, 3], [1, 2, 3], 10, 20, 'H', 2, 25]"
            ]
          },
          "metadata": {},
          "execution_count": 124
        }
      ],
      "source": [
        "l3"
      ]
    },
    {
      "cell_type": "code",
      "execution_count": null,
      "id": "033a707f",
      "metadata": {
        "id": "033a707f",
        "outputId": "4ea90581-e653-4abf-b56f-ea27be3584f6",
        "colab": {
          "base_uri": "https://localhost:8080/"
        }
      },
      "outputs": [
        {
          "output_type": "execute_result",
          "data": {
            "text/plain": [
              "['Bye', 'Hi', 'Python', [2, 3], [1, 2, 3], 10, 20, 'H', 2, 25]"
            ]
          },
          "metadata": {},
          "execution_count": 125
        }
      ],
      "source": [
        "l5"
      ]
    },
    {
      "cell_type": "code",
      "execution_count": null,
      "id": "677a796d",
      "metadata": {
        "id": "677a796d"
      },
      "outputs": [],
      "source": [
        "l4[3][-1] = 200"
      ]
    },
    {
      "cell_type": "code",
      "execution_count": null,
      "id": "626debbb",
      "metadata": {
        "id": "626debbb",
        "outputId": "788c0b4a-24c3-4b74-f878-74f1a4c2704c",
        "colab": {
          "base_uri": "https://localhost:8080/"
        }
      },
      "outputs": [
        {
          "output_type": "execute_result",
          "data": {
            "text/plain": [
              "['Bye', 'Bye', 'Python', [2, 200], [1, 2, 3], 10, 20, 2, [1, 2]]"
            ]
          },
          "metadata": {},
          "execution_count": 127
        }
      ],
      "source": [
        "l4"
      ]
    },
    {
      "cell_type": "code",
      "execution_count": null,
      "id": "b0223dc9",
      "metadata": {
        "id": "b0223dc9",
        "outputId": "cadc8e99-d315-4bf5-e939-fc2d548718a8",
        "colab": {
          "base_uri": "https://localhost:8080/"
        }
      },
      "outputs": [
        {
          "output_type": "execute_result",
          "data": {
            "text/plain": [
              "['Bye', 'Hi', 'Python', [2, 200], [1, 2, 3], 10, 20, 'H', 2, 25]"
            ]
          },
          "metadata": {},
          "execution_count": 128
        }
      ],
      "source": [
        "l3"
      ]
    },
    {
      "cell_type": "code",
      "execution_count": null,
      "id": "1946adf0",
      "metadata": {
        "id": "1946adf0",
        "outputId": "c1d95af0-d89e-49ff-977c-2d092383a45e",
        "colab": {
          "base_uri": "https://localhost:8080/"
        }
      },
      "outputs": [
        {
          "output_type": "execute_result",
          "data": {
            "text/plain": [
              "['Bye', 'Hi', 'Python', [2, 200], [1, 2, 3], 10, 20, 'H', 2, 25]"
            ]
          },
          "metadata": {},
          "execution_count": 129
        }
      ],
      "source": [
        "l5"
      ]
    },
    {
      "cell_type": "code",
      "execution_count": null,
      "id": "c1d5e09f",
      "metadata": {
        "id": "c1d5e09f"
      },
      "outputs": [],
      "source": [
        "list_1 = [1, 2, [10, 20, 30], 100]"
      ]
    },
    {
      "cell_type": "code",
      "execution_count": null,
      "id": "35d5d5ae",
      "metadata": {
        "id": "35d5d5ae"
      },
      "outputs": [],
      "source": [
        "list_2 = list_1 # alias"
      ]
    },
    {
      "cell_type": "code",
      "execution_count": null,
      "id": "9f882651",
      "metadata": {
        "id": "9f882651"
      },
      "outputs": [],
      "source": [
        "list_3 = list_1.copy() # clone"
      ]
    },
    {
      "cell_type": "code",
      "execution_count": null,
      "id": "a393506b",
      "metadata": {
        "id": "a393506b",
        "outputId": "98fbd27f-20f0-42b2-d986-7c69d9dfb293",
        "colab": {
          "base_uri": "https://localhost:8080/"
        }
      },
      "outputs": [
        {
          "output_type": "execute_result",
          "data": {
            "text/plain": [
              "140613271916544"
            ]
          },
          "metadata": {},
          "execution_count": 133
        }
      ],
      "source": [
        "id(list_1)"
      ]
    },
    {
      "cell_type": "code",
      "execution_count": null,
      "id": "77ecab76",
      "metadata": {
        "id": "77ecab76",
        "outputId": "8be35ff3-9c31-4b7d-dfba-827b4a1cc962",
        "colab": {
          "base_uri": "https://localhost:8080/"
        }
      },
      "outputs": [
        {
          "output_type": "execute_result",
          "data": {
            "text/plain": [
              "140613271916544"
            ]
          },
          "metadata": {},
          "execution_count": 134
        }
      ],
      "source": [
        "id(list_2)"
      ]
    },
    {
      "cell_type": "code",
      "execution_count": null,
      "id": "e45cc588",
      "metadata": {
        "id": "e45cc588",
        "outputId": "ff8288f7-60f9-49b7-b153-27e1b9a5cc33",
        "colab": {
          "base_uri": "https://localhost:8080/"
        }
      },
      "outputs": [
        {
          "output_type": "execute_result",
          "data": {
            "text/plain": [
              "140613300727872"
            ]
          },
          "metadata": {},
          "execution_count": 135
        }
      ],
      "source": [
        "id(list_3)"
      ]
    },
    {
      "cell_type": "code",
      "execution_count": null,
      "id": "0ac7f822",
      "metadata": {
        "id": "0ac7f822",
        "outputId": "6f12efc9-7557-416f-a59a-20f9e1a5040f",
        "colab": {
          "base_uri": "https://localhost:8080/"
        }
      },
      "outputs": [
        {
          "output_type": "execute_result",
          "data": {
            "text/plain": [
              "[1, 2, [10, 20, 30], 100]"
            ]
          },
          "metadata": {},
          "execution_count": 136
        }
      ],
      "source": [
        "list_1"
      ]
    },
    {
      "cell_type": "code",
      "execution_count": null,
      "id": "82f836b5",
      "metadata": {
        "id": "82f836b5",
        "outputId": "eea6f042-bbfb-4b94-951c-4f334268b528",
        "colab": {
          "base_uri": "https://localhost:8080/"
        }
      },
      "outputs": [
        {
          "output_type": "execute_result",
          "data": {
            "text/plain": [
              "[10, 20, 30]"
            ]
          },
          "metadata": {},
          "execution_count": 137
        }
      ],
      "source": [
        "list_1[2]"
      ]
    },
    {
      "cell_type": "code",
      "execution_count": null,
      "id": "d6b1833d",
      "metadata": {
        "id": "d6b1833d",
        "outputId": "c4763d1e-1b69-4956-b986-999b8a08a39c",
        "colab": {
          "base_uri": "https://localhost:8080/"
        }
      },
      "outputs": [
        {
          "output_type": "execute_result",
          "data": {
            "text/plain": [
              "140613272290112"
            ]
          },
          "metadata": {},
          "execution_count": 141
        }
      ],
      "source": [
        "id(list_1[2])  # Even though list_1 & list_3 id's are diffrent inner id seams same"
      ]
    },
    {
      "cell_type": "code",
      "execution_count": null,
      "id": "43f362d1",
      "metadata": {
        "id": "43f362d1",
        "outputId": "b2faf4fc-0cb6-4528-f428-e0f5b5e7bc14",
        "colab": {
          "base_uri": "https://localhost:8080/"
        }
      },
      "outputs": [
        {
          "output_type": "execute_result",
          "data": {
            "text/plain": [
              "140613272290112"
            ]
          },
          "metadata": {},
          "execution_count": 142
        }
      ],
      "source": [
        "id(list_2[2]) # Even though list_1 & list_3 id's are diffrent inner id seams same"
      ]
    },
    {
      "cell_type": "code",
      "execution_count": null,
      "id": "e35815d5",
      "metadata": {
        "id": "e35815d5",
        "outputId": "e2372053-5fc9-4174-8249-664236ccf7ec",
        "colab": {
          "base_uri": "https://localhost:8080/"
        }
      },
      "outputs": [
        {
          "output_type": "execute_result",
          "data": {
            "text/plain": [
              "140613272290112"
            ]
          },
          "metadata": {},
          "execution_count": 143
        }
      ],
      "source": [
        "id(list_3[2]) # Even though list_1 & list_3 id's are diffrent inner id seams same"
      ]
    },
    {
      "cell_type": "markdown",
      "source": [
        "####Shallow copy"
      ],
      "metadata": {
        "id": "VQFxNukxsmH_"
      },
      "id": "VQFxNukxsmH_"
    },
    {
      "cell_type": "code",
      "execution_count": null,
      "id": "05f101c8",
      "metadata": {
        "id": "05f101c8",
        "outputId": "d70e49e3-0b22-4639-f0d7-f456b9ad587f",
        "colab": {
          "base_uri": "https://localhost:8080/"
        }
      },
      "outputs": [
        {
          "output_type": "stream",
          "name": "stdout",
          "text": [
            "[1, 2, [10, 20, 30], 100]\n"
          ]
        },
        {
          "output_type": "execute_result",
          "data": {
            "text/plain": [
              "140613300727872"
            ]
          },
          "metadata": {},
          "execution_count": 144
        }
      ],
      "source": [
        "print (list_3)\n",
        "id(list_3)  # Even though list_1 & list_3 id's are diffrent if we change inner values it get changes in copy file also"
      ]
    },
    {
      "cell_type": "code",
      "execution_count": null,
      "id": "61ed1a3c",
      "metadata": {
        "id": "61ed1a3c",
        "outputId": "6248059e-3753-4371-fca8-e629005e9261",
        "colab": {
          "base_uri": "https://localhost:8080/"
        }
      },
      "outputs": [
        {
          "output_type": "stream",
          "name": "stdout",
          "text": [
            "[1, 2, [10, 20, 30], 100]\n"
          ]
        },
        {
          "output_type": "execute_result",
          "data": {
            "text/plain": [
              "140613271916544"
            ]
          },
          "metadata": {},
          "execution_count": 145
        }
      ],
      "source": [
        "print (list_1)\n",
        "id(list_1)"
      ]
    },
    {
      "cell_type": "code",
      "execution_count": null,
      "id": "7fb5a8a7",
      "metadata": {
        "id": "7fb5a8a7"
      },
      "outputs": [],
      "source": [
        "list_1[2][0] = -2"
      ]
    },
    {
      "cell_type": "code",
      "execution_count": null,
      "id": "f1675f4c",
      "metadata": {
        "id": "f1675f4c",
        "outputId": "0f30dbe5-3cf3-4d2f-b5d1-3b01603757d4"
      },
      "outputs": [
        {
          "data": {
            "text/plain": [
              "[1, 2, [-2, 20, 30], 100]"
            ]
          },
          "execution_count": 168,
          "metadata": {},
          "output_type": "execute_result"
        }
      ],
      "source": [
        "list_1"
      ]
    },
    {
      "cell_type": "code",
      "execution_count": null,
      "id": "9ddafee6",
      "metadata": {
        "id": "9ddafee6",
        "outputId": "bd689e27-67b0-4dad-fd30-b523b7661512"
      },
      "outputs": [
        {
          "data": {
            "text/plain": [
              "[1, 2, [-2, 20, 30], 100]"
            ]
          },
          "execution_count": 169,
          "metadata": {},
          "output_type": "execute_result"
        }
      ],
      "source": [
        "list_2"
      ]
    },
    {
      "cell_type": "code",
      "execution_count": null,
      "id": "daa1ebec",
      "metadata": {
        "id": "daa1ebec",
        "outputId": "52d871d3-25e7-443c-941a-47b127af8b0f"
      },
      "outputs": [
        {
          "data": {
            "text/plain": [
              "[1, 2, [-2, 20, 30], 100]"
            ]
          },
          "execution_count": 170,
          "metadata": {},
          "output_type": "execute_result"
        }
      ],
      "source": [
        "list_3"
      ]
    },
    {
      "cell_type": "markdown",
      "source": [
        "#### Deep copy"
      ],
      "metadata": {
        "id": "Ko9C1wSMtaCg"
      },
      "id": "Ko9C1wSMtaCg"
    },
    {
      "cell_type": "code",
      "execution_count": null,
      "id": "126823e5",
      "metadata": {
        "id": "126823e5"
      },
      "outputs": [],
      "source": [
        "# copy module"
      ]
    },
    {
      "cell_type": "code",
      "execution_count": null,
      "id": "9dac70a9",
      "metadata": {
        "id": "9dac70a9"
      },
      "outputs": [],
      "source": [
        "import copy"
      ]
    },
    {
      "cell_type": "code",
      "execution_count": null,
      "id": "c2d584b5",
      "metadata": {
        "id": "c2d584b5"
      },
      "outputs": [],
      "source": [
        "# deepcopy()"
      ]
    },
    {
      "cell_type": "code",
      "execution_count": null,
      "id": "5db53886",
      "metadata": {
        "id": "5db53886"
      },
      "outputs": [],
      "source": [
        "list_4 = copy.deepcopy(list_1) # deep copy"
      ]
    },
    {
      "cell_type": "code",
      "execution_count": null,
      "id": "7bad5c5d",
      "metadata": {
        "id": "7bad5c5d",
        "outputId": "0351c184-15d8-449f-b1f7-c5724f0b35ba"
      },
      "outputs": [
        {
          "data": {
            "text/plain": [
              "[1, 2, [-2, 20, 30], 100]"
            ]
          },
          "execution_count": 176,
          "metadata": {},
          "output_type": "execute_result"
        }
      ],
      "source": [
        "list_4"
      ]
    },
    {
      "cell_type": "code",
      "execution_count": null,
      "id": "daaffd25",
      "metadata": {
        "id": "daaffd25",
        "outputId": "b8535c09-413c-4915-9893-68febd0e1c97"
      },
      "outputs": [
        {
          "data": {
            "text/plain": [
              "[1, 2, [-2, 20, 30], 100]"
            ]
          },
          "execution_count": 177,
          "metadata": {},
          "output_type": "execute_result"
        }
      ],
      "source": [
        "list_1"
      ]
    },
    {
      "cell_type": "code",
      "execution_count": null,
      "id": "fa8308bb",
      "metadata": {
        "id": "fa8308bb",
        "outputId": "27f8510a-c122-433b-e987-82c9dff96388"
      },
      "outputs": [
        {
          "data": {
            "text/plain": [
              "2435201767296"
            ]
          },
          "execution_count": 178,
          "metadata": {},
          "output_type": "execute_result"
        }
      ],
      "source": [
        "id(list_1[2])"
      ]
    },
    {
      "cell_type": "code",
      "execution_count": null,
      "id": "5d496812",
      "metadata": {
        "id": "5d496812",
        "outputId": "43ab6ce7-191c-4f06-c115-5bf065a5e241"
      },
      "outputs": [
        {
          "data": {
            "text/plain": [
              "2435192247744"
            ]
          },
          "execution_count": 179,
          "metadata": {},
          "output_type": "execute_result"
        }
      ],
      "source": [
        "id(list_4[2])"
      ]
    },
    {
      "cell_type": "code",
      "execution_count": null,
      "id": "7904d799",
      "metadata": {
        "id": "7904d799",
        "outputId": "f4f47353-afef-46d1-f6df-fc299017bc22"
      },
      "outputs": [
        {
          "data": {
            "text/plain": [
              "2435201767296"
            ]
          },
          "execution_count": 180,
          "metadata": {},
          "output_type": "execute_result"
        }
      ],
      "source": [
        "id(list_2[2])"
      ]
    },
    {
      "cell_type": "code",
      "execution_count": null,
      "id": "1da6efce",
      "metadata": {
        "id": "1da6efce",
        "outputId": "1a6603f7-0070-4f0f-9f21-c4bcfe021b9c"
      },
      "outputs": [
        {
          "data": {
            "text/plain": [
              "2435201767296"
            ]
          },
          "execution_count": 181,
          "metadata": {},
          "output_type": "execute_result"
        }
      ],
      "source": [
        "id(list_3[2])"
      ]
    },
    {
      "cell_type": "code",
      "execution_count": null,
      "id": "b0a25bc1",
      "metadata": {
        "id": "b0a25bc1"
      },
      "outputs": [],
      "source": [
        "list_1[2][0] = 1000"
      ]
    },
    {
      "cell_type": "code",
      "execution_count": null,
      "id": "4c76c136",
      "metadata": {
        "id": "4c76c136",
        "outputId": "46f0300a-87ed-44d2-9ccb-772cef72f243"
      },
      "outputs": [
        {
          "data": {
            "text/plain": [
              "[1, 2, [1000, 20, 30], 100]"
            ]
          },
          "execution_count": 183,
          "metadata": {},
          "output_type": "execute_result"
        }
      ],
      "source": [
        "list_1"
      ]
    },
    {
      "cell_type": "code",
      "execution_count": null,
      "id": "c4ec4d48",
      "metadata": {
        "id": "c4ec4d48",
        "outputId": "1b5c50d3-82b5-439c-ab8f-2a7cfb77a776"
      },
      "outputs": [
        {
          "data": {
            "text/plain": [
              "[1, 2, [1000, 20, 30], 100]"
            ]
          },
          "execution_count": 184,
          "metadata": {},
          "output_type": "execute_result"
        }
      ],
      "source": [
        "list_2"
      ]
    },
    {
      "cell_type": "code",
      "execution_count": null,
      "id": "c6f39d38",
      "metadata": {
        "id": "c6f39d38",
        "outputId": "769a4835-e15b-47e6-b261-d231d7a14b23"
      },
      "outputs": [
        {
          "data": {
            "text/plain": [
              "[1, 2, [1000, 20, 30], 100]"
            ]
          },
          "execution_count": 185,
          "metadata": {},
          "output_type": "execute_result"
        }
      ],
      "source": [
        "list_3"
      ]
    },
    {
      "cell_type": "code",
      "execution_count": null,
      "id": "28166cb4",
      "metadata": {
        "id": "28166cb4",
        "outputId": "4497c483-9e9a-49c3-c157-6c33f9a55113"
      },
      "outputs": [
        {
          "data": {
            "text/plain": [
              "[1, 2, [-2, 20, 30], 100]"
            ]
          },
          "execution_count": 186,
          "metadata": {},
          "output_type": "execute_result"
        }
      ],
      "source": [
        "list_4"
      ]
    },
    {
      "cell_type": "code",
      "execution_count": null,
      "id": "955b7a21",
      "metadata": {
        "id": "955b7a21",
        "outputId": "65dbca73-3a89-4b2f-fb6a-2f93e5dc38e0"
      },
      "outputs": [
        {
          "name": "stdout",
          "output_type": "stream",
          "text": [
            "Help on function deepcopy in module copy:\n",
            "\n",
            "deepcopy(x, memo=None, _nil=[])\n",
            "    Deep copy operation on arbitrary Python objects.\n",
            "    \n",
            "    See the module's __doc__ string for more info.\n",
            "\n"
          ]
        }
      ],
      "source": [
        "help(copy.deepcopy)"
      ]
    },
    {
      "cell_type": "code",
      "execution_count": null,
      "id": "4ae9799d",
      "metadata": {
        "id": "4ae9799d",
        "outputId": "0e0d13d5-b4fd-4f08-861e-284d859097f7"
      },
      "outputs": [
        {
          "name": "stdout",
          "output_type": "stream",
          "text": [
            "Help on function copy in module copy:\n",
            "\n",
            "copy(x)\n",
            "    Shallow copy operation on arbitrary Python objects.\n",
            "    \n",
            "    See the module's __doc__ string for more info.\n",
            "\n"
          ]
        }
      ],
      "source": [
        "help(copy.copy)"
      ]
    },
    {
      "cell_type": "markdown",
      "source": [
        "#### Concatination - '+'"
      ],
      "metadata": {
        "id": "o_PM0GqVtu4G"
      },
      "id": "o_PM0GqVtu4G"
    },
    {
      "cell_type": "code",
      "execution_count": null,
      "id": "e0e4ad33",
      "metadata": {
        "id": "e0e4ad33",
        "outputId": "caf52edf-fe73-4f0c-d3e2-242629604629",
        "colab": {
          "base_uri": "https://localhost:8080/"
        }
      },
      "outputs": [
        {
          "output_type": "execute_result",
          "data": {
            "text/plain": [
              "[]"
            ]
          },
          "metadata": {},
          "execution_count": 146
        }
      ],
      "source": [
        "l1"
      ]
    },
    {
      "cell_type": "code",
      "execution_count": null,
      "id": "41d37502",
      "metadata": {
        "id": "41d37502"
      },
      "outputs": [],
      "source": [
        "l1 = [1,2,3]"
      ]
    },
    {
      "cell_type": "code",
      "execution_count": null,
      "id": "441df4df",
      "metadata": {
        "id": "441df4df"
      },
      "outputs": [],
      "source": [
        "l2 = [10, 20]"
      ]
    },
    {
      "cell_type": "code",
      "execution_count": null,
      "id": "9aef07d6",
      "metadata": {
        "id": "9aef07d6",
        "outputId": "82d6081b-ac1d-4d31-dfc8-4eb0b90464b9",
        "colab": {
          "base_uri": "https://localhost:8080/"
        }
      },
      "outputs": [
        {
          "output_type": "execute_result",
          "data": {
            "text/plain": [
              "[1, 2, 3]"
            ]
          },
          "metadata": {},
          "execution_count": 149
        }
      ],
      "source": [
        "l1"
      ]
    },
    {
      "cell_type": "code",
      "execution_count": null,
      "id": "43a1edeb",
      "metadata": {
        "id": "43a1edeb",
        "outputId": "838c6c47-677e-40f6-84d7-3b8e62054a49",
        "colab": {
          "base_uri": "https://localhost:8080/"
        }
      },
      "outputs": [
        {
          "output_type": "execute_result",
          "data": {
            "text/plain": [
              "[10, 20]"
            ]
          },
          "metadata": {},
          "execution_count": 150
        }
      ],
      "source": [
        "l2"
      ]
    },
    {
      "cell_type": "code",
      "execution_count": null,
      "id": "a224356a",
      "metadata": {
        "id": "a224356a",
        "outputId": "bbb3f09b-a107-4cf7-d237-fb41cd255af7",
        "colab": {
          "base_uri": "https://localhost:8080/"
        }
      },
      "outputs": [
        {
          "output_type": "execute_result",
          "data": {
            "text/plain": [
              "[1, 2, 3, 10, 20]"
            ]
          },
          "metadata": {},
          "execution_count": 151
        }
      ],
      "source": [
        "l1 + l2"
      ]
    },
    {
      "cell_type": "code",
      "execution_count": null,
      "id": "2d777004",
      "metadata": {
        "id": "2d777004",
        "outputId": "34be9dfb-674d-4a2c-cc5d-b647e57180cb",
        "colab": {
          "base_uri": "https://localhost:8080/"
        }
      },
      "outputs": [
        {
          "output_type": "execute_result",
          "data": {
            "text/plain": [
              "[10, 20, 1, 2, 3]"
            ]
          },
          "metadata": {},
          "execution_count": 152
        }
      ],
      "source": [
        "l2 + l1"
      ]
    },
    {
      "cell_type": "code",
      "execution_count": null,
      "id": "0f758be1",
      "metadata": {
        "id": "0f758be1",
        "outputId": "47c940da-76c2-40a7-a8dd-4b3bd67f2e00",
        "colab": {
          "base_uri": "https://localhost:8080/"
        }
      },
      "outputs": [
        {
          "output_type": "execute_result",
          "data": {
            "text/plain": [
              "[1, 2, 3]"
            ]
          },
          "metadata": {},
          "execution_count": 153
        }
      ],
      "source": [
        "l1"
      ]
    },
    {
      "cell_type": "code",
      "execution_count": null,
      "id": "22074c8e",
      "metadata": {
        "id": "22074c8e",
        "outputId": "9b823cb8-fe3c-4936-8116-f9331501099a",
        "colab": {
          "base_uri": "https://localhost:8080/"
        }
      },
      "outputs": [
        {
          "output_type": "execute_result",
          "data": {
            "text/plain": [
              "[1, 2, 3, 1, 2, 3, 1, 2, 3]"
            ]
          },
          "metadata": {},
          "execution_count": 154
        }
      ],
      "source": [
        "l1 * 3 # 3 times l1"
      ]
    },
    {
      "cell_type": "code",
      "execution_count": null,
      "id": "8919bf99",
      "metadata": {
        "id": "8919bf99"
      },
      "outputs": [],
      "source": [
        "l1 = [1, 3, 2, 9, 4]  # make out put as [1, 9, 4, 81, 16]"
      ]
    },
    {
      "cell_type": "code",
      "execution_count": null,
      "id": "80476b06",
      "metadata": {
        "id": "80476b06",
        "outputId": "cebac14e-999a-4de9-c3f6-1440d5a8ce3d",
        "colab": {
          "base_uri": "https://localhost:8080/"
        }
      },
      "outputs": [
        {
          "output_type": "execute_result",
          "data": {
            "text/plain": [
              "[1, 3, 2, 9, 4]"
            ]
          },
          "metadata": {},
          "execution_count": 156
        }
      ],
      "source": [
        "l1"
      ]
    },
    {
      "cell_type": "code",
      "execution_count": null,
      "id": "9ef49b2f",
      "metadata": {
        "id": "9ef49b2f",
        "outputId": "0de56b63-f514-4cb1-d597-5e1cb00b96d0"
      },
      "outputs": [
        {
          "name": "stdout",
          "output_type": "stream",
          "text": [
            "1\n",
            "3\n",
            "2\n",
            "9\n",
            "4\n"
          ]
        }
      ],
      "source": [
        "for i in l1:\n",
        "    print(i)"
      ]
    },
    {
      "cell_type": "code",
      "execution_count": null,
      "id": "4aaa0e31",
      "metadata": {
        "id": "4aaa0e31",
        "outputId": "7cf388cc-21d4-49fd-d6d5-956f733957e7"
      },
      "outputs": [
        {
          "name": "stdout",
          "output_type": "stream",
          "text": [
            "1\n",
            "9\n",
            "4\n",
            "81\n",
            "16\n"
          ]
        }
      ],
      "source": [
        "for i in l1:\n",
        "    print(i**2)"
      ]
    },
    {
      "cell_type": "code",
      "execution_count": null,
      "id": "7e42ec59",
      "metadata": {
        "id": "7e42ec59",
        "outputId": "a434e832-9341-44b7-a35b-b09a552f7bdd"
      },
      "outputs": [
        {
          "name": "stdout",
          "output_type": "stream",
          "text": [
            "1 9 4 81 16 "
          ]
        }
      ],
      "source": [
        "for i in l1:\n",
        "    print(i**2, end=' ')"
      ]
    },
    {
      "cell_type": "code",
      "execution_count": null,
      "id": "55ca97c0",
      "metadata": {
        "id": "55ca97c0",
        "outputId": "c1a51195-0ce8-4775-ec66-9ed901079d11"
      },
      "outputs": [
        {
          "ename": "NameError",
          "evalue": "name 'out' is not defined",
          "output_type": "error",
          "traceback": [
            "\u001b[1;31m---------------------------------------------------------------------------\u001b[0m",
            "\u001b[1;31mNameError\u001b[0m                                 Traceback (most recent call last)",
            "\u001b[1;32m~\\AppData\\Local\\Temp/ipykernel_2384/1289267590.py\u001b[0m in \u001b[0;36m<module>\u001b[1;34m\u001b[0m\n\u001b[0;32m      1\u001b[0m \u001b[1;32mfor\u001b[0m \u001b[0mi\u001b[0m \u001b[1;32min\u001b[0m \u001b[0ml1\u001b[0m\u001b[1;33m:\u001b[0m\u001b[1;33m\u001b[0m\u001b[1;33m\u001b[0m\u001b[0m\n\u001b[0;32m      2\u001b[0m     \u001b[0msquare\u001b[0m \u001b[1;33m=\u001b[0m \u001b[0mi\u001b[0m \u001b[1;33m**\u001b[0m \u001b[1;36m2\u001b[0m\u001b[1;33m\u001b[0m\u001b[1;33m\u001b[0m\u001b[0m\n\u001b[1;32m----> 3\u001b[1;33m     \u001b[0mout\u001b[0m\u001b[1;33m.\u001b[0m\u001b[0mappend\u001b[0m\u001b[1;33m(\u001b[0m\u001b[0msquare\u001b[0m\u001b[1;33m)\u001b[0m\u001b[1;33m\u001b[0m\u001b[1;33m\u001b[0m\u001b[0m\n\u001b[0m",
            "\u001b[1;31mNameError\u001b[0m: name 'out' is not defined"
          ]
        }
      ],
      "source": [
        "for i in l1:\n",
        "    square = i ** 2\n",
        "out = []    out.append(square)"
      ]
    },
    {
      "cell_type": "code",
      "execution_count": null,
      "id": "6cd7b5fc",
      "metadata": {
        "id": "6cd7b5fc",
        "outputId": "443bcfa6-eb07-4309-8801-89d156db6b81"
      },
      "outputs": [
        {
          "data": {
            "text/plain": [
              "[1, 3, 2, 9, 4]"
            ]
          },
          "execution_count": 206,
          "metadata": {},
          "output_type": "execute_result"
        }
      ],
      "source": [
        "l1"
      ]
    },
    {
      "cell_type": "code",
      "execution_count": null,
      "id": "083a2b14",
      "metadata": {
        "id": "083a2b14",
        "outputId": "2375f062-f65b-4ec2-f4cf-936b1342c4f1"
      },
      "outputs": [
        {
          "name": "stdout",
          "output_type": "stream",
          "text": [
            "[1, 9, 4, 81, 16]\n"
          ]
        }
      ],
      "source": [
        "out = []\n",
        "\n",
        "for i in l1:\n",
        "    square = i ** 2\n",
        "    out.append(square)\n",
        "\n",
        "print(out)"
      ]
    },
    {
      "cell_type": "code",
      "execution_count": null,
      "id": "53d90fb9",
      "metadata": {
        "id": "53d90fb9"
      },
      "outputs": [],
      "source": []
    },
    {
      "cell_type": "markdown",
      "source": [
        "#### Find the maximum value without using any function"
      ],
      "metadata": {
        "id": "D7teTdfBuSie"
      },
      "id": "D7teTdfBuSie"
    },
    {
      "cell_type": "code",
      "execution_count": null,
      "id": "5d2931dd",
      "metadata": {
        "id": "5d2931dd",
        "outputId": "87bb9c5e-2111-45a5-d5d8-5d4c1fd8e516",
        "colab": {
          "base_uri": "https://localhost:8080/"
        }
      },
      "outputs": [
        {
          "output_type": "execute_result",
          "data": {
            "text/plain": [
              "[1, 3, 2, 9, 4]"
            ]
          },
          "metadata": {},
          "execution_count": 158
        }
      ],
      "source": [
        "l1"
      ]
    },
    {
      "cell_type": "code",
      "execution_count": null,
      "id": "e0a64a1d",
      "metadata": {
        "id": "e0a64a1d",
        "outputId": "338d6165-cda0-43fc-c675-09a796181b08",
        "colab": {
          "base_uri": "https://localhost:8080/"
        }
      },
      "outputs": [
        {
          "output_type": "execute_result",
          "data": {
            "text/plain": [
              "9"
            ]
          },
          "metadata": {},
          "execution_count": 159
        }
      ],
      "source": [
        "max(l1)"
      ]
    },
    {
      "cell_type": "code",
      "execution_count": null,
      "id": "942e3144",
      "metadata": {
        "id": "942e3144",
        "outputId": "b393e616-d09b-4443-91ed-103a37f1f5b4",
        "colab": {
          "base_uri": "https://localhost:8080/"
        }
      },
      "outputs": [
        {
          "output_type": "stream",
          "name": "stdout",
          "text": [
            "9\n"
          ]
        }
      ],
      "source": [
        "max_ele = l1[0] #find the maximum using functions\n",
        "for i in l1:\n",
        "    if i>max_ele:\n",
        "        max_ele=i\n",
        "print(max_ele)"
      ]
    },
    {
      "cell_type": "code",
      "execution_count": null,
      "id": "9875db88",
      "metadata": {
        "id": "9875db88",
        "outputId": "ced8e7e4-d05c-49f3-aaac-c78d27b1641c"
      },
      "outputs": [
        {
          "name": "stdout",
          "output_type": "stream",
          "text": [
            "9\n"
          ]
        }
      ],
      "source": [
        "max_ele = 0\n",
        "for i in l1:\n",
        "    if i>max_ele:\n",
        "        max_ele=i\n",
        "print(max_ele)"
      ]
    },
    {
      "cell_type": "code",
      "execution_count": null,
      "id": "293711e6",
      "metadata": {
        "id": "293711e6",
        "outputId": "7ea28edb-42b9-4793-92fa-48333c12d1f2"
      },
      "outputs": [
        {
          "name": "stdout",
          "output_type": "stream",
          "text": [
            "0\n"
          ]
        }
      ],
      "source": [
        "l2 = [-3, -9, -2, -5]\n",
        "\n",
        "max_ele = 0\n",
        "for i in l2:\n",
        "    if i>max_ele:\n",
        "        max_ele=i\n",
        "print(max_ele)"
      ]
    },
    {
      "cell_type": "code",
      "execution_count": null,
      "id": "50b8d1a7",
      "metadata": {
        "id": "50b8d1a7",
        "outputId": "ada2829b-b6c6-48c9-c5e6-8ca500b7e50e"
      },
      "outputs": [
        {
          "name": "stdout",
          "output_type": "stream",
          "text": [
            "-2\n"
          ]
        }
      ],
      "source": [
        "l2 = [-3, -9, -2, -5]\n",
        "\n",
        "max_ele = l2[0]\n",
        "for i in l2:\n",
        "    if i>max_ele:\n",
        "        max_ele=i\n",
        "print(max_ele)"
      ]
    },
    {
      "cell_type": "code",
      "execution_count": null,
      "id": "d9f3e94e",
      "metadata": {
        "id": "d9f3e94e",
        "outputId": "4a382d45-282c-434f-db39-4ba1b1943b93"
      },
      "outputs": [
        {
          "name": "stdout",
          "output_type": "stream",
          "text": [
            "3\n",
            "9\n"
          ]
        }
      ],
      "source": [
        "l1=[1,3,2,9,4]\n",
        "a=l1[0]\n",
        "for i in l1:\n",
        "    if(i>a):\n",
        "        a=i\n",
        "        print(a)"
      ]
    },
    {
      "cell_type": "code",
      "execution_count": null,
      "id": "e03ebec0",
      "metadata": {
        "id": "e03ebec0",
        "outputId": "8bda1fdd-dc2e-40a8-9591-ed31a925c03d"
      },
      "outputs": [
        {
          "name": "stdout",
          "output_type": "stream",
          "text": [
            "9\n"
          ]
        }
      ],
      "source": [
        "l1=[1,3,2,9,4]\n",
        "a=l1[0]\n",
        "for i in l1:\n",
        "    if(i>a):\n",
        "        a=i\n",
        "print(a)"
      ]
    },
    {
      "cell_type": "code",
      "execution_count": null,
      "id": "9e84ea8d",
      "metadata": {
        "id": "9e84ea8d",
        "outputId": "d6e0d880-5549-4f20-bf38-d1a0524cac91"
      },
      "outputs": [
        {
          "data": {
            "text/plain": [
              "[1, 3, 2, 9, 4]"
            ]
          },
          "execution_count": 218,
          "metadata": {},
          "output_type": "execute_result"
        }
      ],
      "source": [
        "l1"
      ]
    },
    {
      "cell_type": "code",
      "execution_count": null,
      "id": "55aa2044",
      "metadata": {
        "id": "55aa2044",
        "outputId": "66975deb-7bb0-4d87-a046-d49837327db5"
      },
      "outputs": [
        {
          "name": "stdout",
          "output_type": "stream",
          "text": [
            "1\n",
            "3\n",
            "2\n",
            "9\n",
            "4\n"
          ]
        }
      ],
      "source": [
        "for i in l1:\n",
        "    print(i)"
      ]
    },
    {
      "cell_type": "code",
      "execution_count": null,
      "id": "e631f03a",
      "metadata": {
        "id": "e631f03a"
      },
      "outputs": [],
      "source": [
        "l10 = [100, 3, 8, 200, 500, 0, -9]"
      ]
    },
    {
      "cell_type": "code",
      "execution_count": null,
      "id": "94b004d3",
      "metadata": {
        "id": "94b004d3",
        "outputId": "6295ff0d-971f-483c-a935-43045fbb9523"
      },
      "outputs": [
        {
          "name": "stdout",
          "output_type": "stream",
          "text": [
            "100\n",
            "3\n",
            "8\n",
            "200\n",
            "500\n",
            "0\n",
            "-9\n"
          ]
        }
      ],
      "source": [
        "for i in l10:\n",
        "    print(i)"
      ]
    },
    {
      "cell_type": "markdown",
      "source": [
        "#### Find the minimum value without using any function"
      ],
      "metadata": {
        "id": "3U_tl8RRum5O"
      },
      "id": "3U_tl8RRum5O"
    },
    {
      "cell_type": "code",
      "execution_count": null,
      "id": "89c425a7",
      "metadata": {
        "id": "89c425a7"
      },
      "outputs": [],
      "source": [
        "l10 = [100, 3, 8, 200, 500, 0, -9]"
      ]
    },
    {
      "cell_type": "code",
      "execution_count": null,
      "id": "560c0b7b",
      "metadata": {
        "id": "560c0b7b",
        "outputId": "9951278f-f9a2-4155-8de6-90553e610a72",
        "colab": {
          "base_uri": "https://localhost:8080/"
        }
      },
      "outputs": [
        {
          "output_type": "execute_result",
          "data": {
            "text/plain": [
              "-9"
            ]
          },
          "metadata": {},
          "execution_count": 166
        }
      ],
      "source": [
        "min(l10)"
      ]
    },
    {
      "cell_type": "code",
      "execution_count": null,
      "id": "506db79d",
      "metadata": {
        "id": "506db79d",
        "outputId": "f19daaab-272d-43e2-adbc-72a5b7d95b8e",
        "colab": {
          "base_uri": "https://localhost:8080/"
        }
      },
      "outputs": [
        {
          "output_type": "stream",
          "name": "stdout",
          "text": [
            "-9\n"
          ]
        }
      ],
      "source": [
        "min_ele = l10[0] #find minimum using functions\n",
        "for i in l10:\n",
        "    if i<min_ele:\n",
        "        min_ele=i\n",
        "print(min_ele)"
      ]
    },
    {
      "cell_type": "markdown",
      "source": [
        "#### List comprehension\n",
        "\n",
        "creates a new list from an existing iterable object in a single line"
      ],
      "metadata": {
        "id": "B6wQaiQ8HTdM"
      },
      "id": "B6wQaiQ8HTdM"
    },
    {
      "cell_type": "code",
      "execution_count": null,
      "id": "17914b5a",
      "metadata": {
        "id": "17914b5a",
        "outputId": "8200635e-3949-43b2-ce4c-b45b39781812",
        "colab": {
          "base_uri": "https://localhost:8080/"
        }
      },
      "outputs": [
        {
          "output_type": "execute_result",
          "data": {
            "text/plain": [
              "[1, 3, 2, 9, 4]"
            ]
          },
          "metadata": {},
          "execution_count": 168
        }
      ],
      "source": [
        "l1"
      ]
    },
    {
      "cell_type": "code",
      "execution_count": null,
      "id": "0040bf68",
      "metadata": {
        "id": "0040bf68"
      },
      "outputs": [],
      "source": [
        "out = []\n",
        "for i in l1:\n",
        "    out.append(i**2)"
      ]
    },
    {
      "cell_type": "code",
      "execution_count": null,
      "id": "075ea860",
      "metadata": {
        "id": "075ea860",
        "outputId": "7edccaea-6c36-47fd-cc18-39738dddae5c",
        "colab": {
          "base_uri": "https://localhost:8080/"
        }
      },
      "outputs": [
        {
          "output_type": "execute_result",
          "data": {
            "text/plain": [
              "[1, 9, 4, 81, 16]"
            ]
          },
          "metadata": {},
          "execution_count": 170
        }
      ],
      "source": [
        "out"
      ]
    },
    {
      "cell_type": "code",
      "execution_count": null,
      "id": "c00ea049",
      "metadata": {
        "id": "c00ea049"
      },
      "outputs": [],
      "source": [
        "res = [i**2 for i in l1]"
      ]
    },
    {
      "cell_type": "code",
      "execution_count": null,
      "id": "d32c569b",
      "metadata": {
        "id": "d32c569b",
        "outputId": "d77524a0-db2b-4548-904c-db1707b770b1",
        "colab": {
          "base_uri": "https://localhost:8080/"
        }
      },
      "outputs": [
        {
          "output_type": "execute_result",
          "data": {
            "text/plain": [
              "[1, 9, 4, 81, 16]"
            ]
          },
          "metadata": {},
          "execution_count": 172
        }
      ],
      "source": [
        "res"
      ]
    },
    {
      "cell_type": "code",
      "execution_count": null,
      "id": "01525a3c",
      "metadata": {
        "id": "01525a3c"
      },
      "outputs": [],
      "source": [
        "# What is the advantage of list comprehension over traditional for loop?"
      ]
    },
    {
      "cell_type": "code",
      "execution_count": null,
      "id": "6586a2c2",
      "metadata": {
        "id": "6586a2c2",
        "outputId": "c09bda8d-211e-4487-9629-398e0c33bf47",
        "colab": {
          "base_uri": "https://localhost:8080/"
        }
      },
      "outputs": [
        {
          "output_type": "execute_result",
          "data": {
            "text/plain": [
              "[1, 3, 2, 9, 4]"
            ]
          },
          "metadata": {},
          "execution_count": 173
        }
      ],
      "source": [
        "l1"
      ]
    },
    {
      "cell_type": "code",
      "execution_count": null,
      "id": "d1f57276",
      "metadata": {
        "id": "d1f57276"
      },
      "outputs": [],
      "source": [
        "# [1, 9, 8, 81, 64]"
      ]
    },
    {
      "cell_type": "code",
      "execution_count": null,
      "id": "e5cb5352",
      "metadata": {
        "id": "e5cb5352",
        "outputId": "8e9fba53-0aed-4389-bb1e-32efaa82f69e",
        "colab": {
          "base_uri": "https://localhost:8080/"
        }
      },
      "outputs": [
        {
          "output_type": "execute_result",
          "data": {
            "text/plain": [
              "9"
            ]
          },
          "metadata": {},
          "execution_count": 176
        }
      ],
      "source": [
        "pow(3,2) # Power of 3**2"
      ]
    },
    {
      "cell_type": "code",
      "execution_count": null,
      "id": "3b8ce0fa",
      "metadata": {
        "id": "3b8ce0fa"
      },
      "outputs": [],
      "source": [
        "out1 = []\n",
        "\n",
        "for i in l1:\n",
        "    if i % 2 == 0:\n",
        "        out1.append(i**3)\n",
        "    else:\n",
        "        out1.append(i**2)\n",
        "\n",
        "print(out1)"
      ]
    },
    {
      "cell_type": "code",
      "execution_count": null,
      "id": "e1909baf",
      "metadata": {
        "id": "e1909baf"
      },
      "outputs": [],
      "source": [
        "out2 = [i**3 if i % 2 == 0 else i**2 for i in l1]"
      ]
    },
    {
      "cell_type": "code",
      "execution_count": null,
      "id": "9ab7d45a",
      "metadata": {
        "id": "9ab7d45a",
        "outputId": "08553137-9c4f-4547-b370-a8eafb5d1575"
      },
      "outputs": [
        {
          "data": {
            "text/plain": [
              "[1, 9, 8, 81, 64]"
            ]
          },
          "execution_count": 242,
          "metadata": {},
          "output_type": "execute_result"
        }
      ],
      "source": [
        "out2"
      ]
    },
    {
      "cell_type": "code",
      "execution_count": null,
      "id": "85564ae5",
      "metadata": {
        "id": "85564ae5",
        "outputId": "84afe959-df12-479d-9621-40831642853e",
        "colab": {
          "base_uri": "https://localhost:8080/",
          "height": 135
        }
      },
      "outputs": [
        {
          "output_type": "error",
          "ename": "SyntaxError",
          "evalue": "ignored",
          "traceback": [
            "\u001b[0;36m  File \u001b[0;32m\"<ipython-input-179-d75340dfaba3>\"\u001b[0;36m, line \u001b[0;32m2\u001b[0m\n\u001b[0;31m    l2 = [i**2 if i%2==0 else i**3 if i%2!=0 for i in l1]\u001b[0m\n\u001b[0m                              ^\u001b[0m\n\u001b[0;31mSyntaxError\u001b[0m\u001b[0;31m:\u001b[0m expected 'else' after 'if' expression\n"
          ]
        }
      ],
      "source": [
        "l1=[1,2,3,4,5,6]\n",
        "l2 = [i**2 if i%2==0 else i**3 if i%2!=0 for i in l1]"
      ]
    },
    {
      "cell_type": "code",
      "execution_count": null,
      "id": "a4f0c785",
      "metadata": {
        "id": "a4f0c785",
        "outputId": "0016218f-1a1c-4674-e9a5-85aafa0e21d9",
        "colab": {
          "base_uri": "https://localhost:8080/",
          "height": 135
        }
      },
      "outputs": [
        {
          "output_type": "error",
          "ename": "SyntaxError",
          "evalue": "ignored",
          "traceback": [
            "\u001b[0;36m  File \u001b[0;32m\"<ipython-input-180-0d74f74cf523>\"\u001b[0;36m, line \u001b[0;32m2\u001b[0m\n\u001b[0;31m    l2 = [i**2 if i%2==0 else i**3 if i%2!=0 else pass for i in l1]\u001b[0m\n\u001b[0m                                                  ^\u001b[0m\n\u001b[0;31mSyntaxError\u001b[0m\u001b[0;31m:\u001b[0m invalid syntax\n"
          ]
        }
      ],
      "source": [
        "l1=[1,2,3,4,5,6]\n",
        "l2 = [i**2 if i%2==0 else i**3 if i%2!=0 else pass for i in l1]"
      ]
    },
    {
      "cell_type": "code",
      "execution_count": null,
      "id": "fb271235",
      "metadata": {
        "id": "fb271235"
      },
      "outputs": [],
      "source": [
        "l1=[1,2,3,4,5,6]\n",
        "l2 = [i**2 if i%2==0 else i**3 if i%2!=0 else i for i in l1]"
      ]
    },
    {
      "cell_type": "code",
      "execution_count": null,
      "id": "578b3444",
      "metadata": {
        "id": "578b3444",
        "outputId": "e922bc7a-a7a1-49a2-a87b-a22d58e37e69"
      },
      "outputs": [
        {
          "data": {
            "text/plain": [
              "[1, 4, 27, 16, 125, 36]"
            ]
          },
          "execution_count": 247,
          "metadata": {},
          "output_type": "execute_result"
        }
      ],
      "source": [
        "l2"
      ]
    },
    {
      "cell_type": "code",
      "execution_count": null,
      "id": "28a481a9",
      "metadata": {
        "id": "28a481a9",
        "outputId": "3cbf3b5f-671f-43f9-f071-d7f7aecad457"
      },
      "outputs": [
        {
          "name": "stdout",
          "output_type": "stream",
          "text": [
            "[1, 9, 8, 81, 64, 16, 64, 16]\n"
          ]
        }
      ],
      "source": [
        "my_list=[1,3,2,9,4,4,4,4]\n",
        "y=[]\n",
        "\n",
        "for i in range(len(my_list)):\n",
        "    if(i+1)%2==0:\n",
        "        x=(my_list[i]**2)\n",
        "        y.append(x)\n",
        "    elif (i+1)%2!=0:\n",
        "        x=(my_list[i]**3)\n",
        "        y.append(x)\n",
        "print(y)\n"
      ]
    },
    {
      "cell_type": "code",
      "execution_count": null,
      "id": "36e80d02",
      "metadata": {
        "id": "36e80d02"
      },
      "outputs": [],
      "source": []
    }
  ],
  "metadata": {
    "kernelspec": {
      "display_name": "Python 3 (ipykernel)",
      "language": "python",
      "name": "python3"
    },
    "language_info": {
      "codemirror_mode": {
        "name": "ipython",
        "version": 3
      },
      "file_extension": ".py",
      "mimetype": "text/x-python",
      "name": "python",
      "nbconvert_exporter": "python",
      "pygments_lexer": "ipython3",
      "version": "3.9.7"
    },
    "colab": {
      "provenance": [],
      "collapsed_sections": [
        "83lhzgW1Bwem",
        "9YZWdKjpCcR2",
        "NhB2k0ClEFnP",
        "9VM0nZIYCwYN",
        "1RkD-t3tEKmx",
        "4z2_-v-DE8wj",
        "GjPF19f3GTZF",
        "MVkaqzAcIklF",
        "k4b3wWgzIxoY",
        "KhXu-06rI2vX",
        "J6o6clBYI_nk",
        "2p-c7B_yZa2_",
        "7JwIInRaZ5wj",
        "XG7y09UOaJKy",
        "VQFxNukxsmH_",
        "Ko9C1wSMtaCg",
        "o_PM0GqVtu4G",
        "D7teTdfBuSie"
      ],
      "include_colab_link": true
    }
  },
  "nbformat": 4,
  "nbformat_minor": 5
}