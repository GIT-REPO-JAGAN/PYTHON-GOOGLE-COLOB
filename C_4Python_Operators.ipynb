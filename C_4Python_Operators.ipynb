{
  "cells": [
    {
      "cell_type": "markdown",
      "metadata": {
        "id": "view-in-github",
        "colab_type": "text"
      },
      "source": [
        "<a href=\"https://colab.research.google.com/github/GIT-REPO-JAGAN/PYTHON-GOOGLE-COLOB/blob/main/C_4Python_Operators.ipynb\" target=\"_parent\"><img src=\"https://colab.research.google.com/assets/colab-badge.svg\" alt=\"Open In Colab\"/></a>"
      ]
    },
    {
      "cell_type": "markdown",
      "source": [
        "#### **Operators perform operations on operands**\n",
        "1.   a * b => '*' is an operator and a and b are operands\n",
        "2.   x * 10 + y => '*' and '+' are operators and operands are x, 10, y\n",
        "\n",
        "##### **Classification of operators on the basis of number of operands**\n",
        "\n",
        "1. Unary operators: Operator that operates on 1 operand. eg: -, not            --> -a\n",
        "2. Binary operators: Operator that operates on 2 operands. eg: +, and, >       --> a+b\n",
        "3. Ternary opearators: Operator that operates on 3 operands.\n",
        "\n",
        "\n",
        "##### Classification of operators on the basis of the operation they perform.\n"
      ],
      "metadata": {
        "id": "x17Fd3yvLy0-"
      },
      "id": "x17Fd3yvLy0-"
    },
    {
      "cell_type": "markdown",
      "source": [
        "#### Arithmetic operators  ( +, -, *, /, //, **, % )"
      ],
      "metadata": {
        "id": "yXa2kvdzM1Nq"
      },
      "id": "yXa2kvdzM1Nq"
    },
    {
      "cell_type": "code",
      "execution_count": null,
      "id": "075ccc98",
      "metadata": {
        "id": "075ccc98",
        "outputId": "c9fc34f3-31ef-4329-bace-e6ed53357cf3"
      },
      "outputs": [
        {
          "data": {
            "text/plain": [
              "30"
            ]
          },
          "execution_count": 6,
          "metadata": {},
          "output_type": "execute_result"
        }
      ],
      "source": [
        "10 + 20"
      ]
    },
    {
      "cell_type": "code",
      "execution_count": null,
      "id": "02e79213",
      "metadata": {
        "id": "02e79213",
        "outputId": "47321576-9699-402c-a12f-43130d8f9f0d"
      },
      "outputs": [
        {
          "data": {
            "text/plain": [
              "27"
            ]
          },
          "execution_count": 7,
          "metadata": {},
          "output_type": "execute_result"
        }
      ],
      "source": [
        "30 - 3"
      ]
    },
    {
      "cell_type": "code",
      "execution_count": null,
      "id": "ec392f72",
      "metadata": {
        "id": "ec392f72",
        "outputId": "888a5fe5-3ffe-477d-c159-30bbf7730ba8"
      },
      "outputs": [
        {
          "data": {
            "text/plain": [
              "21"
            ]
          },
          "execution_count": 8,
          "metadata": {},
          "output_type": "execute_result"
        }
      ],
      "source": [
        "3 * 7"
      ]
    },
    {
      "cell_type": "code",
      "execution_count": null,
      "id": "f43efe4e",
      "metadata": {
        "id": "f43efe4e",
        "outputId": "6ddeabf6-e89e-4580-a968-a68f38d09a55"
      },
      "outputs": [
        {
          "data": {
            "text/plain": [
              "5.0"
            ]
          },
          "execution_count": 9,
          "metadata": {},
          "output_type": "execute_result"
        }
      ],
      "source": [
        "10 / 2  # Division always gives flot output"
      ]
    },
    {
      "cell_type": "code",
      "execution_count": null,
      "id": "22041ac3",
      "metadata": {
        "id": "22041ac3",
        "outputId": "40910f4f-1a52-4399-ef9c-27ab1b8cd4e3"
      },
      "outputs": [
        {
          "data": {
            "text/plain": [
              "6.666666666666667"
            ]
          },
          "execution_count": 10,
          "metadata": {},
          "output_type": "execute_result"
        }
      ],
      "source": [
        "20 / 3"
      ]
    },
    {
      "cell_type": "code",
      "execution_count": null,
      "id": "47fd6ee6",
      "metadata": {
        "id": "47fd6ee6"
      },
      "outputs": [],
      "source": [
        "# // - floor division/ integer division"
      ]
    },
    {
      "cell_type": "code",
      "execution_count": null,
      "id": "ed9190eb",
      "metadata": {
        "id": "ed9190eb",
        "outputId": "5be81b81-12f2-413a-eb28-45f484fba507"
      },
      "outputs": [
        {
          "data": {
            "text/plain": [
              "5"
            ]
          },
          "execution_count": 12,
          "metadata": {},
          "output_type": "execute_result"
        }
      ],
      "source": [
        "10 // 2"
      ]
    },
    {
      "cell_type": "code",
      "execution_count": null,
      "id": "35078210",
      "metadata": {
        "id": "35078210",
        "outputId": "85ee03be-f6da-40d7-a876-19b8766e5b91"
      },
      "outputs": [
        {
          "data": {
            "text/plain": [
              "6"
            ]
          },
          "execution_count": 13,
          "metadata": {},
          "output_type": "execute_result"
        }
      ],
      "source": [
        "20 // 3"
      ]
    },
    {
      "cell_type": "code",
      "execution_count": null,
      "id": "83c48788",
      "metadata": {
        "id": "83c48788"
      },
      "outputs": [],
      "source": [
        "# % - modulus operator - the remainder of the division"
      ]
    },
    {
      "cell_type": "code",
      "execution_count": null,
      "id": "f614b8f1",
      "metadata": {
        "id": "f614b8f1",
        "outputId": "0f120159-fd3d-4659-811f-1fe8b64b3ac2"
      },
      "outputs": [
        {
          "data": {
            "text/plain": [
              "2"
            ]
          },
          "execution_count": 15,
          "metadata": {},
          "output_type": "execute_result"
        }
      ],
      "source": [
        "20 % 3"
      ]
    },
    {
      "cell_type": "code",
      "execution_count": null,
      "id": "246db04c",
      "metadata": {
        "id": "246db04c",
        "outputId": "acfe30dc-92e1-4b83-9d0d-d7e616197acf"
      },
      "outputs": [
        {
          "data": {
            "text/plain": [
              "0"
            ]
          },
          "execution_count": 16,
          "metadata": {},
          "output_type": "execute_result"
        }
      ],
      "source": [
        "10 % 2"
      ]
    },
    {
      "cell_type": "code",
      "execution_count": null,
      "id": "08c603b5",
      "metadata": {
        "id": "08c603b5"
      },
      "outputs": [],
      "source": [
        "# ** = exponent operator  "
      ]
    },
    {
      "cell_type": "code",
      "execution_count": null,
      "id": "ed0ad5c7",
      "metadata": {
        "id": "ed0ad5c7",
        "outputId": "57b84ad3-f15f-4874-fe3b-d7d853e41c9e"
      },
      "outputs": [
        {
          "data": {
            "text/plain": [
              "25"
            ]
          },
          "execution_count": 18,
          "metadata": {},
          "output_type": "execute_result"
        }
      ],
      "source": [
        "5 ** 2 # 5 to the power of 2"
      ]
    },
    {
      "cell_type": "code",
      "execution_count": null,
      "id": "2b63d4a5",
      "metadata": {
        "id": "2b63d4a5",
        "outputId": "949bc194-94b4-4fcc-9faf-61ef0ea9ceb7"
      },
      "outputs": [
        {
          "data": {
            "text/plain": [
              "1000"
            ]
          },
          "execution_count": 19,
          "metadata": {},
          "output_type": "execute_result"
        }
      ],
      "source": [
        "10 ** 3"
      ]
    },
    {
      "cell_type": "code",
      "execution_count": null,
      "id": "dee1b964",
      "metadata": {
        "id": "dee1b964",
        "outputId": "630ea08b-9e67-4bb7-db12-cc544124f2e2"
      },
      "outputs": [
        {
          "data": {
            "text/plain": [
              "1024"
            ]
          },
          "execution_count": 20,
          "metadata": {},
          "output_type": "execute_result"
        }
      ],
      "source": [
        "4 ** 5"
      ]
    },
    {
      "cell_type": "code",
      "execution_count": null,
      "id": "08ef7feb",
      "metadata": {
        "id": "08ef7feb",
        "outputId": "fd5ee187-9604-4c35-bf58-c774ff43d526"
      },
      "outputs": [
        {
          "data": {
            "text/plain": [
              "64"
            ]
          },
          "execution_count": 21,
          "metadata": {},
          "output_type": "execute_result"
        }
      ],
      "source": [
        "2 ** 6"
      ]
    },
    {
      "cell_type": "markdown",
      "source": [
        "#### Assignment operator\n",
        "*   assigns the right side value to the left side variable"
      ],
      "metadata": {
        "id": "Ak0PsrefNUa4"
      },
      "id": "Ak0PsrefNUa4"
    },
    {
      "cell_type": "code",
      "execution_count": null,
      "id": "86fb7971",
      "metadata": {
        "id": "86fb7971"
      },
      "outputs": [],
      "source": [
        "a = 100"
      ]
    },
    {
      "cell_type": "markdown",
      "source": [
        "#### compound assignment operators\n",
        "*   +=, -=, ...\n",
        "*   addition assignent operator => +="
      ],
      "metadata": {
        "id": "OpEPkGF0Nl3O"
      },
      "id": "OpEPkGF0Nl3O"
    },
    {
      "cell_type": "code",
      "execution_count": null,
      "id": "a01e27a1",
      "metadata": {
        "id": "a01e27a1"
      },
      "outputs": [],
      "source": [
        "x = 10"
      ]
    },
    {
      "cell_type": "code",
      "execution_count": null,
      "id": "cb499516",
      "metadata": {
        "id": "cb499516"
      },
      "outputs": [],
      "source": [
        "x += 5        # x = x + 5"
      ]
    },
    {
      "cell_type": "code",
      "execution_count": null,
      "id": "86119a28",
      "metadata": {
        "id": "86119a28",
        "outputId": "65000d15-a00c-4c19-a3be-76a7a30b120b"
      },
      "outputs": [
        {
          "data": {
            "text/plain": [
              "15"
            ]
          },
          "execution_count": 29,
          "metadata": {},
          "output_type": "execute_result"
        }
      ],
      "source": [
        "x"
      ]
    },
    {
      "cell_type": "code",
      "execution_count": null,
      "id": "777fc90b",
      "metadata": {
        "id": "777fc90b",
        "outputId": "634c8655-2fe1-4156-8292-5e9563c8cab1"
      },
      "outputs": [
        {
          "ename": "NameError",
          "evalue": "name 'y' is not defined",
          "output_type": "error",
          "traceback": [
            "\u001b[1;31m---------------------------------------------------------------------------\u001b[0m",
            "\u001b[1;31mNameError\u001b[0m                                 Traceback (most recent call last)",
            "\u001b[1;32m~\\AppData\\Local\\Temp/ipykernel_12652/3563912222.py\u001b[0m in \u001b[0;36m<module>\u001b[1;34m\u001b[0m\n\u001b[1;32m----> 1\u001b[1;33m \u001b[0my\u001b[0m\u001b[1;33m\u001b[0m\u001b[1;33m\u001b[0m\u001b[0m\n\u001b[0m",
            "\u001b[1;31mNameError\u001b[0m: name 'y' is not defined"
          ]
        }
      ],
      "source": [
        "y"
      ]
    },
    {
      "cell_type": "code",
      "execution_count": null,
      "id": "44cd1f67",
      "metadata": {
        "id": "44cd1f67",
        "outputId": "20837a57-df6e-481a-b692-5c4518aef917"
      },
      "outputs": [
        {
          "ename": "NameError",
          "evalue": "name 'y' is not defined",
          "output_type": "error",
          "traceback": [
            "\u001b[1;31m---------------------------------------------------------------------------\u001b[0m",
            "\u001b[1;31mNameError\u001b[0m                                 Traceback (most recent call last)",
            "\u001b[1;32m~\\AppData\\Local\\Temp/ipykernel_12652/202771001.py\u001b[0m in \u001b[0;36m<module>\u001b[1;34m\u001b[0m\n\u001b[1;32m----> 1\u001b[1;33m \u001b[0my\u001b[0m \u001b[1;33m+=\u001b[0m \u001b[1;36m2\u001b[0m \u001b[1;31m# y = y + 2\u001b[0m\u001b[1;33m\u001b[0m\u001b[1;33m\u001b[0m\u001b[0m\n\u001b[0m",
            "\u001b[1;31mNameError\u001b[0m: name 'y' is not defined"
          ]
        }
      ],
      "source": [
        "y += 2            # y = y + 2"
      ]
    },
    {
      "cell_type": "code",
      "execution_count": null,
      "id": "93ae9ceb",
      "metadata": {
        "id": "93ae9ceb",
        "outputId": "595a2271-9526-4e24-95af-41a4dd551a67"
      },
      "outputs": [
        {
          "data": {
            "text/plain": [
              "15"
            ]
          },
          "execution_count": 32,
          "metadata": {},
          "output_type": "execute_result"
        }
      ],
      "source": [
        "x"
      ]
    },
    {
      "cell_type": "code",
      "execution_count": null,
      "id": "4b3bf2a9",
      "metadata": {
        "id": "4b3bf2a9"
      },
      "outputs": [],
      "source": [
        "x -= 3        # x = x - 3"
      ]
    },
    {
      "cell_type": "code",
      "execution_count": null,
      "id": "b5726adc",
      "metadata": {
        "id": "b5726adc",
        "outputId": "e29c99aa-e0fa-48a7-cd89-8bfb8a3d1961"
      },
      "outputs": [
        {
          "data": {
            "text/plain": [
              "12"
            ]
          },
          "execution_count": 34,
          "metadata": {},
          "output_type": "execute_result"
        }
      ],
      "source": [
        "x"
      ]
    },
    {
      "cell_type": "code",
      "execution_count": null,
      "id": "f9eb35cc",
      "metadata": {
        "id": "f9eb35cc"
      },
      "outputs": [],
      "source": [
        "x *= 10        # x = x * 10"
      ]
    },
    {
      "cell_type": "code",
      "execution_count": null,
      "id": "022b596f",
      "metadata": {
        "id": "022b596f",
        "outputId": "d2bfebae-740e-4fc4-ab1b-ba0213abdcc5"
      },
      "outputs": [
        {
          "data": {
            "text/plain": [
              "120"
            ]
          },
          "execution_count": 36,
          "metadata": {},
          "output_type": "execute_result"
        }
      ],
      "source": [
        "x"
      ]
    },
    {
      "cell_type": "code",
      "execution_count": null,
      "id": "294e2187",
      "metadata": {
        "id": "294e2187"
      },
      "outputs": [],
      "source": [
        "x /= 12       # x = x / 12 => x = 120 / 12"
      ]
    },
    {
      "cell_type": "code",
      "execution_count": null,
      "id": "3e525dd5",
      "metadata": {
        "id": "3e525dd5",
        "outputId": "4716dc02-3550-4abb-d2a9-519e76e26d4e"
      },
      "outputs": [
        {
          "data": {
            "text/plain": [
              "10.0"
            ]
          },
          "execution_count": 38,
          "metadata": {},
          "output_type": "execute_result"
        }
      ],
      "source": [
        "x"
      ]
    },
    {
      "cell_type": "markdown",
      "source": [
        "#### We can assign the same value to different variables in the same line"
      ],
      "metadata": {
        "id": "SxUaJ5mIOC_c"
      },
      "id": "SxUaJ5mIOC_c"
    },
    {
      "cell_type": "code",
      "execution_count": null,
      "id": "61846693",
      "metadata": {
        "id": "61846693"
      },
      "outputs": [],
      "source": [
        "a = b = 2000"
      ]
    },
    {
      "cell_type": "code",
      "execution_count": null,
      "id": "cdfaae60",
      "metadata": {
        "id": "cdfaae60",
        "outputId": "486edd1b-de8d-420e-bdb6-7a30e822026a"
      },
      "outputs": [
        {
          "data": {
            "text/plain": [
              "2000"
            ]
          },
          "execution_count": 41,
          "metadata": {},
          "output_type": "execute_result"
        }
      ],
      "source": [
        "a"
      ]
    },
    {
      "cell_type": "code",
      "execution_count": null,
      "id": "7b87652c",
      "metadata": {
        "id": "7b87652c",
        "outputId": "58ef9265-e015-418d-a399-91c5a41dc73a"
      },
      "outputs": [
        {
          "data": {
            "text/plain": [
              "2000"
            ]
          },
          "execution_count": 42,
          "metadata": {},
          "output_type": "execute_result"
        }
      ],
      "source": [
        "b"
      ]
    },
    {
      "cell_type": "code",
      "execution_count": null,
      "id": "f7f4e1cb",
      "metadata": {
        "id": "f7f4e1cb",
        "outputId": "70b862da-1e2f-4950-cfdc-4277ba2ec7d2"
      },
      "outputs": [
        {
          "data": {
            "text/plain": [
              "2257564848208"
            ]
          },
          "execution_count": 43,
          "metadata": {},
          "output_type": "execute_result"
        }
      ],
      "source": [
        "id(a)"
      ]
    },
    {
      "cell_type": "code",
      "execution_count": null,
      "id": "96ca3511",
      "metadata": {
        "id": "96ca3511",
        "outputId": "9829cd36-f13b-460c-8fcc-c5ec5a35b632"
      },
      "outputs": [
        {
          "data": {
            "text/plain": [
              "2257564848208"
            ]
          },
          "execution_count": 44,
          "metadata": {},
          "output_type": "execute_result"
        }
      ],
      "source": [
        "id(b)"
      ]
    },
    {
      "cell_type": "code",
      "execution_count": null,
      "id": "408dd894",
      "metadata": {
        "id": "408dd894"
      },
      "outputs": [],
      "source": [
        "a, b, c = 10, 20, 30"
      ]
    },
    {
      "cell_type": "code",
      "execution_count": null,
      "id": "5bd8518d",
      "metadata": {
        "id": "5bd8518d",
        "outputId": "7b3fc4c8-2b5d-48d2-b7f8-b5651c95b164"
      },
      "outputs": [
        {
          "data": {
            "text/plain": [
              "10"
            ]
          },
          "execution_count": 46,
          "metadata": {},
          "output_type": "execute_result"
        }
      ],
      "source": [
        "a"
      ]
    },
    {
      "cell_type": "code",
      "execution_count": null,
      "id": "838dee2c",
      "metadata": {
        "id": "838dee2c",
        "outputId": "91505d8d-d58e-4044-a215-702457e136cf"
      },
      "outputs": [
        {
          "data": {
            "text/plain": [
              "20"
            ]
          },
          "execution_count": 47,
          "metadata": {},
          "output_type": "execute_result"
        }
      ],
      "source": [
        "b"
      ]
    },
    {
      "cell_type": "code",
      "execution_count": null,
      "id": "0d90ae2e",
      "metadata": {
        "id": "0d90ae2e",
        "outputId": "f6a72d6c-5a77-42e6-9687-66d532ee3274"
      },
      "outputs": [
        {
          "data": {
            "text/plain": [
              "30"
            ]
          },
          "execution_count": 48,
          "metadata": {},
          "output_type": "execute_result"
        }
      ],
      "source": [
        "c"
      ]
    },
    {
      "cell_type": "code",
      "execution_count": null,
      "id": "0506582b",
      "metadata": {
        "id": "0506582b",
        "outputId": "f343b51c-68b6-4644-bc39-3cfdfae642d6"
      },
      "outputs": [
        {
          "ename": "ValueError",
          "evalue": "not enough values to unpack (expected 3, got 2)",
          "output_type": "error",
          "traceback": [
            "\u001b[1;31m---------------------------------------------------------------------------\u001b[0m",
            "\u001b[1;31mValueError\u001b[0m                                Traceback (most recent call last)",
            "\u001b[1;32m~\\AppData\\Local\\Temp/ipykernel_12652/628714695.py\u001b[0m in \u001b[0;36m<module>\u001b[1;34m\u001b[0m\n\u001b[1;32m----> 1\u001b[1;33m \u001b[0ma\u001b[0m\u001b[1;33m,\u001b[0m \u001b[0mb\u001b[0m\u001b[1;33m,\u001b[0m \u001b[0mc\u001b[0m \u001b[1;33m=\u001b[0m \u001b[1;36m100\u001b[0m\u001b[1;33m,\u001b[0m \u001b[1;36m200\u001b[0m\u001b[1;33m\u001b[0m\u001b[1;33m\u001b[0m\u001b[0m\n\u001b[0m",
            "\u001b[1;31mValueError\u001b[0m: not enough values to unpack (expected 3, got 2)"
          ]
        }
      ],
      "source": [
        "a, b, c = 100, 200"
      ]
    },
    {
      "cell_type": "code",
      "execution_count": null,
      "id": "d628a481",
      "metadata": {
        "id": "d628a481",
        "outputId": "ed3ae7fe-d5f1-4e4b-dafa-db6b97c63e87"
      },
      "outputs": [
        {
          "ename": "ValueError",
          "evalue": "too many values to unpack (expected 3)",
          "output_type": "error",
          "traceback": [
            "\u001b[1;31m---------------------------------------------------------------------------\u001b[0m",
            "\u001b[1;31mValueError\u001b[0m                                Traceback (most recent call last)",
            "\u001b[1;32m~\\AppData\\Local\\Temp/ipykernel_12652/3052159639.py\u001b[0m in \u001b[0;36m<module>\u001b[1;34m\u001b[0m\n\u001b[1;32m----> 1\u001b[1;33m \u001b[0ma\u001b[0m\u001b[1;33m,\u001b[0m \u001b[0mb\u001b[0m\u001b[1;33m,\u001b[0m \u001b[0mc\u001b[0m \u001b[1;33m=\u001b[0m \u001b[1;36m1\u001b[0m\u001b[1;33m,\u001b[0m \u001b[1;36m2\u001b[0m\u001b[1;33m,\u001b[0m \u001b[1;36m3\u001b[0m\u001b[1;33m,\u001b[0m \u001b[1;36m4\u001b[0m\u001b[1;33m\u001b[0m\u001b[1;33m\u001b[0m\u001b[0m\n\u001b[0m",
            "\u001b[1;31mValueError\u001b[0m: too many values to unpack (expected 3)"
          ]
        }
      ],
      "source": [
        "a, b, c = 1, 2, 3, 4"
      ]
    },
    {
      "cell_type": "code",
      "execution_count": null,
      "id": "f88ea859",
      "metadata": {
        "id": "f88ea859"
      },
      "outputs": [],
      "source": [
        "name, age = 'John', 20"
      ]
    },
    {
      "cell_type": "code",
      "execution_count": null,
      "id": "03517711",
      "metadata": {
        "id": "03517711",
        "outputId": "47511d60-bc4f-4671-98d4-e0e4bcf135ec",
        "colab": {
          "base_uri": "https://localhost:8080/",
          "height": 36
        }
      },
      "outputs": [
        {
          "output_type": "execute_result",
          "data": {
            "text/plain": [
              "'John'"
            ],
            "application/vnd.google.colaboratory.intrinsic+json": {
              "type": "string"
            }
          },
          "metadata": {},
          "execution_count": 77
        }
      ],
      "source": [
        "name"
      ]
    },
    {
      "cell_type": "code",
      "execution_count": null,
      "id": "b4441007",
      "metadata": {
        "id": "b4441007",
        "outputId": "e5dc2e97-42dc-4eae-a263-ea1f3ff1b638",
        "colab": {
          "base_uri": "https://localhost:8080/"
        }
      },
      "outputs": [
        {
          "output_type": "execute_result",
          "data": {
            "text/plain": [
              "20"
            ]
          },
          "metadata": {},
          "execution_count": 78
        }
      ],
      "source": [
        "age"
      ]
    },
    {
      "cell_type": "markdown",
      "source": [
        "#### Few things about Tuple\n",
        "\n",
        "\n",
        "*   Tuple unpacking\n",
        "*   Signle value Tuple\n",
        "\n"
      ],
      "metadata": {
        "id": "E8s0f7cx9o7Y"
      },
      "id": "E8s0f7cx9o7Y"
    },
    {
      "cell_type": "code",
      "execution_count": null,
      "id": "789ec5ed",
      "metadata": {
        "id": "789ec5ed"
      },
      "outputs": [],
      "source": [
        "x = 10, 20, 30          # Tuple\n",
        "                        # comma separated values enclosed within ()  -->   () are optional     "
      ]
    },
    {
      "cell_type": "code",
      "execution_count": null,
      "id": "5b6cc180",
      "metadata": {
        "id": "5b6cc180",
        "outputId": "4cc7955e-097a-4ae1-bd28-2c83beaa32c3"
      },
      "outputs": [
        {
          "data": {
            "text/plain": [
              "(10, 20, 30)"
            ]
          },
          "execution_count": 55,
          "metadata": {},
          "output_type": "execute_result"
        }
      ],
      "source": [
        "x"
      ]
    },
    {
      "cell_type": "code",
      "execution_count": null,
      "id": "0a8a14e1",
      "metadata": {
        "id": "0a8a14e1",
        "outputId": "dfc80ae9-7884-496c-e2d4-e30aa8cd5174"
      },
      "outputs": [
        {
          "data": {
            "text/plain": [
              "tuple"
            ]
          },
          "execution_count": 56,
          "metadata": {},
          "output_type": "execute_result"
        }
      ],
      "source": [
        "type(x)"
      ]
    },
    {
      "cell_type": "code",
      "execution_count": null,
      "id": "d8add725",
      "metadata": {
        "id": "d8add725"
      },
      "outputs": [],
      "source": [
        "x, y, z = 10, 20, 30    # Tuple unpacking"
      ]
    },
    {
      "cell_type": "code",
      "execution_count": null,
      "id": "7ef5de99",
      "metadata": {
        "id": "7ef5de99",
        "outputId": "44e64107-fc75-4a8e-d441-bc144d853088"
      },
      "outputs": [
        {
          "data": {
            "text/plain": [
              "10"
            ]
          },
          "execution_count": 60,
          "metadata": {},
          "output_type": "execute_result"
        }
      ],
      "source": [
        "x"
      ]
    },
    {
      "cell_type": "code",
      "execution_count": null,
      "id": "53e32d7a",
      "metadata": {
        "id": "53e32d7a",
        "outputId": "0aa3aa3b-e546-4462-8b90-0eb4f40b3b18"
      },
      "outputs": [
        {
          "data": {
            "text/plain": [
              "20"
            ]
          },
          "execution_count": 61,
          "metadata": {},
          "output_type": "execute_result"
        }
      ],
      "source": [
        "y"
      ]
    },
    {
      "cell_type": "code",
      "execution_count": null,
      "id": "9f46f20e",
      "metadata": {
        "id": "9f46f20e",
        "outputId": "3d608e65-33b7-42a6-a39d-409f139ed1e8"
      },
      "outputs": [
        {
          "data": {
            "text/plain": [
              "30"
            ]
          },
          "execution_count": 62,
          "metadata": {},
          "output_type": "execute_result"
        }
      ],
      "source": [
        "z"
      ]
    },
    {
      "cell_type": "code",
      "execution_count": null,
      "id": "06c61909",
      "metadata": {
        "id": "06c61909"
      },
      "outputs": [],
      "source": [
        "t1 = 1, 2, 3, 4"
      ]
    },
    {
      "cell_type": "code",
      "execution_count": null,
      "id": "e7e2bada",
      "metadata": {
        "id": "e7e2bada",
        "outputId": "0c5a41db-b806-4fb6-e699-96524e5ced48"
      },
      "outputs": [
        {
          "data": {
            "text/plain": [
              "(1, 2, 3, 4)"
            ]
          },
          "execution_count": 64,
          "metadata": {},
          "output_type": "execute_result"
        }
      ],
      "source": [
        "t1"
      ]
    },
    {
      "cell_type": "code",
      "execution_count": null,
      "id": "13a9c08e",
      "metadata": {
        "id": "13a9c08e",
        "outputId": "af641837-5454-4ef5-f062-723d6bbd723f"
      },
      "outputs": [
        {
          "data": {
            "text/plain": [
              "tuple"
            ]
          },
          "execution_count": 65,
          "metadata": {},
          "output_type": "execute_result"
        }
      ],
      "source": [
        "type(t1)"
      ]
    },
    {
      "cell_type": "code",
      "execution_count": null,
      "id": "18f6abed",
      "metadata": {
        "id": "18f6abed"
      },
      "outputs": [],
      "source": [
        "a, b, c, d = t1      # Tuple unpacking      # a, b, c, d = 1,2,3,4"
      ]
    },
    {
      "cell_type": "code",
      "execution_count": null,
      "id": "30631f6e",
      "metadata": {
        "id": "30631f6e"
      },
      "outputs": [],
      "source": [
        "a,b,c,d=10,20,30,40"
      ]
    },
    {
      "cell_type": "code",
      "execution_count": null,
      "id": "4584636a",
      "metadata": {
        "id": "4584636a"
      },
      "outputs": [],
      "source": [
        "s1 = \"Hello World\""
      ]
    },
    {
      "cell_type": "code",
      "execution_count": null,
      "id": "837242b8",
      "metadata": {
        "id": "837242b8"
      },
      "outputs": [],
      "source": [
        "x = s1[2], s1[3] # x = 'l', 'l'"
      ]
    },
    {
      "cell_type": "code",
      "execution_count": null,
      "id": "0acf0815",
      "metadata": {
        "id": "0acf0815",
        "outputId": "9be7ee43-9d27-4e2e-b4ec-9a2ce81944c0",
        "colab": {
          "base_uri": "https://localhost:8080/"
        }
      },
      "outputs": [
        {
          "output_type": "execute_result",
          "data": {
            "text/plain": [
              "('l', 'l')"
            ]
          },
          "metadata": {},
          "execution_count": 4
        }
      ],
      "source": [
        "x"
      ]
    },
    {
      "cell_type": "code",
      "execution_count": null,
      "id": "7801dff5",
      "metadata": {
        "id": "7801dff5",
        "outputId": "08dde7aa-f7ac-432b-9d83-c93ad9ea0bfb",
        "colab": {
          "base_uri": "https://localhost:8080/"
        }
      },
      "outputs": [
        {
          "output_type": "execute_result",
          "data": {
            "text/plain": [
              "tuple"
            ]
          },
          "metadata": {},
          "execution_count": 5
        }
      ],
      "source": [
        "type(x)"
      ]
    },
    {
      "cell_type": "code",
      "source": [
        "x = 10\n",
        "print(x)\n",
        "type(x)"
      ],
      "metadata": {
        "colab": {
          "base_uri": "https://localhost:8080/"
        },
        "id": "k5DGUoh0-SBB",
        "outputId": "28cfb584-802a-4602-e2f8-5e793f3c6f91"
      },
      "id": "k5DGUoh0-SBB",
      "execution_count": null,
      "outputs": [
        {
          "output_type": "stream",
          "name": "stdout",
          "text": [
            "10\n"
          ]
        },
        {
          "output_type": "execute_result",
          "data": {
            "text/plain": [
              "int"
            ]
          },
          "metadata": {},
          "execution_count": 4
        }
      ]
    },
    {
      "cell_type": "code",
      "source": [
        "y = 10,\n",
        "print(y)\n",
        "type(y)"
      ],
      "metadata": {
        "colab": {
          "base_uri": "https://localhost:8080/"
        },
        "id": "fcOAIeM3-bBg",
        "outputId": "42696418-7a05-4aad-d233-655cbd6487eb"
      },
      "id": "fcOAIeM3-bBg",
      "execution_count": null,
      "outputs": [
        {
          "output_type": "stream",
          "name": "stdout",
          "text": [
            "(10,)\n"
          ]
        },
        {
          "output_type": "execute_result",
          "data": {
            "text/plain": [
              "tuple"
            ]
          },
          "metadata": {},
          "execution_count": 3
        }
      ]
    },
    {
      "cell_type": "markdown",
      "source": [
        "#### Comparison operators\n",
        "1. Relational operators\n",
        "2. >, <, >=, <=, ==, !=\n",
        "3. Compares 2 values/variables and returns True/False depending on the condition\n"
      ],
      "metadata": {
        "id": "ZKCkjdWHO3R0"
      },
      "id": "ZKCkjdWHO3R0"
    },
    {
      "cell_type": "code",
      "execution_count": null,
      "id": "2871ff68",
      "metadata": {
        "id": "2871ff68",
        "outputId": "6a5d0e8d-8d7c-46e3-9899-4cb533ae5d73"
      },
      "outputs": [
        {
          "data": {
            "text/plain": [
              "True"
            ]
          },
          "execution_count": 73,
          "metadata": {},
          "output_type": "execute_result"
        }
      ],
      "source": [
        "10 > 3 # Is 10 greater than 3?"
      ]
    },
    {
      "cell_type": "code",
      "execution_count": null,
      "id": "73d2082a",
      "metadata": {
        "id": "73d2082a",
        "outputId": "e29c7278-57e2-4b36-f865-0d30165d7850"
      },
      "outputs": [
        {
          "data": {
            "text/plain": [
              "False"
            ]
          },
          "execution_count": 74,
          "metadata": {},
          "output_type": "execute_result"
        }
      ],
      "source": [
        "4 > 9"
      ]
    },
    {
      "cell_type": "code",
      "execution_count": null,
      "id": "c24e63a7",
      "metadata": {
        "id": "c24e63a7",
        "outputId": "0190d805-cee5-42a8-c296-3ad26759022e"
      },
      "outputs": [
        {
          "data": {
            "text/plain": [
              "True"
            ]
          },
          "execution_count": 75,
          "metadata": {},
          "output_type": "execute_result"
        }
      ],
      "source": [
        "4 < 9"
      ]
    },
    {
      "cell_type": "code",
      "execution_count": null,
      "id": "edd9d352",
      "metadata": {
        "id": "edd9d352",
        "outputId": "c8c49521-56e5-4e1c-965d-7bcba2cb9746"
      },
      "outputs": [
        {
          "data": {
            "text/plain": [
              "True"
            ]
          },
          "execution_count": 76,
          "metadata": {},
          "output_type": "execute_result"
        }
      ],
      "source": [
        "5 == 5"
      ]
    },
    {
      "cell_type": "code",
      "execution_count": null,
      "id": "c53a59ac",
      "metadata": {
        "id": "c53a59ac",
        "outputId": "27a472c3-1691-42c4-f24c-b6d4fd4315b5"
      },
      "outputs": [
        {
          "data": {
            "text/plain": [
              "True"
            ]
          },
          "execution_count": 77,
          "metadata": {},
          "output_type": "execute_result"
        }
      ],
      "source": [
        "4 != 10"
      ]
    },
    {
      "cell_type": "code",
      "execution_count": null,
      "id": "ecbcdb91",
      "metadata": {
        "id": "ecbcdb91",
        "outputId": "8b5b1e2d-6756-46c8-f8e7-9d8e5ab3794d"
      },
      "outputs": [
        {
          "data": {
            "text/plain": [
              "False"
            ]
          },
          "execution_count": 78,
          "metadata": {},
          "output_type": "execute_result"
        }
      ],
      "source": [
        "6 == 9"
      ]
    },
    {
      "cell_type": "code",
      "execution_count": null,
      "id": "89bd4e74",
      "metadata": {
        "id": "89bd4e74",
        "outputId": "a9b21ae1-559b-4cd1-b61f-1a25dcad8cb9"
      },
      "outputs": [
        {
          "data": {
            "text/plain": [
              "False"
            ]
          },
          "execution_count": 79,
          "metadata": {},
          "output_type": "execute_result"
        }
      ],
      "source": [
        "10 != 10"
      ]
    },
    {
      "cell_type": "code",
      "execution_count": null,
      "id": "1302e3cc",
      "metadata": {
        "id": "1302e3cc",
        "outputId": "ad2e1c72-7ff3-4e78-e182-a0cc4e1572b4"
      },
      "outputs": [
        {
          "data": {
            "text/plain": [
              "True"
            ]
          },
          "execution_count": 80,
          "metadata": {},
          "output_type": "execute_result"
        }
      ],
      "source": [
        "4 >= 1 # greater than or equal"
      ]
    },
    {
      "cell_type": "code",
      "execution_count": null,
      "id": "4d803e47",
      "metadata": {
        "id": "4d803e47",
        "outputId": "dcd5891f-5e7e-414d-bf6d-33354904c0f6"
      },
      "outputs": [
        {
          "data": {
            "text/plain": [
              "True"
            ]
          },
          "execution_count": 81,
          "metadata": {},
          "output_type": "execute_result"
        }
      ],
      "source": [
        "5 >= 5"
      ]
    },
    {
      "cell_type": "code",
      "execution_count": null,
      "id": "fac371ea",
      "metadata": {
        "id": "fac371ea",
        "outputId": "8454e94f-9470-415b-e87a-d7a47c154c6d"
      },
      "outputs": [
        {
          "data": {
            "text/plain": [
              "False"
            ]
          },
          "execution_count": 82,
          "metadata": {},
          "output_type": "execute_result"
        }
      ],
      "source": [
        "4 >= 10"
      ]
    },
    {
      "cell_type": "code",
      "execution_count": null,
      "id": "596574c0",
      "metadata": {
        "id": "596574c0",
        "outputId": "180247e8-4114-4e8d-a3ee-394b29a30773"
      },
      "outputs": [
        {
          "data": {
            "text/plain": [
              "True"
            ]
          },
          "execution_count": 83,
          "metadata": {},
          "output_type": "execute_result"
        }
      ],
      "source": [
        "5 <= 5"
      ]
    },
    {
      "cell_type": "code",
      "execution_count": null,
      "id": "a33971bb",
      "metadata": {
        "id": "a33971bb",
        "outputId": "ff06a9a7-00b8-4f04-8cf5-6994f02ee0cc"
      },
      "outputs": [
        {
          "data": {
            "text/plain": [
              "True"
            ]
          },
          "execution_count": 84,
          "metadata": {},
          "output_type": "execute_result"
        }
      ],
      "source": [
        "5 <= 10"
      ]
    },
    {
      "cell_type": "code",
      "execution_count": null,
      "id": "8b75add0",
      "metadata": {
        "id": "8b75add0",
        "outputId": "2792152c-7067-48c5-8def-78abc888bb0d"
      },
      "outputs": [
        {
          "data": {
            "text/plain": [
              "False"
            ]
          },
          "execution_count": 85,
          "metadata": {},
          "output_type": "execute_result"
        }
      ],
      "source": [
        "5 <= 2"
      ]
    },
    {
      "cell_type": "code",
      "execution_count": null,
      "id": "dfa5afcf",
      "metadata": {
        "id": "dfa5afcf",
        "outputId": "fdf78be1-8f07-47f5-e80e-315777aef45e",
        "colab": {
          "base_uri": "https://localhost:8080/"
        }
      },
      "outputs": [
        {
          "output_type": "execute_result",
          "data": {
            "text/plain": [
              "True"
            ]
          },
          "metadata": {},
          "execution_count": 6
        }
      ],
      "source": [
        "'Python' == 'Python'     # First it checks the ASCI value of charcter if all get mathced then it checks length https://www.cs.cmu.edu/~pattis/15-1XX/common/handouts/ascii.html"
      ]
    },
    {
      "cell_type": "code",
      "execution_count": null,
      "id": "ad76dde6",
      "metadata": {
        "id": "ad76dde6",
        "outputId": "0f689123-ddfc-4f72-e93e-df9702012337"
      },
      "outputs": [
        {
          "data": {
            "text/plain": [
              "False"
            ]
          },
          "execution_count": 87,
          "metadata": {},
          "output_type": "execute_result"
        }
      ],
      "source": [
        "'Python' == 'python'  # The ASCI value of Small charcter is 32 higher than Caps charcter"
      ]
    },
    {
      "cell_type": "code",
      "execution_count": null,
      "id": "ee07a4fd",
      "metadata": {
        "id": "ee07a4fd",
        "outputId": "5e25f05a-fa34-4fd1-8ffa-4bbcb60f8251"
      },
      "outputs": [
        {
          "data": {
            "text/plain": [
              "True"
            ]
          },
          "execution_count": 88,
          "metadata": {},
          "output_type": "execute_result"
        }
      ],
      "source": [
        "'Python' != 'python'"
      ]
    },
    {
      "cell_type": "code",
      "execution_count": null,
      "id": "ec60cc1d",
      "metadata": {
        "id": "ec60cc1d",
        "outputId": "f1152654-436b-48a3-e1c6-cd9fdce3520f",
        "colab": {
          "base_uri": "https://localhost:8080/"
        }
      },
      "outputs": [
        {
          "output_type": "execute_result",
          "data": {
            "text/plain": [
              "False"
            ]
          },
          "metadata": {},
          "execution_count": 8
        }
      ],
      "source": [
        "'Python' > 'python'"
      ]
    },
    {
      "cell_type": "code",
      "source": [
        "'Python' < 'python'"
      ],
      "metadata": {
        "colab": {
          "base_uri": "https://localhost:8080/"
        },
        "id": "OtXAYzV-QL7S",
        "outputId": "6aea17f5-68be-493a-c044-4ad0cba5d69f"
      },
      "id": "OtXAYzV-QL7S",
      "execution_count": null,
      "outputs": [
        {
          "output_type": "execute_result",
          "data": {
            "text/plain": [
              "True"
            ]
          },
          "metadata": {},
          "execution_count": 9
        }
      ]
    },
    {
      "cell_type": "code",
      "execution_count": null,
      "id": "824ac13e",
      "metadata": {
        "id": "824ac13e",
        "outputId": "03e1b745-3304-4680-a427-7049db4a934d"
      },
      "outputs": [
        {
          "data": {
            "text/plain": [
              "True"
            ]
          },
          "execution_count": 90,
          "metadata": {},
          "output_type": "execute_result"
        }
      ],
      "source": [
        "'python' > 'pythoN'   # The ASCI value of Last charcter is checked due too all other are same "
      ]
    },
    {
      "cell_type": "code",
      "execution_count": null,
      "id": "4968b483",
      "metadata": {
        "id": "4968b483",
        "outputId": "0151d1df-0fd1-4b36-f6f0-97a40c1f2e86"
      },
      "outputs": [
        {
          "data": {
            "text/plain": [
              "True"
            ]
          },
          "execution_count": 91,
          "metadata": {},
          "output_type": "execute_result"
        }
      ],
      "source": [
        "'python' < 'python3' # As all charcters are same lenght is checked  "
      ]
    },
    {
      "cell_type": "code",
      "execution_count": null,
      "id": "2a359a58",
      "metadata": {
        "id": "2a359a58",
        "outputId": "7e9b23d8-00c6-425a-a824-d045aecc6a74"
      },
      "outputs": [
        {
          "data": {
            "text/plain": [
              "False"
            ]
          },
          "execution_count": 92,
          "metadata": {},
          "output_type": "execute_result"
        }
      ],
      "source": [
        "'python' < 'Python3'"
      ]
    },
    {
      "cell_type": "code",
      "execution_count": null,
      "id": "c87d1796",
      "metadata": {
        "id": "c87d1796",
        "outputId": "065c4ee6-1cb9-4df6-c6de-e15107367f20"
      },
      "outputs": [
        {
          "data": {
            "text/plain": [
              "False"
            ]
          },
          "execution_count": 93,
          "metadata": {},
          "output_type": "execute_result"
        }
      ],
      "source": [
        "'Python' > 'Python'"
      ]
    },
    {
      "cell_type": "markdown",
      "source": [
        "#### **Logical Operators**\n",
        "1. and, or, not\n",
        "\n",
        "**AND**    \n",
        "* True and True => True\n",
        "* True and False => False\n",
        "* False and True => False\n",
        "* False and False => False\n",
        "\n",
        "For intiger operation of 'and'\n",
        "*  If the first operand is True, the output is the second operand\n",
        "*  If the first operand is False, the output is the first operand\n",
        "* It will not check the second operand\n",
        "---\n",
        "**OR**\n",
        "* True or True => True\n",
        "* True or False => True\n",
        "* False or True => True\n",
        "* False or False => False\n",
        "\n",
        "For intiger operation of 'and'\n",
        "*   If the first operand if True, the output is the first operand\n",
        "*   If the first operand if False, the output is the second operand\n",
        "---\n",
        "**NOT Operaction** \n",
        "*   Not True is False\n",
        "*  Not False is True\n",
        "---\n",
        "**IN GENRAL**\n",
        "* 0 is False\n",
        "* 1 is True\n",
        "* 0.0 is False\n",
        "* ''  Empty Sring is False\n",
        "* None is False\n",
        "* [] Empty List is False\n",
        "* () Empty Tuple is False\n",
        "* {} Empty Dictonary is False\n"
      ],
      "metadata": {
        "id": "0Rs1hX9xQlVF"
      },
      "id": "0Rs1hX9xQlVF"
    },
    {
      "cell_type": "code",
      "execution_count": null,
      "id": "55ca32c4",
      "metadata": {
        "id": "55ca32c4",
        "outputId": "4f1e2689-73e8-4dcb-d796-7603478f37e3",
        "colab": {
          "base_uri": "https://localhost:8080/"
        }
      },
      "outputs": [
        {
          "output_type": "execute_result",
          "data": {
            "text/plain": [
              "True"
            ]
          },
          "metadata": {},
          "execution_count": 4
        }
      ],
      "source": [
        "True and True    # AND Operatcion "
      ]
    },
    {
      "cell_type": "code",
      "execution_count": null,
      "id": "ce124fad",
      "metadata": {
        "id": "ce124fad",
        "outputId": "f7942a74-ddb8-4dca-f8ee-8de86296662b"
      },
      "outputs": [
        {
          "data": {
            "text/plain": [
              "False"
            ]
          },
          "execution_count": 98,
          "metadata": {},
          "output_type": "execute_result"
        }
      ],
      "source": [
        "True and False"
      ]
    },
    {
      "cell_type": "code",
      "execution_count": null,
      "id": "9497550d",
      "metadata": {
        "id": "9497550d",
        "outputId": "d30e4acc-6ded-4ba4-fa7b-d8b277bbe351"
      },
      "outputs": [
        {
          "data": {
            "text/plain": [
              "False"
            ]
          },
          "execution_count": 99,
          "metadata": {},
          "output_type": "execute_result"
        }
      ],
      "source": [
        "False and True"
      ]
    },
    {
      "cell_type": "code",
      "execution_count": null,
      "id": "38cdfc57",
      "metadata": {
        "id": "38cdfc57",
        "outputId": "8b1f8617-591d-4dc1-bb82-5971814b7861"
      },
      "outputs": [
        {
          "data": {
            "text/plain": [
              "False"
            ]
          },
          "execution_count": 100,
          "metadata": {},
          "output_type": "execute_result"
        }
      ],
      "source": [
        "False and False"
      ]
    },
    {
      "cell_type": "code",
      "execution_count": null,
      "id": "ab543d73",
      "metadata": {
        "id": "ab543d73"
      },
      "outputs": [],
      "source": [
        "name = 'John'"
      ]
    },
    {
      "cell_type": "code",
      "execution_count": null,
      "id": "1ca27527",
      "metadata": {
        "id": "1ca27527"
      },
      "outputs": [],
      "source": [
        "age = 20"
      ]
    },
    {
      "cell_type": "code",
      "execution_count": null,
      "id": "f07f98d4",
      "metadata": {
        "id": "f07f98d4",
        "outputId": "735a750d-794a-48ce-b882-d97aebff25c0"
      },
      "outputs": [
        {
          "data": {
            "text/plain": [
              "True"
            ]
          },
          "execution_count": 103,
          "metadata": {},
          "output_type": "execute_result"
        }
      ],
      "source": [
        "name == 'John' and age == 20 # True and True => True"
      ]
    },
    {
      "cell_type": "code",
      "execution_count": null,
      "id": "bb157668",
      "metadata": {
        "id": "bb157668"
      },
      "outputs": [],
      "source": [
        "# OR CHANRACTER"
      ]
    },
    {
      "cell_type": "code",
      "execution_count": null,
      "id": "35e51c26",
      "metadata": {
        "id": "35e51c26",
        "outputId": "de8af16c-c0d9-46fa-a88e-1af19a24497a"
      },
      "outputs": [
        {
          "data": {
            "text/plain": [
              "True"
            ]
          },
          "execution_count": 105,
          "metadata": {},
          "output_type": "execute_result"
        }
      ],
      "source": [
        "True or True"
      ]
    },
    {
      "cell_type": "code",
      "execution_count": null,
      "id": "570f33cf",
      "metadata": {
        "id": "570f33cf",
        "outputId": "b466ce48-5f74-4cb9-c5db-efe02d162f50"
      },
      "outputs": [
        {
          "data": {
            "text/plain": [
              "True"
            ]
          },
          "execution_count": 106,
          "metadata": {},
          "output_type": "execute_result"
        }
      ],
      "source": [
        "True or False"
      ]
    },
    {
      "cell_type": "code",
      "execution_count": null,
      "id": "5e0e81b8",
      "metadata": {
        "id": "5e0e81b8",
        "outputId": "d66802f9-775f-4c24-e874-8d78d0e938ba"
      },
      "outputs": [
        {
          "data": {
            "text/plain": [
              "True"
            ]
          },
          "execution_count": 107,
          "metadata": {},
          "output_type": "execute_result"
        }
      ],
      "source": [
        "False or True"
      ]
    },
    {
      "cell_type": "code",
      "execution_count": null,
      "id": "ca886808",
      "metadata": {
        "id": "ca886808",
        "outputId": "f217eb9f-ae61-406a-8001-f27705d19187"
      },
      "outputs": [
        {
          "data": {
            "text/plain": [
              "False"
            ]
          },
          "execution_count": 108,
          "metadata": {},
          "output_type": "execute_result"
        }
      ],
      "source": [
        "False or False"
      ]
    },
    {
      "cell_type": "code",
      "source": [
        "# In case of 'and', if the first operand is True, the output is the second operand\n",
        "\n",
        "# In case of 'and', if the first operand is False, the output is the first operand\n",
        "# Because we don't to check the second operand"
      ],
      "metadata": {
        "id": "DsBb2udICIzp"
      },
      "id": "DsBb2udICIzp",
      "execution_count": null,
      "outputs": []
    },
    {
      "cell_type": "code",
      "execution_count": null,
      "id": "43b1ae66",
      "metadata": {
        "id": "43b1ae66",
        "outputId": "d681e139-afa3-42ec-f82f-0b9740253368"
      },
      "outputs": [
        {
          "data": {
            "text/plain": [
              "2"
            ]
          },
          "execution_count": 109,
          "metadata": {},
          "output_type": "execute_result"
        }
      ],
      "source": [
        "10 and 2"
      ]
    },
    {
      "cell_type": "code",
      "execution_count": null,
      "id": "cfa94d8f",
      "metadata": {
        "id": "cfa94d8f",
        "outputId": "bafec3b8-60a9-406a-c20d-9a503ea56bbb"
      },
      "outputs": [
        {
          "data": {
            "text/plain": [
              "0"
            ]
          },
          "execution_count": 112,
          "metadata": {},
          "output_type": "execute_result"
        }
      ],
      "source": [
        "5 and 0"
      ]
    },
    {
      "cell_type": "code",
      "execution_count": null,
      "id": "ba4ce511",
      "metadata": {
        "id": "ba4ce511",
        "outputId": "98530ab0-a281-4de2-9d4d-93d15546a6b5"
      },
      "outputs": [
        {
          "data": {
            "text/plain": [
              "10"
            ]
          },
          "execution_count": 113,
          "metadata": {},
          "output_type": "execute_result"
        }
      ],
      "source": [
        "2 and 10"
      ]
    },
    {
      "cell_type": "code",
      "execution_count": null,
      "id": "41f17149",
      "metadata": {
        "id": "41f17149",
        "outputId": "8ce9bac0-4535-4f43-8e3d-2fc0ac6bacee"
      },
      "outputs": [
        {
          "data": {
            "text/plain": [
              "7"
            ]
          },
          "execution_count": 114,
          "metadata": {},
          "output_type": "execute_result"
        }
      ],
      "source": [
        "True and 7"
      ]
    },
    {
      "cell_type": "code",
      "execution_count": null,
      "id": "3f02146f",
      "metadata": {
        "id": "3f02146f",
        "outputId": "a85d5bc1-6125-47bd-ca55-b69777a706b6"
      },
      "outputs": [
        {
          "data": {
            "text/plain": [
              "'hello'"
            ]
          },
          "execution_count": 115,
          "metadata": {},
          "output_type": "execute_result"
        }
      ],
      "source": [
        "-100 and 'hello'"
      ]
    },
    {
      "cell_type": "code",
      "execution_count": null,
      "id": "539fc16e",
      "metadata": {
        "id": "539fc16e",
        "outputId": "3141301a-67d2-4563-ed5e-10b2c2b002ea"
      },
      "outputs": [
        {
          "data": {
            "text/plain": [
              "'hi'"
            ]
          },
          "execution_count": 116,
          "metadata": {},
          "output_type": "execute_result"
        }
      ],
      "source": [
        "'bye' and 'hi'"
      ]
    },
    {
      "cell_type": "code",
      "execution_count": null,
      "id": "0fc07a71",
      "metadata": {
        "id": "0fc07a71"
      },
      "outputs": [],
      "source": [
        "# In case of 'or', if the first operand if True, the output is the first operand\n",
        "# In case of 'or', if the first operand if False, the output is the second operand"
      ]
    },
    {
      "cell_type": "code",
      "execution_count": null,
      "id": "988753f8",
      "metadata": {
        "id": "988753f8",
        "outputId": "5b4368be-af4b-45ff-96e5-85d2270e678f"
      },
      "outputs": [
        {
          "data": {
            "text/plain": [
              "'bye'"
            ]
          },
          "execution_count": 119,
          "metadata": {},
          "output_type": "execute_result"
        }
      ],
      "source": [
        "'bye' or 'hi'"
      ]
    },
    {
      "cell_type": "code",
      "execution_count": null,
      "id": "b38016ce",
      "metadata": {
        "id": "b38016ce",
        "outputId": "bd5f39c3-4986-404d-e841-d27cc0ee4f5a"
      },
      "outputs": [
        {
          "data": {
            "text/plain": [
              "9"
            ]
          },
          "execution_count": 120,
          "metadata": {},
          "output_type": "execute_result"
        }
      ],
      "source": [
        "'' or 9"
      ]
    },
    {
      "cell_type": "code",
      "execution_count": null,
      "id": "95b363df",
      "metadata": {
        "id": "95b363df",
        "outputId": "fab42e72-25cb-4fb6-ba43-aef4917dba21"
      },
      "outputs": [
        {
          "data": {
            "text/plain": [
              "''"
            ]
          },
          "execution_count": 121,
          "metadata": {},
          "output_type": "execute_result"
        }
      ],
      "source": [
        "'' and 9"
      ]
    },
    {
      "cell_type": "code",
      "execution_count": null,
      "id": "2ffae738",
      "metadata": {
        "id": "2ffae738"
      },
      "outputs": [],
      "source": [
        "None and 100"
      ]
    },
    {
      "cell_type": "code",
      "execution_count": null,
      "id": "347daf21",
      "metadata": {
        "id": "347daf21",
        "outputId": "34b603e0-1389-4f77-b978-0fb8bc74bab4",
        "colab": {
          "base_uri": "https://localhost:8080/"
        }
      },
      "outputs": [
        {
          "output_type": "stream",
          "name": "stdout",
          "text": [
            "None\n"
          ]
        }
      ],
      "source": [
        "print(None and 100)"
      ]
    },
    {
      "cell_type": "code",
      "execution_count": null,
      "id": "f7ce7de6",
      "metadata": {
        "id": "f7ce7de6"
      },
      "outputs": [],
      "source": [
        "# Empty list => [] => False\n",
        "# Empty tuple => () => False\n"
      ]
    },
    {
      "cell_type": "code",
      "execution_count": null,
      "id": "d813222b",
      "metadata": {
        "id": "d813222b"
      },
      "outputs": [],
      "source": [
        "val = {}"
      ]
    },
    {
      "cell_type": "code",
      "execution_count": null,
      "id": "7fad6cba",
      "metadata": {
        "id": "7fad6cba",
        "outputId": "14d0bb71-8ad1-491e-dd76-32f8f5dfaf7b"
      },
      "outputs": [
        {
          "data": {
            "text/plain": [
              "dict"
            ]
          },
          "execution_count": 126,
          "metadata": {},
          "output_type": "execute_result"
        }
      ],
      "source": [
        "type(val)"
      ]
    },
    {
      "cell_type": "code",
      "execution_count": null,
      "id": "f87d102d",
      "metadata": {
        "id": "f87d102d"
      },
      "outputs": [],
      "source": [
        "# Empty dict => {} => False\n",
        "# Empty set => set() => False"
      ]
    },
    {
      "cell_type": "code",
      "execution_count": null,
      "id": "0d0710a8",
      "metadata": {
        "id": "0d0710a8",
        "outputId": "04ecccff-a10a-4120-dd09-a63d42970b48"
      },
      "outputs": [
        {
          "data": {
            "text/plain": [
              "[]"
            ]
          },
          "execution_count": 128,
          "metadata": {},
          "output_type": "execute_result"
        }
      ],
      "source": [
        "list()"
      ]
    },
    {
      "cell_type": "code",
      "execution_count": null,
      "id": "bee5611e",
      "metadata": {
        "id": "bee5611e",
        "outputId": "32fedc48-1d24-416c-c6ed-d4aa38cb8adf"
      },
      "outputs": [
        {
          "data": {
            "text/plain": [
              "{}"
            ]
          },
          "execution_count": 129,
          "metadata": {},
          "output_type": "execute_result"
        }
      ],
      "source": [
        "dict()"
      ]
    },
    {
      "cell_type": "code",
      "execution_count": null,
      "id": "0a172308",
      "metadata": {
        "id": "0a172308",
        "outputId": "45054d9b-1937-4102-ee4d-ad19f7fc21d6"
      },
      "outputs": [
        {
          "data": {
            "text/plain": [
              "set()"
            ]
          },
          "execution_count": 130,
          "metadata": {},
          "output_type": "execute_result"
        }
      ],
      "source": [
        "set()"
      ]
    },
    {
      "cell_type": "code",
      "execution_count": null,
      "id": "919518cb",
      "metadata": {
        "id": "919518cb",
        "outputId": "268f940b-d64f-4f37-9c16-5eab82d793e6"
      },
      "outputs": [
        {
          "data": {
            "text/plain": [
              "()"
            ]
          },
          "execution_count": 131,
          "metadata": {},
          "output_type": "execute_result"
        }
      ],
      "source": [
        "tuple()"
      ]
    },
    {
      "cell_type": "code",
      "execution_count": null,
      "id": "88d4e084",
      "metadata": {
        "id": "88d4e084",
        "outputId": "c28b5bb4-ed5c-47ef-8af9-68985ea338ba"
      },
      "outputs": [
        {
          "data": {
            "text/plain": [
              "[]"
            ]
          },
          "execution_count": 132,
          "metadata": {},
          "output_type": "execute_result"
        }
      ],
      "source": [
        "[] and 0"
      ]
    },
    {
      "cell_type": "code",
      "execution_count": null,
      "id": "caf3fa86",
      "metadata": {
        "id": "caf3fa86",
        "outputId": "50c5b01c-a36e-4685-ffd8-007701395091"
      },
      "outputs": [
        {
          "data": {
            "text/plain": [
              "0"
            ]
          },
          "execution_count": 133,
          "metadata": {},
          "output_type": "execute_result"
        }
      ],
      "source": [
        "[] or 0"
      ]
    },
    {
      "cell_type": "code",
      "execution_count": null,
      "id": "4c3b63e9",
      "metadata": {
        "id": "4c3b63e9"
      },
      "outputs": [],
      "source": [
        "# NOT Operaction "
      ]
    },
    {
      "cell_type": "code",
      "execution_count": null,
      "id": "316de54a",
      "metadata": {
        "id": "316de54a",
        "outputId": "36953db7-970b-4178-8a6e-ccb7566b1ef4"
      },
      "outputs": [
        {
          "data": {
            "text/plain": [
              "False"
            ]
          },
          "execution_count": 135,
          "metadata": {},
          "output_type": "execute_result"
        }
      ],
      "source": [
        "not True"
      ]
    },
    {
      "cell_type": "code",
      "execution_count": null,
      "id": "6297004e",
      "metadata": {
        "id": "6297004e",
        "outputId": "3272f4da-c48b-4a04-d7fd-56a5532ef208"
      },
      "outputs": [
        {
          "data": {
            "text/plain": [
              "True"
            ]
          },
          "execution_count": 136,
          "metadata": {},
          "output_type": "execute_result"
        }
      ],
      "source": [
        "not False"
      ]
    },
    {
      "cell_type": "code",
      "execution_count": null,
      "id": "3234b194",
      "metadata": {
        "id": "3234b194",
        "outputId": "55d40a0a-115f-4951-d38b-f2fc963e5aed"
      },
      "outputs": [
        {
          "data": {
            "text/plain": [
              "False"
            ]
          },
          "execution_count": 137,
          "metadata": {},
          "output_type": "execute_result"
        }
      ],
      "source": [
        "not 10"
      ]
    },
    {
      "cell_type": "code",
      "execution_count": null,
      "id": "d7ea927b",
      "metadata": {
        "id": "d7ea927b",
        "outputId": "baf68666-4ba4-4351-de2b-5d9dcca91998"
      },
      "outputs": [
        {
          "data": {
            "text/plain": [
              "True"
            ]
          },
          "execution_count": 138,
          "metadata": {},
          "output_type": "execute_result"
        }
      ],
      "source": [
        "not []"
      ]
    },
    {
      "cell_type": "code",
      "execution_count": null,
      "id": "33d789bf",
      "metadata": {
        "id": "33d789bf"
      },
      "outputs": [],
      "source": [
        "x = 10"
      ]
    },
    {
      "cell_type": "markdown",
      "source": [
        "#### Bitwise operator - Operates on bits (0 and 1)\n",
        "Can be used with binary or integers directly\n",
        "\n",
        "* & - bitwise and\n",
        "* | - bitwise or\n",
        "* ^ - bitwise xor\n",
        "* ~ - bitwise not   # ~x = -(x+1)\n",
        "* << - bitwise left shift,,, >> - bitwise right shift  \n",
        "\n",
        "**&** Bitwise and\n",
        "1. 1 & 1 => 1\n",
        "2. 1 & 0 => 0\n",
        "3. 0 & 1 => 0\n",
        "4. 0 & 0 => 0\n",
        "\n",
        "**|** Bitwise or\n",
        "1. 1 | 1 => 1\n",
        "2. 1 | 0 => 1\n",
        "3. 0 | 1 => 1\n",
        "4. 0 | 0 => 0\n",
        "\n",
        "**^** Bitwise xor\n",
        "1. 1 ^ 1 => 0\n",
        "2. 1 ^ 0 => 1\n",
        "3. 0 ^ 1 => 1\n",
        "4. 0 ^ 0 => 0\n",
        "\n",
        "**~** Bitwise not   # ~x = -(x+1)\n",
        "\n",
        "**<<** Bitwise left shift -->  shifts the bits of 'a' left side 'b' times and adds 'b' 0s on the right side\n",
        "\n",
        "**>>** Bitwise right shift --> shifts the bits of 'a' right side 'b' times  and remove 'b' values on the right side"
      ],
      "metadata": {
        "id": "biU3U_QF-5Iw"
      },
      "id": "biU3U_QF-5Iw"
    },
    {
      "cell_type": "code",
      "source": [
        "b1 = 0b1011\n",
        "print (b1)\n",
        "type(b1)"
      ],
      "metadata": {
        "colab": {
          "base_uri": "https://localhost:8080/"
        },
        "id": "EFrrknW2-8y0",
        "outputId": "bf6ad2a9-58d5-43e0-b0b5-286b2a3ff971"
      },
      "id": "EFrrknW2-8y0",
      "execution_count": null,
      "outputs": [
        {
          "output_type": "stream",
          "name": "stdout",
          "text": [
            "11\n"
          ]
        },
        {
          "output_type": "execute_result",
          "data": {
            "text/plain": [
              "int"
            ]
          },
          "metadata": {},
          "execution_count": 5
        }
      ]
    },
    {
      "cell_type": "code",
      "source": [
        "## Bitwise and Operation\n",
        "b1 = 0b1011     # 1011 & 1010 =  1010  --> 10\n",
        "b2 = 0b1010\n",
        "b1 & b2"
      ],
      "metadata": {
        "colab": {
          "base_uri": "https://localhost:8080/"
        },
        "id": "DzdSW5dAAQsU",
        "outputId": "95598bb5-d00f-438b-a612-34301842b3f9"
      },
      "id": "DzdSW5dAAQsU",
      "execution_count": null,
      "outputs": [
        {
          "output_type": "execute_result",
          "data": {
            "text/plain": [
              "10"
            ]
          },
          "metadata": {},
          "execution_count": 7
        }
      ]
    },
    {
      "cell_type": "code",
      "source": [
        "## Bitwise and Operation\n",
        "a1 = 12 & 13    # 1100  & 1101  = 1100  --> 12\n",
        "print (bin(12))   \n",
        "print (bin(13))\n",
        "print (a1)"
      ],
      "metadata": {
        "colab": {
          "base_uri": "https://localhost:8080/"
        },
        "id": "8P3uFsuHAUBs",
        "outputId": "b68f0db4-b097-4475-89c8-d9e4f2724bf0"
      },
      "id": "8P3uFsuHAUBs",
      "execution_count": null,
      "outputs": [
        {
          "output_type": "stream",
          "name": "stdout",
          "text": [
            "0b1100\n",
            "0b1101\n",
            "12\n"
          ]
        }
      ]
    },
    {
      "cell_type": "code",
      "source": [
        "## Bitwise or\n",
        "b0 = 12 | 14\n",
        "print(bin(12))\n",
        "print(bin(14))\n",
        "print(b0); print(bin(b0))\n"
      ],
      "metadata": {
        "colab": {
          "base_uri": "https://localhost:8080/"
        },
        "id": "OpgyVvtBB5My",
        "outputId": "b22c6598-26f0-4b86-ce8b-cac87267ab9e"
      },
      "id": "OpgyVvtBB5My",
      "execution_count": null,
      "outputs": [
        {
          "output_type": "stream",
          "name": "stdout",
          "text": [
            "0b1100\n",
            "0b1110\n",
            "14\n",
            "0b1110\n"
          ]
        }
      ]
    },
    {
      "cell_type": "code",
      "source": [
        "## Bitwise xor\n",
        "b0 = 12 ^ 14\n",
        "print(bin(12))\n",
        "print(bin(14))\n",
        "print(b0); print(bin(b0))"
      ],
      "metadata": {
        "colab": {
          "base_uri": "https://localhost:8080/"
        },
        "id": "tCY5C08RCaxR",
        "outputId": "7eb2a6f5-0390-43ba-e80a-aa0b91d1e2ff"
      },
      "id": "tCY5C08RCaxR",
      "execution_count": null,
      "outputs": [
        {
          "output_type": "stream",
          "name": "stdout",
          "text": [
            "0b1100\n",
            "0b1110\n",
            "2\n",
            "0b10\n"
          ]
        }
      ]
    },
    {
      "cell_type": "code",
      "source": [
        "## Bitwise not   # ~x = -(x+1)\n",
        "a = ~10\n",
        "print (a)\n",
        "\n",
        "b = ~-10\n",
        "print (b)"
      ],
      "metadata": {
        "colab": {
          "base_uri": "https://localhost:8080/"
        },
        "id": "hIolK81jDZm1",
        "outputId": "0a5abbdf-47b5-4008-8130-aaefeb84de7d"
      },
      "id": "hIolK81jDZm1",
      "execution_count": null,
      "outputs": [
        {
          "output_type": "stream",
          "name": "stdout",
          "text": [
            "-11\n",
            "9\n"
          ]
        }
      ]
    },
    {
      "cell_type": "code",
      "source": [
        "# Bitwise left shift --> shifts the bits of 'a' left side 'b' times and adds 'b' 0s on the right side\n",
        "\n",
        "a= 5 << 1    #101   As b =1 one zero is added to last 1010  \n",
        "print(bin(5))  \n",
        "print(bin(1))\n",
        "print(a)\n",
        "print(bin(a)) "
      ],
      "metadata": {
        "colab": {
          "base_uri": "https://localhost:8080/"
        },
        "id": "3IFNiqJwDslh",
        "outputId": "9f615491-6b86-411d-ffcb-67978269ed67"
      },
      "id": "3IFNiqJwDslh",
      "execution_count": null,
      "outputs": [
        {
          "output_type": "stream",
          "name": "stdout",
          "text": [
            "0b101\n",
            "0b1\n",
            "10\n",
            "0b1010\n"
          ]
        }
      ]
    },
    {
      "cell_type": "code",
      "source": [
        "b= 5 << 2        #101   As b =2 two zero is added to last 10100 \n",
        "print(bin(5))  \n",
        "print(bin(2))\n",
        "print(b)\n",
        "print(bin(b))"
      ],
      "metadata": {
        "colab": {
          "base_uri": "https://localhost:8080/"
        },
        "id": "8l0qD2D3FTNQ",
        "outputId": "383c84a4-489c-4d16-98de-66d426bf6f1b"
      },
      "id": "8l0qD2D3FTNQ",
      "execution_count": null,
      "outputs": [
        {
          "output_type": "stream",
          "name": "stdout",
          "text": [
            "0b101\n",
            "0b10\n",
            "20\n",
            "0b10100\n"
          ]
        }
      ]
    },
    {
      "cell_type": "code",
      "source": [
        "## Bitwise right shift --> shifts the bits of 'a' right side 'b' times  and remove 'b' values on the right side\n",
        "a= 5 >> 1    #101   As b =1 one value is removed to last 10\n",
        "print(bin(5))  \n",
        "print(bin(1))\n",
        "print(a)\n",
        "print(bin(a))"
      ],
      "metadata": {
        "colab": {
          "base_uri": "https://localhost:8080/"
        },
        "id": "MS_vcL3iFqLN",
        "outputId": "ca464952-efbb-497c-a797-bc9607840768"
      },
      "id": "MS_vcL3iFqLN",
      "execution_count": null,
      "outputs": [
        {
          "output_type": "stream",
          "name": "stdout",
          "text": [
            "0b101\n",
            "0b1\n",
            "2\n",
            "0b10\n"
          ]
        }
      ]
    },
    {
      "cell_type": "code",
      "source": [
        "b= 5 >> 2        #101   As b =2 two vale is removed to last 1\n",
        "print(bin(5))  \n",
        "print(bin(2))\n",
        "print(b)\n",
        "print(bin(b))"
      ],
      "metadata": {
        "colab": {
          "base_uri": "https://localhost:8080/"
        },
        "id": "njhR95XvGjNd",
        "outputId": "c565027f-71ef-439e-f57a-5f945ad19e5b"
      },
      "id": "njhR95XvGjNd",
      "execution_count": null,
      "outputs": [
        {
          "output_type": "stream",
          "name": "stdout",
          "text": [
            "0b101\n",
            "0b10\n",
            "1\n",
            "0b1\n"
          ]
        }
      ]
    },
    {
      "cell_type": "markdown",
      "source": [
        "#### Membership operator used to check the membership of an item in an iterable object (list, tuple, dict, str, ...)\n",
        "\n",
        "**in** --> returns True if the item is present in the iterable obj, else returns False"
      ],
      "metadata": {
        "id": "N1g85CB7HOVQ"
      },
      "id": "N1g85CB7HOVQ"
    },
    {
      "cell_type": "code",
      "source": [
        "##in -- Operation\n",
        "l1 = [0, 7, -2, 4, 2, 10]\n",
        "a= 4 in l1\n",
        "b= -3 in l1\n",
        "c= 'hello world'\n",
        "s1 = 'wo' in c\n",
        "s2 = 'd', 'e' in c #--> Wrong way to do in operation \n",
        "s3 = 'd' in c and 'e' in c # True and True => True  --> Right way to do in operation \n",
        "s4 = 'ow' in c\n",
        "s5 = 'hello' in c\n",
        "s6 = '' in c\n",
        "print(a)\n",
        "print(b)\n",
        "print(c)\n",
        "print(s1); print(s2); print(s3); print(s4); print(s5); print(s6)"
      ],
      "metadata": {
        "colab": {
          "base_uri": "https://localhost:8080/"
        },
        "id": "tTMnTeBIHgIN",
        "outputId": "b73deac9-a887-41f6-c743-61e25a8e51af"
      },
      "id": "tTMnTeBIHgIN",
      "execution_count": null,
      "outputs": [
        {
          "output_type": "stream",
          "name": "stdout",
          "text": [
            "True\n",
            "False\n",
            "hello world\n",
            "True\n",
            "('d', True)\n",
            "True\n",
            "False\n",
            "True\n",
            "True\n"
          ]
        }
      ]
    },
    {
      "cell_type": "code",
      "source": [
        "##not in -- Operation\n",
        "l1 = [0, 7, -2, 4, 2, 10]\n",
        "a= 4 not in l1\n",
        "b= -3 not in l1\n",
        "c= 'hello world'\n",
        "s1 = 'wo' not in c\n",
        "s2 = 'd', 'e' not in c #--> Wrong way to do in operation \n",
        "s3 = 'd' in c and 'e' not in c # True and False => False  --> Right way to do in operation \n",
        "s4 = 'ow' not in c\n",
        "s5 = 'hello' not in c\n",
        "s6 = '' not in c\n",
        "print(a)\n",
        "print(b)\n",
        "print(c)\n",
        "print(s1); print(s2); print(s3); print(s4); print(s5); print(s6)"
      ],
      "metadata": {
        "colab": {
          "base_uri": "https://localhost:8080/"
        },
        "id": "yN2uLEoaJaKk",
        "outputId": "9b67097a-cd33-40ac-989c-ff485dc3a0f5"
      },
      "id": "yN2uLEoaJaKk",
      "execution_count": null,
      "outputs": [
        {
          "output_type": "stream",
          "name": "stdout",
          "text": [
            "False\n",
            "True\n",
            "hello world\n",
            "False\n",
            "('d', False)\n",
            "False\n",
            "True\n",
            "False\n",
            "False\n"
          ]
        }
      ]
    },
    {
      "cell_type": "code",
      "source": [
        "set1 = {10, 4, True}\n",
        "print(set1)\n",
        "c1 = 4 in set1\n",
        "print(c1)\n",
        "d1 = {'a': 1, 'b': 2}\n",
        "a = 1 in d1    # in operator for dict checks for key, not value   So False\n",
        "b= 'a' in d1   # in operator for dict checks for key, not value   So True\n",
        "c= d1.values()   # to make value to check\n",
        "d= 1 in d1.values()  # in operator to make value to check   So True\n",
        "print(d1); print(a); print(b); print(c); print(d)\n"
      ],
      "metadata": {
        "colab": {
          "base_uri": "https://localhost:8080/"
        },
        "id": "oX1DwkGWJqMU",
        "outputId": "57e16a5d-c8fb-4cdd-be1f-939c6ad22610"
      },
      "id": "oX1DwkGWJqMU",
      "execution_count": null,
      "outputs": [
        {
          "output_type": "stream",
          "name": "stdout",
          "text": [
            "{True, 10, 4}\n",
            "True\n",
            "{'a': 1, 'b': 2}\n",
            "False\n",
            "True\n",
            "dict_values([1, 2])\n",
            "True\n"
          ]
        }
      ]
    },
    {
      "cell_type": "code",
      "source": [
        "s = {1, 5, 100,0}\n",
        "print(s)\n",
        "a= True in s   #In Set True is consider as 1,  False as 0\n",
        "a= False in s\n",
        "print(a); print(b); print(type(s))\n",
        "\n",
        "t = 1, 5, 100,0\n",
        "print(t)\n",
        "c= True in t   #In Tuple True is consider as 1,  False as 0\n",
        "d= False in t\n",
        "print(c); print(d);print(type(t))\n",
        "\n",
        "l = [1, 5, 100,0]\n",
        "print(l)\n",
        "e= True in l   #In List True is consider as 1,  False as 0\n",
        "f= False in l\n",
        "print(e); print(f);print(type(l))\n",
        "\n",
        "d = {'a': 1, 'b': 2}\n",
        "print(d)\n",
        "g= 1 in d1.values() #In Dict True is consider as 1,  False as 0\n",
        "print(g);print(type(d))\n"
      ],
      "metadata": {
        "colab": {
          "base_uri": "https://localhost:8080/"
        },
        "id": "f9e2S4gXTO0F",
        "outputId": "f9f14eb9-ca4a-4907-acb2-d3c7119137b7"
      },
      "id": "f9e2S4gXTO0F",
      "execution_count": null,
      "outputs": [
        {
          "output_type": "stream",
          "name": "stdout",
          "text": [
            "{0, 1, 100, 5}\n",
            "True\n",
            "True\n",
            "<class 'set'>\n",
            "(1, 5, 100, 0)\n",
            "True\n",
            "True\n",
            "<class 'tuple'>\n",
            "[1, 5, 100, 0]\n",
            "True\n",
            "True\n",
            "<class 'list'>\n",
            "{'a': 1, 'b': 2}\n",
            "True\n",
            "<class 'dict'>\n"
          ]
        }
      ]
    },
    {
      "cell_type": "markdown",
      "source": [
        "#### Identity operator   --> compares the memory addresses of 2 operands\n",
        "* **is**  -->  returns True if the ids/memory addresses of the operands are same else returns False\n",
        "* **is not** --> returns True if the ids/memory addresses of the operands are different, else returns False\n",
        "\n",
        "\n",
        "\n"
      ],
      "metadata": {
        "id": "Wvw_S77hXpsc"
      },
      "id": "Wvw_S77hXpsc"
    },
    {
      "cell_type": "code",
      "source": [
        "a = 2000\n",
        "b = 2000\n",
        "c = a\n",
        "print(id(a)) == print(id(b)) \n",
        "c = a\n",
        "print(id(c))"
      ],
      "metadata": {
        "colab": {
          "base_uri": "https://localhost:8080/"
        },
        "id": "ag23PXaOXxut",
        "outputId": "ae1a7968-0800-483e-fa71-3729ffea6fcd"
      },
      "id": "ag23PXaOXxut",
      "execution_count": null,
      "outputs": [
        {
          "output_type": "stream",
          "name": "stdout",
          "text": [
            "139683242999216\n",
            "139683242983728\n",
            "139683242999216\n"
          ]
        }
      ]
    },
    {
      "cell_type": "code",
      "source": [
        "p1 = a is c   #is --> returns True if the ids/memory addresses of the operands are same else returns False\n",
        "p2 = a is b    #is --> returns True if the ids/memory addresses of the operands are same else returns False\n",
        "print(p1); print(p2)  ## is --> returns True if the ids/memory addresses of the operands are same else returns False\n",
        "\n",
        "p3 = a is not c   #is not --> returns True if the ids/memory addresses of the operands are different, else returns False\n",
        "p4 = a is not b    #is not --> returns True if the ids/memory addresses of the operands are different, else returns False\n",
        "print(p3); print(p4) #is not --> returns True if the ids/memory addresses of the operands are different, else returns False"
      ],
      "metadata": {
        "colab": {
          "base_uri": "https://localhost:8080/"
        },
        "id": "diNB3MW4YcaX",
        "outputId": "f16cf665-d683-4c0d-be2a-4dd4033139ef"
      },
      "id": "diNB3MW4YcaX",
      "execution_count": null,
      "outputs": [
        {
          "output_type": "stream",
          "name": "stdout",
          "text": [
            "True\n",
            "False\n",
            "False\n",
            "True\n"
          ]
        }
      ]
    },
    {
      "cell_type": "markdown",
      "source": [
        "#### **Precedence**  if the expression has more than 1 operator, then Python priorities the order of execution of the operators\n",
        "\n",
        "***Precedence***\n",
        "1. () Parenthesis\n",
        "2. ** Exponentiation\n",
        "3. -,~ Unary minus, Bitwise complement\n",
        "4. *,/,//,% Multiplication, Division, Floor division, Modulus\n",
        "5. +,- Addition, Subtraction\n",
        "6. <<,>> Bitwise left shift, Bitwise right shift\n",
        "7. & Bitwise AND\n",
        "8. ^ Bitwise XOR\n",
        "9. ,| Bitwise OR\n",
        "10. ,>,>=,<,<=,==,!= Relational (comparison) operators\n",
        "11. =,%=,/=,//=,-=, +=,*=,**= Assignment operators\n",
        "12. is,is not Identity operators\n",
        "13. in,not in Membership operators\n",
        "14. not Logical not\n",
        "15. or Logical or\n",
        "16. and Logical and"
      ],
      "metadata": {
        "id": "LzisYCEw7Vgk"
      },
      "id": "LzisYCEw7Vgk"
    },
    {
      "cell_type": "code",
      "source": [
        "10 + 2 * 5"
      ],
      "metadata": {
        "colab": {
          "base_uri": "https://localhost:8080/"
        },
        "id": "bTeKAKeg81aj",
        "outputId": "612c2808-2722-4eb6-8d1f-622c1353a035"
      },
      "id": "bTeKAKeg81aj",
      "execution_count": null,
      "outputs": [
        {
          "output_type": "execute_result",
          "data": {
            "text/plain": [
              "20"
            ]
          },
          "metadata": {},
          "execution_count": 72
        }
      ]
    },
    {
      "cell_type": "code",
      "source": [
        "10 and 20 + 30"
      ],
      "metadata": {
        "colab": {
          "base_uri": "https://localhost:8080/"
        },
        "id": "-F0PAfVB84fd",
        "outputId": "142f3d4c-3501-4d6b-ceee-5f64ec0de952"
      },
      "id": "-F0PAfVB84fd",
      "execution_count": null,
      "outputs": [
        {
          "output_type": "execute_result",
          "data": {
            "text/plain": [
              "50"
            ]
          },
          "metadata": {},
          "execution_count": 73
        }
      ]
    },
    {
      "cell_type": "code",
      "source": [
        "10 or 20 + 30\n",
        "\n",
        "# or first? => 40\n",
        "# + first? => 10"
      ],
      "metadata": {
        "colab": {
          "base_uri": "https://localhost:8080/"
        },
        "id": "aisImGlL880b",
        "outputId": "9ef6e1bc-70bc-45af-812b-af58ba2e7c94"
      },
      "id": "aisImGlL880b",
      "execution_count": null,
      "outputs": [
        {
          "output_type": "execute_result",
          "data": {
            "text/plain": [
              "10"
            ]
          },
          "metadata": {},
          "execution_count": 74
        }
      ]
    },
    {
      "cell_type": "code",
      "source": [
        "10 or 20 + 30 # 10 or 50 => 10"
      ],
      "metadata": {
        "colab": {
          "base_uri": "https://localhost:8080/"
        },
        "id": "2c-rwzl-8Djd",
        "outputId": "275f781b-9cc8-418e-e155-b218c4af611e"
      },
      "id": "2c-rwzl-8Djd",
      "execution_count": null,
      "outputs": [
        {
          "output_type": "execute_result",
          "data": {
            "text/plain": [
              "10"
            ]
          },
          "metadata": {},
          "execution_count": 68
        }
      ]
    },
    {
      "cell_type": "markdown",
      "source": [
        "#### **Associativity** If the precedence of the operators is same, associativity will decide whether the expression --> will be evaluated from left to right or right to left\n",
        "\n",
        "***Operator\tDescription\t  Associativity***\n",
        "1. ( )\tParentheses  \tleft-to-right\n",
        "2. **\tExponent \tright-to-left\n",
        "3. * /  %\tMultiplication/division/modulus\tleft-to-right\n",
        "4. +  –\tAddition/subtraction\tleft-to-right\n",
        "5. <<  >>\tBitwise shift left, Bitwise shift right\tleft-to-right\n",
        "6. <  <=  >  >=\tRelational less than/less than or equal to, Relational greater than/greater  than or equal to\tleft-to-right\n",
        "7. ==  !=\tRelational is equal to/is not equal to\tleft-to-right\n",
        "8. is,  is not, in, not in => left-to-right\n",
        "\n",
        "9. &\tBitwise AND\tleft-to-right\n",
        "10. ^\tBitwise exclusive OR\tleft-to-right\n",
        "11. |\tBitwise inclusive OR\tleft-to-right\n",
        "12. not\tLogical NOT\tright-to-left\n",
        "13. and\tLogical AND\tleft-to-right\n",
        "14. or\tLogical OR\tleft-to-right\n",
        "15.  = \n",
        "16. +=  -= \n",
        "17. *=  /= \n",
        "18. %=  &= \n",
        "19. ^=  |= \n",
        "20. <<=  >>=\tAssignment \n",
        "21. Addition/subtraction assignment \n",
        "22. Multiplication/division assignment \n",
        "23. Modulus/bitwise AND assignment \n",
        "24. Bitwise exclusive/inclusive OR assignment \n",
        "25. Bitwise shift left/right assignment\tright-to-left"
      ],
      "metadata": {
        "id": "obN2HDvu8kcB"
      },
      "id": "obN2HDvu8kcB"
    },
    {
      "cell_type": "code",
      "source": [
        "10 / 10 * 10 \n",
        "# 10 / 10 * 10 => 1.0 * 10\n",
        "# 10 / 10 * 10 => 10 / 100 => 0.1"
      ],
      "metadata": {
        "colab": {
          "base_uri": "https://localhost:8080/"
        },
        "id": "S2HNufJw8S90",
        "outputId": "dcef0f3a-aefa-4096-937b-d710fcaa862b"
      },
      "id": "S2HNufJw8S90",
      "execution_count": null,
      "outputs": [
        {
          "output_type": "execute_result",
          "data": {
            "text/plain": [
              "10.0"
            ]
          },
          "metadata": {},
          "execution_count": 70
        }
      ]
    },
    {
      "cell_type": "code",
      "source": [
        "2 ** 1 ** 3  # 2 ** 1 = 2"
      ],
      "metadata": {
        "colab": {
          "base_uri": "https://localhost:8080/"
        },
        "id": "MKMSHZ2G8cT9",
        "outputId": "aa5022ba-943b-402e-ac59-c9d01a119f33"
      },
      "id": "MKMSHZ2G8cT9",
      "execution_count": null,
      "outputs": [
        {
          "output_type": "execute_result",
          "data": {
            "text/plain": [
              "2"
            ]
          },
          "metadata": {},
          "execution_count": 71
        }
      ]
    }
  ],
  "metadata": {
    "kernelspec": {
      "display_name": "Python 3 (ipykernel)",
      "language": "python",
      "name": "python3"
    },
    "language_info": {
      "codemirror_mode": {
        "name": "ipython",
        "version": 3
      },
      "file_extension": ".py",
      "mimetype": "text/x-python",
      "name": "python",
      "nbconvert_exporter": "python",
      "pygments_lexer": "ipython3",
      "version": "3.9.7"
    },
    "colab": {
      "provenance": [],
      "collapsed_sections": [
        "yXa2kvdzM1Nq",
        "Ak0PsrefNUa4",
        "OpEPkGF0Nl3O",
        "SxUaJ5mIOC_c",
        "ZKCkjdWHO3R0"
      ],
      "include_colab_link": true
    }
  },
  "nbformat": 4,
  "nbformat_minor": 5
}