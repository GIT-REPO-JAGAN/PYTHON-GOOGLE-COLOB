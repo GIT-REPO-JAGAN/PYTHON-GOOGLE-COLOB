{
  "cells": [
    {
      "cell_type": "markdown",
      "metadata": {
        "id": "view-in-github",
        "colab_type": "text"
      },
      "source": [
        "<a href=\"https://colab.research.google.com/github/GIT-REPO-JAGAN/PYTHON-GOOGLE-COLOB/blob/main/C_12Python_Functions.ipynb\" target=\"_parent\"><img src=\"https://colab.research.google.com/assets/colab-badge.svg\" alt=\"Open In Colab\"/></a>"
      ]
    },
    {
      "cell_type": "markdown",
      "source": [
        "#### Functions\n",
        "Block of reusable code which performs a specific task when it is called\n",
        "\n",
        "#### Syntax\n",
        "* def function_name(arg1, arg2, ...., argN):\n",
        "* statement1\n",
        "* statement2\n",
        "* ....\n",
        "* statementN\n"
      ],
      "metadata": {
        "id": "W_TKffp2OalL"
      },
      "id": "W_TKffp2OalL"
    },
    {
      "cell_type": "code",
      "source": [
        "help(print)"
      ],
      "metadata": {
        "colab": {
          "base_uri": "https://localhost:8080/"
        },
        "id": "DFZIJcE0Ocun",
        "outputId": "3c27c1be-6688-489c-d5ba-13d0f3dc0eef"
      },
      "id": "DFZIJcE0Ocun",
      "execution_count": null,
      "outputs": [
        {
          "output_type": "stream",
          "name": "stdout",
          "text": [
            "Help on built-in function print in module builtins:\n",
            "\n",
            "print(...)\n",
            "    print(value, ..., sep=' ', end='\\n', file=sys.stdout, flush=False)\n",
            "    \n",
            "    Prints the values to a stream, or to sys.stdout by default.\n",
            "    Optional keyword arguments:\n",
            "    file:  a file-like object (stream); defaults to the current sys.stdout.\n",
            "    sep:   string inserted between values, default a space.\n",
            "    end:   string appended after the last value, default a newline.\n",
            "    flush: whether to forcibly flush the stream.\n",
            "\n"
          ]
        }
      ]
    },
    {
      "cell_type": "code",
      "source": [
        "num = 7\n",
        "\n",
        "if num % 2 == 0:\n",
        "    print(\"Even number\")\n",
        "else:\n",
        "    print(\"Odd number\")"
      ],
      "metadata": {
        "colab": {
          "base_uri": "https://localhost:8080/"
        },
        "id": "ez_i2EXNOfX6",
        "outputId": "5e0993dd-df2e-40f5-be03-af0f43881721"
      },
      "id": "ez_i2EXNOfX6",
      "execution_count": null,
      "outputs": [
        {
          "output_type": "stream",
          "name": "stdout",
          "text": [
            "Odd number\n"
          ]
        }
      ]
    },
    {
      "cell_type": "code",
      "source": [
        "num = 6\n",
        "\n",
        "if num % 2 == 0:\n",
        "    print(\"Even number\")\n",
        "else:\n",
        "    print(\"Odd number\")"
      ],
      "metadata": {
        "colab": {
          "base_uri": "https://localhost:8080/"
        },
        "id": "35zbNY_dOkVH",
        "outputId": "40166c15-c9dd-4de3-94bc-8435b1b49d5a"
      },
      "id": "35zbNY_dOkVH",
      "execution_count": null,
      "outputs": [
        {
          "output_type": "stream",
          "name": "stdout",
          "text": [
            "Even number\n"
          ]
        }
      ]
    },
    {
      "cell_type": "code",
      "source": [
        "def greet():      # Create a Function\n",
        "    print(\"Hello, how are you?\")"
      ],
      "metadata": {
        "id": "sxuKBr_4Om3g"
      },
      "id": "sxuKBr_4Om3g",
      "execution_count": null,
      "outputs": []
    },
    {
      "cell_type": "code",
      "source": [
        "greet() # Call the function"
      ],
      "metadata": {
        "colab": {
          "base_uri": "https://localhost:8080/"
        },
        "id": "K8fwsaLGOqlr",
        "outputId": "3bafa0be-5c6d-449d-eb3e-0eb606e8db76"
      },
      "id": "K8fwsaLGOqlr",
      "execution_count": null,
      "outputs": [
        {
          "output_type": "stream",
          "name": "stdout",
          "text": [
            "Hello, how are you?\n"
          ]
        }
      ]
    },
    {
      "cell_type": "code",
      "source": [
        "def greet_person(name):  # Create a calling Function\n",
        "    print(f\"Hello {name}, how are you??\")"
      ],
      "metadata": {
        "id": "1pMNPEY6OzPr"
      },
      "id": "1pMNPEY6OzPr",
      "execution_count": null,
      "outputs": []
    },
    {
      "cell_type": "code",
      "source": [
        "help(len)"
      ],
      "metadata": {
        "colab": {
          "base_uri": "https://localhost:8080/"
        },
        "id": "VgYu1eOnO1ue",
        "outputId": "38372aa3-18e4-4d66-da47-1269b34ab87a"
      },
      "id": "VgYu1eOnO1ue",
      "execution_count": null,
      "outputs": [
        {
          "output_type": "stream",
          "name": "stdout",
          "text": [
            "Help on built-in function len in module builtins:\n",
            "\n",
            "len(obj, /)\n",
            "    Return the number of items in a container.\n",
            "\n"
          ]
        }
      ]
    },
    {
      "cell_type": "code",
      "source": [
        "l1 = [1,2,3,4]"
      ],
      "metadata": {
        "id": "NHYTIJ0sO3Ax"
      },
      "id": "NHYTIJ0sO3Ax",
      "execution_count": null,
      "outputs": []
    },
    {
      "cell_type": "code",
      "source": [
        "len(l1)"
      ],
      "metadata": {
        "colab": {
          "base_uri": "https://localhost:8080/"
        },
        "id": "LOp5TaBIO7wp",
        "outputId": "45ddf2cc-a034-4ad0-a96a-96779c781710"
      },
      "id": "LOp5TaBIO7wp",
      "execution_count": null,
      "outputs": [
        {
          "output_type": "execute_result",
          "data": {
            "text/plain": [
              "4"
            ]
          },
          "metadata": {},
          "execution_count": 9
        }
      ]
    },
    {
      "cell_type": "code",
      "source": [
        "len()"
      ],
      "metadata": {
        "colab": {
          "base_uri": "https://localhost:8080/",
          "height": 171
        },
        "id": "F7xBU1DRO-jH",
        "outputId": "23458cde-1d5f-489b-a2af-484ee233a530"
      },
      "id": "F7xBU1DRO-jH",
      "execution_count": null,
      "outputs": [
        {
          "output_type": "error",
          "ename": "TypeError",
          "evalue": "ignored",
          "traceback": [
            "\u001b[0;31m---------------------------------------------------------------------------\u001b[0m",
            "\u001b[0;31mTypeError\u001b[0m                                 Traceback (most recent call last)",
            "\u001b[0;32m<ipython-input-11-adf3103c7c3e>\u001b[0m in \u001b[0;36m<cell line: 1>\u001b[0;34m()\u001b[0m\n\u001b[0;32m----> 1\u001b[0;31m \u001b[0mlen\u001b[0m\u001b[0;34m(\u001b[0m\u001b[0;34m)\u001b[0m\u001b[0;34m\u001b[0m\u001b[0;34m\u001b[0m\u001b[0m\n\u001b[0m",
            "\u001b[0;31mTypeError\u001b[0m: len() takes exactly one argument (0 given)"
          ]
        }
      ]
    },
    {
      "cell_type": "code",
      "source": [
        "greet_person()"
      ],
      "metadata": {
        "colab": {
          "base_uri": "https://localhost:8080/",
          "height": 171
        },
        "id": "ZAdLtgwUPCBc",
        "outputId": "5f8b1e87-0b6f-44c3-a4b4-1451eff1520b"
      },
      "id": "ZAdLtgwUPCBc",
      "execution_count": null,
      "outputs": [
        {
          "output_type": "error",
          "ename": "TypeError",
          "evalue": "ignored",
          "traceback": [
            "\u001b[0;31m---------------------------------------------------------------------------\u001b[0m",
            "\u001b[0;31mTypeError\u001b[0m                                 Traceback (most recent call last)",
            "\u001b[0;32m<ipython-input-12-be963525615a>\u001b[0m in \u001b[0;36m<cell line: 1>\u001b[0;34m()\u001b[0m\n\u001b[0;32m----> 1\u001b[0;31m \u001b[0mgreet_person\u001b[0m\u001b[0;34m(\u001b[0m\u001b[0;34m)\u001b[0m\u001b[0;34m\u001b[0m\u001b[0;34m\u001b[0m\u001b[0m\n\u001b[0m",
            "\u001b[0;31mTypeError\u001b[0m: greet_person() missing 1 required positional argument: 'name'"
          ]
        }
      ]
    },
    {
      "cell_type": "code",
      "source": [
        "greet_person(\"John\") # Call the function with name/value"
      ],
      "metadata": {
        "colab": {
          "base_uri": "https://localhost:8080/"
        },
        "id": "OV0EW6hmPDZr",
        "outputId": "d8a5640b-ebff-4507-aa7a-92999fe8cbcf"
      },
      "id": "OV0EW6hmPDZr",
      "execution_count": null,
      "outputs": [
        {
          "output_type": "stream",
          "name": "stdout",
          "text": [
            "Hello John, how are you??\n"
          ]
        }
      ]
    },
    {
      "cell_type": "code",
      "source": [
        "greet_person(\"Jill\")"
      ],
      "metadata": {
        "colab": {
          "base_uri": "https://localhost:8080/"
        },
        "id": "Uxk0zMlvPIDU",
        "outputId": "02d6b1c8-406e-4b5d-f8e0-2563e0d03d0b"
      },
      "id": "Uxk0zMlvPIDU",
      "execution_count": null,
      "outputs": [
        {
          "output_type": "stream",
          "name": "stdout",
          "text": [
            "Hello Jill, how are you??\n"
          ]
        }
      ]
    },
    {
      "cell_type": "code",
      "source": [
        "help(greet_person)"
      ],
      "metadata": {
        "colab": {
          "base_uri": "https://localhost:8080/"
        },
        "id": "yinRZJ8aPLZn",
        "outputId": "f3230c40-a482-4ecd-dbb6-4a6ea0f05e63"
      },
      "id": "yinRZJ8aPLZn",
      "execution_count": null,
      "outputs": [
        {
          "output_type": "stream",
          "name": "stdout",
          "text": [
            "Help on function greet_person in module __main__:\n",
            "\n",
            "greet_person(name)\n",
            "\n"
          ]
        }
      ]
    },
    {
      "cell_type": "markdown",
      "source": [
        "#### Docstring\n",
        "\n",
        "Defining a description about a created function for others to read"
      ],
      "metadata": {
        "id": "Ui4uEaohPO9q"
      },
      "id": "Ui4uEaohPO9q"
    },
    {
      "cell_type": "code",
      "source": [
        "def greet_person(name):\n",
        "    \"\"\"\n",
        "    name: Name of the person whom you want to greet\n",
        "    Prints the greeting message: Hello <name>, how are you?\n",
        "    \"\"\"\n",
        "    print(f\"Hello {name}, how are you??\")"
      ],
      "metadata": {
        "id": "6RenDQesPQq2"
      },
      "id": "6RenDQesPQq2",
      "execution_count": null,
      "outputs": []
    },
    {
      "cell_type": "code",
      "source": [
        "help(greet_person)"
      ],
      "metadata": {
        "colab": {
          "base_uri": "https://localhost:8080/"
        },
        "id": "Gur7WAcBPXHU",
        "outputId": "448451f9-0841-4cc0-d6b1-4405d1ba3643"
      },
      "id": "Gur7WAcBPXHU",
      "execution_count": null,
      "outputs": [
        {
          "output_type": "stream",
          "name": "stdout",
          "text": [
            "Help on function greet_person in module __main__:\n",
            "\n",
            "greet_person(name)\n",
            "    name: Name of the person whom you want to greet\n",
            "    Prints the greeting message: Hello <name>, how are you?\n",
            "\n"
          ]
        }
      ]
    },
    {
      "cell_type": "code",
      "source": [
        "def greet_person(name):\n",
        "\"\"\"\n",
        "name: Name of the person whom you want to greet\n",
        "Prints the greeting message: Hello <name>, how are you?\n",
        "\"\"\"\n",
        "    print(f\"Hello {name}, how are you??\")"
      ],
      "metadata": {
        "colab": {
          "base_uri": "https://localhost:8080/",
          "height": 135
        },
        "id": "J0SMwrGCPkdu",
        "outputId": "38df5f10-8972-47b7-d8c8-cca01df9a069"
      },
      "id": "J0SMwrGCPkdu",
      "execution_count": null,
      "outputs": [
        {
          "output_type": "error",
          "ename": "IndentationError",
          "evalue": "ignored",
          "traceback": [
            "\u001b[0;36m  File \u001b[0;32m\"<ipython-input-18-cb067dfe7c3e>\"\u001b[0;36m, line \u001b[0;32m2\u001b[0m\n\u001b[0;31m    \"\"\"\u001b[0m\n\u001b[0m    ^\u001b[0m\n\u001b[0;31mIndentationError\u001b[0m\u001b[0;31m:\u001b[0m expected an indented block after function definition on line 1\n"
          ]
        }
      ]
    },
    {
      "cell_type": "code",
      "source": [
        "def greet_person(name):\n",
        "    print(f\"Hello {name}, how are you??\")\n",
        "    \"\"\"\n",
        "    name: Name of the person whom you want to greet\n",
        "    Prints the greeting message: Hello <name>, how are you?\n",
        "    \"\"\""
      ],
      "metadata": {
        "id": "-aRij205Popo"
      },
      "id": "-aRij205Popo",
      "execution_count": null,
      "outputs": []
    },
    {
      "cell_type": "code",
      "source": [
        "help(greet_person)"
      ],
      "metadata": {
        "colab": {
          "base_uri": "https://localhost:8080/"
        },
        "id": "K0cRL9zXPrsX",
        "outputId": "b5ace2af-9c3c-4a38-bda2-0e09522b8e28"
      },
      "id": "K0cRL9zXPrsX",
      "execution_count": null,
      "outputs": [
        {
          "output_type": "stream",
          "name": "stdout",
          "text": [
            "Help on function greet_person in module __main__:\n",
            "\n",
            "greet_person(name)\n",
            "\n"
          ]
        }
      ]
    },
    {
      "cell_type": "code",
      "source": [
        "def even_odd(number):\n",
        "    if number % 2 == 0:\n",
        "        print(\"Even number\")\n",
        "    else:\n",
        "        print(\"Odd number\")"
      ],
      "metadata": {
        "id": "4EP1zj7xPjVR"
      },
      "id": "4EP1zj7xPjVR",
      "execution_count": null,
      "outputs": []
    },
    {
      "cell_type": "code",
      "source": [
        "even_odd(10)"
      ],
      "metadata": {
        "colab": {
          "base_uri": "https://localhost:8080/"
        },
        "id": "ibVyXoYhQp2T",
        "outputId": "2f3788fe-63de-4fd9-a6b2-05f36a9f2a6c"
      },
      "id": "ibVyXoYhQp2T",
      "execution_count": null,
      "outputs": [
        {
          "output_type": "stream",
          "name": "stdout",
          "text": [
            "Even number\n"
          ]
        }
      ]
    },
    {
      "cell_type": "code",
      "source": [
        "even_odd('hi')"
      ],
      "metadata": {
        "colab": {
          "base_uri": "https://localhost:8080/",
          "height": 299
        },
        "id": "DmIRtH01QsnW",
        "outputId": "b3e48925-8892-4581-b750-68bc0811ed96"
      },
      "id": "DmIRtH01QsnW",
      "execution_count": null,
      "outputs": [
        {
          "output_type": "error",
          "ename": "TypeError",
          "evalue": "ignored",
          "traceback": [
            "\u001b[0;31m---------------------------------------------------------------------------\u001b[0m",
            "\u001b[0;31mTypeError\u001b[0m                                 Traceback (most recent call last)",
            "\u001b[0;32m<ipython-input-24-d970e1f7bbc3>\u001b[0m in \u001b[0;36m<cell line: 1>\u001b[0;34m()\u001b[0m\n\u001b[0;32m----> 1\u001b[0;31m \u001b[0meven_odd\u001b[0m\u001b[0;34m(\u001b[0m\u001b[0;34m'hi'\u001b[0m\u001b[0;34m)\u001b[0m\u001b[0;34m\u001b[0m\u001b[0;34m\u001b[0m\u001b[0m\n\u001b[0m",
            "\u001b[0;32m<ipython-input-22-fe3eb929af83>\u001b[0m in \u001b[0;36meven_odd\u001b[0;34m(number)\u001b[0m\n\u001b[1;32m      1\u001b[0m \u001b[0;32mdef\u001b[0m \u001b[0meven_odd\u001b[0m\u001b[0;34m(\u001b[0m\u001b[0mnumber\u001b[0m\u001b[0;34m)\u001b[0m\u001b[0;34m:\u001b[0m\u001b[0;34m\u001b[0m\u001b[0;34m\u001b[0m\u001b[0m\n\u001b[0;32m----> 2\u001b[0;31m     \u001b[0;32mif\u001b[0m \u001b[0mnumber\u001b[0m \u001b[0;34m%\u001b[0m \u001b[0;36m2\u001b[0m \u001b[0;34m==\u001b[0m \u001b[0;36m0\u001b[0m\u001b[0;34m:\u001b[0m\u001b[0;34m\u001b[0m\u001b[0;34m\u001b[0m\u001b[0m\n\u001b[0m\u001b[1;32m      3\u001b[0m         \u001b[0mprint\u001b[0m\u001b[0;34m(\u001b[0m\u001b[0;34m\"Even number\"\u001b[0m\u001b[0;34m)\u001b[0m\u001b[0;34m\u001b[0m\u001b[0;34m\u001b[0m\u001b[0m\n\u001b[1;32m      4\u001b[0m     \u001b[0;32melse\u001b[0m\u001b[0;34m:\u001b[0m\u001b[0;34m\u001b[0m\u001b[0;34m\u001b[0m\u001b[0m\n\u001b[1;32m      5\u001b[0m         \u001b[0mprint\u001b[0m\u001b[0;34m(\u001b[0m\u001b[0;34m\"Odd number\"\u001b[0m\u001b[0;34m)\u001b[0m\u001b[0;34m\u001b[0m\u001b[0;34m\u001b[0m\u001b[0m\n",
            "\u001b[0;31mTypeError\u001b[0m: not all arguments converted during string formatting"
          ]
        }
      ]
    },
    {
      "cell_type": "code",
      "source": [
        "a = 100"
      ],
      "metadata": {
        "id": "CBS_26T3QvVD"
      },
      "id": "CBS_26T3QvVD",
      "execution_count": null,
      "outputs": []
    },
    {
      "cell_type": "code",
      "source": [
        "isinstance(a, int)"
      ],
      "metadata": {
        "colab": {
          "base_uri": "https://localhost:8080/"
        },
        "id": "lx8d6J-TPjpV",
        "outputId": "6ba35a27-f1a1-44f6-bbe2-051fbbce3eed"
      },
      "id": "lx8d6J-TPjpV",
      "execution_count": null,
      "outputs": [
        {
          "output_type": "execute_result",
          "data": {
            "text/plain": [
              "True"
            ]
          },
          "metadata": {},
          "execution_count": 26
        }
      ]
    },
    {
      "cell_type": "code",
      "source": [
        "isinstance(a, str)"
      ],
      "metadata": {
        "id": "14KBo6w3Qy4G"
      },
      "id": "14KBo6w3Qy4G",
      "execution_count": null,
      "outputs": []
    },
    {
      "cell_type": "code",
      "source": [
        "isinstance(a, float)"
      ],
      "metadata": {
        "id": "XX8zr5WyQzFb"
      },
      "id": "XX8zr5WyQzFb",
      "execution_count": null,
      "outputs": []
    },
    {
      "cell_type": "code",
      "source": [
        "def even_odd(number):\n",
        "    if isinstance(number, int):\n",
        "        if number % 2 == 0:\n",
        "            print(\"Even number\")\n",
        "        else:\n",
        "            print(\"Odd number\")\n",
        "    else:\n",
        "        print(\"Invalid argument: number\")"
      ],
      "metadata": {
        "id": "h9G4uEEgQ5O-"
      },
      "id": "h9G4uEEgQ5O-",
      "execution_count": null,
      "outputs": []
    },
    {
      "cell_type": "code",
      "source": [
        "even_odd( 'hi')"
      ],
      "metadata": {
        "colab": {
          "base_uri": "https://localhost:8080/"
        },
        "id": "KCcBoJ1EQzQ7",
        "outputId": "aceed8f7-23a3-4044-da44-71bfc2c26545"
      },
      "id": "KCcBoJ1EQzQ7",
      "execution_count": null,
      "outputs": [
        {
          "output_type": "stream",
          "name": "stdout",
          "text": [
            "Invalid argument: number\n"
          ]
        }
      ]
    },
    {
      "cell_type": "code",
      "source": [
        "def even_odd(number):\n",
        "    \"\"\"\n",
        "    Prints if the integer if an odd number or even number\n",
        "    number: integer to be checked if its odd/even\n",
        "    \"\"\"\n",
        "    if isinstance(number, int):\n",
        "        if number % 2 == 0:\n",
        "            print(\"Even number\")\n",
        "        else:\n",
        "            print(\"Odd number\")\n",
        "    else:\n",
        "        print(\"Invalid argument: number\")"
      ],
      "metadata": {
        "id": "Y3Nkr94vQzT3"
      },
      "id": "Y3Nkr94vQzT3",
      "execution_count": null,
      "outputs": []
    },
    {
      "cell_type": "code",
      "source": [
        "help(even_odd)"
      ],
      "metadata": {
        "colab": {
          "base_uri": "https://localhost:8080/"
        },
        "id": "SzvSDyNCQ9IV",
        "outputId": "8d79d499-7c39-45a2-e100-af6ba6701f51"
      },
      "id": "SzvSDyNCQ9IV",
      "execution_count": null,
      "outputs": [
        {
          "output_type": "stream",
          "name": "stdout",
          "text": [
            "Help on function even_odd in module __main__:\n",
            "\n",
            "even_odd(number)\n",
            "    Prints if the integer if an odd number or even number\n",
            "    number: integer to be checked if its odd/even\n",
            "\n"
          ]
        }
      ]
    },
    {
      "cell_type": "code",
      "source": [
        "even_odd(67.5)"
      ],
      "metadata": {
        "colab": {
          "base_uri": "https://localhost:8080/"
        },
        "id": "w-0nvyZXQ9LW",
        "outputId": "71153c27-77d3-41f6-8e0b-de25bf1fe493"
      },
      "id": "w-0nvyZXQ9LW",
      "execution_count": null,
      "outputs": [
        {
          "output_type": "stream",
          "name": "stdout",
          "text": [
            "Invalid argument: number\n"
          ]
        }
      ]
    },
    {
      "cell_type": "code",
      "execution_count": null,
      "id": "a381d3a2",
      "metadata": {
        "id": "a381d3a2"
      },
      "outputs": [],
      "source": [
        "def even_odd(num):\n",
        "    if num % 2 == 0:\n",
        "        print(\"Even\")\n",
        "    else:\n",
        "        print(\"Odd\")"
      ]
    },
    {
      "cell_type": "code",
      "execution_count": null,
      "id": "9541d390",
      "metadata": {
        "id": "9541d390",
        "outputId": "1283e464-7a6b-4799-cfe4-15919fa78d91",
        "colab": {
          "base_uri": "https://localhost:8080/"
        }
      },
      "outputs": [
        {
          "output_type": "stream",
          "name": "stdout",
          "text": [
            "Even\n"
          ]
        }
      ],
      "source": [
        "even_odd(10)"
      ]
    },
    {
      "cell_type": "code",
      "execution_count": null,
      "id": "f006b7f7",
      "metadata": {
        "id": "f006b7f7",
        "outputId": "45c6bf0e-1cce-477e-cc18-ad4a31b0ebbb",
        "colab": {
          "base_uri": "https://localhost:8080/"
        }
      },
      "outputs": [
        {
          "output_type": "stream",
          "name": "stdout",
          "text": [
            "Odd\n"
          ]
        }
      ],
      "source": [
        "even_odd(15)"
      ]
    },
    {
      "cell_type": "code",
      "execution_count": null,
      "id": "57ebbf7a",
      "metadata": {
        "id": "57ebbf7a"
      },
      "outputs": [],
      "source": [
        "str1 = 'hello'"
      ]
    },
    {
      "cell_type": "code",
      "execution_count": null,
      "id": "37ca5542",
      "metadata": {
        "id": "37ca5542",
        "outputId": "2f2af573-d798-4427-f235-b2368cf8127b",
        "colab": {
          "base_uri": "https://localhost:8080/"
        }
      },
      "outputs": [
        {
          "output_type": "execute_result",
          "data": {
            "text/plain": [
              "5"
            ]
          },
          "metadata": {},
          "execution_count": 37
        }
      ],
      "source": [
        "len(str1)"
      ]
    },
    {
      "cell_type": "code",
      "execution_count": null,
      "id": "4b9a4bae",
      "metadata": {
        "id": "4b9a4bae"
      },
      "outputs": [],
      "source": [
        "n = len(str1)"
      ]
    },
    {
      "cell_type": "code",
      "execution_count": null,
      "id": "c4919876",
      "metadata": {
        "id": "c4919876",
        "outputId": "a17ec6a8-0333-4e1d-ca93-e6af29f8a155",
        "colab": {
          "base_uri": "https://localhost:8080/"
        }
      },
      "outputs": [
        {
          "output_type": "execute_result",
          "data": {
            "text/plain": [
              "5"
            ]
          },
          "metadata": {},
          "execution_count": 39
        }
      ],
      "source": [
        "n"
      ]
    },
    {
      "cell_type": "code",
      "execution_count": null,
      "id": "00128f48",
      "metadata": {
        "id": "00128f48",
        "outputId": "557ea2df-7d7e-4fc3-d540-3f9de1dc0688",
        "colab": {
          "base_uri": "https://localhost:8080/"
        }
      },
      "outputs": [
        {
          "output_type": "stream",
          "name": "stdout",
          "text": [
            "Help on built-in function len in module builtins:\n",
            "\n",
            "len(obj, /)\n",
            "    Return the number of items in a container.\n",
            "\n"
          ]
        }
      ],
      "source": [
        "help(len)"
      ]
    },
    {
      "cell_type": "code",
      "execution_count": null,
      "id": "41eb8253",
      "metadata": {
        "id": "41eb8253",
        "outputId": "d308af75-5175-4a42-e247-7fe206f2faf5",
        "colab": {
          "base_uri": "https://localhost:8080/"
        }
      },
      "outputs": [
        {
          "output_type": "stream",
          "name": "stdout",
          "text": [
            "10\n"
          ]
        }
      ],
      "source": [
        "value = print(10)"
      ]
    },
    {
      "cell_type": "code",
      "execution_count": null,
      "id": "4752922f",
      "metadata": {
        "id": "4752922f",
        "outputId": "0070bcf1-083e-4ed1-81d0-0ff82bb008ee",
        "colab": {
          "base_uri": "https://localhost:8080/"
        }
      },
      "outputs": [
        {
          "output_type": "stream",
          "name": "stdout",
          "text": [
            "Help on built-in function print in module builtins:\n",
            "\n",
            "print(...)\n",
            "    print(value, ..., sep=' ', end='\\n', file=sys.stdout, flush=False)\n",
            "    \n",
            "    Prints the values to a stream, or to sys.stdout by default.\n",
            "    Optional keyword arguments:\n",
            "    file:  a file-like object (stream); defaults to the current sys.stdout.\n",
            "    sep:   string inserted between values, default a space.\n",
            "    end:   string appended after the last value, default a newline.\n",
            "    flush: whether to forcibly flush the stream.\n",
            "\n"
          ]
        }
      ],
      "source": [
        "help(print)"
      ]
    },
    {
      "cell_type": "code",
      "execution_count": null,
      "id": "326ae32c",
      "metadata": {
        "id": "326ae32c",
        "outputId": "3da8d8cd-deb4-4b36-c258-59a9be85efec",
        "colab": {
          "base_uri": "https://localhost:8080/"
        }
      },
      "outputs": [
        {
          "output_type": "stream",
          "name": "stdout",
          "text": [
            "None\n"
          ]
        }
      ],
      "source": [
        "print(value)"
      ]
    },
    {
      "cell_type": "code",
      "execution_count": null,
      "id": "fb360936",
      "metadata": {
        "id": "fb360936"
      },
      "outputs": [],
      "source": [
        "l1 = [10, 20, 30]"
      ]
    },
    {
      "cell_type": "code",
      "execution_count": null,
      "id": "c035db53",
      "metadata": {
        "id": "c035db53",
        "outputId": "a4bf09e0-4ca6-49bc-ea1a-7dd3cf316e89",
        "colab": {
          "base_uri": "https://localhost:8080/"
        }
      },
      "outputs": [
        {
          "output_type": "execute_result",
          "data": {
            "text/plain": [
              "[10, 20, 30]"
            ]
          },
          "metadata": {},
          "execution_count": 45
        }
      ],
      "source": [
        "l1"
      ]
    },
    {
      "cell_type": "code",
      "execution_count": null,
      "id": "e18a9134",
      "metadata": {
        "id": "e18a9134",
        "outputId": "76bc96d0-b18c-4ab3-a657-40ad331e5b3e",
        "colab": {
          "base_uri": "https://localhost:8080/"
        }
      },
      "outputs": [
        {
          "output_type": "execute_result",
          "data": {
            "text/plain": [
              "list"
            ]
          },
          "metadata": {},
          "execution_count": 46
        }
      ],
      "source": [
        "type(l1)"
      ]
    },
    {
      "cell_type": "code",
      "execution_count": null,
      "id": "8c9c9609",
      "metadata": {
        "id": "8c9c9609"
      },
      "outputs": [],
      "source": [
        "val1 = l1.append(100)"
      ]
    },
    {
      "cell_type": "code",
      "execution_count": null,
      "id": "1ab9cd1a",
      "metadata": {
        "id": "1ab9cd1a",
        "outputId": "54a4d0fe-a804-46eb-d555-f1878b5c1183",
        "colab": {
          "base_uri": "https://localhost:8080/"
        }
      },
      "outputs": [
        {
          "output_type": "execute_result",
          "data": {
            "text/plain": [
              "[10, 20, 30, 100]"
            ]
          },
          "metadata": {},
          "execution_count": 48
        }
      ],
      "source": [
        "l1"
      ]
    },
    {
      "cell_type": "code",
      "execution_count": null,
      "id": "63fbb18a",
      "metadata": {
        "id": "63fbb18a",
        "outputId": "ee2f4fea-1604-4672-af5f-b0e5f8be5c3f",
        "colab": {
          "base_uri": "https://localhost:8080/"
        }
      },
      "outputs": [
        {
          "output_type": "stream",
          "name": "stdout",
          "text": [
            "None\n"
          ]
        }
      ],
      "source": [
        "print(val1)"
      ]
    },
    {
      "cell_type": "code",
      "execution_count": null,
      "id": "2e2de892",
      "metadata": {
        "id": "2e2de892",
        "outputId": "19463dbe-6a4b-42e3-af52-28d78edc2906",
        "colab": {
          "base_uri": "https://localhost:8080/"
        }
      },
      "outputs": [
        {
          "output_type": "stream",
          "name": "stdout",
          "text": [
            "Help on built-in function append:\n",
            "\n",
            "append(object, /) method of builtins.list instance\n",
            "    Append object to the end of the list.\n",
            "\n"
          ]
        }
      ],
      "source": [
        "help(l1.append)"
      ]
    },
    {
      "cell_type": "code",
      "execution_count": null,
      "id": "4460fdbe",
      "metadata": {
        "id": "4460fdbe",
        "outputId": "807520fe-e0f9-4e8a-c017-cf55ef3bfede",
        "colab": {
          "base_uri": "https://localhost:8080/"
        }
      },
      "outputs": [
        {
          "output_type": "stream",
          "name": "stdout",
          "text": [
            "Help on built-in function pop:\n",
            "\n",
            "pop(index=-1, /) method of builtins.list instance\n",
            "    Remove and return item at index (default last).\n",
            "    \n",
            "    Raises IndexError if list is empty or index is out of range.\n",
            "\n"
          ]
        }
      ],
      "source": [
        "help(l1.pop)"
      ]
    },
    {
      "cell_type": "code",
      "execution_count": null,
      "id": "c7ed88af",
      "metadata": {
        "id": "c7ed88af",
        "outputId": "09e0b2ca-d986-4b4c-be22-6ce142fb56e3",
        "colab": {
          "base_uri": "https://localhost:8080/"
        }
      },
      "outputs": [
        {
          "output_type": "execute_result",
          "data": {
            "text/plain": [
              "[10, 20, 30, 100]"
            ]
          },
          "metadata": {},
          "execution_count": 52
        }
      ],
      "source": [
        "l1"
      ]
    },
    {
      "cell_type": "code",
      "execution_count": null,
      "id": "765a3611",
      "metadata": {
        "id": "765a3611"
      },
      "outputs": [],
      "source": [
        "val2 = l1.pop(1)"
      ]
    },
    {
      "cell_type": "code",
      "execution_count": null,
      "id": "33893631",
      "metadata": {
        "id": "33893631",
        "outputId": "fc99ab08-3db4-40ce-d56f-6df5a17cde9e",
        "colab": {
          "base_uri": "https://localhost:8080/"
        }
      },
      "outputs": [
        {
          "output_type": "stream",
          "name": "stdout",
          "text": [
            "20\n"
          ]
        }
      ],
      "source": [
        "print(val2)"
      ]
    },
    {
      "cell_type": "code",
      "execution_count": null,
      "id": "2f2a85b1",
      "metadata": {
        "id": "2f2a85b1",
        "outputId": "9e3a7129-fe1f-4f3a-a976-b8624fd46dbe",
        "colab": {
          "base_uri": "https://localhost:8080/"
        }
      },
      "outputs": [
        {
          "output_type": "stream",
          "name": "stdout",
          "text": [
            "Even\n"
          ]
        }
      ],
      "source": [
        "val3 = even_odd(10)"
      ]
    },
    {
      "cell_type": "code",
      "execution_count": null,
      "id": "bdf430e4",
      "metadata": {
        "id": "bdf430e4",
        "outputId": "a134f353-78cd-4b16-c1f6-05f6f5da2acb",
        "colab": {
          "base_uri": "https://localhost:8080/"
        }
      },
      "outputs": [
        {
          "output_type": "stream",
          "name": "stdout",
          "text": [
            "None\n"
          ]
        }
      ],
      "source": [
        "print(val3)"
      ]
    },
    {
      "cell_type": "code",
      "execution_count": null,
      "id": "d229acf0",
      "metadata": {
        "id": "d229acf0"
      },
      "outputs": [],
      "source": []
    },
    {
      "cell_type": "markdown",
      "source": [
        "#### function even_odd() is not returning anything!\n",
        "Make funstion to return a value\n"
      ],
      "metadata": {
        "id": "vRvYw166SVBT"
      },
      "id": "vRvYw166SVBT"
    },
    {
      "cell_type": "code",
      "execution_count": null,
      "id": "64cae037",
      "metadata": {
        "id": "64cae037"
      },
      "outputs": [],
      "source": [
        "def even_odd(num):\n",
        "    if num % 2 == 0:\n",
        "        return \"Even\"\n",
        "    else:\n",
        "        return \"Odd\""
      ]
    },
    {
      "cell_type": "code",
      "execution_count": null,
      "id": "adfba506",
      "metadata": {
        "id": "adfba506"
      },
      "outputs": [],
      "source": [
        "val4 = even_odd(20)"
      ]
    },
    {
      "cell_type": "code",
      "execution_count": null,
      "id": "d1784b76",
      "metadata": {
        "id": "d1784b76",
        "outputId": "0d784a26-2953-461a-80ff-1abfaef20cf4",
        "colab": {
          "base_uri": "https://localhost:8080/"
        }
      },
      "outputs": [
        {
          "output_type": "stream",
          "name": "stdout",
          "text": [
            "Even\n"
          ]
        }
      ],
      "source": [
        "print(val4)"
      ]
    },
    {
      "cell_type": "code",
      "execution_count": null,
      "id": "848b8f2f",
      "metadata": {
        "id": "848b8f2f",
        "outputId": "a41fb565-855f-42c5-9966-a8a0b118e1f1",
        "colab": {
          "base_uri": "https://localhost:8080/"
        }
      },
      "outputs": [
        {
          "output_type": "stream",
          "name": "stdout",
          "text": [
            "Odd\n"
          ]
        }
      ],
      "source": [
        "print(even_odd(21))"
      ]
    },
    {
      "cell_type": "code",
      "execution_count": null,
      "id": "dc10dbe3",
      "metadata": {
        "id": "dc10dbe3",
        "outputId": "a42c761d-6fb9-4dbd-d433-206827d6fcbd",
        "colab": {
          "base_uri": "https://localhost:8080/"
        }
      },
      "outputs": [
        {
          "output_type": "execute_result",
          "data": {
            "text/plain": [
              "140497374850992"
            ]
          },
          "metadata": {},
          "execution_count": 62
        }
      ],
      "source": [
        "id(val4)"
      ]
    },
    {
      "cell_type": "code",
      "execution_count": null,
      "id": "4947b96d",
      "metadata": {
        "id": "4947b96d"
      },
      "outputs": [],
      "source": [
        "s1 = 'Even'"
      ]
    },
    {
      "cell_type": "code",
      "execution_count": null,
      "id": "a33cc4c3",
      "metadata": {
        "id": "a33cc4c3",
        "outputId": "cedafc95-cccd-45f5-bd72-bda59241fa62",
        "colab": {
          "base_uri": "https://localhost:8080/"
        }
      },
      "outputs": [
        {
          "output_type": "execute_result",
          "data": {
            "text/plain": [
              "140497374850992"
            ]
          },
          "metadata": {},
          "execution_count": 64
        }
      ],
      "source": [
        "id(s1)"
      ]
    },
    {
      "cell_type": "code",
      "execution_count": null,
      "id": "5168b343",
      "metadata": {
        "id": "5168b343"
      },
      "outputs": [],
      "source": [
        "def is_even(num):\n",
        "    if num % 2 == 0:\n",
        "        return True\n",
        "    else:\n",
        "        return False"
      ]
    },
    {
      "cell_type": "code",
      "execution_count": null,
      "id": "2330fc5f",
      "metadata": {
        "id": "2330fc5f",
        "outputId": "f146fa2c-e1cb-4e22-e2c7-7688799227ef",
        "colab": {
          "base_uri": "https://localhost:8080/"
        }
      },
      "outputs": [
        {
          "output_type": "execute_result",
          "data": {
            "text/plain": [
              "True"
            ]
          },
          "metadata": {},
          "execution_count": 66
        }
      ],
      "source": [
        "is_even(20)"
      ]
    },
    {
      "cell_type": "code",
      "execution_count": null,
      "id": "b76edd50",
      "metadata": {
        "id": "b76edd50",
        "outputId": "cca66601-852c-4c11-9ef3-eb03f9e1b4cf",
        "colab": {
          "base_uri": "https://localhost:8080/"
        }
      },
      "outputs": [
        {
          "output_type": "stream",
          "name": "stdout",
          "text": [
            "Hi\n"
          ]
        }
      ],
      "source": [
        "is_even(20)\n",
        "print(\"Hi\")"
      ]
    },
    {
      "cell_type": "code",
      "execution_count": null,
      "id": "4abe5753",
      "metadata": {
        "id": "4abe5753",
        "outputId": "5be4a283-daee-410f-c40e-ce1f681b4958",
        "colab": {
          "base_uri": "https://localhost:8080/"
        }
      },
      "outputs": [
        {
          "output_type": "execute_result",
          "data": {
            "text/plain": [
              "False"
            ]
          },
          "metadata": {},
          "execution_count": 68
        }
      ],
      "source": [
        "is_even(21)"
      ]
    },
    {
      "cell_type": "code",
      "execution_count": null,
      "id": "b63471d3",
      "metadata": {
        "id": "b63471d3"
      },
      "outputs": [],
      "source": [
        "def is_even(num):\n",
        "    if num % 2 == 0:\n",
        "        return True\n",
        "    else:\n",
        "        return 0"
      ]
    },
    {
      "cell_type": "code",
      "execution_count": null,
      "id": "c21fadab",
      "metadata": {
        "id": "c21fadab",
        "outputId": "fe90fe31-1480-47ad-9fda-d77ba6f16fa3",
        "colab": {
          "base_uri": "https://localhost:8080/"
        }
      },
      "outputs": [
        {
          "output_type": "execute_result",
          "data": {
            "text/plain": [
              "True"
            ]
          },
          "metadata": {},
          "execution_count": 70
        }
      ],
      "source": [
        "is_even(20)"
      ]
    },
    {
      "cell_type": "code",
      "execution_count": null,
      "id": "0cb2ded5",
      "metadata": {
        "id": "0cb2ded5",
        "outputId": "07b370a1-ad24-43a5-fb34-e9e7545e47df",
        "colab": {
          "base_uri": "https://localhost:8080/"
        }
      },
      "outputs": [
        {
          "output_type": "execute_result",
          "data": {
            "text/plain": [
              "0"
            ]
          },
          "metadata": {},
          "execution_count": 71
        }
      ],
      "source": [
        "is_even(33)"
      ]
    },
    {
      "cell_type": "code",
      "execution_count": null,
      "id": "f2edc342",
      "metadata": {
        "id": "f2edc342"
      },
      "outputs": [],
      "source": [
        "def is_even(num):\n",
        "    if num % 2 == 0:\n",
        "        print(\"Even\")\n",
        "        return True\n",
        "    else:\n",
        "        print(\"Odd\")\n",
        "        return False"
      ]
    },
    {
      "cell_type": "code",
      "execution_count": null,
      "id": "9ad7708f",
      "metadata": {
        "id": "9ad7708f",
        "outputId": "bf28ec55-bae2-44a3-d86c-576945dc1db8",
        "colab": {
          "base_uri": "https://localhost:8080/"
        }
      },
      "outputs": [
        {
          "output_type": "stream",
          "name": "stdout",
          "text": [
            "Even\n"
          ]
        },
        {
          "output_type": "execute_result",
          "data": {
            "text/plain": [
              "True"
            ]
          },
          "metadata": {},
          "execution_count": 73
        }
      ],
      "source": [
        "is_even(20)"
      ]
    },
    {
      "cell_type": "code",
      "execution_count": null,
      "id": "0d20b952",
      "metadata": {
        "id": "0d20b952"
      },
      "outputs": [],
      "source": [
        "def is_even(num):\n",
        "    if num % 2 == 0:\n",
        "        return True\n",
        "    else:\n",
        "        return 'Odd'"
      ]
    },
    {
      "cell_type": "code",
      "execution_count": null,
      "id": "88bb8435",
      "metadata": {
        "id": "88bb8435",
        "outputId": "f136869c-a092-485d-ba72-80aead047a7f",
        "colab": {
          "base_uri": "https://localhost:8080/"
        }
      },
      "outputs": [
        {
          "output_type": "execute_result",
          "data": {
            "text/plain": [
              "True"
            ]
          },
          "metadata": {},
          "execution_count": 75
        }
      ],
      "source": [
        "is_even(20)"
      ]
    },
    {
      "cell_type": "code",
      "execution_count": null,
      "id": "afb2bccf",
      "metadata": {
        "id": "afb2bccf",
        "outputId": "bd7ffe27-ef45-450a-fc46-9edb103c35a9"
      },
      "outputs": [
        {
          "data": {
            "text/plain": [
              "'Odd'"
            ]
          },
          "execution_count": 46,
          "metadata": {},
          "output_type": "execute_result"
        }
      ],
      "source": [
        "is_even(21)"
      ]
    },
    {
      "cell_type": "markdown",
      "source": [
        "#### positional arguments: The values get assigned as per the position of the arguments and the values"
      ],
      "metadata": {
        "id": "nrjpqjOjS8hl"
      },
      "id": "nrjpqjOjS8hl"
    },
    {
      "cell_type": "code",
      "execution_count": null,
      "id": "1c5fa8ff",
      "metadata": {
        "id": "1c5fa8ff"
      },
      "outputs": [],
      "source": [
        "def add(num1, num2):\n",
        "    result = num1 + num2\n",
        "    return result"
      ]
    },
    {
      "cell_type": "code",
      "execution_count": null,
      "id": "e26b5b63",
      "metadata": {
        "id": "e26b5b63",
        "outputId": "6402efc7-b4d4-45af-e65b-0d7db595bd0a",
        "colab": {
          "base_uri": "https://localhost:8080/"
        }
      },
      "outputs": [
        {
          "output_type": "execute_result",
          "data": {
            "text/plain": [
              "60"
            ]
          },
          "metadata": {},
          "execution_count": 77
        }
      ],
      "source": [
        "add(20, 40)"
      ]
    },
    {
      "cell_type": "code",
      "execution_count": null,
      "id": "e9d065ba",
      "metadata": {
        "id": "e9d065ba"
      },
      "outputs": [],
      "source": [
        "def arith(num1, num2):\n",
        "    add = num1 + num2\n",
        "    return add\n",
        "    sub = num1 - num2\n",
        "    return sub\n",
        "    multiply = num1 * num2\n",
        "    return multiply"
      ]
    },
    {
      "cell_type": "code",
      "execution_count": null,
      "id": "dacb11d5",
      "metadata": {
        "id": "dacb11d5",
        "outputId": "f7f3b015-929b-4734-a9dc-fc8d322e37b9",
        "colab": {
          "base_uri": "https://localhost:8080/"
        }
      },
      "outputs": [
        {
          "output_type": "execute_result",
          "data": {
            "text/plain": [
              "35"
            ]
          },
          "metadata": {},
          "execution_count": 80
        }
      ],
      "source": [
        "arith(30, 5)"
      ]
    },
    {
      "cell_type": "code",
      "execution_count": null,
      "id": "2794b800",
      "metadata": {
        "id": "2794b800",
        "outputId": "6613b1bd-8688-47b5-dbe9-106eab7e4f48",
        "colab": {
          "base_uri": "https://localhost:8080/"
        }
      },
      "outputs": [
        {
          "output_type": "execute_result",
          "data": {
            "text/plain": [
              "120"
            ]
          },
          "metadata": {},
          "execution_count": 81
        }
      ],
      "source": [
        "arith(100, 20)"
      ]
    },
    {
      "cell_type": "code",
      "execution_count": null,
      "id": "6ce069a5",
      "metadata": {
        "id": "6ce069a5"
      },
      "outputs": [],
      "source": [
        "def arith(num1, num2):\n",
        "    add = num1 + num2\n",
        "    sub = num1 - num2\n",
        "    multiply = num1 * num2\n",
        "    return add, sub, multiply # Avoid multiple return"
      ]
    },
    {
      "cell_type": "code",
      "execution_count": null,
      "id": "9adf4149",
      "metadata": {
        "id": "9adf4149"
      },
      "outputs": [],
      "source": [
        "out = arith(30, 5) # Output all time will be a Tuple"
      ]
    },
    {
      "cell_type": "code",
      "execution_count": null,
      "id": "75e08605",
      "metadata": {
        "id": "75e08605",
        "outputId": "bdce1115-8879-4f2e-d1bf-ff842654a68a",
        "colab": {
          "base_uri": "https://localhost:8080/"
        }
      },
      "outputs": [
        {
          "output_type": "execute_result",
          "data": {
            "text/plain": [
              "(35, 25, 150)"
            ]
          },
          "metadata": {},
          "execution_count": 84
        }
      ],
      "source": [
        "out"
      ]
    },
    {
      "cell_type": "code",
      "execution_count": null,
      "id": "1ed589b2",
      "metadata": {
        "id": "1ed589b2",
        "outputId": "f40cfe69-cec9-4b15-a19c-4a7a44bdcc5f",
        "colab": {
          "base_uri": "https://localhost:8080/"
        }
      },
      "outputs": [
        {
          "output_type": "execute_result",
          "data": {
            "text/plain": [
              "tuple"
            ]
          },
          "metadata": {},
          "execution_count": 85
        }
      ],
      "source": [
        "type(out)"
      ]
    },
    {
      "cell_type": "code",
      "execution_count": null,
      "id": "c10faeba",
      "metadata": {
        "id": "c10faeba"
      },
      "outputs": [],
      "source": [
        "x, y, z = arith(30, 5) # Tuple unpacing"
      ]
    },
    {
      "cell_type": "code",
      "execution_count": null,
      "id": "4839cd65",
      "metadata": {
        "id": "4839cd65",
        "outputId": "7c0eee14-25e8-406a-9845-e8dc25772273",
        "colab": {
          "base_uri": "https://localhost:8080/"
        }
      },
      "outputs": [
        {
          "output_type": "execute_result",
          "data": {
            "text/plain": [
              "35"
            ]
          },
          "metadata": {},
          "execution_count": 87
        }
      ],
      "source": [
        "x"
      ]
    },
    {
      "cell_type": "code",
      "execution_count": null,
      "id": "adafb992",
      "metadata": {
        "id": "adafb992",
        "outputId": "6819c61e-59f6-4742-925e-a18fef5d728a",
        "colab": {
          "base_uri": "https://localhost:8080/"
        }
      },
      "outputs": [
        {
          "output_type": "execute_result",
          "data": {
            "text/plain": [
              "25"
            ]
          },
          "metadata": {},
          "execution_count": 88
        }
      ],
      "source": [
        "y"
      ]
    },
    {
      "cell_type": "code",
      "execution_count": null,
      "id": "78345be8",
      "metadata": {
        "id": "78345be8",
        "outputId": "8e739cd4-dc53-41c8-f7fb-7f6840c9347a",
        "colab": {
          "base_uri": "https://localhost:8080/"
        }
      },
      "outputs": [
        {
          "output_type": "execute_result",
          "data": {
            "text/plain": [
              "150"
            ]
          },
          "metadata": {},
          "execution_count": 89
        }
      ],
      "source": [
        "z"
      ]
    },
    {
      "cell_type": "code",
      "execution_count": null,
      "id": "cc5f7526",
      "metadata": {
        "id": "cc5f7526",
        "outputId": "0db66242-3652-4ce7-cc23-39fdbf70f3be",
        "colab": {
          "base_uri": "https://localhost:8080/",
          "height": 171
        }
      },
      "outputs": [
        {
          "output_type": "error",
          "ename": "NameError",
          "evalue": "ignored",
          "traceback": [
            "\u001b[0;31m---------------------------------------------------------------------------\u001b[0m",
            "\u001b[0;31mNameError\u001b[0m                                 Traceback (most recent call last)",
            "\u001b[0;32m<ipython-input-90-c64576a94a72>\u001b[0m in \u001b[0;36m<cell line: 1>\u001b[0;34m()\u001b[0m\n\u001b[0;32m----> 1\u001b[0;31m \u001b[0mprint\u001b[0m\u001b[0;34m(\u001b[0m\u001b[0mnum2\u001b[0m\u001b[0;34m)\u001b[0m\u001b[0;34m\u001b[0m\u001b[0;34m\u001b[0m\u001b[0m\n\u001b[0m",
            "\u001b[0;31mNameError\u001b[0m: name 'num2' is not defined"
          ]
        }
      ],
      "source": [
        "print(num2) # Num2 says it is not defined Reason it is defind as a function in side to it so outside will not work"
      ]
    },
    {
      "cell_type": "code",
      "execution_count": null,
      "id": "3cbdfa67",
      "metadata": {
        "id": "3cbdfa67"
      },
      "outputs": [],
      "source": [
        "def f1(arg1):\n",
        "    some_var = 100"
      ]
    },
    {
      "cell_type": "code",
      "execution_count": null,
      "id": "bbd75d46",
      "metadata": {
        "id": "bbd75d46",
        "outputId": "0dc0ca04-27e1-4f84-a49d-3493cf84d206",
        "colab": {
          "base_uri": "https://localhost:8080/",
          "height": 171
        }
      },
      "outputs": [
        {
          "output_type": "error",
          "ename": "NameError",
          "evalue": "ignored",
          "traceback": [
            "\u001b[0;31m---------------------------------------------------------------------------\u001b[0m",
            "\u001b[0;31mNameError\u001b[0m                                 Traceback (most recent call last)",
            "\u001b[0;32m<ipython-input-92-9c21af92efc9>\u001b[0m in \u001b[0;36m<cell line: 1>\u001b[0;34m()\u001b[0m\n\u001b[0;32m----> 1\u001b[0;31m \u001b[0mprint\u001b[0m\u001b[0;34m(\u001b[0m\u001b[0msome_var\u001b[0m\u001b[0;34m)\u001b[0m\u001b[0;34m\u001b[0m\u001b[0;34m\u001b[0m\u001b[0m\n\u001b[0m",
            "\u001b[0;31mNameError\u001b[0m: name 'some_var' is not defined"
          ]
        }
      ],
      "source": [
        "print(some_var)"
      ]
    },
    {
      "cell_type": "code",
      "execution_count": null,
      "id": "99768447",
      "metadata": {
        "id": "99768447",
        "outputId": "691e4bbd-2ec5-4ded-be14-7b6bb25073c5",
        "colab": {
          "base_uri": "https://localhost:8080/"
        }
      },
      "outputs": [
        {
          "output_type": "execute_result",
          "data": {
            "text/plain": [
              "(35, 25, 150)"
            ]
          },
          "metadata": {},
          "execution_count": 93
        }
      ],
      "source": [
        "arith(30, 5)"
      ]
    },
    {
      "cell_type": "code",
      "execution_count": null,
      "id": "a416ad6e",
      "metadata": {
        "id": "a416ad6e",
        "outputId": "8b0cbf1c-dd9d-4175-a00b-9fc6277632a1",
        "colab": {
          "base_uri": "https://localhost:8080/"
        }
      },
      "outputs": [
        {
          "output_type": "stream",
          "name": "stdout",
          "text": [
            "hello\n"
          ]
        }
      ],
      "source": [
        "arith(30, 5)\n",
        "print('hello')"
      ]
    },
    {
      "cell_type": "code",
      "execution_count": null,
      "id": "0fda13b8",
      "metadata": {
        "id": "0fda13b8",
        "outputId": "08f80279-f306-4ffd-fb94-33bb39604763",
        "colab": {
          "base_uri": "https://localhost:8080/",
          "height": 171
        }
      },
      "outputs": [
        {
          "output_type": "error",
          "ename": "NameError",
          "evalue": "ignored",
          "traceback": [
            "\u001b[0;31m---------------------------------------------------------------------------\u001b[0m",
            "\u001b[0;31mNameError\u001b[0m                                 Traceback (most recent call last)",
            "\u001b[0;32m<ipython-input-95-27746aa05c8c>\u001b[0m in \u001b[0;36m<cell line: 1>\u001b[0;34m()\u001b[0m\n\u001b[0;32m----> 1\u001b[0;31m \u001b[0mprint\u001b[0m\u001b[0;34m(\u001b[0m\u001b[0marg1\u001b[0m\u001b[0;34m)\u001b[0m\u001b[0;34m\u001b[0m\u001b[0;34m\u001b[0m\u001b[0m\n\u001b[0m",
            "\u001b[0;31mNameError\u001b[0m: name 'arg1' is not defined"
          ]
        }
      ],
      "source": [
        "print(arg1)"
      ]
    },
    {
      "cell_type": "code",
      "execution_count": null,
      "id": "b3e402bd",
      "metadata": {
        "id": "b3e402bd"
      },
      "outputs": [],
      "source": [
        "def add(a, b):\n",
        "    return a + b"
      ]
    },
    {
      "cell_type": "code",
      "execution_count": null,
      "id": "bd6cf8c4",
      "metadata": {
        "id": "bd6cf8c4",
        "outputId": "07a144fc-15c0-428e-dd2d-f8b412fbb52f",
        "colab": {
          "base_uri": "https://localhost:8080/"
        }
      },
      "outputs": [
        {
          "output_type": "execute_result",
          "data": {
            "text/plain": [
              "15"
            ]
          },
          "metadata": {},
          "execution_count": 97
        }
      ],
      "source": [
        "add(10, 5)"
      ]
    },
    {
      "cell_type": "code",
      "execution_count": null,
      "id": "157285ff",
      "metadata": {
        "id": "157285ff",
        "outputId": "643b0b4d-0454-4c38-c472-374ee3cc4b2e",
        "colab": {
          "base_uri": "https://localhost:8080/",
          "height": 244
        }
      },
      "outputs": [
        {
          "output_type": "error",
          "ename": "TypeError",
          "evalue": "ignored",
          "traceback": [
            "\u001b[0;31m---------------------------------------------------------------------------\u001b[0m",
            "\u001b[0;31mTypeError\u001b[0m                                 Traceback (most recent call last)",
            "\u001b[0;32m<ipython-input-98-e1a2f3327469>\u001b[0m in \u001b[0;36m<cell line: 1>\u001b[0;34m()\u001b[0m\n\u001b[0;32m----> 1\u001b[0;31m \u001b[0madd\u001b[0m\u001b[0;34m(\u001b[0m\u001b[0;34m'hi'\u001b[0m\u001b[0;34m,\u001b[0m \u001b[0;36m2\u001b[0m\u001b[0;34m)\u001b[0m\u001b[0;34m\u001b[0m\u001b[0;34m\u001b[0m\u001b[0m\n\u001b[0m",
            "\u001b[0;32m<ipython-input-96-17cbf0e59835>\u001b[0m in \u001b[0;36madd\u001b[0;34m(a, b)\u001b[0m\n\u001b[1;32m      1\u001b[0m \u001b[0;32mdef\u001b[0m \u001b[0madd\u001b[0m\u001b[0;34m(\u001b[0m\u001b[0ma\u001b[0m\u001b[0;34m,\u001b[0m \u001b[0mb\u001b[0m\u001b[0;34m)\u001b[0m\u001b[0;34m:\u001b[0m\u001b[0;34m\u001b[0m\u001b[0;34m\u001b[0m\u001b[0m\n\u001b[0;32m----> 2\u001b[0;31m     \u001b[0;32mreturn\u001b[0m \u001b[0ma\u001b[0m \u001b[0;34m+\u001b[0m \u001b[0mb\u001b[0m\u001b[0;34m\u001b[0m\u001b[0;34m\u001b[0m\u001b[0m\n\u001b[0m",
            "\u001b[0;31mTypeError\u001b[0m: can only concatenate str (not \"int\") to str"
          ]
        }
      ],
      "source": [
        "add('hi', 2)"
      ]
    },
    {
      "cell_type": "code",
      "execution_count": null,
      "id": "ea8a7556",
      "metadata": {
        "id": "ea8a7556",
        "outputId": "eb382181-930b-475f-fc8f-abc4b726e4ab",
        "colab": {
          "base_uri": "https://localhost:8080/",
          "height": 171
        }
      },
      "outputs": [
        {
          "output_type": "error",
          "ename": "TypeError",
          "evalue": "ignored",
          "traceback": [
            "\u001b[0;31m---------------------------------------------------------------------------\u001b[0m",
            "\u001b[0;31mTypeError\u001b[0m                                 Traceback (most recent call last)",
            "\u001b[0;32m<ipython-input-99-2558a051bacf>\u001b[0m in \u001b[0;36m<cell line: 1>\u001b[0;34m()\u001b[0m\n\u001b[0;32m----> 1\u001b[0;31m \u001b[0madd\u001b[0m\u001b[0;34m(\u001b[0m\u001b[0;36m1\u001b[0m\u001b[0;34m)\u001b[0m\u001b[0;34m\u001b[0m\u001b[0;34m\u001b[0m\u001b[0m\n\u001b[0m",
            "\u001b[0;31mTypeError\u001b[0m: add() missing 1 required positional argument: 'b'"
          ]
        }
      ],
      "source": [
        "add(1)"
      ]
    },
    {
      "cell_type": "code",
      "execution_count": null,
      "id": "d4da5347",
      "metadata": {
        "id": "d4da5347",
        "outputId": "dc48a9a4-d109-4073-fe1a-edaf85200f3d",
        "colab": {
          "base_uri": "https://localhost:8080/"
        }
      },
      "outputs": [
        {
          "output_type": "execute_result",
          "data": {
            "text/plain": [
              "3"
            ]
          },
          "metadata": {},
          "execution_count": 100
        }
      ],
      "source": [
        "add(1, 2)"
      ]
    },
    {
      "cell_type": "code",
      "execution_count": null,
      "id": "8f6b080c",
      "metadata": {
        "id": "8f6b080c",
        "outputId": "73b236c7-1245-44e2-a414-6e0c673eaf7a",
        "colab": {
          "base_uri": "https://localhost:8080/",
          "height": 171
        }
      },
      "outputs": [
        {
          "output_type": "error",
          "ename": "TypeError",
          "evalue": "ignored",
          "traceback": [
            "\u001b[0;31m---------------------------------------------------------------------------\u001b[0m",
            "\u001b[0;31mTypeError\u001b[0m                                 Traceback (most recent call last)",
            "\u001b[0;32m<ipython-input-101-30a43e0f0f21>\u001b[0m in \u001b[0;36m<cell line: 1>\u001b[0;34m()\u001b[0m\n\u001b[0;32m----> 1\u001b[0;31m \u001b[0madd\u001b[0m\u001b[0;34m(\u001b[0m\u001b[0;36m1\u001b[0m\u001b[0;34m,\u001b[0m \u001b[0;36m2\u001b[0m\u001b[0;34m,\u001b[0m \u001b[0;36m3\u001b[0m\u001b[0;34m)\u001b[0m\u001b[0;34m\u001b[0m\u001b[0;34m\u001b[0m\u001b[0m\n\u001b[0m",
            "\u001b[0;31mTypeError\u001b[0m: add() takes 2 positional arguments but 3 were given"
          ]
        }
      ],
      "source": [
        "add(1, 2, 3) # More then defiend vale are not acceptable"
      ]
    },
    {
      "cell_type": "code",
      "execution_count": null,
      "id": "b5b54746",
      "metadata": {
        "id": "b5b54746",
        "outputId": "824e85ba-7c81-4e71-ca72-ceb74b35ea8b",
        "colab": {
          "base_uri": "https://localhost:8080/"
        }
      },
      "outputs": [
        {
          "output_type": "stream",
          "name": "stdout",
          "text": [
            "Help on built-in function print in module builtins:\n",
            "\n",
            "print(...)\n",
            "    print(value, ..., sep=' ', end='\\n', file=sys.stdout, flush=False)\n",
            "    \n",
            "    Prints the values to a stream, or to sys.stdout by default.\n",
            "    Optional keyword arguments:\n",
            "    file:  a file-like object (stream); defaults to the current sys.stdout.\n",
            "    sep:   string inserted between values, default a space.\n",
            "    end:   string appended after the last value, default a newline.\n",
            "    flush: whether to forcibly flush the stream.\n",
            "\n"
          ]
        }
      ],
      "source": [
        "help(print)"
      ]
    },
    {
      "cell_type": "code",
      "execution_count": null,
      "id": "39b69836",
      "metadata": {
        "id": "39b69836",
        "outputId": "60f23ddd-820c-4560-f379-dc069a277051",
        "colab": {
          "base_uri": "https://localhost:8080/",
          "height": 171
        }
      },
      "outputs": [
        {
          "output_type": "error",
          "ename": "TypeError",
          "evalue": "ignored",
          "traceback": [
            "\u001b[0;31m---------------------------------------------------------------------------\u001b[0m",
            "\u001b[0;31mTypeError\u001b[0m                                 Traceback (most recent call last)",
            "\u001b[0;32m<ipython-input-103-b9af4516d353>\u001b[0m in \u001b[0;36m<cell line: 1>\u001b[0;34m()\u001b[0m\n\u001b[0;32m----> 1\u001b[0;31m \u001b[0madd\u001b[0m\u001b[0;34m(\u001b[0m\u001b[0;36m1\u001b[0m\u001b[0;34m,\u001b[0m\u001b[0;34m)\u001b[0m\u001b[0;34m\u001b[0m\u001b[0;34m\u001b[0m\u001b[0m\n\u001b[0m",
            "\u001b[0;31mTypeError\u001b[0m: add() missing 1 required positional argument: 'b'"
          ]
        }
      ],
      "source": [
        "add(1,)"
      ]
    },
    {
      "cell_type": "markdown",
      "source": [
        "#### Positional arguments"
      ],
      "metadata": {
        "id": "ISnR6EGbUNjh"
      },
      "id": "ISnR6EGbUNjh"
    },
    {
      "cell_type": "code",
      "execution_count": null,
      "id": "27e7589c",
      "metadata": {
        "id": "27e7589c"
      },
      "outputs": [],
      "source": [
        "def add(a, b, c): # positional arguments\n",
        "    return a + b + c"
      ]
    },
    {
      "cell_type": "code",
      "execution_count": null,
      "id": "dc280637",
      "metadata": {
        "id": "dc280637",
        "outputId": "447ef23e-b4b8-40fc-b422-42ede25c3b7d",
        "colab": {
          "base_uri": "https://localhost:8080/"
        }
      },
      "outputs": [
        {
          "output_type": "execute_result",
          "data": {
            "text/plain": [
              "6"
            ]
          },
          "metadata": {},
          "execution_count": 106
        }
      ],
      "source": [
        "add(1,2,3)"
      ]
    },
    {
      "cell_type": "markdown",
      "source": [
        "#### Default arguments"
      ],
      "metadata": {
        "id": "KEFndqt2UeDc"
      },
      "id": "KEFndqt2UeDc"
    },
    {
      "cell_type": "code",
      "execution_count": null,
      "id": "5b0e363d",
      "metadata": {
        "id": "5b0e363d"
      },
      "outputs": [],
      "source": [
        "def add(a, b, c=1): # Here, a and b are positional args (mandatory).  c is a default arg (optional)\n",
        "    return a + b + c"
      ]
    },
    {
      "cell_type": "code",
      "execution_count": null,
      "id": "df0140ea",
      "metadata": {
        "id": "df0140ea",
        "outputId": "286edf87-4b3a-4af6-a9dc-df9159027ba6",
        "colab": {
          "base_uri": "https://localhost:8080/"
        }
      },
      "outputs": [
        {
          "output_type": "execute_result",
          "data": {
            "text/plain": [
              "60"
            ]
          },
          "metadata": {},
          "execution_count": 110
        }
      ],
      "source": [
        "add(10, 20, 30)"
      ]
    },
    {
      "cell_type": "code",
      "execution_count": null,
      "id": "2a1d76d4",
      "metadata": {
        "id": "2a1d76d4",
        "outputId": "a2a28861-675a-4848-a56e-6a567553dde0",
        "colab": {
          "base_uri": "https://localhost:8080/"
        }
      },
      "outputs": [
        {
          "output_type": "execute_result",
          "data": {
            "text/plain": [
              "31"
            ]
          },
          "metadata": {},
          "execution_count": 111
        }
      ],
      "source": [
        "add(10, 20)"
      ]
    },
    {
      "cell_type": "code",
      "execution_count": null,
      "id": "70e8c677",
      "metadata": {
        "id": "70e8c677"
      },
      "outputs": [],
      "source": [
        "def add(a, b=0, c=1):\n",
        "    return a + b + c"
      ]
    },
    {
      "cell_type": "code",
      "execution_count": null,
      "id": "ed69f75f",
      "metadata": {
        "id": "ed69f75f",
        "outputId": "aaf55753-76ca-47cf-ba0d-5c377878a95a",
        "colab": {
          "base_uri": "https://localhost:8080/"
        }
      },
      "outputs": [
        {
          "output_type": "execute_result",
          "data": {
            "text/plain": [
              "11"
            ]
          },
          "metadata": {},
          "execution_count": 113
        }
      ],
      "source": [
        "add(10)"
      ]
    },
    {
      "cell_type": "code",
      "execution_count": null,
      "id": "379fddb0",
      "metadata": {
        "id": "379fddb0",
        "outputId": "bcb5bdae-37f3-4f6b-8c42-04eb5185379c",
        "colab": {
          "base_uri": "https://localhost:8080/"
        }
      },
      "outputs": [
        {
          "output_type": "execute_result",
          "data": {
            "text/plain": [
              "31"
            ]
          },
          "metadata": {},
          "execution_count": 114
        }
      ],
      "source": [
        "add(10, 20)"
      ]
    },
    {
      "cell_type": "code",
      "execution_count": null,
      "id": "324d820e",
      "metadata": {
        "id": "324d820e",
        "outputId": "0941fcde-9a66-4341-bcbd-971671533b76",
        "colab": {
          "base_uri": "https://localhost:8080/",
          "height": 135
        }
      },
      "outputs": [
        {
          "output_type": "error",
          "ename": "SyntaxError",
          "evalue": "ignored",
          "traceback": [
            "\u001b[0;36m  File \u001b[0;32m\"<ipython-input-115-098f7c4961d9>\"\u001b[0;36m, line \u001b[0;32m1\u001b[0m\n\u001b[0;31m    add(10, , 20)\u001b[0m\n\u001b[0m            ^\u001b[0m\n\u001b[0;31mSyntaxError\u001b[0m\u001b[0;31m:\u001b[0m invalid syntax\n"
          ]
        }
      ],
      "source": [
        "add(10, , 20)"
      ]
    },
    {
      "cell_type": "code",
      "execution_count": null,
      "id": "85eca147",
      "metadata": {
        "id": "85eca147",
        "outputId": "bfa7cdd7-50ed-4e9c-b2e5-728b54d90f72",
        "colab": {
          "base_uri": "https://localhost:8080/",
          "height": 171
        }
      },
      "outputs": [
        {
          "output_type": "error",
          "ename": "NameError",
          "evalue": "ignored",
          "traceback": [
            "\u001b[0;31m---------------------------------------------------------------------------\u001b[0m",
            "\u001b[0;31mNameError\u001b[0m                                 Traceback (most recent call last)",
            "\u001b[0;32m<ipython-input-116-8117cb26f253>\u001b[0m in \u001b[0;36m<cell line: 1>\u001b[0;34m()\u001b[0m\n\u001b[0;32m----> 1\u001b[0;31m \u001b[0madd\u001b[0m\u001b[0;34m(\u001b[0m\u001b[0;36m10\u001b[0m\u001b[0;34m,\u001b[0m \u001b[0mb\u001b[0m\u001b[0;34m,\u001b[0m \u001b[0;36m20\u001b[0m\u001b[0;34m)\u001b[0m\u001b[0;34m\u001b[0m\u001b[0;34m\u001b[0m\u001b[0m\n\u001b[0m",
            "\u001b[0;31mNameError\u001b[0m: name 'b' is not defined"
          ]
        }
      ],
      "source": [
        "add(10, b, 20)"
      ]
    },
    {
      "cell_type": "markdown",
      "source": [
        "#### Keyword argument\n",
        "\n",
        "Keyword argument take high priority than default one"
      ],
      "metadata": {
        "id": "2Kd3zxddUojK"
      },
      "id": "2Kd3zxddUojK"
    },
    {
      "cell_type": "code",
      "execution_count": null,
      "id": "b71e28f6",
      "metadata": {
        "id": "b71e28f6",
        "outputId": "9d86b107-7560-46c0-f741-5c84c47b4be0",
        "colab": {
          "base_uri": "https://localhost:8080/"
        }
      },
      "outputs": [
        {
          "output_type": "stream",
          "name": "stdout",
          "text": [
            "Help on function add in module __main__:\n",
            "\n",
            "add(a, b=0, c=1)\n",
            "\n"
          ]
        }
      ],
      "source": [
        "help(add)"
      ]
    },
    {
      "cell_type": "code",
      "execution_count": null,
      "id": "1186867a",
      "metadata": {
        "id": "1186867a",
        "outputId": "0d617dd5-f735-4860-ae8d-1203c391ad1d",
        "colab": {
          "base_uri": "https://localhost:8080/"
        }
      },
      "outputs": [
        {
          "output_type": "execute_result",
          "data": {
            "text/plain": [
              "30"
            ]
          },
          "metadata": {},
          "execution_count": 118
        }
      ],
      "source": [
        "add(10, c=20)"
      ]
    },
    {
      "cell_type": "code",
      "execution_count": null,
      "id": "1dbd9482",
      "metadata": {
        "id": "1dbd9482"
      },
      "outputs": [],
      "source": [
        "def add(a, b=0, c=1):\n",
        "    print(f\"a: {a}\")\n",
        "    print(f\"b: {b}\")\n",
        "    print(f\"c: {c}\")\n",
        "    return a + b + c"
      ]
    },
    {
      "cell_type": "code",
      "execution_count": null,
      "id": "fff36f51",
      "metadata": {
        "id": "fff36f51",
        "outputId": "0b511cad-d6a5-41a7-fa10-6fa97f040d88",
        "colab": {
          "base_uri": "https://localhost:8080/"
        }
      },
      "outputs": [
        {
          "output_type": "stream",
          "name": "stdout",
          "text": [
            "a: 10\n",
            "b: 0\n",
            "c: 20\n"
          ]
        },
        {
          "output_type": "execute_result",
          "data": {
            "text/plain": [
              "30"
            ]
          },
          "metadata": {},
          "execution_count": 120
        }
      ],
      "source": [
        "add(10, c=20)"
      ]
    },
    {
      "cell_type": "code",
      "execution_count": null,
      "id": "338f2958",
      "metadata": {
        "id": "338f2958",
        "outputId": "3bd4e53e-b1f3-4b8a-ccef-5b568ded8512",
        "colab": {
          "base_uri": "https://localhost:8080/"
        }
      },
      "outputs": [
        {
          "output_type": "stream",
          "name": "stdout",
          "text": [
            "a: 10\n",
            "b: 20\n",
            "c: 30\n"
          ]
        },
        {
          "output_type": "execute_result",
          "data": {
            "text/plain": [
              "60"
            ]
          },
          "metadata": {},
          "execution_count": 121
        }
      ],
      "source": [
        "add(a=10, b=20, c=30)"
      ]
    },
    {
      "cell_type": "code",
      "execution_count": null,
      "id": "d08161db",
      "metadata": {
        "id": "d08161db",
        "outputId": "2824f9cd-e60c-4565-f165-657a839b3d52",
        "colab": {
          "base_uri": "https://localhost:8080/"
        }
      },
      "outputs": [
        {
          "output_type": "stream",
          "name": "stdout",
          "text": [
            "a: 2\n",
            "b: 1\n",
            "c: 5\n"
          ]
        },
        {
          "output_type": "execute_result",
          "data": {
            "text/plain": [
              "8"
            ]
          },
          "metadata": {},
          "execution_count": 122
        }
      ],
      "source": [
        "add(b=1, c=5, a=2)"
      ]
    },
    {
      "cell_type": "code",
      "execution_count": null,
      "id": "e05d217d",
      "metadata": {
        "id": "e05d217d",
        "outputId": "58dca81d-caf2-4f38-a272-c19a3bff61c4",
        "colab": {
          "base_uri": "https://localhost:8080/"
        }
      },
      "outputs": [
        {
          "output_type": "stream",
          "name": "stdout",
          "text": [
            "a: 3\n",
            "b: 9\n",
            "c: 2\n"
          ]
        },
        {
          "output_type": "execute_result",
          "data": {
            "text/plain": [
              "14"
            ]
          },
          "metadata": {},
          "execution_count": 123
        }
      ],
      "source": [
        "add(c=2,a=3,b=9)"
      ]
    },
    {
      "cell_type": "code",
      "execution_count": null,
      "id": "7cb368cf",
      "metadata": {
        "id": "7cb368cf",
        "outputId": "b4e5facd-568c-4ad5-ee4b-96219494dbce",
        "colab": {
          "base_uri": "https://localhost:8080/"
        }
      },
      "outputs": [
        {
          "output_type": "stream",
          "name": "stdout",
          "text": [
            "10 20 30\n"
          ]
        }
      ],
      "source": [
        "print(10, 20, 30)"
      ]
    },
    {
      "cell_type": "code",
      "execution_count": null,
      "id": "d88469a4",
      "metadata": {
        "id": "d88469a4",
        "outputId": "de170575-3b69-4bf4-b348-a5591a85c5c1",
        "colab": {
          "base_uri": "https://localhost:8080/"
        }
      },
      "outputs": [
        {
          "output_type": "stream",
          "name": "stdout",
          "text": [
            "Help on built-in function print in module builtins:\n",
            "\n",
            "print(...)\n",
            "    print(value, ..., sep=' ', end='\\n', file=sys.stdout, flush=False)\n",
            "    \n",
            "    Prints the values to a stream, or to sys.stdout by default.\n",
            "    Optional keyword arguments:\n",
            "    file:  a file-like object (stream); defaults to the current sys.stdout.\n",
            "    sep:   string inserted between values, default a space.\n",
            "    end:   string appended after the last value, default a newline.\n",
            "    flush: whether to forcibly flush the stream.\n",
            "\n"
          ]
        }
      ],
      "source": [
        "help(print)"
      ]
    },
    {
      "cell_type": "code",
      "execution_count": null,
      "id": "dc747fac",
      "metadata": {
        "id": "dc747fac"
      },
      "outputs": [],
      "source": [
        "def add(a=1, b=0, c=1):\n",
        "    print(f\"a: {a}\")\n",
        "    print(f\"b: {b}\")\n",
        "    print(f\"c: {c}\")\n",
        "    return a + b + c"
      ]
    },
    {
      "cell_type": "code",
      "execution_count": null,
      "id": "d87569b3",
      "metadata": {
        "id": "d87569b3",
        "outputId": "765b883b-1bf4-4af6-961d-66ab13843c02",
        "colab": {
          "base_uri": "https://localhost:8080/"
        }
      },
      "outputs": [
        {
          "output_type": "stream",
          "name": "stdout",
          "text": [
            "a: 10\n",
            "b: 0\n",
            "c: 1\n"
          ]
        },
        {
          "output_type": "execute_result",
          "data": {
            "text/plain": [
              "11"
            ]
          },
          "metadata": {},
          "execution_count": 128
        }
      ],
      "source": [
        "add(10)"
      ]
    },
    {
      "cell_type": "code",
      "execution_count": null,
      "id": "8c2f5184",
      "metadata": {
        "id": "8c2f5184",
        "outputId": "1b527f1a-b3e0-4c1f-af37-297bfa78952d",
        "colab": {
          "base_uri": "https://localhost:8080/"
        }
      },
      "outputs": [
        {
          "output_type": "stream",
          "name": "stdout",
          "text": [
            "a: 1\n",
            "b: 0\n",
            "c: 1\n"
          ]
        },
        {
          "output_type": "execute_result",
          "data": {
            "text/plain": [
              "2"
            ]
          },
          "metadata": {},
          "execution_count": 129
        }
      ],
      "source": [
        "add()"
      ]
    },
    {
      "cell_type": "code",
      "execution_count": null,
      "id": "3befaf0d",
      "metadata": {
        "id": "3befaf0d",
        "outputId": "562b311d-be18-4e3f-cae4-c6edd7f46ea2",
        "colab": {
          "base_uri": "https://localhost:8080/",
          "height": 135
        }
      },
      "outputs": [
        {
          "output_type": "error",
          "ename": "SyntaxError",
          "evalue": "ignored",
          "traceback": [
            "\u001b[0;36m  File \u001b[0;32m\"<ipython-input-130-cb45cbb997a9>\"\u001b[0;36m, line \u001b[0;32m1\u001b[0m\n\u001b[0;31m    def add(a, b=0, c):\u001b[0m\n\u001b[0m                    ^\u001b[0m\n\u001b[0;31mSyntaxError\u001b[0m\u001b[0;31m:\u001b[0m non-default argument follows default argument\n"
          ]
        }
      ],
      "source": [
        "def add(a, b=0, c): # The default arg should NOT be before the Non-default argument!!\n",
        "    print(f\"a: {a}\")\n",
        "    print(f\"b: {b}\")\n",
        "    print(f\"c: {c}\")\n",
        "    return a + b + c"
      ]
    },
    {
      "cell_type": "markdown",
      "source": [
        "#### Variable length arguments\n",
        "\n",
        "#### In *args, args is convention to be used as the argument\n",
        "We can use any variable name technically\n",
        "\n",
        ".* is important. It allows multiple args"
      ],
      "metadata": {
        "id": "ooZre_kjVPNU"
      },
      "id": "ooZre_kjVPNU"
    },
    {
      "cell_type": "code",
      "execution_count": null,
      "id": "fa0a627e",
      "metadata": {
        "id": "fa0a627e"
      },
      "outputs": [],
      "source": [
        "def add(a, b):\n",
        "    return a + b"
      ]
    },
    {
      "cell_type": "code",
      "execution_count": null,
      "id": "7a643315",
      "metadata": {
        "id": "7a643315",
        "outputId": "48779295-a108-405f-d802-1d80e6081ec3",
        "colab": {
          "base_uri": "https://localhost:8080/"
        }
      },
      "outputs": [
        {
          "output_type": "execute_result",
          "data": {
            "text/plain": [
              "30"
            ]
          },
          "metadata": {},
          "execution_count": 132
        }
      ],
      "source": [
        "add(10, 20)"
      ]
    },
    {
      "cell_type": "code",
      "execution_count": null,
      "id": "d6590242",
      "metadata": {
        "id": "d6590242"
      },
      "outputs": [],
      "source": [
        "def add(a=1, b=1):\n",
        "    return a + b"
      ]
    },
    {
      "cell_type": "code",
      "execution_count": null,
      "id": "ebe97d07",
      "metadata": {
        "id": "ebe97d07",
        "outputId": "8b68f922-2134-4000-b7bc-93515f26f3e5",
        "colab": {
          "base_uri": "https://localhost:8080/"
        }
      },
      "outputs": [
        {
          "output_type": "execute_result",
          "data": {
            "text/plain": [
              "2"
            ]
          },
          "metadata": {},
          "execution_count": 134
        }
      ],
      "source": [
        "add()"
      ]
    },
    {
      "cell_type": "code",
      "execution_count": null,
      "id": "caf0ab45",
      "metadata": {
        "id": "caf0ab45",
        "outputId": "f05fc650-74f8-4e88-b3a7-3c59e1262d04",
        "colab": {
          "base_uri": "https://localhost:8080/"
        }
      },
      "outputs": [
        {
          "output_type": "execute_result",
          "data": {
            "text/plain": [
              "11"
            ]
          },
          "metadata": {},
          "execution_count": 135
        }
      ],
      "source": [
        "add(10)"
      ]
    },
    {
      "cell_type": "code",
      "execution_count": null,
      "id": "81322725",
      "metadata": {
        "id": "81322725",
        "outputId": "9fba5b82-b51a-4875-af52-6550e1aa2c1b",
        "colab": {
          "base_uri": "https://localhost:8080/"
        }
      },
      "outputs": [
        {
          "output_type": "execute_result",
          "data": {
            "text/plain": [
              "30"
            ]
          },
          "metadata": {},
          "execution_count": 136
        }
      ],
      "source": [
        "add(10, 20)"
      ]
    },
    {
      "cell_type": "code",
      "execution_count": null,
      "id": "94476aed",
      "metadata": {
        "id": "94476aed",
        "outputId": "649ef985-d75f-48c9-deb9-f117092fa24f",
        "colab": {
          "base_uri": "https://localhost:8080/",
          "height": 171
        }
      },
      "outputs": [
        {
          "output_type": "error",
          "ename": "TypeError",
          "evalue": "ignored",
          "traceback": [
            "\u001b[0;31m---------------------------------------------------------------------------\u001b[0m",
            "\u001b[0;31mTypeError\u001b[0m                                 Traceback (most recent call last)",
            "\u001b[0;32m<ipython-input-137-53ac62622ed3>\u001b[0m in \u001b[0;36m<cell line: 1>\u001b[0;34m()\u001b[0m\n\u001b[0;32m----> 1\u001b[0;31m \u001b[0madd\u001b[0m\u001b[0;34m(\u001b[0m\u001b[0;36m10\u001b[0m\u001b[0;34m,\u001b[0m \u001b[0;36m20\u001b[0m\u001b[0;34m,\u001b[0m \u001b[0;36m30\u001b[0m\u001b[0;34m)\u001b[0m\u001b[0;34m\u001b[0m\u001b[0;34m\u001b[0m\u001b[0m\n\u001b[0m",
            "\u001b[0;31mTypeError\u001b[0m: add() takes from 0 to 2 positional arguments but 3 were given"
          ]
        }
      ],
      "source": [
        "add(10, 20, 30)"
      ]
    },
    {
      "cell_type": "code",
      "execution_count": null,
      "id": "32f81e79",
      "metadata": {
        "id": "32f81e79"
      },
      "outputs": [],
      "source": [
        "def add(*args): # Checking the functions * is working\n",
        "    pass"
      ]
    },
    {
      "cell_type": "code",
      "execution_count": null,
      "id": "8fd6db64",
      "metadata": {
        "id": "8fd6db64"
      },
      "outputs": [],
      "source": [
        "add()"
      ]
    },
    {
      "cell_type": "code",
      "execution_count": null,
      "id": "824bc6bc",
      "metadata": {
        "id": "824bc6bc"
      },
      "outputs": [],
      "source": [
        "add(10)"
      ]
    },
    {
      "cell_type": "code",
      "execution_count": null,
      "id": "d0c2c7af",
      "metadata": {
        "id": "d0c2c7af"
      },
      "outputs": [],
      "source": [
        "add(1,2)"
      ]
    },
    {
      "cell_type": "code",
      "execution_count": null,
      "id": "6bdd4119",
      "metadata": {
        "id": "6bdd4119"
      },
      "outputs": [],
      "source": [
        "add(1,2,3)"
      ]
    },
    {
      "cell_type": "code",
      "execution_count": null,
      "id": "48fb22a4",
      "metadata": {
        "id": "48fb22a4"
      },
      "outputs": [],
      "source": [
        "add(1,1,1,1,1,1,1,1,1,1,1,1,1,1,1,2,3,4,5)"
      ]
    },
    {
      "cell_type": "code",
      "source": [
        "# In *args, args is convention to be used as the argument\n",
        "# We can use any variable name technically\n",
        "# * is important. It allows multiple args"
      ],
      "metadata": {
        "id": "sSWhkp4GVgUy"
      },
      "id": "sSWhkp4GVgUy",
      "execution_count": null,
      "outputs": []
    },
    {
      "cell_type": "code",
      "execution_count": null,
      "id": "25022aad",
      "metadata": {
        "id": "25022aad"
      },
      "outputs": [],
      "source": [
        "def add(*nums):\n",
        "    pass"
      ]
    },
    {
      "cell_type": "code",
      "execution_count": null,
      "id": "dfd04b2d",
      "metadata": {
        "id": "dfd04b2d"
      },
      "outputs": [],
      "source": [
        "add(1, 2, 3)"
      ]
    },
    {
      "cell_type": "code",
      "execution_count": null,
      "id": "4efaba1f",
      "metadata": {
        "id": "4efaba1f",
        "outputId": "878a8ddb-b38d-4bdf-ea15-29aa95076ebb",
        "colab": {
          "base_uri": "https://localhost:8080/",
          "height": 135
        }
      },
      "outputs": [
        {
          "output_type": "error",
          "ename": "SyntaxError",
          "evalue": "ignored",
          "traceback": [
            "\u001b[0;36m  File \u001b[0;32m\"<ipython-input-146-0237abb63160>\"\u001b[0;36m, line \u001b[0;32m1\u001b[0m\n\u001b[0;31m    def add(*args):\u001b[0m\n\u001b[0m                   ^\u001b[0m\n\u001b[0;31mSyntaxError\u001b[0m\u001b[0;31m:\u001b[0m incomplete input\n"
          ]
        }
      ],
      "source": [
        "def add(*args):"
      ]
    },
    {
      "cell_type": "code",
      "execution_count": null,
      "id": "086dec64",
      "metadata": {
        "id": "086dec64"
      },
      "outputs": [],
      "source": [
        "def add(*args):\n",
        "    print(args)\n",
        "    print(type(args))"
      ]
    },
    {
      "cell_type": "code",
      "execution_count": null,
      "id": "702c2c33",
      "metadata": {
        "id": "702c2c33",
        "outputId": "526f2d74-f3e1-4f20-88a6-5d13296f9d58",
        "colab": {
          "base_uri": "https://localhost:8080/"
        }
      },
      "outputs": [
        {
          "output_type": "stream",
          "name": "stdout",
          "text": [
            "(10, 20, 30)\n",
            "<class 'tuple'>\n"
          ]
        }
      ],
      "source": [
        "add(10, 20, 30)"
      ]
    },
    {
      "cell_type": "code",
      "execution_count": null,
      "id": "54b061be",
      "metadata": {
        "id": "54b061be",
        "outputId": "45a67380-a924-48e1-bfbd-b38527e01f6d",
        "colab": {
          "base_uri": "https://localhost:8080/"
        }
      },
      "outputs": [
        {
          "output_type": "stream",
          "name": "stdout",
          "text": [
            "(1, 2, 3, 4, 5)\n",
            "<class 'tuple'>\n"
          ]
        }
      ],
      "source": [
        "add(1,2,3,4,5)"
      ]
    },
    {
      "cell_type": "code",
      "execution_count": null,
      "id": "fa5b5ec4",
      "metadata": {
        "id": "fa5b5ec4"
      },
      "outputs": [],
      "source": [
        "def add(*args): # Making *args to work for addition operaction (*add also works)\n",
        "    return sum(args)"
      ]
    },
    {
      "cell_type": "code",
      "execution_count": null,
      "id": "9d74ab31",
      "metadata": {
        "id": "9d74ab31",
        "outputId": "e044d29f-74b0-4fed-840d-3d27ed36ea49",
        "colab": {
          "base_uri": "https://localhost:8080/"
        }
      },
      "outputs": [
        {
          "output_type": "execute_result",
          "data": {
            "text/plain": [
              "10"
            ]
          },
          "metadata": {},
          "execution_count": 154
        }
      ],
      "source": [
        "add(1,2,3,4)"
      ]
    },
    {
      "cell_type": "code",
      "execution_count": null,
      "id": "1c83afcf",
      "metadata": {
        "id": "1c83afcf",
        "outputId": "b11ed8f0-d117-4341-eb3e-8638c2f464ee",
        "colab": {
          "base_uri": "https://localhost:8080/"
        }
      },
      "outputs": [
        {
          "output_type": "execute_result",
          "data": {
            "text/plain": [
              "2"
            ]
          },
          "metadata": {},
          "execution_count": 155
        }
      ],
      "source": [
        "add(1, 1)"
      ]
    },
    {
      "cell_type": "code",
      "execution_count": null,
      "id": "f7527976",
      "metadata": {
        "id": "f7527976",
        "outputId": "14a01114-2b56-41de-fb7b-1813b71a6ed1",
        "colab": {
          "base_uri": "https://localhost:8080/"
        }
      },
      "outputs": [
        {
          "output_type": "execute_result",
          "data": {
            "text/plain": [
              "10"
            ]
          },
          "metadata": {},
          "execution_count": 156
        }
      ],
      "source": [
        "add(10)"
      ]
    },
    {
      "cell_type": "code",
      "execution_count": null,
      "id": "b6cf14e4",
      "metadata": {
        "id": "b6cf14e4",
        "outputId": "e5fa28ed-6e02-4151-9c27-6f7462611ab1",
        "colab": {
          "base_uri": "https://localhost:8080/"
        }
      },
      "outputs": [
        {
          "output_type": "execute_result",
          "data": {
            "text/plain": [
              "0"
            ]
          },
          "metadata": {},
          "execution_count": 157
        }
      ],
      "source": [
        "add()"
      ]
    },
    {
      "cell_type": "code",
      "execution_count": null,
      "id": "5d512f51",
      "metadata": {
        "id": "5d512f51"
      },
      "outputs": [],
      "source": [
        "def add(*args):\n",
        "    print(args)\n",
        "    return sum(args)"
      ]
    },
    {
      "cell_type": "code",
      "execution_count": null,
      "id": "aa546d10",
      "metadata": {
        "id": "aa546d10",
        "outputId": "d3c43d8d-fd05-4c47-d289-d42b898612bb",
        "colab": {
          "base_uri": "https://localhost:8080/"
        }
      },
      "outputs": [
        {
          "output_type": "stream",
          "name": "stdout",
          "text": [
            "()\n"
          ]
        },
        {
          "output_type": "execute_result",
          "data": {
            "text/plain": [
              "0"
            ]
          },
          "metadata": {},
          "execution_count": 159
        }
      ],
      "source": [
        "add()"
      ]
    },
    {
      "cell_type": "code",
      "execution_count": null,
      "id": "c3ae066b",
      "metadata": {
        "id": "c3ae066b"
      },
      "outputs": [],
      "source": [
        "def add(a, b, *args): # *args with few default values to make it compulsory situvation\n",
        "    return sum(args) + a + b"
      ]
    },
    {
      "cell_type": "code",
      "execution_count": null,
      "id": "ab5e039c",
      "metadata": {
        "id": "ab5e039c",
        "outputId": "eaf9dd3f-343d-4f66-dab2-7d6957d777a0",
        "colab": {
          "base_uri": "https://localhost:8080/",
          "height": 171
        }
      },
      "outputs": [
        {
          "output_type": "error",
          "ename": "TypeError",
          "evalue": "ignored",
          "traceback": [
            "\u001b[0;31m---------------------------------------------------------------------------\u001b[0m",
            "\u001b[0;31mTypeError\u001b[0m                                 Traceback (most recent call last)",
            "\u001b[0;32m<ipython-input-161-d5d29de3ed94>\u001b[0m in \u001b[0;36m<cell line: 1>\u001b[0;34m()\u001b[0m\n\u001b[0;32m----> 1\u001b[0;31m \u001b[0madd\u001b[0m\u001b[0;34m(\u001b[0m\u001b[0;34m)\u001b[0m\u001b[0;34m\u001b[0m\u001b[0;34m\u001b[0m\u001b[0m\n\u001b[0m",
            "\u001b[0;31mTypeError\u001b[0m: add() missing 2 required positional arguments: 'a' and 'b'"
          ]
        }
      ],
      "source": [
        "add()"
      ]
    },
    {
      "cell_type": "code",
      "execution_count": null,
      "id": "5dc766a4",
      "metadata": {
        "id": "5dc766a4",
        "outputId": "911ba1e1-d085-4f79-a713-585210869168",
        "colab": {
          "base_uri": "https://localhost:8080/"
        }
      },
      "outputs": [
        {
          "output_type": "execute_result",
          "data": {
            "text/plain": [
              "3"
            ]
          },
          "metadata": {},
          "execution_count": 163
        }
      ],
      "source": [
        "add(1, 2)"
      ]
    },
    {
      "cell_type": "code",
      "execution_count": null,
      "id": "f466659c",
      "metadata": {
        "id": "f466659c",
        "outputId": "b44ff07c-332d-4456-912d-27f4290b772b",
        "colab": {
          "base_uri": "https://localhost:8080/"
        }
      },
      "outputs": [
        {
          "output_type": "execute_result",
          "data": {
            "text/plain": [
              "60"
            ]
          },
          "metadata": {},
          "execution_count": 164
        }
      ],
      "source": [
        "add(10, 20, 30)"
      ]
    },
    {
      "cell_type": "code",
      "execution_count": null,
      "id": "2f25f323",
      "metadata": {
        "id": "2f25f323"
      },
      "outputs": [],
      "source": [
        "def add(*args, a, b):\n",
        "    return sum(args) + a + b"
      ]
    },
    {
      "cell_type": "code",
      "execution_count": null,
      "id": "4fd84ebf",
      "metadata": {
        "id": "4fd84ebf",
        "outputId": "ba4a15ba-6575-40bc-a1b9-0e94dcfc9ed8",
        "colab": {
          "base_uri": "https://localhost:8080/",
          "height": 171
        }
      },
      "outputs": [
        {
          "output_type": "error",
          "ename": "TypeError",
          "evalue": "ignored",
          "traceback": [
            "\u001b[0;31m---------------------------------------------------------------------------\u001b[0m",
            "\u001b[0;31mTypeError\u001b[0m                                 Traceback (most recent call last)",
            "\u001b[0;32m<ipython-input-166-ac0aac29dd71>\u001b[0m in \u001b[0;36m<cell line: 1>\u001b[0;34m()\u001b[0m\n\u001b[0;32m----> 1\u001b[0;31m \u001b[0madd\u001b[0m\u001b[0;34m(\u001b[0m\u001b[0;36m1\u001b[0m\u001b[0;34m,\u001b[0m\u001b[0;36m2\u001b[0m\u001b[0;34m,\u001b[0m\u001b[0;36m3\u001b[0m\u001b[0;34m,\u001b[0m\u001b[0;36m4\u001b[0m\u001b[0;34m,\u001b[0m\u001b[0;36m5\u001b[0m\u001b[0;34m)\u001b[0m\u001b[0;34m\u001b[0m\u001b[0;34m\u001b[0m\u001b[0m\n\u001b[0m",
            "\u001b[0;31mTypeError\u001b[0m: add() missing 2 required keyword-only arguments: 'a' and 'b'"
          ]
        }
      ],
      "source": [
        "add(1,2,3,4,5)"
      ]
    },
    {
      "cell_type": "code",
      "execution_count": null,
      "id": "44c5999e",
      "metadata": {
        "id": "44c5999e",
        "outputId": "61c2389e-c21d-4145-ffa2-734f43b77125"
      },
      "outputs": [
        {
          "ename": "TypeError",
          "evalue": "add() missing 2 required keyword-only arguments: 'a' and 'b'",
          "output_type": "error",
          "traceback": [
            "\u001b[1;31m---------------------------------------------------------------------------\u001b[0m",
            "\u001b[1;31mTypeError\u001b[0m                                 Traceback (most recent call last)",
            "\u001b[1;32m~\\AppData\\Local\\Temp/ipykernel_11400/1840846204.py\u001b[0m in \u001b[0;36m<module>\u001b[1;34m\u001b[0m\n\u001b[1;32m----> 1\u001b[1;33m \u001b[0madd\u001b[0m\u001b[1;33m(\u001b[0m\u001b[1;33m(\u001b[0m\u001b[1;36m1\u001b[0m\u001b[1;33m,\u001b[0m\u001b[1;36m2\u001b[0m\u001b[1;33m,\u001b[0m\u001b[1;36m3\u001b[0m\u001b[1;33m)\u001b[0m\u001b[1;33m,\u001b[0m\u001b[1;36m4\u001b[0m\u001b[1;33m,\u001b[0m\u001b[1;36m5\u001b[0m\u001b[1;33m)\u001b[0m\u001b[1;33m\u001b[0m\u001b[1;33m\u001b[0m\u001b[0m\n\u001b[0m",
            "\u001b[1;31mTypeError\u001b[0m: add() missing 2 required keyword-only arguments: 'a' and 'b'"
          ]
        }
      ],
      "source": [
        "add((1,2,3),4,5)"
      ]
    },
    {
      "cell_type": "code",
      "execution_count": null,
      "id": "f912d81d",
      "metadata": {
        "id": "f912d81d",
        "outputId": "6626294a-1835-4023-812f-35cfd27dd2f0",
        "colab": {
          "base_uri": "https://localhost:8080/"
        }
      },
      "outputs": [
        {
          "output_type": "execute_result",
          "data": {
            "text/plain": [
              "15"
            ]
          },
          "metadata": {},
          "execution_count": 167
        }
      ],
      "source": [
        "add(1,2,3,a=4,b=5)"
      ]
    },
    {
      "cell_type": "code",
      "execution_count": null,
      "id": "18fec06d",
      "metadata": {
        "id": "18fec06d"
      },
      "outputs": [],
      "source": [
        "def add(*args, a=1, b=2):\n",
        "    return sum(args) + a + b"
      ]
    },
    {
      "cell_type": "code",
      "execution_count": null,
      "id": "e745a873",
      "metadata": {
        "id": "e745a873",
        "outputId": "3251ffd0-ff7a-46e8-87cf-c4ad847dced4",
        "colab": {
          "base_uri": "https://localhost:8080/"
        }
      },
      "outputs": [
        {
          "output_type": "execute_result",
          "data": {
            "text/plain": [
              "18"
            ]
          },
          "metadata": {},
          "execution_count": 169
        }
      ],
      "source": [
        "add(1,2,3,4,5)"
      ]
    },
    {
      "cell_type": "code",
      "execution_count": null,
      "id": "ca22f0d1",
      "metadata": {
        "id": "ca22f0d1",
        "outputId": "a6713d04-fb42-41f7-8703-d12450012630",
        "colab": {
          "base_uri": "https://localhost:8080/"
        }
      },
      "outputs": [
        {
          "output_type": "execute_result",
          "data": {
            "text/plain": [
              "15"
            ]
          },
          "metadata": {},
          "execution_count": 171
        }
      ],
      "source": [
        "add(1,2,3,a=4,b=5)"
      ]
    },
    {
      "cell_type": "code",
      "execution_count": null,
      "id": "2e04396e",
      "metadata": {
        "id": "2e04396e"
      },
      "outputs": [],
      "source": [
        "def add(a=1, b=2, *args):\n",
        "    print(f\"a: {a}\")\n",
        "    print(f\"b: {b}\")\n",
        "    print(f\"args: {args}\")\n",
        "    return sum(args) + a + b"
      ]
    },
    {
      "cell_type": "code",
      "execution_count": null,
      "id": "8285bda8",
      "metadata": {
        "id": "8285bda8",
        "outputId": "ca6d3475-ab88-4c8d-f265-6ee36aa333bb"
      },
      "outputs": [
        {
          "name": "stdout",
          "output_type": "stream",
          "text": [
            "a: 10\n",
            "b: 20\n",
            "args: (30,)\n"
          ]
        },
        {
          "data": {
            "text/plain": [
              "60"
            ]
          },
          "execution_count": 149,
          "metadata": {},
          "output_type": "execute_result"
        }
      ],
      "source": [
        "add(10,20,30)"
      ]
    },
    {
      "cell_type": "code",
      "execution_count": null,
      "id": "aaf108c9",
      "metadata": {
        "id": "aaf108c9",
        "outputId": "3772f6ca-5940-4a04-9fb9-8a1a5e42e73a",
        "colab": {
          "base_uri": "https://localhost:8080/",
          "height": 171
        }
      },
      "outputs": [
        {
          "output_type": "error",
          "ename": "TypeError",
          "evalue": "ignored",
          "traceback": [
            "\u001b[0;31m---------------------------------------------------------------------------\u001b[0m",
            "\u001b[0;31mTypeError\u001b[0m                                 Traceback (most recent call last)",
            "\u001b[0;32m<ipython-input-173-b383da3659b6>\u001b[0m in \u001b[0;36m<cell line: 1>\u001b[0;34m()\u001b[0m\n\u001b[0;32m----> 1\u001b[0;31m \u001b[0madd\u001b[0m\u001b[0;34m(\u001b[0m\u001b[0margs\u001b[0m\u001b[0;34m=\u001b[0m\u001b[0;34m(\u001b[0m\u001b[0;36m10\u001b[0m\u001b[0;34m,\u001b[0m\u001b[0;36m20\u001b[0m\u001b[0;34m,\u001b[0m\u001b[0;36m30\u001b[0m\u001b[0;34m)\u001b[0m\u001b[0;34m)\u001b[0m\u001b[0;34m\u001b[0m\u001b[0;34m\u001b[0m\u001b[0m\n\u001b[0m",
            "\u001b[0;31mTypeError\u001b[0m: add() got an unexpected keyword argument 'args'"
          ]
        }
      ],
      "source": [
        "add(args=(10,20,30))"
      ]
    },
    {
      "cell_type": "code",
      "execution_count": null,
      "id": "8a49c41c",
      "metadata": {
        "id": "8a49c41c",
        "outputId": "7db6b77b-6871-4d01-eed8-0cce65368ce8",
        "colab": {
          "base_uri": "https://localhost:8080/",
          "height": 135
        }
      },
      "outputs": [
        {
          "output_type": "error",
          "ename": "SyntaxError",
          "evalue": "ignored",
          "traceback": [
            "\u001b[0;36m  File \u001b[0;32m\"<ipython-input-174-c91fc83e3755>\"\u001b[0;36m, line \u001b[0;32m1\u001b[0m\n\u001b[0;31m    add(,,10,20,30)\u001b[0m\n\u001b[0m        ^\u001b[0m\n\u001b[0;31mSyntaxError\u001b[0m\u001b[0;31m:\u001b[0m invalid syntax\n"
          ]
        }
      ],
      "source": [
        "add(,,10,20,30)"
      ]
    },
    {
      "cell_type": "markdown",
      "source": [
        "#####Variable length keyword arguments\n",
        " **kwargs"
      ],
      "metadata": {
        "id": "5utNh3NyW3mH"
      },
      "id": "5utNh3NyW3mH"
    },
    {
      "cell_type": "code",
      "execution_count": null,
      "id": "23151091",
      "metadata": {
        "id": "23151091"
      },
      "outputs": [],
      "source": [
        "def func(**kwargs):\n",
        "    pass"
      ]
    },
    {
      "cell_type": "code",
      "execution_count": null,
      "id": "c1c32e69",
      "metadata": {
        "id": "c1c32e69",
        "outputId": "8f009afe-52df-44d1-8224-6522e3b29694",
        "colab": {
          "base_uri": "https://localhost:8080/",
          "height": 171
        }
      },
      "outputs": [
        {
          "output_type": "error",
          "ename": "TypeError",
          "evalue": "ignored",
          "traceback": [
            "\u001b[0;31m---------------------------------------------------------------------------\u001b[0m",
            "\u001b[0;31mTypeError\u001b[0m                                 Traceback (most recent call last)",
            "\u001b[0;32m<ipython-input-178-0b0e6d51b54e>\u001b[0m in \u001b[0;36m<cell line: 1>\u001b[0;34m()\u001b[0m\n\u001b[0;32m----> 1\u001b[0;31m \u001b[0mfunc\u001b[0m\u001b[0;34m(\u001b[0m\u001b[0;36m1\u001b[0m\u001b[0;34m,\u001b[0m \u001b[0;36m2\u001b[0m\u001b[0;34m,\u001b[0m \u001b[0;36m3\u001b[0m\u001b[0;34m)\u001b[0m\u001b[0;34m\u001b[0m\u001b[0;34m\u001b[0m\u001b[0m\n\u001b[0m",
            "\u001b[0;31mTypeError\u001b[0m: func() takes 0 positional arguments but 3 were given"
          ]
        }
      ],
      "source": [
        "func(1, 2, 3)"
      ]
    },
    {
      "cell_type": "code",
      "execution_count": null,
      "id": "e7d53738",
      "metadata": {
        "id": "e7d53738"
      },
      "outputs": [],
      "source": [
        "func(x=10, y=20, z=30)"
      ]
    },
    {
      "cell_type": "code",
      "execution_count": null,
      "id": "7642ba0a",
      "metadata": {
        "id": "7642ba0a"
      },
      "outputs": [],
      "source": [
        "def func(**kwargs):\n",
        "    print(kwargs)\n",
        "    print(type(kwargs))"
      ]
    },
    {
      "cell_type": "code",
      "execution_count": null,
      "id": "b93a4cfa",
      "metadata": {
        "id": "b93a4cfa",
        "outputId": "e57a422c-b364-4c92-be72-13259e7d964b",
        "colab": {
          "base_uri": "https://localhost:8080/"
        }
      },
      "outputs": [
        {
          "output_type": "stream",
          "name": "stdout",
          "text": [
            "{'x': 10, 'y': 20, 'z': 30}\n",
            "<class 'dict'>\n"
          ]
        }
      ],
      "source": [
        "func(x=10, y=20, z=30)"
      ]
    },
    {
      "cell_type": "code",
      "execution_count": null,
      "id": "63b0dae0",
      "metadata": {
        "id": "63b0dae0"
      },
      "outputs": [],
      "source": [
        "def get_details(**subjects):\n",
        "    for sub, marks in subjects.items():\n",
        "        print(f\"{sub} : {marks}\")"
      ]
    },
    {
      "cell_type": "code",
      "execution_count": null,
      "id": "9bdc359c",
      "metadata": {
        "id": "9bdc359c",
        "outputId": "4c450173-0df9-4b2a-933e-3de0d04dd718",
        "colab": {
          "base_uri": "https://localhost:8080/"
        }
      },
      "outputs": [
        {
          "output_type": "stream",
          "name": "stdout",
          "text": [
            "eng : 78\n",
            "maths : 89\n",
            "phy : 90\n"
          ]
        }
      ],
      "source": [
        "get_details(eng=78, maths=89, phy=90)"
      ]
    },
    {
      "cell_type": "code",
      "execution_count": null,
      "id": "2af520aa",
      "metadata": {
        "id": "2af520aa",
        "outputId": "a1575384-749a-469a-8a26-67949b0f817d",
        "colab": {
          "base_uri": "https://localhost:8080/"
        }
      },
      "outputs": [
        {
          "output_type": "stream",
          "name": "stdout",
          "text": [
            "eng : 81\n",
            "acc : 91\n",
            "bst : 78\n"
          ]
        }
      ],
      "source": [
        "get_details(eng=81, acc=91, bst=78)"
      ]
    },
    {
      "cell_type": "code",
      "execution_count": null,
      "id": "716b5969",
      "metadata": {
        "id": "716b5969",
        "outputId": "2308fb67-afb4-48b1-ae5f-857314c263c0",
        "colab": {
          "base_uri": "https://localhost:8080/"
        }
      },
      "outputs": [
        {
          "output_type": "stream",
          "name": "stdout",
          "text": [
            "eng : 87\n",
            "cs : 95\n"
          ]
        }
      ],
      "source": [
        "get_details(eng=87, cs=95)"
      ]
    },
    {
      "cell_type": "code",
      "execution_count": null,
      "id": "7f4ae6b1",
      "metadata": {
        "id": "7f4ae6b1",
        "outputId": "5c07a384-2136-4c86-f88b-402ffdfad56c",
        "colab": {
          "base_uri": "https://localhost:8080/"
        }
      },
      "outputs": [
        {
          "output_type": "stream",
          "name": "stdout",
          "text": [
            "phy : 85\n",
            "chem : 87\n",
            "maths : 97\n",
            "cs : 91\n"
          ]
        }
      ],
      "source": [
        "get_details(phy=85, chem=87, maths=97, cs=91)"
      ]
    },
    {
      "cell_type": "code",
      "execution_count": null,
      "id": "c1987554",
      "metadata": {
        "id": "c1987554"
      },
      "outputs": [],
      "source": [
        "def get_details(**subjects):  # Indetentation not correct but function is ok so progran runs\n",
        "    for sub, marks in subjects.items():\n",
        "        print(f\"{sub} : {marks}\")\n",
        "        all_marks = subjects.values()\n",
        "        total_subs = len(subjects)\n",
        "        percent = sum(all_marks) / total_subs\n",
        "        return percent"
      ]
    },
    {
      "cell_type": "code",
      "execution_count": null,
      "id": "f739b185",
      "metadata": {
        "id": "f739b185",
        "outputId": "890058c9-a050-4258-b5b8-6cfb904703a3",
        "colab": {
          "base_uri": "https://localhost:8080/"
        }
      },
      "outputs": [
        {
          "output_type": "stream",
          "name": "stdout",
          "text": [
            "phy : 85\n"
          ]
        },
        {
          "output_type": "execute_result",
          "data": {
            "text/plain": [
              "90.0"
            ]
          },
          "metadata": {},
          "execution_count": 188
        }
      ],
      "source": [
        "get_details(phy=85, chem=87, maths=97, cs=91)"
      ]
    },
    {
      "cell_type": "code",
      "execution_count": null,
      "id": "ed22c7f5",
      "metadata": {
        "id": "ed22c7f5",
        "outputId": "b2d57603-d5ef-4502-9b64-8d32dddb23ea",
        "colab": {
          "base_uri": "https://localhost:8080/"
        }
      },
      "outputs": [
        {
          "output_type": "stream",
          "name": "stdout",
          "text": [
            "eng : 87\n"
          ]
        },
        {
          "output_type": "execute_result",
          "data": {
            "text/plain": [
              "91.0"
            ]
          },
          "metadata": {},
          "execution_count": 189
        }
      ],
      "source": [
        "get_details(eng=87, cs=95)"
      ]
    },
    {
      "cell_type": "code",
      "execution_count": null,
      "id": "196b82c1",
      "metadata": {
        "id": "196b82c1",
        "outputId": "eacc43cd-d1b1-442a-f0ab-289480c6b347",
        "colab": {
          "base_uri": "https://localhost:8080/"
        }
      },
      "outputs": [
        {
          "output_type": "stream",
          "name": "stdout",
          "text": [
            "eng : 81\n"
          ]
        },
        {
          "output_type": "execute_result",
          "data": {
            "text/plain": [
              "83.33333333333333"
            ]
          },
          "metadata": {},
          "execution_count": 190
        }
      ],
      "source": [
        "get_details(eng=81, acc=91, bst=78)"
      ]
    },
    {
      "cell_type": "code",
      "execution_count": null,
      "id": "30ef6e74",
      "metadata": {
        "id": "30ef6e74",
        "outputId": "e72f0174-6826-4866-8946-1cb177807ee4",
        "colab": {
          "base_uri": "https://localhost:8080/"
        }
      },
      "outputs": [
        {
          "output_type": "stream",
          "name": "stdout",
          "text": [
            "eng : 81\n"
          ]
        },
        {
          "output_type": "execute_result",
          "data": {
            "text/plain": [
              "83.33333333333333"
            ]
          },
          "metadata": {},
          "execution_count": 191
        }
      ],
      "source": [
        "get_details(eng=81, acc=91, bst=78)"
      ]
    },
    {
      "cell_type": "code",
      "execution_count": null,
      "id": "4628f7c5",
      "metadata": {
        "id": "4628f7c5"
      },
      "outputs": [],
      "source": [
        "def get_details(**subjects):  # Corrected the Indetentation to get expected output\n",
        "    for sub, marks in subjects.items():\n",
        "        print(f\"{sub} : {marks}\")\n",
        "    all_marks = subjects.values()\n",
        "    total_subs = len(subjects)\n",
        "    percent = sum(all_marks) / total_subs\n",
        "    return percent"
      ]
    },
    {
      "cell_type": "code",
      "execution_count": null,
      "id": "04bf3268",
      "metadata": {
        "id": "04bf3268",
        "outputId": "c6efde52-b6f2-4e4d-e90f-4c5e73a7f361",
        "colab": {
          "base_uri": "https://localhost:8080/"
        }
      },
      "outputs": [
        {
          "output_type": "stream",
          "name": "stdout",
          "text": [
            "eng : 81\n",
            "acc : 91\n",
            "bst : 78\n"
          ]
        },
        {
          "output_type": "execute_result",
          "data": {
            "text/plain": [
              "83.33333333333333"
            ]
          },
          "metadata": {},
          "execution_count": 194
        }
      ],
      "source": [
        "get_details(eng=81, acc=91, bst=78)"
      ]
    },
    {
      "cell_type": "code",
      "execution_count": null,
      "id": "4f205e5e",
      "metadata": {
        "id": "4f205e5e",
        "outputId": "f2508834-b8b4-44f1-a0db-b50806e0ae54",
        "colab": {
          "base_uri": "https://localhost:8080/"
        }
      },
      "outputs": [
        {
          "output_type": "stream",
          "name": "stdout",
          "text": [
            "eng : 87\n",
            "cs : 95\n"
          ]
        },
        {
          "output_type": "execute_result",
          "data": {
            "text/plain": [
              "91.0"
            ]
          },
          "metadata": {},
          "execution_count": 195
        }
      ],
      "source": [
        "get_details(eng=87, cs=95)"
      ]
    },
    {
      "cell_type": "code",
      "execution_count": null,
      "id": "ab828fc2",
      "metadata": {
        "id": "ab828fc2"
      },
      "outputs": [],
      "source": [
        "def get_details(name, *electives, **subjects):  # With join function\n",
        "    for sub, marks in subjects.items():\n",
        "        print(f\"{sub} : {marks}\")\n",
        "\n",
        "    print(f\"{name} has taken {', '.join(electives)} as electives\")\n",
        "    all_marks = subjects.values()\n",
        "    total_subs = len(subjects)\n",
        "    percent = sum(all_marks) / total_subs\n",
        "    print(f\"{name} gets {percent}%\")"
      ]
    },
    {
      "cell_type": "code",
      "execution_count": null,
      "id": "05e01d70",
      "metadata": {
        "id": "05e01d70",
        "outputId": "bbab8b25-505a-4f1c-f839-006d486df9bb",
        "colab": {
          "base_uri": "https://localhost:8080/"
        }
      },
      "outputs": [
        {
          "output_type": "stream",
          "name": "stdout",
          "text": [
            "eng : 81\n",
            "acc : 91\n",
            "bst : 78\n",
            "eco : 86\n",
            "John has taken eco as electives\n",
            "John gets 84.0%\n"
          ]
        }
      ],
      "source": [
        "get_details(\"John\", \"eco\", eng=81, acc=91, bst=78, eco=86)"
      ]
    },
    {
      "cell_type": "code",
      "execution_count": null,
      "id": "ab76de16",
      "metadata": {
        "id": "ab76de16",
        "outputId": "5d16e202-7dc4-4b4c-e8f7-2c74fc7341fe",
        "colab": {
          "base_uri": "https://localhost:8080/",
          "height": 135
        }
      },
      "outputs": [
        {
          "output_type": "error",
          "ename": "SyntaxError",
          "evalue": "ignored",
          "traceback": [
            "\u001b[0;36m  File \u001b[0;32m\"<ipython-input-200-3ce7369fed7d>\"\u001b[0;36m, line \u001b[0;32m1\u001b[0m\n\u001b[0;31m    def get_details(name, **subjects, *electives):\u001b[0m\n\u001b[0m                                      ^\u001b[0m\n\u001b[0;31mSyntaxError\u001b[0m\u001b[0;31m:\u001b[0m invalid syntax\n"
          ]
        }
      ],
      "source": [
        "def get_details(name, **subjects, *electives):  # Single * & ** should be in correct order\n",
        "    for sub, marks in subjects.items():\n",
        "        print(f\"{sub} : {marks}\")\n",
        "\n",
        "    print(f\"{name} has taken {', '.join(electives)} as electives\")\n",
        "    all_marks = subjects.values()\n",
        "    total_subs = len(subjects)\n",
        "    percent = sum(all_marks) / total_subs\n",
        "    print(f\"{name} gets {percent}%\")"
      ]
    },
    {
      "cell_type": "code",
      "execution_count": null,
      "id": "a37f0b9f",
      "metadata": {
        "id": "a37f0b9f",
        "outputId": "e99cd0a2-8753-48d3-fb1f-b537048dc3dc",
        "colab": {
          "base_uri": "https://localhost:8080/",
          "height": 299
        }
      },
      "outputs": [
        {
          "output_type": "stream",
          "name": "stdout",
          "text": [
            "John has taken eco as electives\n"
          ]
        },
        {
          "output_type": "error",
          "ename": "ZeroDivisionError",
          "evalue": "ignored",
          "traceback": [
            "\u001b[0;31m---------------------------------------------------------------------------\u001b[0m",
            "\u001b[0;31mZeroDivisionError\u001b[0m                         Traceback (most recent call last)",
            "\u001b[0;32m<ipython-input-199-6d5d38a96382>\u001b[0m in \u001b[0;36m<cell line: 1>\u001b[0;34m()\u001b[0m\n\u001b[0;32m----> 1\u001b[0;31m \u001b[0mget_details\u001b[0m\u001b[0;34m(\u001b[0m\u001b[0;34m\"John\"\u001b[0m\u001b[0;34m,\u001b[0m \u001b[0;34m\"eco\"\u001b[0m\u001b[0;34m)\u001b[0m\u001b[0;34m\u001b[0m\u001b[0;34m\u001b[0m\u001b[0m\n\u001b[0m",
            "\u001b[0;32m<ipython-input-196-ea8fd7fd2593>\u001b[0m in \u001b[0;36mget_details\u001b[0;34m(name, *electives, **subjects)\u001b[0m\n\u001b[1;32m      6\u001b[0m     \u001b[0mall_marks\u001b[0m \u001b[0;34m=\u001b[0m \u001b[0msubjects\u001b[0m\u001b[0;34m.\u001b[0m\u001b[0mvalues\u001b[0m\u001b[0;34m(\u001b[0m\u001b[0;34m)\u001b[0m\u001b[0;34m\u001b[0m\u001b[0;34m\u001b[0m\u001b[0m\n\u001b[1;32m      7\u001b[0m     \u001b[0mtotal_subs\u001b[0m \u001b[0;34m=\u001b[0m \u001b[0mlen\u001b[0m\u001b[0;34m(\u001b[0m\u001b[0msubjects\u001b[0m\u001b[0;34m)\u001b[0m\u001b[0;34m\u001b[0m\u001b[0;34m\u001b[0m\u001b[0m\n\u001b[0;32m----> 8\u001b[0;31m     \u001b[0mpercent\u001b[0m \u001b[0;34m=\u001b[0m \u001b[0msum\u001b[0m\u001b[0;34m(\u001b[0m\u001b[0mall_marks\u001b[0m\u001b[0;34m)\u001b[0m \u001b[0;34m/\u001b[0m \u001b[0mtotal_subs\u001b[0m\u001b[0;34m\u001b[0m\u001b[0;34m\u001b[0m\u001b[0m\n\u001b[0m\u001b[1;32m      9\u001b[0m     \u001b[0mprint\u001b[0m\u001b[0;34m(\u001b[0m\u001b[0;34mf\"{name} gets {percent}%\"\u001b[0m\u001b[0;34m)\u001b[0m\u001b[0;34m\u001b[0m\u001b[0;34m\u001b[0m\u001b[0m\n",
            "\u001b[0;31mZeroDivisionError\u001b[0m: division by zero"
          ]
        }
      ],
      "source": [
        "get_details(\"John\", \"eco\")"
      ]
    },
    {
      "cell_type": "code",
      "execution_count": null,
      "id": "881b26e5",
      "metadata": {
        "id": "881b26e5"
      },
      "outputs": [],
      "source": [
        "def get_details(name, *electives, **subjects):\n",
        "    for sub, marks in subjects.items():\n",
        "        print(f\"{sub} : {marks}\")\n",
        "\n",
        "    print(f\"{name} has taken {', '.join(electives)} as electives\")\n",
        "\n",
        "    all_marks = subjects.values()\n",
        "    total_subs = len(subjects)\n",
        "\n",
        "    if total_subs == 0:\n",
        "        print(\"Cannot calculate the percent\")\n",
        "    else:\n",
        "        percent = sum(all_marks) / total_subs\n",
        "        print(f\"{name} gets {percent}%\")"
      ]
    },
    {
      "cell_type": "code",
      "execution_count": null,
      "id": "8bafff6b",
      "metadata": {
        "id": "8bafff6b",
        "outputId": "9ce71c3b-6848-4312-ef3b-19e57dc6467d",
        "colab": {
          "base_uri": "https://localhost:8080/"
        }
      },
      "outputs": [
        {
          "output_type": "stream",
          "name": "stdout",
          "text": [
            "John has taken eco as electives\n",
            "Cannot calculate the percent\n"
          ]
        }
      ],
      "source": [
        "get_details(\"John\", \"eco\")"
      ]
    },
    {
      "cell_type": "markdown",
      "source": [
        "#### Lambda function"
      ],
      "metadata": {
        "id": "cVS-1UVjYHmU"
      },
      "id": "cVS-1UVjYHmU"
    },
    {
      "cell_type": "code",
      "execution_count": null,
      "id": "69d543b9",
      "metadata": {
        "id": "69d543b9"
      },
      "outputs": [],
      "source": [
        "# single line anonymous function\n",
        "# A function without a name"
      ]
    },
    {
      "cell_type": "code",
      "execution_count": null,
      "id": "bc3674b4",
      "metadata": {
        "id": "bc3674b4"
      },
      "outputs": [],
      "source": [
        "# lambda arg1, arg2, ... : expression"
      ]
    },
    {
      "cell_type": "code",
      "execution_count": null,
      "id": "59e3ef97",
      "metadata": {
        "id": "59e3ef97"
      },
      "outputs": [],
      "source": [
        "# Instead of 'def', we use 'lambda'\n",
        "# We write lambda function in a single line\n",
        "# No name given to the function\n",
        "# No return statement, the expression will be evaulated and returned automatically (implcitly)"
      ]
    },
    {
      "cell_type": "code",
      "execution_count": null,
      "id": "bebd7400",
      "metadata": {
        "id": "bebd7400"
      },
      "outputs": [],
      "source": [
        "def cube(num):\n",
        "    return num ** 3"
      ]
    },
    {
      "cell_type": "code",
      "execution_count": null,
      "id": "6086638f",
      "metadata": {
        "id": "6086638f",
        "outputId": "21ca9c39-5bfe-40f9-e4d7-7ea4e00fbab9",
        "colab": {
          "base_uri": "https://localhost:8080/"
        }
      },
      "outputs": [
        {
          "output_type": "execute_result",
          "data": {
            "text/plain": [
              "27"
            ]
          },
          "metadata": {},
          "execution_count": 204
        }
      ],
      "source": [
        "cube(3)"
      ]
    },
    {
      "cell_type": "code",
      "execution_count": null,
      "id": "5b3d0ac5",
      "metadata": {
        "id": "5b3d0ac5",
        "outputId": "f2317638-6b8f-4572-bde3-974bd8474c96",
        "colab": {
          "base_uri": "https://localhost:8080/"
        }
      },
      "outputs": [
        {
          "output_type": "execute_result",
          "data": {
            "text/plain": [
              "125"
            ]
          },
          "metadata": {},
          "execution_count": 205
        }
      ],
      "source": [
        "cube(5)"
      ]
    },
    {
      "cell_type": "code",
      "execution_count": null,
      "id": "364e5620",
      "metadata": {
        "id": "364e5620",
        "outputId": "91532167-ded3-45db-f100-61bd4ee33901",
        "colab": {
          "base_uri": "https://localhost:8080/"
        }
      },
      "outputs": [
        {
          "output_type": "execute_result",
          "data": {
            "text/plain": [
              "<function __main__.<lambda>(num)>"
            ]
          },
          "metadata": {},
          "execution_count": 207
        }
      ],
      "source": [
        "lambda num: num ** 3  # To make function still more easier"
      ]
    },
    {
      "cell_type": "code",
      "execution_count": null,
      "id": "94bd061e",
      "metadata": {
        "id": "94bd061e",
        "outputId": "efba234b-468e-4413-f773-b7ebb69f4a07",
        "colab": {
          "base_uri": "https://localhost:8080/"
        }
      },
      "outputs": [
        {
          "output_type": "execute_result",
          "data": {
            "text/plain": [
              "27"
            ]
          },
          "metadata": {},
          "execution_count": 208
        }
      ],
      "source": [
        "(lambda num: num ** 3)(3) # To make Lambda function to return a value"
      ]
    },
    {
      "cell_type": "code",
      "execution_count": null,
      "id": "02a45084",
      "metadata": {
        "id": "02a45084",
        "outputId": "2649000a-f4fd-4ac1-94c5-a8049a176997",
        "colab": {
          "base_uri": "https://localhost:8080/"
        }
      },
      "outputs": [
        {
          "output_type": "execute_result",
          "data": {
            "text/plain": [
              "125"
            ]
          },
          "metadata": {},
          "execution_count": 209
        }
      ],
      "source": [
        "(lambda num: num ** 3)(5)"
      ]
    },
    {
      "cell_type": "code",
      "execution_count": null,
      "id": "66b37c39",
      "metadata": {
        "id": "66b37c39"
      },
      "outputs": [],
      "source": [
        "c = lambda num: num ** 3 # Making a value as Lambda function \"C\""
      ]
    },
    {
      "cell_type": "code",
      "execution_count": null,
      "id": "4c1aa8bc",
      "metadata": {
        "id": "4c1aa8bc",
        "outputId": "f8a7937d-89e9-4c79-cfca-8e8e63533065",
        "colab": {
          "base_uri": "https://localhost:8080/"
        }
      },
      "outputs": [
        {
          "output_type": "execute_result",
          "data": {
            "text/plain": [
              "27"
            ]
          },
          "metadata": {},
          "execution_count": 211
        }
      ],
      "source": [
        "c(3)"
      ]
    },
    {
      "cell_type": "code",
      "execution_count": null,
      "id": "ab9df573",
      "metadata": {
        "id": "ab9df573",
        "outputId": "14af38e2-c34a-40a7-f426-4e2f2131dccf",
        "colab": {
          "base_uri": "https://localhost:8080/"
        }
      },
      "outputs": [
        {
          "output_type": "execute_result",
          "data": {
            "text/plain": [
              "64"
            ]
          },
          "metadata": {},
          "execution_count": 212
        }
      ],
      "source": [
        "c(4)"
      ]
    },
    {
      "cell_type": "code",
      "execution_count": null,
      "id": "4a5ec94b",
      "metadata": {
        "id": "4a5ec94b",
        "outputId": "89fcd71f-8f73-423f-f72a-1e956133ecb3"
      },
      "outputs": [
        {
          "data": {
            "text/plain": [
              "125"
            ]
          },
          "execution_count": 194,
          "metadata": {},
          "output_type": "execute_result"
        }
      ],
      "source": [
        "c(5)"
      ]
    },
    {
      "cell_type": "code",
      "execution_count": null,
      "id": "61d8d5c2",
      "metadata": {
        "id": "61d8d5c2",
        "outputId": "53504fe1-d6e0-4d23-b253-bf8020530a0b"
      },
      "outputs": [
        {
          "data": {
            "text/plain": [
              "216"
            ]
          },
          "execution_count": 195,
          "metadata": {},
          "output_type": "execute_result"
        }
      ],
      "source": [
        "c(6)"
      ]
    },
    {
      "cell_type": "code",
      "execution_count": null,
      "id": "970782e8",
      "metadata": {
        "id": "970782e8"
      },
      "outputs": [],
      "source": [
        "a = lambda x, y: x+y"
      ]
    },
    {
      "cell_type": "code",
      "execution_count": null,
      "id": "c9e1dbe4",
      "metadata": {
        "id": "c9e1dbe4",
        "outputId": "24b37a79-4a17-4a6a-93a0-8ba96d191933",
        "colab": {
          "base_uri": "https://localhost:8080/"
        }
      },
      "outputs": [
        {
          "output_type": "execute_result",
          "data": {
            "text/plain": [
              "30"
            ]
          },
          "metadata": {},
          "execution_count": 214
        }
      ],
      "source": [
        "a(10, 20)"
      ]
    },
    {
      "cell_type": "code",
      "execution_count": null,
      "id": "61341f99",
      "metadata": {
        "id": "61341f99"
      },
      "outputs": [],
      "source": [
        "a = lambda x=10, y=20: x+y"
      ]
    },
    {
      "cell_type": "code",
      "execution_count": null,
      "id": "1e413313",
      "metadata": {
        "id": "1e413313",
        "outputId": "a2f1ea8d-7712-49ad-b54f-917563d29c99",
        "colab": {
          "base_uri": "https://localhost:8080/"
        }
      },
      "outputs": [
        {
          "output_type": "execute_result",
          "data": {
            "text/plain": [
              "30"
            ]
          },
          "metadata": {},
          "execution_count": 216
        }
      ],
      "source": [
        "a()"
      ]
    },
    {
      "cell_type": "code",
      "execution_count": null,
      "id": "1184c278",
      "metadata": {
        "id": "1184c278"
      },
      "outputs": [],
      "source": [
        "f1 = lambda : \"hello\""
      ]
    },
    {
      "cell_type": "code",
      "execution_count": null,
      "id": "d9c9e08b",
      "metadata": {
        "id": "d9c9e08b",
        "outputId": "2f681340-ad61-448c-bc77-9d3067a929d4",
        "colab": {
          "base_uri": "https://localhost:8080/",
          "height": 36
        }
      },
      "outputs": [
        {
          "output_type": "execute_result",
          "data": {
            "text/plain": [
              "'hello'"
            ],
            "application/vnd.google.colaboratory.intrinsic+json": {
              "type": "string"
            }
          },
          "metadata": {},
          "execution_count": 218
        }
      ],
      "source": [
        "f1()"
      ]
    },
    {
      "cell_type": "code",
      "execution_count": null,
      "id": "20ffdac5",
      "metadata": {
        "id": "20ffdac5"
      },
      "outputs": [],
      "source": [
        "f2 = lambda *args: sum(args)"
      ]
    },
    {
      "cell_type": "code",
      "execution_count": null,
      "id": "b63bbcc8",
      "metadata": {
        "id": "b63bbcc8",
        "outputId": "5385f7d1-2771-4f7d-8600-3b3af2814d1e",
        "colab": {
          "base_uri": "https://localhost:8080/"
        }
      },
      "outputs": [
        {
          "output_type": "execute_result",
          "data": {
            "text/plain": [
              "10"
            ]
          },
          "metadata": {},
          "execution_count": 220
        }
      ],
      "source": [
        "f2(1,2,3,4)"
      ]
    },
    {
      "cell_type": "code",
      "execution_count": null,
      "id": "928929f3",
      "metadata": {
        "id": "928929f3",
        "outputId": "7fc67fb4-bf17-425f-eb4f-4b2bbed8d70c",
        "colab": {
          "base_uri": "https://localhost:8080/"
        }
      },
      "outputs": [
        {
          "output_type": "execute_result",
          "data": {
            "text/plain": [
              "70"
            ]
          },
          "metadata": {},
          "execution_count": 221
        }
      ],
      "source": [
        "f2(10, 20, 40)"
      ]
    }
  ],
  "metadata": {
    "kernelspec": {
      "display_name": "Python 3 (ipykernel)",
      "language": "python",
      "name": "python3"
    },
    "language_info": {
      "codemirror_mode": {
        "name": "ipython",
        "version": 3
      },
      "file_extension": ".py",
      "mimetype": "text/x-python",
      "name": "python",
      "nbconvert_exporter": "python",
      "pygments_lexer": "ipython3",
      "version": "3.9.7"
    },
    "colab": {
      "provenance": [],
      "include_colab_link": true
    }
  },
  "nbformat": 4,
  "nbformat_minor": 5
}